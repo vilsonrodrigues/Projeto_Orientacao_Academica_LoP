{
  "nbformat": 4,
  "nbformat_minor": 0,
  "metadata": {
    "colab": {
      "name": "Projeto_Orientacao_Academica_LoP.ipynb",
      "provenance": [],
      "collapsed_sections": [
        "YLxXyebtnjM-",
        "C2tX7zYBx5Sd",
        "Rwf-rhVr2Wvj",
        "bhu64Xadx9yH",
        "vkhuxXT_3vQv",
        "OuOEB2A10Rah",
        "D_S-Ua3YeLmS",
        "ZGHrISEE_B3_",
        "SfuZ_xuiCAjd",
        "npTiaGmw_xqZ",
        "kaGpFuLmJC70",
        "dD1-lyVuizPA",
        "mVMECL1jJAxf",
        "X2rVvODlKxFz",
        "-n4co8p2EeaU",
        "HEVg1VCYEhUd",
        "L1HZgOL4pQfu",
        "Mkk0NKmUpeX8",
        "WUBAPloS58yP",
        "TjeHFDBfwV5w",
        "r9S1wjjCuu89",
        "oPh-k3-fR_zP",
        "jPXy0iQtzn75",
        "AEJF9bZMSZpk",
        "B4rJ_jPviRsl",
        "YxO10k-KJnZq",
        "DmuLGrPKFv1c",
        "PGR1IWltjEKS"
      ],
      "include_colab_link": true
    },
    "kernelspec": {
      "display_name": "Python 3",
      "name": "python3"
    }
  },
  "cells": [
    {
      "cell_type": "markdown",
      "metadata": {
        "id": "view-in-github",
        "colab_type": "text"
      },
      "source": [
        "<a href=\"https://colab.research.google.com/github/vilsonrodrigues/Projeto_Orientacao_Academica_LoP/blob/main/Projeto_Orientacao_Academica_LoP.ipynb\" target=\"_parent\"><img src=\"https://colab.research.google.com/assets/colab-badge.svg\" alt=\"Open In Colab\"/></a>"
      ]
    },
    {
      "cell_type": "markdown",
      "metadata": {
        "id": "B_vdAfc21u86"
      },
      "source": [
        "Por @vilsonrodrigues"
      ]
    },
    {
      "cell_type": "markdown",
      "metadata": {
        "id": "YLxXyebtnjM-"
      },
      "source": [
        "\n",
        "\n",
        "# <center>Projeto de Orientação Acadêmica do LoP\n",
        "\n",
        "\n"
      ]
    },
    {
      "cell_type": "markdown",
      "metadata": {
        "id": "ULCWX6-dwLgg"
      },
      "source": [
        "<img src='https://ufrn.br/resources/documentos/identidadevisual/logotipo/logotipo_flat.png'>"
      ]
    },
    {
      "cell_type": "markdown",
      "metadata": {
        "id": "C2tX7zYBx5Sd"
      },
      "source": [
        "## Parte I - Apresentação do Problema\n",
        "### [1. Apresentação do Problema](#apresentacao)\n",
        "## Parte II - Preparativos Iniciais\n",
        "### [1. Bibliotecas](#bibliotecas)\n",
        "### [2. Classe](#classe)\n",
        "### [3. Funções](#funcoes)\n",
        "### [4. Leitura da Base](#leiturabase)\n",
        "## Parte III - Desenvolvimento\n",
        "### [1. Entendimento de Negócio](#negocio)\n",
        "### [2. Entendimento de Dados](#enten_dados)\n",
        "### [3. Preparação de Dados](#preparo)\n",
        "### [4. Métricas de Avaliação](#metricas)\n",
        "### [5. Modelagem](#modelagem)\n",
        "### [6. Avaliação de Modelo](#avaliacao)\n",
        "### [7. Conclusão e Recomendações](#conclusao)\n",
        "### [8. Implantação de Modelos](#implantacao)\n"
      ]
    },
    {
      "cell_type": "markdown",
      "metadata": {
        "id": "Rwf-rhVr2Wvj"
      },
      "source": [
        "# Parte I - Apresentação do Problema"
      ]
    },
    {
      "cell_type": "markdown",
      "metadata": {
        "id": "bhu64Xadx9yH"
      },
      "source": [
        "### Meta\n",
        "\n",
        "### Fonte dos Dados\n",
        "\n",
        "### Referência\n",
        "Hands On: Machine Learning with Scikit-Learning e Tensor Flow\n",
        "\n"
      ]
    },
    {
      "cell_type": "markdown",
      "metadata": {
        "id": "pW86HnPh3ka-"
      },
      "source": [
        "# Parte II - Preparativos Iniciais"
      ]
    },
    {
      "cell_type": "markdown",
      "metadata": {
        "id": "vkhuxXT_3vQv"
      },
      "source": [
        "## 1. Bibliotecas\n",
        "<a id='bibliotecas'></a>\n",
        "#### [1.1 Instalações](#instalacao)\n",
        "#### [1.2 Importações](#importacao)\n"
      ]
    },
    {
      "cell_type": "markdown",
      "metadata": {
        "id": "OuOEB2A10Rah"
      },
      "source": [
        "### 1.1. Instalação\n",
        "<a id='instalacao'></a>"
      ]
    },
    {
      "cell_type": "code",
      "metadata": {
        "id": "_HXuie4y43tN"
      },
      "source": [
        "!pip install pandas -U\n",
        "!pip install scikit-learn -U\n",
        "!pip install numpy -U\n",
        "!pip install joblib==0.14.1\n",
        "!conda install xgboost -c conda-forge --yes"
      ],
      "execution_count": null,
      "outputs": []
    },
    {
      "cell_type": "markdown",
      "metadata": {
        "id": "D_S-Ua3YeLmS"
      },
      "source": [
        "### 1.2. Importação\n",
        "<a id='importacao'></a>"
      ]
    },
    {
      "cell_type": "code",
      "metadata": {
        "id": "4fDskXdweAA6"
      },
      "source": [
        "import pandas as pd\n",
        "import numpy as np\n",
        "\n",
        "#Persistência em disco\n",
        "import joblib\n",
        "import pickle\n",
        "\n",
        "#Visualização\n",
        "import seaborn as sns\n",
        "import matplotlib.pyplot as plt\n",
        "\n",
        "#Transformadores e Modelador\n",
        "from sklearn.pipeline          import Pipeline\n",
        "from sklearn.preprocessing     import StandardScaler\n",
        "from sklearn.base              import BaseEstimator, TransformerMixin\n",
        "\n",
        "#Selecao de modelo\n",
        "from sklearn.model_selection   import train_test_split\n",
        "from sklearn.model_selection   import KFold\n",
        "from sklearn.model_selection   import cross_val_score\n",
        "from sklearn.model_selection   import GridSearchCV\n",
        "from sklearn.feature_selection import SelectKBest, f_classif\n",
        "from sklearn.feature_selection import chi2\n",
        "\n",
        "#Metricas\n",
        "from sklearn.metrics           import classification_report\n",
        "from sklearn.metrics           import confusion_matrix\n",
        "from sklearn.metrics           import make_scorer\n",
        "from sklearn.metrics           import accuracy_score\n",
        "from sklearn.metrics           import f1_score\n",
        "from sklearn.metrics           import recall_score\n",
        "from sklearn.metrics           import precision_score\n",
        "\n",
        "#Classificadores\n",
        "from sklearn.ensemble          import RandomForestClassifier\n",
        "from xgboost                   import XGBClassifier\n",
        "from sklearn.tree              import DecisionTreeClassifier\n",
        "from sklearn.neighbors         import KNeighborsClassifier\n",
        "from sklearn.naive_bayes       import GaussianNB\n",
        "from sklearn.svm               import SVC\n",
        "from sklearn.neural_network    import MLPClassifier\n",
        "\n",
        "#modo não-perturbe\n",
        "import warnings\n",
        "warnings.filterwarnings(\"ignore\")"
      ],
      "execution_count": null,
      "outputs": []
    },
    {
      "cell_type": "code",
      "metadata": {
        "id": "jauxgHcS9nOM"
      },
      "source": [
        "import pandas as pd\n",
        "import numpy as np\n",
        "import json\n",
        "import urllib3\n",
        "urllib3.disable_warnings()\n",
        "import seaborn as sns\n",
        "import matplotlib.pyplot as plt\n",
        "from datetime import datetime\n",
        "import re"
      ],
      "execution_count": 7,
      "outputs": []
    },
    {
      "cell_type": "markdown",
      "metadata": {
        "id": "WHD15qbBEJTd"
      },
      "source": [
        "## Classes"
      ]
    },
    {
      "cell_type": "code",
      "metadata": {
        "id": "NFdNsSkbkXeZ"
      },
      "source": [
        "from lop import Lop"
      ],
      "execution_count": 1,
      "outputs": []
    },
    {
      "cell_type": "code",
      "metadata": {
        "id": "lb4YNhatio9D"
      },
      "source": [
        "lop = Lop()"
      ],
      "execution_count": 2,
      "outputs": []
    },
    {
      "cell_type": "code",
      "metadata": {
        "id": "czI7dya19UoA"
      },
      "source": [
        "key = lop.read_txt('key.txt')\r\n",
        "endpoint_teacher = lop.read_txt('endpoint_teacher.txt')\r\n",
        "endpoint_class = lop.read_txt('endpoint_class.txt')\r\n",
        "endpoint_submission = lop.read_txt('endpoint_submission.txt')\r\n",
        "endpoint_question = lop.read_txt('endpoint_question.txt')     \r\n",
        "endpoint_lists = lop.read_txt('endpoint_lists.txt')"
      ],
      "execution_count": 3,
      "outputs": []
    },
    {
      "cell_type": "markdown",
      "metadata": {
        "id": "AZJoWX8BI4xI"
      },
      "source": [
        "['f2dd7bef-5b5d-4cb3-9efa-aa8652af0605']"
      ]
    },
    {
      "cell_type": "code",
      "metadata": {
        "id": "tgkOk1_BukCC"
      },
      "source": [
        "data = pd.DataFrame(['b5413cd7-4f61-4241-aad8-23740bab604f'], columns = ['id_class'])"
      ],
      "execution_count": 8,
      "outputs": []
    },
    {
      "cell_type": "code",
      "metadata": {
        "id": "u-xd6g0l6G4y"
      },
      "source": [
        "df_submission = lop.lop_submission(endpoint_submission, endpoint_class, endpoint_teacher, key, data)"
      ],
      "execution_count": 9,
      "outputs": []
    },
    {
      "cell_type": "code",
      "metadata": {
        "id": "AykAFZHhuInX"
      },
      "source": [
        "df_lop_lists = lop.lop_lists(endpoint_lists, data, key)"
      ],
      "execution_count": 10,
      "outputs": []
    },
    {
      "cell_type": "code",
      "metadata": {
        "colab": {
          "base_uri": "https://localhost:8080/",
          "height": 204
        },
        "id": "sb8WLzBdQhOh",
        "outputId": "76c2eb10-5022-4e78-81ed-d2b19b491c9a"
      },
      "source": [
        "df_lop_lists.head()"
      ],
      "execution_count": 11,
      "outputs": [
        {
          "output_type": "execute_result",
          "data": {
            "text/html": [
              "<div>\n",
              "<style scoped>\n",
              "    .dataframe tbody tr th:only-of-type {\n",
              "        vertical-align: middle;\n",
              "    }\n",
              "\n",
              "    .dataframe tbody tr th {\n",
              "        vertical-align: top;\n",
              "    }\n",
              "\n",
              "    .dataframe thead th {\n",
              "        text-align: right;\n",
              "    }\n",
              "</style>\n",
              "<table border=\"1\" class=\"dataframe\">\n",
              "  <thead>\n",
              "    <tr style=\"text-align: right;\">\n",
              "      <th></th>\n",
              "      <th>id_list</th>\n",
              "      <th>list</th>\n",
              "      <th>createdAt</th>\n",
              "      <th>author</th>\n",
              "      <th>shortTitle</th>\n",
              "    </tr>\n",
              "  </thead>\n",
              "  <tbody>\n",
              "    <tr>\n",
              "      <th>0</th>\n",
              "      <td>b4b1d413-503d-40ea-b93c-a21d1240d2e7</td>\n",
              "      <td>ITP - Alocação dinâmica</td>\n",
              "      <td>2020-11-15T01:48:11.000Z</td>\n",
              "      <td>{'name': 'André Campos', 'email': 'andre@dimap...</td>\n",
              "      <td>IAD</td>\n",
              "    </tr>\n",
              "    <tr>\n",
              "      <th>1</th>\n",
              "      <td>2f5b561c-c3f0-4566-a357-625f0edbdb01</td>\n",
              "      <td>ITP - Ponteiros 2 -  Lista</td>\n",
              "      <td>2020-11-08T20:53:36.000Z</td>\n",
              "      <td>{'name': 'André Solino', 'email': 'andresolino...</td>\n",
              "      <td>IP2L</td>\n",
              "    </tr>\n",
              "    <tr>\n",
              "      <th>2</th>\n",
              "      <td>6893c2d2-49b5-4476-8d0d-cf39313f0aec</td>\n",
              "      <td>ITP - Structs e Enumerações - Lista</td>\n",
              "      <td>2020-10-30T15:40:06.000Z</td>\n",
              "      <td>{'name': 'Julio Melo', 'email': 'julio.melo@im...</td>\n",
              "      <td>ISEEL</td>\n",
              "    </tr>\n",
              "    <tr>\n",
              "      <th>3</th>\n",
              "      <td>17ac33bf-c1f7-4d1b-92b6-6f76f41265c7</td>\n",
              "      <td>ITP - Ponteiros 1 - Lista</td>\n",
              "      <td>2020-10-20T05:08:22.000Z</td>\n",
              "      <td>{'name': 'Wellington Souzas', 'email': 'wellin...</td>\n",
              "      <td>IP1L</td>\n",
              "    </tr>\n",
              "    <tr>\n",
              "      <th>4</th>\n",
              "      <td>1f2fb866-0bea-4475-b0af-e4a060b0904a</td>\n",
              "      <td>ITP - Matriz - Lista</td>\n",
              "      <td>2020-10-16T06:47:17.000Z</td>\n",
              "      <td>{'name': 'André Campos', 'email': 'andre@dimap...</td>\n",
              "      <td>IML</td>\n",
              "    </tr>\n",
              "  </tbody>\n",
              "</table>\n",
              "</div>"
            ],
            "text/plain": [
              "                                id_list  ... shortTitle\n",
              "0  b4b1d413-503d-40ea-b93c-a21d1240d2e7  ...        IAD\n",
              "1  2f5b561c-c3f0-4566-a357-625f0edbdb01  ...       IP2L\n",
              "2  6893c2d2-49b5-4476-8d0d-cf39313f0aec  ...      ISEEL\n",
              "3  17ac33bf-c1f7-4d1b-92b6-6f76f41265c7  ...       IP1L\n",
              "4  1f2fb866-0bea-4475-b0af-e4a060b0904a  ...        IML\n",
              "\n",
              "[5 rows x 5 columns]"
            ]
          },
          "metadata": {
            "tags": []
          },
          "execution_count": 11
        }
      ]
    },
    {
      "cell_type": "code",
      "metadata": {
        "id": "n-UTbR1jxBz7"
      },
      "source": [
        "df_question_data = pd.read_csv('df_question_data.csv')"
      ],
      "execution_count": 11,
      "outputs": []
    },
    {
      "cell_type": "code",
      "metadata": {
        "colab": {
          "base_uri": "https://localhost:8080/",
          "height": 111
        },
        "id": "T6wTgA4xJcVE",
        "outputId": "66b63fbf-986e-4845-c002-d949f9029dd3"
      },
      "source": [
        "df_question_data.head(2)"
      ],
      "execution_count": 3,
      "outputs": [
        {
          "output_type": "execute_result",
          "data": {
            "text/html": [
              "<div>\n",
              "<style scoped>\n",
              "    .dataframe tbody tr th:only-of-type {\n",
              "        vertical-align: middle;\n",
              "    }\n",
              "\n",
              "    .dataframe tbody tr th {\n",
              "        vertical-align: top;\n",
              "    }\n",
              "\n",
              "    .dataframe thead th {\n",
              "        text-align: right;\n",
              "    }\n",
              "</style>\n",
              "<table border=\"1\" class=\"dataframe\">\n",
              "  <thead>\n",
              "    <tr style=\"text-align: right;\">\n",
              "      <th></th>\n",
              "      <th>id_list</th>\n",
              "      <th>list</th>\n",
              "      <th>question</th>\n",
              "      <th>difficulty</th>\n",
              "      <th>tag1</th>\n",
              "      <th>tag2</th>\n",
              "      <th>tag3</th>\n",
              "      <th>tag4</th>\n",
              "      <th>tag5</th>\n",
              "      <th>id_test</th>\n",
              "      <th>test</th>\n",
              "    </tr>\n",
              "  </thead>\n",
              "  <tbody>\n",
              "    <tr>\n",
              "      <th>0</th>\n",
              "      <td>2c43b603-7f97-4a51-9663-2efdd3845ef4</td>\n",
              "      <td>LIP2020.5 26-06 (até 26-06 23:59 -- Avaliação )</td>\n",
              "      <td># Números Amigos</td>\n",
              "      <td>2.0</td>\n",
              "      <td>NaN</td>\n",
              "      <td>NaN</td>\n",
              "      <td>NaN</td>\n",
              "      <td>NaN</td>\n",
              "      <td>NaN</td>\n",
              "      <td>NaN</td>\n",
              "      <td>NaN</td>\n",
              "    </tr>\n",
              "    <tr>\n",
              "      <th>1</th>\n",
              "      <td>2f6a2419-aa93-4f69-8a8e-e19815e8d991</td>\n",
              "      <td>T5CD 10-10-2020</td>\n",
              "      <td># Números Amigos</td>\n",
              "      <td>2.0</td>\n",
              "      <td>NaN</td>\n",
              "      <td>NaN</td>\n",
              "      <td>NaN</td>\n",
              "      <td>NaN</td>\n",
              "      <td>NaN</td>\n",
              "      <td>NaN</td>\n",
              "      <td>NaN</td>\n",
              "    </tr>\n",
              "  </tbody>\n",
              "</table>\n",
              "</div>"
            ],
            "text/plain": [
              "                                id_list  ... test\n",
              "0  2c43b603-7f97-4a51-9663-2efdd3845ef4  ...  NaN\n",
              "1  2f6a2419-aa93-4f69-8a8e-e19815e8d991  ...  NaN\n",
              "\n",
              "[2 rows x 11 columns]"
            ]
          },
          "metadata": {
            "tags": []
          },
          "execution_count": 3
        }
      ]
    },
    {
      "cell_type": "code",
      "metadata": {
        "colab": {
          "base_uri": "https://localhost:8080/"
        },
        "id": "GjPWaU3VxiJc",
        "outputId": "1a044d2d-87a9-43e2-aea6-d51727b7e94d"
      },
      "source": [
        "df_questions_selected = lop.select_questions(df_question_data, df_lop_lists) #futuramente df_lop_tests"
      ],
      "execution_count": 12,
      "outputs": [
        {
          "output_type": "stream",
          "text": [
            "/usr/local/lib/python3.6/dist-packages/pandas/core/strings.py:2001: UserWarning: This pattern has match groups. To actually get the groups, use str.extract.\n",
            "  return func(self, *args, **kwargs)\n"
          ],
          "name": "stderr"
        }
      ]
    },
    {
      "cell_type": "code",
      "metadata": {
        "id": "rgqGrP3HKhnf"
      },
      "source": [
        "df_question_data.dropna(subset=['list'])"
      ],
      "execution_count": null,
      "outputs": []
    },
    {
      "cell_type": "code",
      "metadata": {
        "colab": {
          "base_uri": "https://localhost:8080/",
          "height": 69
        },
        "id": "VARPyei6KpjT",
        "outputId": "47870ad1-29e8-47fd-d519-a1b98ee2163c"
      },
      "source": [
        "'|'.join(['({})'.format(re.escape(c)) for c in list(df_lop_lists['id_list'])])"
      ],
      "execution_count": 30,
      "outputs": [
        {
          "output_type": "execute_result",
          "data": {
            "application/vnd.google.colaboratory.intrinsic+json": {
              "type": "string"
            },
            "text/plain": [
              "'(b4b1d413\\\\-503d\\\\-40ea\\\\-b93c\\\\-a21d1240d2e7)|(2f5b561c\\\\-c3f0\\\\-4566\\\\-a357\\\\-625f0edbdb01)|(6893c2d2\\\\-49b5\\\\-4476\\\\-8d0d\\\\-cf39313f0aec)|(17ac33bf\\\\-c1f7\\\\-4d1b\\\\-92b6\\\\-6f76f41265c7)|(1f2fb866\\\\-0bea\\\\-4475\\\\-b0af\\\\-e4a060b0904a)|(d92afa9b\\\\-2def\\\\-4faf\\\\-9889\\\\-17bdf68642bf)|(d4074937\\\\-3f5c\\\\-4666\\\\-ab4e\\\\-29f82d54ac6e)|(fb49ae2e\\\\-562f\\\\-4b90\\\\-8b4b\\\\-c73e40507dc8)|(8123c646\\\\-d8a5\\\\-46ab\\\\-8331\\\\-fd152f7cbf22)|(12211c46\\\\-2fda\\\\-4392\\\\-99ce\\\\-a0dfc306a5e1)|(1415f543\\\\-dd94\\\\-4e9e\\\\-a594\\\\-b4396b01093e)'"
            ]
          },
          "metadata": {
            "tags": []
          },
          "execution_count": 30
        }
      ]
    },
    {
      "cell_type": "code",
      "metadata": {
        "id": "ngSwbFbpKeKF"
      },
      "source": [
        "df_prov1 = df_question_data.dropna(subset=['list'])\r\n",
        "    pat1 = '|'.join(['({})'.format(re.escape(c)) for c in list(df_lop_lists['id_list'])])\r\n",
        "    #pat2 = '|'.join(['({})'.format(re.escape(c)) for c in provas_escolhidas])\r\n",
        "    #Busca\r\n",
        "    df_prov1 = df_prov1.loc[df_prov1['id_list'].str.contains(pat1)].copy()\r\n",
        "    "
      ],
      "execution_count": null,
      "outputs": []
    },
    {
      "cell_type": "code",
      "metadata": {
        "colab": {
          "base_uri": "https://localhost:8080/",
          "height": 390
        },
        "id": "vddV85uLJi7L",
        "outputId": "1089c5b9-0c90-4581-9e14-b0c1a4309b03"
      },
      "source": [
        "df_lop_lists"
      ],
      "execution_count": 28,
      "outputs": [
        {
          "output_type": "execute_result",
          "data": {
            "text/html": [
              "<div>\n",
              "<style scoped>\n",
              "    .dataframe tbody tr th:only-of-type {\n",
              "        vertical-align: middle;\n",
              "    }\n",
              "\n",
              "    .dataframe tbody tr th {\n",
              "        vertical-align: top;\n",
              "    }\n",
              "\n",
              "    .dataframe thead th {\n",
              "        text-align: right;\n",
              "    }\n",
              "</style>\n",
              "<table border=\"1\" class=\"dataframe\">\n",
              "  <thead>\n",
              "    <tr style=\"text-align: right;\">\n",
              "      <th></th>\n",
              "      <th>id_list</th>\n",
              "      <th>list</th>\n",
              "      <th>createdAt</th>\n",
              "      <th>author</th>\n",
              "      <th>shortTitle</th>\n",
              "    </tr>\n",
              "  </thead>\n",
              "  <tbody>\n",
              "    <tr>\n",
              "      <th>0</th>\n",
              "      <td>b4b1d413-503d-40ea-b93c-a21d1240d2e7</td>\n",
              "      <td>ITP - Alocação dinâmica</td>\n",
              "      <td>2020-11-15T01:48:11.000Z</td>\n",
              "      <td>{'name': 'André Campos', 'email': 'andre@dimap...</td>\n",
              "      <td>IAD</td>\n",
              "    </tr>\n",
              "    <tr>\n",
              "      <th>1</th>\n",
              "      <td>2f5b561c-c3f0-4566-a357-625f0edbdb01</td>\n",
              "      <td>ITP - Ponteiros 2 -  Lista</td>\n",
              "      <td>2020-11-08T20:53:36.000Z</td>\n",
              "      <td>{'name': 'André Solino', 'email': 'andresolino...</td>\n",
              "      <td>IP2L</td>\n",
              "    </tr>\n",
              "    <tr>\n",
              "      <th>2</th>\n",
              "      <td>6893c2d2-49b5-4476-8d0d-cf39313f0aec</td>\n",
              "      <td>ITP - Structs e Enumerações - Lista</td>\n",
              "      <td>2020-10-30T15:40:06.000Z</td>\n",
              "      <td>{'name': 'Julio Melo', 'email': 'julio.melo@im...</td>\n",
              "      <td>ISEEL</td>\n",
              "    </tr>\n",
              "    <tr>\n",
              "      <th>3</th>\n",
              "      <td>17ac33bf-c1f7-4d1b-92b6-6f76f41265c7</td>\n",
              "      <td>ITP - Ponteiros 1 - Lista</td>\n",
              "      <td>2020-10-20T05:08:22.000Z</td>\n",
              "      <td>{'name': 'Wellington Souzas', 'email': 'wellin...</td>\n",
              "      <td>IP1L</td>\n",
              "    </tr>\n",
              "    <tr>\n",
              "      <th>4</th>\n",
              "      <td>1f2fb866-0bea-4475-b0af-e4a060b0904a</td>\n",
              "      <td>ITP - Matriz - Lista</td>\n",
              "      <td>2020-10-16T06:47:17.000Z</td>\n",
              "      <td>{'name': 'André Campos', 'email': 'andre@dimap...</td>\n",
              "      <td>IML</td>\n",
              "    </tr>\n",
              "    <tr>\n",
              "      <th>5</th>\n",
              "      <td>d92afa9b-2def-4faf-9889-17bdf68642bf</td>\n",
              "      <td>ITP - Recursão - Lista</td>\n",
              "      <td>2020-10-08T16:52:20.000Z</td>\n",
              "      <td>{'name': 'Julio Melo', 'email': 'julio.melo@im...</td>\n",
              "      <td>IRL</td>\n",
              "    </tr>\n",
              "    <tr>\n",
              "      <th>6</th>\n",
              "      <td>d4074937-3f5c-4666-ab4e-29f82d54ac6e</td>\n",
              "      <td>ITP - Funções - Lista</td>\n",
              "      <td>2020-10-02T13:39:56.000Z</td>\n",
              "      <td>{'name': 'André Solino', 'email': 'andresolino...</td>\n",
              "      <td>IFL</td>\n",
              "    </tr>\n",
              "    <tr>\n",
              "      <th>7</th>\n",
              "      <td>fb49ae2e-562f-4b90-8b4b-c73e40507dc8</td>\n",
              "      <td>ITP - Strings - Lista</td>\n",
              "      <td>2020-09-22T03:16:18.000Z</td>\n",
              "      <td>{'name': 'Wellington Souzas', 'email': 'wellin...</td>\n",
              "      <td>ISL</td>\n",
              "    </tr>\n",
              "    <tr>\n",
              "      <th>8</th>\n",
              "      <td>8123c646-d8a5-46ab-8331-fd152f7cbf22</td>\n",
              "      <td>IMD0012 - 2020.6: Lista Preparatória, Semana 3</td>\n",
              "      <td>2020-09-12T14:44:33.000Z</td>\n",
              "      <td>{'name': 'Renan Cipriano Moioli', 'email': 're...</td>\n",
              "      <td>I2LPS3</td>\n",
              "    </tr>\n",
              "    <tr>\n",
              "      <th>9</th>\n",
              "      <td>12211c46-2fda-4392-99ce-a0dfc306a5e1</td>\n",
              "      <td>ITP - Laços</td>\n",
              "      <td>2020-09-07T13:25:49.000Z</td>\n",
              "      <td>{'name': 'André Campos', 'email': 'andre@dimap...</td>\n",
              "      <td>IL</td>\n",
              "    </tr>\n",
              "    <tr>\n",
              "      <th>10</th>\n",
              "      <td>1415f543-dd94-4e9e-a594-b4396b01093e</td>\n",
              "      <td>IMD0012 - 2020.6: Lista Obrigatória, Semana 1</td>\n",
              "      <td>2020-08-19T20:13:29.000Z</td>\n",
              "      <td>{'name': 'Julio Melo', 'email': 'julio.melo@im...</td>\n",
              "      <td>I2LOS1</td>\n",
              "    </tr>\n",
              "  </tbody>\n",
              "</table>\n",
              "</div>"
            ],
            "text/plain": [
              "                                 id_list  ... shortTitle\n",
              "0   b4b1d413-503d-40ea-b93c-a21d1240d2e7  ...        IAD\n",
              "1   2f5b561c-c3f0-4566-a357-625f0edbdb01  ...       IP2L\n",
              "2   6893c2d2-49b5-4476-8d0d-cf39313f0aec  ...      ISEEL\n",
              "3   17ac33bf-c1f7-4d1b-92b6-6f76f41265c7  ...       IP1L\n",
              "4   1f2fb866-0bea-4475-b0af-e4a060b0904a  ...        IML\n",
              "5   d92afa9b-2def-4faf-9889-17bdf68642bf  ...        IRL\n",
              "6   d4074937-3f5c-4666-ab4e-29f82d54ac6e  ...        IFL\n",
              "7   fb49ae2e-562f-4b90-8b4b-c73e40507dc8  ...        ISL\n",
              "8   8123c646-d8a5-46ab-8331-fd152f7cbf22  ...     I2LPS3\n",
              "9   12211c46-2fda-4392-99ce-a0dfc306a5e1  ...         IL\n",
              "10  1415f543-dd94-4e9e-a594-b4396b01093e  ...     I2LOS1\n",
              "\n",
              "[11 rows x 5 columns]"
            ]
          },
          "metadata": {
            "tags": []
          },
          "execution_count": 28
        }
      ]
    },
    {
      "cell_type": "code",
      "metadata": {
        "colab": {
          "base_uri": "https://localhost:8080/",
          "height": 111
        },
        "id": "rROm7TISyXSG",
        "outputId": "f5753253-d597-4e32-9f87-7cfa487ae06b"
      },
      "source": [
        "df_questions_selected.head(2)"
      ],
      "execution_count": 13,
      "outputs": [
        {
          "output_type": "execute_result",
          "data": {
            "text/html": [
              "<div>\n",
              "<style scoped>\n",
              "    .dataframe tbody tr th:only-of-type {\n",
              "        vertical-align: middle;\n",
              "    }\n",
              "\n",
              "    .dataframe tbody tr th {\n",
              "        vertical-align: top;\n",
              "    }\n",
              "\n",
              "    .dataframe thead th {\n",
              "        text-align: right;\n",
              "    }\n",
              "</style>\n",
              "<table border=\"1\" class=\"dataframe\">\n",
              "  <thead>\n",
              "    <tr style=\"text-align: right;\">\n",
              "      <th></th>\n",
              "      <th>id_list</th>\n",
              "      <th>list</th>\n",
              "      <th>question</th>\n",
              "      <th>difficulty</th>\n",
              "      <th>tag1</th>\n",
              "      <th>tag2</th>\n",
              "      <th>tag3</th>\n",
              "      <th>tag4</th>\n",
              "      <th>tag5</th>\n",
              "      <th>id_test</th>\n",
              "      <th>test</th>\n",
              "    </tr>\n",
              "  </thead>\n",
              "  <tbody>\n",
              "    <tr>\n",
              "      <th>8</th>\n",
              "      <td>b4b1d413-503d-40ea-b93c-a21d1240d2e7</td>\n",
              "      <td>ITP - Alocação dinâmica</td>\n",
              "      <td>Alocação de matriz</td>\n",
              "      <td>3.0</td>\n",
              "      <td>Ponteiros</td>\n",
              "      <td>Matrizes</td>\n",
              "      <td>NaN</td>\n",
              "      <td>NaN</td>\n",
              "      <td>NaN</td>\n",
              "      <td>NaN</td>\n",
              "      <td>NaN</td>\n",
              "    </tr>\n",
              "    <tr>\n",
              "      <th>43</th>\n",
              "      <td>1f2fb866-0bea-4475-b0af-e4a060b0904a</td>\n",
              "      <td>ITP - Matriz - Lista</td>\n",
              "      <td>Batalha naval - 1 tiro</td>\n",
              "      <td>3.0</td>\n",
              "      <td>Matrizes</td>\n",
              "      <td>Estruturas de Repetição</td>\n",
              "      <td>NaN</td>\n",
              "      <td>NaN</td>\n",
              "      <td>NaN</td>\n",
              "      <td>NaN</td>\n",
              "      <td>NaN</td>\n",
              "    </tr>\n",
              "  </tbody>\n",
              "</table>\n",
              "</div>"
            ],
            "text/plain": [
              "                                 id_list                     list  ... id_test  test\n",
              "8   b4b1d413-503d-40ea-b93c-a21d1240d2e7  ITP - Alocação dinâmica  ...     NaN   NaN\n",
              "43  1f2fb866-0bea-4475-b0af-e4a060b0904a     ITP - Matriz - Lista  ...     NaN   NaN\n",
              "\n",
              "[2 rows x 11 columns]"
            ]
          },
          "metadata": {
            "tags": []
          },
          "execution_count": 13
        }
      ]
    },
    {
      "cell_type": "code",
      "metadata": {
        "id": "w8RMYfEgAz0k"
      },
      "source": [
        "df_class = pd.read_csv('df_class.csv')"
      ],
      "execution_count": 14,
      "outputs": []
    },
    {
      "cell_type": "code",
      "metadata": {
        "colab": {
          "base_uri": "https://localhost:8080/"
        },
        "id": "_3uaLrduaSNK",
        "outputId": "00e18b1b-56a1-46d9-be4c-5d0fa9f097bc"
      },
      "source": [
        "df_class['name_class'].unique()"
      ],
      "execution_count": null,
      "outputs": [
        {
          "output_type": "execute_result",
          "data": {
            "text/plain": [
              "array(['Turma teste 1', 'ITP DIM0133 - T02 - prof. André Campos (246M34)',\n",
              "       'ITP IMD1012 - T04 - prof. André Brito (246N34)',\n",
              "       'ITP IMD1012 - T03 - prof. André Brito (246N12)',\n",
              "       'IMD1012 - ITP - Turma 02 - 246T12', 'IMD1012 Turma 03 - 2020.6',\n",
              "       'ITP DIM01 2020.6', 'turma de testes', 'IMD1012 Turma 01 - 2020.6',\n",
              "       'ITP - 2020.6 Turma 01', 'T01-LOP2020.5',\n",
              "       'Seleção Para Monitoria de LoP', 'T01-LOP20.1',\n",
              "       'ECT2303 2020.6 T05 - 2020.2', 'Turma 03DLIP 2020.6',\n",
              "       'Turma 03C LIP 2020.6', 'Turma 03B LIP 2020.6',\n",
              "       'Turma 03A LIP 2020.6', 'ECT2303 2020.6 T05D',\n",
              "       'ECT2303 2020.6 T05C', 'ECT2303 2020.6 T05B',\n",
              "       'ECT2303 2020.6 T05A', 'LIP 2020.5 4ta prova',\n",
              "       'LIP 2020.5 Turma D', 'LIP 2020.5 Turma C', 'LIP 2020.5 Turma B',\n",
              "       'LIP 2020.5 Turma A', 'Turma de Testes - Darlan',\n",
              "       'Introdução à Programação - T18 - Tarde',\n",
              "       'Introdução à Programação - T17 - Manhã', 'ECT2303 2020.6 T01',\n",
              "       'LiP 2', 'teste2', 'TURMA 1', 'teste', 'Turma', 'Turma C',\n",
              "       'Turma python', 'Turma c++', 'LoP 03 - 2020.1', 'LoP 04 - 2020.1',\n",
              "       'LoP 05', 'LIP 2020.1 T4D', 'LIP 2020.1 T4C', 'LIP 2020.1 T4B',\n",
              "       'LIP 2020.1 T4A', 'LIP 2020.6 Turma 4', 'ITP - 2020.6 Turma 02',\n",
              "       'CN - turma 3', 'CN T2', 'CN - turma 4', 'Turma Teste Prova X',\n",
              "       'Teste 2020.6', 'DIM0133 - Turma 01 / 2020.2',\n",
              "       'LIP 2020.1 Turma 5', 'Turma 2D - Rummenigge',\n",
              "       'Turma 2A - Rummenigge', 'Turma 2B - Rummenigge',\n",
              "       'Turma 2C - Rummenigge', 'FIC-Informática',\n",
              "       'Programação Estruturada 2020.1'], dtype=object)"
            ]
          },
          "metadata": {
            "tags": []
          },
          "execution_count": 21
        }
      ]
    },
    {
      "cell_type": "code",
      "metadata": {
        "colab": {
          "base_uri": "https://localhost:8080/",
          "height": 35
        },
        "id": "mM2ixF1bNihO",
        "outputId": "91f0ccc0-2062-48d2-d202-b7f40c0c4300"
      },
      "source": [
        "data.to_json(force_ascii=False, orient='records') "
      ],
      "execution_count": null,
      "outputs": [
        {
          "output_type": "execute_result",
          "data": {
            "application/vnd.google.colaboratory.intrinsic+json": {
              "type": "string"
            },
            "text/plain": [
              "'[{\"id_class\":\"b5413cd7-4f61-4241-aad8-23740bab604f\"}]'"
            ]
          },
          "metadata": {
            "tags": []
          },
          "execution_count": 22
        }
      ]
    },
    {
      "cell_type": "code",
      "metadata": {
        "id": "3pJvM-ntfoxB",
        "colab": {
          "base_uri": "https://localhost:8080/"
        },
        "outputId": "dbaaa31c-d3b4-4e0b-ecae-d23186c424a1"
      },
      "source": [
        "df_performance_list = lop.performance_list_test(df_submission, 'list', df_lop_lists, df_question_data)\r\n",
        "df_performance_test = lop.performance_list_test(df_submission, 'test', df_lop_lists, df_question_data)\r\n",
        "df_performance_difficulty_list = lop.performance_difficulty_list_test(df_submission, df_questions_selected,'list')\r\n",
        "df_performance_difficulty_test = lop.performance_difficulty_list_test(df_submission, df_question_data,'test')\r\n",
        "df_performance_subject_list = lop.performance_subject_list_test(df_submission, df_questions_selected, 'list')\r\n",
        "df_performance_subject_test = lop.performance_subject_list_test(df_submission, df_question_data, 'test')"
      ],
      "execution_count": null,
      "outputs": [
        {
          "output_type": "stream",
          "text": [
            "/content/lop.py:252: SettingWithCopyWarning: \n",
            "A value is trying to be set on a copy of a slice from a DataFrame.\n",
            "Try using .loc[row_indexer,col_indexer] = value instead\n",
            "\n",
            "See the caveats in the documentation: https://pandas.pydata.org/pandas-docs/stable/user_guide/indexing.html#returning-a-view-versus-a-copy\n",
            "  df_questions_selected['subject'] = df_questions_selected['tag1'].fillna('Assunto em Branco').copy()\n"
          ],
          "name": "stderr"
        }
      ]
    },
    {
      "cell_type": "code",
      "metadata": {
        "colab": {
          "base_uri": "https://localhost:8080/",
          "height": 111
        },
        "id": "8OEnRK2uLzgv",
        "outputId": "681d9ce6-6e25-4c16-af78-8e13663b4c8a"
      },
      "source": [
        "df_performance_list.head(2)"
      ],
      "execution_count": null,
      "outputs": [
        {
          "output_type": "execute_result",
          "data": {
            "text/html": [
              "<div>\n",
              "<style scoped>\n",
              "    .dataframe tbody tr th:only-of-type {\n",
              "        vertical-align: middle;\n",
              "    }\n",
              "\n",
              "    .dataframe tbody tr th {\n",
              "        vertical-align: top;\n",
              "    }\n",
              "\n",
              "    .dataframe thead th {\n",
              "        text-align: right;\n",
              "    }\n",
              "</style>\n",
              "<table border=\"1\" class=\"dataframe\">\n",
              "  <thead>\n",
              "    <tr style=\"text-align: right;\">\n",
              "      <th></th>\n",
              "      <th>user</th>\n",
              "      <th>registration</th>\n",
              "      <th>list</th>\n",
              "      <th>totalHitPercentage</th>\n",
              "      <th>totalQuestionslist</th>\n",
              "      <th>medialist</th>\n",
              "      <th>id_list</th>\n",
              "      <th>dateList</th>\n",
              "    </tr>\n",
              "  </thead>\n",
              "  <tbody>\n",
              "    <tr>\n",
              "      <th>0</th>\n",
              "      <td>Allef Vinicius</td>\n",
              "      <td>20180069714</td>\n",
              "      <td>IMD0012 - 2020.6: Lista Obrigatória, Semana 1</td>\n",
              "      <td>300.0</td>\n",
              "      <td>3</td>\n",
              "      <td>100.0</td>\n",
              "      <td>1415f543-dd94-4e9e-a594-b4396b01093e</td>\n",
              "      <td>2020-08-19</td>\n",
              "    </tr>\n",
              "    <tr>\n",
              "      <th>1</th>\n",
              "      <td>André Luiz Rodrigues Soares</td>\n",
              "      <td>20180001960</td>\n",
              "      <td>IMD0012 - 2020.6: Lista Obrigatória, Semana 1</td>\n",
              "      <td>300.0</td>\n",
              "      <td>3</td>\n",
              "      <td>100.0</td>\n",
              "      <td>1415f543-dd94-4e9e-a594-b4396b01093e</td>\n",
              "      <td>2020-08-19</td>\n",
              "    </tr>\n",
              "  </tbody>\n",
              "</table>\n",
              "</div>"
            ],
            "text/plain": [
              "                           user  ...    dateList\n",
              "0               Allef Vinicius   ...  2020-08-19\n",
              "1  André Luiz Rodrigues Soares   ...  2020-08-19\n",
              "\n",
              "[2 rows x 8 columns]"
            ]
          },
          "metadata": {
            "tags": []
          },
          "execution_count": 14
        }
      ]
    },
    {
      "cell_type": "code",
      "metadata": {
        "colab": {
          "base_uri": "https://localhost:8080/",
          "height": 111
        },
        "id": "vv5PPxARLp2s",
        "outputId": "66a10168-61f8-46f9-f1f2-86f7f0046c29"
      },
      "source": [
        "df_performance_test.head(2)"
      ],
      "execution_count": null,
      "outputs": [
        {
          "output_type": "execute_result",
          "data": {
            "text/html": [
              "<div>\n",
              "<style scoped>\n",
              "    .dataframe tbody tr th:only-of-type {\n",
              "        vertical-align: middle;\n",
              "    }\n",
              "\n",
              "    .dataframe tbody tr th {\n",
              "        vertical-align: top;\n",
              "    }\n",
              "\n",
              "    .dataframe thead th {\n",
              "        text-align: right;\n",
              "    }\n",
              "</style>\n",
              "<table border=\"1\" class=\"dataframe\">\n",
              "  <thead>\n",
              "    <tr style=\"text-align: right;\">\n",
              "      <th></th>\n",
              "      <th>user</th>\n",
              "      <th>registration</th>\n",
              "      <th>test</th>\n",
              "      <th>totalHitPercentage</th>\n",
              "      <th>totalQuestionstest</th>\n",
              "      <th>mediatest</th>\n",
              "    </tr>\n",
              "  </thead>\n",
              "  <tbody>\n",
              "    <tr>\n",
              "      <th>0</th>\n",
              "      <td>ANTONIO AUGUSTO DE LIMA SILVA</td>\n",
              "      <td>20180069652</td>\n",
              "      <td>ITP - Funções - Prova</td>\n",
              "      <td>300.0</td>\n",
              "      <td>4</td>\n",
              "      <td>75.0</td>\n",
              "    </tr>\n",
              "    <tr>\n",
              "      <th>1</th>\n",
              "      <td>Abílio Fontenelle</td>\n",
              "      <td>20180067952</td>\n",
              "      <td>ITP - Funções - Prova</td>\n",
              "      <td>400.0</td>\n",
              "      <td>4</td>\n",
              "      <td>100.0</td>\n",
              "    </tr>\n",
              "  </tbody>\n",
              "</table>\n",
              "</div>"
            ],
            "text/plain": [
              "                             user  registration  ... totalQuestionstest  mediatest\n",
              "0  ANTONIO AUGUSTO DE LIMA SILVA    20180069652  ...                  4       75.0\n",
              "1              Abílio Fontenelle    20180067952  ...                  4      100.0\n",
              "\n",
              "[2 rows x 6 columns]"
            ]
          },
          "metadata": {
            "tags": []
          },
          "execution_count": 15
        }
      ]
    },
    {
      "cell_type": "code",
      "metadata": {
        "id": "JNfdD_Pay0A2"
      },
      "source": [
        "GENL = lop.graph_more_less_list_test_class(df_performance_list, df_class, data, 70.0, 'list')\r\n",
        "GENP = lop.graph_more_less_list_test_class(df_performance_test, df_class, data, 70.0, 'test')\r\n",
        "GTDL = lop.graph_more_less_difficulty_list_test_class(df_performance_difficulty_list, df_class, data, 70.0)\r\n",
        "GTDP = lop.graph_more_less_difficulty_list_test_class(df_performance_difficulty_test, df_class, data, 70.0)\r\n",
        "GTAL = lop.graph_more_less_subject_list_test_class(df_performance_subject_list, df_class, data, 70.0)\r\n",
        "GTAP = lop.graph_more_less_subject_list_test_class(df_performance_subject_test, df_class, data, 70.0)"
      ],
      "execution_count": null,
      "outputs": []
    },
    {
      "cell_type": "code",
      "metadata": {
        "id": "c9Bvxtt6y5tX"
      },
      "source": [
        "GTNL = lop.graph_performance_student_list_test(df_performance_list, 'list')\r\n",
        "GTNP = lop.graph_performance_student_list_test(df_performance_test, 'test')\r\n",
        "GEDL = lop.graph_performance_student_difficulty_list_test(df_performance_difficulty_list)\r\n",
        "GEDP = lop.graph_performance_student_difficulty_list_test(df_performance_difficulty_test)\r\n",
        "GEAL = lop.graph_performance_student_subject_list_test(df_performance_subject_list)\r\n",
        "GEAP = lop.graph_performance_student_subject_list_test(df_performance_subject_test)"
      ],
      "execution_count": null,
      "outputs": []
    },
    {
      "cell_type": "code",
      "metadata": {
        "id": "0onEKswPzMym"
      },
      "source": [
        "name_graphs = ['\"GENL\"','\"GENP\"','\"GTDL\"','\"GTDP\"','\"GTAL\"','\"GTAP\"',\r\n",
        "                 '\"GTNL\"','\"GTNP\"','\"GEDL\"','\"GEDP\"','\"GEAL\"','\"GEAP\"']\r\n",
        "graphs = [GENL,GENP,GTDL,GTDP,GTAL,GTAP,\r\n",
        "            GTNL,GTNP,GEDL,GEDP,GEAL,GEAP]"
      ],
      "execution_count": null,
      "outputs": []
    },
    {
      "cell_type": "code",
      "metadata": {
        "colab": {
          "base_uri": "https://localhost:8080/",
          "height": 120
        },
        "id": "PQyzW7cazRGW",
        "outputId": "7d7e88aa-e471-4bf8-95bb-1a324b59f68c"
      },
      "source": [
        "lop.create_unique_json(name_graphs, graphs)"
      ],
      "execution_count": null,
      "outputs": [
        {
          "output_type": "execute_result",
          "data": {
            "application/vnd.google.colaboratory.intrinsic+json": {
              "type": "string"
            },
            "text/plain": [
              "'{\"GENL\":[{\"list\":\"IMD0012 - 2020.6: Lista Obrigatória, Semana 1\",\"dateList\":1597795200000,\"more\":22.0,\"less\":7,\"missing\":12.0},{\"list\":\"ITP - Laços\",\"dateList\":1599436800000,\"more\":17.0,\"less\":3,\"missing\":21.0},{\"list\":\"IMD0012 - 2020.6: Lista Preparatória, Semana 3\",\"dateList\":1599868800000,\"more\":7.0,\"less\":7,\"missing\":27.0},{\"list\":\"ITP - Strings - Lista\",\"dateList\":1600732800000,\"more\":6.0,\"less\":2,\"missing\":33.0},{\"list\":\"ITP - Funções - Lista\",\"dateList\":1601596800000,\"more\":4.0,\"less\":5,\"missing\":32.0},{\"list\":\"ITP - Recursão - Lista\",\"dateList\":1602115200000,\"more\":2.0,\"less\":1,\"missing\":38.0},{\"list\":\"ITP - Matriz - Lista\",\"dateList\":1602806400000,\"more\":5.0,\"less\":2,\"missing\":34.0},{\"list\":\"ITP - Ponteiros 1 - Lista\",\"dateList\":1603152000000,\"more\":1.0,\"less\":2,\"missing\":38.0},{\"list\":\"ITP - Structs e Enumerações - Lista\",\"dateList\":1604016000000,\"more\":0.0,\"less\":2,\"missing\":39.0},{\"list\":\"ITP - Ponteiros 2 -  Lista\",\"dateList\":1604793600000,\"more\":0.0,\"less\":2,\"missing\":39.0},{\"list\":\"ITP - Alocação dinâmica\",\"dateList\":1605398400000,\"more\":1.0,\"less\":6,\"missing\":34.0}],\"GENP\":[{\"test\":\"ITP - Alocação dinâmica - Prova\",\"more\":2.0,\"less\":12,\"missing\":27.0},{\"test\":\"ITP - Funções - Prova\",\"more\":27.0,\"less\":3,\"missing\":11.0},{\"test\":\"ITP - Laços - Prova\",\"more\":21.0,\"less\":8,\"missing\":12.0},{\"test\":\"ITP - Matriz - Prova\",\"more\":20.0,\"less\":9,\"missing\":12.0},{\"test\":\"ITP - Ponteiros 1 - Prova\",\"more\":7.0,\"less\":16,\"missing\":18.0},{\"test\":\"ITP - Ponteiros 2 - Prova\",\"more\":3.0,\"less\":19,\"missing\":19.0},{\"test\":\"ITP - Recursão - Prova\",\"more\":7.0,\"less\":15,\"missing\":19.0},{\"test\":\"ITP - Strings - Prova\",\"more\":19.0,\"less\":12,\"missing\":10.0},{\"test\":\"ITP - Structs e Enumerações - Prova\",\"more\":2.0,\"less\":17,\"missing\":22.0},{\"test\":\"ITP - Vetores - Prova\",\"more\":23.0,\"less\":6,\"missing\":12.0},{\"test\":\"ITP Lista 0\",\"more\":25.0,\"less\":7,\"missing\":9.0},{\"test\":\"ITP 2020.6 - T02 - Reposicao\",\"more\":0.0,\"less\":2,\"missing\":39.0}],\"GTDL\":[{\"more\":0,\"difficulty\":\"Muito Fácil\",\"less\":38,\"missing\":3},{\"more\":0,\"difficulty\":\"Fácil\",\"less\":38,\"missing\":3},{\"more\":0,\"difficulty\":\"Médio\",\"less\":38,\"missing\":3},{\"more\":0,\"difficulty\":\"Difícil\",\"less\":38,\"missing\":3},{\"more\":0,\"difficulty\":\"Muito Difícil\",\"less\":38,\"missing\":3}],\"GTDP\":[{\"more\":0,\"difficulty\":\"Muito Fácil\",\"less\":38,\"missing\":3},{\"more\":0,\"difficulty\":\"Fácil\",\"less\":38,\"missing\":3},{\"more\":0,\"difficulty\":\"Médio\",\"less\":38,\"missing\":3},{\"more\":0,\"difficulty\":\"Difícil\",\"less\":38,\"missing\":3},{\"more\":0,\"difficulty\":\"Muito Difícil\",\"less\":38,\"missing\":3}],\"GTAL\":[{\"subject\":\"Assunto em Branco\",\"more\":6.0,\"less\":32,\"missing\":3.0},{\"subject\":\"Estruturas Condicionais\",\"more\":15.0,\"less\":23,\"missing\":3.0},{\"subject\":\"Estruturas de Repetição\",\"more\":17.0,\"less\":21,\"missing\":3.0},{\"subject\":\"Matrizes\",\"more\":4.0,\"less\":34,\"missing\":3.0},{\"subject\":\"Recursão\",\"more\":2.0,\"less\":36,\"missing\":3.0},{\"subject\":\"String\",\"more\":1.0,\"less\":37,\"missing\":3.0},{\"subject\":\"Vetores\",\"more\":6.0,\"less\":32,\"missing\":3.0},{\"subject\":\"Funções\",\"more\":0.0,\"less\":38,\"missing\":3.0},{\"subject\":\"Ponteiros\",\"more\":0.0,\"less\":38,\"missing\":3.0},{\"subject\":\"Tipos Estruturados\",\"more\":0.0,\"less\":38,\"missing\":3.0}],\"GTAP\":[{\"subject\":\"Matrizes\",\"more\":15.0,\"less\":23,\"missing\":3.0},{\"subject\":\"Tipos Estruturados\",\"more\":1.0,\"less\":37,\"missing\":3.0},{\"subject\":\"Vetores\",\"more\":22.0,\"less\":16,\"missing\":3.0},{\"subject\":\"Assunto em Branco\",\"more\":0.0,\"less\":38,\"missing\":3.0},{\"subject\":\"Estruturas Condicionais\",\"more\":0.0,\"less\":38,\"missing\":3.0},{\"subject\":\"Estruturas de Repetição\",\"more\":0.0,\"less\":38,\"missing\":3.0},{\"subject\":\"Funções\",\"more\":0.0,\"less\":38,\"missing\":3.0},{\"subject\":\"Operadores Aritméticos\",\"more\":0.0,\"less\":38,\"missing\":3.0},{\"subject\":\"Operadores Lógicos\",\"more\":0.0,\"less\":38,\"missing\":3.0},{\"subject\":\"Ordenação\",\"more\":0.0,\"less\":38,\"missing\":3.0},{\"subject\":\"Ponteiros\",\"more\":0.0,\"less\":38,\"missing\":3.0},{\"subject\":\"Recursão\",\"more\":0.0,\"less\":38,\"missing\":3.0}],\"GTNL\":[{\"list\":\"IMD0012 - 2020.6: Lista Obrigatória, Semana 1\",\"mediaListClass\":85.9770114943,\"user\":\"Allef Vinicius \",\"registration\":\" 20180069714\",\"medialist\":100.0,\"id_list\":\"1415f543-dd94-4e9e-a594-b4396b01093e\",\"dateList\":1597795200000},{\"list\":\"ITP - Laços\",\"mediaListClass\":88.75,\"user\":\"Allef Vinicius \",\"registration\":\" 20180069714\",\"medialist\":100.0,\"id_list\":\"12211c46-2fda-4392-99ce-a0dfc306a5e1\",\"dateList\":1599436800000},{\"list\":\"IMD0012 - 2020.6: Lista Preparatória, Semana 3\",\"mediaListClass\":63.3928571429,\"user\":\"Allef Vinicius \",\"registration\":\" 20180069714\",\"medialist\":100.0,\"id_list\":\"8123c646-d8a5-46ab-8331-fd152f7cbf22\",\"dateList\":1599868800000},{\"list\":\"ITP - Strings - Lista\",\"mediaListClass\":78.125,\"user\":\"Allef Vinicius \",\"registration\":\" 20180069714\",\"medialist\":100.0,\"id_list\":\"fb49ae2e-562f-4b90-8b4b-c73e40507dc8\",\"dateList\":1600732800000},{\"list\":\"ITP - Ponteiros 2 -  Lista\",\"mediaListClass\":25.0,\"user\":\"Allef Vinicius \",\"registration\":\" 20180069714\",\"medialist\":50.0,\"id_list\":\"2f5b561c-c3f0-4566-a357-625f0edbdb01\",\"dateList\":1604793600000},{\"list\":\"ITP - Alocação dinâmica\",\"mediaListClass\":48.5714285714,\"user\":\"Allef Vinicius \",\"registration\":\" 20180069714\",\"medialist\":66.6666666667,\"id_list\":\"b4b1d413-503d-40ea-b93c-a21d1240d2e7\",\"dateList\":1605398400000},{\"list\":\"IMD0012 - 2020.6: Lista Obrigatória, Semana 1\",\"mediaListClass\":85.9770114943,\"user\":\"André Luiz Rodrigues Soares \",\"registration\":\" 20180001960\",\"medialist\":100.0,\"id_list\":\"1415f543-dd94-4e9e-a594-b4396b01093e\",\"dateList\":1597795200000},{\"list\":\"ITP - Laços\",\"mediaListClass\":88.75,\"user\":\"André Luiz Rodrigues Soares \",\"registration\":\" 20180001960\",\"medialist\":100.0,\"id_list\":\"12211c46-2fda-4392-99ce-a0dfc306a5e1\",\"dateList\":1599436800000},{\"list\":\"IMD0012 - 2020.6: Lista Preparatória, Semana 3\",\"mediaListClass\":63.3928571429,\"user\":\"André Luiz Rodrigues Soares \",\"registration\":\" 20180001960\",\"medialist\":100.0,\"id_list\":\"8123c646-d8a5-46ab-8331-fd152f7cbf22\",\"dateList\":1599868800000},{\"list\":\"ITP - Strings - Lista\",\"mediaListClass\":78.125,\"user\":\"André Luiz Rodrigues Soares \",\"registration\":\" 20180001960\",\"medialist\":100.0,\"id_list\":\"fb49ae2e-562f-4b90-8b4b-c73e40507dc8\",\"dateList\":1600732800000},{\"list\":\"ITP - Funções - Lista\",\"mediaListClass\":67.3611111111,\"user\":\"André Luiz Rodrigues Soares \",\"registration\":\" 20180001960\",\"medialist\":100.0,\"id_list\":\"d4074937-3f5c-4666-ab4e-29f82d54ac6e\",\"dateList\":1601596800000},{\"list\":\"ITP - Recursão - Lista\",\"mediaListClass\":75.0,\"user\":\"André Luiz Rodrigues Soares \",\"registration\":\" 20180001960\",\"medialist\":100.0,\"id_list\":\"d92afa9b-2def-4faf-9889-17bdf68642bf\",\"dateList\":1602115200000},{\"list\":\"ITP - Matriz - Lista\",\"mediaListClass\":69.6428571429,\"user\":\"André Luiz Rodrigues Soares \",\"registration\":\" 20180001960\",\"medialist\":75.0,\"id_list\":\"1f2fb866-0bea-4475-b0af-e4a060b0904a\",\"dateList\":1602806400000},{\"list\":\"IMD0012 - 2020.6: Lista Obrigatória, Semana 1\",\"mediaListClass\":85.9770114943,\"user\":\"Arthur Learth \",\"registration\":\" 20180071294\",\"medialist\":26.6666666667,\"id_list\":\"1415f543-dd94-4e9e-a594-b4396b01093e\",\"dateList\":1597795200000},{\"list\":\"ITP - Alocação dinâmica\",\"mediaListClass\":48.5714285714,\"user\":\"Daniel \",\"registration\":\" 20190046016\",\"medialist\":33.3333333333,\"id_list\":\"b4b1d413-503d-40ea-b93c-a21d1240d2e7\",\"dateList\":1605398400000},{\"list\":\"IMD0012 - 2020.6: Lista Obrigatória, Semana 1\",\"mediaListClass\":85.9770114943,\"user\":\"Deborah Dantas \",\"registration\":\" 20190036691\",\"medialist\":100.0,\"id_list\":\"1415f543-dd94-4e9e-a594-b4396b01093e\",\"dateList\":1597795200000},{\"list\":\"ITP - Laços\",\"mediaListClass\":88.75,\"user\":\"Deborah Dantas \",\"registration\":\" 20190036691\",\"medialist\":25.0,\"id_list\":\"12211c46-2fda-4392-99ce-a0dfc306a5e1\",\"dateList\":1599436800000},{\"list\":\"IMD0012 - 2020.6: Lista Preparatória, Semana 3\",\"mediaListClass\":63.3928571429,\"user\":\"Deborah Dantas \",\"registration\":\" 20190036691\",\"medialist\":6.25,\"id_list\":\"8123c646-d8a5-46ab-8331-fd152f7cbf22\",\"dateList\":1599868800000},{\"list\":\"IMD0012 - 2020.6: Lista Obrigatória, Semana 1\",\"mediaListClass\":85.9770114943,\"user\":\"Dimitri Lima \",\"registration\":\" Ufrn\",\"medialist\":66.6666666667,\"id_list\":\"1415f543-dd94-4e9e-a594-b4396b01093e\",\"dateList\":1597795200000},{\"list\":\"IMD0012 - 2020.6: Lista Obrigatória, Semana 1\",\"mediaListClass\":85.9770114943,\"user\":\"Felipe Costa \",\"registration\":\" 20190043453\",\"medialist\":100.0,\"id_list\":\"1415f543-dd94-4e9e-a594-b4396b01093e\",\"dateList\":1597795200000},{\"list\":\"ITP - Laços\",\"mediaListClass\":88.75,\"user\":\"Felipe Costa \",\"registration\":\" 20190043453\",\"medialist\":100.0,\"id_list\":\"12211c46-2fda-4392-99ce-a0dfc306a5e1\",\"dateList\":1599436800000},{\"list\":\"IMD0012 - 2020.6: Lista Preparatória, Semana 3\",\"mediaListClass\":63.3928571429,\"user\":\"Felipe Costa \",\"registration\":\" 20190043453\",\"medialist\":100.0,\"id_list\":\"8123c646-d8a5-46ab-8331-fd152f7cbf22\",\"dateList\":1599868800000},{\"list\":\"ITP - Strings - Lista\",\"mediaListClass\":78.125,\"user\":\"Felipe Costa \",\"registration\":\" 20190043453\",\"medialist\":100.0,\"id_list\":\"fb49ae2e-562f-4b90-8b4b-c73e40507dc8\",\"dateList\":1600732800000},{\"list\":\"ITP - Funções - Lista\",\"mediaListClass\":67.3611111111,\"user\":\"Felipe Costa \",\"registration\":\" 20190043453\",\"medialist\":100.0,\"id_list\":\"d4074937-3f5c-4666-ab4e-29f82d54ac6e\",\"dateList\":1601596800000},{\"list\":\"ITP - Recursão - Lista\",\"mediaListClass\":75.0,\"user\":\"Felipe Costa \",\"registration\":\" 20190043453\",\"medialist\":100.0,\"id_list\":\"d92afa9b-2def-4faf-9889-17bdf68642bf\",\"dateList\":1602115200000},{\"list\":\"ITP - Matriz - Lista\",\"mediaListClass\":69.6428571429,\"user\":\"Felipe Costa \",\"registration\":\" 20190043453\",\"medialist\":100.0,\"id_list\":\"1f2fb866-0bea-4475-b0af-e4a060b0904a\",\"dateList\":1602806400000},{\"list\":\"IMD0012 - 2020.6: Lista Obrigatória, Semana 1\",\"mediaListClass\":85.9770114943,\"user\":\"Gabriel Bassani \",\"registration\":\" 20190043794\",\"medialist\":100.0,\"id_list\":\"1415f543-dd94-4e9e-a594-b4396b01093e\",\"dateList\":1597795200000},{\"list\":\"ITP - Laços\",\"mediaListClass\":88.75,\"user\":\"Gabriel Bassani \",\"registration\":\" 20190043794\",\"medialist\":25.0,\"id_list\":\"12211c46-2fda-4392-99ce-a0dfc306a5e1\",\"dateList\":1599436800000},{\"list\":\"ITP - Alocação dinâmica\",\"mediaListClass\":48.5714285714,\"user\":\"Gabriel Bassani \",\"registration\":\" 20190043794\",\"medialist\":13.3333333333,\"id_list\":\"b4b1d413-503d-40ea-b93c-a21d1240d2e7\",\"dateList\":1605398400000},{\"list\":\"IMD0012 - 2020.6: Lista Obrigatória, Semana 1\",\"mediaListClass\":85.9770114943,\"user\":\"Gabriel Vinícius Lima da Costa Medeiros \",\"registration\":\" 20190041978\",\"medialist\":100.0,\"id_list\":\"1415f543-dd94-4e9e-a594-b4396b01093e\",\"dateList\":1597795200000},{\"list\":\"ITP - Laços\",\"mediaListClass\":88.75,\"user\":\"Gabriel Vinícius Lima da Costa Medeiros \",\"registration\":\" 20190041978\",\"medialist\":100.0,\"id_list\":\"12211c46-2fda-4392-99ce-a0dfc306a5e1\",\"dateList\":1599436800000},{\"list\":\"IMD0012 - 2020.6: Lista Preparatória, Semana 3\",\"mediaListClass\":63.3928571429,\"user\":\"Gabriel Vinícius Lima da Costa Medeiros \",\"registration\":\" 20190041978\",\"medialist\":50.0,\"id_list\":\"8123c646-d8a5-46ab-8331-fd152f7cbf22\",\"dateList\":1599868800000},{\"list\":\"IMD0012 - 2020.6: Lista Obrigatória, Semana 1\",\"mediaListClass\":85.9770114943,\"user\":\"Guilherme Augusto Santana de Lima \",\"registration\":\" 20190044138\",\"medialist\":33.3333333333,\"id_list\":\"1415f543-dd94-4e9e-a594-b4396b01093e\",\"dateList\":1597795200000},{\"list\":\"ITP - Laços\",\"mediaListClass\":88.75,\"user\":\"Guilherme Augusto Santana de Lima \",\"registration\":\" 20190044138\",\"medialist\":100.0,\"id_list\":\"12211c46-2fda-4392-99ce-a0dfc306a5e1\",\"dateList\":1599436800000},{\"list\":\"IMD0012 - 2020.6: Lista Obrigatória, Semana 1\",\"mediaListClass\":85.9770114943,\"user\":\"Jackson D \",\"registration\":\" 20200038945\",\"medialist\":100.0,\"id_list\":\"1415f543-dd94-4e9e-a594-b4396b01093e\",\"dateList\":1597795200000},{\"list\":\"IMD0012 - 2020.6: Lista Obrigatória, Semana 1\",\"mediaListClass\":85.9770114943,\"user\":\"Joao Victor Leandro \",\"registration\":\" 20190146693\",\"medialist\":0.0,\"id_list\":\"1415f543-dd94-4e9e-a594-b4396b01093e\",\"dateList\":1597795200000},{\"list\":\"IMD0012 - 2020.6: Lista Obrigatória, Semana 1\",\"mediaListClass\":85.9770114943,\"user\":\"João Gabriel Trindade \",\"registration\":\" 20190010588\",\"medialist\":100.0,\"id_list\":\"1415f543-dd94-4e9e-a594-b4396b01093e\",\"dateList\":1597795200000},{\"list\":\"ITP - Laços\",\"mediaListClass\":88.75,\"user\":\"João Gabriel Trindade \",\"registration\":\" 20190010588\",\"medialist\":100.0,\"id_list\":\"12211c46-2fda-4392-99ce-a0dfc306a5e1\",\"dateList\":1599436800000},{\"list\":\"IMD0012 - 2020.6: Lista Preparatória, Semana 3\",\"mediaListClass\":63.3928571429,\"user\":\"João Gabriel Trindade \",\"registration\":\" 20190010588\",\"medialist\":43.75,\"id_list\":\"8123c646-d8a5-46ab-8331-fd152f7cbf22\",\"dateList\":1599868800000},{\"list\":\"ITP - Strings - Lista\",\"mediaListClass\":78.125,\"user\":\"João Gabriel Trindade \",\"registration\":\" 20190010588\",\"medialist\":0.0,\"id_list\":\"fb49ae2e-562f-4b90-8b4b-c73e40507dc8\",\"dateList\":1600732800000},{\"list\":\"ITP - Funções - Lista\",\"mediaListClass\":67.3611111111,\"user\":\"João Gabriel Trindade \",\"registration\":\" 20190010588\",\"medialist\":50.0,\"id_list\":\"d4074937-3f5c-4666-ab4e-29f82d54ac6e\",\"dateList\":1601596800000},{\"list\":\"ITP - Matriz - Lista\",\"mediaListClass\":69.6428571429,\"user\":\"João Gabriel Trindade \",\"registration\":\" 20190010588\",\"medialist\":25.0,\"id_list\":\"1f2fb866-0bea-4475-b0af-e4a060b0904a\",\"dateList\":1602806400000},{\"list\":\"ITP - Alocação dinâmica\",\"mediaListClass\":48.5714285714,\"user\":\"João Gabriel Trindade \",\"registration\":\" 20190010588\",\"medialist\":33.3333333333,\"id_list\":\"b4b1d413-503d-40ea-b93c-a21d1240d2e7\",\"dateList\":1605398400000},{\"list\":\"IMD0012 - 2020.6: Lista Obrigatória, Semana 1\",\"mediaListClass\":85.9770114943,\"user\":\"João Maria Mauricio \",\"registration\":\" 20180118944\",\"medialist\":100.0,\"id_list\":\"1415f543-dd94-4e9e-a594-b4396b01093e\",\"dateList\":1597795200000},{\"list\":\"ITP - Laços\",\"mediaListClass\":88.75,\"user\":\"João Maria Mauricio \",\"registration\":\" 20180118944\",\"medialist\":100.0,\"id_list\":\"12211c46-2fda-4392-99ce-a0dfc306a5e1\",\"dateList\":1599436800000},{\"list\":\"IMD0012 - 2020.6: Lista Obrigatória, Semana 1\",\"mediaListClass\":85.9770114943,\"user\":\"Lucas da Costa Fontes \",\"registration\":\" 20180122141\",\"medialist\":100.0,\"id_list\":\"1415f543-dd94-4e9e-a594-b4396b01093e\",\"dateList\":1597795200000},{\"list\":\"ITP - Laços\",\"mediaListClass\":88.75,\"user\":\"Lucas da Costa Fontes \",\"registration\":\" 20180122141\",\"medialist\":100.0,\"id_list\":\"12211c46-2fda-4392-99ce-a0dfc306a5e1\",\"dateList\":1599436800000},{\"list\":\"IMD0012 - 2020.6: Lista Obrigatória, Semana 1\",\"mediaListClass\":85.9770114943,\"user\":\"Luiz Paulo Assis Cavalcante de Freitas \",\"registration\":\" 20190103408\",\"medialist\":100.0,\"id_list\":\"1415f543-dd94-4e9e-a594-b4396b01093e\",\"dateList\":1597795200000},{\"list\":\"ITP - Laços\",\"mediaListClass\":88.75,\"user\":\"Luiz Paulo Assis Cavalcante de Freitas \",\"registration\":\" 20190103408\",\"medialist\":100.0,\"id_list\":\"12211c46-2fda-4392-99ce-a0dfc306a5e1\",\"dateList\":1599436800000},{\"list\":\"IMD0012 - 2020.6: Lista Obrigatória, Semana 1\",\"mediaListClass\":85.9770114943,\"user\":\"Matheus Henrique Fonseca Valerio \",\"registration\":\" 20180063597\",\"medialist\":66.6666666667,\"id_list\":\"1415f543-dd94-4e9e-a594-b4396b01093e\",\"dateList\":1597795200000},{\"list\":\"ITP - Laços\",\"mediaListClass\":88.75,\"user\":\"Matheus Henrique Fonseca Valerio \",\"registration\":\" 20180063597\",\"medialist\":100.0,\"id_list\":\"12211c46-2fda-4392-99ce-a0dfc306a5e1\",\"dateList\":1599436800000},{\"list\":\"ITP - Funções - Lista\",\"mediaListClass\":67.3611111111,\"user\":\"Matheus Henrique Fonseca Valerio \",\"registration\":\" 20180063597\",\"medialist\":50.0,\"id_list\":\"d4074937-3f5c-4666-ab4e-29f82d54ac6e\",\"dateList\":1601596800000},{\"list\":\"IMD0012 - 2020.6: Lista Obrigatória, Semana 1\",\"mediaListClass\":85.9770114943,\"user\":\"Patrick Miguel Souza de Melo \",\"registration\":\" 20170068277\",\"medialist\":100.0,\"id_list\":\"1415f543-dd94-4e9e-a594-b4396b01093e\",\"dateList\":1597795200000},{\"list\":\"ITP - Laços\",\"mediaListClass\":88.75,\"user\":\"Patrick Miguel Souza de Melo \",\"registration\":\" 20170068277\",\"medialist\":25.0,\"id_list\":\"12211c46-2fda-4392-99ce-a0dfc306a5e1\",\"dateList\":1599436800000},{\"list\":\"IMD0012 - 2020.6: Lista Obrigatória, Semana 1\",\"mediaListClass\":85.9770114943,\"user\":\"Paulo Carvalho \",\"registration\":\" 2016034522\",\"medialist\":100.0,\"id_list\":\"1415f543-dd94-4e9e-a594-b4396b01093e\",\"dateList\":1597795200000},{\"list\":\"ITP - Laços\",\"mediaListClass\":88.75,\"user\":\"Paulo Carvalho \",\"registration\":\" 2016034522\",\"medialist\":100.0,\"id_list\":\"12211c46-2fda-4392-99ce-a0dfc306a5e1\",\"dateList\":1599436800000},{\"list\":\"IMD0012 - 2020.6: Lista Preparatória, Semana 3\",\"mediaListClass\":63.3928571429,\"user\":\"Paulo Carvalho \",\"registration\":\" 2016034522\",\"medialist\":25.0,\"id_list\":\"8123c646-d8a5-46ab-8331-fd152f7cbf22\",\"dateList\":1599868800000},{\"list\":\"IMD0012 - 2020.6: Lista Obrigatória, Semana 1\",\"mediaListClass\":85.9770114943,\"user\":\"Paulo Víctor de Medeiros Andrade \",\"registration\":\" 20190003046\",\"medialist\":33.3333333333,\"id_list\":\"1415f543-dd94-4e9e-a594-b4396b01093e\",\"dateList\":1597795200000},{\"list\":\"IMD0012 - 2020.6: Lista Preparatória, Semana 3\",\"mediaListClass\":63.3928571429,\"user\":\"Paulo Víctor de Medeiros Andrade \",\"registration\":\" 20190003046\",\"medialist\":25.0,\"id_list\":\"8123c646-d8a5-46ab-8331-fd152f7cbf22\",\"dateList\":1599868800000},{\"list\":\"IMD0012 - 2020.6: Lista Obrigatória, Semana 1\",\"mediaListClass\":85.9770114943,\"user\":\"Pedro Garcia Pereira \",\"registration\":\" 20190040658\",\"medialist\":100.0,\"id_list\":\"1415f543-dd94-4e9e-a594-b4396b01093e\",\"dateList\":1597795200000},{\"list\":\"ITP - Laços\",\"mediaListClass\":88.75,\"user\":\"Pedro Garcia Pereira \",\"registration\":\" 20190040658\",\"medialist\":100.0,\"id_list\":\"12211c46-2fda-4392-99ce-a0dfc306a5e1\",\"dateList\":1599436800000},{\"list\":\"IMD0012 - 2020.6: Lista Preparatória, Semana 3\",\"mediaListClass\":63.3928571429,\"user\":\"Pedro Garcia Pereira \",\"registration\":\" 20190040658\",\"medialist\":100.0,\"id_list\":\"8123c646-d8a5-46ab-8331-fd152f7cbf22\",\"dateList\":1599868800000},{\"list\":\"ITP - Strings - Lista\",\"mediaListClass\":78.125,\"user\":\"Pedro Garcia Pereira \",\"registration\":\" 20190040658\",\"medialist\":100.0,\"id_list\":\"fb49ae2e-562f-4b90-8b4b-c73e40507dc8\",\"dateList\":1600732800000},{\"list\":\"ITP - Funções - Lista\",\"mediaListClass\":67.3611111111,\"user\":\"Pedro Garcia Pereira \",\"registration\":\" 20190040658\",\"medialist\":56.25,\"id_list\":\"d4074937-3f5c-4666-ab4e-29f82d54ac6e\",\"dateList\":1601596800000},{\"list\":\"ITP - Recursão - Lista\",\"mediaListClass\":75.0,\"user\":\"Pedro Garcia Pereira \",\"registration\":\" 20190040658\",\"medialist\":25.0,\"id_list\":\"d92afa9b-2def-4faf-9889-17bdf68642bf\",\"dateList\":1602115200000},{\"list\":\"ITP - Matriz - Lista\",\"mediaListClass\":69.6428571429,\"user\":\"Pedro Garcia Pereira \",\"registration\":\" 20190040658\",\"medialist\":100.0,\"id_list\":\"1f2fb866-0bea-4475-b0af-e4a060b0904a\",\"dateList\":1602806400000},{\"list\":\"ITP - Ponteiros 1 - Lista\",\"mediaListClass\":58.3333333333,\"user\":\"Pedro Garcia Pereira \",\"registration\":\" 20190040658\",\"medialist\":50.0,\"id_list\":\"17ac33bf-c1f7-4d1b-92b6-6f76f41265c7\",\"dateList\":1603152000000},{\"list\":\"ITP - Structs e Enumerações - Lista\",\"mediaListClass\":25.0,\"user\":\"Pedro Garcia Pereira \",\"registration\":\" 20190040658\",\"medialist\":25.0,\"id_list\":\"6893c2d2-49b5-4476-8d0d-cf39313f0aec\",\"dateList\":1604016000000},{\"list\":\"ITP - Alocação dinâmica\",\"mediaListClass\":48.5714285714,\"user\":\"Pedro Garcia Pereira \",\"registration\":\" 20190040658\",\"medialist\":33.3333333333,\"id_list\":\"b4b1d413-503d-40ea-b93c-a21d1240d2e7\",\"dateList\":1605398400000},{\"list\":\"IMD0012 - 2020.6: Lista Obrigatória, Semana 1\",\"mediaListClass\":85.9770114943,\"user\":\"Pedro Henrique Dantas de Aragão Mendes \",\"registration\":\" 20190003681\",\"medialist\":66.6666666667,\"id_list\":\"1415f543-dd94-4e9e-a594-b4396b01093e\",\"dateList\":1597795200000},{\"list\":\"IMD0012 - 2020.6: Lista Obrigatória, Semana 1\",\"mediaListClass\":85.9770114943,\"user\":\"Pedro Leite \",\"registration\":\" 20190000830\",\"medialist\":100.0,\"id_list\":\"1415f543-dd94-4e9e-a594-b4396b01093e\",\"dateList\":1597795200000},{\"list\":\"ITP - Funções - Lista\",\"mediaListClass\":67.3611111111,\"user\":\"Pedro Leite \",\"registration\":\" 20190000830\",\"medialist\":25.0,\"id_list\":\"d4074937-3f5c-4666-ab4e-29f82d54ac6e\",\"dateList\":1601596800000},{\"list\":\"ITP - Alocação dinâmica\",\"mediaListClass\":48.5714285714,\"user\":\"Pedro Leite \",\"registration\":\" 20190000830\",\"medialist\":60.0,\"id_list\":\"b4b1d413-503d-40ea-b93c-a21d1240d2e7\",\"dateList\":1605398400000},{\"list\":\"IMD0012 - 2020.6: Lista Obrigatória, Semana 1\",\"mediaListClass\":85.9770114943,\"user\":\"Samuel Souza \",\"registration\":\" 20200046160\",\"medialist\":100.0,\"id_list\":\"1415f543-dd94-4e9e-a594-b4396b01093e\",\"dateList\":1597795200000},{\"list\":\"ITP - Alocação dinâmica\",\"mediaListClass\":48.5714285714,\"user\":\"Samuel Souza \",\"registration\":\" 20200046160\",\"medialist\":100.0,\"id_list\":\"b4b1d413-503d-40ea-b93c-a21d1240d2e7\",\"dateList\":1605398400000},{\"list\":\"IMD0012 - 2020.6: Lista Obrigatória, Semana 1\",\"mediaListClass\":85.9770114943,\"user\":\"Tales Vinícius de Medeiros Alves \",\"registration\":\" 20200040685\",\"medialist\":100.0,\"id_list\":\"1415f543-dd94-4e9e-a594-b4396b01093e\",\"dateList\":1597795200000},{\"list\":\"ITP - Laços\",\"mediaListClass\":88.75,\"user\":\"Tales Vinícius de Medeiros Alves \",\"registration\":\" 20200040685\",\"medialist\":100.0,\"id_list\":\"12211c46-2fda-4392-99ce-a0dfc306a5e1\",\"dateList\":1599436800000},{\"list\":\"IMD0012 - 2020.6: Lista Preparatória, Semana 3\",\"mediaListClass\":63.3928571429,\"user\":\"Tales Vinícius de Medeiros Alves \",\"registration\":\" 20200040685\",\"medialist\":100.0,\"id_list\":\"8123c646-d8a5-46ab-8331-fd152f7cbf22\",\"dateList\":1599868800000},{\"list\":\"ITP - Strings - Lista\",\"mediaListClass\":78.125,\"user\":\"Tales Vinícius de Medeiros Alves \",\"registration\":\" 20200040685\",\"medialist\":100.0,\"id_list\":\"fb49ae2e-562f-4b90-8b4b-c73e40507dc8\",\"dateList\":1600732800000},{\"list\":\"ITP - Funções - Lista\",\"mediaListClass\":67.3611111111,\"user\":\"Tales Vinícius de Medeiros Alves \",\"registration\":\" 20200040685\",\"medialist\":100.0,\"id_list\":\"d4074937-3f5c-4666-ab4e-29f82d54ac6e\",\"dateList\":1601596800000},{\"list\":\"ITP - Matriz - Lista\",\"mediaListClass\":69.6428571429,\"user\":\"Tales Vinícius de Medeiros Alves \",\"registration\":\" 20200040685\",\"medialist\":100.0,\"id_list\":\"1f2fb866-0bea-4475-b0af-e4a060b0904a\",\"dateList\":1602806400000},{\"list\":\"ITP - Ponteiros 1 - Lista\",\"mediaListClass\":58.3333333333,\"user\":\"Tales Vinícius de Medeiros Alves \",\"registration\":\" 20200040685\",\"medialist\":75.0,\"id_list\":\"17ac33bf-c1f7-4d1b-92b6-6f76f41265c7\",\"dateList\":1603152000000},{\"list\":\"ITP - Structs e Enumerações - Lista\",\"mediaListClass\":25.0,\"user\":\"Tales Vinícius de Medeiros Alves \",\"registration\":\" 20200040685\",\"medialist\":25.0,\"id_list\":\"6893c2d2-49b5-4476-8d0d-cf39313f0aec\",\"dateList\":1604016000000},{\"list\":\"IMD0012 - 2020.6: Lista Obrigatória, Semana 1\",\"mediaListClass\":85.9770114943,\"user\":\"Vitória Morais \",\"registration\":\" 20190046571\",\"medialist\":100.0,\"id_list\":\"1415f543-dd94-4e9e-a594-b4396b01093e\",\"dateList\":1597795200000},{\"list\":\"ITP - Laços\",\"mediaListClass\":88.75,\"user\":\"Vitória Morais \",\"registration\":\" 20190046571\",\"medialist\":100.0,\"id_list\":\"12211c46-2fda-4392-99ce-a0dfc306a5e1\",\"dateList\":1599436800000},{\"list\":\"IMD0012 - 2020.6: Lista Preparatória, Semana 3\",\"mediaListClass\":63.3928571429,\"user\":\"Vitória Morais \",\"registration\":\" 20190046571\",\"medialist\":50.0,\"id_list\":\"8123c646-d8a5-46ab-8331-fd152f7cbf22\",\"dateList\":1599868800000},{\"list\":\"ITP - Matriz - Lista\",\"mediaListClass\":69.6428571429,\"user\":\"Vitória Morais \",\"registration\":\" 20190046571\",\"medialist\":0.0,\"id_list\":\"1f2fb866-0bea-4475-b0af-e4a060b0904a\",\"dateList\":1602806400000},{\"list\":\"IMD0012 - 2020.6: Lista Obrigatória, Semana 1\",\"mediaListClass\":85.9770114943,\"user\":\"Vítor Dantas Costa \",\"registration\":\" 20190146700\",\"medialist\":100.0,\"id_list\":\"1415f543-dd94-4e9e-a594-b4396b01093e\",\"dateList\":1597795200000},{\"list\":\"ITP - Laços\",\"mediaListClass\":88.75,\"user\":\"Vítor Dantas Costa \",\"registration\":\" 20190146700\",\"medialist\":100.0,\"id_list\":\"12211c46-2fda-4392-99ce-a0dfc306a5e1\",\"dateList\":1599436800000},{\"list\":\"IMD0012 - 2020.6: Lista Preparatória, Semana 3\",\"mediaListClass\":63.3928571429,\"user\":\"Vítor Dantas Costa \",\"registration\":\" 20190146700\",\"medialist\":100.0,\"id_list\":\"8123c646-d8a5-46ab-8331-fd152f7cbf22\",\"dateList\":1599868800000},{\"list\":\"ITP - Strings - Lista\",\"mediaListClass\":78.125,\"user\":\"Vítor Dantas Costa \",\"registration\":\" 20190146700\",\"medialist\":100.0,\"id_list\":\"fb49ae2e-562f-4b90-8b4b-c73e40507dc8\",\"dateList\":1600732800000},{\"list\":\"ITP - Funções - Lista\",\"mediaListClass\":67.3611111111,\"user\":\"Vítor Dantas Costa \",\"registration\":\" 20190146700\",\"medialist\":100.0,\"id_list\":\"d4074937-3f5c-4666-ab4e-29f82d54ac6e\",\"dateList\":1601596800000},{\"list\":\"ITP - Matriz - Lista\",\"mediaListClass\":69.6428571429,\"user\":\"Vítor Dantas Costa \",\"registration\":\" 20190146700\",\"medialist\":87.5,\"id_list\":\"1f2fb866-0bea-4475-b0af-e4a060b0904a\",\"dateList\":1602806400000},{\"list\":\"ITP - Ponteiros 1 - Lista\",\"mediaListClass\":58.3333333333,\"user\":\"Vítor Dantas Costa \",\"registration\":\" 20190146700\",\"medialist\":50.0,\"id_list\":\"17ac33bf-c1f7-4d1b-92b6-6f76f41265c7\",\"dateList\":1603152000000},{\"list\":\"ITP - Ponteiros 2 -  Lista\",\"mediaListClass\":25.0,\"user\":\"Vítor Dantas Costa \",\"registration\":\" 20190146700\",\"medialist\":0.0,\"id_list\":\"2f5b561c-c3f0-4566-a357-625f0edbdb01\",\"dateList\":1604793600000},{\"list\":\"IMD0012 - 2020.6: Lista Obrigatória, Semana 1\",\"mediaListClass\":85.9770114943,\"user\":\"alyssonblack \",\"registration\":\" 20170070435\",\"medialist\":100.0,\"id_list\":\"1415f543-dd94-4e9e-a594-b4396b01093e\",\"dateList\":1597795200000},{\"list\":\"IMD0012 - 2020.6: Lista Obrigatória, Semana 1\",\"mediaListClass\":85.9770114943,\"user\":\"ellen Melo \",\"registration\":\" 20190105224\",\"medialist\":100.0,\"id_list\":\"1415f543-dd94-4e9e-a594-b4396b01093e\",\"dateList\":1597795200000},{\"list\":\"ITP - Laços\",\"mediaListClass\":88.75,\"user\":\"ellen Melo \",\"registration\":\" 20190105224\",\"medialist\":100.0,\"id_list\":\"12211c46-2fda-4392-99ce-a0dfc306a5e1\",\"dateList\":1599436800000},{\"list\":\"IMD0012 - 2020.6: Lista Preparatória, Semana 3\",\"mediaListClass\":63.3928571429,\"user\":\"ellen Melo \",\"registration\":\" 20190105224\",\"medialist\":12.5,\"id_list\":\"8123c646-d8a5-46ab-8331-fd152f7cbf22\",\"dateList\":1599868800000},{\"list\":\"IMD0012 - 2020.6: Lista Obrigatória, Semana 1\",\"mediaListClass\":85.9770114943,\"user\":\"enzo lopes danjour de souza \",\"registration\":\" 20190035658\",\"medialist\":100.0,\"id_list\":\"1415f543-dd94-4e9e-a594-b4396b01093e\",\"dateList\":1597795200000},{\"list\":\"ITP - Laços\",\"mediaListClass\":88.75,\"user\":\"enzo lopes danjour de souza \",\"registration\":\" 20190035658\",\"medialist\":100.0,\"id_list\":\"12211c46-2fda-4392-99ce-a0dfc306a5e1\",\"dateList\":1599436800000},{\"list\":\"IMD0012 - 2020.6: Lista Preparatória, Semana 3\",\"mediaListClass\":63.3928571429,\"user\":\"enzo lopes danjour de souza \",\"registration\":\" 20190035658\",\"medialist\":75.0,\"id_list\":\"8123c646-d8a5-46ab-8331-fd152f7cbf22\",\"dateList\":1599868800000},{\"list\":\"ITP - Strings - Lista\",\"mediaListClass\":78.125,\"user\":\"marciotenorio \",\"registration\":\" 20180119880\",\"medialist\":25.0,\"id_list\":\"fb49ae2e-562f-4b90-8b4b-c73e40507dc8\",\"dateList\":1600732800000},{\"list\":\"ITP - Funções - Lista\",\"mediaListClass\":67.3611111111,\"user\":\"marciotenorio \",\"registration\":\" 20180119880\",\"medialist\":25.0,\"id_list\":\"d4074937-3f5c-4666-ab4e-29f82d54ac6e\",\"dateList\":1601596800000}],\"GTNP\":[{\"test\":\"ITP - Funções - Prova\",\"mediaTestClass\":86.6666666667,\"user\":\"ANTONIO AUGUSTO DE LIMA SILVA \",\"registration\":\" 20180069652\",\"mediatest\":75.0},{\"test\":\"ITP - Laços - Prova\",\"mediaTestClass\":80.9482758621,\"user\":\"ANTONIO AUGUSTO DE LIMA SILVA \",\"registration\":\" 20180069652\",\"mediatest\":65.0},{\"test\":\"ITP - Matriz - Prova\",\"mediaTestClass\":80.1724137931,\"user\":\"ANTONIO AUGUSTO DE LIMA SILVA \",\"registration\":\" 20180069652\",\"mediatest\":58.3325},{\"test\":\"ITP - Recursão - Prova\",\"mediaTestClass\":51.0794318182,\"user\":\"ANTONIO AUGUSTO DE LIMA SILVA \",\"registration\":\" 20180069652\",\"mediatest\":25.0},{\"test\":\"ITP - Strings - Prova\",\"mediaTestClass\":75.8064516129,\"user\":\"ANTONIO AUGUSTO DE LIMA SILVA \",\"registration\":\" 20180069652\",\"mediatest\":50.0},{\"test\":\"ITP - Vetores - Prova\",\"mediaTestClass\":84.0517241379,\"user\":\"ANTONIO AUGUSTO DE LIMA SILVA \",\"registration\":\" 20180069652\",\"mediatest\":62.5},{\"test\":\"ITP Lista 0\",\"mediaTestClass\":83.18140625,\"user\":\"ANTONIO AUGUSTO DE LIMA SILVA \",\"registration\":\" 20180069652\",\"mediatest\":100.0},{\"test\":\"ITP - Funções - Prova\",\"mediaTestClass\":86.6666666667,\"user\":\"Abílio Fontenelle \",\"registration\":\" 20180067952\",\"mediatest\":100.0},{\"test\":\"ITP - Laços - Prova\",\"mediaTestClass\":80.9482758621,\"user\":\"Abílio Fontenelle \",\"registration\":\" 20180067952\",\"mediatest\":75.0},{\"test\":\"ITP - Matriz - Prova\",\"mediaTestClass\":80.1724137931,\"user\":\"Abílio Fontenelle \",\"registration\":\" 20180067952\",\"mediatest\":50.0},{\"test\":\"ITP - Ponteiros 1 - Prova\",\"mediaTestClass\":46.8297826087,\"user\":\"Abílio Fontenelle \",\"registration\":\" 20180067952\",\"mediatest\":50.0},{\"test\":\"ITP - Ponteiros 2 - Prova\",\"mediaTestClass\":38.2576136364,\"user\":\"Abílio Fontenelle \",\"registration\":\" 20180067952\",\"mediatest\":25.0},{\"test\":\"ITP - Recursão - Prova\",\"mediaTestClass\":51.0794318182,\"user\":\"Abílio Fontenelle \",\"registration\":\" 20180067952\",\"mediatest\":12.5},{\"test\":\"ITP - Strings - Prova\",\"mediaTestClass\":75.8064516129,\"user\":\"Abílio Fontenelle \",\"registration\":\" 20180067952\",\"mediatest\":50.0},{\"test\":\"ITP - Structs e Enumerações - Prova\",\"mediaTestClass\":24.3421052632,\"user\":\"Abílio Fontenelle \",\"registration\":\" 20180067952\",\"mediatest\":0.0},{\"test\":\"ITP - Vetores - Prova\",\"mediaTestClass\":84.0517241379,\"user\":\"Abílio Fontenelle \",\"registration\":\" 20180067952\",\"mediatest\":100.0},{\"test\":\"ITP Lista 0\",\"mediaTestClass\":83.18140625,\"user\":\"Abílio Fontenelle \",\"registration\":\" 20180067952\",\"mediatest\":100.0},{\"test\":\"ITP - Alocação dinâmica - Prova\",\"mediaTestClass\":52.380952381,\"user\":\"Allef Vinicius \",\"registration\":\" 20180069714\",\"mediatest\":66.6666666667},{\"test\":\"ITP - Funções - Prova\",\"mediaTestClass\":86.6666666667,\"user\":\"Allef Vinicius \",\"registration\":\" 20180069714\",\"mediatest\":100.0},{\"test\":\"ITP - Matriz - Prova\",\"mediaTestClass\":80.1724137931,\"user\":\"Allef Vinicius \",\"registration\":\" 20180069714\",\"mediatest\":100.0},{\"test\":\"ITP - Ponteiros 1 - Prova\",\"mediaTestClass\":46.8297826087,\"user\":\"Allef Vinicius \",\"registration\":\" 20180069714\",\"mediatest\":75.0},{\"test\":\"ITP - Ponteiros 2 - Prova\",\"mediaTestClass\":38.2576136364,\"user\":\"Allef Vinicius \",\"registration\":\" 20180069714\",\"mediatest\":50.0},{\"test\":\"ITP - Recursão - Prova\",\"mediaTestClass\":51.0794318182,\"user\":\"Allef Vinicius \",\"registration\":\" 20180069714\",\"mediatest\":25.0},{\"test\":\"ITP - Strings - Prova\",\"mediaTestClass\":75.8064516129,\"user\":\"Allef Vinicius \",\"registration\":\" 20180069714\",\"mediatest\":100.0},{\"test\":\"ITP - Structs e Enumerações - Prova\",\"mediaTestClass\":24.3421052632,\"user\":\"Allef Vinicius \",\"registration\":\" 20180069714\",\"mediatest\":25.0},{\"test\":\"ITP - Vetores - Prova\",\"mediaTestClass\":84.0517241379,\"user\":\"Allef Vinicius \",\"registration\":\" 20180069714\",\"mediatest\":100.0},{\"test\":\"ITP - Alocação dinâmica - Prova\",\"mediaTestClass\":52.380952381,\"user\":\"André Luiz Rodrigues Soares \",\"registration\":\" 20180001960\",\"mediatest\":100.0},{\"test\":\"ITP - Funções - Prova\",\"mediaTestClass\":86.6666666667,\"user\":\"André Luiz Rodrigues Soares \",\"registration\":\" 20180001960\",\"mediatest\":100.0},{\"test\":\"ITP - Laços - Prova\",\"mediaTestClass\":80.9482758621,\"user\":\"André Luiz Rodrigues Soares \",\"registration\":\" 20180001960\",\"mediatest\":100.0},{\"test\":\"ITP - Matriz - Prova\",\"mediaTestClass\":80.1724137931,\"user\":\"André Luiz Rodrigues Soares \",\"registration\":\" 20180001960\",\"mediatest\":100.0},{\"test\":\"ITP - Ponteiros 1 - Prova\",\"mediaTestClass\":46.8297826087,\"user\":\"André Luiz Rodrigues Soares \",\"registration\":\" 20180001960\",\"mediatest\":29.1675},{\"test\":\"ITP - Recursão - Prova\",\"mediaTestClass\":51.0794318182,\"user\":\"André Luiz Rodrigues Soares \",\"registration\":\" 20180001960\",\"mediatest\":80.0},{\"test\":\"ITP - Strings - Prova\",\"mediaTestClass\":75.8064516129,\"user\":\"André Luiz Rodrigues Soares \",\"registration\":\" 20180001960\",\"mediatest\":100.0},{\"test\":\"ITP - Structs e Enumerações - Prova\",\"mediaTestClass\":24.3421052632,\"user\":\"André Luiz Rodrigues Soares \",\"registration\":\" 20180001960\",\"mediatest\":0.0},{\"test\":\"ITP - Vetores - Prova\",\"mediaTestClass\":84.0517241379,\"user\":\"André Luiz Rodrigues Soares \",\"registration\":\" 20180001960\",\"mediatest\":100.0},{\"test\":\"ITP Lista 0\",\"mediaTestClass\":83.18140625,\"user\":\"André Luiz Rodrigues Soares \",\"registration\":\" 20180001960\",\"mediatest\":100.0},{\"test\":\"ITP - Funções - Prova\",\"mediaTestClass\":86.6666666667,\"user\":\"Arthur Learth \",\"registration\":\" 20180071294\",\"mediatest\":0.0},{\"test\":\"ITP - Matriz - Prova\",\"mediaTestClass\":80.1724137931,\"user\":\"Arthur Learth \",\"registration\":\" 20180071294\",\"mediatest\":50.0},{\"test\":\"ITP - Recursão - Prova\",\"mediaTestClass\":51.0794318182,\"user\":\"Arthur Learth \",\"registration\":\" 20180071294\",\"mediatest\":50.0},{\"test\":\"ITP - Strings - Prova\",\"mediaTestClass\":75.8064516129,\"user\":\"Arthur Learth \",\"registration\":\" 20180071294\",\"mediatest\":31.25},{\"test\":\"ITP - Structs e Enumerações - Prova\",\"mediaTestClass\":24.3421052632,\"user\":\"Arthur Learth \",\"registration\":\" 20180071294\",\"mediatest\":0.0},{\"test\":\"ITP - Vetores - Prova\",\"mediaTestClass\":84.0517241379,\"user\":\"Arthur Learth \",\"registration\":\" 20180071294\",\"mediatest\":56.25},{\"test\":\"ITP 2020.6 - T02 - Reposicao\",\"mediaTestClass\":0.0,\"user\":\"Arthur Learth \",\"registration\":\" 20180071294\",\"mediatest\":0.0},{\"test\":\"ITP Lista 0\",\"mediaTestClass\":83.18140625,\"user\":\"Arthur Learth \",\"registration\":\" 20180071294\",\"mediatest\":87.5},{\"test\":\"ITP - Alocação dinâmica - Prova\",\"mediaTestClass\":52.380952381,\"user\":\"Daniel \",\"registration\":\" 20190046016\",\"mediatest\":33.3333333333},{\"test\":\"ITP - Funções - Prova\",\"mediaTestClass\":86.6666666667,\"user\":\"Daniel \",\"registration\":\" 20190046016\",\"mediatest\":100.0},{\"test\":\"ITP - Matriz - Prova\",\"mediaTestClass\":80.1724137931,\"user\":\"Daniel \",\"registration\":\" 20190046016\",\"mediatest\":87.5},{\"test\":\"ITP - Ponteiros 1 - Prova\",\"mediaTestClass\":46.8297826087,\"user\":\"Daniel \",\"registration\":\" 20190046016\",\"mediatest\":75.0},{\"test\":\"ITP - Ponteiros 2 - Prova\",\"mediaTestClass\":38.2576136364,\"user\":\"Daniel \",\"registration\":\" 20190046016\",\"mediatest\":25.0},{\"test\":\"ITP - Recursão - Prova\",\"mediaTestClass\":51.0794318182,\"user\":\"Daniel \",\"registration\":\" 20190046016\",\"mediatest\":50.0},{\"test\":\"ITP - Strings - Prova\",\"mediaTestClass\":75.8064516129,\"user\":\"Daniel \",\"registration\":\" 20190046016\",\"mediatest\":100.0},{\"test\":\"ITP - Structs e Enumerações - Prova\",\"mediaTestClass\":24.3421052632,\"user\":\"Daniel \",\"registration\":\" 20190046016\",\"mediatest\":62.5},{\"test\":\"ITP - Vetores - Prova\",\"mediaTestClass\":84.0517241379,\"user\":\"Daniel \",\"registration\":\" 20190046016\",\"mediatest\":25.0},{\"test\":\"ITP - Alocação dinâmica - Prova\",\"mediaTestClass\":52.380952381,\"user\":\"Deborah Dantas \",\"registration\":\" 20190036691\",\"mediatest\":0.0},{\"test\":\"ITP - Funções - Prova\",\"mediaTestClass\":86.6666666667,\"user\":\"Deborah Dantas \",\"registration\":\" 20190036691\",\"mediatest\":75.0},{\"test\":\"ITP - Laços - Prova\",\"mediaTestClass\":80.9482758621,\"user\":\"Deborah Dantas \",\"registration\":\" 20190036691\",\"mediatest\":90.0},{\"test\":\"ITP - Matriz - Prova\",\"mediaTestClass\":80.1724137931,\"user\":\"Deborah Dantas \",\"registration\":\" 20190036691\",\"mediatest\":50.0},{\"test\":\"ITP - Ponteiros 1 - Prova\",\"mediaTestClass\":46.8297826087,\"user\":\"Deborah Dantas \",\"registration\":\" 20190036691\",\"mediatest\":25.0},{\"test\":\"ITP - Ponteiros 2 - Prova\",\"mediaTestClass\":38.2576136364,\"user\":\"Deborah Dantas \",\"registration\":\" 20190036691\",\"mediatest\":25.0},{\"test\":\"ITP - Recursão - Prova\",\"mediaTestClass\":51.0794318182,\"user\":\"Deborah Dantas \",\"registration\":\" 20190036691\",\"mediatest\":25.0},{\"test\":\"ITP - Strings - Prova\",\"mediaTestClass\":75.8064516129,\"user\":\"Deborah Dantas \",\"registration\":\" 20190036691\",\"mediatest\":50.0},{\"test\":\"ITP - Vetores - Prova\",\"mediaTestClass\":84.0517241379,\"user\":\"Deborah Dantas \",\"registration\":\" 20190036691\",\"mediatest\":81.25},{\"test\":\"ITP Lista 0\",\"mediaTestClass\":83.18140625,\"user\":\"Deborah Dantas \",\"registration\":\" 20190036691\",\"mediatest\":93.75},{\"test\":\"ITP - Funções - Prova\",\"mediaTestClass\":86.6666666667,\"user\":\"Dimitri Lima \",\"registration\":\" Ufrn\",\"mediatest\":75.0},{\"test\":\"ITP - Laços - Prova\",\"mediaTestClass\":80.9482758621,\"user\":\"Dimitri Lima \",\"registration\":\" Ufrn\",\"mediatest\":87.5},{\"test\":\"ITP - Matriz - Prova\",\"mediaTestClass\":80.1724137931,\"user\":\"Dimitri Lima \",\"registration\":\" Ufrn\",\"mediatest\":100.0},{\"test\":\"ITP - Ponteiros 1 - Prova\",\"mediaTestClass\":46.8297826087,\"user\":\"Dimitri Lima \",\"registration\":\" Ufrn\",\"mediatest\":62.5},{\"test\":\"ITP - Ponteiros 2 - Prova\",\"mediaTestClass\":38.2576136364,\"user\":\"Dimitri Lima \",\"registration\":\" Ufrn\",\"mediatest\":25.0},{\"test\":\"ITP - Recursão - Prova\",\"mediaTestClass\":51.0794318182,\"user\":\"Dimitri Lima \",\"registration\":\" Ufrn\",\"mediatest\":68.75},{\"test\":\"ITP - Strings - Prova\",\"mediaTestClass\":75.8064516129,\"user\":\"Dimitri Lima \",\"registration\":\" Ufrn\",\"mediatest\":75.0},{\"test\":\"ITP - Structs e Enumerações - Prova\",\"mediaTestClass\":24.3421052632,\"user\":\"Dimitri Lima \",\"registration\":\" Ufrn\",\"mediatest\":0.0},{\"test\":\"ITP - Vetores - Prova\",\"mediaTestClass\":84.0517241379,\"user\":\"Dimitri Lima \",\"registration\":\" Ufrn\",\"mediatest\":93.75},{\"test\":\"ITP Lista 0\",\"mediaTestClass\":83.18140625,\"user\":\"Dimitri Lima \",\"registration\":\" Ufrn\",\"mediatest\":100.0},{\"test\":\"ITP - Funções - Prova\",\"mediaTestClass\":86.6666666667,\"user\":\"Felipe Costa \",\"registration\":\" 20190043453\",\"mediatest\":100.0},{\"test\":\"ITP - Laços - Prova\",\"mediaTestClass\":80.9482758621,\"user\":\"Felipe Costa \",\"registration\":\" 20190043453\",\"mediatest\":100.0},{\"test\":\"ITP - Matriz - Prova\",\"mediaTestClass\":80.1724137931,\"user\":\"Felipe Costa \",\"registration\":\" 20190043453\",\"mediatest\":100.0},{\"test\":\"ITP - Ponteiros 1 - Prova\",\"mediaTestClass\":46.8297826087,\"user\":\"Felipe Costa \",\"registration\":\" 20190043453\",\"mediatest\":25.0},{\"test\":\"ITP - Recursão - Prova\",\"mediaTestClass\":51.0794318182,\"user\":\"Felipe Costa \",\"registration\":\" 20190043453\",\"mediatest\":100.0},{\"test\":\"ITP - Strings - Prova\",\"mediaTestClass\":75.8064516129,\"user\":\"Felipe Costa \",\"registration\":\" 20190043453\",\"mediatest\":100.0},{\"test\":\"ITP - Structs e Enumerações - Prova\",\"mediaTestClass\":24.3421052632,\"user\":\"Felipe Costa \",\"registration\":\" 20190043453\",\"mediatest\":0.0},{\"test\":\"ITP - Vetores - Prova\",\"mediaTestClass\":84.0517241379,\"user\":\"Felipe Costa \",\"registration\":\" 20190043453\",\"mediatest\":100.0},{\"test\":\"ITP Lista 0\",\"mediaTestClass\":83.18140625,\"user\":\"Felipe Costa \",\"registration\":\" 20190043453\",\"mediatest\":100.0},{\"test\":\"ITP - Funções - Prova\",\"mediaTestClass\":86.6666666667,\"user\":\"GABRIEL FERNANDES LAURINDO \",\"registration\":\" 20190126761\",\"mediatest\":50.0},{\"test\":\"ITP - Laços - Prova\",\"mediaTestClass\":80.9482758621,\"user\":\"GABRIEL FERNANDES LAURINDO \",\"registration\":\" 20190126761\",\"mediatest\":75.0},{\"test\":\"ITP - Matriz - Prova\",\"mediaTestClass\":80.1724137931,\"user\":\"GABRIEL FERNANDES LAURINDO \",\"registration\":\" 20190126761\",\"mediatest\":66.6675},{\"test\":\"ITP - Ponteiros 1 - Prova\",\"mediaTestClass\":46.8297826087,\"user\":\"GABRIEL FERNANDES LAURINDO \",\"registration\":\" 20190126761\",\"mediatest\":56.25},{\"test\":\"ITP - Ponteiros 2 - Prova\",\"mediaTestClass\":38.2576136364,\"user\":\"GABRIEL FERNANDES LAURINDO \",\"registration\":\" 20190126761\",\"mediatest\":0.0},{\"test\":\"ITP - Recursão - Prova\",\"mediaTestClass\":51.0794318182,\"user\":\"GABRIEL FERNANDES LAURINDO \",\"registration\":\" 20190126761\",\"mediatest\":25.0},{\"test\":\"ITP - Strings - Prova\",\"mediaTestClass\":75.8064516129,\"user\":\"GABRIEL FERNANDES LAURINDO \",\"registration\":\" 20190126761\",\"mediatest\":75.0},{\"test\":\"ITP - Structs e Enumerações - Prova\",\"mediaTestClass\":24.3421052632,\"user\":\"GABRIEL FERNANDES LAURINDO \",\"registration\":\" 20190126761\",\"mediatest\":0.0},{\"test\":\"ITP - Vetores - Prova\",\"mediaTestClass\":84.0517241379,\"user\":\"GABRIEL FERNANDES LAURINDO \",\"registration\":\" 20190126761\",\"mediatest\":75.0},{\"test\":\"ITP Lista 0\",\"mediaTestClass\":83.18140625,\"user\":\"GABRIEL FERNANDES LAURINDO \",\"registration\":\" 20190126761\",\"mediatest\":100.0},{\"test\":\"ITP - Alocação dinâmica - Prova\",\"mediaTestClass\":52.380952381,\"user\":\"Gabriel Bassani \",\"registration\":\" 20190043794\",\"mediatest\":100.0},{\"test\":\"ITP - Funções - Prova\",\"mediaTestClass\":86.6666666667,\"user\":\"Gabriel Bassani \",\"registration\":\" 20190043794\",\"mediatest\":100.0},{\"test\":\"ITP - Laços - Prova\",\"mediaTestClass\":80.9482758621,\"user\":\"Gabriel Bassani \",\"registration\":\" 20190043794\",\"mediatest\":100.0},{\"test\":\"ITP - Matriz - Prova\",\"mediaTestClass\":80.1724137931,\"user\":\"Gabriel Bassani \",\"registration\":\" 20190043794\",\"mediatest\":100.0},{\"test\":\"ITP - Ponteiros 1 - Prova\",\"mediaTestClass\":46.8297826087,\"user\":\"Gabriel Bassani \",\"registration\":\" 20190043794\",\"mediatest\":75.0},{\"test\":\"ITP - Ponteiros 2 - Prova\",\"mediaTestClass\":38.2576136364,\"user\":\"Gabriel Bassani \",\"registration\":\" 20190043794\",\"mediatest\":75.0},{\"test\":\"ITP - Recursão - Prova\",\"mediaTestClass\":51.0794318182,\"user\":\"Gabriel Bassani \",\"registration\":\" 20190043794\",\"mediatest\":75.0},{\"test\":\"ITP - Strings - Prova\",\"mediaTestClass\":75.8064516129,\"user\":\"Gabriel Bassani \",\"registration\":\" 20190043794\",\"mediatest\":100.0},{\"test\":\"ITP - Structs e Enumerações - Prova\",\"mediaTestClass\":24.3421052632,\"user\":\"Gabriel Bassani \",\"registration\":\" 20190043794\",\"mediatest\":25.0},{\"test\":\"ITP - Vetores - Prova\",\"mediaTestClass\":84.0517241379,\"user\":\"Gabriel Bassani \",\"registration\":\" 20190043794\",\"mediatest\":100.0},{\"test\":\"ITP Lista 0\",\"mediaTestClass\":83.18140625,\"user\":\"Gabriel Bassani \",\"registration\":\" 20190043794\",\"mediatest\":100.0},{\"test\":\"ITP - Alocação dinâmica - Prova\",\"mediaTestClass\":52.380952381,\"user\":\"Gabriel Vinícius Lima da Costa Medeiros \",\"registration\":\" 20190041978\",\"mediatest\":33.3333333333},{\"test\":\"ITP - Funções - Prova\",\"mediaTestClass\":86.6666666667,\"user\":\"Gabriel Vinícius Lima da Costa Medeiros \",\"registration\":\" 20190041978\",\"mediatest\":100.0},{\"test\":\"ITP - Laços - Prova\",\"mediaTestClass\":80.9482758621,\"user\":\"Gabriel Vinícius Lima da Costa Medeiros \",\"registration\":\" 20190041978\",\"mediatest\":100.0},{\"test\":\"ITP - Matriz - Prova\",\"mediaTestClass\":80.1724137931,\"user\":\"Gabriel Vinícius Lima da Costa Medeiros \",\"registration\":\" 20190041978\",\"mediatest\":100.0},{\"test\":\"ITP - Ponteiros 1 - Prova\",\"mediaTestClass\":46.8297826087,\"user\":\"Gabriel Vinícius Lima da Costa Medeiros \",\"registration\":\" 20190041978\",\"mediatest\":75.0},{\"test\":\"ITP - Ponteiros 2 - Prova\",\"mediaTestClass\":38.2576136364,\"user\":\"Gabriel Vinícius Lima da Costa Medeiros \",\"registration\":\" 20190041978\",\"mediatest\":25.0},{\"test\":\"ITP - Strings - Prova\",\"mediaTestClass\":75.8064516129,\"user\":\"Gabriel Vinícius Lima da Costa Medeiros \",\"registration\":\" 20190041978\",\"mediatest\":100.0},{\"test\":\"ITP - Structs e Enumerações - Prova\",\"mediaTestClass\":24.3421052632,\"user\":\"Gabriel Vinícius Lima da Costa Medeiros \",\"registration\":\" 20190041978\",\"mediatest\":50.0},{\"test\":\"ITP - Vetores - Prova\",\"mediaTestClass\":84.0517241379,\"user\":\"Gabriel Vinícius Lima da Costa Medeiros \",\"registration\":\" 20190041978\",\"mediatest\":100.0},{\"test\":\"ITP Lista 0\",\"mediaTestClass\":83.18140625,\"user\":\"Gabriel Vinícius Lima da Costa Medeiros \",\"registration\":\" 20190041978\",\"mediatest\":100.0},{\"test\":\"ITP - Funções - Prova\",\"mediaTestClass\":86.6666666667,\"user\":\"Guilherme Augusto Santana de Lima \",\"registration\":\" 20190044138\",\"mediatest\":100.0},{\"test\":\"ITP - Laços - Prova\",\"mediaTestClass\":80.9482758621,\"user\":\"Guilherme Augusto Santana de Lima \",\"registration\":\" 20190044138\",\"mediatest\":100.0},{\"test\":\"ITP - Matriz - Prova\",\"mediaTestClass\":80.1724137931,\"user\":\"Guilherme Augusto Santana de Lima \",\"registration\":\" 20190044138\",\"mediatest\":50.0},{\"test\":\"ITP - Strings - Prova\",\"mediaTestClass\":75.8064516129,\"user\":\"Guilherme Augusto Santana de Lima \",\"registration\":\" 20190044138\",\"mediatest\":50.0},{\"test\":\"ITP - Vetores - Prova\",\"mediaTestClass\":84.0517241379,\"user\":\"Guilherme Augusto Santana de Lima \",\"registration\":\" 20190044138\",\"mediatest\":37.5},{\"test\":\"ITP - Vetores - Prova\",\"mediaTestClass\":84.0517241379,\"user\":\"Iury Lamonie \",\"registration\":\" Monitor\",\"mediatest\":43.75},{\"test\":\"ITP - Alocação dinâmica - Prova\",\"mediaTestClass\":52.380952381,\"user\":\"Jackson D \",\"registration\":\" 20200038945\",\"mediatest\":33.3333333333},{\"test\":\"ITP - Funções - Prova\",\"mediaTestClass\":86.6666666667,\"user\":\"Jackson D \",\"registration\":\" 20200038945\",\"mediatest\":100.0},{\"test\":\"ITP - Laços - Prova\",\"mediaTestClass\":80.9482758621,\"user\":\"Jackson D \",\"registration\":\" 20200038945\",\"mediatest\":100.0},{\"test\":\"ITP - Matriz - Prova\",\"mediaTestClass\":80.1724137931,\"user\":\"Jackson D \",\"registration\":\" 20200038945\",\"mediatest\":100.0},{\"test\":\"ITP - Ponteiros 1 - Prova\",\"mediaTestClass\":46.8297826087,\"user\":\"Jackson D \",\"registration\":\" 20200038945\",\"mediatest\":47.9175},{\"test\":\"ITP - Ponteiros 2 - Prova\",\"mediaTestClass\":38.2576136364,\"user\":\"Jackson D \",\"registration\":\" 20200038945\",\"mediatest\":91.6675},{\"test\":\"ITP - Recursão - Prova\",\"mediaTestClass\":51.0794318182,\"user\":\"Jackson D \",\"registration\":\" 20200038945\",\"mediatest\":68.75},{\"test\":\"ITP - Strings - Prova\",\"mediaTestClass\":75.8064516129,\"user\":\"Jackson D \",\"registration\":\" 20200038945\",\"mediatest\":100.0},{\"test\":\"ITP - Structs e Enumerações - Prova\",\"mediaTestClass\":24.3421052632,\"user\":\"Jackson D \",\"registration\":\" 20200038945\",\"mediatest\":0.0},{\"test\":\"ITP - Vetores - Prova\",\"mediaTestClass\":84.0517241379,\"user\":\"Jackson D \",\"registration\":\" 20200038945\",\"mediatest\":100.0},{\"test\":\"ITP Lista 0\",\"mediaTestClass\":83.18140625,\"user\":\"Jackson D \",\"registration\":\" 20200038945\",\"mediatest\":100.0},{\"test\":\"ITP Lista 0\",\"mediaTestClass\":83.18140625,\"user\":\"Joao Victor Leandro \",\"registration\":\" 20190146693\",\"mediatest\":0.0},{\"test\":\"ITP Lista 0\",\"mediaTestClass\":83.18140625,\"user\":\"José Carvalho \",\"registration\":\" 20190048558\",\"mediatest\":25.0},{\"test\":\"ITP - Alocação dinâmica - Prova\",\"mediaTestClass\":52.380952381,\"user\":\"João Gabriel Trindade \",\"registration\":\" 20190010588\",\"mediatest\":33.3333333333},{\"test\":\"ITP - Funções - Prova\",\"mediaTestClass\":86.6666666667,\"user\":\"João Gabriel Trindade \",\"registration\":\" 20190010588\",\"mediatest\":100.0},{\"test\":\"ITP - Laços - Prova\",\"mediaTestClass\":80.9482758621,\"user\":\"João Gabriel Trindade \",\"registration\":\" 20190010588\",\"mediatest\":50.0},{\"test\":\"ITP - Matriz - Prova\",\"mediaTestClass\":80.1724137931,\"user\":\"João Gabriel Trindade \",\"registration\":\" 20190010588\",\"mediatest\":50.0},{\"test\":\"ITP - Ponteiros 1 - Prova\",\"mediaTestClass\":46.8297826087,\"user\":\"João Gabriel Trindade \",\"registration\":\" 20190010588\",\"mediatest\":50.0},{\"test\":\"ITP - Ponteiros 2 - Prova\",\"mediaTestClass\":38.2576136364,\"user\":\"João Gabriel Trindade \",\"registration\":\" 20190010588\",\"mediatest\":50.0},{\"test\":\"ITP - Strings - Prova\",\"mediaTestClass\":75.8064516129,\"user\":\"João Gabriel Trindade \",\"registration\":\" 20190010588\",\"mediatest\":75.0},{\"test\":\"ITP - Structs e Enumerações - Prova\",\"mediaTestClass\":24.3421052632,\"user\":\"João Gabriel Trindade \",\"registration\":\" 20190010588\",\"mediatest\":50.0},{\"test\":\"ITP - Vetores - Prova\",\"mediaTestClass\":84.0517241379,\"user\":\"João Gabriel Trindade \",\"registration\":\" 20190010588\",\"mediatest\":87.5},{\"test\":\"ITP Lista 0\",\"mediaTestClass\":83.18140625,\"user\":\"João Gabriel Trindade \",\"registration\":\" 20190010588\",\"mediatest\":100.0},{\"test\":\"ITP - Matriz - Prova\",\"mediaTestClass\":80.1724137931,\"user\":\"João Maria Mauricio \",\"registration\":\" 20180118944\",\"mediatest\":62.5},{\"test\":\"ITP - Funções - Prova\",\"mediaTestClass\":86.6666666667,\"user\":\"Lucas da Costa Fontes \",\"registration\":\" 20180122141\",\"mediatest\":100.0},{\"test\":\"ITP - Laços - Prova\",\"mediaTestClass\":80.9482758621,\"user\":\"Lucas da Costa Fontes \",\"registration\":\" 20180122141\",\"mediatest\":50.0},{\"test\":\"ITP - Matriz - Prova\",\"mediaTestClass\":80.1724137931,\"user\":\"Lucas da Costa Fontes \",\"registration\":\" 20180122141\",\"mediatest\":100.0},{\"test\":\"ITP - Ponteiros 1 - Prova\",\"mediaTestClass\":46.8297826087,\"user\":\"Lucas da Costa Fontes \",\"registration\":\" 20180122141\",\"mediatest\":6.25},{\"test\":\"ITP - Ponteiros 2 - Prova\",\"mediaTestClass\":38.2576136364,\"user\":\"Lucas da Costa Fontes \",\"registration\":\" 20180122141\",\"mediatest\":50.0},{\"test\":\"ITP - Recursão - Prova\",\"mediaTestClass\":51.0794318182,\"user\":\"Lucas da Costa Fontes \",\"registration\":\" 20180122141\",\"mediatest\":75.0},{\"test\":\"ITP - Strings - Prova\",\"mediaTestClass\":75.8064516129,\"user\":\"Lucas da Costa Fontes \",\"registration\":\" 20180122141\",\"mediatest\":75.0},{\"test\":\"ITP - Structs e Enumerações - Prova\",\"mediaTestClass\":24.3421052632,\"user\":\"Lucas da Costa Fontes \",\"registration\":\" 20180122141\",\"mediatest\":0.0},{\"test\":\"ITP - Vetores - Prova\",\"mediaTestClass\":84.0517241379,\"user\":\"Lucas da Costa Fontes \",\"registration\":\" 20180122141\",\"mediatest\":100.0},{\"test\":\"ITP Lista 0\",\"mediaTestClass\":83.18140625,\"user\":\"Lucas da Costa Fontes \",\"registration\":\" 20180122141\",\"mediatest\":50.0},{\"test\":\"ITP - Funções - Prova\",\"mediaTestClass\":86.6666666667,\"user\":\"Luiz Paulo Assis Cavalcante de Freitas \",\"registration\":\" 20190103408\",\"mediatest\":100.0},{\"test\":\"ITP - Laços - Prova\",\"mediaTestClass\":80.9482758621,\"user\":\"Luiz Paulo Assis Cavalcante de Freitas \",\"registration\":\" 20190103408\",\"mediatest\":100.0},{\"test\":\"ITP - Matriz - Prova\",\"mediaTestClass\":80.1724137931,\"user\":\"Luiz Paulo Assis Cavalcante de Freitas \",\"registration\":\" 20190103408\",\"mediatest\":75.0},{\"test\":\"ITP - Ponteiros 2 - Prova\",\"mediaTestClass\":38.2576136364,\"user\":\"Luiz Paulo Assis Cavalcante de Freitas \",\"registration\":\" 20190103408\",\"mediatest\":25.0},{\"test\":\"ITP - Strings - Prova\",\"mediaTestClass\":75.8064516129,\"user\":\"Luiz Paulo Assis Cavalcante de Freitas \",\"registration\":\" 20190103408\",\"mediatest\":100.0},{\"test\":\"ITP - Vetores - Prova\",\"mediaTestClass\":84.0517241379,\"user\":\"Luiz Paulo Assis Cavalcante de Freitas \",\"registration\":\" 20190103408\",\"mediatest\":100.0},{\"test\":\"ITP Lista 0\",\"mediaTestClass\":83.18140625,\"user\":\"Luiz Paulo Assis Cavalcante de Freitas \",\"registration\":\" 20190103408\",\"mediatest\":100.0},{\"test\":\"ITP - Alocação dinâmica - Prova\",\"mediaTestClass\":52.380952381,\"user\":\"Matheus Alves \",\"registration\":\" 20180062956\",\"mediatest\":66.6666666667},{\"test\":\"ITP - Funções - Prova\",\"mediaTestClass\":86.6666666667,\"user\":\"Matheus Alves \",\"registration\":\" 20180062956\",\"mediatest\":100.0},{\"test\":\"ITP - Laços - Prova\",\"mediaTestClass\":80.9482758621,\"user\":\"Matheus Alves \",\"registration\":\" 20180062956\",\"mediatest\":100.0},{\"test\":\"ITP - Matriz - Prova\",\"mediaTestClass\":80.1724137931,\"user\":\"Matheus Alves \",\"registration\":\" 20180062956\",\"mediatest\":75.0},{\"test\":\"ITP - Ponteiros 1 - Prova\",\"mediaTestClass\":46.8297826087,\"user\":\"Matheus Alves \",\"registration\":\" 20180062956\",\"mediatest\":0.0},{\"test\":\"ITP - Ponteiros 2 - Prova\",\"mediaTestClass\":38.2576136364,\"user\":\"Matheus Alves \",\"registration\":\" 20180062956\",\"mediatest\":25.0},{\"test\":\"ITP - Recursão - Prova\",\"mediaTestClass\":51.0794318182,\"user\":\"Matheus Alves \",\"registration\":\" 20180062956\",\"mediatest\":48.3325},{\"test\":\"ITP - Strings - Prova\",\"mediaTestClass\":75.8064516129,\"user\":\"Matheus Alves \",\"registration\":\" 20180062956\",\"mediatest\":25.0},{\"test\":\"ITP - Vetores - Prova\",\"mediaTestClass\":84.0517241379,\"user\":\"Matheus Alves \",\"registration\":\" 20180062956\",\"mediatest\":100.0},{\"test\":\"ITP Lista 0\",\"mediaTestClass\":83.18140625,\"user\":\"Matheus Alves \",\"registration\":\" 20180062956\",\"mediatest\":100.0},{\"test\":\"ITP - Funções - Prova\",\"mediaTestClass\":86.6666666667,\"user\":\"Matheus Henrique Fonseca Valerio \",\"registration\":\" 20180063597\",\"mediatest\":75.0},{\"test\":\"ITP - Laços - Prova\",\"mediaTestClass\":80.9482758621,\"user\":\"Matheus Henrique Fonseca Valerio \",\"registration\":\" 20180063597\",\"mediatest\":80.0},{\"test\":\"ITP - Strings - Prova\",\"mediaTestClass\":75.8064516129,\"user\":\"Matheus Henrique Fonseca Valerio \",\"registration\":\" 20180063597\",\"mediatest\":50.0},{\"test\":\"ITP - Vetores - Prova\",\"mediaTestClass\":84.0517241379,\"user\":\"Matheus Henrique Fonseca Valerio \",\"registration\":\" 20180063597\",\"mediatest\":0.0},{\"test\":\"ITP 2020.6 - T02 - Reposicao\",\"mediaTestClass\":0.0,\"user\":\"Matheus Henrique Fonseca Valerio \",\"registration\":\" 20180063597\",\"mediatest\":0.0},{\"test\":\"ITP Lista 0\",\"mediaTestClass\":83.18140625,\"user\":\"Matheus Henrique Fonseca Valerio \",\"registration\":\" 20180063597\",\"mediatest\":27.7775},{\"test\":\"ITP - Laços - Prova\",\"mediaTestClass\":80.9482758621,\"user\":\"Patrick Miguel Souza de Melo \",\"registration\":\" 20170068277\",\"mediatest\":25.0},{\"test\":\"ITP Lista 0\",\"mediaTestClass\":83.18140625,\"user\":\"Patrick Miguel Souza de Melo \",\"registration\":\" 20170068277\",\"mediatest\":75.0},{\"test\":\"ITP - Funções - Prova\",\"mediaTestClass\":86.6666666667,\"user\":\"Paulo Carvalho \",\"registration\":\" 2016034522\",\"mediatest\":75.0},{\"test\":\"ITP - Laços - Prova\",\"mediaTestClass\":80.9482758621,\"user\":\"Paulo Carvalho \",\"registration\":\" 2016034522\",\"mediatest\":100.0},{\"test\":\"ITP - Matriz - Prova\",\"mediaTestClass\":80.1724137931,\"user\":\"Paulo Carvalho \",\"registration\":\" 2016034522\",\"mediatest\":75.0},{\"test\":\"ITP - Ponteiros 2 - Prova\",\"mediaTestClass\":38.2576136364,\"user\":\"Paulo Carvalho \",\"registration\":\" 2016034522\",\"mediatest\":25.0},{\"test\":\"ITP - Strings - Prova\",\"mediaTestClass\":75.8064516129,\"user\":\"Paulo Carvalho \",\"registration\":\" 2016034522\",\"mediatest\":100.0},{\"test\":\"ITP - Vetores - Prova\",\"mediaTestClass\":84.0517241379,\"user\":\"Paulo Carvalho \",\"registration\":\" 2016034522\",\"mediatest\":100.0},{\"test\":\"ITP Lista 0\",\"mediaTestClass\":83.18140625,\"user\":\"Paulo Carvalho \",\"registration\":\" 2016034522\",\"mediatest\":100.0},{\"test\":\"ITP - Funções - Prova\",\"mediaTestClass\":86.6666666667,\"user\":\"Paulo Víctor de Medeiros Andrade \",\"registration\":\" 20190003046\",\"mediatest\":100.0},{\"test\":\"ITP - Recursão - Prova\",\"mediaTestClass\":51.0794318182,\"user\":\"Paulo Víctor de Medeiros Andrade \",\"registration\":\" 20190003046\",\"mediatest\":8.3325},{\"test\":\"ITP - Strings - Prova\",\"mediaTestClass\":75.8064516129,\"user\":\"Paulo Víctor de Medeiros Andrade \",\"registration\":\" 20190003046\",\"mediatest\":62.5},{\"test\":\"ITP - Alocação dinâmica - Prova\",\"mediaTestClass\":52.380952381,\"user\":\"Pedro Garcia Pereira \",\"registration\":\" 20190040658\",\"mediatest\":33.3333333333},{\"test\":\"ITP - Funções - Prova\",\"mediaTestClass\":86.6666666667,\"user\":\"Pedro Garcia Pereira \",\"registration\":\" 20190040658\",\"mediatest\":100.0},{\"test\":\"ITP - Laços - Prova\",\"mediaTestClass\":80.9482758621,\"user\":\"Pedro Garcia Pereira \",\"registration\":\" 20190040658\",\"mediatest\":100.0},{\"test\":\"ITP - Matriz - Prova\",\"mediaTestClass\":80.1724137931,\"user\":\"Pedro Garcia Pereira \",\"registration\":\" 20190040658\",\"mediatest\":100.0},{\"test\":\"ITP - Ponteiros 1 - Prova\",\"mediaTestClass\":46.8297826087,\"user\":\"Pedro Garcia Pereira \",\"registration\":\" 20190040658\",\"mediatest\":50.0},{\"test\":\"ITP - Ponteiros 2 - Prova\",\"mediaTestClass\":38.2576136364,\"user\":\"Pedro Garcia Pereira \",\"registration\":\" 20190040658\",\"mediatest\":50.0},{\"test\":\"ITP - Recursão - Prova\",\"mediaTestClass\":51.0794318182,\"user\":\"Pedro Garcia Pereira \",\"registration\":\" 20190040658\",\"mediatest\":50.0},{\"test\":\"ITP - Strings - Prova\",\"mediaTestClass\":75.8064516129,\"user\":\"Pedro Garcia Pereira \",\"registration\":\" 20190040658\",\"mediatest\":100.0},{\"test\":\"ITP - Structs e Enumerações - Prova\",\"mediaTestClass\":24.3421052632,\"user\":\"Pedro Garcia Pereira \",\"registration\":\" 20190040658\",\"mediatest\":50.0},{\"test\":\"ITP - Vetores - Prova\",\"mediaTestClass\":84.0517241379,\"user\":\"Pedro Garcia Pereira \",\"registration\":\" 20190040658\",\"mediatest\":100.0},{\"test\":\"ITP Lista 0\",\"mediaTestClass\":83.18140625,\"user\":\"Pedro Garcia Pereira \",\"registration\":\" 20190040658\",\"mediatest\":100.0},{\"test\":\"ITP - Funções - Prova\",\"mediaTestClass\":86.6666666667,\"user\":\"Pedro Henrique Dantas de Aragão Mendes \",\"registration\":\" 20190003681\",\"mediatest\":25.0},{\"test\":\"ITP - Laços - Prova\",\"mediaTestClass\":80.9482758621,\"user\":\"Pedro Henrique Dantas de Aragão Mendes \",\"registration\":\" 20190003681\",\"mediatest\":100.0},{\"test\":\"ITP - Matriz - Prova\",\"mediaTestClass\":80.1724137931,\"user\":\"Pedro Henrique Dantas de Aragão Mendes \",\"registration\":\" 20190003681\",\"mediatest\":50.0},{\"test\":\"ITP - Ponteiros 1 - Prova\",\"mediaTestClass\":46.8297826087,\"user\":\"Pedro Henrique Dantas de Aragão Mendes \",\"registration\":\" 20190003681\",\"mediatest\":25.0},{\"test\":\"ITP - Recursão - Prova\",\"mediaTestClass\":51.0794318182,\"user\":\"Pedro Henrique Dantas de Aragão Mendes \",\"registration\":\" 20190003681\",\"mediatest\":8.3325},{\"test\":\"ITP - Strings - Prova\",\"mediaTestClass\":75.8064516129,\"user\":\"Pedro Henrique Dantas de Aragão Mendes \",\"registration\":\" 20190003681\",\"mediatest\":68.75},{\"test\":\"ITP - Structs e Enumerações - Prova\",\"mediaTestClass\":24.3421052632,\"user\":\"Pedro Henrique Dantas de Aragão Mendes \",\"registration\":\" 20190003681\",\"mediatest\":0.0},{\"test\":\"ITP - Vetores - Prova\",\"mediaTestClass\":84.0517241379,\"user\":\"Pedro Henrique Dantas de Aragão Mendes \",\"registration\":\" 20190003681\",\"mediatest\":100.0},{\"test\":\"ITP Lista 0\",\"mediaTestClass\":83.18140625,\"user\":\"Pedro Henrique Dantas de Aragão Mendes \",\"registration\":\" 20190003681\",\"mediatest\":100.0},{\"test\":\"ITP - Alocação dinâmica - Prova\",\"mediaTestClass\":52.380952381,\"user\":\"Pedro Leite \",\"registration\":\" 20190000830\",\"mediatest\":66.6666666667},{\"test\":\"ITP - Funções - Prova\",\"mediaTestClass\":86.6666666667,\"user\":\"Pedro Leite \",\"registration\":\" 20190000830\",\"mediatest\":75.0},{\"test\":\"ITP - Laços - Prova\",\"mediaTestClass\":80.9482758621,\"user\":\"Pedro Leite \",\"registration\":\" 20190000830\",\"mediatest\":50.0},{\"test\":\"ITP - Matriz - Prova\",\"mediaTestClass\":80.1724137931,\"user\":\"Pedro Leite \",\"registration\":\" 20190000830\",\"mediatest\":100.0},{\"test\":\"ITP - Ponteiros 1 - Prova\",\"mediaTestClass\":46.8297826087,\"user\":\"Pedro Leite \",\"registration\":\" 20190000830\",\"mediatest\":25.0},{\"test\":\"ITP - Ponteiros 2 - Prova\",\"mediaTestClass\":38.2576136364,\"user\":\"Pedro Leite \",\"registration\":\" 20190000830\",\"mediatest\":50.0},{\"test\":\"ITP - Recursão - Prova\",\"mediaTestClass\":51.0794318182,\"user\":\"Pedro Leite \",\"registration\":\" 20190000830\",\"mediatest\":68.75},{\"test\":\"ITP - Strings - Prova\",\"mediaTestClass\":75.8064516129,\"user\":\"Pedro Leite \",\"registration\":\" 20190000830\",\"mediatest\":100.0},{\"test\":\"ITP - Structs e Enumerações - Prova\",\"mediaTestClass\":24.3421052632,\"user\":\"Pedro Leite \",\"registration\":\" 20190000830\",\"mediatest\":75.0},{\"test\":\"ITP - Vetores - Prova\",\"mediaTestClass\":84.0517241379,\"user\":\"Pedro Leite \",\"registration\":\" 20190000830\",\"mediatest\":100.0},{\"test\":\"ITP Lista 0\",\"mediaTestClass\":83.18140625,\"user\":\"Pedro Leite \",\"registration\":\" 20190000830\",\"mediatest\":100.0},{\"test\":\"ITP - Alocação dinâmica - Prova\",\"mediaTestClass\":52.380952381,\"user\":\"Samuel Souza \",\"registration\":\" 20200046160\",\"mediatest\":66.6666666667},{\"test\":\"ITP - Funções - Prova\",\"mediaTestClass\":86.6666666667,\"user\":\"Samuel Souza \",\"registration\":\" 20200046160\",\"mediatest\":100.0},{\"test\":\"ITP - Laços - Prova\",\"mediaTestClass\":80.9482758621,\"user\":\"Samuel Souza \",\"registration\":\" 20200046160\",\"mediatest\":50.0},{\"test\":\"ITP - Matriz - Prova\",\"mediaTestClass\":80.1724137931,\"user\":\"Samuel Souza \",\"registration\":\" 20200046160\",\"mediatest\":75.0},{\"test\":\"ITP - Ponteiros 1 - Prova\",\"mediaTestClass\":46.8297826087,\"user\":\"Samuel Souza \",\"registration\":\" 20200046160\",\"mediatest\":75.0},{\"test\":\"ITP - Ponteiros 2 - Prova\",\"mediaTestClass\":38.2576136364,\"user\":\"Samuel Souza \",\"registration\":\" 20200046160\",\"mediatest\":50.0},{\"test\":\"ITP - Recursão - Prova\",\"mediaTestClass\":51.0794318182,\"user\":\"Samuel Souza \",\"registration\":\" 20200046160\",\"mediatest\":75.0},{\"test\":\"ITP - Strings - Prova\",\"mediaTestClass\":75.8064516129,\"user\":\"Samuel Souza \",\"registration\":\" 20200046160\",\"mediatest\":25.0},{\"test\":\"ITP - Structs e Enumerações - Prova\",\"mediaTestClass\":24.3421052632,\"user\":\"Samuel Souza \",\"registration\":\" 20200046160\",\"mediatest\":75.0},{\"test\":\"ITP - Vetores - Prova\",\"mediaTestClass\":84.0517241379,\"user\":\"Samuel Souza \",\"registration\":\" 20200046160\",\"mediatest\":100.0},{\"test\":\"ITP Lista 0\",\"mediaTestClass\":83.18140625,\"user\":\"Samuel Souza \",\"registration\":\" 20200046160\",\"mediatest\":100.0},{\"test\":\"ITP - Alocação dinâmica - Prova\",\"mediaTestClass\":52.380952381,\"user\":\"Tales Vinícius de Medeiros Alves \",\"registration\":\" 20200040685\",\"mediatest\":66.6666666667},{\"test\":\"ITP - Funções - Prova\",\"mediaTestClass\":86.6666666667,\"user\":\"Tales Vinícius de Medeiros Alves \",\"registration\":\" 20200040685\",\"mediatest\":100.0},{\"test\":\"ITP - Laços - Prova\",\"mediaTestClass\":80.9482758621,\"user\":\"Tales Vinícius de Medeiros Alves \",\"registration\":\" 20200040685\",\"mediatest\":100.0},{\"test\":\"ITP - Matriz - Prova\",\"mediaTestClass\":80.1724137931,\"user\":\"Tales Vinícius de Medeiros Alves \",\"registration\":\" 20200040685\",\"mediatest\":100.0},{\"test\":\"ITP - Ponteiros 1 - Prova\",\"mediaTestClass\":46.8297826087,\"user\":\"Tales Vinícius de Medeiros Alves \",\"registration\":\" 20200040685\",\"mediatest\":75.0},{\"test\":\"ITP - Ponteiros 2 - Prova\",\"mediaTestClass\":38.2576136364,\"user\":\"Tales Vinícius de Medeiros Alves \",\"registration\":\" 20200040685\",\"mediatest\":75.0},{\"test\":\"ITP - Strings - Prova\",\"mediaTestClass\":75.8064516129,\"user\":\"Tales Vinícius de Medeiros Alves \",\"registration\":\" 20200040685\",\"mediatest\":100.0},{\"test\":\"ITP - Structs e Enumerações - Prova\",\"mediaTestClass\":24.3421052632,\"user\":\"Tales Vinícius de Medeiros Alves \",\"registration\":\" 20200040685\",\"mediatest\":0.0},{\"test\":\"ITP - Vetores - Prova\",\"mediaTestClass\":84.0517241379,\"user\":\"Tales Vinícius de Medeiros Alves \",\"registration\":\" 20200040685\",\"mediatest\":100.0},{\"test\":\"ITP Lista 0\",\"mediaTestClass\":83.18140625,\"user\":\"Tales Vinícius de Medeiros Alves \",\"registration\":\" 20200040685\",\"mediatest\":100.0},{\"test\":\"ITP - Alocação dinâmica - Prova\",\"mediaTestClass\":52.380952381,\"user\":\"Vitória Morais \",\"registration\":\" 20190046571\",\"mediatest\":33.3333333333},{\"test\":\"ITP - Funções - Prova\",\"mediaTestClass\":86.6666666667,\"user\":\"Vitória Morais \",\"registration\":\" 20190046571\",\"mediatest\":100.0},{\"test\":\"ITP - Laços - Prova\",\"mediaTestClass\":80.9482758621,\"user\":\"Vitória Morais \",\"registration\":\" 20190046571\",\"mediatest\":100.0},{\"test\":\"ITP - Matriz - Prova\",\"mediaTestClass\":80.1724137931,\"user\":\"Vitória Morais \",\"registration\":\" 20190046571\",\"mediatest\":75.0},{\"test\":\"ITP - Ponteiros 1 - Prova\",\"mediaTestClass\":46.8297826087,\"user\":\"Vitória Morais \",\"registration\":\" 20190046571\",\"mediatest\":75.0},{\"test\":\"ITP - Ponteiros 2 - Prova\",\"mediaTestClass\":38.2576136364,\"user\":\"Vitória Morais \",\"registration\":\" 20190046571\",\"mediatest\":25.0},{\"test\":\"ITP - Strings - Prova\",\"mediaTestClass\":75.8064516129,\"user\":\"Vitória Morais \",\"registration\":\" 20190046571\",\"mediatest\":100.0},{\"test\":\"ITP - Structs e Enumerações - Prova\",\"mediaTestClass\":24.3421052632,\"user\":\"Vitória Morais \",\"registration\":\" 20190046571\",\"mediatest\":50.0},{\"test\":\"ITP - Vetores - Prova\",\"mediaTestClass\":84.0517241379,\"user\":\"Vitória Morais \",\"registration\":\" 20190046571\",\"mediatest\":100.0},{\"test\":\"ITP Lista 0\",\"mediaTestClass\":83.18140625,\"user\":\"Vitória Morais \",\"registration\":\" 20190046571\",\"mediatest\":100.0},{\"test\":\"ITP - Funções - Prova\",\"mediaTestClass\":86.6666666667,\"user\":\"Vítor Dantas Costa \",\"registration\":\" 20190146700\",\"mediatest\":100.0},{\"test\":\"ITP - Laços - Prova\",\"mediaTestClass\":80.9482758621,\"user\":\"Vítor Dantas Costa \",\"registration\":\" 20190146700\",\"mediatest\":100.0},{\"test\":\"ITP - Matriz - Prova\",\"mediaTestClass\":80.1724137931,\"user\":\"Vítor Dantas Costa \",\"registration\":\" 20190146700\",\"mediatest\":75.0},{\"test\":\"ITP - Ponteiros 1 - Prova\",\"mediaTestClass\":46.8297826087,\"user\":\"Vítor Dantas Costa \",\"registration\":\" 20190146700\",\"mediatest\":50.0},{\"test\":\"ITP - Ponteiros 2 - Prova\",\"mediaTestClass\":38.2576136364,\"user\":\"Vítor Dantas Costa \",\"registration\":\" 20190146700\",\"mediatest\":25.0},{\"test\":\"ITP - Recursão - Prova\",\"mediaTestClass\":51.0794318182,\"user\":\"Vítor Dantas Costa \",\"registration\":\" 20190146700\",\"mediatest\":25.0},{\"test\":\"ITP - Strings - Prova\",\"mediaTestClass\":75.8064516129,\"user\":\"Vítor Dantas Costa \",\"registration\":\" 20190146700\",\"mediatest\":68.75},{\"test\":\"ITP Lista 0\",\"mediaTestClass\":83.18140625,\"user\":\"Vítor Dantas Costa \",\"registration\":\" 20190146700\",\"mediatest\":100.0},{\"test\":\"ITP - Laços - Prova\",\"mediaTestClass\":80.9482758621,\"user\":\"alyssonblack \",\"registration\":\" 20170070435\",\"mediatest\":50.0},{\"test\":\"ITP Lista 0\",\"mediaTestClass\":83.18140625,\"user\":\"alyssonblack \",\"registration\":\" 20170070435\",\"mediatest\":52.7775},{\"test\":\"ITP - Funções - Prova\",\"mediaTestClass\":86.6666666667,\"user\":\"ellen Melo \",\"registration\":\" 20190105224\",\"mediatest\":100.0},{\"test\":\"ITP - Laços - Prova\",\"mediaTestClass\":80.9482758621,\"user\":\"ellen Melo \",\"registration\":\" 20190105224\",\"mediatest\":100.0},{\"test\":\"ITP - Matriz - Prova\",\"mediaTestClass\":80.1724137931,\"user\":\"ellen Melo \",\"registration\":\" 20190105224\",\"mediatest\":100.0},{\"test\":\"ITP - Ponteiros 1 - Prova\",\"mediaTestClass\":46.8297826087,\"user\":\"ellen Melo \",\"registration\":\" 20190105224\",\"mediatest\":25.0},{\"test\":\"ITP - Ponteiros 2 - Prova\",\"mediaTestClass\":38.2576136364,\"user\":\"ellen Melo \",\"registration\":\" 20190105224\",\"mediatest\":50.0},{\"test\":\"ITP - Recursão - Prova\",\"mediaTestClass\":51.0794318182,\"user\":\"ellen Melo \",\"registration\":\" 20190105224\",\"mediatest\":75.0},{\"test\":\"ITP - Strings - Prova\",\"mediaTestClass\":75.8064516129,\"user\":\"ellen Melo \",\"registration\":\" 20190105224\",\"mediatest\":100.0},{\"test\":\"ITP - Vetores - Prova\",\"mediaTestClass\":84.0517241379,\"user\":\"ellen Melo \",\"registration\":\" 20190105224\",\"mediatest\":100.0},{\"test\":\"ITP Lista 0\",\"mediaTestClass\":83.18140625,\"user\":\"ellen Melo \",\"registration\":\" 20190105224\",\"mediatest\":100.0},{\"test\":\"ITP - Funções - Prova\",\"mediaTestClass\":86.6666666667,\"user\":\"enzo lopes danjour de souza \",\"registration\":\" 20190035658\",\"mediatest\":75.0},{\"test\":\"ITP - Laços - Prova\",\"mediaTestClass\":80.9482758621,\"user\":\"enzo lopes danjour de souza \",\"registration\":\" 20190035658\",\"mediatest\":100.0},{\"test\":\"ITP - Matriz - Prova\",\"mediaTestClass\":80.1724137931,\"user\":\"enzo lopes danjour de souza \",\"registration\":\" 20190035658\",\"mediatest\":100.0},{\"test\":\"ITP - Ponteiros 1 - Prova\",\"mediaTestClass\":46.8297826087,\"user\":\"enzo lopes danjour de souza \",\"registration\":\" 20190035658\",\"mediatest\":25.0},{\"test\":\"ITP - Ponteiros 2 - Prova\",\"mediaTestClass\":38.2576136364,\"user\":\"enzo lopes danjour de souza \",\"registration\":\" 20190035658\",\"mediatest\":0.0},{\"test\":\"ITP - Recursão - Prova\",\"mediaTestClass\":51.0794318182,\"user\":\"enzo lopes danjour de souza \",\"registration\":\" 20190035658\",\"mediatest\":85.0},{\"test\":\"ITP - Strings - Prova\",\"mediaTestClass\":75.8064516129,\"user\":\"enzo lopes danjour de souza \",\"registration\":\" 20190035658\",\"mediatest\":100.0},{\"test\":\"ITP - Vetores - Prova\",\"mediaTestClass\":84.0517241379,\"user\":\"enzo lopes danjour de souza \",\"registration\":\" 20190035658\",\"mediatest\":75.0},{\"test\":\"ITP Lista 0\",\"mediaTestClass\":83.18140625,\"user\":\"enzo lopes danjour de souza \",\"registration\":\" 20190035658\",\"mediatest\":100.0},{\"test\":\"ITP Lista 0\",\"mediaTestClass\":83.18140625,\"user\":\"kaio cesar de sousa pinheiro \",\"registration\":\" 20180144793\",\"mediatest\":25.0},{\"test\":\"ITP - Laços - Prova\",\"mediaTestClass\":80.9482758621,\"user\":\"marciotenorio \",\"registration\":\" 20180119880\",\"mediatest\":0.0},{\"test\":\"ITP - Strings - Prova\",\"mediaTestClass\":75.8064516129,\"user\":\"marciotenorio \",\"registration\":\" 20180119880\",\"mediatest\":18.75},{\"test\":\"ITP Lista 0\",\"mediaTestClass\":83.18140625,\"user\":\"marciotenorio \",\"registration\":\" 20180119880\",\"mediatest\":25.0}],\"GEDL\":[{\"difficulty\":1,\"mediaDifficultyClass\":0.0,\"user\":\"ANTONIO AUGUSTO DE LIMA SILVA \",\"registration\":\" 20180069652\",\"mediaDifficulty\":0.0},{\"difficulty\":2,\"mediaDifficultyClass\":0.0,\"user\":\"ANTONIO AUGUSTO DE LIMA SILVA \",\"registration\":\" 20180069652\",\"mediaDifficulty\":0.0},{\"difficulty\":3,\"mediaDifficultyClass\":0.0,\"user\":\"ANTONIO AUGUSTO DE LIMA SILVA \",\"registration\":\" 20180069652\",\"mediaDifficulty\":0.0},{\"difficulty\":4,\"mediaDifficultyClass\":0.0,\"user\":\"ANTONIO AUGUSTO DE LIMA SILVA \",\"registration\":\" 20180069652\",\"mediaDifficulty\":0.0},{\"difficulty\":5,\"mediaDifficultyClass\":0.0,\"user\":\"ANTONIO AUGUSTO DE LIMA SILVA \",\"registration\":\" 20180069652\",\"mediaDifficulty\":0.0},{\"difficulty\":1,\"mediaDifficultyClass\":0.0,\"user\":\"Abílio Fontenelle \",\"registration\":\" 20180067952\",\"mediaDifficulty\":0.0},{\"difficulty\":2,\"mediaDifficultyClass\":0.0,\"user\":\"Abílio Fontenelle \",\"registration\":\" 20180067952\",\"mediaDifficulty\":0.0},{\"difficulty\":3,\"mediaDifficultyClass\":0.0,\"user\":\"Abílio Fontenelle \",\"registration\":\" 20180067952\",\"mediaDifficulty\":0.0},{\"difficulty\":4,\"mediaDifficultyClass\":0.0,\"user\":\"Abílio Fontenelle \",\"registration\":\" 20180067952\",\"mediaDifficulty\":0.0},{\"difficulty\":5,\"mediaDifficultyClass\":0.0,\"user\":\"Abílio Fontenelle \",\"registration\":\" 20180067952\",\"mediaDifficulty\":0.0},{\"difficulty\":1,\"mediaDifficultyClass\":0.0,\"user\":\"Allef Vinicius \",\"registration\":\" 20180069714\",\"mediaDifficulty\":0.0},{\"difficulty\":2,\"mediaDifficultyClass\":0.0,\"user\":\"Allef Vinicius \",\"registration\":\" 20180069714\",\"mediaDifficulty\":0.0},{\"difficulty\":3,\"mediaDifficultyClass\":0.0,\"user\":\"Allef Vinicius \",\"registration\":\" 20180069714\",\"mediaDifficulty\":0.0},{\"difficulty\":4,\"mediaDifficultyClass\":0.0,\"user\":\"Allef Vinicius \",\"registration\":\" 20180069714\",\"mediaDifficulty\":0.0},{\"difficulty\":5,\"mediaDifficultyClass\":0.0,\"user\":\"Allef Vinicius \",\"registration\":\" 20180069714\",\"mediaDifficulty\":0.0},{\"difficulty\":1,\"mediaDifficultyClass\":0.0,\"user\":\"André Luiz Rodrigues Soares \",\"registration\":\" 20180001960\",\"mediaDifficulty\":0.0},{\"difficulty\":2,\"mediaDifficultyClass\":0.0,\"user\":\"André Luiz Rodrigues Soares \",\"registration\":\" 20180001960\",\"mediaDifficulty\":0.0},{\"difficulty\":3,\"mediaDifficultyClass\":0.0,\"user\":\"André Luiz Rodrigues Soares \",\"registration\":\" 20180001960\",\"mediaDifficulty\":0.0},{\"difficulty\":4,\"mediaDifficultyClass\":0.0,\"user\":\"André Luiz Rodrigues Soares \",\"registration\":\" 20180001960\",\"mediaDifficulty\":0.0},{\"difficulty\":5,\"mediaDifficultyClass\":0.0,\"user\":\"André Luiz Rodrigues Soares \",\"registration\":\" 20180001960\",\"mediaDifficulty\":0.0},{\"difficulty\":1,\"mediaDifficultyClass\":0.0,\"user\":\"Arthur Learth \",\"registration\":\" 20180071294\",\"mediaDifficulty\":0.0},{\"difficulty\":2,\"mediaDifficultyClass\":0.0,\"user\":\"Arthur Learth \",\"registration\":\" 20180071294\",\"mediaDifficulty\":0.0},{\"difficulty\":3,\"mediaDifficultyClass\":0.0,\"user\":\"Arthur Learth \",\"registration\":\" 20180071294\",\"mediaDifficulty\":0.0},{\"difficulty\":4,\"mediaDifficultyClass\":0.0,\"user\":\"Arthur Learth \",\"registration\":\" 20180071294\",\"mediaDifficulty\":0.0},{\"difficulty\":5,\"mediaDifficultyClass\":0.0,\"user\":\"Arthur Learth \",\"registration\":\" 20180071294\",\"mediaDifficulty\":0.0},{\"difficulty\":1,\"mediaDifficultyClass\":0.0,\"user\":\"Daniel \",\"registration\":\" 20190046016\",\"mediaDifficulty\":0.0},{\"difficulty\":2,\"mediaDifficultyClass\":0.0,\"user\":\"Daniel \",\"registration\":\" 20190046016\",\"mediaDifficulty\":0.0},{\"difficulty\":3,\"mediaDifficultyClass\":0.0,\"user\":\"Daniel \",\"registration\":\" 20190046016\",\"mediaDifficulty\":0.0},{\"difficulty\":4,\"mediaDifficultyClass\":0.0,\"user\":\"Daniel \",\"registration\":\" 20190046016\",\"mediaDifficulty\":0.0},{\"difficulty\":5,\"mediaDifficultyClass\":0.0,\"user\":\"Daniel \",\"registration\":\" 20190046016\",\"mediaDifficulty\":0.0},{\"difficulty\":1,\"mediaDifficultyClass\":0.0,\"user\":\"Deborah Dantas \",\"registration\":\" 20190036691\",\"mediaDifficulty\":0.0},{\"difficulty\":2,\"mediaDifficultyClass\":0.0,\"user\":\"Deborah Dantas \",\"registration\":\" 20190036691\",\"mediaDifficulty\":0.0},{\"difficulty\":3,\"mediaDifficultyClass\":0.0,\"user\":\"Deborah Dantas \",\"registration\":\" 20190036691\",\"mediaDifficulty\":0.0},{\"difficulty\":4,\"mediaDifficultyClass\":0.0,\"user\":\"Deborah Dantas \",\"registration\":\" 20190036691\",\"mediaDifficulty\":0.0},{\"difficulty\":5,\"mediaDifficultyClass\":0.0,\"user\":\"Deborah Dantas \",\"registration\":\" 20190036691\",\"mediaDifficulty\":0.0},{\"difficulty\":1,\"mediaDifficultyClass\":0.0,\"user\":\"Dimitri Lima \",\"registration\":\" Ufrn\",\"mediaDifficulty\":0.0},{\"difficulty\":2,\"mediaDifficultyClass\":0.0,\"user\":\"Dimitri Lima \",\"registration\":\" Ufrn\",\"mediaDifficulty\":0.0},{\"difficulty\":3,\"mediaDifficultyClass\":0.0,\"user\":\"Dimitri Lima \",\"registration\":\" Ufrn\",\"mediaDifficulty\":0.0},{\"difficulty\":4,\"mediaDifficultyClass\":0.0,\"user\":\"Dimitri Lima \",\"registration\":\" Ufrn\",\"mediaDifficulty\":0.0},{\"difficulty\":5,\"mediaDifficultyClass\":0.0,\"user\":\"Dimitri Lima \",\"registration\":\" Ufrn\",\"mediaDifficulty\":0.0},{\"difficulty\":1,\"mediaDifficultyClass\":0.0,\"user\":\"Felipe Costa \",\"registration\":\" 20190043453\",\"mediaDifficulty\":0.0},{\"difficulty\":2,\"mediaDifficultyClass\":0.0,\"user\":\"Felipe Costa \",\"registration\":\" 20190043453\",\"mediaDifficulty\":0.0},{\"difficulty\":3,\"mediaDifficultyClass\":0.0,\"user\":\"Felipe Costa \",\"registration\":\" 20190043453\",\"mediaDifficulty\":0.0},{\"difficulty\":4,\"mediaDifficultyClass\":0.0,\"user\":\"Felipe Costa \",\"registration\":\" 20190043453\",\"mediaDifficulty\":0.0},{\"difficulty\":5,\"mediaDifficultyClass\":0.0,\"user\":\"Felipe Costa \",\"registration\":\" 20190043453\",\"mediaDifficulty\":0.0},{\"difficulty\":1,\"mediaDifficultyClass\":0.0,\"user\":\"GABRIEL FERNANDES LAURINDO \",\"registration\":\" 20190126761\",\"mediaDifficulty\":0.0},{\"difficulty\":2,\"mediaDifficultyClass\":0.0,\"user\":\"GABRIEL FERNANDES LAURINDO \",\"registration\":\" 20190126761\",\"mediaDifficulty\":0.0},{\"difficulty\":3,\"mediaDifficultyClass\":0.0,\"user\":\"GABRIEL FERNANDES LAURINDO \",\"registration\":\" 20190126761\",\"mediaDifficulty\":0.0},{\"difficulty\":4,\"mediaDifficultyClass\":0.0,\"user\":\"GABRIEL FERNANDES LAURINDO \",\"registration\":\" 20190126761\",\"mediaDifficulty\":0.0},{\"difficulty\":5,\"mediaDifficultyClass\":0.0,\"user\":\"GABRIEL FERNANDES LAURINDO \",\"registration\":\" 20190126761\",\"mediaDifficulty\":0.0},{\"difficulty\":1,\"mediaDifficultyClass\":0.0,\"user\":\"Gabriel Bassani \",\"registration\":\" 20190043794\",\"mediaDifficulty\":0.0},{\"difficulty\":2,\"mediaDifficultyClass\":0.0,\"user\":\"Gabriel Bassani \",\"registration\":\" 20190043794\",\"mediaDifficulty\":0.0},{\"difficulty\":3,\"mediaDifficultyClass\":0.0,\"user\":\"Gabriel Bassani \",\"registration\":\" 20190043794\",\"mediaDifficulty\":0.0},{\"difficulty\":4,\"mediaDifficultyClass\":0.0,\"user\":\"Gabriel Bassani \",\"registration\":\" 20190043794\",\"mediaDifficulty\":0.0},{\"difficulty\":5,\"mediaDifficultyClass\":0.0,\"user\":\"Gabriel Bassani \",\"registration\":\" 20190043794\",\"mediaDifficulty\":0.0},{\"difficulty\":1,\"mediaDifficultyClass\":0.0,\"user\":\"Gabriel Vinícius Lima da Costa Medeiros \",\"registration\":\" 20190041978\",\"mediaDifficulty\":0.0},{\"difficulty\":2,\"mediaDifficultyClass\":0.0,\"user\":\"Gabriel Vinícius Lima da Costa Medeiros \",\"registration\":\" 20190041978\",\"mediaDifficulty\":0.0},{\"difficulty\":3,\"mediaDifficultyClass\":0.0,\"user\":\"Gabriel Vinícius Lima da Costa Medeiros \",\"registration\":\" 20190041978\",\"mediaDifficulty\":0.0},{\"difficulty\":4,\"mediaDifficultyClass\":0.0,\"user\":\"Gabriel Vinícius Lima da Costa Medeiros \",\"registration\":\" 20190041978\",\"mediaDifficulty\":0.0},{\"difficulty\":5,\"mediaDifficultyClass\":0.0,\"user\":\"Gabriel Vinícius Lima da Costa Medeiros \",\"registration\":\" 20190041978\",\"mediaDifficulty\":0.0},{\"difficulty\":1,\"mediaDifficultyClass\":0.0,\"user\":\"Guilherme Augusto Santana de Lima \",\"registration\":\" 20190044138\",\"mediaDifficulty\":0.0},{\"difficulty\":2,\"mediaDifficultyClass\":0.0,\"user\":\"Guilherme Augusto Santana de Lima \",\"registration\":\" 20190044138\",\"mediaDifficulty\":0.0},{\"difficulty\":3,\"mediaDifficultyClass\":0.0,\"user\":\"Guilherme Augusto Santana de Lima \",\"registration\":\" 20190044138\",\"mediaDifficulty\":0.0},{\"difficulty\":4,\"mediaDifficultyClass\":0.0,\"user\":\"Guilherme Augusto Santana de Lima \",\"registration\":\" 20190044138\",\"mediaDifficulty\":0.0},{\"difficulty\":5,\"mediaDifficultyClass\":0.0,\"user\":\"Guilherme Augusto Santana de Lima \",\"registration\":\" 20190044138\",\"mediaDifficulty\":0.0},{\"difficulty\":1,\"mediaDifficultyClass\":0.0,\"user\":\"Iury Lamonie \",\"registration\":\" Monitor\",\"mediaDifficulty\":0.0},{\"difficulty\":2,\"mediaDifficultyClass\":0.0,\"user\":\"Iury Lamonie \",\"registration\":\" Monitor\",\"mediaDifficulty\":0.0},{\"difficulty\":3,\"mediaDifficultyClass\":0.0,\"user\":\"Iury Lamonie \",\"registration\":\" Monitor\",\"mediaDifficulty\":0.0},{\"difficulty\":4,\"mediaDifficultyClass\":0.0,\"user\":\"Iury Lamonie \",\"registration\":\" Monitor\",\"mediaDifficulty\":0.0},{\"difficulty\":5,\"mediaDifficultyClass\":0.0,\"user\":\"Iury Lamonie \",\"registration\":\" Monitor\",\"mediaDifficulty\":0.0},{\"difficulty\":1,\"mediaDifficultyClass\":0.0,\"user\":\"Jackson D \",\"registration\":\" 20200038945\",\"mediaDifficulty\":0.0},{\"difficulty\":2,\"mediaDifficultyClass\":0.0,\"user\":\"Jackson D \",\"registration\":\" 20200038945\",\"mediaDifficulty\":0.0},{\"difficulty\":3,\"mediaDifficultyClass\":0.0,\"user\":\"Jackson D \",\"registration\":\" 20200038945\",\"mediaDifficulty\":0.0},{\"difficulty\":4,\"mediaDifficultyClass\":0.0,\"user\":\"Jackson D \",\"registration\":\" 20200038945\",\"mediaDifficulty\":0.0},{\"difficulty\":5,\"mediaDifficultyClass\":0.0,\"user\":\"Jackson D \",\"registration\":\" 20200038945\",\"mediaDifficulty\":0.0},{\"difficulty\":1,\"mediaDifficultyClass\":0.0,\"user\":\"Joao Victor Leandro \",\"registration\":\" 20190146693\",\"mediaDifficulty\":0.0},{\"difficulty\":2,\"mediaDifficultyClass\":0.0,\"user\":\"Joao Victor Leandro \",\"registration\":\" 20190146693\",\"mediaDifficulty\":0.0},{\"difficulty\":3,\"mediaDifficultyClass\":0.0,\"user\":\"Joao Victor Leandro \",\"registration\":\" 20190146693\",\"mediaDifficulty\":0.0},{\"difficulty\":4,\"mediaDifficultyClass\":0.0,\"user\":\"Joao Victor Leandro \",\"registration\":\" 20190146693\",\"mediaDifficulty\":0.0},{\"difficulty\":5,\"mediaDifficultyClass\":0.0,\"user\":\"Joao Victor Leandro \",\"registration\":\" 20190146693\",\"mediaDifficulty\":0.0},{\"difficulty\":1,\"mediaDifficultyClass\":0.0,\"user\":\"José Carvalho \",\"registration\":\" 20190048558\",\"mediaDifficulty\":0.0},{\"difficulty\":2,\"mediaDifficultyClass\":0.0,\"user\":\"José Carvalho \",\"registration\":\" 20190048558\",\"mediaDifficulty\":0.0},{\"difficulty\":3,\"mediaDifficultyClass\":0.0,\"user\":\"José Carvalho \",\"registration\":\" 20190048558\",\"mediaDifficulty\":0.0},{\"difficulty\":4,\"mediaDifficultyClass\":0.0,\"user\":\"José Carvalho \",\"registration\":\" 20190048558\",\"mediaDifficulty\":0.0},{\"difficulty\":5,\"mediaDifficultyClass\":0.0,\"user\":\"José Carvalho \",\"registration\":\" 20190048558\",\"mediaDifficulty\":0.0},{\"difficulty\":1,\"mediaDifficultyClass\":0.0,\"user\":\"João Gabriel Trindade \",\"registration\":\" 20190010588\",\"mediaDifficulty\":0.0},{\"difficulty\":2,\"mediaDifficultyClass\":0.0,\"user\":\"João Gabriel Trindade \",\"registration\":\" 20190010588\",\"mediaDifficulty\":0.0},{\"difficulty\":3,\"mediaDifficultyClass\":0.0,\"user\":\"João Gabriel Trindade \",\"registration\":\" 20190010588\",\"mediaDifficulty\":0.0},{\"difficulty\":4,\"mediaDifficultyClass\":0.0,\"user\":\"João Gabriel Trindade \",\"registration\":\" 20190010588\",\"mediaDifficulty\":0.0},{\"difficulty\":5,\"mediaDifficultyClass\":0.0,\"user\":\"João Gabriel Trindade \",\"registration\":\" 20190010588\",\"mediaDifficulty\":0.0},{\"difficulty\":1,\"mediaDifficultyClass\":0.0,\"user\":\"João Maria Mauricio \",\"registration\":\" 20180118944\",\"mediaDifficulty\":0.0},{\"difficulty\":2,\"mediaDifficultyClass\":0.0,\"user\":\"João Maria Mauricio \",\"registration\":\" 20180118944\",\"mediaDifficulty\":0.0},{\"difficulty\":3,\"mediaDifficultyClass\":0.0,\"user\":\"João Maria Mauricio \",\"registration\":\" 20180118944\",\"mediaDifficulty\":0.0},{\"difficulty\":4,\"mediaDifficultyClass\":0.0,\"user\":\"João Maria Mauricio \",\"registration\":\" 20180118944\",\"mediaDifficulty\":0.0},{\"difficulty\":5,\"mediaDifficultyClass\":0.0,\"user\":\"João Maria Mauricio \",\"registration\":\" 20180118944\",\"mediaDifficulty\":0.0},{\"difficulty\":1,\"mediaDifficultyClass\":0.0,\"user\":\"Lucas da Costa Fontes \",\"registration\":\" 20180122141\",\"mediaDifficulty\":0.0},{\"difficulty\":2,\"mediaDifficultyClass\":0.0,\"user\":\"Lucas da Costa Fontes \",\"registration\":\" 20180122141\",\"mediaDifficulty\":0.0},{\"difficulty\":3,\"mediaDifficultyClass\":0.0,\"user\":\"Lucas da Costa Fontes \",\"registration\":\" 20180122141\",\"mediaDifficulty\":0.0},{\"difficulty\":4,\"mediaDifficultyClass\":0.0,\"user\":\"Lucas da Costa Fontes \",\"registration\":\" 20180122141\",\"mediaDifficulty\":0.0},{\"difficulty\":5,\"mediaDifficultyClass\":0.0,\"user\":\"Lucas da Costa Fontes \",\"registration\":\" 20180122141\",\"mediaDifficulty\":0.0},{\"difficulty\":1,\"mediaDifficultyClass\":0.0,\"user\":\"Luiz Paulo Assis Cavalcante de Freitas \",\"registration\":\" 20190103408\",\"mediaDifficulty\":0.0},{\"difficulty\":2,\"mediaDifficultyClass\":0.0,\"user\":\"Luiz Paulo Assis Cavalcante de Freitas \",\"registration\":\" 20190103408\",\"mediaDifficulty\":0.0},{\"difficulty\":3,\"mediaDifficultyClass\":0.0,\"user\":\"Luiz Paulo Assis Cavalcante de Freitas \",\"registration\":\" 20190103408\",\"mediaDifficulty\":0.0},{\"difficulty\":4,\"mediaDifficultyClass\":0.0,\"user\":\"Luiz Paulo Assis Cavalcante de Freitas \",\"registration\":\" 20190103408\",\"mediaDifficulty\":0.0},{\"difficulty\":5,\"mediaDifficultyClass\":0.0,\"user\":\"Luiz Paulo Assis Cavalcante de Freitas \",\"registration\":\" 20190103408\",\"mediaDifficulty\":0.0},{\"difficulty\":1,\"mediaDifficultyClass\":0.0,\"user\":\"Matheus Alves \",\"registration\":\" 20180062956\",\"mediaDifficulty\":0.0},{\"difficulty\":2,\"mediaDifficultyClass\":0.0,\"user\":\"Matheus Alves \",\"registration\":\" 20180062956\",\"mediaDifficulty\":0.0},{\"difficulty\":3,\"mediaDifficultyClass\":0.0,\"user\":\"Matheus Alves \",\"registration\":\" 20180062956\",\"mediaDifficulty\":0.0},{\"difficulty\":4,\"mediaDifficultyClass\":0.0,\"user\":\"Matheus Alves \",\"registration\":\" 20180062956\",\"mediaDifficulty\":0.0},{\"difficulty\":5,\"mediaDifficultyClass\":0.0,\"user\":\"Matheus Alves \",\"registration\":\" 20180062956\",\"mediaDifficulty\":0.0},{\"difficulty\":1,\"mediaDifficultyClass\":0.0,\"user\":\"Matheus Henrique Fonseca Valerio \",\"registration\":\" 20180063597\",\"mediaDifficulty\":0.0},{\"difficulty\":2,\"mediaDifficultyClass\":0.0,\"user\":\"Matheus Henrique Fonseca Valerio \",\"registration\":\" 20180063597\",\"mediaDifficulty\":0.0},{\"difficulty\":3,\"mediaDifficultyClass\":0.0,\"user\":\"Matheus Henrique Fonseca Valerio \",\"registration\":\" 20180063597\",\"mediaDifficulty\":0.0},{\"difficulty\":4,\"mediaDifficultyClass\":0.0,\"user\":\"Matheus Henrique Fonseca Valerio \",\"registration\":\" 20180063597\",\"mediaDifficulty\":0.0},{\"difficulty\":5,\"mediaDifficultyClass\":0.0,\"user\":\"Matheus Henrique Fonseca Valerio \",\"registration\":\" 20180063597\",\"mediaDifficulty\":0.0},{\"difficulty\":1,\"mediaDifficultyClass\":0.0,\"user\":\"Patrick Miguel Souza de Melo \",\"registration\":\" 20170068277\",\"mediaDifficulty\":0.0},{\"difficulty\":2,\"mediaDifficultyClass\":0.0,\"user\":\"Patrick Miguel Souza de Melo \",\"registration\":\" 20170068277\",\"mediaDifficulty\":0.0},{\"difficulty\":3,\"mediaDifficultyClass\":0.0,\"user\":\"Patrick Miguel Souza de Melo \",\"registration\":\" 20170068277\",\"mediaDifficulty\":0.0},{\"difficulty\":4,\"mediaDifficultyClass\":0.0,\"user\":\"Patrick Miguel Souza de Melo \",\"registration\":\" 20170068277\",\"mediaDifficulty\":0.0},{\"difficulty\":5,\"mediaDifficultyClass\":0.0,\"user\":\"Patrick Miguel Souza de Melo \",\"registration\":\" 20170068277\",\"mediaDifficulty\":0.0},{\"difficulty\":1,\"mediaDifficultyClass\":0.0,\"user\":\"Paulo Carvalho \",\"registration\":\" 2016034522\",\"mediaDifficulty\":0.0},{\"difficulty\":2,\"mediaDifficultyClass\":0.0,\"user\":\"Paulo Carvalho \",\"registration\":\" 2016034522\",\"mediaDifficulty\":0.0},{\"difficulty\":3,\"mediaDifficultyClass\":0.0,\"user\":\"Paulo Carvalho \",\"registration\":\" 2016034522\",\"mediaDifficulty\":0.0},{\"difficulty\":4,\"mediaDifficultyClass\":0.0,\"user\":\"Paulo Carvalho \",\"registration\":\" 2016034522\",\"mediaDifficulty\":0.0},{\"difficulty\":5,\"mediaDifficultyClass\":0.0,\"user\":\"Paulo Carvalho \",\"registration\":\" 2016034522\",\"mediaDifficulty\":0.0},{\"difficulty\":1,\"mediaDifficultyClass\":0.0,\"user\":\"Paulo Víctor de Medeiros Andrade \",\"registration\":\" 20190003046\",\"mediaDifficulty\":0.0},{\"difficulty\":2,\"mediaDifficultyClass\":0.0,\"user\":\"Paulo Víctor de Medeiros Andrade \",\"registration\":\" 20190003046\",\"mediaDifficulty\":0.0},{\"difficulty\":3,\"mediaDifficultyClass\":0.0,\"user\":\"Paulo Víctor de Medeiros Andrade \",\"registration\":\" 20190003046\",\"mediaDifficulty\":0.0},{\"difficulty\":4,\"mediaDifficultyClass\":0.0,\"user\":\"Paulo Víctor de Medeiros Andrade \",\"registration\":\" 20190003046\",\"mediaDifficulty\":0.0},{\"difficulty\":5,\"mediaDifficultyClass\":0.0,\"user\":\"Paulo Víctor de Medeiros Andrade \",\"registration\":\" 20190003046\",\"mediaDifficulty\":0.0},{\"difficulty\":1,\"mediaDifficultyClass\":0.0,\"user\":\"Pedro Garcia Pereira \",\"registration\":\" 20190040658\",\"mediaDifficulty\":0.0},{\"difficulty\":2,\"mediaDifficultyClass\":0.0,\"user\":\"Pedro Garcia Pereira \",\"registration\":\" 20190040658\",\"mediaDifficulty\":0.0},{\"difficulty\":3,\"mediaDifficultyClass\":0.0,\"user\":\"Pedro Garcia Pereira \",\"registration\":\" 20190040658\",\"mediaDifficulty\":0.0},{\"difficulty\":4,\"mediaDifficultyClass\":0.0,\"user\":\"Pedro Garcia Pereira \",\"registration\":\" 20190040658\",\"mediaDifficulty\":0.0},{\"difficulty\":5,\"mediaDifficultyClass\":0.0,\"user\":\"Pedro Garcia Pereira \",\"registration\":\" 20190040658\",\"mediaDifficulty\":0.0},{\"difficulty\":1,\"mediaDifficultyClass\":0.0,\"user\":\"Pedro Henrique Dantas de Aragão Mendes \",\"registration\":\" 20190003681\",\"mediaDifficulty\":0.0},{\"difficulty\":2,\"mediaDifficultyClass\":0.0,\"user\":\"Pedro Henrique Dantas de Aragão Mendes \",\"registration\":\" 20190003681\",\"mediaDifficulty\":0.0},{\"difficulty\":3,\"mediaDifficultyClass\":0.0,\"user\":\"Pedro Henrique Dantas de Aragão Mendes \",\"registration\":\" 20190003681\",\"mediaDifficulty\":0.0},{\"difficulty\":4,\"mediaDifficultyClass\":0.0,\"user\":\"Pedro Henrique Dantas de Aragão Mendes \",\"registration\":\" 20190003681\",\"mediaDifficulty\":0.0},{\"difficulty\":5,\"mediaDifficultyClass\":0.0,\"user\":\"Pedro Henrique Dantas de Aragão Mendes \",\"registration\":\" 20190003681\",\"mediaDifficulty\":0.0},{\"difficulty\":1,\"mediaDifficultyClass\":0.0,\"user\":\"Pedro Leite \",\"registration\":\" 20190000830\",\"mediaDifficulty\":0.0},{\"difficulty\":2,\"mediaDifficultyClass\":0.0,\"user\":\"Pedro Leite \",\"registration\":\" 20190000830\",\"mediaDifficulty\":0.0},{\"difficulty\":3,\"mediaDifficultyClass\":0.0,\"user\":\"Pedro Leite \",\"registration\":\" 20190000830\",\"mediaDifficulty\":0.0},{\"difficulty\":4,\"mediaDifficultyClass\":0.0,\"user\":\"Pedro Leite \",\"registration\":\" 20190000830\",\"mediaDifficulty\":0.0},{\"difficulty\":5,\"mediaDifficultyClass\":0.0,\"user\":\"Pedro Leite \",\"registration\":\" 20190000830\",\"mediaDifficulty\":0.0},{\"difficulty\":1,\"mediaDifficultyClass\":0.0,\"user\":\"Samuel Souza \",\"registration\":\" 20200046160\",\"mediaDifficulty\":0.0},{\"difficulty\":2,\"mediaDifficultyClass\":0.0,\"user\":\"Samuel Souza \",\"registration\":\" 20200046160\",\"mediaDifficulty\":0.0},{\"difficulty\":3,\"mediaDifficultyClass\":0.0,\"user\":\"Samuel Souza \",\"registration\":\" 20200046160\",\"mediaDifficulty\":0.0},{\"difficulty\":4,\"mediaDifficultyClass\":0.0,\"user\":\"Samuel Souza \",\"registration\":\" 20200046160\",\"mediaDifficulty\":0.0},{\"difficulty\":5,\"mediaDifficultyClass\":0.0,\"user\":\"Samuel Souza \",\"registration\":\" 20200046160\",\"mediaDifficulty\":0.0},{\"difficulty\":1,\"mediaDifficultyClass\":0.0,\"user\":\"Tales Vinícius de Medeiros Alves \",\"registration\":\" 20200040685\",\"mediaDifficulty\":0.0},{\"difficulty\":2,\"mediaDifficultyClass\":0.0,\"user\":\"Tales Vinícius de Medeiros Alves \",\"registration\":\" 20200040685\",\"mediaDifficulty\":0.0},{\"difficulty\":3,\"mediaDifficultyClass\":0.0,\"user\":\"Tales Vinícius de Medeiros Alves \",\"registration\":\" 20200040685\",\"mediaDifficulty\":0.0},{\"difficulty\":4,\"mediaDifficultyClass\":0.0,\"user\":\"Tales Vinícius de Medeiros Alves \",\"registration\":\" 20200040685\",\"mediaDifficulty\":0.0},{\"difficulty\":5,\"mediaDifficultyClass\":0.0,\"user\":\"Tales Vinícius de Medeiros Alves \",\"registration\":\" 20200040685\",\"mediaDifficulty\":0.0},{\"difficulty\":1,\"mediaDifficultyClass\":0.0,\"user\":\"Vitória Morais \",\"registration\":\" 20190046571\",\"mediaDifficulty\":0.0},{\"difficulty\":2,\"mediaDifficultyClass\":0.0,\"user\":\"Vitória Morais \",\"registration\":\" 20190046571\",\"mediaDifficulty\":0.0},{\"difficulty\":3,\"mediaDifficultyClass\":0.0,\"user\":\"Vitória Morais \",\"registration\":\" 20190046571\",\"mediaDifficulty\":0.0},{\"difficulty\":4,\"mediaDifficultyClass\":0.0,\"user\":\"Vitória Morais \",\"registration\":\" 20190046571\",\"mediaDifficulty\":0.0},{\"difficulty\":5,\"mediaDifficultyClass\":0.0,\"user\":\"Vitória Morais \",\"registration\":\" 20190046571\",\"mediaDifficulty\":0.0},{\"difficulty\":1,\"mediaDifficultyClass\":0.0,\"user\":\"Vítor Dantas Costa \",\"registration\":\" 20190146700\",\"mediaDifficulty\":0.0},{\"difficulty\":2,\"mediaDifficultyClass\":0.0,\"user\":\"Vítor Dantas Costa \",\"registration\":\" 20190146700\",\"mediaDifficulty\":0.0},{\"difficulty\":3,\"mediaDifficultyClass\":0.0,\"user\":\"Vítor Dantas Costa \",\"registration\":\" 20190146700\",\"mediaDifficulty\":0.0},{\"difficulty\":4,\"mediaDifficultyClass\":0.0,\"user\":\"Vítor Dantas Costa \",\"registration\":\" 20190146700\",\"mediaDifficulty\":0.0},{\"difficulty\":5,\"mediaDifficultyClass\":0.0,\"user\":\"Vítor Dantas Costa \",\"registration\":\" 20190146700\",\"mediaDifficulty\":0.0},{\"difficulty\":1,\"mediaDifficultyClass\":0.0,\"user\":\"alyssonblack \",\"registration\":\" 20170070435\",\"mediaDifficulty\":0.0},{\"difficulty\":2,\"mediaDifficultyClass\":0.0,\"user\":\"alyssonblack \",\"registration\":\" 20170070435\",\"mediaDifficulty\":0.0},{\"difficulty\":3,\"mediaDifficultyClass\":0.0,\"user\":\"alyssonblack \",\"registration\":\" 20170070435\",\"mediaDifficulty\":0.0},{\"difficulty\":4,\"mediaDifficultyClass\":0.0,\"user\":\"alyssonblack \",\"registration\":\" 20170070435\",\"mediaDifficulty\":0.0},{\"difficulty\":5,\"mediaDifficultyClass\":0.0,\"user\":\"alyssonblack \",\"registration\":\" 20170070435\",\"mediaDifficulty\":0.0},{\"difficulty\":1,\"mediaDifficultyClass\":0.0,\"user\":\"ellen Melo \",\"registration\":\" 20190105224\",\"mediaDifficulty\":0.0},{\"difficulty\":2,\"mediaDifficultyClass\":0.0,\"user\":\"ellen Melo \",\"registration\":\" 20190105224\",\"mediaDifficulty\":0.0},{\"difficulty\":3,\"mediaDifficultyClass\":0.0,\"user\":\"ellen Melo \",\"registration\":\" 20190105224\",\"mediaDifficulty\":0.0},{\"difficulty\":4,\"mediaDifficultyClass\":0.0,\"user\":\"ellen Melo \",\"registration\":\" 20190105224\",\"mediaDifficulty\":0.0},{\"difficulty\":5,\"mediaDifficultyClass\":0.0,\"user\":\"ellen Melo \",\"registration\":\" 20190105224\",\"mediaDifficulty\":0.0},{\"difficulty\":1,\"mediaDifficultyClass\":0.0,\"user\":\"enzo lopes danjour de souza \",\"registration\":\" 20190035658\",\"mediaDifficulty\":0.0},{\"difficulty\":2,\"mediaDifficultyClass\":0.0,\"user\":\"enzo lopes danjour de souza \",\"registration\":\" 20190035658\",\"mediaDifficulty\":0.0},{\"difficulty\":3,\"mediaDifficultyClass\":0.0,\"user\":\"enzo lopes danjour de souza \",\"registration\":\" 20190035658\",\"mediaDifficulty\":0.0},{\"difficulty\":4,\"mediaDifficultyClass\":0.0,\"user\":\"enzo lopes danjour de souza \",\"registration\":\" 20190035658\",\"mediaDifficulty\":0.0},{\"difficulty\":5,\"mediaDifficultyClass\":0.0,\"user\":\"enzo lopes danjour de souza \",\"registration\":\" 20190035658\",\"mediaDifficulty\":0.0},{\"difficulty\":1,\"mediaDifficultyClass\":0.0,\"user\":\"kaio cesar de sousa pinheiro \",\"registration\":\" 20180144793\",\"mediaDifficulty\":0.0},{\"difficulty\":2,\"mediaDifficultyClass\":0.0,\"user\":\"kaio cesar de sousa pinheiro \",\"registration\":\" 20180144793\",\"mediaDifficulty\":0.0},{\"difficulty\":3,\"mediaDifficultyClass\":0.0,\"user\":\"kaio cesar de sousa pinheiro \",\"registration\":\" 20180144793\",\"mediaDifficulty\":0.0},{\"difficulty\":4,\"mediaDifficultyClass\":0.0,\"user\":\"kaio cesar de sousa pinheiro \",\"registration\":\" 20180144793\",\"mediaDifficulty\":0.0},{\"difficulty\":5,\"mediaDifficultyClass\":0.0,\"user\":\"kaio cesar de sousa pinheiro \",\"registration\":\" 20180144793\",\"mediaDifficulty\":0.0},{\"difficulty\":1,\"mediaDifficultyClass\":0.0,\"user\":\"marciotenorio \",\"registration\":\" 20180119880\",\"mediaDifficulty\":0.0},{\"difficulty\":2,\"mediaDifficultyClass\":0.0,\"user\":\"marciotenorio \",\"registration\":\" 20180119880\",\"mediaDifficulty\":0.0},{\"difficulty\":3,\"mediaDifficultyClass\":0.0,\"user\":\"marciotenorio \",\"registration\":\" 20180119880\",\"mediaDifficulty\":0.0},{\"difficulty\":4,\"mediaDifficultyClass\":0.0,\"user\":\"marciotenorio \",\"registration\":\" 20180119880\",\"mediaDifficulty\":0.0},{\"difficulty\":5,\"mediaDifficultyClass\":0.0,\"user\":\"marciotenorio \",\"registration\":\" 20180119880\",\"mediaDifficulty\":0.0}],\"GEDP\":[{\"difficulty\":1.0,\"mediaDifficultyClass\":2.1959865417,\"user\":\"ANTONIO AUGUSTO DE LIMA SILVA \",\"registration\":\" 20180069652\",\"mediaDifficulty\":1.3698630137},{\"difficulty\":2.0,\"mediaDifficultyClass\":2.2721258453,\"user\":\"ANTONIO AUGUSTO DE LIMA SILVA \",\"registration\":\" 20180069652\",\"mediaDifficulty\":0.5586592179},{\"difficulty\":3.0,\"mediaDifficultyClass\":2.0605245614,\"user\":\"ANTONIO AUGUSTO DE LIMA SILVA \",\"registration\":\" 20180069652\",\"mediaDifficulty\":0.6666666667},{\"difficulty\":4.0,\"mediaDifficultyClass\":2.2417153996,\"user\":\"ANTONIO AUGUSTO DE LIMA SILVA \",\"registration\":\" 20180069652\",\"mediaDifficulty\":1.8518518519},{\"difficulty\":5.0,\"mediaDifficultyClass\":0.0,\"user\":\"ANTONIO AUGUSTO DE LIMA SILVA \",\"registration\":\" 20180069652\",\"mediaDifficulty\":0.0},{\"difficulty\":1.0,\"mediaDifficultyClass\":2.1959865417,\"user\":\"Abílio Fontenelle \",\"registration\":\" 20180067952\",\"mediaDifficulty\":2.2831050228},{\"difficulty\":2.0,\"mediaDifficultyClass\":2.2721258453,\"user\":\"Abílio Fontenelle \",\"registration\":\" 20180067952\",\"mediaDifficulty\":0.5586592179},{\"difficulty\":3.0,\"mediaDifficultyClass\":2.0605245614,\"user\":\"Abílio Fontenelle \",\"registration\":\" 20180067952\",\"mediaDifficulty\":0.3333333333},{\"difficulty\":4.0,\"mediaDifficultyClass\":2.2417153996,\"user\":\"Abílio Fontenelle \",\"registration\":\" 20180067952\",\"mediaDifficulty\":3.7037037037},{\"difficulty\":5.0,\"mediaDifficultyClass\":0.0,\"user\":\"Abílio Fontenelle \",\"registration\":\" 20180067952\",\"mediaDifficulty\":0.0},{\"difficulty\":1.0,\"mediaDifficultyClass\":2.1959865417,\"user\":\"Allef Vinicius \",\"registration\":\" 20180069714\",\"mediaDifficulty\":3.6529680365},{\"difficulty\":2.0,\"mediaDifficultyClass\":2.2721258453,\"user\":\"Allef Vinicius \",\"registration\":\" 20180069714\",\"mediaDifficulty\":3.9106145251},{\"difficulty\":3.0,\"mediaDifficultyClass\":2.0605245614,\"user\":\"Allef Vinicius \",\"registration\":\" 20180069714\",\"mediaDifficulty\":6.0},{\"difficulty\":4.0,\"mediaDifficultyClass\":2.2417153996,\"user\":\"Allef Vinicius \",\"registration\":\" 20180069714\",\"mediaDifficulty\":3.7037037037},{\"difficulty\":5.0,\"mediaDifficultyClass\":0.0,\"user\":\"Allef Vinicius \",\"registration\":\" 20180069714\",\"mediaDifficulty\":0.0},{\"difficulty\":1.0,\"mediaDifficultyClass\":2.1959865417,\"user\":\"André Luiz Rodrigues Soares \",\"registration\":\" 20180001960\",\"mediaDifficulty\":4.1095890411},{\"difficulty\":2.0,\"mediaDifficultyClass\":2.2721258453,\"user\":\"André Luiz Rodrigues Soares \",\"registration\":\" 20180001960\",\"mediaDifficulty\":6.7039106145},{\"difficulty\":3.0,\"mediaDifficultyClass\":2.0605245614,\"user\":\"André Luiz Rodrigues Soares \",\"registration\":\" 20180001960\",\"mediaDifficulty\":8.0},{\"difficulty\":4.0,\"mediaDifficultyClass\":2.2417153996,\"user\":\"André Luiz Rodrigues Soares \",\"registration\":\" 20180001960\",\"mediaDifficulty\":3.7037037037},{\"difficulty\":5.0,\"mediaDifficultyClass\":0.0,\"user\":\"André Luiz Rodrigues Soares \",\"registration\":\" 20180001960\",\"mediaDifficulty\":0.0},{\"difficulty\":1.0,\"mediaDifficultyClass\":2.1959865417,\"user\":\"Arthur Learth \",\"registration\":\" 20180071294\",\"mediaDifficulty\":0.4566210046},{\"difficulty\":2.0,\"mediaDifficultyClass\":2.2721258453,\"user\":\"Arthur Learth \",\"registration\":\" 20180071294\",\"mediaDifficulty\":1.0055865922},{\"difficulty\":3.0,\"mediaDifficultyClass\":2.0605245614,\"user\":\"Arthur Learth \",\"registration\":\" 20180071294\",\"mediaDifficulty\":0.6666666667},{\"difficulty\":4.0,\"mediaDifficultyClass\":2.2417153996,\"user\":\"Arthur Learth \",\"registration\":\" 20180071294\",\"mediaDifficulty\":0.9259259259},{\"difficulty\":5.0,\"mediaDifficultyClass\":0.0,\"user\":\"Arthur Learth \",\"registration\":\" 20180071294\",\"mediaDifficulty\":0.0},{\"difficulty\":1.0,\"mediaDifficultyClass\":2.1959865417,\"user\":\"Daniel \",\"registration\":\" 20190046016\",\"mediaDifficulty\":1.8264840183},{\"difficulty\":2.0,\"mediaDifficultyClass\":2.2721258453,\"user\":\"Daniel \",\"registration\":\" 20190046016\",\"mediaDifficulty\":0.0},{\"difficulty\":3.0,\"mediaDifficultyClass\":2.0605245614,\"user\":\"Daniel \",\"registration\":\" 20190046016\",\"mediaDifficulty\":1.3333333333},{\"difficulty\":4.0,\"mediaDifficultyClass\":2.2417153996,\"user\":\"Daniel \",\"registration\":\" 20190046016\",\"mediaDifficulty\":0.0},{\"difficulty\":5.0,\"mediaDifficultyClass\":0.0,\"user\":\"Daniel \",\"registration\":\" 20190046016\",\"mediaDifficulty\":0.0},{\"difficulty\":1.0,\"mediaDifficultyClass\":2.1959865417,\"user\":\"Deborah Dantas \",\"registration\":\" 20190036691\",\"mediaDifficulty\":2.8538812785},{\"difficulty\":2.0,\"mediaDifficultyClass\":2.2721258453,\"user\":\"Deborah Dantas \",\"registration\":\" 20190036691\",\"mediaDifficulty\":2.2346368715},{\"difficulty\":3.0,\"mediaDifficultyClass\":2.0605245614,\"user\":\"Deborah Dantas \",\"registration\":\" 20190036691\",\"mediaDifficulty\":0.6666666667},{\"difficulty\":4.0,\"mediaDifficultyClass\":2.2417153996,\"user\":\"Deborah Dantas \",\"registration\":\" 20190036691\",\"mediaDifficulty\":0.9259259259},{\"difficulty\":5.0,\"mediaDifficultyClass\":0.0,\"user\":\"Deborah Dantas \",\"registration\":\" 20190036691\",\"mediaDifficulty\":0.0},{\"difficulty\":1.0,\"mediaDifficultyClass\":2.1959865417,\"user\":\"Dimitri Lima \",\"registration\":\" Ufrn\",\"mediaDifficulty\":1.8264840183},{\"difficulty\":2.0,\"mediaDifficultyClass\":2.2721258453,\"user\":\"Dimitri Lima \",\"registration\":\" Ufrn\",\"mediaDifficulty\":1.6759776536},{\"difficulty\":3.0,\"mediaDifficultyClass\":2.0605245614,\"user\":\"Dimitri Lima \",\"registration\":\" Ufrn\",\"mediaDifficulty\":0.6666666667},{\"difficulty\":4.0,\"mediaDifficultyClass\":2.2417153996,\"user\":\"Dimitri Lima \",\"registration\":\" Ufrn\",\"mediaDifficulty\":2.7777777778},{\"difficulty\":5.0,\"mediaDifficultyClass\":0.0,\"user\":\"Dimitri Lima \",\"registration\":\" Ufrn\",\"mediaDifficulty\":0.0},{\"difficulty\":1.0,\"mediaDifficultyClass\":2.1959865417,\"user\":\"Felipe Costa \",\"registration\":\" 20190043453\",\"mediaDifficulty\":4.1095890411},{\"difficulty\":2.0,\"mediaDifficultyClass\":2.2721258453,\"user\":\"Felipe Costa \",\"registration\":\" 20190043453\",\"mediaDifficulty\":6.7039106145},{\"difficulty\":3.0,\"mediaDifficultyClass\":2.0605245614,\"user\":\"Felipe Costa \",\"registration\":\" 20190043453\",\"mediaDifficulty\":8.6666666667},{\"difficulty\":4.0,\"mediaDifficultyClass\":2.2417153996,\"user\":\"Felipe Costa \",\"registration\":\" 20190043453\",\"mediaDifficulty\":3.7037037037},{\"difficulty\":5.0,\"mediaDifficultyClass\":0.0,\"user\":\"Felipe Costa \",\"registration\":\" 20190043453\",\"mediaDifficulty\":0.0},{\"difficulty\":1.0,\"mediaDifficultyClass\":2.1959865417,\"user\":\"GABRIEL FERNANDES LAURINDO \",\"registration\":\" 20190126761\",\"mediaDifficulty\":1.3698630137},{\"difficulty\":2.0,\"mediaDifficultyClass\":2.2721258453,\"user\":\"GABRIEL FERNANDES LAURINDO \",\"registration\":\" 20190126761\",\"mediaDifficulty\":0.5586592179},{\"difficulty\":3.0,\"mediaDifficultyClass\":2.0605245614,\"user\":\"GABRIEL FERNANDES LAURINDO \",\"registration\":\" 20190126761\",\"mediaDifficulty\":0.6666666667},{\"difficulty\":4.0,\"mediaDifficultyClass\":2.2417153996,\"user\":\"GABRIEL FERNANDES LAURINDO \",\"registration\":\" 20190126761\",\"mediaDifficulty\":3.7037037037},{\"difficulty\":5.0,\"mediaDifficultyClass\":0.0,\"user\":\"GABRIEL FERNANDES LAURINDO \",\"registration\":\" 20190126761\",\"mediaDifficulty\":0.0},{\"difficulty\":1.0,\"mediaDifficultyClass\":2.1959865417,\"user\":\"Gabriel Bassani \",\"registration\":\" 20190043794\",\"mediaDifficulty\":2.2831050228},{\"difficulty\":2.0,\"mediaDifficultyClass\":2.2721258453,\"user\":\"Gabriel Bassani \",\"registration\":\" 20190043794\",\"mediaDifficulty\":2.2346368715},{\"difficulty\":3.0,\"mediaDifficultyClass\":2.0605245614,\"user\":\"Gabriel Bassani \",\"registration\":\" 20190043794\",\"mediaDifficulty\":1.6},{\"difficulty\":4.0,\"mediaDifficultyClass\":2.2417153996,\"user\":\"Gabriel Bassani \",\"registration\":\" 20190043794\",\"mediaDifficulty\":3.7037037037},{\"difficulty\":5.0,\"mediaDifficultyClass\":0.0,\"user\":\"Gabriel Bassani \",\"registration\":\" 20190043794\",\"mediaDifficulty\":0.0},{\"difficulty\":1.0,\"mediaDifficultyClass\":2.1959865417,\"user\":\"Gabriel Vinícius Lima da Costa Medeiros \",\"registration\":\" 20190041978\",\"mediaDifficulty\":3.196347032},{\"difficulty\":2.0,\"mediaDifficultyClass\":2.2721258453,\"user\":\"Gabriel Vinícius Lima da Costa Medeiros \",\"registration\":\" 20190041978\",\"mediaDifficulty\":3.3519553073},{\"difficulty\":3.0,\"mediaDifficultyClass\":2.0605245614,\"user\":\"Gabriel Vinícius Lima da Costa Medeiros \",\"registration\":\" 20190041978\",\"mediaDifficulty\":1.3333333333},{\"difficulty\":4.0,\"mediaDifficultyClass\":2.2417153996,\"user\":\"Gabriel Vinícius Lima da Costa Medeiros \",\"registration\":\" 20190041978\",\"mediaDifficulty\":3.7037037037},{\"difficulty\":5.0,\"mediaDifficultyClass\":0.0,\"user\":\"Gabriel Vinícius Lima da Costa Medeiros \",\"registration\":\" 20190041978\",\"mediaDifficulty\":0.0},{\"difficulty\":1.0,\"mediaDifficultyClass\":2.1959865417,\"user\":\"Guilherme Augusto Santana de Lima \",\"registration\":\" 20190044138\",\"mediaDifficulty\":2.2831050228},{\"difficulty\":2.0,\"mediaDifficultyClass\":2.2721258453,\"user\":\"Guilherme Augusto Santana de Lima \",\"registration\":\" 20190044138\",\"mediaDifficulty\":1.1173184358},{\"difficulty\":3.0,\"mediaDifficultyClass\":2.0605245614,\"user\":\"Guilherme Augusto Santana de Lima \",\"registration\":\" 20190044138\",\"mediaDifficulty\":1.3333333333},{\"difficulty\":4.0,\"mediaDifficultyClass\":2.2417153996,\"user\":\"Guilherme Augusto Santana de Lima \",\"registration\":\" 20190044138\",\"mediaDifficulty\":0.0},{\"difficulty\":5.0,\"mediaDifficultyClass\":0.0,\"user\":\"Guilherme Augusto Santana de Lima \",\"registration\":\" 20190044138\",\"mediaDifficulty\":0.0},{\"difficulty\":1.0,\"mediaDifficultyClass\":2.1959865417,\"user\":\"Iury Lamonie \",\"registration\":\" Monitor\",\"mediaDifficulty\":0.0},{\"difficulty\":2.0,\"mediaDifficultyClass\":2.2721258453,\"user\":\"Iury Lamonie \",\"registration\":\" Monitor\",\"mediaDifficulty\":0.0},{\"difficulty\":3.0,\"mediaDifficultyClass\":2.0605245614,\"user\":\"Iury Lamonie \",\"registration\":\" Monitor\",\"mediaDifficulty\":0.0},{\"difficulty\":4.0,\"mediaDifficultyClass\":2.2417153996,\"user\":\"Iury Lamonie \",\"registration\":\" Monitor\",\"mediaDifficulty\":2.7777777778},{\"difficulty\":5.0,\"mediaDifficultyClass\":0.0,\"user\":\"Iury Lamonie \",\"registration\":\" Monitor\",\"mediaDifficulty\":0.0},{\"difficulty\":1.0,\"mediaDifficultyClass\":2.1959865417,\"user\":\"Jackson D \",\"registration\":\" 20200038945\",\"mediaDifficulty\":2.2831050228},{\"difficulty\":2.0,\"mediaDifficultyClass\":2.2721258453,\"user\":\"Jackson D \",\"registration\":\" 20200038945\",\"mediaDifficulty\":2.2346368715},{\"difficulty\":3.0,\"mediaDifficultyClass\":2.0605245614,\"user\":\"Jackson D \",\"registration\":\" 20200038945\",\"mediaDifficulty\":0.6666666667},{\"difficulty\":4.0,\"mediaDifficultyClass\":2.2417153996,\"user\":\"Jackson D \",\"registration\":\" 20200038945\",\"mediaDifficulty\":3.7037037037},{\"difficulty\":5.0,\"mediaDifficultyClass\":0.0,\"user\":\"Jackson D \",\"registration\":\" 20200038945\",\"mediaDifficulty\":0.0},{\"difficulty\":1.0,\"mediaDifficultyClass\":2.1959865417,\"user\":\"Joao Victor Leandro \",\"registration\":\" 20190146693\",\"mediaDifficulty\":0.0},{\"difficulty\":2.0,\"mediaDifficultyClass\":2.2721258453,\"user\":\"Joao Victor Leandro \",\"registration\":\" 20190146693\",\"mediaDifficulty\":0.0},{\"difficulty\":3.0,\"mediaDifficultyClass\":2.0605245614,\"user\":\"Joao Victor Leandro \",\"registration\":\" 20190146693\",\"mediaDifficulty\":0.0},{\"difficulty\":4.0,\"mediaDifficultyClass\":2.2417153996,\"user\":\"Joao Victor Leandro \",\"registration\":\" 20190146693\",\"mediaDifficulty\":0.0},{\"difficulty\":5.0,\"mediaDifficultyClass\":0.0,\"user\":\"Joao Victor Leandro \",\"registration\":\" 20190146693\",\"mediaDifficulty\":0.0},{\"difficulty\":1.0,\"mediaDifficultyClass\":2.1959865417,\"user\":\"José Carvalho \",\"registration\":\" 20190048558\",\"mediaDifficulty\":0.0},{\"difficulty\":2.0,\"mediaDifficultyClass\":2.2721258453,\"user\":\"José Carvalho \",\"registration\":\" 20190048558\",\"mediaDifficulty\":0.0},{\"difficulty\":3.0,\"mediaDifficultyClass\":2.0605245614,\"user\":\"José Carvalho \",\"registration\":\" 20190048558\",\"mediaDifficulty\":0.0},{\"difficulty\":4.0,\"mediaDifficultyClass\":2.2417153996,\"user\":\"José Carvalho \",\"registration\":\" 20190048558\",\"mediaDifficulty\":0.0},{\"difficulty\":5.0,\"mediaDifficultyClass\":0.0,\"user\":\"José Carvalho \",\"registration\":\" 20190048558\",\"mediaDifficulty\":0.0},{\"difficulty\":1.0,\"mediaDifficultyClass\":2.1959865417,\"user\":\"João Gabriel Trindade \",\"registration\":\" 20190010588\",\"mediaDifficulty\":3.6529680365},{\"difficulty\":2.0,\"mediaDifficultyClass\":2.2721258453,\"user\":\"João Gabriel Trindade \",\"registration\":\" 20190010588\",\"mediaDifficulty\":3.7709497207},{\"difficulty\":3.0,\"mediaDifficultyClass\":2.0605245614,\"user\":\"João Gabriel Trindade \",\"registration\":\" 20190010588\",\"mediaDifficulty\":2.6666666667},{\"difficulty\":4.0,\"mediaDifficultyClass\":2.2417153996,\"user\":\"João Gabriel Trindade \",\"registration\":\" 20190010588\",\"mediaDifficulty\":1.8518518519},{\"difficulty\":5.0,\"mediaDifficultyClass\":0.0,\"user\":\"João Gabriel Trindade \",\"registration\":\" 20190010588\",\"mediaDifficulty\":0.0},{\"difficulty\":1.0,\"mediaDifficultyClass\":2.1959865417,\"user\":\"João Maria Mauricio \",\"registration\":\" 20180118944\",\"mediaDifficulty\":0.9132420091},{\"difficulty\":2.0,\"mediaDifficultyClass\":2.2721258453,\"user\":\"João Maria Mauricio \",\"registration\":\" 20180118944\",\"mediaDifficulty\":2.2346368715},{\"difficulty\":3.0,\"mediaDifficultyClass\":2.0605245614,\"user\":\"João Maria Mauricio \",\"registration\":\" 20180118944\",\"mediaDifficulty\":1.3333333333},{\"difficulty\":4.0,\"mediaDifficultyClass\":2.2417153996,\"user\":\"João Maria Mauricio \",\"registration\":\" 20180118944\",\"mediaDifficulty\":0.0},{\"difficulty\":5.0,\"mediaDifficultyClass\":0.0,\"user\":\"João Maria Mauricio \",\"registration\":\" 20180118944\",\"mediaDifficulty\":0.0},{\"difficulty\":1.0,\"mediaDifficultyClass\":2.1959865417,\"user\":\"Lucas da Costa Fontes \",\"registration\":\" 20180122141\",\"mediaDifficulty\":2.7397260274},{\"difficulty\":2.0,\"mediaDifficultyClass\":2.2721258453,\"user\":\"Lucas da Costa Fontes \",\"registration\":\" 20180122141\",\"mediaDifficulty\":2.7932960894},{\"difficulty\":3.0,\"mediaDifficultyClass\":2.0605245614,\"user\":\"Lucas da Costa Fontes \",\"registration\":\" 20180122141\",\"mediaDifficulty\":2.0},{\"difficulty\":4.0,\"mediaDifficultyClass\":2.2417153996,\"user\":\"Lucas da Costa Fontes \",\"registration\":\" 20180122141\",\"mediaDifficulty\":3.7037037037},{\"difficulty\":5.0,\"mediaDifficultyClass\":0.0,\"user\":\"Lucas da Costa Fontes \",\"registration\":\" 20180122141\",\"mediaDifficulty\":0.0},{\"difficulty\":1.0,\"mediaDifficultyClass\":2.1959865417,\"user\":\"Luiz Paulo Assis Cavalcante de Freitas \",\"registration\":\" 20190103408\",\"mediaDifficulty\":2.7397260274},{\"difficulty\":2.0,\"mediaDifficultyClass\":2.2721258453,\"user\":\"Luiz Paulo Assis Cavalcante de Freitas \",\"registration\":\" 20190103408\",\"mediaDifficulty\":2.7932960894},{\"difficulty\":3.0,\"mediaDifficultyClass\":2.0605245614,\"user\":\"Luiz Paulo Assis Cavalcante de Freitas \",\"registration\":\" 20190103408\",\"mediaDifficulty\":1.3333333333},{\"difficulty\":4.0,\"mediaDifficultyClass\":2.2417153996,\"user\":\"Luiz Paulo Assis Cavalcante de Freitas \",\"registration\":\" 20190103408\",\"mediaDifficulty\":3.7037037037},{\"difficulty\":5.0,\"mediaDifficultyClass\":0.0,\"user\":\"Luiz Paulo Assis Cavalcante de Freitas \",\"registration\":\" 20190103408\",\"mediaDifficulty\":0.0},{\"difficulty\":1.0,\"mediaDifficultyClass\":2.1959865417,\"user\":\"Matheus Alves \",\"registration\":\" 20180062956\",\"mediaDifficulty\":1.8264840183},{\"difficulty\":2.0,\"mediaDifficultyClass\":2.2721258453,\"user\":\"Matheus Alves \",\"registration\":\" 20180062956\",\"mediaDifficulty\":0.5586592179},{\"difficulty\":3.0,\"mediaDifficultyClass\":2.0605245614,\"user\":\"Matheus Alves \",\"registration\":\" 20180062956\",\"mediaDifficulty\":0.2222},{\"difficulty\":4.0,\"mediaDifficultyClass\":2.2417153996,\"user\":\"Matheus Alves \",\"registration\":\" 20180062956\",\"mediaDifficulty\":3.7037037037},{\"difficulty\":5.0,\"mediaDifficultyClass\":0.0,\"user\":\"Matheus Alves \",\"registration\":\" 20180062956\",\"mediaDifficulty\":0.0},{\"difficulty\":1.0,\"mediaDifficultyClass\":2.1959865417,\"user\":\"Matheus Henrique Fonseca Valerio \",\"registration\":\" 20180063597\",\"mediaDifficulty\":1.3698630137},{\"difficulty\":2.0,\"mediaDifficultyClass\":2.2721258453,\"user\":\"Matheus Henrique Fonseca Valerio \",\"registration\":\" 20180063597\",\"mediaDifficulty\":2.2346368715},{\"difficulty\":3.0,\"mediaDifficultyClass\":2.0605245614,\"user\":\"Matheus Henrique Fonseca Valerio \",\"registration\":\" 20180063597\",\"mediaDifficulty\":2.0},{\"difficulty\":4.0,\"mediaDifficultyClass\":2.2417153996,\"user\":\"Matheus Henrique Fonseca Valerio \",\"registration\":\" 20180063597\",\"mediaDifficulty\":0.0},{\"difficulty\":5.0,\"mediaDifficultyClass\":0.0,\"user\":\"Matheus Henrique Fonseca Valerio \",\"registration\":\" 20180063597\",\"mediaDifficulty\":0.0},{\"difficulty\":1.0,\"mediaDifficultyClass\":2.1959865417,\"user\":\"Patrick Miguel Souza de Melo \",\"registration\":\" 20170068277\",\"mediaDifficulty\":0.4566210046},{\"difficulty\":2.0,\"mediaDifficultyClass\":2.2721258453,\"user\":\"Patrick Miguel Souza de Melo \",\"registration\":\" 20170068277\",\"mediaDifficulty\":1.6759776536},{\"difficulty\":3.0,\"mediaDifficultyClass\":2.0605245614,\"user\":\"Patrick Miguel Souza de Melo \",\"registration\":\" 20170068277\",\"mediaDifficulty\":0.6666666667},{\"difficulty\":4.0,\"mediaDifficultyClass\":2.2417153996,\"user\":\"Patrick Miguel Souza de Melo \",\"registration\":\" 20170068277\",\"mediaDifficulty\":0.0},{\"difficulty\":5.0,\"mediaDifficultyClass\":0.0,\"user\":\"Patrick Miguel Souza de Melo \",\"registration\":\" 20170068277\",\"mediaDifficulty\":0.0},{\"difficulty\":1.0,\"mediaDifficultyClass\":2.1959865417,\"user\":\"Paulo Carvalho \",\"registration\":\" 2016034522\",\"mediaDifficulty\":2.7397260274},{\"difficulty\":2.0,\"mediaDifficultyClass\":2.2721258453,\"user\":\"Paulo Carvalho \",\"registration\":\" 2016034522\",\"mediaDifficulty\":2.7932960894},{\"difficulty\":3.0,\"mediaDifficultyClass\":2.0605245614,\"user\":\"Paulo Carvalho \",\"registration\":\" 2016034522\",\"mediaDifficulty\":1.3333333333},{\"difficulty\":4.0,\"mediaDifficultyClass\":2.2417153996,\"user\":\"Paulo Carvalho \",\"registration\":\" 2016034522\",\"mediaDifficulty\":3.7037037037},{\"difficulty\":5.0,\"mediaDifficultyClass\":0.0,\"user\":\"Paulo Carvalho \",\"registration\":\" 2016034522\",\"mediaDifficulty\":0.0},{\"difficulty\":1.0,\"mediaDifficultyClass\":2.1959865417,\"user\":\"Paulo Víctor de Medeiros Andrade \",\"registration\":\" 20190003046\",\"mediaDifficulty\":1.3698630137},{\"difficulty\":2.0,\"mediaDifficultyClass\":2.2721258453,\"user\":\"Paulo Víctor de Medeiros Andrade \",\"registration\":\" 20190003046\",\"mediaDifficulty\":0.5586592179},{\"difficulty\":3.0,\"mediaDifficultyClass\":2.0605245614,\"user\":\"Paulo Víctor de Medeiros Andrade \",\"registration\":\" 20190003046\",\"mediaDifficulty\":0.2222},{\"difficulty\":4.0,\"mediaDifficultyClass\":2.2417153996,\"user\":\"Paulo Víctor de Medeiros Andrade \",\"registration\":\" 20190003046\",\"mediaDifficulty\":0.0},{\"difficulty\":5.0,\"mediaDifficultyClass\":0.0,\"user\":\"Paulo Víctor de Medeiros Andrade \",\"registration\":\" 20190003046\",\"mediaDifficulty\":0.0},{\"difficulty\":1.0,\"mediaDifficultyClass\":2.1959865417,\"user\":\"Pedro Garcia Pereira \",\"registration\":\" 20190040658\",\"mediaDifficulty\":5.4794520548},{\"difficulty\":2.0,\"mediaDifficultyClass\":2.2721258453,\"user\":\"Pedro Garcia Pereira \",\"registration\":\" 20190040658\",\"mediaDifficulty\":6.1452513966},{\"difficulty\":3.0,\"mediaDifficultyClass\":2.0605245614,\"user\":\"Pedro Garcia Pereira \",\"registration\":\" 20190040658\",\"mediaDifficulty\":7.5},{\"difficulty\":4.0,\"mediaDifficultyClass\":2.2417153996,\"user\":\"Pedro Garcia Pereira \",\"registration\":\" 20190040658\",\"mediaDifficulty\":3.7037037037},{\"difficulty\":5.0,\"mediaDifficultyClass\":0.0,\"user\":\"Pedro Garcia Pereira \",\"registration\":\" 20190040658\",\"mediaDifficulty\":0.0},{\"difficulty\":1.0,\"mediaDifficultyClass\":2.1959865417,\"user\":\"Pedro Henrique Dantas de Aragão Mendes \",\"registration\":\" 20190003681\",\"mediaDifficulty\":1.3698630137},{\"difficulty\":2.0,\"mediaDifficultyClass\":2.2721258453,\"user\":\"Pedro Henrique Dantas de Aragão Mendes \",\"registration\":\" 20190003681\",\"mediaDifficulty\":1.6759776536},{\"difficulty\":3.0,\"mediaDifficultyClass\":2.0605245614,\"user\":\"Pedro Henrique Dantas de Aragão Mendes \",\"registration\":\" 20190003681\",\"mediaDifficulty\":0.2222},{\"difficulty\":4.0,\"mediaDifficultyClass\":2.2417153996,\"user\":\"Pedro Henrique Dantas de Aragão Mendes \",\"registration\":\" 20190003681\",\"mediaDifficulty\":3.7037037037},{\"difficulty\":5.0,\"mediaDifficultyClass\":0.0,\"user\":\"Pedro Henrique Dantas de Aragão Mendes \",\"registration\":\" 20190003681\",\"mediaDifficulty\":0.0},{\"difficulty\":1.0,\"mediaDifficultyClass\":2.1959865417,\"user\":\"Pedro Leite \",\"registration\":\" 20190000830\",\"mediaDifficulty\":1.8264840183},{\"difficulty\":2.0,\"mediaDifficultyClass\":2.2721258453,\"user\":\"Pedro Leite \",\"registration\":\" 20190000830\",\"mediaDifficulty\":2.2346368715},{\"difficulty\":3.0,\"mediaDifficultyClass\":2.0605245614,\"user\":\"Pedro Leite \",\"registration\":\" 20190000830\",\"mediaDifficulty\":2.5333333333},{\"difficulty\":4.0,\"mediaDifficultyClass\":2.2417153996,\"user\":\"Pedro Leite \",\"registration\":\" 20190000830\",\"mediaDifficulty\":3.7037037037},{\"difficulty\":5.0,\"mediaDifficultyClass\":0.0,\"user\":\"Pedro Leite \",\"registration\":\" 20190000830\",\"mediaDifficulty\":0.0},{\"difficulty\":1.0,\"mediaDifficultyClass\":2.1959865417,\"user\":\"Samuel Souza \",\"registration\":\" 20200046160\",\"mediaDifficulty\":2.7397260274},{\"difficulty\":2.0,\"mediaDifficultyClass\":2.2721258453,\"user\":\"Samuel Souza \",\"registration\":\" 20200046160\",\"mediaDifficulty\":2.2346368715},{\"difficulty\":3.0,\"mediaDifficultyClass\":2.0605245614,\"user\":\"Samuel Souza \",\"registration\":\" 20200046160\",\"mediaDifficulty\":2.0},{\"difficulty\":4.0,\"mediaDifficultyClass\":2.2417153996,\"user\":\"Samuel Souza \",\"registration\":\" 20200046160\",\"mediaDifficulty\":3.7037037037},{\"difficulty\":5.0,\"mediaDifficultyClass\":0.0,\"user\":\"Samuel Souza \",\"registration\":\" 20200046160\",\"mediaDifficulty\":0.0},{\"difficulty\":1.0,\"mediaDifficultyClass\":2.1959865417,\"user\":\"Tales Vinícius de Medeiros Alves \",\"registration\":\" 20200040685\",\"mediaDifficulty\":5.4794520548},{\"difficulty\":2.0,\"mediaDifficultyClass\":2.2721258453,\"user\":\"Tales Vinícius de Medeiros Alves \",\"registration\":\" 20200040685\",\"mediaDifficulty\":5.5865921788},{\"difficulty\":3.0,\"mediaDifficultyClass\":2.0605245614,\"user\":\"Tales Vinícius de Medeiros Alves \",\"registration\":\" 20200040685\",\"mediaDifficulty\":8.0},{\"difficulty\":4.0,\"mediaDifficultyClass\":2.2417153996,\"user\":\"Tales Vinícius de Medeiros Alves \",\"registration\":\" 20200040685\",\"mediaDifficulty\":3.7037037037},{\"difficulty\":5.0,\"mediaDifficultyClass\":0.0,\"user\":\"Tales Vinícius de Medeiros Alves \",\"registration\":\" 20200040685\",\"mediaDifficulty\":0.0},{\"difficulty\":1.0,\"mediaDifficultyClass\":2.1959865417,\"user\":\"Vitória Morais \",\"registration\":\" 20190046571\",\"mediaDifficulty\":3.196347032},{\"difficulty\":2.0,\"mediaDifficultyClass\":2.2721258453,\"user\":\"Vitória Morais \",\"registration\":\" 20190046571\",\"mediaDifficulty\":3.3519553073},{\"difficulty\":3.0,\"mediaDifficultyClass\":2.0605245614,\"user\":\"Vitória Morais \",\"registration\":\" 20190046571\",\"mediaDifficulty\":1.3333333333},{\"difficulty\":4.0,\"mediaDifficultyClass\":2.2417153996,\"user\":\"Vitória Morais \",\"registration\":\" 20190046571\",\"mediaDifficulty\":3.7037037037},{\"difficulty\":5.0,\"mediaDifficultyClass\":0.0,\"user\":\"Vitória Morais \",\"registration\":\" 20190046571\",\"mediaDifficulty\":0.0},{\"difficulty\":1.0,\"mediaDifficultyClass\":2.1959865417,\"user\":\"Vítor Dantas Costa \",\"registration\":\" 20190146700\",\"mediaDifficulty\":5.4794520548},{\"difficulty\":2.0,\"mediaDifficultyClass\":2.2721258453,\"user\":\"Vítor Dantas Costa \",\"registration\":\" 20190146700\",\"mediaDifficulty\":4.469273743},{\"difficulty\":3.0,\"mediaDifficultyClass\":2.0605245614,\"user\":\"Vítor Dantas Costa \",\"registration\":\" 20190146700\",\"mediaDifficulty\":7.0},{\"difficulty\":4.0,\"mediaDifficultyClass\":2.2417153996,\"user\":\"Vítor Dantas Costa \",\"registration\":\" 20190146700\",\"mediaDifficulty\":0.0},{\"difficulty\":5.0,\"mediaDifficultyClass\":0.0,\"user\":\"Vítor Dantas Costa \",\"registration\":\" 20190146700\",\"mediaDifficulty\":0.0},{\"difficulty\":1.0,\"mediaDifficultyClass\":2.1959865417,\"user\":\"alyssonblack \",\"registration\":\" 20170070435\",\"mediaDifficulty\":0.4566210046},{\"difficulty\":2.0,\"mediaDifficultyClass\":2.2721258453,\"user\":\"alyssonblack \",\"registration\":\" 20170070435\",\"mediaDifficulty\":1.6759776536},{\"difficulty\":3.0,\"mediaDifficultyClass\":2.0605245614,\"user\":\"alyssonblack \",\"registration\":\" 20170070435\",\"mediaDifficulty\":0.0},{\"difficulty\":4.0,\"mediaDifficultyClass\":2.2417153996,\"user\":\"alyssonblack \",\"registration\":\" 20170070435\",\"mediaDifficulty\":0.0},{\"difficulty\":5.0,\"mediaDifficultyClass\":0.0,\"user\":\"alyssonblack \",\"registration\":\" 20170070435\",\"mediaDifficulty\":0.0},{\"difficulty\":1.0,\"mediaDifficultyClass\":2.1959865417,\"user\":\"ellen Melo \",\"registration\":\" 20190105224\",\"mediaDifficulty\":2.9680365297},{\"difficulty\":2.0,\"mediaDifficultyClass\":2.2721258453,\"user\":\"ellen Melo \",\"registration\":\" 20190105224\",\"mediaDifficulty\":2.7932960894},{\"difficulty\":3.0,\"mediaDifficultyClass\":2.0605245614,\"user\":\"ellen Melo \",\"registration\":\" 20190105224\",\"mediaDifficulty\":2.0},{\"difficulty\":4.0,\"mediaDifficultyClass\":2.2417153996,\"user\":\"ellen Melo \",\"registration\":\" 20190105224\",\"mediaDifficulty\":3.7037037037},{\"difficulty\":5.0,\"mediaDifficultyClass\":0.0,\"user\":\"ellen Melo \",\"registration\":\" 20190105224\",\"mediaDifficulty\":0.0},{\"difficulty\":1.0,\"mediaDifficultyClass\":2.1959865417,\"user\":\"enzo lopes danjour de souza \",\"registration\":\" 20190035658\",\"mediaDifficulty\":2.2831050228},{\"difficulty\":2.0,\"mediaDifficultyClass\":2.2721258453,\"user\":\"enzo lopes danjour de souza \",\"registration\":\" 20190035658\",\"mediaDifficulty\":3.3519553073},{\"difficulty\":3.0,\"mediaDifficultyClass\":2.0605245614,\"user\":\"enzo lopes danjour de souza \",\"registration\":\" 20190035658\",\"mediaDifficulty\":2.6666666667},{\"difficulty\":4.0,\"mediaDifficultyClass\":2.2417153996,\"user\":\"enzo lopes danjour de souza \",\"registration\":\" 20190035658\",\"mediaDifficulty\":3.7037037037},{\"difficulty\":5.0,\"mediaDifficultyClass\":0.0,\"user\":\"enzo lopes danjour de souza \",\"registration\":\" 20190035658\",\"mediaDifficulty\":0.0},{\"difficulty\":1.0,\"mediaDifficultyClass\":2.1959865417,\"user\":\"kaio cesar de sousa pinheiro \",\"registration\":\" 20180144793\",\"mediaDifficulty\":0.0},{\"difficulty\":2.0,\"mediaDifficultyClass\":2.2721258453,\"user\":\"kaio cesar de sousa pinheiro \",\"registration\":\" 20180144793\",\"mediaDifficulty\":0.0},{\"difficulty\":3.0,\"mediaDifficultyClass\":2.0605245614,\"user\":\"kaio cesar de sousa pinheiro \",\"registration\":\" 20180144793\",\"mediaDifficulty\":0.0},{\"difficulty\":4.0,\"mediaDifficultyClass\":2.2417153996,\"user\":\"kaio cesar de sousa pinheiro \",\"registration\":\" 20180144793\",\"mediaDifficulty\":0.0},{\"difficulty\":5.0,\"mediaDifficultyClass\":0.0,\"user\":\"kaio cesar de sousa pinheiro \",\"registration\":\" 20180144793\",\"mediaDifficulty\":0.0},{\"difficulty\":1.0,\"mediaDifficultyClass\":2.1959865417,\"user\":\"marciotenorio \",\"registration\":\" 20180119880\",\"mediaDifficulty\":0.4566210046},{\"difficulty\":2.0,\"mediaDifficultyClass\":2.2721258453,\"user\":\"marciotenorio \",\"registration\":\" 20180119880\",\"mediaDifficulty\":0.5586592179},{\"difficulty\":3.0,\"mediaDifficultyClass\":2.0605245614,\"user\":\"marciotenorio \",\"registration\":\" 20180119880\",\"mediaDifficulty\":0.6666666667},{\"difficulty\":4.0,\"mediaDifficultyClass\":2.2417153996,\"user\":\"marciotenorio \",\"registration\":\" 20180119880\",\"mediaDifficulty\":0.0},{\"difficulty\":5.0,\"mediaDifficultyClass\":0.0,\"user\":\"marciotenorio \",\"registration\":\" 20180119880\",\"mediaDifficulty\":0.0}],\"GEAL\":[{\"subject\":\"Assunto em Branco\",\"mediaSubjectClass\":32.7067669173,\"user\":\"ANTONIO AUGUSTO DE LIMA SILVA \",\"registration\":\" 20180069652\",\"mediaSubject\":0.0},{\"subject\":\"Estruturas Condicionais\",\"mediaSubjectClass\":50.3618421053,\"user\":\"ANTONIO AUGUSTO DE LIMA SILVA \",\"registration\":\" 20180069652\",\"mediaSubject\":0.0},{\"subject\":\"Estruturas de Repetição\",\"mediaSubjectClass\":44.7368421053,\"user\":\"ANTONIO AUGUSTO DE LIMA SILVA \",\"registration\":\" 20180069652\",\"mediaSubject\":0.0},{\"subject\":\"Funções\",\"mediaSubjectClass\":9.4883040936,\"user\":\"ANTONIO AUGUSTO DE LIMA SILVA \",\"registration\":\" 20180069652\",\"mediaSubject\":0.0},{\"subject\":\"Matrizes\",\"mediaSubjectClass\":11.8421052632,\"user\":\"ANTONIO AUGUSTO DE LIMA SILVA \",\"registration\":\" 20180069652\",\"mediaSubject\":0.0},{\"subject\":\"Ponteiros\",\"mediaSubjectClass\":5.2631578947,\"user\":\"ANTONIO AUGUSTO DE LIMA SILVA \",\"registration\":\" 20180069652\",\"mediaSubject\":0.0},{\"subject\":\"Recursão\",\"mediaSubjectClass\":5.9210526316,\"user\":\"ANTONIO AUGUSTO DE LIMA SILVA \",\"registration\":\" 20180069652\",\"mediaSubject\":0.0},{\"subject\":\"String\",\"mediaSubjectClass\":2.6315789474,\"user\":\"ANTONIO AUGUSTO DE LIMA SILVA \",\"registration\":\" 20180069652\",\"mediaSubject\":0.0},{\"subject\":\"Tipos Estruturados\",\"mediaSubjectClass\":25.0,\"user\":\"ANTONIO AUGUSTO DE LIMA SILVA \",\"registration\":\" 20180069652\",\"mediaSubject\":0.0},{\"subject\":\"Vetores\",\"mediaSubjectClass\":20.8881578947,\"user\":\"ANTONIO AUGUSTO DE LIMA SILVA \",\"registration\":\" 20180069652\",\"mediaSubject\":0.0},{\"subject\":\"Assunto em Branco\",\"mediaSubjectClass\":32.7067669173,\"user\":\"Abílio Fontenelle \",\"registration\":\" 20180067952\",\"mediaSubject\":0.0},{\"subject\":\"Estruturas Condicionais\",\"mediaSubjectClass\":50.3618421053,\"user\":\"Abílio Fontenelle \",\"registration\":\" 20180067952\",\"mediaSubject\":0.0},{\"subject\":\"Estruturas de Repetição\",\"mediaSubjectClass\":44.7368421053,\"user\":\"Abílio Fontenelle \",\"registration\":\" 20180067952\",\"mediaSubject\":0.0},{\"subject\":\"Funções\",\"mediaSubjectClass\":9.4883040936,\"user\":\"Abílio Fontenelle \",\"registration\":\" 20180067952\",\"mediaSubject\":0.0},{\"subject\":\"Matrizes\",\"mediaSubjectClass\":11.8421052632,\"user\":\"Abílio Fontenelle \",\"registration\":\" 20180067952\",\"mediaSubject\":0.0},{\"subject\":\"Ponteiros\",\"mediaSubjectClass\":5.2631578947,\"user\":\"Abílio Fontenelle \",\"registration\":\" 20180067952\",\"mediaSubject\":0.0},{\"subject\":\"Recursão\",\"mediaSubjectClass\":5.9210526316,\"user\":\"Abílio Fontenelle \",\"registration\":\" 20180067952\",\"mediaSubject\":0.0},{\"subject\":\"String\",\"mediaSubjectClass\":2.6315789474,\"user\":\"Abílio Fontenelle \",\"registration\":\" 20180067952\",\"mediaSubject\":0.0},{\"subject\":\"Tipos Estruturados\",\"mediaSubjectClass\":25.0,\"user\":\"Abílio Fontenelle \",\"registration\":\" 20180067952\",\"mediaSubject\":50.0},{\"subject\":\"Vetores\",\"mediaSubjectClass\":20.8881578947,\"user\":\"Abílio Fontenelle \",\"registration\":\" 20180067952\",\"mediaSubject\":0.0},{\"subject\":\"Assunto em Branco\",\"mediaSubjectClass\":32.7067669173,\"user\":\"Allef Vinicius \",\"registration\":\" 20180069714\",\"mediaSubject\":85.7142857143},{\"subject\":\"Estruturas Condicionais\",\"mediaSubjectClass\":50.3618421053,\"user\":\"Allef Vinicius \",\"registration\":\" 20180069714\",\"mediaSubject\":100.0},{\"subject\":\"Estruturas de Repetição\",\"mediaSubjectClass\":44.7368421053,\"user\":\"Allef Vinicius \",\"registration\":\" 20180069714\",\"mediaSubject\":100.0},{\"subject\":\"Funções\",\"mediaSubjectClass\":9.4883040936,\"user\":\"Allef Vinicius \",\"registration\":\" 20180069714\",\"mediaSubject\":11.1111111111},{\"subject\":\"Matrizes\",\"mediaSubjectClass\":11.8421052632,\"user\":\"Allef Vinicius \",\"registration\":\" 20180069714\",\"mediaSubject\":0.0},{\"subject\":\"Ponteiros\",\"mediaSubjectClass\":5.2631578947,\"user\":\"Allef Vinicius \",\"registration\":\" 20180069714\",\"mediaSubject\":20.0},{\"subject\":\"Recursão\",\"mediaSubjectClass\":5.9210526316,\"user\":\"Allef Vinicius \",\"registration\":\" 20180069714\",\"mediaSubject\":0.0},{\"subject\":\"String\",\"mediaSubjectClass\":2.6315789474,\"user\":\"Allef Vinicius \",\"registration\":\" 20180069714\",\"mediaSubject\":0.0},{\"subject\":\"Tipos Estruturados\",\"mediaSubjectClass\":25.0,\"user\":\"Allef Vinicius \",\"registration\":\" 20180069714\",\"mediaSubject\":50.0},{\"subject\":\"Vetores\",\"mediaSubjectClass\":20.8881578947,\"user\":\"Allef Vinicius \",\"registration\":\" 20180069714\",\"mediaSubject\":100.0},{\"subject\":\"Assunto em Branco\",\"mediaSubjectClass\":32.7067669173,\"user\":\"André Luiz Rodrigues Soares \",\"registration\":\" 20180001960\",\"mediaSubject\":100.0},{\"subject\":\"Estruturas Condicionais\",\"mediaSubjectClass\":50.3618421053,\"user\":\"André Luiz Rodrigues Soares \",\"registration\":\" 20180001960\",\"mediaSubject\":100.0},{\"subject\":\"Estruturas de Repetição\",\"mediaSubjectClass\":44.7368421053,\"user\":\"André Luiz Rodrigues Soares \",\"registration\":\" 20180001960\",\"mediaSubject\":100.0},{\"subject\":\"Funções\",\"mediaSubjectClass\":9.4883040936,\"user\":\"André Luiz Rodrigues Soares \",\"registration\":\" 20180001960\",\"mediaSubject\":44.4444444444},{\"subject\":\"Matrizes\",\"mediaSubjectClass\":11.8421052632,\"user\":\"André Luiz Rodrigues Soares \",\"registration\":\" 20180001960\",\"mediaSubject\":66.6666666667},{\"subject\":\"Ponteiros\",\"mediaSubjectClass\":5.2631578947,\"user\":\"André Luiz Rodrigues Soares \",\"registration\":\" 20180001960\",\"mediaSubject\":0.0},{\"subject\":\"Recursão\",\"mediaSubjectClass\":5.9210526316,\"user\":\"André Luiz Rodrigues Soares \",\"registration\":\" 20180001960\",\"mediaSubject\":100.0},{\"subject\":\"String\",\"mediaSubjectClass\":2.6315789474,\"user\":\"André Luiz Rodrigues Soares \",\"registration\":\" 20180001960\",\"mediaSubject\":0.0},{\"subject\":\"Tipos Estruturados\",\"mediaSubjectClass\":25.0,\"user\":\"André Luiz Rodrigues Soares \",\"registration\":\" 20180001960\",\"mediaSubject\":0.0},{\"subject\":\"Vetores\",\"mediaSubjectClass\":20.8881578947,\"user\":\"André Luiz Rodrigues Soares \",\"registration\":\" 20180001960\",\"mediaSubject\":100.0},{\"subject\":\"Assunto em Branco\",\"mediaSubjectClass\":32.7067669173,\"user\":\"Arthur Learth \",\"registration\":\" 20180071294\",\"mediaSubject\":0.0},{\"subject\":\"Estruturas Condicionais\",\"mediaSubjectClass\":50.3618421053,\"user\":\"Arthur Learth \",\"registration\":\" 20180071294\",\"mediaSubject\":20.0},{\"subject\":\"Estruturas de Repetição\",\"mediaSubjectClass\":44.7368421053,\"user\":\"Arthur Learth \",\"registration\":\" 20180071294\",\"mediaSubject\":0.0},{\"subject\":\"Funções\",\"mediaSubjectClass\":9.4883040936,\"user\":\"Arthur Learth \",\"registration\":\" 20180071294\",\"mediaSubject\":0.0},{\"subject\":\"Matrizes\",\"mediaSubjectClass\":11.8421052632,\"user\":\"Arthur Learth \",\"registration\":\" 20180071294\",\"mediaSubject\":0.0},{\"subject\":\"Ponteiros\",\"mediaSubjectClass\":5.2631578947,\"user\":\"Arthur Learth \",\"registration\":\" 20180071294\",\"mediaSubject\":0.0},{\"subject\":\"Recursão\",\"mediaSubjectClass\":5.9210526316,\"user\":\"Arthur Learth \",\"registration\":\" 20180071294\",\"mediaSubject\":0.0},{\"subject\":\"String\",\"mediaSubjectClass\":2.6315789474,\"user\":\"Arthur Learth \",\"registration\":\" 20180071294\",\"mediaSubject\":0.0},{\"subject\":\"Tipos Estruturados\",\"mediaSubjectClass\":25.0,\"user\":\"Arthur Learth \",\"registration\":\" 20180071294\",\"mediaSubject\":0.0},{\"subject\":\"Vetores\",\"mediaSubjectClass\":20.8881578947,\"user\":\"Arthur Learth \",\"registration\":\" 20180071294\",\"mediaSubject\":0.0},{\"subject\":\"Assunto em Branco\",\"mediaSubjectClass\":32.7067669173,\"user\":\"Daniel \",\"registration\":\" 20190046016\",\"mediaSubject\":0.0},{\"subject\":\"Estruturas Condicionais\",\"mediaSubjectClass\":50.3618421053,\"user\":\"Daniel \",\"registration\":\" 20190046016\",\"mediaSubject\":0.0},{\"subject\":\"Estruturas de Repetição\",\"mediaSubjectClass\":44.7368421053,\"user\":\"Daniel \",\"registration\":\" 20190046016\",\"mediaSubject\":0.0},{\"subject\":\"Funções\",\"mediaSubjectClass\":9.4883040936,\"user\":\"Daniel \",\"registration\":\" 20190046016\",\"mediaSubject\":11.1111111111},{\"subject\":\"Matrizes\",\"mediaSubjectClass\":11.8421052632,\"user\":\"Daniel \",\"registration\":\" 20190046016\",\"mediaSubject\":0.0},{\"subject\":\"Ponteiros\",\"mediaSubjectClass\":5.2631578947,\"user\":\"Daniel \",\"registration\":\" 20190046016\",\"mediaSubject\":0.0},{\"subject\":\"Recursão\",\"mediaSubjectClass\":5.9210526316,\"user\":\"Daniel \",\"registration\":\" 20190046016\",\"mediaSubject\":0.0},{\"subject\":\"String\",\"mediaSubjectClass\":2.6315789474,\"user\":\"Daniel \",\"registration\":\" 20190046016\",\"mediaSubject\":0.0},{\"subject\":\"Tipos Estruturados\",\"mediaSubjectClass\":25.0,\"user\":\"Daniel \",\"registration\":\" 20190046016\",\"mediaSubject\":50.0},{\"subject\":\"Vetores\",\"mediaSubjectClass\":20.8881578947,\"user\":\"Daniel \",\"registration\":\" 20190046016\",\"mediaSubject\":0.0},{\"subject\":\"Assunto em Branco\",\"mediaSubjectClass\":32.7067669173,\"user\":\"Deborah Dantas \",\"registration\":\" 20190036691\",\"mediaSubject\":28.5714285714},{\"subject\":\"Estruturas Condicionais\",\"mediaSubjectClass\":50.3618421053,\"user\":\"Deborah Dantas \",\"registration\":\" 20190036691\",\"mediaSubject\":50.0},{\"subject\":\"Estruturas de Repetição\",\"mediaSubjectClass\":44.7368421053,\"user\":\"Deborah Dantas \",\"registration\":\" 20190036691\",\"mediaSubject\":0.0},{\"subject\":\"Funções\",\"mediaSubjectClass\":9.4883040936,\"user\":\"Deborah Dantas \",\"registration\":\" 20190036691\",\"mediaSubject\":0.0},{\"subject\":\"Matrizes\",\"mediaSubjectClass\":11.8421052632,\"user\":\"Deborah Dantas \",\"registration\":\" 20190036691\",\"mediaSubject\":0.0},{\"subject\":\"Ponteiros\",\"mediaSubjectClass\":5.2631578947,\"user\":\"Deborah Dantas \",\"registration\":\" 20190036691\",\"mediaSubject\":0.0},{\"subject\":\"Recursão\",\"mediaSubjectClass\":5.9210526316,\"user\":\"Deborah Dantas \",\"registration\":\" 20190036691\",\"mediaSubject\":0.0},{\"subject\":\"String\",\"mediaSubjectClass\":2.6315789474,\"user\":\"Deborah Dantas \",\"registration\":\" 20190036691\",\"mediaSubject\":0.0},{\"subject\":\"Tipos Estruturados\",\"mediaSubjectClass\":25.0,\"user\":\"Deborah Dantas \",\"registration\":\" 20190036691\",\"mediaSubject\":50.0},{\"subject\":\"Vetores\",\"mediaSubjectClass\":20.8881578947,\"user\":\"Deborah Dantas \",\"registration\":\" 20190036691\",\"mediaSubject\":6.25},{\"subject\":\"Assunto em Branco\",\"mediaSubjectClass\":32.7067669173,\"user\":\"Dimitri Lima \",\"registration\":\" Ufrn\",\"mediaSubject\":14.2857142857},{\"subject\":\"Estruturas Condicionais\",\"mediaSubjectClass\":50.3618421053,\"user\":\"Dimitri Lima \",\"registration\":\" Ufrn\",\"mediaSubject\":25.0},{\"subject\":\"Estruturas de Repetição\",\"mediaSubjectClass\":44.7368421053,\"user\":\"Dimitri Lima \",\"registration\":\" Ufrn\",\"mediaSubject\":0.0},{\"subject\":\"Funções\",\"mediaSubjectClass\":9.4883040936,\"user\":\"Dimitri Lima \",\"registration\":\" Ufrn\",\"mediaSubject\":0.0},{\"subject\":\"Matrizes\",\"mediaSubjectClass\":11.8421052632,\"user\":\"Dimitri Lima \",\"registration\":\" Ufrn\",\"mediaSubject\":0.0},{\"subject\":\"Ponteiros\",\"mediaSubjectClass\":5.2631578947,\"user\":\"Dimitri Lima \",\"registration\":\" Ufrn\",\"mediaSubject\":0.0},{\"subject\":\"Recursão\",\"mediaSubjectClass\":5.9210526316,\"user\":\"Dimitri Lima \",\"registration\":\" Ufrn\",\"mediaSubject\":0.0},{\"subject\":\"String\",\"mediaSubjectClass\":2.6315789474,\"user\":\"Dimitri Lima \",\"registration\":\" Ufrn\",\"mediaSubject\":0.0},{\"subject\":\"Tipos Estruturados\",\"mediaSubjectClass\":25.0,\"user\":\"Dimitri Lima \",\"registration\":\" Ufrn\",\"mediaSubject\":50.0},{\"subject\":\"Vetores\",\"mediaSubjectClass\":20.8881578947,\"user\":\"Dimitri Lima \",\"registration\":\" Ufrn\",\"mediaSubject\":0.0},{\"subject\":\"Assunto em Branco\",\"mediaSubjectClass\":32.7067669173,\"user\":\"Felipe Costa \",\"registration\":\" 20190043453\",\"mediaSubject\":100.0},{\"subject\":\"Estruturas Condicionais\",\"mediaSubjectClass\":50.3618421053,\"user\":\"Felipe Costa \",\"registration\":\" 20190043453\",\"mediaSubject\":100.0},{\"subject\":\"Estruturas de Repetição\",\"mediaSubjectClass\":44.7368421053,\"user\":\"Felipe Costa \",\"registration\":\" 20190043453\",\"mediaSubject\":100.0},{\"subject\":\"Funções\",\"mediaSubjectClass\":9.4883040936,\"user\":\"Felipe Costa \",\"registration\":\" 20190043453\",\"mediaSubject\":44.4444444444},{\"subject\":\"Matrizes\",\"mediaSubjectClass\":11.8421052632,\"user\":\"Felipe Costa \",\"registration\":\" 20190043453\",\"mediaSubject\":100.0},{\"subject\":\"Ponteiros\",\"mediaSubjectClass\":5.2631578947,\"user\":\"Felipe Costa \",\"registration\":\" 20190043453\",\"mediaSubject\":0.0},{\"subject\":\"Recursão\",\"mediaSubjectClass\":5.9210526316,\"user\":\"Felipe Costa \",\"registration\":\" 20190043453\",\"mediaSubject\":100.0},{\"subject\":\"String\",\"mediaSubjectClass\":2.6315789474,\"user\":\"Felipe Costa \",\"registration\":\" 20190043453\",\"mediaSubject\":0.0},{\"subject\":\"Tipos Estruturados\",\"mediaSubjectClass\":25.0,\"user\":\"Felipe Costa \",\"registration\":\" 20190043453\",\"mediaSubject\":0.0},{\"subject\":\"Vetores\",\"mediaSubjectClass\":20.8881578947,\"user\":\"Felipe Costa \",\"registration\":\" 20190043453\",\"mediaSubject\":100.0},{\"subject\":\"Assunto em Branco\",\"mediaSubjectClass\":32.7067669173,\"user\":\"GABRIEL FERNANDES LAURINDO \",\"registration\":\" 20190126761\",\"mediaSubject\":0.0},{\"subject\":\"Estruturas Condicionais\",\"mediaSubjectClass\":50.3618421053,\"user\":\"GABRIEL FERNANDES LAURINDO \",\"registration\":\" 20190126761\",\"mediaSubject\":0.0},{\"subject\":\"Estruturas de Repetição\",\"mediaSubjectClass\":44.7368421053,\"user\":\"GABRIEL FERNANDES LAURINDO \",\"registration\":\" 20190126761\",\"mediaSubject\":0.0},{\"subject\":\"Funções\",\"mediaSubjectClass\":9.4883040936,\"user\":\"GABRIEL FERNANDES LAURINDO \",\"registration\":\" 20190126761\",\"mediaSubject\":0.0},{\"subject\":\"Matrizes\",\"mediaSubjectClass\":11.8421052632,\"user\":\"GABRIEL FERNANDES LAURINDO \",\"registration\":\" 20190126761\",\"mediaSubject\":0.0},{\"subject\":\"Ponteiros\",\"mediaSubjectClass\":5.2631578947,\"user\":\"GABRIEL FERNANDES LAURINDO \",\"registration\":\" 20190126761\",\"mediaSubject\":0.0},{\"subject\":\"Recursão\",\"mediaSubjectClass\":5.9210526316,\"user\":\"GABRIEL FERNANDES LAURINDO \",\"registration\":\" 20190126761\",\"mediaSubject\":0.0},{\"subject\":\"String\",\"mediaSubjectClass\":2.6315789474,\"user\":\"GABRIEL FERNANDES LAURINDO \",\"registration\":\" 20190126761\",\"mediaSubject\":0.0},{\"subject\":\"Tipos Estruturados\",\"mediaSubjectClass\":25.0,\"user\":\"GABRIEL FERNANDES LAURINDO \",\"registration\":\" 20190126761\",\"mediaSubject\":0.0},{\"subject\":\"Vetores\",\"mediaSubjectClass\":20.8881578947,\"user\":\"GABRIEL FERNANDES LAURINDO \",\"registration\":\" 20190126761\",\"mediaSubject\":0.0},{\"subject\":\"Assunto em Branco\",\"mediaSubjectClass\":32.7067669173,\"user\":\"Gabriel Bassani \",\"registration\":\" 20190043794\",\"mediaSubject\":28.5714285714},{\"subject\":\"Estruturas Condicionais\",\"mediaSubjectClass\":50.3618421053,\"user\":\"Gabriel Bassani \",\"registration\":\" 20190043794\",\"mediaSubject\":50.0},{\"subject\":\"Estruturas de Repetição\",\"mediaSubjectClass\":44.7368421053,\"user\":\"Gabriel Bassani \",\"registration\":\" 20190043794\",\"mediaSubject\":0.0},{\"subject\":\"Funções\",\"mediaSubjectClass\":9.4883040936,\"user\":\"Gabriel Bassani \",\"registration\":\" 20190043794\",\"mediaSubject\":4.4444444444},{\"subject\":\"Matrizes\",\"mediaSubjectClass\":11.8421052632,\"user\":\"Gabriel Bassani \",\"registration\":\" 20190043794\",\"mediaSubject\":0.0},{\"subject\":\"Ponteiros\",\"mediaSubjectClass\":5.2631578947,\"user\":\"Gabriel Bassani \",\"registration\":\" 20190043794\",\"mediaSubject\":0.0},{\"subject\":\"Recursão\",\"mediaSubjectClass\":5.9210526316,\"user\":\"Gabriel Bassani \",\"registration\":\" 20190043794\",\"mediaSubject\":0.0},{\"subject\":\"String\",\"mediaSubjectClass\":2.6315789474,\"user\":\"Gabriel Bassani \",\"registration\":\" 20190043794\",\"mediaSubject\":0.0},{\"subject\":\"Tipos Estruturados\",\"mediaSubjectClass\":25.0,\"user\":\"Gabriel Bassani \",\"registration\":\" 20190043794\",\"mediaSubject\":50.0},{\"subject\":\"Vetores\",\"mediaSubjectClass\":20.8881578947,\"user\":\"Gabriel Bassani \",\"registration\":\" 20190043794\",\"mediaSubject\":0.0},{\"subject\":\"Assunto em Branco\",\"mediaSubjectClass\":32.7067669173,\"user\":\"Gabriel Vinícius Lima da Costa Medeiros \",\"registration\":\" 20190041978\",\"mediaSubject\":42.8571428571},{\"subject\":\"Estruturas Condicionais\",\"mediaSubjectClass\":50.3618421053,\"user\":\"Gabriel Vinícius Lima da Costa Medeiros \",\"registration\":\" 20190041978\",\"mediaSubject\":100.0},{\"subject\":\"Estruturas de Repetição\",\"mediaSubjectClass\":44.7368421053,\"user\":\"Gabriel Vinícius Lima da Costa Medeiros \",\"registration\":\" 20190041978\",\"mediaSubject\":100.0},{\"subject\":\"Funções\",\"mediaSubjectClass\":9.4883040936,\"user\":\"Gabriel Vinícius Lima da Costa Medeiros \",\"registration\":\" 20190041978\",\"mediaSubject\":0.0},{\"subject\":\"Matrizes\",\"mediaSubjectClass\":11.8421052632,\"user\":\"Gabriel Vinícius Lima da Costa Medeiros \",\"registration\":\" 20190041978\",\"mediaSubject\":0.0},{\"subject\":\"Ponteiros\",\"mediaSubjectClass\":5.2631578947,\"user\":\"Gabriel Vinícius Lima da Costa Medeiros \",\"registration\":\" 20190041978\",\"mediaSubject\":0.0},{\"subject\":\"Recursão\",\"mediaSubjectClass\":5.9210526316,\"user\":\"Gabriel Vinícius Lima da Costa Medeiros \",\"registration\":\" 20190041978\",\"mediaSubject\":0.0},{\"subject\":\"String\",\"mediaSubjectClass\":2.6315789474,\"user\":\"Gabriel Vinícius Lima da Costa Medeiros \",\"registration\":\" 20190041978\",\"mediaSubject\":0.0},{\"subject\":\"Tipos Estruturados\",\"mediaSubjectClass\":25.0,\"user\":\"Gabriel Vinícius Lima da Costa Medeiros \",\"registration\":\" 20190041978\",\"mediaSubject\":50.0},{\"subject\":\"Vetores\",\"mediaSubjectClass\":20.8881578947,\"user\":\"Gabriel Vinícius Lima da Costa Medeiros \",\"registration\":\" 20190041978\",\"mediaSubject\":25.0},{\"subject\":\"Assunto em Branco\",\"mediaSubjectClass\":32.7067669173,\"user\":\"Guilherme Augusto Santana de Lima \",\"registration\":\" 20190044138\",\"mediaSubject\":28.5714285714},{\"subject\":\"Estruturas Condicionais\",\"mediaSubjectClass\":50.3618421053,\"user\":\"Guilherme Augusto Santana de Lima \",\"registration\":\" 20190044138\",\"mediaSubject\":50.0},{\"subject\":\"Estruturas de Repetição\",\"mediaSubjectClass\":44.7368421053,\"user\":\"Guilherme Augusto Santana de Lima \",\"registration\":\" 20190044138\",\"mediaSubject\":100.0},{\"subject\":\"Funções\",\"mediaSubjectClass\":9.4883040936,\"user\":\"Guilherme Augusto Santana de Lima \",\"registration\":\" 20190044138\",\"mediaSubject\":0.0},{\"subject\":\"Matrizes\",\"mediaSubjectClass\":11.8421052632,\"user\":\"Guilherme Augusto Santana de Lima \",\"registration\":\" 20190044138\",\"mediaSubject\":0.0},{\"subject\":\"Ponteiros\",\"mediaSubjectClass\":5.2631578947,\"user\":\"Guilherme Augusto Santana de Lima \",\"registration\":\" 20190044138\",\"mediaSubject\":0.0},{\"subject\":\"Recursão\",\"mediaSubjectClass\":5.9210526316,\"user\":\"Guilherme Augusto Santana de Lima \",\"registration\":\" 20190044138\",\"mediaSubject\":0.0},{\"subject\":\"String\",\"mediaSubjectClass\":2.6315789474,\"user\":\"Guilherme Augusto Santana de Lima \",\"registration\":\" 20190044138\",\"mediaSubject\":0.0},{\"subject\":\"Tipos Estruturados\",\"mediaSubjectClass\":25.0,\"user\":\"Guilherme Augusto Santana de Lima \",\"registration\":\" 20190044138\",\"mediaSubject\":0.0},{\"subject\":\"Vetores\",\"mediaSubjectClass\":20.8881578947,\"user\":\"Guilherme Augusto Santana de Lima \",\"registration\":\" 20190044138\",\"mediaSubject\":0.0},{\"subject\":\"Assunto em Branco\",\"mediaSubjectClass\":32.7067669173,\"user\":\"Iury Lamonie \",\"registration\":\" Monitor\",\"mediaSubject\":0.0},{\"subject\":\"Estruturas Condicionais\",\"mediaSubjectClass\":50.3618421053,\"user\":\"Iury Lamonie \",\"registration\":\" Monitor\",\"mediaSubject\":0.0},{\"subject\":\"Estruturas de Repetição\",\"mediaSubjectClass\":44.7368421053,\"user\":\"Iury Lamonie \",\"registration\":\" Monitor\",\"mediaSubject\":0.0},{\"subject\":\"Funções\",\"mediaSubjectClass\":9.4883040936,\"user\":\"Iury Lamonie \",\"registration\":\" Monitor\",\"mediaSubject\":0.0},{\"subject\":\"Matrizes\",\"mediaSubjectClass\":11.8421052632,\"user\":\"Iury Lamonie \",\"registration\":\" Monitor\",\"mediaSubject\":0.0},{\"subject\":\"Ponteiros\",\"mediaSubjectClass\":5.2631578947,\"user\":\"Iury Lamonie \",\"registration\":\" Monitor\",\"mediaSubject\":0.0},{\"subject\":\"Recursão\",\"mediaSubjectClass\":5.9210526316,\"user\":\"Iury Lamonie \",\"registration\":\" Monitor\",\"mediaSubject\":0.0},{\"subject\":\"String\",\"mediaSubjectClass\":2.6315789474,\"user\":\"Iury Lamonie \",\"registration\":\" Monitor\",\"mediaSubject\":0.0},{\"subject\":\"Tipos Estruturados\",\"mediaSubjectClass\":25.0,\"user\":\"Iury Lamonie \",\"registration\":\" Monitor\",\"mediaSubject\":0.0},{\"subject\":\"Vetores\",\"mediaSubjectClass\":20.8881578947,\"user\":\"Iury Lamonie \",\"registration\":\" Monitor\",\"mediaSubject\":0.0},{\"subject\":\"Assunto em Branco\",\"mediaSubjectClass\":32.7067669173,\"user\":\"Jackson D \",\"registration\":\" 20200038945\",\"mediaSubject\":14.2857142857},{\"subject\":\"Estruturas Condicionais\",\"mediaSubjectClass\":50.3618421053,\"user\":\"Jackson D \",\"registration\":\" 20200038945\",\"mediaSubject\":50.0},{\"subject\":\"Estruturas de Repetição\",\"mediaSubjectClass\":44.7368421053,\"user\":\"Jackson D \",\"registration\":\" 20200038945\",\"mediaSubject\":0.0},{\"subject\":\"Funções\",\"mediaSubjectClass\":9.4883040936,\"user\":\"Jackson D \",\"registration\":\" 20200038945\",\"mediaSubject\":0.0},{\"subject\":\"Matrizes\",\"mediaSubjectClass\":11.8421052632,\"user\":\"Jackson D \",\"registration\":\" 20200038945\",\"mediaSubject\":0.0},{\"subject\":\"Ponteiros\",\"mediaSubjectClass\":5.2631578947,\"user\":\"Jackson D \",\"registration\":\" 20200038945\",\"mediaSubject\":0.0},{\"subject\":\"Recursão\",\"mediaSubjectClass\":5.9210526316,\"user\":\"Jackson D \",\"registration\":\" 20200038945\",\"mediaSubject\":0.0},{\"subject\":\"String\",\"mediaSubjectClass\":2.6315789474,\"user\":\"Jackson D \",\"registration\":\" 20200038945\",\"mediaSubject\":0.0},{\"subject\":\"Tipos Estruturados\",\"mediaSubjectClass\":25.0,\"user\":\"Jackson D \",\"registration\":\" 20200038945\",\"mediaSubject\":50.0},{\"subject\":\"Vetores\",\"mediaSubjectClass\":20.8881578947,\"user\":\"Jackson D \",\"registration\":\" 20200038945\",\"mediaSubject\":0.0},{\"subject\":\"Assunto em Branco\",\"mediaSubjectClass\":32.7067669173,\"user\":\"Joao Victor Leandro \",\"registration\":\" 20190146693\",\"mediaSubject\":0.0},{\"subject\":\"Estruturas Condicionais\",\"mediaSubjectClass\":50.3618421053,\"user\":\"Joao Victor Leandro \",\"registration\":\" 20190146693\",\"mediaSubject\":0.0},{\"subject\":\"Estruturas de Repetição\",\"mediaSubjectClass\":44.7368421053,\"user\":\"Joao Victor Leandro \",\"registration\":\" 20190146693\",\"mediaSubject\":0.0},{\"subject\":\"Funções\",\"mediaSubjectClass\":9.4883040936,\"user\":\"Joao Victor Leandro \",\"registration\":\" 20190146693\",\"mediaSubject\":0.0},{\"subject\":\"Matrizes\",\"mediaSubjectClass\":11.8421052632,\"user\":\"Joao Victor Leandro \",\"registration\":\" 20190146693\",\"mediaSubject\":0.0},{\"subject\":\"Ponteiros\",\"mediaSubjectClass\":5.2631578947,\"user\":\"Joao Victor Leandro \",\"registration\":\" 20190146693\",\"mediaSubject\":0.0},{\"subject\":\"Recursão\",\"mediaSubjectClass\":5.9210526316,\"user\":\"Joao Victor Leandro \",\"registration\":\" 20190146693\",\"mediaSubject\":0.0},{\"subject\":\"String\",\"mediaSubjectClass\":2.6315789474,\"user\":\"Joao Victor Leandro \",\"registration\":\" 20190146693\",\"mediaSubject\":0.0},{\"subject\":\"Tipos Estruturados\",\"mediaSubjectClass\":25.0,\"user\":\"Joao Victor Leandro \",\"registration\":\" 20190146693\",\"mediaSubject\":0.0},{\"subject\":\"Vetores\",\"mediaSubjectClass\":20.8881578947,\"user\":\"Joao Victor Leandro \",\"registration\":\" 20190146693\",\"mediaSubject\":0.0},{\"subject\":\"Assunto em Branco\",\"mediaSubjectClass\":32.7067669173,\"user\":\"José Carvalho \",\"registration\":\" 20190048558\",\"mediaSubject\":0.0},{\"subject\":\"Estruturas Condicionais\",\"mediaSubjectClass\":50.3618421053,\"user\":\"José Carvalho \",\"registration\":\" 20190048558\",\"mediaSubject\":0.0},{\"subject\":\"Estruturas de Repetição\",\"mediaSubjectClass\":44.7368421053,\"user\":\"José Carvalho \",\"registration\":\" 20190048558\",\"mediaSubject\":0.0},{\"subject\":\"Funções\",\"mediaSubjectClass\":9.4883040936,\"user\":\"José Carvalho \",\"registration\":\" 20190048558\",\"mediaSubject\":0.0},{\"subject\":\"Matrizes\",\"mediaSubjectClass\":11.8421052632,\"user\":\"José Carvalho \",\"registration\":\" 20190048558\",\"mediaSubject\":0.0},{\"subject\":\"Ponteiros\",\"mediaSubjectClass\":5.2631578947,\"user\":\"José Carvalho \",\"registration\":\" 20190048558\",\"mediaSubject\":0.0},{\"subject\":\"Recursão\",\"mediaSubjectClass\":5.9210526316,\"user\":\"José Carvalho \",\"registration\":\" 20190048558\",\"mediaSubject\":0.0},{\"subject\":\"String\",\"mediaSubjectClass\":2.6315789474,\"user\":\"José Carvalho \",\"registration\":\" 20190048558\",\"mediaSubject\":0.0},{\"subject\":\"Tipos Estruturados\",\"mediaSubjectClass\":25.0,\"user\":\"José Carvalho \",\"registration\":\" 20190048558\",\"mediaSubject\":0.0},{\"subject\":\"Vetores\",\"mediaSubjectClass\":20.8881578947,\"user\":\"José Carvalho \",\"registration\":\" 20190048558\",\"mediaSubject\":0.0},{\"subject\":\"Assunto em Branco\",\"mediaSubjectClass\":32.7067669173,\"user\":\"João Gabriel Trindade \",\"registration\":\" 20190010588\",\"mediaSubject\":57.1428571429},{\"subject\":\"Estruturas Condicionais\",\"mediaSubjectClass\":50.3618421053,\"user\":\"João Gabriel Trindade \",\"registration\":\" 20190010588\",\"mediaSubject\":93.75},{\"subject\":\"Estruturas de Repetição\",\"mediaSubjectClass\":44.7368421053,\"user\":\"João Gabriel Trindade \",\"registration\":\" 20190010588\",\"mediaSubject\":100.0},{\"subject\":\"Funções\",\"mediaSubjectClass\":9.4883040936,\"user\":\"João Gabriel Trindade \",\"registration\":\" 20190010588\",\"mediaSubject\":33.3333333333},{\"subject\":\"Matrizes\",\"mediaSubjectClass\":11.8421052632,\"user\":\"João Gabriel Trindade \",\"registration\":\" 20190010588\",\"mediaSubject\":0.0},{\"subject\":\"Ponteiros\",\"mediaSubjectClass\":5.2631578947,\"user\":\"João Gabriel Trindade \",\"registration\":\" 20190010588\",\"mediaSubject\":0.0},{\"subject\":\"Recursão\",\"mediaSubjectClass\":5.9210526316,\"user\":\"João Gabriel Trindade \",\"registration\":\" 20190010588\",\"mediaSubject\":0.0},{\"subject\":\"String\",\"mediaSubjectClass\":2.6315789474,\"user\":\"João Gabriel Trindade \",\"registration\":\" 20190010588\",\"mediaSubject\":0.0},{\"subject\":\"Tipos Estruturados\",\"mediaSubjectClass\":25.0,\"user\":\"João Gabriel Trindade \",\"registration\":\" 20190010588\",\"mediaSubject\":50.0},{\"subject\":\"Vetores\",\"mediaSubjectClass\":20.8881578947,\"user\":\"João Gabriel Trindade \",\"registration\":\" 20190010588\",\"mediaSubject\":25.0},{\"subject\":\"Assunto em Branco\",\"mediaSubjectClass\":32.7067669173,\"user\":\"João Maria Mauricio \",\"registration\":\" 20180118944\",\"mediaSubject\":42.8571428571},{\"subject\":\"Estruturas Condicionais\",\"mediaSubjectClass\":50.3618421053,\"user\":\"João Maria Mauricio \",\"registration\":\" 20180118944\",\"mediaSubject\":75.0},{\"subject\":\"Estruturas de Repetição\",\"mediaSubjectClass\":44.7368421053,\"user\":\"João Maria Mauricio \",\"registration\":\" 20180118944\",\"mediaSubject\":100.0},{\"subject\":\"Funções\",\"mediaSubjectClass\":9.4883040936,\"user\":\"João Maria Mauricio \",\"registration\":\" 20180118944\",\"mediaSubject\":0.0},{\"subject\":\"Matrizes\",\"mediaSubjectClass\":11.8421052632,\"user\":\"João Maria Mauricio \",\"registration\":\" 20180118944\",\"mediaSubject\":0.0},{\"subject\":\"Ponteiros\",\"mediaSubjectClass\":5.2631578947,\"user\":\"João Maria Mauricio \",\"registration\":\" 20180118944\",\"mediaSubject\":0.0},{\"subject\":\"Recursão\",\"mediaSubjectClass\":5.9210526316,\"user\":\"João Maria Mauricio \",\"registration\":\" 20180118944\",\"mediaSubject\":0.0},{\"subject\":\"String\",\"mediaSubjectClass\":2.6315789474,\"user\":\"João Maria Mauricio \",\"registration\":\" 20180118944\",\"mediaSubject\":0.0},{\"subject\":\"Tipos Estruturados\",\"mediaSubjectClass\":25.0,\"user\":\"João Maria Mauricio \",\"registration\":\" 20180118944\",\"mediaSubject\":0.0},{\"subject\":\"Vetores\",\"mediaSubjectClass\":20.8881578947,\"user\":\"João Maria Mauricio \",\"registration\":\" 20180118944\",\"mediaSubject\":0.0},{\"subject\":\"Assunto em Branco\",\"mediaSubjectClass\":32.7067669173,\"user\":\"Lucas da Costa Fontes \",\"registration\":\" 20180122141\",\"mediaSubject\":42.8571428571},{\"subject\":\"Estruturas Condicionais\",\"mediaSubjectClass\":50.3618421053,\"user\":\"Lucas da Costa Fontes \",\"registration\":\" 20180122141\",\"mediaSubject\":75.0},{\"subject\":\"Estruturas de Repetição\",\"mediaSubjectClass\":44.7368421053,\"user\":\"Lucas da Costa Fontes \",\"registration\":\" 20180122141\",\"mediaSubject\":100.0},{\"subject\":\"Funções\",\"mediaSubjectClass\":9.4883040936,\"user\":\"Lucas da Costa Fontes \",\"registration\":\" 20180122141\",\"mediaSubject\":0.0},{\"subject\":\"Matrizes\",\"mediaSubjectClass\":11.8421052632,\"user\":\"Lucas da Costa Fontes \",\"registration\":\" 20180122141\",\"mediaSubject\":0.0},{\"subject\":\"Ponteiros\",\"mediaSubjectClass\":5.2631578947,\"user\":\"Lucas da Costa Fontes \",\"registration\":\" 20180122141\",\"mediaSubject\":0.0},{\"subject\":\"Recursão\",\"mediaSubjectClass\":5.9210526316,\"user\":\"Lucas da Costa Fontes \",\"registration\":\" 20180122141\",\"mediaSubject\":0.0},{\"subject\":\"String\",\"mediaSubjectClass\":2.6315789474,\"user\":\"Lucas da Costa Fontes \",\"registration\":\" 20180122141\",\"mediaSubject\":0.0},{\"subject\":\"Tipos Estruturados\",\"mediaSubjectClass\":25.0,\"user\":\"Lucas da Costa Fontes \",\"registration\":\" 20180122141\",\"mediaSubject\":50.0},{\"subject\":\"Vetores\",\"mediaSubjectClass\":20.8881578947,\"user\":\"Lucas da Costa Fontes \",\"registration\":\" 20180122141\",\"mediaSubject\":0.0},{\"subject\":\"Assunto em Branco\",\"mediaSubjectClass\":32.7067669173,\"user\":\"Luiz Paulo Assis Cavalcante de Freitas \",\"registration\":\" 20190103408\",\"mediaSubject\":42.8571428571},{\"subject\":\"Estruturas Condicionais\",\"mediaSubjectClass\":50.3618421053,\"user\":\"Luiz Paulo Assis Cavalcante de Freitas \",\"registration\":\" 20190103408\",\"mediaSubject\":75.0},{\"subject\":\"Estruturas de Repetição\",\"mediaSubjectClass\":44.7368421053,\"user\":\"Luiz Paulo Assis Cavalcante de Freitas \",\"registration\":\" 20190103408\",\"mediaSubject\":100.0},{\"subject\":\"Funções\",\"mediaSubjectClass\":9.4883040936,\"user\":\"Luiz Paulo Assis Cavalcante de Freitas \",\"registration\":\" 20190103408\",\"mediaSubject\":0.0},{\"subject\":\"Matrizes\",\"mediaSubjectClass\":11.8421052632,\"user\":\"Luiz Paulo Assis Cavalcante de Freitas \",\"registration\":\" 20190103408\",\"mediaSubject\":0.0},{\"subject\":\"Ponteiros\",\"mediaSubjectClass\":5.2631578947,\"user\":\"Luiz Paulo Assis Cavalcante de Freitas \",\"registration\":\" 20190103408\",\"mediaSubject\":0.0},{\"subject\":\"Recursão\",\"mediaSubjectClass\":5.9210526316,\"user\":\"Luiz Paulo Assis Cavalcante de Freitas \",\"registration\":\" 20190103408\",\"mediaSubject\":0.0},{\"subject\":\"String\",\"mediaSubjectClass\":2.6315789474,\"user\":\"Luiz Paulo Assis Cavalcante de Freitas \",\"registration\":\" 20190103408\",\"mediaSubject\":0.0},{\"subject\":\"Tipos Estruturados\",\"mediaSubjectClass\":25.0,\"user\":\"Luiz Paulo Assis Cavalcante de Freitas \",\"registration\":\" 20190103408\",\"mediaSubject\":50.0},{\"subject\":\"Vetores\",\"mediaSubjectClass\":20.8881578947,\"user\":\"Luiz Paulo Assis Cavalcante de Freitas \",\"registration\":\" 20190103408\",\"mediaSubject\":0.0},{\"subject\":\"Assunto em Branco\",\"mediaSubjectClass\":32.7067669173,\"user\":\"Matheus Alves \",\"registration\":\" 20180062956\",\"mediaSubject\":0.0},{\"subject\":\"Estruturas Condicionais\",\"mediaSubjectClass\":50.3618421053,\"user\":\"Matheus Alves \",\"registration\":\" 20180062956\",\"mediaSubject\":0.0},{\"subject\":\"Estruturas de Repetição\",\"mediaSubjectClass\":44.7368421053,\"user\":\"Matheus Alves \",\"registration\":\" 20180062956\",\"mediaSubject\":0.0},{\"subject\":\"Funções\",\"mediaSubjectClass\":9.4883040936,\"user\":\"Matheus Alves \",\"registration\":\" 20180062956\",\"mediaSubject\":0.0},{\"subject\":\"Matrizes\",\"mediaSubjectClass\":11.8421052632,\"user\":\"Matheus Alves \",\"registration\":\" 20180062956\",\"mediaSubject\":0.0},{\"subject\":\"Ponteiros\",\"mediaSubjectClass\":5.2631578947,\"user\":\"Matheus Alves \",\"registration\":\" 20180062956\",\"mediaSubject\":0.0},{\"subject\":\"Recursão\",\"mediaSubjectClass\":5.9210526316,\"user\":\"Matheus Alves \",\"registration\":\" 20180062956\",\"mediaSubject\":0.0},{\"subject\":\"String\",\"mediaSubjectClass\":2.6315789474,\"user\":\"Matheus Alves \",\"registration\":\" 20180062956\",\"mediaSubject\":0.0},{\"subject\":\"Tipos Estruturados\",\"mediaSubjectClass\":25.0,\"user\":\"Matheus Alves \",\"registration\":\" 20180062956\",\"mediaSubject\":0.0},{\"subject\":\"Vetores\",\"mediaSubjectClass\":20.8881578947,\"user\":\"Matheus Alves \",\"registration\":\" 20180062956\",\"mediaSubject\":0.0},{\"subject\":\"Assunto em Branco\",\"mediaSubjectClass\":32.7067669173,\"user\":\"Matheus Henrique Fonseca Valerio \",\"registration\":\" 20180063597\",\"mediaSubject\":42.8571428571},{\"subject\":\"Estruturas Condicionais\",\"mediaSubjectClass\":50.3618421053,\"user\":\"Matheus Henrique Fonseca Valerio \",\"registration\":\" 20180063597\",\"mediaSubject\":50.0},{\"subject\":\"Estruturas de Repetição\",\"mediaSubjectClass\":44.7368421053,\"user\":\"Matheus Henrique Fonseca Valerio \",\"registration\":\" 20180063597\",\"mediaSubject\":100.0},{\"subject\":\"Funções\",\"mediaSubjectClass\":9.4883040936,\"user\":\"Matheus Henrique Fonseca Valerio \",\"registration\":\" 20180063597\",\"mediaSubject\":22.2222222222},{\"subject\":\"Matrizes\",\"mediaSubjectClass\":11.8421052632,\"user\":\"Matheus Henrique Fonseca Valerio \",\"registration\":\" 20180063597\",\"mediaSubject\":0.0},{\"subject\":\"Ponteiros\",\"mediaSubjectClass\":5.2631578947,\"user\":\"Matheus Henrique Fonseca Valerio \",\"registration\":\" 20180063597\",\"mediaSubject\":0.0},{\"subject\":\"Recursão\",\"mediaSubjectClass\":5.9210526316,\"user\":\"Matheus Henrique Fonseca Valerio \",\"registration\":\" 20180063597\",\"mediaSubject\":0.0},{\"subject\":\"String\",\"mediaSubjectClass\":2.6315789474,\"user\":\"Matheus Henrique Fonseca Valerio \",\"registration\":\" 20180063597\",\"mediaSubject\":0.0},{\"subject\":\"Tipos Estruturados\",\"mediaSubjectClass\":25.0,\"user\":\"Matheus Henrique Fonseca Valerio \",\"registration\":\" 20180063597\",\"mediaSubject\":0.0},{\"subject\":\"Vetores\",\"mediaSubjectClass\":20.8881578947,\"user\":\"Matheus Henrique Fonseca Valerio \",\"registration\":\" 20180063597\",\"mediaSubject\":0.0},{\"subject\":\"Assunto em Branco\",\"mediaSubjectClass\":32.7067669173,\"user\":\"Patrick Miguel Souza de Melo \",\"registration\":\" 20170068277\",\"mediaSubject\":28.5714285714},{\"subject\":\"Estruturas Condicionais\",\"mediaSubjectClass\":50.3618421053,\"user\":\"Patrick Miguel Souza de Melo \",\"registration\":\" 20170068277\",\"mediaSubject\":50.0},{\"subject\":\"Estruturas de Repetição\",\"mediaSubjectClass\":44.7368421053,\"user\":\"Patrick Miguel Souza de Melo \",\"registration\":\" 20170068277\",\"mediaSubject\":0.0},{\"subject\":\"Funções\",\"mediaSubjectClass\":9.4883040936,\"user\":\"Patrick Miguel Souza de Melo \",\"registration\":\" 20170068277\",\"mediaSubject\":0.0},{\"subject\":\"Matrizes\",\"mediaSubjectClass\":11.8421052632,\"user\":\"Patrick Miguel Souza de Melo \",\"registration\":\" 20170068277\",\"mediaSubject\":0.0},{\"subject\":\"Ponteiros\",\"mediaSubjectClass\":5.2631578947,\"user\":\"Patrick Miguel Souza de Melo \",\"registration\":\" 20170068277\",\"mediaSubject\":0.0},{\"subject\":\"Recursão\",\"mediaSubjectClass\":5.9210526316,\"user\":\"Patrick Miguel Souza de Melo \",\"registration\":\" 20170068277\",\"mediaSubject\":0.0},{\"subject\":\"String\",\"mediaSubjectClass\":2.6315789474,\"user\":\"Patrick Miguel Souza de Melo \",\"registration\":\" 20170068277\",\"mediaSubject\":0.0},{\"subject\":\"Tipos Estruturados\",\"mediaSubjectClass\":25.0,\"user\":\"Patrick Miguel Souza de Melo \",\"registration\":\" 20170068277\",\"mediaSubject\":0.0},{\"subject\":\"Vetores\",\"mediaSubjectClass\":20.8881578947,\"user\":\"Patrick Miguel Souza de Melo \",\"registration\":\" 20170068277\",\"mediaSubject\":0.0},{\"subject\":\"Assunto em Branco\",\"mediaSubjectClass\":32.7067669173,\"user\":\"Paulo Carvalho \",\"registration\":\" 2016034522\",\"mediaSubject\":42.8571428571},{\"subject\":\"Estruturas Condicionais\",\"mediaSubjectClass\":50.3618421053,\"user\":\"Paulo Carvalho \",\"registration\":\" 2016034522\",\"mediaSubject\":75.0},{\"subject\":\"Estruturas de Repetição\",\"mediaSubjectClass\":44.7368421053,\"user\":\"Paulo Carvalho \",\"registration\":\" 2016034522\",\"mediaSubject\":100.0},{\"subject\":\"Funções\",\"mediaSubjectClass\":9.4883040936,\"user\":\"Paulo Carvalho \",\"registration\":\" 2016034522\",\"mediaSubject\":0.0},{\"subject\":\"Matrizes\",\"mediaSubjectClass\":11.8421052632,\"user\":\"Paulo Carvalho \",\"registration\":\" 2016034522\",\"mediaSubject\":0.0},{\"subject\":\"Ponteiros\",\"mediaSubjectClass\":5.2631578947,\"user\":\"Paulo Carvalho \",\"registration\":\" 2016034522\",\"mediaSubject\":0.0},{\"subject\":\"Recursão\",\"mediaSubjectClass\":5.9210526316,\"user\":\"Paulo Carvalho \",\"registration\":\" 2016034522\",\"mediaSubject\":0.0},{\"subject\":\"String\",\"mediaSubjectClass\":2.6315789474,\"user\":\"Paulo Carvalho \",\"registration\":\" 2016034522\",\"mediaSubject\":0.0},{\"subject\":\"Tipos Estruturados\",\"mediaSubjectClass\":25.0,\"user\":\"Paulo Carvalho \",\"registration\":\" 2016034522\",\"mediaSubject\":50.0},{\"subject\":\"Vetores\",\"mediaSubjectClass\":20.8881578947,\"user\":\"Paulo Carvalho \",\"registration\":\" 2016034522\",\"mediaSubject\":25.0},{\"subject\":\"Assunto em Branco\",\"mediaSubjectClass\":32.7067669173,\"user\":\"Paulo Víctor de Medeiros Andrade \",\"registration\":\" 20190003046\",\"mediaSubject\":0.0},{\"subject\":\"Estruturas Condicionais\",\"mediaSubjectClass\":50.3618421053,\"user\":\"Paulo Víctor de Medeiros Andrade \",\"registration\":\" 20190003046\",\"mediaSubject\":25.0},{\"subject\":\"Estruturas de Repetição\",\"mediaSubjectClass\":44.7368421053,\"user\":\"Paulo Víctor de Medeiros Andrade \",\"registration\":\" 20190003046\",\"mediaSubject\":0.0},{\"subject\":\"Funções\",\"mediaSubjectClass\":9.4883040936,\"user\":\"Paulo Víctor de Medeiros Andrade \",\"registration\":\" 20190003046\",\"mediaSubject\":0.0},{\"subject\":\"Matrizes\",\"mediaSubjectClass\":11.8421052632,\"user\":\"Paulo Víctor de Medeiros Andrade \",\"registration\":\" 20190003046\",\"mediaSubject\":0.0},{\"subject\":\"Ponteiros\",\"mediaSubjectClass\":5.2631578947,\"user\":\"Paulo Víctor de Medeiros Andrade \",\"registration\":\" 20190003046\",\"mediaSubject\":0.0},{\"subject\":\"Recursão\",\"mediaSubjectClass\":5.9210526316,\"user\":\"Paulo Víctor de Medeiros Andrade \",\"registration\":\" 20190003046\",\"mediaSubject\":0.0},{\"subject\":\"String\",\"mediaSubjectClass\":2.6315789474,\"user\":\"Paulo Víctor de Medeiros Andrade \",\"registration\":\" 20190003046\",\"mediaSubject\":0.0},{\"subject\":\"Tipos Estruturados\",\"mediaSubjectClass\":25.0,\"user\":\"Paulo Víctor de Medeiros Andrade \",\"registration\":\" 20190003046\",\"mediaSubject\":0.0},{\"subject\":\"Vetores\",\"mediaSubjectClass\":20.8881578947,\"user\":\"Paulo Víctor de Medeiros Andrade \",\"registration\":\" 20190003046\",\"mediaSubject\":25.0},{\"subject\":\"Assunto em Branco\",\"mediaSubjectClass\":32.7067669173,\"user\":\"Pedro Garcia Pereira \",\"registration\":\" 20190040658\",\"mediaSubject\":100.0},{\"subject\":\"Estruturas Condicionais\",\"mediaSubjectClass\":50.3618421053,\"user\":\"Pedro Garcia Pereira \",\"registration\":\" 20190040658\",\"mediaSubject\":100.0},{\"subject\":\"Estruturas de Repetição\",\"mediaSubjectClass\":44.7368421053,\"user\":\"Pedro Garcia Pereira \",\"registration\":\" 20190040658\",\"mediaSubject\":100.0},{\"subject\":\"Funções\",\"mediaSubjectClass\":9.4883040936,\"user\":\"Pedro Garcia Pereira \",\"registration\":\" 20190040658\",\"mediaSubject\":47.2222222222},{\"subject\":\"Matrizes\",\"mediaSubjectClass\":11.8421052632,\"user\":\"Pedro Garcia Pereira \",\"registration\":\" 20190040658\",\"mediaSubject\":100.0},{\"subject\":\"Ponteiros\",\"mediaSubjectClass\":5.2631578947,\"user\":\"Pedro Garcia Pereira \",\"registration\":\" 20190040658\",\"mediaSubject\":40.0},{\"subject\":\"Recursão\",\"mediaSubjectClass\":5.9210526316,\"user\":\"Pedro Garcia Pereira \",\"registration\":\" 20190040658\",\"mediaSubject\":25.0},{\"subject\":\"String\",\"mediaSubjectClass\":2.6315789474,\"user\":\"Pedro Garcia Pereira \",\"registration\":\" 20190040658\",\"mediaSubject\":0.0},{\"subject\":\"Tipos Estruturados\",\"mediaSubjectClass\":25.0,\"user\":\"Pedro Garcia Pereira \",\"registration\":\" 20190040658\",\"mediaSubject\":50.0},{\"subject\":\"Vetores\",\"mediaSubjectClass\":20.8881578947,\"user\":\"Pedro Garcia Pereira \",\"registration\":\" 20190040658\",\"mediaSubject\":100.0},{\"subject\":\"Assunto em Branco\",\"mediaSubjectClass\":32.7067669173,\"user\":\"Pedro Henrique Dantas de Aragão Mendes \",\"registration\":\" 20190003681\",\"mediaSubject\":14.2857142857},{\"subject\":\"Estruturas Condicionais\",\"mediaSubjectClass\":50.3618421053,\"user\":\"Pedro Henrique Dantas de Aragão Mendes \",\"registration\":\" 20190003681\",\"mediaSubject\":25.0},{\"subject\":\"Estruturas de Repetição\",\"mediaSubjectClass\":44.7368421053,\"user\":\"Pedro Henrique Dantas de Aragão Mendes \",\"registration\":\" 20190003681\",\"mediaSubject\":0.0},{\"subject\":\"Funções\",\"mediaSubjectClass\":9.4883040936,\"user\":\"Pedro Henrique Dantas de Aragão Mendes \",\"registration\":\" 20190003681\",\"mediaSubject\":0.0},{\"subject\":\"Matrizes\",\"mediaSubjectClass\":11.8421052632,\"user\":\"Pedro Henrique Dantas de Aragão Mendes \",\"registration\":\" 20190003681\",\"mediaSubject\":0.0},{\"subject\":\"Ponteiros\",\"mediaSubjectClass\":5.2631578947,\"user\":\"Pedro Henrique Dantas de Aragão Mendes \",\"registration\":\" 20190003681\",\"mediaSubject\":0.0},{\"subject\":\"Recursão\",\"mediaSubjectClass\":5.9210526316,\"user\":\"Pedro Henrique Dantas de Aragão Mendes \",\"registration\":\" 20190003681\",\"mediaSubject\":0.0},{\"subject\":\"String\",\"mediaSubjectClass\":2.6315789474,\"user\":\"Pedro Henrique Dantas de Aragão Mendes \",\"registration\":\" 20190003681\",\"mediaSubject\":0.0},{\"subject\":\"Tipos Estruturados\",\"mediaSubjectClass\":25.0,\"user\":\"Pedro Henrique Dantas de Aragão Mendes \",\"registration\":\" 20190003681\",\"mediaSubject\":0.0},{\"subject\":\"Vetores\",\"mediaSubjectClass\":20.8881578947,\"user\":\"Pedro Henrique Dantas de Aragão Mendes \",\"registration\":\" 20190003681\",\"mediaSubject\":0.0},{\"subject\":\"Assunto em Branco\",\"mediaSubjectClass\":32.7067669173,\"user\":\"Pedro Leite \",\"registration\":\" 20190000830\",\"mediaSubject\":14.2857142857},{\"subject\":\"Estruturas Condicionais\",\"mediaSubjectClass\":50.3618421053,\"user\":\"Pedro Leite \",\"registration\":\" 20190000830\",\"mediaSubject\":50.0},{\"subject\":\"Estruturas de Repetição\",\"mediaSubjectClass\":44.7368421053,\"user\":\"Pedro Leite \",\"registration\":\" 20190000830\",\"mediaSubject\":0.0},{\"subject\":\"Funções\",\"mediaSubjectClass\":9.4883040936,\"user\":\"Pedro Leite \",\"registration\":\" 20190000830\",\"mediaSubject\":20.0},{\"subject\":\"Matrizes\",\"mediaSubjectClass\":11.8421052632,\"user\":\"Pedro Leite \",\"registration\":\" 20190000830\",\"mediaSubject\":0.0},{\"subject\":\"Ponteiros\",\"mediaSubjectClass\":5.2631578947,\"user\":\"Pedro Leite \",\"registration\":\" 20190000830\",\"mediaSubject\":20.0},{\"subject\":\"Recursão\",\"mediaSubjectClass\":5.9210526316,\"user\":\"Pedro Leite \",\"registration\":\" 20190000830\",\"mediaSubject\":0.0},{\"subject\":\"String\",\"mediaSubjectClass\":2.6315789474,\"user\":\"Pedro Leite \",\"registration\":\" 20190000830\",\"mediaSubject\":0.0},{\"subject\":\"Tipos Estruturados\",\"mediaSubjectClass\":25.0,\"user\":\"Pedro Leite \",\"registration\":\" 20190000830\",\"mediaSubject\":50.0},{\"subject\":\"Vetores\",\"mediaSubjectClass\":20.8881578947,\"user\":\"Pedro Leite \",\"registration\":\" 20190000830\",\"mediaSubject\":0.0},{\"subject\":\"Assunto em Branco\",\"mediaSubjectClass\":32.7067669173,\"user\":\"Samuel Souza \",\"registration\":\" 20200046160\",\"mediaSubject\":14.2857142857},{\"subject\":\"Estruturas Condicionais\",\"mediaSubjectClass\":50.3618421053,\"user\":\"Samuel Souza \",\"registration\":\" 20200046160\",\"mediaSubject\":50.0},{\"subject\":\"Estruturas de Repetição\",\"mediaSubjectClass\":44.7368421053,\"user\":\"Samuel Souza \",\"registration\":\" 20200046160\",\"mediaSubject\":0.0},{\"subject\":\"Funções\",\"mediaSubjectClass\":9.4883040936,\"user\":\"Samuel Souza \",\"registration\":\" 20200046160\",\"mediaSubject\":22.2222222222},{\"subject\":\"Matrizes\",\"mediaSubjectClass\":11.8421052632,\"user\":\"Samuel Souza \",\"registration\":\" 20200046160\",\"mediaSubject\":0.0},{\"subject\":\"Ponteiros\",\"mediaSubjectClass\":5.2631578947,\"user\":\"Samuel Souza \",\"registration\":\" 20200046160\",\"mediaSubject\":20.0},{\"subject\":\"Recursão\",\"mediaSubjectClass\":5.9210526316,\"user\":\"Samuel Souza \",\"registration\":\" 20200046160\",\"mediaSubject\":0.0},{\"subject\":\"String\",\"mediaSubjectClass\":2.6315789474,\"user\":\"Samuel Souza \",\"registration\":\" 20200046160\",\"mediaSubject\":0.0},{\"subject\":\"Tipos Estruturados\",\"mediaSubjectClass\":25.0,\"user\":\"Samuel Souza \",\"registration\":\" 20200046160\",\"mediaSubject\":50.0},{\"subject\":\"Vetores\",\"mediaSubjectClass\":20.8881578947,\"user\":\"Samuel Souza \",\"registration\":\" 20200046160\",\"mediaSubject\":0.0},{\"subject\":\"Assunto em Branco\",\"mediaSubjectClass\":32.7067669173,\"user\":\"Tales Vinícius de Medeiros Alves \",\"registration\":\" 20200040685\",\"mediaSubject\":100.0},{\"subject\":\"Estruturas Condicionais\",\"mediaSubjectClass\":50.3618421053,\"user\":\"Tales Vinícius de Medeiros Alves \",\"registration\":\" 20200040685\",\"mediaSubject\":100.0},{\"subject\":\"Estruturas de Repetição\",\"mediaSubjectClass\":44.7368421053,\"user\":\"Tales Vinícius de Medeiros Alves \",\"registration\":\" 20200040685\",\"mediaSubject\":100.0},{\"subject\":\"Funções\",\"mediaSubjectClass\":9.4883040936,\"user\":\"Tales Vinícius de Medeiros Alves \",\"registration\":\" 20200040685\",\"mediaSubject\":44.4444444444},{\"subject\":\"Matrizes\",\"mediaSubjectClass\":11.8421052632,\"user\":\"Tales Vinícius de Medeiros Alves \",\"registration\":\" 20200040685\",\"mediaSubject\":100.0},{\"subject\":\"Ponteiros\",\"mediaSubjectClass\":5.2631578947,\"user\":\"Tales Vinícius de Medeiros Alves \",\"registration\":\" 20200040685\",\"mediaSubject\":60.0},{\"subject\":\"Recursão\",\"mediaSubjectClass\":5.9210526316,\"user\":\"Tales Vinícius de Medeiros Alves \",\"registration\":\" 20200040685\",\"mediaSubject\":0.0},{\"subject\":\"String\",\"mediaSubjectClass\":2.6315789474,\"user\":\"Tales Vinícius de Medeiros Alves \",\"registration\":\" 20200040685\",\"mediaSubject\":100.0},{\"subject\":\"Tipos Estruturados\",\"mediaSubjectClass\":25.0,\"user\":\"Tales Vinícius de Medeiros Alves \",\"registration\":\" 20200040685\",\"mediaSubject\":50.0},{\"subject\":\"Vetores\",\"mediaSubjectClass\":20.8881578947,\"user\":\"Tales Vinícius de Medeiros Alves \",\"registration\":\" 20200040685\",\"mediaSubject\":100.0},{\"subject\":\"Assunto em Branco\",\"mediaSubjectClass\":32.7067669173,\"user\":\"Vitória Morais \",\"registration\":\" 20190046571\",\"mediaSubject\":42.8571428571},{\"subject\":\"Estruturas Condicionais\",\"mediaSubjectClass\":50.3618421053,\"user\":\"Vitória Morais \",\"registration\":\" 20190046571\",\"mediaSubject\":100.0},{\"subject\":\"Estruturas de Repetição\",\"mediaSubjectClass\":44.7368421053,\"user\":\"Vitória Morais \",\"registration\":\" 20190046571\",\"mediaSubject\":100.0},{\"subject\":\"Funções\",\"mediaSubjectClass\":9.4883040936,\"user\":\"Vitória Morais \",\"registration\":\" 20190046571\",\"mediaSubject\":0.0},{\"subject\":\"Matrizes\",\"mediaSubjectClass\":11.8421052632,\"user\":\"Vitória Morais \",\"registration\":\" 20190046571\",\"mediaSubject\":0.0},{\"subject\":\"Ponteiros\",\"mediaSubjectClass\":5.2631578947,\"user\":\"Vitória Morais \",\"registration\":\" 20190046571\",\"mediaSubject\":0.0},{\"subject\":\"Recursão\",\"mediaSubjectClass\":5.9210526316,\"user\":\"Vitória Morais \",\"registration\":\" 20190046571\",\"mediaSubject\":0.0},{\"subject\":\"String\",\"mediaSubjectClass\":2.6315789474,\"user\":\"Vitória Morais \",\"registration\":\" 20190046571\",\"mediaSubject\":0.0},{\"subject\":\"Tipos Estruturados\",\"mediaSubjectClass\":25.0,\"user\":\"Vitória Morais \",\"registration\":\" 20190046571\",\"mediaSubject\":50.0},{\"subject\":\"Vetores\",\"mediaSubjectClass\":20.8881578947,\"user\":\"Vitória Morais \",\"registration\":\" 20190046571\",\"mediaSubject\":25.0},{\"subject\":\"Assunto em Branco\",\"mediaSubjectClass\":32.7067669173,\"user\":\"Vítor Dantas Costa \",\"registration\":\" 20190146700\",\"mediaSubject\":100.0},{\"subject\":\"Estruturas Condicionais\",\"mediaSubjectClass\":50.3618421053,\"user\":\"Vítor Dantas Costa \",\"registration\":\" 20190146700\",\"mediaSubject\":100.0},{\"subject\":\"Estruturas de Repetição\",\"mediaSubjectClass\":44.7368421053,\"user\":\"Vítor Dantas Costa \",\"registration\":\" 20190146700\",\"mediaSubject\":100.0},{\"subject\":\"Funções\",\"mediaSubjectClass\":9.4883040936,\"user\":\"Vítor Dantas Costa \",\"registration\":\" 20190146700\",\"mediaSubject\":44.4444444444},{\"subject\":\"Matrizes\",\"mediaSubjectClass\":11.8421052632,\"user\":\"Vítor Dantas Costa \",\"registration\":\" 20190146700\",\"mediaSubject\":83.3333333333},{\"subject\":\"Ponteiros\",\"mediaSubjectClass\":5.2631578947,\"user\":\"Vítor Dantas Costa \",\"registration\":\" 20190146700\",\"mediaSubject\":40.0},{\"subject\":\"Recursão\",\"mediaSubjectClass\":5.9210526316,\"user\":\"Vítor Dantas Costa \",\"registration\":\" 20190146700\",\"mediaSubject\":0.0},{\"subject\":\"String\",\"mediaSubjectClass\":2.6315789474,\"user\":\"Vítor Dantas Costa \",\"registration\":\" 20190146700\",\"mediaSubject\":0.0},{\"subject\":\"Tipos Estruturados\",\"mediaSubjectClass\":25.0,\"user\":\"Vítor Dantas Costa \",\"registration\":\" 20190146700\",\"mediaSubject\":50.0},{\"subject\":\"Vetores\",\"mediaSubjectClass\":20.8881578947,\"user\":\"Vítor Dantas Costa \",\"registration\":\" 20190146700\",\"mediaSubject\":100.0},{\"subject\":\"Assunto em Branco\",\"mediaSubjectClass\":32.7067669173,\"user\":\"alyssonblack \",\"registration\":\" 20170070435\",\"mediaSubject\":14.2857142857},{\"subject\":\"Estruturas Condicionais\",\"mediaSubjectClass\":50.3618421053,\"user\":\"alyssonblack \",\"registration\":\" 20170070435\",\"mediaSubject\":50.0},{\"subject\":\"Estruturas de Repetição\",\"mediaSubjectClass\":44.7368421053,\"user\":\"alyssonblack \",\"registration\":\" 20170070435\",\"mediaSubject\":0.0},{\"subject\":\"Funções\",\"mediaSubjectClass\":9.4883040936,\"user\":\"alyssonblack \",\"registration\":\" 20170070435\",\"mediaSubject\":0.0},{\"subject\":\"Matrizes\",\"mediaSubjectClass\":11.8421052632,\"user\":\"alyssonblack \",\"registration\":\" 20170070435\",\"mediaSubject\":0.0},{\"subject\":\"Ponteiros\",\"mediaSubjectClass\":5.2631578947,\"user\":\"alyssonblack \",\"registration\":\" 20170070435\",\"mediaSubject\":0.0},{\"subject\":\"Recursão\",\"mediaSubjectClass\":5.9210526316,\"user\":\"alyssonblack \",\"registration\":\" 20170070435\",\"mediaSubject\":0.0},{\"subject\":\"String\",\"mediaSubjectClass\":2.6315789474,\"user\":\"alyssonblack \",\"registration\":\" 20170070435\",\"mediaSubject\":0.0},{\"subject\":\"Tipos Estruturados\",\"mediaSubjectClass\":25.0,\"user\":\"alyssonblack \",\"registration\":\" 20170070435\",\"mediaSubject\":0.0},{\"subject\":\"Vetores\",\"mediaSubjectClass\":20.8881578947,\"user\":\"alyssonblack \",\"registration\":\" 20170070435\",\"mediaSubject\":0.0},{\"subject\":\"Assunto em Branco\",\"mediaSubjectClass\":32.7067669173,\"user\":\"ellen Melo \",\"registration\":\" 20190105224\",\"mediaSubject\":42.8571428571},{\"subject\":\"Estruturas Condicionais\",\"mediaSubjectClass\":50.3618421053,\"user\":\"ellen Melo \",\"registration\":\" 20190105224\",\"mediaSubject\":75.0},{\"subject\":\"Estruturas de Repetição\",\"mediaSubjectClass\":44.7368421053,\"user\":\"ellen Melo \",\"registration\":\" 20190105224\",\"mediaSubject\":100.0},{\"subject\":\"Funções\",\"mediaSubjectClass\":9.4883040936,\"user\":\"ellen Melo \",\"registration\":\" 20190105224\",\"mediaSubject\":0.0},{\"subject\":\"Matrizes\",\"mediaSubjectClass\":11.8421052632,\"user\":\"ellen Melo \",\"registration\":\" 20190105224\",\"mediaSubject\":0.0},{\"subject\":\"Ponteiros\",\"mediaSubjectClass\":5.2631578947,\"user\":\"ellen Melo \",\"registration\":\" 20190105224\",\"mediaSubject\":0.0},{\"subject\":\"Recursão\",\"mediaSubjectClass\":5.9210526316,\"user\":\"ellen Melo \",\"registration\":\" 20190105224\",\"mediaSubject\":0.0},{\"subject\":\"String\",\"mediaSubjectClass\":2.6315789474,\"user\":\"ellen Melo \",\"registration\":\" 20190105224\",\"mediaSubject\":0.0},{\"subject\":\"Tipos Estruturados\",\"mediaSubjectClass\":25.0,\"user\":\"ellen Melo \",\"registration\":\" 20190105224\",\"mediaSubject\":50.0},{\"subject\":\"Vetores\",\"mediaSubjectClass\":20.8881578947,\"user\":\"ellen Melo \",\"registration\":\" 20190105224\",\"mediaSubject\":12.5},{\"subject\":\"Assunto em Branco\",\"mediaSubjectClass\":32.7067669173,\"user\":\"enzo lopes danjour de souza \",\"registration\":\" 20190035658\",\"mediaSubject\":42.8571428571},{\"subject\":\"Estruturas Condicionais\",\"mediaSubjectClass\":50.3618421053,\"user\":\"enzo lopes danjour de souza \",\"registration\":\" 20190035658\",\"mediaSubject\":100.0},{\"subject\":\"Estruturas de Repetição\",\"mediaSubjectClass\":44.7368421053,\"user\":\"enzo lopes danjour de souza \",\"registration\":\" 20190035658\",\"mediaSubject\":100.0},{\"subject\":\"Funções\",\"mediaSubjectClass\":9.4883040936,\"user\":\"enzo lopes danjour de souza \",\"registration\":\" 20190035658\",\"mediaSubject\":0.0},{\"subject\":\"Matrizes\",\"mediaSubjectClass\":11.8421052632,\"user\":\"enzo lopes danjour de souza \",\"registration\":\" 20190035658\",\"mediaSubject\":0.0},{\"subject\":\"Ponteiros\",\"mediaSubjectClass\":5.2631578947,\"user\":\"enzo lopes danjour de souza \",\"registration\":\" 20190035658\",\"mediaSubject\":0.0},{\"subject\":\"Recursão\",\"mediaSubjectClass\":5.9210526316,\"user\":\"enzo lopes danjour de souza \",\"registration\":\" 20190035658\",\"mediaSubject\":0.0},{\"subject\":\"String\",\"mediaSubjectClass\":2.6315789474,\"user\":\"enzo lopes danjour de souza \",\"registration\":\" 20190035658\",\"mediaSubject\":0.0},{\"subject\":\"Tipos Estruturados\",\"mediaSubjectClass\":25.0,\"user\":\"enzo lopes danjour de souza \",\"registration\":\" 20190035658\",\"mediaSubject\":0.0},{\"subject\":\"Vetores\",\"mediaSubjectClass\":20.8881578947,\"user\":\"enzo lopes danjour de souza \",\"registration\":\" 20190035658\",\"mediaSubject\":50.0},{\"subject\":\"Assunto em Branco\",\"mediaSubjectClass\":32.7067669173,\"user\":\"kaio cesar de sousa pinheiro \",\"registration\":\" 20180144793\",\"mediaSubject\":0.0},{\"subject\":\"Estruturas Condicionais\",\"mediaSubjectClass\":50.3618421053,\"user\":\"kaio cesar de sousa pinheiro \",\"registration\":\" 20180144793\",\"mediaSubject\":0.0},{\"subject\":\"Estruturas de Repetição\",\"mediaSubjectClass\":44.7368421053,\"user\":\"kaio cesar de sousa pinheiro \",\"registration\":\" 20180144793\",\"mediaSubject\":0.0},{\"subject\":\"Funções\",\"mediaSubjectClass\":9.4883040936,\"user\":\"kaio cesar de sousa pinheiro \",\"registration\":\" 20180144793\",\"mediaSubject\":0.0},{\"subject\":\"Matrizes\",\"mediaSubjectClass\":11.8421052632,\"user\":\"kaio cesar de sousa pinheiro \",\"registration\":\" 20180144793\",\"mediaSubject\":0.0},{\"subject\":\"Ponteiros\",\"mediaSubjectClass\":5.2631578947,\"user\":\"kaio cesar de sousa pinheiro \",\"registration\":\" 20180144793\",\"mediaSubject\":0.0},{\"subject\":\"Recursão\",\"mediaSubjectClass\":5.9210526316,\"user\":\"kaio cesar de sousa pinheiro \",\"registration\":\" 20180144793\",\"mediaSubject\":0.0},{\"subject\":\"String\",\"mediaSubjectClass\":2.6315789474,\"user\":\"kaio cesar de sousa pinheiro \",\"registration\":\" 20180144793\",\"mediaSubject\":0.0},{\"subject\":\"Tipos Estruturados\",\"mediaSubjectClass\":25.0,\"user\":\"kaio cesar de sousa pinheiro \",\"registration\":\" 20180144793\",\"mediaSubject\":0.0},{\"subject\":\"Vetores\",\"mediaSubjectClass\":20.8881578947,\"user\":\"kaio cesar de sousa pinheiro \",\"registration\":\" 20180144793\",\"mediaSubject\":0.0},{\"subject\":\"Assunto em Branco\",\"mediaSubjectClass\":32.7067669173,\"user\":\"marciotenorio \",\"registration\":\" 20180119880\",\"mediaSubject\":14.2857142857},{\"subject\":\"Estruturas Condicionais\",\"mediaSubjectClass\":50.3618421053,\"user\":\"marciotenorio \",\"registration\":\" 20180119880\",\"mediaSubject\":0.0},{\"subject\":\"Estruturas de Repetição\",\"mediaSubjectClass\":44.7368421053,\"user\":\"marciotenorio \",\"registration\":\" 20180119880\",\"mediaSubject\":0.0},{\"subject\":\"Funções\",\"mediaSubjectClass\":9.4883040936,\"user\":\"marciotenorio \",\"registration\":\" 20180119880\",\"mediaSubject\":11.1111111111},{\"subject\":\"Matrizes\",\"mediaSubjectClass\":11.8421052632,\"user\":\"marciotenorio \",\"registration\":\" 20180119880\",\"mediaSubject\":0.0},{\"subject\":\"Ponteiros\",\"mediaSubjectClass\":5.2631578947,\"user\":\"marciotenorio \",\"registration\":\" 20180119880\",\"mediaSubject\":0.0},{\"subject\":\"Recursão\",\"mediaSubjectClass\":5.9210526316,\"user\":\"marciotenorio \",\"registration\":\" 20180119880\",\"mediaSubject\":0.0},{\"subject\":\"String\",\"mediaSubjectClass\":2.6315789474,\"user\":\"marciotenorio \",\"registration\":\" 20180119880\",\"mediaSubject\":0.0},{\"subject\":\"Tipos Estruturados\",\"mediaSubjectClass\":25.0,\"user\":\"marciotenorio \",\"registration\":\" 20180119880\",\"mediaSubject\":0.0},{\"subject\":\"Vetores\",\"mediaSubjectClass\":20.8881578947,\"user\":\"marciotenorio \",\"registration\":\" 20180119880\",\"mediaSubject\":0.0}],\"GEAP\":[{\"subject\":\"Assunto em Branco\",\"mediaSubjectClass\":20.3947368421,\"user\":\"ANTONIO AUGUSTO DE LIMA SILVA \",\"registration\":\" 20180069652\",\"mediaSubject\":20.652173913},{\"subject\":\"Estruturas Condicionais\",\"mediaSubjectClass\":27.207593985,\"user\":\"ANTONIO AUGUSTO DE LIMA SILVA \",\"registration\":\" 20180069652\",\"mediaSubject\":37.1428571429},{\"subject\":\"Estruturas de Repetição\",\"mediaSubjectClass\":17.4812030075,\"user\":\"ANTONIO AUGUSTO DE LIMA SILVA \",\"registration\":\" 20180069652\",\"mediaSubject\":14.2857142857},{\"subject\":\"Funções\",\"mediaSubjectClass\":21.1257309942,\"user\":\"ANTONIO AUGUSTO DE LIMA SILVA \",\"registration\":\" 20180069652\",\"mediaSubject\":18.5183333333},{\"subject\":\"Matrizes\",\"mediaSubjectClass\":51.3157894737,\"user\":\"ANTONIO AUGUSTO DE LIMA SILVA \",\"registration\":\" 20180069652\",\"mediaSubject\":50.0},{\"subject\":\"Operadores Aritméticos\",\"mediaSubjectClass\":0.0,\"user\":\"ANTONIO AUGUSTO DE LIMA SILVA \",\"registration\":\" 20180069652\",\"mediaSubject\":0.0},{\"subject\":\"Operadores Lógicos\",\"mediaSubjectClass\":0.0,\"user\":\"ANTONIO AUGUSTO DE LIMA SILVA \",\"registration\":\" 20180069652\",\"mediaSubject\":0.0},{\"subject\":\"Ordenação\",\"mediaSubjectClass\":0.0,\"user\":\"ANTONIO AUGUSTO DE LIMA SILVA \",\"registration\":\" 20180069652\",\"mediaSubject\":0.0},{\"subject\":\"Ponteiros\",\"mediaSubjectClass\":15.2851052632,\"user\":\"ANTONIO AUGUSTO DE LIMA SILVA \",\"registration\":\" 20180069652\",\"mediaSubject\":0.0},{\"subject\":\"Recursão\",\"mediaSubjectClass\":19.7148684211,\"user\":\"ANTONIO AUGUSTO DE LIMA SILVA \",\"registration\":\" 20180069652\",\"mediaSubject\":16.6666666667},{\"subject\":\"Tipos Estruturados\",\"mediaSubjectClass\":17.7193157895,\"user\":\"ANTONIO AUGUSTO DE LIMA SILVA \",\"registration\":\" 20180069652\",\"mediaSubject\":0.0},{\"subject\":\"Vetores\",\"mediaSubjectClass\":63.0263157895,\"user\":\"ANTONIO AUGUSTO DE LIMA SILVA \",\"registration\":\" 20180069652\",\"mediaSubject\":55.0},{\"subject\":\"Assunto em Branco\",\"mediaSubjectClass\":20.3947368421,\"user\":\"Abílio Fontenelle \",\"registration\":\" 20180067952\",\"mediaSubject\":21.7391304348},{\"subject\":\"Estruturas Condicionais\",\"mediaSubjectClass\":27.207593985,\"user\":\"Abílio Fontenelle \",\"registration\":\" 20180067952\",\"mediaSubject\":28.5714285714},{\"subject\":\"Estruturas de Repetição\",\"mediaSubjectClass\":17.4812030075,\"user\":\"Abílio Fontenelle \",\"registration\":\" 20180067952\",\"mediaSubject\":28.5714285714},{\"subject\":\"Funções\",\"mediaSubjectClass\":21.1257309942,\"user\":\"Abílio Fontenelle \",\"registration\":\" 20180067952\",\"mediaSubject\":22.2222222222},{\"subject\":\"Matrizes\",\"mediaSubjectClass\":51.3157894737,\"user\":\"Abílio Fontenelle \",\"registration\":\" 20180067952\",\"mediaSubject\":50.0},{\"subject\":\"Operadores Aritméticos\",\"mediaSubjectClass\":0.0,\"user\":\"Abílio Fontenelle \",\"registration\":\" 20180067952\",\"mediaSubject\":0.0},{\"subject\":\"Operadores Lógicos\",\"mediaSubjectClass\":0.0,\"user\":\"Abílio Fontenelle \",\"registration\":\" 20180067952\",\"mediaSubject\":0.0},{\"subject\":\"Ordenação\",\"mediaSubjectClass\":0.0,\"user\":\"Abílio Fontenelle \",\"registration\":\" 20180067952\",\"mediaSubject\":0.0},{\"subject\":\"Ponteiros\",\"mediaSubjectClass\":15.2851052632,\"user\":\"Abílio Fontenelle \",\"registration\":\" 20180067952\",\"mediaSubject\":20.0},{\"subject\":\"Recursão\",\"mediaSubjectClass\":19.7148684211,\"user\":\"Abílio Fontenelle \",\"registration\":\" 20180067952\",\"mediaSubject\":8.3333333333},{\"subject\":\"Tipos Estruturados\",\"mediaSubjectClass\":17.7193157895,\"user\":\"Abílio Fontenelle \",\"registration\":\" 20180067952\",\"mediaSubject\":20.0},{\"subject\":\"Vetores\",\"mediaSubjectClass\":63.0263157895,\"user\":\"Abílio Fontenelle \",\"registration\":\" 20180067952\",\"mediaSubject\":80.0},{\"subject\":\"Assunto em Branco\",\"mediaSubjectClass\":20.3947368421,\"user\":\"Allef Vinicius \",\"registration\":\" 20180069714\",\"mediaSubject\":17.3913043478},{\"subject\":\"Estruturas Condicionais\",\"mediaSubjectClass\":27.207593985,\"user\":\"Allef Vinicius \",\"registration\":\" 20180069714\",\"mediaSubject\":0.0},{\"subject\":\"Estruturas de Repetição\",\"mediaSubjectClass\":17.4812030075,\"user\":\"Allef Vinicius \",\"registration\":\" 20180069714\",\"mediaSubject\":0.0},{\"subject\":\"Funções\",\"mediaSubjectClass\":21.1257309942,\"user\":\"Allef Vinicius \",\"registration\":\" 20180069714\",\"mediaSubject\":33.3333333333},{\"subject\":\"Matrizes\",\"mediaSubjectClass\":51.3157894737,\"user\":\"Allef Vinicius \",\"registration\":\" 20180069714\",\"mediaSubject\":100.0},{\"subject\":\"Operadores Aritméticos\",\"mediaSubjectClass\":0.0,\"user\":\"Allef Vinicius \",\"registration\":\" 20180069714\",\"mediaSubject\":0.0},{\"subject\":\"Operadores Lógicos\",\"mediaSubjectClass\":0.0,\"user\":\"Allef Vinicius \",\"registration\":\" 20180069714\",\"mediaSubject\":0.0},{\"subject\":\"Ordenação\",\"mediaSubjectClass\":0.0,\"user\":\"Allef Vinicius \",\"registration\":\" 20180069714\",\"mediaSubject\":0.0},{\"subject\":\"Ponteiros\",\"mediaSubjectClass\":15.2851052632,\"user\":\"Allef Vinicius \",\"registration\":\" 20180069714\",\"mediaSubject\":40.0},{\"subject\":\"Recursão\",\"mediaSubjectClass\":19.7148684211,\"user\":\"Allef Vinicius \",\"registration\":\" 20180069714\",\"mediaSubject\":16.6666666667},{\"subject\":\"Tipos Estruturados\",\"mediaSubjectClass\":17.7193157895,\"user\":\"Allef Vinicius \",\"registration\":\" 20180069714\",\"mediaSubject\":40.0},{\"subject\":\"Vetores\",\"mediaSubjectClass\":63.0263157895,\"user\":\"Allef Vinicius \",\"registration\":\" 20180069714\",\"mediaSubject\":100.0},{\"subject\":\"Assunto em Branco\",\"mediaSubjectClass\":20.3947368421,\"user\":\"André Luiz Rodrigues Soares \",\"registration\":\" 20180001960\",\"mediaSubject\":30.4347826087},{\"subject\":\"Estruturas Condicionais\",\"mediaSubjectClass\":27.207593985,\"user\":\"André Luiz Rodrigues Soares \",\"registration\":\" 20180001960\",\"mediaSubject\":42.8571428571},{\"subject\":\"Estruturas de Repetição\",\"mediaSubjectClass\":17.4812030075,\"user\":\"André Luiz Rodrigues Soares \",\"registration\":\" 20180001960\",\"mediaSubject\":28.5714285714},{\"subject\":\"Funções\",\"mediaSubjectClass\":21.1257309942,\"user\":\"André Luiz Rodrigues Soares \",\"registration\":\" 20180001960\",\"mediaSubject\":27.7777777778},{\"subject\":\"Matrizes\",\"mediaSubjectClass\":51.3157894737,\"user\":\"André Luiz Rodrigues Soares \",\"registration\":\" 20180001960\",\"mediaSubject\":100.0},{\"subject\":\"Operadores Aritméticos\",\"mediaSubjectClass\":0.0,\"user\":\"André Luiz Rodrigues Soares \",\"registration\":\" 20180001960\",\"mediaSubject\":0.0},{\"subject\":\"Operadores Lógicos\",\"mediaSubjectClass\":0.0,\"user\":\"André Luiz Rodrigues Soares \",\"registration\":\" 20180001960\",\"mediaSubject\":0.0},{\"subject\":\"Ordenação\",\"mediaSubjectClass\":0.0,\"user\":\"André Luiz Rodrigues Soares \",\"registration\":\" 20180001960\",\"mediaSubject\":0.0},{\"subject\":\"Ponteiros\",\"mediaSubjectClass\":15.2851052632,\"user\":\"André Luiz Rodrigues Soares \",\"registration\":\" 20180001960\",\"mediaSubject\":31.667},{\"subject\":\"Recursão\",\"mediaSubjectClass\":19.7148684211,\"user\":\"André Luiz Rodrigues Soares \",\"registration\":\" 20180001960\",\"mediaSubject\":53.3333333333},{\"subject\":\"Tipos Estruturados\",\"mediaSubjectClass\":17.7193157895,\"user\":\"André Luiz Rodrigues Soares \",\"registration\":\" 20180001960\",\"mediaSubject\":0.0},{\"subject\":\"Vetores\",\"mediaSubjectClass\":63.0263157895,\"user\":\"André Luiz Rodrigues Soares \",\"registration\":\" 20180001960\",\"mediaSubject\":100.0},{\"subject\":\"Assunto em Branco\",\"mediaSubjectClass\":20.3947368421,\"user\":\"Arthur Learth \",\"registration\":\" 20180071294\",\"mediaSubject\":10.8695652174},{\"subject\":\"Estruturas Condicionais\",\"mediaSubjectClass\":27.207593985,\"user\":\"Arthur Learth \",\"registration\":\" 20180071294\",\"mediaSubject\":28.5714285714},{\"subject\":\"Estruturas de Repetição\",\"mediaSubjectClass\":17.4812030075,\"user\":\"Arthur Learth \",\"registration\":\" 20180071294\",\"mediaSubject\":0.0},{\"subject\":\"Funções\",\"mediaSubjectClass\":21.1257309942,\"user\":\"Arthur Learth \",\"registration\":\" 20180071294\",\"mediaSubject\":0.0},{\"subject\":\"Matrizes\",\"mediaSubjectClass\":51.3157894737,\"user\":\"Arthur Learth \",\"registration\":\" 20180071294\",\"mediaSubject\":50.0},{\"subject\":\"Operadores Aritméticos\",\"mediaSubjectClass\":0.0,\"user\":\"Arthur Learth \",\"registration\":\" 20180071294\",\"mediaSubject\":0.0},{\"subject\":\"Operadores Lógicos\",\"mediaSubjectClass\":0.0,\"user\":\"Arthur Learth \",\"registration\":\" 20180071294\",\"mediaSubject\":0.0},{\"subject\":\"Ordenação\",\"mediaSubjectClass\":0.0,\"user\":\"Arthur Learth \",\"registration\":\" 20180071294\",\"mediaSubject\":0.0},{\"subject\":\"Ponteiros\",\"mediaSubjectClass\":15.2851052632,\"user\":\"Arthur Learth \",\"registration\":\" 20180071294\",\"mediaSubject\":0.0},{\"subject\":\"Recursão\",\"mediaSubjectClass\":19.7148684211,\"user\":\"Arthur Learth \",\"registration\":\" 20180071294\",\"mediaSubject\":33.3333333333},{\"subject\":\"Tipos Estruturados\",\"mediaSubjectClass\":17.7193157895,\"user\":\"Arthur Learth \",\"registration\":\" 20180071294\",\"mediaSubject\":0.0},{\"subject\":\"Vetores\",\"mediaSubjectClass\":63.0263157895,\"user\":\"Arthur Learth \",\"registration\":\" 20180071294\",\"mediaSubject\":50.0},{\"subject\":\"Assunto em Branco\",\"mediaSubjectClass\":20.3947368421,\"user\":\"Daniel \",\"registration\":\" 20190046016\",\"mediaSubject\":13.0434782609},{\"subject\":\"Estruturas Condicionais\",\"mediaSubjectClass\":27.207593985,\"user\":\"Daniel \",\"registration\":\" 20190046016\",\"mediaSubject\":0.0},{\"subject\":\"Estruturas de Repetição\",\"mediaSubjectClass\":17.4812030075,\"user\":\"Daniel \",\"registration\":\" 20190046016\",\"mediaSubject\":0.0},{\"subject\":\"Funções\",\"mediaSubjectClass\":21.1257309942,\"user\":\"Daniel \",\"registration\":\" 20190046016\",\"mediaSubject\":41.6666666667},{\"subject\":\"Matrizes\",\"mediaSubjectClass\":51.3157894737,\"user\":\"Daniel \",\"registration\":\" 20190046016\",\"mediaSubject\":62.5},{\"subject\":\"Operadores Aritméticos\",\"mediaSubjectClass\":0.0,\"user\":\"Daniel \",\"registration\":\" 20190046016\",\"mediaSubject\":0.0},{\"subject\":\"Operadores Lógicos\",\"mediaSubjectClass\":0.0,\"user\":\"Daniel \",\"registration\":\" 20190046016\",\"mediaSubject\":0.0},{\"subject\":\"Ordenação\",\"mediaSubjectClass\":0.0,\"user\":\"Daniel \",\"registration\":\" 20190046016\",\"mediaSubject\":0.0},{\"subject\":\"Ponteiros\",\"mediaSubjectClass\":15.2851052632,\"user\":\"Daniel \",\"registration\":\" 20190046016\",\"mediaSubject\":40.0},{\"subject\":\"Recursão\",\"mediaSubjectClass\":19.7148684211,\"user\":\"Daniel \",\"registration\":\" 20190046016\",\"mediaSubject\":33.3333333333},{\"subject\":\"Tipos Estruturados\",\"mediaSubjectClass\":17.7193157895,\"user\":\"Daniel \",\"registration\":\" 20190046016\",\"mediaSubject\":20.0},{\"subject\":\"Vetores\",\"mediaSubjectClass\":63.0263157895,\"user\":\"Daniel \",\"registration\":\" 20190046016\",\"mediaSubject\":40.0},{\"subject\":\"Assunto em Branco\",\"mediaSubjectClass\":20.3947368421,\"user\":\"Deborah Dantas \",\"registration\":\" 20190036691\",\"mediaSubject\":26.0869565217},{\"subject\":\"Estruturas Condicionais\",\"mediaSubjectClass\":27.207593985,\"user\":\"Deborah Dantas \",\"registration\":\" 20190036691\",\"mediaSubject\":33.5714285714},{\"subject\":\"Estruturas de Repetição\",\"mediaSubjectClass\":17.4812030075,\"user\":\"Deborah Dantas \",\"registration\":\" 20190036691\",\"mediaSubject\":28.5714285714},{\"subject\":\"Funções\",\"mediaSubjectClass\":21.1257309942,\"user\":\"Deborah Dantas \",\"registration\":\" 20190036691\",\"mediaSubject\":16.6666666667},{\"subject\":\"Matrizes\",\"mediaSubjectClass\":51.3157894737,\"user\":\"Deborah Dantas \",\"registration\":\" 20190036691\",\"mediaSubject\":50.0},{\"subject\":\"Operadores Aritméticos\",\"mediaSubjectClass\":0.0,\"user\":\"Deborah Dantas \",\"registration\":\" 20190036691\",\"mediaSubject\":0.0},{\"subject\":\"Operadores Lógicos\",\"mediaSubjectClass\":0.0,\"user\":\"Deborah Dantas \",\"registration\":\" 20190036691\",\"mediaSubject\":0.0},{\"subject\":\"Ordenação\",\"mediaSubjectClass\":0.0,\"user\":\"Deborah Dantas \",\"registration\":\" 20190036691\",\"mediaSubject\":0.0},{\"subject\":\"Ponteiros\",\"mediaSubjectClass\":15.2851052632,\"user\":\"Deborah Dantas \",\"registration\":\" 20190036691\",\"mediaSubject\":10.0},{\"subject\":\"Recursão\",\"mediaSubjectClass\":19.7148684211,\"user\":\"Deborah Dantas \",\"registration\":\" 20190036691\",\"mediaSubject\":16.6666666667},{\"subject\":\"Tipos Estruturados\",\"mediaSubjectClass\":17.7193157895,\"user\":\"Deborah Dantas \",\"registration\":\" 20190036691\",\"mediaSubject\":20.0},{\"subject\":\"Vetores\",\"mediaSubjectClass\":63.0263157895,\"user\":\"Deborah Dantas \",\"registration\":\" 20190036691\",\"mediaSubject\":65.0},{\"subject\":\"Assunto em Branco\",\"mediaSubjectClass\":20.3947368421,\"user\":\"Dimitri Lima \",\"registration\":\" Ufrn\",\"mediaSubject\":26.0869565217},{\"subject\":\"Estruturas Condicionais\",\"mediaSubjectClass\":27.207593985,\"user\":\"Dimitri Lima \",\"registration\":\" Ufrn\",\"mediaSubject\":42.8571428571},{\"subject\":\"Estruturas de Repetição\",\"mediaSubjectClass\":17.4812030075,\"user\":\"Dimitri Lima \",\"registration\":\" Ufrn\",\"mediaSubject\":21.4285714286},{\"subject\":\"Funções\",\"mediaSubjectClass\":21.1257309942,\"user\":\"Dimitri Lima \",\"registration\":\" Ufrn\",\"mediaSubject\":22.2222222222},{\"subject\":\"Matrizes\",\"mediaSubjectClass\":51.3157894737,\"user\":\"Dimitri Lima \",\"registration\":\" Ufrn\",\"mediaSubject\":75.0},{\"subject\":\"Operadores Aritméticos\",\"mediaSubjectClass\":0.0,\"user\":\"Dimitri Lima \",\"registration\":\" Ufrn\",\"mediaSubject\":0.0},{\"subject\":\"Operadores Lógicos\",\"mediaSubjectClass\":0.0,\"user\":\"Dimitri Lima \",\"registration\":\" Ufrn\",\"mediaSubject\":0.0},{\"subject\":\"Ordenação\",\"mediaSubjectClass\":0.0,\"user\":\"Dimitri Lima \",\"registration\":\" Ufrn\",\"mediaSubject\":0.0},{\"subject\":\"Ponteiros\",\"mediaSubjectClass\":15.2851052632,\"user\":\"Dimitri Lima \",\"registration\":\" Ufrn\",\"mediaSubject\":25.0},{\"subject\":\"Recursão\",\"mediaSubjectClass\":19.7148684211,\"user\":\"Dimitri Lima \",\"registration\":\" Ufrn\",\"mediaSubject\":45.8333333333},{\"subject\":\"Tipos Estruturados\",\"mediaSubjectClass\":17.7193157895,\"user\":\"Dimitri Lima \",\"registration\":\" Ufrn\",\"mediaSubject\":20.0},{\"subject\":\"Vetores\",\"mediaSubjectClass\":63.0263157895,\"user\":\"Dimitri Lima \",\"registration\":\" Ufrn\",\"mediaSubject\":95.0},{\"subject\":\"Assunto em Branco\",\"mediaSubjectClass\":20.3947368421,\"user\":\"Felipe Costa \",\"registration\":\" 20190043453\",\"mediaSubject\":30.4347826087},{\"subject\":\"Estruturas Condicionais\",\"mediaSubjectClass\":27.207593985,\"user\":\"Felipe Costa \",\"registration\":\" 20190043453\",\"mediaSubject\":42.8571428571},{\"subject\":\"Estruturas de Repetição\",\"mediaSubjectClass\":17.4812030075,\"user\":\"Felipe Costa \",\"registration\":\" 20190043453\",\"mediaSubject\":28.5714285714},{\"subject\":\"Funções\",\"mediaSubjectClass\":21.1257309942,\"user\":\"Felipe Costa \",\"registration\":\" 20190043453\",\"mediaSubject\":27.7777777778},{\"subject\":\"Matrizes\",\"mediaSubjectClass\":51.3157894737,\"user\":\"Felipe Costa \",\"registration\":\" 20190043453\",\"mediaSubject\":75.0},{\"subject\":\"Operadores Aritméticos\",\"mediaSubjectClass\":0.0,\"user\":\"Felipe Costa \",\"registration\":\" 20190043453\",\"mediaSubject\":0.0},{\"subject\":\"Operadores Lógicos\",\"mediaSubjectClass\":0.0,\"user\":\"Felipe Costa \",\"registration\":\" 20190043453\",\"mediaSubject\":0.0},{\"subject\":\"Ordenação\",\"mediaSubjectClass\":0.0,\"user\":\"Felipe Costa \",\"registration\":\" 20190043453\",\"mediaSubject\":0.0},{\"subject\":\"Ponteiros\",\"mediaSubjectClass\":15.2851052632,\"user\":\"Felipe Costa \",\"registration\":\" 20190043453\",\"mediaSubject\":10.0},{\"subject\":\"Recursão\",\"mediaSubjectClass\":19.7148684211,\"user\":\"Felipe Costa \",\"registration\":\" 20190043453\",\"mediaSubject\":66.6666666667},{\"subject\":\"Tipos Estruturados\",\"mediaSubjectClass\":17.7193157895,\"user\":\"Felipe Costa \",\"registration\":\" 20190043453\",\"mediaSubject\":0.0},{\"subject\":\"Vetores\",\"mediaSubjectClass\":63.0263157895,\"user\":\"Felipe Costa \",\"registration\":\" 20190043453\",\"mediaSubject\":100.0},{\"subject\":\"Assunto em Branco\",\"mediaSubjectClass\":20.3947368421,\"user\":\"GABRIEL FERNANDES LAURINDO \",\"registration\":\" 20190126761\",\"mediaSubject\":21.7391304348},{\"subject\":\"Estruturas Condicionais\",\"mediaSubjectClass\":27.207593985,\"user\":\"GABRIEL FERNANDES LAURINDO \",\"registration\":\" 20190126761\",\"mediaSubject\":42.8571428571},{\"subject\":\"Estruturas de Repetição\",\"mediaSubjectClass\":17.4812030075,\"user\":\"GABRIEL FERNANDES LAURINDO \",\"registration\":\" 20190126761\",\"mediaSubject\":14.2857142857},{\"subject\":\"Funções\",\"mediaSubjectClass\":21.1257309942,\"user\":\"GABRIEL FERNANDES LAURINDO \",\"registration\":\" 20190126761\",\"mediaSubject\":14.815},{\"subject\":\"Matrizes\",\"mediaSubjectClass\":51.3157894737,\"user\":\"GABRIEL FERNANDES LAURINDO \",\"registration\":\" 20190126761\",\"mediaSubject\":50.0},{\"subject\":\"Operadores Aritméticos\",\"mediaSubjectClass\":0.0,\"user\":\"GABRIEL FERNANDES LAURINDO \",\"registration\":\" 20190126761\",\"mediaSubject\":0.0},{\"subject\":\"Operadores Lógicos\",\"mediaSubjectClass\":0.0,\"user\":\"GABRIEL FERNANDES LAURINDO \",\"registration\":\" 20190126761\",\"mediaSubject\":0.0},{\"subject\":\"Ordenação\",\"mediaSubjectClass\":0.0,\"user\":\"GABRIEL FERNANDES LAURINDO \",\"registration\":\" 20190126761\",\"mediaSubject\":0.0},{\"subject\":\"Ponteiros\",\"mediaSubjectClass\":15.2851052632,\"user\":\"GABRIEL FERNANDES LAURINDO \",\"registration\":\" 20190126761\",\"mediaSubject\":22.5},{\"subject\":\"Recursão\",\"mediaSubjectClass\":19.7148684211,\"user\":\"GABRIEL FERNANDES LAURINDO \",\"registration\":\" 20190126761\",\"mediaSubject\":16.6666666667},{\"subject\":\"Tipos Estruturados\",\"mediaSubjectClass\":17.7193157895,\"user\":\"GABRIEL FERNANDES LAURINDO \",\"registration\":\" 20190126761\",\"mediaSubject\":0.0},{\"subject\":\"Vetores\",\"mediaSubjectClass\":63.0263157895,\"user\":\"GABRIEL FERNANDES LAURINDO \",\"registration\":\" 20190126761\",\"mediaSubject\":80.0},{\"subject\":\"Assunto em Branco\",\"mediaSubjectClass\":20.3947368421,\"user\":\"Gabriel Bassani \",\"registration\":\" 20190043794\",\"mediaSubject\":30.4347826087},{\"subject\":\"Estruturas Condicionais\",\"mediaSubjectClass\":27.207593985,\"user\":\"Gabriel Bassani \",\"registration\":\" 20190043794\",\"mediaSubject\":42.8571428571},{\"subject\":\"Estruturas de Repetição\",\"mediaSubjectClass\":17.4812030075,\"user\":\"Gabriel Bassani \",\"registration\":\" 20190043794\",\"mediaSubject\":28.5714285714},{\"subject\":\"Funções\",\"mediaSubjectClass\":21.1257309942,\"user\":\"Gabriel Bassani \",\"registration\":\" 20190043794\",\"mediaSubject\":33.3333333333},{\"subject\":\"Matrizes\",\"mediaSubjectClass\":51.3157894737,\"user\":\"Gabriel Bassani \",\"registration\":\" 20190043794\",\"mediaSubject\":100.0},{\"subject\":\"Operadores Aritméticos\",\"mediaSubjectClass\":0.0,\"user\":\"Gabriel Bassani \",\"registration\":\" 20190043794\",\"mediaSubject\":0.0},{\"subject\":\"Operadores Lógicos\",\"mediaSubjectClass\":0.0,\"user\":\"Gabriel Bassani \",\"registration\":\" 20190043794\",\"mediaSubject\":0.0},{\"subject\":\"Ordenação\",\"mediaSubjectClass\":0.0,\"user\":\"Gabriel Bassani \",\"registration\":\" 20190043794\",\"mediaSubject\":0.0},{\"subject\":\"Ponteiros\",\"mediaSubjectClass\":15.2851052632,\"user\":\"Gabriel Bassani \",\"registration\":\" 20190043794\",\"mediaSubject\":50.0},{\"subject\":\"Recursão\",\"mediaSubjectClass\":19.7148684211,\"user\":\"Gabriel Bassani \",\"registration\":\" 20190043794\",\"mediaSubject\":50.0},{\"subject\":\"Tipos Estruturados\",\"mediaSubjectClass\":17.7193157895,\"user\":\"Gabriel Bassani \",\"registration\":\" 20190043794\",\"mediaSubject\":60.0},{\"subject\":\"Vetores\",\"mediaSubjectClass\":63.0263157895,\"user\":\"Gabriel Bassani \",\"registration\":\" 20190043794\",\"mediaSubject\":100.0},{\"subject\":\"Assunto em Branco\",\"mediaSubjectClass\":20.3947368421,\"user\":\"Gabriel Vinícius Lima da Costa Medeiros \",\"registration\":\" 20190041978\",\"mediaSubject\":30.4347826087},{\"subject\":\"Estruturas Condicionais\",\"mediaSubjectClass\":27.207593985,\"user\":\"Gabriel Vinícius Lima da Costa Medeiros \",\"registration\":\" 20190041978\",\"mediaSubject\":42.8571428571},{\"subject\":\"Estruturas de Repetição\",\"mediaSubjectClass\":17.4812030075,\"user\":\"Gabriel Vinícius Lima da Costa Medeiros \",\"registration\":\" 20190041978\",\"mediaSubject\":28.5714285714},{\"subject\":\"Funções\",\"mediaSubjectClass\":21.1257309942,\"user\":\"Gabriel Vinícius Lima da Costa Medeiros \",\"registration\":\" 20190041978\",\"mediaSubject\":38.8888888889},{\"subject\":\"Matrizes\",\"mediaSubjectClass\":51.3157894737,\"user\":\"Gabriel Vinícius Lima da Costa Medeiros \",\"registration\":\" 20190041978\",\"mediaSubject\":75.0},{\"subject\":\"Operadores Aritméticos\",\"mediaSubjectClass\":0.0,\"user\":\"Gabriel Vinícius Lima da Costa Medeiros \",\"registration\":\" 20190041978\",\"mediaSubject\":0.0},{\"subject\":\"Operadores Lógicos\",\"mediaSubjectClass\":0.0,\"user\":\"Gabriel Vinícius Lima da Costa Medeiros \",\"registration\":\" 20190041978\",\"mediaSubject\":0.0},{\"subject\":\"Ordenação\",\"mediaSubjectClass\":0.0,\"user\":\"Gabriel Vinícius Lima da Costa Medeiros \",\"registration\":\" 20190041978\",\"mediaSubject\":0.0},{\"subject\":\"Ponteiros\",\"mediaSubjectClass\":15.2851052632,\"user\":\"Gabriel Vinícius Lima da Costa Medeiros \",\"registration\":\" 20190041978\",\"mediaSubject\":40.0},{\"subject\":\"Recursão\",\"mediaSubjectClass\":19.7148684211,\"user\":\"Gabriel Vinícius Lima da Costa Medeiros \",\"registration\":\" 20190041978\",\"mediaSubject\":0.0},{\"subject\":\"Tipos Estruturados\",\"mediaSubjectClass\":17.7193157895,\"user\":\"Gabriel Vinícius Lima da Costa Medeiros \",\"registration\":\" 20190041978\",\"mediaSubject\":20.0},{\"subject\":\"Vetores\",\"mediaSubjectClass\":63.0263157895,\"user\":\"Gabriel Vinícius Lima da Costa Medeiros \",\"registration\":\" 20190041978\",\"mediaSubject\":100.0},{\"subject\":\"Assunto em Branco\",\"mediaSubjectClass\":20.3947368421,\"user\":\"Guilherme Augusto Santana de Lima \",\"registration\":\" 20190044138\",\"mediaSubject\":13.0434782609},{\"subject\":\"Estruturas Condicionais\",\"mediaSubjectClass\":27.207593985,\"user\":\"Guilherme Augusto Santana de Lima \",\"registration\":\" 20190044138\",\"mediaSubject\":14.2857142857},{\"subject\":\"Estruturas de Repetição\",\"mediaSubjectClass\":17.4812030075,\"user\":\"Guilherme Augusto Santana de Lima \",\"registration\":\" 20190044138\",\"mediaSubject\":28.5714285714},{\"subject\":\"Funções\",\"mediaSubjectClass\":21.1257309942,\"user\":\"Guilherme Augusto Santana de Lima \",\"registration\":\" 20190044138\",\"mediaSubject\":27.7777777778},{\"subject\":\"Matrizes\",\"mediaSubjectClass\":51.3157894737,\"user\":\"Guilherme Augusto Santana de Lima \",\"registration\":\" 20190044138\",\"mediaSubject\":25.0},{\"subject\":\"Operadores Aritméticos\",\"mediaSubjectClass\":0.0,\"user\":\"Guilherme Augusto Santana de Lima \",\"registration\":\" 20190044138\",\"mediaSubject\":0.0},{\"subject\":\"Operadores Lógicos\",\"mediaSubjectClass\":0.0,\"user\":\"Guilherme Augusto Santana de Lima \",\"registration\":\" 20190044138\",\"mediaSubject\":0.0},{\"subject\":\"Ordenação\",\"mediaSubjectClass\":0.0,\"user\":\"Guilherme Augusto Santana de Lima \",\"registration\":\" 20190044138\",\"mediaSubject\":0.0},{\"subject\":\"Ponteiros\",\"mediaSubjectClass\":15.2851052632,\"user\":\"Guilherme Augusto Santana de Lima \",\"registration\":\" 20190044138\",\"mediaSubject\":0.0},{\"subject\":\"Recursão\",\"mediaSubjectClass\":19.7148684211,\"user\":\"Guilherme Augusto Santana de Lima \",\"registration\":\" 20190044138\",\"mediaSubject\":0.0},{\"subject\":\"Tipos Estruturados\",\"mediaSubjectClass\":17.7193157895,\"user\":\"Guilherme Augusto Santana de Lima \",\"registration\":\" 20190044138\",\"mediaSubject\":0.0},{\"subject\":\"Vetores\",\"mediaSubjectClass\":63.0263157895,\"user\":\"Guilherme Augusto Santana de Lima \",\"registration\":\" 20190044138\",\"mediaSubject\":30.0},{\"subject\":\"Assunto em Branco\",\"mediaSubjectClass\":20.3947368421,\"user\":\"Iury Lamonie \",\"registration\":\" Monitor\",\"mediaSubject\":0.0},{\"subject\":\"Estruturas Condicionais\",\"mediaSubjectClass\":27.207593985,\"user\":\"Iury Lamonie \",\"registration\":\" Monitor\",\"mediaSubject\":0.0},{\"subject\":\"Estruturas de Repetição\",\"mediaSubjectClass\":17.4812030075,\"user\":\"Iury Lamonie \",\"registration\":\" Monitor\",\"mediaSubject\":0.0},{\"subject\":\"Funções\",\"mediaSubjectClass\":21.1257309942,\"user\":\"Iury Lamonie \",\"registration\":\" Monitor\",\"mediaSubject\":0.0},{\"subject\":\"Matrizes\",\"mediaSubjectClass\":51.3157894737,\"user\":\"Iury Lamonie \",\"registration\":\" Monitor\",\"mediaSubject\":0.0},{\"subject\":\"Operadores Aritméticos\",\"mediaSubjectClass\":0.0,\"user\":\"Iury Lamonie \",\"registration\":\" Monitor\",\"mediaSubject\":0.0},{\"subject\":\"Operadores Lógicos\",\"mediaSubjectClass\":0.0,\"user\":\"Iury Lamonie \",\"registration\":\" Monitor\",\"mediaSubject\":0.0},{\"subject\":\"Ordenação\",\"mediaSubjectClass\":0.0,\"user\":\"Iury Lamonie \",\"registration\":\" Monitor\",\"mediaSubject\":0.0},{\"subject\":\"Ponteiros\",\"mediaSubjectClass\":15.2851052632,\"user\":\"Iury Lamonie \",\"registration\":\" Monitor\",\"mediaSubject\":0.0},{\"subject\":\"Recursão\",\"mediaSubjectClass\":19.7148684211,\"user\":\"Iury Lamonie \",\"registration\":\" Monitor\",\"mediaSubject\":0.0},{\"subject\":\"Tipos Estruturados\",\"mediaSubjectClass\":17.7193157895,\"user\":\"Iury Lamonie \",\"registration\":\" Monitor\",\"mediaSubject\":0.0},{\"subject\":\"Vetores\",\"mediaSubjectClass\":63.0263157895,\"user\":\"Iury Lamonie \",\"registration\":\" Monitor\",\"mediaSubject\":35.0},{\"subject\":\"Assunto em Branco\",\"mediaSubjectClass\":20.3947368421,\"user\":\"Jackson D \",\"registration\":\" 20200038945\",\"mediaSubject\":30.4347826087},{\"subject\":\"Estruturas Condicionais\",\"mediaSubjectClass\":27.207593985,\"user\":\"Jackson D \",\"registration\":\" 20200038945\",\"mediaSubject\":42.8571428571},{\"subject\":\"Estruturas de Repetição\",\"mediaSubjectClass\":17.4812030075,\"user\":\"Jackson D \",\"registration\":\" 20200038945\",\"mediaSubject\":28.5714285714},{\"subject\":\"Funções\",\"mediaSubjectClass\":21.1257309942,\"user\":\"Jackson D \",\"registration\":\" 20200038945\",\"mediaSubject\":27.7777777778},{\"subject\":\"Matrizes\",\"mediaSubjectClass\":51.3157894737,\"user\":\"Jackson D \",\"registration\":\" 20200038945\",\"mediaSubject\":75.0},{\"subject\":\"Operadores Aritméticos\",\"mediaSubjectClass\":0.0,\"user\":\"Jackson D \",\"registration\":\" 20200038945\",\"mediaSubject\":0.0},{\"subject\":\"Operadores Lógicos\",\"mediaSubjectClass\":0.0,\"user\":\"Jackson D \",\"registration\":\" 20200038945\",\"mediaSubject\":0.0},{\"subject\":\"Ordenação\",\"mediaSubjectClass\":0.0,\"user\":\"Jackson D \",\"registration\":\" 20200038945\",\"mediaSubject\":0.0},{\"subject\":\"Ponteiros\",\"mediaSubjectClass\":15.2851052632,\"user\":\"Jackson D \",\"registration\":\" 20200038945\",\"mediaSubject\":29.167},{\"subject\":\"Recursão\",\"mediaSubjectClass\":19.7148684211,\"user\":\"Jackson D \",\"registration\":\" 20200038945\",\"mediaSubject\":45.8333333333},{\"subject\":\"Tipos Estruturados\",\"mediaSubjectClass\":17.7193157895,\"user\":\"Jackson D \",\"registration\":\" 20200038945\",\"mediaSubject\":73.334},{\"subject\":\"Vetores\",\"mediaSubjectClass\":63.0263157895,\"user\":\"Jackson D \",\"registration\":\" 20200038945\",\"mediaSubject\":100.0},{\"subject\":\"Assunto em Branco\",\"mediaSubjectClass\":20.3947368421,\"user\":\"Joao Victor Leandro \",\"registration\":\" 20190146693\",\"mediaSubject\":0.0},{\"subject\":\"Estruturas Condicionais\",\"mediaSubjectClass\":27.207593985,\"user\":\"Joao Victor Leandro \",\"registration\":\" 20190146693\",\"mediaSubject\":0.0},{\"subject\":\"Estruturas de Repetição\",\"mediaSubjectClass\":17.4812030075,\"user\":\"Joao Victor Leandro \",\"registration\":\" 20190146693\",\"mediaSubject\":0.0},{\"subject\":\"Funções\",\"mediaSubjectClass\":21.1257309942,\"user\":\"Joao Victor Leandro \",\"registration\":\" 20190146693\",\"mediaSubject\":0.0},{\"subject\":\"Matrizes\",\"mediaSubjectClass\":51.3157894737,\"user\":\"Joao Victor Leandro \",\"registration\":\" 20190146693\",\"mediaSubject\":0.0},{\"subject\":\"Operadores Aritméticos\",\"mediaSubjectClass\":0.0,\"user\":\"Joao Victor Leandro \",\"registration\":\" 20190146693\",\"mediaSubject\":0.0},{\"subject\":\"Operadores Lógicos\",\"mediaSubjectClass\":0.0,\"user\":\"Joao Victor Leandro \",\"registration\":\" 20190146693\",\"mediaSubject\":0.0},{\"subject\":\"Ordenação\",\"mediaSubjectClass\":0.0,\"user\":\"Joao Victor Leandro \",\"registration\":\" 20190146693\",\"mediaSubject\":0.0},{\"subject\":\"Ponteiros\",\"mediaSubjectClass\":15.2851052632,\"user\":\"Joao Victor Leandro \",\"registration\":\" 20190146693\",\"mediaSubject\":0.0},{\"subject\":\"Recursão\",\"mediaSubjectClass\":19.7148684211,\"user\":\"Joao Victor Leandro \",\"registration\":\" 20190146693\",\"mediaSubject\":0.0},{\"subject\":\"Tipos Estruturados\",\"mediaSubjectClass\":17.7193157895,\"user\":\"Joao Victor Leandro \",\"registration\":\" 20190146693\",\"mediaSubject\":0.0},{\"subject\":\"Vetores\",\"mediaSubjectClass\":63.0263157895,\"user\":\"Joao Victor Leandro \",\"registration\":\" 20190146693\",\"mediaSubject\":0.0},{\"subject\":\"Assunto em Branco\",\"mediaSubjectClass\":20.3947368421,\"user\":\"José Carvalho \",\"registration\":\" 20190048558\",\"mediaSubject\":4.347826087},{\"subject\":\"Estruturas Condicionais\",\"mediaSubjectClass\":27.207593985,\"user\":\"José Carvalho \",\"registration\":\" 20190048558\",\"mediaSubject\":0.0},{\"subject\":\"Estruturas de Repetição\",\"mediaSubjectClass\":17.4812030075,\"user\":\"José Carvalho \",\"registration\":\" 20190048558\",\"mediaSubject\":0.0},{\"subject\":\"Funções\",\"mediaSubjectClass\":21.1257309942,\"user\":\"José Carvalho \",\"registration\":\" 20190048558\",\"mediaSubject\":0.0},{\"subject\":\"Matrizes\",\"mediaSubjectClass\":51.3157894737,\"user\":\"José Carvalho \",\"registration\":\" 20190048558\",\"mediaSubject\":0.0},{\"subject\":\"Operadores Aritméticos\",\"mediaSubjectClass\":0.0,\"user\":\"José Carvalho \",\"registration\":\" 20190048558\",\"mediaSubject\":0.0},{\"subject\":\"Operadores Lógicos\",\"mediaSubjectClass\":0.0,\"user\":\"José Carvalho \",\"registration\":\" 20190048558\",\"mediaSubject\":0.0},{\"subject\":\"Ordenação\",\"mediaSubjectClass\":0.0,\"user\":\"José Carvalho \",\"registration\":\" 20190048558\",\"mediaSubject\":0.0},{\"subject\":\"Ponteiros\",\"mediaSubjectClass\":15.2851052632,\"user\":\"José Carvalho \",\"registration\":\" 20190048558\",\"mediaSubject\":0.0},{\"subject\":\"Recursão\",\"mediaSubjectClass\":19.7148684211,\"user\":\"José Carvalho \",\"registration\":\" 20190048558\",\"mediaSubject\":0.0},{\"subject\":\"Tipos Estruturados\",\"mediaSubjectClass\":17.7193157895,\"user\":\"José Carvalho \",\"registration\":\" 20190048558\",\"mediaSubject\":0.0},{\"subject\":\"Vetores\",\"mediaSubjectClass\":63.0263157895,\"user\":\"José Carvalho \",\"registration\":\" 20190048558\",\"mediaSubject\":0.0},{\"subject\":\"Assunto em Branco\",\"mediaSubjectClass\":20.3947368421,\"user\":\"João Gabriel Trindade \",\"registration\":\" 20190010588\",\"mediaSubject\":30.4347826087},{\"subject\":\"Estruturas Condicionais\",\"mediaSubjectClass\":27.207593985,\"user\":\"João Gabriel Trindade \",\"registration\":\" 20190010588\",\"mediaSubject\":28.5714285714},{\"subject\":\"Estruturas de Repetição\",\"mediaSubjectClass\":17.4812030075,\"user\":\"João Gabriel Trindade \",\"registration\":\" 20190010588\",\"mediaSubject\":14.2857142857},{\"subject\":\"Funções\",\"mediaSubjectClass\":21.1257309942,\"user\":\"João Gabriel Trindade \",\"registration\":\" 20190010588\",\"mediaSubject\":33.3333333333},{\"subject\":\"Matrizes\",\"mediaSubjectClass\":51.3157894737,\"user\":\"João Gabriel Trindade \",\"registration\":\" 20190010588\",\"mediaSubject\":75.0},{\"subject\":\"Operadores Aritméticos\",\"mediaSubjectClass\":0.0,\"user\":\"João Gabriel Trindade \",\"registration\":\" 20190010588\",\"mediaSubject\":0.0},{\"subject\":\"Operadores Lógicos\",\"mediaSubjectClass\":0.0,\"user\":\"João Gabriel Trindade \",\"registration\":\" 20190010588\",\"mediaSubject\":0.0},{\"subject\":\"Ordenação\",\"mediaSubjectClass\":0.0,\"user\":\"João Gabriel Trindade \",\"registration\":\" 20190010588\",\"mediaSubject\":0.0},{\"subject\":\"Ponteiros\",\"mediaSubjectClass\":15.2851052632,\"user\":\"João Gabriel Trindade \",\"registration\":\" 20190010588\",\"mediaSubject\":20.0},{\"subject\":\"Recursão\",\"mediaSubjectClass\":19.7148684211,\"user\":\"João Gabriel Trindade \",\"registration\":\" 20190010588\",\"mediaSubject\":0.0},{\"subject\":\"Tipos Estruturados\",\"mediaSubjectClass\":17.7193157895,\"user\":\"João Gabriel Trindade \",\"registration\":\" 20190010588\",\"mediaSubject\":40.0},{\"subject\":\"Vetores\",\"mediaSubjectClass\":63.0263157895,\"user\":\"João Gabriel Trindade \",\"registration\":\" 20190010588\",\"mediaSubject\":70.0},{\"subject\":\"Assunto em Branco\",\"mediaSubjectClass\":20.3947368421,\"user\":\"João Maria Mauricio \",\"registration\":\" 20180118944\",\"mediaSubject\":4.347826087},{\"subject\":\"Estruturas Condicionais\",\"mediaSubjectClass\":27.207593985,\"user\":\"João Maria Mauricio \",\"registration\":\" 20180118944\",\"mediaSubject\":0.0},{\"subject\":\"Estruturas de Repetição\",\"mediaSubjectClass\":17.4812030075,\"user\":\"João Maria Mauricio \",\"registration\":\" 20180118944\",\"mediaSubject\":0.0},{\"subject\":\"Funções\",\"mediaSubjectClass\":21.1257309942,\"user\":\"João Maria Mauricio \",\"registration\":\" 20180118944\",\"mediaSubject\":0.0},{\"subject\":\"Matrizes\",\"mediaSubjectClass\":51.3157894737,\"user\":\"João Maria Mauricio \",\"registration\":\" 20180118944\",\"mediaSubject\":62.5},{\"subject\":\"Operadores Aritméticos\",\"mediaSubjectClass\":0.0,\"user\":\"João Maria Mauricio \",\"registration\":\" 20180118944\",\"mediaSubject\":0.0},{\"subject\":\"Operadores Lógicos\",\"mediaSubjectClass\":0.0,\"user\":\"João Maria Mauricio \",\"registration\":\" 20180118944\",\"mediaSubject\":0.0},{\"subject\":\"Ordenação\",\"mediaSubjectClass\":0.0,\"user\":\"João Maria Mauricio \",\"registration\":\" 20180118944\",\"mediaSubject\":0.0},{\"subject\":\"Ponteiros\",\"mediaSubjectClass\":15.2851052632,\"user\":\"João Maria Mauricio \",\"registration\":\" 20180118944\",\"mediaSubject\":0.0},{\"subject\":\"Recursão\",\"mediaSubjectClass\":19.7148684211,\"user\":\"João Maria Mauricio \",\"registration\":\" 20180118944\",\"mediaSubject\":0.0},{\"subject\":\"Tipos Estruturados\",\"mediaSubjectClass\":17.7193157895,\"user\":\"João Maria Mauricio \",\"registration\":\" 20180118944\",\"mediaSubject\":0.0},{\"subject\":\"Vetores\",\"mediaSubjectClass\":63.0263157895,\"user\":\"João Maria Mauricio \",\"registration\":\" 20180118944\",\"mediaSubject\":0.0},{\"subject\":\"Assunto em Branco\",\"mediaSubjectClass\":20.3947368421,\"user\":\"Lucas da Costa Fontes \",\"registration\":\" 20180122141\",\"mediaSubject\":21.7391304348},{\"subject\":\"Estruturas Condicionais\",\"mediaSubjectClass\":27.207593985,\"user\":\"Lucas da Costa Fontes \",\"registration\":\" 20180122141\",\"mediaSubject\":14.2857142857},{\"subject\":\"Estruturas de Repetição\",\"mediaSubjectClass\":17.4812030075,\"user\":\"Lucas da Costa Fontes \",\"registration\":\" 20180122141\",\"mediaSubject\":14.2857142857},{\"subject\":\"Funções\",\"mediaSubjectClass\":21.1257309942,\"user\":\"Lucas da Costa Fontes \",\"registration\":\" 20180122141\",\"mediaSubject\":27.7777777778},{\"subject\":\"Matrizes\",\"mediaSubjectClass\":51.3157894737,\"user\":\"Lucas da Costa Fontes \",\"registration\":\" 20180122141\",\"mediaSubject\":75.0},{\"subject\":\"Operadores Aritméticos\",\"mediaSubjectClass\":0.0,\"user\":\"Lucas da Costa Fontes \",\"registration\":\" 20180122141\",\"mediaSubject\":0.0},{\"subject\":\"Operadores Lógicos\",\"mediaSubjectClass\":0.0,\"user\":\"Lucas da Costa Fontes \",\"registration\":\" 20180122141\",\"mediaSubject\":0.0},{\"subject\":\"Ordenação\",\"mediaSubjectClass\":0.0,\"user\":\"Lucas da Costa Fontes \",\"registration\":\" 20180122141\",\"mediaSubject\":0.0},{\"subject\":\"Ponteiros\",\"mediaSubjectClass\":15.2851052632,\"user\":\"Lucas da Costa Fontes \",\"registration\":\" 20180122141\",\"mediaSubject\":2.5},{\"subject\":\"Recursão\",\"mediaSubjectClass\":19.7148684211,\"user\":\"Lucas da Costa Fontes \",\"registration\":\" 20180122141\",\"mediaSubject\":50.0},{\"subject\":\"Tipos Estruturados\",\"mediaSubjectClass\":17.7193157895,\"user\":\"Lucas da Costa Fontes \",\"registration\":\" 20180122141\",\"mediaSubject\":40.0},{\"subject\":\"Vetores\",\"mediaSubjectClass\":63.0263157895,\"user\":\"Lucas da Costa Fontes \",\"registration\":\" 20180122141\",\"mediaSubject\":100.0},{\"subject\":\"Assunto em Branco\",\"mediaSubjectClass\":20.3947368421,\"user\":\"Luiz Paulo Assis Cavalcante de Freitas \",\"registration\":\" 20190103408\",\"mediaSubject\":30.4347826087},{\"subject\":\"Estruturas Condicionais\",\"mediaSubjectClass\":27.207593985,\"user\":\"Luiz Paulo Assis Cavalcante de Freitas \",\"registration\":\" 20190103408\",\"mediaSubject\":42.8571428571},{\"subject\":\"Estruturas de Repetição\",\"mediaSubjectClass\":17.4812030075,\"user\":\"Luiz Paulo Assis Cavalcante de Freitas \",\"registration\":\" 20190103408\",\"mediaSubject\":28.5714285714},{\"subject\":\"Funções\",\"mediaSubjectClass\":21.1257309942,\"user\":\"Luiz Paulo Assis Cavalcante de Freitas \",\"registration\":\" 20190103408\",\"mediaSubject\":27.7777777778},{\"subject\":\"Matrizes\",\"mediaSubjectClass\":51.3157894737,\"user\":\"Luiz Paulo Assis Cavalcante de Freitas \",\"registration\":\" 20190103408\",\"mediaSubject\":50.0},{\"subject\":\"Operadores Aritméticos\",\"mediaSubjectClass\":0.0,\"user\":\"Luiz Paulo Assis Cavalcante de Freitas \",\"registration\":\" 20190103408\",\"mediaSubject\":0.0},{\"subject\":\"Operadores Lógicos\",\"mediaSubjectClass\":0.0,\"user\":\"Luiz Paulo Assis Cavalcante de Freitas \",\"registration\":\" 20190103408\",\"mediaSubject\":0.0},{\"subject\":\"Ordenação\",\"mediaSubjectClass\":0.0,\"user\":\"Luiz Paulo Assis Cavalcante de Freitas \",\"registration\":\" 20190103408\",\"mediaSubject\":0.0},{\"subject\":\"Ponteiros\",\"mediaSubjectClass\":15.2851052632,\"user\":\"Luiz Paulo Assis Cavalcante de Freitas \",\"registration\":\" 20190103408\",\"mediaSubject\":0.0},{\"subject\":\"Recursão\",\"mediaSubjectClass\":19.7148684211,\"user\":\"Luiz Paulo Assis Cavalcante de Freitas \",\"registration\":\" 20190103408\",\"mediaSubject\":0.0},{\"subject\":\"Tipos Estruturados\",\"mediaSubjectClass\":17.7193157895,\"user\":\"Luiz Paulo Assis Cavalcante de Freitas \",\"registration\":\" 20190103408\",\"mediaSubject\":20.0},{\"subject\":\"Vetores\",\"mediaSubjectClass\":63.0263157895,\"user\":\"Luiz Paulo Assis Cavalcante de Freitas \",\"registration\":\" 20190103408\",\"mediaSubject\":100.0},{\"subject\":\"Assunto em Branco\",\"mediaSubjectClass\":20.3947368421,\"user\":\"Matheus Alves \",\"registration\":\" 20180062956\",\"mediaSubject\":17.3913043478},{\"subject\":\"Estruturas Condicionais\",\"mediaSubjectClass\":27.207593985,\"user\":\"Matheus Alves \",\"registration\":\" 20180062956\",\"mediaSubject\":42.8571428571},{\"subject\":\"Estruturas de Repetição\",\"mediaSubjectClass\":17.4812030075,\"user\":\"Matheus Alves \",\"registration\":\" 20180062956\",\"mediaSubject\":28.5714285714},{\"subject\":\"Funções\",\"mediaSubjectClass\":21.1257309942,\"user\":\"Matheus Alves \",\"registration\":\" 20180062956\",\"mediaSubject\":27.7777777778},{\"subject\":\"Matrizes\",\"mediaSubjectClass\":51.3157894737,\"user\":\"Matheus Alves \",\"registration\":\" 20180062956\",\"mediaSubject\":75.0},{\"subject\":\"Operadores Aritméticos\",\"mediaSubjectClass\":0.0,\"user\":\"Matheus Alves \",\"registration\":\" 20180062956\",\"mediaSubject\":0.0},{\"subject\":\"Operadores Lógicos\",\"mediaSubjectClass\":0.0,\"user\":\"Matheus Alves \",\"registration\":\" 20180062956\",\"mediaSubject\":0.0},{\"subject\":\"Ordenação\",\"mediaSubjectClass\":0.0,\"user\":\"Matheus Alves \",\"registration\":\" 20180062956\",\"mediaSubject\":0.0},{\"subject\":\"Ponteiros\",\"mediaSubjectClass\":15.2851052632,\"user\":\"Matheus Alves \",\"registration\":\" 20180062956\",\"mediaSubject\":10.0},{\"subject\":\"Recursão\",\"mediaSubjectClass\":19.7148684211,\"user\":\"Matheus Alves \",\"registration\":\" 20180062956\",\"mediaSubject\":32.2216666667},{\"subject\":\"Tipos Estruturados\",\"mediaSubjectClass\":17.7193157895,\"user\":\"Matheus Alves \",\"registration\":\" 20180062956\",\"mediaSubject\":20.0},{\"subject\":\"Vetores\",\"mediaSubjectClass\":63.0263157895,\"user\":\"Matheus Alves \",\"registration\":\" 20180062956\",\"mediaSubject\":80.0},{\"subject\":\"Assunto em Branco\",\"mediaSubjectClass\":20.3947368421,\"user\":\"Matheus Henrique Fonseca Valerio \",\"registration\":\" 20180063597\",\"mediaSubject\":19.5652173913},{\"subject\":\"Estruturas Condicionais\",\"mediaSubjectClass\":27.207593985,\"user\":\"Matheus Henrique Fonseca Valerio \",\"registration\":\" 20180063597\",\"mediaSubject\":4.4442857143},{\"subject\":\"Estruturas de Repetição\",\"mediaSubjectClass\":17.4812030075,\"user\":\"Matheus Henrique Fonseca Valerio \",\"registration\":\" 20180063597\",\"mediaSubject\":28.5714285714},{\"subject\":\"Funções\",\"mediaSubjectClass\":21.1257309942,\"user\":\"Matheus Henrique Fonseca Valerio \",\"registration\":\" 20180063597\",\"mediaSubject\":16.6666666667},{\"subject\":\"Matrizes\",\"mediaSubjectClass\":51.3157894737,\"user\":\"Matheus Henrique Fonseca Valerio \",\"registration\":\" 20180063597\",\"mediaSubject\":0.0},{\"subject\":\"Operadores Aritméticos\",\"mediaSubjectClass\":0.0,\"user\":\"Matheus Henrique Fonseca Valerio \",\"registration\":\" 20180063597\",\"mediaSubject\":0.0},{\"subject\":\"Operadores Lógicos\",\"mediaSubjectClass\":0.0,\"user\":\"Matheus Henrique Fonseca Valerio \",\"registration\":\" 20180063597\",\"mediaSubject\":0.0},{\"subject\":\"Ordenação\",\"mediaSubjectClass\":0.0,\"user\":\"Matheus Henrique Fonseca Valerio \",\"registration\":\" 20180063597\",\"mediaSubject\":0.0},{\"subject\":\"Ponteiros\",\"mediaSubjectClass\":15.2851052632,\"user\":\"Matheus Henrique Fonseca Valerio \",\"registration\":\" 20180063597\",\"mediaSubject\":0.0},{\"subject\":\"Recursão\",\"mediaSubjectClass\":19.7148684211,\"user\":\"Matheus Henrique Fonseca Valerio \",\"registration\":\" 20180063597\",\"mediaSubject\":0.0},{\"subject\":\"Tipos Estruturados\",\"mediaSubjectClass\":17.7193157895,\"user\":\"Matheus Henrique Fonseca Valerio \",\"registration\":\" 20180063597\",\"mediaSubject\":0.0},{\"subject\":\"Vetores\",\"mediaSubjectClass\":63.0263157895,\"user\":\"Matheus Henrique Fonseca Valerio \",\"registration\":\" 20180063597\",\"mediaSubject\":10.0},{\"subject\":\"Assunto em Branco\",\"mediaSubjectClass\":20.3947368421,\"user\":\"Patrick Miguel Souza de Melo \",\"registration\":\" 20170068277\",\"mediaSubject\":13.0434782609},{\"subject\":\"Estruturas Condicionais\",\"mediaSubjectClass\":27.207593985,\"user\":\"Patrick Miguel Souza de Melo \",\"registration\":\" 20170068277\",\"mediaSubject\":28.5714285714},{\"subject\":\"Estruturas de Repetição\",\"mediaSubjectClass\":17.4812030075,\"user\":\"Patrick Miguel Souza de Melo \",\"registration\":\" 20170068277\",\"mediaSubject\":0.0},{\"subject\":\"Funções\",\"mediaSubjectClass\":21.1257309942,\"user\":\"Patrick Miguel Souza de Melo \",\"registration\":\" 20170068277\",\"mediaSubject\":0.0},{\"subject\":\"Matrizes\",\"mediaSubjectClass\":51.3157894737,\"user\":\"Patrick Miguel Souza de Melo \",\"registration\":\" 20170068277\",\"mediaSubject\":0.0},{\"subject\":\"Operadores Aritméticos\",\"mediaSubjectClass\":0.0,\"user\":\"Patrick Miguel Souza de Melo \",\"registration\":\" 20170068277\",\"mediaSubject\":0.0},{\"subject\":\"Operadores Lógicos\",\"mediaSubjectClass\":0.0,\"user\":\"Patrick Miguel Souza de Melo \",\"registration\":\" 20170068277\",\"mediaSubject\":0.0},{\"subject\":\"Ordenação\",\"mediaSubjectClass\":0.0,\"user\":\"Patrick Miguel Souza de Melo \",\"registration\":\" 20170068277\",\"mediaSubject\":0.0},{\"subject\":\"Ponteiros\",\"mediaSubjectClass\":15.2851052632,\"user\":\"Patrick Miguel Souza de Melo \",\"registration\":\" 20170068277\",\"mediaSubject\":0.0},{\"subject\":\"Recursão\",\"mediaSubjectClass\":19.7148684211,\"user\":\"Patrick Miguel Souza de Melo \",\"registration\":\" 20170068277\",\"mediaSubject\":0.0},{\"subject\":\"Tipos Estruturados\",\"mediaSubjectClass\":17.7193157895,\"user\":\"Patrick Miguel Souza de Melo \",\"registration\":\" 20170068277\",\"mediaSubject\":0.0},{\"subject\":\"Vetores\",\"mediaSubjectClass\":63.0263157895,\"user\":\"Patrick Miguel Souza de Melo \",\"registration\":\" 20170068277\",\"mediaSubject\":0.0},{\"subject\":\"Assunto em Branco\",\"mediaSubjectClass\":20.3947368421,\"user\":\"Paulo Carvalho \",\"registration\":\" 2016034522\",\"mediaSubject\":30.4347826087},{\"subject\":\"Estruturas Condicionais\",\"mediaSubjectClass\":27.207593985,\"user\":\"Paulo Carvalho \",\"registration\":\" 2016034522\",\"mediaSubject\":42.8571428571},{\"subject\":\"Estruturas de Repetição\",\"mediaSubjectClass\":17.4812030075,\"user\":\"Paulo Carvalho \",\"registration\":\" 2016034522\",\"mediaSubject\":28.5714285714},{\"subject\":\"Funções\",\"mediaSubjectClass\":21.1257309942,\"user\":\"Paulo Carvalho \",\"registration\":\" 2016034522\",\"mediaSubject\":22.2222222222},{\"subject\":\"Matrizes\",\"mediaSubjectClass\":51.3157894737,\"user\":\"Paulo Carvalho \",\"registration\":\" 2016034522\",\"mediaSubject\":50.0},{\"subject\":\"Operadores Aritméticos\",\"mediaSubjectClass\":0.0,\"user\":\"Paulo Carvalho \",\"registration\":\" 2016034522\",\"mediaSubject\":0.0},{\"subject\":\"Operadores Lógicos\",\"mediaSubjectClass\":0.0,\"user\":\"Paulo Carvalho \",\"registration\":\" 2016034522\",\"mediaSubject\":0.0},{\"subject\":\"Ordenação\",\"mediaSubjectClass\":0.0,\"user\":\"Paulo Carvalho \",\"registration\":\" 2016034522\",\"mediaSubject\":0.0},{\"subject\":\"Ponteiros\",\"mediaSubjectClass\":15.2851052632,\"user\":\"Paulo Carvalho \",\"registration\":\" 2016034522\",\"mediaSubject\":0.0},{\"subject\":\"Recursão\",\"mediaSubjectClass\":19.7148684211,\"user\":\"Paulo Carvalho \",\"registration\":\" 2016034522\",\"mediaSubject\":0.0},{\"subject\":\"Tipos Estruturados\",\"mediaSubjectClass\":17.7193157895,\"user\":\"Paulo Carvalho \",\"registration\":\" 2016034522\",\"mediaSubject\":20.0},{\"subject\":\"Vetores\",\"mediaSubjectClass\":63.0263157895,\"user\":\"Paulo Carvalho \",\"registration\":\" 2016034522\",\"mediaSubject\":100.0},{\"subject\":\"Assunto em Branco\",\"mediaSubjectClass\":20.3947368421,\"user\":\"Paulo Víctor de Medeiros Andrade \",\"registration\":\" 20190003046\",\"mediaSubject\":8.6956521739},{\"subject\":\"Estruturas Condicionais\",\"mediaSubjectClass\":27.207593985,\"user\":\"Paulo Víctor de Medeiros Andrade \",\"registration\":\" 20190003046\",\"mediaSubject\":0.0},{\"subject\":\"Estruturas de Repetição\",\"mediaSubjectClass\":17.4812030075,\"user\":\"Paulo Víctor de Medeiros Andrade \",\"registration\":\" 20190003046\",\"mediaSubject\":0.0},{\"subject\":\"Funções\",\"mediaSubjectClass\":21.1257309942,\"user\":\"Paulo Víctor de Medeiros Andrade \",\"registration\":\" 20190003046\",\"mediaSubject\":22.2222222222},{\"subject\":\"Matrizes\",\"mediaSubjectClass\":51.3157894737,\"user\":\"Paulo Víctor de Medeiros Andrade \",\"registration\":\" 20190003046\",\"mediaSubject\":0.0},{\"subject\":\"Operadores Aritméticos\",\"mediaSubjectClass\":0.0,\"user\":\"Paulo Víctor de Medeiros Andrade \",\"registration\":\" 20190003046\",\"mediaSubject\":0.0},{\"subject\":\"Operadores Lógicos\",\"mediaSubjectClass\":0.0,\"user\":\"Paulo Víctor de Medeiros Andrade \",\"registration\":\" 20190003046\",\"mediaSubject\":0.0},{\"subject\":\"Ordenação\",\"mediaSubjectClass\":0.0,\"user\":\"Paulo Víctor de Medeiros Andrade \",\"registration\":\" 20190003046\",\"mediaSubject\":0.0},{\"subject\":\"Ponteiros\",\"mediaSubjectClass\":15.2851052632,\"user\":\"Paulo Víctor de Medeiros Andrade \",\"registration\":\" 20190003046\",\"mediaSubject\":0.0},{\"subject\":\"Recursão\",\"mediaSubjectClass\":19.7148684211,\"user\":\"Paulo Víctor de Medeiros Andrade \",\"registration\":\" 20190003046\",\"mediaSubject\":5.555},{\"subject\":\"Tipos Estruturados\",\"mediaSubjectClass\":17.7193157895,\"user\":\"Paulo Víctor de Medeiros Andrade \",\"registration\":\" 20190003046\",\"mediaSubject\":0.0},{\"subject\":\"Vetores\",\"mediaSubjectClass\":63.0263157895,\"user\":\"Paulo Víctor de Medeiros Andrade \",\"registration\":\" 20190003046\",\"mediaSubject\":10.0},{\"subject\":\"Assunto em Branco\",\"mediaSubjectClass\":20.3947368421,\"user\":\"Pedro Garcia Pereira \",\"registration\":\" 20190040658\",\"mediaSubject\":30.4347826087},{\"subject\":\"Estruturas Condicionais\",\"mediaSubjectClass\":27.207593985,\"user\":\"Pedro Garcia Pereira \",\"registration\":\" 20190040658\",\"mediaSubject\":42.8571428571},{\"subject\":\"Estruturas de Repetição\",\"mediaSubjectClass\":17.4812030075,\"user\":\"Pedro Garcia Pereira \",\"registration\":\" 20190040658\",\"mediaSubject\":28.5714285714},{\"subject\":\"Funções\",\"mediaSubjectClass\":21.1257309942,\"user\":\"Pedro Garcia Pereira \",\"registration\":\" 20190040658\",\"mediaSubject\":38.8888888889},{\"subject\":\"Matrizes\",\"mediaSubjectClass\":51.3157894737,\"user\":\"Pedro Garcia Pereira \",\"registration\":\" 20190040658\",\"mediaSubject\":75.0},{\"subject\":\"Operadores Aritméticos\",\"mediaSubjectClass\":0.0,\"user\":\"Pedro Garcia Pereira \",\"registration\":\" 20190040658\",\"mediaSubject\":0.0},{\"subject\":\"Operadores Lógicos\",\"mediaSubjectClass\":0.0,\"user\":\"Pedro Garcia Pereira \",\"registration\":\" 20190040658\",\"mediaSubject\":0.0},{\"subject\":\"Ordenação\",\"mediaSubjectClass\":0.0,\"user\":\"Pedro Garcia Pereira \",\"registration\":\" 20190040658\",\"mediaSubject\":0.0},{\"subject\":\"Ponteiros\",\"mediaSubjectClass\":15.2851052632,\"user\":\"Pedro Garcia Pereira \",\"registration\":\" 20190040658\",\"mediaSubject\":30.0},{\"subject\":\"Recursão\",\"mediaSubjectClass\":19.7148684211,\"user\":\"Pedro Garcia Pereira \",\"registration\":\" 20190040658\",\"mediaSubject\":33.3333333333},{\"subject\":\"Tipos Estruturados\",\"mediaSubjectClass\":17.7193157895,\"user\":\"Pedro Garcia Pereira \",\"registration\":\" 20190040658\",\"mediaSubject\":40.0},{\"subject\":\"Vetores\",\"mediaSubjectClass\":63.0263157895,\"user\":\"Pedro Garcia Pereira \",\"registration\":\" 20190040658\",\"mediaSubject\":100.0},{\"subject\":\"Assunto em Branco\",\"mediaSubjectClass\":20.3947368421,\"user\":\"Pedro Henrique Dantas de Aragão Mendes \",\"registration\":\" 20190003681\",\"mediaSubject\":26.0869565217},{\"subject\":\"Estruturas Condicionais\",\"mediaSubjectClass\":27.207593985,\"user\":\"Pedro Henrique Dantas de Aragão Mendes \",\"registration\":\" 20190003681\",\"mediaSubject\":42.8571428571},{\"subject\":\"Estruturas de Repetição\",\"mediaSubjectClass\":17.4812030075,\"user\":\"Pedro Henrique Dantas de Aragão Mendes \",\"registration\":\" 20190003681\",\"mediaSubject\":28.5714285714},{\"subject\":\"Funções\",\"mediaSubjectClass\":21.1257309942,\"user\":\"Pedro Henrique Dantas de Aragão Mendes \",\"registration\":\" 20190003681\",\"mediaSubject\":5.5555555556},{\"subject\":\"Matrizes\",\"mediaSubjectClass\":51.3157894737,\"user\":\"Pedro Henrique Dantas de Aragão Mendes \",\"registration\":\" 20190003681\",\"mediaSubject\":50.0},{\"subject\":\"Operadores Aritméticos\",\"mediaSubjectClass\":0.0,\"user\":\"Pedro Henrique Dantas de Aragão Mendes \",\"registration\":\" 20190003681\",\"mediaSubject\":0.0},{\"subject\":\"Operadores Lógicos\",\"mediaSubjectClass\":0.0,\"user\":\"Pedro Henrique Dantas de Aragão Mendes \",\"registration\":\" 20190003681\",\"mediaSubject\":0.0},{\"subject\":\"Ordenação\",\"mediaSubjectClass\":0.0,\"user\":\"Pedro Henrique Dantas de Aragão Mendes \",\"registration\":\" 20190003681\",\"mediaSubject\":0.0},{\"subject\":\"Ponteiros\",\"mediaSubjectClass\":15.2851052632,\"user\":\"Pedro Henrique Dantas de Aragão Mendes \",\"registration\":\" 20190003681\",\"mediaSubject\":10.0},{\"subject\":\"Recursão\",\"mediaSubjectClass\":19.7148684211,\"user\":\"Pedro Henrique Dantas de Aragão Mendes \",\"registration\":\" 20190003681\",\"mediaSubject\":5.555},{\"subject\":\"Tipos Estruturados\",\"mediaSubjectClass\":17.7193157895,\"user\":\"Pedro Henrique Dantas de Aragão Mendes \",\"registration\":\" 20190003681\",\"mediaSubject\":0.0},{\"subject\":\"Vetores\",\"mediaSubjectClass\":63.0263157895,\"user\":\"Pedro Henrique Dantas de Aragão Mendes \",\"registration\":\" 20190003681\",\"mediaSubject\":95.0},{\"subject\":\"Assunto em Branco\",\"mediaSubjectClass\":20.3947368421,\"user\":\"Pedro Leite \",\"registration\":\" 20190000830\",\"mediaSubject\":30.4347826087},{\"subject\":\"Estruturas Condicionais\",\"mediaSubjectClass\":27.207593985,\"user\":\"Pedro Leite \",\"registration\":\" 20190000830\",\"mediaSubject\":28.5714285714},{\"subject\":\"Estruturas de Repetição\",\"mediaSubjectClass\":17.4812030075,\"user\":\"Pedro Leite \",\"registration\":\" 20190000830\",\"mediaSubject\":14.2857142857},{\"subject\":\"Funções\",\"mediaSubjectClass\":21.1257309942,\"user\":\"Pedro Leite \",\"registration\":\" 20190000830\",\"mediaSubject\":38.8888888889},{\"subject\":\"Matrizes\",\"mediaSubjectClass\":51.3157894737,\"user\":\"Pedro Leite \",\"registration\":\" 20190000830\",\"mediaSubject\":100.0},{\"subject\":\"Operadores Aritméticos\",\"mediaSubjectClass\":0.0,\"user\":\"Pedro Leite \",\"registration\":\" 20190000830\",\"mediaSubject\":0.0},{\"subject\":\"Operadores Lógicos\",\"mediaSubjectClass\":0.0,\"user\":\"Pedro Leite \",\"registration\":\" 20190000830\",\"mediaSubject\":0.0},{\"subject\":\"Ordenação\",\"mediaSubjectClass\":0.0,\"user\":\"Pedro Leite \",\"registration\":\" 20190000830\",\"mediaSubject\":0.0},{\"subject\":\"Ponteiros\",\"mediaSubjectClass\":15.2851052632,\"user\":\"Pedro Leite \",\"registration\":\" 20190000830\",\"mediaSubject\":20.0},{\"subject\":\"Recursão\",\"mediaSubjectClass\":19.7148684211,\"user\":\"Pedro Leite \",\"registration\":\" 20190000830\",\"mediaSubject\":45.8333333333},{\"subject\":\"Tipos Estruturados\",\"mediaSubjectClass\":17.7193157895,\"user\":\"Pedro Leite \",\"registration\":\" 20190000830\",\"mediaSubject\":40.0},{\"subject\":\"Vetores\",\"mediaSubjectClass\":63.0263157895,\"user\":\"Pedro Leite \",\"registration\":\" 20190000830\",\"mediaSubject\":100.0},{\"subject\":\"Assunto em Branco\",\"mediaSubjectClass\":20.3947368421,\"user\":\"Samuel Souza \",\"registration\":\" 20200046160\",\"mediaSubject\":17.3913043478},{\"subject\":\"Estruturas Condicionais\",\"mediaSubjectClass\":27.207593985,\"user\":\"Samuel Souza \",\"registration\":\" 20200046160\",\"mediaSubject\":28.5714285714},{\"subject\":\"Estruturas de Repetição\",\"mediaSubjectClass\":17.4812030075,\"user\":\"Samuel Souza \",\"registration\":\" 20200046160\",\"mediaSubject\":14.2857142857},{\"subject\":\"Funções\",\"mediaSubjectClass\":21.1257309942,\"user\":\"Samuel Souza \",\"registration\":\" 20200046160\",\"mediaSubject\":44.4444444444},{\"subject\":\"Matrizes\",\"mediaSubjectClass\":51.3157894737,\"user\":\"Samuel Souza \",\"registration\":\" 20200046160\",\"mediaSubject\":50.0},{\"subject\":\"Operadores Aritméticos\",\"mediaSubjectClass\":0.0,\"user\":\"Samuel Souza \",\"registration\":\" 20200046160\",\"mediaSubject\":0.0},{\"subject\":\"Operadores Lógicos\",\"mediaSubjectClass\":0.0,\"user\":\"Samuel Souza \",\"registration\":\" 20200046160\",\"mediaSubject\":0.0},{\"subject\":\"Ordenação\",\"mediaSubjectClass\":0.0,\"user\":\"Samuel Souza \",\"registration\":\" 20200046160\",\"mediaSubject\":0.0},{\"subject\":\"Ponteiros\",\"mediaSubjectClass\":15.2851052632,\"user\":\"Samuel Souza \",\"registration\":\" 20200046160\",\"mediaSubject\":50.0},{\"subject\":\"Recursão\",\"mediaSubjectClass\":19.7148684211,\"user\":\"Samuel Souza \",\"registration\":\" 20200046160\",\"mediaSubject\":50.0},{\"subject\":\"Tipos Estruturados\",\"mediaSubjectClass\":17.7193157895,\"user\":\"Samuel Souza \",\"registration\":\" 20200046160\",\"mediaSubject\":40.0},{\"subject\":\"Vetores\",\"mediaSubjectClass\":63.0263157895,\"user\":\"Samuel Souza \",\"registration\":\" 20200046160\",\"mediaSubject\":100.0},{\"subject\":\"Assunto em Branco\",\"mediaSubjectClass\":20.3947368421,\"user\":\"Tales Vinícius de Medeiros Alves \",\"registration\":\" 20200040685\",\"mediaSubject\":30.4347826087},{\"subject\":\"Estruturas Condicionais\",\"mediaSubjectClass\":27.207593985,\"user\":\"Tales Vinícius de Medeiros Alves \",\"registration\":\" 20200040685\",\"mediaSubject\":42.8571428571},{\"subject\":\"Estruturas de Repetição\",\"mediaSubjectClass\":17.4812030075,\"user\":\"Tales Vinícius de Medeiros Alves \",\"registration\":\" 20200040685\",\"mediaSubject\":28.5714285714},{\"subject\":\"Funções\",\"mediaSubjectClass\":21.1257309942,\"user\":\"Tales Vinícius de Medeiros Alves \",\"registration\":\" 20200040685\",\"mediaSubject\":27.7777777778},{\"subject\":\"Matrizes\",\"mediaSubjectClass\":51.3157894737,\"user\":\"Tales Vinícius de Medeiros Alves \",\"registration\":\" 20200040685\",\"mediaSubject\":100.0},{\"subject\":\"Operadores Aritméticos\",\"mediaSubjectClass\":0.0,\"user\":\"Tales Vinícius de Medeiros Alves \",\"registration\":\" 20200040685\",\"mediaSubject\":0.0},{\"subject\":\"Operadores Lógicos\",\"mediaSubjectClass\":0.0,\"user\":\"Tales Vinícius de Medeiros Alves \",\"registration\":\" 20200040685\",\"mediaSubject\":0.0},{\"subject\":\"Ordenação\",\"mediaSubjectClass\":0.0,\"user\":\"Tales Vinícius de Medeiros Alves \",\"registration\":\" 20200040685\",\"mediaSubject\":0.0},{\"subject\":\"Ponteiros\",\"mediaSubjectClass\":15.2851052632,\"user\":\"Tales Vinícius de Medeiros Alves \",\"registration\":\" 20200040685\",\"mediaSubject\":40.0},{\"subject\":\"Recursão\",\"mediaSubjectClass\":19.7148684211,\"user\":\"Tales Vinícius de Medeiros Alves \",\"registration\":\" 20200040685\",\"mediaSubject\":0.0},{\"subject\":\"Tipos Estruturados\",\"mediaSubjectClass\":17.7193157895,\"user\":\"Tales Vinícius de Medeiros Alves \",\"registration\":\" 20200040685\",\"mediaSubject\":60.0},{\"subject\":\"Vetores\",\"mediaSubjectClass\":63.0263157895,\"user\":\"Tales Vinícius de Medeiros Alves \",\"registration\":\" 20200040685\",\"mediaSubject\":100.0},{\"subject\":\"Assunto em Branco\",\"mediaSubjectClass\":20.3947368421,\"user\":\"Vitória Morais \",\"registration\":\" 20190046571\",\"mediaSubject\":30.4347826087},{\"subject\":\"Estruturas Condicionais\",\"mediaSubjectClass\":27.207593985,\"user\":\"Vitória Morais \",\"registration\":\" 20190046571\",\"mediaSubject\":42.8571428571},{\"subject\":\"Estruturas de Repetição\",\"mediaSubjectClass\":17.4812030075,\"user\":\"Vitória Morais \",\"registration\":\" 20190046571\",\"mediaSubject\":28.5714285714},{\"subject\":\"Funções\",\"mediaSubjectClass\":21.1257309942,\"user\":\"Vitória Morais \",\"registration\":\" 20190046571\",\"mediaSubject\":38.8888888889},{\"subject\":\"Matrizes\",\"mediaSubjectClass\":51.3157894737,\"user\":\"Vitória Morais \",\"registration\":\" 20190046571\",\"mediaSubject\":50.0},{\"subject\":\"Operadores Aritméticos\",\"mediaSubjectClass\":0.0,\"user\":\"Vitória Morais \",\"registration\":\" 20190046571\",\"mediaSubject\":0.0},{\"subject\":\"Operadores Lógicos\",\"mediaSubjectClass\":0.0,\"user\":\"Vitória Morais \",\"registration\":\" 20190046571\",\"mediaSubject\":0.0},{\"subject\":\"Ordenação\",\"mediaSubjectClass\":0.0,\"user\":\"Vitória Morais \",\"registration\":\" 20190046571\",\"mediaSubject\":0.0},{\"subject\":\"Ponteiros\",\"mediaSubjectClass\":15.2851052632,\"user\":\"Vitória Morais \",\"registration\":\" 20190046571\",\"mediaSubject\":40.0},{\"subject\":\"Recursão\",\"mediaSubjectClass\":19.7148684211,\"user\":\"Vitória Morais \",\"registration\":\" 20190046571\",\"mediaSubject\":0.0},{\"subject\":\"Tipos Estruturados\",\"mediaSubjectClass\":17.7193157895,\"user\":\"Vitória Morais \",\"registration\":\" 20190046571\",\"mediaSubject\":20.0},{\"subject\":\"Vetores\",\"mediaSubjectClass\":63.0263157895,\"user\":\"Vitória Morais \",\"registration\":\" 20190046571\",\"mediaSubject\":100.0},{\"subject\":\"Assunto em Branco\",\"mediaSubjectClass\":20.3947368421,\"user\":\"Vítor Dantas Costa \",\"registration\":\" 20190146700\",\"mediaSubject\":25.0},{\"subject\":\"Estruturas Condicionais\",\"mediaSubjectClass\":27.207593985,\"user\":\"Vítor Dantas Costa \",\"registration\":\" 20190146700\",\"mediaSubject\":42.8571428571},{\"subject\":\"Estruturas de Repetição\",\"mediaSubjectClass\":17.4812030075,\"user\":\"Vítor Dantas Costa \",\"registration\":\" 20190146700\",\"mediaSubject\":28.5714285714},{\"subject\":\"Funções\",\"mediaSubjectClass\":21.1257309942,\"user\":\"Vítor Dantas Costa \",\"registration\":\" 20190146700\",\"mediaSubject\":27.7777777778},{\"subject\":\"Matrizes\",\"mediaSubjectClass\":51.3157894737,\"user\":\"Vítor Dantas Costa \",\"registration\":\" 20190146700\",\"mediaSubject\":50.0},{\"subject\":\"Operadores Aritméticos\",\"mediaSubjectClass\":0.0,\"user\":\"Vítor Dantas Costa \",\"registration\":\" 20190146700\",\"mediaSubject\":0.0},{\"subject\":\"Operadores Lógicos\",\"mediaSubjectClass\":0.0,\"user\":\"Vítor Dantas Costa \",\"registration\":\" 20190146700\",\"mediaSubject\":0.0},{\"subject\":\"Ordenação\",\"mediaSubjectClass\":0.0,\"user\":\"Vítor Dantas Costa \",\"registration\":\" 20190146700\",\"mediaSubject\":0.0},{\"subject\":\"Ponteiros\",\"mediaSubjectClass\":15.2851052632,\"user\":\"Vítor Dantas Costa \",\"registration\":\" 20190146700\",\"mediaSubject\":20.0},{\"subject\":\"Recursão\",\"mediaSubjectClass\":19.7148684211,\"user\":\"Vítor Dantas Costa \",\"registration\":\" 20190146700\",\"mediaSubject\":16.6666666667},{\"subject\":\"Tipos Estruturados\",\"mediaSubjectClass\":17.7193157895,\"user\":\"Vítor Dantas Costa \",\"registration\":\" 20190146700\",\"mediaSubject\":20.0},{\"subject\":\"Vetores\",\"mediaSubjectClass\":63.0263157895,\"user\":\"Vítor Dantas Costa \",\"registration\":\" 20190146700\",\"mediaSubject\":20.0},{\"subject\":\"Assunto em Branco\",\"mediaSubjectClass\":20.3947368421,\"user\":\"alyssonblack \",\"registration\":\" 20170070435\",\"mediaSubject\":13.0434782609},{\"subject\":\"Estruturas Condicionais\",\"mediaSubjectClass\":27.207593985,\"user\":\"alyssonblack \",\"registration\":\" 20170070435\",\"mediaSubject\":15.8728571429},{\"subject\":\"Estruturas de Repetição\",\"mediaSubjectClass\":17.4812030075,\"user\":\"alyssonblack \",\"registration\":\" 20170070435\",\"mediaSubject\":14.2857142857},{\"subject\":\"Funções\",\"mediaSubjectClass\":21.1257309942,\"user\":\"alyssonblack \",\"registration\":\" 20170070435\",\"mediaSubject\":0.0},{\"subject\":\"Matrizes\",\"mediaSubjectClass\":51.3157894737,\"user\":\"alyssonblack \",\"registration\":\" 20170070435\",\"mediaSubject\":0.0},{\"subject\":\"Operadores Aritméticos\",\"mediaSubjectClass\":0.0,\"user\":\"alyssonblack \",\"registration\":\" 20170070435\",\"mediaSubject\":0.0},{\"subject\":\"Operadores Lógicos\",\"mediaSubjectClass\":0.0,\"user\":\"alyssonblack \",\"registration\":\" 20170070435\",\"mediaSubject\":0.0},{\"subject\":\"Ordenação\",\"mediaSubjectClass\":0.0,\"user\":\"alyssonblack \",\"registration\":\" 20170070435\",\"mediaSubject\":0.0},{\"subject\":\"Ponteiros\",\"mediaSubjectClass\":15.2851052632,\"user\":\"alyssonblack \",\"registration\":\" 20170070435\",\"mediaSubject\":0.0},{\"subject\":\"Recursão\",\"mediaSubjectClass\":19.7148684211,\"user\":\"alyssonblack \",\"registration\":\" 20170070435\",\"mediaSubject\":0.0},{\"subject\":\"Tipos Estruturados\",\"mediaSubjectClass\":17.7193157895,\"user\":\"alyssonblack \",\"registration\":\" 20170070435\",\"mediaSubject\":0.0},{\"subject\":\"Vetores\",\"mediaSubjectClass\":63.0263157895,\"user\":\"alyssonblack \",\"registration\":\" 20170070435\",\"mediaSubject\":0.0},{\"subject\":\"Assunto em Branco\",\"mediaSubjectClass\":20.3947368421,\"user\":\"ellen Melo \",\"registration\":\" 20190105224\",\"mediaSubject\":30.4347826087},{\"subject\":\"Estruturas Condicionais\",\"mediaSubjectClass\":27.207593985,\"user\":\"ellen Melo \",\"registration\":\" 20190105224\",\"mediaSubject\":42.8571428571},{\"subject\":\"Estruturas de Repetição\",\"mediaSubjectClass\":17.4812030075,\"user\":\"ellen Melo \",\"registration\":\" 20190105224\",\"mediaSubject\":28.5714285714},{\"subject\":\"Funções\",\"mediaSubjectClass\":21.1257309942,\"user\":\"ellen Melo \",\"registration\":\" 20190105224\",\"mediaSubject\":27.7777777778},{\"subject\":\"Matrizes\",\"mediaSubjectClass\":51.3157894737,\"user\":\"ellen Melo \",\"registration\":\" 20190105224\",\"mediaSubject\":75.0},{\"subject\":\"Operadores Aritméticos\",\"mediaSubjectClass\":0.0,\"user\":\"ellen Melo \",\"registration\":\" 20190105224\",\"mediaSubject\":0.0},{\"subject\":\"Operadores Lógicos\",\"mediaSubjectClass\":0.0,\"user\":\"ellen Melo \",\"registration\":\" 20190105224\",\"mediaSubject\":0.0},{\"subject\":\"Ordenação\",\"mediaSubjectClass\":0.0,\"user\":\"ellen Melo \",\"registration\":\" 20190105224\",\"mediaSubject\":0.0},{\"subject\":\"Ponteiros\",\"mediaSubjectClass\":15.2851052632,\"user\":\"ellen Melo \",\"registration\":\" 20190105224\",\"mediaSubject\":10.0},{\"subject\":\"Recursão\",\"mediaSubjectClass\":19.7148684211,\"user\":\"ellen Melo \",\"registration\":\" 20190105224\",\"mediaSubject\":50.0},{\"subject\":\"Tipos Estruturados\",\"mediaSubjectClass\":17.7193157895,\"user\":\"ellen Melo \",\"registration\":\" 20190105224\",\"mediaSubject\":40.0},{\"subject\":\"Vetores\",\"mediaSubjectClass\":63.0263157895,\"user\":\"ellen Melo \",\"registration\":\" 20190105224\",\"mediaSubject\":100.0},{\"subject\":\"Assunto em Branco\",\"mediaSubjectClass\":20.3947368421,\"user\":\"enzo lopes danjour de souza \",\"registration\":\" 20190035658\",\"mediaSubject\":30.4347826087},{\"subject\":\"Estruturas Condicionais\",\"mediaSubjectClass\":27.207593985,\"user\":\"enzo lopes danjour de souza \",\"registration\":\" 20190035658\",\"mediaSubject\":42.8571428571},{\"subject\":\"Estruturas de Repetição\",\"mediaSubjectClass\":17.4812030075,\"user\":\"enzo lopes danjour de souza \",\"registration\":\" 20190035658\",\"mediaSubject\":28.5714285714},{\"subject\":\"Funções\",\"mediaSubjectClass\":21.1257309942,\"user\":\"enzo lopes danjour de souza \",\"registration\":\" 20190035658\",\"mediaSubject\":22.2222222222},{\"subject\":\"Matrizes\",\"mediaSubjectClass\":51.3157894737,\"user\":\"enzo lopes danjour de souza \",\"registration\":\" 20190035658\",\"mediaSubject\":75.0},{\"subject\":\"Operadores Aritméticos\",\"mediaSubjectClass\":0.0,\"user\":\"enzo lopes danjour de souza \",\"registration\":\" 20190035658\",\"mediaSubject\":0.0},{\"subject\":\"Operadores Lógicos\",\"mediaSubjectClass\":0.0,\"user\":\"enzo lopes danjour de souza \",\"registration\":\" 20190035658\",\"mediaSubject\":0.0},{\"subject\":\"Ordenação\",\"mediaSubjectClass\":0.0,\"user\":\"enzo lopes danjour de souza \",\"registration\":\" 20190035658\",\"mediaSubject\":0.0},{\"subject\":\"Ponteiros\",\"mediaSubjectClass\":15.2851052632,\"user\":\"enzo lopes danjour de souza \",\"registration\":\" 20190035658\",\"mediaSubject\":10.0},{\"subject\":\"Recursão\",\"mediaSubjectClass\":19.7148684211,\"user\":\"enzo lopes danjour de souza \",\"registration\":\" 20190035658\",\"mediaSubject\":56.6666666667},{\"subject\":\"Tipos Estruturados\",\"mediaSubjectClass\":17.7193157895,\"user\":\"enzo lopes danjour de souza \",\"registration\":\" 20190035658\",\"mediaSubject\":0.0},{\"subject\":\"Vetores\",\"mediaSubjectClass\":63.0263157895,\"user\":\"enzo lopes danjour de souza \",\"registration\":\" 20190035658\",\"mediaSubject\":80.0},{\"subject\":\"Assunto em Branco\",\"mediaSubjectClass\":20.3947368421,\"user\":\"kaio cesar de sousa pinheiro \",\"registration\":\" 20180144793\",\"mediaSubject\":0.0},{\"subject\":\"Estruturas Condicionais\",\"mediaSubjectClass\":27.207593985,\"user\":\"kaio cesar de sousa pinheiro \",\"registration\":\" 20180144793\",\"mediaSubject\":14.2857142857},{\"subject\":\"Estruturas de Repetição\",\"mediaSubjectClass\":17.4812030075,\"user\":\"kaio cesar de sousa pinheiro \",\"registration\":\" 20180144793\",\"mediaSubject\":0.0},{\"subject\":\"Funções\",\"mediaSubjectClass\":21.1257309942,\"user\":\"kaio cesar de sousa pinheiro \",\"registration\":\" 20180144793\",\"mediaSubject\":0.0},{\"subject\":\"Matrizes\",\"mediaSubjectClass\":51.3157894737,\"user\":\"kaio cesar de sousa pinheiro \",\"registration\":\" 20180144793\",\"mediaSubject\":0.0},{\"subject\":\"Operadores Aritméticos\",\"mediaSubjectClass\":0.0,\"user\":\"kaio cesar de sousa pinheiro \",\"registration\":\" 20180144793\",\"mediaSubject\":0.0},{\"subject\":\"Operadores Lógicos\",\"mediaSubjectClass\":0.0,\"user\":\"kaio cesar de sousa pinheiro \",\"registration\":\" 20180144793\",\"mediaSubject\":0.0},{\"subject\":\"Ordenação\",\"mediaSubjectClass\":0.0,\"user\":\"kaio cesar de sousa pinheiro \",\"registration\":\" 20180144793\",\"mediaSubject\":0.0},{\"subject\":\"Ponteiros\",\"mediaSubjectClass\":15.2851052632,\"user\":\"kaio cesar de sousa pinheiro \",\"registration\":\" 20180144793\",\"mediaSubject\":0.0},{\"subject\":\"Recursão\",\"mediaSubjectClass\":19.7148684211,\"user\":\"kaio cesar de sousa pinheiro \",\"registration\":\" 20180144793\",\"mediaSubject\":0.0},{\"subject\":\"Tipos Estruturados\",\"mediaSubjectClass\":17.7193157895,\"user\":\"kaio cesar de sousa pinheiro \",\"registration\":\" 20180144793\",\"mediaSubject\":0.0},{\"subject\":\"Vetores\",\"mediaSubjectClass\":63.0263157895,\"user\":\"kaio cesar de sousa pinheiro \",\"registration\":\" 20180144793\",\"mediaSubject\":0.0},{\"subject\":\"Assunto em Branco\",\"mediaSubjectClass\":20.3947368421,\"user\":\"marciotenorio \",\"registration\":\" 20180119880\",\"mediaSubject\":7.6086956522},{\"subject\":\"Estruturas Condicionais\",\"mediaSubjectClass\":27.207593985,\"user\":\"marciotenorio \",\"registration\":\" 20180119880\",\"mediaSubject\":0.0},{\"subject\":\"Estruturas de Repetição\",\"mediaSubjectClass\":17.4812030075,\"user\":\"marciotenorio \",\"registration\":\" 20180119880\",\"mediaSubject\":0.0},{\"subject\":\"Funções\",\"mediaSubjectClass\":21.1257309942,\"user\":\"marciotenorio \",\"registration\":\" 20180119880\",\"mediaSubject\":0.0},{\"subject\":\"Matrizes\",\"mediaSubjectClass\":51.3157894737,\"user\":\"marciotenorio \",\"registration\":\" 20180119880\",\"mediaSubject\":0.0},{\"subject\":\"Operadores Aritméticos\",\"mediaSubjectClass\":0.0,\"user\":\"marciotenorio \",\"registration\":\" 20180119880\",\"mediaSubject\":0.0},{\"subject\":\"Operadores Lógicos\",\"mediaSubjectClass\":0.0,\"user\":\"marciotenorio \",\"registration\":\" 20180119880\",\"mediaSubject\":0.0},{\"subject\":\"Ordenação\",\"mediaSubjectClass\":0.0,\"user\":\"marciotenorio \",\"registration\":\" 20180119880\",\"mediaSubject\":0.0},{\"subject\":\"Ponteiros\",\"mediaSubjectClass\":15.2851052632,\"user\":\"marciotenorio \",\"registration\":\" 20180119880\",\"mediaSubject\":0.0},{\"subject\":\"Recursão\",\"mediaSubjectClass\":19.7148684211,\"user\":\"marciotenorio \",\"registration\":\" 20180119880\",\"mediaSubject\":0.0},{\"subject\":\"Tipos Estruturados\",\"mediaSubjectClass\":17.7193157895,\"user\":\"marciotenorio \",\"registration\":\" 20180119880\",\"mediaSubject\":0.0},{\"subject\":\"Vetores\",\"mediaSubjectClass\":63.0263157895,\"user\":\"marciotenorio \",\"registration\":\" 20180119880\",\"mediaSubject\":0.0}]}'"
            ]
          },
          "metadata": {
            "tags": []
          },
          "execution_count": 17
        }
      ]
    },
    {
      "cell_type": "code",
      "metadata": {
        "id": "ZNMQv61l2hqr"
      },
      "source": [
        "#id aleatorio\r\n",
        "id_turma = 'b5413cd7-4f61-4241-aad8-23740bab604f'"
      ],
      "execution_count": null,
      "outputs": []
    },
    {
      "cell_type": "code",
      "metadata": {
        "id": "AApPXS8FTW6G"
      },
      "source": [
        "url = 'https://restapidataview.herokuapp.com/get_graphs/'+id_turma"
      ],
      "execution_count": null,
      "outputs": []
    },
    {
      "cell_type": "code",
      "metadata": {
        "id": "T8qHgFtI4x5L"
      },
      "source": [
        "url2 = 'https://restapidataview.herokuapp.com/get_class'"
      ],
      "execution_count": null,
      "outputs": []
    },
    {
      "cell_type": "code",
      "metadata": {
        "id": "fAZCGxd--WHR"
      },
      "source": [
        "url3 = 'https://restapidataview.herokuapp.com/get_question_data'"
      ],
      "execution_count": null,
      "outputs": []
    },
    {
      "cell_type": "code",
      "metadata": {
        "id": "uAYUoCRIsJaT"
      },
      "source": [
        "http = urllib3.PoolManager()\r\n",
        "req = http.request('GET',url2,                \r\n",
        "    headers={'Content-Type': 'application/json'})"
      ],
      "execution_count": null,
      "outputs": []
    },
    {
      "cell_type": "code",
      "metadata": {
        "colab": {
          "base_uri": "https://localhost:8080/"
        },
        "id": "Nr_hTjqPMaKU",
        "outputId": "b14eaff0-ea8a-49f9-8263-9713b6b9171b"
      },
      "source": [
        "req.status"
      ],
      "execution_count": null,
      "outputs": [
        {
          "output_type": "execute_result",
          "data": {
            "text/plain": [
              "200"
            ]
          },
          "metadata": {
            "tags": []
          },
          "execution_count": 8
        }
      ]
    },
    {
      "cell_type": "code",
      "metadata": {
        "colab": {
          "base_uri": "https://localhost:8080/",
          "height": 407
        },
        "id": "m-m6-pr75prP",
        "outputId": "ad87b5c3-deb4-4af7-f57a-27a7c8ae9a47"
      },
      "source": [
        "pd.read_json(req.data)"
      ],
      "execution_count": null,
      "outputs": [
        {
          "output_type": "execute_result",
          "data": {
            "text/html": [
              "<div>\n",
              "<style scoped>\n",
              "    .dataframe tbody tr th:only-of-type {\n",
              "        vertical-align: middle;\n",
              "    }\n",
              "\n",
              "    .dataframe tbody tr th {\n",
              "        vertical-align: top;\n",
              "    }\n",
              "\n",
              "    .dataframe thead th {\n",
              "        text-align: right;\n",
              "    }\n",
              "</style>\n",
              "<table border=\"1\" class=\"dataframe\">\n",
              "  <thead>\n",
              "    <tr style=\"text-align: right;\">\n",
              "      <th></th>\n",
              "      <th>id_teacher</th>\n",
              "      <th>name_teacher</th>\n",
              "      <th>id_class</th>\n",
              "      <th>name_class</th>\n",
              "      <th>code</th>\n",
              "      <th>year</th>\n",
              "      <th>semester</th>\n",
              "      <th>studentsCount</th>\n",
              "      <th>teachersCount</th>\n",
              "    </tr>\n",
              "  </thead>\n",
              "  <tbody>\n",
              "    <tr>\n",
              "      <th>0</th>\n",
              "      <td>07bfa916-0086-4abc-b161-b9566ec5cc28</td>\n",
              "      <td>André Campos</td>\n",
              "      <td>bee7d92a-141d-4657-aeed-b3a2fc60b026</td>\n",
              "      <td>Turma teste 1</td>\n",
              "      <td>b9ef30672e</td>\n",
              "      <td>2020</td>\n",
              "      <td>1</td>\n",
              "      <td>1</td>\n",
              "      <td>3</td>\n",
              "    </tr>\n",
              "    <tr>\n",
              "      <th>1</th>\n",
              "      <td>07bfa916-0086-4abc-b161-b9566ec5cc28</td>\n",
              "      <td>André Campos</td>\n",
              "      <td>b5413cd7-4f61-4241-aad8-23740bab604f</td>\n",
              "      <td>IMD1012 - ITP - Turma 02 - 246T12</td>\n",
              "      <td>68778aa860</td>\n",
              "      <td>2020</td>\n",
              "      <td>2</td>\n",
              "      <td>41</td>\n",
              "      <td>5</td>\n",
              "    </tr>\n",
              "    <tr>\n",
              "      <th>2</th>\n",
              "      <td>07bfa916-0086-4abc-b161-b9566ec5cc28</td>\n",
              "      <td>André Campos</td>\n",
              "      <td>66baea8b-9ee0-4297-a218-a76a35e9dca4</td>\n",
              "      <td>IMD1012 Turma 03 - 2020.6</td>\n",
              "      <td>cca4b5c9ac</td>\n",
              "      <td>2020</td>\n",
              "      <td>2</td>\n",
              "      <td>44</td>\n",
              "      <td>6</td>\n",
              "    </tr>\n",
              "    <tr>\n",
              "      <th>3</th>\n",
              "      <td>07bfa916-0086-4abc-b161-b9566ec5cc28</td>\n",
              "      <td>André Campos</td>\n",
              "      <td>a597cea9-7441-422c-a842-1a8fec2994f5</td>\n",
              "      <td>ITP DIM01 2020.6</td>\n",
              "      <td>4822d3e57b</td>\n",
              "      <td>2020</td>\n",
              "      <td>2</td>\n",
              "      <td>43</td>\n",
              "      <td>3</td>\n",
              "    </tr>\n",
              "    <tr>\n",
              "      <th>4</th>\n",
              "      <td>07bfa916-0086-4abc-b161-b9566ec5cc28</td>\n",
              "      <td>André Campos</td>\n",
              "      <td>f6fe7dc2-81cc-4dd9-aae8-03d182807a9b</td>\n",
              "      <td>turma de testes</td>\n",
              "      <td>8cb8dd2fd3</td>\n",
              "      <td>2020</td>\n",
              "      <td>2</td>\n",
              "      <td>6</td>\n",
              "      <td>7</td>\n",
              "    </tr>\n",
              "    <tr>\n",
              "      <th>...</th>\n",
              "      <td>...</td>\n",
              "      <td>...</td>\n",
              "      <td>...</td>\n",
              "      <td>...</td>\n",
              "      <td>...</td>\n",
              "      <td>...</td>\n",
              "      <td>...</td>\n",
              "      <td>...</td>\n",
              "      <td>...</td>\n",
              "    </tr>\n",
              "    <tr>\n",
              "      <th>142</th>\n",
              "      <td>ea25d229-6463-434d-89d8-dd9c7cebb69a</td>\n",
              "      <td>Wellington Souzas</td>\n",
              "      <td>885e3b1e-21f2-4e59-8ffe-174a09b8483f</td>\n",
              "      <td>ITP - 2020.6 Turma 01</td>\n",
              "      <td>2ccbce7bda</td>\n",
              "      <td>2020</td>\n",
              "      <td>2</td>\n",
              "      <td>1</td>\n",
              "      <td>4</td>\n",
              "    </tr>\n",
              "    <tr>\n",
              "      <th>143</th>\n",
              "      <td>2fa53caa-83b7-463b-83ea-8da8a7ec671f</td>\n",
              "      <td>Yuri Thomas</td>\n",
              "      <td>a1779c9c-876d-4b4a-85ed-75ba20b12c02</td>\n",
              "      <td>Turma 03DLIP 2020.6</td>\n",
              "      <td>7995aa5fb1</td>\n",
              "      <td>2020</td>\n",
              "      <td>1</td>\n",
              "      <td>14</td>\n",
              "      <td>3</td>\n",
              "    </tr>\n",
              "    <tr>\n",
              "      <th>144</th>\n",
              "      <td>2fa53caa-83b7-463b-83ea-8da8a7ec671f</td>\n",
              "      <td>Yuri Thomas</td>\n",
              "      <td>497d6d0f-9ab4-4101-938f-bebcc9984ead</td>\n",
              "      <td>Turma 03C LIP 2020.6</td>\n",
              "      <td>56fc3a78cc</td>\n",
              "      <td>2020</td>\n",
              "      <td>1</td>\n",
              "      <td>15</td>\n",
              "      <td>3</td>\n",
              "    </tr>\n",
              "    <tr>\n",
              "      <th>145</th>\n",
              "      <td>2fa53caa-83b7-463b-83ea-8da8a7ec671f</td>\n",
              "      <td>Yuri Thomas</td>\n",
              "      <td>8d726359-9752-4069-a574-afbbd1fe5b96</td>\n",
              "      <td>Turma 03B LIP 2020.6</td>\n",
              "      <td>1514a5f049</td>\n",
              "      <td>2020</td>\n",
              "      <td>1</td>\n",
              "      <td>15</td>\n",
              "      <td>3</td>\n",
              "    </tr>\n",
              "    <tr>\n",
              "      <th>146</th>\n",
              "      <td>2fa53caa-83b7-463b-83ea-8da8a7ec671f</td>\n",
              "      <td>Yuri Thomas</td>\n",
              "      <td>35fab3e9-85e5-4e07-b6fe-487aba17e3f3</td>\n",
              "      <td>Turma 03A LIP 2020.6</td>\n",
              "      <td>32a89c119b</td>\n",
              "      <td>2020</td>\n",
              "      <td>1</td>\n",
              "      <td>15</td>\n",
              "      <td>3</td>\n",
              "    </tr>\n",
              "  </tbody>\n",
              "</table>\n",
              "<p>147 rows × 9 columns</p>\n",
              "</div>"
            ],
            "text/plain": [
              "                               id_teacher  ... teachersCount\n",
              "0    07bfa916-0086-4abc-b161-b9566ec5cc28  ...             3\n",
              "1    07bfa916-0086-4abc-b161-b9566ec5cc28  ...             5\n",
              "2    07bfa916-0086-4abc-b161-b9566ec5cc28  ...             6\n",
              "3    07bfa916-0086-4abc-b161-b9566ec5cc28  ...             3\n",
              "4    07bfa916-0086-4abc-b161-b9566ec5cc28  ...             7\n",
              "..                                    ...  ...           ...\n",
              "142  ea25d229-6463-434d-89d8-dd9c7cebb69a  ...             4\n",
              "143  2fa53caa-83b7-463b-83ea-8da8a7ec671f  ...             3\n",
              "144  2fa53caa-83b7-463b-83ea-8da8a7ec671f  ...             3\n",
              "145  2fa53caa-83b7-463b-83ea-8da8a7ec671f  ...             3\n",
              "146  2fa53caa-83b7-463b-83ea-8da8a7ec671f  ...             3\n",
              "\n",
              "[147 rows x 9 columns]"
            ]
          },
          "metadata": {
            "tags": []
          },
          "execution_count": 9
        }
      ]
    },
    {
      "cell_type": "code",
      "metadata": {
        "id": "kQ1brUNLMc0S"
      },
      "source": [
        "json.loads(req.data)"
      ],
      "execution_count": null,
      "outputs": []
    },
    {
      "cell_type": "code",
      "metadata": {
        "colab": {
          "base_uri": "https://localhost:8080/"
        },
        "id": "Q1YugZ9rQ7Qz",
        "outputId": "b5f24ed5-31f1-42ac-f1f7-cbf3a8fcefa3"
      },
      "source": [
        "req.status"
      ],
      "execution_count": null,
      "outputs": [
        {
          "output_type": "execute_result",
          "data": {
            "text/plain": [
              "503"
            ]
          },
          "metadata": {
            "tags": []
          },
          "execution_count": 63
        }
      ]
    },
    {
      "cell_type": "code",
      "metadata": {
        "colab": {
          "base_uri": "https://localhost:8080/"
        },
        "id": "oAy_uPa1bqmO",
        "outputId": "ce1c4af2-e362-4b22-f257-0e7343c2fcf5"
      },
      "source": [
        "req.data"
      ],
      "execution_count": null,
      "outputs": [
        {
          "output_type": "execute_result",
          "data": {
            "text/plain": [
              "b'<!DOCTYPE html>\\n\\t<html>\\n\\t  <head>\\n\\t\\t<meta name=\"viewport\" content=\"width=device-width, initial-scale=1\">\\n\\t\\t<meta charset=\"utf-8\">\\n\\t\\t<title>Application Error</title>\\n\\t\\t<style media=\"screen\">\\n\\t\\t  html,body,iframe {\\n\\t\\t\\tmargin: 0;\\n\\t\\t\\tpadding: 0;\\n\\t\\t  }\\n\\t\\t  html,body {\\n\\t\\t\\theight: 100%;\\n\\t\\t\\toverflow: hidden;\\n\\t\\t  }\\n\\t\\t  iframe {\\n\\t\\t\\twidth: 100%;\\n\\t\\t\\theight: 100%;\\n\\t\\t\\tborder: 0;\\n\\t\\t  }\\n\\t\\t</style>\\n\\t  </head>\\n\\t  <body>\\n\\t\\t<iframe src=\"//www.herokucdn.com/error-pages/application-error.html\"></iframe>\\n\\t  </body>\\n\\t</html>'"
            ]
          },
          "metadata": {
            "tags": []
          },
          "execution_count": 64
        }
      ]
    },
    {
      "cell_type": "markdown",
      "metadata": {
        "id": "ZGHrISEE_B3_"
      },
      "source": [
        "##3. Funções\n",
        "<a id='funcoes'></a>"
      ]
    },
    {
      "cell_type": "markdown",
      "metadata": {
        "id": "SfuZ_xuiCAjd"
      },
      "source": [
        "### 3.1 Funções de Consulta e Transformação"
      ]
    },
    {
      "cell_type": "markdown",
      "metadata": {
        "id": "c8k5ZIKXkEJ_"
      },
      "source": [
        "Função de leitura de arquivos txt"
      ]
    },
    {
      "cell_type": "code",
      "metadata": {
        "id": "zgY9TfQvkCSh"
      },
      "source": [
        "def read_txt(path):\n",
        "  with open(path,'r') as file:\n",
        "    return file.read() "
      ],
      "execution_count": null,
      "outputs": []
    },
    {
      "cell_type": "markdown",
      "metadata": {
        "id": "1aRrmnVXkm82"
      },
      "source": [
        "Função de consulta no LoP"
      ]
    },
    {
      "cell_type": "code",
      "metadata": {
        "id": "BueEgapukKO8"
      },
      "source": [
        "def lop_consult(url):\n",
        "  http = urllib3.PoolManager()\n",
        "  req = http.request('GET',url)\n",
        "  if req.status == 200:\n",
        "    return pd.read_json(req.data, orient = 'RECORDS', encoding = 'utf-8').copy()\n",
        "  else: \n",
        "    return False"
      ],
      "execution_count": null,
      "outputs": []
    },
    {
      "cell_type": "markdown",
      "metadata": {
        "id": "zx_SDIJpLayi"
      },
      "source": [
        "Função para obter todas as classes do LoP a partir de uma lista de professores"
      ]
    },
    {
      "cell_type": "code",
      "metadata": {
        "id": "mbL2uxEK0X3M"
      },
      "source": [
        "def lop_class(df_teacher = pd.DataFrame()):\n",
        "  #Essa função se passar por cópia o df_teacher se torna desnecessário fazer a requisição de todas os professores, e evitando fazer varias consultas\n",
        "  #Dataframe onde será armazenado todas as turmas\n",
        "  df_class = pd.DataFrame()\n",
        "  if df_teacher.empty == True:\n",
        "    #Formação da url de consulta para saber os professores cadastrados no LoP\n",
        "    url_teacher = endpoint_teacher + key\n",
        "    #Realizando a consulta no LoP\n",
        "    df_teacher = lop_consult(url_teacher)#id, email, name\n",
        "  #O laço faz uma varredura das turmas de cada professor e por fim armazena em um dataframe de turmas\n",
        "  for id_teacher, name_teacher in zip(df_teacher['id'],df_teacher['name']):\n",
        "    #O LoP.v2 foi desenvolvido em 2019, então temos que capturar as turmas entre 2019 e o ano atual\n",
        "    current_year = datetime.now().year\n",
        "    for year in range(2019, current_year + 1):\n",
        "      #Por fim precisamos do semestre que deve ser 1 ou 2\n",
        "      for semester in range(1,3): \n",
        "        try:\n",
        "          #Url de consulta de classes\n",
        "          url_class = endpoint_class + id_teacher + '?year=' + str(year) + '&semester=' + str(semester) + '&key=' + key \n",
        "          #Dataframe provisório necessário para capturar o tamanho e saber quantas turmas esse professor tem que estar associado\n",
        "          df_prov = lop_consult(url_class)\n",
        "          #Inserindo o id e o nome do professor no dataframe de turmas\n",
        "          df_prov['id_teacher'] = id_teacher\n",
        "          df_prov['name_teacher'] = name_teacher\n",
        "          #Adicionando turmas conforme novas consultas\n",
        "          df_class = df_class.append(df_prov, ignore_index=True).copy()#id, name, code, year, semester, id_teacher\n",
        "        except:\n",
        "          pass\n",
        "  #Renomeando colunas com nomes semelhantes em todos os DF\n",
        "  df_class.rename(columns={'id':'id_class','name':'name_class'}, inplace = True)\n",
        "  return df_class"
      ],
      "execution_count": null,
      "outputs": []
    },
    {
      "cell_type": "markdown",
      "metadata": {
        "id": "vVs1I-sChMaS"
      },
      "source": [
        "Função para obter todas as submissões a partir de uma lista de turmas"
      ]
    },
    {
      "cell_type": "code",
      "metadata": {
        "id": "9dqp3HGeFlKC"
      },
      "source": [
        "def lop_submission(df_class = pd.DataFrame()):\n",
        "  #Essa função se passar por cópia o df_class se torna desnecessário fazer a requisição de todas as turmas usando a função lop_class()\n",
        "  #Dataframe onde serão armazenados todas as submissões \n",
        "  df_submission = pd.DataFrame()  \n",
        "  if df_class.empty == True:\n",
        "    df_class = lop_class()  \n",
        "  #Obtem todas as submissões da lista de turmas passadas\n",
        "  for id_class in df_class['id_class']:\n",
        "    #Url da consulta as submissões\n",
        "    url_submission = endpoint_submission + id_class + '/submission?key=' + key\n",
        "    #Dataframe provisório que vai armazenar o resultado da consulta\n",
        "    df_prov = lop_consult(url_submission)\n",
        "    #Inserindo o id_class no dataframe de consultas\n",
        "    df_prov['id_class'] = id_class\n",
        "    #Adicionando submissões conforme consultas\n",
        "    df_submission = df_submission.append(df_prov, ignore_index=True).copy()\n",
        "  #Campo user trás matricula e o nome do usuário, vamos separar em 2 colunas distintas\n",
        "  df_submission[['user','registration']] = df_submission['user'].str.split('-',expand=True)\n",
        "  return df_submission"
      ],
      "execution_count": null,
      "outputs": []
    },
    {
      "cell_type": "markdown",
      "metadata": {
        "id": "aPYJVKnjA8jn"
      },
      "source": [
        "Função para obter dados das questões cadastradas no LoP"
      ]
    },
    {
      "cell_type": "code",
      "metadata": {
        "id": "OZu9CVgtA70_"
      },
      "source": [
        "def lop_question():\n",
        "  url_question = endpoint_question + key\n",
        "  df_lop_question = lop_consult(url_question)\n",
        "  df_lop_question.rename(columns = {'id':'id_question','title':'question'}, inplace = True)\n",
        "  return df_lop_question"
      ],
      "execution_count": null,
      "outputs": []
    },
    {
      "cell_type": "markdown",
      "metadata": {
        "id": "KbBdYtwVOXdZ"
      },
      "source": [
        "Função que transforma os dados das questões extraídas do LoP, assim podemos saber a dificuldade de uma questão, que pode estar associada a uma ou mais listas"
      ]
    },
    {
      "cell_type": "code",
      "metadata": {
        "id": "J3pLjztaOWzR"
      },
      "source": [
        "def question_data(df_question = pd.DataFrame()):\n",
        "  #Essa função se passar por cópia o df_question se torna desnecessário fazer a requisição de todas as turmas usando a função lop_question()\n",
        "  #Dataframes onde serão armazenados todas as questões transformadas\n",
        "  df_list_data = pd.DataFrame() \n",
        "  df_test_data = pd.DataFrame() \n",
        "  df_tag_data = pd.DataFrame()  \n",
        "  df_question_data = pd.DataFrame()  \n",
        "  #i=0\n",
        "  if df_question.empty == True:\n",
        "    df_question = lop_question()\n",
        "  for question,lists,tests,tags,difficulty in zip(df_question['question'],df_question['lists'],df_question['tests'],df_question['tags'],df_question['difficulty']):\n",
        "    #Cada registro do json pode ficar com mais de uma lista associada a uma questão, por isso a necessidade de extrair\n",
        "    df_prov_lists  = pd.DataFrame(json.loads(str(lists).replace(\"'\",'\"')))\n",
        "    #Cada registro do json pode ficar com mais de uma lista associada a uma questão, por isso a necessidade de extrair\n",
        "    df_prov_tests  = pd.DataFrame(json.loads(str(tests).replace(\"'\",'\"')))\n",
        "    #df_prov_lists.rename(columns = {'id':'id_list','title':'list'}, inplace = True)\n",
        "    #Inserindo a questão associada\n",
        "    df_prov_lists['question'] = question\n",
        "    df_prov_lists['difficulty'] = difficulty\n",
        "    df_list_data = df_list_data.append(df_prov_lists, ignore_index = True).copy()\n",
        "    #print(df_list_data['question'])\n",
        "    #print(\"numero de questoes unicas no df \",len(df_list_data['question'].unique()))\n",
        "    df_prov_tests['question'] = question\n",
        "    df_prov_tests['difficulty'] = difficulty\n",
        "    df_test_data = df_test_data.append(df_prov_tests, ignore_index = True).copy()\n",
        "    #Extraindo as tags, que vão dizer o conteudo associado\n",
        "    df_prov_tags = pd.DataFrame(json.loads(str(tags).replace(\"'\",'\"'))).T\n",
        "    #Inserindo a questão associada\n",
        "    df_prov_tags['question'] = question    \n",
        "    df_tag_data = df_tag_data.append(df_prov_tags, ignore_index = True).copy()\n",
        "    #print(i,' ------------------  ',question, ' ',difficulty)\n",
        "    #i+=1\n",
        "    #if i == 100:\n",
        "    #  break\n",
        "  \n",
        "  df_list_data.rename(columns = {'id':'id_list','title':'list'}, inplace = True)\n",
        "  df_test_data.rename(columns = {'id':'id_test','title':'test'}, inplace = True)\n",
        "  #print(len(df_list_data['question'].unique()))\n",
        "  #df_list_data['difficulty'] = df_list_data['difficulty'].astype('int')\n",
        "  columns_tags = ['question']\n",
        "  for i in range(len(df_tag_data.columns)-1): columns_tags.append('tag'+str(i+1))\n",
        "  df_tag_data.columns = columns_tags\n",
        "  df_list_data = pd.merge(df_list_data, df_tag_data, on = 'question', how = 'outer')#.fillna(0)\n",
        "  df_test_data = pd.merge(df_test_data, df_tag_data, on = 'question', how = 'outer')#.fillna(0)\n",
        "  return  pd.concat([df_list_data, df_test_data],axis=0).copy()"
      ],
      "execution_count": null,
      "outputs": []
    },
    {
      "cell_type": "markdown",
      "metadata": {
        "id": "EJNP9JIqS9F5"
      },
      "source": [
        "Função que consula no lop dados sobre as listas"
      ]
    },
    {
      "cell_type": "code",
      "metadata": {
        "id": "3OkDTI0XSHOE"
      },
      "source": [
        "def lop_lists(turma):#Turma como dataframe\r\n",
        "  url_lists = endpoint_lists + data.iloc[0,0] + '/list/all?key=' + key\r\n",
        "  df_lop_lists = lop_consult(url_lists)\r\n",
        "  df_lop_lists.rename(columns = {'id':'id_list','title':'list'}, inplace = True)\r\n",
        "  return df_lop_lists"
      ],
      "execution_count": null,
      "outputs": []
    },
    {
      "cell_type": "code",
      "metadata": {
        "id": "LYQEW7JDt6Jn"
      },
      "source": [
        "df_lop_lists = lop_lists(data)"
      ],
      "execution_count": null,
      "outputs": []
    },
    {
      "cell_type": "code",
      "metadata": {
        "colab": {
          "base_uri": "https://localhost:8080/",
          "height": 111
        },
        "id": "I7kTKaQg1p_V",
        "outputId": "fcb9f66f-e059-4b98-8377-90511f78d39c"
      },
      "source": [
        "df_lop_lists.head(2)"
      ],
      "execution_count": null,
      "outputs": [
        {
          "output_type": "execute_result",
          "data": {
            "text/html": [
              "<div>\n",
              "<style scoped>\n",
              "    .dataframe tbody tr th:only-of-type {\n",
              "        vertical-align: middle;\n",
              "    }\n",
              "\n",
              "    .dataframe tbody tr th {\n",
              "        vertical-align: top;\n",
              "    }\n",
              "\n",
              "    .dataframe thead th {\n",
              "        text-align: right;\n",
              "    }\n",
              "</style>\n",
              "<table border=\"1\" class=\"dataframe\">\n",
              "  <thead>\n",
              "    <tr style=\"text-align: right;\">\n",
              "      <th></th>\n",
              "      <th>id_list</th>\n",
              "      <th>list</th>\n",
              "      <th>createdAt</th>\n",
              "      <th>author</th>\n",
              "      <th>shortTitle</th>\n",
              "    </tr>\n",
              "  </thead>\n",
              "  <tbody>\n",
              "    <tr>\n",
              "      <th>0</th>\n",
              "      <td>b4b1d413-503d-40ea-b93c-a21d1240d2e7</td>\n",
              "      <td>ITP - Alocação dinâmica</td>\n",
              "      <td>2020-11-15T01:48:11.000Z</td>\n",
              "      <td>{'name': 'André Campos', 'email': 'andre@dimap...</td>\n",
              "      <td>IAD</td>\n",
              "    </tr>\n",
              "    <tr>\n",
              "      <th>1</th>\n",
              "      <td>2f5b561c-c3f0-4566-a357-625f0edbdb01</td>\n",
              "      <td>ITP - Ponteiros 2 -  Lista</td>\n",
              "      <td>2020-11-08T20:53:36.000Z</td>\n",
              "      <td>{'name': 'André Solino', 'email': 'andresolino...</td>\n",
              "      <td>IP2L</td>\n",
              "    </tr>\n",
              "  </tbody>\n",
              "</table>\n",
              "</div>"
            ],
            "text/plain": [
              "                                id_list  ... shortTitle\n",
              "0  b4b1d413-503d-40ea-b93c-a21d1240d2e7  ...        IAD\n",
              "1  2f5b561c-c3f0-4566-a357-625f0edbdb01  ...       IP2L\n",
              "\n",
              "[2 rows x 5 columns]"
            ]
          },
          "metadata": {
            "tags": []
          },
          "execution_count": 12
        }
      ]
    },
    {
      "cell_type": "markdown",
      "metadata": {
        "id": "tozn2zf9BiSo"
      },
      "source": [
        "Lista de questões selecionadas"
      ]
    },
    {
      "cell_type": "code",
      "metadata": {
        "id": "-2N6QbHL9M1U"
      },
      "source": [
        "listas_escolhidas = ['Laboratório 01 - Expressões Aritméticas',\n",
        "\n",
        "'Aula - Introdução Expressões Aritiméticas',\n",
        "\n",
        "'Aula - Funções Aritméticas',\n",
        "\n",
        "'Treinamento - Expressões Aritméticas',\n",
        "\n",
        "'(Lop) Lista de Laboratório 2 - Estrutura de decisão',\n",
        "\n",
        "'(Lop) Estruturas de decisão - problemas sobre divisibilidade',\n",
        "\n",
        "'(Lop) Estruturas de decisão - Múltiplas decisões',\n",
        "\n",
        "'(Lop) Estruturas de decisão - Operadores Lógicos',\n",
        "\n",
        "'Repetição condicional - Lista Resolvida (LOP)',\n",
        "\n",
        "'Repetição condicional - Lista Prática (LOP)',\n",
        "\n",
        "'Repetição condicional - Lista de Exercícios (LOP)',\n",
        "\n",
        "'Repetição contada - Lista Resolvida (LOP)',\n",
        "\n",
        "'Repetição contada - Lista Prática (LOP)',\n",
        "\n",
        "'Repetição contada - Lista de Exercícios (LOP)',\n",
        "\n",
        "'Vetores - Lista Resolvida (LOP)',\n",
        "\n",
        "'Vetores - Lista de Exercícios (LOP)',\n",
        "\n",
        "'Vetores - Lista Prática (LOP)']\n",
        "\n",
        "provas_escolhidas = ['Prova LoP - Turma 05 - 2020.6']"
      ],
      "execution_count": null,
      "outputs": []
    },
    {
      "cell_type": "markdown",
      "metadata": {
        "id": "pVdq9H1_BD_Q"
      },
      "source": [
        "Função criada para selecionar questões específicas"
      ]
    },
    {
      "cell_type": "code",
      "metadata": {
        "id": "OSAX-RVKBJ4T"
      },
      "source": [
        "def select_questions(df_question_data,df_lop_lists):\n",
        "  #Selecionando onde List não é NaN\n",
        "  df_prov1 = df_question_data.dropna(subset=['list'])#.fillna(0)\n",
        "  #Selecionando onde Test não é NaN\n",
        "  #df_prov2 = df_question_data.dropna(subset=['test'])#.fillna(0)\n",
        "  #Concatenação para permitir um loc que busque em todas as instancias\n",
        "  pat1 = '|'.join(['({})'.format(re.escape(c)) for c in list(df_lop_lists['id_list'])])\n",
        "  #pat2 = '|'.join(['({})'.format(re.escape(c)) for c in provas_escolhidas])\n",
        "  #Busca\n",
        "  df_prov1 = df_prov1.loc[df_prov1['id_list'].str.contains(pat1)].copy()\n",
        "  #df_prov2 = df_prov2.loc[df_prov2['test'].str.contains(pat2)].copy()\n",
        "  #return pd.concat([df_prov1, df_prov2],axis=0).copy()\n",
        "  return df_prov1"
      ],
      "execution_count": null,
      "outputs": []
    },
    {
      "cell_type": "code",
      "metadata": {
        "colab": {
          "base_uri": "https://localhost:8080/"
        },
        "id": "M1WNGyv-2U3X",
        "outputId": "370f4c9e-3c8d-4b82-c15d-d3bf54414fc8"
      },
      "source": [
        "df_questions_selected = select_questions(df_question_data, df_lop_lists)"
      ],
      "execution_count": null,
      "outputs": [
        {
          "output_type": "stream",
          "text": [
            "/usr/local/lib/python3.6/dist-packages/pandas/core/strings.py:2001: UserWarning: This pattern has match groups. To actually get the groups, use str.extract.\n",
            "  return func(self, *args, **kwargs)\n"
          ],
          "name": "stderr"
        }
      ]
    },
    {
      "cell_type": "code",
      "metadata": {
        "colab": {
          "base_uri": "https://localhost:8080/",
          "height": 111
        },
        "id": "RFvgd9mbxSsj",
        "outputId": "6a80bc61-ccd9-41d3-b02f-177387de34a3"
      },
      "source": [
        "df_questions_selected.head(2)"
      ],
      "execution_count": null,
      "outputs": [
        {
          "output_type": "execute_result",
          "data": {
            "text/html": [
              "<div>\n",
              "<style scoped>\n",
              "    .dataframe tbody tr th:only-of-type {\n",
              "        vertical-align: middle;\n",
              "    }\n",
              "\n",
              "    .dataframe tbody tr th {\n",
              "        vertical-align: top;\n",
              "    }\n",
              "\n",
              "    .dataframe thead th {\n",
              "        text-align: right;\n",
              "    }\n",
              "</style>\n",
              "<table border=\"1\" class=\"dataframe\">\n",
              "  <thead>\n",
              "    <tr style=\"text-align: right;\">\n",
              "      <th></th>\n",
              "      <th>id_list</th>\n",
              "      <th>list</th>\n",
              "      <th>question</th>\n",
              "      <th>difficulty</th>\n",
              "      <th>tag1</th>\n",
              "      <th>tag2</th>\n",
              "      <th>tag3</th>\n",
              "      <th>tag4</th>\n",
              "      <th>tag5</th>\n",
              "      <th>id_test</th>\n",
              "      <th>test</th>\n",
              "    </tr>\n",
              "  </thead>\n",
              "  <tbody>\n",
              "    <tr>\n",
              "      <th>8</th>\n",
              "      <td>b4b1d413-503d-40ea-b93c-a21d1240d2e7</td>\n",
              "      <td>ITP - Alocação dinâmica</td>\n",
              "      <td>Alocação de matriz</td>\n",
              "      <td>3.0</td>\n",
              "      <td>Ponteiros</td>\n",
              "      <td>Matrizes</td>\n",
              "      <td>NaN</td>\n",
              "      <td>NaN</td>\n",
              "      <td>NaN</td>\n",
              "      <td>NaN</td>\n",
              "      <td>NaN</td>\n",
              "    </tr>\n",
              "    <tr>\n",
              "      <th>42</th>\n",
              "      <td>1f2fb866-0bea-4475-b0af-e4a060b0904a</td>\n",
              "      <td>ITP - Matriz - Lista</td>\n",
              "      <td>Batalha naval - 1 tiro</td>\n",
              "      <td>3.0</td>\n",
              "      <td>Matrizes</td>\n",
              "      <td>Estruturas de Repetição</td>\n",
              "      <td>NaN</td>\n",
              "      <td>NaN</td>\n",
              "      <td>NaN</td>\n",
              "      <td>NaN</td>\n",
              "      <td>NaN</td>\n",
              "    </tr>\n",
              "  </tbody>\n",
              "</table>\n",
              "</div>"
            ],
            "text/plain": [
              "                                 id_list                     list  ... id_test  test\n",
              "8   b4b1d413-503d-40ea-b93c-a21d1240d2e7  ITP - Alocação dinâmica  ...     NaN   NaN\n",
              "42  1f2fb866-0bea-4475-b0af-e4a060b0904a     ITP - Matriz - Lista  ...     NaN   NaN\n",
              "\n",
              "[2 rows x 11 columns]"
            ]
          },
          "metadata": {
            "tags": []
          },
          "execution_count": 28
        }
      ]
    },
    {
      "cell_type": "markdown",
      "metadata": {
        "id": "YuyVGOpc1JXv"
      },
      "source": [
        "Função para avaliar a performance em uma lista ou prova. Necessita receber agora um label que informa se 'list' ou 'test'"
      ]
    },
    {
      "cell_type": "code",
      "metadata": {
        "id": "YTHMN3agyw-R"
      },
      "source": [
        "def performance_list_test(df_submission, listORtest, df_lop_lists, df_question_data = pd.DataFrame()):  #depois df_lop_tests\r\n",
        "#Essa função necessita receber as submissões de uma turma ---------- depois podemos incrementar essa função ao ter uma turma associada e agrupar por elas\r\n",
        "  \r\n",
        "  if listORtest == 'list':\r\n",
        "    #Me traz as porcentagens maximas de acerto por questão\r\n",
        "    df_performance = df_submission.groupby(['user','registration','list','question'])['hitPercentage'].max().reset_index()\r\n",
        "    #Soma as porcentagens de uma lista/prova unica\r\n",
        "    df_performance = df_performance.groupby(['user','registration','list'])['hitPercentage'].sum().reset_index()\r\n",
        "    #Renomeando para melhorar entendimento\r\n",
        "    df_performance.rename(columns={'hitPercentage':'totalHitPercentage'}, inplace = True)\r\n",
        "    #Agrupa por lista e questão para ter apenas uma questão de cada, a operação não importa muito, apenas existe para completar o agrupamento --------- pode ser uma boa trocar por drop_duplicates\r\n",
        "    df_question_data = df_question_data.groupby(['list','question'])['id_list'].count().reset_index()\r\n",
        "    #Conta quantas questões tem por lista\r\n",
        "    df_question_data = df_question_data.groupby(['list'])['question'].count().reset_index()\r\n",
        "    #Renomeando lista\r\n",
        "    df_question_data.rename(columns={'question':'totalQuestionslist'}, inplace = True)\r\n",
        "    #Merge\r\n",
        "    df_performance = df_performance.merge(df_question_data, on = 'list')\r\n",
        "    #Média de acerto por lista\r\n",
        "    df_performance['medialist'] = df_performance['totalHitPercentage'] / df_performance['totalQuestionslist']\r\n",
        "    #Convertendo para datetime\r\n",
        "    df_lop_lists['createdAt'] = pd.to_datetime(df_lop_lists['createdAt'])\r\n",
        "    #Criando campo com a data\r\n",
        "    df_lop_lists['dateList'] = df_lop_lists['createdAt'].dt.date\r\n",
        "    #Merge\r\n",
        "    df_performance = pd.merge(df_performance, df_lop_lists.drop(columns = ['author','shortTitle','createdAt']), on='list')\r\n",
        "      \r\n",
        "  elif listORtest == 'test':\r\n",
        "    #Me traz as porcentagens maximas de acerto por questão\r\n",
        "    df_performance = df_submission.groupby(['user','registration','test','question'])['hitPercentage'].max().reset_index()\r\n",
        "    #Soma as porcentagens de uma lista/prova unica\r\n",
        "    df_performance = df_performance.groupby(['user','registration','test'])['hitPercentage'].sum().reset_index()\r\n",
        "    #Renomeando para melhorar entendimento\r\n",
        "    df_performance.rename(columns={'hitPercentage':'totalHitPercentage'}, inplace = True)\r\n",
        "    #Agrupa por prova e questão para ter apenas uma questão de cada, a operação não importa muito, apenas existe para completar o agrupamento --------- pode ser uma boa trocar por drop_duplicates\r\n",
        "    df_question_data = df_question_data.groupby(['test','question'])['id_test'].count().reset_index()\r\n",
        "    #Conta quantas questões tem por prova\r\n",
        "    df_question_data = df_question_data.groupby(['test'])['question'].count().reset_index()\r\n",
        "    #Renomeando prova\r\n",
        "    df_question_data.rename(columns={'question':'totalQuestionstest'}, inplace = True)\r\n",
        "    #Merge\r\n",
        "    df_performance = df_performance.merge(df_question_data, on = 'test')\r\n",
        "    #Média de acerto por prova\r\n",
        "    df_performance['mediatest'] = df_performance['totalHitPercentage'] / df_performance['totalQuestionstest']\r\n",
        "\r\n",
        "  return df_performance\r\n"
      ],
      "execution_count": null,
      "outputs": []
    },
    {
      "cell_type": "markdown",
      "metadata": {
        "id": "NoXRHrR0ptfh"
      },
      "source": [
        "Função que calcula o desempenho do aluno por dificuldade"
      ]
    },
    {
      "cell_type": "code",
      "metadata": {
        "id": "ABV_SIW6pstR"
      },
      "source": [
        "def performance_difficulty_list_test(df_submission, df_questions_selected, listORtest = 'list'):\r\n",
        "  #Selecionando apenas as questões de lista\r\n",
        "  if listORtest == 'list':\r\n",
        "    df_questions_selected = df_questions_selected.dropna(subset=['test'])\r\n",
        "  #Selecionando apenas as questões de prova\r\n",
        "  elif listORtest == 'test':\r\n",
        "    df_questions_selected = df_questions_selected.dropna(subset=['list'])\r\n",
        "  #Porcentagem máxima por questão\r\n",
        "  df_performance = df_submission.groupby(['user','registration','question'])['hitPercentage'].max().reset_index()\r\n",
        "  #Questão e a sua dificuldade associada\r\n",
        "  df_questions_selected = df_questions_selected.groupby(['difficulty','question'])['id_list'].count().reset_index().copy()\r\n",
        "  #Contando numero de questoes\r\n",
        "  df_total_questions = df_questions_selected.groupby(['difficulty'])['question'].count().reset_index(name='totalQuestions')\r\n",
        "  #Merge\r\n",
        "  df_performance = pd.merge(df_performance, df_questions_selected.drop(columns='id_list'),on='question')\r\n",
        "  #Somando as porcentagens de acerto por dificuldade para cada aluno\r\n",
        "  df_performance = df_performance.groupby(['user','registration','difficulty'])['hitPercentage'].sum().reset_index(name='totalHitPercentage')\r\n",
        "  #Conversão de float para inteiro\r\n",
        "  df_performance['difficulty'] = df_performance['difficulty'].astype('int')\r\n",
        "  #Lista de alunos\r\n",
        "  df_without_duplicates = df_submission.drop_duplicates(subset=['registration'])\r\n",
        "  df_without_duplicates = df_without_duplicates[['user','registration']]\r\n",
        "  #Laço para fazer que todo aluno tenha as 5 dificuldades\r\n",
        "  df_prov = pd.DataFrame()\r\n",
        "  for difficulty in range(1, 6):\r\n",
        "    df_users = df_without_duplicates.copy()\r\n",
        "    df_users['difficulty'] = difficulty\r\n",
        "    df_prov = df_prov.append(df_users)\r\n",
        "  #Unindo e fazendo que apareça todas as dificuldades\r\n",
        "  df_performance = pd.merge(df_performance,df_prov, on=['user','registration','difficulty'], how='outer').sort_values(by=['user','registration']).fillna(0)\r\n",
        "  df_performance = pd.merge(df_performance, df_total_questions, on='difficulty', how='outer').fillna(0)\r\n",
        "  #Calculando a média por dificuldade\r\n",
        "  df_performance['mediaDifficulty'] = df_performance['totalHitPercentage'] / df_performance['totalQuestions']\r\n",
        "  return df_performance.sort_values(by=['user','registration']).fillna(0)"
      ],
      "execution_count": null,
      "outputs": []
    },
    {
      "cell_type": "markdown",
      "metadata": {
        "id": "0GM-nbtVKQqx"
      },
      "source": [
        "Função que calcula a performance do aluno por assunto"
      ]
    },
    {
      "cell_type": "code",
      "metadata": {
        "id": "pnkfVLMEKN6k"
      },
      "source": [
        "def performance_subject_list_test(df_submission, df_questions_selected, listORtest = 'list'):\r\n",
        "  #Selecionando apenas as questões de lista\r\n",
        "  if listORtest == 'list':\r\n",
        "    df_questions_selected = df_questions_selected.dropna(subset=['list'])\r\n",
        "  #Selecionando apenas as questões de prova\r\n",
        "  elif listORtest == 'test':\r\n",
        "    df_questions_selected = df_questions_selected.dropna(subset=['test'])\r\n",
        "  #Retirando onde não tem assunto e inserindo o campo assunto em branco\r\n",
        "  df_questions_selected['subject'] = df_questions_selected['tag1'].fillna('Assunto em Branco')  \r\n",
        "  #Extraindo a lista de assuntos presentes nessa turma\r\n",
        "  subject_list = df_questions_selected['subject'].drop_duplicates().values\r\n",
        "  #Porcentagem máxima por questão\r\n",
        "  df_performance = df_submission.groupby(['user','registration','question'])['hitPercentage'].max().reset_index()\r\n",
        "  #Questão e a seu assunto associada\r\n",
        "  df_questions_selected = df_questions_selected.groupby(['subject','question'])['id_list'].count().reset_index().copy()\r\n",
        "  #Contando numero de questoes\r\n",
        "  df_total_questions = df_questions_selected.groupby(['subject'])['question'].count().reset_index(name='totalQuestions')\r\n",
        "  #Merge\r\n",
        "  df_performance = pd.merge(df_performance, df_questions_selected.drop(columns='id_list'),on='question')\r\n",
        "  #Somando as porcentagens de acerto por assunto para cada aluno\r\n",
        "  df_performance = df_performance.groupby(['user','registration','subject'])['hitPercentage'].sum().reset_index(name='totalHitPercentage')\r\n",
        "  #Lista de alunos\r\n",
        "  df_without_duplicates = df_submission.drop_duplicates(subset=['registration'])\r\n",
        "  df_without_duplicates = df_without_duplicates[['user','registration']]\r\n",
        "  #Laço para fazer que todo aluno tenha todos os assuntos\r\n",
        "  df_prov = pd.DataFrame()\r\n",
        "  for subject in subject_list:\r\n",
        "    df_users = df_without_duplicates.copy()\r\n",
        "    df_users['subject'] = subject  \r\n",
        "    df_prov = df_prov.append(df_users)  \r\n",
        "  #Unindo e fazendo que apareça todos assuntos\r\n",
        "  df_performance = pd.merge(df_performance,df_prov, on=['user','registration','subject'], how='outer').sort_values(by=['user','registration']).fillna(0)  \r\n",
        "  df_performance = pd.merge(df_performance, df_total_questions, on='subject', how='outer').fillna(0)\r\n",
        "  #Calculando a média por assunto\r\n",
        "  df_performance['mediaSubject'] = df_performance['totalHitPercentage'] / df_performance['totalQuestions']\r\n",
        "  return df_performance.sort_values(by=['user','registration']).fillna(0)"
      ],
      "execution_count": null,
      "outputs": []
    },
    {
      "cell_type": "markdown",
      "metadata": {
        "id": "npTiaGmw_xqZ"
      },
      "source": [
        "### 3.2 Funções de Gráfico"
      ]
    },
    {
      "cell_type": "markdown",
      "metadata": {
        "id": "wKN0Qb6F1An-"
      },
      "source": [
        "Função do gráfico de barras que, por lista, faz a contagem de quem fez mais e menos de X% da lista. Necessita de passar a performance do aluno por lista/prova e receber agora um label que informa se 'list' ou 'test'"
      ]
    },
    {
      "cell_type": "code",
      "metadata": {
        "id": "aCOt7OT7YBBK"
      },
      "source": [
        "def graph_more_less_list_test_class(df_performance_list_test, df_class, data, value = 70.0, listORtest = 'list'):#value == 70 ou outro numero\r\n",
        "  if listORtest == 'list':\r\n",
        "    #Aqui eu conto, por lista, quantos tiraram mais de % de acerto escolhida\r\n",
        "    df_more = df_performance_list_test[df_performance_list_test['medialist'] >= value].groupby(listORtest)['medialist'].count().reset_index(name='more')\r\n",
        "    #E nesse conta quantos tiveram menos da % escolhida\r\n",
        "    df_less = df_performance_list_test[df_performance_list_test['medialist'] < value].groupby(listORtest)['medialist'].count().reset_index(name='less')\r\n",
        "      \r\n",
        "  elif listORtest == 'test':  \r\n",
        "    #Aqui eu conto, por lista, quantos tiraram mais de % de acerto escolhida\r\n",
        "    df_more = df_performance_list_test[df_performance_list_test['mediatest'] >= value].groupby(listORtest)['mediatest'].count().reset_index(name='more')\r\n",
        "    #E nesse conta quantos tiveram menos da % escolhida\r\n",
        "    df_less = df_performance_list_test[df_performance_list_test['mediatest'] < value].groupby(listORtest)['mediatest'].count().reset_index(name='less')\r\n",
        "\r\n",
        "  #Aqui junta ambos os dataframes, usando o outer, que, se por acaso não tiver uma ocorrência de uma lista em um dos dataframes, mesmo assim eles vão ser adicionados, é união dos conjuntos\r\n",
        "  df_less_more = pd.merge(df_more, df_less, on = listORtest, how = 'outer')\r\n",
        "  #E, se caso acontecer a situação de um não existir, substituimos o nan por 0\r\n",
        "  df_less_more.replace(np.NaN, 0, inplace = True)\r\n",
        "  #Total de alunos na turma\r\n",
        "  total = df_class.loc[df_class['id_class'] == data.iloc[0,0],'studentsCount'].max()\r\n",
        "  df_less_more['missing'] = total - (df_less_more['more'] + df_less_more['less'])\r\n",
        "  return df_less_more.to_json(force_ascii=False, orient='records') "
      ],
      "execution_count": null,
      "outputs": []
    },
    {
      "cell_type": "markdown",
      "metadata": {
        "id": "8RNY3F70pcvR"
      },
      "source": [
        "Função do gráfico de barras que, por dificuldade, faz a contagem de quem fez mais e menos de X% no assunto"
      ]
    },
    {
      "cell_type": "code",
      "metadata": {
        "id": "0-KeDI_raBLT"
      },
      "source": [
        "def graph_more_less_difficulty_list_test_class(df_performance_difficulty_list_test, df_class, data, value = 70.0):#value == 70 ou outro numero, data == turma em df\r\n",
        "  #Aqui eu conto, por dificuldade, quantos tiraram mais de % de acerto escolhida\r\n",
        "  df_more = df_performance_difficulty_list_test[df_performance_difficulty_list_test['mediaDifficulty'] >= value].groupby('difficulty')['mediaDifficulty'].count().reset_index(name='more')\r\n",
        "  #E nesse conta quantos tiveram menos da % escolhida\r\n",
        "  df_less = df_performance_difficulty_list_test[df_performance_difficulty_list_test['mediaDifficulty'] < value].groupby('difficulty')['mediaDifficulty'].count().reset_index(name='less')\r\n",
        "  #Aqui junta ambos os dataframes, usando o outer, que, se por acaso não tiver uma ocorrência de uma lista em um dos dataframes, mesmo assim eles vão ser adicionados, é união dos conjuntos\r\n",
        "  df_less_more = pd.merge(df_more, df_less, on = 'difficulty', how = 'outer')\r\n",
        "  #E, se caso acontecer a situação de um não existir, substituimos o nan por 0\r\n",
        "  df_less_more.replace(np.NaN, 0, inplace = True)\r\n",
        "    #Aqui junta ambos os dataframes, usando o outer, que, se por acaso não tiver uma ocorrência de uma lista em um dos dataframes, mesmo assim eles vão ser adicionados, é união dos conjuntos\r\n",
        "  df_less_more = pd.merge(df_more, df_less, on =  'difficulty', how = 'outer')\r\n",
        "  #E, se caso acontecer a situação de um não existir, substituimos o nan por 0\r\n",
        "  df_less_more.replace(np.NaN, 0, inplace = True)\r\n",
        "  #Total de alunos na turma\r\n",
        "  total = df_class.loc[df_class['id_class'] == data.iloc[0,0],'studentsCount'].max()\r\n",
        "  #Faltantes\r\n",
        "  df_less_more['missing'] = total - (df_less_more['more'] + df_less_more['less'])\r\n",
        "  #Conversão para inteiro\r\n",
        "  df_less_more = df_less_more.astype(int)\r\n",
        "  #Renomeando \r\n",
        "  df_less_more = df_less_more.replace({'difficulty': {1:\"Muito Fácil\",2:\"Fácil\", 3:\"Médio\",4:\"Difícil\",5:\"Muito Difícil\"} })\r\n",
        "  return df_less_more#.to_json(force_ascii=False, orient='records') "
      ],
      "execution_count": null,
      "outputs": []
    },
    {
      "cell_type": "markdown",
      "metadata": {
        "id": "y-escZP4PEmS"
      },
      "source": [
        "Função do gráfico de barras que, por assunto, faz a contagem de quem fez mais e menos de X% no assunto"
      ]
    },
    {
      "cell_type": "code",
      "metadata": {
        "id": "aNX-KB6yO7Ij"
      },
      "source": [
        "def graph_more_less_subject_list_test_class(df_performance_subject_list_test, df_class, data, value = 70.0):#value == 70 ou outro numero, data == turma em df\r\n",
        "  #Aqui eu conto, por assunto, quantos tiraram mais de % de acerto escolhida\r\n",
        "  df_more = df_performance_subject_list_test[df_performance_subject_list_test['mediaSubject'] >= value].groupby('subject')['mediaSubject'].count().reset_index(name='more')\r\n",
        "  #E nesse conta quantos tiveram menos da % escolhida\r\n",
        "  df_less = df_performance_subject_list_test[df_performance_subject_list_test['mediaSubject'] < value].groupby('subject')['mediaSubject'].count().reset_index(name='less')\r\n",
        "  #Aqui junta ambos os dataframes, usando o outer, que, se por acaso não tiver uma ocorrência de uma lista em um dos dataframes, mesmo assim eles vão ser adicionados, é união dos conjuntos\r\n",
        "  df_less_more = pd.merge(df_more, df_less, on = 'subject', how = 'outer')\r\n",
        "  #E, se caso acontecer a situação de um não existir, substituimos o nan por 0\r\n",
        "  df_less_more.replace(np.NaN, 0, inplace = True)\r\n",
        "    #Aqui junta ambos os dataframes, usando o outer, que, se por acaso não tiver uma ocorrência de uma lista em um dos dataframes, mesmo assim eles vão ser adicionados, é união dos conjuntos\r\n",
        "  df_less_more = pd.merge(df_more, df_less, on =  'subject', how = 'outer')\r\n",
        "  #E, se caso acontecer a situação de um não existir, substituimos o nan por 0\r\n",
        "  df_less_more.replace(np.NaN, 0, inplace = True)\r\n",
        "  #Total de alunos na turma\r\n",
        "  total = df_class.loc[df_class['id_class'] == data.iloc[0,0],'studentsCount'].max()\r\n",
        "  #Faltantes\r\n",
        "  df_less_more['missing'] = total - (df_less_more['more'] + df_less_more['less'])\r\n",
        "  return df_less_more#.to_json(force_ascii=False, orient='records') "
      ],
      "execution_count": null,
      "outputs": []
    },
    {
      "cell_type": "markdown",
      "metadata": {
        "id": "d6CPk_dAAUCE"
      },
      "source": [
        "Função do gráfico de barras que, por aluno, calcula a média do aluno por lista/prova"
      ]
    },
    {
      "cell_type": "code",
      "metadata": {
        "id": "2KpLpcDWnjrj"
      },
      "source": [
        "def graph_performance_student_list_test(df_performance_list_test, listORtest = 'list'):\r\n",
        "  if listORtest == 'list':\r\n",
        "    #Media por lista na turma\r\n",
        "    df_mean_list = df_performance_list_test.groupby(['list'])['medialist'].mean().reset_index(name='mediaListClass')\r\n",
        "    #Retirando colunas desnecessárias\r\n",
        "    df_graph = df_performance_list_test.sort_values(by='user').drop(columns=['totalHitPercentage','totalQuestionslist'])\r\n",
        "    #Merge\r\n",
        "    df_graph = pd.merge(df_mean_list, df_graph, on='list')\r\n",
        "    #Ordenando\r\n",
        "    df_graph.sort_values(by=['user','registration','list'], inplace = True)\r\n",
        "    return df_graph#.to_json(force_ascii=False,orient='records')    \r\n",
        "  elif listORtest == 'test':  \r\n",
        "    #Media por lista na turma\r\n",
        "    df_mean_test = df_performance_list_test.groupby(['test'])['mediatest'].mean().reset_index(name='mediaTestClass')\r\n",
        "    #Retirando colunas desnecessárias\r\n",
        "    df_graph = df_performance_list_test.sort_values(by='user').drop(columns=['totalHitPercentage','totalQuestionstest'])\r\n",
        "    #Merge\r\n",
        "    df_graph = pd.merge(df_mean_list, df_graph, on='test')\r\n",
        "    #Ordenando\r\n",
        "    df_graph.sort_values(by=['user','registration','test'], inplace = True)\r\n",
        "    return df_graph#.to_json(force_ascii=False,orient='records') "
      ],
      "execution_count": null,
      "outputs": []
    },
    {
      "cell_type": "markdown",
      "metadata": {
        "id": "GONO5mknpF4e"
      },
      "source": [
        "Função do gráfico de barras que, por aluno, calcula a média do aluno por dificuldade"
      ]
    },
    {
      "cell_type": "code",
      "metadata": {
        "id": "fyBkxAnnJ-Xx"
      },
      "source": [
        "def graph_performance_student_difficulty_list_test(df_performance_difficulty_list_test):\r\n",
        "  #Media por dificuldade na turma\r\n",
        "  df_mean_difficulty = df_performance_difficulty_list_test.groupby(['difficulty'])['mediaDifficulty'].mean().reset_index(name='mediaDifficultyClass')\r\n",
        "  #Retirando colunas desnecessárias\r\n",
        "  df_graph = df_performance_difficulty_list_test.sort_values(by='user').drop(columns=['totalHitPercentage','totalQuestions'])\r\n",
        "  #Merge\r\n",
        "  df_graph = pd.merge(df_mean_difficulty, df_graph, on='difficulty')\r\n",
        "  #Ordenando\r\n",
        "  df_graph.sort_values(by=['user','registration','difficulty'], inplace = True)\r\n",
        "  return df_graph#.to_json(force_ascii=False,orient='records')    "
      ],
      "execution_count": null,
      "outputs": []
    },
    {
      "cell_type": "markdown",
      "metadata": {
        "id": "ClzQJuFoPUci"
      },
      "source": [
        "Função do gráfico de barras que, por aluno, calcula a média do aluno por assunto"
      ]
    },
    {
      "cell_type": "code",
      "metadata": {
        "id": "oVXQOHsEPTHJ"
      },
      "source": [
        "def graph_performance_student_subject_list_test(df_performance_subject_list_test):\r\n",
        "  #Media por assunto na turma\r\n",
        "  df_mean_subject = df_performance_subject_list_test.groupby(['subject'])['mediaSubject'].mean().reset_index(name='mediaSubjectClass')\r\n",
        "  #Retirando colunas desnecessárias\r\n",
        "  df_graph = df_performance_subject_list_test.sort_values(by='user').drop(columns=['totalHitPercentage','totalQuestions'])\r\n",
        "  #Merge\r\n",
        "  df_graph = pd.merge(df_mean_subject, df_graph, on='subject')\r\n",
        "  #Ordenando\r\n",
        "  df_graph.sort_values(by=['user','registration','subject'], inplace = True)\r\n",
        "  return df_graph#.to_json(force_ascii=False,orient='records')    "
      ],
      "execution_count": null,
      "outputs": []
    },
    {
      "cell_type": "markdown",
      "metadata": {
        "id": "DNV9zU6KlP7X"
      },
      "source": [
        "Função do histograma que informa a distribuição de quantos dias diferentes o aluno precisou para fazer uma lista"
      ]
    },
    {
      "cell_type": "code",
      "metadata": {
        "id": "3OncTlGQlM3r"
      },
      "source": [
        "def graph_days_spent_list(df_submission):#Histogram\r\n",
        "  #Convertendo para datetime\r\n",
        "  df_submission['createdAt'] = pd.to_datetime(df_submission['createdAt'])\r\n",
        "  #Criando campo com a data\r\n",
        "  df_submission['dateSubmission'] = df_submission['createdAt'].dt.date\r\n",
        "  #Conversão de ms para s\r\n",
        "  df_submission['timeInSecounds'] = df_submission['timeConsuming'].divide(1000).astype(int)\r\n",
        "  #Dataframe sem duplicatas e com tempo maior que 0\r\n",
        "  df_without_duplicates = df_submission[df_submission[\"timeInSecounds\"] > 0].drop(['environment','hitPercentage','timeConsuming','createdAt','timeInSecounds','char_change_number'], axis=1).drop_duplicates()\r\n",
        "  #Calculando em quantos dias diferentes a lista foi submetida por aluno\r\n",
        "  df_different_days_lists = df_without_duplicates.groupby(['user','registration','list'])['dateSubmission'].count().reset_index(name='differentDaysList')\r\n",
        "  return df_different_days_lists.to_json(force_ascii=False,orient='records')"
      ],
      "execution_count": 28,
      "outputs": []
    },
    {
      "cell_type": "markdown",
      "metadata": {
        "id": "kaGpFuLmJC70"
      },
      "source": [
        "### 3.3 Testes"
      ]
    },
    {
      "cell_type": "code",
      "metadata": {
        "id": "uhAmMuJ0A_Yk"
      },
      "source": [
        "turma = ['f2dd7bef-5b5d-4cb3-9efa-aa8652af0605']\n",
        "df_submission = lop_submission(pd.DataFrame(turma, columns = ['id_class']))"
      ],
      "execution_count": null,
      "outputs": []
    },
    {
      "cell_type": "code",
      "metadata": {
        "id": "_p86uLtmw6Zn"
      },
      "source": [
        "df_question_data = question_data()"
      ],
      "execution_count": null,
      "outputs": []
    },
    {
      "cell_type": "code",
      "metadata": {
        "id": "KQfvgvO669Ur"
      },
      "source": [
        "df_performance_list = performance_list_test(df_submission, df_question_data,'list')\r\n",
        "df_performance_test = performance_list_test(df_submission, df_question_data,'test')"
      ],
      "execution_count": null,
      "outputs": []
    },
    {
      "cell_type": "code",
      "metadata": {
        "colab": {
          "base_uri": "https://localhost:8080/"
        },
        "id": "HFCLarsPIwkO",
        "outputId": "af4d09f0-ff6b-4882-9774-98217924503c"
      },
      "source": [
        "df_class.loc[df_class['id_class'] == turma[0],'studentsCount'].max()"
      ],
      "execution_count": null,
      "outputs": [
        {
          "output_type": "execute_result",
          "data": {
            "text/plain": [
              "122.0"
            ]
          },
          "metadata": {
            "tags": []
          },
          "execution_count": 23
        }
      ]
    },
    {
      "cell_type": "code",
      "metadata": {
        "id": "ZzBGGnhX8oAm"
      },
      "source": [
        "df_performance_list.head(2)"
      ],
      "execution_count": null,
      "outputs": []
    },
    {
      "cell_type": "code",
      "metadata": {
        "id": "_oymqDAw9u3q"
      },
      "source": [
        "df_performance_test.head(2)"
      ],
      "execution_count": null,
      "outputs": []
    },
    {
      "cell_type": "code",
      "metadata": {
        "colab": {
          "base_uri": "https://localhost:8080/",
          "height": 111
        },
        "id": "YfbilnAa-lhT",
        "outputId": "7c7b85c9-39ca-4305-ee20-4181994c0ce0"
      },
      "source": [
        "graph_more_less_list_class(df_performance_list,df_class,70.0,'list')"
      ],
      "execution_count": null,
      "outputs": [
        {
          "output_type": "execute_result",
          "data": {
            "text/html": [
              "<div>\n",
              "<style scoped>\n",
              "    .dataframe tbody tr th:only-of-type {\n",
              "        vertical-align: middle;\n",
              "    }\n",
              "\n",
              "    .dataframe tbody tr th {\n",
              "        vertical-align: top;\n",
              "    }\n",
              "\n",
              "    .dataframe thead th {\n",
              "        text-align: right;\n",
              "    }\n",
              "</style>\n",
              "<table border=\"1\" class=\"dataframe\">\n",
              "  <thead>\n",
              "    <tr style=\"text-align: right;\">\n",
              "      <th></th>\n",
              "      <th>list</th>\n",
              "      <th>more</th>\n",
              "      <th>less</th>\n",
              "      <th>missing</th>\n",
              "    </tr>\n",
              "  </thead>\n",
              "  <tbody>\n",
              "    <tr>\n",
              "      <th>0</th>\n",
              "      <td>(Lop) Estruturas de decisão - Múltiplas decisões</td>\n",
              "      <td>36</td>\n",
              "      <td>0.0</td>\n",
              "      <td>86.0</td>\n",
              "    </tr>\n",
              "    <tr>\n",
              "      <th>1</th>\n",
              "      <td>(Lop) Estruturas de decisão - Operadores Lógicos</td>\n",
              "      <td>33</td>\n",
              "      <td>2.0</td>\n",
              "      <td>87.0</td>\n",
              "    </tr>\n",
              "  </tbody>\n",
              "</table>\n",
              "</div>"
            ],
            "text/plain": [
              "                                               list  more  less  missing\n",
              "0  (Lop) Estruturas de decisão - Múltiplas decisões    36   0.0     86.0\n",
              "1  (Lop) Estruturas de decisão - Operadores Lógicos    33   2.0     87.0"
            ]
          },
          "metadata": {
            "tags": []
          },
          "execution_count": 22
        }
      ]
    },
    {
      "cell_type": "code",
      "metadata": {
        "id": "9YomnnEr_J4Y"
      },
      "source": [
        "graph_more_less_list_class(df_performance_test,df_class,70.0,'test')#.head(2)"
      ],
      "execution_count": null,
      "outputs": []
    },
    {
      "cell_type": "code",
      "metadata": {
        "colab": {
          "base_uri": "https://localhost:8080/",
          "height": 419
        },
        "id": "idplgZ-S_F_0",
        "outputId": "d3c3c73f-74dd-416d-ac83-ba5f24b6711b"
      },
      "source": [
        "df_performance_list"
      ],
      "execution_count": null,
      "outputs": [
        {
          "output_type": "execute_result",
          "data": {
            "text/html": [
              "<div>\n",
              "<style scoped>\n",
              "    .dataframe tbody tr th:only-of-type {\n",
              "        vertical-align: middle;\n",
              "    }\n",
              "\n",
              "    .dataframe tbody tr th {\n",
              "        vertical-align: top;\n",
              "    }\n",
              "\n",
              "    .dataframe thead th {\n",
              "        text-align: right;\n",
              "    }\n",
              "</style>\n",
              "<table border=\"1\" class=\"dataframe\">\n",
              "  <thead>\n",
              "    <tr style=\"text-align: right;\">\n",
              "      <th></th>\n",
              "      <th>user</th>\n",
              "      <th>registration</th>\n",
              "      <th>list</th>\n",
              "      <th>totalHitPercentage</th>\n",
              "      <th>totalQuestionslist</th>\n",
              "      <th>medialist</th>\n",
              "    </tr>\n",
              "  </thead>\n",
              "  <tbody>\n",
              "    <tr>\n",
              "      <th>0</th>\n",
              "      <td>ANDERSON DA SILVA VALE</td>\n",
              "      <td>20190148464</td>\n",
              "      <td>Aula - Funções Aritméticas</td>\n",
              "      <td>700.0</td>\n",
              "      <td>7</td>\n",
              "      <td>100.000000</td>\n",
              "    </tr>\n",
              "    <tr>\n",
              "      <th>1</th>\n",
              "      <td>Alex Eduardo</td>\n",
              "      <td>20190084106</td>\n",
              "      <td>Aula - Funções Aritméticas</td>\n",
              "      <td>700.0</td>\n",
              "      <td>7</td>\n",
              "      <td>100.000000</td>\n",
              "    </tr>\n",
              "    <tr>\n",
              "      <th>2</th>\n",
              "      <td>Alexandre Leonardo</td>\n",
              "      <td>20190078314</td>\n",
              "      <td>Aula - Funções Aritméticas</td>\n",
              "      <td>700.0</td>\n",
              "      <td>7</td>\n",
              "      <td>100.000000</td>\n",
              "    </tr>\n",
              "    <tr>\n",
              "      <th>3</th>\n",
              "      <td>Alysson Larry</td>\n",
              "      <td>20180105740</td>\n",
              "      <td>Aula - Funções Aritméticas</td>\n",
              "      <td>700.0</td>\n",
              "      <td>7</td>\n",
              "      <td>100.000000</td>\n",
              "    </tr>\n",
              "    <tr>\n",
              "      <th>4</th>\n",
              "      <td>Angela Mirelle</td>\n",
              "      <td>20180091493</td>\n",
              "      <td>Aula - Funções Aritméticas</td>\n",
              "      <td>700.0</td>\n",
              "      <td>7</td>\n",
              "      <td>100.000000</td>\n",
              "    </tr>\n",
              "    <tr>\n",
              "      <th>...</th>\n",
              "      <td>...</td>\n",
              "      <td>...</td>\n",
              "      <td>...</td>\n",
              "      <td>...</td>\n",
              "      <td>...</td>\n",
              "      <td>...</td>\n",
              "    </tr>\n",
              "    <tr>\n",
              "      <th>752</th>\n",
              "      <td>Matheus kaynan</td>\n",
              "      <td>20180134910</td>\n",
              "      <td>Vetores - Lista de Exercícios (LOP)</td>\n",
              "      <td>300.0</td>\n",
              "      <td>7</td>\n",
              "      <td>42.857143</td>\n",
              "    </tr>\n",
              "    <tr>\n",
              "      <th>753</th>\n",
              "      <td>Pedro</td>\n",
              "      <td>20190083646</td>\n",
              "      <td>Vetores - Lista de Exercícios (LOP)</td>\n",
              "      <td>700.0</td>\n",
              "      <td>7</td>\n",
              "      <td>100.000000</td>\n",
              "    </tr>\n",
              "    <tr>\n",
              "      <th>754</th>\n",
              "      <td>Raphael Miranda</td>\n",
              "      <td>20190156081</td>\n",
              "      <td>Vetores - Lista de Exercícios (LOP)</td>\n",
              "      <td>300.0</td>\n",
              "      <td>7</td>\n",
              "      <td>42.857143</td>\n",
              "    </tr>\n",
              "    <tr>\n",
              "      <th>755</th>\n",
              "      <td>Thaisa</td>\n",
              "      <td>20190083628</td>\n",
              "      <td>Vetores - Lista de Exercícios (LOP)</td>\n",
              "      <td>700.0</td>\n",
              "      <td>7</td>\n",
              "      <td>100.000000</td>\n",
              "    </tr>\n",
              "    <tr>\n",
              "      <th>756</th>\n",
              "      <td>antonio</td>\n",
              "      <td>20170102154</td>\n",
              "      <td>Vetores - Lista de Exercícios (LOP)</td>\n",
              "      <td>700.0</td>\n",
              "      <td>7</td>\n",
              "      <td>100.000000</td>\n",
              "    </tr>\n",
              "  </tbody>\n",
              "</table>\n",
              "<p>757 rows × 6 columns</p>\n",
              "</div>"
            ],
            "text/plain": [
              "                        user  registration  ... totalQuestionslist   medialist\n",
              "0    ANDERSON DA SILVA VALE    20190148464  ...                  7  100.000000\n",
              "1              Alex Eduardo    20190084106  ...                  7  100.000000\n",
              "2        Alexandre Leonardo    20190078314  ...                  7  100.000000\n",
              "3             Alysson Larry    20180105740  ...                  7  100.000000\n",
              "4            Angela Mirelle    20180091493  ...                  7  100.000000\n",
              "..                       ...           ...  ...                ...         ...\n",
              "752          Matheus kaynan    20180134910  ...                  7   42.857143\n",
              "753                   Pedro    20190083646  ...                  7  100.000000\n",
              "754         Raphael Miranda    20190156081  ...                  7   42.857143\n",
              "755                  Thaisa    20190083628  ...                  7  100.000000\n",
              "756                 antonio    20170102154  ...                  7  100.000000\n",
              "\n",
              "[757 rows x 6 columns]"
            ]
          },
          "metadata": {
            "tags": []
          },
          "execution_count": 73
        }
      ]
    },
    {
      "cell_type": "code",
      "metadata": {
        "colab": {
          "base_uri": "https://localhost:8080/",
          "height": 164
        },
        "id": "5S6BqVkwBjx4",
        "outputId": "817e4e4b-3ba4-40b4-b455-4567ab7af04c"
      },
      "source": [
        "graph_performance_student_list_test(df_performance_list,'list')"
      ],
      "execution_count": null,
      "outputs": [
        {
          "output_type": "error",
          "ename": "NameError",
          "evalue": "ignored",
          "traceback": [
            "\u001b[0;31m---------------------------------------------------------------------------\u001b[0m",
            "\u001b[0;31mNameError\u001b[0m                                 Traceback (most recent call last)",
            "\u001b[0;32m<ipython-input-67-d0c0b5165cd6>\u001b[0m in \u001b[0;36m<module>\u001b[0;34m()\u001b[0m\n\u001b[0;32m----> 1\u001b[0;31m \u001b[0mgraph_performance_student_list_test\u001b[0m\u001b[0;34m(\u001b[0m\u001b[0mdf_performance_list\u001b[0m\u001b[0;34m,\u001b[0m\u001b[0;34m'list'\u001b[0m\u001b[0;34m)\u001b[0m\u001b[0;34m\u001b[0m\u001b[0;34m\u001b[0m\u001b[0m\n\u001b[0m",
            "\u001b[0;31mNameError\u001b[0m: name 'graph_performance_student_list_test' is not defined"
          ]
        }
      ]
    },
    {
      "cell_type": "code",
      "metadata": {
        "id": "l0zDrfJ0B0LP"
      },
      "source": [
        "graph_performance_student_list_test(df_performance_test,'test').head(2)"
      ],
      "execution_count": null,
      "outputs": []
    },
    {
      "cell_type": "code",
      "metadata": {
        "colab": {
          "base_uri": "https://localhost:8080/",
          "height": 204
        },
        "id": "b08fSWEUHp9H",
        "outputId": "eca0c970-6ea3-4420-9e50-8efa28a1c0d3"
      },
      "source": [
        "teste.head()"
      ],
      "execution_count": null,
      "outputs": [
        {
          "output_type": "execute_result",
          "data": {
            "text/html": [
              "<div>\n",
              "<style scoped>\n",
              "    .dataframe tbody tr th:only-of-type {\n",
              "        vertical-align: middle;\n",
              "    }\n",
              "\n",
              "    .dataframe tbody tr th {\n",
              "        vertical-align: top;\n",
              "    }\n",
              "\n",
              "    .dataframe thead th {\n",
              "        text-align: right;\n",
              "    }\n",
              "</style>\n",
              "<table border=\"1\" class=\"dataframe\">\n",
              "  <thead>\n",
              "    <tr style=\"text-align: right;\">\n",
              "      <th></th>\n",
              "      <th>user</th>\n",
              "      <th>registration</th>\n",
              "      <th>list</th>\n",
              "      <th>medialist</th>\n",
              "    </tr>\n",
              "  </thead>\n",
              "  <tbody>\n",
              "    <tr>\n",
              "      <th>0</th>\n",
              "      <td>ANDERSON DA SILVA VALE</td>\n",
              "      <td>20190148464</td>\n",
              "      <td>Aula - Funções Aritméticas</td>\n",
              "      <td>100.000000</td>\n",
              "    </tr>\n",
              "    <tr>\n",
              "      <th>174</th>\n",
              "      <td>ANDERSON DA SILVA VALE</td>\n",
              "      <td>20190148464</td>\n",
              "      <td>Laboratório 01 - Expressões Aritméticas</td>\n",
              "      <td>100.000000</td>\n",
              "    </tr>\n",
              "    <tr>\n",
              "      <th>274</th>\n",
              "      <td>ANDERSON DA SILVA VALE</td>\n",
              "      <td>20190148464</td>\n",
              "      <td>Treinamento - Expressões Aritméticas</td>\n",
              "      <td>85.714286</td>\n",
              "    </tr>\n",
              "    <tr>\n",
              "      <th>79</th>\n",
              "      <td>ANDERSON DA SILVA VALE</td>\n",
              "      <td>20190148464</td>\n",
              "      <td>Aula - Introdução Expressões Aritiméticas</td>\n",
              "      <td>100.000000</td>\n",
              "    </tr>\n",
              "    <tr>\n",
              "      <th>175</th>\n",
              "      <td>Alana de Souza Maciel</td>\n",
              "      <td>20180110089</td>\n",
              "      <td>Laboratório 01 - Expressões Aritméticas</td>\n",
              "      <td>100.000000</td>\n",
              "    </tr>\n",
              "  </tbody>\n",
              "</table>\n",
              "</div>"
            ],
            "text/plain": [
              "                        user  ...   medialist\n",
              "0    ANDERSON DA SILVA VALE   ...  100.000000\n",
              "174  ANDERSON DA SILVA VALE   ...  100.000000\n",
              "274  ANDERSON DA SILVA VALE   ...   85.714286\n",
              "79   ANDERSON DA SILVA VALE   ...  100.000000\n",
              "175   Alana de Souza Maciel   ...  100.000000\n",
              "\n",
              "[5 rows x 4 columns]"
            ]
          },
          "metadata": {
            "tags": []
          },
          "execution_count": 25
        }
      ]
    },
    {
      "cell_type": "code",
      "metadata": {
        "colab": {
          "base_uri": "https://localhost:8080/",
          "height": 419
        },
        "id": "0piHLOQcHrsC",
        "outputId": "85b95407-43f1-43d8-aa68-568dd4a5bf73"
      },
      "source": [
        "teste.groupby(['user','registration'])['medialist'].sum().reset_index()"
      ],
      "execution_count": null,
      "outputs": [
        {
          "output_type": "execute_result",
          "data": {
            "text/html": [
              "<div>\n",
              "<style scoped>\n",
              "    .dataframe tbody tr th:only-of-type {\n",
              "        vertical-align: middle;\n",
              "    }\n",
              "\n",
              "    .dataframe tbody tr th {\n",
              "        vertical-align: top;\n",
              "    }\n",
              "\n",
              "    .dataframe thead th {\n",
              "        text-align: right;\n",
              "    }\n",
              "</style>\n",
              "<table border=\"1\" class=\"dataframe\">\n",
              "  <thead>\n",
              "    <tr style=\"text-align: right;\">\n",
              "      <th></th>\n",
              "      <th>user</th>\n",
              "      <th>registration</th>\n",
              "      <th>medialist</th>\n",
              "    </tr>\n",
              "  </thead>\n",
              "  <tbody>\n",
              "    <tr>\n",
              "      <th>0</th>\n",
              "      <td>ANDERSON DA SILVA VALE</td>\n",
              "      <td>20190148464</td>\n",
              "      <td>385.714286</td>\n",
              "    </tr>\n",
              "    <tr>\n",
              "      <th>1</th>\n",
              "      <td>Alana de Souza Maciel</td>\n",
              "      <td>20180110089</td>\n",
              "      <td>180.000000</td>\n",
              "    </tr>\n",
              "    <tr>\n",
              "      <th>2</th>\n",
              "      <td>Alberto</td>\n",
              "      <td>20190083566</td>\n",
              "      <td>110.000000</td>\n",
              "    </tr>\n",
              "    <tr>\n",
              "      <th>3</th>\n",
              "      <td>Alex Eduardo</td>\n",
              "      <td>20190084106</td>\n",
              "      <td>1700.000000</td>\n",
              "    </tr>\n",
              "    <tr>\n",
              "      <th>4</th>\n",
              "      <td>Alexandre Leonardo</td>\n",
              "      <td>20190078314</td>\n",
              "      <td>365.079365</td>\n",
              "    </tr>\n",
              "    <tr>\n",
              "      <th>...</th>\n",
              "      <td>...</td>\n",
              "      <td>...</td>\n",
              "      <td>...</td>\n",
              "    </tr>\n",
              "    <tr>\n",
              "      <th>102</th>\n",
              "      <td>hellen ribeiro</td>\n",
              "      <td>20180156865</td>\n",
              "      <td>100.000000</td>\n",
              "    </tr>\n",
              "    <tr>\n",
              "      <th>103</th>\n",
              "      <td>jonathan</td>\n",
              "      <td>20190147458</td>\n",
              "      <td>892.381786</td>\n",
              "    </tr>\n",
              "    <tr>\n",
              "      <th>104</th>\n",
              "      <td>mateus</td>\n",
              "      <td>20190133265</td>\n",
              "      <td>242.857143</td>\n",
              "    </tr>\n",
              "    <tr>\n",
              "      <th>105</th>\n",
              "      <td>nicolle</td>\n",
              "      <td>20170133277</td>\n",
              "      <td>488.888889</td>\n",
              "    </tr>\n",
              "    <tr>\n",
              "      <th>106</th>\n",
              "      <td>Állan</td>\n",
              "      <td>20180135857</td>\n",
              "      <td>400.000000</td>\n",
              "    </tr>\n",
              "  </tbody>\n",
              "</table>\n",
              "<p>107 rows × 3 columns</p>\n",
              "</div>"
            ],
            "text/plain": [
              "                        user  registration    medialist\n",
              "0    ANDERSON DA SILVA VALE    20190148464   385.714286\n",
              "1     Alana de Souza Maciel    20180110089   180.000000\n",
              "2                   Alberto    20190083566   110.000000\n",
              "3              Alex Eduardo    20190084106  1700.000000\n",
              "4        Alexandre Leonardo    20190078314   365.079365\n",
              "..                       ...           ...          ...\n",
              "102          hellen ribeiro    20180156865   100.000000\n",
              "103                jonathan    20190147458   892.381786\n",
              "104                  mateus    20190133265   242.857143\n",
              "105                 nicolle    20170133277   488.888889\n",
              "106                   Állan    20180135857   400.000000\n",
              "\n",
              "[107 rows x 3 columns]"
            ]
          },
          "metadata": {
            "tags": []
          },
          "execution_count": 29
        }
      ]
    },
    {
      "cell_type": "code",
      "metadata": {
        "id": "T3r8QSKlIaN_"
      },
      "source": [
        "df_performance_list.to_csv('performance_list.csv',index=0)"
      ],
      "execution_count": null,
      "outputs": []
    },
    {
      "cell_type": "code",
      "metadata": {
        "id": "z-c027W5B8Kz"
      },
      "source": [
        "teste = graph_performance_student_list_test(df_performance_list,'list')\r\n",
        "graph_performance_student_list_test(df_performance_test,'test')"
      ],
      "execution_count": null,
      "outputs": []
    },
    {
      "cell_type": "code",
      "metadata": {
        "colab": {
          "base_uri": "https://localhost:8080/"
        },
        "id": "yhyqWE_Xx4EF",
        "outputId": "621e385d-ac7c-4edd-d126-33ebf5d03f18"
      },
      "source": [
        "len(df_subs['registration'].unique())"
      ],
      "execution_count": null,
      "outputs": [
        {
          "output_type": "execute_result",
          "data": {
            "text/plain": [
              "107"
            ]
          },
          "metadata": {
            "tags": []
          },
          "execution_count": 46
        }
      ]
    },
    {
      "cell_type": "markdown",
      "metadata": {
        "id": "3BUSGqrsC9BC"
      },
      "source": [
        "**Por hora descondirem essa função**"
      ]
    },
    {
      "cell_type": "code",
      "metadata": {
        "id": "3gXGYd0w_GRp"
      },
      "source": [
        "'''\n",
        "def avaliar_modelos(df, hyperparameters):\n",
        "\n",
        "  #Dicionários\n",
        "  model_param_disciplinas = {}\n",
        "  best_acc_disciplinas = {}\n",
        "  scoring_disciplinas = {}\n",
        "  #feature_importances_disciplinas = {}\n",
        "\n",
        "  #Seleciona o codigo de cada disciplina no dataframe, --alteravel--\n",
        "  lista_disciplinas = df[\"disciplina\"].unique()  \n",
        "\n",
        "  #Verifica se esta vazio\n",
        "  if lista_disciplinas is None:\n",
        "\t  return None\n",
        "\n",
        "  #Convertendo categorias do target de string para numerico (0,1)\n",
        "  df[\"situacao_categoria\"] = pd.Categorical(df[\"situacao\"]).codes\n",
        "\n",
        "  #Pipeline para transformar em categoria e verificar melhores parametros\n",
        "  pipeline_transform = Pipeline(steps = [('num_pipeline', NumericalTransformer()),\n",
        "                                         ('fs',SelectKBest(chi2)),\n",
        "                                         ('sc',StandardScaler()),\n",
        "                                         ('clf',XGBClassifier())\n",
        "                               ])\n",
        "\n",
        "  #Grid para testar todos os parâmetros                               \n",
        "  grid_search = GridSearchCV(\n",
        "                          estimator = pipeline_transform, \n",
        "                          param_grid = hyperparameters,\n",
        "                          cv= 5,\n",
        "                          scoring = {'Accuracy': make_scorer(accuracy_score)},\n",
        "                          #scoring = {\"AUC\": \"roc_auc\", \"Accuracy\": make_scorer(accuracy_score), \"F1\":\"f1\", \"Recall\":\"recall\", \"Precision\":\"precision\"},\n",
        "                          return_train_score=True,\n",
        "                          n_jobs=-1,#indica o numero de processos em paralelo, -1 significa usar todos\n",
        "                          refit='Accuracy')\n",
        "\n",
        "\n",
        "  #itera sobre a lista de disciplinas\n",
        "  for disciplina in lista_disciplinas:\n",
        "    data_iter = df.loc[df[\"disciplina\"].str.contains(disciplina),:]\n",
        "    \n",
        "    #Treinando Grid\n",
        "    best_model = grid_search.fit(data_iter.drop(columns = [\"disciplina\",\"situacao_categoria\"]), data_iter[\"situacao_categoria\"])\n",
        " \n",
        "    #Extraindo informações do treino\n",
        "    param_modelo = best_model.best_params_\n",
        "    model_param_disciplinas[disciplina] = param_modelo['clf']\n",
        "    best_acc_disciplinas[disciplina] = best_model.best_score_\n",
        "\n",
        "    #Resultado de metricas\n",
        "    result = pd.DataFrame(best_model.cv_results_)\n",
        "    result = result[['mean_train_Accuracy', 'std_train_Accuracy','mean_test_Accuracy', 'std_test_Accuracy','rank_test_Accuracy']].copy()\n",
        "    result[\"std_ratio\"] = result.std_test_Accuracy/result.std_train_Accuracy\n",
        "    result = result.sort_values(by=\"rank_test_Accuracy\",ascending=True)    \n",
        "    scoring_disciplinas[disciplina] = result.iloc[0,:]\n",
        "\n",
        "    #Características mais importantes\n",
        "    #feature_importances_disciplinas[disciplina] = grid.best_estimator_.feature_importances_\n",
        "    \n",
        "    #Salvando modelo\n",
        "    joblib.dump(best_model, 'modelo_' + disciplina + '.pkl')\n",
        "\n",
        "\n",
        "  #Transformando o dicionário para Dataframe\n",
        "  df_best_acc = pd.DataFrame.from_dict(best_acc_disciplinas, orient=\"index\")\n",
        "  df_best_acc.columns = [\"accuracy\"]\n",
        "  df_scor_disc = pd.DataFrame.from_dict(scoring_disciplinas, orient=\"index\")\n",
        "\n",
        "  #Concatenando DataFrames\n",
        "  df_relatorio = pd.concat([df_best_acc, df_scor_disc], axis=1, sort=False)\n",
        "\n",
        "  return (df_relatorio,model_param_disciplinas)\n",
        "\n",
        "'''"
      ],
      "execution_count": null,
      "outputs": []
    },
    {
      "cell_type": "markdown",
      "metadata": {
        "id": "dD1-lyVuizPA"
      },
      "source": [
        "##4. Leitura da Base\n",
        "<a id='leiturabase'></a>"
      ]
    },
    {
      "cell_type": "markdown",
      "metadata": {
        "id": "mVMECL1jJAxf"
      },
      "source": [
        "### Foi projetado para ter 4 tipos de consultas\n",
        "\n",
        "* A primeira é para receber dados dos professores que estão resgistrados no sistema\n",
        "\n",
        "* A segunda é para receber dados das turmas que estão registradas no sistema\n",
        "\n",
        "* A terceira é para receber dados das submissões que estão registradas no sistema\n",
        "\n",
        "* A quarta é para receber dados das questões que estão registradas no sistema\n",
        "\n",
        "As consultas vão ser tornando acumulativas, com a segunda dependendo de dados da primeira, e a terceira dependendo de dados da primeira e segunda para o preenchimento da url de consulta. Todas as consultas dependem da key de acesso\n",
        "\n",
        "Na consulta da class possui as depedências de: \n",
        "1. id_teacher, que é o id de um professor\n",
        "2. year, que é o ano da turma \n",
        "3. semester, que é o semestre (1 ou 2) da turma\n",
        "\n",
        "E na consulta de submission necessita do:\n",
        "1. id_class, que é o id de uma turma.\n",
        "\n",
        "Já a consulta de question e do teacher necessita apenas da key\n",
        "\n",
        "As consultas serão feitas via protocolo HTTP usando o método Get e irão receber um JSON dos dados do LoP\n"
      ]
    },
    {
      "cell_type": "markdown",
      "metadata": {
        "id": "X2rVvODlKxFz"
      },
      "source": [
        "### Estrutra das funções e suas dependências\n",
        "\n",
        "Funções de coleta e transformações de dados \n",
        "\n",
        "- lop_class(), lop_question()\n",
        "--- lop_submission()\n",
        "------ question_data()\n",
        "--------- performance_list()\n",
        "------------ graph_more_less_70_list_class()\n",
        "------------ graph_distribution_notes_list()\n",
        "\n",
        "Funções de treinamento de modelos de Machine Learning"
      ]
    },
    {
      "cell_type": "markdown",
      "metadata": {
        "id": "gLS4lxbbQwTo"
      },
      "source": [
        "Leitura de endpoints e key"
      ]
    },
    {
      "cell_type": "code",
      "metadata": {
        "id": "syfUfm4xQz82"
      },
      "source": [
        "key = read_txt('key.txt')\n",
        "endpoint_teacher = read_txt('endpoint_teacher.txt')\n",
        "endpoint_class = read_txt('endpoint_class.txt')\n",
        "endpoint_submission = read_txt('endpoint_submission.txt')\n",
        "endpoint_question = read_txt('endpoint_question.txt')\n",
        "endpoint_lists = read_txt('endpoint_lists.txt')"
      ],
      "execution_count": null,
      "outputs": []
    },
    {
      "cell_type": "markdown",
      "metadata": {
        "id": "v8EDgPstkv9e"
      },
      "source": [
        "Consultando submissões a partir de uma lista de turmas\n",
        "\n",
        "Vou pegar uma turma aleatoria afim de montar uma consulta"
      ]
    },
    {
      "cell_type": "code",
      "metadata": {
        "id": "mCJzm_YXlwJo"
      },
      "source": [
        "turma = ['f2dd7bef-5b5d-4cb3-9efa-aa8652af0605']"
      ],
      "execution_count": null,
      "outputs": []
    },
    {
      "cell_type": "markdown",
      "metadata": {
        "id": "GBVlqgzZmWN1"
      },
      "source": [
        "Necessita passar como DataFrame, então eu vou construir nesse formato exibido abaixo"
      ]
    },
    {
      "cell_type": "code",
      "metadata": {
        "colab": {
          "base_uri": "https://localhost:8080/",
          "height": 35
        },
        "id": "rEUmG7bRl-jn",
        "outputId": "c12a5992-80b6-4ce5-ed1e-aa79f746a40a"
      },
      "source": [
        "pd.DataFrame(['b5413cd7-4f61-4241-aad8-23740bab604f'], columns = ['id_class']).to_json(orient='records')"
      ],
      "execution_count": null,
      "outputs": [
        {
          "output_type": "execute_result",
          "data": {
            "application/vnd.google.colaboratory.intrinsic+json": {
              "type": "string"
            },
            "text/plain": [
              "'[{\"id_class\":\"b5413cd7-4f61-4241-aad8-23740bab604f\"}]'"
            ]
          },
          "metadata": {
            "tags": []
          },
          "execution_count": 20
        }
      ]
    },
    {
      "cell_type": "markdown",
      "metadata": {
        "id": "SuA_GGParVFn"
      },
      "source": [
        "**A partir daqui ainda vai sofrer alterações**"
      ]
    },
    {
      "cell_type": "markdown",
      "metadata": {
        "id": "Hra4Ho4IC0Xu"
      },
      "source": [
        "#Parte III - Desenvolvimento\n",
        "<a id='enten_dados'></a>\n"
      ]
    },
    {
      "cell_type": "markdown",
      "metadata": {
        "id": "-n4co8p2EeaU"
      },
      "source": [
        "## 1. Entendimento de Dados\n",
        "<a id='enten_dados'></a>\n",
        "\n",
        "### [1.1 Descrição de Dados](#descricao)\n",
        "### [1.2 Qualidade de Dados](#qualidade)\n",
        "### [1.3 Exploração de Dados](#exploracao)"
      ]
    },
    {
      "cell_type": "markdown",
      "metadata": {
        "id": "HEVg1VCYEhUd"
      },
      "source": [
        "###1.1 Descrição de Dados\n",
        "<a id='descricao'></a>\n"
      ]
    },
    {
      "cell_type": "markdown",
      "metadata": {
        "id": "L1HZgOL4pQfu"
      },
      "source": [
        "#### <center>Dataframe Submissões\n",
        "| **Semestre** | **Número de atributos (colunas)** | **Número de Registros (linhas)** |\n",
        "| --- | --- | --- |\n",
        "| 2020.5 | xxxx | yyy |\n",
        "| 2020.6 | yyyy | xxx |\n",
        "\n",
        "#### <center>Dataframe Resultados em LOP\n",
        "| **Semestre** | **Número de atributos (colunas)** | **Número de Registros (linhas)** |\n",
        "| --- | --- | --- |\n",
        "| 2020.5 | xxxx | yyyyy |\n",
        "\n",
        "\n",
        "---\n",
        "\n",
        "####Descrição do datafrane dos professores - Consulta embutida em lop_class()\n",
        "\n",
        "<b>1. id_teacher</b> ID do professor no LoP\n",
        "\n",
        "<b>2. email</b> Email do professor\n",
        "\n",
        "<b>3. name_teacher</b> Nome do professor\n",
        "\n",
        "--- \n",
        "\n",
        "####Descrição do dataframe das turmas - lop_class()\n",
        "\n",
        "<b>1. id_teacher</b> ID do professor no LoP\n",
        "\n",
        "<b>2. id_class</b> ID da turma\n",
        "\n",
        "<b>3. name_class</b> Nome da turma\n",
        "\n",
        "<b>4. code</b> Código de acesso a turma no LoP\n",
        "\n",
        "<b>5. year</b> Ano em que a turma foi cadastrada\n",
        "\n",
        "<b>6. semester</b> Semestre em que a turma foi cadastrada\n",
        "\n",
        "---\n",
        "####Descrição dos dataframe de Submissão - lop_submission()\n",
        "\n",
        "\n",
        "<b>1. environment</b> Tipo de máquina\n",
        "\n",
        "<b>2. hitPercentage</b> Porcentagem de acerto na questão\n",
        "\n",
        "<b>3. language</b> Linguagem de programação usada\n",
        "\n",
        "<b>4. char_change_number</b> Número de caracteres alterados\n",
        "\n",
        "<b>5. timeConsuming</b> Tempo que passou na questão\n",
        "\n",
        "<b>6. createdAt</b> Data e hora da submissão\n",
        "\n",
        "<b>7. user</b> Nome do aluno\n",
        "\n",
        "<b>8. question</b> Nome da questão\n",
        "\n",
        "<b>9. list</b> Nome da lista\n",
        "\n",
        "<b>10. test</b> Nome da prova\n",
        "\n",
        "<b>11. id_class</b> ID da turma em que o aluno está associado nessa submissão\n",
        "\n",
        "<b>12. registration</b> Matrícula do aluno\n",
        "\n",
        "---\n",
        "\n",
        "####Descrição do dataframe das questões do LoP - lop_question()\n",
        "\n",
        "\n",
        "<b>1. id_questao</b> ID da questão\n",
        "\n",
        "<b>2. question</b> Nome da questão\n",
        "\n",
        "<b>3. difficulty </b> Nível de dificuldade da questão (1-5)\n",
        "\n",
        "<b>4. tags </b> Esse campo vem com um json que contem os assuntos em que essa questão está associada\n",
        "\n",
        "<b>5. lists </b> Esse campo vem com um json que contem as listas que a questão está associada \n",
        "\n",
        "<b>6. tests</b> Esse campo vem com um json que contem as provas que a questão está associada \n",
        "\n",
        "---\n",
        "\n",
        "####Descrição do dataframe de dados das questões - question_data()\n",
        "\n",
        "\n",
        "<b>1. id_list</b> ID da lista\n",
        "\n",
        "<b>2. list</b> Nome da lista\n",
        "\n",
        "<b>3. question </b> Nome da questão\n",
        "\n",
        "<b>4. difficulty </b> Nível de dificuldade da questão (0-5)\n",
        "\n",
        "<b>5. tags </b> Em cada coluna com nome tag, terá um conteúdo associado a ela\n",
        "\n",
        "<b>6. id_test</b> ID da prova\n",
        "\n",
        "<b>7. test</b> Nome da prova\n",
        "\t\n",
        "---\n",
        "\n",
        "\n",
        "####Descrição do dataframe de performance por lista - performance_list_test()\n",
        "\n",
        "\n",
        "<b>1. user</b> Nome do aluno\n",
        "\n",
        "<b>2. registration</b> Matrícula do aluno\n",
        "\n",
        "<b>3. list/test</b> Nome da lista/prova\n",
        "\n",
        "<b>4. totalHitPercentage </b> Soma de todos acertos de questões únicas\n",
        "\n",
        "<b>5. totalQuestionslist/test </b> Número de questões por lista/prova\n",
        "\n",
        "<b>6. medialist/test</b> Esse campo vem com um json que contem as provas que a questão está associada \n",
        "\n",
        "---"
      ]
    },
    {
      "cell_type": "markdown",
      "metadata": {
        "id": "Mkk0NKmUpeX8"
      },
      "source": [
        "#### Nomeclaturas e especificações dos gráficos \n",
        "\n",
        "<b>1. GTNL </b> Grafico de Turma Nota Lista\n",
        "\n",
        "<b>1. GTNP </b> Grafico de Turma Nota Prova\n",
        "\n",
        "<b>1. GTAL </b> Grafico de Turma Assunto Lista\n",
        "\n",
        "<b>1. GTAP </b> Grafico de Turma Assunto Prova\n",
        "\n",
        "<b>1. GTDL </b> Grafico de Turma Dificuldade Lista\n",
        "\n",
        "<b>1. GTDP </b> Grafico de Turma Dificuldade Prova\n",
        "\n",
        "<b>2. GENL </b> Grafico de Estudante Nota Lista\n",
        "\n",
        "<b>2. GENP </b> Grafico de Estudante Nota Prova\n",
        "\n",
        "<b>2. GEAL </b> Grafico de Estudante Assunto Lista\n",
        "\n",
        "<b>2. GEAP </b> Grafico de Estudante Assunto Prova\n",
        "\n",
        "<b>2. GEDL </b> Grafico de Estudante Dificuldade Lista\n",
        "\n",
        "<b>2. GEDP </b> Grafico de Estudante Dificuldade Prova\n",
        "\n",
        "<b>3. GTDGL </b> Grafíco de Turma Dias Gastos por Lista"
      ]
    },
    {
      "cell_type": "markdown",
      "metadata": {
        "id": "WUBAPloS58yP"
      },
      "source": [
        "###1.2 Qualidade dos dados\n",
        "<a id='qualidade'></a>"
      ]
    },
    {
      "cell_type": "code",
      "metadata": {
        "id": "yXMGrCW2t9ys"
      },
      "source": [
        "profile = ProfileReport(df, title='Pandas Profiling Report', html={'style':{'full_width':True}})"
      ],
      "execution_count": null,
      "outputs": []
    },
    {
      "cell_type": "code",
      "metadata": {
        "id": "ZlpXzVJfPKL-"
      },
      "source": [
        "df.select_dtypes(include=['int64','float64']).describe()"
      ],
      "execution_count": null,
      "outputs": []
    },
    {
      "cell_type": "markdown",
      "metadata": {
        "id": "CVjvZp435e2C"
      },
      "source": [
        "Plotando correlação entre os dados númericos"
      ]
    },
    {
      "cell_type": "code",
      "metadata": {
        "id": "-cnuyvSq5j_-"
      },
      "source": [
        "corr = df.corr()\n",
        "corr = corr.style.background_gradient(cmap='Blues')\n",
        "corr"
      ],
      "execution_count": null,
      "outputs": []
    },
    {
      "cell_type": "markdown",
      "metadata": {
        "id": "23glKTxPo98x"
      },
      "source": [
        "Falar um pouco da correlação"
      ]
    },
    {
      "cell_type": "markdown",
      "metadata": {
        "id": "TjeHFDBfwV5w"
      },
      "source": [
        "###1.3 Exploração de Dados\n",
        "<a id='exploracao'></a>"
      ]
    },
    {
      "cell_type": "code",
      "metadata": {
        "id": "LZNTHruizS66"
      },
      "source": [
        "import plotly.express as px"
      ],
      "execution_count": null,
      "outputs": []
    },
    {
      "cell_type": "markdown",
      "metadata": {
        "id": "50I9PzUabPOu"
      },
      "source": [
        "Existe turmas apenas a partir de 2020"
      ]
    },
    {
      "cell_type": "code",
      "metadata": {
        "colab": {
          "base_uri": "https://localhost:8080/"
        },
        "id": "QvabT5nQbNUC",
        "outputId": "e05dfc42-3ca4-45fe-f7ec-0fcf5d5a5468"
      },
      "source": [
        "df_class['year'].unique()"
      ],
      "execution_count": null,
      "outputs": [
        {
          "output_type": "execute_result",
          "data": {
            "text/plain": [
              "array([2020., 2021.])"
            ]
          },
          "metadata": {
            "tags": []
          },
          "execution_count": 24
        }
      ]
    },
    {
      "cell_type": "code",
      "metadata": {
        "colab": {
          "base_uri": "https://localhost:8080/",
          "height": 204
        },
        "id": "EzgJ2UcFYoad",
        "outputId": "41def953-06e1-4198-c89f-0047e7177bcb"
      },
      "source": [
        "df_submission.head()"
      ],
      "execution_count": null,
      "outputs": [
        {
          "output_type": "execute_result",
          "data": {
            "text/html": [
              "<div>\n",
              "<style scoped>\n",
              "    .dataframe tbody tr th:only-of-type {\n",
              "        vertical-align: middle;\n",
              "    }\n",
              "\n",
              "    .dataframe tbody tr th {\n",
              "        vertical-align: top;\n",
              "    }\n",
              "\n",
              "    .dataframe thead th {\n",
              "        text-align: right;\n",
              "    }\n",
              "</style>\n",
              "<table border=\"1\" class=\"dataframe\">\n",
              "  <thead>\n",
              "    <tr style=\"text-align: right;\">\n",
              "      <th></th>\n",
              "      <th>environment</th>\n",
              "      <th>hitPercentage</th>\n",
              "      <th>language</th>\n",
              "      <th>char_change_number</th>\n",
              "      <th>timeConsuming</th>\n",
              "      <th>createdAt</th>\n",
              "      <th>user</th>\n",
              "      <th>question</th>\n",
              "      <th>list</th>\n",
              "      <th>test</th>\n",
              "      <th>id_class</th>\n",
              "      <th>registration</th>\n",
              "    </tr>\n",
              "  </thead>\n",
              "  <tbody>\n",
              "    <tr>\n",
              "      <th>0</th>\n",
              "      <td>desktop</td>\n",
              "      <td>0.0</td>\n",
              "      <td>c</td>\n",
              "      <td>207</td>\n",
              "      <td>66156</td>\n",
              "      <td>2020-12-21T17:56:01.000Z</td>\n",
              "      <td>Arthur Learth</td>\n",
              "      <td>CRUD - Com alocação dinâmica - Rep</td>\n",
              "      <td>None</td>\n",
              "      <td>ITP 2020.6 - T02 - Reposicao</td>\n",
              "      <td>b5413cd7-4f61-4241-aad8-23740bab604f</td>\n",
              "      <td>20180071294</td>\n",
              "    </tr>\n",
              "    <tr>\n",
              "      <th>1</th>\n",
              "      <td>desktop</td>\n",
              "      <td>0.0</td>\n",
              "      <td>c</td>\n",
              "      <td>207</td>\n",
              "      <td>108142</td>\n",
              "      <td>2020-12-21T17:55:34.000Z</td>\n",
              "      <td>Arthur Learth</td>\n",
              "      <td>CRUD - Com alocação dinâmica - Rep</td>\n",
              "      <td>None</td>\n",
              "      <td>ITP 2020.6 - T02 - Reposicao</td>\n",
              "      <td>b5413cd7-4f61-4241-aad8-23740bab604f</td>\n",
              "      <td>20180071294</td>\n",
              "    </tr>\n",
              "    <tr>\n",
              "      <th>2</th>\n",
              "      <td>desktop</td>\n",
              "      <td>0.0</td>\n",
              "      <td>c</td>\n",
              "      <td>207</td>\n",
              "      <td>90613</td>\n",
              "      <td>2020-12-21T17:54:25.000Z</td>\n",
              "      <td>Arthur Learth</td>\n",
              "      <td>CRUD - Com alocação dinâmica - Rep</td>\n",
              "      <td>None</td>\n",
              "      <td>ITP 2020.6 - T02 - Reposicao</td>\n",
              "      <td>b5413cd7-4f61-4241-aad8-23740bab604f</td>\n",
              "      <td>20180071294</td>\n",
              "    </tr>\n",
              "    <tr>\n",
              "      <th>3</th>\n",
              "      <td>desktop</td>\n",
              "      <td>0.0</td>\n",
              "      <td>c</td>\n",
              "      <td>193</td>\n",
              "      <td>53018</td>\n",
              "      <td>2020-12-21T17:53:34.000Z</td>\n",
              "      <td>Arthur Learth</td>\n",
              "      <td>CRUD - Com alocação dinâmica - Rep</td>\n",
              "      <td>None</td>\n",
              "      <td>ITP 2020.6 - T02 - Reposicao</td>\n",
              "      <td>b5413cd7-4f61-4241-aad8-23740bab604f</td>\n",
              "      <td>20180071294</td>\n",
              "    </tr>\n",
              "    <tr>\n",
              "      <th>4</th>\n",
              "      <td>desktop</td>\n",
              "      <td>0.0</td>\n",
              "      <td>c</td>\n",
              "      <td>188</td>\n",
              "      <td>116304</td>\n",
              "      <td>2020-12-21T17:53:21.000Z</td>\n",
              "      <td>Arthur Learth</td>\n",
              "      <td>CRUD - Com alocação dinâmica - Rep</td>\n",
              "      <td>None</td>\n",
              "      <td>ITP 2020.6 - T02 - Reposicao</td>\n",
              "      <td>b5413cd7-4f61-4241-aad8-23740bab604f</td>\n",
              "      <td>20180071294</td>\n",
              "    </tr>\n",
              "  </tbody>\n",
              "</table>\n",
              "</div>"
            ],
            "text/plain": [
              "  environment  ...  registration\n",
              "0     desktop  ...   20180071294\n",
              "1     desktop  ...   20180071294\n",
              "2     desktop  ...   20180071294\n",
              "3     desktop  ...   20180071294\n",
              "4     desktop  ...   20180071294\n",
              "\n",
              "[5 rows x 12 columns]"
            ]
          },
          "metadata": {
            "tags": []
          },
          "execution_count": 25
        }
      ]
    },
    {
      "cell_type": "markdown",
      "metadata": {
        "id": "wZXj58HTB_zU"
      },
      "source": [
        "Criando o campo de tempo em segundos, já que vem em ms"
      ]
    },
    {
      "cell_type": "code",
      "metadata": {
        "id": "IB_pvmyp0cMX"
      },
      "source": [
        "df_submission['timeInSecounds'] = df_submission['timeConsuming'].divide(1000).astype(int)"
      ],
      "execution_count": null,
      "outputs": []
    },
    {
      "cell_type": "markdown",
      "metadata": {
        "id": "cZhq9bfdCDyV"
      },
      "source": [
        "Concentração das submissões estão entre até 198 segundos. Tempo negativo?"
      ]
    },
    {
      "cell_type": "code",
      "metadata": {
        "colab": {
          "base_uri": "https://localhost:8080/",
          "height": 289
        },
        "id": "dxo-eXPPBgC1",
        "outputId": "4527f873-5d6d-4747-c439-6132b46552d3"
      },
      "source": [
        "df_submission.sort_values(by='timeConsuming').head()"
      ],
      "execution_count": null,
      "outputs": [
        {
          "output_type": "execute_result",
          "data": {
            "text/html": [
              "<div>\n",
              "<style scoped>\n",
              "    .dataframe tbody tr th:only-of-type {\n",
              "        vertical-align: middle;\n",
              "    }\n",
              "\n",
              "    .dataframe tbody tr th {\n",
              "        vertical-align: top;\n",
              "    }\n",
              "\n",
              "    .dataframe thead th {\n",
              "        text-align: right;\n",
              "    }\n",
              "</style>\n",
              "<table border=\"1\" class=\"dataframe\">\n",
              "  <thead>\n",
              "    <tr style=\"text-align: right;\">\n",
              "      <th></th>\n",
              "      <th>environment</th>\n",
              "      <th>hitPercentage</th>\n",
              "      <th>language</th>\n",
              "      <th>char_change_number</th>\n",
              "      <th>timeConsuming</th>\n",
              "      <th>createdAt</th>\n",
              "      <th>user</th>\n",
              "      <th>question</th>\n",
              "      <th>list</th>\n",
              "      <th>test</th>\n",
              "      <th>id_class</th>\n",
              "      <th>registration</th>\n",
              "      <th>timeInSecounds</th>\n",
              "    </tr>\n",
              "  </thead>\n",
              "  <tbody>\n",
              "    <tr>\n",
              "      <th>9820</th>\n",
              "      <td>desktop</td>\n",
              "      <td>0.0</td>\n",
              "      <td>c</td>\n",
              "      <td>3</td>\n",
              "      <td>-264577</td>\n",
              "      <td>2020-10-04T22:32:37.000Z</td>\n",
              "      <td>Vítor Dantas Costa</td>\n",
              "      <td>Contador de substrings</td>\n",
              "      <td>None</td>\n",
              "      <td>ITP - Strings - Prova</td>\n",
              "      <td>b5413cd7-4f61-4241-aad8-23740bab604f</td>\n",
              "      <td>20190146700</td>\n",
              "      <td>-264</td>\n",
              "    </tr>\n",
              "    <tr>\n",
              "      <th>12541</th>\n",
              "      <td>desktop</td>\n",
              "      <td>100.0</td>\n",
              "      <td>c</td>\n",
              "      <td>1</td>\n",
              "      <td>279</td>\n",
              "      <td>2020-09-23T03:17:13.000Z</td>\n",
              "      <td>Samuel Souza</td>\n",
              "      <td>População de coelhos</td>\n",
              "      <td>None</td>\n",
              "      <td>ITP - Vetores - Prova</td>\n",
              "      <td>b5413cd7-4f61-4241-aad8-23740bab604f</td>\n",
              "      <td>20200046160</td>\n",
              "      <td>0</td>\n",
              "    </tr>\n",
              "    <tr>\n",
              "      <th>12536</th>\n",
              "      <td>desktop</td>\n",
              "      <td>100.0</td>\n",
              "      <td>c</td>\n",
              "      <td>1</td>\n",
              "      <td>335</td>\n",
              "      <td>2020-09-23T03:17:21.000Z</td>\n",
              "      <td>Samuel Souza</td>\n",
              "      <td>População de coelhos</td>\n",
              "      <td>None</td>\n",
              "      <td>ITP - Vetores - Prova</td>\n",
              "      <td>b5413cd7-4f61-4241-aad8-23740bab604f</td>\n",
              "      <td>20200046160</td>\n",
              "      <td>0</td>\n",
              "    </tr>\n",
              "    <tr>\n",
              "      <th>13564</th>\n",
              "      <td>desktop</td>\n",
              "      <td>20.0</td>\n",
              "      <td>c</td>\n",
              "      <td>491</td>\n",
              "      <td>368</td>\n",
              "      <td>2020-09-18T01:30:08.000Z</td>\n",
              "      <td>GABRIEL FERNANDES LAURINDO</td>\n",
              "      <td>Crescente, decrescente ou nenhum dos dois</td>\n",
              "      <td>None</td>\n",
              "      <td>ITP - Laços - Prova</td>\n",
              "      <td>b5413cd7-4f61-4241-aad8-23740bab604f</td>\n",
              "      <td>20190126761</td>\n",
              "      <td>0</td>\n",
              "    </tr>\n",
              "    <tr>\n",
              "      <th>13619</th>\n",
              "      <td>desktop</td>\n",
              "      <td>40.0</td>\n",
              "      <td>c</td>\n",
              "      <td>414</td>\n",
              "      <td>371</td>\n",
              "      <td>2020-09-18T01:21:25.000Z</td>\n",
              "      <td>GABRIEL FERNANDES LAURINDO</td>\n",
              "      <td>Crescente, decrescente ou nenhum dos dois</td>\n",
              "      <td>None</td>\n",
              "      <td>ITP - Laços - Prova</td>\n",
              "      <td>b5413cd7-4f61-4241-aad8-23740bab604f</td>\n",
              "      <td>20190126761</td>\n",
              "      <td>0</td>\n",
              "    </tr>\n",
              "  </tbody>\n",
              "</table>\n",
              "</div>"
            ],
            "text/plain": [
              "      environment  hitPercentage  ...  registration  timeInSecounds\n",
              "9820      desktop            0.0  ...   20190146700            -264\n",
              "12541     desktop          100.0  ...   20200046160               0\n",
              "12536     desktop          100.0  ...   20200046160               0\n",
              "13564     desktop           20.0  ...   20190126761               0\n",
              "13619     desktop           40.0  ...   20190126761               0\n",
              "\n",
              "[5 rows x 13 columns]"
            ]
          },
          "metadata": {
            "tags": []
          },
          "execution_count": 27
        }
      ]
    },
    {
      "cell_type": "code",
      "metadata": {
        "colab": {
          "base_uri": "https://localhost:8080/",
          "height": 289
        },
        "id": "GztzTSJ6iNhR",
        "outputId": "02b56adc-b7e5-48b8-f4e2-b61606bf5990"
      },
      "source": [
        "df_submission.head()"
      ],
      "execution_count": null,
      "outputs": [
        {
          "output_type": "execute_result",
          "data": {
            "text/html": [
              "<div>\n",
              "<style scoped>\n",
              "    .dataframe tbody tr th:only-of-type {\n",
              "        vertical-align: middle;\n",
              "    }\n",
              "\n",
              "    .dataframe tbody tr th {\n",
              "        vertical-align: top;\n",
              "    }\n",
              "\n",
              "    .dataframe thead th {\n",
              "        text-align: right;\n",
              "    }\n",
              "</style>\n",
              "<table border=\"1\" class=\"dataframe\">\n",
              "  <thead>\n",
              "    <tr style=\"text-align: right;\">\n",
              "      <th></th>\n",
              "      <th>environment</th>\n",
              "      <th>hitPercentage</th>\n",
              "      <th>language</th>\n",
              "      <th>char_change_number</th>\n",
              "      <th>timeConsuming</th>\n",
              "      <th>createdAt</th>\n",
              "      <th>user</th>\n",
              "      <th>question</th>\n",
              "      <th>list</th>\n",
              "      <th>test</th>\n",
              "      <th>id_class</th>\n",
              "      <th>registration</th>\n",
              "      <th>timeInSecounds</th>\n",
              "    </tr>\n",
              "  </thead>\n",
              "  <tbody>\n",
              "    <tr>\n",
              "      <th>0</th>\n",
              "      <td>desktop</td>\n",
              "      <td>0.0</td>\n",
              "      <td>c</td>\n",
              "      <td>207</td>\n",
              "      <td>66156</td>\n",
              "      <td>2020-12-21T17:56:01.000Z</td>\n",
              "      <td>Arthur Learth</td>\n",
              "      <td>CRUD - Com alocação dinâmica - Rep</td>\n",
              "      <td>None</td>\n",
              "      <td>ITP 2020.6 - T02 - Reposicao</td>\n",
              "      <td>b5413cd7-4f61-4241-aad8-23740bab604f</td>\n",
              "      <td>20180071294</td>\n",
              "      <td>66</td>\n",
              "    </tr>\n",
              "    <tr>\n",
              "      <th>1</th>\n",
              "      <td>desktop</td>\n",
              "      <td>0.0</td>\n",
              "      <td>c</td>\n",
              "      <td>207</td>\n",
              "      <td>108142</td>\n",
              "      <td>2020-12-21T17:55:34.000Z</td>\n",
              "      <td>Arthur Learth</td>\n",
              "      <td>CRUD - Com alocação dinâmica - Rep</td>\n",
              "      <td>None</td>\n",
              "      <td>ITP 2020.6 - T02 - Reposicao</td>\n",
              "      <td>b5413cd7-4f61-4241-aad8-23740bab604f</td>\n",
              "      <td>20180071294</td>\n",
              "      <td>108</td>\n",
              "    </tr>\n",
              "    <tr>\n",
              "      <th>2</th>\n",
              "      <td>desktop</td>\n",
              "      <td>0.0</td>\n",
              "      <td>c</td>\n",
              "      <td>207</td>\n",
              "      <td>90613</td>\n",
              "      <td>2020-12-21T17:54:25.000Z</td>\n",
              "      <td>Arthur Learth</td>\n",
              "      <td>CRUD - Com alocação dinâmica - Rep</td>\n",
              "      <td>None</td>\n",
              "      <td>ITP 2020.6 - T02 - Reposicao</td>\n",
              "      <td>b5413cd7-4f61-4241-aad8-23740bab604f</td>\n",
              "      <td>20180071294</td>\n",
              "      <td>90</td>\n",
              "    </tr>\n",
              "    <tr>\n",
              "      <th>3</th>\n",
              "      <td>desktop</td>\n",
              "      <td>0.0</td>\n",
              "      <td>c</td>\n",
              "      <td>193</td>\n",
              "      <td>53018</td>\n",
              "      <td>2020-12-21T17:53:34.000Z</td>\n",
              "      <td>Arthur Learth</td>\n",
              "      <td>CRUD - Com alocação dinâmica - Rep</td>\n",
              "      <td>None</td>\n",
              "      <td>ITP 2020.6 - T02 - Reposicao</td>\n",
              "      <td>b5413cd7-4f61-4241-aad8-23740bab604f</td>\n",
              "      <td>20180071294</td>\n",
              "      <td>53</td>\n",
              "    </tr>\n",
              "    <tr>\n",
              "      <th>4</th>\n",
              "      <td>desktop</td>\n",
              "      <td>0.0</td>\n",
              "      <td>c</td>\n",
              "      <td>188</td>\n",
              "      <td>116304</td>\n",
              "      <td>2020-12-21T17:53:21.000Z</td>\n",
              "      <td>Arthur Learth</td>\n",
              "      <td>CRUD - Com alocação dinâmica - Rep</td>\n",
              "      <td>None</td>\n",
              "      <td>ITP 2020.6 - T02 - Reposicao</td>\n",
              "      <td>b5413cd7-4f61-4241-aad8-23740bab604f</td>\n",
              "      <td>20180071294</td>\n",
              "      <td>116</td>\n",
              "    </tr>\n",
              "  </tbody>\n",
              "</table>\n",
              "</div>"
            ],
            "text/plain": [
              "  environment  hitPercentage  ...  registration  timeInSecounds\n",
              "0     desktop            0.0  ...   20180071294              66\n",
              "1     desktop            0.0  ...   20180071294             108\n",
              "2     desktop            0.0  ...   20180071294              90\n",
              "3     desktop            0.0  ...   20180071294              53\n",
              "4     desktop            0.0  ...   20180071294             116\n",
              "\n",
              "[5 rows x 13 columns]"
            ]
          },
          "metadata": {
            "tags": []
          },
          "execution_count": 28
        }
      ]
    },
    {
      "cell_type": "code",
      "metadata": {
        "colab": {
          "base_uri": "https://localhost:8080/",
          "height": 297
        },
        "id": "gd_KeZx7_ODU",
        "outputId": "0b5abda6-70bc-49c2-9b76-45f0aeed0e70"
      },
      "source": [
        "df_submission.describe()"
      ],
      "execution_count": null,
      "outputs": [
        {
          "output_type": "execute_result",
          "data": {
            "text/html": [
              "<div>\n",
              "<style scoped>\n",
              "    .dataframe tbody tr th:only-of-type {\n",
              "        vertical-align: middle;\n",
              "    }\n",
              "\n",
              "    .dataframe tbody tr th {\n",
              "        vertical-align: top;\n",
              "    }\n",
              "\n",
              "    .dataframe thead th {\n",
              "        text-align: right;\n",
              "    }\n",
              "</style>\n",
              "<table border=\"1\" class=\"dataframe\">\n",
              "  <thead>\n",
              "    <tr style=\"text-align: right;\">\n",
              "      <th></th>\n",
              "      <th>hitPercentage</th>\n",
              "      <th>char_change_number</th>\n",
              "      <th>timeConsuming</th>\n",
              "      <th>timeInSecounds</th>\n",
              "    </tr>\n",
              "  </thead>\n",
              "  <tbody>\n",
              "    <tr>\n",
              "      <th>count</th>\n",
              "      <td>16350.000000</td>\n",
              "      <td>16350.000000</td>\n",
              "      <td>1.635000e+04</td>\n",
              "      <td>16350.000000</td>\n",
              "    </tr>\n",
              "    <tr>\n",
              "      <th>mean</th>\n",
              "      <td>18.133862</td>\n",
              "      <td>1011.715413</td>\n",
              "      <td>1.222594e+06</td>\n",
              "      <td>1222.094006</td>\n",
              "    </tr>\n",
              "    <tr>\n",
              "      <th>std</th>\n",
              "      <td>32.660645</td>\n",
              "      <td>1459.991164</td>\n",
              "      <td>3.512622e+06</td>\n",
              "      <td>3512.618294</td>\n",
              "    </tr>\n",
              "    <tr>\n",
              "      <th>min</th>\n",
              "      <td>0.000000</td>\n",
              "      <td>0.000000</td>\n",
              "      <td>-2.645770e+05</td>\n",
              "      <td>-264.000000</td>\n",
              "    </tr>\n",
              "    <tr>\n",
              "      <th>25%</th>\n",
              "      <td>0.000000</td>\n",
              "      <td>158.000000</td>\n",
              "      <td>3.339350e+04</td>\n",
              "      <td>33.000000</td>\n",
              "    </tr>\n",
              "    <tr>\n",
              "      <th>50%</th>\n",
              "      <td>0.000000</td>\n",
              "      <td>511.000000</td>\n",
              "      <td>1.442325e+05</td>\n",
              "      <td>144.000000</td>\n",
              "    </tr>\n",
              "    <tr>\n",
              "      <th>75%</th>\n",
              "      <td>25.000000</td>\n",
              "      <td>1126.750000</td>\n",
              "      <td>6.974028e+05</td>\n",
              "      <td>696.750000</td>\n",
              "    </tr>\n",
              "    <tr>\n",
              "      <th>max</th>\n",
              "      <td>100.000000</td>\n",
              "      <td>8322.000000</td>\n",
              "      <td>1.382647e+08</td>\n",
              "      <td>138264.000000</td>\n",
              "    </tr>\n",
              "  </tbody>\n",
              "</table>\n",
              "</div>"
            ],
            "text/plain": [
              "       hitPercentage  char_change_number  timeConsuming  timeInSecounds\n",
              "count   16350.000000        16350.000000   1.635000e+04    16350.000000\n",
              "mean       18.133862         1011.715413   1.222594e+06     1222.094006\n",
              "std        32.660645         1459.991164   3.512622e+06     3512.618294\n",
              "min         0.000000            0.000000  -2.645770e+05     -264.000000\n",
              "25%         0.000000          158.000000   3.339350e+04       33.000000\n",
              "50%         0.000000          511.000000   1.442325e+05      144.000000\n",
              "75%        25.000000         1126.750000   6.974028e+05      696.750000\n",
              "max       100.000000         8322.000000   1.382647e+08   138264.000000"
            ]
          },
          "metadata": {
            "tags": []
          },
          "execution_count": 29
        }
      ]
    },
    {
      "cell_type": "code",
      "metadata": {
        "colab": {
          "base_uri": "https://localhost:8080/"
        },
        "id": "9qBf5ATKBQLS",
        "outputId": "e3fdd570-1890-4fe3-bd97-7ae2e4eb7e62"
      },
      "source": [
        "df_submission['timeConsuming'].min()"
      ],
      "execution_count": null,
      "outputs": [
        {
          "output_type": "execute_result",
          "data": {
            "text/plain": [
              "-264577"
            ]
          },
          "metadata": {
            "tags": []
          },
          "execution_count": 30
        }
      ]
    },
    {
      "cell_type": "markdown",
      "metadata": {
        "id": "Ag8kDnboD15s"
      },
      "source": [
        "Maior concentração está realmente em pouco tempo, possívelmente se dá pelo aluno aproveitar o código da submissão anterior"
      ]
    },
    {
      "cell_type": "code",
      "metadata": {
        "colab": {
          "base_uri": "https://localhost:8080/",
          "height": 542
        },
        "id": "eLXl3OMBYS6w",
        "outputId": "b72bd5d2-5afa-45b9-9493-9b444dc04f43"
      },
      "source": [
        "px.violin(df_submission[(df_submission[\"timeInSecounds\"] < 900) & (df_submission[\"timeInSecounds\"] > 0)], y=\"timeInSecounds\")"
      ],
      "execution_count": null,
      "outputs": [
        {
          "output_type": "display_data",
          "data": {
            "text/html": [
              "<html>\n",
              "<head><meta charset=\"utf-8\" /></head>\n",
              "<body>\n",
              "    <div>\n",
              "            <script src=\"https://cdnjs.cloudflare.com/ajax/libs/mathjax/2.7.5/MathJax.js?config=TeX-AMS-MML_SVG\"></script><script type=\"text/javascript\">if (window.MathJax) {MathJax.Hub.Config({SVG: {font: \"STIX-Web\"}});}</script>\n",
              "                <script type=\"text/javascript\">window.PlotlyConfig = {MathJaxConfig: 'local'};</script>\n",
              "        <script src=\"https://cdn.plot.ly/plotly-latest.min.js\"></script>    \n",
              "            <div id=\"2598e974-8f9e-4403-90c3-4b37bc596fba\" class=\"plotly-graph-div\" style=\"height:525px; width:100%;\"></div>\n",
              "            <script type=\"text/javascript\">\n",
              "                \n",
              "                    window.PLOTLYENV=window.PLOTLYENV || {};\n",
              "                    \n",
              "                if (document.getElementById(\"2598e974-8f9e-4403-90c3-4b37bc596fba\")) {\n",
              "                    Plotly.newPlot(\n",
              "                        '2598e974-8f9e-4403-90c3-4b37bc596fba',\n",
              "                        [{\"alignmentgroup\": \"True\", \"box\": {\"visible\": false}, \"hoverlabel\": {\"namelength\": 0}, \"hovertemplate\": \"timeInSecounds=%{y}\", \"legendgroup\": \"\", \"marker\": {\"color\": \"#636efa\"}, \"name\": \"\", \"offsetgroup\": \"\", \"orientation\": \"v\", \"scalegroup\": \"True\", \"showlegend\": false, \"type\": \"violin\", \"x0\": \" \", \"xaxis\": \"x\", \"y\": [66, 108, 90, 53, 116, 246, 194, 104, 77, 42, 44, 84, 42, 44, 55, 98, 73, 58, 70, 252, 46, 41, 80, 90, 42, 75, 39, 46, 27, 69, 20, 43, 194, 36, 15, 2, 189, 138, 1, 88, 214, 187, 16, 34, 30, 2, 15, 82, 563, 857, 424, 41, 394, 82, 4, 4, 278, 279, 340, 382, 59, 149, 359, 23, 59, 846, 840, 66, 152, 96, 75, 101, 71, 261, 123, 116, 193, 104, 100, 82, 86, 89, 83, 79, 82, 78, 86, 84, 296, 171, 74, 72, 143, 74, 158, 87, 103, 122, 41, 159, 19, 53, 43, 75, 442, 26, 652, 28, 24, 11, 37, 119, 123, 135, 128, 112, 126, 269, 114, 114, 117, 120, 118, 149, 221, 183, 19, 353, 305, 3, 9, 515, 513, 23, 15, 41, 21, 107, 5, 14, 44, 134, 139, 47, 34, 7, 21, 15, 37, 161, 236, 6, 198, 190, 309, 193, 187, 186, 178, 35, 180, 13, 4, 33, 17, 27, 21, 23, 35, 143, 604, 12, 74, 18, 63, 53, 163, 14, 59, 81, 4, 8, 34, 56, 37, 296, 21, 30, 27, 11, 482, 372, 36, 11, 682, 171, 154, 313, 210, 38, 405, 17, 300, 31, 28, 476, 99, 26, 630, 157, 155, 135, 140, 188, 135, 158, 22, 135, 166, 163, 173, 168, 164, 140, 199, 136, 191, 173, 366, 146, 262, 138, 147, 138, 137, 140, 135, 147, 186, 155, 138, 136, 182, 143, 141, 134, 137, 163, 136, 136, 134, 149, 140, 172, 136, 134, 191, 150, 148, 138, 745, 144, 176, 138, 140, 148, 138, 147, 136, 134, 159, 156, 138, 133, 232, 136, 320, 166, 137, 150, 133, 147, 131, 130, 134, 156, 131, 132, 188, 138, 133, 169, 180, 129, 141, 129, 136, 145, 167, 172, 135, 133, 313, 126, 3, 21, 67, 28, 23, 74, 28, 93, 49, 11, 39, 49, 18, 10, 31, 68, 446, 242, 12, 80, 338, 637, 798, 31, 97, 35, 37, 34, 60, 30, 35, 42, 43, 323, 23, 21, 16, 431, 74, 519, 10, 92, 20, 282, 252, 281, 323, 174, 223, 200, 437, 200, 243, 276, 224, 350, 413, 307, 194, 183, 186, 183, 198, 347, 194, 183, 170, 167, 202, 186, 284, 186, 471, 219, 166, 198, 190, 207, 179, 348, 185, 380, 198, 471, 169, 12, 96, 9, 8, 7, 31, 88, 203, 124, 43, 414, 10, 40, 1, 12, 2, 162, 150, 227, 146, 147, 157, 148, 240, 161, 147, 151, 425, 146, 142, 234, 284, 247, 239, 239, 445, 309, 200, 133, 366, 143, 124, 123, 127, 220, 213, 284, 124, 126, 541, 177, 134, 201, 129, 122, 139, 122, 124, 122, 128, 118, 26, 10, 6, 21, 94, 3, 7, 9, 22, 5, 6, 30, 4, 19, 41, 16, 53, 10, 9, 4, 179, 27, 3, 18, 50, 65, 4, 8, 104, 109, 10, 11, 41, 2, 8, 300, 7, 133, 9, 92, 37, 15, 57, 20, 58, 54, 13, 164, 23, 36, 16, 10, 40, 19, 5, 17, 287, 105, 4, 3, 3, 16, 5, 76, 9, 719, 232, 292, 255, 285, 273, 257, 898, 255, 253, 730, 240, 234, 237, 251, 238, 231, 238, 238, 233, 243, 319, 229, 226, 259, 221, 320, 225, 231, 263, 264, 374, 265, 222, 232, 232, 549, 214, 297, 228, 225, 280, 236, 222, 408, 224, 220, 326, 214, 241, 220, 244, 245, 284, 279, 225, 210, 225, 222, 713, 273, 273, 213, 471, 229, 274, 219, 278, 393, 259, 331, 214, 221, 219, 243, 208, 217, 213, 230, 265, 238, 222, 339, 211, 214, 254, 211, 228, 214, 475, 242, 6, 237, 211, 243, 240, 217, 214, 210, 213, 288, 242, 280, 211, 297, 207, 17, 3, 67, 4, 25, 17, 24, 89, 388, 15, 14, 5, 1, 9, 1, 22, 4, 7, 7, 5, 18, 19, 26, 1, 3, 38, 33, 23, 26, 433, 10, 242, 19, 26, 15, 5, 5, 4, 7, 10, 35, 75, 5, 8, 283, 9, 21, 626, 671, 676, 649, 818, 642, 700, 754, 632, 663, 637, 800, 757, 731, 792, 699, 670, 751, 620, 737, 3, 178, 148, 96, 90, 105, 58, 56, 45, 36, 57, 22, 83, 878, 283, 249, 255, 7, 385, 245, 290, 252, 84, 257, 679, 251, 844, 279, 247, 282, 258, 532, 276, 463, 615, 9, 7, 5, 632, 440, 435, 251, 297, 411, 260, 269, 302, 263, 245, 255, 368, 260, 241, 253, 604, 282, 326, 461, 260, 259, 247, 252, 315, 274, 435, 21, 466, 253, 40, 384, 332, 342, 422, 255, 253, 264, 256, 246, 243, 248, 337, 245, 283, 278, 331, 188, 263, 830, 154, 157, 178, 159, 186, 152, 173, 168, 150, 154, 178, 592, 316, 237, 280, 282, 314, 268, 155, 184, 223, 567, 162, 165, 160, 161, 278, 158, 263, 158, 293, 152, 171, 211, 254, 165, 253, 265, 226, 241, 227, 153, 233, 165, 160, 360, 156, 153, 174, 155, 165, 322, 614, 292, 222, 228, 137, 603, 16, 55, 676, 25, 154, 155, 501, 372, 269, 152, 455, 71, 5, 227, 153, 152, 199, 214, 153, 198, 165, 447, 217, 166, 221, 156, 153, 60, 161, 173, 160, 166, 141, 171, 211, 166, 163, 14, 155, 179, 36, 160, 42, 161, 196, 283, 169, 165, 168, 177, 207, 155, 153, 153, 180, 154, 155, 173, 169, 2, 207, 158, 158, 214, 387, 14, 165, 154, 155, 298, 283, 188, 220, 197, 156, 196, 170, 297, 161, 214, 220, 179, 282, 174, 201, 192, 156, 633, 161, 154, 155, 172, 158, 199, 353, 24, 303, 148, 122, 242, 124, 131, 135, 126, 168, 122, 117, 132, 125, 117, 129, 118, 127, 114, 116, 162, 115, 157, 156, 121, 129, 118, 121, 120, 123, 128, 152, 123, 115, 120, 119, 117, 127, 145, 185, 189, 137, 115, 112, 76, 77, 97, 65, 72, 72, 78, 66, 64, 72, 69, 65, 64, 71, 112, 67, 72, 76, 72, 66, 65, 68, 74, 65, 66, 82, 78, 66, 128, 66, 127, 723, 69, 66, 65, 66, 79, 71, 70, 103, 70, 65, 68, 78, 75, 66, 65, 67, 66, 73, 69, 67, 69, 68, 102, 78, 85, 70, 67, 84, 67, 68, 62, 94, 64, 91, 73, 69, 65, 65, 81, 67, 71, 80, 62, 66, 67, 62, 63, 63, 62, 62, 83, 95, 79, 114, 96, 64, 87, 67, 94, 116, 84, 65, 77, 106, 64, 64, 95, 75, 125, 99, 96, 81, 104, 68, 79, 63, 117, 71, 248, 83, 77, 69, 243, 85, 61, 7, 5, 8, 15, 23, 5, 77, 5, 18, 20, 11, 4, 8, 11, 75, 14, 18, 5, 7, 2, 4, 5, 8, 20, 7, 11, 6, 234, 178, 264, 238, 5, 5, 8, 27, 7, 4, 9, 7, 356, 58, 13, 284, 35, 294, 517, 7, 19, 14, 697, 18, 5, 5, 19, 856, 775, 66, 8, 9, 9, 26, 25, 51, 18, 89, 165, 135, 20, 305, 6, 11, 5, 7, 72, 191, 62, 26, 12, 47, 12, 18, 217, 118, 50, 5, 8, 693, 13, 8, 19, 6, 10, 34, 205, 29, 90, 4, 9, 48, 26, 6, 3, 35, 14, 52, 5, 11, 14, 41, 33, 176, 451, 39, 118, 35, 46, 73, 10, 26, 8, 3, 29, 6, 7, 5, 5, 37, 5, 9, 14, 25, 13, 38, 20, 9, 10, 88, 6, 13, 466, 15, 488, 459, 12, 221, 493, 3, 7, 254, 7, 19, 13, 15, 22, 36, 898, 32, 168, 162, 48, 141, 44, 143, 133, 234, 53, 389, 179, 19, 24, 100, 582, 1, 2, 4, 4, 9, 13, 8, 42, 89, 96, 147, 899, 6, 15, 65, 506, 91, 478, 552, 521, 375, 375, 390, 387, 410, 647, 114, 5, 7, 12, 2, 13, 12, 7, 24, 22, 238, 293, 35, 7, 33, 20, 11, 4, 22, 132, 9, 22, 50, 56, 3, 3, 55, 59, 15, 191, 7, 213, 15, 73, 174, 1, 17, 468, 126, 514, 363, 323, 331, 366, 356, 320, 438, 368, 368, 343, 335, 337, 361, 324, 384, 338, 384, 741, 323, 326, 373, 344, 408, 728, 752, 333, 330, 338, 346, 393, 379, 409, 318, 327, 337, 386, 556, 321, 315, 394, 312, 324, 577, 524, 543, 495, 308, 86, 117, 36, 31, 5, 13, 10, 10, 11, 9, 5, 2, 12, 21, 47, 31, 5, 26, 328, 21, 43, 33, 54, 29, 32, 17, 9, 61, 148, 16, 148, 5, 24, 39, 52, 27, 10, 7, 46, 13, 168, 105, 98, 27, 16, 91, 31, 11, 77, 69, 44, 165, 295, 225, 8, 13, 21, 50, 75, 17, 13, 26, 10, 71, 12, 9, 17, 48, 26, 135, 27, 28, 14, 55, 115, 129, 8, 9, 627, 77, 100, 11, 37, 7, 32, 41, 47, 29, 15, 12, 17, 45, 2, 14, 38, 696, 27, 40, 35, 41, 162, 26, 47, 41, 21, 49, 23, 12, 69, 71, 33, 56, 64, 31, 65, 55, 27, 83, 15, 61, 32, 150, 55, 59, 57, 36, 57, 75, 125, 35, 14, 174, 26, 27, 476, 17, 37, 126, 87, 28, 108, 121, 2, 6, 889, 884, 886, 890, 887, 885, 880, 886, 895, 102, 59, 68, 22, 18, 29, 259, 43, 9, 36, 11, 877, 20, 46, 24, 10, 13, 26, 101, 14, 11, 18, 7, 68, 14, 56, 13, 606, 699, 594, 707, 26, 15, 177, 108, 18, 59, 22, 53, 29, 586, 33, 2, 20, 460, 499, 479, 462, 467, 460, 496, 464, 556, 497, 462, 467, 463, 479, 464, 472, 487, 551, 464, 463, 658, 461, 460, 462, 475, 501, 466, 467, 464, 548, 464, 468, 493, 570, 541, 649, 481, 511, 459, 488, 462, 507, 479, 467, 638, 457, 464, 468, 463, 487, 460, 462, 477, 459, 461, 486, 461, 463, 460, 458, 459, 465, 460, 459, 481, 460, 460, 458, 457, 460, 474, 460, 457, 467, 457, 456, 463, 462, 472, 518, 473, 461, 682, 470, 471, 459, 500, 585, 463, 457, 543, 465, 483, 757, 455, 441, 229, 11, 21, 132, 9, 31, 395, 344, 6, 333, 326, 359, 425, 332, 430, 606, 337, 351, 325, 350, 546, 342, 354, 349, 332, 332, 552, 332, 325, 342, 484, 372, 355, 373, 341, 319, 323, 319, 334, 401, 330, 332, 370, 362, 330, 360, 337, 335, 325, 357, 328, 344, 325, 336, 368, 500, 327, 352, 328, 28, 5, 43, 77, 114, 260, 145, 336, 159, 630, 125, 108, 400, 179, 438, 195, 181, 138, 17, 23, 115, 247, 190, 93, 265, 114, 84, 78, 95, 96, 142, 82, 64, 555, 53, 69, 105, 69, 64, 62, 144, 64, 107, 119, 67, 81, 73, 145, 61, 119, 65, 49, 260, 46, 82, 22, 318, 270, 258, 264, 284, 264, 283, 259, 261, 284, 273, 301, 269, 256, 256, 258, 275, 278, 260, 257, 256, 256, 261, 256, 257, 273, 257, 259, 324, 259, 271, 269, 265, 256, 260, 258, 330, 262, 261, 298, 261, 261, 265, 775, 12, 283, 262, 258, 314, 267, 264, 272, 262, 262, 330, 267, 283, 263, 278, 257, 383, 257, 262, 317, 259, 263, 287, 80, 260, 259, 266, 260, 283, 263, 266, 152, 270, 628, 833, 267, 294, 281, 263, 262, 261, 280, 383, 269, 595, 199, 262, 273, 258, 275, 278, 265, 350, 400, 262, 285, 266, 285, 261, 283, 266, 312, 284, 281, 298, 262, 264, 268, 340, 328, 681, 266, 269, 256, 318, 257, 257, 262, 259, 278, 256, 259, 260, 302, 285, 259, 261, 273, 265, 319, 285, 312, 262, 262, 279, 655, 27, 562, 255, 247, 253, 251, 272, 250, 249, 249, 245, 278, 255, 244, 250, 259, 259, 383, 105, 447, 11, 73, 64, 35, 251, 246, 362, 143, 248, 291, 65, 512, 252, 301, 15, 243, 195, 82, 74, 69, 117, 66, 63, 64, 172, 158, 35, 96, 142, 167, 134, 804, 57, 766, 102, 61, 89, 77, 70, 183, 64, 68, 64, 60, 76, 73, 149, 85, 118, 81, 660, 739, 737, 59, 81, 63, 145, 63, 78, 83, 80, 58, 61, 89, 88, 126, 69, 114, 68, 60, 203, 270, 78, 60, 59, 71, 65, 58, 76, 69, 77, 70, 145, 61, 90, 97, 66, 153, 57, 72, 78, 89, 79, 69, 208, 250, 547, 61, 59, 70, 83, 72, 64, 90, 95, 64, 62, 64, 61, 74, 58, 229, 78, 60, 69, 96, 164, 171, 456, 62, 66, 72, 62, 66, 83, 542, 520, 62, 65, 61, 601, 64, 123, 61, 71, 85, 66, 64, 63, 57, 113, 55, 55, 57, 64, 68, 83, 64, 58, 59, 89, 59, 79, 61, 71, 329, 62, 62, 89, 60, 284, 65, 62, 127, 131, 107, 65, 57, 181, 483, 67, 124, 96, 61, 78, 55, 51, 60, 59, 171, 45, 30, 62, 57, 70, 305, 258, 28, 32, 156, 24, 22, 38, 39, 25, 24, 95, 91, 59, 32, 47, 669, 436, 525, 57, 22, 628, 272, 35, 763, 545, 20, 36, 470, 64, 425, 59, 275, 18, 6, 644, 443, 203, 65, 782, 736, 736, 13, 8, 787, 42, 51, 154, 83, 7, 60, 6, 698, 272, 262, 50, 27, 13, 8, 68, 11, 7, 63, 19, 16, 385, 138, 27, 42, 578, 434, 754, 448, 429, 439, 856, 456, 420, 417, 29, 46, 18, 831, 17, 99, 45, 144, 374, 18, 666, 721, 824, 732, 662, 195, 250, 8, 68, 125, 14, 7, 32, 11, 50, 5, 5, 11, 37, 108, 39, 17, 40, 21, 58, 7, 17, 17, 41, 13, 86, 11, 7, 29, 56, 11, 29, 37, 67, 12, 54, 73, 39, 75, 81, 46, 14, 19, 45, 10, 11, 129, 291, 24, 10, 17, 48, 39, 750, 163, 141, 360, 47, 11, 342, 9, 615, 260, 51, 28, 4, 8, 143, 7, 19, 9, 4, 81, 21, 12, 28, 7, 16, 24, 8, 8, 6, 20, 20, 28, 184, 8, 7, 14, 294, 12, 60, 252, 11, 269, 72, 14, 27, 54, 17, 27, 20, 25, 188, 116, 33, 143, 649, 350, 20, 84, 317, 304, 411, 2, 4, 158, 86, 385, 291, 96, 8, 150, 97, 201, 104, 207, 73, 280, 71, 28, 135, 878, 57, 382, 632, 726, 2, 752, 644, 608, 595, 317, 608, 36, 60, 1, 224, 111, 365, 106, 17, 29, 36, 4, 248, 291, 618, 563, 10, 70, 225, 9, 26, 12, 17, 29, 17, 492, 90, 4, 3, 5, 18, 1, 21, 3, 13, 3, 4, 3, 9, 4, 83, 4, 6, 9, 2, 7, 3, 4, 1, 1, 2, 10, 14, 110, 4, 4, 8, 239, 33, 2, 173, 265, 591, 245, 396, 89, 394, 60, 81, 61, 283, 53, 87, 241, 19, 29, 839, 73, 14, 15, 52, 7, 43, 313, 6, 144, 35, 13, 31, 14, 114, 883, 33, 33, 136, 5, 8, 307, 31, 348, 258, 26, 77, 10, 115, 33, 7, 691, 117, 90, 185, 28, 26, 16, 85, 16, 31, 308, 59, 16, 8, 360, 26, 201, 13, 6, 423, 76, 130, 674, 206, 507, 511, 572, 204, 31, 54, 30, 64, 35, 35, 77, 480, 480, 481, 480, 27, 6, 41, 5, 5, 8, 4, 125, 32, 550, 1, 4, 4, 7, 36, 285, 20, 3, 3, 6, 8, 6, 4, 22, 21, 3, 14, 70, 50, 3, 8, 503, 17, 16, 3, 39, 191, 242, 13, 54, 17, 4, 26, 192, 240, 18, 9, 6, 45, 17, 634, 26, 19, 120, 4, 3, 5, 133, 538, 7, 2, 3, 12, 21, 25, 6, 20, 2, 6, 7, 3, 5, 2, 139, 1, 5, 13, 10, 28, 4, 16, 2, 3, 36, 4, 426, 3, 4, 15, 14, 6, 9, 2, 17, 74, 17, 14, 10, 18, 253, 8, 25, 25, 49, 8, 80, 64, 3, 42, 2, 4, 3, 131, 376, 1, 22, 5, 4, 8, 18, 11, 3, 4, 5, 3, 3, 1, 5, 14, 7, 2, 3, 4, 42, 5, 3, 3, 20, 5, 23, 586, 17, 1, 34, 5, 10, 11, 5, 6, 6, 123, 114, 44, 22, 3, 130, 59, 13, 39, 69, 5, 16, 9, 9, 31, 24, 33, 6, 4, 14, 6, 41, 20, 79, 19, 17, 24, 22, 204, 45, 28, 3, 3, 13, 7, 39, 17, 21, 4, 8, 13, 179, 426, 26, 145, 225, 114, 1, 698, 112, 42, 47, 870, 887, 29, 856, 14, 44, 71, 403, 262, 7, 21, 78, 11, 134, 126, 36, 13, 569, 6, 30, 222, 45, 11, 22, 11, 99, 17, 225, 25, 47, 16, 130, 10, 71, 66, 22, 9, 377, 17, 287, 62, 279, 867, 4, 85, 375, 183, 236, 443, 244, 241, 246, 235, 263, 236, 157, 199, 153, 513, 195, 159, 160, 147, 166, 145, 159, 151, 152, 238, 15, 611, 243, 218, 152, 80, 3, 29, 19, 318, 222, 135, 118, 110, 125, 105, 114, 334, 109, 617, 115, 250, 104, 125, 42, 6, 177, 3, 16, 33, 114, 6, 259, 137, 54, 51, 64, 66, 466, 79, 57, 82, 74, 870, 315, 18, 18, 30, 261, 26, 24, 7, 1, 32, 59, 329, 44, 17, 3, 36, 656, 146, 12, 7, 187, 9, 235, 22, 9, 437, 26, 12, 54, 89, 9, 14, 9, 114, 121, 16, 46, 68, 28, 26, 493, 17, 93, 26, 125, 187, 17, 17, 75, 58, 19, 56, 8, 22, 8, 377, 8, 8, 7, 42, 12, 166, 5, 32, 12, 89, 379, 8, 26, 88, 237, 14, 59, 679, 49, 849, 127, 486, 14, 221, 101, 115, 104, 172, 102, 102, 148, 122, 100, 297, 95, 3, 15, 25, 8, 9, 224, 3, 22, 23, 140, 279, 11, 52, 414, 6, 247, 5, 20, 74, 11, 15, 3, 105, 16, 22, 754, 633, 2, 93, 67, 58, 54, 52, 36, 45, 32, 33, 172, 57, 39, 45, 91, 57, 60, 50, 31, 65, 34, 33, 37, 32, 37, 34, 31, 33, 28, 52, 32, 54, 58, 104, 48, 145, 49, 31, 44, 262, 62, 238, 185, 404, 38, 35, 33, 48, 58, 32, 33, 39, 37, 34, 288, 34, 36, 84, 31, 40, 53, 37, 31, 62, 46, 45, 64, 38, 35, 41, 41, 39, 153, 50, 49, 32, 60, 39, 290, 39, 50, 130, 75, 52, 34, 30, 34, 33, 37, 117, 40, 34, 38, 33, 140, 32, 40, 89, 35, 102, 51, 42, 169, 396, 32, 38, 38, 31, 48, 34, 621, 32, 33, 34, 37, 785, 169, 32, 38, 93, 33, 31, 202, 33, 42, 46, 38, 74, 257, 75, 278, 2, 47, 31, 39, 42, 46, 32, 34, 165, 45, 73, 38, 37, 37, 39, 37, 180, 42, 45, 50, 106, 382, 37, 32, 57, 833, 46, 37, 41, 27, 42, 117, 41, 92, 93, 30, 445, 28, 7, 74, 38, 35, 43, 15, 13, 607, 135, 303, 122, 156, 145, 213, 128, 127, 127, 135, 252, 393, 121, 127, 149, 125, 541, 124, 800, 139, 155, 146, 180, 193, 144, 123, 124, 153, 122, 133, 133, 124, 252, 119, 120, 166, 129, 120, 119, 115, 123, 123, 379, 126, 113, 156, 372, 117, 123, 120, 120, 125, 152, 125, 120, 135, 112, 149, 116, 111, 3, 196, 42, 3, 452, 438, 8, 19, 188, 84, 8, 46, 20, 55, 13, 52, 34, 5, 93, 14, 8, 6, 5, 722, 13, 221, 2, 161, 852, 8, 115, 10, 36, 4, 463, 330, 394, 42, 164, 3, 109, 14, 1, 13, 1, 6, 23, 44, 51, 19, 259, 461, 401, 403, 347, 731, 395, 388, 375, 379, 358, 364, 336, 311, 280, 284, 440, 2, 336, 540, 524, 59, 26, 118, 412, 52, 6, 98, 282, 173, 10, 880, 74, 387, 73, 89, 61, 334, 254, 190, 345, 730, 268, 645, 594, 558, 557, 592, 595, 619, 600, 610, 601, 601, 46, 612, 595, 599, 38, 647, 542, 652, 607, 593, 593, 671, 149, 434, 608, 599, 617, 594, 596, 623, 601, 604, 594, 629, 593, 596, 595, 152, 599, 157, 599, 170, 593, 632, 151, 312, 607, 156, 176, 263, 149, 177, 674, 292, 668, 705, 722, 206, 685, 587, 218, 349, 9, 31, 193, 163, 251, 158, 172, 150, 194, 145, 143, 55, 243, 113, 323, 100, 65, 98, 97, 118, 164, 35, 98, 120, 214, 100, 106, 133, 11, 363, 4, 96, 106, 100, 92, 5, 33, 26, 8, 44, 64, 5, 325, 108, 35, 85, 53, 21, 18, 48, 21, 6, 20, 41, 137, 52, 472, 58, 160, 20, 11, 56, 884, 105, 9, 7, 456, 19, 350, 99, 102, 450, 158, 572, 175, 207, 95, 101, 236, 394, 346, 340, 519, 111, 490, 111, 102, 31, 756, 64, 220, 896, 27, 27, 237, 188, 87, 96, 208, 732, 91, 529, 532, 53, 65, 13, 132, 25, 108, 503, 81, 112, 584, 31, 141, 105, 14, 16, 5, 10, 43, 25, 26, 15, 166, 90, 120, 93, 195, 147, 29, 92, 107, 28, 101, 97, 419, 65, 165, 15, 33, 101, 96, 107, 138, 96, 13, 38, 14, 183, 843, 15, 12, 383, 43, 8, 79, 12, 112, 26, 23, 155, 52, 9, 15, 32, 32, 46, 11, 12, 20, 2, 24, 497, 10, 1, 80, 58, 30, 136, 19, 28, 262, 76, 11, 514, 183, 110, 177, 123, 197, 118, 294, 139, 97, 108, 121, 102, 104, 35, 92, 131, 42, 72, 119, 4, 29, 134, 6, 171, 13, 30, 101, 101, 18, 121, 40, 12, 123, 286, 113, 102, 26, 154, 160, 138, 30, 161, 172, 9, 10, 185, 47, 134, 371, 16, 8, 134, 102, 650, 13, 12, 25, 41, 30, 76, 49, 63, 230, 279, 306, 29, 69, 7, 81, 178, 63, 116, 97, 664, 237, 487, 106, 34, 47, 36, 60, 5, 96, 10, 72, 104, 193, 345, 491, 3, 35, 6, 9, 94, 8, 51, 9, 92, 635, 11, 57, 7, 37, 23, 123, 53, 16, 17, 12, 38, 20, 18, 13, 28, 33, 31, 25, 27, 50, 5, 17, 5, 45, 713, 16, 86, 556, 148, 87, 94, 119, 98, 122, 91, 91, 212, 64, 19, 178, 106, 98, 97, 94, 132, 112, 96, 163, 138, 98, 90, 122, 178, 112, 92, 207, 154, 98, 145, 555, 96, 114, 89, 445, 86, 81, 138, 78, 75, 78, 77, 80, 91, 69, 97, 688, 102, 77, 103, 237, 24, 33, 20, 85, 126, 80, 71, 234, 71, 74, 73, 194, 101, 82, 140, 101, 101, 78, 100, 73, 163, 83, 136, 105, 27, 76, 71, 166, 93, 20, 107, 131, 677, 88, 111, 223, 18, 29, 128, 106, 72, 449, 175, 65, 16, 284, 94, 150, 110, 85, 176, 77, 130, 79, 75, 129, 74, 113, 97, 83, 73, 101, 76, 86, 140, 94, 79, 116, 77, 88, 329, 104, 136, 216, 208, 140, 79, 5, 229, 50, 12, 104, 106, 191, 110, 4, 702, 190, 736, 251, 13, 11, 96, 151, 437, 44, 3, 264, 220, 44, 199, 205, 652, 515, 769, 744, 720, 729, 3, 5, 554, 671, 532, 554, 530, 545, 545, 740, 778, 788, 795, 786, 739, 729, 746, 448, 69, 541, 804, 854, 42, 21, 340, 523, 556, 8, 59, 10, 646, 256, 251, 253, 252, 254, 251, 264, 274, 254, 252, 260, 270, 256, 259, 257, 255, 259, 253, 285, 594, 252, 259, 256, 282, 260, 257, 256, 274, 277, 350, 256, 262, 260, 274, 282, 273, 256, 423, 314, 256, 341, 14, 372, 259, 270, 255, 259, 254, 282, 272, 258, 259, 338, 255, 252, 252, 256, 253, 312, 280, 309, 263, 256, 387, 259, 257, 327, 254, 261, 286, 277, 317, 284, 383, 272, 269, 264, 285, 260, 285, 255, 256, 306, 275, 252, 273, 251, 307, 262, 274, 382, 273, 258, 256, 274, 272, 255, 387, 305, 269, 269, 267, 264, 284, 292, 260, 452, 476, 77, 866, 250, 279, 271, 305, 255, 258, 259, 282, 545, 253, 258, 264, 256, 254, 296, 280, 402, 308, 297, 283, 73, 15, 144, 13, 459, 10, 15, 285, 36, 79, 16, 93, 86, 105, 362, 40, 2, 4, 1, 5, 1, 18, 406, 522, 494, 95, 92, 12, 158, 159, 66, 31, 62, 97, 89, 71, 4, 8, 13, 53, 16, 48, 15, 5, 7, 153, 4, 13, 623, 22, 6, 29, 20, 255, 16, 7, 21, 7, 28, 41, 6, 33, 38, 7, 29, 42, 17, 100, 11, 9, 77, 14, 29, 35, 3, 4, 3, 57, 40, 10, 126, 5, 46, 9, 12, 11, 18, 147, 131, 716, 128, 156, 18, 8, 33, 405, 23, 66, 17, 11, 128, 50, 17, 44, 5, 84, 10, 33, 55, 43, 77, 61, 10, 16, 46, 23, 16, 8, 39, 16, 69, 9, 689, 63, 97, 17, 23, 96, 13, 57, 50, 40, 10, 8, 9, 68, 421, 246, 42, 15, 5, 35, 55, 14, 549, 449, 453, 454, 454, 485, 473, 462, 458, 462, 448, 13, 9, 101, 15, 72, 46, 10, 14, 102, 74, 615, 14, 170, 19, 10, 86, 76, 40, 13, 43, 200, 14, 38, 69, 423, 14, 119, 147, 18, 66, 127, 4, 43, 628, 77, 82, 12, 17, 39, 186, 19, 13, 178, 19, 7, 18, 8, 28, 16, 11, 8, 8, 10, 8, 12, 9, 247, 13, 600, 15, 88, 20, 234, 63, 81, 22, 53, 19, 412, 7, 16, 2, 19, 195, 76, 73, 6, 39, 14, 13, 10, 13, 128, 103, 85, 226, 229, 40, 8, 27, 4, 69, 4, 48, 104, 199, 3, 3, 95, 8, 40, 32, 7, 259, 135, 19, 248, 1, 35, 163, 20, 21, 1, 5, 7, 8, 5, 429, 446, 446, 452, 444, 481, 450, 453, 609, 443, 572, 445, 567, 454, 457, 457, 598, 453, 675, 446, 447, 448, 445, 453, 452, 472, 448, 449, 448, 444, 447, 443, 464, 448, 453, 445, 511, 726, 447, 448, 477, 462, 500, 450, 452, 604, 532, 453, 451, 634, 441, 443, 454, 440, 531, 447, 444, 437, 466, 441, 456, 452, 466, 456, 457, 484, 446, 566, 464, 469, 680, 458, 478, 447, 451, 613, 440, 437, 477, 441, 446, 453, 593, 448, 692, 445, 471, 448, 441, 515, 448, 446, 441, 482, 625, 450, 440, 448, 446, 650, 439, 450, 461, 458, 451, 483, 468, 437, 446, 447, 439, 624, 453, 622, 451, 439, 450, 446, 445, 447, 446, 439, 477, 441, 442, 481, 444, 446, 494, 454, 441, 525, 552, 475, 565, 437, 456, 595, 457, 435, 434, 509, 428, 443, 442, 437, 433, 429, 670, 431, 454, 598, 439, 878, 469, 832, 322, 356, 432, 484, 430, 442, 439, 589, 442, 431, 461, 438, 433, 438, 605, 425, 37, 59, 41, 327, 88, 303, 357, 47, 72, 36, 95, 42, 79, 77, 330, 311, 164, 127, 81, 85, 171, 89, 47, 179, 50, 69, 98, 59, 506, 104, 7, 1, 35, 1, 47, 1, 24, 91, 72, 1, 1, 36, 1, 120, 41, 5, 6, 6, 14, 1, 1, 1, 3, 2, 59, 39, 184, 106, 64, 44, 169, 41, 37, 164, 50, 33, 43, 42, 13, 38, 150, 34, 45, 50, 64, 57, 35, 54, 79, 35, 54, 40, 83, 35, 90, 217, 43, 37, 500, 2, 2, 130, 87, 173, 59, 42, 310, 39, 104, 118, 100, 37, 37, 47, 109, 6, 35, 206, 52, 826, 45, 39, 70, 58, 67, 430, 62, 42, 297, 799, 196, 198, 224, 206, 196, 278, 602, 196, 218, 220, 211, 261, 85, 221, 397, 162, 34, 26, 186, 13, 184, 183, 263, 436, 173, 168, 219, 239, 38, 205, 60, 55, 90, 78, 37, 64, 68, 66, 94, 46, 68, 64, 434, 140, 282, 41, 273, 73, 38, 46, 81, 49, 869, 501, 76, 80, 72, 59, 89, 53, 1, 6, 21, 504, 873, 44, 47, 40, 44, 51, 38, 43, 49, 42, 40, 42, 49, 327, 183, 318, 200, 168, 36, 63, 629, 686, 42, 74, 65, 72, 59, 74, 167, 48, 48, 58, 43, 37, 79, 190, 42, 81, 45, 54, 43, 51, 32, 38, 36, 46, 92, 60, 54, 46, 74, 178, 125, 314, 107, 74, 94, 61, 193, 376, 129, 42, 41, 46, 100, 88, 78, 134, 94, 68, 39, 40, 219, 175, 42, 244, 82, 17, 29, 220, 62, 46, 252, 7, 67, 8, 51, 34, 54, 6, 44, 137, 47, 16, 22, 36, 42, 305, 66, 34, 299, 91, 323, 204, 36, 322, 191, 339, 49, 130, 37, 37, 50, 45, 47, 80, 39, 214, 39, 45, 40, 45, 66, 68, 313, 305, 380, 56, 94, 37, 79, 244, 267, 247, 55, 98, 85, 75, 92, 158, 56, 9, 7, 18, 11, 11, 432, 66, 195, 58, 152, 441, 56, 8, 25, 91, 28, 61, 137, 56, 16, 65, 21, 34, 317, 54, 17, 94, 60, 37, 108, 24, 24, 22, 33, 84, 28, 42, 24, 24, 66, 59, 263, 217, 176, 178, 197, 190, 140, 38, 44, 189, 84, 46, 46, 23, 45, 43, 7, 7, 6, 7, 7, 6, 8, 729, 13, 135, 46, 519, 6, 275, 12, 10, 37, 182, 16, 728, 6, 8, 34, 26, 91, 49, 30, 87, 324, 90, 553, 28, 62, 34, 19, 18, 41, 460, 32, 285, 13, 475, 242, 84, 35, 35, 506, 300, 254, 235, 250, 302, 37, 308, 20, 8, 4, 856, 257, 239, 321, 310, 664, 342, 357, 786, 347, 223, 218, 4, 14, 34, 5, 18, 451, 8, 12, 72, 17, 306, 539, 102, 143, 165, 256, 113, 71, 19, 30, 164, 81, 551, 115, 334, 163, 62, 59, 143, 40, 26, 5, 6, 25, 8, 785, 17, 387, 15, 21, 14, 11, 75, 10, 3, 102, 20, 455, 8, 77, 164, 599, 74, 49, 57, 58, 39, 196, 3, 324, 481, 26, 16, 9, 585, 190, 189, 183, 13, 14, 14, 121, 9, 177, 83, 141, 216, 10, 12, 93, 4, 191, 284, 47, 20, 31, 54, 251, 13, 10, 62, 281, 786, 11, 66, 29, 231, 74, 37, 23, 9, 877, 11, 12, 12, 28, 45, 42, 17, 40, 531, 441, 526, 428, 863, 446, 523, 420, 514, 562, 520, 421, 436, 488, 443, 418, 415, 416, 15, 839, 659, 141, 25, 8, 23, 20, 86, 407, 231, 361, 248, 227, 342, 318, 223, 243, 235, 572, 570, 14, 12, 14, 29, 38, 8, 17, 99, 7, 12, 26, 24, 112, 237, 310, 24, 13, 724, 235, 241, 222, 235, 234, 240, 236, 275, 225, 238, 318, 267, 630, 229, 238, 811, 33, 188, 80, 77, 91, 70, 231, 355, 326, 281, 260, 240, 245, 730, 630, 221, 150, 32, 3, 218, 284, 201, 228, 28, 76, 11, 272, 231, 23, 49, 70, 18, 31, 224, 223, 550, 182, 118, 266, 74, 87, 191, 378, 507, 9, 165, 20, 24, 861, 8, 13, 543, 529, 480, 341, 349, 361, 349, 381, 344, 340, 342, 335, 76, 79, 529, 17, 34, 157, 46, 75, 127, 157, 72, 89, 61, 28, 150, 259, 265, 254, 580, 242, 87, 71, 65, 17, 4, 69, 118, 20, 607, 24, 581, 21, 4, 4, 11, 20, 18, 69, 4, 11, 24, 77, 225, 3, 73, 150, 802, 790, 774, 18, 665, 148, 326, 154, 477, 233, 9, 5, 29, 609, 41, 38, 27, 7, 27, 86, 5, 600, 9, 19, 22, 14, 17, 36, 44, 42, 93, 13, 35, 359, 8, 1, 517, 12, 62, 27, 92, 476, 7, 10, 28, 31, 22, 10, 32, 81, 229, 24, 1, 3, 1, 11, 19, 16, 285, 5, 7, 11, 844, 499, 205, 5, 3, 437, 23, 1, 19, 1, 37, 8, 11, 12, 10, 13, 90, 261, 768, 765, 259, 252, 194, 175, 359, 231, 266, 177, 243, 146, 281, 106, 131, 319, 169, 170, 152, 100, 99, 122, 184, 150, 98, 103, 121, 290, 122, 57, 15, 1, 25, 5, 148, 107, 404, 475, 204, 94, 91, 74, 17, 577, 37, 43, 27, 18, 22, 33, 33, 36, 51, 387, 74, 31, 50, 54, 66, 158, 120, 46, 30, 104, 30, 33, 113, 327, 56, 10, 23, 5, 5, 12, 9, 22, 40, 47, 1, 7, 58, 4, 41, 37, 41, 40, 170, 49, 44, 54, 32, 185, 46, 43, 53, 72, 48, 72, 65, 164, 44, 92, 59, 44, 51, 51, 40, 70, 54, 536, 11, 84, 72, 5, 11, 143, 68, 106, 897, 44, 113, 59, 81, 176, 347, 10, 1, 19, 5, 204, 854, 198, 264, 213, 185, 248, 791, 5, 14, 17, 10, 8, 27, 193, 59, 183, 215, 43, 193, 10, 30, 233, 10, 33, 214, 18, 9, 4, 636, 243, 189, 176, 383, 254, 171, 211, 175, 270, 259, 9, 15, 7, 3, 15, 226, 26, 18, 183, 58, 195, 498, 6, 18, 2, 7, 10, 204, 172, 174, 204, 170, 176, 290, 214, 198, 169, 167, 42, 269, 8, 6, 23, 26, 104, 20, 8, 33, 51, 8, 9, 47, 22, 153, 107, 30, 8, 13, 38, 21, 3, 3, 7, 326, 13, 85, 206, 6, 10, 125, 20, 4, 4, 102, 5, 24, 21, 7, 29, 26, 5, 6, 119, 5, 14, 2, 14, 3, 11, 56, 3, 3, 3, 5, 10, 10, 11, 9, 11, 27, 5, 19, 10, 12, 4, 7, 51, 14, 2, 7, 65, 4, 7, 25, 12, 14, 1, 1, 1, 5, 470, 49, 38, 53, 69, 498, 11, 11, 30, 5, 13, 8, 4, 8, 15, 40, 1, 55, 464, 176, 33, 25, 26, 19, 28, 56, 12, 18, 27, 8, 30, 48, 72, 4, 39, 6, 7, 364, 24, 11, 19, 6, 115, 15, 176, 76, 16, 106, 13, 4, 1, 2, 7, 105, 19, 15, 24, 8, 302, 37, 517, 58, 53, 13, 21, 8, 14, 194, 1, 38, 11, 17, 11, 36, 4, 48, 36, 366, 23, 40, 29, 28, 81, 5, 18, 12, 16, 29, 29, 24, 5, 107, 246, 19, 58, 55, 11, 42, 144, 8, 25, 10, 158, 5, 5, 9, 7, 116, 5, 12, 25, 18, 9, 138, 18, 654, 9, 219, 20, 249, 321, 33, 366, 17, 87, 58, 51, 21, 11, 15, 23, 58, 27, 128, 112, 21, 62, 18, 103, 147, 107, 93, 33, 55, 110, 183, 25, 43, 637, 76, 117, 175, 57, 91, 40, 34, 41, 90, 30, 42, 45, 125, 197, 27, 45, 213, 101, 93, 81, 126, 43, 66, 35, 86, 44, 221, 75, 46, 225, 58, 29, 71, 240, 4, 42, 339, 218, 283, 70, 50, 8, 41, 75, 174, 44, 50, 114, 267, 180, 47, 44, 66, 55, 117, 32, 9, 316, 4, 16, 24, 26, 35, 26, 13, 7, 20, 15, 35, 10, 90, 320, 5, 3, 413, 254, 31, 17, 436, 93, 751, 20, 399, 634, 219, 205, 77, 164, 71, 1, 12, 77, 14, 17, 6, 19, 81, 104, 64, 108, 30, 14, 42, 125, 11, 236, 5, 11, 4, 6, 79, 21, 369, 5, 67, 7, 14, 128, 12, 110, 113, 4, 3, 4, 77, 51, 21, 20, 1, 23, 66, 8, 24, 1, 7, 38, 34, 44, 27, 34, 66, 132, 18, 13, 30, 40, 130, 11, 19, 74, 20, 554, 317, 4, 204, 52, 786, 45, 12, 63, 46, 154, 58, 9, 6, 17, 104, 42, 33, 167, 271, 108, 4, 51, 90, 2, 61, 94, 83, 48, 31, 22, 125, 7, 102, 37, 15, 387, 49, 93, 316, 11, 8, 8, 6, 7, 73, 21, 109, 12, 29, 9, 51, 32, 535, 38, 102, 6, 10, 10, 60, 15, 14, 177, 737, 52, 48, 22, 468, 18, 213, 76, 77, 74, 72, 44, 42, 152, 35, 31, 27, 8, 1, 390, 320, 316, 330, 299, 352, 373, 419, 232, 285, 218, 37, 207, 228, 216, 65, 222, 349, 402, 207, 203, 211, 45, 460, 181, 307, 295, 31, 25, 724, 27, 58, 29, 27, 45, 17, 839, 593, 230, 256, 40, 597, 122, 58, 186, 322, 32, 12, 13, 21, 245, 728, 118, 12, 47, 22, 328, 8, 445, 445, 641, 448, 105, 91, 461, 457, 473, 180, 85, 854, 8, 493, 740, 448, 20, 459, 447, 623, 488, 488, 445, 447, 443, 446, 482, 459, 446, 467, 338, 441, 451, 468, 446, 458, 444, 462, 454, 125, 37, 320, 83, 312, 448, 442, 561, 443, 498, 442, 453, 605, 10, 114, 355, 444, 443, 438, 451, 446, 463, 453, 18, 43, 143, 444, 464, 445, 693, 461, 489, 665, 15, 439, 766, 826, 12, 17, 34, 518, 51, 71, 21, 53, 177, 395, 229, 112, 34, 19, 100, 24, 21, 18, 165, 36, 73, 14, 77, 13, 55, 131, 38, 22, 30, 79, 621, 16, 12, 103, 31, 693, 35, 4, 71, 12, 31, 77, 22, 6, 23, 25, 66, 64, 19, 12, 24, 101, 627, 701, 757, 642, 172, 29, 4, 200, 434, 437, 32, 19, 9, 165, 429, 436, 445, 432, 555, 467, 430, 523, 445, 429, 440, 449, 475, 435, 448, 661, 444, 487, 429, 431, 452, 467, 67, 474, 431, 458, 430, 480, 427, 444, 487, 650, 526, 526, 444, 432, 425, 430, 459, 465, 443, 445, 427, 462, 516, 430, 456, 486, 801, 440, 499, 450, 443, 26, 14, 460, 432, 434, 672, 451, 424, 877, 749, 404, 10, 10, 607, 156, 78, 7, 529, 12, 10, 11, 24, 268, 33, 42, 183, 11, 9, 34, 9, 357, 408, 346, 146, 365, 88, 401, 27, 348, 10, 55, 22, 19, 13, 23, 65, 19, 61, 43, 9, 14, 572, 371, 5, 18, 71, 3, 17, 36, 19, 110, 75, 245, 27, 748, 90, 57, 33, 166, 31, 19, 325, 2, 47, 30, 58, 29, 246, 31, 4, 876, 331, 24, 701, 8, 44, 20, 228, 11, 18, 774, 11, 1, 6, 2, 6, 35, 733, 23, 1, 136, 4, 92, 23, 98, 25, 296, 44, 18, 41, 26, 7, 11, 443, 21, 12, 19, 106, 69, 35, 18, 24, 1, 17, 1, 64, 1, 460, 6, 625, 39, 68, 43, 37, 37, 45, 56, 73, 39, 47, 81, 44, 64, 29, 84, 47, 131, 31, 29, 36, 97, 32, 48, 38, 38, 81, 108, 49, 34, 28, 81, 33, 325, 438, 222, 180, 38, 5, 30, 172, 2, 187, 10, 27, 16, 12, 28, 16, 642, 605, 82, 257, 13, 73, 374, 37, 62, 345, 54, 727, 35, 6, 20, 208, 3, 3, 102, 195, 77, 374, 56, 213, 318, 298, 45, 5, 2, 5, 6, 6, 748, 424, 22, 32, 61, 7, 12, 33, 662, 875, 62, 29, 53, 303, 15, 19, 610, 599, 198, 320, 253, 210, 219, 203, 32, 193, 15, 136, 306, 87, 13, 7, 829, 17, 619, 18, 39, 18, 13, 8, 35, 9, 339, 27, 37, 82, 19, 87, 286, 793, 37, 26, 27, 46, 37, 31, 768, 94, 10, 5, 62, 19, 254, 22, 255, 105, 763, 12, 19, 19, 34, 20, 58, 14, 10, 52, 17, 13, 37, 24, 20, 18, 58, 8, 7, 300, 78, 16, 6, 3, 11, 158, 95, 13, 8, 6, 3, 8, 63, 15, 29, 31, 38, 25, 11, 11, 25, 35, 5, 9, 57, 5, 64, 251, 93, 141, 95, 7, 140, 164, 14, 42, 431, 12, 3, 41, 390, 37, 9, 626, 39, 30, 12, 6, 17, 10, 30, 59, 25, 703, 10, 406, 12, 653, 88, 9, 629, 621, 104, 8, 191, 40, 44, 47, 339, 29, 173, 24, 25, 117, 28, 46, 23, 51, 87, 25, 27, 25, 58, 26, 35, 25, 54, 66, 37, 28, 31, 23, 176, 118, 256, 511, 23, 76, 50, 212, 16, 20, 5, 109, 114, 32, 16, 71, 3, 43, 151, 20, 103, 136, 149, 42, 69, 11, 716, 7, 9, 9, 23, 54, 21, 580, 189, 3, 602, 252, 5, 10, 6, 6, 25, 23, 20, 26, 28, 18, 44, 120, 30, 40, 12, 5, 64, 55, 20, 7, 5, 40, 36, 46, 40, 29, 253, 94, 34, 272, 24, 54, 461, 4, 14, 5, 17, 17, 12, 17, 15, 52, 10, 313, 5, 17, 115, 9, 19, 19, 7, 43, 65, 18, 117, 92, 23, 35, 10, 11, 41, 15, 110, 7, 10, 555, 17, 26, 24, 7, 104, 13, 175, 36, 6, 59, 8, 29, 58, 17, 8, 181, 24, 10, 1, 3, 38, 8, 4, 82, 414, 17, 146, 4, 27, 8, 5, 11, 144, 3, 7, 14, 10, 10, 2, 62, 41, 4, 60, 128, 11, 6, 57, 16, 3, 69, 59, 46, 29, 189, 9, 179, 38, 3, 8, 18, 119, 346, 29, 22, 22, 203, 25, 75, 78, 33, 110, 27, 20, 20, 25, 29, 64, 38, 63, 178, 65, 63, 27, 23, 19, 19, 20, 20, 159, 187, 20, 55, 22, 44, 82, 128, 58, 20, 234, 702, 93, 344, 20, 41, 33, 76, 20, 107, 65, 20, 23, 38, 184, 25, 25, 100, 19, 205, 33, 20, 19, 18, 112, 18, 26, 24, 90, 21, 22, 20, 19, 19, 39, 69, 19, 75, 362, 31, 98, 71, 463, 506, 36, 18, 33, 19, 609, 50, 55, 22, 46, 95, 25, 52, 24, 42, 34, 35, 36, 12, 49, 37, 26, 38, 9, 19, 31, 24, 16, 47, 25, 33, 21, 4, 69, 21, 26, 44, 43, 45, 24, 20, 32, 28, 75, 99, 15, 854, 41, 16, 54, 434, 890, 16, 38, 53, 14, 9, 20, 29, 25, 38, 16, 59, 14, 10, 786, 6, 249, 82, 21, 39, 36, 57, 42, 50, 5, 18, 17, 14, 22, 12, 8, 36, 17, 37, 7, 6, 30, 10, 12, 95, 3, 18, 47, 37, 15, 12, 6, 315, 7, 6, 5, 9, 9, 11, 17, 660, 144, 366, 245, 624, 5, 6, 32, 157, 296, 58, 67, 6, 51, 12, 123, 20, 23, 5, 5, 44, 70, 29, 52, 52, 22, 17, 63, 78, 7, 11, 543, 15, 10, 12, 838, 11, 130, 16, 172, 1, 12, 48, 764, 141, 3, 4, 416, 17, 18, 4, 11, 523, 534, 43, 23, 6, 10, 24, 18, 53, 130, 12, 202, 2, 68, 83, 28, 73, 15, 646, 46, 6, 7, 32, 135, 22, 39, 95, 9, 8, 3, 19, 144, 1, 75, 26, 38, 764, 21, 32, 19, 36, 27, 13, 14, 361, 25, 13, 51, 36, 37, 35, 212, 57, 26, 13, 635, 580, 19, 53, 7, 10, 20, 514, 528, 4, 511, 2, 110, 172, 89, 72, 554, 36, 45, 85, 278, 28, 21, 267, 26, 110, 243, 266, 236, 123, 118, 306, 9, 41, 111, 131, 10, 36, 244, 131, 99, 106, 116, 270, 96, 790, 360, 530, 579, 29, 67, 73, 21, 14, 372, 786, 572, 3, 457, 16, 13, 51, 119, 10, 367, 141, 133, 42, 544, 105, 29, 300, 474, 785, 134, 3, 234, 287, 108, 124, 132, 107, 217, 230, 128, 252, 19, 128, 12, 122, 16, 151, 188, 116, 130, 84, 90, 95, 83, 114, 87, 260, 83, 153, 292, 72, 117, 82, 71, 58, 25, 72, 35, 372, 18, 27, 9, 28, 431, 4, 763, 586, 9, 2, 207, 86, 109, 81, 38, 289, 68, 496, 509, 96, 272, 15, 17, 28, 267, 71, 33, 108, 239, 555, 23, 251, 164, 29, 9, 275, 38, 24, 15, 50, 31, 12, 107, 124, 116, 3, 8, 166, 40, 13, 14, 17, 7, 690, 311, 889, 551, 545, 549, 544, 617, 768, 541, 533, 532, 525, 493, 660, 494, 488, 609, 570, 22, 540, 489, 500, 665, 497, 548, 616, 561, 62, 57, 88, 108, 479, 485, 521, 503, 500, 502, 517, 716, 525, 487, 518, 527, 511, 508, 490, 492, 495, 494, 486, 498, 507, 491, 604, 189, 527, 615, 210, 505, 490, 717, 31, 64, 59, 41, 33, 483, 209, 114, 116, 170, 139, 123, 113, 159, 127, 119, 116, 317, 121, 278, 32, 32, 135, 117, 165, 113, 166, 127, 258, 145, 325, 128, 121, 112, 129, 141, 173, 118, 158, 145, 134, 109, 49, 76, 19, 24, 20, 82, 32, 36, 626, 753, 568, 709, 554, 404, 579, 551, 398, 398, 419, 11, 536, 586, 558, 25, 555, 4, 530, 391, 516, 177, 25, 15, 21, 16, 63, 37, 156, 107, 511, 103, 85, 479, 65, 66, 75, 104, 65, 213, 317, 571, 74, 238, 702, 338, 312, 310, 310, 313, 324, 310, 90, 215, 137, 82, 27, 9, 68, 96, 18, 676, 319, 201, 175, 91, 176, 140, 275, 33, 173, 147, 154, 218, 151, 118, 116, 156, 770, 339, 446, 108, 9, 11, 10, 36, 32, 1, 97, 4, 188, 46, 6, 359, 46, 137, 140, 250, 110, 88, 221, 199, 150, 162, 142, 36, 7, 171, 209, 64, 829, 57, 53, 10, 22, 187, 47, 172, 21, 7, 9, 36, 7, 19, 14, 14, 29, 104, 3, 18, 10, 124, 14, 27, 198, 7, 10, 164, 65, 17, 42, 187, 67, 16, 35, 13, 66, 7, 43, 75, 12, 31, 19, 262, 15, 10, 76, 9, 131, 29, 13, 39, 234, 3, 482, 306, 225, 224, 205, 311, 209, 231, 220, 477, 216, 223, 288, 79, 26, 24, 25, 32, 28, 99, 131, 86, 55, 26, 34, 24, 24, 25, 125, 48, 51, 22, 19, 8, 7, 21, 5, 10, 17, 59, 45, 50, 121, 7, 39, 15, 42, 109, 12, 114, 41, 351, 17, 49, 73, 69, 81, 20, 115, 29, 15, 32, 14, 140, 4, 316, 52, 6, 6, 14, 66, 66, 103, 377, 769, 20, 29, 58, 5, 3, 119, 7, 2, 7, 19, 160, 512, 8, 588, 121, 37, 18, 45, 580, 22, 100, 113, 12, 17, 819, 109, 41, 14, 31, 13, 6, 6, 6, 6, 6, 6, 6, 6, 6, 6, 10, 6, 6, 6, 9, 6, 6, 14, 5, 16, 6, 50, 5, 30, 4, 7, 4, 4, 5, 1, 3, 2, 3, 7, 3, 5, 4, 3, 4, 4, 2, 3, 5, 58, 5, 3, 3, 3, 3, 3, 14, 2, 2, 2, 534, 8, 3, 1, 4, 5, 9, 196, 25, 25, 27, 25, 149, 160, 6, 164, 81, 167, 181, 100, 140, 147, 23, 11, 33, 593, 2, 14, 16, 3, 49, 9, 68, 17, 40, 15, 89, 51, 9, 15, 168, 131, 140, 129, 136, 117, 139, 470, 109, 90, 69, 71, 72, 65, 62, 105, 552, 161, 61, 9, 243, 19, 89, 28, 17, 21, 27, 32, 492, 14, 805, 279, 279, 281, 278, 278, 279, 278, 279, 279, 279, 279, 278, 279, 279, 279, 281, 279, 279, 279, 278, 279, 279, 279, 288, 280, 284, 308, 87, 17, 278, 203, 150, 19, 363, 16, 10, 768, 19, 41, 767, 221, 353, 790, 196, 147, 145, 151, 17, 16, 75, 40, 14, 50, 36, 161, 162, 20, 222, 34, 4, 645, 562, 54, 8, 7, 64, 608, 10, 29, 204, 73, 32, 220, 6, 4, 27, 5, 5, 19, 32, 31, 7, 17, 25, 22, 69, 31, 887, 33, 30, 18, 22, 26, 13, 29, 20, 26, 36, 93, 77, 18, 13, 474, 19, 49, 32, 12, 12, 27, 397, 480, 715, 232, 48, 22, 51, 21, 637, 48, 54, 36, 49, 34, 18, 13, 193, 155, 30, 32, 35, 496, 82, 29, 82, 39, 8, 19, 15, 10, 87, 190, 55, 54, 65, 63, 731, 100, 329, 53, 99, 452, 67, 100, 73, 269, 80, 594, 326, 168, 350, 104, 176, 745, 394, 270, 27, 11, 63, 144, 209, 395, 6, 47, 1, 4, 11, 13, 16, 8, 628, 37, 11, 25, 26, 18, 94, 142, 120, 869, 4, 22, 9, 3, 2, 8, 19, 24, 19, 56, 11, 11, 22, 39, 6, 3, 19, 40, 14, 5, 20, 10, 10, 12, 14, 21, 36, 359, 20, 237, 16, 28, 4, 3, 22, 18, 58, 15, 75, 55, 32, 92, 2, 2, 2, 2, 9, 13, 29, 6, 26, 5, 21, 32, 20, 10, 17, 41, 2, 4, 10, 7, 12, 3, 14, 14, 3, 4, 4, 6, 4, 9, 12, 6, 22, 11, 20, 2, 2, 2, 5, 46, 2, 61, 2, 2, 4, 3, 58, 3, 12, 23, 10, 4, 5, 2, 5, 8, 11, 32, 201, 27, 9, 168, 65, 38, 28, 8, 14, 10, 12, 13, 8, 9, 41, 32, 32, 3, 3, 4, 2, 1, 4, 4, 10, 4, 1, 5, 53, 13, 3, 1, 13, 9, 70, 8, 36, 3, 24, 8, 13, 63, 10, 9, 47, 12, 6, 398, 187, 60, 49, 48, 152, 40, 453, 673, 68, 46, 47, 43, 356, 4, 57, 38, 355, 124, 8, 18, 6, 248, 401, 739, 771, 801, 781, 78, 770, 8, 14, 729, 756, 90, 19, 3, 727, 880, 741, 862, 778, 735, 804, 814, 732, 43, 736, 744, 731, 732, 738, 727, 734, 755, 802, 6, 13, 140, 727, 797, 782, 16, 41, 60, 32, 112, 14, 8, 17, 1, 26, 1, 22, 11, 2, 12, 87, 8, 16, 6, 22, 25, 3, 36, 33, 7, 4, 24, 730, 757, 44, 846, 14, 41, 8, 618, 735, 771, 736, 8, 9, 172, 10, 31, 44, 47, 99, 33, 3, 74, 4, 73, 14, 31, 57, 13, 90, 226, 731, 738, 727, 753, 727, 852, 8, 72, 48, 754, 49, 733, 731, 9, 59, 18, 5, 4, 37, 25, 42, 745, 746, 6, 6, 6, 217, 27, 730, 8, 895, 39, 16, 33, 10, 7, 22, 2, 8, 41, 732, 737, 735, 3, 43, 829, 11, 50, 534, 728, 829, 727, 731, 20, 733, 729, 757, 730, 725, 854, 198, 25, 109, 58, 501, 487, 484, 484, 71, 646, 8, 14, 14, 24, 416, 600, 7, 18, 852, 56, 38, 79, 21, 37, 64, 4, 5, 209, 50, 8, 151, 10, 85, 3, 2, 5, 481, 634, 474, 480, 691, 476, 526, 649, 481, 658, 477, 479, 472, 575, 484, 523, 579, 490, 483, 787, 532, 487, 500, 474, 639, 480, 474, 596, 494, 494, 480, 662, 478, 592, 622, 519, 478, 619, 32, 47, 36, 31, 31, 31, 46, 32, 79, 28, 498, 29, 31, 33, 76, 47, 29, 27, 9, 6, 5, 7, 17, 19, 3, 13, 7, 5, 47, 3, 1, 34, 46, 21, 3, 10, 8, 155, 77, 5, 1, 9, 4, 24, 32, 811, 90, 6, 78, 25, 7, 8, 2, 2, 7, 25, 8, 515, 744, 645, 595, 512, 618, 503, 708, 1, 8, 42, 344, 494, 498, 518, 477, 475, 502, 471, 469, 386, 497, 251, 177, 266, 139, 171, 163, 142, 180, 131, 126, 123, 133, 142, 124, 137, 174, 144, 126, 154, 334, 124, 326, 126, 449, 166, 198, 393, 206, 231, 181, 140, 125, 135, 119, 131, 123, 450, 199, 356, 318, 8, 548, 184, 134, 237, 174, 396, 148, 134, 228, 786, 131, 153, 158, 131, 209, 122, 118, 117, 168, 118, 246, 113, 112, 132, 761, 67, 88, 87, 67, 214, 56, 2, 54, 7, 6, 75, 523, 226, 24, 44, 4, 2, 24, 9, 341, 180, 9, 496, 54, 42, 18, 1, 7, 22, 3, 637, 84, 14, 10, 214, 305, 3, 590, 103, 90, 648, 128, 160, 13, 17, 848, 18, 5, 118, 771, 18, 8, 846, 199, 240, 11, 17, 102, 70, 32, 149, 60, 87, 71, 207, 160, 95, 26, 20, 25, 686, 261, 37, 35, 39, 97, 58, 630, 22, 33, 28, 89, 275, 31, 33, 20, 17, 677, 5, 96, 6, 6, 115, 49, 103, 263, 12, 150, 55, 189, 13, 44, 72, 29, 16, 86, 68, 25, 105, 15, 18, 33, 16, 15, 109, 66, 20, 28, 795, 134, 229, 16, 295, 296, 14, 68, 75, 174, 8, 140, 1, 58, 19, 22, 753, 671, 17, 122, 14, 112, 39, 25, 20, 691, 18, 606, 6, 65, 102, 116, 48, 47, 8, 17, 11, 3, 110, 21, 26, 148, 31, 74, 212, 700, 7, 47, 279, 203, 8, 846, 11, 2, 2, 2, 5, 3, 15, 84, 713, 370, 9, 55, 8, 47, 8, 22, 525, 773, 299, 312, 167, 330, 329, 659, 94, 674, 325, 594, 472, 585, 477, 474, 472, 436, 8, 7, 54, 147, 9, 32, 613, 17, 109, 95, 94, 233, 111, 78, 78, 80, 74, 132, 81, 84, 80, 77, 394, 78, 79, 62, 67, 74, 105, 62, 93, 361, 30, 51, 8, 76, 17, 87, 31, 800, 185, 60, 382, 236, 31, 54, 36, 44, 28, 32, 39, 30, 35, 28, 313, 69, 38, 36, 105, 771, 30, 32, 35, 48, 33, 139, 43, 45, 38, 35, 135, 32, 109, 33, 37, 62, 30, 41, 70, 31, 30, 30, 34, 30, 35, 66, 30, 33, 70, 140, 30, 52, 30, 39, 28, 39, 431, 32, 40, 29, 85, 31, 49, 96, 50, 29, 51, 29, 57, 53, 28, 37, 240, 50, 27, 33, 41, 114, 31, 32, 32, 30, 37, 44, 32, 359, 27, 32, 32, 31, 32, 29, 34, 203, 112, 50, 175, 443, 27, 53, 65, 153, 49, 34, 320, 32, 795, 29, 27, 25, 39, 21, 121, 54, 30, 29, 145, 30, 222, 215, 297, 27, 27, 26, 125, 46, 306, 30, 34, 46, 20, 82, 38, 59, 77, 26, 31, 31, 77, 46, 10, 85, 57, 37, 19, 19, 21, 96, 27, 16, 168, 539, 207, 6, 4, 4, 93, 12, 63, 5, 69, 70, 10, 2, 10, 6, 3, 25, 12, 21, 608, 693, 460, 28, 16, 15, 51, 58, 22, 641, 125, 22, 21, 488, 365, 316, 314, 284, 221, 219, 48, 30, 9, 160, 25, 57, 492, 50, 6, 567, 316, 755, 737, 735, 8, 471, 36, 23, 71, 608, 44, 9, 342, 714, 428, 34, 47, 51, 28, 197, 238, 439, 187, 885, 878, 264, 126, 21, 196, 56, 42, 15, 12, 11, 23, 11, 22, 5, 34, 24, 49, 368, 6, 11, 27, 14, 11, 115, 183, 45, 80, 8, 310, 306, 620, 474, 19, 703, 64, 5, 420, 11, 770, 489, 295, 243, 77, 309, 95, 136, 5, 155, 56, 43, 90, 33, 32, 84, 20, 705, 76, 44, 129, 45, 116, 57, 35, 275, 98, 9, 9, 11, 6, 123, 33, 630, 140, 187, 172, 786, 13, 121, 8, 263, 287, 527, 316, 408, 256, 705, 387, 244, 242, 375, 178, 122, 93, 216, 41, 88, 16, 22, 78, 84, 29, 42, 32, 24, 78, 62, 39, 498, 50, 560, 34, 33, 49, 45, 51, 343, 29, 26, 104, 136, 402, 190, 128, 138, 163, 117, 147, 214, 127, 195, 119, 122, 106, 621, 560, 560, 560, 560, 562, 560, 204, 6, 56, 79, 71, 69, 282, 375, 13, 54, 58, 124, 736, 120, 153, 85, 55, 301, 151, 39, 9, 172, 53, 9, 723, 27, 159, 232, 849, 325, 5, 12, 19, 20, 20, 174, 73, 156, 519, 444, 619, 36, 36, 14, 52, 112, 234, 194, 170, 49, 192, 20, 6, 164, 121, 9, 209, 2, 275, 284, 249, 251, 547, 393, 19, 252, 263, 247, 252, 249, 761, 12, 21, 372, 19, 28, 67, 17, 13, 55, 54, 15, 10, 32, 4, 19, 148, 3, 242, 261, 238, 283, 238, 238, 249, 241, 339, 164, 237, 431, 99, 250, 242, 312, 111, 98, 97, 262, 97, 91, 87, 79, 410, 163, 90, 98, 85, 72, 76, 70, 134, 76, 73, 125, 92, 93, 92, 109, 94, 108, 75, 83, 72, 114, 113, 77, 124, 77, 92, 74, 77, 84, 16, 66, 58, 62, 64, 103, 60, 195, 93, 56, 88, 61, 49, 12, 2, 7, 12, 18, 14, 9, 82, 15, 10, 19, 12, 16, 25, 15, 66, 39, 15, 476, 13, 134, 16, 47, 6, 35, 2, 45, 5, 20, 25, 40, 26, 21, 3, 298, 9, 47, 26, 10, 44, 22, 22, 32, 122, 396, 25, 21, 7, 14, 1, 20, 4, 1, 22, 344, 62, 65, 7, 3, 5, 5, 466, 228, 27, 55, 65, 100, 63, 56, 50, 56, 50, 54, 77, 346, 54, 130, 59, 77, 53, 146, 100, 16, 8, 47, 496, 34, 7, 52, 49, 16, 29, 12, 20, 13, 37, 39, 576, 484, 474, 17, 44, 44, 101, 99, 74, 323, 303, 850, 429, 169, 19, 79, 143, 10, 22, 74, 56, 66, 193, 128, 774, 194, 6, 6, 42, 15, 740, 102, 81, 78, 160, 122, 56, 46, 1, 17, 6, 12, 604, 12, 6, 13, 757, 25, 7, 348, 459, 8, 10, 9, 16, 689, 152, 13, 39, 64, 6, 5, 107, 23, 8, 8, 108, 852, 879, 672, 785, 14, 16, 17, 12, 5, 137, 34, 52, 1, 26, 424, 299, 20, 59, 233, 28, 142, 706, 14, 5, 14, 13, 9, 142, 86, 41, 230, 74, 104, 142, 65, 67, 101, 74, 96, 75, 62, 228, 72, 62, 76, 60, 59, 47, 39, 55, 40, 40, 53, 38, 86, 54, 42, 44, 44, 31, 485, 32, 86, 31, 29, 37, 2, 199, 8, 13, 48, 13, 5, 9, 161, 164, 208, 292, 6, 23, 19, 4, 15, 130, 24, 68, 198, 296, 4, 4, 27, 52, 13, 180, 12, 5, 2, 145, 7, 4, 26, 5, 7, 2, 11, 2, 247, 6, 10, 8, 10, 3, 2, 274, 2, 127, 11, 18, 62, 225, 223, 7, 9, 30, 45, 158, 36, 410, 30, 483, 28, 56, 15, 2, 97, 23, 36, 26, 156, 4, 36, 1, 163, 9, 476, 28, 55, 175, 3, 33, 20, 66, 279, 171, 40, 495, 49, 64, 44, 75, 11, 153, 7, 5, 541, 8, 25, 63, 4, 12, 4, 13, 9, 35, 584, 45, 14, 6, 201, 42, 83, 157, 166, 130, 136, 123, 155, 127, 156, 141, 141, 17, 161, 315, 152, 145, 167, 131, 122, 251, 128, 120, 125, 230, 129, 125, 170, 128, 192, 121, 118, 116, 110, 117, 120, 114, 118, 134, 167, 116, 110, 114, 145, 208, 120, 138, 110, 198, 109, 134, 176, 111, 234, 129, 119, 155, 110, 111, 139, 123, 111, 110, 108, 63, 51, 50, 43, 155, 42, 51, 85, 74, 277, 91, 109, 224, 52, 66, 56, 66, 93, 79, 63, 81, 40, 38, 50, 33, 30, 9, 27, 22, 6, 1, 216, 19, 21, 21, 7, 76, 8, 13, 65, 13, 29, 24, 4, 9, 19, 4, 70, 135, 2, 4, 537, 17, 179, 92, 38, 8, 36, 18, 9, 8, 15, 36, 6, 777, 8, 7, 28, 17, 97, 26, 12, 6, 130, 62, 19, 93, 29, 81, 32, 17, 31, 21, 47, 31, 16, 134, 7, 43, 1, 5, 13, 27, 12, 18, 100, 25, 7, 597, 25, 14, 22, 11, 156, 19, 47, 2, 16, 17, 14, 812, 5, 26, 5, 43, 21, 12, 13, 23, 13, 11, 5, 12, 28, 67, 42, 8, 99, 23, 11, 1, 29, 5, 59, 399, 28, 22, 26, 6, 9, 1, 7, 36, 24, 8, 3, 6, 12, 90, 38, 5, 12, 9, 9, 41, 22, 6, 381, 70, 8, 64, 820, 6, 380, 1, 2, 40, 358, 8, 4, 8, 302, 26, 25, 216, 22, 29, 53, 27, 23, 13, 6, 12, 8, 5, 29, 10, 9, 6, 184, 13, 19, 107, 17, 8, 9, 59, 42, 286, 17, 46, 24, 6, 2, 7, 7, 21, 25, 18, 327, 14, 13, 15, 20, 4, 10, 35, 4, 6, 9, 13, 49, 5, 30, 419, 11, 55, 36, 23, 19, 62, 7, 76, 33, 735, 354, 45, 13, 12, 10, 34, 6, 66, 62, 110, 62, 70, 68, 55, 137, 68, 56, 52, 51, 48, 99, 497, 59, 81, 279, 60, 168, 65, 66, 573, 45, 61, 69, 48, 41, 10, 9, 56, 435, 203, 19, 65, 167, 18, 10, 54, 98, 6, 12, 39, 14, 9, 10, 75, 4, 3, 6, 14, 37, 34, 41, 102, 96, 372, 40, 74, 51, 34, 26, 142, 79, 22, 24, 60, 11, 8, 87, 40, 118, 26, 12, 25, 13, 6, 328, 25, 142, 452, 54, 13, 85, 23, 20, 57, 37, 34, 28, 25, 101, 112, 165, 845, 69, 27, 95, 100, 135, 22, 40, 252, 101, 711, 88, 16, 83, 855, 207, 48, 70, 358, 129, 248, 181, 22, 281, 328, 256, 503, 283, 293, 434, 140, 211, 308, 148, 148, 159, 300, 140, 180, 469, 159, 139, 149, 250, 267, 264, 275, 251, 270, 275, 279, 404, 275, 429, 509, 276, 259, 249, 278, 597, 427, 16, 252, 265, 28, 268, 23, 281, 5, 20, 76, 252, 366, 257, 254, 260, 268, 320, 271, 300, 256, 267, 250, 249, 282, 332, 269, 294, 337, 250, 264, 354, 273, 244, 252, 248, 287, 246, 822, 248, 415, 43, 28, 66, 219, 205, 140, 200, 68, 243, 90, 107, 307, 110, 164, 205, 447, 20, 17, 7, 70, 16, 29, 37, 26, 13, 36, 371, 101, 281, 23, 5, 193, 58, 572, 743, 704, 726, 745, 147, 20, 66, 13, 16, 61, 85, 62, 108, 31, 35, 17, 132, 131, 406, 95, 15, 104, 126, 148, 69, 188, 580, 197, 121, 166, 208, 211, 191, 199, 509, 264, 343, 122, 120, 162, 119, 119, 120, 126, 182, 382, 128, 611, 62, 238, 242, 244, 190, 81, 365, 393, 206, 599, 132, 129, 128, 129, 132, 383, 92, 190, 70, 98, 75, 495, 861, 855, 77, 219, 81, 75, 86, 206, 244, 82, 75, 90, 74, 82, 436, 176, 265, 200, 213, 250, 76, 106, 312, 288, 206, 96, 93, 97, 335, 71, 104, 120, 75, 212, 73, 71, 80, 183, 69, 137, 162, 82, 98, 39, 81, 85, 75, 132, 115, 95, 289, 69, 38, 70, 112, 107, 186, 80, 305, 51, 79, 99, 299, 19, 19, 31, 452, 118, 201, 218, 198, 222, 247, 81, 203, 13, 173, 268, 441, 286, 133, 196, 196, 197, 197, 198, 157, 196, 197, 278, 200, 202, 79, 198, 223, 73, 73, 266, 343, 206, 201, 199, 225, 194, 196, 199, 215, 34, 198, 197, 197, 197, 33, 196, 194, 192, 192, 198, 32, 202, 192, 192, 33, 191, 15, 17, 33, 68, 189, 34, 64, 118, 15, 8, 1, 20, 1, 1, 1, 2, 16, 4, 16, 4, 24, 13, 50, 3, 1, 3, 14, 16, 28, 36, 61, 9, 15, 1, 22, 130, 3, 20, 14, 59, 100, 10, 26, 11, 4, 47, 10, 17, 43, 146, 8, 4, 1, 45, 1, 252, 24, 280, 7, 1, 6, 49, 18, 125, 3, 2, 1, 2, 16, 2, 21, 27, 9, 23, 60, 46, 28, 4, 1, 13, 4, 582, 12, 1, 8, 1, 27, 10, 2, 8, 4, 13, 31, 5, 33, 14, 6, 4, 128, 6, 12, 68, 24, 2, 8, 2, 1, 8, 6, 2, 53, 2, 21, 5, 73, 700, 17, 251, 151, 51, 45, 52, 46, 122, 55, 47, 367, 132, 167, 23, 616, 111, 26, 22, 26, 52, 10, 46, 46, 21, 169, 18, 52, 349, 42, 331, 10, 8, 49, 43, 297, 156, 165, 59, 46, 54, 95, 165, 81, 311, 54, 3, 5, 14, 210, 44, 224, 109, 110, 107, 120, 106, 81, 96, 94, 98, 94, 96, 93, 41, 117, 53, 3, 46, 7, 44, 92, 20, 10, 252, 71, 40, 130, 263, 466, 26, 11, 2, 14, 64, 25, 8, 327, 846, 71, 56, 80, 334, 32, 15, 8, 476, 25, 5, 85, 29, 29, 28, 7, 253, 12, 31, 29, 54, 31, 38, 166, 52, 30, 41, 70, 22, 367, 11, 1, 9, 7, 10, 218, 9, 8, 11, 5, 14, 524, 198, 849, 8, 20, 39, 5, 3, 37, 16, 172, 7, 28, 38, 481, 186, 36, 57, 27, 54, 48, 9, 64, 551, 14, 7, 58, 34, 9, 249, 14, 296, 135, 104, 118, 714, 137, 92, 104, 5, 216, 459, 27, 258, 516, 413, 66, 144, 71, 64, 514, 78, 115, 551, 9, 173, 385, 556, 626, 133, 530, 538, 535, 538, 431, 588, 536, 610, 728, 63, 522, 520, 74, 99, 299, 139, 98, 66, 98, 27, 5, 10, 15, 82, 94, 265, 531, 153, 14, 675, 201, 8, 214, 46, 78, 239, 59, 445, 184, 219, 294, 305, 416, 76, 295, 498, 50, 46, 18, 114, 305, 5, 378, 9, 388, 297, 315, 468, 302, 303, 375, 3, 141, 17, 9, 374, 29, 32, 218, 85, 79, 115, 46, 27, 309, 73, 135, 83, 74, 60, 62, 64, 76, 73, 79, 168, 39, 124, 604, 155, 103, 343, 63, 63, 77, 82, 88, 252, 83, 28, 768, 288, 299, 597, 301, 293, 311, 338, 295, 34, 280, 364, 330, 328, 266, 253, 248, 267, 247, 244, 242, 260, 459, 776, 777, 764, 272, 247, 233, 244, 570, 241, 238, 280, 16, 425, 100, 56, 16, 31, 7, 4, 159, 23, 16, 15, 30, 26, 146, 18, 4, 200, 63, 633, 8, 27, 7, 45, 80, 46, 125, 51, 24, 34, 525, 142, 44, 18, 20, 747, 373, 51, 28, 60, 212, 5, 20, 649, 20, 4, 20, 35, 5, 46, 4, 274, 94, 16, 6, 539, 18, 25, 15, 5, 55, 6, 70, 70, 40, 62, 120, 124, 79, 16, 91, 20, 65, 89, 368, 165, 42, 165, 6, 268, 728, 680, 4, 24, 696, 182, 9, 64, 269, 52, 833, 74, 28, 111, 117, 349, 499, 109, 358, 466, 8, 196, 220, 56, 32, 154, 15, 12, 58, 4, 529, 620, 886, 663, 627, 222, 314, 6, 11, 5, 17, 338, 10, 32, 43, 635, 393, 222, 504, 207, 251, 267, 621, 198, 180, 220, 187, 182, 275, 361, 37, 226, 211, 185, 210, 173, 725, 174, 165, 114, 93, 95, 141, 95, 114, 106, 123, 98, 92, 90, 126, 86, 112, 74, 74, 82, 74, 80, 71, 89, 97, 73, 84, 341, 74, 88, 152, 81, 189, 72, 138, 160, 74, 81, 76, 25, 36, 795, 37, 134, 472, 158, 67, 26, 58, 26, 42, 62, 21, 298, 133, 24, 27, 214, 188, 82, 118, 58, 88, 275, 26, 58, 672, 28, 26, 52, 16, 33, 60, 30, 29, 7, 26, 14, 107, 2, 3, 1, 2, 2, 2, 1, 2, 3, 2, 5, 2, 21, 2, 254, 10, 535, 16, 15, 485, 619, 596, 108, 109, 237, 44, 248, 14, 25, 153, 42, 4, 3, 68, 14, 103, 126, 163, 8, 55, 104, 72, 73, 2, 31, 446, 11, 6, 135, 155, 39, 5, 154, 58, 376, 166, 3, 29, 12, 43, 43, 31, 390, 31, 82, 22, 41, 8, 867, 40, 148, 132, 119, 148, 502, 140, 145, 125, 350, 10, 219, 115, 150, 103, 515, 44, 26, 383, 207, 117, 94, 122, 134, 97, 97, 602, 602, 350, 394, 200, 97, 22, 16, 24, 11, 89, 54, 112, 128, 118, 359, 62, 58, 111, 16, 467, 70, 60, 67, 50, 49, 13, 11, 5, 4, 895, 29, 62, 312, 112, 15, 57, 4, 9, 1, 3, 284, 705, 399, 440, 307, 296, 411, 55, 42, 7, 771, 302, 330, 69, 21, 314, 50, 159, 42, 570, 118, 42, 201, 47, 34, 79, 116, 86, 19, 45, 43, 38, 4, 461, 22, 11, 66, 16, 264, 210, 288, 191, 166, 177, 143, 171, 181, 141, 29, 35, 32, 72, 251, 39, 22, 137, 318, 610, 298, 18, 139, 134, 134, 144, 132, 167, 145, 130, 175, 165, 235, 125, 124, 8, 73, 306, 364, 249, 330, 156, 268, 196, 22, 570, 73, 60, 449, 58, 255, 899, 8, 409, 895, 645, 162, 723, 666, 649, 686, 75, 647, 656, 644, 76, 678, 663, 661, 645, 825, 668, 640, 634, 577, 607, 648, 617, 584, 588, 583, 585, 577, 667, 2, 384, 680, 609, 590, 606, 845, 106, 138, 24, 684, 579, 683, 616, 732, 586, 583, 580, 632, 586, 639, 787, 590, 582, 588, 595, 402, 750, 301, 649, 884, 42, 19, 314, 574, 548, 473, 110, 525, 502, 453, 535, 497, 471, 466, 448, 446, 444, 555, 440, 525, 549, 74, 81, 438, 446, 136, 75, 183, 34, 32, 14, 47, 429, 492, 442, 435, 437, 449, 459, 511, 434, 433, 437, 541, 29, 6, 331, 3, 315, 289, 596, 296, 294, 294, 254, 24, 302, 15, 319, 73, 48, 58, 62, 118, 129, 251, 138, 121, 84, 241, 42, 17, 7, 105, 74, 858, 3, 7, 7, 26, 159, 10, 10, 24, 17, 26, 45, 40, 107, 117, 149, 94, 16, 448, 58, 77, 68, 80, 82, 77, 106, 104, 241, 23, 20, 274, 274, 15, 6, 18, 34, 16, 20, 5, 9, 19, 364, 32, 139, 394, 82, 130, 34, 99, 142, 61, 15, 543, 113, 80, 70, 271, 65, 34, 32, 33, 146, 121, 133, 237, 437, 120, 394, 718, 113, 88, 93, 336, 103, 102, 141, 544, 264, 175, 43, 344, 170, 377, 197, 431, 114, 8, 597, 295, 184, 323, 164, 134, 97, 251, 94, 112, 110, 521, 123, 22, 45, 164, 644, 85, 57, 91, 88, 118, 145, 11, 665, 147, 389, 181, 29, 59, 32, 110, 99, 741, 51, 18, 99, 10, 84, 82, 2, 265, 29, 16, 80, 21, 11, 838, 18, 565, 12, 204, 785, 6, 783, 37, 129, 27, 14, 60, 42, 22, 337, 39, 452, 48, 22, 17, 17, 86, 338, 34, 142, 50, 146, 24, 31, 8, 66, 351, 49, 24, 49, 84, 36, 34, 79, 37, 53, 38, 188, 92, 83, 308, 92, 55, 43, 113, 63, 126, 248, 146, 241, 102, 10, 710, 207, 262, 99, 158, 26, 176, 8, 20, 43, 108, 337, 118, 85, 33, 709, 348, 30, 17, 152, 33, 8, 25, 14, 19, 325, 39, 13, 548, 18, 470, 281, 241, 450, 378, 349, 344, 86, 41, 4, 741, 91, 526, 270, 24, 48, 263, 201, 56, 55, 61, 7, 58, 321, 53, 86, 56, 137, 134, 97, 48, 82, 48, 45, 7, 7, 7, 35, 9, 4, 64, 4, 10, 6, 138, 32, 19, 31, 69, 796, 21, 185, 20, 13, 19, 35, 333, 155, 425, 638, 21, 231, 424, 516, 225, 254, 528, 7, 108, 25, 86, 811, 24, 42, 18, 18, 730, 179, 363, 145, 20, 7, 10, 28, 12, 333, 27, 62, 75, 7, 270, 225, 106, 293, 106, 62, 54, 44, 564, 66, 33, 468, 142, 17, 27, 102, 179, 161, 91, 136, 505, 721, 410, 455, 109, 122, 64, 464, 268, 259, 303, 116, 253, 289, 257, 254, 240, 403, 236, 217, 61, 119, 54, 35, 73, 157, 747, 562, 215, 208, 264, 256, 11, 283, 201, 118, 209, 171, 204, 178, 577, 14, 15, 812, 457, 432, 174, 307, 321, 208, 540, 271, 167, 452, 169, 173, 311, 274, 25, 53, 166, 269, 16, 463, 717, 505, 8, 853, 172, 192, 181, 169, 883, 14, 221, 164, 167, 161, 200, 164, 210, 159, 207, 164, 168, 280, 174, 237, 366, 304, 156, 512, 22, 43, 194, 128, 213, 126, 127, 122, 151, 140, 214, 156, 206, 126, 180, 453, 155, 139, 130, 172, 204, 140, 211, 123, 453, 454, 454, 448, 473, 135, 364, 6, 444, 31, 707, 75, 34, 28, 30, 129, 34, 29, 194, 572, 317, 37, 28, 202, 78, 53, 118, 122, 95, 518, 68, 48, 9, 233, 457, 679, 603, 64, 31, 285, 174, 108, 103, 100, 21, 25, 25, 896, 549, 13, 29, 208, 121, 182, 525, 54, 162, 97, 803, 49, 18, 46, 13, 37, 14, 28, 48, 10, 24, 42, 399, 55, 102, 38, 54, 27, 46, 66, 397, 116, 364, 363, 548, 33, 10, 413, 26, 313, 46, 1, 49, 18, 2, 1, 96, 14, 28, 296, 659, 434, 417, 409, 391, 610, 339, 337, 612, 464, 279, 473, 363, 348, 105, 8, 6, 297, 300, 106, 274, 272, 66, 146, 364, 124, 333, 168, 22, 45, 29, 205, 67, 16, 57, 292, 26, 23, 17, 26, 4, 198, 105, 95, 89, 85, 25, 175, 14, 102, 366, 18, 53, 854, 24, 457, 593, 36, 717, 12, 26, 34, 119, 4, 5, 69, 11, 779, 525, 3, 51, 71, 85, 26, 25, 13, 52, 230, 7, 276, 42, 25, 20, 19, 78, 24, 14, 18, 42, 108, 11, 473, 38, 177, 181, 167, 24, 182, 54, 135, 147, 137, 229, 41, 67, 227, 79, 87, 10, 92, 78, 75, 18, 599, 48, 47, 14, 24, 3, 28, 13, 10, 287, 197, 195, 551, 65, 14, 670, 663, 647, 118, 26, 74, 275, 581, 67, 55, 161, 43, 182, 146, 528, 889, 136, 53, 53, 52, 64, 51, 71, 50, 372, 46, 9, 21, 10, 8, 6, 11, 27, 105, 53, 348, 106, 20, 229, 255, 122, 225, 171, 168, 291, 165, 377, 96, 109, 282, 120, 105, 40, 158, 152, 56, 68, 205, 12, 397, 37, 6, 41, 486, 276, 39, 18, 44, 129, 18, 24, 14, 634, 421, 412, 1, 7, 27, 13, 71, 110, 113, 670, 311, 261, 116, 582, 369, 552, 566, 6, 32, 14, 4, 9, 263, 94, 68, 62, 71, 592, 521, 33, 821, 11, 49, 168, 126, 101, 635, 101, 162, 37, 216, 90, 87, 25, 19, 15, 564, 91, 443, 12, 429, 419, 10, 10, 9, 28, 9, 140, 14, 36, 22, 7, 120, 18, 21, 117, 182, 143, 43, 32, 116, 84, 82, 200, 14, 69, 66, 61, 36, 27, 720, 63, 106, 60, 131, 32, 113, 189, 46, 85, 15, 454, 369, 155, 69, 247, 17, 90, 69, 42, 56, 4, 15, 187, 171, 122, 125, 94, 5, 17, 65, 8, 7, 602, 53, 583, 117, 2, 139, 289, 31, 38, 15, 24, 11, 504, 109, 175, 35, 178, 442, 52, 384, 62, 231, 128, 22, 8, 212, 12, 41, 17, 38, 9, 15, 40, 30, 21, 34, 16, 9, 8, 19, 8, 98, 84, 17, 16, 32, 27, 13, 9, 8, 18, 10, 8, 7, 5, 11, 4, 6, 102, 5, 9, 5, 17, 18, 43, 8, 17, 146, 18, 12, 9, 8, 28, 154, 65, 50, 597, 494, 7, 6, 100, 262, 104, 106, 230, 166, 60, 16, 16, 30, 133, 133, 28, 11, 104, 63, 174, 24, 37, 357, 402, 35, 97, 111, 146, 94, 99, 97, 92, 7, 16, 23, 57, 73, 86, 32, 12, 73, 55, 113, 95, 162, 44, 155, 24, 260, 11, 104, 899, 5, 48, 633, 75, 40, 57, 222, 79, 53, 43, 38, 39, 178, 66, 77, 46, 47, 136, 49, 61, 59, 47, 50, 46, 106, 39, 35, 67, 49, 35, 39, 39, 41, 262, 750, 41, 72, 68, 7, 17, 346, 32, 8, 14, 220, 1, 11, 1, 32, 5, 11, 209, 22, 20, 63, 17, 12, 30, 12, 16, 28, 27, 10, 73, 105, 7, 17, 114, 53, 17, 3, 17, 494, 23, 474, 37, 58, 28, 590, 40, 55, 71, 69, 52, 30, 41, 32, 30, 71, 13, 5, 50, 14, 7, 13, 36, 12, 30, 159, 619, 354, 891, 9, 134, 131, 399, 172, 126, 167, 225, 171, 145, 126, 843, 118, 89, 286, 33, 8, 8, 490, 18, 121, 282, 49, 427, 220, 18, 193, 182, 129, 88, 83, 52, 15, 21, 77, 3, 11, 188, 52, 28, 10, 21, 47, 6, 221, 59, 15, 57, 59, 23, 17, 5, 150, 19, 28, 26, 18, 24, 44, 31, 56, 17, 48, 22, 19, 439, 381, 6, 4, 38, 38, 173, 312, 36, 223, 8, 25, 27, 265, 12, 20, 32, 8, 54, 28, 10, 29, 25, 108, 126, 17, 15, 43, 70, 17, 63, 174, 34, 30, 354, 12, 42, 7, 46, 11, 18, 41, 36, 88, 8, 27, 386, 397, 357, 348, 49, 739, 274, 263, 260, 724, 22, 15, 86, 44, 24, 20, 719, 7, 14, 53, 866, 186, 24, 100, 10, 171, 519, 245, 80, 83, 33, 12, 10, 14, 3, 52, 23, 87, 24, 11, 20, 7, 228, 14, 532, 350, 71, 35, 50, 57, 51, 8, 30, 79, 132, 14, 479, 4, 23, 33, 10, 146, 79, 67, 8, 31, 226, 47, 13, 103, 176], \"y0\": \" \", \"yaxis\": \"y\"}],\n",
              "                        {\"legend\": {\"tracegroupgap\": 0}, \"margin\": {\"t\": 60}, \"template\": {\"data\": {\"bar\": [{\"error_x\": {\"color\": \"#2a3f5f\"}, \"error_y\": {\"color\": \"#2a3f5f\"}, \"marker\": {\"line\": {\"color\": \"#E5ECF6\", \"width\": 0.5}}, \"type\": \"bar\"}], \"barpolar\": [{\"marker\": {\"line\": {\"color\": \"#E5ECF6\", \"width\": 0.5}}, \"type\": \"barpolar\"}], \"carpet\": [{\"aaxis\": {\"endlinecolor\": \"#2a3f5f\", \"gridcolor\": \"white\", \"linecolor\": \"white\", \"minorgridcolor\": \"white\", \"startlinecolor\": \"#2a3f5f\"}, \"baxis\": {\"endlinecolor\": \"#2a3f5f\", \"gridcolor\": \"white\", \"linecolor\": \"white\", \"minorgridcolor\": \"white\", \"startlinecolor\": \"#2a3f5f\"}, \"type\": \"carpet\"}], \"choropleth\": [{\"colorbar\": {\"outlinewidth\": 0, \"ticks\": \"\"}, \"type\": \"choropleth\"}], \"contour\": [{\"colorbar\": {\"outlinewidth\": 0, \"ticks\": \"\"}, \"colorscale\": [[0.0, \"#0d0887\"], [0.1111111111111111, \"#46039f\"], [0.2222222222222222, \"#7201a8\"], [0.3333333333333333, \"#9c179e\"], [0.4444444444444444, \"#bd3786\"], [0.5555555555555556, \"#d8576b\"], [0.6666666666666666, \"#ed7953\"], [0.7777777777777778, \"#fb9f3a\"], [0.8888888888888888, \"#fdca26\"], [1.0, \"#f0f921\"]], \"type\": \"contour\"}], \"contourcarpet\": [{\"colorbar\": {\"outlinewidth\": 0, \"ticks\": \"\"}, \"type\": \"contourcarpet\"}], \"heatmap\": [{\"colorbar\": {\"outlinewidth\": 0, \"ticks\": \"\"}, \"colorscale\": [[0.0, \"#0d0887\"], [0.1111111111111111, \"#46039f\"], [0.2222222222222222, \"#7201a8\"], [0.3333333333333333, \"#9c179e\"], [0.4444444444444444, \"#bd3786\"], [0.5555555555555556, \"#d8576b\"], [0.6666666666666666, \"#ed7953\"], [0.7777777777777778, \"#fb9f3a\"], [0.8888888888888888, \"#fdca26\"], [1.0, \"#f0f921\"]], \"type\": \"heatmap\"}], \"heatmapgl\": [{\"colorbar\": {\"outlinewidth\": 0, \"ticks\": \"\"}, \"colorscale\": [[0.0, \"#0d0887\"], [0.1111111111111111, \"#46039f\"], [0.2222222222222222, \"#7201a8\"], [0.3333333333333333, \"#9c179e\"], [0.4444444444444444, \"#bd3786\"], [0.5555555555555556, \"#d8576b\"], [0.6666666666666666, \"#ed7953\"], [0.7777777777777778, \"#fb9f3a\"], [0.8888888888888888, \"#fdca26\"], [1.0, \"#f0f921\"]], \"type\": \"heatmapgl\"}], \"histogram\": [{\"marker\": {\"colorbar\": {\"outlinewidth\": 0, \"ticks\": \"\"}}, \"type\": \"histogram\"}], \"histogram2d\": [{\"colorbar\": {\"outlinewidth\": 0, \"ticks\": \"\"}, \"colorscale\": [[0.0, \"#0d0887\"], [0.1111111111111111, \"#46039f\"], [0.2222222222222222, \"#7201a8\"], [0.3333333333333333, \"#9c179e\"], [0.4444444444444444, \"#bd3786\"], [0.5555555555555556, \"#d8576b\"], [0.6666666666666666, \"#ed7953\"], [0.7777777777777778, \"#fb9f3a\"], [0.8888888888888888, \"#fdca26\"], [1.0, \"#f0f921\"]], \"type\": \"histogram2d\"}], \"histogram2dcontour\": [{\"colorbar\": {\"outlinewidth\": 0, \"ticks\": \"\"}, \"colorscale\": [[0.0, \"#0d0887\"], [0.1111111111111111, \"#46039f\"], [0.2222222222222222, \"#7201a8\"], [0.3333333333333333, \"#9c179e\"], [0.4444444444444444, \"#bd3786\"], [0.5555555555555556, \"#d8576b\"], [0.6666666666666666, \"#ed7953\"], [0.7777777777777778, \"#fb9f3a\"], [0.8888888888888888, \"#fdca26\"], [1.0, \"#f0f921\"]], \"type\": \"histogram2dcontour\"}], \"mesh3d\": [{\"colorbar\": {\"outlinewidth\": 0, \"ticks\": \"\"}, \"type\": \"mesh3d\"}], \"parcoords\": [{\"line\": {\"colorbar\": {\"outlinewidth\": 0, \"ticks\": \"\"}}, \"type\": \"parcoords\"}], \"pie\": [{\"automargin\": true, \"type\": \"pie\"}], \"scatter\": [{\"marker\": {\"colorbar\": {\"outlinewidth\": 0, \"ticks\": \"\"}}, \"type\": \"scatter\"}], \"scatter3d\": [{\"line\": {\"colorbar\": {\"outlinewidth\": 0, \"ticks\": \"\"}}, \"marker\": {\"colorbar\": {\"outlinewidth\": 0, \"ticks\": \"\"}}, \"type\": \"scatter3d\"}], \"scattercarpet\": [{\"marker\": {\"colorbar\": {\"outlinewidth\": 0, \"ticks\": \"\"}}, \"type\": \"scattercarpet\"}], \"scattergeo\": [{\"marker\": {\"colorbar\": {\"outlinewidth\": 0, \"ticks\": \"\"}}, \"type\": \"scattergeo\"}], \"scattergl\": [{\"marker\": {\"colorbar\": {\"outlinewidth\": 0, \"ticks\": \"\"}}, \"type\": \"scattergl\"}], \"scattermapbox\": [{\"marker\": {\"colorbar\": {\"outlinewidth\": 0, \"ticks\": \"\"}}, \"type\": \"scattermapbox\"}], \"scatterpolar\": [{\"marker\": {\"colorbar\": {\"outlinewidth\": 0, \"ticks\": \"\"}}, \"type\": \"scatterpolar\"}], \"scatterpolargl\": [{\"marker\": {\"colorbar\": {\"outlinewidth\": 0, \"ticks\": \"\"}}, \"type\": \"scatterpolargl\"}], \"scatterternary\": [{\"marker\": {\"colorbar\": {\"outlinewidth\": 0, \"ticks\": \"\"}}, \"type\": \"scatterternary\"}], \"surface\": [{\"colorbar\": {\"outlinewidth\": 0, \"ticks\": \"\"}, \"colorscale\": [[0.0, \"#0d0887\"], [0.1111111111111111, \"#46039f\"], [0.2222222222222222, \"#7201a8\"], [0.3333333333333333, \"#9c179e\"], [0.4444444444444444, \"#bd3786\"], [0.5555555555555556, \"#d8576b\"], [0.6666666666666666, \"#ed7953\"], [0.7777777777777778, \"#fb9f3a\"], [0.8888888888888888, \"#fdca26\"], [1.0, \"#f0f921\"]], \"type\": \"surface\"}], \"table\": [{\"cells\": {\"fill\": {\"color\": \"#EBF0F8\"}, \"line\": {\"color\": \"white\"}}, \"header\": {\"fill\": {\"color\": \"#C8D4E3\"}, \"line\": {\"color\": \"white\"}}, \"type\": \"table\"}]}, \"layout\": {\"annotationdefaults\": {\"arrowcolor\": \"#2a3f5f\", \"arrowhead\": 0, \"arrowwidth\": 1}, \"coloraxis\": {\"colorbar\": {\"outlinewidth\": 0, \"ticks\": \"\"}}, \"colorscale\": {\"diverging\": [[0, \"#8e0152\"], [0.1, \"#c51b7d\"], [0.2, \"#de77ae\"], [0.3, \"#f1b6da\"], [0.4, \"#fde0ef\"], [0.5, \"#f7f7f7\"], [0.6, \"#e6f5d0\"], [0.7, \"#b8e186\"], [0.8, \"#7fbc41\"], [0.9, \"#4d9221\"], [1, \"#276419\"]], \"sequential\": [[0.0, \"#0d0887\"], [0.1111111111111111, \"#46039f\"], [0.2222222222222222, \"#7201a8\"], [0.3333333333333333, \"#9c179e\"], [0.4444444444444444, \"#bd3786\"], [0.5555555555555556, \"#d8576b\"], [0.6666666666666666, \"#ed7953\"], [0.7777777777777778, \"#fb9f3a\"], [0.8888888888888888, \"#fdca26\"], [1.0, \"#f0f921\"]], \"sequentialminus\": [[0.0, \"#0d0887\"], [0.1111111111111111, \"#46039f\"], [0.2222222222222222, \"#7201a8\"], [0.3333333333333333, \"#9c179e\"], [0.4444444444444444, \"#bd3786\"], [0.5555555555555556, \"#d8576b\"], [0.6666666666666666, \"#ed7953\"], [0.7777777777777778, \"#fb9f3a\"], [0.8888888888888888, \"#fdca26\"], [1.0, \"#f0f921\"]]}, \"colorway\": [\"#636efa\", \"#EF553B\", \"#00cc96\", \"#ab63fa\", \"#FFA15A\", \"#19d3f3\", \"#FF6692\", \"#B6E880\", \"#FF97FF\", \"#FECB52\"], \"font\": {\"color\": \"#2a3f5f\"}, \"geo\": {\"bgcolor\": \"white\", \"lakecolor\": \"white\", \"landcolor\": \"#E5ECF6\", \"showlakes\": true, \"showland\": true, \"subunitcolor\": \"white\"}, \"hoverlabel\": {\"align\": \"left\"}, \"hovermode\": \"closest\", \"mapbox\": {\"style\": \"light\"}, \"paper_bgcolor\": \"white\", \"plot_bgcolor\": \"#E5ECF6\", \"polar\": {\"angularaxis\": {\"gridcolor\": \"white\", \"linecolor\": \"white\", \"ticks\": \"\"}, \"bgcolor\": \"#E5ECF6\", \"radialaxis\": {\"gridcolor\": \"white\", \"linecolor\": \"white\", \"ticks\": \"\"}}, \"scene\": {\"xaxis\": {\"backgroundcolor\": \"#E5ECF6\", \"gridcolor\": \"white\", \"gridwidth\": 2, \"linecolor\": \"white\", \"showbackground\": true, \"ticks\": \"\", \"zerolinecolor\": \"white\"}, \"yaxis\": {\"backgroundcolor\": \"#E5ECF6\", \"gridcolor\": \"white\", \"gridwidth\": 2, \"linecolor\": \"white\", \"showbackground\": true, \"ticks\": \"\", \"zerolinecolor\": \"white\"}, \"zaxis\": {\"backgroundcolor\": \"#E5ECF6\", \"gridcolor\": \"white\", \"gridwidth\": 2, \"linecolor\": \"white\", \"showbackground\": true, \"ticks\": \"\", \"zerolinecolor\": \"white\"}}, \"shapedefaults\": {\"line\": {\"color\": \"#2a3f5f\"}}, \"ternary\": {\"aaxis\": {\"gridcolor\": \"white\", \"linecolor\": \"white\", \"ticks\": \"\"}, \"baxis\": {\"gridcolor\": \"white\", \"linecolor\": \"white\", \"ticks\": \"\"}, \"bgcolor\": \"#E5ECF6\", \"caxis\": {\"gridcolor\": \"white\", \"linecolor\": \"white\", \"ticks\": \"\"}}, \"title\": {\"x\": 0.05}, \"xaxis\": {\"automargin\": true, \"gridcolor\": \"white\", \"linecolor\": \"white\", \"ticks\": \"\", \"title\": {\"standoff\": 15}, \"zerolinecolor\": \"white\", \"zerolinewidth\": 2}, \"yaxis\": {\"automargin\": true, \"gridcolor\": \"white\", \"linecolor\": \"white\", \"ticks\": \"\", \"title\": {\"standoff\": 15}, \"zerolinecolor\": \"white\", \"zerolinewidth\": 2}}}, \"violinmode\": \"group\", \"xaxis\": {\"anchor\": \"y\", \"domain\": [0.0, 1.0]}, \"yaxis\": {\"anchor\": \"x\", \"domain\": [0.0, 1.0], \"title\": {\"text\": \"timeInSecounds\"}}},\n",
              "                        {\"responsive\": true}\n",
              "                    ).then(function(){\n",
              "                            \n",
              "var gd = document.getElementById('2598e974-8f9e-4403-90c3-4b37bc596fba');\n",
              "var x = new MutationObserver(function (mutations, observer) {{\n",
              "        var display = window.getComputedStyle(gd).display;\n",
              "        if (!display || display === 'none') {{\n",
              "            console.log([gd, 'removed!']);\n",
              "            Plotly.purge(gd);\n",
              "            observer.disconnect();\n",
              "        }}\n",
              "}});\n",
              "\n",
              "// Listen for the removal of the full notebook cells\n",
              "var notebookContainer = gd.closest('#notebook-container');\n",
              "if (notebookContainer) {{\n",
              "    x.observe(notebookContainer, {childList: true});\n",
              "}}\n",
              "\n",
              "// Listen for the clearing of the current output cell\n",
              "var outputEl = gd.closest('.output');\n",
              "if (outputEl) {{\n",
              "    x.observe(outputEl, {childList: true});\n",
              "}}\n",
              "\n",
              "                        })\n",
              "                };\n",
              "                \n",
              "            </script>\n",
              "        </div>\n",
              "</body>\n",
              "</html>"
            ]
          },
          "metadata": {
            "tags": []
          }
        }
      ]
    },
    {
      "cell_type": "markdown",
      "metadata": {
        "id": "uDVK1HQHUR-q"
      },
      "source": [
        "Descobrindo o tempo que cada questão levou para ser resolvida e a quantidade total de submissões dela"
      ]
    },
    {
      "cell_type": "code",
      "metadata": {
        "id": "Y26KBG85Haab"
      },
      "source": [
        "df_total_questions = df_submission[df_submission[\"timeInSecounds\"] > 0].groupby(['question'])['question'].count().reset_index(name='quantity')"
      ],
      "execution_count": null,
      "outputs": []
    },
    {
      "cell_type": "code",
      "metadata": {
        "id": "p28TvL8wJlnx"
      },
      "source": [
        "df_total_secounds = df_submission[df_submission[\"timeInSecounds\"] > 0].groupby(['question'])['timeInSecounds'].sum().reset_index()"
      ],
      "execution_count": null,
      "outputs": []
    },
    {
      "cell_type": "code",
      "metadata": {
        "colab": {
          "base_uri": "https://localhost:8080/",
          "height": 111
        },
        "id": "gf-5RimUPcWh",
        "outputId": "e76f9446-2f73-4929-c2b9-e6fea7b7771a"
      },
      "source": [
        "df_total_questions.head(2)"
      ],
      "execution_count": null,
      "outputs": [
        {
          "output_type": "execute_result",
          "data": {
            "text/html": [
              "<div>\n",
              "<style scoped>\n",
              "    .dataframe tbody tr th:only-of-type {\n",
              "        vertical-align: middle;\n",
              "    }\n",
              "\n",
              "    .dataframe tbody tr th {\n",
              "        vertical-align: top;\n",
              "    }\n",
              "\n",
              "    .dataframe thead th {\n",
              "        text-align: right;\n",
              "    }\n",
              "</style>\n",
              "<table border=\"1\" class=\"dataframe\">\n",
              "  <thead>\n",
              "    <tr style=\"text-align: right;\">\n",
              "      <th></th>\n",
              "      <th>question</th>\n",
              "      <th>quantity</th>\n",
              "    </tr>\n",
              "  </thead>\n",
              "  <tbody>\n",
              "    <tr>\n",
              "      <th>0</th>\n",
              "      <td>Alocação de matriz</td>\n",
              "      <td>72</td>\n",
              "    </tr>\n",
              "    <tr>\n",
              "      <th>1</th>\n",
              "      <td>Batalha naval</td>\n",
              "      <td>483</td>\n",
              "    </tr>\n",
              "  </tbody>\n",
              "</table>\n",
              "</div>"
            ],
            "text/plain": [
              "             question  quantity\n",
              "0  Alocação de matriz        72\n",
              "1       Batalha naval       483"
            ]
          },
          "metadata": {
            "tags": []
          },
          "execution_count": 34
        }
      ]
    },
    {
      "cell_type": "code",
      "metadata": {
        "colab": {
          "base_uri": "https://localhost:8080/",
          "height": 111
        },
        "id": "TcKiTt0iPWiG",
        "outputId": "9b3b8a3a-6636-42ad-f2dd-f677895bfec6"
      },
      "source": [
        "df_total_secounds.head(2)"
      ],
      "execution_count": null,
      "outputs": [
        {
          "output_type": "execute_result",
          "data": {
            "text/html": [
              "<div>\n",
              "<style scoped>\n",
              "    .dataframe tbody tr th:only-of-type {\n",
              "        vertical-align: middle;\n",
              "    }\n",
              "\n",
              "    .dataframe tbody tr th {\n",
              "        vertical-align: top;\n",
              "    }\n",
              "\n",
              "    .dataframe thead th {\n",
              "        text-align: right;\n",
              "    }\n",
              "</style>\n",
              "<table border=\"1\" class=\"dataframe\">\n",
              "  <thead>\n",
              "    <tr style=\"text-align: right;\">\n",
              "      <th></th>\n",
              "      <th>question</th>\n",
              "      <th>timeInSecounds</th>\n",
              "    </tr>\n",
              "  </thead>\n",
              "  <tbody>\n",
              "    <tr>\n",
              "      <th>0</th>\n",
              "      <td>Alocação de matriz</td>\n",
              "      <td>22945</td>\n",
              "    </tr>\n",
              "    <tr>\n",
              "      <th>1</th>\n",
              "      <td>Batalha naval</td>\n",
              "      <td>175916</td>\n",
              "    </tr>\n",
              "  </tbody>\n",
              "</table>\n",
              "</div>"
            ],
            "text/plain": [
              "             question  timeInSecounds\n",
              "0  Alocação de matriz           22945\n",
              "1       Batalha naval          175916"
            ]
          },
          "metadata": {
            "tags": []
          },
          "execution_count": 35
        }
      ]
    },
    {
      "cell_type": "code",
      "metadata": {
        "id": "_I1gluv7Jy5S"
      },
      "source": [
        "df_questions_secounds = pd.merge(df_total_questions, df_total_secounds, on='question')"
      ],
      "execution_count": null,
      "outputs": []
    },
    {
      "cell_type": "code",
      "metadata": {
        "colab": {
          "base_uri": "https://localhost:8080/",
          "height": 111
        },
        "id": "ELSkj5eEJwDP",
        "outputId": "7940f67a-5389-4390-d2fc-eca20c84fc61"
      },
      "source": [
        "df_questions_secounds.head(2)"
      ],
      "execution_count": null,
      "outputs": [
        {
          "output_type": "execute_result",
          "data": {
            "text/html": [
              "<div>\n",
              "<style scoped>\n",
              "    .dataframe tbody tr th:only-of-type {\n",
              "        vertical-align: middle;\n",
              "    }\n",
              "\n",
              "    .dataframe tbody tr th {\n",
              "        vertical-align: top;\n",
              "    }\n",
              "\n",
              "    .dataframe thead th {\n",
              "        text-align: right;\n",
              "    }\n",
              "</style>\n",
              "<table border=\"1\" class=\"dataframe\">\n",
              "  <thead>\n",
              "    <tr style=\"text-align: right;\">\n",
              "      <th></th>\n",
              "      <th>question</th>\n",
              "      <th>quantity</th>\n",
              "      <th>timeInSecounds</th>\n",
              "    </tr>\n",
              "  </thead>\n",
              "  <tbody>\n",
              "    <tr>\n",
              "      <th>0</th>\n",
              "      <td>Alocação de matriz</td>\n",
              "      <td>72</td>\n",
              "      <td>22945</td>\n",
              "    </tr>\n",
              "    <tr>\n",
              "      <th>1</th>\n",
              "      <td>Batalha naval</td>\n",
              "      <td>483</td>\n",
              "      <td>175916</td>\n",
              "    </tr>\n",
              "  </tbody>\n",
              "</table>\n",
              "</div>"
            ],
            "text/plain": [
              "             question  quantity  timeInSecounds\n",
              "0  Alocação de matriz        72           22945\n",
              "1       Batalha naval       483          175916"
            ]
          },
          "metadata": {
            "tags": []
          },
          "execution_count": 37
        }
      ]
    },
    {
      "cell_type": "code",
      "metadata": {
        "id": "Rja35-moSVmO"
      },
      "source": [
        "#df_questions_secounds.to_json('df_questions_secounds.json',force_ascii=False, orient='records') "
      ],
      "execution_count": null,
      "outputs": []
    },
    {
      "cell_type": "markdown",
      "metadata": {
        "id": "fpu7we_KZFKz"
      },
      "source": [
        "Gráfico de pontos, que informa o tempo gasto vs a quantidade de submissões dessa questão"
      ]
    },
    {
      "cell_type": "code",
      "metadata": {
        "colab": {
          "base_uri": "https://localhost:8080/",
          "height": 542
        },
        "id": "-Bqki4wfTvz-",
        "outputId": "932c67cf-e782-4f21-8e65-76a7b7c3117e"
      },
      "source": [
        "px.scatter(data_frame=df_questions_secounds, y = 'quantity', x = 'timeInSecounds', color='question') "
      ],
      "execution_count": null,
      "outputs": [
        {
          "output_type": "display_data",
          "data": {
            "text/html": [
              "<html>\n",
              "<head><meta charset=\"utf-8\" /></head>\n",
              "<body>\n",
              "    <div>\n",
              "            <script src=\"https://cdnjs.cloudflare.com/ajax/libs/mathjax/2.7.5/MathJax.js?config=TeX-AMS-MML_SVG\"></script><script type=\"text/javascript\">if (window.MathJax) {MathJax.Hub.Config({SVG: {font: \"STIX-Web\"}});}</script>\n",
              "                <script type=\"text/javascript\">window.PlotlyConfig = {MathJaxConfig: 'local'};</script>\n",
              "        <script src=\"https://cdn.plot.ly/plotly-latest.min.js\"></script>    \n",
              "            <div id=\"8f9a4f90-e4c8-403b-a1b0-890ed9bda469\" class=\"plotly-graph-div\" style=\"height:525px; width:100%;\"></div>\n",
              "            <script type=\"text/javascript\">\n",
              "                \n",
              "                    window.PLOTLYENV=window.PLOTLYENV || {};\n",
              "                    \n",
              "                if (document.getElementById(\"8f9a4f90-e4c8-403b-a1b0-890ed9bda469\")) {\n",
              "                    Plotly.newPlot(\n",
              "                        '8f9a4f90-e4c8-403b-a1b0-890ed9bda469',\n",
              "                        [{\"hoverlabel\": {\"namelength\": 0}, \"hovertemplate\": \"question=Aloca\\u00e7\\u00e3o de matriz<br>timeInSecounds=%{x}<br>quantity=%{y}\", \"legendgroup\": \"question=Aloca\\u00e7\\u00e3o de matriz\", \"marker\": {\"color\": \"#636efa\", \"symbol\": \"circle\"}, \"mode\": \"markers\", \"name\": \"question=Aloca\\u00e7\\u00e3o de matriz\", \"showlegend\": true, \"type\": \"scatter\", \"x\": [22945], \"xaxis\": \"x\", \"y\": [72], \"yaxis\": \"y\"}, {\"hoverlabel\": {\"namelength\": 0}, \"hovertemplate\": \"question=Batalha naval<br>timeInSecounds=%{x}<br>quantity=%{y}\", \"legendgroup\": \"question=Batalha naval\", \"marker\": {\"color\": \"#EF553B\", \"symbol\": \"circle\"}, \"mode\": \"markers\", \"name\": \"question=Batalha naval\", \"showlegend\": true, \"type\": \"scatter\", \"x\": [175916], \"xaxis\": \"x\", \"y\": [483], \"yaxis\": \"y\"}, {\"hoverlabel\": {\"namelength\": 0}, \"hovertemplate\": \"question=Batalha naval - 1 tiro<br>timeInSecounds=%{x}<br>quantity=%{y}\", \"legendgroup\": \"question=Batalha naval - 1 tiro\", \"marker\": {\"color\": \"#00cc96\", \"symbol\": \"circle\"}, \"mode\": \"markers\", \"name\": \"question=Batalha naval - 1 tiro\", \"showlegend\": true, \"type\": \"scatter\", \"x\": [12460], \"xaxis\": \"x\", \"y\": [18], \"yaxis\": \"y\"}, {\"hoverlabel\": {\"namelength\": 0}, \"hovertemplate\": \"question=Big int<br>timeInSecounds=%{x}<br>quantity=%{y}\", \"legendgroup\": \"question=Big int\", \"marker\": {\"color\": \"#ab63fa\", \"symbol\": \"circle\"}, \"mode\": \"markers\", \"name\": \"question=Big int\", \"showlegend\": true, \"type\": \"scatter\", \"x\": [10558], \"xaxis\": \"x\", \"y\": [29], \"yaxis\": \"y\"}, {\"hoverlabel\": {\"namelength\": 0}, \"hovertemplate\": \"question=Bingo (ponteiros)<br>timeInSecounds=%{x}<br>quantity=%{y}\", \"legendgroup\": \"question=Bingo (ponteiros)\", \"marker\": {\"color\": \"#FFA15A\", \"symbol\": \"circle\"}, \"mode\": \"markers\", \"name\": \"question=Bingo (ponteiros)\", \"showlegend\": true, \"type\": \"scatter\", \"x\": [8518], \"xaxis\": \"x\", \"y\": [2], \"yaxis\": \"y\"}, {\"hoverlabel\": {\"namelength\": 0}, \"hovertemplate\": \"question=Bubble sort recursivo<br>timeInSecounds=%{x}<br>quantity=%{y}\", \"legendgroup\": \"question=Bubble sort recursivo\", \"marker\": {\"color\": \"#19d3f3\", \"symbol\": \"circle\"}, \"mode\": \"markers\", \"name\": \"question=Bubble sort recursivo\", \"showlegend\": true, \"type\": \"scatter\", \"x\": [14672], \"xaxis\": \"x\", \"y\": [8], \"yaxis\": \"y\"}, {\"hoverlabel\": {\"namelength\": 0}, \"hovertemplate\": \"question=C-Vector<br>timeInSecounds=%{x}<br>quantity=%{y}\", \"legendgroup\": \"question=C-Vector\", \"marker\": {\"color\": \"#FF6692\", \"symbol\": \"circle\"}, \"mode\": \"markers\", \"name\": \"question=C-Vector\", \"showlegend\": true, \"type\": \"scatter\", \"x\": [91702], \"xaxis\": \"x\", \"y\": [74], \"yaxis\": \"y\"}, {\"hoverlabel\": {\"namelength\": 0}, \"hovertemplate\": \"question=CRUD - Com aloca\\u00e7\\u00e3o din\\u00e2mica - Rep<br>timeInSecounds=%{x}<br>quantity=%{y}\", \"legendgroup\": \"question=CRUD - Com aloca\\u00e7\\u00e3o din\\u00e2mica - Rep\", \"marker\": {\"color\": \"#B6E880\", \"symbol\": \"circle\"}, \"mode\": \"markers\", \"name\": \"question=CRUD - Com aloca\\u00e7\\u00e3o din\\u00e2mica - Rep\", \"showlegend\": true, \"type\": \"scatter\", \"x\": [9511], \"xaxis\": \"x\", \"y\": [54], \"yaxis\": \"y\"}, {\"hoverlabel\": {\"namelength\": 0}, \"hovertemplate\": \"question=CRUD 2 - Rela\\u00e7\\u00f5es Entre os Dados<br>timeInSecounds=%{x}<br>quantity=%{y}\", \"legendgroup\": \"question=CRUD 2 - Rela\\u00e7\\u00f5es Entre os Dados\", \"marker\": {\"color\": \"#FF97FF\", \"symbol\": \"circle\"}, \"mode\": \"markers\", \"name\": \"question=CRUD 2 - Rela\\u00e7\\u00f5es Entre os Dados\", \"showlegend\": true, \"type\": \"scatter\", \"x\": [4786], \"xaxis\": \"x\", \"y\": [4], \"yaxis\": \"y\"}, {\"hoverlabel\": {\"namelength\": 0}, \"hovertemplate\": \"question=Campos de altitude (height field)<br>timeInSecounds=%{x}<br>quantity=%{y}\", \"legendgroup\": \"question=Campos de altitude (height field)\", \"marker\": {\"color\": \"#FECB52\", \"symbol\": \"circle\"}, \"mode\": \"markers\", \"name\": \"question=Campos de altitude (height field)\", \"showlegend\": true, \"type\": \"scatter\", \"x\": [46860], \"xaxis\": \"x\", \"y\": [116], \"yaxis\": \"y\"}, {\"hoverlabel\": {\"namelength\": 0}, \"hovertemplate\": \"question=Ca\\u00e7a-Palavras (ponteiros)<br>timeInSecounds=%{x}<br>quantity=%{y}\", \"legendgroup\": \"question=Ca\\u00e7a-Palavras (ponteiros)\", \"marker\": {\"color\": \"#636efa\", \"symbol\": \"circle\"}, \"mode\": \"markers\", \"name\": \"question=Ca\\u00e7a-Palavras (ponteiros)\", \"showlegend\": true, \"type\": \"scatter\", \"x\": [80427], \"xaxis\": \"x\", \"y\": [124], \"yaxis\": \"y\"}, {\"hoverlabel\": {\"namelength\": 0}, \"hovertemplate\": \"question=Compara\\u00e7\\u00e3o com switch<br>timeInSecounds=%{x}<br>quantity=%{y}\", \"legendgroup\": \"question=Compara\\u00e7\\u00e3o com switch\", \"marker\": {\"color\": \"#EF553B\", \"symbol\": \"circle\"}, \"mode\": \"markers\", \"name\": \"question=Compara\\u00e7\\u00e3o com switch\", \"showlegend\": true, \"type\": \"scatter\", \"x\": [58668], \"xaxis\": \"x\", \"y\": [170], \"yaxis\": \"y\"}, {\"hoverlabel\": {\"namelength\": 0}, \"hovertemplate\": \"question=Conjunto de inteiros<br>timeInSecounds=%{x}<br>quantity=%{y}\", \"legendgroup\": \"question=Conjunto de inteiros\", \"marker\": {\"color\": \"#00cc96\", \"symbol\": \"circle\"}, \"mode\": \"markers\", \"name\": \"question=Conjunto de inteiros\", \"showlegend\": true, \"type\": \"scatter\", \"x\": [606648], \"xaxis\": \"x\", \"y\": [273], \"yaxis\": \"y\"}, {\"hoverlabel\": {\"namelength\": 0}, \"hovertemplate\": \"question=Conjunto de inteiros II<br>timeInSecounds=%{x}<br>quantity=%{y}\", \"legendgroup\": \"question=Conjunto de inteiros II\", \"marker\": {\"color\": \"#ab63fa\", \"symbol\": \"circle\"}, \"mode\": \"markers\", \"name\": \"question=Conjunto de inteiros II\", \"showlegend\": true, \"type\": \"scatter\", \"x\": [272952], \"xaxis\": \"x\", \"y\": [290], \"yaxis\": \"y\"}, {\"hoverlabel\": {\"namelength\": 0}, \"hovertemplate\": \"question=Contador de mai\\u00fasculas e min\\u00fasculas<br>timeInSecounds=%{x}<br>quantity=%{y}\", \"legendgroup\": \"question=Contador de mai\\u00fasculas e min\\u00fasculas\", \"marker\": {\"color\": \"#FFA15A\", \"symbol\": \"circle\"}, \"mode\": \"markers\", \"name\": \"question=Contador de mai\\u00fasculas e min\\u00fasculas\", \"showlegend\": true, \"type\": \"scatter\", \"x\": [13988], \"xaxis\": \"x\", \"y\": [21], \"yaxis\": \"y\"}, {\"hoverlabel\": {\"namelength\": 0}, \"hovertemplate\": \"question=Contador de substrings<br>timeInSecounds=%{x}<br>quantity=%{y}\", \"legendgroup\": \"question=Contador de substrings\", \"marker\": {\"color\": \"#19d3f3\", \"symbol\": \"circle\"}, \"mode\": \"markers\", \"name\": \"question=Contador de substrings\", \"showlegend\": true, \"type\": \"scatter\", \"x\": [425817], \"xaxis\": \"x\", \"y\": [543], \"yaxis\": \"y\"}, {\"hoverlabel\": {\"namelength\": 0}, \"hovertemplate\": \"question=Contar quantos s\\u00e3o maiores de 18 anos<br>timeInSecounds=%{x}<br>quantity=%{y}\", \"legendgroup\": \"question=Contar quantos s\\u00e3o maiores de 18 anos\", \"marker\": {\"color\": \"#FF6692\", \"symbol\": \"circle\"}, \"mode\": \"markers\", \"name\": \"question=Contar quantos s\\u00e3o maiores de 18 anos\", \"showlegend\": true, \"type\": \"scatter\", \"x\": [28112], \"xaxis\": \"x\", \"y\": [37], \"yaxis\": \"y\"}, {\"hoverlabel\": {\"namelength\": 0}, \"hovertemplate\": \"question=Convers\\u00e3o de CASE<br>timeInSecounds=%{x}<br>quantity=%{y}\", \"legendgroup\": \"question=Convers\\u00e3o de CASE\", \"marker\": {\"color\": \"#B6E880\", \"symbol\": \"circle\"}, \"mode\": \"markers\", \"name\": \"question=Convers\\u00e3o de CASE\", \"showlegend\": true, \"type\": \"scatter\", \"x\": [16665], \"xaxis\": \"x\", \"y\": [141], \"yaxis\": \"y\"}, {\"hoverlabel\": {\"namelength\": 0}, \"hovertemplate\": \"question=Create, read, update and delete - CRUD<br>timeInSecounds=%{x}<br>quantity=%{y}\", \"legendgroup\": \"question=Create, read, update and delete - CRUD\", \"marker\": {\"color\": \"#FF97FF\", \"symbol\": \"circle\"}, \"mode\": \"markers\", \"name\": \"question=Create, read, update and delete - CRUD\", \"showlegend\": true, \"type\": \"scatter\", \"x\": [590243], \"xaxis\": \"x\", \"y\": [688], \"yaxis\": \"y\"}, {\"hoverlabel\": {\"namelength\": 0}, \"hovertemplate\": \"question=Crescente, decrescente ou nenhum dos dois<br>timeInSecounds=%{x}<br>quantity=%{y}\", \"legendgroup\": \"question=Crescente, decrescente ou nenhum dos dois\", \"marker\": {\"color\": \"#FECB52\", \"symbol\": \"circle\"}, \"mode\": \"markers\", \"name\": \"question=Crescente, decrescente ou nenhum dos dois\", \"showlegend\": true, \"type\": \"scatter\", \"x\": [129092], \"xaxis\": \"x\", \"y\": [377], \"yaxis\": \"y\"}, {\"hoverlabel\": {\"namelength\": 0}, \"hovertemplate\": \"question=Cruzamento de Retas<br>timeInSecounds=%{x}<br>quantity=%{y}\", \"legendgroup\": \"question=Cruzamento de Retas\", \"marker\": {\"color\": \"#636efa\", \"symbol\": \"circle\"}, \"mode\": \"markers\", \"name\": \"question=Cruzamento de Retas\", \"showlegend\": true, \"type\": \"scatter\", \"x\": [164185], \"xaxis\": \"x\", \"y\": [196], \"yaxis\": \"y\"}, {\"hoverlabel\": {\"namelength\": 0}, \"hovertemplate\": \"question=Dados de aluno em struct<br>timeInSecounds=%{x}<br>quantity=%{y}\", \"legendgroup\": \"question=Dados de aluno em struct\", \"marker\": {\"color\": \"#EF553B\", \"symbol\": \"circle\"}, \"mode\": \"markers\", \"name\": \"question=Dados de aluno em struct\", \"showlegend\": true, \"type\": \"scatter\", \"x\": [888563], \"xaxis\": \"x\", \"y\": [742], \"yaxis\": \"y\"}, {\"hoverlabel\": {\"namelength\": 0}, \"hovertemplate\": \"question=Desenho vetorial<br>timeInSecounds=%{x}<br>quantity=%{y}\", \"legendgroup\": \"question=Desenho vetorial\", \"marker\": {\"color\": \"#00cc96\", \"symbol\": \"circle\"}, \"mode\": \"markers\", \"name\": \"question=Desenho vetorial\", \"showlegend\": true, \"type\": \"scatter\", \"x\": [52729], \"xaxis\": \"x\", \"y\": [45], \"yaxis\": \"y\"}, {\"hoverlabel\": {\"namelength\": 0}, \"hovertemplate\": \"question=Desenho vetorial II<br>timeInSecounds=%{x}<br>quantity=%{y}\", \"legendgroup\": \"question=Desenho vetorial II\", \"marker\": {\"color\": \"#ab63fa\", \"symbol\": \"circle\"}, \"mode\": \"markers\", \"name\": \"question=Desenho vetorial II\", \"showlegend\": true, \"type\": \"scatter\", \"x\": [14543], \"xaxis\": \"x\", \"y\": [63], \"yaxis\": \"y\"}, {\"hoverlabel\": {\"namelength\": 0}, \"hovertemplate\": \"question=Dia da semana (ponteiros)<br>timeInSecounds=%{x}<br>quantity=%{y}\", \"legendgroup\": \"question=Dia da semana (ponteiros)\", \"marker\": {\"color\": \"#FFA15A\", \"symbol\": \"circle\"}, \"mode\": \"markers\", \"name\": \"question=Dia da semana (ponteiros)\", \"showlegend\": true, \"type\": \"scatter\", \"x\": [8349149], \"xaxis\": \"x\", \"y\": [1225], \"yaxis\": \"y\"}, {\"hoverlabel\": {\"namelength\": 0}, \"hovertemplate\": \"question=Duplicatas<br>timeInSecounds=%{x}<br>quantity=%{y}\", \"legendgroup\": \"question=Duplicatas\", \"marker\": {\"color\": \"#19d3f3\", \"symbol\": \"circle\"}, \"mode\": \"markers\", \"name\": \"question=Duplicatas\", \"showlegend\": true, \"type\": \"scatter\", \"x\": [196976], \"xaxis\": \"x\", \"y\": [479], \"yaxis\": \"y\"}, {\"hoverlabel\": {\"namelength\": 0}, \"hovertemplate\": \"question=D\\u00edgito na posi\\u00e7\\u00e3o (com fun\\u00e7\\u00e3o)<br>timeInSecounds=%{x}<br>quantity=%{y}\", \"legendgroup\": \"question=D\\u00edgito na posi\\u00e7\\u00e3o (com fun\\u00e7\\u00e3o)\", \"marker\": {\"color\": \"#FF6692\", \"symbol\": \"circle\"}, \"mode\": \"markers\", \"name\": \"question=D\\u00edgito na posi\\u00e7\\u00e3o (com fun\\u00e7\\u00e3o)\", \"showlegend\": true, \"type\": \"scatter\", \"x\": [38022], \"xaxis\": \"x\", \"y\": [30], \"yaxis\": \"y\"}, {\"hoverlabel\": {\"namelength\": 0}, \"hovertemplate\": \"question=Exponencial do N\\u00famero Neperiano - Recursivo<br>timeInSecounds=%{x}<br>quantity=%{y}\", \"legendgroup\": \"question=Exponencial do N\\u00famero Neperiano - Recursivo\", \"marker\": {\"color\": \"#B6E880\", \"symbol\": \"circle\"}, \"mode\": \"markers\", \"name\": \"question=Exponencial do N\\u00famero Neperiano - Recursivo\", \"showlegend\": true, \"type\": \"scatter\", \"x\": [25231], \"xaxis\": \"x\", \"y\": [12], \"yaxis\": \"y\"}, {\"hoverlabel\": {\"namelength\": 0}, \"hovertemplate\": \"question=Fluxograma<br>timeInSecounds=%{x}<br>quantity=%{y}\", \"legendgroup\": \"question=Fluxograma\", \"marker\": {\"color\": \"#FF97FF\", \"symbol\": \"circle\"}, \"mode\": \"markers\", \"name\": \"question=Fluxograma\", \"showlegend\": true, \"type\": \"scatter\", \"x\": [34761], \"xaxis\": \"x\", \"y\": [163], \"yaxis\": \"y\"}, {\"hoverlabel\": {\"namelength\": 0}, \"hovertemplate\": \"question=Fluxograma 2<br>timeInSecounds=%{x}<br>quantity=%{y}\", \"legendgroup\": \"question=Fluxograma 2\", \"marker\": {\"color\": \"#FECB52\", \"symbol\": \"circle\"}, \"mode\": \"markers\", \"name\": \"question=Fluxograma 2\", \"showlegend\": true, \"type\": \"scatter\", \"x\": [688276], \"xaxis\": \"x\", \"y\": [678], \"yaxis\": \"y\"}, {\"hoverlabel\": {\"namelength\": 0}, \"hovertemplate\": \"question=Fun\\u00e7\\u00f5es - M\\u00e9dias UFRN<br>timeInSecounds=%{x}<br>quantity=%{y}\", \"legendgroup\": \"question=Fun\\u00e7\\u00f5es - M\\u00e9dias UFRN\", \"marker\": {\"color\": \"#636efa\", \"symbol\": \"circle\"}, \"mode\": \"markers\", \"name\": \"question=Fun\\u00e7\\u00f5es - M\\u00e9dias UFRN\", \"showlegend\": true, \"type\": \"scatter\", \"x\": [36504], \"xaxis\": \"x\", \"y\": [19], \"yaxis\": \"y\"}, {\"hoverlabel\": {\"namelength\": 0}, \"hovertemplate\": \"question=Fun\\u00e7\\u00f5es - Ordenar vetor<br>timeInSecounds=%{x}<br>quantity=%{y}\", \"legendgroup\": \"question=Fun\\u00e7\\u00f5es - Ordenar vetor\", \"marker\": {\"color\": \"#EF553B\", \"symbol\": \"circle\"}, \"mode\": \"markers\", \"name\": \"question=Fun\\u00e7\\u00f5es - Ordenar vetor\", \"showlegend\": true, \"type\": \"scatter\", \"x\": [432751], \"xaxis\": \"x\", \"y\": [294], \"yaxis\": \"y\"}, {\"hoverlabel\": {\"namelength\": 0}, \"hovertemplate\": \"question=Fun\\u00e7\\u00f5es - cifra de C\\u00e9sar<br>timeInSecounds=%{x}<br>quantity=%{y}\", \"legendgroup\": \"question=Fun\\u00e7\\u00f5es - cifra de C\\u00e9sar\", \"marker\": {\"color\": \"#00cc96\", \"symbol\": \"circle\"}, \"mode\": \"markers\", \"name\": \"question=Fun\\u00e7\\u00f5es - cifra de C\\u00e9sar\", \"showlegend\": true, \"type\": \"scatter\", \"x\": [344363], \"xaxis\": \"x\", \"y\": [446], \"yaxis\": \"y\"}, {\"hoverlabel\": {\"namelength\": 0}, \"hovertemplate\": \"question=Fun\\u00e7\\u00f5es - n\\u00famero perfeito<br>timeInSecounds=%{x}<br>quantity=%{y}\", \"legendgroup\": \"question=Fun\\u00e7\\u00f5es - n\\u00famero perfeito\", \"marker\": {\"color\": \"#ab63fa\", \"symbol\": \"circle\"}, \"mode\": \"markers\", \"name\": \"question=Fun\\u00e7\\u00f5es - n\\u00famero perfeito\", \"showlegend\": true, \"type\": \"scatter\", \"x\": [112892], \"xaxis\": \"x\", \"y\": [268], \"yaxis\": \"y\"}, {\"hoverlabel\": {\"namelength\": 0}, \"hovertemplate\": \"question=Fun\\u00e7\\u00f5es - n\\u00famero primo<br>timeInSecounds=%{x}<br>quantity=%{y}\", \"legendgroup\": \"question=Fun\\u00e7\\u00f5es - n\\u00famero primo\", \"marker\": {\"color\": \"#FFA15A\", \"symbol\": \"circle\"}, \"mode\": \"markers\", \"name\": \"question=Fun\\u00e7\\u00f5es - n\\u00famero primo\", \"showlegend\": true, \"type\": \"scatter\", \"x\": [7318], \"xaxis\": \"x\", \"y\": [35], \"yaxis\": \"y\"}, {\"hoverlabel\": {\"namelength\": 0}, \"hovertemplate\": \"question=Fun\\u00e7\\u00f5es - ordena\\u00e7\\u00e3o vetor<br>timeInSecounds=%{x}<br>quantity=%{y}\", \"legendgroup\": \"question=Fun\\u00e7\\u00f5es - ordena\\u00e7\\u00e3o vetor\", \"marker\": {\"color\": \"#19d3f3\", \"symbol\": \"circle\"}, \"mode\": \"markers\", \"name\": \"question=Fun\\u00e7\\u00f5es - ordena\\u00e7\\u00e3o vetor\", \"showlegend\": true, \"type\": \"scatter\", \"x\": [16435], \"xaxis\": \"x\", \"y\": [17], \"yaxis\": \"y\"}, {\"hoverlabel\": {\"namelength\": 0}, \"hovertemplate\": \"question=Fun\\u00e7\\u00f5es - teorema de Pit\\u00e1goras<br>timeInSecounds=%{x}<br>quantity=%{y}\", \"legendgroup\": \"question=Fun\\u00e7\\u00f5es - teorema de Pit\\u00e1goras\", \"marker\": {\"color\": \"#FF6692\", \"symbol\": \"circle\"}, \"mode\": \"markers\", \"name\": \"question=Fun\\u00e7\\u00f5es - teorema de Pit\\u00e1goras\", \"showlegend\": true, \"type\": \"scatter\", \"x\": [231674], \"xaxis\": \"x\", \"y\": [204], \"yaxis\": \"y\"}, {\"hoverlabel\": {\"namelength\": 0}, \"hovertemplate\": \"question=Gomoku<br>timeInSecounds=%{x}<br>quantity=%{y}\", \"legendgroup\": \"question=Gomoku\", \"marker\": {\"color\": \"#B6E880\", \"symbol\": \"circle\"}, \"mode\": \"markers\", \"name\": \"question=Gomoku\", \"showlegend\": true, \"type\": \"scatter\", \"x\": [300003], \"xaxis\": \"x\", \"y\": [671], \"yaxis\": \"y\"}, {\"hoverlabel\": {\"namelength\": 0}, \"hovertemplate\": \"question=Gomoku horizontal e vertical<br>timeInSecounds=%{x}<br>quantity=%{y}\", \"legendgroup\": \"question=Gomoku horizontal e vertical\", \"marker\": {\"color\": \"#FF97FF\", \"symbol\": \"circle\"}, \"mode\": \"markers\", \"name\": \"question=Gomoku horizontal e vertical\", \"showlegend\": true, \"type\": \"scatter\", \"x\": [58920], \"xaxis\": \"x\", \"y\": [34], \"yaxis\": \"y\"}, {\"hoverlabel\": {\"namelength\": 0}, \"hovertemplate\": \"question=Hexadecimal<br>timeInSecounds=%{x}<br>quantity=%{y}\", \"legendgroup\": \"question=Hexadecimal\", \"marker\": {\"color\": \"#FECB52\", \"symbol\": \"circle\"}, \"mode\": \"markers\", \"name\": \"question=Hexadecimal\", \"showlegend\": true, \"type\": \"scatter\", \"x\": [72662], \"xaxis\": \"x\", \"y\": [149], \"yaxis\": \"y\"}, {\"hoverlabel\": {\"namelength\": 0}, \"hovertemplate\": \"question=Iniciais mai\\u00fasculas<br>timeInSecounds=%{x}<br>quantity=%{y}\", \"legendgroup\": \"question=Iniciais mai\\u00fasculas\", \"marker\": {\"color\": \"#636efa\", \"symbol\": \"circle\"}, \"mode\": \"markers\", \"name\": \"question=Iniciais mai\\u00fasculas\", \"showlegend\": true, \"type\": \"scatter\", \"x\": [173417], \"xaxis\": \"x\", \"y\": [228], \"yaxis\": \"y\"}, {\"hoverlabel\": {\"namelength\": 0}, \"hovertemplate\": \"question=Inserir string em uma posi\\u00e7\\u00e3o<br>timeInSecounds=%{x}<br>quantity=%{y}\", \"legendgroup\": \"question=Inserir string em uma posi\\u00e7\\u00e3o\", \"marker\": {\"color\": \"#EF553B\", \"symbol\": \"circle\"}, \"mode\": \"markers\", \"name\": \"question=Inserir string em uma posi\\u00e7\\u00e3o\", \"showlegend\": true, \"type\": \"scatter\", \"x\": [583876], \"xaxis\": \"x\", \"y\": [408], \"yaxis\": \"y\"}, {\"hoverlabel\": {\"namelength\": 0}, \"hovertemplate\": \"question=Inversor de n\\u00fameros (ponteiros)<br>timeInSecounds=%{x}<br>quantity=%{y}\", \"legendgroup\": \"question=Inversor de n\\u00fameros (ponteiros)\", \"marker\": {\"color\": \"#00cc96\", \"symbol\": \"circle\"}, \"mode\": \"markers\", \"name\": \"question=Inversor de n\\u00fameros (ponteiros)\", \"showlegend\": true, \"type\": \"scatter\", \"x\": [7462], \"xaxis\": \"x\", \"y\": [7], \"yaxis\": \"y\"}, {\"hoverlabel\": {\"namelength\": 0}, \"hovertemplate\": \"question=Loop com recurs\\u00e3o<br>timeInSecounds=%{x}<br>quantity=%{y}\", \"legendgroup\": \"question=Loop com recurs\\u00e3o\", \"marker\": {\"color\": \"#ab63fa\", \"symbol\": \"circle\"}, \"mode\": \"markers\", \"name\": \"question=Loop com recurs\\u00e3o\", \"showlegend\": true, \"type\": \"scatter\", \"x\": [8234], \"xaxis\": \"x\", \"y\": [8], \"yaxis\": \"y\"}, {\"hoverlabel\": {\"namelength\": 0}, \"hovertemplate\": \"question=Maior e menor entre 3 n\\u00fameros<br>timeInSecounds=%{x}<br>quantity=%{y}\", \"legendgroup\": \"question=Maior e menor entre 3 n\\u00fameros\", \"marker\": {\"color\": \"#FFA15A\", \"symbol\": \"circle\"}, \"mode\": \"markers\", \"name\": \"question=Maior e menor entre 3 n\\u00fameros\", \"showlegend\": true, \"type\": \"scatter\", \"x\": [117771], \"xaxis\": \"x\", \"y\": [222], \"yaxis\": \"y\"}, {\"hoverlabel\": {\"namelength\": 0}, \"hovertemplate\": \"question=Maior parti\\u00e7\\u00e3o com soma K ou menor - reucursiva<br>timeInSecounds=%{x}<br>quantity=%{y}\", \"legendgroup\": \"question=Maior parti\\u00e7\\u00e3o com soma K ou menor - reucursiva\", \"marker\": {\"color\": \"#19d3f3\", \"symbol\": \"circle\"}, \"mode\": \"markers\", \"name\": \"question=Maior parti\\u00e7\\u00e3o com soma K ou menor - reucursiva\", \"showlegend\": true, \"type\": \"scatter\", \"x\": [35186], \"xaxis\": \"x\", \"y\": [8], \"yaxis\": \"y\"}, {\"hoverlabel\": {\"namelength\": 0}, \"hovertemplate\": \"question=Matriz de permuta\\u00e7\\u00e3o (0/1)<br>timeInSecounds=%{x}<br>quantity=%{y}\", \"legendgroup\": \"question=Matriz de permuta\\u00e7\\u00e3o (0/1)\", \"marker\": {\"color\": \"#FF6692\", \"symbol\": \"circle\"}, \"mode\": \"markers\", \"name\": \"question=Matriz de permuta\\u00e7\\u00e3o (0/1)\", \"showlegend\": true, \"type\": \"scatter\", \"x\": [106379], \"xaxis\": \"x\", \"y\": [291], \"yaxis\": \"y\"}, {\"hoverlabel\": {\"namelength\": 0}, \"hovertemplate\": \"question=Matriz identidade<br>timeInSecounds=%{x}<br>quantity=%{y}\", \"legendgroup\": \"question=Matriz identidade\", \"marker\": {\"color\": \"#B6E880\", \"symbol\": \"circle\"}, \"mode\": \"markers\", \"name\": \"question=Matriz identidade\", \"showlegend\": true, \"type\": \"scatter\", \"x\": [8508], \"xaxis\": \"x\", \"y\": [11], \"yaxis\": \"y\"}, {\"hoverlabel\": {\"namelength\": 0}, \"hovertemplate\": \"question=Multiplexador de strings<br>timeInSecounds=%{x}<br>quantity=%{y}\", \"legendgroup\": \"question=Multiplexador de strings\", \"marker\": {\"color\": \"#FF97FF\", \"symbol\": \"circle\"}, \"mode\": \"markers\", \"name\": \"question=Multiplexador de strings\", \"showlegend\": true, \"type\": \"scatter\", \"x\": [280431], \"xaxis\": \"x\", \"y\": [456], \"yaxis\": \"y\"}, {\"hoverlabel\": {\"namelength\": 0}, \"hovertemplate\": \"question=Multiplica\\u00e7\\u00e3o de matrizes<br>timeInSecounds=%{x}<br>quantity=%{y}\", \"legendgroup\": \"question=Multiplica\\u00e7\\u00e3o de matrizes\", \"marker\": {\"color\": \"#FECB52\", \"symbol\": \"circle\"}, \"mode\": \"markers\", \"name\": \"question=Multiplica\\u00e7\\u00e3o de matrizes\", \"showlegend\": true, \"type\": \"scatter\", \"x\": [409055], \"xaxis\": \"x\", \"y\": [330], \"yaxis\": \"y\"}, {\"hoverlabel\": {\"namelength\": 0}, \"hovertemplate\": \"question=M\\u00e1ximo e m\\u00ednimo de matriz quadrada (ponteiros)<br>timeInSecounds=%{x}<br>quantity=%{y}\", \"legendgroup\": \"question=M\\u00e1ximo e m\\u00ednimo de matriz quadrada (ponteiros)\", \"marker\": {\"color\": \"#636efa\", \"symbol\": \"circle\"}, \"mode\": \"markers\", \"name\": \"question=M\\u00e1ximo e m\\u00ednimo de matriz quadrada (ponteiros)\", \"showlegend\": true, \"type\": \"scatter\", \"x\": [3178], \"xaxis\": \"x\", \"y\": [4], \"yaxis\": \"y\"}, {\"hoverlabel\": {\"namelength\": 0}, \"hovertemplate\": \"question=M\\u00e9dia de 3 notas<br>timeInSecounds=%{x}<br>quantity=%{y}\", \"legendgroup\": \"question=M\\u00e9dia de 3 notas\", \"marker\": {\"color\": \"#EF553B\", \"symbol\": \"circle\"}, \"mode\": \"markers\", \"name\": \"question=M\\u00e9dia de 3 notas\", \"showlegend\": true, \"type\": \"scatter\", \"x\": [69560], \"xaxis\": \"x\", \"y\": [68], \"yaxis\": \"y\"}, {\"hoverlabel\": {\"namelength\": 0}, \"hovertemplate\": \"question=M\\u00e9dia e desvio-padr\\u00e3o<br>timeInSecounds=%{x}<br>quantity=%{y}\", \"legendgroup\": \"question=M\\u00e9dia e desvio-padr\\u00e3o\", \"marker\": {\"color\": \"#00cc96\", \"symbol\": \"circle\"}, \"mode\": \"markers\", \"name\": \"question=M\\u00e9dia e desvio-padr\\u00e3o\", \"showlegend\": true, \"type\": \"scatter\", \"x\": [144762], \"xaxis\": \"x\", \"y\": [224], \"yaxis\": \"y\"}, {\"hoverlabel\": {\"namelength\": 0}, \"hovertemplate\": \"question=Numeros Fracion\\u00e1rios<br>timeInSecounds=%{x}<br>quantity=%{y}\", \"legendgroup\": \"question=Numeros Fracion\\u00e1rios\", \"marker\": {\"color\": \"#ab63fa\", \"symbol\": \"circle\"}, \"mode\": \"markers\", \"name\": \"question=Numeros Fracion\\u00e1rios\", \"showlegend\": true, \"type\": \"scatter\", \"x\": [8196], \"xaxis\": \"x\", \"y\": [12], \"yaxis\": \"y\"}, {\"hoverlabel\": {\"namelength\": 0}, \"hovertemplate\": \"question=N\\u00fameros de Fibonacci em um intervalo<br>timeInSecounds=%{x}<br>quantity=%{y}\", \"legendgroup\": \"question=N\\u00fameros de Fibonacci em um intervalo\", \"marker\": {\"color\": \"#FFA15A\", \"symbol\": \"circle\"}, \"mode\": \"markers\", \"name\": \"question=N\\u00fameros de Fibonacci em um intervalo\", \"showlegend\": true, \"type\": \"scatter\", \"x\": [45071], \"xaxis\": \"x\", \"y\": [13], \"yaxis\": \"y\"}, {\"hoverlabel\": {\"namelength\": 0}, \"hovertemplate\": \"question=N\\u00fameros na sequencia de Fibnot em um intervalo<br>timeInSecounds=%{x}<br>quantity=%{y}\", \"legendgroup\": \"question=N\\u00fameros na sequencia de Fibnot em um intervalo\", \"marker\": {\"color\": \"#19d3f3\", \"symbol\": \"circle\"}, \"mode\": \"markers\", \"name\": \"question=N\\u00fameros na sequencia de Fibnot em um intervalo\", \"showlegend\": true, \"type\": \"scatter\", \"x\": [304566], \"xaxis\": \"x\", \"y\": [156], \"yaxis\": \"y\"}, {\"hoverlabel\": {\"namelength\": 0}, \"hovertemplate\": \"question=Opera\\u00e7\\u00f5es Enumeradas<br>timeInSecounds=%{x}<br>quantity=%{y}\", \"legendgroup\": \"question=Opera\\u00e7\\u00f5es Enumeradas\", \"marker\": {\"color\": \"#FF6692\", \"symbol\": \"circle\"}, \"mode\": \"markers\", \"name\": \"question=Opera\\u00e7\\u00f5es Enumeradas\", \"showlegend\": true, \"type\": \"scatter\", \"x\": [7205], \"xaxis\": \"x\", \"y\": [14], \"yaxis\": \"y\"}, {\"hoverlabel\": {\"namelength\": 0}, \"hovertemplate\": \"question=Ordena\\u00e7\\u00e3o de string<br>timeInSecounds=%{x}<br>quantity=%{y}\", \"legendgroup\": \"question=Ordena\\u00e7\\u00e3o de string\", \"marker\": {\"color\": \"#B6E880\", \"symbol\": \"circle\"}, \"mode\": \"markers\", \"name\": \"question=Ordena\\u00e7\\u00e3o de string\", \"showlegend\": true, \"type\": \"scatter\", \"x\": [296110], \"xaxis\": \"x\", \"y\": [451], \"yaxis\": \"y\"}, {\"hoverlabel\": {\"namelength\": 0}, \"hovertemplate\": \"question=Ordena\\u00e7\\u00e3o indireta (ponteiros)<br>timeInSecounds=%{x}<br>quantity=%{y}\", \"legendgroup\": \"question=Ordena\\u00e7\\u00e3o indireta (ponteiros)\", \"marker\": {\"color\": \"#FF97FF\", \"symbol\": \"circle\"}, \"mode\": \"markers\", \"name\": \"question=Ordena\\u00e7\\u00e3o indireta (ponteiros)\", \"showlegend\": true, \"type\": \"scatter\", \"x\": [157512], \"xaxis\": \"x\", \"y\": [213], \"yaxis\": \"y\"}, {\"hoverlabel\": {\"namelength\": 0}, \"hovertemplate\": \"question=Pal\\u00edndromo<br>timeInSecounds=%{x}<br>quantity=%{y}\", \"legendgroup\": \"question=Pal\\u00edndromo\", \"marker\": {\"color\": \"#FECB52\", \"symbol\": \"circle\"}, \"mode\": \"markers\", \"name\": \"question=Pal\\u00edndromo\", \"showlegend\": true, \"type\": \"scatter\", \"x\": [50881], \"xaxis\": \"x\", \"y\": [59], \"yaxis\": \"y\"}, {\"hoverlabel\": {\"namelength\": 0}, \"hovertemplate\": \"question=Pal\\u00edndromo com recurs\\u00e3o<br>timeInSecounds=%{x}<br>quantity=%{y}\", \"legendgroup\": \"question=Pal\\u00edndromo com recurs\\u00e3o\", \"marker\": {\"color\": \"#636efa\", \"symbol\": \"circle\"}, \"mode\": \"markers\", \"name\": \"question=Pal\\u00edndromo com recurs\\u00e3o\", \"showlegend\": true, \"type\": \"scatter\", \"x\": [651045], \"xaxis\": \"x\", \"y\": [765], \"yaxis\": \"y\"}, {\"hoverlabel\": {\"namelength\": 0}, \"hovertemplate\": \"question=Pares, \\u00edmpares, positivos e negativos<br>timeInSecounds=%{x}<br>quantity=%{y}\", \"legendgroup\": \"question=Pares, \\u00edmpares, positivos e negativos\", \"marker\": {\"color\": \"#EF553B\", \"symbol\": \"circle\"}, \"mode\": \"markers\", \"name\": \"question=Pares, \\u00edmpares, positivos e negativos\", \"showlegend\": true, \"type\": \"scatter\", \"x\": [42534], \"xaxis\": \"x\", \"y\": [162], \"yaxis\": \"y\"}, {\"hoverlabel\": {\"namelength\": 0}, \"hovertemplate\": \"question=Pilha<br>timeInSecounds=%{x}<br>quantity=%{y}\", \"legendgroup\": \"question=Pilha\", \"marker\": {\"color\": \"#00cc96\", \"symbol\": \"circle\"}, \"mode\": \"markers\", \"name\": \"question=Pilha\", \"showlegend\": true, \"type\": \"scatter\", \"x\": [17186], \"xaxis\": \"x\", \"y\": [36], \"yaxis\": \"y\"}, {\"hoverlabel\": {\"namelength\": 0}, \"hovertemplate\": \"question=Ponto Fixo<br>timeInSecounds=%{x}<br>quantity=%{y}\", \"legendgroup\": \"question=Ponto Fixo\", \"marker\": {\"color\": \"#ab63fa\", \"symbol\": \"circle\"}, \"mode\": \"markers\", \"name\": \"question=Ponto Fixo\", \"showlegend\": true, \"type\": \"scatter\", \"x\": [284158], \"xaxis\": \"x\", \"y\": [62], \"yaxis\": \"y\"}, {\"hoverlabel\": {\"namelength\": 0}, \"hovertemplate\": \"question=Popula\\u00e7\\u00e3o de coelhos<br>timeInSecounds=%{x}<br>quantity=%{y}\", \"legendgroup\": \"question=Popula\\u00e7\\u00e3o de coelhos\", \"marker\": {\"color\": \"#FFA15A\", \"symbol\": \"circle\"}, \"mode\": \"markers\", \"name\": \"question=Popula\\u00e7\\u00e3o de coelhos\", \"showlegend\": true, \"type\": \"scatter\", \"x\": [73682], \"xaxis\": \"x\", \"y\": [107], \"yaxis\": \"y\"}, {\"hoverlabel\": {\"namelength\": 0}, \"hovertemplate\": \"question=Produto escalar entre vetores<br>timeInSecounds=%{x}<br>quantity=%{y}\", \"legendgroup\": \"question=Produto escalar entre vetores\", \"marker\": {\"color\": \"#19d3f3\", \"symbol\": \"circle\"}, \"mode\": \"markers\", \"name\": \"question=Produto escalar entre vetores\", \"showlegend\": true, \"type\": \"scatter\", \"x\": [282381], \"xaxis\": \"x\", \"y\": [222], \"yaxis\": \"y\"}, {\"hoverlabel\": {\"namelength\": 0}, \"hovertemplate\": \"question=Rota\\u00e7\\u00e3o de bits<br>timeInSecounds=%{x}<br>quantity=%{y}\", \"legendgroup\": \"question=Rota\\u00e7\\u00e3o de bits\", \"marker\": {\"color\": \"#FF6692\", \"symbol\": \"circle\"}, \"mode\": \"markers\", \"name\": \"question=Rota\\u00e7\\u00e3o de bits\", \"showlegend\": true, \"type\": \"scatter\", \"x\": [29742], \"xaxis\": \"x\", \"y\": [123], \"yaxis\": \"y\"}, {\"hoverlabel\": {\"namelength\": 0}, \"hovertemplate\": \"question=Separa\\u00e7\\u00e3o num\\u00e9rica<br>timeInSecounds=%{x}<br>quantity=%{y}\", \"legendgroup\": \"question=Separa\\u00e7\\u00e3o num\\u00e9rica\", \"marker\": {\"color\": \"#B6E880\", \"symbol\": \"circle\"}, \"mode\": \"markers\", \"name\": \"question=Separa\\u00e7\\u00e3o num\\u00e9rica\", \"showlegend\": true, \"type\": \"scatter\", \"x\": [131507], \"xaxis\": \"x\", \"y\": [333], \"yaxis\": \"y\"}, {\"hoverlabel\": {\"namelength\": 0}, \"hovertemplate\": \"question=Soma de dois n\\u00fameros pares<br>timeInSecounds=%{x}<br>quantity=%{y}\", \"legendgroup\": \"question=Soma de dois n\\u00fameros pares\", \"marker\": {\"color\": \"#FF97FF\", \"symbol\": \"circle\"}, \"mode\": \"markers\", \"name\": \"question=Soma de dois n\\u00fameros pares\", \"showlegend\": true, \"type\": \"scatter\", \"x\": [187161], \"xaxis\": \"x\", \"y\": [236], \"yaxis\": \"y\"}, {\"hoverlabel\": {\"namelength\": 0}, \"hovertemplate\": \"question=Soma de dois vetores<br>timeInSecounds=%{x}<br>quantity=%{y}\", \"legendgroup\": \"question=Soma de dois vetores\", \"marker\": {\"color\": \"#FECB52\", \"symbol\": \"circle\"}, \"mode\": \"markers\", \"name\": \"question=Soma de dois vetores\", \"showlegend\": true, \"type\": \"scatter\", \"x\": [21797], \"xaxis\": \"x\", \"y\": [107], \"yaxis\": \"y\"}, {\"hoverlabel\": {\"namelength\": 0}, \"hovertemplate\": \"question=Soma de dois vetores (ponteiros)<br>timeInSecounds=%{x}<br>quantity=%{y}\", \"legendgroup\": \"question=Soma de dois vetores (ponteiros)\", \"marker\": {\"color\": \"#636efa\", \"symbol\": \"circle\"}, \"mode\": \"markers\", \"name\": \"question=Soma de dois vetores (ponteiros)\", \"showlegend\": true, \"type\": \"scatter\", \"x\": [2799], \"xaxis\": \"x\", \"y\": [14], \"yaxis\": \"y\"}, {\"hoverlabel\": {\"namelength\": 0}, \"hovertemplate\": \"question=Soma de matrizes<br>timeInSecounds=%{x}<br>quantity=%{y}\", \"legendgroup\": \"question=Soma de matrizes\", \"marker\": {\"color\": \"#EF553B\", \"symbol\": \"circle\"}, \"mode\": \"markers\", \"name\": \"question=Soma de matrizes\", \"showlegend\": true, \"type\": \"scatter\", \"x\": [2042], \"xaxis\": \"x\", \"y\": [9], \"yaxis\": \"y\"}, {\"hoverlabel\": {\"namelength\": 0}, \"hovertemplate\": \"question=Soma de valores \\u00edmpares<br>timeInSecounds=%{x}<br>quantity=%{y}\", \"legendgroup\": \"question=Soma de valores \\u00edmpares\", \"marker\": {\"color\": \"#00cc96\", \"symbol\": \"circle\"}, \"mode\": \"markers\", \"name\": \"question=Soma de valores \\u00edmpares\", \"showlegend\": true, \"type\": \"scatter\", \"x\": [61592], \"xaxis\": \"x\", \"y\": [218], \"yaxis\": \"y\"}, {\"hoverlabel\": {\"namelength\": 0}, \"hovertemplate\": \"question=Soma dos d\\u00edgitos<br>timeInSecounds=%{x}<br>quantity=%{y}\", \"legendgroup\": \"question=Soma dos d\\u00edgitos\", \"marker\": {\"color\": \"#ab63fa\", \"symbol\": \"circle\"}, \"mode\": \"markers\", \"name\": \"question=Soma dos d\\u00edgitos\", \"showlegend\": true, \"type\": \"scatter\", \"x\": [47373], \"xaxis\": \"x\", \"y\": [109], \"yaxis\": \"y\"}, {\"hoverlabel\": {\"namelength\": 0}, \"hovertemplate\": \"question=Somando o intervalo<br>timeInSecounds=%{x}<br>quantity=%{y}\", \"legendgroup\": \"question=Somando o intervalo\", \"marker\": {\"color\": \"#FFA15A\", \"symbol\": \"circle\"}, \"mode\": \"markers\", \"name\": \"question=Somando o intervalo\", \"showlegend\": true, \"type\": \"scatter\", \"x\": [73006], \"xaxis\": \"x\", \"y\": [123], \"yaxis\": \"y\"}, {\"hoverlabel\": {\"namelength\": 0}, \"hovertemplate\": \"question=Substring<br>timeInSecounds=%{x}<br>quantity=%{y}\", \"legendgroup\": \"question=Substring\", \"marker\": {\"color\": \"#19d3f3\", \"symbol\": \"circle\"}, \"mode\": \"markers\", \"name\": \"question=Substring\", \"showlegend\": true, \"type\": \"scatter\", \"x\": [30722], \"xaxis\": \"x\", \"y\": [48], \"yaxis\": \"y\"}, {\"hoverlabel\": {\"namelength\": 0}, \"hovertemplate\": \"question=Substring (ponteiros)<br>timeInSecounds=%{x}<br>quantity=%{y}\", \"legendgroup\": \"question=Substring (ponteiros)\", \"marker\": {\"color\": \"#FF6692\", \"symbol\": \"circle\"}, \"mode\": \"markers\", \"name\": \"question=Substring (ponteiros)\", \"showlegend\": true, \"type\": \"scatter\", \"x\": [203763], \"xaxis\": \"x\", \"y\": [554], \"yaxis\": \"y\"}, {\"hoverlabel\": {\"namelength\": 0}, \"hovertemplate\": \"question=Uni\\u00e3o e ordena\\u00e7\\u00e3o de vetores<br>timeInSecounds=%{x}<br>quantity=%{y}\", \"legendgroup\": \"question=Uni\\u00e3o e ordena\\u00e7\\u00e3o de vetores\", \"marker\": {\"color\": \"#B6E880\", \"symbol\": \"circle\"}, \"mode\": \"markers\", \"name\": \"question=Uni\\u00e3o e ordena\\u00e7\\u00e3o de vetores\", \"showlegend\": true, \"type\": \"scatter\", \"x\": [53333], \"xaxis\": \"x\", \"y\": [81], \"yaxis\": \"y\"}, {\"hoverlabel\": {\"namelength\": 0}, \"hovertemplate\": \"question=Valor de Pi Recursivo<br>timeInSecounds=%{x}<br>quantity=%{y}\", \"legendgroup\": \"question=Valor de Pi Recursivo\", \"marker\": {\"color\": \"#FF97FF\", \"symbol\": \"circle\"}, \"mode\": \"markers\", \"name\": \"question=Valor de Pi Recursivo\", \"showlegend\": true, \"type\": \"scatter\", \"x\": [89563], \"xaxis\": \"x\", \"y\": [199], \"yaxis\": \"y\"}, {\"hoverlabel\": {\"namelength\": 0}, \"hovertemplate\": \"question=Valores em um intervalo<br>timeInSecounds=%{x}<br>quantity=%{y}\", \"legendgroup\": \"question=Valores em um intervalo\", \"marker\": {\"color\": \"#FECB52\", \"symbol\": \"circle\"}, \"mode\": \"markers\", \"name\": \"question=Valores em um intervalo\", \"showlegend\": true, \"type\": \"scatter\", \"x\": [192258], \"xaxis\": \"x\", \"y\": [264], \"yaxis\": \"y\"}],\n",
              "                        {\"legend\": {\"tracegroupgap\": 0}, \"margin\": {\"t\": 60}, \"template\": {\"data\": {\"bar\": [{\"error_x\": {\"color\": \"#2a3f5f\"}, \"error_y\": {\"color\": \"#2a3f5f\"}, \"marker\": {\"line\": {\"color\": \"#E5ECF6\", \"width\": 0.5}}, \"type\": \"bar\"}], \"barpolar\": [{\"marker\": {\"line\": {\"color\": \"#E5ECF6\", \"width\": 0.5}}, \"type\": \"barpolar\"}], \"carpet\": [{\"aaxis\": {\"endlinecolor\": \"#2a3f5f\", \"gridcolor\": \"white\", \"linecolor\": \"white\", \"minorgridcolor\": \"white\", \"startlinecolor\": \"#2a3f5f\"}, \"baxis\": {\"endlinecolor\": \"#2a3f5f\", \"gridcolor\": \"white\", \"linecolor\": \"white\", \"minorgridcolor\": \"white\", \"startlinecolor\": \"#2a3f5f\"}, \"type\": \"carpet\"}], \"choropleth\": [{\"colorbar\": {\"outlinewidth\": 0, \"ticks\": \"\"}, \"type\": \"choropleth\"}], \"contour\": [{\"colorbar\": {\"outlinewidth\": 0, \"ticks\": \"\"}, \"colorscale\": [[0.0, \"#0d0887\"], [0.1111111111111111, \"#46039f\"], [0.2222222222222222, \"#7201a8\"], [0.3333333333333333, \"#9c179e\"], [0.4444444444444444, \"#bd3786\"], [0.5555555555555556, \"#d8576b\"], [0.6666666666666666, \"#ed7953\"], [0.7777777777777778, \"#fb9f3a\"], [0.8888888888888888, \"#fdca26\"], [1.0, \"#f0f921\"]], \"type\": \"contour\"}], \"contourcarpet\": [{\"colorbar\": {\"outlinewidth\": 0, \"ticks\": \"\"}, \"type\": \"contourcarpet\"}], \"heatmap\": [{\"colorbar\": {\"outlinewidth\": 0, \"ticks\": \"\"}, \"colorscale\": [[0.0, \"#0d0887\"], [0.1111111111111111, \"#46039f\"], [0.2222222222222222, \"#7201a8\"], [0.3333333333333333, \"#9c179e\"], [0.4444444444444444, \"#bd3786\"], [0.5555555555555556, \"#d8576b\"], [0.6666666666666666, \"#ed7953\"], [0.7777777777777778, \"#fb9f3a\"], [0.8888888888888888, \"#fdca26\"], [1.0, \"#f0f921\"]], \"type\": \"heatmap\"}], \"heatmapgl\": [{\"colorbar\": {\"outlinewidth\": 0, \"ticks\": \"\"}, \"colorscale\": [[0.0, \"#0d0887\"], [0.1111111111111111, \"#46039f\"], [0.2222222222222222, \"#7201a8\"], [0.3333333333333333, \"#9c179e\"], [0.4444444444444444, \"#bd3786\"], [0.5555555555555556, \"#d8576b\"], [0.6666666666666666, \"#ed7953\"], [0.7777777777777778, \"#fb9f3a\"], [0.8888888888888888, \"#fdca26\"], [1.0, \"#f0f921\"]], \"type\": \"heatmapgl\"}], \"histogram\": [{\"marker\": {\"colorbar\": {\"outlinewidth\": 0, \"ticks\": \"\"}}, \"type\": \"histogram\"}], \"histogram2d\": [{\"colorbar\": {\"outlinewidth\": 0, \"ticks\": \"\"}, \"colorscale\": [[0.0, \"#0d0887\"], [0.1111111111111111, \"#46039f\"], [0.2222222222222222, \"#7201a8\"], [0.3333333333333333, \"#9c179e\"], [0.4444444444444444, \"#bd3786\"], [0.5555555555555556, \"#d8576b\"], [0.6666666666666666, \"#ed7953\"], [0.7777777777777778, \"#fb9f3a\"], [0.8888888888888888, \"#fdca26\"], [1.0, \"#f0f921\"]], \"type\": \"histogram2d\"}], \"histogram2dcontour\": [{\"colorbar\": {\"outlinewidth\": 0, \"ticks\": \"\"}, \"colorscale\": [[0.0, \"#0d0887\"], [0.1111111111111111, \"#46039f\"], [0.2222222222222222, \"#7201a8\"], [0.3333333333333333, \"#9c179e\"], [0.4444444444444444, \"#bd3786\"], [0.5555555555555556, \"#d8576b\"], [0.6666666666666666, \"#ed7953\"], [0.7777777777777778, \"#fb9f3a\"], [0.8888888888888888, \"#fdca26\"], [1.0, \"#f0f921\"]], \"type\": \"histogram2dcontour\"}], \"mesh3d\": [{\"colorbar\": {\"outlinewidth\": 0, \"ticks\": \"\"}, \"type\": \"mesh3d\"}], \"parcoords\": [{\"line\": {\"colorbar\": {\"outlinewidth\": 0, \"ticks\": \"\"}}, \"type\": \"parcoords\"}], \"pie\": [{\"automargin\": true, \"type\": \"pie\"}], \"scatter\": [{\"marker\": {\"colorbar\": {\"outlinewidth\": 0, \"ticks\": \"\"}}, \"type\": \"scatter\"}], \"scatter3d\": [{\"line\": {\"colorbar\": {\"outlinewidth\": 0, \"ticks\": \"\"}}, \"marker\": {\"colorbar\": {\"outlinewidth\": 0, \"ticks\": \"\"}}, \"type\": \"scatter3d\"}], \"scattercarpet\": [{\"marker\": {\"colorbar\": {\"outlinewidth\": 0, \"ticks\": \"\"}}, \"type\": \"scattercarpet\"}], \"scattergeo\": [{\"marker\": {\"colorbar\": {\"outlinewidth\": 0, \"ticks\": \"\"}}, \"type\": \"scattergeo\"}], \"scattergl\": [{\"marker\": {\"colorbar\": {\"outlinewidth\": 0, \"ticks\": \"\"}}, \"type\": \"scattergl\"}], \"scattermapbox\": [{\"marker\": {\"colorbar\": {\"outlinewidth\": 0, \"ticks\": \"\"}}, \"type\": \"scattermapbox\"}], \"scatterpolar\": [{\"marker\": {\"colorbar\": {\"outlinewidth\": 0, \"ticks\": \"\"}}, \"type\": \"scatterpolar\"}], \"scatterpolargl\": [{\"marker\": {\"colorbar\": {\"outlinewidth\": 0, \"ticks\": \"\"}}, \"type\": \"scatterpolargl\"}], \"scatterternary\": [{\"marker\": {\"colorbar\": {\"outlinewidth\": 0, \"ticks\": \"\"}}, \"type\": \"scatterternary\"}], \"surface\": [{\"colorbar\": {\"outlinewidth\": 0, \"ticks\": \"\"}, \"colorscale\": [[0.0, \"#0d0887\"], [0.1111111111111111, \"#46039f\"], [0.2222222222222222, \"#7201a8\"], [0.3333333333333333, \"#9c179e\"], [0.4444444444444444, \"#bd3786\"], [0.5555555555555556, \"#d8576b\"], [0.6666666666666666, \"#ed7953\"], [0.7777777777777778, \"#fb9f3a\"], [0.8888888888888888, \"#fdca26\"], [1.0, \"#f0f921\"]], \"type\": \"surface\"}], \"table\": [{\"cells\": {\"fill\": {\"color\": \"#EBF0F8\"}, \"line\": {\"color\": \"white\"}}, \"header\": {\"fill\": {\"color\": \"#C8D4E3\"}, \"line\": {\"color\": \"white\"}}, \"type\": \"table\"}]}, \"layout\": {\"annotationdefaults\": {\"arrowcolor\": \"#2a3f5f\", \"arrowhead\": 0, \"arrowwidth\": 1}, \"coloraxis\": {\"colorbar\": {\"outlinewidth\": 0, \"ticks\": \"\"}}, \"colorscale\": {\"diverging\": [[0, \"#8e0152\"], [0.1, \"#c51b7d\"], [0.2, \"#de77ae\"], [0.3, \"#f1b6da\"], [0.4, \"#fde0ef\"], [0.5, \"#f7f7f7\"], [0.6, \"#e6f5d0\"], [0.7, \"#b8e186\"], [0.8, \"#7fbc41\"], [0.9, \"#4d9221\"], [1, \"#276419\"]], \"sequential\": [[0.0, \"#0d0887\"], [0.1111111111111111, \"#46039f\"], [0.2222222222222222, \"#7201a8\"], [0.3333333333333333, \"#9c179e\"], [0.4444444444444444, \"#bd3786\"], [0.5555555555555556, \"#d8576b\"], [0.6666666666666666, \"#ed7953\"], [0.7777777777777778, \"#fb9f3a\"], [0.8888888888888888, \"#fdca26\"], [1.0, \"#f0f921\"]], \"sequentialminus\": [[0.0, \"#0d0887\"], [0.1111111111111111, \"#46039f\"], [0.2222222222222222, \"#7201a8\"], [0.3333333333333333, \"#9c179e\"], [0.4444444444444444, \"#bd3786\"], [0.5555555555555556, \"#d8576b\"], [0.6666666666666666, \"#ed7953\"], [0.7777777777777778, \"#fb9f3a\"], [0.8888888888888888, \"#fdca26\"], [1.0, \"#f0f921\"]]}, \"colorway\": [\"#636efa\", \"#EF553B\", \"#00cc96\", \"#ab63fa\", \"#FFA15A\", \"#19d3f3\", \"#FF6692\", \"#B6E880\", \"#FF97FF\", \"#FECB52\"], \"font\": {\"color\": \"#2a3f5f\"}, \"geo\": {\"bgcolor\": \"white\", \"lakecolor\": \"white\", \"landcolor\": \"#E5ECF6\", \"showlakes\": true, \"showland\": true, \"subunitcolor\": \"white\"}, \"hoverlabel\": {\"align\": \"left\"}, \"hovermode\": \"closest\", \"mapbox\": {\"style\": \"light\"}, \"paper_bgcolor\": \"white\", \"plot_bgcolor\": \"#E5ECF6\", \"polar\": {\"angularaxis\": {\"gridcolor\": \"white\", \"linecolor\": \"white\", \"ticks\": \"\"}, \"bgcolor\": \"#E5ECF6\", \"radialaxis\": {\"gridcolor\": \"white\", \"linecolor\": \"white\", \"ticks\": \"\"}}, \"scene\": {\"xaxis\": {\"backgroundcolor\": \"#E5ECF6\", \"gridcolor\": \"white\", \"gridwidth\": 2, \"linecolor\": \"white\", \"showbackground\": true, \"ticks\": \"\", \"zerolinecolor\": \"white\"}, \"yaxis\": {\"backgroundcolor\": \"#E5ECF6\", \"gridcolor\": \"white\", \"gridwidth\": 2, \"linecolor\": \"white\", \"showbackground\": true, \"ticks\": \"\", \"zerolinecolor\": \"white\"}, \"zaxis\": {\"backgroundcolor\": \"#E5ECF6\", \"gridcolor\": \"white\", \"gridwidth\": 2, \"linecolor\": \"white\", \"showbackground\": true, \"ticks\": \"\", \"zerolinecolor\": \"white\"}}, \"shapedefaults\": {\"line\": {\"color\": \"#2a3f5f\"}}, \"ternary\": {\"aaxis\": {\"gridcolor\": \"white\", \"linecolor\": \"white\", \"ticks\": \"\"}, \"baxis\": {\"gridcolor\": \"white\", \"linecolor\": \"white\", \"ticks\": \"\"}, \"bgcolor\": \"#E5ECF6\", \"caxis\": {\"gridcolor\": \"white\", \"linecolor\": \"white\", \"ticks\": \"\"}}, \"title\": {\"x\": 0.05}, \"xaxis\": {\"automargin\": true, \"gridcolor\": \"white\", \"linecolor\": \"white\", \"ticks\": \"\", \"title\": {\"standoff\": 15}, \"zerolinecolor\": \"white\", \"zerolinewidth\": 2}, \"yaxis\": {\"automargin\": true, \"gridcolor\": \"white\", \"linecolor\": \"white\", \"ticks\": \"\", \"title\": {\"standoff\": 15}, \"zerolinecolor\": \"white\", \"zerolinewidth\": 2}}}, \"xaxis\": {\"anchor\": \"y\", \"domain\": [0.0, 1.0], \"title\": {\"text\": \"timeInSecounds\"}}, \"yaxis\": {\"anchor\": \"x\", \"domain\": [0.0, 1.0], \"title\": {\"text\": \"quantity\"}}},\n",
              "                        {\"responsive\": true}\n",
              "                    ).then(function(){\n",
              "                            \n",
              "var gd = document.getElementById('8f9a4f90-e4c8-403b-a1b0-890ed9bda469');\n",
              "var x = new MutationObserver(function (mutations, observer) {{\n",
              "        var display = window.getComputedStyle(gd).display;\n",
              "        if (!display || display === 'none') {{\n",
              "            console.log([gd, 'removed!']);\n",
              "            Plotly.purge(gd);\n",
              "            observer.disconnect();\n",
              "        }}\n",
              "}});\n",
              "\n",
              "// Listen for the removal of the full notebook cells\n",
              "var notebookContainer = gd.closest('#notebook-container');\n",
              "if (notebookContainer) {{\n",
              "    x.observe(notebookContainer, {childList: true});\n",
              "}}\n",
              "\n",
              "// Listen for the clearing of the current output cell\n",
              "var outputEl = gd.closest('.output');\n",
              "if (outputEl) {{\n",
              "    x.observe(outputEl, {childList: true});\n",
              "}}\n",
              "\n",
              "                        })\n",
              "                };\n",
              "                \n",
              "            </script>\n",
              "        </div>\n",
              "</body>\n",
              "</html>"
            ]
          },
          "metadata": {
            "tags": []
          }
        }
      ]
    },
    {
      "cell_type": "code",
      "metadata": {
        "colab": {
          "base_uri": "https://localhost:8080/",
          "height": 145
        },
        "id": "yfKti_0fdRXO",
        "outputId": "ed9e8e98-0c62-49dc-8e8b-ed5a2ee41bc9"
      },
      "source": [
        "df_submission.head(2)"
      ],
      "execution_count": null,
      "outputs": [
        {
          "output_type": "execute_result",
          "data": {
            "text/html": [
              "<div>\n",
              "<style scoped>\n",
              "    .dataframe tbody tr th:only-of-type {\n",
              "        vertical-align: middle;\n",
              "    }\n",
              "\n",
              "    .dataframe tbody tr th {\n",
              "        vertical-align: top;\n",
              "    }\n",
              "\n",
              "    .dataframe thead th {\n",
              "        text-align: right;\n",
              "    }\n",
              "</style>\n",
              "<table border=\"1\" class=\"dataframe\">\n",
              "  <thead>\n",
              "    <tr style=\"text-align: right;\">\n",
              "      <th></th>\n",
              "      <th>environment</th>\n",
              "      <th>hitPercentage</th>\n",
              "      <th>language</th>\n",
              "      <th>char_change_number</th>\n",
              "      <th>timeConsuming</th>\n",
              "      <th>createdAt</th>\n",
              "      <th>user</th>\n",
              "      <th>question</th>\n",
              "      <th>list</th>\n",
              "      <th>test</th>\n",
              "      <th>id_class</th>\n",
              "      <th>registration</th>\n",
              "      <th>timeInSecounds</th>\n",
              "    </tr>\n",
              "  </thead>\n",
              "  <tbody>\n",
              "    <tr>\n",
              "      <th>0</th>\n",
              "      <td>desktop</td>\n",
              "      <td>0.0</td>\n",
              "      <td>c</td>\n",
              "      <td>207</td>\n",
              "      <td>66156</td>\n",
              "      <td>2020-12-21T17:56:01.000Z</td>\n",
              "      <td>Arthur Learth</td>\n",
              "      <td>CRUD - Com alocação dinâmica - Rep</td>\n",
              "      <td>None</td>\n",
              "      <td>ITP 2020.6 - T02 - Reposicao</td>\n",
              "      <td>b5413cd7-4f61-4241-aad8-23740bab604f</td>\n",
              "      <td>20180071294</td>\n",
              "      <td>66</td>\n",
              "    </tr>\n",
              "    <tr>\n",
              "      <th>1</th>\n",
              "      <td>desktop</td>\n",
              "      <td>0.0</td>\n",
              "      <td>c</td>\n",
              "      <td>207</td>\n",
              "      <td>108142</td>\n",
              "      <td>2020-12-21T17:55:34.000Z</td>\n",
              "      <td>Arthur Learth</td>\n",
              "      <td>CRUD - Com alocação dinâmica - Rep</td>\n",
              "      <td>None</td>\n",
              "      <td>ITP 2020.6 - T02 - Reposicao</td>\n",
              "      <td>b5413cd7-4f61-4241-aad8-23740bab604f</td>\n",
              "      <td>20180071294</td>\n",
              "      <td>108</td>\n",
              "    </tr>\n",
              "  </tbody>\n",
              "</table>\n",
              "</div>"
            ],
            "text/plain": [
              "  environment  hitPercentage  ...  registration  timeInSecounds\n",
              "0     desktop            0.0  ...   20180071294              66\n",
              "1     desktop            0.0  ...   20180071294             108\n",
              "\n",
              "[2 rows x 13 columns]"
            ]
          },
          "metadata": {
            "tags": []
          },
          "execution_count": 39
        }
      ]
    },
    {
      "cell_type": "markdown",
      "metadata": {
        "id": "4xwG4lqNhG6E"
      },
      "source": [
        "Convertendo para datetime"
      ]
    },
    {
      "cell_type": "code",
      "metadata": {
        "id": "lOBQGFpxFlHV"
      },
      "source": [
        "df_submission['createdAt'] = pd.to_datetime(df_submission['createdAt'])"
      ],
      "execution_count": null,
      "outputs": []
    },
    {
      "cell_type": "markdown",
      "metadata": {
        "id": "am8qebDsi5Gt"
      },
      "source": [
        "Criando campo com a data"
      ]
    },
    {
      "cell_type": "code",
      "metadata": {
        "id": "9mfkC0jfmvbu"
      },
      "source": [
        "df_submission['dateSubmission'] = df_submission['createdAt'].dt.date"
      ],
      "execution_count": null,
      "outputs": []
    },
    {
      "cell_type": "code",
      "metadata": {
        "colab": {
          "base_uri": "https://localhost:8080/"
        },
        "id": "t5dKw9inhouH",
        "outputId": "f9fc6c3d-8be7-44ad-e06b-5644c5578b54"
      },
      "source": [
        "df_submission.info()"
      ],
      "execution_count": null,
      "outputs": [
        {
          "output_type": "stream",
          "text": [
            "<class 'pandas.core.frame.DataFrame'>\n",
            "RangeIndex: 16350 entries, 0 to 16349\n",
            "Data columns (total 14 columns):\n",
            " #   Column              Non-Null Count  Dtype              \n",
            "---  ------              --------------  -----              \n",
            " 0   environment         16350 non-null  object             \n",
            " 1   hitPercentage       16350 non-null  float64            \n",
            " 2   language            16350 non-null  object             \n",
            " 3   char_change_number  16350 non-null  int64              \n",
            " 4   timeConsuming       16350 non-null  int64              \n",
            " 5   createdAt           16350 non-null  datetime64[ns, UTC]\n",
            " 6   user                16350 non-null  object             \n",
            " 7   question            16350 non-null  object             \n",
            " 8   list                2508 non-null   object             \n",
            " 9   test                13842 non-null  object             \n",
            " 10  id_class            16350 non-null  object             \n",
            " 11  registration        16350 non-null  object             \n",
            " 12  timeInSecounds      16350 non-null  int64              \n",
            " 13  dateSubmission      16350 non-null  object             \n",
            "dtypes: datetime64[ns, UTC](1), float64(1), int64(3), object(9)\n",
            "memory usage: 1.7+ MB\n"
          ],
          "name": "stdout"
        }
      ]
    },
    {
      "cell_type": "markdown",
      "metadata": {
        "id": "tVdmBYXSu_jb"
      },
      "source": [
        "Total de segundos gasto em cada questão por aluno"
      ]
    },
    {
      "cell_type": "code",
      "metadata": {
        "colab": {
          "base_uri": "https://localhost:8080/",
          "height": 111
        },
        "id": "xx-LH18atpNg",
        "outputId": "f3e048e8-89ef-4151-cfaa-c5490f5943ad"
      },
      "source": [
        "df_user_secounds = df_submission[df_submission[\"timeInSecounds\"] > 0].groupby(['registration','question','list'])['timeInSecounds'].sum().reset_index(name='totalSecounds')\r\n",
        "df_user_secounds.head(2)"
      ],
      "execution_count": null,
      "outputs": [
        {
          "output_type": "execute_result",
          "data": {
            "text/html": [
              "<div>\n",
              "<style scoped>\n",
              "    .dataframe tbody tr th:only-of-type {\n",
              "        vertical-align: middle;\n",
              "    }\n",
              "\n",
              "    .dataframe tbody tr th {\n",
              "        vertical-align: top;\n",
              "    }\n",
              "\n",
              "    .dataframe thead th {\n",
              "        text-align: right;\n",
              "    }\n",
              "</style>\n",
              "<table border=\"1\" class=\"dataframe\">\n",
              "  <thead>\n",
              "    <tr style=\"text-align: right;\">\n",
              "      <th></th>\n",
              "      <th>registration</th>\n",
              "      <th>question</th>\n",
              "      <th>list</th>\n",
              "      <th>totalSecounds</th>\n",
              "    </tr>\n",
              "  </thead>\n",
              "  <tbody>\n",
              "    <tr>\n",
              "      <th>0</th>\n",
              "      <td>2016034522</td>\n",
              "      <td>Comparação com switch</td>\n",
              "      <td>IMD0012 - 2020.6: Lista Obrigatória, Semana 1</td>\n",
              "      <td>13481</td>\n",
              "    </tr>\n",
              "    <tr>\n",
              "      <th>1</th>\n",
              "      <td>2016034522</td>\n",
              "      <td>Contar quantos são maiores de 18 anos</td>\n",
              "      <td>ITP - Laços</td>\n",
              "      <td>410</td>\n",
              "    </tr>\n",
              "  </tbody>\n",
              "</table>\n",
              "</div>"
            ],
            "text/plain": [
              "  registration  ... totalSecounds\n",
              "0   2016034522  ...         13481\n",
              "1   2016034522  ...           410\n",
              "\n",
              "[2 rows x 4 columns]"
            ]
          },
          "metadata": {
            "tags": []
          },
          "execution_count": 43
        }
      ]
    },
    {
      "cell_type": "code",
      "metadata": {
        "colab": {
          "base_uri": "https://localhost:8080/"
        },
        "id": "E5o4zzhiIGua",
        "outputId": "6dfa8a0e-4572-46e2-8a09-d38f36f09c8c"
      },
      "source": [
        "df_submission['list'].value_counts()"
      ],
      "execution_count": null,
      "outputs": [
        {
          "output_type": "execute_result",
          "data": {
            "text/plain": [
              "IMD0012 - 2020.6: Lista Obrigatória, Semana 1     569\n",
              "ITP - Laços                                       526\n",
              "ITP - Alocação dinâmica                           390\n",
              "IMD0012 - 2020.6: Lista Preparatória, Semana 3    380\n",
              "ITP - Strings - Lista                             271\n",
              "ITP - Ponteiros 2 -  Lista                        105\n",
              "ITP - Funções - Lista                             101\n",
              "ITP - Matriz - Lista                               72\n",
              "ITP - Recursão - Lista                             41\n",
              "ITP - Ponteiros 1 - Lista                          27\n",
              "ITP - Structs e Enumerações - Lista                26\n",
              "Name: list, dtype: int64"
            ]
          },
          "metadata": {
            "tags": []
          },
          "execution_count": 44
        }
      ]
    },
    {
      "cell_type": "code",
      "metadata": {
        "colab": {
          "base_uri": "https://localhost:8080/",
          "height": 145
        },
        "id": "167LmPyNMGNy",
        "outputId": "1e4bce67-3996-4e6e-e279-ada4db48810e"
      },
      "source": [
        "df_submission.head(2)"
      ],
      "execution_count": null,
      "outputs": [
        {
          "output_type": "execute_result",
          "data": {
            "text/html": [
              "<div>\n",
              "<style scoped>\n",
              "    .dataframe tbody tr th:only-of-type {\n",
              "        vertical-align: middle;\n",
              "    }\n",
              "\n",
              "    .dataframe tbody tr th {\n",
              "        vertical-align: top;\n",
              "    }\n",
              "\n",
              "    .dataframe thead th {\n",
              "        text-align: right;\n",
              "    }\n",
              "</style>\n",
              "<table border=\"1\" class=\"dataframe\">\n",
              "  <thead>\n",
              "    <tr style=\"text-align: right;\">\n",
              "      <th></th>\n",
              "      <th>environment</th>\n",
              "      <th>hitPercentage</th>\n",
              "      <th>language</th>\n",
              "      <th>char_change_number</th>\n",
              "      <th>timeConsuming</th>\n",
              "      <th>createdAt</th>\n",
              "      <th>user</th>\n",
              "      <th>question</th>\n",
              "      <th>list</th>\n",
              "      <th>test</th>\n",
              "      <th>id_class</th>\n",
              "      <th>registration</th>\n",
              "      <th>timeInSecounds</th>\n",
              "      <th>dateSubmission</th>\n",
              "    </tr>\n",
              "  </thead>\n",
              "  <tbody>\n",
              "    <tr>\n",
              "      <th>0</th>\n",
              "      <td>desktop</td>\n",
              "      <td>0.0</td>\n",
              "      <td>c</td>\n",
              "      <td>207</td>\n",
              "      <td>66156</td>\n",
              "      <td>2020-12-21 17:56:01+00:00</td>\n",
              "      <td>Arthur Learth</td>\n",
              "      <td>CRUD - Com alocação dinâmica - Rep</td>\n",
              "      <td>None</td>\n",
              "      <td>ITP 2020.6 - T02 - Reposicao</td>\n",
              "      <td>b5413cd7-4f61-4241-aad8-23740bab604f</td>\n",
              "      <td>20180071294</td>\n",
              "      <td>66</td>\n",
              "      <td>2020-12-21</td>\n",
              "    </tr>\n",
              "    <tr>\n",
              "      <th>1</th>\n",
              "      <td>desktop</td>\n",
              "      <td>0.0</td>\n",
              "      <td>c</td>\n",
              "      <td>207</td>\n",
              "      <td>108142</td>\n",
              "      <td>2020-12-21 17:55:34+00:00</td>\n",
              "      <td>Arthur Learth</td>\n",
              "      <td>CRUD - Com alocação dinâmica - Rep</td>\n",
              "      <td>None</td>\n",
              "      <td>ITP 2020.6 - T02 - Reposicao</td>\n",
              "      <td>b5413cd7-4f61-4241-aad8-23740bab604f</td>\n",
              "      <td>20180071294</td>\n",
              "      <td>108</td>\n",
              "      <td>2020-12-21</td>\n",
              "    </tr>\n",
              "  </tbody>\n",
              "</table>\n",
              "</div>"
            ],
            "text/plain": [
              "  environment  hitPercentage  ... timeInSecounds  dateSubmission\n",
              "0     desktop            0.0  ...             66      2020-12-21\n",
              "1     desktop            0.0  ...            108      2020-12-21\n",
              "\n",
              "[2 rows x 14 columns]"
            ]
          },
          "metadata": {
            "tags": []
          },
          "execution_count": 45
        }
      ]
    },
    {
      "cell_type": "markdown",
      "metadata": {
        "id": "9R1I6ePOmwb-"
      },
      "source": [
        "Dataframe sem duplicatas e com tempo maior que 0"
      ]
    },
    {
      "cell_type": "code",
      "metadata": {
        "colab": {
          "base_uri": "https://localhost:8080/",
          "height": 111
        },
        "id": "DT3QgoSDmJoS",
        "outputId": "29001066-47d3-4c53-f307-c5605bbb19e4"
      },
      "source": [
        "df_without_duplicates = df_submission[df_submission[\"timeInSecounds\"] > 0].drop(['environment','hitPercentage','timeConsuming','createdAt','timeInSecounds','char_change_number'], axis=1).drop_duplicates()\r\n",
        "df_without_duplicates.head(2)"
      ],
      "execution_count": null,
      "outputs": [
        {
          "output_type": "execute_result",
          "data": {
            "text/html": [
              "<div>\n",
              "<style scoped>\n",
              "    .dataframe tbody tr th:only-of-type {\n",
              "        vertical-align: middle;\n",
              "    }\n",
              "\n",
              "    .dataframe tbody tr th {\n",
              "        vertical-align: top;\n",
              "    }\n",
              "\n",
              "    .dataframe thead th {\n",
              "        text-align: right;\n",
              "    }\n",
              "</style>\n",
              "<table border=\"1\" class=\"dataframe\">\n",
              "  <thead>\n",
              "    <tr style=\"text-align: right;\">\n",
              "      <th></th>\n",
              "      <th>language</th>\n",
              "      <th>user</th>\n",
              "      <th>question</th>\n",
              "      <th>list</th>\n",
              "      <th>test</th>\n",
              "      <th>id_class</th>\n",
              "      <th>registration</th>\n",
              "      <th>dateSubmission</th>\n",
              "    </tr>\n",
              "  </thead>\n",
              "  <tbody>\n",
              "    <tr>\n",
              "      <th>0</th>\n",
              "      <td>c</td>\n",
              "      <td>Arthur Learth</td>\n",
              "      <td>CRUD - Com alocação dinâmica - Rep</td>\n",
              "      <td>None</td>\n",
              "      <td>ITP 2020.6 - T02 - Reposicao</td>\n",
              "      <td>b5413cd7-4f61-4241-aad8-23740bab604f</td>\n",
              "      <td>20180071294</td>\n",
              "      <td>2020-12-21</td>\n",
              "    </tr>\n",
              "    <tr>\n",
              "      <th>22</th>\n",
              "      <td>c</td>\n",
              "      <td>Matheus Henrique Fonseca Valerio</td>\n",
              "      <td>CRUD - Com alocação dinâmica - Rep</td>\n",
              "      <td>None</td>\n",
              "      <td>ITP 2020.6 - T02 - Reposicao</td>\n",
              "      <td>b5413cd7-4f61-4241-aad8-23740bab604f</td>\n",
              "      <td>20180063597</td>\n",
              "      <td>2020-12-21</td>\n",
              "    </tr>\n",
              "  </tbody>\n",
              "</table>\n",
              "</div>"
            ],
            "text/plain": [
              "   language                               user  ...  registration dateSubmission\n",
              "0         c                     Arthur Learth   ...   20180071294     2020-12-21\n",
              "22        c  Matheus Henrique Fonseca Valerio   ...   20180063597     2020-12-21\n",
              "\n",
              "[2 rows x 8 columns]"
            ]
          },
          "metadata": {
            "tags": []
          },
          "execution_count": 46
        }
      ]
    },
    {
      "cell_type": "markdown",
      "metadata": {
        "id": "W9F9_4IstXO7"
      },
      "source": [
        "Contando em quantos dias diferentes a questão foi submetida "
      ]
    },
    {
      "cell_type": "code",
      "metadata": {
        "id": "N9a0pB0IMDr8",
        "colab": {
          "base_uri": "https://localhost:8080/",
          "height": 111
        },
        "outputId": "8ba39ef2-b819-49d9-8f6f-e8cb5c62c49f"
      },
      "source": [
        "df_user_days = df_without_duplicates.groupby(['registration','question','list'])['dateSubmission'].count().reset_index(name='differentDays')\r\n",
        "df_user_days.head(2)"
      ],
      "execution_count": null,
      "outputs": [
        {
          "output_type": "execute_result",
          "data": {
            "text/html": [
              "<div>\n",
              "<style scoped>\n",
              "    .dataframe tbody tr th:only-of-type {\n",
              "        vertical-align: middle;\n",
              "    }\n",
              "\n",
              "    .dataframe tbody tr th {\n",
              "        vertical-align: top;\n",
              "    }\n",
              "\n",
              "    .dataframe thead th {\n",
              "        text-align: right;\n",
              "    }\n",
              "</style>\n",
              "<table border=\"1\" class=\"dataframe\">\n",
              "  <thead>\n",
              "    <tr style=\"text-align: right;\">\n",
              "      <th></th>\n",
              "      <th>registration</th>\n",
              "      <th>question</th>\n",
              "      <th>list</th>\n",
              "      <th>differentDays</th>\n",
              "    </tr>\n",
              "  </thead>\n",
              "  <tbody>\n",
              "    <tr>\n",
              "      <th>0</th>\n",
              "      <td>2016034522</td>\n",
              "      <td>Comparação com switch</td>\n",
              "      <td>IMD0012 - 2020.6: Lista Obrigatória, Semana 1</td>\n",
              "      <td>1</td>\n",
              "    </tr>\n",
              "    <tr>\n",
              "      <th>1</th>\n",
              "      <td>2016034522</td>\n",
              "      <td>Contar quantos são maiores de 18 anos</td>\n",
              "      <td>ITP - Laços</td>\n",
              "      <td>1</td>\n",
              "    </tr>\n",
              "  </tbody>\n",
              "</table>\n",
              "</div>"
            ],
            "text/plain": [
              "  registration  ... differentDays\n",
              "0   2016034522  ...             1\n",
              "1   2016034522  ...             1\n",
              "\n",
              "[2 rows x 4 columns]"
            ]
          },
          "metadata": {
            "tags": []
          },
          "execution_count": 47
        }
      ]
    },
    {
      "cell_type": "code",
      "metadata": {
        "id": "qroky0jUu7SY"
      },
      "source": [
        "df_user_secounds_days = pd.merge(df_user_secounds, df_user_days, on=['registration','question','list'])"
      ],
      "execution_count": null,
      "outputs": []
    },
    {
      "cell_type": "code",
      "metadata": {
        "colab": {
          "base_uri": "https://localhost:8080/",
          "height": 111
        },
        "id": "3bTETchQLgeF",
        "outputId": "3f9cb208-1277-4301-ded6-1a6d292c256e"
      },
      "source": [
        "df_user_days.head(2)"
      ],
      "execution_count": null,
      "outputs": [
        {
          "output_type": "execute_result",
          "data": {
            "text/html": [
              "<div>\n",
              "<style scoped>\n",
              "    .dataframe tbody tr th:only-of-type {\n",
              "        vertical-align: middle;\n",
              "    }\n",
              "\n",
              "    .dataframe tbody tr th {\n",
              "        vertical-align: top;\n",
              "    }\n",
              "\n",
              "    .dataframe thead th {\n",
              "        text-align: right;\n",
              "    }\n",
              "</style>\n",
              "<table border=\"1\" class=\"dataframe\">\n",
              "  <thead>\n",
              "    <tr style=\"text-align: right;\">\n",
              "      <th></th>\n",
              "      <th>registration</th>\n",
              "      <th>question</th>\n",
              "      <th>list</th>\n",
              "      <th>differentDays</th>\n",
              "    </tr>\n",
              "  </thead>\n",
              "  <tbody>\n",
              "    <tr>\n",
              "      <th>0</th>\n",
              "      <td>2016034522</td>\n",
              "      <td>Comparação com switch</td>\n",
              "      <td>IMD0012 - 2020.6: Lista Obrigatória, Semana 1</td>\n",
              "      <td>1</td>\n",
              "    </tr>\n",
              "    <tr>\n",
              "      <th>1</th>\n",
              "      <td>2016034522</td>\n",
              "      <td>Contar quantos são maiores de 18 anos</td>\n",
              "      <td>ITP - Laços</td>\n",
              "      <td>1</td>\n",
              "    </tr>\n",
              "  </tbody>\n",
              "</table>\n",
              "</div>"
            ],
            "text/plain": [
              "  registration  ... differentDays\n",
              "0   2016034522  ...             1\n",
              "1   2016034522  ...             1\n",
              "\n",
              "[2 rows x 4 columns]"
            ]
          },
          "metadata": {
            "tags": []
          },
          "execution_count": 49
        }
      ]
    },
    {
      "cell_type": "code",
      "metadata": {
        "colab": {
          "base_uri": "https://localhost:8080/",
          "height": 111
        },
        "id": "d5xIKSfVLNXz",
        "outputId": "16e5fc28-8b33-463c-a6c9-2de3e9cb8ea8"
      },
      "source": [
        "df_user_secounds.head(2)"
      ],
      "execution_count": null,
      "outputs": [
        {
          "output_type": "execute_result",
          "data": {
            "text/html": [
              "<div>\n",
              "<style scoped>\n",
              "    .dataframe tbody tr th:only-of-type {\n",
              "        vertical-align: middle;\n",
              "    }\n",
              "\n",
              "    .dataframe tbody tr th {\n",
              "        vertical-align: top;\n",
              "    }\n",
              "\n",
              "    .dataframe thead th {\n",
              "        text-align: right;\n",
              "    }\n",
              "</style>\n",
              "<table border=\"1\" class=\"dataframe\">\n",
              "  <thead>\n",
              "    <tr style=\"text-align: right;\">\n",
              "      <th></th>\n",
              "      <th>registration</th>\n",
              "      <th>question</th>\n",
              "      <th>list</th>\n",
              "      <th>totalSecounds</th>\n",
              "    </tr>\n",
              "  </thead>\n",
              "  <tbody>\n",
              "    <tr>\n",
              "      <th>0</th>\n",
              "      <td>2016034522</td>\n",
              "      <td>Comparação com switch</td>\n",
              "      <td>IMD0012 - 2020.6: Lista Obrigatória, Semana 1</td>\n",
              "      <td>13481</td>\n",
              "    </tr>\n",
              "    <tr>\n",
              "      <th>1</th>\n",
              "      <td>2016034522</td>\n",
              "      <td>Contar quantos são maiores de 18 anos</td>\n",
              "      <td>ITP - Laços</td>\n",
              "      <td>410</td>\n",
              "    </tr>\n",
              "  </tbody>\n",
              "</table>\n",
              "</div>"
            ],
            "text/plain": [
              "  registration  ... totalSecounds\n",
              "0   2016034522  ...         13481\n",
              "1   2016034522  ...           410\n",
              "\n",
              "[2 rows x 4 columns]"
            ]
          },
          "metadata": {
            "tags": []
          },
          "execution_count": 50
        }
      ]
    },
    {
      "cell_type": "code",
      "metadata": {
        "colab": {
          "base_uri": "https://localhost:8080/",
          "height": 111
        },
        "id": "Z9soM7qbvPfy",
        "outputId": "47fd61ca-1f6a-4f5a-f537-2b014f7fbb2b"
      },
      "source": [
        "df_user_secounds_days.head(2)"
      ],
      "execution_count": null,
      "outputs": [
        {
          "output_type": "execute_result",
          "data": {
            "text/html": [
              "<div>\n",
              "<style scoped>\n",
              "    .dataframe tbody tr th:only-of-type {\n",
              "        vertical-align: middle;\n",
              "    }\n",
              "\n",
              "    .dataframe tbody tr th {\n",
              "        vertical-align: top;\n",
              "    }\n",
              "\n",
              "    .dataframe thead th {\n",
              "        text-align: right;\n",
              "    }\n",
              "</style>\n",
              "<table border=\"1\" class=\"dataframe\">\n",
              "  <thead>\n",
              "    <tr style=\"text-align: right;\">\n",
              "      <th></th>\n",
              "      <th>registration</th>\n",
              "      <th>question</th>\n",
              "      <th>list</th>\n",
              "      <th>totalSecounds</th>\n",
              "      <th>differentDays</th>\n",
              "    </tr>\n",
              "  </thead>\n",
              "  <tbody>\n",
              "    <tr>\n",
              "      <th>0</th>\n",
              "      <td>2016034522</td>\n",
              "      <td>Comparação com switch</td>\n",
              "      <td>IMD0012 - 2020.6: Lista Obrigatória, Semana 1</td>\n",
              "      <td>13481</td>\n",
              "      <td>1</td>\n",
              "    </tr>\n",
              "    <tr>\n",
              "      <th>1</th>\n",
              "      <td>2016034522</td>\n",
              "      <td>Contar quantos são maiores de 18 anos</td>\n",
              "      <td>ITP - Laços</td>\n",
              "      <td>410</td>\n",
              "      <td>1</td>\n",
              "    </tr>\n",
              "  </tbody>\n",
              "</table>\n",
              "</div>"
            ],
            "text/plain": [
              "  registration  ... differentDays\n",
              "0   2016034522  ...             1\n",
              "1   2016034522  ...             1\n",
              "\n",
              "[2 rows x 5 columns]"
            ]
          },
          "metadata": {
            "tags": []
          },
          "execution_count": 51
        }
      ]
    },
    {
      "cell_type": "markdown",
      "metadata": {
        "id": "-VZyZM3ACSIJ"
      },
      "source": [
        "Adicionando o campo nome"
      ]
    },
    {
      "cell_type": "code",
      "metadata": {
        "id": "3iXtPj7wCVP6"
      },
      "source": [
        "df_user_secounds_days = pd.merge(df_user_secounds_days, df_submission[['user','registration']].drop_duplicates(), on='registration')"
      ],
      "execution_count": null,
      "outputs": []
    },
    {
      "cell_type": "code",
      "metadata": {
        "id": "STd2CrqSSsJ0"
      },
      "source": [
        "#df_user_secounds_days.to_json('df_user_secounds_days.json',force_ascii=False, orient='records') "
      ],
      "execution_count": null,
      "outputs": []
    },
    {
      "cell_type": "markdown",
      "metadata": {
        "id": "leLDcdPN2ROR"
      },
      "source": [
        "Pra uma turma o gráfico não faz sentido, mas passa a fazer se você analisa 1 usuário por vez. Gráfico por aluno, o tempo gasto por questão e o total de dias diferentes que ele tentou"
      ]
    },
    {
      "cell_type": "code",
      "metadata": {
        "colab": {
          "base_uri": "https://localhost:8080/",
          "height": 542
        },
        "id": "vdgaPPe-vuj3",
        "outputId": "ab156740-b2ce-4201-f744-b1fb7d272e1c"
      },
      "source": [
        "px.scatter(data_frame=df_user_secounds_days[df_user_secounds_days['registration'].str.contains('20190035658')]\t, y = 'totalSecounds', x = 'differentDays', color='question') "
      ],
      "execution_count": null,
      "outputs": [
        {
          "output_type": "display_data",
          "data": {
            "text/html": [
              "<html>\n",
              "<head><meta charset=\"utf-8\" /></head>\n",
              "<body>\n",
              "    <div>\n",
              "            <script src=\"https://cdnjs.cloudflare.com/ajax/libs/mathjax/2.7.5/MathJax.js?config=TeX-AMS-MML_SVG\"></script><script type=\"text/javascript\">if (window.MathJax) {MathJax.Hub.Config({SVG: {font: \"STIX-Web\"}});}</script>\n",
              "                <script type=\"text/javascript\">window.PlotlyConfig = {MathJaxConfig: 'local'};</script>\n",
              "        <script src=\"https://cdn.plot.ly/plotly-latest.min.js\"></script>    \n",
              "            <div id=\"e2a9ff60-e709-4b34-9f77-ab01d563f839\" class=\"plotly-graph-div\" style=\"height:525px; width:100%;\"></div>\n",
              "            <script type=\"text/javascript\">\n",
              "                \n",
              "                    window.PLOTLYENV=window.PLOTLYENV || {};\n",
              "                    \n",
              "                if (document.getElementById(\"e2a9ff60-e709-4b34-9f77-ab01d563f839\")) {\n",
              "                    Plotly.newPlot(\n",
              "                        'e2a9ff60-e709-4b34-9f77-ab01d563f839',\n",
              "                        [{\"hoverlabel\": {\"namelength\": 0}, \"hovertemplate\": \"question=Compara\\u00e7\\u00e3o com switch<br>differentDays=%{x}<br>totalSecounds=%{y}\", \"legendgroup\": \"question=Compara\\u00e7\\u00e3o com switch\", \"marker\": {\"color\": \"#636efa\", \"symbol\": \"circle\"}, \"mode\": \"markers\", \"name\": \"question=Compara\\u00e7\\u00e3o com switch\", \"showlegend\": true, \"type\": \"scatter\", \"x\": [1], \"xaxis\": \"x\", \"y\": [119], \"yaxis\": \"y\"}, {\"hoverlabel\": {\"namelength\": 0}, \"hovertemplate\": \"question=Contar quantos s\\u00e3o maiores de 18 anos<br>differentDays=%{x}<br>totalSecounds=%{y}\", \"legendgroup\": \"question=Contar quantos s\\u00e3o maiores de 18 anos\", \"marker\": {\"color\": \"#EF553B\", \"symbol\": \"circle\"}, \"mode\": \"markers\", \"name\": \"question=Contar quantos s\\u00e3o maiores de 18 anos\", \"showlegend\": true, \"type\": \"scatter\", \"x\": [1], \"xaxis\": \"x\", \"y\": [582], \"yaxis\": \"y\"}, {\"hoverlabel\": {\"namelength\": 0}, \"hovertemplate\": \"question=Fluxograma<br>differentDays=%{x}<br>totalSecounds=%{y}\", \"legendgroup\": \"question=Fluxograma\", \"marker\": {\"color\": \"#00cc96\", \"symbol\": \"circle\"}, \"mode\": \"markers\", \"name\": \"question=Fluxograma\", \"showlegend\": true, \"type\": \"scatter\", \"x\": [1], \"xaxis\": \"x\", \"y\": [3486], \"yaxis\": \"y\"}, {\"hoverlabel\": {\"namelength\": 0}, \"hovertemplate\": \"question=M\\u00e9dia de 3 notas<br>differentDays=%{x}<br>totalSecounds=%{y}\", \"legendgroup\": \"question=M\\u00e9dia de 3 notas\", \"marker\": {\"color\": \"#ab63fa\", \"symbol\": \"circle\"}, \"mode\": \"markers\", \"name\": \"question=M\\u00e9dia de 3 notas\", \"showlegend\": true, \"type\": \"scatter\", \"x\": [2], \"xaxis\": \"x\", \"y\": [9772], \"yaxis\": \"y\"}, {\"hoverlabel\": {\"namelength\": 0}, \"hovertemplate\": \"question=Pares, \\u00edmpares, positivos e negativos<br>differentDays=%{x}<br>totalSecounds=%{y}\", \"legendgroup\": \"question=Pares, \\u00edmpares, positivos e negativos\", \"marker\": {\"color\": \"#FFA15A\", \"symbol\": \"circle\"}, \"mode\": \"markers\", \"name\": \"question=Pares, \\u00edmpares, positivos e negativos\", \"showlegend\": true, \"type\": \"scatter\", \"x\": [1], \"xaxis\": \"x\", \"y\": [3587], \"yaxis\": \"y\"}, {\"hoverlabel\": {\"namelength\": 0}, \"hovertemplate\": \"question=Rota\\u00e7\\u00e3o de bits<br>differentDays=%{x}<br>totalSecounds=%{y}\", \"legendgroup\": \"question=Rota\\u00e7\\u00e3o de bits\", \"marker\": {\"color\": \"#19d3f3\", \"symbol\": \"circle\"}, \"mode\": \"markers\", \"name\": \"question=Rota\\u00e7\\u00e3o de bits\", \"showlegend\": true, \"type\": \"scatter\", \"x\": [1], \"xaxis\": \"x\", \"y\": [1865], \"yaxis\": \"y\"}, {\"hoverlabel\": {\"namelength\": 0}, \"hovertemplate\": \"question=Soma de dois n\\u00fameros pares<br>differentDays=%{x}<br>totalSecounds=%{y}\", \"legendgroup\": \"question=Soma de dois n\\u00fameros pares\", \"marker\": {\"color\": \"#FF6692\", \"symbol\": \"circle\"}, \"mode\": \"markers\", \"name\": \"question=Soma de dois n\\u00fameros pares\", \"showlegend\": true, \"type\": \"scatter\", \"x\": [2], \"xaxis\": \"x\", \"y\": [5420], \"yaxis\": \"y\"}, {\"hoverlabel\": {\"namelength\": 0}, \"hovertemplate\": \"question=Soma de dois vetores<br>differentDays=%{x}<br>totalSecounds=%{y}\", \"legendgroup\": \"question=Soma de dois vetores\", \"marker\": {\"color\": \"#B6E880\", \"symbol\": \"circle\"}, \"mode\": \"markers\", \"name\": \"question=Soma de dois vetores\", \"showlegend\": true, \"type\": \"scatter\", \"x\": [1], \"xaxis\": \"x\", \"y\": [591], \"yaxis\": \"y\"}, {\"hoverlabel\": {\"namelength\": 0}, \"hovertemplate\": \"question=Soma de valores \\u00edmpares<br>differentDays=%{x}<br>totalSecounds=%{y}\", \"legendgroup\": \"question=Soma de valores \\u00edmpares\", \"marker\": {\"color\": \"#FF97FF\", \"symbol\": \"circle\"}, \"mode\": \"markers\", \"name\": \"question=Soma de valores \\u00edmpares\", \"showlegend\": true, \"type\": \"scatter\", \"x\": [1], \"xaxis\": \"x\", \"y\": [4625], \"yaxis\": \"y\"}, {\"hoverlabel\": {\"namelength\": 0}, \"hovertemplate\": \"question=Soma dos d\\u00edgitos<br>differentDays=%{x}<br>totalSecounds=%{y}\", \"legendgroup\": \"question=Soma dos d\\u00edgitos\", \"marker\": {\"color\": \"#FECB52\", \"symbol\": \"circle\"}, \"mode\": \"markers\", \"name\": \"question=Soma dos d\\u00edgitos\", \"showlegend\": true, \"type\": \"scatter\", \"x\": [1], \"xaxis\": \"x\", \"y\": [570], \"yaxis\": \"y\"}, {\"hoverlabel\": {\"namelength\": 0}, \"hovertemplate\": \"question=Uni\\u00e3o e ordena\\u00e7\\u00e3o de vetores<br>differentDays=%{x}<br>totalSecounds=%{y}\", \"legendgroup\": \"question=Uni\\u00e3o e ordena\\u00e7\\u00e3o de vetores\", \"marker\": {\"color\": \"#636efa\", \"symbol\": \"circle\"}, \"mode\": \"markers\", \"name\": \"question=Uni\\u00e3o e ordena\\u00e7\\u00e3o de vetores\", \"showlegend\": true, \"type\": \"scatter\", \"x\": [3], \"xaxis\": \"x\", \"y\": [28261], \"yaxis\": \"y\"}],\n",
              "                        {\"legend\": {\"tracegroupgap\": 0}, \"margin\": {\"t\": 60}, \"template\": {\"data\": {\"bar\": [{\"error_x\": {\"color\": \"#2a3f5f\"}, \"error_y\": {\"color\": \"#2a3f5f\"}, \"marker\": {\"line\": {\"color\": \"#E5ECF6\", \"width\": 0.5}}, \"type\": \"bar\"}], \"barpolar\": [{\"marker\": {\"line\": {\"color\": \"#E5ECF6\", \"width\": 0.5}}, \"type\": \"barpolar\"}], \"carpet\": [{\"aaxis\": {\"endlinecolor\": \"#2a3f5f\", \"gridcolor\": \"white\", \"linecolor\": \"white\", \"minorgridcolor\": \"white\", \"startlinecolor\": \"#2a3f5f\"}, \"baxis\": {\"endlinecolor\": \"#2a3f5f\", \"gridcolor\": \"white\", \"linecolor\": \"white\", \"minorgridcolor\": \"white\", \"startlinecolor\": \"#2a3f5f\"}, \"type\": \"carpet\"}], \"choropleth\": [{\"colorbar\": {\"outlinewidth\": 0, \"ticks\": \"\"}, \"type\": \"choropleth\"}], \"contour\": [{\"colorbar\": {\"outlinewidth\": 0, \"ticks\": \"\"}, \"colorscale\": [[0.0, \"#0d0887\"], [0.1111111111111111, \"#46039f\"], [0.2222222222222222, \"#7201a8\"], [0.3333333333333333, \"#9c179e\"], [0.4444444444444444, \"#bd3786\"], [0.5555555555555556, \"#d8576b\"], [0.6666666666666666, \"#ed7953\"], [0.7777777777777778, \"#fb9f3a\"], [0.8888888888888888, \"#fdca26\"], [1.0, \"#f0f921\"]], \"type\": \"contour\"}], \"contourcarpet\": [{\"colorbar\": {\"outlinewidth\": 0, \"ticks\": \"\"}, \"type\": \"contourcarpet\"}], \"heatmap\": [{\"colorbar\": {\"outlinewidth\": 0, \"ticks\": \"\"}, \"colorscale\": [[0.0, \"#0d0887\"], [0.1111111111111111, \"#46039f\"], [0.2222222222222222, \"#7201a8\"], [0.3333333333333333, \"#9c179e\"], [0.4444444444444444, \"#bd3786\"], [0.5555555555555556, \"#d8576b\"], [0.6666666666666666, \"#ed7953\"], [0.7777777777777778, \"#fb9f3a\"], [0.8888888888888888, \"#fdca26\"], [1.0, \"#f0f921\"]], \"type\": \"heatmap\"}], \"heatmapgl\": [{\"colorbar\": {\"outlinewidth\": 0, \"ticks\": \"\"}, \"colorscale\": [[0.0, \"#0d0887\"], [0.1111111111111111, \"#46039f\"], [0.2222222222222222, \"#7201a8\"], [0.3333333333333333, \"#9c179e\"], [0.4444444444444444, \"#bd3786\"], [0.5555555555555556, \"#d8576b\"], [0.6666666666666666, \"#ed7953\"], [0.7777777777777778, \"#fb9f3a\"], [0.8888888888888888, \"#fdca26\"], [1.0, \"#f0f921\"]], \"type\": \"heatmapgl\"}], \"histogram\": [{\"marker\": {\"colorbar\": {\"outlinewidth\": 0, \"ticks\": \"\"}}, \"type\": \"histogram\"}], \"histogram2d\": [{\"colorbar\": {\"outlinewidth\": 0, \"ticks\": \"\"}, \"colorscale\": [[0.0, \"#0d0887\"], [0.1111111111111111, \"#46039f\"], [0.2222222222222222, \"#7201a8\"], [0.3333333333333333, \"#9c179e\"], [0.4444444444444444, \"#bd3786\"], [0.5555555555555556, \"#d8576b\"], [0.6666666666666666, \"#ed7953\"], [0.7777777777777778, \"#fb9f3a\"], [0.8888888888888888, \"#fdca26\"], [1.0, \"#f0f921\"]], \"type\": \"histogram2d\"}], \"histogram2dcontour\": [{\"colorbar\": {\"outlinewidth\": 0, \"ticks\": \"\"}, \"colorscale\": [[0.0, \"#0d0887\"], [0.1111111111111111, \"#46039f\"], [0.2222222222222222, \"#7201a8\"], [0.3333333333333333, \"#9c179e\"], [0.4444444444444444, \"#bd3786\"], [0.5555555555555556, \"#d8576b\"], [0.6666666666666666, \"#ed7953\"], [0.7777777777777778, \"#fb9f3a\"], [0.8888888888888888, \"#fdca26\"], [1.0, \"#f0f921\"]], \"type\": \"histogram2dcontour\"}], \"mesh3d\": [{\"colorbar\": {\"outlinewidth\": 0, \"ticks\": \"\"}, \"type\": \"mesh3d\"}], \"parcoords\": [{\"line\": {\"colorbar\": {\"outlinewidth\": 0, \"ticks\": \"\"}}, \"type\": \"parcoords\"}], \"pie\": [{\"automargin\": true, \"type\": \"pie\"}], \"scatter\": [{\"marker\": {\"colorbar\": {\"outlinewidth\": 0, \"ticks\": \"\"}}, \"type\": \"scatter\"}], \"scatter3d\": [{\"line\": {\"colorbar\": {\"outlinewidth\": 0, \"ticks\": \"\"}}, \"marker\": {\"colorbar\": {\"outlinewidth\": 0, \"ticks\": \"\"}}, \"type\": \"scatter3d\"}], \"scattercarpet\": [{\"marker\": {\"colorbar\": {\"outlinewidth\": 0, \"ticks\": \"\"}}, \"type\": \"scattercarpet\"}], \"scattergeo\": [{\"marker\": {\"colorbar\": {\"outlinewidth\": 0, \"ticks\": \"\"}}, \"type\": \"scattergeo\"}], \"scattergl\": [{\"marker\": {\"colorbar\": {\"outlinewidth\": 0, \"ticks\": \"\"}}, \"type\": \"scattergl\"}], \"scattermapbox\": [{\"marker\": {\"colorbar\": {\"outlinewidth\": 0, \"ticks\": \"\"}}, \"type\": \"scattermapbox\"}], \"scatterpolar\": [{\"marker\": {\"colorbar\": {\"outlinewidth\": 0, \"ticks\": \"\"}}, \"type\": \"scatterpolar\"}], \"scatterpolargl\": [{\"marker\": {\"colorbar\": {\"outlinewidth\": 0, \"ticks\": \"\"}}, \"type\": \"scatterpolargl\"}], \"scatterternary\": [{\"marker\": {\"colorbar\": {\"outlinewidth\": 0, \"ticks\": \"\"}}, \"type\": \"scatterternary\"}], \"surface\": [{\"colorbar\": {\"outlinewidth\": 0, \"ticks\": \"\"}, \"colorscale\": [[0.0, \"#0d0887\"], [0.1111111111111111, \"#46039f\"], [0.2222222222222222, \"#7201a8\"], [0.3333333333333333, \"#9c179e\"], [0.4444444444444444, \"#bd3786\"], [0.5555555555555556, \"#d8576b\"], [0.6666666666666666, \"#ed7953\"], [0.7777777777777778, \"#fb9f3a\"], [0.8888888888888888, \"#fdca26\"], [1.0, \"#f0f921\"]], \"type\": \"surface\"}], \"table\": [{\"cells\": {\"fill\": {\"color\": \"#EBF0F8\"}, \"line\": {\"color\": \"white\"}}, \"header\": {\"fill\": {\"color\": \"#C8D4E3\"}, \"line\": {\"color\": \"white\"}}, \"type\": \"table\"}]}, \"layout\": {\"annotationdefaults\": {\"arrowcolor\": \"#2a3f5f\", \"arrowhead\": 0, \"arrowwidth\": 1}, \"coloraxis\": {\"colorbar\": {\"outlinewidth\": 0, \"ticks\": \"\"}}, \"colorscale\": {\"diverging\": [[0, \"#8e0152\"], [0.1, \"#c51b7d\"], [0.2, \"#de77ae\"], [0.3, \"#f1b6da\"], [0.4, \"#fde0ef\"], [0.5, \"#f7f7f7\"], [0.6, \"#e6f5d0\"], [0.7, \"#b8e186\"], [0.8, \"#7fbc41\"], [0.9, \"#4d9221\"], [1, \"#276419\"]], \"sequential\": [[0.0, \"#0d0887\"], [0.1111111111111111, \"#46039f\"], [0.2222222222222222, \"#7201a8\"], [0.3333333333333333, \"#9c179e\"], [0.4444444444444444, \"#bd3786\"], [0.5555555555555556, \"#d8576b\"], [0.6666666666666666, \"#ed7953\"], [0.7777777777777778, \"#fb9f3a\"], [0.8888888888888888, \"#fdca26\"], [1.0, \"#f0f921\"]], \"sequentialminus\": [[0.0, \"#0d0887\"], [0.1111111111111111, \"#46039f\"], [0.2222222222222222, \"#7201a8\"], [0.3333333333333333, \"#9c179e\"], [0.4444444444444444, \"#bd3786\"], [0.5555555555555556, \"#d8576b\"], [0.6666666666666666, \"#ed7953\"], [0.7777777777777778, \"#fb9f3a\"], [0.8888888888888888, \"#fdca26\"], [1.0, \"#f0f921\"]]}, \"colorway\": [\"#636efa\", \"#EF553B\", \"#00cc96\", \"#ab63fa\", \"#FFA15A\", \"#19d3f3\", \"#FF6692\", \"#B6E880\", \"#FF97FF\", \"#FECB52\"], \"font\": {\"color\": \"#2a3f5f\"}, \"geo\": {\"bgcolor\": \"white\", \"lakecolor\": \"white\", \"landcolor\": \"#E5ECF6\", \"showlakes\": true, \"showland\": true, \"subunitcolor\": \"white\"}, \"hoverlabel\": {\"align\": \"left\"}, \"hovermode\": \"closest\", \"mapbox\": {\"style\": \"light\"}, \"paper_bgcolor\": \"white\", \"plot_bgcolor\": \"#E5ECF6\", \"polar\": {\"angularaxis\": {\"gridcolor\": \"white\", \"linecolor\": \"white\", \"ticks\": \"\"}, \"bgcolor\": \"#E5ECF6\", \"radialaxis\": {\"gridcolor\": \"white\", \"linecolor\": \"white\", \"ticks\": \"\"}}, \"scene\": {\"xaxis\": {\"backgroundcolor\": \"#E5ECF6\", \"gridcolor\": \"white\", \"gridwidth\": 2, \"linecolor\": \"white\", \"showbackground\": true, \"ticks\": \"\", \"zerolinecolor\": \"white\"}, \"yaxis\": {\"backgroundcolor\": \"#E5ECF6\", \"gridcolor\": \"white\", \"gridwidth\": 2, \"linecolor\": \"white\", \"showbackground\": true, \"ticks\": \"\", \"zerolinecolor\": \"white\"}, \"zaxis\": {\"backgroundcolor\": \"#E5ECF6\", \"gridcolor\": \"white\", \"gridwidth\": 2, \"linecolor\": \"white\", \"showbackground\": true, \"ticks\": \"\", \"zerolinecolor\": \"white\"}}, \"shapedefaults\": {\"line\": {\"color\": \"#2a3f5f\"}}, \"ternary\": {\"aaxis\": {\"gridcolor\": \"white\", \"linecolor\": \"white\", \"ticks\": \"\"}, \"baxis\": {\"gridcolor\": \"white\", \"linecolor\": \"white\", \"ticks\": \"\"}, \"bgcolor\": \"#E5ECF6\", \"caxis\": {\"gridcolor\": \"white\", \"linecolor\": \"white\", \"ticks\": \"\"}}, \"title\": {\"x\": 0.05}, \"xaxis\": {\"automargin\": true, \"gridcolor\": \"white\", \"linecolor\": \"white\", \"ticks\": \"\", \"title\": {\"standoff\": 15}, \"zerolinecolor\": \"white\", \"zerolinewidth\": 2}, \"yaxis\": {\"automargin\": true, \"gridcolor\": \"white\", \"linecolor\": \"white\", \"ticks\": \"\", \"title\": {\"standoff\": 15}, \"zerolinecolor\": \"white\", \"zerolinewidth\": 2}}}, \"xaxis\": {\"anchor\": \"y\", \"domain\": [0.0, 1.0], \"title\": {\"text\": \"differentDays\"}}, \"yaxis\": {\"anchor\": \"x\", \"domain\": [0.0, 1.0], \"title\": {\"text\": \"totalSecounds\"}}},\n",
              "                        {\"responsive\": true}\n",
              "                    ).then(function(){\n",
              "                            \n",
              "var gd = document.getElementById('e2a9ff60-e709-4b34-9f77-ab01d563f839');\n",
              "var x = new MutationObserver(function (mutations, observer) {{\n",
              "        var display = window.getComputedStyle(gd).display;\n",
              "        if (!display || display === 'none') {{\n",
              "            console.log([gd, 'removed!']);\n",
              "            Plotly.purge(gd);\n",
              "            observer.disconnect();\n",
              "        }}\n",
              "}});\n",
              "\n",
              "// Listen for the removal of the full notebook cells\n",
              "var notebookContainer = gd.closest('#notebook-container');\n",
              "if (notebookContainer) {{\n",
              "    x.observe(notebookContainer, {childList: true});\n",
              "}}\n",
              "\n",
              "// Listen for the clearing of the current output cell\n",
              "var outputEl = gd.closest('.output');\n",
              "if (outputEl) {{\n",
              "    x.observe(outputEl, {childList: true});\n",
              "}}\n",
              "\n",
              "                        })\n",
              "                };\n",
              "                \n",
              "            </script>\n",
              "        </div>\n",
              "</body>\n",
              "</html>"
            ]
          },
          "metadata": {
            "tags": []
          }
        }
      ]
    },
    {
      "cell_type": "code",
      "metadata": {
        "colab": {
          "base_uri": "https://localhost:8080/",
          "height": 145
        },
        "id": "EUs3pNZc-N9Y",
        "outputId": "8ecc6b9a-bd74-44c9-f567-a8167b5b3247"
      },
      "source": [
        "df_submission.head(2)"
      ],
      "execution_count": null,
      "outputs": [
        {
          "output_type": "execute_result",
          "data": {
            "text/html": [
              "<div>\n",
              "<style scoped>\n",
              "    .dataframe tbody tr th:only-of-type {\n",
              "        vertical-align: middle;\n",
              "    }\n",
              "\n",
              "    .dataframe tbody tr th {\n",
              "        vertical-align: top;\n",
              "    }\n",
              "\n",
              "    .dataframe thead th {\n",
              "        text-align: right;\n",
              "    }\n",
              "</style>\n",
              "<table border=\"1\" class=\"dataframe\">\n",
              "  <thead>\n",
              "    <tr style=\"text-align: right;\">\n",
              "      <th></th>\n",
              "      <th>environment</th>\n",
              "      <th>hitPercentage</th>\n",
              "      <th>language</th>\n",
              "      <th>char_change_number</th>\n",
              "      <th>timeConsuming</th>\n",
              "      <th>createdAt</th>\n",
              "      <th>user</th>\n",
              "      <th>question</th>\n",
              "      <th>list</th>\n",
              "      <th>test</th>\n",
              "      <th>id_class</th>\n",
              "      <th>registration</th>\n",
              "      <th>timeInSecounds</th>\n",
              "      <th>dateSubmission</th>\n",
              "    </tr>\n",
              "  </thead>\n",
              "  <tbody>\n",
              "    <tr>\n",
              "      <th>0</th>\n",
              "      <td>desktop</td>\n",
              "      <td>0.0</td>\n",
              "      <td>c</td>\n",
              "      <td>207</td>\n",
              "      <td>66156</td>\n",
              "      <td>2020-12-21 17:56:01+00:00</td>\n",
              "      <td>Arthur Learth</td>\n",
              "      <td>CRUD - Com alocação dinâmica - Rep</td>\n",
              "      <td>None</td>\n",
              "      <td>ITP 2020.6 - T02 - Reposicao</td>\n",
              "      <td>b5413cd7-4f61-4241-aad8-23740bab604f</td>\n",
              "      <td>20180071294</td>\n",
              "      <td>66</td>\n",
              "      <td>2020-12-21</td>\n",
              "    </tr>\n",
              "    <tr>\n",
              "      <th>1</th>\n",
              "      <td>desktop</td>\n",
              "      <td>0.0</td>\n",
              "      <td>c</td>\n",
              "      <td>207</td>\n",
              "      <td>108142</td>\n",
              "      <td>2020-12-21 17:55:34+00:00</td>\n",
              "      <td>Arthur Learth</td>\n",
              "      <td>CRUD - Com alocação dinâmica - Rep</td>\n",
              "      <td>None</td>\n",
              "      <td>ITP 2020.6 - T02 - Reposicao</td>\n",
              "      <td>b5413cd7-4f61-4241-aad8-23740bab604f</td>\n",
              "      <td>20180071294</td>\n",
              "      <td>108</td>\n",
              "      <td>2020-12-21</td>\n",
              "    </tr>\n",
              "  </tbody>\n",
              "</table>\n",
              "</div>"
            ],
            "text/plain": [
              "  environment  hitPercentage  ... timeInSecounds  dateSubmission\n",
              "0     desktop            0.0  ...             66      2020-12-21\n",
              "1     desktop            0.0  ...            108      2020-12-21\n",
              "\n",
              "[2 rows x 14 columns]"
            ]
          },
          "metadata": {
            "tags": []
          },
          "execution_count": 53
        }
      ]
    },
    {
      "cell_type": "markdown",
      "metadata": {
        "id": "lRiD7iGUDM5P"
      },
      "source": [
        "Pegando o tempo máximo gasto por um aluno em uma questão"
      ]
    },
    {
      "cell_type": "code",
      "metadata": {
        "colab": {
          "base_uri": "https://localhost:8080/",
          "height": 111
        },
        "id": "WqWw-aTe96UD",
        "outputId": "ec14b5c7-e5a3-4bba-eebf-9d6806ffccc9"
      },
      "source": [
        "df_max_time = df_submission[df_submission[\"timeInSecounds\"] > 0].groupby(['question'])['timeInSecounds'].max().reset_index(name='maxTime')\r\n",
        "df_max_time.head(2)"
      ],
      "execution_count": null,
      "outputs": [
        {
          "output_type": "execute_result",
          "data": {
            "text/html": [
              "<div>\n",
              "<style scoped>\n",
              "    .dataframe tbody tr th:only-of-type {\n",
              "        vertical-align: middle;\n",
              "    }\n",
              "\n",
              "    .dataframe tbody tr th {\n",
              "        vertical-align: top;\n",
              "    }\n",
              "\n",
              "    .dataframe thead th {\n",
              "        text-align: right;\n",
              "    }\n",
              "</style>\n",
              "<table border=\"1\" class=\"dataframe\">\n",
              "  <thead>\n",
              "    <tr style=\"text-align: right;\">\n",
              "      <th></th>\n",
              "      <th>question</th>\n",
              "      <th>maxTime</th>\n",
              "    </tr>\n",
              "  </thead>\n",
              "  <tbody>\n",
              "    <tr>\n",
              "      <th>0</th>\n",
              "      <td>Alocação de matriz</td>\n",
              "      <td>10656</td>\n",
              "    </tr>\n",
              "    <tr>\n",
              "      <th>1</th>\n",
              "      <td>Batalha naval</td>\n",
              "      <td>9970</td>\n",
              "    </tr>\n",
              "  </tbody>\n",
              "</table>\n",
              "</div>"
            ],
            "text/plain": [
              "             question  maxTime\n",
              "0  Alocação de matriz    10656\n",
              "1       Batalha naval     9970"
            ]
          },
          "metadata": {
            "tags": []
          },
          "execution_count": 54
        }
      ]
    },
    {
      "cell_type": "markdown",
      "metadata": {
        "id": "iSjbcvo3F1YD"
      },
      "source": [
        "A quantidade máxima de dias que um aluno gastou em uma questão"
      ]
    },
    {
      "cell_type": "code",
      "metadata": {
        "colab": {
          "base_uri": "https://localhost:8080/",
          "height": 111
        },
        "id": "7BK5aT_bABBb",
        "outputId": "22e0dea7-d9b6-44dd-e461-5e183fee4e68"
      },
      "source": [
        "df_max_different_days = df_user_secounds_days.groupby(['question'])['differentDays'].max().reset_index(name='maxDifferentDays')\r\n",
        "df_max_different_days.head(2)"
      ],
      "execution_count": null,
      "outputs": [
        {
          "output_type": "execute_result",
          "data": {
            "text/html": [
              "<div>\n",
              "<style scoped>\n",
              "    .dataframe tbody tr th:only-of-type {\n",
              "        vertical-align: middle;\n",
              "    }\n",
              "\n",
              "    .dataframe tbody tr th {\n",
              "        vertical-align: top;\n",
              "    }\n",
              "\n",
              "    .dataframe thead th {\n",
              "        text-align: right;\n",
              "    }\n",
              "</style>\n",
              "<table border=\"1\" class=\"dataframe\">\n",
              "  <thead>\n",
              "    <tr style=\"text-align: right;\">\n",
              "      <th></th>\n",
              "      <th>question</th>\n",
              "      <th>maxDifferentDays</th>\n",
              "    </tr>\n",
              "  </thead>\n",
              "  <tbody>\n",
              "    <tr>\n",
              "      <th>0</th>\n",
              "      <td>Alocação de matriz</td>\n",
              "      <td>2</td>\n",
              "    </tr>\n",
              "    <tr>\n",
              "      <th>1</th>\n",
              "      <td>Batalha naval - 1 tiro</td>\n",
              "      <td>2</td>\n",
              "    </tr>\n",
              "  </tbody>\n",
              "</table>\n",
              "</div>"
            ],
            "text/plain": [
              "                 question  maxDifferentDays\n",
              "0      Alocação de matriz                 2\n",
              "1  Batalha naval - 1 tiro                 2"
            ]
          },
          "metadata": {
            "tags": []
          },
          "execution_count": 55
        }
      ]
    },
    {
      "cell_type": "code",
      "metadata": {
        "id": "xW8s6wYDF8WJ"
      },
      "source": [
        "df_max_different_days_time = pd.merge(df_max_time, df_max_different_days, on='question')"
      ],
      "execution_count": null,
      "outputs": []
    },
    {
      "cell_type": "code",
      "metadata": {
        "colab": {
          "base_uri": "https://localhost:8080/",
          "height": 111
        },
        "id": "d6CB9kETGH_i",
        "outputId": "aded1c29-624d-49b1-d24e-0a5c259ed2e3"
      },
      "source": [
        "df_max_different_days_time.head(2)"
      ],
      "execution_count": null,
      "outputs": [
        {
          "output_type": "execute_result",
          "data": {
            "text/html": [
              "<div>\n",
              "<style scoped>\n",
              "    .dataframe tbody tr th:only-of-type {\n",
              "        vertical-align: middle;\n",
              "    }\n",
              "\n",
              "    .dataframe tbody tr th {\n",
              "        vertical-align: top;\n",
              "    }\n",
              "\n",
              "    .dataframe thead th {\n",
              "        text-align: right;\n",
              "    }\n",
              "</style>\n",
              "<table border=\"1\" class=\"dataframe\">\n",
              "  <thead>\n",
              "    <tr style=\"text-align: right;\">\n",
              "      <th></th>\n",
              "      <th>question</th>\n",
              "      <th>maxTime</th>\n",
              "      <th>maxDifferentDays</th>\n",
              "    </tr>\n",
              "  </thead>\n",
              "  <tbody>\n",
              "    <tr>\n",
              "      <th>0</th>\n",
              "      <td>Alocação de matriz</td>\n",
              "      <td>10656</td>\n",
              "      <td>2</td>\n",
              "    </tr>\n",
              "    <tr>\n",
              "      <th>1</th>\n",
              "      <td>Batalha naval - 1 tiro</td>\n",
              "      <td>4970</td>\n",
              "      <td>2</td>\n",
              "    </tr>\n",
              "  </tbody>\n",
              "</table>\n",
              "</div>"
            ],
            "text/plain": [
              "                 question  maxTime  maxDifferentDays\n",
              "0      Alocação de matriz    10656                 2\n",
              "1  Batalha naval - 1 tiro     4970                 2"
            ]
          },
          "metadata": {
            "tags": []
          },
          "execution_count": 57
        }
      ]
    },
    {
      "cell_type": "code",
      "metadata": {
        "id": "XkKgmNmpS1B_"
      },
      "source": [
        "#df_max_different_days_time.to_json('df_max_different_days_time.json',force_ascii=False, orient='records') "
      ],
      "execution_count": null,
      "outputs": []
    },
    {
      "cell_type": "markdown",
      "metadata": {
        "id": "BjOPEZ1NGYZ4"
      },
      "source": [
        "Gráfico que em uma turma, verifica o tempo máximo gasto em uma questão e a quantidade máxima de dias diferentes nela"
      ]
    },
    {
      "cell_type": "code",
      "metadata": {
        "colab": {
          "base_uri": "https://localhost:8080/",
          "height": 542
        },
        "id": "n0ehNWEGGMQZ",
        "outputId": "90106abd-92cd-4e85-c2a9-ce81ef3479ff"
      },
      "source": [
        "px.scatter(data_frame=df_max_different_days_time, y = 'maxTime', x = 'maxDifferentDays', color='question') "
      ],
      "execution_count": null,
      "outputs": [
        {
          "output_type": "display_data",
          "data": {
            "text/html": [
              "<html>\n",
              "<head><meta charset=\"utf-8\" /></head>\n",
              "<body>\n",
              "    <div>\n",
              "            <script src=\"https://cdnjs.cloudflare.com/ajax/libs/mathjax/2.7.5/MathJax.js?config=TeX-AMS-MML_SVG\"></script><script type=\"text/javascript\">if (window.MathJax) {MathJax.Hub.Config({SVG: {font: \"STIX-Web\"}});}</script>\n",
              "                <script type=\"text/javascript\">window.PlotlyConfig = {MathJaxConfig: 'local'};</script>\n",
              "        <script src=\"https://cdn.plot.ly/plotly-latest.min.js\"></script>    \n",
              "            <div id=\"6b959acc-46f2-4b32-93fd-1e28271490af\" class=\"plotly-graph-div\" style=\"height:525px; width:100%;\"></div>\n",
              "            <script type=\"text/javascript\">\n",
              "                \n",
              "                    window.PLOTLYENV=window.PLOTLYENV || {};\n",
              "                    \n",
              "                if (document.getElementById(\"6b959acc-46f2-4b32-93fd-1e28271490af\")) {\n",
              "                    Plotly.newPlot(\n",
              "                        '6b959acc-46f2-4b32-93fd-1e28271490af',\n",
              "                        [{\"hoverlabel\": {\"namelength\": 0}, \"hovertemplate\": \"question=Aloca\\u00e7\\u00e3o de matriz<br>maxDifferentDays=%{x}<br>maxTime=%{y}\", \"legendgroup\": \"question=Aloca\\u00e7\\u00e3o de matriz\", \"marker\": {\"color\": \"#636efa\", \"symbol\": \"circle\"}, \"mode\": \"markers\", \"name\": \"question=Aloca\\u00e7\\u00e3o de matriz\", \"showlegend\": true, \"type\": \"scatter\", \"x\": [2], \"xaxis\": \"x\", \"y\": [10656], \"yaxis\": \"y\"}, {\"hoverlabel\": {\"namelength\": 0}, \"hovertemplate\": \"question=Batalha naval - 1 tiro<br>maxDifferentDays=%{x}<br>maxTime=%{y}\", \"legendgroup\": \"question=Batalha naval - 1 tiro\", \"marker\": {\"color\": \"#EF553B\", \"symbol\": \"circle\"}, \"mode\": \"markers\", \"name\": \"question=Batalha naval - 1 tiro\", \"showlegend\": true, \"type\": \"scatter\", \"x\": [2], \"xaxis\": \"x\", \"y\": [4970], \"yaxis\": \"y\"}, {\"hoverlabel\": {\"namelength\": 0}, \"hovertemplate\": \"question=Bingo (ponteiros)<br>maxDifferentDays=%{x}<br>maxTime=%{y}\", \"legendgroup\": \"question=Bingo (ponteiros)\", \"marker\": {\"color\": \"#00cc96\", \"symbol\": \"circle\"}, \"mode\": \"markers\", \"name\": \"question=Bingo (ponteiros)\", \"showlegend\": true, \"type\": \"scatter\", \"x\": [2], \"xaxis\": \"x\", \"y\": [7004], \"yaxis\": \"y\"}, {\"hoverlabel\": {\"namelength\": 0}, \"hovertemplate\": \"question=Bubble sort recursivo<br>maxDifferentDays=%{x}<br>maxTime=%{y}\", \"legendgroup\": \"question=Bubble sort recursivo\", \"marker\": {\"color\": \"#ab63fa\", \"symbol\": \"circle\"}, \"mode\": \"markers\", \"name\": \"question=Bubble sort recursivo\", \"showlegend\": true, \"type\": \"scatter\", \"x\": [1], \"xaxis\": \"x\", \"y\": [2892], \"yaxis\": \"y\"}, {\"hoverlabel\": {\"namelength\": 0}, \"hovertemplate\": \"question=Compara\\u00e7\\u00e3o com switch<br>maxDifferentDays=%{x}<br>maxTime=%{y}\", \"legendgroup\": \"question=Compara\\u00e7\\u00e3o com switch\", \"marker\": {\"color\": \"#FFA15A\", \"symbol\": \"circle\"}, \"mode\": \"markers\", \"name\": \"question=Compara\\u00e7\\u00e3o com switch\", \"showlegend\": true, \"type\": \"scatter\", \"x\": [2], \"xaxis\": \"x\", \"y\": [5121], \"yaxis\": \"y\"}, {\"hoverlabel\": {\"namelength\": 0}, \"hovertemplate\": \"question=Conjunto de inteiros<br>maxDifferentDays=%{x}<br>maxTime=%{y}\", \"legendgroup\": \"question=Conjunto de inteiros\", \"marker\": {\"color\": \"#19d3f3\", \"symbol\": \"circle\"}, \"mode\": \"markers\", \"name\": \"question=Conjunto de inteiros\", \"showlegend\": true, \"type\": \"scatter\", \"x\": [3], \"xaxis\": \"x\", \"y\": [22428], \"yaxis\": \"y\"}, {\"hoverlabel\": {\"namelength\": 0}, \"hovertemplate\": \"question=Contador de mai\\u00fasculas e min\\u00fasculas<br>maxDifferentDays=%{x}<br>maxTime=%{y}\", \"legendgroup\": \"question=Contador de mai\\u00fasculas e min\\u00fasculas\", \"marker\": {\"color\": \"#FF6692\", \"symbol\": \"circle\"}, \"mode\": \"markers\", \"name\": \"question=Contador de mai\\u00fasculas e min\\u00fasculas\", \"showlegend\": true, \"type\": \"scatter\", \"x\": [1], \"xaxis\": \"x\", \"y\": [11582], \"yaxis\": \"y\"}, {\"hoverlabel\": {\"namelength\": 0}, \"hovertemplate\": \"question=Contar quantos s\\u00e3o maiores de 18 anos<br>maxDifferentDays=%{x}<br>maxTime=%{y}\", \"legendgroup\": \"question=Contar quantos s\\u00e3o maiores de 18 anos\", \"marker\": {\"color\": \"#B6E880\", \"symbol\": \"circle\"}, \"mode\": \"markers\", \"name\": \"question=Contar quantos s\\u00e3o maiores de 18 anos\", \"showlegend\": true, \"type\": \"scatter\", \"x\": [1], \"xaxis\": \"x\", \"y\": [16365], \"yaxis\": \"y\"}, {\"hoverlabel\": {\"namelength\": 0}, \"hovertemplate\": \"question=Convers\\u00e3o de CASE<br>maxDifferentDays=%{x}<br>maxTime=%{y}\", \"legendgroup\": \"question=Convers\\u00e3o de CASE\", \"marker\": {\"color\": \"#FF97FF\", \"symbol\": \"circle\"}, \"mode\": \"markers\", \"name\": \"question=Convers\\u00e3o de CASE\", \"showlegend\": true, \"type\": \"scatter\", \"x\": [1], \"xaxis\": \"x\", \"y\": [4809], \"yaxis\": \"y\"}, {\"hoverlabel\": {\"namelength\": 0}, \"hovertemplate\": \"question=Desenho vetorial<br>maxDifferentDays=%{x}<br>maxTime=%{y}\", \"legendgroup\": \"question=Desenho vetorial\", \"marker\": {\"color\": \"#FECB52\", \"symbol\": \"circle\"}, \"mode\": \"markers\", \"name\": \"question=Desenho vetorial\", \"showlegend\": true, \"type\": \"scatter\", \"x\": [2], \"xaxis\": \"x\", \"y\": [40797], \"yaxis\": \"y\"}, {\"hoverlabel\": {\"namelength\": 0}, \"hovertemplate\": \"question=D\\u00edgito na posi\\u00e7\\u00e3o (com fun\\u00e7\\u00e3o)<br>maxDifferentDays=%{x}<br>maxTime=%{y}\", \"legendgroup\": \"question=D\\u00edgito na posi\\u00e7\\u00e3o (com fun\\u00e7\\u00e3o)\", \"marker\": {\"color\": \"#636efa\", \"symbol\": \"circle\"}, \"mode\": \"markers\", \"name\": \"question=D\\u00edgito na posi\\u00e7\\u00e3o (com fun\\u00e7\\u00e3o)\", \"showlegend\": true, \"type\": \"scatter\", \"x\": [1], \"xaxis\": \"x\", \"y\": [25482], \"yaxis\": \"y\"}, {\"hoverlabel\": {\"namelength\": 0}, \"hovertemplate\": \"question=Exponencial do N\\u00famero Neperiano - Recursivo<br>maxDifferentDays=%{x}<br>maxTime=%{y}\", \"legendgroup\": \"question=Exponencial do N\\u00famero Neperiano - Recursivo\", \"marker\": {\"color\": \"#EF553B\", \"symbol\": \"circle\"}, \"mode\": \"markers\", \"name\": \"question=Exponencial do N\\u00famero Neperiano - Recursivo\", \"showlegend\": true, \"type\": \"scatter\", \"x\": [1], \"xaxis\": \"x\", \"y\": [22681], \"yaxis\": \"y\"}, {\"hoverlabel\": {\"namelength\": 0}, \"hovertemplate\": \"question=Fluxograma<br>maxDifferentDays=%{x}<br>maxTime=%{y}\", \"legendgroup\": \"question=Fluxograma\", \"marker\": {\"color\": \"#00cc96\", \"symbol\": \"circle\"}, \"mode\": \"markers\", \"name\": \"question=Fluxograma\", \"showlegend\": true, \"type\": \"scatter\", \"x\": [2], \"xaxis\": \"x\", \"y\": [2366], \"yaxis\": \"y\"}, {\"hoverlabel\": {\"namelength\": 0}, \"hovertemplate\": \"question=Fun\\u00e7\\u00f5es - M\\u00e9dias UFRN<br>maxDifferentDays=%{x}<br>maxTime=%{y}\", \"legendgroup\": \"question=Fun\\u00e7\\u00f5es - M\\u00e9dias UFRN\", \"marker\": {\"color\": \"#ab63fa\", \"symbol\": \"circle\"}, \"mode\": \"markers\", \"name\": \"question=Fun\\u00e7\\u00f5es - M\\u00e9dias UFRN\", \"showlegend\": true, \"type\": \"scatter\", \"x\": [1], \"xaxis\": \"x\", \"y\": [29435], \"yaxis\": \"y\"}, {\"hoverlabel\": {\"namelength\": 0}, \"hovertemplate\": \"question=Fun\\u00e7\\u00f5es - n\\u00famero primo<br>maxDifferentDays=%{x}<br>maxTime=%{y}\", \"legendgroup\": \"question=Fun\\u00e7\\u00f5es - n\\u00famero primo\", \"marker\": {\"color\": \"#FFA15A\", \"symbol\": \"circle\"}, \"mode\": \"markers\", \"name\": \"question=Fun\\u00e7\\u00f5es - n\\u00famero primo\", \"showlegend\": true, \"type\": \"scatter\", \"x\": [1], \"xaxis\": \"x\", \"y\": [1205], \"yaxis\": \"y\"}, {\"hoverlabel\": {\"namelength\": 0}, \"hovertemplate\": \"question=Fun\\u00e7\\u00f5es - ordena\\u00e7\\u00e3o vetor<br>maxDifferentDays=%{x}<br>maxTime=%{y}\", \"legendgroup\": \"question=Fun\\u00e7\\u00f5es - ordena\\u00e7\\u00e3o vetor\", \"marker\": {\"color\": \"#19d3f3\", \"symbol\": \"circle\"}, \"mode\": \"markers\", \"name\": \"question=Fun\\u00e7\\u00f5es - ordena\\u00e7\\u00e3o vetor\", \"showlegend\": true, \"type\": \"scatter\", \"x\": [1], \"xaxis\": \"x\", \"y\": [8870], \"yaxis\": \"y\"}, {\"hoverlabel\": {\"namelength\": 0}, \"hovertemplate\": \"question=Gomoku horizontal e vertical<br>maxDifferentDays=%{x}<br>maxTime=%{y}\", \"legendgroup\": \"question=Gomoku horizontal e vertical\", \"marker\": {\"color\": \"#FF6692\", \"symbol\": \"circle\"}, \"mode\": \"markers\", \"name\": \"question=Gomoku horizontal e vertical\", \"showlegend\": true, \"type\": \"scatter\", \"x\": [2], \"xaxis\": \"x\", \"y\": [20815], \"yaxis\": \"y\"}, {\"hoverlabel\": {\"namelength\": 0}, \"hovertemplate\": \"question=Inserir string em uma posi\\u00e7\\u00e3o<br>maxDifferentDays=%{x}<br>maxTime=%{y}\", \"legendgroup\": \"question=Inserir string em uma posi\\u00e7\\u00e3o\", \"marker\": {\"color\": \"#B6E880\", \"symbol\": \"circle\"}, \"mode\": \"markers\", \"name\": \"question=Inserir string em uma posi\\u00e7\\u00e3o\", \"showlegend\": true, \"type\": \"scatter\", \"x\": [1], \"xaxis\": \"x\", \"y\": [26235], \"yaxis\": \"y\"}, {\"hoverlabel\": {\"namelength\": 0}, \"hovertemplate\": \"question=Inversor de n\\u00fameros (ponteiros)<br>maxDifferentDays=%{x}<br>maxTime=%{y}\", \"legendgroup\": \"question=Inversor de n\\u00fameros (ponteiros)\", \"marker\": {\"color\": \"#FF97FF\", \"symbol\": \"circle\"}, \"mode\": \"markers\", \"name\": \"question=Inversor de n\\u00fameros (ponteiros)\", \"showlegend\": true, \"type\": \"scatter\", \"x\": [1], \"xaxis\": \"x\", \"y\": [4307], \"yaxis\": \"y\"}, {\"hoverlabel\": {\"namelength\": 0}, \"hovertemplate\": \"question=Loop com recurs\\u00e3o<br>maxDifferentDays=%{x}<br>maxTime=%{y}\", \"legendgroup\": \"question=Loop com recurs\\u00e3o\", \"marker\": {\"color\": \"#FECB52\", \"symbol\": \"circle\"}, \"mode\": \"markers\", \"name\": \"question=Loop com recurs\\u00e3o\", \"showlegend\": true, \"type\": \"scatter\", \"x\": [2], \"xaxis\": \"x\", \"y\": [3176], \"yaxis\": \"y\"}, {\"hoverlabel\": {\"namelength\": 0}, \"hovertemplate\": \"question=Matriz identidade<br>maxDifferentDays=%{x}<br>maxTime=%{y}\", \"legendgroup\": \"question=Matriz identidade\", \"marker\": {\"color\": \"#636efa\", \"symbol\": \"circle\"}, \"mode\": \"markers\", \"name\": \"question=Matriz identidade\", \"showlegend\": true, \"type\": \"scatter\", \"x\": [1], \"xaxis\": \"x\", \"y\": [2672], \"yaxis\": \"y\"}, {\"hoverlabel\": {\"namelength\": 0}, \"hovertemplate\": \"question=M\\u00e1ximo e m\\u00ednimo de matriz quadrada (ponteiros)<br>maxDifferentDays=%{x}<br>maxTime=%{y}\", \"legendgroup\": \"question=M\\u00e1ximo e m\\u00ednimo de matriz quadrada (ponteiros)\", \"marker\": {\"color\": \"#EF553B\", \"symbol\": \"circle\"}, \"mode\": \"markers\", \"name\": \"question=M\\u00e1ximo e m\\u00ednimo de matriz quadrada (ponteiros)\", \"showlegend\": true, \"type\": \"scatter\", \"x\": [1], \"xaxis\": \"x\", \"y\": [1416], \"yaxis\": \"y\"}, {\"hoverlabel\": {\"namelength\": 0}, \"hovertemplate\": \"question=M\\u00e9dia de 3 notas<br>maxDifferentDays=%{x}<br>maxTime=%{y}\", \"legendgroup\": \"question=M\\u00e9dia de 3 notas\", \"marker\": {\"color\": \"#00cc96\", \"symbol\": \"circle\"}, \"mode\": \"markers\", \"name\": \"question=M\\u00e9dia de 3 notas\", \"showlegend\": true, \"type\": \"scatter\", \"x\": [2], \"xaxis\": \"x\", \"y\": [29084], \"yaxis\": \"y\"}, {\"hoverlabel\": {\"namelength\": 0}, \"hovertemplate\": \"question=Numeros Fracion\\u00e1rios<br>maxDifferentDays=%{x}<br>maxTime=%{y}\", \"legendgroup\": \"question=Numeros Fracion\\u00e1rios\", \"marker\": {\"color\": \"#ab63fa\", \"symbol\": \"circle\"}, \"mode\": \"markers\", \"name\": \"question=Numeros Fracion\\u00e1rios\", \"showlegend\": true, \"type\": \"scatter\", \"x\": [2], \"xaxis\": \"x\", \"y\": [3602], \"yaxis\": \"y\"}, {\"hoverlabel\": {\"namelength\": 0}, \"hovertemplate\": \"question=N\\u00fameros de Fibonacci em um intervalo<br>maxDifferentDays=%{x}<br>maxTime=%{y}\", \"legendgroup\": \"question=N\\u00fameros de Fibonacci em um intervalo\", \"marker\": {\"color\": \"#FFA15A\", \"symbol\": \"circle\"}, \"mode\": \"markers\", \"name\": \"question=N\\u00fameros de Fibonacci em um intervalo\", \"showlegend\": true, \"type\": \"scatter\", \"x\": [2], \"xaxis\": \"x\", \"y\": [10403], \"yaxis\": \"y\"}, {\"hoverlabel\": {\"namelength\": 0}, \"hovertemplate\": \"question=Opera\\u00e7\\u00f5es Enumeradas<br>maxDifferentDays=%{x}<br>maxTime=%{y}\", \"legendgroup\": \"question=Opera\\u00e7\\u00f5es Enumeradas\", \"marker\": {\"color\": \"#19d3f3\", \"symbol\": \"circle\"}, \"mode\": \"markers\", \"name\": \"question=Opera\\u00e7\\u00f5es Enumeradas\", \"showlegend\": true, \"type\": \"scatter\", \"x\": [1], \"xaxis\": \"x\", \"y\": [3121], \"yaxis\": \"y\"}, {\"hoverlabel\": {\"namelength\": 0}, \"hovertemplate\": \"question=Pal\\u00edndromo<br>maxDifferentDays=%{x}<br>maxTime=%{y}\", \"legendgroup\": \"question=Pal\\u00edndromo\", \"marker\": {\"color\": \"#FF6692\", \"symbol\": \"circle\"}, \"mode\": \"markers\", \"name\": \"question=Pal\\u00edndromo\", \"showlegend\": true, \"type\": \"scatter\", \"x\": [2], \"xaxis\": \"x\", \"y\": [13181], \"yaxis\": \"y\"}, {\"hoverlabel\": {\"namelength\": 0}, \"hovertemplate\": \"question=Pares, \\u00edmpares, positivos e negativos<br>maxDifferentDays=%{x}<br>maxTime=%{y}\", \"legendgroup\": \"question=Pares, \\u00edmpares, positivos e negativos\", \"marker\": {\"color\": \"#B6E880\", \"symbol\": \"circle\"}, \"mode\": \"markers\", \"name\": \"question=Pares, \\u00edmpares, positivos e negativos\", \"showlegend\": true, \"type\": \"scatter\", \"x\": [3], \"xaxis\": \"x\", \"y\": [12291], \"yaxis\": \"y\"}, {\"hoverlabel\": {\"namelength\": 0}, \"hovertemplate\": \"question=Rota\\u00e7\\u00e3o de bits<br>maxDifferentDays=%{x}<br>maxTime=%{y}\", \"legendgroup\": \"question=Rota\\u00e7\\u00e3o de bits\", \"marker\": {\"color\": \"#FF97FF\", \"symbol\": \"circle\"}, \"mode\": \"markers\", \"name\": \"question=Rota\\u00e7\\u00e3o de bits\", \"showlegend\": true, \"type\": \"scatter\", \"x\": [2], \"xaxis\": \"x\", \"y\": [6039], \"yaxis\": \"y\"}, {\"hoverlabel\": {\"namelength\": 0}, \"hovertemplate\": \"question=Soma de dois n\\u00fameros pares<br>maxDifferentDays=%{x}<br>maxTime=%{y}\", \"legendgroup\": \"question=Soma de dois n\\u00fameros pares\", \"marker\": {\"color\": \"#FECB52\", \"symbol\": \"circle\"}, \"mode\": \"markers\", \"name\": \"question=Soma de dois n\\u00fameros pares\", \"showlegend\": true, \"type\": \"scatter\", \"x\": [2], \"xaxis\": \"x\", \"y\": [30927], \"yaxis\": \"y\"}, {\"hoverlabel\": {\"namelength\": 0}, \"hovertemplate\": \"question=Soma de dois vetores<br>maxDifferentDays=%{x}<br>maxTime=%{y}\", \"legendgroup\": \"question=Soma de dois vetores\", \"marker\": {\"color\": \"#636efa\", \"symbol\": \"circle\"}, \"mode\": \"markers\", \"name\": \"question=Soma de dois vetores\", \"showlegend\": true, \"type\": \"scatter\", \"x\": [2], \"xaxis\": \"x\", \"y\": [4899], \"yaxis\": \"y\"}, {\"hoverlabel\": {\"namelength\": 0}, \"hovertemplate\": \"question=Soma de dois vetores (ponteiros)<br>maxDifferentDays=%{x}<br>maxTime=%{y}\", \"legendgroup\": \"question=Soma de dois vetores (ponteiros)\", \"marker\": {\"color\": \"#EF553B\", \"symbol\": \"circle\"}, \"mode\": \"markers\", \"name\": \"question=Soma de dois vetores (ponteiros)\", \"showlegend\": true, \"type\": \"scatter\", \"x\": [2], \"xaxis\": \"x\", \"y\": [1270], \"yaxis\": \"y\"}, {\"hoverlabel\": {\"namelength\": 0}, \"hovertemplate\": \"question=Soma de matrizes<br>maxDifferentDays=%{x}<br>maxTime=%{y}\", \"legendgroup\": \"question=Soma de matrizes\", \"marker\": {\"color\": \"#00cc96\", \"symbol\": \"circle\"}, \"mode\": \"markers\", \"name\": \"question=Soma de matrizes\", \"showlegend\": true, \"type\": \"scatter\", \"x\": [1], \"xaxis\": \"x\", \"y\": [585], \"yaxis\": \"y\"}, {\"hoverlabel\": {\"namelength\": 0}, \"hovertemplate\": \"question=Soma de valores \\u00edmpares<br>maxDifferentDays=%{x}<br>maxTime=%{y}\", \"legendgroup\": \"question=Soma de valores \\u00edmpares\", \"marker\": {\"color\": \"#ab63fa\", \"symbol\": \"circle\"}, \"mode\": \"markers\", \"name\": \"question=Soma de valores \\u00edmpares\", \"showlegend\": true, \"type\": \"scatter\", \"x\": [2], \"xaxis\": \"x\", \"y\": [4968], \"yaxis\": \"y\"}, {\"hoverlabel\": {\"namelength\": 0}, \"hovertemplate\": \"question=Soma dos d\\u00edgitos<br>maxDifferentDays=%{x}<br>maxTime=%{y}\", \"legendgroup\": \"question=Soma dos d\\u00edgitos\", \"marker\": {\"color\": \"#FFA15A\", \"symbol\": \"circle\"}, \"mode\": \"markers\", \"name\": \"question=Soma dos d\\u00edgitos\", \"showlegend\": true, \"type\": \"scatter\", \"x\": [3], \"xaxis\": \"x\", \"y\": [8307], \"yaxis\": \"y\"}, {\"hoverlabel\": {\"namelength\": 0}, \"hovertemplate\": \"question=Substring<br>maxDifferentDays=%{x}<br>maxTime=%{y}\", \"legendgroup\": \"question=Substring\", \"marker\": {\"color\": \"#19d3f3\", \"symbol\": \"circle\"}, \"mode\": \"markers\", \"name\": \"question=Substring\", \"showlegend\": true, \"type\": \"scatter\", \"x\": [2], \"xaxis\": \"x\", \"y\": [5817], \"yaxis\": \"y\"}, {\"hoverlabel\": {\"namelength\": 0}, \"hovertemplate\": \"question=Uni\\u00e3o e ordena\\u00e7\\u00e3o de vetores<br>maxDifferentDays=%{x}<br>maxTime=%{y}\", \"legendgroup\": \"question=Uni\\u00e3o e ordena\\u00e7\\u00e3o de vetores\", \"marker\": {\"color\": \"#FF6692\", \"symbol\": \"circle\"}, \"mode\": \"markers\", \"name\": \"question=Uni\\u00e3o e ordena\\u00e7\\u00e3o de vetores\", \"showlegend\": true, \"type\": \"scatter\", \"x\": [3], \"xaxis\": \"x\", \"y\": [8744], \"yaxis\": \"y\"}],\n",
              "                        {\"legend\": {\"tracegroupgap\": 0}, \"margin\": {\"t\": 60}, \"template\": {\"data\": {\"bar\": [{\"error_x\": {\"color\": \"#2a3f5f\"}, \"error_y\": {\"color\": \"#2a3f5f\"}, \"marker\": {\"line\": {\"color\": \"#E5ECF6\", \"width\": 0.5}}, \"type\": \"bar\"}], \"barpolar\": [{\"marker\": {\"line\": {\"color\": \"#E5ECF6\", \"width\": 0.5}}, \"type\": \"barpolar\"}], \"carpet\": [{\"aaxis\": {\"endlinecolor\": \"#2a3f5f\", \"gridcolor\": \"white\", \"linecolor\": \"white\", \"minorgridcolor\": \"white\", \"startlinecolor\": \"#2a3f5f\"}, \"baxis\": {\"endlinecolor\": \"#2a3f5f\", \"gridcolor\": \"white\", \"linecolor\": \"white\", \"minorgridcolor\": \"white\", \"startlinecolor\": \"#2a3f5f\"}, \"type\": \"carpet\"}], \"choropleth\": [{\"colorbar\": {\"outlinewidth\": 0, \"ticks\": \"\"}, \"type\": \"choropleth\"}], \"contour\": [{\"colorbar\": {\"outlinewidth\": 0, \"ticks\": \"\"}, \"colorscale\": [[0.0, \"#0d0887\"], [0.1111111111111111, \"#46039f\"], [0.2222222222222222, \"#7201a8\"], [0.3333333333333333, \"#9c179e\"], [0.4444444444444444, \"#bd3786\"], [0.5555555555555556, \"#d8576b\"], [0.6666666666666666, \"#ed7953\"], [0.7777777777777778, \"#fb9f3a\"], [0.8888888888888888, \"#fdca26\"], [1.0, \"#f0f921\"]], \"type\": \"contour\"}], \"contourcarpet\": [{\"colorbar\": {\"outlinewidth\": 0, \"ticks\": \"\"}, \"type\": \"contourcarpet\"}], \"heatmap\": [{\"colorbar\": {\"outlinewidth\": 0, \"ticks\": \"\"}, \"colorscale\": [[0.0, \"#0d0887\"], [0.1111111111111111, \"#46039f\"], [0.2222222222222222, \"#7201a8\"], [0.3333333333333333, \"#9c179e\"], [0.4444444444444444, \"#bd3786\"], [0.5555555555555556, \"#d8576b\"], [0.6666666666666666, \"#ed7953\"], [0.7777777777777778, \"#fb9f3a\"], [0.8888888888888888, \"#fdca26\"], [1.0, \"#f0f921\"]], \"type\": \"heatmap\"}], \"heatmapgl\": [{\"colorbar\": {\"outlinewidth\": 0, \"ticks\": \"\"}, \"colorscale\": [[0.0, \"#0d0887\"], [0.1111111111111111, \"#46039f\"], [0.2222222222222222, \"#7201a8\"], [0.3333333333333333, \"#9c179e\"], [0.4444444444444444, \"#bd3786\"], [0.5555555555555556, \"#d8576b\"], [0.6666666666666666, \"#ed7953\"], [0.7777777777777778, \"#fb9f3a\"], [0.8888888888888888, \"#fdca26\"], [1.0, \"#f0f921\"]], \"type\": \"heatmapgl\"}], \"histogram\": [{\"marker\": {\"colorbar\": {\"outlinewidth\": 0, \"ticks\": \"\"}}, \"type\": \"histogram\"}], \"histogram2d\": [{\"colorbar\": {\"outlinewidth\": 0, \"ticks\": \"\"}, \"colorscale\": [[0.0, \"#0d0887\"], [0.1111111111111111, \"#46039f\"], [0.2222222222222222, \"#7201a8\"], [0.3333333333333333, \"#9c179e\"], [0.4444444444444444, \"#bd3786\"], [0.5555555555555556, \"#d8576b\"], [0.6666666666666666, \"#ed7953\"], [0.7777777777777778, \"#fb9f3a\"], [0.8888888888888888, \"#fdca26\"], [1.0, \"#f0f921\"]], \"type\": \"histogram2d\"}], \"histogram2dcontour\": [{\"colorbar\": {\"outlinewidth\": 0, \"ticks\": \"\"}, \"colorscale\": [[0.0, \"#0d0887\"], [0.1111111111111111, \"#46039f\"], [0.2222222222222222, \"#7201a8\"], [0.3333333333333333, \"#9c179e\"], [0.4444444444444444, \"#bd3786\"], [0.5555555555555556, \"#d8576b\"], [0.6666666666666666, \"#ed7953\"], [0.7777777777777778, \"#fb9f3a\"], [0.8888888888888888, \"#fdca26\"], [1.0, \"#f0f921\"]], \"type\": \"histogram2dcontour\"}], \"mesh3d\": [{\"colorbar\": {\"outlinewidth\": 0, \"ticks\": \"\"}, \"type\": \"mesh3d\"}], \"parcoords\": [{\"line\": {\"colorbar\": {\"outlinewidth\": 0, \"ticks\": \"\"}}, \"type\": \"parcoords\"}], \"pie\": [{\"automargin\": true, \"type\": \"pie\"}], \"scatter\": [{\"marker\": {\"colorbar\": {\"outlinewidth\": 0, \"ticks\": \"\"}}, \"type\": \"scatter\"}], \"scatter3d\": [{\"line\": {\"colorbar\": {\"outlinewidth\": 0, \"ticks\": \"\"}}, \"marker\": {\"colorbar\": {\"outlinewidth\": 0, \"ticks\": \"\"}}, \"type\": \"scatter3d\"}], \"scattercarpet\": [{\"marker\": {\"colorbar\": {\"outlinewidth\": 0, \"ticks\": \"\"}}, \"type\": \"scattercarpet\"}], \"scattergeo\": [{\"marker\": {\"colorbar\": {\"outlinewidth\": 0, \"ticks\": \"\"}}, \"type\": \"scattergeo\"}], \"scattergl\": [{\"marker\": {\"colorbar\": {\"outlinewidth\": 0, \"ticks\": \"\"}}, \"type\": \"scattergl\"}], \"scattermapbox\": [{\"marker\": {\"colorbar\": {\"outlinewidth\": 0, \"ticks\": \"\"}}, \"type\": \"scattermapbox\"}], \"scatterpolar\": [{\"marker\": {\"colorbar\": {\"outlinewidth\": 0, \"ticks\": \"\"}}, \"type\": \"scatterpolar\"}], \"scatterpolargl\": [{\"marker\": {\"colorbar\": {\"outlinewidth\": 0, \"ticks\": \"\"}}, \"type\": \"scatterpolargl\"}], \"scatterternary\": [{\"marker\": {\"colorbar\": {\"outlinewidth\": 0, \"ticks\": \"\"}}, \"type\": \"scatterternary\"}], \"surface\": [{\"colorbar\": {\"outlinewidth\": 0, \"ticks\": \"\"}, \"colorscale\": [[0.0, \"#0d0887\"], [0.1111111111111111, \"#46039f\"], [0.2222222222222222, \"#7201a8\"], [0.3333333333333333, \"#9c179e\"], [0.4444444444444444, \"#bd3786\"], [0.5555555555555556, \"#d8576b\"], [0.6666666666666666, \"#ed7953\"], [0.7777777777777778, \"#fb9f3a\"], [0.8888888888888888, \"#fdca26\"], [1.0, \"#f0f921\"]], \"type\": \"surface\"}], \"table\": [{\"cells\": {\"fill\": {\"color\": \"#EBF0F8\"}, \"line\": {\"color\": \"white\"}}, \"header\": {\"fill\": {\"color\": \"#C8D4E3\"}, \"line\": {\"color\": \"white\"}}, \"type\": \"table\"}]}, \"layout\": {\"annotationdefaults\": {\"arrowcolor\": \"#2a3f5f\", \"arrowhead\": 0, \"arrowwidth\": 1}, \"coloraxis\": {\"colorbar\": {\"outlinewidth\": 0, \"ticks\": \"\"}}, \"colorscale\": {\"diverging\": [[0, \"#8e0152\"], [0.1, \"#c51b7d\"], [0.2, \"#de77ae\"], [0.3, \"#f1b6da\"], [0.4, \"#fde0ef\"], [0.5, \"#f7f7f7\"], [0.6, \"#e6f5d0\"], [0.7, \"#b8e186\"], [0.8, \"#7fbc41\"], [0.9, \"#4d9221\"], [1, \"#276419\"]], \"sequential\": [[0.0, \"#0d0887\"], [0.1111111111111111, \"#46039f\"], [0.2222222222222222, \"#7201a8\"], [0.3333333333333333, \"#9c179e\"], [0.4444444444444444, \"#bd3786\"], [0.5555555555555556, \"#d8576b\"], [0.6666666666666666, \"#ed7953\"], [0.7777777777777778, \"#fb9f3a\"], [0.8888888888888888, \"#fdca26\"], [1.0, \"#f0f921\"]], \"sequentialminus\": [[0.0, \"#0d0887\"], [0.1111111111111111, \"#46039f\"], [0.2222222222222222, \"#7201a8\"], [0.3333333333333333, \"#9c179e\"], [0.4444444444444444, \"#bd3786\"], [0.5555555555555556, \"#d8576b\"], [0.6666666666666666, \"#ed7953\"], [0.7777777777777778, \"#fb9f3a\"], [0.8888888888888888, \"#fdca26\"], [1.0, \"#f0f921\"]]}, \"colorway\": [\"#636efa\", \"#EF553B\", \"#00cc96\", \"#ab63fa\", \"#FFA15A\", \"#19d3f3\", \"#FF6692\", \"#B6E880\", \"#FF97FF\", \"#FECB52\"], \"font\": {\"color\": \"#2a3f5f\"}, \"geo\": {\"bgcolor\": \"white\", \"lakecolor\": \"white\", \"landcolor\": \"#E5ECF6\", \"showlakes\": true, \"showland\": true, \"subunitcolor\": \"white\"}, \"hoverlabel\": {\"align\": \"left\"}, \"hovermode\": \"closest\", \"mapbox\": {\"style\": \"light\"}, \"paper_bgcolor\": \"white\", \"plot_bgcolor\": \"#E5ECF6\", \"polar\": {\"angularaxis\": {\"gridcolor\": \"white\", \"linecolor\": \"white\", \"ticks\": \"\"}, \"bgcolor\": \"#E5ECF6\", \"radialaxis\": {\"gridcolor\": \"white\", \"linecolor\": \"white\", \"ticks\": \"\"}}, \"scene\": {\"xaxis\": {\"backgroundcolor\": \"#E5ECF6\", \"gridcolor\": \"white\", \"gridwidth\": 2, \"linecolor\": \"white\", \"showbackground\": true, \"ticks\": \"\", \"zerolinecolor\": \"white\"}, \"yaxis\": {\"backgroundcolor\": \"#E5ECF6\", \"gridcolor\": \"white\", \"gridwidth\": 2, \"linecolor\": \"white\", \"showbackground\": true, \"ticks\": \"\", \"zerolinecolor\": \"white\"}, \"zaxis\": {\"backgroundcolor\": \"#E5ECF6\", \"gridcolor\": \"white\", \"gridwidth\": 2, \"linecolor\": \"white\", \"showbackground\": true, \"ticks\": \"\", \"zerolinecolor\": \"white\"}}, \"shapedefaults\": {\"line\": {\"color\": \"#2a3f5f\"}}, \"ternary\": {\"aaxis\": {\"gridcolor\": \"white\", \"linecolor\": \"white\", \"ticks\": \"\"}, \"baxis\": {\"gridcolor\": \"white\", \"linecolor\": \"white\", \"ticks\": \"\"}, \"bgcolor\": \"#E5ECF6\", \"caxis\": {\"gridcolor\": \"white\", \"linecolor\": \"white\", \"ticks\": \"\"}}, \"title\": {\"x\": 0.05}, \"xaxis\": {\"automargin\": true, \"gridcolor\": \"white\", \"linecolor\": \"white\", \"ticks\": \"\", \"title\": {\"standoff\": 15}, \"zerolinecolor\": \"white\", \"zerolinewidth\": 2}, \"yaxis\": {\"automargin\": true, \"gridcolor\": \"white\", \"linecolor\": \"white\", \"ticks\": \"\", \"title\": {\"standoff\": 15}, \"zerolinecolor\": \"white\", \"zerolinewidth\": 2}}}, \"xaxis\": {\"anchor\": \"y\", \"domain\": [0.0, 1.0], \"title\": {\"text\": \"maxDifferentDays\"}}, \"yaxis\": {\"anchor\": \"x\", \"domain\": [0.0, 1.0], \"title\": {\"text\": \"maxTime\"}}},\n",
              "                        {\"responsive\": true}\n",
              "                    ).then(function(){\n",
              "                            \n",
              "var gd = document.getElementById('6b959acc-46f2-4b32-93fd-1e28271490af');\n",
              "var x = new MutationObserver(function (mutations, observer) {{\n",
              "        var display = window.getComputedStyle(gd).display;\n",
              "        if (!display || display === 'none') {{\n",
              "            console.log([gd, 'removed!']);\n",
              "            Plotly.purge(gd);\n",
              "            observer.disconnect();\n",
              "        }}\n",
              "}});\n",
              "\n",
              "// Listen for the removal of the full notebook cells\n",
              "var notebookContainer = gd.closest('#notebook-container');\n",
              "if (notebookContainer) {{\n",
              "    x.observe(notebookContainer, {childList: true});\n",
              "}}\n",
              "\n",
              "// Listen for the clearing of the current output cell\n",
              "var outputEl = gd.closest('.output');\n",
              "if (outputEl) {{\n",
              "    x.observe(outputEl, {childList: true});\n",
              "}}\n",
              "\n",
              "                        })\n",
              "                };\n",
              "                \n",
              "            </script>\n",
              "        </div>\n",
              "</body>\n",
              "</html>"
            ]
          },
          "metadata": {
            "tags": []
          }
        }
      ]
    },
    {
      "cell_type": "code",
      "metadata": {
        "colab": {
          "base_uri": "https://localhost:8080/",
          "height": 145
        },
        "id": "e2Qjos8DEh2G",
        "outputId": "96ff908e-661b-4a14-a13c-3f717ab885d7"
      },
      "source": [
        "df_submission.head(2)"
      ],
      "execution_count": null,
      "outputs": [
        {
          "output_type": "execute_result",
          "data": {
            "text/html": [
              "<div>\n",
              "<style scoped>\n",
              "    .dataframe tbody tr th:only-of-type {\n",
              "        vertical-align: middle;\n",
              "    }\n",
              "\n",
              "    .dataframe tbody tr th {\n",
              "        vertical-align: top;\n",
              "    }\n",
              "\n",
              "    .dataframe thead th {\n",
              "        text-align: right;\n",
              "    }\n",
              "</style>\n",
              "<table border=\"1\" class=\"dataframe\">\n",
              "  <thead>\n",
              "    <tr style=\"text-align: right;\">\n",
              "      <th></th>\n",
              "      <th>environment</th>\n",
              "      <th>hitPercentage</th>\n",
              "      <th>language</th>\n",
              "      <th>char_change_number</th>\n",
              "      <th>timeConsuming</th>\n",
              "      <th>createdAt</th>\n",
              "      <th>user</th>\n",
              "      <th>question</th>\n",
              "      <th>list</th>\n",
              "      <th>test</th>\n",
              "      <th>id_class</th>\n",
              "      <th>registration</th>\n",
              "      <th>timeInSecounds</th>\n",
              "      <th>dateSubmission</th>\n",
              "    </tr>\n",
              "  </thead>\n",
              "  <tbody>\n",
              "    <tr>\n",
              "      <th>0</th>\n",
              "      <td>desktop</td>\n",
              "      <td>0.0</td>\n",
              "      <td>c</td>\n",
              "      <td>207</td>\n",
              "      <td>66156</td>\n",
              "      <td>2020-12-21 17:56:01+00:00</td>\n",
              "      <td>Arthur Learth</td>\n",
              "      <td>CRUD - Com alocação dinâmica - Rep</td>\n",
              "      <td>None</td>\n",
              "      <td>ITP 2020.6 - T02 - Reposicao</td>\n",
              "      <td>b5413cd7-4f61-4241-aad8-23740bab604f</td>\n",
              "      <td>20180071294</td>\n",
              "      <td>66</td>\n",
              "      <td>2020-12-21</td>\n",
              "    </tr>\n",
              "    <tr>\n",
              "      <th>1</th>\n",
              "      <td>desktop</td>\n",
              "      <td>0.0</td>\n",
              "      <td>c</td>\n",
              "      <td>207</td>\n",
              "      <td>108142</td>\n",
              "      <td>2020-12-21 17:55:34+00:00</td>\n",
              "      <td>Arthur Learth</td>\n",
              "      <td>CRUD - Com alocação dinâmica - Rep</td>\n",
              "      <td>None</td>\n",
              "      <td>ITP 2020.6 - T02 - Reposicao</td>\n",
              "      <td>b5413cd7-4f61-4241-aad8-23740bab604f</td>\n",
              "      <td>20180071294</td>\n",
              "      <td>108</td>\n",
              "      <td>2020-12-21</td>\n",
              "    </tr>\n",
              "  </tbody>\n",
              "</table>\n",
              "</div>"
            ],
            "text/plain": [
              "  environment  hitPercentage  ... timeInSecounds  dateSubmission\n",
              "0     desktop            0.0  ...             66      2020-12-21\n",
              "1     desktop            0.0  ...            108      2020-12-21\n",
              "\n",
              "[2 rows x 14 columns]"
            ]
          },
          "metadata": {
            "tags": []
          },
          "execution_count": 59
        }
      ]
    },
    {
      "cell_type": "markdown",
      "metadata": {
        "id": "rZce62ent0z6"
      },
      "source": [
        "Agrupando por lista e questão e obtendo a quantidade máxima de tempo gasto"
      ]
    },
    {
      "cell_type": "code",
      "metadata": {
        "colab": {
          "base_uri": "https://localhost:8080/",
          "height": 111
        },
        "id": "gVPnSReBEs_W",
        "outputId": "d54fb8fc-9e7e-49b6-c012-33bfb391cd6d"
      },
      "source": [
        "df_list_maxtime = df_submission[df_submission[\"timeInSecounds\"] > 0].groupby(['list','question'])['timeInSecounds'].max().reset_index(name='maxTime')\r\n",
        "df_list_maxtime.head(2)"
      ],
      "execution_count": null,
      "outputs": [
        {
          "output_type": "execute_result",
          "data": {
            "text/html": [
              "<div>\n",
              "<style scoped>\n",
              "    .dataframe tbody tr th:only-of-type {\n",
              "        vertical-align: middle;\n",
              "    }\n",
              "\n",
              "    .dataframe tbody tr th {\n",
              "        vertical-align: top;\n",
              "    }\n",
              "\n",
              "    .dataframe thead th {\n",
              "        text-align: right;\n",
              "    }\n",
              "</style>\n",
              "<table border=\"1\" class=\"dataframe\">\n",
              "  <thead>\n",
              "    <tr style=\"text-align: right;\">\n",
              "      <th></th>\n",
              "      <th>list</th>\n",
              "      <th>question</th>\n",
              "      <th>maxTime</th>\n",
              "    </tr>\n",
              "  </thead>\n",
              "  <tbody>\n",
              "    <tr>\n",
              "      <th>0</th>\n",
              "      <td>IMD0012 - 2020.6: Lista Obrigatória, Semana 1</td>\n",
              "      <td>Comparação com switch</td>\n",
              "      <td>5121</td>\n",
              "    </tr>\n",
              "    <tr>\n",
              "      <th>1</th>\n",
              "      <td>IMD0012 - 2020.6: Lista Obrigatória, Semana 1</td>\n",
              "      <td>Fluxograma</td>\n",
              "      <td>2366</td>\n",
              "    </tr>\n",
              "  </tbody>\n",
              "</table>\n",
              "</div>"
            ],
            "text/plain": [
              "                                            list  ... maxTime\n",
              "0  IMD0012 - 2020.6: Lista Obrigatória, Semana 1  ...    5121\n",
              "1  IMD0012 - 2020.6: Lista Obrigatória, Semana 1  ...    2366\n",
              "\n",
              "[2 rows x 3 columns]"
            ]
          },
          "metadata": {
            "tags": []
          },
          "execution_count": 60
        }
      ]
    },
    {
      "cell_type": "markdown",
      "metadata": {
        "id": "udaImED9uY3h"
      },
      "source": [
        "Agrupando por lista e questão e obtendo a quantidade máxima de dias gastos"
      ]
    },
    {
      "cell_type": "code",
      "metadata": {
        "colab": {
          "base_uri": "https://localhost:8080/",
          "height": 111
        },
        "id": "NPB4WW3IEvWf",
        "outputId": "a08d1731-3c4d-4f5d-9ebb-fa7b2c74b6cf"
      },
      "source": [
        "df_list_maxdays = df_user_secounds_days.groupby(['list','question'])['differentDays'].max().reset_index(name='maxDifferentDays')\r\n",
        "df_list_maxdays.head(2)"
      ],
      "execution_count": null,
      "outputs": [
        {
          "output_type": "execute_result",
          "data": {
            "text/html": [
              "<div>\n",
              "<style scoped>\n",
              "    .dataframe tbody tr th:only-of-type {\n",
              "        vertical-align: middle;\n",
              "    }\n",
              "\n",
              "    .dataframe tbody tr th {\n",
              "        vertical-align: top;\n",
              "    }\n",
              "\n",
              "    .dataframe thead th {\n",
              "        text-align: right;\n",
              "    }\n",
              "</style>\n",
              "<table border=\"1\" class=\"dataframe\">\n",
              "  <thead>\n",
              "    <tr style=\"text-align: right;\">\n",
              "      <th></th>\n",
              "      <th>list</th>\n",
              "      <th>question</th>\n",
              "      <th>maxDifferentDays</th>\n",
              "    </tr>\n",
              "  </thead>\n",
              "  <tbody>\n",
              "    <tr>\n",
              "      <th>0</th>\n",
              "      <td>IMD0012 - 2020.6: Lista Obrigatória, Semana 1</td>\n",
              "      <td>Comparação com switch</td>\n",
              "      <td>2</td>\n",
              "    </tr>\n",
              "    <tr>\n",
              "      <th>1</th>\n",
              "      <td>IMD0012 - 2020.6: Lista Obrigatória, Semana 1</td>\n",
              "      <td>Fluxograma</td>\n",
              "      <td>2</td>\n",
              "    </tr>\n",
              "  </tbody>\n",
              "</table>\n",
              "</div>"
            ],
            "text/plain": [
              "                                            list  ... maxDifferentDays\n",
              "0  IMD0012 - 2020.6: Lista Obrigatória, Semana 1  ...                2\n",
              "1  IMD0012 - 2020.6: Lista Obrigatória, Semana 1  ...                2\n",
              "\n",
              "[2 rows x 3 columns]"
            ]
          },
          "metadata": {
            "tags": []
          },
          "execution_count": 61
        }
      ]
    },
    {
      "cell_type": "code",
      "metadata": {
        "id": "rt-AFqMXExaK",
        "colab": {
          "base_uri": "https://localhost:8080/",
          "height": 111
        },
        "outputId": "6851e749-8b4e-4842-f18b-4a01010148b3"
      },
      "source": [
        "df_max_day_time = pd.merge(df_list_maxtime, df_list_maxdays, on=['list','question'])\r\n",
        "df_max_day_time.head(2)"
      ],
      "execution_count": null,
      "outputs": [
        {
          "output_type": "execute_result",
          "data": {
            "text/html": [
              "<div>\n",
              "<style scoped>\n",
              "    .dataframe tbody tr th:only-of-type {\n",
              "        vertical-align: middle;\n",
              "    }\n",
              "\n",
              "    .dataframe tbody tr th {\n",
              "        vertical-align: top;\n",
              "    }\n",
              "\n",
              "    .dataframe thead th {\n",
              "        text-align: right;\n",
              "    }\n",
              "</style>\n",
              "<table border=\"1\" class=\"dataframe\">\n",
              "  <thead>\n",
              "    <tr style=\"text-align: right;\">\n",
              "      <th></th>\n",
              "      <th>list</th>\n",
              "      <th>question</th>\n",
              "      <th>maxTime</th>\n",
              "      <th>maxDifferentDays</th>\n",
              "    </tr>\n",
              "  </thead>\n",
              "  <tbody>\n",
              "    <tr>\n",
              "      <th>0</th>\n",
              "      <td>IMD0012 - 2020.6: Lista Obrigatória, Semana 1</td>\n",
              "      <td>Comparação com switch</td>\n",
              "      <td>5121</td>\n",
              "      <td>2</td>\n",
              "    </tr>\n",
              "    <tr>\n",
              "      <th>1</th>\n",
              "      <td>IMD0012 - 2020.6: Lista Obrigatória, Semana 1</td>\n",
              "      <td>Fluxograma</td>\n",
              "      <td>2366</td>\n",
              "      <td>2</td>\n",
              "    </tr>\n",
              "  </tbody>\n",
              "</table>\n",
              "</div>"
            ],
            "text/plain": [
              "                                            list  ... maxDifferentDays\n",
              "0  IMD0012 - 2020.6: Lista Obrigatória, Semana 1  ...                2\n",
              "1  IMD0012 - 2020.6: Lista Obrigatória, Semana 1  ...                2\n",
              "\n",
              "[2 rows x 4 columns]"
            ]
          },
          "metadata": {
            "tags": []
          },
          "execution_count": 62
        }
      ]
    },
    {
      "cell_type": "markdown",
      "metadata": {
        "id": "K9MktKnfut4H"
      },
      "source": [
        "Listas disponíveis"
      ]
    },
    {
      "cell_type": "code",
      "metadata": {
        "colab": {
          "base_uri": "https://localhost:8080/"
        },
        "id": "6SH_bNfmGqIh",
        "outputId": "8faee6fb-c736-46d0-b3c7-456ee383b7dc"
      },
      "source": [
        "df_max_day_time['list'].unique()"
      ],
      "execution_count": null,
      "outputs": [
        {
          "output_type": "execute_result",
          "data": {
            "text/plain": [
              "array(['IMD0012 - 2020.6: Lista Obrigatória, Semana 1',\n",
              "       'IMD0012 - 2020.6: Lista Preparatória, Semana 3',\n",
              "       'ITP - Alocação dinâmica', 'ITP - Funções - Lista', 'ITP - Laços',\n",
              "       'ITP - Matriz - Lista', 'ITP - Ponteiros 1 - Lista',\n",
              "       'ITP - Ponteiros 2 -  Lista', 'ITP - Recursão - Lista',\n",
              "       'ITP - Strings - Lista', 'ITP - Structs e Enumerações - Lista'],\n",
              "      dtype=object)"
            ]
          },
          "metadata": {
            "tags": []
          },
          "execution_count": 63
        }
      ]
    },
    {
      "cell_type": "code",
      "metadata": {
        "id": "baX-X--TTGte"
      },
      "source": [
        "#df_max_day_time.to_json('df_max_day_time.json',force_ascii=False, orient='records') "
      ],
      "execution_count": null,
      "outputs": []
    },
    {
      "cell_type": "markdown",
      "metadata": {
        "id": "XIvTCUe8wRix"
      },
      "source": [
        "Gráfico de tempo máximo e de dias diferentes, agora filtrado por uma lista específica"
      ]
    },
    {
      "cell_type": "code",
      "metadata": {
        "colab": {
          "base_uri": "https://localhost:8080/",
          "height": 542
        },
        "id": "KLfsY4HEHN78",
        "outputId": "5020922d-e40c-46c0-f4f7-e8cc945df5a8"
      },
      "source": [
        "px.scatter(data_frame=df_max_day_time.loc[df_max_day_time['list'].str.contains('IMD0012 - 2020.6: Lista Obrigatória, Semana 1')], y = 'maxTime', x = 'maxDifferentDays', color='question') "
      ],
      "execution_count": null,
      "outputs": [
        {
          "output_type": "display_data",
          "data": {
            "text/html": [
              "<html>\n",
              "<head><meta charset=\"utf-8\" /></head>\n",
              "<body>\n",
              "    <div>\n",
              "            <script src=\"https://cdnjs.cloudflare.com/ajax/libs/mathjax/2.7.5/MathJax.js?config=TeX-AMS-MML_SVG\"></script><script type=\"text/javascript\">if (window.MathJax) {MathJax.Hub.Config({SVG: {font: \"STIX-Web\"}});}</script>\n",
              "                <script type=\"text/javascript\">window.PlotlyConfig = {MathJaxConfig: 'local'};</script>\n",
              "        <script src=\"https://cdn.plot.ly/plotly-latest.min.js\"></script>    \n",
              "            <div id=\"9180b06f-707e-4d2e-bcc1-a97ca7f531c2\" class=\"plotly-graph-div\" style=\"height:525px; width:100%;\"></div>\n",
              "            <script type=\"text/javascript\">\n",
              "                \n",
              "                    window.PLOTLYENV=window.PLOTLYENV || {};\n",
              "                    \n",
              "                if (document.getElementById(\"9180b06f-707e-4d2e-bcc1-a97ca7f531c2\")) {\n",
              "                    Plotly.newPlot(\n",
              "                        '9180b06f-707e-4d2e-bcc1-a97ca7f531c2',\n",
              "                        [{\"hoverlabel\": {\"namelength\": 0}, \"hovertemplate\": \"question=Compara\\u00e7\\u00e3o com switch<br>maxDifferentDays=%{x}<br>maxTime=%{y}\", \"legendgroup\": \"question=Compara\\u00e7\\u00e3o com switch\", \"marker\": {\"color\": \"#636efa\", \"symbol\": \"circle\"}, \"mode\": \"markers\", \"name\": \"question=Compara\\u00e7\\u00e3o com switch\", \"showlegend\": true, \"type\": \"scatter\", \"x\": [2], \"xaxis\": \"x\", \"y\": [5121], \"yaxis\": \"y\"}, {\"hoverlabel\": {\"namelength\": 0}, \"hovertemplate\": \"question=Fluxograma<br>maxDifferentDays=%{x}<br>maxTime=%{y}\", \"legendgroup\": \"question=Fluxograma\", \"marker\": {\"color\": \"#EF553B\", \"symbol\": \"circle\"}, \"mode\": \"markers\", \"name\": \"question=Fluxograma\", \"showlegend\": true, \"type\": \"scatter\", \"x\": [2], \"xaxis\": \"x\", \"y\": [2366], \"yaxis\": \"y\"}, {\"hoverlabel\": {\"namelength\": 0}, \"hovertemplate\": \"question=Soma de dois n\\u00fameros pares<br>maxDifferentDays=%{x}<br>maxTime=%{y}\", \"legendgroup\": \"question=Soma de dois n\\u00fameros pares\", \"marker\": {\"color\": \"#00cc96\", \"symbol\": \"circle\"}, \"mode\": \"markers\", \"name\": \"question=Soma de dois n\\u00fameros pares\", \"showlegend\": true, \"type\": \"scatter\", \"x\": [2], \"xaxis\": \"x\", \"y\": [30927], \"yaxis\": \"y\"}],\n",
              "                        {\"legend\": {\"tracegroupgap\": 0}, \"margin\": {\"t\": 60}, \"template\": {\"data\": {\"bar\": [{\"error_x\": {\"color\": \"#2a3f5f\"}, \"error_y\": {\"color\": \"#2a3f5f\"}, \"marker\": {\"line\": {\"color\": \"#E5ECF6\", \"width\": 0.5}}, \"type\": \"bar\"}], \"barpolar\": [{\"marker\": {\"line\": {\"color\": \"#E5ECF6\", \"width\": 0.5}}, \"type\": \"barpolar\"}], \"carpet\": [{\"aaxis\": {\"endlinecolor\": \"#2a3f5f\", \"gridcolor\": \"white\", \"linecolor\": \"white\", \"minorgridcolor\": \"white\", \"startlinecolor\": \"#2a3f5f\"}, \"baxis\": {\"endlinecolor\": \"#2a3f5f\", \"gridcolor\": \"white\", \"linecolor\": \"white\", \"minorgridcolor\": \"white\", \"startlinecolor\": \"#2a3f5f\"}, \"type\": \"carpet\"}], \"choropleth\": [{\"colorbar\": {\"outlinewidth\": 0, \"ticks\": \"\"}, \"type\": \"choropleth\"}], \"contour\": [{\"colorbar\": {\"outlinewidth\": 0, \"ticks\": \"\"}, \"colorscale\": [[0.0, \"#0d0887\"], [0.1111111111111111, \"#46039f\"], [0.2222222222222222, \"#7201a8\"], [0.3333333333333333, \"#9c179e\"], [0.4444444444444444, \"#bd3786\"], [0.5555555555555556, \"#d8576b\"], [0.6666666666666666, \"#ed7953\"], [0.7777777777777778, \"#fb9f3a\"], [0.8888888888888888, \"#fdca26\"], [1.0, \"#f0f921\"]], \"type\": \"contour\"}], \"contourcarpet\": [{\"colorbar\": {\"outlinewidth\": 0, \"ticks\": \"\"}, \"type\": \"contourcarpet\"}], \"heatmap\": [{\"colorbar\": {\"outlinewidth\": 0, \"ticks\": \"\"}, \"colorscale\": [[0.0, \"#0d0887\"], [0.1111111111111111, \"#46039f\"], [0.2222222222222222, \"#7201a8\"], [0.3333333333333333, \"#9c179e\"], [0.4444444444444444, \"#bd3786\"], [0.5555555555555556, \"#d8576b\"], [0.6666666666666666, \"#ed7953\"], [0.7777777777777778, \"#fb9f3a\"], [0.8888888888888888, \"#fdca26\"], [1.0, \"#f0f921\"]], \"type\": \"heatmap\"}], \"heatmapgl\": [{\"colorbar\": {\"outlinewidth\": 0, \"ticks\": \"\"}, \"colorscale\": [[0.0, \"#0d0887\"], [0.1111111111111111, \"#46039f\"], [0.2222222222222222, \"#7201a8\"], [0.3333333333333333, \"#9c179e\"], [0.4444444444444444, \"#bd3786\"], [0.5555555555555556, \"#d8576b\"], [0.6666666666666666, \"#ed7953\"], [0.7777777777777778, \"#fb9f3a\"], [0.8888888888888888, \"#fdca26\"], [1.0, \"#f0f921\"]], \"type\": \"heatmapgl\"}], \"histogram\": [{\"marker\": {\"colorbar\": {\"outlinewidth\": 0, \"ticks\": \"\"}}, \"type\": \"histogram\"}], \"histogram2d\": [{\"colorbar\": {\"outlinewidth\": 0, \"ticks\": \"\"}, \"colorscale\": [[0.0, \"#0d0887\"], [0.1111111111111111, \"#46039f\"], [0.2222222222222222, \"#7201a8\"], [0.3333333333333333, \"#9c179e\"], [0.4444444444444444, \"#bd3786\"], [0.5555555555555556, \"#d8576b\"], [0.6666666666666666, \"#ed7953\"], [0.7777777777777778, \"#fb9f3a\"], [0.8888888888888888, \"#fdca26\"], [1.0, \"#f0f921\"]], \"type\": \"histogram2d\"}], \"histogram2dcontour\": [{\"colorbar\": {\"outlinewidth\": 0, \"ticks\": \"\"}, \"colorscale\": [[0.0, \"#0d0887\"], [0.1111111111111111, \"#46039f\"], [0.2222222222222222, \"#7201a8\"], [0.3333333333333333, \"#9c179e\"], [0.4444444444444444, \"#bd3786\"], [0.5555555555555556, \"#d8576b\"], [0.6666666666666666, \"#ed7953\"], [0.7777777777777778, \"#fb9f3a\"], [0.8888888888888888, \"#fdca26\"], [1.0, \"#f0f921\"]], \"type\": \"histogram2dcontour\"}], \"mesh3d\": [{\"colorbar\": {\"outlinewidth\": 0, \"ticks\": \"\"}, \"type\": \"mesh3d\"}], \"parcoords\": [{\"line\": {\"colorbar\": {\"outlinewidth\": 0, \"ticks\": \"\"}}, \"type\": \"parcoords\"}], \"pie\": [{\"automargin\": true, \"type\": \"pie\"}], \"scatter\": [{\"marker\": {\"colorbar\": {\"outlinewidth\": 0, \"ticks\": \"\"}}, \"type\": \"scatter\"}], \"scatter3d\": [{\"line\": {\"colorbar\": {\"outlinewidth\": 0, \"ticks\": \"\"}}, \"marker\": {\"colorbar\": {\"outlinewidth\": 0, \"ticks\": \"\"}}, \"type\": \"scatter3d\"}], \"scattercarpet\": [{\"marker\": {\"colorbar\": {\"outlinewidth\": 0, \"ticks\": \"\"}}, \"type\": \"scattercarpet\"}], \"scattergeo\": [{\"marker\": {\"colorbar\": {\"outlinewidth\": 0, \"ticks\": \"\"}}, \"type\": \"scattergeo\"}], \"scattergl\": [{\"marker\": {\"colorbar\": {\"outlinewidth\": 0, \"ticks\": \"\"}}, \"type\": \"scattergl\"}], \"scattermapbox\": [{\"marker\": {\"colorbar\": {\"outlinewidth\": 0, \"ticks\": \"\"}}, \"type\": \"scattermapbox\"}], \"scatterpolar\": [{\"marker\": {\"colorbar\": {\"outlinewidth\": 0, \"ticks\": \"\"}}, \"type\": \"scatterpolar\"}], \"scatterpolargl\": [{\"marker\": {\"colorbar\": {\"outlinewidth\": 0, \"ticks\": \"\"}}, \"type\": \"scatterpolargl\"}], \"scatterternary\": [{\"marker\": {\"colorbar\": {\"outlinewidth\": 0, \"ticks\": \"\"}}, \"type\": \"scatterternary\"}], \"surface\": [{\"colorbar\": {\"outlinewidth\": 0, \"ticks\": \"\"}, \"colorscale\": [[0.0, \"#0d0887\"], [0.1111111111111111, \"#46039f\"], [0.2222222222222222, \"#7201a8\"], [0.3333333333333333, \"#9c179e\"], [0.4444444444444444, \"#bd3786\"], [0.5555555555555556, \"#d8576b\"], [0.6666666666666666, \"#ed7953\"], [0.7777777777777778, \"#fb9f3a\"], [0.8888888888888888, \"#fdca26\"], [1.0, \"#f0f921\"]], \"type\": \"surface\"}], \"table\": [{\"cells\": {\"fill\": {\"color\": \"#EBF0F8\"}, \"line\": {\"color\": \"white\"}}, \"header\": {\"fill\": {\"color\": \"#C8D4E3\"}, \"line\": {\"color\": \"white\"}}, \"type\": \"table\"}]}, \"layout\": {\"annotationdefaults\": {\"arrowcolor\": \"#2a3f5f\", \"arrowhead\": 0, \"arrowwidth\": 1}, \"coloraxis\": {\"colorbar\": {\"outlinewidth\": 0, \"ticks\": \"\"}}, \"colorscale\": {\"diverging\": [[0, \"#8e0152\"], [0.1, \"#c51b7d\"], [0.2, \"#de77ae\"], [0.3, \"#f1b6da\"], [0.4, \"#fde0ef\"], [0.5, \"#f7f7f7\"], [0.6, \"#e6f5d0\"], [0.7, \"#b8e186\"], [0.8, \"#7fbc41\"], [0.9, \"#4d9221\"], [1, \"#276419\"]], \"sequential\": [[0.0, \"#0d0887\"], [0.1111111111111111, \"#46039f\"], [0.2222222222222222, \"#7201a8\"], [0.3333333333333333, \"#9c179e\"], [0.4444444444444444, \"#bd3786\"], [0.5555555555555556, \"#d8576b\"], [0.6666666666666666, \"#ed7953\"], [0.7777777777777778, \"#fb9f3a\"], [0.8888888888888888, \"#fdca26\"], [1.0, \"#f0f921\"]], \"sequentialminus\": [[0.0, \"#0d0887\"], [0.1111111111111111, \"#46039f\"], [0.2222222222222222, \"#7201a8\"], [0.3333333333333333, \"#9c179e\"], [0.4444444444444444, \"#bd3786\"], [0.5555555555555556, \"#d8576b\"], [0.6666666666666666, \"#ed7953\"], [0.7777777777777778, \"#fb9f3a\"], [0.8888888888888888, \"#fdca26\"], [1.0, \"#f0f921\"]]}, \"colorway\": [\"#636efa\", \"#EF553B\", \"#00cc96\", \"#ab63fa\", \"#FFA15A\", \"#19d3f3\", \"#FF6692\", \"#B6E880\", \"#FF97FF\", \"#FECB52\"], \"font\": {\"color\": \"#2a3f5f\"}, \"geo\": {\"bgcolor\": \"white\", \"lakecolor\": \"white\", \"landcolor\": \"#E5ECF6\", \"showlakes\": true, \"showland\": true, \"subunitcolor\": \"white\"}, \"hoverlabel\": {\"align\": \"left\"}, \"hovermode\": \"closest\", \"mapbox\": {\"style\": \"light\"}, \"paper_bgcolor\": \"white\", \"plot_bgcolor\": \"#E5ECF6\", \"polar\": {\"angularaxis\": {\"gridcolor\": \"white\", \"linecolor\": \"white\", \"ticks\": \"\"}, \"bgcolor\": \"#E5ECF6\", \"radialaxis\": {\"gridcolor\": \"white\", \"linecolor\": \"white\", \"ticks\": \"\"}}, \"scene\": {\"xaxis\": {\"backgroundcolor\": \"#E5ECF6\", \"gridcolor\": \"white\", \"gridwidth\": 2, \"linecolor\": \"white\", \"showbackground\": true, \"ticks\": \"\", \"zerolinecolor\": \"white\"}, \"yaxis\": {\"backgroundcolor\": \"#E5ECF6\", \"gridcolor\": \"white\", \"gridwidth\": 2, \"linecolor\": \"white\", \"showbackground\": true, \"ticks\": \"\", \"zerolinecolor\": \"white\"}, \"zaxis\": {\"backgroundcolor\": \"#E5ECF6\", \"gridcolor\": \"white\", \"gridwidth\": 2, \"linecolor\": \"white\", \"showbackground\": true, \"ticks\": \"\", \"zerolinecolor\": \"white\"}}, \"shapedefaults\": {\"line\": {\"color\": \"#2a3f5f\"}}, \"ternary\": {\"aaxis\": {\"gridcolor\": \"white\", \"linecolor\": \"white\", \"ticks\": \"\"}, \"baxis\": {\"gridcolor\": \"white\", \"linecolor\": \"white\", \"ticks\": \"\"}, \"bgcolor\": \"#E5ECF6\", \"caxis\": {\"gridcolor\": \"white\", \"linecolor\": \"white\", \"ticks\": \"\"}}, \"title\": {\"x\": 0.05}, \"xaxis\": {\"automargin\": true, \"gridcolor\": \"white\", \"linecolor\": \"white\", \"ticks\": \"\", \"title\": {\"standoff\": 15}, \"zerolinecolor\": \"white\", \"zerolinewidth\": 2}, \"yaxis\": {\"automargin\": true, \"gridcolor\": \"white\", \"linecolor\": \"white\", \"ticks\": \"\", \"title\": {\"standoff\": 15}, \"zerolinecolor\": \"white\", \"zerolinewidth\": 2}}}, \"xaxis\": {\"anchor\": \"y\", \"domain\": [0.0, 1.0], \"title\": {\"text\": \"maxDifferentDays\"}}, \"yaxis\": {\"anchor\": \"x\", \"domain\": [0.0, 1.0], \"title\": {\"text\": \"maxTime\"}}},\n",
              "                        {\"responsive\": true}\n",
              "                    ).then(function(){\n",
              "                            \n",
              "var gd = document.getElementById('9180b06f-707e-4d2e-bcc1-a97ca7f531c2');\n",
              "var x = new MutationObserver(function (mutations, observer) {{\n",
              "        var display = window.getComputedStyle(gd).display;\n",
              "        if (!display || display === 'none') {{\n",
              "            console.log([gd, 'removed!']);\n",
              "            Plotly.purge(gd);\n",
              "            observer.disconnect();\n",
              "        }}\n",
              "}});\n",
              "\n",
              "// Listen for the removal of the full notebook cells\n",
              "var notebookContainer = gd.closest('#notebook-container');\n",
              "if (notebookContainer) {{\n",
              "    x.observe(notebookContainer, {childList: true});\n",
              "}}\n",
              "\n",
              "// Listen for the clearing of the current output cell\n",
              "var outputEl = gd.closest('.output');\n",
              "if (outputEl) {{\n",
              "    x.observe(outputEl, {childList: true});\n",
              "}}\n",
              "\n",
              "                        })\n",
              "                };\n",
              "                \n",
              "            </script>\n",
              "        </div>\n",
              "</body>\n",
              "</html>"
            ]
          },
          "metadata": {
            "tags": []
          }
        }
      ]
    },
    {
      "cell_type": "code",
      "metadata": {
        "colab": {
          "base_uri": "https://localhost:8080/",
          "height": 111
        },
        "id": "jFRNorvrLUJM",
        "outputId": "30be1f0f-78ce-4c4e-d276-1ef738abed87"
      },
      "source": [
        "df_without_duplicates.head(2)"
      ],
      "execution_count": null,
      "outputs": [
        {
          "output_type": "execute_result",
          "data": {
            "text/html": [
              "<div>\n",
              "<style scoped>\n",
              "    .dataframe tbody tr th:only-of-type {\n",
              "        vertical-align: middle;\n",
              "    }\n",
              "\n",
              "    .dataframe tbody tr th {\n",
              "        vertical-align: top;\n",
              "    }\n",
              "\n",
              "    .dataframe thead th {\n",
              "        text-align: right;\n",
              "    }\n",
              "</style>\n",
              "<table border=\"1\" class=\"dataframe\">\n",
              "  <thead>\n",
              "    <tr style=\"text-align: right;\">\n",
              "      <th></th>\n",
              "      <th>language</th>\n",
              "      <th>user</th>\n",
              "      <th>question</th>\n",
              "      <th>list</th>\n",
              "      <th>test</th>\n",
              "      <th>id_class</th>\n",
              "      <th>registration</th>\n",
              "      <th>dateSubmission</th>\n",
              "    </tr>\n",
              "  </thead>\n",
              "  <tbody>\n",
              "    <tr>\n",
              "      <th>0</th>\n",
              "      <td>c</td>\n",
              "      <td>Arthur Learth</td>\n",
              "      <td>CRUD - Com alocação dinâmica - Rep</td>\n",
              "      <td>None</td>\n",
              "      <td>ITP 2020.6 - T02 - Reposicao</td>\n",
              "      <td>b5413cd7-4f61-4241-aad8-23740bab604f</td>\n",
              "      <td>20180071294</td>\n",
              "      <td>2020-12-21</td>\n",
              "    </tr>\n",
              "    <tr>\n",
              "      <th>22</th>\n",
              "      <td>c</td>\n",
              "      <td>Matheus Henrique Fonseca Valerio</td>\n",
              "      <td>CRUD - Com alocação dinâmica - Rep</td>\n",
              "      <td>None</td>\n",
              "      <td>ITP 2020.6 - T02 - Reposicao</td>\n",
              "      <td>b5413cd7-4f61-4241-aad8-23740bab604f</td>\n",
              "      <td>20180063597</td>\n",
              "      <td>2020-12-21</td>\n",
              "    </tr>\n",
              "  </tbody>\n",
              "</table>\n",
              "</div>"
            ],
            "text/plain": [
              "   language                               user  ...  registration dateSubmission\n",
              "0         c                     Arthur Learth   ...   20180071294     2020-12-21\n",
              "22        c  Matheus Henrique Fonseca Valerio   ...   20180063597     2020-12-21\n",
              "\n",
              "[2 rows x 8 columns]"
            ]
          },
          "metadata": {
            "tags": []
          },
          "execution_count": 66
        }
      ]
    },
    {
      "cell_type": "markdown",
      "metadata": {
        "id": "qSiJZM-SLWzi"
      },
      "source": [
        "Calculando em quantos dias diferentes a lista foi submetida por aluno"
      ]
    },
    {
      "cell_type": "code",
      "metadata": {
        "colab": {
          "base_uri": "https://localhost:8080/",
          "height": 204
        },
        "id": "sSFd7QXnMBlp",
        "outputId": "80568ad6-e7fe-4924-b616-8045f07e4884"
      },
      "source": [
        "df_different_days_lists = df_without_duplicates.groupby(['user','registration','list'])['dateSubmission'].count().reset_index(name='differentDaysList')\r\n",
        "df_different_days_lists.head()"
      ],
      "execution_count": null,
      "outputs": [
        {
          "output_type": "execute_result",
          "data": {
            "text/html": [
              "<div>\n",
              "<style scoped>\n",
              "    .dataframe tbody tr th:only-of-type {\n",
              "        vertical-align: middle;\n",
              "    }\n",
              "\n",
              "    .dataframe tbody tr th {\n",
              "        vertical-align: top;\n",
              "    }\n",
              "\n",
              "    .dataframe thead th {\n",
              "        text-align: right;\n",
              "    }\n",
              "</style>\n",
              "<table border=\"1\" class=\"dataframe\">\n",
              "  <thead>\n",
              "    <tr style=\"text-align: right;\">\n",
              "      <th></th>\n",
              "      <th>user</th>\n",
              "      <th>registration</th>\n",
              "      <th>list</th>\n",
              "      <th>differentDaysList</th>\n",
              "    </tr>\n",
              "  </thead>\n",
              "  <tbody>\n",
              "    <tr>\n",
              "      <th>0</th>\n",
              "      <td>Allef Vinicius</td>\n",
              "      <td>20180069714</td>\n",
              "      <td>IMD0012 - 2020.6: Lista Obrigatória, Semana 1</td>\n",
              "      <td>3</td>\n",
              "    </tr>\n",
              "    <tr>\n",
              "      <th>1</th>\n",
              "      <td>Allef Vinicius</td>\n",
              "      <td>20180069714</td>\n",
              "      <td>IMD0012 - 2020.6: Lista Preparatória, Semana 3</td>\n",
              "      <td>4</td>\n",
              "    </tr>\n",
              "    <tr>\n",
              "      <th>2</th>\n",
              "      <td>Allef Vinicius</td>\n",
              "      <td>20180069714</td>\n",
              "      <td>ITP - Alocação dinâmica</td>\n",
              "      <td>5</td>\n",
              "    </tr>\n",
              "    <tr>\n",
              "      <th>3</th>\n",
              "      <td>Allef Vinicius</td>\n",
              "      <td>20180069714</td>\n",
              "      <td>ITP - Laços</td>\n",
              "      <td>4</td>\n",
              "    </tr>\n",
              "    <tr>\n",
              "      <th>4</th>\n",
              "      <td>Allef Vinicius</td>\n",
              "      <td>20180069714</td>\n",
              "      <td>ITP - Ponteiros 2 -  Lista</td>\n",
              "      <td>1</td>\n",
              "    </tr>\n",
              "  </tbody>\n",
              "</table>\n",
              "</div>"
            ],
            "text/plain": [
              "              user  ... differentDaysList\n",
              "0  Allef Vinicius   ...                 3\n",
              "1  Allef Vinicius   ...                 4\n",
              "2  Allef Vinicius   ...                 5\n",
              "3  Allef Vinicius   ...                 4\n",
              "4  Allef Vinicius   ...                 1\n",
              "\n",
              "[5 rows x 4 columns]"
            ]
          },
          "metadata": {
            "tags": []
          },
          "execution_count": 71
        }
      ]
    },
    {
      "cell_type": "markdown",
      "metadata": {
        "id": "rXiEZSngNzdO"
      },
      "source": [
        "Histograma de, por lista, mostra a quantos dias diferentes cada aluno gastou pra fazer uma lista"
      ]
    },
    {
      "cell_type": "code",
      "metadata": {
        "colab": {
          "base_uri": "https://localhost:8080/",
          "height": 542
        },
        "id": "cPfzeSHwNVso",
        "outputId": "31ca611b-33dc-4ccf-ed2f-18fb118a34a7"
      },
      "source": [
        "px.histogram(df_different_days_lists.loc[df_different_days_lists['list'].str.contains('IMD0012 - 2020.6: Lista Obrigatória, Semana 1')], x=\"differentDaysList\")"
      ],
      "execution_count": null,
      "outputs": [
        {
          "output_type": "display_data",
          "data": {
            "text/html": [
              "<html>\n",
              "<head><meta charset=\"utf-8\" /></head>\n",
              "<body>\n",
              "    <div>\n",
              "            <script src=\"https://cdnjs.cloudflare.com/ajax/libs/mathjax/2.7.5/MathJax.js?config=TeX-AMS-MML_SVG\"></script><script type=\"text/javascript\">if (window.MathJax) {MathJax.Hub.Config({SVG: {font: \"STIX-Web\"}});}</script>\n",
              "                <script type=\"text/javascript\">window.PlotlyConfig = {MathJaxConfig: 'local'};</script>\n",
              "        <script src=\"https://cdn.plot.ly/plotly-latest.min.js\"></script>    \n",
              "            <div id=\"b331ac2f-50d2-494b-876d-7d35f2acb35c\" class=\"plotly-graph-div\" style=\"height:525px; width:100%;\"></div>\n",
              "            <script type=\"text/javascript\">\n",
              "                \n",
              "                    window.PLOTLYENV=window.PLOTLYENV || {};\n",
              "                    \n",
              "                if (document.getElementById(\"b331ac2f-50d2-494b-876d-7d35f2acb35c\")) {\n",
              "                    Plotly.newPlot(\n",
              "                        'b331ac2f-50d2-494b-876d-7d35f2acb35c',\n",
              "                        [{\"alignmentgroup\": \"True\", \"bingroup\": \"x\", \"hoverlabel\": {\"namelength\": 0}, \"hovertemplate\": \"differentDaysList=%{x}<br>count=%{y}\", \"legendgroup\": \"\", \"marker\": {\"color\": \"#636efa\"}, \"name\": \"\", \"offsetgroup\": \"\", \"orientation\": \"v\", \"showlegend\": false, \"type\": \"histogram\", \"x\": [3, 4, 5, 4, 1, 5, 4, 4, 4, 4, 4, 6, 4, 2, 1, 3, 2, 7, 2, 3, 4, 4, 5, 4, 5, 4, 3, 1, 3, 3, 4, 4, 1, 4, 3, 3, 3, 3, 2, 2, 4, 1, 1, 6, 6, 4, 6, 3, 4, 3, 2, 4, 3, 1, 3, 1, 4, 1, 3, 4, 6, 4, 3, 4, 5, 3, 1, 5, 1, 2, 3, 2, 2, 4, 4, 3, 4, 4, 4, 4, 6, 5, 3, 3, 3, 4, 1, 3, 4, 4, 4, 5, 2, 1, 4, 3, 3, 1, 4, 4, 7, 4, 1, 1], \"xaxis\": \"x\", \"yaxis\": \"y\"}],\n",
              "                        {\"barmode\": \"relative\", \"legend\": {\"tracegroupgap\": 0}, \"margin\": {\"t\": 60}, \"template\": {\"data\": {\"bar\": [{\"error_x\": {\"color\": \"#2a3f5f\"}, \"error_y\": {\"color\": \"#2a3f5f\"}, \"marker\": {\"line\": {\"color\": \"#E5ECF6\", \"width\": 0.5}}, \"type\": \"bar\"}], \"barpolar\": [{\"marker\": {\"line\": {\"color\": \"#E5ECF6\", \"width\": 0.5}}, \"type\": \"barpolar\"}], \"carpet\": [{\"aaxis\": {\"endlinecolor\": \"#2a3f5f\", \"gridcolor\": \"white\", \"linecolor\": \"white\", \"minorgridcolor\": \"white\", \"startlinecolor\": \"#2a3f5f\"}, \"baxis\": {\"endlinecolor\": \"#2a3f5f\", \"gridcolor\": \"white\", \"linecolor\": \"white\", \"minorgridcolor\": \"white\", \"startlinecolor\": \"#2a3f5f\"}, \"type\": \"carpet\"}], \"choropleth\": [{\"colorbar\": {\"outlinewidth\": 0, \"ticks\": \"\"}, \"type\": \"choropleth\"}], \"contour\": [{\"colorbar\": {\"outlinewidth\": 0, \"ticks\": \"\"}, \"colorscale\": [[0.0, \"#0d0887\"], [0.1111111111111111, \"#46039f\"], [0.2222222222222222, \"#7201a8\"], [0.3333333333333333, \"#9c179e\"], [0.4444444444444444, \"#bd3786\"], [0.5555555555555556, \"#d8576b\"], [0.6666666666666666, \"#ed7953\"], [0.7777777777777778, \"#fb9f3a\"], [0.8888888888888888, \"#fdca26\"], [1.0, \"#f0f921\"]], \"type\": \"contour\"}], \"contourcarpet\": [{\"colorbar\": {\"outlinewidth\": 0, \"ticks\": \"\"}, \"type\": \"contourcarpet\"}], \"heatmap\": [{\"colorbar\": {\"outlinewidth\": 0, \"ticks\": \"\"}, \"colorscale\": [[0.0, \"#0d0887\"], [0.1111111111111111, \"#46039f\"], [0.2222222222222222, \"#7201a8\"], [0.3333333333333333, \"#9c179e\"], [0.4444444444444444, \"#bd3786\"], [0.5555555555555556, \"#d8576b\"], [0.6666666666666666, \"#ed7953\"], [0.7777777777777778, \"#fb9f3a\"], [0.8888888888888888, \"#fdca26\"], [1.0, \"#f0f921\"]], \"type\": \"heatmap\"}], \"heatmapgl\": [{\"colorbar\": {\"outlinewidth\": 0, \"ticks\": \"\"}, \"colorscale\": [[0.0, \"#0d0887\"], [0.1111111111111111, \"#46039f\"], [0.2222222222222222, \"#7201a8\"], [0.3333333333333333, \"#9c179e\"], [0.4444444444444444, \"#bd3786\"], [0.5555555555555556, \"#d8576b\"], [0.6666666666666666, \"#ed7953\"], [0.7777777777777778, \"#fb9f3a\"], [0.8888888888888888, \"#fdca26\"], [1.0, \"#f0f921\"]], \"type\": \"heatmapgl\"}], \"histogram\": [{\"marker\": {\"colorbar\": {\"outlinewidth\": 0, \"ticks\": \"\"}}, \"type\": \"histogram\"}], \"histogram2d\": [{\"colorbar\": {\"outlinewidth\": 0, \"ticks\": \"\"}, \"colorscale\": [[0.0, \"#0d0887\"], [0.1111111111111111, \"#46039f\"], [0.2222222222222222, \"#7201a8\"], [0.3333333333333333, \"#9c179e\"], [0.4444444444444444, \"#bd3786\"], [0.5555555555555556, \"#d8576b\"], [0.6666666666666666, \"#ed7953\"], [0.7777777777777778, \"#fb9f3a\"], [0.8888888888888888, \"#fdca26\"], [1.0, \"#f0f921\"]], \"type\": \"histogram2d\"}], \"histogram2dcontour\": [{\"colorbar\": {\"outlinewidth\": 0, \"ticks\": \"\"}, \"colorscale\": [[0.0, \"#0d0887\"], [0.1111111111111111, \"#46039f\"], [0.2222222222222222, \"#7201a8\"], [0.3333333333333333, \"#9c179e\"], [0.4444444444444444, \"#bd3786\"], [0.5555555555555556, \"#d8576b\"], [0.6666666666666666, \"#ed7953\"], [0.7777777777777778, \"#fb9f3a\"], [0.8888888888888888, \"#fdca26\"], [1.0, \"#f0f921\"]], \"type\": \"histogram2dcontour\"}], \"mesh3d\": [{\"colorbar\": {\"outlinewidth\": 0, \"ticks\": \"\"}, \"type\": \"mesh3d\"}], \"parcoords\": [{\"line\": {\"colorbar\": {\"outlinewidth\": 0, \"ticks\": \"\"}}, \"type\": \"parcoords\"}], \"pie\": [{\"automargin\": true, \"type\": \"pie\"}], \"scatter\": [{\"marker\": {\"colorbar\": {\"outlinewidth\": 0, \"ticks\": \"\"}}, \"type\": \"scatter\"}], \"scatter3d\": [{\"line\": {\"colorbar\": {\"outlinewidth\": 0, \"ticks\": \"\"}}, \"marker\": {\"colorbar\": {\"outlinewidth\": 0, \"ticks\": \"\"}}, \"type\": \"scatter3d\"}], \"scattercarpet\": [{\"marker\": {\"colorbar\": {\"outlinewidth\": 0, \"ticks\": \"\"}}, \"type\": \"scattercarpet\"}], \"scattergeo\": [{\"marker\": {\"colorbar\": {\"outlinewidth\": 0, \"ticks\": \"\"}}, \"type\": \"scattergeo\"}], \"scattergl\": [{\"marker\": {\"colorbar\": {\"outlinewidth\": 0, \"ticks\": \"\"}}, \"type\": \"scattergl\"}], \"scattermapbox\": [{\"marker\": {\"colorbar\": {\"outlinewidth\": 0, \"ticks\": \"\"}}, \"type\": \"scattermapbox\"}], \"scatterpolar\": [{\"marker\": {\"colorbar\": {\"outlinewidth\": 0, \"ticks\": \"\"}}, \"type\": \"scatterpolar\"}], \"scatterpolargl\": [{\"marker\": {\"colorbar\": {\"outlinewidth\": 0, \"ticks\": \"\"}}, \"type\": \"scatterpolargl\"}], \"scatterternary\": [{\"marker\": {\"colorbar\": {\"outlinewidth\": 0, \"ticks\": \"\"}}, \"type\": \"scatterternary\"}], \"surface\": [{\"colorbar\": {\"outlinewidth\": 0, \"ticks\": \"\"}, \"colorscale\": [[0.0, \"#0d0887\"], [0.1111111111111111, \"#46039f\"], [0.2222222222222222, \"#7201a8\"], [0.3333333333333333, \"#9c179e\"], [0.4444444444444444, \"#bd3786\"], [0.5555555555555556, \"#d8576b\"], [0.6666666666666666, \"#ed7953\"], [0.7777777777777778, \"#fb9f3a\"], [0.8888888888888888, \"#fdca26\"], [1.0, \"#f0f921\"]], \"type\": \"surface\"}], \"table\": [{\"cells\": {\"fill\": {\"color\": \"#EBF0F8\"}, \"line\": {\"color\": \"white\"}}, \"header\": {\"fill\": {\"color\": \"#C8D4E3\"}, \"line\": {\"color\": \"white\"}}, \"type\": \"table\"}]}, \"layout\": {\"annotationdefaults\": {\"arrowcolor\": \"#2a3f5f\", \"arrowhead\": 0, \"arrowwidth\": 1}, \"coloraxis\": {\"colorbar\": {\"outlinewidth\": 0, \"ticks\": \"\"}}, \"colorscale\": {\"diverging\": [[0, \"#8e0152\"], [0.1, \"#c51b7d\"], [0.2, \"#de77ae\"], [0.3, \"#f1b6da\"], [0.4, \"#fde0ef\"], [0.5, \"#f7f7f7\"], [0.6, \"#e6f5d0\"], [0.7, \"#b8e186\"], [0.8, \"#7fbc41\"], [0.9, \"#4d9221\"], [1, \"#276419\"]], \"sequential\": [[0.0, \"#0d0887\"], [0.1111111111111111, \"#46039f\"], [0.2222222222222222, \"#7201a8\"], [0.3333333333333333, \"#9c179e\"], [0.4444444444444444, \"#bd3786\"], [0.5555555555555556, \"#d8576b\"], [0.6666666666666666, \"#ed7953\"], [0.7777777777777778, \"#fb9f3a\"], [0.8888888888888888, \"#fdca26\"], [1.0, \"#f0f921\"]], \"sequentialminus\": [[0.0, \"#0d0887\"], [0.1111111111111111, \"#46039f\"], [0.2222222222222222, \"#7201a8\"], [0.3333333333333333, \"#9c179e\"], [0.4444444444444444, \"#bd3786\"], [0.5555555555555556, \"#d8576b\"], [0.6666666666666666, \"#ed7953\"], [0.7777777777777778, \"#fb9f3a\"], [0.8888888888888888, \"#fdca26\"], [1.0, \"#f0f921\"]]}, \"colorway\": [\"#636efa\", \"#EF553B\", \"#00cc96\", \"#ab63fa\", \"#FFA15A\", \"#19d3f3\", \"#FF6692\", \"#B6E880\", \"#FF97FF\", \"#FECB52\"], \"font\": {\"color\": \"#2a3f5f\"}, \"geo\": {\"bgcolor\": \"white\", \"lakecolor\": \"white\", \"landcolor\": \"#E5ECF6\", \"showlakes\": true, \"showland\": true, \"subunitcolor\": \"white\"}, \"hoverlabel\": {\"align\": \"left\"}, \"hovermode\": \"closest\", \"mapbox\": {\"style\": \"light\"}, \"paper_bgcolor\": \"white\", \"plot_bgcolor\": \"#E5ECF6\", \"polar\": {\"angularaxis\": {\"gridcolor\": \"white\", \"linecolor\": \"white\", \"ticks\": \"\"}, \"bgcolor\": \"#E5ECF6\", \"radialaxis\": {\"gridcolor\": \"white\", \"linecolor\": \"white\", \"ticks\": \"\"}}, \"scene\": {\"xaxis\": {\"backgroundcolor\": \"#E5ECF6\", \"gridcolor\": \"white\", \"gridwidth\": 2, \"linecolor\": \"white\", \"showbackground\": true, \"ticks\": \"\", \"zerolinecolor\": \"white\"}, \"yaxis\": {\"backgroundcolor\": \"#E5ECF6\", \"gridcolor\": \"white\", \"gridwidth\": 2, \"linecolor\": \"white\", \"showbackground\": true, \"ticks\": \"\", \"zerolinecolor\": \"white\"}, \"zaxis\": {\"backgroundcolor\": \"#E5ECF6\", \"gridcolor\": \"white\", \"gridwidth\": 2, \"linecolor\": \"white\", \"showbackground\": true, \"ticks\": \"\", \"zerolinecolor\": \"white\"}}, \"shapedefaults\": {\"line\": {\"color\": \"#2a3f5f\"}}, \"ternary\": {\"aaxis\": {\"gridcolor\": \"white\", \"linecolor\": \"white\", \"ticks\": \"\"}, \"baxis\": {\"gridcolor\": \"white\", \"linecolor\": \"white\", \"ticks\": \"\"}, \"bgcolor\": \"#E5ECF6\", \"caxis\": {\"gridcolor\": \"white\", \"linecolor\": \"white\", \"ticks\": \"\"}}, \"title\": {\"x\": 0.05}, \"xaxis\": {\"automargin\": true, \"gridcolor\": \"white\", \"linecolor\": \"white\", \"ticks\": \"\", \"title\": {\"standoff\": 15}, \"zerolinecolor\": \"white\", \"zerolinewidth\": 2}, \"yaxis\": {\"automargin\": true, \"gridcolor\": \"white\", \"linecolor\": \"white\", \"ticks\": \"\", \"title\": {\"standoff\": 15}, \"zerolinecolor\": \"white\", \"zerolinewidth\": 2}}}, \"xaxis\": {\"anchor\": \"y\", \"domain\": [0.0, 1.0], \"title\": {\"text\": \"differentDaysList\"}}, \"yaxis\": {\"anchor\": \"x\", \"domain\": [0.0, 1.0], \"title\": {\"text\": \"count\"}}},\n",
              "                        {\"responsive\": true}\n",
              "                    ).then(function(){\n",
              "                            \n",
              "var gd = document.getElementById('b331ac2f-50d2-494b-876d-7d35f2acb35c');\n",
              "var x = new MutationObserver(function (mutations, observer) {{\n",
              "        var display = window.getComputedStyle(gd).display;\n",
              "        if (!display || display === 'none') {{\n",
              "            console.log([gd, 'removed!']);\n",
              "            Plotly.purge(gd);\n",
              "            observer.disconnect();\n",
              "        }}\n",
              "}});\n",
              "\n",
              "// Listen for the removal of the full notebook cells\n",
              "var notebookContainer = gd.closest('#notebook-container');\n",
              "if (notebookContainer) {{\n",
              "    x.observe(notebookContainer, {childList: true});\n",
              "}}\n",
              "\n",
              "// Listen for the clearing of the current output cell\n",
              "var outputEl = gd.closest('.output');\n",
              "if (outputEl) {{\n",
              "    x.observe(outputEl, {childList: true});\n",
              "}}\n",
              "\n",
              "                        })\n",
              "                };\n",
              "                \n",
              "            </script>\n",
              "        </div>\n",
              "</body>\n",
              "</html>"
            ]
          },
          "metadata": {
            "tags": []
          }
        }
      ]
    },
    {
      "cell_type": "markdown",
      "metadata": {
        "id": "r9S1wjjCuu89"
      },
      "source": [
        "##2. Preparação de Dados\n",
        "<a id='preparo'></a>"
      ]
    },
    {
      "cell_type": "code",
      "metadata": {
        "id": "PuPFoSjMvBNL"
      },
      "source": [
        ""
      ],
      "execution_count": null,
      "outputs": []
    },
    {
      "cell_type": "markdown",
      "metadata": {
        "id": "oPh-k3-fR_zP"
      },
      "source": [
        "##3. Métricas de Avaliação\n",
        "<a id='metricas'></a>"
      ]
    },
    {
      "cell_type": "markdown",
      "metadata": {
        "id": "jPXy0iQtzn75"
      },
      "source": [
        "\n",
        "#### <center>Métricas de Avaliação:\n",
        "| Regressores | Classificadores\n",
        "| --- | --- |\n",
        "| <center>RMSE| <center>Matriz de Confusão |\n",
        "| <center>MAE| <center>Acurácia |\n",
        "| <center>R2| <center>Precisão / Recall / F1 |\n",
        "| <center>R2 Ajustado| <center>AUC |\n",
        "\n",
        "\n"
      ]
    },
    {
      "cell_type": "markdown",
      "metadata": {
        "id": "AEJF9bZMSZpk"
      },
      "source": [
        "##4. Modelagem\n",
        "<a id='#modelagem'></a>"
      ]
    },
    {
      "cell_type": "markdown",
      "metadata": {
        "id": "L4zVFwlFZUjt"
      },
      "source": [
        "Dicionário com hiper-parâmetros dos algoritmos preditivos"
      ]
    },
    {
      "cell_type": "code",
      "metadata": {
        "id": "yAeVjRatU2xs"
      },
      "source": [
        "hyperparameters = [\n",
        "                  {\"clf\":[RandomForestClassifier()],\n",
        "                  \"clf__n_estimators\": [100],\n",
        "                  \"clf__criterion\": [\"entropy\"],\n",
        "                  \"clf__max_leaf_nodes\": [64],\n",
        "                  \"clf__random_state\": [42],\n",
        "                  \"fs__score_func\":[chi2],\n",
        "                  \"fs__k\":[4,9,15,30]\n",
        "                  },\n",
        "              \n",
        "                  {\"clf\":[KNeighborsClassifier()],\n",
        "                  \"clf__n_neighbors\":[5,9,11],\n",
        "                  \"fs__score_func\":[chi2],\n",
        "                  \"fs__k\":[4,9,15,30]                 \n",
        "                  },\n",
        "              \n",
        "                  {\"clf\":[SVC()],\n",
        "                  \"clf__kernel\":[\"sigmoid\",'rbf'],\n",
        "                  \"clf__degree\":[3,4],\n",
        "                  \"clf__gamma\":[0.1,0.5,1],\n",
        "                  \"clf__C\":[0.001,1,2],\n",
        "                  \"fs__score_func\":[chi2],\n",
        "                  \"fs__k\":[4,9,15,25,31] \n",
        "                  },\n",
        "              \n",
        "                  {\"clf\":[GaussianNB()]\n",
        "                  },\n",
        "              \n",
        "                  {\"clf\":[MLPClassifier()],\n",
        "                  \"clf__hidden_layer_sizes\": [(64,),(128,)],\n",
        "                  \"clf__activation\": [\"logistic\"],\n",
        "                  \"clf__solver\": [\"sgd\"],\n",
        "                  \"clf__max_iter\": [500],\n",
        "                  \"clf__early_stopping\":[True],\n",
        "                  \"clf__n_iter_no_change\":[20],\n",
        "                  \"clf__validation_fraction\":[0.20], \n",
        "                  },\n",
        "              \n",
        "                  {\"clf\":[XGBClassifier()],\n",
        "                  \"clf__n_estimators\": [50,100],\n",
        "                  \"clf__max_depth\": [4,6],\n",
        "                  \"clf__learning_rate\": [0.001, 0.01,0.1],\n",
        "                  \"clf__random_state\": [42],\n",
        "                  \"clf__subsample\": [1.0],\n",
        "                  \"clf__colsample_bytree\": [1.0],\n",
        "                  \"fs__score_func\":[chi2],\n",
        "                  \"fs__k\":[5,8,15,25,31]\n",
        "                  }\n",
        "  ]"
      ],
      "execution_count": null,
      "outputs": []
    },
    {
      "cell_type": "markdown",
      "metadata": {
        "id": "B4rJ_jPviRsl"
      },
      "source": [
        "##5. Avaliação dos Modelos\n",
        "<a id='avaliacao'></a>\n",
        "\n",
        "### [5.1 Chamada da Função](#chamada)\n",
        "### [5.2 Teste de Modelo](#teste)"
      ]
    },
    {
      "cell_type": "markdown",
      "metadata": {
        "id": "YxO10k-KJnZq"
      },
      "source": [
        "###5.1 Chamada da Função\n",
        "<a id='chamada'></a>"
      ]
    },
    {
      "cell_type": "code",
      "metadata": {
        "id": "a54d338IldVz"
      },
      "source": [
        "(df_relatorio, model_param_disciplinas) = avaliar_modelos(df, hyperparameters)"
      ],
      "execution_count": null,
      "outputs": []
    },
    {
      "cell_type": "code",
      "metadata": {
        "id": "_RgZO6QU0YH1"
      },
      "source": [
        "df_relatorio.head()"
      ],
      "execution_count": null,
      "outputs": []
    },
    {
      "cell_type": "code",
      "metadata": {
        "id": "dCcRXPWv0eAL"
      },
      "source": [
        "model_param_disciplinas"
      ],
      "execution_count": null,
      "outputs": []
    },
    {
      "cell_type": "markdown",
      "metadata": {
        "id": "DmuLGrPKFv1c"
      },
      "source": [
        "###5.2 Teste de Modelo\n",
        "<a id='teste'></a>"
      ]
    },
    {
      "cell_type": "markdown",
      "metadata": {
        "id": "X9GMVe3bUsvS"
      },
      "source": [
        "Importando Modelo"
      ]
    },
    {
      "cell_type": "code",
      "metadata": {
        "id": "uchPDLEsUvt5"
      },
      "source": [
        "modelo_teste = joblib.load('modelo_.pkl')"
      ],
      "execution_count": null,
      "outputs": []
    },
    {
      "cell_type": "markdown",
      "metadata": {
        "id": "-lcNJROjYtth"
      },
      "source": [
        "Aplicando a transformação no teste"
      ]
    },
    {
      "cell_type": "code",
      "metadata": {
        "id": "wgKRWABoBfVb"
      },
      "source": [
        "num_transf = NumericalTransformer()\n",
        "df_teste = model.transform(df)"
      ],
      "execution_count": null,
      "outputs": []
    },
    {
      "cell_type": "code",
      "metadata": {
        "id": "jte7qW39ZR8V"
      },
      "source": [
        "df_teste.head(2)"
      ],
      "execution_count": null,
      "outputs": []
    },
    {
      "cell_type": "markdown",
      "metadata": {
        "id": "j8Qb55Di8IkC"
      },
      "source": [
        "Realizando teste de um modelo, prevendo probabilidade de ser aprovado"
      ]
    },
    {
      "cell_type": "code",
      "metadata": {
        "id": "LLooF6-vaQ7C"
      },
      "source": [
        "df_teste.iloc[42,:]"
      ],
      "execution_count": null,
      "outputs": []
    },
    {
      "cell_type": "code",
      "metadata": {
        "id": "3zusMtVzabUZ"
      },
      "source": [
        "df_teste.info()"
      ],
      "execution_count": null,
      "outputs": []
    },
    {
      "cell_type": "code",
      "metadata": {
        "id": "sTg3Zgf-YrEm"
      },
      "source": [
        "modelo_teste.predict(df_teste.iloc[42,:])"
      ],
      "execution_count": null,
      "outputs": []
    },
    {
      "cell_type": "markdown",
      "metadata": {
        "id": "PGR1IWltjEKS"
      },
      "source": [
        "##6. Conclusão e Recomendações\n",
        "<a id='conclusao'></a>"
      ]
    },
    {
      "cell_type": "markdown",
      "metadata": {
        "id": "A-JlYcDhvmg4"
      },
      "source": [
        ""
      ]
    },
    {
      "cell_type": "markdown",
      "metadata": {
        "id": "7bW-MMNpvndY"
      },
      "source": [
        "##7. Implementações\n",
        "<a id='implementacoes'></a>"
      ]
    },
    {
      "cell_type": "markdown",
      "metadata": {
        "id": "923SZs_xHA-X"
      },
      "source": [
        "Exemplo de classe que comunica as funcões entre si"
      ]
    },
    {
      "cell_type": "code",
      "metadata": {
        "id": "uWl9GkduHAYv"
      },
      "source": [
        "class lopv2: # perfeicao\r\n",
        "  def __init__(self):\r\n",
        "    pass\r\n",
        "  def imprime(self, var):\r\n",
        "    return print(var)  \r\n",
        "  def chama(self, var):\r\n",
        "    self.imprime(var)"
      ],
      "execution_count": null,
      "outputs": []
    },
    {
      "cell_type": "markdown",
      "metadata": {
        "id": "hTaQ9mE6Hfb5"
      },
      "source": [
        "Classe que armazena as funções para a API"
      ]
    },
    {
      "cell_type": "code",
      "metadata": {
        "id": "nsrtNGpnHbbP"
      },
      "source": [
        "import pandas as pd\r\n",
        "import numpy as np\r\n",
        "import json\r\n",
        "import urllib3\r\n",
        "urllib3.disable_warnings()\r\n",
        "\r\n",
        "class lop:\r\n",
        "  \r\n",
        "  def __init__(self):\r\n",
        "    pass\r\n",
        "    \r\n",
        "  def read_txt(self, path):\r\n",
        "    with open(path,'r') as file:\r\n",
        "      return file.read()\r\n",
        "\r\n",
        "  def lop_consult(self, url):\r\n",
        "    http = urllib3.PoolManager()\r\n",
        "    req = http.request('GET',url)\r\n",
        "    if req.status == 200:\r\n",
        "      return pd.read_json(req.data, orient = 'RECORDS', encoding = 'utf-8').copy()\r\n",
        "    else: \r\n",
        "      return False    \r\n",
        "\r\n",
        "  #Modificação em relação a função original, aqui precisar passar por parâmetro o endpoint e a key    \r\n",
        "  def lop_question(self, endpoint_question, key):\r\n",
        "    url_question = endpoint_question + key\r\n",
        "    df_lop_question = self.lop_consult(url_question)\r\n",
        "    df_lop_question.rename(columns = {'id':'id_question','title':'question'}, inplace = True)\r\n",
        "    return df_lop_question\r\n",
        "\r\n",
        "  #Modificação em relação a função original, aqui precisar passar por parâmetro o endpoint e a key  \r\n",
        "  def question_data(self, endpoint_question, key, df_question = pd.DataFrame()):\r\n",
        "    #Essa função se passar por cópia o df_question se torna desnecessário fazer a requisição de todas as turmas usando a função lop_question()\r\n",
        "    #Dataframes onde serão armazenados todas as questões transformadas\r\n",
        "    df_list_data = pd.DataFrame()  \r\n",
        "    df_tag_data = pd.DataFrame()  \r\n",
        "    df_question_data = pd.DataFrame()  \r\n",
        "    if df_question.empty == True:\r\n",
        "      df_question = self.lop_question(endpoint_question,key)\r\n",
        "    for question,lists,tags,difficulty in zip(df_question['question'],df_question['lists'],df_question['tags'],df_question['difficulty']):\r\n",
        "      #Cada registro do json pode ficar com mais de uma lista associada a uma questão, por isso a necessidade de extrair\r\n",
        "      df_prov_lists  = pd.DataFrame(json.loads(str(lists).replace(\"'\",'\"')))\r\n",
        "      #df_prov_lists.rename(columns = {'id':'id_list','title':'list'}, inplace = True)\r\n",
        "      #Inserindo a questão associada\r\n",
        "      df_prov_lists['question'] = question\r\n",
        "      df_prov_lists['difficulty'] = difficulty\r\n",
        "      df_list_data = df_list_data.append(df_prov_lists, ignore_index = True).copy()\r\n",
        "      #Extraindo as tags, que vão dizer o conteudo associado\r\n",
        "      df_prov_tags = pd.DataFrame(json.loads(str(tags).replace(\"'\",'\"'))).T\r\n",
        "      #Inserindo a questão associada\r\n",
        "      df_prov_tags['question'] = question    \r\n",
        "      df_tag_data = df_tag_data.append(df_prov_tags, ignore_index = True).copy()\r\n",
        "    df_list_data.rename(columns = {'id':'id_list','title':'list'}, inplace = True)\r\n",
        "    #df_list_data['difficulty'] = df_list_data['difficulty'].astype('int')\r\n",
        "    columns_tags = ['question']\r\n",
        "    for i in range(len(df_tag_data.columns)-1): columns_tags.append('tag'+str(i+1))\r\n",
        "    df_tag_data.columns = columns_tags\r\n",
        "    return pd.merge(df_list_data, df_tag_data, on = 'question', how = 'outer').fillna(0).copy()\r\n"
      ],
      "execution_count": null,
      "outputs": []
    },
    {
      "cell_type": "markdown",
      "metadata": {
        "id": "ARXhhB39jAMp"
      },
      "source": [
        "Modelo de Json para resposta da API"
      ]
    },
    {
      "cell_type": "code",
      "metadata": {
        "id": "-bcNUiIDvzTt"
      },
      "source": [
        "{\n",
        "\"graph1\": [\n",
        "     {\n",
        "        \"list\": \"IMD0012 - 2020.6: Lista Obrigatória, Semana 1\",\n",
        "        \"more70\": 27.0,\n",
        "        \"less70\": 8\n",
        "     },\n",
        "  ],\n",
        "\"graph2\": [\n",
        "      {\n",
        "        \"user\": \"Adailton Aquino dos Santos \",\n",
        "        \"registration\": \" 20180070994\",\n",
        "        \"IMD0012 - 2020.6: Lista Obrigatória, Semana 1\": 0.0,\n",
        "        \"IMD0012 - 2020.6: Lista Preparatória, Semana 3\": 0.0,\n",
        "        \"ITP - Alocação dinâmica\": 0.0,\n",
        "        \"ITP - Funções - Lista\": 0.0,\n",
        "         ...\n",
        "      },\n",
        "  ],\n",
        "}\n",
        "\n",
        "'''"
      ],
      "execution_count": null,
      "outputs": []
    },
    {
      "cell_type": "code",
      "metadata": {
        "colab": {
          "base_uri": "https://localhost:8080/",
          "height": 35
        },
        "id": "Oa0LAzULtiqz",
        "outputId": "fc4a2957-5c85-4169-b9cc-9285224d4713"
      },
      "source": [
        "json.loads(a)"
      ],
      "execution_count": null,
      "outputs": [
        {
          "output_type": "execute_result",
          "data": {
            "application/vnd.google.colaboratory.intrinsic+json": {
              "type": "string"
            },
            "text/plain": [
              "'{\"g1\":[{123}],\"g2\":[{456}],\"g3\":[{789}]}'"
            ]
          },
          "metadata": {
            "tags": []
          },
          "execution_count": 10
        }
      ]
    },
    {
      "cell_type": "code",
      "metadata": {
        "id": "NUe5Eikb26io"
      },
      "source": [
        "g1 = '{123}'\r\n",
        "g2 = '{456}'\r\n",
        "g3 = '{789}'\r\n",
        "name_graphs = ['\"g1\"','\"g2\"','\"g3\"']\r\n",
        "graphs = [g1,g2,g3]\r\n",
        "string = '{'\r\n",
        "for name, graph in zip(name_graphs,graphs):\r\n",
        "  string = string + name + ':[' + graph + '],'\r\n",
        "string = string[:-1] + '}'"
      ],
      "execution_count": null,
      "outputs": []
    },
    {
      "cell_type": "code",
      "metadata": {
        "id": "a74t_UY9saLg"
      },
      "source": [
        "import json"
      ],
      "execution_count": null,
      "outputs": []
    },
    {
      "cell_type": "code",
      "metadata": {
        "id": "M3GnhNpUrAYC"
      },
      "source": [
        "json.loads(string)"
      ],
      "execution_count": null,
      "outputs": []
    },
    {
      "cell_type": "code",
      "metadata": {
        "id": "XBftGU3h5z9l"
      },
      "source": [
        "a = json.dumps(string)"
      ],
      "execution_count": null,
      "outputs": []
    },
    {
      "cell_type": "markdown",
      "metadata": {
        "id": "ETRJhlT_OjDh"
      },
      "source": [
        "Listas e provas"
      ]
    },
    {
      "cell_type": "code",
      "metadata": {
        "id": "UMmUAv36h3yu"
      },
      "source": [
        "def performance_list_test(df_submission, listORtest, df_lop_lists, df_question_data = pd.DataFrame()):  #depois df_lop_tests\r\n",
        "#Essa função necessita receber as submissões de uma turma ---------- depois podemos incrementar essa função ao ter uma turma associada e agrupar por elas\r\n",
        "  \r\n",
        "  if listORtest == 'list':\r\n",
        "    #Me traz as porcentagens maximas de acerto por questão\r\n",
        "    df_performance = df_submission.groupby(['user','registration','list','question'])['hitPercentage'].max().reset_index()\r\n",
        "    #Soma as porcentagens de uma lista/prova unica\r\n",
        "    df_performance = df_performance.groupby(['user','registration','list'])['hitPercentage'].sum().reset_index()\r\n",
        "    #Renomeando para melhorar entendimento\r\n",
        "    df_performance.rename(columns={'hitPercentage':'totalHitPercentage'}, inplace = True)\r\n",
        "    #Listas cadastradas nessa turma\r\n",
        "    lists = df_lop_lists['list'].drop_duplicates().values\r\n",
        "    #Lista de alunos\r\n",
        "    df_without_duplicates = df_submission.drop_duplicates(subset=['registration'])\r\n",
        "    df_without_duplicates = df_without_duplicates[['user','registration']]\r\n",
        "    df_prov = pd.DataFrame()\r\n",
        "    for lista in lists:\r\n",
        "      df_users = df_without_duplicates.copy()\r\n",
        "      df_users['list'] = lista\r\n",
        "      df_prov = df_prov.append(df_users)   \r\n",
        "    df_performance = pd.merge(df_performance,df_prov, on=['user','registration','list'], how='outer')#.fillna(0)  \r\n",
        "    #Agrupa por lista e questão para ter apenas uma questão de cada, a operação não importa muito, apenas existe para completar o agrupamento --------- pode ser uma boa trocar por drop_duplicates\r\n",
        "    df_question_data = df_question_data.groupby(['list','question'])['id_list'].count().reset_index()\r\n",
        "    #Conta quantas questões tem por lista\r\n",
        "    df_question_data = df_question_data.groupby(['list'])['question'].count().reset_index()\r\n",
        "    #Renomeando lista\r\n",
        "    df_question_data.rename(columns={'question':'totalQuestionslist'}, inplace = True)\r\n",
        "    #Merge\r\n",
        "    df_performance = df_performance.merge(df_question_data, on = 'list')\r\n",
        "    #Média de acerto por lista\r\n",
        "    df_performance['medialist'] = df_performance['totalHitPercentage'] / df_performance['totalQuestionslist']\r\n",
        "    #Convertendo para datetime\r\n",
        "    df_lop_lists['createdAt'] = pd.to_datetime(df_lop_lists['createdAt'])\r\n",
        "    #Criando campo com a data\r\n",
        "    df_lop_lists['dateList'] = df_lop_lists['createdAt'].dt.date\r\n",
        "    #Merge\r\n",
        "    df_performance = pd.merge(df_performance, df_lop_lists.drop(columns = ['author','createdAt']), on='list')\r\n",
        "  \r\n",
        "  elif listORtest == 'test':\r\n",
        "    #Me traz as porcentagens maximas de acerto por questão\r\n",
        "    df_performance = df_submission.groupby(['user','registration','test','question'])['hitPercentage'].max().reset_index()\r\n",
        "    #Soma as porcentagens de uma lista/prova unica\r\n",
        "    df_performance = df_performance.groupby(['user','registration','test'])['hitPercentage'].sum().reset_index()\r\n",
        "    #Renomeando para melhorar entendimento\r\n",
        "    df_performance.rename(columns={'hitPercentage':'totalHitPercentage'}, inplace = True)\r\n",
        "    #Provas cadastradas nessa turma\r\n",
        "    tests = df_lop_tests['test'].drop_duplicates().values #-----------------------------------------------------precisa urgente -------------------------\r\n",
        "    #Lista de alunos\r\n",
        "    df_without_duplicates = df_submission.drop_duplicates(subset=['registration'])\r\n",
        "    df_without_duplicates = df_without_duplicates[['user','registration']]\r\n",
        "    df_prov = pd.DataFrame()\r\n",
        "    for test in tests:\r\n",
        "      df_users = df_without_duplicates.copy()\r\n",
        "      df_users['test'] = teste\r\n",
        "      df_prov = df_prov.append(df_users)   \r\n",
        "    df_performance = pd.merge(df_performance,df_prov, on=['user','registration','test'], how='outer')#.fillna(0) \r\n",
        "    #Agrupa por prova e questão para ter apenas uma questão de cada, a operação não importa muito, apenas existe para completar o agrupamento --------- pode ser uma boa trocar por drop_duplicates\r\n",
        "    df_question_data = df_question_data.groupby(['test','question'])['id_test'].count().reset_index()\r\n",
        "    #Conta quantas questões tem por prova\r\n",
        "    df_question_data = df_question_data.groupby(['test'])['question'].count().reset_index()\r\n",
        "    #Renomeando prova\r\n",
        "    df_question_data.rename(columns={'question':'totalQuestionstest'}, inplace = True)\r\n",
        "    #Merge\r\n",
        "    df_performance = df_performance.merge(df_question_data, on = 'test')\r\n",
        "    #Média de acerto por prova\r\n",
        "    df_performance['mediatest'] = df_performance['totalHitPercentage'] / df_performance['totalQuestionstest']  \r\n",
        "    #Convertendo para datetime\r\n",
        "    df_lop_tests['createdAt'] = pd.to_datetime(df_lop_tests['createdAt'])\r\n",
        "    #Criando campo com a data\r\n",
        "    df_lop_tests['dateTest'] = df_lop_tests['createdAt'].dt.date\r\n",
        "    #Merge\r\n",
        "    df_performance = pd.merge(df_performance, df_lop_tests.drop(columns = ['author','shortTitle','createdAt']), on='test')\r\n",
        "  return df_performance"
      ],
      "execution_count": 68,
      "outputs": []
    },
    {
      "cell_type": "code",
      "metadata": {
        "colab": {
          "base_uri": "https://localhost:8080/",
          "height": 204
        },
        "id": "1EtBMyf_OqRW",
        "outputId": "ffedc5b3-be71-4dc4-e1cb-ceb02ec20f7b"
      },
      "source": [
        "df_performance_list = performance_list_test(df_submission, 'list', df_lop_lists, df_question_data)\r\n",
        "df_performance_list.head()"
      ],
      "execution_count": 70,
      "outputs": [
        {
          "output_type": "execute_result",
          "data": {
            "text/html": [
              "<div>\n",
              "<style scoped>\n",
              "    .dataframe tbody tr th:only-of-type {\n",
              "        vertical-align: middle;\n",
              "    }\n",
              "\n",
              "    .dataframe tbody tr th {\n",
              "        vertical-align: top;\n",
              "    }\n",
              "\n",
              "    .dataframe thead th {\n",
              "        text-align: right;\n",
              "    }\n",
              "</style>\n",
              "<table border=\"1\" class=\"dataframe\">\n",
              "  <thead>\n",
              "    <tr style=\"text-align: right;\">\n",
              "      <th></th>\n",
              "      <th>user</th>\n",
              "      <th>registration</th>\n",
              "      <th>list</th>\n",
              "      <th>totalHitPercentage</th>\n",
              "      <th>totalQuestionslist</th>\n",
              "      <th>medialist</th>\n",
              "      <th>id_list</th>\n",
              "      <th>shortTitle</th>\n",
              "      <th>dateList</th>\n",
              "    </tr>\n",
              "  </thead>\n",
              "  <tbody>\n",
              "    <tr>\n",
              "      <th>0</th>\n",
              "      <td>Allef Vinicius</td>\n",
              "      <td>20180069714</td>\n",
              "      <td>IMD0012 - 2020.6: Lista Obrigatória, Semana 1</td>\n",
              "      <td>300.0</td>\n",
              "      <td>3</td>\n",
              "      <td>100.000000</td>\n",
              "      <td>1415f543-dd94-4e9e-a594-b4396b01093e</td>\n",
              "      <td>I2LOS1</td>\n",
              "      <td>2020-08-19</td>\n",
              "    </tr>\n",
              "    <tr>\n",
              "      <th>1</th>\n",
              "      <td>André Luiz Rodrigues Soares</td>\n",
              "      <td>20180001960</td>\n",
              "      <td>IMD0012 - 2020.6: Lista Obrigatória, Semana 1</td>\n",
              "      <td>300.0</td>\n",
              "      <td>3</td>\n",
              "      <td>100.000000</td>\n",
              "      <td>1415f543-dd94-4e9e-a594-b4396b01093e</td>\n",
              "      <td>I2LOS1</td>\n",
              "      <td>2020-08-19</td>\n",
              "    </tr>\n",
              "    <tr>\n",
              "      <th>2</th>\n",
              "      <td>Arthur Learth</td>\n",
              "      <td>20180071294</td>\n",
              "      <td>IMD0012 - 2020.6: Lista Obrigatória, Semana 1</td>\n",
              "      <td>80.0</td>\n",
              "      <td>3</td>\n",
              "      <td>26.666667</td>\n",
              "      <td>1415f543-dd94-4e9e-a594-b4396b01093e</td>\n",
              "      <td>I2LOS1</td>\n",
              "      <td>2020-08-19</td>\n",
              "    </tr>\n",
              "    <tr>\n",
              "      <th>3</th>\n",
              "      <td>Deborah Dantas</td>\n",
              "      <td>20190036691</td>\n",
              "      <td>IMD0012 - 2020.6: Lista Obrigatória, Semana 1</td>\n",
              "      <td>300.0</td>\n",
              "      <td>3</td>\n",
              "      <td>100.000000</td>\n",
              "      <td>1415f543-dd94-4e9e-a594-b4396b01093e</td>\n",
              "      <td>I2LOS1</td>\n",
              "      <td>2020-08-19</td>\n",
              "    </tr>\n",
              "    <tr>\n",
              "      <th>4</th>\n",
              "      <td>Dimitri Lima</td>\n",
              "      <td>Ufrn</td>\n",
              "      <td>IMD0012 - 2020.6: Lista Obrigatória, Semana 1</td>\n",
              "      <td>200.0</td>\n",
              "      <td>3</td>\n",
              "      <td>66.666667</td>\n",
              "      <td>1415f543-dd94-4e9e-a594-b4396b01093e</td>\n",
              "      <td>I2LOS1</td>\n",
              "      <td>2020-08-19</td>\n",
              "    </tr>\n",
              "  </tbody>\n",
              "</table>\n",
              "</div>"
            ],
            "text/plain": [
              "                           user  registration  ... shortTitle    dateList\n",
              "0               Allef Vinicius    20180069714  ...     I2LOS1  2020-08-19\n",
              "1  André Luiz Rodrigues Soares    20180001960  ...     I2LOS1  2020-08-19\n",
              "2                Arthur Learth    20180071294  ...     I2LOS1  2020-08-19\n",
              "3               Deborah Dantas    20190036691  ...     I2LOS1  2020-08-19\n",
              "4                 Dimitri Lima           Ufrn  ...     I2LOS1  2020-08-19\n",
              "\n",
              "[5 rows x 9 columns]"
            ]
          },
          "metadata": {
            "tags": []
          },
          "execution_count": 70
        }
      ]
    },
    {
      "cell_type": "code",
      "metadata": {
        "id": "Jrg3NIcVoSah"
      },
      "source": [
        "def graph_more_less_list_test_class(df_performance_list_test, df_class, data, value = 70.0, listORtest = 'list'):#value == 70 ou outro numero\r\n",
        "  if listORtest == 'list':\r\n",
        "    #Aqui eu conto, por lista, quantos tiraram mais de % de acerto escolhida\r\n",
        "    df_more = df_performance_list_test[df_performance_list_test['medialist'] >= value].groupby(['list','shortTitle','dateList'])['medialist'].count().reset_index(name='more')\r\n",
        "    #E nesse conta quantos tiveram menos da % escolhida\r\n",
        "    df_less = df_performance_list_test[df_performance_list_test['medialist'] < value].groupby(['list','shortTitle','dateList'])['medialist'].count().reset_index(name='less')  \r\n",
        "    #Aqui junta ambos os dataframes, usando o outer, que, se por acaso não tiver uma ocorrência de uma lista em um dos dataframes, mesmo assim eles vão ser adicionados, é união dos conjuntos\r\n",
        "    df_less_more = pd.merge(df_more, df_less, on = ['list', 'shortTitle','dateList'], how = 'outer')\r\n",
        "  elif listORtest == 'test':  \r\n",
        "    #Aqui eu conto, por lista, quantos tiraram mais de % de acerto escolhida\r\n",
        "    df_more = df_performance_list_test[df_performance_list_test['mediatest'] >= value].groupby(['test','shortTitle','dateTest'])['mediatest'].count().reset_index(name='more')\r\n",
        "    #E nesse conta quantos tiveram menos da % escolhida\r\n",
        "    df_less = df_performance_list_test[df_performance_list_test['mediatest'] < value].groupby(['test','shortTitle','dateTest'])['mediatest'].count().reset_index(name='less')\r\n",
        "    #Aqui junta ambos os dataframes, usando o outer, que, se por acaso não tiver uma ocorrência de uma prova em um dos dataframes, mesmo assim eles vão ser adicionados, é união dos conjuntos\r\n",
        "    df_less_more = pd.merge(df_more, df_less, on = ['test', 'shortTitle', 'dateTest'], how = 'outer')\r\n",
        "  #E, se caso acontecer a situação de um não existir, substituimos o nan por 0\r\n",
        "  df_less_more.replace(np.NaN, 0, inplace = True)\r\n",
        "  #Total de alunos na turma\r\n",
        "  total = df_class.loc[df_class['id_class'] == data.iloc[0,0],'studentsCount'].max()\r\n",
        "  df_less_more['missing'] = total - (df_less_more['more'] + df_less_more['less'])\r\n",
        "  if listORtest == 'list': \r\n",
        "    return df_less_more.sort_values(by='dateList')#.to_json(force_ascii=False, orient='records') \r\n",
        "  elif listORtest == 'test': \r\n",
        "    return df_less_more.sort_values(by='dateTest')#.to_json(force_ascii=False, orient='records')   "
      ],
      "execution_count": 104,
      "outputs": []
    },
    {
      "cell_type": "code",
      "metadata": {
        "colab": {
          "base_uri": "https://localhost:8080/",
          "height": 390
        },
        "id": "Y1X_h2KjPDNz",
        "outputId": "09ad565b-9deb-4a73-d311-84630b92fb07"
      },
      "source": [
        "graph_more_less_list_test_class(df_performance_list, df_class, data, value = 70.0, listORtest = 'list')"
      ],
      "execution_count": 105,
      "outputs": [
        {
          "output_type": "execute_result",
          "data": {
            "text/html": [
              "<div>\n",
              "<style scoped>\n",
              "    .dataframe tbody tr th:only-of-type {\n",
              "        vertical-align: middle;\n",
              "    }\n",
              "\n",
              "    .dataframe tbody tr th {\n",
              "        vertical-align: top;\n",
              "    }\n",
              "\n",
              "    .dataframe thead th {\n",
              "        text-align: right;\n",
              "    }\n",
              "</style>\n",
              "<table border=\"1\" class=\"dataframe\">\n",
              "  <thead>\n",
              "    <tr style=\"text-align: right;\">\n",
              "      <th></th>\n",
              "      <th>list</th>\n",
              "      <th>shortTitle</th>\n",
              "      <th>dateList</th>\n",
              "      <th>more</th>\n",
              "      <th>less</th>\n",
              "      <th>missing</th>\n",
              "    </tr>\n",
              "  </thead>\n",
              "  <tbody>\n",
              "    <tr>\n",
              "      <th>0</th>\n",
              "      <td>IMD0012 - 2020.6: Lista Obrigatória, Semana 1</td>\n",
              "      <td>I2LOS1</td>\n",
              "      <td>2020-08-19</td>\n",
              "      <td>22.0</td>\n",
              "      <td>7</td>\n",
              "      <td>12.0</td>\n",
              "    </tr>\n",
              "    <tr>\n",
              "      <th>4</th>\n",
              "      <td>ITP - Laços</td>\n",
              "      <td>IL</td>\n",
              "      <td>2020-09-07</td>\n",
              "      <td>17.0</td>\n",
              "      <td>3</td>\n",
              "      <td>21.0</td>\n",
              "    </tr>\n",
              "    <tr>\n",
              "      <th>1</th>\n",
              "      <td>IMD0012 - 2020.6: Lista Preparatória, Semana 3</td>\n",
              "      <td>I2LPS3</td>\n",
              "      <td>2020-09-12</td>\n",
              "      <td>7.0</td>\n",
              "      <td>7</td>\n",
              "      <td>27.0</td>\n",
              "    </tr>\n",
              "    <tr>\n",
              "      <th>8</th>\n",
              "      <td>ITP - Strings - Lista</td>\n",
              "      <td>ISL</td>\n",
              "      <td>2020-09-22</td>\n",
              "      <td>6.0</td>\n",
              "      <td>2</td>\n",
              "      <td>33.0</td>\n",
              "    </tr>\n",
              "    <tr>\n",
              "      <th>3</th>\n",
              "      <td>ITP - Funções - Lista</td>\n",
              "      <td>IFL</td>\n",
              "      <td>2020-10-02</td>\n",
              "      <td>4.0</td>\n",
              "      <td>5</td>\n",
              "      <td>32.0</td>\n",
              "    </tr>\n",
              "    <tr>\n",
              "      <th>7</th>\n",
              "      <td>ITP - Recursão - Lista</td>\n",
              "      <td>IRL</td>\n",
              "      <td>2020-10-08</td>\n",
              "      <td>2.0</td>\n",
              "      <td>1</td>\n",
              "      <td>38.0</td>\n",
              "    </tr>\n",
              "    <tr>\n",
              "      <th>5</th>\n",
              "      <td>ITP - Matriz - Lista</td>\n",
              "      <td>IML</td>\n",
              "      <td>2020-10-16</td>\n",
              "      <td>5.0</td>\n",
              "      <td>2</td>\n",
              "      <td>34.0</td>\n",
              "    </tr>\n",
              "    <tr>\n",
              "      <th>6</th>\n",
              "      <td>ITP - Ponteiros 1 - Lista</td>\n",
              "      <td>IP1L</td>\n",
              "      <td>2020-10-20</td>\n",
              "      <td>1.0</td>\n",
              "      <td>2</td>\n",
              "      <td>38.0</td>\n",
              "    </tr>\n",
              "    <tr>\n",
              "      <th>10</th>\n",
              "      <td>ITP - Structs e Enumerações - Lista</td>\n",
              "      <td>ISEEL</td>\n",
              "      <td>2020-10-30</td>\n",
              "      <td>0.0</td>\n",
              "      <td>2</td>\n",
              "      <td>39.0</td>\n",
              "    </tr>\n",
              "    <tr>\n",
              "      <th>9</th>\n",
              "      <td>ITP - Ponteiros 2 -  Lista</td>\n",
              "      <td>IP2L</td>\n",
              "      <td>2020-11-08</td>\n",
              "      <td>0.0</td>\n",
              "      <td>2</td>\n",
              "      <td>39.0</td>\n",
              "    </tr>\n",
              "    <tr>\n",
              "      <th>2</th>\n",
              "      <td>ITP - Alocação dinâmica</td>\n",
              "      <td>IAD</td>\n",
              "      <td>2020-11-15</td>\n",
              "      <td>1.0</td>\n",
              "      <td>6</td>\n",
              "      <td>34.0</td>\n",
              "    </tr>\n",
              "  </tbody>\n",
              "</table>\n",
              "</div>"
            ],
            "text/plain": [
              "                                              list shortTitle  ... less  missing\n",
              "0    IMD0012 - 2020.6: Lista Obrigatória, Semana 1     I2LOS1  ...    7     12.0\n",
              "4                                      ITP - Laços         IL  ...    3     21.0\n",
              "1   IMD0012 - 2020.6: Lista Preparatória, Semana 3     I2LPS3  ...    7     27.0\n",
              "8                            ITP - Strings - Lista        ISL  ...    2     33.0\n",
              "3                            ITP - Funções - Lista        IFL  ...    5     32.0\n",
              "7                           ITP - Recursão - Lista        IRL  ...    1     38.0\n",
              "5                             ITP - Matriz - Lista        IML  ...    2     34.0\n",
              "6                        ITP - Ponteiros 1 - Lista       IP1L  ...    2     38.0\n",
              "10             ITP - Structs e Enumerações - Lista      ISEEL  ...    2     39.0\n",
              "9                       ITP - Ponteiros 2 -  Lista       IP2L  ...    2     39.0\n",
              "2                          ITP - Alocação dinâmica        IAD  ...    6     34.0\n",
              "\n",
              "[11 rows x 6 columns]"
            ]
          },
          "metadata": {
            "tags": []
          },
          "execution_count": 105
        }
      ]
    },
    {
      "cell_type": "code",
      "metadata": {
        "id": "Jwrjy28GGFIO"
      },
      "source": [
        "def graph_performance_student_list_test(df_performance_list_test, listORtest = 'list'):\r\n",
        "  if listORtest == 'list':\r\n",
        "    #Media geral por aluno\r\n",
        "    df_student_media = df_performance_list_test.groupby(['registration'])['medialist'].mean().reset_index(name='studentMediaLists')\r\n",
        "    #Merge\r\n",
        "    df_performance_list_test = pd.merge(df_performance_list_test, df_student_media, on = 'registration')\r\n",
        "    return df_performance_list_test.sort_values(by=['user','dateList']).drop(columns=['totalHitPercentage','totalQuestionslist']).fillna(0)#.to_json(force_ascii=False,orient='records')\r\n",
        "  elif listORtest == 'test':  \r\n",
        "    #Media geral por aluno\r\n",
        "    df_student_media = df_performance_list_test.groupby(['registration'])['mediatest'].mean().reset_index(name='studentMediaTests')\r\n",
        "    #Merge\r\n",
        "    df_performance_list_test = pd.merge(df_performance_list_test, df_student_media, on = 'registration')\r\n",
        "    return df_performance_list_test.sort_values(by=['user','dateTest']).drop(columns=['totalHitPercentage','totalQuestionstest']).fillna(0)#.to_json(force_ascii=False,orient='records')"
      ],
      "execution_count": 108,
      "outputs": []
    },
    {
      "cell_type": "code",
      "metadata": {
        "colab": {
          "base_uri": "https://localhost:8080/",
          "height": 419
        },
        "id": "hbgU19ZhQ3ue",
        "outputId": "b11e0dca-5b5a-479e-cedf-c072fcb16d75"
      },
      "source": [
        "graph_performance_student_list_test(df_performance_list, listORtest = 'list')"
      ],
      "execution_count": 109,
      "outputs": [
        {
          "output_type": "execute_result",
          "data": {
            "text/html": [
              "<div>\n",
              "<style scoped>\n",
              "    .dataframe tbody tr th:only-of-type {\n",
              "        vertical-align: middle;\n",
              "    }\n",
              "\n",
              "    .dataframe tbody tr th {\n",
              "        vertical-align: top;\n",
              "    }\n",
              "\n",
              "    .dataframe thead th {\n",
              "        text-align: right;\n",
              "    }\n",
              "</style>\n",
              "<table border=\"1\" class=\"dataframe\">\n",
              "  <thead>\n",
              "    <tr style=\"text-align: right;\">\n",
              "      <th></th>\n",
              "      <th>user</th>\n",
              "      <th>registration</th>\n",
              "      <th>list</th>\n",
              "      <th>medialist</th>\n",
              "      <th>id_list</th>\n",
              "      <th>shortTitle</th>\n",
              "      <th>dateList</th>\n",
              "      <th>studentMediaLists</th>\n",
              "    </tr>\n",
              "  </thead>\n",
              "  <tbody>\n",
              "    <tr>\n",
              "      <th>363</th>\n",
              "      <td>ANTONIO AUGUSTO DE LIMA SILVA</td>\n",
              "      <td>20180069652</td>\n",
              "      <td>IMD0012 - 2020.6: Lista Obrigatória, Semana 1</td>\n",
              "      <td>0.0</td>\n",
              "      <td>1415f543-dd94-4e9e-a594-b4396b01093e</td>\n",
              "      <td>I2LOS1</td>\n",
              "      <td>2020-08-19</td>\n",
              "      <td>0.0</td>\n",
              "    </tr>\n",
              "    <tr>\n",
              "      <th>366</th>\n",
              "      <td>ANTONIO AUGUSTO DE LIMA SILVA</td>\n",
              "      <td>20180069652</td>\n",
              "      <td>ITP - Laços</td>\n",
              "      <td>0.0</td>\n",
              "      <td>12211c46-2fda-4392-99ce-a0dfc306a5e1</td>\n",
              "      <td>IL</td>\n",
              "      <td>2020-09-07</td>\n",
              "      <td>0.0</td>\n",
              "    </tr>\n",
              "    <tr>\n",
              "      <th>364</th>\n",
              "      <td>ANTONIO AUGUSTO DE LIMA SILVA</td>\n",
              "      <td>20180069652</td>\n",
              "      <td>IMD0012 - 2020.6: Lista Preparatória, Semana 3</td>\n",
              "      <td>0.0</td>\n",
              "      <td>8123c646-d8a5-46ab-8331-fd152f7cbf22</td>\n",
              "      <td>I2LPS3</td>\n",
              "      <td>2020-09-12</td>\n",
              "      <td>0.0</td>\n",
              "    </tr>\n",
              "    <tr>\n",
              "      <th>368</th>\n",
              "      <td>ANTONIO AUGUSTO DE LIMA SILVA</td>\n",
              "      <td>20180069652</td>\n",
              "      <td>ITP - Strings - Lista</td>\n",
              "      <td>0.0</td>\n",
              "      <td>fb49ae2e-562f-4b90-8b4b-c73e40507dc8</td>\n",
              "      <td>ISL</td>\n",
              "      <td>2020-09-22</td>\n",
              "      <td>0.0</td>\n",
              "    </tr>\n",
              "    <tr>\n",
              "      <th>369</th>\n",
              "      <td>ANTONIO AUGUSTO DE LIMA SILVA</td>\n",
              "      <td>20180069652</td>\n",
              "      <td>ITP - Funções - Lista</td>\n",
              "      <td>0.0</td>\n",
              "      <td>d4074937-3f5c-4666-ab4e-29f82d54ac6e</td>\n",
              "      <td>IFL</td>\n",
              "      <td>2020-10-02</td>\n",
              "      <td>0.0</td>\n",
              "    </tr>\n",
              "    <tr>\n",
              "      <th>...</th>\n",
              "      <td>...</td>\n",
              "      <td>...</td>\n",
              "      <td>...</td>\n",
              "      <td>...</td>\n",
              "      <td>...</td>\n",
              "      <td>...</td>\n",
              "      <td>...</td>\n",
              "      <td>...</td>\n",
              "    </tr>\n",
              "    <tr>\n",
              "      <th>381</th>\n",
              "      <td>marciotenorio</td>\n",
              "      <td>20180119880</td>\n",
              "      <td>ITP - Matriz - Lista</td>\n",
              "      <td>0.0</td>\n",
              "      <td>1f2fb866-0bea-4475-b0af-e4a060b0904a</td>\n",
              "      <td>IML</td>\n",
              "      <td>2020-10-16</td>\n",
              "      <td>25.0</td>\n",
              "    </tr>\n",
              "    <tr>\n",
              "      <th>383</th>\n",
              "      <td>marciotenorio</td>\n",
              "      <td>20180119880</td>\n",
              "      <td>ITP - Ponteiros 1 - Lista</td>\n",
              "      <td>0.0</td>\n",
              "      <td>17ac33bf-c1f7-4d1b-92b6-6f76f41265c7</td>\n",
              "      <td>IP1L</td>\n",
              "      <td>2020-10-20</td>\n",
              "      <td>25.0</td>\n",
              "    </tr>\n",
              "    <tr>\n",
              "      <th>384</th>\n",
              "      <td>marciotenorio</td>\n",
              "      <td>20180119880</td>\n",
              "      <td>ITP - Structs e Enumerações - Lista</td>\n",
              "      <td>0.0</td>\n",
              "      <td>6893c2d2-49b5-4476-8d0d-cf39313f0aec</td>\n",
              "      <td>ISEEL</td>\n",
              "      <td>2020-10-30</td>\n",
              "      <td>25.0</td>\n",
              "    </tr>\n",
              "    <tr>\n",
              "      <th>378</th>\n",
              "      <td>marciotenorio</td>\n",
              "      <td>20180119880</td>\n",
              "      <td>ITP - Ponteiros 2 -  Lista</td>\n",
              "      <td>0.0</td>\n",
              "      <td>2f5b561c-c3f0-4566-a357-625f0edbdb01</td>\n",
              "      <td>IP2L</td>\n",
              "      <td>2020-11-08</td>\n",
              "      <td>25.0</td>\n",
              "    </tr>\n",
              "    <tr>\n",
              "      <th>376</th>\n",
              "      <td>marciotenorio</td>\n",
              "      <td>20180119880</td>\n",
              "      <td>ITP - Alocação dinâmica</td>\n",
              "      <td>0.0</td>\n",
              "      <td>b4b1d413-503d-40ea-b93c-a21d1240d2e7</td>\n",
              "      <td>IAD</td>\n",
              "      <td>2020-11-15</td>\n",
              "      <td>25.0</td>\n",
              "    </tr>\n",
              "  </tbody>\n",
              "</table>\n",
              "<p>418 rows × 8 columns</p>\n",
              "</div>"
            ],
            "text/plain": [
              "                               user  ... studentMediaLists\n",
              "363  ANTONIO AUGUSTO DE LIMA SILVA   ...               0.0\n",
              "366  ANTONIO AUGUSTO DE LIMA SILVA   ...               0.0\n",
              "364  ANTONIO AUGUSTO DE LIMA SILVA   ...               0.0\n",
              "368  ANTONIO AUGUSTO DE LIMA SILVA   ...               0.0\n",
              "369  ANTONIO AUGUSTO DE LIMA SILVA   ...               0.0\n",
              "..                              ...  ...               ...\n",
              "381                  marciotenorio   ...              25.0\n",
              "383                  marciotenorio   ...              25.0\n",
              "384                  marciotenorio   ...              25.0\n",
              "378                  marciotenorio   ...              25.0\n",
              "376                  marciotenorio   ...              25.0\n",
              "\n",
              "[418 rows x 8 columns]"
            ]
          },
          "metadata": {
            "tags": []
          },
          "execution_count": 109
        }
      ]
    },
    {
      "cell_type": "code",
      "metadata": {
        "id": "Xw4OXq3hHq9s"
      },
      "source": [
        "def media_graph_performance_student_list_test(df_performance_list_test, data, df_class, listORtest = 'list'):\r\n",
        "  #Número de alunos na turma\r\n",
        "  total_students = df_class.loc[df_class['id_class'].str.contains(data.iloc[0,0]),'studentsCount'].max()\r\n",
        "  if listORtest == 'list':\r\n",
        "    #Media por lista na turma\r\n",
        "    df_mean_list = (df_performance_list_test.groupby(['list','shortTitle','dateList'])['medialist'].sum() / total_students).reset_index(name='mediaListClass')\r\n",
        "    return df_mean_list.sort_values(by='dateList')#.to_json(force_ascii=False,orient='records')\r\n",
        "  elif listORtest == 'test':\r\n",
        "    #Media por lista na turma\r\n",
        "    df_mean_test = (df_performance_list_test.groupby(['test','shortTitle','dateTest'])['mediatest'].sum() / total_students).reset_index(name='mediaTestClass')\r\n",
        "    return df_mean_test.sort_values(by='dateTest')#.to_json(force_ascii=False,orient='records')"
      ],
      "execution_count": 106,
      "outputs": []
    },
    {
      "cell_type": "code",
      "metadata": {
        "colab": {
          "base_uri": "https://localhost:8080/",
          "height": 390
        },
        "id": "mSOUVighRS7L",
        "outputId": "b2c7b641-897c-433c-c144-1a9d8d820c2a"
      },
      "source": [
        "media_graph_performance_student_list_test(df_performance_list, data, df_class, listORtest = 'list')"
      ],
      "execution_count": 107,
      "outputs": [
        {
          "output_type": "execute_result",
          "data": {
            "text/html": [
              "<div>\n",
              "<style scoped>\n",
              "    .dataframe tbody tr th:only-of-type {\n",
              "        vertical-align: middle;\n",
              "    }\n",
              "\n",
              "    .dataframe tbody tr th {\n",
              "        vertical-align: top;\n",
              "    }\n",
              "\n",
              "    .dataframe thead th {\n",
              "        text-align: right;\n",
              "    }\n",
              "</style>\n",
              "<table border=\"1\" class=\"dataframe\">\n",
              "  <thead>\n",
              "    <tr style=\"text-align: right;\">\n",
              "      <th></th>\n",
              "      <th>list</th>\n",
              "      <th>shortTitle</th>\n",
              "      <th>dateList</th>\n",
              "      <th>mediaListClass</th>\n",
              "    </tr>\n",
              "  </thead>\n",
              "  <tbody>\n",
              "    <tr>\n",
              "      <th>0</th>\n",
              "      <td>IMD0012 - 2020.6: Lista Obrigatória, Semana 1</td>\n",
              "      <td>I2LOS1</td>\n",
              "      <td>2020-08-19</td>\n",
              "      <td>60.813008</td>\n",
              "    </tr>\n",
              "    <tr>\n",
              "      <th>4</th>\n",
              "      <td>ITP - Laços</td>\n",
              "      <td>IL</td>\n",
              "      <td>2020-09-07</td>\n",
              "      <td>43.292683</td>\n",
              "    </tr>\n",
              "    <tr>\n",
              "      <th>1</th>\n",
              "      <td>IMD0012 - 2020.6: Lista Preparatória, Semana 3</td>\n",
              "      <td>I2LPS3</td>\n",
              "      <td>2020-09-12</td>\n",
              "      <td>21.646341</td>\n",
              "    </tr>\n",
              "    <tr>\n",
              "      <th>9</th>\n",
              "      <td>ITP - Strings - Lista</td>\n",
              "      <td>ISL</td>\n",
              "      <td>2020-09-22</td>\n",
              "      <td>15.243902</td>\n",
              "    </tr>\n",
              "    <tr>\n",
              "      <th>3</th>\n",
              "      <td>ITP - Funções - Lista</td>\n",
              "      <td>IFL</td>\n",
              "      <td>2020-10-02</td>\n",
              "      <td>14.786585</td>\n",
              "    </tr>\n",
              "    <tr>\n",
              "      <th>8</th>\n",
              "      <td>ITP - Recursão - Lista</td>\n",
              "      <td>IRL</td>\n",
              "      <td>2020-10-08</td>\n",
              "      <td>5.487805</td>\n",
              "    </tr>\n",
              "    <tr>\n",
              "      <th>5</th>\n",
              "      <td>ITP - Matriz - Lista</td>\n",
              "      <td>IML</td>\n",
              "      <td>2020-10-16</td>\n",
              "      <td>11.890244</td>\n",
              "    </tr>\n",
              "    <tr>\n",
              "      <th>6</th>\n",
              "      <td>ITP - Ponteiros 1 - Lista</td>\n",
              "      <td>IP1L</td>\n",
              "      <td>2020-10-20</td>\n",
              "      <td>4.268293</td>\n",
              "    </tr>\n",
              "    <tr>\n",
              "      <th>10</th>\n",
              "      <td>ITP - Structs e Enumerações - Lista</td>\n",
              "      <td>ISEEL</td>\n",
              "      <td>2020-10-30</td>\n",
              "      <td>1.219512</td>\n",
              "    </tr>\n",
              "    <tr>\n",
              "      <th>7</th>\n",
              "      <td>ITP - Ponteiros 2 -  Lista</td>\n",
              "      <td>IP2L</td>\n",
              "      <td>2020-11-08</td>\n",
              "      <td>1.219512</td>\n",
              "    </tr>\n",
              "    <tr>\n",
              "      <th>2</th>\n",
              "      <td>ITP - Alocação dinâmica</td>\n",
              "      <td>IAD</td>\n",
              "      <td>2020-11-15</td>\n",
              "      <td>8.292683</td>\n",
              "    </tr>\n",
              "  </tbody>\n",
              "</table>\n",
              "</div>"
            ],
            "text/plain": [
              "                                              list  ... mediaListClass\n",
              "0    IMD0012 - 2020.6: Lista Obrigatória, Semana 1  ...      60.813008\n",
              "4                                      ITP - Laços  ...      43.292683\n",
              "1   IMD0012 - 2020.6: Lista Preparatória, Semana 3  ...      21.646341\n",
              "9                            ITP - Strings - Lista  ...      15.243902\n",
              "3                            ITP - Funções - Lista  ...      14.786585\n",
              "8                           ITP - Recursão - Lista  ...       5.487805\n",
              "5                             ITP - Matriz - Lista  ...      11.890244\n",
              "6                        ITP - Ponteiros 1 - Lista  ...       4.268293\n",
              "10             ITP - Structs e Enumerações - Lista  ...       1.219512\n",
              "7                       ITP - Ponteiros 2 -  Lista  ...       1.219512\n",
              "2                          ITP - Alocação dinâmica  ...       8.292683\n",
              "\n",
              "[11 rows x 4 columns]"
            ]
          },
          "metadata": {
            "tags": []
          },
          "execution_count": 107
        }
      ]
    },
    {
      "cell_type": "markdown",
      "metadata": {
        "id": "OJr1erbE09MT"
      },
      "source": [
        "Recebe uma lista de nomes dos gráficos e uma lista com conteúdo deles"
      ]
    },
    {
      "cell_type": "code",
      "metadata": {
        "id": "K1A2AKBNzwla"
      },
      "source": [
        "def create_unique_json(name_graphs, graphs):\r\n",
        "  data = '{'\r\n",
        "  for name, graph in zip(name_graphs,graphs):\r\n",
        "    data = sdata + name + ':[' + graph + '],'\r\n",
        "  data = data[:-1] + '}'\r\n",
        "  return json.dumps(data)"
      ],
      "execution_count": null,
      "outputs": []
    },
    {
      "cell_type": "code",
      "metadata": {
        "colab": {
          "base_uri": "https://localhost:8080/",
          "height": 145
        },
        "id": "dHP84adIWfLQ",
        "outputId": "0bafa24a-bd0f-4cbe-fd13-34d922ed7763"
      },
      "source": [
        "df_submission.head(2)"
      ],
      "execution_count": null,
      "outputs": [
        {
          "output_type": "execute_result",
          "data": {
            "text/html": [
              "<div>\n",
              "<style scoped>\n",
              "    .dataframe tbody tr th:only-of-type {\n",
              "        vertical-align: middle;\n",
              "    }\n",
              "\n",
              "    .dataframe tbody tr th {\n",
              "        vertical-align: top;\n",
              "    }\n",
              "\n",
              "    .dataframe thead th {\n",
              "        text-align: right;\n",
              "    }\n",
              "</style>\n",
              "<table border=\"1\" class=\"dataframe\">\n",
              "  <thead>\n",
              "    <tr style=\"text-align: right;\">\n",
              "      <th></th>\n",
              "      <th>environment</th>\n",
              "      <th>hitPercentage</th>\n",
              "      <th>language</th>\n",
              "      <th>char_change_number</th>\n",
              "      <th>timeConsuming</th>\n",
              "      <th>createdAt</th>\n",
              "      <th>user</th>\n",
              "      <th>question</th>\n",
              "      <th>list</th>\n",
              "      <th>test</th>\n",
              "      <th>id_class</th>\n",
              "      <th>registration</th>\n",
              "    </tr>\n",
              "  </thead>\n",
              "  <tbody>\n",
              "    <tr>\n",
              "      <th>0</th>\n",
              "      <td>desktop</td>\n",
              "      <td>0.0</td>\n",
              "      <td>c</td>\n",
              "      <td>207</td>\n",
              "      <td>66156</td>\n",
              "      <td>2020-12-21T17:56:01.000Z</td>\n",
              "      <td>Arthur Learth</td>\n",
              "      <td>CRUD - Com alocação dinâmica - Rep</td>\n",
              "      <td>None</td>\n",
              "      <td>ITP 2020.6 - T02 - Reposicao</td>\n",
              "      <td>b5413cd7-4f61-4241-aad8-23740bab604f</td>\n",
              "      <td>20180071294</td>\n",
              "    </tr>\n",
              "    <tr>\n",
              "      <th>1</th>\n",
              "      <td>desktop</td>\n",
              "      <td>0.0</td>\n",
              "      <td>c</td>\n",
              "      <td>207</td>\n",
              "      <td>108142</td>\n",
              "      <td>2020-12-21T17:55:34.000Z</td>\n",
              "      <td>Arthur Learth</td>\n",
              "      <td>CRUD - Com alocação dinâmica - Rep</td>\n",
              "      <td>None</td>\n",
              "      <td>ITP 2020.6 - T02 - Reposicao</td>\n",
              "      <td>b5413cd7-4f61-4241-aad8-23740bab604f</td>\n",
              "      <td>20180071294</td>\n",
              "    </tr>\n",
              "  </tbody>\n",
              "</table>\n",
              "</div>"
            ],
            "text/plain": [
              "  environment  ...  registration\n",
              "0     desktop  ...   20180071294\n",
              "1     desktop  ...   20180071294\n",
              "\n",
              "[2 rows x 12 columns]"
            ]
          },
          "metadata": {
            "tags": []
          },
          "execution_count": 11
        }
      ]
    },
    {
      "cell_type": "markdown",
      "metadata": {
        "id": "e10NcpUTp7eB"
      },
      "source": [
        "Começa aqui"
      ]
    },
    {
      "cell_type": "code",
      "metadata": {
        "id": "JG31g_x_lyGy"
      },
      "source": [
        "df_lop_lists = lop_lists(data)"
      ],
      "execution_count": null,
      "outputs": []
    },
    {
      "cell_type": "code",
      "metadata": {
        "colab": {
          "base_uri": "https://localhost:8080/"
        },
        "id": "Cr-Iefj44UqQ",
        "outputId": "b04a48f4-6571-424f-a473-5712732483dd"
      },
      "source": [
        "df_questions_selected = select_questions(df_question_data, df_lop_lists) #futuramente df_lop_tests"
      ],
      "execution_count": null,
      "outputs": [
        {
          "output_type": "stream",
          "text": [
            "/usr/local/lib/python3.6/dist-packages/pandas/core/strings.py:2001: UserWarning: This pattern has match groups. To actually get the groups, use str.extract.\n",
            "  return func(self, *args, **kwargs)\n"
          ],
          "name": "stderr"
        }
      ]
    },
    {
      "cell_type": "markdown",
      "metadata": {
        "id": "XTxbGQL_lZsc"
      },
      "source": [
        "Função que retorna o desempenho do aluno por dificuldade "
      ]
    },
    {
      "cell_type": "code",
      "metadata": {
        "id": "tyRQtXSj_AfT"
      },
      "source": [
        "def performance_difficulty_list_test(df_submission, df_questions_selected, listORtest = 'list'):\r\n",
        "  #Selecionando apenas as questões de lista\r\n",
        "  if listORtest == 'list':\r\n",
        "    df_questions_selected = df_questions_selected.dropna(subset=['list'])\r\n",
        "  #Selecionando apenas as questões de prova\r\n",
        "  elif listORtest == 'test':\r\n",
        "    df_questions_selected = df_questions_selected.dropna(subset=['test'])\r\n",
        "  #Porcentagem máxima por questão\r\n",
        "  df_performance = df_submission.groupby(['user','registration','question'])['hitPercentage'].max().reset_index()\r\n",
        "  #Questão e a sua dificuldade associada\r\n",
        "  df_questions_selected = df_questions_selected.groupby(['difficulty','question'])['id_list'].count().reset_index().copy()\r\n",
        "  #Contando numero de questoes\r\n",
        "  df_total_questions = df_questions_selected.groupby(['difficulty'])['question'].count().reset_index(name='totalQuestions')\r\n",
        "  #Merge\r\n",
        "  df_performance = pd.merge(df_performance, df_questions_selected.drop(columns='id_list'),on='question')\r\n",
        "  #Somando as porcentagens de acerto por dificuldade para cada aluno\r\n",
        "  df_performance = df_performance.groupby(['user','registration','difficulty'])['hitPercentage'].sum().reset_index(name='totalHitPercentage')\r\n",
        "  #Conversão de float para inteiro\r\n",
        "  df_performance['difficulty'] = df_performance['difficulty'].astype('int')\r\n",
        "  #Lista de alunos\r\n",
        "  df_without_duplicates = df_submission.drop_duplicates(subset=['registration'])\r\n",
        "  df_without_duplicates = df_without_duplicates[['user','registration']]\r\n",
        "  #Laço para fazer que todo aluno tenha as 5 dificuldades\r\n",
        "  df_prov = pd.DataFrame()\r\n",
        "  for difficulty in range(1, 6):\r\n",
        "    df_users = df_without_duplicates.copy()\r\n",
        "    df_users['difficulty'] = difficulty\r\n",
        "    df_prov = df_prov.append(df_users)\r\n",
        "  #Unindo e fazendo que apareça todas as dificuldades\r\n",
        "  df_performance = pd.merge(df_performance,df_prov, on=['user','registration','difficulty'], how='outer').sort_values(by=['user','registration'])#.fillna(0)\r\n",
        "  df_performance = pd.merge(df_performance, df_total_questions, on='difficulty', how='outer')#.fillna(0)\r\n",
        "  #Calculando a média por dificuldade\r\n",
        "  df_performance['mediaDifficulty'] = df_performance['totalHitPercentage'] / df_performance['totalQuestions']\r\n",
        "  return df_performance.sort_values(by=['user','registration'])#.fillna(0)"
      ],
      "execution_count": 51,
      "outputs": []
    },
    {
      "cell_type": "code",
      "metadata": {
        "colab": {
          "base_uri": "https://localhost:8080/",
          "height": 204
        },
        "id": "Z21f1yMhTGaM",
        "outputId": "f05e1292-b8f9-427b-ca6b-3ed4b390e493"
      },
      "source": [
        "df_performance_difficulty_list = performance_difficulty_list_test(df_submission, df_questions_selected,'list')\r\n",
        "df_performance_difficulty_list.head()"
      ],
      "execution_count": 61,
      "outputs": [
        {
          "output_type": "execute_result",
          "data": {
            "text/html": [
              "<div>\n",
              "<style scoped>\n",
              "    .dataframe tbody tr th:only-of-type {\n",
              "        vertical-align: middle;\n",
              "    }\n",
              "\n",
              "    .dataframe tbody tr th {\n",
              "        vertical-align: top;\n",
              "    }\n",
              "\n",
              "    .dataframe thead th {\n",
              "        text-align: right;\n",
              "    }\n",
              "</style>\n",
              "<table border=\"1\" class=\"dataframe\">\n",
              "  <thead>\n",
              "    <tr style=\"text-align: right;\">\n",
              "      <th></th>\n",
              "      <th>user</th>\n",
              "      <th>registration</th>\n",
              "      <th>difficulty</th>\n",
              "      <th>totalHitPercentage</th>\n",
              "      <th>totalQuestions</th>\n",
              "      <th>mediaDifficulty</th>\n",
              "    </tr>\n",
              "  </thead>\n",
              "  <tbody>\n",
              "    <tr>\n",
              "      <th>0</th>\n",
              "      <td>ANTONIO AUGUSTO DE LIMA SILVA</td>\n",
              "      <td>20180069652</td>\n",
              "      <td>1</td>\n",
              "      <td>NaN</td>\n",
              "      <td>11.0</td>\n",
              "      <td>NaN</td>\n",
              "    </tr>\n",
              "    <tr>\n",
              "      <th>38</th>\n",
              "      <td>ANTONIO AUGUSTO DE LIMA SILVA</td>\n",
              "      <td>20180069652</td>\n",
              "      <td>2</td>\n",
              "      <td>NaN</td>\n",
              "      <td>14.0</td>\n",
              "      <td>NaN</td>\n",
              "    </tr>\n",
              "    <tr>\n",
              "      <th>76</th>\n",
              "      <td>ANTONIO AUGUSTO DE LIMA SILVA</td>\n",
              "      <td>20180069652</td>\n",
              "      <td>3</td>\n",
              "      <td>NaN</td>\n",
              "      <td>15.0</td>\n",
              "      <td>NaN</td>\n",
              "    </tr>\n",
              "    <tr>\n",
              "      <th>114</th>\n",
              "      <td>ANTONIO AUGUSTO DE LIMA SILVA</td>\n",
              "      <td>20180069652</td>\n",
              "      <td>4</td>\n",
              "      <td>NaN</td>\n",
              "      <td>NaN</td>\n",
              "      <td>NaN</td>\n",
              "    </tr>\n",
              "    <tr>\n",
              "      <th>152</th>\n",
              "      <td>ANTONIO AUGUSTO DE LIMA SILVA</td>\n",
              "      <td>20180069652</td>\n",
              "      <td>5</td>\n",
              "      <td>NaN</td>\n",
              "      <td>NaN</td>\n",
              "      <td>NaN</td>\n",
              "    </tr>\n",
              "  </tbody>\n",
              "</table>\n",
              "</div>"
            ],
            "text/plain": [
              "                               user  ... mediaDifficulty\n",
              "0    ANTONIO AUGUSTO DE LIMA SILVA   ...             NaN\n",
              "38   ANTONIO AUGUSTO DE LIMA SILVA   ...             NaN\n",
              "76   ANTONIO AUGUSTO DE LIMA SILVA   ...             NaN\n",
              "114  ANTONIO AUGUSTO DE LIMA SILVA   ...             NaN\n",
              "152  ANTONIO AUGUSTO DE LIMA SILVA   ...             NaN\n",
              "\n",
              "[5 rows x 6 columns]"
            ]
          },
          "metadata": {
            "tags": []
          },
          "execution_count": 61
        }
      ]
    },
    {
      "cell_type": "code",
      "metadata": {
        "id": "nu0TK6HuCb6C"
      },
      "source": [
        "def graph_more_less_difficulty_list_test_class(df_performance_difficulty_list_test, df_class, data, value = 70.0):#value == 70 ou outro numero, data == turma em df\r\n",
        "  #Aqui eu conto, por dificuldade, quantos tiraram mais de % de acerto escolhida\r\n",
        "  df_more = df_performance_difficulty_list_test[df_performance_difficulty_list_test['mediaDifficulty'] >= value].groupby('difficulty')['mediaDifficulty'].count().reset_index(name='more')\r\n",
        "  #E nesse conta quantos tiveram menos da % escolhida\r\n",
        "  df_less = df_performance_difficulty_list_test[df_performance_difficulty_list_test['mediaDifficulty'] < value].groupby('difficulty')['mediaDifficulty'].count().reset_index(name='less')\r\n",
        "  #Aqui junta ambos os dataframes, usando o outer, que, se por acaso não tiver uma ocorrência de uma lista em um dos dataframes, mesmo assim eles vão ser adicionados, é união dos conjuntos\r\n",
        "  df_less_more = pd.merge(df_more, df_less, on = 'difficulty', how = 'outer')\r\n",
        "  #E, se caso acontecer a situação de um não existir, substituimos o nan por 0\r\n",
        "  df_less_more.replace(np.NaN, 0, inplace = True)\r\n",
        "    #Aqui junta ambos os dataframes, usando o outer, que, se por acaso não tiver uma ocorrência de uma lista em um dos dataframes, mesmo assim eles vão ser adicionados, é união dos conjuntos\r\n",
        "  df_less_more = pd.merge(df_more, df_less, on =  'difficulty', how = 'outer')\r\n",
        "  #E, se caso acontecer a situação de um não existir, substituimos o nan por 0\r\n",
        "  df_less_more.replace(np.NaN, 0, inplace = True)\r\n",
        "  #Todas as dificuldades, para caso uma turma não tenha cadastrado todas, aparecer na grafico\r\n",
        "  difficultys = pd.DataFrame([1,2,3,4,5], columns = ['difficulty'])\r\n",
        "  df_less_more = pd.merge(df_less_more, difficultys, on = 'difficulty', how = 'outer').fillna(0)\r\n",
        "  #Total de alunos na turma\r\n",
        "  total = df_class.loc[df_class['id_class'] == data.iloc[0,0],'studentsCount'].max()\r\n",
        "  #Faltantes\r\n",
        "  df_less_more['missing'] = total - (df_less_more['more'] + df_less_more['less'])\r\n",
        "  #Conversão para inteiro\r\n",
        "  df_less_more = df_less_more.astype(int)\r\n",
        "  #Renomeando \r\n",
        "  df_less_more = df_less_more.replace({'difficulty': {1:\"Muito Fácil\",2:\"Fácil\", 3:\"Médio\",4:\"Difícil\",5:\"Muito Difícil\"} })\r\n",
        "  return df_less_more#.to_json(force_ascii=False, orient='records') "
      ],
      "execution_count": 54,
      "outputs": []
    },
    {
      "cell_type": "code",
      "metadata": {
        "colab": {
          "base_uri": "https://localhost:8080/",
          "height": 204
        },
        "id": "ptiBRk5Ql-oq",
        "outputId": "28f99c18-802c-4ea2-894a-2277dcf9b969"
      },
      "source": [
        "graph_more_less_difficulty_list_test_class(df_performance_difficulty_list, df_class, data, value = 70.0)"
      ],
      "execution_count": 55,
      "outputs": [
        {
          "output_type": "execute_result",
          "data": {
            "text/html": [
              "<div>\n",
              "<style scoped>\n",
              "    .dataframe tbody tr th:only-of-type {\n",
              "        vertical-align: middle;\n",
              "    }\n",
              "\n",
              "    .dataframe tbody tr th {\n",
              "        vertical-align: top;\n",
              "    }\n",
              "\n",
              "    .dataframe thead th {\n",
              "        text-align: right;\n",
              "    }\n",
              "</style>\n",
              "<table border=\"1\" class=\"dataframe\">\n",
              "  <thead>\n",
              "    <tr style=\"text-align: right;\">\n",
              "      <th></th>\n",
              "      <th>difficulty</th>\n",
              "      <th>more</th>\n",
              "      <th>less</th>\n",
              "      <th>missing</th>\n",
              "    </tr>\n",
              "  </thead>\n",
              "  <tbody>\n",
              "    <tr>\n",
              "      <th>0</th>\n",
              "      <td>Muito Fácil</td>\n",
              "      <td>3</td>\n",
              "      <td>26</td>\n",
              "      <td>12</td>\n",
              "    </tr>\n",
              "    <tr>\n",
              "      <th>1</th>\n",
              "      <td>Fácil</td>\n",
              "      <td>3</td>\n",
              "      <td>27</td>\n",
              "      <td>11</td>\n",
              "    </tr>\n",
              "    <tr>\n",
              "      <th>2</th>\n",
              "      <td>Médio</td>\n",
              "      <td>2</td>\n",
              "      <td>21</td>\n",
              "      <td>18</td>\n",
              "    </tr>\n",
              "    <tr>\n",
              "      <th>3</th>\n",
              "      <td>Difícil</td>\n",
              "      <td>0</td>\n",
              "      <td>0</td>\n",
              "      <td>41</td>\n",
              "    </tr>\n",
              "    <tr>\n",
              "      <th>4</th>\n",
              "      <td>Muito Difícil</td>\n",
              "      <td>0</td>\n",
              "      <td>0</td>\n",
              "      <td>41</td>\n",
              "    </tr>\n",
              "  </tbody>\n",
              "</table>\n",
              "</div>"
            ],
            "text/plain": [
              "      difficulty  more  less  missing\n",
              "0    Muito Fácil     3    26       12\n",
              "1          Fácil     3    27       11\n",
              "2          Médio     2    21       18\n",
              "3        Difícil     0     0       41\n",
              "4  Muito Difícil     0     0       41"
            ]
          },
          "metadata": {
            "tags": []
          },
          "execution_count": 55
        }
      ]
    },
    {
      "cell_type": "code",
      "metadata": {
        "colab": {
          "base_uri": "https://localhost:8080/"
        },
        "id": "smwcVXP9NZg5",
        "outputId": "0919203e-95ae-44a4-da75-0c1d8651ec98"
      },
      "source": [
        "df_questions_selected['difficulty'].value_counts().count()"
      ],
      "execution_count": 57,
      "outputs": [
        {
          "output_type": "execute_result",
          "data": {
            "text/plain": [
              "3"
            ]
          },
          "metadata": {
            "tags": []
          },
          "execution_count": 57
        }
      ]
    },
    {
      "cell_type": "code",
      "metadata": {
        "id": "NGD5RMzbnvSQ"
      },
      "source": [
        "def graph_performance_student_difficulty_list_test(df_performance_difficulty_list_test,df_questions_selected):\r\n",
        "  #Total de assuntos\r\n",
        "  total_difficulties = df_questions_selected['difficulty'].value_counts().count()\r\n",
        "  #Media geral por aluno\r\n",
        "  df_student_media = (df_performance_difficulty_list_test.groupby(['registration'])['mediaDifficulty'].sum() / total_difficulties).reset_index(name='studentMediaDifficulty')\r\n",
        "  #Retirando colunas desnecessárias\r\n",
        "  df_graph = df_performance_difficulty_list_test.sort_values(by='user').drop(columns=['totalHitPercentage','totalQuestions'])\r\n",
        "  #Merge\r\n",
        "  df_graph = pd.merge(df_graph, df_student_media, on='registration')\r\n",
        "  #Ordenando\r\n",
        "  df_graph.sort_values(by=['user','registration','difficulty'], inplace = True)\r\n",
        "  return df_graph.fillna(0)#.to_json(force_ascii=False,orient='records')    "
      ],
      "execution_count": 63,
      "outputs": []
    },
    {
      "cell_type": "code",
      "metadata": {
        "colab": {
          "base_uri": "https://localhost:8080/",
          "height": 204
        },
        "id": "Rp6eH8g5tvX5",
        "outputId": "0a634b90-311f-4ddc-c104-84f6f9cff45d"
      },
      "source": [
        "graph_performance_student_difficulty_list_test(df_performance_difficulty_list, df_questions_selected).tail(5)"
      ],
      "execution_count": 64,
      "outputs": [
        {
          "output_type": "execute_result",
          "data": {
            "text/html": [
              "<div>\n",
              "<style scoped>\n",
              "    .dataframe tbody tr th:only-of-type {\n",
              "        vertical-align: middle;\n",
              "    }\n",
              "\n",
              "    .dataframe tbody tr th {\n",
              "        vertical-align: top;\n",
              "    }\n",
              "\n",
              "    .dataframe thead th {\n",
              "        text-align: right;\n",
              "    }\n",
              "</style>\n",
              "<table border=\"1\" class=\"dataframe\">\n",
              "  <thead>\n",
              "    <tr style=\"text-align: right;\">\n",
              "      <th></th>\n",
              "      <th>user</th>\n",
              "      <th>registration</th>\n",
              "      <th>difficulty</th>\n",
              "      <th>mediaDifficulty</th>\n",
              "      <th>studentMediaDifficulty</th>\n",
              "    </tr>\n",
              "  </thead>\n",
              "  <tbody>\n",
              "    <tr>\n",
              "      <th>186</th>\n",
              "      <td>marciotenorio</td>\n",
              "      <td>20180119880</td>\n",
              "      <td>1</td>\n",
              "      <td>9.090909</td>\n",
              "      <td>5.411255</td>\n",
              "    </tr>\n",
              "    <tr>\n",
              "      <th>187</th>\n",
              "      <td>marciotenorio</td>\n",
              "      <td>20180119880</td>\n",
              "      <td>2</td>\n",
              "      <td>7.142857</td>\n",
              "      <td>5.411255</td>\n",
              "    </tr>\n",
              "    <tr>\n",
              "      <th>188</th>\n",
              "      <td>marciotenorio</td>\n",
              "      <td>20180119880</td>\n",
              "      <td>3</td>\n",
              "      <td>0.000000</td>\n",
              "      <td>5.411255</td>\n",
              "    </tr>\n",
              "    <tr>\n",
              "      <th>185</th>\n",
              "      <td>marciotenorio</td>\n",
              "      <td>20180119880</td>\n",
              "      <td>4</td>\n",
              "      <td>0.000000</td>\n",
              "      <td>5.411255</td>\n",
              "    </tr>\n",
              "    <tr>\n",
              "      <th>189</th>\n",
              "      <td>marciotenorio</td>\n",
              "      <td>20180119880</td>\n",
              "      <td>5</td>\n",
              "      <td>0.000000</td>\n",
              "      <td>5.411255</td>\n",
              "    </tr>\n",
              "  </tbody>\n",
              "</table>\n",
              "</div>"
            ],
            "text/plain": [
              "               user  registration  ...  mediaDifficulty  studentMediaDifficulty\n",
              "186  marciotenorio    20180119880  ...         9.090909                5.411255\n",
              "187  marciotenorio    20180119880  ...         7.142857                5.411255\n",
              "188  marciotenorio    20180119880  ...         0.000000                5.411255\n",
              "185  marciotenorio    20180119880  ...         0.000000                5.411255\n",
              "189  marciotenorio    20180119880  ...         0.000000                5.411255\n",
              "\n",
              "[5 rows x 5 columns]"
            ]
          },
          "metadata": {
            "tags": []
          },
          "execution_count": 64
        }
      ]
    },
    {
      "cell_type": "markdown",
      "metadata": {
        "id": "FaXw7J9MDUzv"
      },
      "source": [
        "Cálculo da média da turma por dificuldade"
      ]
    },
    {
      "cell_type": "code",
      "metadata": {
        "id": "kpXoxTFKCw7s"
      },
      "source": [
        "def media_graph_performance_student_difficulty_list_test(df_performance_difficulty_list_test,data, df_class):\r\n",
        "  #Número de alunos na turma\r\n",
        "  total_students = df_class.loc[df_class['id_class'].str.contains(data.iloc[0,0]),'studentsCount'].max()\r\n",
        "  #Media (dos que fizeram ao menos 1 submissão) por dificuldade na turma\r\n",
        "  df_mean_difficulty = (df_performance_difficulty_list.groupby(['difficulty'])['mediaDifficulty'].sum() / total_students).reset_index(name='mediaDifficultyClass')\r\n",
        "  return df_mean_difficulty"
      ],
      "execution_count": 65,
      "outputs": []
    },
    {
      "cell_type": "code",
      "metadata": {
        "colab": {
          "base_uri": "https://localhost:8080/",
          "height": 204
        },
        "id": "wgM51sRhDcJX",
        "outputId": "3e7a2445-07de-4517-f773-d88ef16c7518"
      },
      "source": [
        "media_graph_performance_student_difficulty_list_test(df_performance_difficulty_list,data, df_class)"
      ],
      "execution_count": 66,
      "outputs": [
        {
          "output_type": "execute_result",
          "data": {
            "text/html": [
              "<div>\n",
              "<style scoped>\n",
              "    .dataframe tbody tr th:only-of-type {\n",
              "        vertical-align: middle;\n",
              "    }\n",
              "\n",
              "    .dataframe tbody tr th {\n",
              "        vertical-align: top;\n",
              "    }\n",
              "\n",
              "    .dataframe thead th {\n",
              "        text-align: right;\n",
              "    }\n",
              "</style>\n",
              "<table border=\"1\" class=\"dataframe\">\n",
              "  <thead>\n",
              "    <tr style=\"text-align: right;\">\n",
              "      <th></th>\n",
              "      <th>difficulty</th>\n",
              "      <th>mediaDifficultyClass</th>\n",
              "    </tr>\n",
              "  </thead>\n",
              "  <tbody>\n",
              "    <tr>\n",
              "      <th>0</th>\n",
              "      <td>1</td>\n",
              "      <td>16.796009</td>\n",
              "    </tr>\n",
              "    <tr>\n",
              "      <th>1</th>\n",
              "      <td>2</td>\n",
              "      <td>22.569686</td>\n",
              "    </tr>\n",
              "    <tr>\n",
              "      <th>2</th>\n",
              "      <td>3</td>\n",
              "      <td>14.951220</td>\n",
              "    </tr>\n",
              "    <tr>\n",
              "      <th>3</th>\n",
              "      <td>4</td>\n",
              "      <td>0.000000</td>\n",
              "    </tr>\n",
              "    <tr>\n",
              "      <th>4</th>\n",
              "      <td>5</td>\n",
              "      <td>0.000000</td>\n",
              "    </tr>\n",
              "  </tbody>\n",
              "</table>\n",
              "</div>"
            ],
            "text/plain": [
              "   difficulty  mediaDifficultyClass\n",
              "0           1             16.796009\n",
              "1           2             22.569686\n",
              "2           3             14.951220\n",
              "3           4              0.000000\n",
              "4           5              0.000000"
            ]
          },
          "metadata": {
            "tags": []
          },
          "execution_count": 66
        }
      ]
    },
    {
      "cell_type": "markdown",
      "metadata": {
        "id": "7BBR58hBPQse"
      },
      "source": [
        "Versão assunto"
      ]
    },
    {
      "cell_type": "code",
      "metadata": {
        "id": "3LrXdHskPSpx"
      },
      "source": [
        "def performance_subject_list_test(df_submission, df_questions_selected, listORtest = 'list'):\r\n",
        "  '''\r\n",
        "  eu tenho todas questoes\r\n",
        "  quero selecionar apenas as que estao na lista de exercicio\r\n",
        "  se tiver nan no campo lista, significa que aquela questao nao pertence, entao eu vou deletar ela onde for nan em list\r\n",
        "  '''\r\n",
        "  #Selecionando apenas as questões de lista\r\n",
        "  if listORtest == 'list':\r\n",
        "    df_questions_selected = df_questions_selected.dropna(subset=['list'])\r\n",
        "  #Selecionando apenas as questões de prova\r\n",
        "  elif listORtest == 'test':\r\n",
        "    df_questions_selected = df_questions_selected.dropna(subset=['test'])\r\n",
        "  #Retirando onde não tem assunto e inserindo o campo assunto em branco\r\n",
        "  df_questions_selected['subject'] = df_questions_selected['tag1'].fillna('Assunto em Branco')  \r\n",
        "  #Extraindo a lista de assuntos presentes nessa turma\r\n",
        "  subject_list = df_questions_selected['subject'].drop_duplicates().values\r\n",
        "  #Porcentagem máxima por questão\r\n",
        "  df_performance = df_submission.groupby(['user','registration','question'])['hitPercentage'].max().reset_index()\r\n",
        "  #Questão e a seu assunto associada\r\n",
        "  df_questions_selected = df_questions_selected.groupby(['subject','question'])['id_list'].count().reset_index().copy()\r\n",
        "  #Contando numero de questoes\r\n",
        "  df_total_questions = df_questions_selected.groupby(['subject'])['question'].count().reset_index(name='totalQuestions')\r\n",
        "  #Merge\r\n",
        "  df_performance = pd.merge(df_performance, df_questions_selected.drop(columns='id_list'),on='question')\r\n",
        "  #Somando as porcentagens de acerto por assunto para cada aluno\r\n",
        "  df_performance = df_performance.groupby(['user','registration','subject'])['hitPercentage'].sum().reset_index(name='totalHitPercentage')\r\n",
        "  #Lista de alunos\r\n",
        "  df_without_duplicates = df_submission.drop_duplicates(subset=['registration'])\r\n",
        "  df_without_duplicates = df_without_duplicates[['user','registration']]\r\n",
        "  #Laço para fazer que todo aluno tenha todos os assuntos\r\n",
        "  df_prov = pd.DataFrame()\r\n",
        "  for subject in subject_list:\r\n",
        "    df_users = df_without_duplicates.copy()\r\n",
        "    df_users['subject'] = subject  \r\n",
        "    df_prov = df_prov.append(df_users)\r\n",
        "  #Unindo e fazendo que apareça todos assuntos\r\n",
        "  df_performance = pd.merge(df_performance,df_prov, on=['user','registration','subject'], how='outer').sort_values(by=['user','registration'])#.fillna(0)  \r\n",
        "  df_performance = pd.merge(df_performance, df_total_questions, on='subject', how='outer')#.fillna(0)\r\n",
        "  #Calculando a média por assunto\r\n",
        "  df_performance['mediaSubject'] = df_performance['totalHitPercentage'] / df_performance['totalQuestions']\r\n",
        "  return df_performance.sort_values(by=['user','registration'])#.fillna(0)"
      ],
      "execution_count": 31,
      "outputs": []
    },
    {
      "cell_type": "code",
      "metadata": {
        "colab": {
          "base_uri": "https://localhost:8080/",
          "height": 111
        },
        "id": "EQkGQQpwdD-j",
        "outputId": "d6464f7c-9fa9-43e8-8277-1257fb5d05b7"
      },
      "source": [
        "df_performance_subject_list = performance_subject_list_test(df_submission, df_questions_selected, listORtest = 'list')\r\n",
        "df_performance_subject_list.tail(2)"
      ],
      "execution_count": 32,
      "outputs": [
        {
          "output_type": "execute_result",
          "data": {
            "text/html": [
              "<div>\n",
              "<style scoped>\n",
              "    .dataframe tbody tr th:only-of-type {\n",
              "        vertical-align: middle;\n",
              "    }\n",
              "\n",
              "    .dataframe tbody tr th {\n",
              "        vertical-align: top;\n",
              "    }\n",
              "\n",
              "    .dataframe thead th {\n",
              "        text-align: right;\n",
              "    }\n",
              "</style>\n",
              "<table border=\"1\" class=\"dataframe\">\n",
              "  <thead>\n",
              "    <tr style=\"text-align: right;\">\n",
              "      <th></th>\n",
              "      <th>user</th>\n",
              "      <th>registration</th>\n",
              "      <th>subject</th>\n",
              "      <th>totalHitPercentage</th>\n",
              "      <th>totalQuestions</th>\n",
              "      <th>mediaSubject</th>\n",
              "    </tr>\n",
              "  </thead>\n",
              "  <tbody>\n",
              "    <tr>\n",
              "      <th>341</th>\n",
              "      <td>marciotenorio</td>\n",
              "      <td>20180119880</td>\n",
              "      <td>String</td>\n",
              "      <td>NaN</td>\n",
              "      <td>1</td>\n",
              "      <td>NaN</td>\n",
              "    </tr>\n",
              "    <tr>\n",
              "      <th>379</th>\n",
              "      <td>marciotenorio</td>\n",
              "      <td>20180119880</td>\n",
              "      <td>Estruturas de Repetição</td>\n",
              "      <td>NaN</td>\n",
              "      <td>1</td>\n",
              "      <td>NaN</td>\n",
              "    </tr>\n",
              "  </tbody>\n",
              "</table>\n",
              "</div>"
            ],
            "text/plain": [
              "               user  registration  ... totalQuestions  mediaSubject\n",
              "341  marciotenorio    20180119880  ...              1           NaN\n",
              "379  marciotenorio    20180119880  ...              1           NaN\n",
              "\n",
              "[2 rows x 6 columns]"
            ]
          },
          "metadata": {
            "tags": []
          },
          "execution_count": 32
        }
      ]
    },
    {
      "cell_type": "code",
      "metadata": {
        "id": "nh_Iz-EV52bU"
      },
      "source": [
        "def graph_performance_student_subject_list_test(df_performance_subject_list_test):\r\n",
        "  #Total de assuntos\r\n",
        "  total_subjects = df_performance_subject_list_test['subject'].value_counts().count()\r\n",
        "  #Media geral por aluno\r\n",
        "  df_student_media = (df_performance_subject_list_test.groupby(['registration'])['mediaSubject'].sum() / total_subjects).reset_index(name='studentMediaSubject')\r\n",
        "  #Retirando colunas desnecessárias\r\n",
        "  df_graph = df_performance_subject_list_test.sort_values(by='user').drop(columns=['totalHitPercentage','totalQuestions'])\r\n",
        "  #Merge\r\n",
        "  df_graph = pd.merge(df_graph, df_student_media, on='registration')\r\n",
        "  #Ordenando\r\n",
        "  df_graph.sort_values(by=['user','registration','subject'], inplace = True)\r\n",
        "  return df_graph.fillna(0)#.to_json(force_ascii=False,orient='records')    "
      ],
      "execution_count": 43,
      "outputs": []
    },
    {
      "cell_type": "code",
      "metadata": {
        "colab": {
          "base_uri": "https://localhost:8080/",
          "height": 514
        },
        "id": "NUzW-AKu6cyM",
        "outputId": "87de66e0-4bc2-4369-d9bb-892549ca3dd1"
      },
      "source": [
        "graph_performance_student_subject_list_test(df_performance_subject_list).tail(15)"
      ],
      "execution_count": 46,
      "outputs": [
        {
          "output_type": "execute_result",
          "data": {
            "text/html": [
              "<div>\n",
              "<style scoped>\n",
              "    .dataframe tbody tr th:only-of-type {\n",
              "        vertical-align: middle;\n",
              "    }\n",
              "\n",
              "    .dataframe tbody tr th {\n",
              "        vertical-align: top;\n",
              "    }\n",
              "\n",
              "    .dataframe thead th {\n",
              "        text-align: right;\n",
              "    }\n",
              "</style>\n",
              "<table border=\"1\" class=\"dataframe\">\n",
              "  <thead>\n",
              "    <tr style=\"text-align: right;\">\n",
              "      <th></th>\n",
              "      <th>user</th>\n",
              "      <th>registration</th>\n",
              "      <th>subject</th>\n",
              "      <th>mediaSubject</th>\n",
              "      <th>studentMediaSubject</th>\n",
              "    </tr>\n",
              "  </thead>\n",
              "  <tbody>\n",
              "    <tr>\n",
              "      <th>368</th>\n",
              "      <td>kaio cesar de sousa pinheiro</td>\n",
              "      <td>20180144793</td>\n",
              "      <td>Ponteiros</td>\n",
              "      <td>0.000000</td>\n",
              "      <td>0.000000</td>\n",
              "    </tr>\n",
              "    <tr>\n",
              "      <th>366</th>\n",
              "      <td>kaio cesar de sousa pinheiro</td>\n",
              "      <td>20180144793</td>\n",
              "      <td>Recursão</td>\n",
              "      <td>0.000000</td>\n",
              "      <td>0.000000</td>\n",
              "    </tr>\n",
              "    <tr>\n",
              "      <th>361</th>\n",
              "      <td>kaio cesar de sousa pinheiro</td>\n",
              "      <td>20180144793</td>\n",
              "      <td>String</td>\n",
              "      <td>0.000000</td>\n",
              "      <td>0.000000</td>\n",
              "    </tr>\n",
              "    <tr>\n",
              "      <th>365</th>\n",
              "      <td>kaio cesar de sousa pinheiro</td>\n",
              "      <td>20180144793</td>\n",
              "      <td>Tipos Estruturados</td>\n",
              "      <td>0.000000</td>\n",
              "      <td>0.000000</td>\n",
              "    </tr>\n",
              "    <tr>\n",
              "      <th>362</th>\n",
              "      <td>kaio cesar de sousa pinheiro</td>\n",
              "      <td>20180144793</td>\n",
              "      <td>Vetores</td>\n",
              "      <td>0.000000</td>\n",
              "      <td>0.000000</td>\n",
              "    </tr>\n",
              "    <tr>\n",
              "      <th>378</th>\n",
              "      <td>marciotenorio</td>\n",
              "      <td>20180119880</td>\n",
              "      <td>Assunto em Branco</td>\n",
              "      <td>14.285714</td>\n",
              "      <td>2.539683</td>\n",
              "    </tr>\n",
              "    <tr>\n",
              "      <th>375</th>\n",
              "      <td>marciotenorio</td>\n",
              "      <td>20180119880</td>\n",
              "      <td>Estruturas Condicionais</td>\n",
              "      <td>0.000000</td>\n",
              "      <td>2.539683</td>\n",
              "    </tr>\n",
              "    <tr>\n",
              "      <th>379</th>\n",
              "      <td>marciotenorio</td>\n",
              "      <td>20180119880</td>\n",
              "      <td>Estruturas de Repetição</td>\n",
              "      <td>0.000000</td>\n",
              "      <td>2.539683</td>\n",
              "    </tr>\n",
              "    <tr>\n",
              "      <th>376</th>\n",
              "      <td>marciotenorio</td>\n",
              "      <td>20180119880</td>\n",
              "      <td>Funções</td>\n",
              "      <td>11.111111</td>\n",
              "      <td>2.539683</td>\n",
              "    </tr>\n",
              "    <tr>\n",
              "      <th>372</th>\n",
              "      <td>marciotenorio</td>\n",
              "      <td>20180119880</td>\n",
              "      <td>Matrizes</td>\n",
              "      <td>0.000000</td>\n",
              "      <td>2.539683</td>\n",
              "    </tr>\n",
              "    <tr>\n",
              "      <th>371</th>\n",
              "      <td>marciotenorio</td>\n",
              "      <td>20180119880</td>\n",
              "      <td>Ponteiros</td>\n",
              "      <td>0.000000</td>\n",
              "      <td>2.539683</td>\n",
              "    </tr>\n",
              "    <tr>\n",
              "      <th>373</th>\n",
              "      <td>marciotenorio</td>\n",
              "      <td>20180119880</td>\n",
              "      <td>Recursão</td>\n",
              "      <td>0.000000</td>\n",
              "      <td>2.539683</td>\n",
              "    </tr>\n",
              "    <tr>\n",
              "      <th>370</th>\n",
              "      <td>marciotenorio</td>\n",
              "      <td>20180119880</td>\n",
              "      <td>String</td>\n",
              "      <td>0.000000</td>\n",
              "      <td>2.539683</td>\n",
              "    </tr>\n",
              "    <tr>\n",
              "      <th>374</th>\n",
              "      <td>marciotenorio</td>\n",
              "      <td>20180119880</td>\n",
              "      <td>Tipos Estruturados</td>\n",
              "      <td>0.000000</td>\n",
              "      <td>2.539683</td>\n",
              "    </tr>\n",
              "    <tr>\n",
              "      <th>377</th>\n",
              "      <td>marciotenorio</td>\n",
              "      <td>20180119880</td>\n",
              "      <td>Vetores</td>\n",
              "      <td>0.000000</td>\n",
              "      <td>2.539683</td>\n",
              "    </tr>\n",
              "  </tbody>\n",
              "</table>\n",
              "</div>"
            ],
            "text/plain": [
              "                              user  ... studentMediaSubject\n",
              "368  kaio cesar de sousa pinheiro   ...            0.000000\n",
              "366  kaio cesar de sousa pinheiro   ...            0.000000\n",
              "361  kaio cesar de sousa pinheiro   ...            0.000000\n",
              "365  kaio cesar de sousa pinheiro   ...            0.000000\n",
              "362  kaio cesar de sousa pinheiro   ...            0.000000\n",
              "378                 marciotenorio   ...            2.539683\n",
              "375                 marciotenorio   ...            2.539683\n",
              "379                 marciotenorio   ...            2.539683\n",
              "376                 marciotenorio   ...            2.539683\n",
              "372                 marciotenorio   ...            2.539683\n",
              "371                 marciotenorio   ...            2.539683\n",
              "373                 marciotenorio   ...            2.539683\n",
              "370                 marciotenorio   ...            2.539683\n",
              "374                 marciotenorio   ...            2.539683\n",
              "377                 marciotenorio   ...            2.539683\n",
              "\n",
              "[15 rows x 5 columns]"
            ]
          },
          "metadata": {
            "tags": []
          },
          "execution_count": 46
        }
      ]
    },
    {
      "cell_type": "code",
      "metadata": {
        "id": "WpmUWtCR55Ho"
      },
      "source": [
        "def graph_more_less_subject_list_test_class(df_performance_subject_list_test, df_class, data, value = 70.0):#value == 70 ou outro numero, data == turma em df\r\n",
        "  #Aqui eu conto, por assunto, quantos tiraram mais de % de acerto escolhida\r\n",
        "  df_more = df_performance_subject_list_test[df_performance_subject_list_test['mediaSubject'] >= value].groupby('subject')['mediaSubject'].count().reset_index(name='more')\r\n",
        "  #E nesse conta quantos tiveram menos da % escolhida\r\n",
        "  df_less = df_performance_subject_list_test[df_performance_subject_list_test['mediaSubject'] < value].groupby('subject')['mediaSubject'].count().reset_index(name='less')\r\n",
        "  #Aqui junta ambos os dataframes, usando o outer, que, se por acaso não tiver uma ocorrência de uma lista em um dos dataframes, mesmo assim eles vão ser adicionados, é união dos conjuntos\r\n",
        "  df_less_more = pd.merge(df_more, df_less, on = 'subject', how = 'outer')\r\n",
        "  #E, se caso acontecer a situação de um não existir, substituimos o nan por 0\r\n",
        "  df_less_more.replace(np.NaN, 0, inplace = True)\r\n",
        "  #Aqui junta ambos os dataframes, usando o outer, que, se por acaso não tiver uma ocorrência de uma lista em um dos dataframes, mesmo assim eles vão ser adicionados, é união dos conjuntos\r\n",
        "  df_less_more = pd.merge(df_more, df_less, on =  'subject', how = 'outer')\r\n",
        "  #E, se caso acontecer a situação de um não existir, substituimos o nan por 0\r\n",
        "  df_less_more.replace(np.NaN, 0, inplace = True)\r\n",
        "  #Total de alunos na turma\r\n",
        "  total = df_class.loc[df_class['id_class'] == data.iloc[0,0],'studentsCount'].max()\r\n",
        "  #Faltantes\r\n",
        "  df_less_more['missing'] = total - (df_less_more['more'] + df_less_more['less'])\r\n",
        "  return df_less_more#.to_json(force_ascii=False, orient='records') "
      ],
      "execution_count": 47,
      "outputs": []
    },
    {
      "cell_type": "code",
      "metadata": {
        "colab": {
          "base_uri": "https://localhost:8080/",
          "height": 359
        },
        "id": "SRjchOKL6gZ5",
        "outputId": "2bc900f1-bbde-4edd-8e3c-fc7ad6a22c2f"
      },
      "source": [
        "graph_more_less_subject_list_test_class(df_performance_subject_list, df_class, data, value = 70.0)"
      ],
      "execution_count": 48,
      "outputs": [
        {
          "output_type": "execute_result",
          "data": {
            "text/html": [
              "<div>\n",
              "<style scoped>\n",
              "    .dataframe tbody tr th:only-of-type {\n",
              "        vertical-align: middle;\n",
              "    }\n",
              "\n",
              "    .dataframe tbody tr th {\n",
              "        vertical-align: top;\n",
              "    }\n",
              "\n",
              "    .dataframe thead th {\n",
              "        text-align: right;\n",
              "    }\n",
              "</style>\n",
              "<table border=\"1\" class=\"dataframe\">\n",
              "  <thead>\n",
              "    <tr style=\"text-align: right;\">\n",
              "      <th></th>\n",
              "      <th>subject</th>\n",
              "      <th>more</th>\n",
              "      <th>less</th>\n",
              "      <th>missing</th>\n",
              "    </tr>\n",
              "  </thead>\n",
              "  <tbody>\n",
              "    <tr>\n",
              "      <th>0</th>\n",
              "      <td>Assunto em Branco</td>\n",
              "      <td>6.0</td>\n",
              "      <td>22.0</td>\n",
              "      <td>13.0</td>\n",
              "    </tr>\n",
              "    <tr>\n",
              "      <th>1</th>\n",
              "      <td>Estruturas Condicionais</td>\n",
              "      <td>15.0</td>\n",
              "      <td>14.0</td>\n",
              "      <td>12.0</td>\n",
              "    </tr>\n",
              "    <tr>\n",
              "      <th>2</th>\n",
              "      <td>Estruturas de Repetição</td>\n",
              "      <td>17.0</td>\n",
              "      <td>1.0</td>\n",
              "      <td>23.0</td>\n",
              "    </tr>\n",
              "    <tr>\n",
              "      <th>3</th>\n",
              "      <td>Matrizes</td>\n",
              "      <td>4.0</td>\n",
              "      <td>2.0</td>\n",
              "      <td>35.0</td>\n",
              "    </tr>\n",
              "    <tr>\n",
              "      <th>4</th>\n",
              "      <td>Recursão</td>\n",
              "      <td>2.0</td>\n",
              "      <td>1.0</td>\n",
              "      <td>38.0</td>\n",
              "    </tr>\n",
              "    <tr>\n",
              "      <th>5</th>\n",
              "      <td>String</td>\n",
              "      <td>1.0</td>\n",
              "      <td>0.0</td>\n",
              "      <td>40.0</td>\n",
              "    </tr>\n",
              "    <tr>\n",
              "      <th>6</th>\n",
              "      <td>Vetores</td>\n",
              "      <td>6.0</td>\n",
              "      <td>8.0</td>\n",
              "      <td>27.0</td>\n",
              "    </tr>\n",
              "    <tr>\n",
              "      <th>7</th>\n",
              "      <td>Funções</td>\n",
              "      <td>0.0</td>\n",
              "      <td>13.0</td>\n",
              "      <td>28.0</td>\n",
              "    </tr>\n",
              "    <tr>\n",
              "      <th>8</th>\n",
              "      <td>Ponteiros</td>\n",
              "      <td>0.0</td>\n",
              "      <td>6.0</td>\n",
              "      <td>35.0</td>\n",
              "    </tr>\n",
              "    <tr>\n",
              "      <th>9</th>\n",
              "      <td>Tipos Estruturados</td>\n",
              "      <td>0.0</td>\n",
              "      <td>21.0</td>\n",
              "      <td>20.0</td>\n",
              "    </tr>\n",
              "  </tbody>\n",
              "</table>\n",
              "</div>"
            ],
            "text/plain": [
              "                   subject  more  less  missing\n",
              "0        Assunto em Branco   6.0  22.0     13.0\n",
              "1  Estruturas Condicionais  15.0  14.0     12.0\n",
              "2  Estruturas de Repetição  17.0   1.0     23.0\n",
              "3                 Matrizes   4.0   2.0     35.0\n",
              "4                 Recursão   2.0   1.0     38.0\n",
              "5                   String   1.0   0.0     40.0\n",
              "6                  Vetores   6.0   8.0     27.0\n",
              "7                  Funções   0.0  13.0     28.0\n",
              "8                Ponteiros   0.0   6.0     35.0\n",
              "9       Tipos Estruturados   0.0  21.0     20.0"
            ]
          },
          "metadata": {
            "tags": []
          },
          "execution_count": 48
        }
      ]
    },
    {
      "cell_type": "markdown",
      "metadata": {
        "id": "n0RjBff86IYX"
      },
      "source": [
        "Calcula a média da turma por assunto"
      ]
    },
    {
      "cell_type": "code",
      "metadata": {
        "id": "xtmPqgoy5_IO"
      },
      "source": [
        "def media_graph_performance_subject_list_test(df_performance_subject_list_test, data, df_class):\r\n",
        "  #Número de alunos na turma\r\n",
        "  total_students = df_class.loc[df_class['id_class'].str.contains(data.iloc[0,0]),'studentsCount'].max()\r\n",
        "  #Media por assunto na turma\r\n",
        "  df_mean_subject = (df_performance_subject_list_test.groupby(['subject'])['mediaSubject'].sum() / total_students).reset_index(name='mediaSubjectClass')\r\n",
        "  return df_mean_subject"
      ],
      "execution_count": 49,
      "outputs": []
    },
    {
      "cell_type": "code",
      "metadata": {
        "colab": {
          "base_uri": "https://localhost:8080/",
          "height": 359
        },
        "id": "EO6uQrex6jAS",
        "outputId": "64a0be0c-c107-4ed2-c2d5-e13cd75c8776"
      },
      "source": [
        "media_graph_performance_subject_list_test(df_performance_subject_list,data, df_class)"
      ],
      "execution_count": 50,
      "outputs": [
        {
          "output_type": "execute_result",
          "data": {
            "text/html": [
              "<div>\n",
              "<style scoped>\n",
              "    .dataframe tbody tr th:only-of-type {\n",
              "        vertical-align: middle;\n",
              "    }\n",
              "\n",
              "    .dataframe tbody tr th {\n",
              "        vertical-align: top;\n",
              "    }\n",
              "\n",
              "    .dataframe thead th {\n",
              "        text-align: right;\n",
              "    }\n",
              "</style>\n",
              "<table border=\"1\" class=\"dataframe\">\n",
              "  <thead>\n",
              "    <tr style=\"text-align: right;\">\n",
              "      <th></th>\n",
              "      <th>subject</th>\n",
              "      <th>mediaSubjectClass</th>\n",
              "    </tr>\n",
              "  </thead>\n",
              "  <tbody>\n",
              "    <tr>\n",
              "      <th>0</th>\n",
              "      <td>Assunto em Branco</td>\n",
              "      <td>30.313589</td>\n",
              "    </tr>\n",
              "    <tr>\n",
              "      <th>1</th>\n",
              "      <td>Estruturas Condicionais</td>\n",
              "      <td>46.676829</td>\n",
              "    </tr>\n",
              "    <tr>\n",
              "      <th>2</th>\n",
              "      <td>Estruturas de Repetição</td>\n",
              "      <td>41.463415</td>\n",
              "    </tr>\n",
              "    <tr>\n",
              "      <th>3</th>\n",
              "      <td>Funções</td>\n",
              "      <td>8.794038</td>\n",
              "    </tr>\n",
              "    <tr>\n",
              "      <th>4</th>\n",
              "      <td>Matrizes</td>\n",
              "      <td>10.975610</td>\n",
              "    </tr>\n",
              "    <tr>\n",
              "      <th>5</th>\n",
              "      <td>Ponteiros</td>\n",
              "      <td>4.878049</td>\n",
              "    </tr>\n",
              "    <tr>\n",
              "      <th>6</th>\n",
              "      <td>Recursão</td>\n",
              "      <td>5.487805</td>\n",
              "    </tr>\n",
              "    <tr>\n",
              "      <th>7</th>\n",
              "      <td>String</td>\n",
              "      <td>2.439024</td>\n",
              "    </tr>\n",
              "    <tr>\n",
              "      <th>8</th>\n",
              "      <td>Tipos Estruturados</td>\n",
              "      <td>23.170732</td>\n",
              "    </tr>\n",
              "    <tr>\n",
              "      <th>9</th>\n",
              "      <td>Vetores</td>\n",
              "      <td>19.359756</td>\n",
              "    </tr>\n",
              "  </tbody>\n",
              "</table>\n",
              "</div>"
            ],
            "text/plain": [
              "                   subject  mediaSubjectClass\n",
              "0        Assunto em Branco          30.313589\n",
              "1  Estruturas Condicionais          46.676829\n",
              "2  Estruturas de Repetição          41.463415\n",
              "3                  Funções           8.794038\n",
              "4                 Matrizes          10.975610\n",
              "5                Ponteiros           4.878049\n",
              "6                 Recursão           5.487805\n",
              "7                   String           2.439024\n",
              "8       Tipos Estruturados          23.170732\n",
              "9                  Vetores          19.359756"
            ]
          },
          "metadata": {
            "tags": []
          },
          "execution_count": 50
        }
      ]
    }
  ]
}