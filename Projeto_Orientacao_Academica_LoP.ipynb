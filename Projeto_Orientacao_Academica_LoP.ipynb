{
  "nbformat": 4,
  "nbformat_minor": 0,
  "metadata": {
    "accelerator": "TPU",
    "colab": {
      "name": "Projeto_Orientacao_Academica_LoP.ipynb",
      "provenance": [],
      "collapsed_sections": [
        "EXnFYbxV75Np",
        "WUBAPloS58yP",
        "TjeHFDBfwV5w",
        "oPh-k3-fR_zP",
        "AEJF9bZMSZpk",
        "B4rJ_jPviRsl",
        "DmuLGrPKFv1c",
        "PGR1IWltjEKS"
      ],
      "include_colab_link": true
    },
    "kernelspec": {
      "display_name": "Python 3",
      "name": "python3"
    }
  },
  "cells": [
    {
      "cell_type": "markdown",
      "metadata": {
        "id": "view-in-github",
        "colab_type": "text"
      },
      "source": [
        "<a href=\"https://colab.research.google.com/github/vilsonrodrigues/Projeto_Orientacao_Academica_LoP/blob/main/Projeto_Orientacao_Academica_LoP.ipynb\" target=\"_parent\"><img src=\"https://colab.research.google.com/assets/colab-badge.svg\" alt=\"Open In Colab\"/></a>"
      ]
    },
    {
      "cell_type": "markdown",
      "metadata": {
        "id": "B_vdAfc21u86"
      },
      "source": [
        "Por @vilsonrodrigues"
      ]
    },
    {
      "cell_type": "markdown",
      "metadata": {
        "id": "YLxXyebtnjM-"
      },
      "source": [
        "\n",
        "\n",
        "# <center>Projeto de Orientação Acadêmica do LoP\n",
        "\n",
        "\n"
      ]
    },
    {
      "cell_type": "markdown",
      "metadata": {
        "id": "ULCWX6-dwLgg"
      },
      "source": [
        "<img src='https://ufrn.br/resources/documentos/identidadevisual/logotipo/logotipo_flat.png'>"
      ]
    },
    {
      "cell_type": "markdown",
      "metadata": {
        "id": "C2tX7zYBx5Sd"
      },
      "source": [
        "## Parte I - Apresentação do Problema\n",
        "### [1. Apresentação do Problema](#apresentacao)\n",
        "## Parte II - Preparativos Iniciais\n",
        "### [1. Bibliotecas](#bibliotecas)\n",
        "### [2. Classe](#classe)\n",
        "### [3. Funções](#funcoes)\n",
        "### [4. Leitura da Base](#leiturabase)\n",
        "## Parte III - Desenvolvimento\n",
        "### [1. Entendimento de Negócio](#negocio)\n",
        "### [2. Entendimento de Dados](#enten_dados)\n",
        "### [3. Preparação de Dados](#preparo)\n",
        "### [4. Métricas de Avaliação](#metricas)\n",
        "### [5. Modelagem](#modelagem)\n",
        "### [6. Avaliação de Modelo](#avaliacao)\n",
        "### [7. Conclusão e Recomendações](#conclusao)\n",
        "### [8. Implantação de Modelos](#implantacao)\n"
      ]
    },
    {
      "cell_type": "markdown",
      "metadata": {
        "id": "Rwf-rhVr2Wvj"
      },
      "source": [
        "# Parte I - Apresentação do Problema"
      ]
    },
    {
      "cell_type": "markdown",
      "metadata": {
        "id": "bhu64Xadx9yH"
      },
      "source": [
        "### Meta\n",
        "\n",
        "### Fonte dos Dados\n",
        "\n",
        "### Referência\n",
        "Hands On: Machine Learning with Scikit-Learning e Tensor Flow\n",
        "\n"
      ]
    },
    {
      "cell_type": "markdown",
      "metadata": {
        "id": "pW86HnPh3ka-"
      },
      "source": [
        "# Parte II - Preparativos Iniciais"
      ]
    },
    {
      "cell_type": "markdown",
      "metadata": {
        "id": "vkhuxXT_3vQv"
      },
      "source": [
        "## 1. Bibliotecas\n",
        "<a id='bibliotecas'></a>\n",
        "#### [1.1 Instalações](#instalacao)\n",
        "#### [1.2 Importações](#importacao)\n"
      ]
    },
    {
      "cell_type": "markdown",
      "metadata": {
        "id": "OuOEB2A10Rah"
      },
      "source": [
        "### 1.1. Instalação\n",
        "<a id='instalacao'></a>"
      ]
    },
    {
      "cell_type": "code",
      "metadata": {
        "id": "_HXuie4y43tN"
      },
      "source": [
        "!pip install pandas -U\n",
        "!pip install scikit-learn -U\n",
        "!pip install numpy -U\n",
        "!pip install joblib==0.14.1\n",
        "!conda install xgboost -c conda-forge --yes"
      ],
      "execution_count": null,
      "outputs": []
    },
    {
      "cell_type": "markdown",
      "metadata": {
        "id": "D_S-Ua3YeLmS"
      },
      "source": [
        "### 1.2. Importação\n",
        "<a id='importacao'></a>"
      ]
    },
    {
      "cell_type": "code",
      "metadata": {
        "id": "4fDskXdweAA6"
      },
      "source": [
        "import pandas as pd\n",
        "import numpy as np\n",
        "\n",
        "#Persistência em disco\n",
        "import joblib\n",
        "import pickle\n",
        "\n",
        "#Visualização\n",
        "import seaborn as sns\n",
        "import matplotlib.pyplot as plt\n",
        "\n",
        "#Transformadores e Modelador\n",
        "from sklearn.pipeline          import Pipeline\n",
        "from sklearn.preprocessing     import StandardScaler\n",
        "from sklearn.base              import BaseEstimator, TransformerMixin\n",
        "\n",
        "#Selecao de modelo\n",
        "from sklearn.model_selection   import train_test_split\n",
        "from sklearn.model_selection   import KFold\n",
        "from sklearn.model_selection   import cross_val_score\n",
        "from sklearn.model_selection   import GridSearchCV\n",
        "from sklearn.feature_selection import SelectKBest, f_classif\n",
        "from sklearn.feature_selection import chi2\n",
        "\n",
        "#Metricas\n",
        "from sklearn.metrics           import classification_report\n",
        "from sklearn.metrics           import confusion_matrix\n",
        "from sklearn.metrics           import make_scorer\n",
        "from sklearn.metrics           import accuracy_score\n",
        "from sklearn.metrics           import f1_score\n",
        "from sklearn.metrics           import recall_score\n",
        "from sklearn.metrics           import precision_score\n",
        "\n",
        "#Classificadores\n",
        "from sklearn.ensemble          import RandomForestClassifier\n",
        "from xgboost                   import XGBClassifier\n",
        "from sklearn.tree              import DecisionTreeClassifier\n",
        "from sklearn.neighbors         import KNeighborsClassifier\n",
        "from sklearn.naive_bayes       import GaussianNB\n",
        "from sklearn.svm               import SVC\n",
        "from sklearn.neural_network    import MLPClassifier\n",
        "\n",
        "#modo não-perturbe\n",
        "import warnings\n",
        "warnings.filterwarnings(\"ignore\")"
      ],
      "execution_count": null,
      "outputs": []
    },
    {
      "cell_type": "code",
      "metadata": {
        "id": "jauxgHcS9nOM"
      },
      "source": [
        "import pandas as pd\n",
        "import numpy as np\n",
        "import json\n",
        "import urllib3\n",
        "urllib3.disable_warnings()\n",
        "import seaborn as sns\n",
        "import matplotlib.pyplot as plt\n",
        "from datetime import datetime\n",
        "import re"
      ],
      "execution_count": 1,
      "outputs": []
    },
    {
      "cell_type": "markdown",
      "metadata": {
        "id": "EXnFYbxV75Np"
      },
      "source": [
        "##2. Classe\n",
        "<a id='classe'></a>\n"
      ]
    },
    {
      "cell_type": "code",
      "metadata": {
        "id": "8hmReTwj_KBi"
      },
      "source": [
        "class Calculadora:\n",
        "\n",
        "    def __init__(self, a, b):\n",
        "        self.a = a\n",
        "        self.b = b\n",
        "\n",
        "    def soma(self):\n",
        "        return self.a + self.b\n",
        "\n",
        "    def subtrai(self):\n",
        "        a = self.soma()\n",
        "        return self.a - self.b\n",
        "\n",
        "    def multiplica(self):\n",
        "        return self.a * self.b\n",
        "\n",
        "    def divide(self):\n",
        "        return self.a / self.b"
      ],
      "execution_count": null,
      "outputs": []
    },
    {
      "cell_type": "code",
      "metadata": {
        "id": "ka0cEGa3C90E"
      },
      "source": [
        "class Bag:\n",
        "    def __init__(self):\n",
        "        self.data = []\n",
        "\n",
        "    def add(self, x):\n",
        "        self.data.append(x)\n",
        "\n",
        "    def addtwice(self, x):\n",
        "        self.add(x)\n",
        "        self.add(x)"
      ],
      "execution_count": null,
      "outputs": []
    },
    {
      "cell_type": "code",
      "metadata": {
        "id": "zhqGDhAiDBvv"
      },
      "source": [
        "Bag().addtwice(2)"
      ],
      "execution_count": null,
      "outputs": []
    },
    {
      "cell_type": "code",
      "metadata": {
        "id": "zZudvYWr_LcF"
      },
      "source": [
        "c = Calculadora(128,2)"
      ],
      "execution_count": null,
      "outputs": []
    },
    {
      "cell_type": "code",
      "metadata": {
        "colab": {
          "base_uri": "https://localhost:8080/"
        },
        "id": "FbZSDNzr_XG5",
        "outputId": "17f0311e-9575-458f-db86-8618edb9e898"
      },
      "source": [
        "print('Soma:', c.subtrai())"
      ],
      "execution_count": null,
      "outputs": [
        {
          "output_type": "stream",
          "text": [
            "Soma: 126\n"
          ],
          "name": "stdout"
        }
      ]
    },
    {
      "cell_type": "code",
      "metadata": {
        "id": "8FCq0xod9nhS"
      },
      "source": [
        "class lop:\n",
        "\n",
        "  def __init__(self,geral = None):\n",
        "    self.geral = geral\n",
        "  \n",
        "  def exibir(self):\n",
        "    print('a')"
      ],
      "execution_count": null,
      "outputs": []
    },
    {
      "cell_type": "code",
      "metadata": {
        "colab": {
          "base_uri": "https://localhost:8080/",
          "height": 164
        },
        "id": "TDcaK2fy_fB-",
        "outputId": "61f98339-0fd7-432f-d496-66176bb99b84"
      },
      "source": [
        "lop.exibir()"
      ],
      "execution_count": null,
      "outputs": [
        {
          "output_type": "error",
          "ename": "TypeError",
          "evalue": "ignored",
          "traceback": [
            "\u001b[0;31m---------------------------------------------------------------------------\u001b[0m",
            "\u001b[0;31mTypeError\u001b[0m                                 Traceback (most recent call last)",
            "\u001b[0;32m<ipython-input-49-b04a05495a9f>\u001b[0m in \u001b[0;36m<module>\u001b[0;34m()\u001b[0m\n\u001b[0;32m----> 1\u001b[0;31m \u001b[0mlop\u001b[0m\u001b[0;34m.\u001b[0m\u001b[0mexibir\u001b[0m\u001b[0;34m(\u001b[0m\u001b[0;34m)\u001b[0m\u001b[0;34m\u001b[0m\u001b[0;34m\u001b[0m\u001b[0m\n\u001b[0m",
            "\u001b[0;31mTypeError\u001b[0m: exibir() missing 1 required positional argument: 'self'"
          ]
        }
      ]
    },
    {
      "cell_type": "code",
      "metadata": {
        "colab": {
          "base_uri": "https://localhost:8080/",
          "height": 164
        },
        "id": "8Nj7V2TL95Ck",
        "outputId": "64b1eeb2-8ee7-4768-88c1-9957cf180dd1"
      },
      "source": [
        "lop2.chama()"
      ],
      "execution_count": null,
      "outputs": [
        {
          "output_type": "error",
          "ename": "TypeError",
          "evalue": "ignored",
          "traceback": [
            "\u001b[0;31m---------------------------------------------------------------------------\u001b[0m",
            "\u001b[0;31mTypeError\u001b[0m                                 Traceback (most recent call last)",
            "\u001b[0;32m<ipython-input-41-84246ba3bb1d>\u001b[0m in \u001b[0;36m<module>\u001b[0;34m()\u001b[0m\n\u001b[0;32m----> 1\u001b[0;31m \u001b[0mlop2\u001b[0m\u001b[0;34m.\u001b[0m\u001b[0mchama\u001b[0m\u001b[0;34m(\u001b[0m\u001b[0;34m)\u001b[0m\u001b[0;34m\u001b[0m\u001b[0;34m\u001b[0m\u001b[0m\n\u001b[0m",
            "\u001b[0;31mTypeError\u001b[0m: chama() missing 1 required positional argument: 'self'"
          ]
        }
      ]
    },
    {
      "cell_type": "markdown",
      "metadata": {
        "id": "I4WG5ZVa9Abp"
      },
      "source": [
        "Classe para a API"
      ]
    },
    {
      "cell_type": "code",
      "metadata": {
        "id": "3sfmYXZd8MuV"
      },
      "source": [
        "class lop(pandas,numpy,json,urllib3):\n",
        "  import pandas as pd \n",
        "  def __init__(self):\n",
        "    super().__init__(self)\n",
        "    pass\n",
        "\n",
        "  #Função de leitura de arquivos txt\n",
        "  def read_txt(path):\n",
        "    with open(path,'r') as file:\n",
        "      return file.read()\n",
        "\n",
        "  #Função de consulta no LoP\n",
        "  def lop_consult(url):\n",
        "    http = urllib3.PoolManager()\n",
        "    req = http.request('GET',url)\n",
        "    if req.status == 200:\n",
        "      return pd.read_json(req.data, orient = 'RECORDS', encoding = 'utf-8').copy()\n",
        "    else: \n",
        "      return False\n",
        "\n",
        "  #Função para obter todas as classes do LoP a partir de uma lista de professores\n",
        "  def lop_class(df_teacher = pd.DataFrame()):\n",
        "    #Essa função se passar por cópia o df_teacher se torna desnecessário fazer a requisição de todas os professores, e evitando fazer varias consultas\n",
        "    #Dataframe onde será armazenado todas as turmas\n",
        "    df_class = pd.DataFrame()\n",
        "    if df_teacher.empty == True:\n",
        "      #Formação da url de consulta para saber os professores cadastrados no LoP\n",
        "      url_teacher = endpoint_teacher + key\n",
        "      #Realizando a consulta no LoP\n",
        "      df_teacher = lop_consult(url_teacher)#id, email, name\n",
        "    #O laço faz uma varredura das turmas de cada professor e por fim armazena em um dataframe de turmas\n",
        "    for id_teacher in df_teacher['id']:\n",
        "      #O LoP.v2 foi desenvolvido em 2019, então temos que capturar as turmas entre 2019 e o ano atual\n",
        "      current_year = datetime.now().year\n",
        "      for year in range(2019, current_year + 1):\n",
        "        #Por fim precisamos do semestre que deve ser 1 ou 2\n",
        "        for semester in range(1,3): \n",
        "          #Url de consulta de classes\n",
        "          url_class = endpoint_class + id_teacher + '?year=' + str(year) + '&semester=' + str(semester) + '&key=' + key \n",
        "          #Dataframe provisório necessário para capturar o tamanho e saber quantas turmas esse professor tem que estar associado\n",
        "          df_prov = lop_consult(url_class)\n",
        "          #Inserindo o id do professor no dataframe de turmas\n",
        "          df_prov['id_teacher'] = id_teacher\n",
        "          #Adicionando turmas conforme novas consultas\n",
        "          df_class = df_class.append(df_prov, ignore_index=True).copy()#id, name, code, year, semester, id_teacher\n",
        "    #Renomeando colunas com nomes semelhantes em todos os DF\n",
        "    df_class.rename(columns={'id':'id_class','name':'name_class'}, inplace = True)\n",
        "    return df_class\n",
        "\n",
        "  #Função para obter todas as submissões a partir de uma lista de turmas\n",
        "  def lop_submission(df_class = pd.DataFrame()):\n",
        "    #Essa função se passar por cópia o df_class se torna desnecessário fazer a requisição de todas as turmas usando a função lop_class()\n",
        "    #Dataframe onde serão armazenados todas as submissões \n",
        "    df_submission = pd.DataFrame()  \n",
        "    if df_class.empty == True:\n",
        "      df_class = lop_class()  \n",
        "    #Obtem todas as submissões da lista de turmas passadas\n",
        "    for id_class in df_class['id_class']:\n",
        "      #Url da consulta as submissões\n",
        "      url_submission = endpoint_submission + id_class + '/submission?key=' + key\n",
        "      #Dataframe provisório que vai armazenar o resultado da consulta\n",
        "      df_prov = lop_consult(url_submission)\n",
        "      #Inserindo o id_class no dataframe de consultas\n",
        "      df_prov['id_class'] = id_class\n",
        "      #Adicionando submissões conforme consultas\n",
        "      df_submission = df_submission.append(df_prov, ignore_index=True).copy()\n",
        "    #Campo user trás matricula e o nome do usuário, vamos separar em 2 colunas distintas\n",
        "    df_submission[['user','registration']] = df_submission['user'].str.split('-',expand=True)\n",
        "    return df_submission\n",
        "\n",
        "  #Função para obter dados das questões cadastradas no LoP\n",
        "  def lop_question():\n",
        "    url_question = endpoint_question + key\n",
        "    df_lop_question = lop_consult(url_question)\n",
        "    df_lop_question.rename(columns = {'id':'id_question','title':'question'}, inplace = True)\n",
        "    return df_lop_question\n",
        "  \n",
        "  #Função que transforma os dados das questões extraídas do LoP, assim podemos saber a dificuldade de uma questão, que pode estar associada a uma ou mais listas\n",
        "  def question_data(df_question = pd.DataFrame()):\n",
        "    #Essa função se passar por cópia o df_question se torna desnecessário fazer a requisição de todas as turmas usando a função lop_question()\n",
        "    #Dataframes onde serão armazenados todas as questões transformadas\n",
        "    df_list_data = pd.DataFrame()  \n",
        "    df_tag_data = pd.DataFrame()  \n",
        "    df_question_data = pd.DataFrame()  \n",
        "    if df_question.empty == True:\n",
        "      df_question = lop_question()\n",
        "    for question,lists,tags,difficulty in zip(df_question['question'],df_question['lists'],df_question['tags'],df_question['difficulty']):\n",
        "      #Cada registro do json pode ficar com mais de uma lista associada a uma questão, por isso a necessidade de extrair\n",
        "      df_prov_lists  = pd.DataFrame(json.loads(str(lists).replace(\"'\",'\"')))\n",
        "      #df_prov_lists.rename(columns = {'id':'id_list','title':'list'}, inplace = True)\n",
        "      #Inserindo a questão associada\n",
        "      df_prov_lists['question'] = question\n",
        "      df_prov_lists['difficulty'] = difficulty\n",
        "      df_list_data = df_list_data.append(df_prov_lists, ignore_index = True).copy()\n",
        "      #Extraindo as tags, que vão dizer o conteudo associado\n",
        "      df_prov_tags = pd.DataFrame(json.loads(str(tags).replace(\"'\",'\"'))).T\n",
        "      #Inserindo a questão associada\n",
        "      df_prov_tags['question'] = question    \n",
        "      df_tag_data = df_tag_data.append(df_prov_tags, ignore_index = True).copy()\n",
        "    df_list_data.rename(columns = {'id':'id_list','title':'list'}, inplace = True)\n",
        "    #df_list_data['difficulty'] = df_list_data['difficulty'].astype('int')\n",
        "    columns_tags = ['question']\n",
        "    for i in range(len(df_tag_data.columns)-1): columns_tags.append('tag'+str(i+1))\n",
        "    df_tag_data.columns = columns_tags\n",
        "    return pd.merge(df_list_data, df_tag_data, on = 'question', how = 'outer').fillna(0).copy()\n",
        "\n",
        "  #Função para avaliar a perfomance por lista\n",
        "  def performance_list(df_submission, df_question_data = pd.DataFrame()):  \n",
        "    #Essa função necessita receber as submissões de uma turma ---------- depois podemos incrementar essa função ao ter uma turma associada e agrupar por elas\n",
        "    #Me traz as porcentagens maximas de acerto por questão\n",
        "    df_performance_list = df_submission.groupby(['user','registration','list','question'])['hitPercentage'].max().reset_index()\n",
        "    #Soma as porcentagens de uma lista unica\n",
        "    df_performance_list = df_performance_list.groupby(['user','registration','list'])['hitPercentage'].sum().reset_index()\n",
        "    #Renomeando para melhorar entendimento\n",
        "    df_performance_list.rename(columns={'hitPercentage':'totalHitPercentage'}, inplace = True)\n",
        "    if df_question_data.empty == True:\n",
        "      #Usando a função de dados de questão para ter informações sobre que questões estão associadas a lista\n",
        "      df_question_data = question_data()\n",
        "    #Agrupa por lista e questão para ter apenas uma questão de cada, a operação não importa muito, apenas existe para completar o agrupamento --------- pode ser uma boa trocar por drop_duplicates\n",
        "    df_question_data = df_question_data.groupby(['list','question'])['id_list'].count().reset_index()\n",
        "    #Conta quantas questões tem por lista\n",
        "    df_question_data = df_question_data.groupby(['list'])['question'].count().reset_index()\n",
        "    #Renomeando lista\n",
        "    df_question_data.rename(columns={'question':'totalQuestionsList'}, inplace = True)\n",
        "    #Merge\n",
        "    df_performance_list = df_performance_list.merge(df_question_data, on = 'list')\n",
        "    #Média de acerto por lista\n",
        "    df_performance_list['mediaList'] = df_performance_list['totalHitPercentage'] / df_performance_list['totalQuestionsList']\n",
        "    return df_performance_list\n",
        "  \n",
        "  #Função do gráfico de barras que, por lista, faz a contagem de quem fez mais e menos de 70% da lista. Necessita de passar a performance do aluno por lista\n",
        "  def graph_more_less_70_list_class(df_performance_list):\n",
        "    #Aqui eu conto, por lista, quantos tiraram mais de 70% de acerto\n",
        "    df_more70 = df_performance_list[df_performance_list['mediaList'] >= 70.0].groupby('list')['mediaList'].count().reset_index(name='more70')\n",
        "    #E nesse conta quantos tiveram menos de 70%\n",
        "    df_less70 = df_performance_list[df_performance_list['mediaList'] < 70.0].groupby('list')['mediaList'].count().reset_index(name='less70')\n",
        "    #Aqui junta ambos os dataframes, usando o outer, que, se por acaso não tiver uma ocorrência de uma lista em um dos dataframes, mesmo assim eles vão ser adicionados, é união dos conjuntos\n",
        "    df_less_more_70 = pd.merge(df_more70, df_less70, on = 'list', how = 'outer')\n",
        "    #E, se caso acontecer a situação de um não existir, substituimos o nan por 0\n",
        "    df_less_more_70.replace(np.NaN, 0, inplace = True)\n",
        "    return df_less_more_70.to_json(force_ascii=False, orient='records') ############# por hora essa função tamebm esta realizando downlaod\n",
        "\n",
        "  #Função do gráfico de barras que, por aluno, calcula a média do aluno por lista e agrupa todas as listas e notas em um campo só\n",
        "  def graph_performance_student_list(df_performance_list):\n",
        "    #Usando dummies para transformar cada lista em uma coluna. O Dummies vai inserir 1 em cada ocorrencia\n",
        "    df_performance_list = pd.get_dummies(df_performance_list,columns=['list'],prefix='',prefix_sep='')\n",
        "    #Cria um dataframe provisório\n",
        "    df_prov = pd.DataFrame()\n",
        "    #Campo do valor que irei inserir\n",
        "    df_mediaList = df_performance_list['mediaList']\n",
        "    #Apagando colunas desnecessárias\n",
        "    df_performance_list = df_performance_list.drop(columns=['totalHitPercentage','totalQuestionsList','mediaList'])\n",
        "    #Iterando sobre todo as submissões\n",
        "    for i in range(len(df_performance_list.user)):\n",
        "      #Substituindo o 1 do dummies pela média da lista\n",
        "      df_prov = df_prov.append(df_performance_list.iloc[i,:].replace(1,df_mediaList[i]))\n",
        "    #Agrupando para todas as linhas se tornarem apenas 1 ocorrência de cada aluno\n",
        "    df_prov = df_prov.groupby(['user','registration']).sum().reset_index()\n",
        "    return df_prov.to_json('graph_performance_student_list.json',force_ascii=False,orient='records')"
      ],
      "execution_count": null,
      "outputs": []
    },
    {
      "cell_type": "code",
      "metadata": {
        "id": "q8wlz3Di6hKA"
      },
      "source": [
        "df_lop_question = lop.lop_question()"
      ],
      "execution_count": null,
      "outputs": []
    },
    {
      "cell_type": "code",
      "metadata": {
        "id": "g5-60qhv7UPy"
      },
      "source": [
        "df_question_data = lop.question_data(df_lop_question)"
      ],
      "execution_count": null,
      "outputs": []
    },
    {
      "cell_type": "code",
      "metadata": {
        "colab": {
          "base_uri": "https://localhost:8080/",
          "height": 419
        },
        "id": "JIrgITw1nVnU",
        "outputId": "6c2ad9c1-f251-4a7b-e03b-5cf6a2cff7ba"
      },
      "source": [
        "df"
      ],
      "execution_count": null,
      "outputs": [
        {
          "output_type": "execute_result",
          "data": {
            "text/html": [
              "<div>\n",
              "<style scoped>\n",
              "    .dataframe tbody tr th:only-of-type {\n",
              "        vertical-align: middle;\n",
              "    }\n",
              "\n",
              "    .dataframe tbody tr th {\n",
              "        vertical-align: top;\n",
              "    }\n",
              "\n",
              "    .dataframe thead th {\n",
              "        text-align: right;\n",
              "    }\n",
              "</style>\n",
              "<table border=\"1\" class=\"dataframe\">\n",
              "  <thead>\n",
              "    <tr style=\"text-align: right;\">\n",
              "      <th></th>\n",
              "      <th>id_question</th>\n",
              "      <th>question</th>\n",
              "      <th>difficulty</th>\n",
              "      <th>tags</th>\n",
              "      <th>lists</th>\n",
              "      <th>tests</th>\n",
              "    </tr>\n",
              "  </thead>\n",
              "  <tbody>\n",
              "    <tr>\n",
              "      <th>0</th>\n",
              "      <td>a4021c40-b646-11ea-b3ea-acde48001122</td>\n",
              "      <td># Números Amigos</td>\n",
              "      <td>2</td>\n",
              "      <td>[]</td>\n",
              "      <td>[{'id': '2c43b603-7f97-4a51-9663-2efdd3845ef4'...</td>\n",
              "      <td>[]</td>\n",
              "    </tr>\n",
              "    <tr>\n",
              "      <th>1</th>\n",
              "      <td>1443d8d5-952f-43f4-8be4-85f4baeb678c</td>\n",
              "      <td>A dezena é par ou ímpar?</td>\n",
              "      <td>1</td>\n",
              "      <td>[]</td>\n",
              "      <td>[]</td>\n",
              "      <td>[]</td>\n",
              "    </tr>\n",
              "    <tr>\n",
              "      <th>2</th>\n",
              "      <td>21035442-4f71-486b-b31d-2bc09ce02a16</td>\n",
              "      <td>A média de 4 alunos</td>\n",
              "      <td>3</td>\n",
              "      <td>[{'name': 'Estruturas de Repetição'}, {'name':...</td>\n",
              "      <td>[{'id': 'dd1cd083-6c00-4605-9ff1-163bd4069363'...</td>\n",
              "      <td>[]</td>\n",
              "    </tr>\n",
              "    <tr>\n",
              "      <th>3</th>\n",
              "      <td>3a002d52-5861-4d2f-a51e-7e55d39861e2</td>\n",
              "      <td>A soma é par ou impar?</td>\n",
              "      <td>1</td>\n",
              "      <td>[]</td>\n",
              "      <td>[]</td>\n",
              "      <td>[]</td>\n",
              "    </tr>\n",
              "    <tr>\n",
              "      <th>4</th>\n",
              "      <td>a72f965f-877a-4183-a0d8-396a44cf62c0</td>\n",
              "      <td>A soma é par?</td>\n",
              "      <td>1</td>\n",
              "      <td>[]</td>\n",
              "      <td>[]</td>\n",
              "      <td>[]</td>\n",
              "    </tr>\n",
              "    <tr>\n",
              "      <th>...</th>\n",
              "      <td>...</td>\n",
              "      <td>...</td>\n",
              "      <td>...</td>\n",
              "      <td>...</td>\n",
              "      <td>...</td>\n",
              "      <td>...</td>\n",
              "    </tr>\n",
              "    <tr>\n",
              "      <th>740</th>\n",
              "      <td>b781b644-9233-4c64-92c0-52e30d26dc49</td>\n",
              "      <td>Venda X</td>\n",
              "      <td>1</td>\n",
              "      <td>[{'name': 'Estruturas Condicionais'}, {'name':...</td>\n",
              "      <td>[{'id': '0029c21a-270c-453f-83de-4736426fef8d'...</td>\n",
              "      <td>[]</td>\n",
              "    </tr>\n",
              "    <tr>\n",
              "      <th>741</th>\n",
              "      <td>f119a5d8-0b5d-4064-b22b-589fdbe6b2fe</td>\n",
              "      <td>Vetor Ordenado?</td>\n",
              "      <td>3</td>\n",
              "      <td>[{'name': 'Funções'}, {'name': 'Vetores'}]</td>\n",
              "      <td>[{'id': '1d70b477-a5a4-4474-b230-9b69fab0ddf0'...</td>\n",
              "      <td>[]</td>\n",
              "    </tr>\n",
              "    <tr>\n",
              "      <th>742</th>\n",
              "      <td>286853fb-93f6-4c1c-b711-530d2dfc1962</td>\n",
              "      <td>Vetor soma das colunas</td>\n",
              "      <td>3</td>\n",
              "      <td>[{'name': 'Matrizes'}]</td>\n",
              "      <td>[]</td>\n",
              "      <td>[]</td>\n",
              "    </tr>\n",
              "    <tr>\n",
              "      <th>743</th>\n",
              "      <td>1743ba1e-b567-47b5-92fc-740c58bbe163</td>\n",
              "      <td>Viagem à Marte na Velocidade de Primo (corrigir)</td>\n",
              "      <td>3</td>\n",
              "      <td>[{'name': 'Estruturas Condicionais'}, {'name':...</td>\n",
              "      <td>[{'id': '4398d9fa-3a28-4afd-baa9-1015ed88af9e'...</td>\n",
              "      <td>[]</td>\n",
              "    </tr>\n",
              "    <tr>\n",
              "      <th>744</th>\n",
              "      <td>a82bb269-49e7-4c85-bb6e-9331d5b36d67</td>\n",
              "      <td>Xadrez e torres</td>\n",
              "      <td>1</td>\n",
              "      <td>[{'name': 'Matrizes'}]</td>\n",
              "      <td>[{'id': '1d70b477-a5a4-4474-b230-9b69fab0ddf0'...</td>\n",
              "      <td>[]</td>\n",
              "    </tr>\n",
              "  </tbody>\n",
              "</table>\n",
              "<p>745 rows × 6 columns</p>\n",
              "</div>"
            ],
            "text/plain": [
              "                              id_question  ... tests\n",
              "0    a4021c40-b646-11ea-b3ea-acde48001122  ...    []\n",
              "1    1443d8d5-952f-43f4-8be4-85f4baeb678c  ...    []\n",
              "2    21035442-4f71-486b-b31d-2bc09ce02a16  ...    []\n",
              "3    3a002d52-5861-4d2f-a51e-7e55d39861e2  ...    []\n",
              "4    a72f965f-877a-4183-a0d8-396a44cf62c0  ...    []\n",
              "..                                    ...  ...   ...\n",
              "740  b781b644-9233-4c64-92c0-52e30d26dc49  ...    []\n",
              "741  f119a5d8-0b5d-4064-b22b-589fdbe6b2fe  ...    []\n",
              "742  286853fb-93f6-4c1c-b711-530d2dfc1962  ...    []\n",
              "743  1743ba1e-b567-47b5-92fc-740c58bbe163  ...    []\n",
              "744  a82bb269-49e7-4c85-bb6e-9331d5b36d67  ...    []\n",
              "\n",
              "[745 rows x 6 columns]"
            ]
          },
          "metadata": {
            "tags": []
          },
          "execution_count": 74
        }
      ]
    },
    {
      "cell_type": "code",
      "metadata": {
        "colab": {
          "base_uri": "https://localhost:8080/"
        },
        "id": "zqPgONCFkaHw",
        "outputId": "c5fde5e5-ec0d-4a74-f256-8a110b7d8523"
      },
      "source": [
        "len(df2['question'].unique())"
      ],
      "execution_count": null,
      "outputs": [
        {
          "output_type": "execute_result",
          "data": {
            "text/plain": [
              "695"
            ]
          },
          "metadata": {
            "tags": []
          },
          "execution_count": 65
        }
      ]
    },
    {
      "cell_type": "code",
      "metadata": {
        "id": "889UYjCui8AY"
      },
      "source": [
        "a=df2['question']\n",
        "b=df['question']"
      ],
      "execution_count": null,
      "outputs": []
    },
    {
      "cell_type": "code",
      "metadata": {
        "colab": {
          "base_uri": "https://localhost:8080/"
        },
        "id": "MWekVq5EorNd",
        "outputId": "78609660-3022-4d72-f1f2-37b64c5b6649"
      },
      "source": [
        "b.rename(columns=["
      ],
      "execution_count": null,
      "outputs": [
        {
          "output_type": "execute_result",
          "data": {
            "text/plain": [
              "0                                      # Números Amigos\n",
              "1                              A dezena é par ou ímpar?\n",
              "2                                   A média de 4 alunos\n",
              "3                                A soma é par ou impar?\n",
              "4                                         A soma é par?\n",
              "                             ...                       \n",
              "740                                             Venda X\n",
              "741                                     Vetor Ordenado?\n",
              "742                              Vetor soma das colunas\n",
              "743    Viagem à Marte na Velocidade de Primo (corrigir)\n",
              "744                                     Xadrez e torres\n",
              "Name: question, Length: 745, dtype: object"
            ]
          },
          "metadata": {
            "tags": []
          },
          "execution_count": 83
        }
      ]
    },
    {
      "cell_type": "code",
      "metadata": {
        "colab": {
          "base_uri": "https://localhost:8080/",
          "height": 307
        },
        "id": "xLO8Qc4MnmXG",
        "outputId": "359fa006-422c-4d18-bcd8-29f0fdcbb1f0"
      },
      "source": [
        "pd.concat([a,b],axis=1)"
      ],
      "execution_count": null,
      "outputs": [
        {
          "output_type": "error",
          "ename": "ValueError",
          "evalue": "ignored",
          "traceback": [
            "\u001b[0;31m---------------------------------------------------------------------------\u001b[0m",
            "\u001b[0;31mValueError\u001b[0m                                Traceback (most recent call last)",
            "\u001b[0;32m<ipython-input-82-5c416e457e21>\u001b[0m in \u001b[0;36m<module>\u001b[0;34m()\u001b[0m\n\u001b[0;32m----> 1\u001b[0;31m \u001b[0mpd\u001b[0m\u001b[0;34m.\u001b[0m\u001b[0mconcat\u001b[0m\u001b[0;34m(\u001b[0m\u001b[0;34m[\u001b[0m\u001b[0ma\u001b[0m\u001b[0;34m,\u001b[0m\u001b[0mb\u001b[0m\u001b[0;34m]\u001b[0m\u001b[0;34m,\u001b[0m\u001b[0maxis\u001b[0m\u001b[0;34m=\u001b[0m\u001b[0;36m1\u001b[0m\u001b[0;34m)\u001b[0m\u001b[0;34m\u001b[0m\u001b[0;34m\u001b[0m\u001b[0m\n\u001b[0m",
            "\u001b[0;32m/usr/local/lib/python3.6/dist-packages/pandas/core/reshape/concat.py\u001b[0m in \u001b[0;36mconcat\u001b[0;34m(objs, axis, join, ignore_index, keys, levels, names, verify_integrity, sort, copy)\u001b[0m\n\u001b[1;32m    285\u001b[0m     )\n\u001b[1;32m    286\u001b[0m \u001b[0;34m\u001b[0m\u001b[0m\n\u001b[0;32m--> 287\u001b[0;31m     \u001b[0;32mreturn\u001b[0m \u001b[0mop\u001b[0m\u001b[0;34m.\u001b[0m\u001b[0mget_result\u001b[0m\u001b[0;34m(\u001b[0m\u001b[0;34m)\u001b[0m\u001b[0;34m\u001b[0m\u001b[0;34m\u001b[0m\u001b[0m\n\u001b[0m\u001b[1;32m    288\u001b[0m \u001b[0;34m\u001b[0m\u001b[0m\n\u001b[1;32m    289\u001b[0m \u001b[0;34m\u001b[0m\u001b[0m\n",
            "\u001b[0;32m/usr/local/lib/python3.6/dist-packages/pandas/core/reshape/concat.py\u001b[0m in \u001b[0;36mget_result\u001b[0;34m(self)\u001b[0m\n\u001b[1;32m    478\u001b[0m \u001b[0;34m\u001b[0m\u001b[0m\n\u001b[1;32m    479\u001b[0m                 \u001b[0mindex\u001b[0m\u001b[0;34m,\u001b[0m \u001b[0mcolumns\u001b[0m \u001b[0;34m=\u001b[0m \u001b[0mself\u001b[0m\u001b[0;34m.\u001b[0m\u001b[0mnew_axes\u001b[0m\u001b[0;34m\u001b[0m\u001b[0;34m\u001b[0m\u001b[0m\n\u001b[0;32m--> 480\u001b[0;31m                 \u001b[0mdf\u001b[0m \u001b[0;34m=\u001b[0m \u001b[0mcons\u001b[0m\u001b[0;34m(\u001b[0m\u001b[0mdata\u001b[0m\u001b[0;34m,\u001b[0m \u001b[0mindex\u001b[0m\u001b[0;34m=\u001b[0m\u001b[0mindex\u001b[0m\u001b[0;34m)\u001b[0m\u001b[0;34m\u001b[0m\u001b[0;34m\u001b[0m\u001b[0m\n\u001b[0m\u001b[1;32m    481\u001b[0m                 \u001b[0mdf\u001b[0m\u001b[0;34m.\u001b[0m\u001b[0mcolumns\u001b[0m \u001b[0;34m=\u001b[0m \u001b[0mcolumns\u001b[0m\u001b[0;34m\u001b[0m\u001b[0;34m\u001b[0m\u001b[0m\n\u001b[1;32m    482\u001b[0m                 \u001b[0;32mreturn\u001b[0m \u001b[0mdf\u001b[0m\u001b[0;34m.\u001b[0m\u001b[0m__finalize__\u001b[0m\u001b[0;34m(\u001b[0m\u001b[0mself\u001b[0m\u001b[0;34m,\u001b[0m \u001b[0mmethod\u001b[0m\u001b[0;34m=\u001b[0m\u001b[0;34m\"concat\"\u001b[0m\u001b[0;34m)\u001b[0m\u001b[0;34m\u001b[0m\u001b[0;34m\u001b[0m\u001b[0m\n",
            "\u001b[0;32m/usr/local/lib/python3.6/dist-packages/pandas/core/frame.py\u001b[0m in \u001b[0;36m__init__\u001b[0;34m(self, data, index, columns, dtype, copy)\u001b[0m\n\u001b[1;32m    466\u001b[0m \u001b[0;34m\u001b[0m\u001b[0m\n\u001b[1;32m    467\u001b[0m         \u001b[0;32melif\u001b[0m \u001b[0misinstance\u001b[0m\u001b[0;34m(\u001b[0m\u001b[0mdata\u001b[0m\u001b[0;34m,\u001b[0m \u001b[0mdict\u001b[0m\u001b[0;34m)\u001b[0m\u001b[0;34m:\u001b[0m\u001b[0;34m\u001b[0m\u001b[0;34m\u001b[0m\u001b[0m\n\u001b[0;32m--> 468\u001b[0;31m             \u001b[0mmgr\u001b[0m \u001b[0;34m=\u001b[0m \u001b[0minit_dict\u001b[0m\u001b[0;34m(\u001b[0m\u001b[0mdata\u001b[0m\u001b[0;34m,\u001b[0m \u001b[0mindex\u001b[0m\u001b[0;34m,\u001b[0m \u001b[0mcolumns\u001b[0m\u001b[0;34m,\u001b[0m \u001b[0mdtype\u001b[0m\u001b[0;34m=\u001b[0m\u001b[0mdtype\u001b[0m\u001b[0;34m)\u001b[0m\u001b[0;34m\u001b[0m\u001b[0;34m\u001b[0m\u001b[0m\n\u001b[0m\u001b[1;32m    469\u001b[0m         \u001b[0;32melif\u001b[0m \u001b[0misinstance\u001b[0m\u001b[0;34m(\u001b[0m\u001b[0mdata\u001b[0m\u001b[0;34m,\u001b[0m \u001b[0mma\u001b[0m\u001b[0;34m.\u001b[0m\u001b[0mMaskedArray\u001b[0m\u001b[0;34m)\u001b[0m\u001b[0;34m:\u001b[0m\u001b[0;34m\u001b[0m\u001b[0;34m\u001b[0m\u001b[0m\n\u001b[1;32m    470\u001b[0m             \u001b[0;32mimport\u001b[0m \u001b[0mnumpy\u001b[0m\u001b[0;34m.\u001b[0m\u001b[0mma\u001b[0m\u001b[0;34m.\u001b[0m\u001b[0mmrecords\u001b[0m \u001b[0;32mas\u001b[0m \u001b[0mmrecords\u001b[0m\u001b[0;34m\u001b[0m\u001b[0;34m\u001b[0m\u001b[0m\n",
            "\u001b[0;32m/usr/local/lib/python3.6/dist-packages/pandas/core/internals/construction.py\u001b[0m in \u001b[0;36minit_dict\u001b[0;34m(data, index, columns, dtype)\u001b[0m\n\u001b[1;32m    281\u001b[0m             \u001b[0marr\u001b[0m \u001b[0;32mif\u001b[0m \u001b[0;32mnot\u001b[0m \u001b[0mis_datetime64tz_dtype\u001b[0m\u001b[0;34m(\u001b[0m\u001b[0marr\u001b[0m\u001b[0;34m)\u001b[0m \u001b[0;32melse\u001b[0m \u001b[0marr\u001b[0m\u001b[0;34m.\u001b[0m\u001b[0mcopy\u001b[0m\u001b[0;34m(\u001b[0m\u001b[0;34m)\u001b[0m \u001b[0;32mfor\u001b[0m \u001b[0marr\u001b[0m \u001b[0;32min\u001b[0m \u001b[0marrays\u001b[0m\u001b[0;34m\u001b[0m\u001b[0;34m\u001b[0m\u001b[0m\n\u001b[1;32m    282\u001b[0m         ]\n\u001b[0;32m--> 283\u001b[0;31m     \u001b[0;32mreturn\u001b[0m \u001b[0marrays_to_mgr\u001b[0m\u001b[0;34m(\u001b[0m\u001b[0marrays\u001b[0m\u001b[0;34m,\u001b[0m \u001b[0mdata_names\u001b[0m\u001b[0;34m,\u001b[0m \u001b[0mindex\u001b[0m\u001b[0;34m,\u001b[0m \u001b[0mcolumns\u001b[0m\u001b[0;34m,\u001b[0m \u001b[0mdtype\u001b[0m\u001b[0;34m=\u001b[0m\u001b[0mdtype\u001b[0m\u001b[0;34m)\u001b[0m\u001b[0;34m\u001b[0m\u001b[0;34m\u001b[0m\u001b[0m\n\u001b[0m\u001b[1;32m    284\u001b[0m \u001b[0;34m\u001b[0m\u001b[0m\n\u001b[1;32m    285\u001b[0m \u001b[0;34m\u001b[0m\u001b[0m\n",
            "\u001b[0;32m/usr/local/lib/python3.6/dist-packages/pandas/core/internals/construction.py\u001b[0m in \u001b[0;36marrays_to_mgr\u001b[0;34m(arrays, arr_names, index, columns, dtype, verify_integrity)\u001b[0m\n\u001b[1;32m     81\u001b[0m \u001b[0;34m\u001b[0m\u001b[0m\n\u001b[1;32m     82\u001b[0m         \u001b[0;31m# don't force copy because getting jammed in an ndarray anyway\u001b[0m\u001b[0;34m\u001b[0m\u001b[0;34m\u001b[0m\u001b[0;34m\u001b[0m\u001b[0m\n\u001b[0;32m---> 83\u001b[0;31m         \u001b[0marrays\u001b[0m \u001b[0;34m=\u001b[0m \u001b[0m_homogenize\u001b[0m\u001b[0;34m(\u001b[0m\u001b[0marrays\u001b[0m\u001b[0;34m,\u001b[0m \u001b[0mindex\u001b[0m\u001b[0;34m,\u001b[0m \u001b[0mdtype\u001b[0m\u001b[0;34m)\u001b[0m\u001b[0;34m\u001b[0m\u001b[0;34m\u001b[0m\u001b[0m\n\u001b[0m\u001b[1;32m     84\u001b[0m \u001b[0;34m\u001b[0m\u001b[0m\n\u001b[1;32m     85\u001b[0m         \u001b[0mcolumns\u001b[0m \u001b[0;34m=\u001b[0m \u001b[0mensure_index\u001b[0m\u001b[0;34m(\u001b[0m\u001b[0mcolumns\u001b[0m\u001b[0;34m)\u001b[0m\u001b[0;34m\u001b[0m\u001b[0;34m\u001b[0m\u001b[0m\n",
            "\u001b[0;32m/usr/local/lib/python3.6/dist-packages/pandas/core/internals/construction.py\u001b[0m in \u001b[0;36m_homogenize\u001b[0;34m(data, index, dtype)\u001b[0m\n\u001b[1;32m    338\u001b[0m                 \u001b[0;31m# Forces alignment. No need to copy data since we\u001b[0m\u001b[0;34m\u001b[0m\u001b[0;34m\u001b[0m\u001b[0;34m\u001b[0m\u001b[0m\n\u001b[1;32m    339\u001b[0m                 \u001b[0;31m# are putting it into an ndarray later\u001b[0m\u001b[0;34m\u001b[0m\u001b[0;34m\u001b[0m\u001b[0;34m\u001b[0m\u001b[0m\n\u001b[0;32m--> 340\u001b[0;31m                 \u001b[0mval\u001b[0m \u001b[0;34m=\u001b[0m \u001b[0mval\u001b[0m\u001b[0;34m.\u001b[0m\u001b[0mreindex\u001b[0m\u001b[0;34m(\u001b[0m\u001b[0mindex\u001b[0m\u001b[0;34m,\u001b[0m \u001b[0mcopy\u001b[0m\u001b[0;34m=\u001b[0m\u001b[0;32mFalse\u001b[0m\u001b[0;34m)\u001b[0m\u001b[0;34m\u001b[0m\u001b[0;34m\u001b[0m\u001b[0m\n\u001b[0m\u001b[1;32m    341\u001b[0m         \u001b[0;32melse\u001b[0m\u001b[0;34m:\u001b[0m\u001b[0;34m\u001b[0m\u001b[0;34m\u001b[0m\u001b[0m\n\u001b[1;32m    342\u001b[0m             \u001b[0;32mif\u001b[0m \u001b[0misinstance\u001b[0m\u001b[0;34m(\u001b[0m\u001b[0mval\u001b[0m\u001b[0;34m,\u001b[0m \u001b[0mdict\u001b[0m\u001b[0;34m)\u001b[0m\u001b[0;34m:\u001b[0m\u001b[0;34m\u001b[0m\u001b[0;34m\u001b[0m\u001b[0m\n",
            "\u001b[0;32m/usr/local/lib/python3.6/dist-packages/pandas/core/series.py\u001b[0m in \u001b[0;36mreindex\u001b[0;34m(self, index, **kwargs)\u001b[0m\n\u001b[1;32m   4409\u001b[0m     )\n\u001b[1;32m   4410\u001b[0m     \u001b[0;32mdef\u001b[0m \u001b[0mreindex\u001b[0m\u001b[0;34m(\u001b[0m\u001b[0mself\u001b[0m\u001b[0;34m,\u001b[0m \u001b[0mindex\u001b[0m\u001b[0;34m=\u001b[0m\u001b[0;32mNone\u001b[0m\u001b[0;34m,\u001b[0m \u001b[0;34m**\u001b[0m\u001b[0mkwargs\u001b[0m\u001b[0;34m)\u001b[0m\u001b[0;34m:\u001b[0m\u001b[0;34m\u001b[0m\u001b[0;34m\u001b[0m\u001b[0m\n\u001b[0;32m-> 4411\u001b[0;31m         \u001b[0;32mreturn\u001b[0m \u001b[0msuper\u001b[0m\u001b[0;34m(\u001b[0m\u001b[0;34m)\u001b[0m\u001b[0;34m.\u001b[0m\u001b[0mreindex\u001b[0m\u001b[0;34m(\u001b[0m\u001b[0mindex\u001b[0m\u001b[0;34m=\u001b[0m\u001b[0mindex\u001b[0m\u001b[0;34m,\u001b[0m \u001b[0;34m**\u001b[0m\u001b[0mkwargs\u001b[0m\u001b[0;34m)\u001b[0m\u001b[0;34m\u001b[0m\u001b[0;34m\u001b[0m\u001b[0m\n\u001b[0m\u001b[1;32m   4412\u001b[0m \u001b[0;34m\u001b[0m\u001b[0m\n\u001b[1;32m   4413\u001b[0m     def drop(\n",
            "\u001b[0;32m/usr/local/lib/python3.6/dist-packages/pandas/core/generic.py\u001b[0m in \u001b[0;36mreindex\u001b[0;34m(self, *args, **kwargs)\u001b[0m\n\u001b[1;32m   4460\u001b[0m         \u001b[0;31m# perform the reindex on the axes\u001b[0m\u001b[0;34m\u001b[0m\u001b[0;34m\u001b[0m\u001b[0;34m\u001b[0m\u001b[0m\n\u001b[1;32m   4461\u001b[0m         return self._reindex_axes(\n\u001b[0;32m-> 4462\u001b[0;31m             \u001b[0maxes\u001b[0m\u001b[0;34m,\u001b[0m \u001b[0mlevel\u001b[0m\u001b[0;34m,\u001b[0m \u001b[0mlimit\u001b[0m\u001b[0;34m,\u001b[0m \u001b[0mtolerance\u001b[0m\u001b[0;34m,\u001b[0m \u001b[0mmethod\u001b[0m\u001b[0;34m,\u001b[0m \u001b[0mfill_value\u001b[0m\u001b[0;34m,\u001b[0m \u001b[0mcopy\u001b[0m\u001b[0;34m\u001b[0m\u001b[0;34m\u001b[0m\u001b[0m\n\u001b[0m\u001b[1;32m   4463\u001b[0m         ).__finalize__(self, method=\"reindex\")\n\u001b[1;32m   4464\u001b[0m \u001b[0;34m\u001b[0m\u001b[0m\n",
            "\u001b[0;32m/usr/local/lib/python3.6/dist-packages/pandas/core/generic.py\u001b[0m in \u001b[0;36m_reindex_axes\u001b[0;34m(self, axes, level, limit, tolerance, method, fill_value, copy)\u001b[0m\n\u001b[1;32m   4483\u001b[0m                 \u001b[0mfill_value\u001b[0m\u001b[0;34m=\u001b[0m\u001b[0mfill_value\u001b[0m\u001b[0;34m,\u001b[0m\u001b[0;34m\u001b[0m\u001b[0;34m\u001b[0m\u001b[0m\n\u001b[1;32m   4484\u001b[0m                 \u001b[0mcopy\u001b[0m\u001b[0;34m=\u001b[0m\u001b[0mcopy\u001b[0m\u001b[0;34m,\u001b[0m\u001b[0;34m\u001b[0m\u001b[0;34m\u001b[0m\u001b[0m\n\u001b[0;32m-> 4485\u001b[0;31m                 \u001b[0mallow_dups\u001b[0m\u001b[0;34m=\u001b[0m\u001b[0;32mFalse\u001b[0m\u001b[0;34m,\u001b[0m\u001b[0;34m\u001b[0m\u001b[0;34m\u001b[0m\u001b[0m\n\u001b[0m\u001b[1;32m   4486\u001b[0m             )\n\u001b[1;32m   4487\u001b[0m \u001b[0;34m\u001b[0m\u001b[0m\n",
            "\u001b[0;32m/usr/local/lib/python3.6/dist-packages/pandas/core/generic.py\u001b[0m in \u001b[0;36m_reindex_with_indexers\u001b[0;34m(self, reindexers, fill_value, copy, allow_dups)\u001b[0m\n\u001b[1;32m   4528\u001b[0m                 \u001b[0mfill_value\u001b[0m\u001b[0;34m=\u001b[0m\u001b[0mfill_value\u001b[0m\u001b[0;34m,\u001b[0m\u001b[0;34m\u001b[0m\u001b[0;34m\u001b[0m\u001b[0m\n\u001b[1;32m   4529\u001b[0m                 \u001b[0mallow_dups\u001b[0m\u001b[0;34m=\u001b[0m\u001b[0mallow_dups\u001b[0m\u001b[0;34m,\u001b[0m\u001b[0;34m\u001b[0m\u001b[0;34m\u001b[0m\u001b[0m\n\u001b[0;32m-> 4530\u001b[0;31m                 \u001b[0mcopy\u001b[0m\u001b[0;34m=\u001b[0m\u001b[0mcopy\u001b[0m\u001b[0;34m,\u001b[0m\u001b[0;34m\u001b[0m\u001b[0;34m\u001b[0m\u001b[0m\n\u001b[0m\u001b[1;32m   4531\u001b[0m             )\n\u001b[1;32m   4532\u001b[0m             \u001b[0;31m# If we've made a copy once, no need to make another one\u001b[0m\u001b[0;34m\u001b[0m\u001b[0;34m\u001b[0m\u001b[0;34m\u001b[0m\u001b[0m\n",
            "\u001b[0;32m/usr/local/lib/python3.6/dist-packages/pandas/core/internals/managers.py\u001b[0m in \u001b[0;36mreindex_indexer\u001b[0;34m(self, new_axis, indexer, axis, fill_value, allow_dups, copy, consolidate)\u001b[0m\n\u001b[1;32m   1274\u001b[0m         \u001b[0;31m# some axes don't allow reindexing with dups\u001b[0m\u001b[0;34m\u001b[0m\u001b[0;34m\u001b[0m\u001b[0;34m\u001b[0m\u001b[0m\n\u001b[1;32m   1275\u001b[0m         \u001b[0;32mif\u001b[0m \u001b[0;32mnot\u001b[0m \u001b[0mallow_dups\u001b[0m\u001b[0;34m:\u001b[0m\u001b[0;34m\u001b[0m\u001b[0;34m\u001b[0m\u001b[0m\n\u001b[0;32m-> 1276\u001b[0;31m             \u001b[0mself\u001b[0m\u001b[0;34m.\u001b[0m\u001b[0maxes\u001b[0m\u001b[0;34m[\u001b[0m\u001b[0maxis\u001b[0m\u001b[0;34m]\u001b[0m\u001b[0;34m.\u001b[0m\u001b[0m_can_reindex\u001b[0m\u001b[0;34m(\u001b[0m\u001b[0mindexer\u001b[0m\u001b[0;34m)\u001b[0m\u001b[0;34m\u001b[0m\u001b[0;34m\u001b[0m\u001b[0m\n\u001b[0m\u001b[1;32m   1277\u001b[0m \u001b[0;34m\u001b[0m\u001b[0m\n\u001b[1;32m   1278\u001b[0m         \u001b[0;32mif\u001b[0m \u001b[0maxis\u001b[0m \u001b[0;34m>=\u001b[0m \u001b[0mself\u001b[0m\u001b[0;34m.\u001b[0m\u001b[0mndim\u001b[0m\u001b[0;34m:\u001b[0m\u001b[0;34m\u001b[0m\u001b[0;34m\u001b[0m\u001b[0m\n",
            "\u001b[0;32m/usr/local/lib/python3.6/dist-packages/pandas/core/indexes/base.py\u001b[0m in \u001b[0;36m_can_reindex\u001b[0;34m(self, indexer)\u001b[0m\n\u001b[1;32m   3287\u001b[0m         \u001b[0;31m# trying to reindex on an axis with duplicates\u001b[0m\u001b[0;34m\u001b[0m\u001b[0;34m\u001b[0m\u001b[0;34m\u001b[0m\u001b[0m\n\u001b[1;32m   3288\u001b[0m         \u001b[0;32mif\u001b[0m \u001b[0;32mnot\u001b[0m \u001b[0mself\u001b[0m\u001b[0;34m.\u001b[0m\u001b[0mis_unique\u001b[0m \u001b[0;32mand\u001b[0m \u001b[0mlen\u001b[0m\u001b[0;34m(\u001b[0m\u001b[0mindexer\u001b[0m\u001b[0;34m)\u001b[0m\u001b[0;34m:\u001b[0m\u001b[0;34m\u001b[0m\u001b[0;34m\u001b[0m\u001b[0m\n\u001b[0;32m-> 3289\u001b[0;31m             \u001b[0;32mraise\u001b[0m \u001b[0mValueError\u001b[0m\u001b[0;34m(\u001b[0m\u001b[0;34m\"cannot reindex from a duplicate axis\"\u001b[0m\u001b[0;34m)\u001b[0m\u001b[0;34m\u001b[0m\u001b[0;34m\u001b[0m\u001b[0m\n\u001b[0m\u001b[1;32m   3290\u001b[0m \u001b[0;34m\u001b[0m\u001b[0m\n\u001b[1;32m   3291\u001b[0m     \u001b[0;32mdef\u001b[0m \u001b[0mreindex\u001b[0m\u001b[0;34m(\u001b[0m\u001b[0mself\u001b[0m\u001b[0;34m,\u001b[0m \u001b[0mtarget\u001b[0m\u001b[0;34m,\u001b[0m \u001b[0mmethod\u001b[0m\u001b[0;34m=\u001b[0m\u001b[0;32mNone\u001b[0m\u001b[0;34m,\u001b[0m \u001b[0mlevel\u001b[0m\u001b[0;34m=\u001b[0m\u001b[0;32mNone\u001b[0m\u001b[0;34m,\u001b[0m \u001b[0mlimit\u001b[0m\u001b[0;34m=\u001b[0m\u001b[0;32mNone\u001b[0m\u001b[0;34m,\u001b[0m \u001b[0mtolerance\u001b[0m\u001b[0;34m=\u001b[0m\u001b[0;32mNone\u001b[0m\u001b[0;34m)\u001b[0m\u001b[0;34m:\u001b[0m\u001b[0;34m\u001b[0m\u001b[0;34m\u001b[0m\u001b[0m\n",
            "\u001b[0;31mValueError\u001b[0m: cannot reindex from a duplicate axis"
          ]
        }
      ]
    },
    {
      "cell_type": "code",
      "metadata": {
        "colab": {
          "base_uri": "https://localhost:8080/",
          "height": 283
        },
        "id": "aXz_R7Snlaj8",
        "outputId": "dc1b8e26-e1c5-4f1b-ab6a-1bc95c6fcaf1"
      },
      "source": [
        "len(df[df['lists'].contains('[]')])"
      ],
      "execution_count": null,
      "outputs": [
        {
          "output_type": "error",
          "ename": "AttributeError",
          "evalue": "ignored",
          "traceback": [
            "\u001b[0;31m---------------------------------------------------------------------------\u001b[0m",
            "\u001b[0;31mAttributeError\u001b[0m                            Traceback (most recent call last)",
            "\u001b[0;32m<ipython-input-77-6d394130c0e3>\u001b[0m in \u001b[0;36m<module>\u001b[0;34m()\u001b[0m\n\u001b[0;32m----> 1\u001b[0;31m \u001b[0mlen\u001b[0m\u001b[0;34m(\u001b[0m\u001b[0mdf\u001b[0m\u001b[0;34m[\u001b[0m\u001b[0mdf\u001b[0m\u001b[0;34m[\u001b[0m\u001b[0;34m'lists'\u001b[0m\u001b[0;34m]\u001b[0m\u001b[0;34m.\u001b[0m\u001b[0mcontains\u001b[0m\u001b[0;34m(\u001b[0m\u001b[0;34m'[]'\u001b[0m\u001b[0;34m)\u001b[0m\u001b[0;34m]\u001b[0m\u001b[0;34m)\u001b[0m\u001b[0;34m\u001b[0m\u001b[0;34m\u001b[0m\u001b[0m\n\u001b[0m",
            "\u001b[0;32m/usr/local/lib/python3.6/dist-packages/pandas/core/generic.py\u001b[0m in \u001b[0;36m__getattr__\u001b[0;34m(self, name)\u001b[0m\n\u001b[1;32m   5137\u001b[0m             \u001b[0;32mif\u001b[0m \u001b[0mself\u001b[0m\u001b[0;34m.\u001b[0m\u001b[0m_info_axis\u001b[0m\u001b[0;34m.\u001b[0m\u001b[0m_can_hold_identifiers_and_holds_name\u001b[0m\u001b[0;34m(\u001b[0m\u001b[0mname\u001b[0m\u001b[0;34m)\u001b[0m\u001b[0;34m:\u001b[0m\u001b[0;34m\u001b[0m\u001b[0;34m\u001b[0m\u001b[0m\n\u001b[1;32m   5138\u001b[0m                 \u001b[0;32mreturn\u001b[0m \u001b[0mself\u001b[0m\u001b[0;34m[\u001b[0m\u001b[0mname\u001b[0m\u001b[0;34m]\u001b[0m\u001b[0;34m\u001b[0m\u001b[0;34m\u001b[0m\u001b[0m\n\u001b[0;32m-> 5139\u001b[0;31m             \u001b[0;32mreturn\u001b[0m \u001b[0mobject\u001b[0m\u001b[0;34m.\u001b[0m\u001b[0m__getattribute__\u001b[0m\u001b[0;34m(\u001b[0m\u001b[0mself\u001b[0m\u001b[0;34m,\u001b[0m \u001b[0mname\u001b[0m\u001b[0;34m)\u001b[0m\u001b[0;34m\u001b[0m\u001b[0;34m\u001b[0m\u001b[0m\n\u001b[0m\u001b[1;32m   5140\u001b[0m \u001b[0;34m\u001b[0m\u001b[0m\n\u001b[1;32m   5141\u001b[0m     \u001b[0;32mdef\u001b[0m \u001b[0m__setattr__\u001b[0m\u001b[0;34m(\u001b[0m\u001b[0mself\u001b[0m\u001b[0;34m,\u001b[0m \u001b[0mname\u001b[0m\u001b[0;34m:\u001b[0m \u001b[0mstr\u001b[0m\u001b[0;34m,\u001b[0m \u001b[0mvalue\u001b[0m\u001b[0;34m)\u001b[0m \u001b[0;34m->\u001b[0m \u001b[0;32mNone\u001b[0m\u001b[0;34m:\u001b[0m\u001b[0;34m\u001b[0m\u001b[0;34m\u001b[0m\u001b[0m\n",
            "\u001b[0;31mAttributeError\u001b[0m: 'Series' object has no attribute 'contains'"
          ]
        }
      ]
    },
    {
      "cell_type": "code",
      "metadata": {
        "id": "2JPTkAKjkP7h"
      },
      "source": [
        "b-a"
      ],
      "execution_count": null,
      "outputs": []
    },
    {
      "cell_type": "code",
      "metadata": {
        "colab": {
          "base_uri": "https://localhost:8080/",
          "height": 307
        },
        "id": "-ctLRGjVlMQD",
        "outputId": "044c4a4a-6c93-418e-889b-5949298b097f"
      },
      "source": [
        "a.str.contains(b)"
      ],
      "execution_count": null,
      "outputs": [
        {
          "output_type": "error",
          "ename": "TypeError",
          "evalue": "ignored",
          "traceback": [
            "\u001b[0;31m---------------------------------------------------------------------------\u001b[0m",
            "\u001b[0;31mTypeError\u001b[0m                                 Traceback (most recent call last)",
            "\u001b[0;32m<ipython-input-69-40f306a6eeea>\u001b[0m in \u001b[0;36m<module>\u001b[0;34m()\u001b[0m\n\u001b[0;32m----> 1\u001b[0;31m \u001b[0ma\u001b[0m\u001b[0;34m.\u001b[0m\u001b[0mstr\u001b[0m\u001b[0;34m.\u001b[0m\u001b[0mcontains\u001b[0m\u001b[0;34m(\u001b[0m\u001b[0mb\u001b[0m\u001b[0;34m)\u001b[0m\u001b[0;34m\u001b[0m\u001b[0;34m\u001b[0m\u001b[0m\n\u001b[0m",
            "\u001b[0;32m/usr/local/lib/python3.6/dist-packages/pandas/core/strings.py\u001b[0m in \u001b[0;36mwrapper\u001b[0;34m(self, *args, **kwargs)\u001b[0m\n\u001b[1;32m   1999\u001b[0m                 )\n\u001b[1;32m   2000\u001b[0m                 \u001b[0;32mraise\u001b[0m \u001b[0mTypeError\u001b[0m\u001b[0;34m(\u001b[0m\u001b[0mmsg\u001b[0m\u001b[0;34m)\u001b[0m\u001b[0;34m\u001b[0m\u001b[0;34m\u001b[0m\u001b[0m\n\u001b[0;32m-> 2001\u001b[0;31m             \u001b[0;32mreturn\u001b[0m \u001b[0mfunc\u001b[0m\u001b[0;34m(\u001b[0m\u001b[0mself\u001b[0m\u001b[0;34m,\u001b[0m \u001b[0;34m*\u001b[0m\u001b[0margs\u001b[0m\u001b[0;34m,\u001b[0m \u001b[0;34m**\u001b[0m\u001b[0mkwargs\u001b[0m\u001b[0;34m)\u001b[0m\u001b[0;34m\u001b[0m\u001b[0;34m\u001b[0m\u001b[0m\n\u001b[0m\u001b[1;32m   2002\u001b[0m \u001b[0;34m\u001b[0m\u001b[0m\n\u001b[1;32m   2003\u001b[0m         \u001b[0mwrapper\u001b[0m\u001b[0;34m.\u001b[0m\u001b[0m__name__\u001b[0m \u001b[0;34m=\u001b[0m \u001b[0mfunc_name\u001b[0m\u001b[0;34m\u001b[0m\u001b[0;34m\u001b[0m\u001b[0m\n",
            "\u001b[0;32m/usr/local/lib/python3.6/dist-packages/pandas/core/strings.py\u001b[0m in \u001b[0;36mcontains\u001b[0;34m(self, pat, case, flags, na, regex)\u001b[0m\n\u001b[1;32m   2823\u001b[0m     \u001b[0;32mdef\u001b[0m \u001b[0mcontains\u001b[0m\u001b[0;34m(\u001b[0m\u001b[0mself\u001b[0m\u001b[0;34m,\u001b[0m \u001b[0mpat\u001b[0m\u001b[0;34m,\u001b[0m \u001b[0mcase\u001b[0m\u001b[0;34m=\u001b[0m\u001b[0;32mTrue\u001b[0m\u001b[0;34m,\u001b[0m \u001b[0mflags\u001b[0m\u001b[0;34m=\u001b[0m\u001b[0;36m0\u001b[0m\u001b[0;34m,\u001b[0m \u001b[0mna\u001b[0m\u001b[0;34m=\u001b[0m\u001b[0mnp\u001b[0m\u001b[0;34m.\u001b[0m\u001b[0mnan\u001b[0m\u001b[0;34m,\u001b[0m \u001b[0mregex\u001b[0m\u001b[0;34m=\u001b[0m\u001b[0;32mTrue\u001b[0m\u001b[0;34m)\u001b[0m\u001b[0;34m:\u001b[0m\u001b[0;34m\u001b[0m\u001b[0;34m\u001b[0m\u001b[0m\n\u001b[1;32m   2824\u001b[0m         result = str_contains(\n\u001b[0;32m-> 2825\u001b[0;31m             \u001b[0mself\u001b[0m\u001b[0;34m.\u001b[0m\u001b[0m_parent\u001b[0m\u001b[0;34m,\u001b[0m \u001b[0mpat\u001b[0m\u001b[0;34m,\u001b[0m \u001b[0mcase\u001b[0m\u001b[0;34m=\u001b[0m\u001b[0mcase\u001b[0m\u001b[0;34m,\u001b[0m \u001b[0mflags\u001b[0m\u001b[0;34m=\u001b[0m\u001b[0mflags\u001b[0m\u001b[0;34m,\u001b[0m \u001b[0mna\u001b[0m\u001b[0;34m=\u001b[0m\u001b[0mna\u001b[0m\u001b[0;34m,\u001b[0m \u001b[0mregex\u001b[0m\u001b[0;34m=\u001b[0m\u001b[0mregex\u001b[0m\u001b[0;34m\u001b[0m\u001b[0;34m\u001b[0m\u001b[0m\n\u001b[0m\u001b[1;32m   2826\u001b[0m         )\n\u001b[1;32m   2827\u001b[0m         \u001b[0;32mreturn\u001b[0m \u001b[0mself\u001b[0m\u001b[0;34m.\u001b[0m\u001b[0m_wrap_result\u001b[0m\u001b[0;34m(\u001b[0m\u001b[0mresult\u001b[0m\u001b[0;34m,\u001b[0m \u001b[0mfill_value\u001b[0m\u001b[0;34m=\u001b[0m\u001b[0mna\u001b[0m\u001b[0;34m,\u001b[0m \u001b[0mreturns_string\u001b[0m\u001b[0;34m=\u001b[0m\u001b[0;32mFalse\u001b[0m\u001b[0;34m)\u001b[0m\u001b[0;34m\u001b[0m\u001b[0;34m\u001b[0m\u001b[0m\n",
            "\u001b[0;32m/usr/local/lib/python3.6/dist-packages/pandas/core/strings.py\u001b[0m in \u001b[0;36mstr_contains\u001b[0;34m(arr, pat, case, flags, na, regex)\u001b[0m\n\u001b[1;32m    437\u001b[0m             \u001b[0mflags\u001b[0m \u001b[0;34m|=\u001b[0m \u001b[0mre\u001b[0m\u001b[0;34m.\u001b[0m\u001b[0mIGNORECASE\u001b[0m\u001b[0;34m\u001b[0m\u001b[0;34m\u001b[0m\u001b[0m\n\u001b[1;32m    438\u001b[0m \u001b[0;34m\u001b[0m\u001b[0m\n\u001b[0;32m--> 439\u001b[0;31m         \u001b[0mregex\u001b[0m \u001b[0;34m=\u001b[0m \u001b[0mre\u001b[0m\u001b[0;34m.\u001b[0m\u001b[0mcompile\u001b[0m\u001b[0;34m(\u001b[0m\u001b[0mpat\u001b[0m\u001b[0;34m,\u001b[0m \u001b[0mflags\u001b[0m\u001b[0;34m=\u001b[0m\u001b[0mflags\u001b[0m\u001b[0;34m)\u001b[0m\u001b[0;34m\u001b[0m\u001b[0;34m\u001b[0m\u001b[0m\n\u001b[0m\u001b[1;32m    440\u001b[0m \u001b[0;34m\u001b[0m\u001b[0m\n\u001b[1;32m    441\u001b[0m         \u001b[0;32mif\u001b[0m \u001b[0mregex\u001b[0m\u001b[0;34m.\u001b[0m\u001b[0mgroups\u001b[0m \u001b[0;34m>\u001b[0m \u001b[0;36m0\u001b[0m\u001b[0;34m:\u001b[0m\u001b[0;34m\u001b[0m\u001b[0;34m\u001b[0m\u001b[0m\n",
            "\u001b[0;32m/usr/lib/python3.6/re.py\u001b[0m in \u001b[0;36mcompile\u001b[0;34m(pattern, flags)\u001b[0m\n\u001b[1;32m    231\u001b[0m \u001b[0;32mdef\u001b[0m \u001b[0mcompile\u001b[0m\u001b[0;34m(\u001b[0m\u001b[0mpattern\u001b[0m\u001b[0;34m,\u001b[0m \u001b[0mflags\u001b[0m\u001b[0;34m=\u001b[0m\u001b[0;36m0\u001b[0m\u001b[0;34m)\u001b[0m\u001b[0;34m:\u001b[0m\u001b[0;34m\u001b[0m\u001b[0;34m\u001b[0m\u001b[0m\n\u001b[1;32m    232\u001b[0m     \u001b[0;34m\"Compile a regular expression pattern, returning a pattern object.\"\u001b[0m\u001b[0;34m\u001b[0m\u001b[0;34m\u001b[0m\u001b[0m\n\u001b[0;32m--> 233\u001b[0;31m     \u001b[0;32mreturn\u001b[0m \u001b[0m_compile\u001b[0m\u001b[0;34m(\u001b[0m\u001b[0mpattern\u001b[0m\u001b[0;34m,\u001b[0m \u001b[0mflags\u001b[0m\u001b[0;34m)\u001b[0m\u001b[0;34m\u001b[0m\u001b[0;34m\u001b[0m\u001b[0m\n\u001b[0m\u001b[1;32m    234\u001b[0m \u001b[0;34m\u001b[0m\u001b[0m\n\u001b[1;32m    235\u001b[0m \u001b[0;32mdef\u001b[0m \u001b[0mpurge\u001b[0m\u001b[0;34m(\u001b[0m\u001b[0;34m)\u001b[0m\u001b[0;34m:\u001b[0m\u001b[0;34m\u001b[0m\u001b[0;34m\u001b[0m\u001b[0m\n",
            "\u001b[0;32m/usr/lib/python3.6/re.py\u001b[0m in \u001b[0;36m_compile\u001b[0;34m(pattern, flags)\u001b[0m\n\u001b[1;32m    287\u001b[0m     \u001b[0;31m# internal: compile pattern\u001b[0m\u001b[0;34m\u001b[0m\u001b[0;34m\u001b[0m\u001b[0;34m\u001b[0m\u001b[0m\n\u001b[1;32m    288\u001b[0m     \u001b[0;32mtry\u001b[0m\u001b[0;34m:\u001b[0m\u001b[0;34m\u001b[0m\u001b[0;34m\u001b[0m\u001b[0m\n\u001b[0;32m--> 289\u001b[0;31m         \u001b[0mp\u001b[0m\u001b[0;34m,\u001b[0m \u001b[0mloc\u001b[0m \u001b[0;34m=\u001b[0m \u001b[0m_cache\u001b[0m\u001b[0;34m[\u001b[0m\u001b[0mtype\u001b[0m\u001b[0;34m(\u001b[0m\u001b[0mpattern\u001b[0m\u001b[0;34m)\u001b[0m\u001b[0;34m,\u001b[0m \u001b[0mpattern\u001b[0m\u001b[0;34m,\u001b[0m \u001b[0mflags\u001b[0m\u001b[0;34m]\u001b[0m\u001b[0;34m\u001b[0m\u001b[0;34m\u001b[0m\u001b[0m\n\u001b[0m\u001b[1;32m    290\u001b[0m         \u001b[0;32mif\u001b[0m \u001b[0mloc\u001b[0m \u001b[0;32mis\u001b[0m \u001b[0;32mNone\u001b[0m \u001b[0;32mor\u001b[0m \u001b[0mloc\u001b[0m \u001b[0;34m==\u001b[0m \u001b[0m_locale\u001b[0m\u001b[0;34m.\u001b[0m\u001b[0msetlocale\u001b[0m\u001b[0;34m(\u001b[0m\u001b[0m_locale\u001b[0m\u001b[0;34m.\u001b[0m\u001b[0mLC_CTYPE\u001b[0m\u001b[0;34m)\u001b[0m\u001b[0;34m:\u001b[0m\u001b[0;34m\u001b[0m\u001b[0;34m\u001b[0m\u001b[0m\n\u001b[1;32m    291\u001b[0m             \u001b[0;32mreturn\u001b[0m \u001b[0mp\u001b[0m\u001b[0;34m\u001b[0m\u001b[0;34m\u001b[0m\u001b[0m\n",
            "\u001b[0;32m/usr/local/lib/python3.6/dist-packages/pandas/core/generic.py\u001b[0m in \u001b[0;36m__hash__\u001b[0;34m(self)\u001b[0m\n\u001b[1;32m   1667\u001b[0m     \u001b[0;32mdef\u001b[0m \u001b[0m__hash__\u001b[0m\u001b[0;34m(\u001b[0m\u001b[0mself\u001b[0m\u001b[0;34m)\u001b[0m\u001b[0;34m:\u001b[0m\u001b[0;34m\u001b[0m\u001b[0;34m\u001b[0m\u001b[0m\n\u001b[1;32m   1668\u001b[0m         raise TypeError(\n\u001b[0;32m-> 1669\u001b[0;31m             \u001b[0;34mf\"{repr(type(self).__name__)} objects are mutable, \"\u001b[0m\u001b[0;34m\u001b[0m\u001b[0;34m\u001b[0m\u001b[0m\n\u001b[0m\u001b[1;32m   1670\u001b[0m             \u001b[0;34mf\"thus they cannot be hashed\"\u001b[0m\u001b[0;34m\u001b[0m\u001b[0;34m\u001b[0m\u001b[0m\n\u001b[1;32m   1671\u001b[0m         )\n",
            "\u001b[0;31mTypeError\u001b[0m: 'Series' objects are mutable, thus they cannot be hashed"
          ]
        }
      ]
    },
    {
      "cell_type": "code",
      "metadata": {
        "colab": {
          "base_uri": "https://localhost:8080/",
          "height": 419
        },
        "id": "fJPfJPD8jFVa",
        "outputId": "7e435754-261b-4e4f-d3b6-89d32d8394e6"
      },
      "source": [
        "pd.merge(a,b).drop_duplicates()"
      ],
      "execution_count": null,
      "outputs": [
        {
          "output_type": "execute_result",
          "data": {
            "text/html": [
              "<div>\n",
              "<style scoped>\n",
              "    .dataframe tbody tr th:only-of-type {\n",
              "        vertical-align: middle;\n",
              "    }\n",
              "\n",
              "    .dataframe tbody tr th {\n",
              "        vertical-align: top;\n",
              "    }\n",
              "\n",
              "    .dataframe thead th {\n",
              "        text-align: right;\n",
              "    }\n",
              "</style>\n",
              "<table border=\"1\" class=\"dataframe\">\n",
              "  <thead>\n",
              "    <tr style=\"text-align: right;\">\n",
              "      <th></th>\n",
              "      <th>question</th>\n",
              "    </tr>\n",
              "  </thead>\n",
              "  <tbody>\n",
              "    <tr>\n",
              "      <th>0</th>\n",
              "      <td># Números Amigos</td>\n",
              "    </tr>\n",
              "    <tr>\n",
              "      <th>3</th>\n",
              "      <td>A média de 4 alunos</td>\n",
              "    </tr>\n",
              "    <tr>\n",
              "      <th>5</th>\n",
              "      <td>Acima da média</td>\n",
              "    </tr>\n",
              "    <tr>\n",
              "      <th>7</th>\n",
              "      <td>Adição ou subtração</td>\n",
              "    </tr>\n",
              "    <tr>\n",
              "      <th>8</th>\n",
              "      <td>Alocação de matriz</td>\n",
              "    </tr>\n",
              "    <tr>\n",
              "      <th>...</th>\n",
              "      <td>...</td>\n",
              "    </tr>\n",
              "    <tr>\n",
              "      <th>1476</th>\n",
              "      <td>Quantidade de dígitos de um número</td>\n",
              "    </tr>\n",
              "    <tr>\n",
              "      <th>1477</th>\n",
              "      <td>Sequência de Números Pares a partir de N</td>\n",
              "    </tr>\n",
              "    <tr>\n",
              "      <th>1478</th>\n",
              "      <td>Sequência I J</td>\n",
              "    </tr>\n",
              "    <tr>\n",
              "      <th>1479</th>\n",
              "      <td>Sistema do veterinário</td>\n",
              "    </tr>\n",
              "    <tr>\n",
              "      <th>1480</th>\n",
              "      <td>Soma do mercado</td>\n",
              "    </tr>\n",
              "  </tbody>\n",
              "</table>\n",
              "<p>695 rows × 1 columns</p>\n",
              "</div>"
            ],
            "text/plain": [
              "                                      question\n",
              "0                             # Números Amigos\n",
              "3                          A média de 4 alunos\n",
              "5                               Acima da média\n",
              "7                          Adição ou subtração\n",
              "8                           Alocação de matriz\n",
              "...                                        ...\n",
              "1476        Quantidade de dígitos de um número\n",
              "1477  Sequência de Números Pares a partir de N\n",
              "1478                             Sequência I J\n",
              "1479                    Sistema do veterinário\n",
              "1480                           Soma do mercado\n",
              "\n",
              "[695 rows x 1 columns]"
            ]
          },
          "metadata": {
            "tags": []
          },
          "execution_count": 68
        }
      ]
    },
    {
      "cell_type": "code",
      "metadata": {
        "colab": {
          "base_uri": "https://localhost:8080/",
          "height": 419
        },
        "id": "gxjMEiRQ8FcX",
        "outputId": "53f039b9-61ba-4604-bb2d-237b7509ef6f"
      },
      "source": [
        "df_question_data"
      ],
      "execution_count": null,
      "outputs": [
        {
          "output_type": "execute_result",
          "data": {
            "text/html": [
              "<div>\n",
              "<style scoped>\n",
              "    .dataframe tbody tr th:only-of-type {\n",
              "        vertical-align: middle;\n",
              "    }\n",
              "\n",
              "    .dataframe tbody tr th {\n",
              "        vertical-align: top;\n",
              "    }\n",
              "\n",
              "    .dataframe thead th {\n",
              "        text-align: right;\n",
              "    }\n",
              "</style>\n",
              "<table border=\"1\" class=\"dataframe\">\n",
              "  <thead>\n",
              "    <tr style=\"text-align: right;\">\n",
              "      <th></th>\n",
              "      <th>id_list</th>\n",
              "      <th>list</th>\n",
              "      <th>question</th>\n",
              "      <th>difficulty</th>\n",
              "      <th>tag1</th>\n",
              "      <th>tag2</th>\n",
              "      <th>tag3</th>\n",
              "      <th>tag4</th>\n",
              "      <th>tag5</th>\n",
              "    </tr>\n",
              "  </thead>\n",
              "  <tbody>\n",
              "    <tr>\n",
              "      <th>0</th>\n",
              "      <td>2c43b603-7f97-4a51-9663-2efdd3845ef4</td>\n",
              "      <td>LIP2020.5 26-06 (até 26-06 23:59 -- Avaliação )</td>\n",
              "      <td># Números Amigos</td>\n",
              "      <td>2.0</td>\n",
              "      <td>0</td>\n",
              "      <td>0</td>\n",
              "      <td>0</td>\n",
              "      <td>0</td>\n",
              "      <td>0</td>\n",
              "    </tr>\n",
              "    <tr>\n",
              "      <th>1</th>\n",
              "      <td>2f6a2419-aa93-4f69-8a8e-e19815e8d991</td>\n",
              "      <td>T5CD 10-10-2020</td>\n",
              "      <td># Números Amigos</td>\n",
              "      <td>2.0</td>\n",
              "      <td>0</td>\n",
              "      <td>0</td>\n",
              "      <td>0</td>\n",
              "      <td>0</td>\n",
              "      <td>0</td>\n",
              "    </tr>\n",
              "    <tr>\n",
              "      <th>2</th>\n",
              "      <td>3bf957b2-a988-4a6c-828d-b00224a0895b</td>\n",
              "      <td>LiP Aula 08 - Funções: exercícios</td>\n",
              "      <td># Números Amigos</td>\n",
              "      <td>2.0</td>\n",
              "      <td>0</td>\n",
              "      <td>0</td>\n",
              "      <td>0</td>\n",
              "      <td>0</td>\n",
              "      <td>0</td>\n",
              "    </tr>\n",
              "    <tr>\n",
              "      <th>3</th>\n",
              "      <td>dd1cd083-6c00-4605-9ff1-163bd4069363</td>\n",
              "      <td>Repetição condicional - Lista Resolvida (LOP)</td>\n",
              "      <td>A média de 4 alunos</td>\n",
              "      <td>3.0</td>\n",
              "      <td>Estruturas de Repetição</td>\n",
              "      <td>Estruturas de Repetição Condicional</td>\n",
              "      <td>0</td>\n",
              "      <td>0</td>\n",
              "      <td>0</td>\n",
              "    </tr>\n",
              "    <tr>\n",
              "      <th>4</th>\n",
              "      <td>8b706927-b56e-4193-ac89-6f8de689f880</td>\n",
              "      <td>LIP2020.5 03-07 (até 03-07 23:59)</td>\n",
              "      <td>Acima da média</td>\n",
              "      <td>1.0</td>\n",
              "      <td>0</td>\n",
              "      <td>0</td>\n",
              "      <td>0</td>\n",
              "      <td>0</td>\n",
              "      <td>0</td>\n",
              "    </tr>\n",
              "    <tr>\n",
              "      <th>...</th>\n",
              "      <td>...</td>\n",
              "      <td>...</td>\n",
              "      <td>...</td>\n",
              "      <td>...</td>\n",
              "      <td>...</td>\n",
              "      <td>...</td>\n",
              "      <td>...</td>\n",
              "      <td>...</td>\n",
              "      <td>...</td>\n",
              "    </tr>\n",
              "    <tr>\n",
              "      <th>894</th>\n",
              "      <td>0</td>\n",
              "      <td>0</td>\n",
              "      <td>Valor de Pi Recursivo</td>\n",
              "      <td>0.0</td>\n",
              "      <td>Recursão</td>\n",
              "      <td>0</td>\n",
              "      <td>0</td>\n",
              "      <td>0</td>\n",
              "      <td>0</td>\n",
              "    </tr>\n",
              "    <tr>\n",
              "      <th>895</th>\n",
              "      <td>0</td>\n",
              "      <td>0</td>\n",
              "      <td>Valores em um intervalo</td>\n",
              "      <td>0.0</td>\n",
              "      <td>Estruturas de Repetição</td>\n",
              "      <td>0</td>\n",
              "      <td>0</td>\n",
              "      <td>0</td>\n",
              "      <td>0</td>\n",
              "    </tr>\n",
              "    <tr>\n",
              "      <th>896</th>\n",
              "      <td>0</td>\n",
              "      <td>0</td>\n",
              "      <td>Várias notas com validação (corrigir)</td>\n",
              "      <td>0.0</td>\n",
              "      <td>Estruturas de Repetição</td>\n",
              "      <td>Estruturas de Repetição Condicional</td>\n",
              "      <td>0</td>\n",
              "      <td>0</td>\n",
              "      <td>0</td>\n",
              "    </tr>\n",
              "    <tr>\n",
              "      <th>897</th>\n",
              "      <td>0</td>\n",
              "      <td>0</td>\n",
              "      <td>Vários quadrantes</td>\n",
              "      <td>0.0</td>\n",
              "      <td>Estruturas Condicionais</td>\n",
              "      <td>Estruturas de Repetição</td>\n",
              "      <td>Estruturas de Repetição Condicional</td>\n",
              "      <td>0</td>\n",
              "      <td>0</td>\n",
              "    </tr>\n",
              "    <tr>\n",
              "      <th>898</th>\n",
              "      <td>0</td>\n",
              "      <td>0</td>\n",
              "      <td>Vetor soma das colunas</td>\n",
              "      <td>0.0</td>\n",
              "      <td>Matrizes</td>\n",
              "      <td>0</td>\n",
              "      <td>0</td>\n",
              "      <td>0</td>\n",
              "      <td>0</td>\n",
              "    </tr>\n",
              "  </tbody>\n",
              "</table>\n",
              "<p>899 rows × 9 columns</p>\n",
              "</div>"
            ],
            "text/plain": [
              "                                  id_list  ... tag5\n",
              "0    2c43b603-7f97-4a51-9663-2efdd3845ef4  ...    0\n",
              "1    2f6a2419-aa93-4f69-8a8e-e19815e8d991  ...    0\n",
              "2    3bf957b2-a988-4a6c-828d-b00224a0895b  ...    0\n",
              "3    dd1cd083-6c00-4605-9ff1-163bd4069363  ...    0\n",
              "4    8b706927-b56e-4193-ac89-6f8de689f880  ...    0\n",
              "..                                    ...  ...  ...\n",
              "894                                     0  ...    0\n",
              "895                                     0  ...    0\n",
              "896                                     0  ...    0\n",
              "897                                     0  ...    0\n",
              "898                                     0  ...    0\n",
              "\n",
              "[899 rows x 9 columns]"
            ]
          },
          "metadata": {
            "tags": []
          },
          "execution_count": 30
        }
      ]
    },
    {
      "cell_type": "code",
      "metadata": {
        "colab": {
          "base_uri": "https://localhost:8080/",
          "height": 283
        },
        "id": "JHYn7mfs8Zv-",
        "outputId": "b3357ba0-61b2-4276-d4cc-869d5e2e6981"
      },
      "source": [
        "lop.lop_submission()"
      ],
      "execution_count": null,
      "outputs": [
        {
          "output_type": "error",
          "ename": "NameError",
          "evalue": "ignored",
          "traceback": [
            "\u001b[0;31m---------------------------------------------------------------------------\u001b[0m",
            "\u001b[0;31mNameError\u001b[0m                                 Traceback (most recent call last)",
            "\u001b[0;32m<ipython-input-31-e845f34c522c>\u001b[0m in \u001b[0;36m<module>\u001b[0;34m()\u001b[0m\n\u001b[0;32m----> 1\u001b[0;31m \u001b[0mlop\u001b[0m\u001b[0;34m.\u001b[0m\u001b[0mlop_submission\u001b[0m\u001b[0;34m(\u001b[0m\u001b[0;34m)\u001b[0m\u001b[0;34m\u001b[0m\u001b[0;34m\u001b[0m\u001b[0m\n\u001b[0m",
            "\u001b[0;32m<ipython-input-26-4d1eaa40c51d>\u001b[0m in \u001b[0;36mlop_submission\u001b[0;34m(df_class)\u001b[0m\n\u001b[1;32m     53\u001b[0m     \u001b[0mdf_submission\u001b[0m \u001b[0;34m=\u001b[0m \u001b[0mpd\u001b[0m\u001b[0;34m.\u001b[0m\u001b[0mDataFrame\u001b[0m\u001b[0;34m(\u001b[0m\u001b[0;34m)\u001b[0m\u001b[0;34m\u001b[0m\u001b[0;34m\u001b[0m\u001b[0m\n\u001b[1;32m     54\u001b[0m     \u001b[0;32mif\u001b[0m \u001b[0mdf_class\u001b[0m\u001b[0;34m.\u001b[0m\u001b[0mempty\u001b[0m \u001b[0;34m==\u001b[0m \u001b[0;32mTrue\u001b[0m\u001b[0;34m:\u001b[0m\u001b[0;34m\u001b[0m\u001b[0;34m\u001b[0m\u001b[0m\n\u001b[0;32m---> 55\u001b[0;31m       \u001b[0mdf_class\u001b[0m \u001b[0;34m=\u001b[0m \u001b[0mlop_class\u001b[0m\u001b[0;34m(\u001b[0m\u001b[0;34m)\u001b[0m\u001b[0;34m\u001b[0m\u001b[0;34m\u001b[0m\u001b[0m\n\u001b[0m\u001b[1;32m     56\u001b[0m     \u001b[0;31m#Obtem todas as submissões da lista de turmas passadas\u001b[0m\u001b[0;34m\u001b[0m\u001b[0;34m\u001b[0m\u001b[0;34m\u001b[0m\u001b[0m\n\u001b[1;32m     57\u001b[0m     \u001b[0;32mfor\u001b[0m \u001b[0mid_class\u001b[0m \u001b[0;32min\u001b[0m \u001b[0mdf_class\u001b[0m\u001b[0;34m[\u001b[0m\u001b[0;34m'id_class'\u001b[0m\u001b[0;34m]\u001b[0m\u001b[0;34m:\u001b[0m\u001b[0;34m\u001b[0m\u001b[0;34m\u001b[0m\u001b[0m\n",
            "\u001b[0;31mNameError\u001b[0m: name 'lop_class' is not defined"
          ]
        }
      ]
    },
    {
      "cell_type": "markdown",
      "metadata": {
        "id": "ZGHrISEE_B3_"
      },
      "source": [
        "##3. Funções\n",
        "<a id='funcoes'></a>"
      ]
    },
    {
      "cell_type": "markdown",
      "metadata": {
        "id": "c8k5ZIKXkEJ_"
      },
      "source": [
        "Função de leitura de arquivos txt"
      ]
    },
    {
      "cell_type": "code",
      "metadata": {
        "id": "zgY9TfQvkCSh"
      },
      "source": [
        "def read_txt(path):\n",
        "  with open(path,'r') as file:\n",
        "    return file.read() "
      ],
      "execution_count": 2,
      "outputs": []
    },
    {
      "cell_type": "markdown",
      "metadata": {
        "id": "1aRrmnVXkm82"
      },
      "source": [
        "Função de consulta no LoP"
      ]
    },
    {
      "cell_type": "code",
      "metadata": {
        "id": "BueEgapukKO8"
      },
      "source": [
        "def lop_consult(url):\n",
        "  http = urllib3.PoolManager()\n",
        "  req = http.request('GET',url)\n",
        "  if req.status == 200:\n",
        "    return pd.read_json(req.data, orient = 'RECORDS', encoding = 'utf-8').copy()\n",
        "  else: \n",
        "    return False"
      ],
      "execution_count": 3,
      "outputs": []
    },
    {
      "cell_type": "markdown",
      "metadata": {
        "id": "zx_SDIJpLayi"
      },
      "source": [
        "Função para obter todas as classes do LoP a partir de uma lista de professores"
      ]
    },
    {
      "cell_type": "code",
      "metadata": {
        "id": "mbL2uxEK0X3M"
      },
      "source": [
        "def lop_class(df_teacher = pd.DataFrame()):\n",
        "  #Essa função se passar por cópia o df_teacher se torna desnecessário fazer a requisição de todas os professores, e evitando fazer varias consultas\n",
        "  #Dataframe onde será armazenado todas as turmas\n",
        "  df_class = pd.DataFrame()\n",
        "  if df_teacher.empty == True:\n",
        "    #Formação da url de consulta para saber os professores cadastrados no LoP\n",
        "    url_teacher = endpoint_teacher + key\n",
        "    #Realizando a consulta no LoP\n",
        "    df_teacher = lop_consult(url_teacher)#id, email, name\n",
        "  #O laço faz uma varredura das turmas de cada professor e por fim armazena em um dataframe de turmas\n",
        "  for id_teacher in df_teacher['id']:\n",
        "    #O LoP.v2 foi desenvolvido em 2019, então temos que capturar as turmas entre 2019 e o ano atual\n",
        "    current_year = datetime.now().year\n",
        "    for year in range(2019, current_year + 1):\n",
        "      #Por fim precisamos do semestre que deve ser 1 ou 2\n",
        "      for semester in range(1,3): \n",
        "        try:\n",
        "          #Url de consulta de classes\n",
        "          url_class = endpoint_class + id_teacher + '?year=' + str(year) + '&semester=' + str(semester) + '&key=' + key \n",
        "          #Dataframe provisório necessário para capturar o tamanho e saber quantas turmas esse professor tem que estar associado\n",
        "          df_prov = lop_consult(url_class)\n",
        "          #Inserindo o id do professor no dataframe de turmas\n",
        "          df_prov['id_teacher'] = id_teacher\n",
        "          #Adicionando turmas conforme novas consultas\n",
        "          df_class = df_class.append(df_prov, ignore_index=True).copy()#id, name, code, year, semester, id_teacher\n",
        "        except:\n",
        "          pass\n",
        "  #Renomeando colunas com nomes semelhantes em todos os DF\n",
        "  df_class.rename(columns={'id':'id_class','name':'name_class'}, inplace = True)\n",
        "  return df_class"
      ],
      "execution_count": 14,
      "outputs": []
    },
    {
      "cell_type": "markdown",
      "metadata": {
        "id": "vVs1I-sChMaS"
      },
      "source": [
        "Função para obter todas as submissões a partir de uma lista de turmas"
      ]
    },
    {
      "cell_type": "code",
      "metadata": {
        "id": "9dqp3HGeFlKC"
      },
      "source": [
        "def lop_submission(df_class = pd.DataFrame()):\n",
        "  #Essa função se passar por cópia o df_class se torna desnecessário fazer a requisição de todas as turmas usando a função lop_class()\n",
        "  #Dataframe onde serão armazenados todas as submissões \n",
        "  df_submission = pd.DataFrame()  \n",
        "  if df_class.empty == True:\n",
        "    df_class = lop_class()  \n",
        "  #Obtem todas as submissões da lista de turmas passadas\n",
        "  for id_class in df_class['id_class']:\n",
        "    #Url da consulta as submissões\n",
        "    url_submission = endpoint_submission + id_class + '/submission?key=' + key\n",
        "    #Dataframe provisório que vai armazenar o resultado da consulta\n",
        "    df_prov = lop_consult(url_submission)\n",
        "    #Inserindo o id_class no dataframe de consultas\n",
        "    df_prov['id_class'] = id_class\n",
        "    #Adicionando submissões conforme consultas\n",
        "    df_submission = df_submission.append(df_prov, ignore_index=True).copy()\n",
        "  #Campo user trás matricula e o nome do usuário, vamos separar em 2 colunas distintas\n",
        "  df_submission[['user','registration']] = df_submission['user'].str.split('-',expand=True)\n",
        "  return df_submission"
      ],
      "execution_count": 5,
      "outputs": []
    },
    {
      "cell_type": "markdown",
      "metadata": {
        "id": "aPYJVKnjA8jn"
      },
      "source": [
        "Função para obter dados das questões cadastradas no LoP"
      ]
    },
    {
      "cell_type": "code",
      "metadata": {
        "id": "OZu9CVgtA70_"
      },
      "source": [
        "def lop_question():\n",
        "  url_question = endpoint_question + key\n",
        "  df_lop_question = lop_consult(url_question)\n",
        "  df_lop_question.rename(columns = {'id':'id_question','title':'question'}, inplace = True)\n",
        "  return df_lop_question"
      ],
      "execution_count": 6,
      "outputs": []
    },
    {
      "cell_type": "markdown",
      "metadata": {
        "id": "KbBdYtwVOXdZ"
      },
      "source": [
        "Função que transforma os dados das questões extraídas do LoP, assim podemos saber a dificuldade de uma questão, que pode estar associada a uma ou mais listas"
      ]
    },
    {
      "cell_type": "code",
      "metadata": {
        "id": "N6A6IOn6sqUz"
      },
      "source": [
        "df=lop_question()"
      ],
      "execution_count": null,
      "outputs": []
    },
    {
      "cell_type": "code",
      "metadata": {
        "id": "K4MrsQV9TyUn"
      },
      "source": [
        "df2=question_data(df)"
      ],
      "execution_count": null,
      "outputs": []
    },
    {
      "cell_type": "code",
      "metadata": {
        "id": "KCWyiE_ctP_v",
        "colab": {
          "base_uri": "https://localhost:8080/",
          "height": 538
        },
        "outputId": "17aa8cfb-1dee-4b16-c118-4c5901757aa1"
      },
      "source": [
        "df2"
      ],
      "execution_count": null,
      "outputs": [
        {
          "output_type": "execute_result",
          "data": {
            "text/html": [
              "<div>\n",
              "<style scoped>\n",
              "    .dataframe tbody tr th:only-of-type {\n",
              "        vertical-align: middle;\n",
              "    }\n",
              "\n",
              "    .dataframe tbody tr th {\n",
              "        vertical-align: top;\n",
              "    }\n",
              "\n",
              "    .dataframe thead th {\n",
              "        text-align: right;\n",
              "    }\n",
              "</style>\n",
              "<table border=\"1\" class=\"dataframe\">\n",
              "  <thead>\n",
              "    <tr style=\"text-align: right;\">\n",
              "      <th></th>\n",
              "      <th>id_list</th>\n",
              "      <th>list</th>\n",
              "      <th>question</th>\n",
              "      <th>difficulty</th>\n",
              "      <th>tag1</th>\n",
              "      <th>tag2</th>\n",
              "      <th>tag3</th>\n",
              "      <th>tag4</th>\n",
              "      <th>tag5</th>\n",
              "      <th>id_test</th>\n",
              "      <th>test</th>\n",
              "    </tr>\n",
              "  </thead>\n",
              "  <tbody>\n",
              "    <tr>\n",
              "      <th>0</th>\n",
              "      <td>2c43b603-7f97-4a51-9663-2efdd3845ef4</td>\n",
              "      <td>LIP2020.5 26-06 (até 26-06 23:59 -- Avaliação )</td>\n",
              "      <td># Números Amigos</td>\n",
              "      <td>2.0</td>\n",
              "      <td>NaN</td>\n",
              "      <td>NaN</td>\n",
              "      <td>NaN</td>\n",
              "      <td>NaN</td>\n",
              "      <td>NaN</td>\n",
              "      <td>NaN</td>\n",
              "      <td>NaN</td>\n",
              "    </tr>\n",
              "    <tr>\n",
              "      <th>1</th>\n",
              "      <td>2f6a2419-aa93-4f69-8a8e-e19815e8d991</td>\n",
              "      <td>T5CD 10-10-2020</td>\n",
              "      <td># Números Amigos</td>\n",
              "      <td>2.0</td>\n",
              "      <td>NaN</td>\n",
              "      <td>NaN</td>\n",
              "      <td>NaN</td>\n",
              "      <td>NaN</td>\n",
              "      <td>NaN</td>\n",
              "      <td>NaN</td>\n",
              "      <td>NaN</td>\n",
              "    </tr>\n",
              "    <tr>\n",
              "      <th>2</th>\n",
              "      <td>3bf957b2-a988-4a6c-828d-b00224a0895b</td>\n",
              "      <td>LiP Aula 08 - Funções: exercícios</td>\n",
              "      <td># Números Amigos</td>\n",
              "      <td>2.0</td>\n",
              "      <td>NaN</td>\n",
              "      <td>NaN</td>\n",
              "      <td>NaN</td>\n",
              "      <td>NaN</td>\n",
              "      <td>NaN</td>\n",
              "      <td>NaN</td>\n",
              "      <td>NaN</td>\n",
              "    </tr>\n",
              "    <tr>\n",
              "      <th>3</th>\n",
              "      <td>dd1cd083-6c00-4605-9ff1-163bd4069363</td>\n",
              "      <td>Repetição condicional - Lista Resolvida (LOP)</td>\n",
              "      <td>A média de 4 alunos</td>\n",
              "      <td>3.0</td>\n",
              "      <td>Estruturas de Repetição</td>\n",
              "      <td>Estruturas de Repetição Condicional</td>\n",
              "      <td>NaN</td>\n",
              "      <td>NaN</td>\n",
              "      <td>NaN</td>\n",
              "      <td>NaN</td>\n",
              "      <td>NaN</td>\n",
              "    </tr>\n",
              "    <tr>\n",
              "      <th>4</th>\n",
              "      <td>8b706927-b56e-4193-ac89-6f8de689f880</td>\n",
              "      <td>LIP2020.5 03-07 (até 03-07 23:59)</td>\n",
              "      <td>Acima da média</td>\n",
              "      <td>1.0</td>\n",
              "      <td>NaN</td>\n",
              "      <td>NaN</td>\n",
              "      <td>NaN</td>\n",
              "      <td>NaN</td>\n",
              "      <td>NaN</td>\n",
              "      <td>NaN</td>\n",
              "      <td>NaN</td>\n",
              "    </tr>\n",
              "    <tr>\n",
              "      <th>...</th>\n",
              "      <td>...</td>\n",
              "      <td>...</td>\n",
              "      <td>...</td>\n",
              "      <td>...</td>\n",
              "      <td>...</td>\n",
              "      <td>...</td>\n",
              "      <td>...</td>\n",
              "      <td>...</td>\n",
              "      <td>...</td>\n",
              "      <td>...</td>\n",
              "      <td>...</td>\n",
              "    </tr>\n",
              "    <tr>\n",
              "      <th>482</th>\n",
              "      <td>NaN</td>\n",
              "      <td>NaN</td>\n",
              "      <td>Venda X</td>\n",
              "      <td>NaN</td>\n",
              "      <td>Estruturas Condicionais</td>\n",
              "      <td>Estruturas de Repetição</td>\n",
              "      <td>Vetores</td>\n",
              "      <td>NaN</td>\n",
              "      <td>NaN</td>\n",
              "      <td>NaN</td>\n",
              "      <td>NaN</td>\n",
              "    </tr>\n",
              "    <tr>\n",
              "      <th>483</th>\n",
              "      <td>NaN</td>\n",
              "      <td>NaN</td>\n",
              "      <td>Vetor Ordenado?</td>\n",
              "      <td>NaN</td>\n",
              "      <td>Funções</td>\n",
              "      <td>Vetores</td>\n",
              "      <td>NaN</td>\n",
              "      <td>NaN</td>\n",
              "      <td>NaN</td>\n",
              "      <td>NaN</td>\n",
              "      <td>NaN</td>\n",
              "    </tr>\n",
              "    <tr>\n",
              "      <th>484</th>\n",
              "      <td>NaN</td>\n",
              "      <td>NaN</td>\n",
              "      <td>Vetor soma das colunas</td>\n",
              "      <td>NaN</td>\n",
              "      <td>Matrizes</td>\n",
              "      <td>NaN</td>\n",
              "      <td>NaN</td>\n",
              "      <td>NaN</td>\n",
              "      <td>NaN</td>\n",
              "      <td>NaN</td>\n",
              "      <td>NaN</td>\n",
              "    </tr>\n",
              "    <tr>\n",
              "      <th>485</th>\n",
              "      <td>NaN</td>\n",
              "      <td>NaN</td>\n",
              "      <td>Viagem à Marte na Velocidade de Primo (corrigir)</td>\n",
              "      <td>NaN</td>\n",
              "      <td>Estruturas Condicionais</td>\n",
              "      <td>Estruturas de Repetição</td>\n",
              "      <td>Estruturas de Repetição Contada</td>\n",
              "      <td>NaN</td>\n",
              "      <td>NaN</td>\n",
              "      <td>NaN</td>\n",
              "      <td>NaN</td>\n",
              "    </tr>\n",
              "    <tr>\n",
              "      <th>486</th>\n",
              "      <td>NaN</td>\n",
              "      <td>NaN</td>\n",
              "      <td>Xadrez e torres</td>\n",
              "      <td>NaN</td>\n",
              "      <td>Matrizes</td>\n",
              "      <td>NaN</td>\n",
              "      <td>NaN</td>\n",
              "      <td>NaN</td>\n",
              "      <td>NaN</td>\n",
              "      <td>NaN</td>\n",
              "      <td>NaN</td>\n",
              "    </tr>\n",
              "  </tbody>\n",
              "</table>\n",
              "<p>1435 rows × 11 columns</p>\n",
              "</div>"
            ],
            "text/plain": [
              "                                  id_list  ... test\n",
              "0    2c43b603-7f97-4a51-9663-2efdd3845ef4  ...  NaN\n",
              "1    2f6a2419-aa93-4f69-8a8e-e19815e8d991  ...  NaN\n",
              "2    3bf957b2-a988-4a6c-828d-b00224a0895b  ...  NaN\n",
              "3    dd1cd083-6c00-4605-9ff1-163bd4069363  ...  NaN\n",
              "4    8b706927-b56e-4193-ac89-6f8de689f880  ...  NaN\n",
              "..                                    ...  ...  ...\n",
              "482                                   NaN  ...  NaN\n",
              "483                                   NaN  ...  NaN\n",
              "484                                   NaN  ...  NaN\n",
              "485                                   NaN  ...  NaN\n",
              "486                                   NaN  ...  NaN\n",
              "\n",
              "[1435 rows x 11 columns]"
            ]
          },
          "metadata": {
            "tags": []
          },
          "execution_count": 14
        }
      ]
    },
    {
      "cell_type": "code",
      "metadata": {
        "colab": {
          "base_uri": "https://localhost:8080/"
        },
        "id": "uj_GS_Stftnn",
        "outputId": "97f533fb-75c5-481e-d1c9-4b96e596be83"
      },
      "source": [
        "df2.test.unique()"
      ],
      "execution_count": null,
      "outputs": [
        {
          "output_type": "execute_result",
          "data": {
            "text/plain": [
              "array([0, 'T05 - Unidade I', 'ITP - Matriz - Prova',\n",
              "       'ITP - Ponteiros 2 - Prova', 'ITP - Structs e Enumerações - Prova',\n",
              "       'ITP - Ponteiros 1 - Prova', 'Monitoria de LoP',\n",
              "       'ITP - Alocação dinâmica - Prova', 'ITP - Strings - Prova',\n",
              "       'Prova teste - LOP - UNI 1', 'Teste - Prova',\n",
              "       'ITP Correção Prova 0 e Prova Loops', 'ITP - Laços - Prova',\n",
              "       'ITP Lista 0', 'Lista 0 - ITP 2020.6 - teste 2',\n",
              "       'ITP - Vetores - Prova', 'Lista 0 - ITP 2020.6 - teste',\n",
              "       'T05 - Unidade II', 'ITP - Funções - Prova', 'prova 2', 'prova 1',\n",
              "       'ITP - Recursão - Prova', 'Prova X', 'Prova - Lop - Unidade 1',\n",
              "       'Prova - Lop 2020.6 - Unidade 1',\n",
              "       'Primeira Prova LOP 2020.6 - Turma 01',\n",
              "       'Prova LoP - Turma 05 - 2020.6 (2020.1)'], dtype=object)"
            ]
          },
          "metadata": {
            "tags": []
          },
          "execution_count": 48
        }
      ]
    },
    {
      "cell_type": "code",
      "metadata": {
        "colab": {
          "base_uri": "https://localhost:8080/",
          "height": 538
        },
        "id": "PFKTEopjhdgd",
        "outputId": "f8f49e0c-2373-4ed2-bd4e-eaf53ab8612d"
      },
      "source": [
        "df2"
      ],
      "execution_count": null,
      "outputs": [
        {
          "output_type": "execute_result",
          "data": {
            "text/html": [
              "<div>\n",
              "<style scoped>\n",
              "    .dataframe tbody tr th:only-of-type {\n",
              "        vertical-align: middle;\n",
              "    }\n",
              "\n",
              "    .dataframe tbody tr th {\n",
              "        vertical-align: top;\n",
              "    }\n",
              "\n",
              "    .dataframe thead th {\n",
              "        text-align: right;\n",
              "    }\n",
              "</style>\n",
              "<table border=\"1\" class=\"dataframe\">\n",
              "  <thead>\n",
              "    <tr style=\"text-align: right;\">\n",
              "      <th></th>\n",
              "      <th>id_list</th>\n",
              "      <th>list</th>\n",
              "      <th>question</th>\n",
              "      <th>difficulty</th>\n",
              "      <th>tag1</th>\n",
              "      <th>tag2</th>\n",
              "      <th>tag3</th>\n",
              "      <th>tag4</th>\n",
              "      <th>tag5</th>\n",
              "      <th>id_test</th>\n",
              "      <th>test</th>\n",
              "    </tr>\n",
              "  </thead>\n",
              "  <tbody>\n",
              "    <tr>\n",
              "      <th>0</th>\n",
              "      <td>2c43b603-7f97-4a51-9663-2efdd3845ef4</td>\n",
              "      <td>LIP2020.5 26-06 (até 26-06 23:59 -- Avaliação )</td>\n",
              "      <td># Números Amigos</td>\n",
              "      <td>2.0</td>\n",
              "      <td>0</td>\n",
              "      <td>0</td>\n",
              "      <td>0</td>\n",
              "      <td>0</td>\n",
              "      <td>0</td>\n",
              "      <td>0</td>\n",
              "      <td>0</td>\n",
              "    </tr>\n",
              "    <tr>\n",
              "      <th>1</th>\n",
              "      <td>2f6a2419-aa93-4f69-8a8e-e19815e8d991</td>\n",
              "      <td>T5CD 10-10-2020</td>\n",
              "      <td># Números Amigos</td>\n",
              "      <td>2.0</td>\n",
              "      <td>0</td>\n",
              "      <td>0</td>\n",
              "      <td>0</td>\n",
              "      <td>0</td>\n",
              "      <td>0</td>\n",
              "      <td>0</td>\n",
              "      <td>0</td>\n",
              "    </tr>\n",
              "    <tr>\n",
              "      <th>2</th>\n",
              "      <td>3bf957b2-a988-4a6c-828d-b00224a0895b</td>\n",
              "      <td>LiP Aula 08 - Funções: exercícios</td>\n",
              "      <td># Números Amigos</td>\n",
              "      <td>2.0</td>\n",
              "      <td>0</td>\n",
              "      <td>0</td>\n",
              "      <td>0</td>\n",
              "      <td>0</td>\n",
              "      <td>0</td>\n",
              "      <td>0</td>\n",
              "      <td>0</td>\n",
              "    </tr>\n",
              "    <tr>\n",
              "      <th>3</th>\n",
              "      <td>dd1cd083-6c00-4605-9ff1-163bd4069363</td>\n",
              "      <td>Repetição condicional - Lista Resolvida (LOP)</td>\n",
              "      <td>A média de 4 alunos</td>\n",
              "      <td>3.0</td>\n",
              "      <td>Estruturas de Repetição</td>\n",
              "      <td>Estruturas de Repetição Condicional</td>\n",
              "      <td>0</td>\n",
              "      <td>0</td>\n",
              "      <td>0</td>\n",
              "      <td>0</td>\n",
              "      <td>0</td>\n",
              "    </tr>\n",
              "    <tr>\n",
              "      <th>4</th>\n",
              "      <td>8b706927-b56e-4193-ac89-6f8de689f880</td>\n",
              "      <td>LIP2020.5 03-07 (até 03-07 23:59)</td>\n",
              "      <td>Acima da média</td>\n",
              "      <td>1.0</td>\n",
              "      <td>0</td>\n",
              "      <td>0</td>\n",
              "      <td>0</td>\n",
              "      <td>0</td>\n",
              "      <td>0</td>\n",
              "      <td>0</td>\n",
              "      <td>0</td>\n",
              "    </tr>\n",
              "    <tr>\n",
              "      <th>...</th>\n",
              "      <td>...</td>\n",
              "      <td>...</td>\n",
              "      <td>...</td>\n",
              "      <td>...</td>\n",
              "      <td>...</td>\n",
              "      <td>...</td>\n",
              "      <td>...</td>\n",
              "      <td>...</td>\n",
              "      <td>...</td>\n",
              "      <td>...</td>\n",
              "      <td>...</td>\n",
              "    </tr>\n",
              "    <tr>\n",
              "      <th>473</th>\n",
              "      <td>0</td>\n",
              "      <td>0</td>\n",
              "      <td>Venda X</td>\n",
              "      <td>0.0</td>\n",
              "      <td>Estruturas Condicionais</td>\n",
              "      <td>Estruturas de Repetição</td>\n",
              "      <td>Vetores</td>\n",
              "      <td>0</td>\n",
              "      <td>0</td>\n",
              "      <td>0</td>\n",
              "      <td>0</td>\n",
              "    </tr>\n",
              "    <tr>\n",
              "      <th>474</th>\n",
              "      <td>0</td>\n",
              "      <td>0</td>\n",
              "      <td>Vetor Ordenado?</td>\n",
              "      <td>0.0</td>\n",
              "      <td>Funções</td>\n",
              "      <td>Vetores</td>\n",
              "      <td>0</td>\n",
              "      <td>0</td>\n",
              "      <td>0</td>\n",
              "      <td>0</td>\n",
              "      <td>0</td>\n",
              "    </tr>\n",
              "    <tr>\n",
              "      <th>475</th>\n",
              "      <td>0</td>\n",
              "      <td>0</td>\n",
              "      <td>Vetor soma das colunas</td>\n",
              "      <td>0.0</td>\n",
              "      <td>Matrizes</td>\n",
              "      <td>0</td>\n",
              "      <td>0</td>\n",
              "      <td>0</td>\n",
              "      <td>0</td>\n",
              "      <td>0</td>\n",
              "      <td>0</td>\n",
              "    </tr>\n",
              "    <tr>\n",
              "      <th>476</th>\n",
              "      <td>0</td>\n",
              "      <td>0</td>\n",
              "      <td>Viagem à Marte na Velocidade de Primo (corrigir)</td>\n",
              "      <td>0.0</td>\n",
              "      <td>Estruturas Condicionais</td>\n",
              "      <td>Estruturas de Repetição</td>\n",
              "      <td>Estruturas de Repetição Contada</td>\n",
              "      <td>0</td>\n",
              "      <td>0</td>\n",
              "      <td>0</td>\n",
              "      <td>0</td>\n",
              "    </tr>\n",
              "    <tr>\n",
              "      <th>477</th>\n",
              "      <td>0</td>\n",
              "      <td>0</td>\n",
              "      <td>Xadrez e torres</td>\n",
              "      <td>0.0</td>\n",
              "      <td>Matrizes</td>\n",
              "      <td>0</td>\n",
              "      <td>0</td>\n",
              "      <td>0</td>\n",
              "      <td>0</td>\n",
              "      <td>0</td>\n",
              "      <td>0</td>\n",
              "    </tr>\n",
              "  </tbody>\n",
              "</table>\n",
              "<p>1414 rows × 11 columns</p>\n",
              "</div>"
            ],
            "text/plain": [
              "                                  id_list  ... test\n",
              "0    2c43b603-7f97-4a51-9663-2efdd3845ef4  ...    0\n",
              "1    2f6a2419-aa93-4f69-8a8e-e19815e8d991  ...    0\n",
              "2    3bf957b2-a988-4a6c-828d-b00224a0895b  ...    0\n",
              "3    dd1cd083-6c00-4605-9ff1-163bd4069363  ...    0\n",
              "4    8b706927-b56e-4193-ac89-6f8de689f880  ...    0\n",
              "..                                    ...  ...  ...\n",
              "473                                     0  ...    0\n",
              "474                                     0  ...    0\n",
              "475                                     0  ...    0\n",
              "476                                     0  ...    0\n",
              "477                                     0  ...    0\n",
              "\n",
              "[1414 rows x 11 columns]"
            ]
          },
          "metadata": {
            "tags": []
          },
          "execution_count": 50
        }
      ]
    },
    {
      "cell_type": "code",
      "metadata": {
        "colab": {
          "base_uri": "https://localhost:8080/"
        },
        "id": "qmDP9DzbVI5M",
        "outputId": "b7dbedf4-4b85-48a0-d56a-49e6f7df586c"
      },
      "source": [
        "len(df2['question'].unique()) - len(df['question'].unique())"
      ],
      "execution_count": null,
      "outputs": [
        {
          "output_type": "execute_result",
          "data": {
            "text/plain": [
              "-33"
            ]
          },
          "metadata": {
            "tags": []
          },
          "execution_count": 49
        }
      ]
    },
    {
      "cell_type": "code",
      "metadata": {
        "colab": {
          "base_uri": "https://localhost:8080/"
        },
        "id": "cnaLq6wRUwYr",
        "outputId": "b92badbc-d222-42aa-9987-ebd3d340cfc5"
      },
      "source": [
        "len(df2['question'])- len(df['question'])"
      ],
      "execution_count": null,
      "outputs": [
        {
          "output_type": "execute_result",
          "data": {
            "text/plain": [
              "191"
            ]
          },
          "metadata": {
            "tags": []
          },
          "execution_count": 18
        }
      ]
    },
    {
      "cell_type": "code",
      "metadata": {
        "colab": {
          "base_uri": "https://localhost:8080/",
          "height": 204
        },
        "id": "FvYGrg0Abayq",
        "outputId": "315f1a34-fb7a-40e3-80d6-531947f3e500"
      },
      "source": [
        "df.head()"
      ],
      "execution_count": null,
      "outputs": [
        {
          "output_type": "execute_result",
          "data": {
            "text/html": [
              "<div>\n",
              "<style scoped>\n",
              "    .dataframe tbody tr th:only-of-type {\n",
              "        vertical-align: middle;\n",
              "    }\n",
              "\n",
              "    .dataframe tbody tr th {\n",
              "        vertical-align: top;\n",
              "    }\n",
              "\n",
              "    .dataframe thead th {\n",
              "        text-align: right;\n",
              "    }\n",
              "</style>\n",
              "<table border=\"1\" class=\"dataframe\">\n",
              "  <thead>\n",
              "    <tr style=\"text-align: right;\">\n",
              "      <th></th>\n",
              "      <th>id_question</th>\n",
              "      <th>question</th>\n",
              "      <th>difficulty</th>\n",
              "      <th>tags</th>\n",
              "      <th>lists</th>\n",
              "      <th>tests</th>\n",
              "    </tr>\n",
              "  </thead>\n",
              "  <tbody>\n",
              "    <tr>\n",
              "      <th>0</th>\n",
              "      <td>a4021c40-b646-11ea-b3ea-acde48001122</td>\n",
              "      <td># Números Amigos</td>\n",
              "      <td>2</td>\n",
              "      <td>[]</td>\n",
              "      <td>[{'id': '2c43b603-7f97-4a51-9663-2efdd3845ef4'...</td>\n",
              "      <td>[]</td>\n",
              "    </tr>\n",
              "    <tr>\n",
              "      <th>1</th>\n",
              "      <td>1443d8d5-952f-43f4-8be4-85f4baeb678c</td>\n",
              "      <td>A dezena é par ou ímpar?</td>\n",
              "      <td>1</td>\n",
              "      <td>[]</td>\n",
              "      <td>[]</td>\n",
              "      <td>[]</td>\n",
              "    </tr>\n",
              "    <tr>\n",
              "      <th>2</th>\n",
              "      <td>21035442-4f71-486b-b31d-2bc09ce02a16</td>\n",
              "      <td>A média de 4 alunos</td>\n",
              "      <td>3</td>\n",
              "      <td>[{'name': 'Estruturas de Repetição'}, {'name':...</td>\n",
              "      <td>[{'id': 'dd1cd083-6c00-4605-9ff1-163bd4069363'...</td>\n",
              "      <td>[]</td>\n",
              "    </tr>\n",
              "    <tr>\n",
              "      <th>3</th>\n",
              "      <td>3a002d52-5861-4d2f-a51e-7e55d39861e2</td>\n",
              "      <td>A soma é par ou impar?</td>\n",
              "      <td>1</td>\n",
              "      <td>[]</td>\n",
              "      <td>[]</td>\n",
              "      <td>[]</td>\n",
              "    </tr>\n",
              "    <tr>\n",
              "      <th>4</th>\n",
              "      <td>a72f965f-877a-4183-a0d8-396a44cf62c0</td>\n",
              "      <td>A soma é par?</td>\n",
              "      <td>1</td>\n",
              "      <td>[]</td>\n",
              "      <td>[]</td>\n",
              "      <td>[]</td>\n",
              "    </tr>\n",
              "  </tbody>\n",
              "</table>\n",
              "</div>"
            ],
            "text/plain": [
              "                            id_question  ... tests\n",
              "0  a4021c40-b646-11ea-b3ea-acde48001122  ...    []\n",
              "1  1443d8d5-952f-43f4-8be4-85f4baeb678c  ...    []\n",
              "2  21035442-4f71-486b-b31d-2bc09ce02a16  ...    []\n",
              "3  3a002d52-5861-4d2f-a51e-7e55d39861e2  ...    []\n",
              "4  a72f965f-877a-4183-a0d8-396a44cf62c0  ...    []\n",
              "\n",
              "[5 rows x 6 columns]"
            ]
          },
          "metadata": {
            "tags": []
          },
          "execution_count": 25
        }
      ]
    },
    {
      "cell_type": "code",
      "metadata": {
        "id": "9tYeTia-bPwW"
      },
      "source": [
        "df.iloc[:,-1].head(50)"
      ],
      "execution_count": null,
      "outputs": []
    },
    {
      "cell_type": "code",
      "metadata": {
        "colab": {
          "base_uri": "https://localhost:8080/",
          "height": 419
        },
        "id": "F-FJXkZVUrOw",
        "outputId": "ab9f7088-7257-469e-e090-afec9d43bbf1"
      },
      "source": [
        "df2"
      ],
      "execution_count": null,
      "outputs": [
        {
          "output_type": "execute_result",
          "data": {
            "text/html": [
              "<div>\n",
              "<style scoped>\n",
              "    .dataframe tbody tr th:only-of-type {\n",
              "        vertical-align: middle;\n",
              "    }\n",
              "\n",
              "    .dataframe tbody tr th {\n",
              "        vertical-align: top;\n",
              "    }\n",
              "\n",
              "    .dataframe thead th {\n",
              "        text-align: right;\n",
              "    }\n",
              "</style>\n",
              "<table border=\"1\" class=\"dataframe\">\n",
              "  <thead>\n",
              "    <tr style=\"text-align: right;\">\n",
              "      <th></th>\n",
              "      <th>id_list</th>\n",
              "      <th>list</th>\n",
              "      <th>question</th>\n",
              "      <th>difficulty</th>\n",
              "      <th>tag1</th>\n",
              "      <th>tag2</th>\n",
              "      <th>tag3</th>\n",
              "      <th>tag4</th>\n",
              "      <th>tag5</th>\n",
              "    </tr>\n",
              "  </thead>\n",
              "  <tbody>\n",
              "    <tr>\n",
              "      <th>0</th>\n",
              "      <td>2c43b603-7f97-4a51-9663-2efdd3845ef4</td>\n",
              "      <td>LIP2020.5 26-06 (até 26-06 23:59 -- Avaliação )</td>\n",
              "      <td># Números Amigos</td>\n",
              "      <td>2.0</td>\n",
              "      <td>0</td>\n",
              "      <td>0</td>\n",
              "      <td>0</td>\n",
              "      <td>0</td>\n",
              "      <td>0</td>\n",
              "    </tr>\n",
              "    <tr>\n",
              "      <th>1</th>\n",
              "      <td>2f6a2419-aa93-4f69-8a8e-e19815e8d991</td>\n",
              "      <td>T5CD 10-10-2020</td>\n",
              "      <td># Números Amigos</td>\n",
              "      <td>2.0</td>\n",
              "      <td>0</td>\n",
              "      <td>0</td>\n",
              "      <td>0</td>\n",
              "      <td>0</td>\n",
              "      <td>0</td>\n",
              "    </tr>\n",
              "    <tr>\n",
              "      <th>2</th>\n",
              "      <td>3bf957b2-a988-4a6c-828d-b00224a0895b</td>\n",
              "      <td>LiP Aula 08 - Funções: exercícios</td>\n",
              "      <td># Números Amigos</td>\n",
              "      <td>2.0</td>\n",
              "      <td>0</td>\n",
              "      <td>0</td>\n",
              "      <td>0</td>\n",
              "      <td>0</td>\n",
              "      <td>0</td>\n",
              "    </tr>\n",
              "    <tr>\n",
              "      <th>3</th>\n",
              "      <td>dd1cd083-6c00-4605-9ff1-163bd4069363</td>\n",
              "      <td>Repetição condicional - Lista Resolvida (LOP)</td>\n",
              "      <td>A média de 4 alunos</td>\n",
              "      <td>3.0</td>\n",
              "      <td>Estruturas de Repetição</td>\n",
              "      <td>Estruturas de Repetição Condicional</td>\n",
              "      <td>0</td>\n",
              "      <td>0</td>\n",
              "      <td>0</td>\n",
              "    </tr>\n",
              "    <tr>\n",
              "      <th>4</th>\n",
              "      <td>8b706927-b56e-4193-ac89-6f8de689f880</td>\n",
              "      <td>LIP2020.5 03-07 (até 03-07 23:59)</td>\n",
              "      <td>Acima da média</td>\n",
              "      <td>1.0</td>\n",
              "      <td>0</td>\n",
              "      <td>0</td>\n",
              "      <td>0</td>\n",
              "      <td>0</td>\n",
              "      <td>0</td>\n",
              "    </tr>\n",
              "    <tr>\n",
              "      <th>...</th>\n",
              "      <td>...</td>\n",
              "      <td>...</td>\n",
              "      <td>...</td>\n",
              "      <td>...</td>\n",
              "      <td>...</td>\n",
              "      <td>...</td>\n",
              "      <td>...</td>\n",
              "      <td>...</td>\n",
              "      <td>...</td>\n",
              "    </tr>\n",
              "    <tr>\n",
              "      <th>931</th>\n",
              "      <td>0</td>\n",
              "      <td>0</td>\n",
              "      <td>Valor de Pi Recursivo</td>\n",
              "      <td>0.0</td>\n",
              "      <td>Recursão</td>\n",
              "      <td>0</td>\n",
              "      <td>0</td>\n",
              "      <td>0</td>\n",
              "      <td>0</td>\n",
              "    </tr>\n",
              "    <tr>\n",
              "      <th>932</th>\n",
              "      <td>0</td>\n",
              "      <td>0</td>\n",
              "      <td>Valores em um intervalo</td>\n",
              "      <td>0.0</td>\n",
              "      <td>Estruturas de Repetição</td>\n",
              "      <td>0</td>\n",
              "      <td>0</td>\n",
              "      <td>0</td>\n",
              "      <td>0</td>\n",
              "    </tr>\n",
              "    <tr>\n",
              "      <th>933</th>\n",
              "      <td>0</td>\n",
              "      <td>0</td>\n",
              "      <td>Várias notas com validação (corrigir)</td>\n",
              "      <td>0.0</td>\n",
              "      <td>Estruturas de Repetição</td>\n",
              "      <td>Estruturas de Repetição Condicional</td>\n",
              "      <td>0</td>\n",
              "      <td>0</td>\n",
              "      <td>0</td>\n",
              "    </tr>\n",
              "    <tr>\n",
              "      <th>934</th>\n",
              "      <td>0</td>\n",
              "      <td>0</td>\n",
              "      <td>Vários quadrantes</td>\n",
              "      <td>0.0</td>\n",
              "      <td>Estruturas Condicionais</td>\n",
              "      <td>Estruturas de Repetição</td>\n",
              "      <td>Estruturas de Repetição Condicional</td>\n",
              "      <td>0</td>\n",
              "      <td>0</td>\n",
              "    </tr>\n",
              "    <tr>\n",
              "      <th>935</th>\n",
              "      <td>0</td>\n",
              "      <td>0</td>\n",
              "      <td>Vetor soma das colunas</td>\n",
              "      <td>0.0</td>\n",
              "      <td>Matrizes</td>\n",
              "      <td>0</td>\n",
              "      <td>0</td>\n",
              "      <td>0</td>\n",
              "      <td>0</td>\n",
              "    </tr>\n",
              "  </tbody>\n",
              "</table>\n",
              "<p>936 rows × 9 columns</p>\n",
              "</div>"
            ],
            "text/plain": [
              "                                  id_list  ... tag5\n",
              "0    2c43b603-7f97-4a51-9663-2efdd3845ef4  ...    0\n",
              "1    2f6a2419-aa93-4f69-8a8e-e19815e8d991  ...    0\n",
              "2    3bf957b2-a988-4a6c-828d-b00224a0895b  ...    0\n",
              "3    dd1cd083-6c00-4605-9ff1-163bd4069363  ...    0\n",
              "4    8b706927-b56e-4193-ac89-6f8de689f880  ...    0\n",
              "..                                    ...  ...  ...\n",
              "931                                     0  ...    0\n",
              "932                                     0  ...    0\n",
              "933                                     0  ...    0\n",
              "934                                     0  ...    0\n",
              "935                                     0  ...    0\n",
              "\n",
              "[936 rows x 9 columns]"
            ]
          },
          "metadata": {
            "tags": []
          },
          "execution_count": 17
        }
      ]
    },
    {
      "cell_type": "code",
      "metadata": {
        "id": "J3pLjztaOWzR"
      },
      "source": [
        "def question_data(df_question = pd.DataFrame()):\n",
        "  #Essa função se passar por cópia o df_question se torna desnecessário fazer a requisição de todas as turmas usando a função lop_question()\n",
        "  #Dataframes onde serão armazenados todas as questões transformadas\n",
        "  df_list_data = pd.DataFrame() \n",
        "  df_test_data = pd.DataFrame() \n",
        "  df_tag_data = pd.DataFrame()  \n",
        "  df_question_data = pd.DataFrame()  \n",
        "  #i=0\n",
        "  if df_question.empty == True:\n",
        "    df_question = lop_question()\n",
        "  for question,lists,tests,tags,difficulty in zip(df_question['question'],df_question['lists'],df_question['tests'],df_question['tags'],df_question['difficulty']):\n",
        "    #Cada registro do json pode ficar com mais de uma lista associada a uma questão, por isso a necessidade de extrair\n",
        "    df_prov_lists  = pd.DataFrame(json.loads(str(lists).replace(\"'\",'\"')))\n",
        "    #Cada registro do json pode ficar com mais de uma lista associada a uma questão, por isso a necessidade de extrair\n",
        "    df_prov_tests  = pd.DataFrame(json.loads(str(tests).replace(\"'\",'\"')))\n",
        "    #df_prov_lists.rename(columns = {'id':'id_list','title':'list'}, inplace = True)\n",
        "    #Inserindo a questão associada\n",
        "    df_prov_lists['question'] = question\n",
        "    df_prov_lists['difficulty'] = difficulty\n",
        "    df_list_data = df_list_data.append(df_prov_lists, ignore_index = True).copy()\n",
        "    #print(df_list_data['question'])\n",
        "    #print(\"numero de questoes unicas no df \",len(df_list_data['question'].unique()))\n",
        "    df_prov_tests['question'] = question\n",
        "    df_prov_tests['difficulty'] = difficulty\n",
        "    df_test_data = df_test_data.append(df_prov_tests, ignore_index = True).copy()\n",
        "    #Extraindo as tags, que vão dizer o conteudo associado\n",
        "    df_prov_tags = pd.DataFrame(json.loads(str(tags).replace(\"'\",'\"'))).T\n",
        "    #Inserindo a questão associada\n",
        "    df_prov_tags['question'] = question    \n",
        "    df_tag_data = df_tag_data.append(df_prov_tags, ignore_index = True).copy()\n",
        "    #print(i,' ------------------  ',question, ' ',difficulty)\n",
        "    #i+=1\n",
        "    #if i == 100:\n",
        "    #  break\n",
        "  \n",
        "  df_list_data.rename(columns = {'id':'id_list','title':'list'}, inplace = True)\n",
        "  df_test_data.rename(columns = {'id':'id_test','title':'test'}, inplace = True)\n",
        "  #print(len(df_list_data['question'].unique()))\n",
        "  #df_list_data['difficulty'] = df_list_data['difficulty'].astype('int')\n",
        "  columns_tags = ['question']\n",
        "  for i in range(len(df_tag_data.columns)-1): columns_tags.append('tag'+str(i+1))\n",
        "  df_tag_data.columns = columns_tags\n",
        "  df_list_data = pd.merge(df_list_data, df_tag_data, on = 'question', how = 'outer')#.fillna(0)\n",
        "  df_test_data = pd.merge(df_test_data, df_tag_data, on = 'question', how = 'outer')#.fillna(0)\n",
        "  return  pd.concat([df_list_data, df_test_data],axis=0).copy()"
      ],
      "execution_count": null,
      "outputs": []
    },
    {
      "cell_type": "markdown",
      "metadata": {
        "id": "tozn2zf9BiSo"
      },
      "source": [
        "Lista de questões selecionadas"
      ]
    },
    {
      "cell_type": "code",
      "metadata": {
        "id": "-2N6QbHL9M1U"
      },
      "source": [
        "listas_escolhidas = ['Laboratório 01 - Expressões Aritméticas',\n",
        "\n",
        "'Aula - Introdução Expressões Aritiméticas',\n",
        "\n",
        "'Aula - Funções Aritméticas',\n",
        "\n",
        "'Treinamento - Expressões Aritméticas',\n",
        "\n",
        "'(Lop) Lista de Laboratório 2 - Estrutura de decisão',\n",
        "\n",
        "'(Lop) Estruturas de decisão - problemas sobre divisibilidade',\n",
        "\n",
        "'(Lop) Estruturas de decisão - Múltiplas decisões',\n",
        "\n",
        "'(Lop) Estruturas de decisão - Operadores Lógicos',\n",
        "\n",
        "'Repetição condicional - Lista Resolvida (LOP)',\n",
        "\n",
        "'Repetição condicional - Lista Prática (LOP)',\n",
        "\n",
        "'Repetição condicional - Lista de Exercícios (LOP)',\n",
        "\n",
        "'Repetição contada - Lista Resolvida (LOP)',\n",
        "\n",
        "'Repetição contada - Lista Prática (LOP)',\n",
        "\n",
        "'Repetição contada - Lista de Exercícios (LOP)',\n",
        "\n",
        "'Vetores - Lista Resolvida (LOP)',\n",
        "\n",
        "'Vetores - Lista de Exercícios (LOP)',\n",
        "\n",
        "'Vetores - Lista Prática (LOP)']\n",
        "\n",
        "provas_escolhidas = ['Prova LoP - Turma 05 - 2020.6']"
      ],
      "execution_count": null,
      "outputs": []
    },
    {
      "cell_type": "markdown",
      "metadata": {
        "id": "pVdq9H1_BD_Q"
      },
      "source": [
        "Função criada para selecionar questões específicas"
      ]
    },
    {
      "cell_type": "code",
      "metadata": {
        "id": "OSAX-RVKBJ4T"
      },
      "source": [
        "def select_questions(df_question_data,listas_escolhidas,provas_escolhidas):\n",
        "  #Selecionando onde List não é NaN\n",
        "  df_prov1 = df_question_data.dropna(subset=['list'])#.fillna(0)\n",
        "  #Selecionando onde Test não é NaN\n",
        "  df_prov2 = df_question_data.dropna(subset=['test'])#.fillna(0)\n",
        "  #Concatenação para permitir um loc que busque em todas as instancias\n",
        "  pat1 = '|'.join(['({})'.format(re.escape(c)) for c in listas_escolhidas])\n",
        "  pat2 = '|'.join(['({})'.format(re.escape(c)) for c in provas_escolhidas])\n",
        "  #Busca\n",
        "  df_prov1 = df_prov1.loc[df_prov1['list'].str.contains(pat1)].copy()\n",
        "  df_prov2 = df_prov2.loc[df_prov2['test'].str.contains(pat2)].copy()\n",
        "  return pd.concat([df_prov1, df_prov2],axis=0).copy()"
      ],
      "execution_count": null,
      "outputs": []
    },
    {
      "cell_type": "code",
      "metadata": {
        "id": "ULiKJ345TqAB"
      },
      "source": [
        "df = lop_question()"
      ],
      "execution_count": null,
      "outputs": []
    },
    {
      "cell_type": "code",
      "metadata": {
        "id": "2XMeDvCu5tWm"
      },
      "source": [
        "df2=question_data(df)"
      ],
      "execution_count": null,
      "outputs": []
    },
    {
      "cell_type": "code",
      "metadata": {
        "colab": {
          "base_uri": "https://localhost:8080/",
          "height": 623
        },
        "id": "pgd4fK3SEDb2",
        "outputId": "9382a948-0a7b-4cb0-ec59-e61e2ae5d875"
      },
      "source": [
        "select_questions(df2,listas_escolhidas,provas_escolhidas)"
      ],
      "execution_count": null,
      "outputs": [
        {
          "output_type": "stream",
          "text": [
            "/usr/local/lib/python3.6/dist-packages/pandas/core/strings.py:2001: UserWarning: This pattern has match groups. To actually get the groups, use str.extract.\n",
            "  return func(self, *args, **kwargs)\n"
          ],
          "name": "stderr"
        },
        {
          "output_type": "execute_result",
          "data": {
            "text/html": [
              "<div>\n",
              "<style scoped>\n",
              "    .dataframe tbody tr th:only-of-type {\n",
              "        vertical-align: middle;\n",
              "    }\n",
              "\n",
              "    .dataframe tbody tr th {\n",
              "        vertical-align: top;\n",
              "    }\n",
              "\n",
              "    .dataframe thead th {\n",
              "        text-align: right;\n",
              "    }\n",
              "</style>\n",
              "<table border=\"1\" class=\"dataframe\">\n",
              "  <thead>\n",
              "    <tr style=\"text-align: right;\">\n",
              "      <th></th>\n",
              "      <th>id_list</th>\n",
              "      <th>list</th>\n",
              "      <th>question</th>\n",
              "      <th>difficulty</th>\n",
              "      <th>tag1</th>\n",
              "      <th>tag2</th>\n",
              "      <th>tag3</th>\n",
              "      <th>tag4</th>\n",
              "      <th>tag5</th>\n",
              "      <th>id_test</th>\n",
              "      <th>test</th>\n",
              "    </tr>\n",
              "  </thead>\n",
              "  <tbody>\n",
              "    <tr>\n",
              "      <th>4</th>\n",
              "      <td>dd1cd083-6c00-4605-9ff1-163bd4069363</td>\n",
              "      <td>Repetição condicional - Lista Resolvida (LOP)</td>\n",
              "      <td>A média de 4 alunos</td>\n",
              "      <td>3.0</td>\n",
              "      <td>Estruturas de Repetição</td>\n",
              "      <td>Estruturas de Repetição Condicional</td>\n",
              "      <td>NaN</td>\n",
              "      <td>NaN</td>\n",
              "      <td>NaN</td>\n",
              "      <td>NaN</td>\n",
              "      <td>NaN</td>\n",
              "    </tr>\n",
              "    <tr>\n",
              "      <th>10</th>\n",
              "      <td>3ab11cee-77d1-4448-9587-880929570cf3</td>\n",
              "      <td>(Lop) Lista de Laboratório 2 - Estrutura de de...</td>\n",
              "      <td>Altura abaixo da média</td>\n",
              "      <td>1.0</td>\n",
              "      <td>NaN</td>\n",
              "      <td>NaN</td>\n",
              "      <td>NaN</td>\n",
              "      <td>NaN</td>\n",
              "      <td>NaN</td>\n",
              "      <td>NaN</td>\n",
              "      <td>NaN</td>\n",
              "    </tr>\n",
              "    <tr>\n",
              "      <th>12</th>\n",
              "      <td>3ab11cee-77d1-4448-9587-880929570cf3</td>\n",
              "      <td>(Lop) Lista de Laboratório 2 - Estrutura de de...</td>\n",
              "      <td>Altura acima de média</td>\n",
              "      <td>1.0</td>\n",
              "      <td>NaN</td>\n",
              "      <td>NaN</td>\n",
              "      <td>NaN</td>\n",
              "      <td>NaN</td>\n",
              "      <td>NaN</td>\n",
              "      <td>NaN</td>\n",
              "      <td>NaN</td>\n",
              "    </tr>\n",
              "    <tr>\n",
              "      <th>25</th>\n",
              "      <td>93cd33c4-109a-401e-87e9-e26ff5929d37</td>\n",
              "      <td>Vetores - Lista Resolvida (LOP)</td>\n",
              "      <td>Aprendendo a armazenar vários elementos em um ...</td>\n",
              "      <td>1.0</td>\n",
              "      <td>Vetores</td>\n",
              "      <td>NaN</td>\n",
              "      <td>NaN</td>\n",
              "      <td>NaN</td>\n",
              "      <td>NaN</td>\n",
              "      <td>NaN</td>\n",
              "      <td>NaN</td>\n",
              "    </tr>\n",
              "    <tr>\n",
              "      <th>26</th>\n",
              "      <td>aca84206-87b2-4478-afa4-6193119cc06a</td>\n",
              "      <td>Repetição condicional - Lista de Exercícios (LOP)</td>\n",
              "      <td>Aprendendo a somar</td>\n",
              "      <td>3.0</td>\n",
              "      <td>Estruturas de Repetição</td>\n",
              "      <td>Estruturas de Repetição Condicional</td>\n",
              "      <td>NaN</td>\n",
              "      <td>NaN</td>\n",
              "      <td>NaN</td>\n",
              "      <td>NaN</td>\n",
              "      <td>NaN</td>\n",
              "    </tr>\n",
              "    <tr>\n",
              "      <th>...</th>\n",
              "      <td>...</td>\n",
              "      <td>...</td>\n",
              "      <td>...</td>\n",
              "      <td>...</td>\n",
              "      <td>...</td>\n",
              "      <td>...</td>\n",
              "      <td>...</td>\n",
              "      <td>...</td>\n",
              "      <td>...</td>\n",
              "      <td>...</td>\n",
              "      <td>...</td>\n",
              "    </tr>\n",
              "    <tr>\n",
              "      <th>810</th>\n",
              "      <td>34691c68-f01d-46ad-808d-6bbd44bcd9a2</td>\n",
              "      <td>Repetição contada - Lista Resolvida (LOP)</td>\n",
              "      <td>Todos os divisores de N</td>\n",
              "      <td>2.0</td>\n",
              "      <td>Estruturas de Repetição</td>\n",
              "      <td>Estruturas de Repetição Contada</td>\n",
              "      <td>NaN</td>\n",
              "      <td>NaN</td>\n",
              "      <td>NaN</td>\n",
              "      <td>NaN</td>\n",
              "      <td>NaN</td>\n",
              "    </tr>\n",
              "    <tr>\n",
              "      <th>821</th>\n",
              "      <td>e1f0e8be-54fe-4b54-8d6d-2451bedc0647</td>\n",
              "      <td>Treinamento - Expressões Aritméticas</td>\n",
              "      <td>Troca de dígitos UCD</td>\n",
              "      <td>2.0</td>\n",
              "      <td>Operadores Aritméticos</td>\n",
              "      <td>NaN</td>\n",
              "      <td>NaN</td>\n",
              "      <td>NaN</td>\n",
              "      <td>NaN</td>\n",
              "      <td>NaN</td>\n",
              "      <td>NaN</td>\n",
              "    </tr>\n",
              "    <tr>\n",
              "      <th>822</th>\n",
              "      <td>e1f0e8be-54fe-4b54-8d6d-2451bedc0647</td>\n",
              "      <td>Treinamento - Expressões Aritméticas</td>\n",
              "      <td>Troca de dígitos UDC</td>\n",
              "      <td>3.0</td>\n",
              "      <td>Operadores Aritméticos</td>\n",
              "      <td>NaN</td>\n",
              "      <td>NaN</td>\n",
              "      <td>NaN</td>\n",
              "      <td>NaN</td>\n",
              "      <td>NaN</td>\n",
              "      <td>NaN</td>\n",
              "    </tr>\n",
              "    <tr>\n",
              "      <th>824</th>\n",
              "      <td>e1f0e8be-54fe-4b54-8d6d-2451bedc0647</td>\n",
              "      <td>Treinamento - Expressões Aritméticas</td>\n",
              "      <td>Troca de valores entre variáveis</td>\n",
              "      <td>2.0</td>\n",
              "      <td>Operadores Aritméticos</td>\n",
              "      <td>NaN</td>\n",
              "      <td>NaN</td>\n",
              "      <td>NaN</td>\n",
              "      <td>NaN</td>\n",
              "      <td>NaN</td>\n",
              "      <td>NaN</td>\n",
              "    </tr>\n",
              "    <tr>\n",
              "      <th>82</th>\n",
              "      <td>NaN</td>\n",
              "      <td>NaN</td>\n",
              "      <td>Sistema Inteligente - Identificação de Espécie...</td>\n",
              "      <td>3.0</td>\n",
              "      <td>Operadores Lógicos</td>\n",
              "      <td>Estruturas Condicionais</td>\n",
              "      <td>NaN</td>\n",
              "      <td>NaN</td>\n",
              "      <td>NaN</td>\n",
              "      <td>b2aa32c2-929c-4202-8cbc-f2a8a9e95643</td>\n",
              "      <td>Prova LoP - Turma 05 - 2020.6 (2020.1)</td>\n",
              "    </tr>\n",
              "  </tbody>\n",
              "</table>\n",
              "<p>126 rows × 11 columns</p>\n",
              "</div>"
            ],
            "text/plain": [
              "                                  id_list  ...                                    test\n",
              "4    dd1cd083-6c00-4605-9ff1-163bd4069363  ...                                     NaN\n",
              "10   3ab11cee-77d1-4448-9587-880929570cf3  ...                                     NaN\n",
              "12   3ab11cee-77d1-4448-9587-880929570cf3  ...                                     NaN\n",
              "25   93cd33c4-109a-401e-87e9-e26ff5929d37  ...                                     NaN\n",
              "26   aca84206-87b2-4478-afa4-6193119cc06a  ...                                     NaN\n",
              "..                                    ...  ...                                     ...\n",
              "810  34691c68-f01d-46ad-808d-6bbd44bcd9a2  ...                                     NaN\n",
              "821  e1f0e8be-54fe-4b54-8d6d-2451bedc0647  ...                                     NaN\n",
              "822  e1f0e8be-54fe-4b54-8d6d-2451bedc0647  ...                                     NaN\n",
              "824  e1f0e8be-54fe-4b54-8d6d-2451bedc0647  ...                                     NaN\n",
              "82                                    NaN  ...  Prova LoP - Turma 05 - 2020.6 (2020.1)\n",
              "\n",
              "[126 rows x 11 columns]"
            ]
          },
          "metadata": {
            "tags": []
          },
          "execution_count": 26
        }
      ]
    },
    {
      "cell_type": "code",
      "metadata": {
        "colab": {
          "base_uri": "https://localhost:8080/",
          "height": 80
        },
        "id": "J9_MANsDG8GE",
        "outputId": "079a9331-9a82-4bd7-aad6-43ab7bb3d63c"
      },
      "source": [
        "df_prov2 = df2.dropna(subset=['test'])\n",
        "df_prov2.loc[df_prov2['test'].str.contains('Prova LoP - Turma 05 - 2020.6 ')]"
      ],
      "execution_count": null,
      "outputs": [
        {
          "output_type": "execute_result",
          "data": {
            "text/html": [
              "<div>\n",
              "<style scoped>\n",
              "    .dataframe tbody tr th:only-of-type {\n",
              "        vertical-align: middle;\n",
              "    }\n",
              "\n",
              "    .dataframe tbody tr th {\n",
              "        vertical-align: top;\n",
              "    }\n",
              "\n",
              "    .dataframe thead th {\n",
              "        text-align: right;\n",
              "    }\n",
              "</style>\n",
              "<table border=\"1\" class=\"dataframe\">\n",
              "  <thead>\n",
              "    <tr style=\"text-align: right;\">\n",
              "      <th></th>\n",
              "      <th>id_list</th>\n",
              "      <th>list</th>\n",
              "      <th>question</th>\n",
              "      <th>difficulty</th>\n",
              "      <th>tag1</th>\n",
              "      <th>tag2</th>\n",
              "      <th>tag3</th>\n",
              "      <th>tag4</th>\n",
              "      <th>tag5</th>\n",
              "      <th>id_test</th>\n",
              "      <th>test</th>\n",
              "    </tr>\n",
              "  </thead>\n",
              "  <tbody>\n",
              "    <tr>\n",
              "      <th>82</th>\n",
              "      <td>NaN</td>\n",
              "      <td>NaN</td>\n",
              "      <td>Sistema Inteligente - Identificação de Espécie...</td>\n",
              "      <td>3.0</td>\n",
              "      <td>Operadores Lógicos</td>\n",
              "      <td>Estruturas Condicionais</td>\n",
              "      <td>NaN</td>\n",
              "      <td>NaN</td>\n",
              "      <td>NaN</td>\n",
              "      <td>b2aa32c2-929c-4202-8cbc-f2a8a9e95643</td>\n",
              "      <td>Prova LoP - Turma 05 - 2020.6 (2020.1)</td>\n",
              "    </tr>\n",
              "  </tbody>\n",
              "</table>\n",
              "</div>"
            ],
            "text/plain": [
              "   id_list  ...                                    test\n",
              "82     NaN  ...  Prova LoP - Turma 05 - 2020.6 (2020.1)\n",
              "\n",
              "[1 rows x 11 columns]"
            ]
          },
          "metadata": {
            "tags": []
          },
          "execution_count": 39
        }
      ]
    },
    {
      "cell_type": "code",
      "metadata": {
        "colab": {
          "base_uri": "https://localhost:8080/"
        },
        "id": "SJqarkj2Hloi",
        "outputId": "518b58d0-30c0-493d-f176-d3973b9fa2d6"
      },
      "source": [
        "df_prov2['test'].unique()"
      ],
      "execution_count": null,
      "outputs": [
        {
          "output_type": "execute_result",
          "data": {
            "text/plain": [
              "array(['T05 - Unidade I', 'ITP - Matriz - Prova',\n",
              "       'ITP - Ponteiros 2 - Prova', 'ITP - Structs e Enumerações - Prova',\n",
              "       'ITP - Ponteiros 1 - Prova', 'Monitoria de LoP',\n",
              "       'ITP - Alocação dinâmica - Prova', 'ITP - Strings - Prova',\n",
              "       'Prova teste - LOP - UNI 1', 'Teste - Prova',\n",
              "       'ITP Correção Prova 0 e Prova Loops', 'ITP - Laços - Prova',\n",
              "       'ITP Lista 0', 'Lista 0 - ITP 2020.6 - teste 2',\n",
              "       'ITP - Vetores - Prova', 'Lista 0 - ITP 2020.6 - teste',\n",
              "       'T05 - Unidade II', 'ITP - Funções - Prova', 'prova 2', 'prova 1',\n",
              "       'ITP - Recursão - Prova', 'Prova X', 'Prova - Lop - Unidade 1',\n",
              "       'Prova - Lop 2020.6 - Unidade 1',\n",
              "       'Primeira Prova LOP 2020.6 - Turma 01',\n",
              "       'Prova LoP - Turma 05 - 2020.6 (2020.1)'], dtype=object)"
            ]
          },
          "metadata": {
            "tags": []
          },
          "execution_count": 27
        }
      ]
    },
    {
      "cell_type": "markdown",
      "metadata": {
        "id": "jU4EIevUPzqH"
      },
      "source": [
        "Função para avaliar a perfomance por lista"
      ]
    },
    {
      "cell_type": "code",
      "metadata": {
        "id": "3B0Kx6BKPfK6"
      },
      "source": [
        "def performance_list(df_submission, df_question_data = pd.DataFrame()):  \n",
        "  #Essa função necessita receber as submissões de uma turma ---------- depois podemos incrementar essa função ao ter uma turma associada e agrupar por elas\n",
        "  #Me traz as porcentagens maximas de acerto por questão\n",
        "  df_performance_list = df_submission.groupby(['user','registration','list','question'])['hitPercentage'].max().reset_index()\n",
        "  #Soma as porcentagens de uma lista unica\n",
        "  df_performance_list = df_performance_list.groupby(['user','registration','list'])['hitPercentage'].sum().reset_index()\n",
        "  #Renomeando para melhorar entendimento\n",
        "  df_performance_list.rename(columns={'hitPercentage':'totalHitPercentage'}, inplace = True)\n",
        "  if df_question_data.empty == True:\n",
        "    #Usando a função de dados de questão para ter informações sobre que questões estão associadas a lista\n",
        "    df_question_data = question_data()\n",
        "  #Agrupa por lista e questão para ter apenas uma questão de cada, a operação não importa muito, apenas existe para completar o agrupamento --------- pode ser uma boa trocar por drop_duplicates\n",
        "  df_question_data = df_question_data.groupby(['list','question'])['id_list'].count().reset_index()\n",
        "  #Conta quantas questões tem por lista\n",
        "  df_question_data = df_question_data.groupby(['list'])['question'].count().reset_index()\n",
        "  #Renomeando lista\n",
        "  df_question_data.rename(columns={'question':'totalQuestionsList'}, inplace = True)\n",
        "  #Merge\n",
        "  df_performance_list = df_performance_list.merge(df_question_data, on = 'list')\n",
        "  #Média de acerto por lista\n",
        "  df_performance_list['mediaList'] = df_performance_list['totalHitPercentage'] / df_performance_list['totalQuestionsList']\n",
        "  return df_performance_list"
      ],
      "execution_count": null,
      "outputs": []
    },
    {
      "cell_type": "markdown",
      "metadata": {
        "id": "R7lq048T5cvn"
      },
      "source": [
        "Função do gráfico de barras que, por lista, faz a contagem de quem fez mais e menos de 70% da lista. Necessita de passar a performance do aluno por lista"
      ]
    },
    {
      "cell_type": "code",
      "metadata": {
        "id": "btbzysrv5cF6"
      },
      "source": [
        "def graph_more_less_list_class(df_performance_list,value):#value == 70 ou outro numero\n",
        "  #Aqui eu conto, por lista, quantos tiraram mais de 70% de acerto\n",
        "  df_more = df_performance_list[df_performance_list['mediaList'] >= value].groupby('list')['mediaList'].count().reset_index(name='more')\n",
        "  #E nesse conta quantos tiveram menos de 70%\n",
        "  df_less = df_performance_list[df_performance_list['mediaList'] < value].groupby('list')['mediaList'].count().reset_index(name='less')\n",
        "  #Aqui junta ambos os dataframes, usando o outer, que, se por acaso não tiver uma ocorrência de uma lista em um dos dataframes, mesmo assim eles vão ser adicionados, é união dos conjuntos\n",
        "  df_less_more = pd.merge(df_more, df_less, on = 'list', how = 'outer')\n",
        "  #E, se caso acontecer a situação de um não existir, substituimos o nan por 0\n",
        "  df_less_more.replace(np.NaN, 0, inplace = True)\n",
        "  return df_less_more_70.to_json(force_ascii=False, orient='records') ############# por hora essa função tamebm esta realizando downlaod"
      ],
      "execution_count": null,
      "outputs": []
    },
    {
      "cell_type": "markdown",
      "metadata": {
        "id": "ihcn9Bn9QSFy"
      },
      "source": [
        "Esse codigo tem como objetivo transformar uma coluna que tenha varias categorias em uma para cada, e associar a este campo um valor de outra coluna que era correspondente. Por exemplo,\n",
        "\n",
        "user - list - mediaList\n",
        "\n",
        "joao - abcd - 9.8\n",
        "\n",
        "jony - efcg - 5.9\n",
        "\n",
        "para:\n",
        "\n",
        "user - abcd - efcg \n",
        "\n",
        "joao - 9.8  - 0/nan\n",
        "\n",
        "jony - 0/nan - 5.9 \n",
        "\n",
        "Assim, ele necessita receber a **column** que será criada o dummie, e o **value**, que será o valor associado a nova coluna"
      ]
    },
    {
      "cell_type": "code",
      "metadata": {
        "id": "yQshilmiJiLz"
      },
      "source": [
        "#Usando dummies para transformar cada lista em uma coluna. O Dummies vai inserir 1 em cada ocorrencia\n",
        "df = pd.get_dummies(df,columns=['list'],prefix='',prefix_sep='')\n",
        "#Cria um dataframe provisório\n",
        "df_prov = pd.DataFrame()\n",
        "#Campo do valor que irei inserir\n",
        "df_mediaList = df['mediaList']\n",
        "#Apagando colunas desnecessárias\n",
        "df = df.drop(columns=['totalHitPercentage','totalQuestionsList','mediaList'])\n",
        "#Iterando sobre todo as submissões\n",
        "for i in range(len(df.user)):\n",
        "  #Substituindo o 1 do dummies pela média da lista\n",
        "  df_prov = df_prov.append(df.iloc[i,:].replace(1,df_mediaList[i]))\n",
        "#Agrupando para todas as linhas se tornarem apenas 1 ocorrência de cada aluno\n",
        "df_prov = df_prov.groupby(['user','registration']).sum().reset_index()"
      ],
      "execution_count": null,
      "outputs": []
    },
    {
      "cell_type": "markdown",
      "metadata": {
        "id": "aPsbzu40jktx"
      },
      "source": [
        "Função do gráfico de barras que, por aluno, calcula a média do aluno por lista e agrupa todas as listas e notas em um campo só"
      ]
    },
    {
      "cell_type": "code",
      "metadata": {
        "id": "VwAFPTBAjkeE"
      },
      "source": [
        "def graph_performance_student_list(df_performance_list):\n",
        "  #Usando dummies para transformar cada lista em uma coluna. O Dummies vai inserir 1 em cada ocorrencia\n",
        "  df_performance_list = pd.get_dummies(df_performance_list,columns=['list'],prefix='',prefix_sep='')\n",
        "  #Cria um dataframe provisório\n",
        "  df_prov = pd.DataFrame()\n",
        "  #Campo do valor que irei inserir\n",
        "  df_mediaList = df_performance_list['mediaList']\n",
        "  #Apagando colunas desnecessárias\n",
        "  df_performance_list = df_performance_list.drop(columns=['totalHitPercentage','totalQuestionsList','mediaList'])\n",
        "  #Iterando sobre todo as submissões\n",
        "  for i in range(len(df_performance_list.user)):\n",
        "    #Substituindo o 1 do dummies pela média da lista\n",
        "    df_prov = df_prov.append(df_performance_list.iloc[i,:].replace(1,df_mediaList[i]))\n",
        "  #Agrupando para todas as linhas se tornarem apenas 1 ocorrência de cada aluno\n",
        "  df_prov = df_prov.groupby(['user','registration']).sum().reset_index()\n",
        "  #Inserindo campo com a média de todas as listas\n",
        "  df_prov['meanLists'] = df_prov.iloc[:,2:].mean(axis=1)\n",
        "  return df_prov.to_json('graph_performance_student_list.json',force_ascii=False,orient='records')"
      ],
      "execution_count": null,
      "outputs": []
    },
    {
      "cell_type": "markdown",
      "metadata": {
        "id": "ibCTW9blyG0b"
      },
      "source": [
        "Função do grafico de distribuição de notas por lista. Necessita da performance em uma lista"
      ]
    },
    {
      "cell_type": "code",
      "metadata": {
        "id": "xmX_TtzQALyR"
      },
      "source": [
        "def graph_distribution_notes_list(df_performance_list):\n",
        "  #Agrupa por lista, e conta as ocorrências\n",
        "  return df_performance_list.groupby('list')['mediaList'].apply(lambda group: group.values.tolist()).to_json('df_distribuition_notes_list.json',force_ascii=False,orient='index')"
      ],
      "execution_count": null,
      "outputs": []
    },
    {
      "cell_type": "markdown",
      "metadata": {
        "id": "OnKD95YdJV6Z"
      },
      "source": [
        "Não mexer"
      ]
    },
    {
      "cell_type": "code",
      "metadata": {
        "id": "M_0MOygqJXNa"
      },
      "source": [
        "#df_teste.groupby('user')[['list','mediaList']].apply(lambda group: group.values.tolist()).to_json(force_ascii=False).replace('{\"','{\"students\":[{\"user\":\"').replace(\":[[\",',\"lists\":[{\"list\":').replace(\":]],\",',\"lists\":}]').replace(']],\"','}],\"user\":\"')"
      ],
      "execution_count": null,
      "outputs": []
    },
    {
      "cell_type": "markdown",
      "metadata": {
        "id": "kaGpFuLmJC70"
      },
      "source": [
        "Testes"
      ]
    },
    {
      "cell_type": "code",
      "metadata": {
        "id": "uhAmMuJ0A_Yk"
      },
      "source": [
        "turma = ['66baea8b-9ee0-4297-a218-a76a35e9dca4']\n",
        "df_subs = lop_submission(pd.DataFrame(turma, columns = ['id_class']))"
      ],
      "execution_count": null,
      "outputs": []
    },
    {
      "cell_type": "code",
      "metadata": {
        "id": "5GBA-cz2ZYyD"
      },
      "source": [
        "df = performance_list(df_subs)"
      ],
      "execution_count": null,
      "outputs": []
    },
    {
      "cell_type": "code",
      "metadata": {
        "id": "4NIpAfEdyfJy"
      },
      "source": [
        "df_jsons = pd.DataFrame()#columns={'graph1','graph2'})"
      ],
      "execution_count": null,
      "outputs": []
    },
    {
      "cell_type": "code",
      "metadata": {
        "id": "Ii6sRSiXGvW6"
      },
      "source": [
        "graph_performance_student_list(df)"
      ],
      "execution_count": null,
      "outputs": []
    },
    {
      "cell_type": "code",
      "metadata": {
        "id": "DR621fSJHsJX"
      },
      "source": [
        "df_t['a']=df_t.iloc[:,2:].mean(axis=1)"
      ],
      "execution_count": null,
      "outputs": []
    },
    {
      "cell_type": "code",
      "metadata": {
        "colab": {
          "base_uri": "https://localhost:8080/",
          "height": 1000
        },
        "id": "vByPoAi2H11c",
        "outputId": "769ed499-2d67-4301-8be9-bff22a85e45d"
      },
      "source": [
        "df_t"
      ],
      "execution_count": null,
      "outputs": [
        {
          "output_type": "execute_result",
          "data": {
            "text/html": [
              "<div>\n",
              "<style scoped>\n",
              "    .dataframe tbody tr th:only-of-type {\n",
              "        vertical-align: middle;\n",
              "    }\n",
              "\n",
              "    .dataframe tbody tr th {\n",
              "        vertical-align: top;\n",
              "    }\n",
              "\n",
              "    .dataframe thead th {\n",
              "        text-align: right;\n",
              "    }\n",
              "</style>\n",
              "<table border=\"1\" class=\"dataframe\">\n",
              "  <thead>\n",
              "    <tr style=\"text-align: right;\">\n",
              "      <th></th>\n",
              "      <th>user</th>\n",
              "      <th>registration</th>\n",
              "      <th>IMD0012 - 2020.6: Lista Obrigatória, Semana 1</th>\n",
              "      <th>IMD0012 - 2020.6: Lista Preparatória, Semana 3</th>\n",
              "      <th>ITP - Alocação dinâmica</th>\n",
              "      <th>ITP - Funções - Lista</th>\n",
              "      <th>ITP - Laços</th>\n",
              "      <th>ITP - Manipulação de Arquivos e  Modularização</th>\n",
              "      <th>ITP - Matriz - Lista</th>\n",
              "      <th>ITP - Ponteiros 1 - Lista</th>\n",
              "      <th>ITP - Ponteiros 2 -  Lista</th>\n",
              "      <th>ITP - Recursão - Lista</th>\n",
              "      <th>ITP - Strings - Lista</th>\n",
              "      <th>ITP - Structs e Enumerações - Lista</th>\n",
              "      <th>a</th>\n",
              "    </tr>\n",
              "  </thead>\n",
              "  <tbody>\n",
              "    <tr>\n",
              "      <th>0</th>\n",
              "      <td>Adailton Aquino dos Santos</td>\n",
              "      <td>20180070994</td>\n",
              "      <td>0.000000</td>\n",
              "      <td>0.00</td>\n",
              "      <td>0.000000</td>\n",
              "      <td>0.0</td>\n",
              "      <td>0.0000</td>\n",
              "      <td>0.0</td>\n",
              "      <td>0.0</td>\n",
              "      <td>0.0</td>\n",
              "      <td>0.0</td>\n",
              "      <td>0.00</td>\n",
              "      <td>0.0000</td>\n",
              "      <td>0.0</td>\n",
              "      <td>0.000000</td>\n",
              "    </tr>\n",
              "    <tr>\n",
              "      <th>1</th>\n",
              "      <td>Anderson dos Santos Lucio</td>\n",
              "      <td>20200037840</td>\n",
              "      <td>100.000000</td>\n",
              "      <td>100.00</td>\n",
              "      <td>0.000000</td>\n",
              "      <td>100.0</td>\n",
              "      <td>100.0000</td>\n",
              "      <td>0.0</td>\n",
              "      <td>50.0</td>\n",
              "      <td>0.0</td>\n",
              "      <td>0.0</td>\n",
              "      <td>0.00</td>\n",
              "      <td>75.0000</td>\n",
              "      <td>0.0</td>\n",
              "      <td>43.750000</td>\n",
              "    </tr>\n",
              "    <tr>\n",
              "      <th>2</th>\n",
              "      <td>André Fernandes</td>\n",
              "      <td>20200050162</td>\n",
              "      <td>100.000000</td>\n",
              "      <td>100.00</td>\n",
              "      <td>66.666667</td>\n",
              "      <td>25.0</td>\n",
              "      <td>100.0000</td>\n",
              "      <td>0.0</td>\n",
              "      <td>100.0</td>\n",
              "      <td>50.0</td>\n",
              "      <td>100.0</td>\n",
              "      <td>50.00</td>\n",
              "      <td>100.0000</td>\n",
              "      <td>50.0</td>\n",
              "      <td>70.138889</td>\n",
              "    </tr>\n",
              "    <tr>\n",
              "      <th>3</th>\n",
              "      <td>Eudna Olivio</td>\n",
              "      <td>20190003340</td>\n",
              "      <td>0.000000</td>\n",
              "      <td>0.00</td>\n",
              "      <td>0.000000</td>\n",
              "      <td>0.0</td>\n",
              "      <td>75.0000</td>\n",
              "      <td>0.0</td>\n",
              "      <td>0.0</td>\n",
              "      <td>0.0</td>\n",
              "      <td>0.0</td>\n",
              "      <td>0.00</td>\n",
              "      <td>0.0000</td>\n",
              "      <td>0.0</td>\n",
              "      <td>6.250000</td>\n",
              "    </tr>\n",
              "    <tr>\n",
              "      <th>4</th>\n",
              "      <td>Felipe Cavalcanti</td>\n",
              "      <td>2016040065</td>\n",
              "      <td>66.666667</td>\n",
              "      <td>0.00</td>\n",
              "      <td>0.000000</td>\n",
              "      <td>0.0</td>\n",
              "      <td>25.0000</td>\n",
              "      <td>0.0</td>\n",
              "      <td>0.0</td>\n",
              "      <td>0.0</td>\n",
              "      <td>0.0</td>\n",
              "      <td>0.00</td>\n",
              "      <td>0.0000</td>\n",
              "      <td>0.0</td>\n",
              "      <td>7.638889</td>\n",
              "    </tr>\n",
              "    <tr>\n",
              "      <th>5</th>\n",
              "      <td>Flavio Almeida</td>\n",
              "      <td>20190046230</td>\n",
              "      <td>100.000000</td>\n",
              "      <td>0.00</td>\n",
              "      <td>0.000000</td>\n",
              "      <td>0.0</td>\n",
              "      <td>0.0000</td>\n",
              "      <td>0.0</td>\n",
              "      <td>0.0</td>\n",
              "      <td>0.0</td>\n",
              "      <td>0.0</td>\n",
              "      <td>0.00</td>\n",
              "      <td>0.0000</td>\n",
              "      <td>0.0</td>\n",
              "      <td>8.333333</td>\n",
              "    </tr>\n",
              "    <tr>\n",
              "      <th>6</th>\n",
              "      <td>Gabriel</td>\n",
              "      <td>20200044648</td>\n",
              "      <td>100.000000</td>\n",
              "      <td>100.00</td>\n",
              "      <td>0.000000</td>\n",
              "      <td>0.0</td>\n",
              "      <td>100.0000</td>\n",
              "      <td>0.0</td>\n",
              "      <td>0.0</td>\n",
              "      <td>0.0</td>\n",
              "      <td>0.0</td>\n",
              "      <td>0.00</td>\n",
              "      <td>0.0000</td>\n",
              "      <td>0.0</td>\n",
              "      <td>25.000000</td>\n",
              "    </tr>\n",
              "    <tr>\n",
              "      <th>7</th>\n",
              "      <td>Gabriel Jonatha</td>\n",
              "      <td>20190000705</td>\n",
              "      <td>100.000000</td>\n",
              "      <td>100.00</td>\n",
              "      <td>100.000000</td>\n",
              "      <td>100.0</td>\n",
              "      <td>100.0000</td>\n",
              "      <td>0.0</td>\n",
              "      <td>100.0</td>\n",
              "      <td>75.0</td>\n",
              "      <td>50.0</td>\n",
              "      <td>75.00</td>\n",
              "      <td>100.0000</td>\n",
              "      <td>25.0</td>\n",
              "      <td>77.083333</td>\n",
              "    </tr>\n",
              "    <tr>\n",
              "      <th>8</th>\n",
              "      <td>Guilherme Kaio</td>\n",
              "      <td>20200037643</td>\n",
              "      <td>100.000000</td>\n",
              "      <td>100.00</td>\n",
              "      <td>83.333333</td>\n",
              "      <td>0.0</td>\n",
              "      <td>100.0000</td>\n",
              "      <td>0.0</td>\n",
              "      <td>0.0</td>\n",
              "      <td>0.0</td>\n",
              "      <td>50.0</td>\n",
              "      <td>0.00</td>\n",
              "      <td>0.0000</td>\n",
              "      <td>25.0</td>\n",
              "      <td>38.194444</td>\n",
              "    </tr>\n",
              "    <tr>\n",
              "      <th>9</th>\n",
              "      <td>Guilherme Prucci</td>\n",
              "      <td>20200045260</td>\n",
              "      <td>100.000000</td>\n",
              "      <td>100.00</td>\n",
              "      <td>33.333333</td>\n",
              "      <td>50.0</td>\n",
              "      <td>100.0000</td>\n",
              "      <td>0.0</td>\n",
              "      <td>50.0</td>\n",
              "      <td>25.0</td>\n",
              "      <td>50.0</td>\n",
              "      <td>43.75</td>\n",
              "      <td>100.0000</td>\n",
              "      <td>50.0</td>\n",
              "      <td>58.506944</td>\n",
              "    </tr>\n",
              "    <tr>\n",
              "      <th>10</th>\n",
              "      <td>Gustavo</td>\n",
              "      <td>20200049724</td>\n",
              "      <td>100.000000</td>\n",
              "      <td>100.00</td>\n",
              "      <td>0.000000</td>\n",
              "      <td>0.0</td>\n",
              "      <td>100.0000</td>\n",
              "      <td>0.0</td>\n",
              "      <td>0.0</td>\n",
              "      <td>0.0</td>\n",
              "      <td>0.0</td>\n",
              "      <td>0.00</td>\n",
              "      <td>0.0000</td>\n",
              "      <td>0.0</td>\n",
              "      <td>25.000000</td>\n",
              "    </tr>\n",
              "    <tr>\n",
              "      <th>11</th>\n",
              "      <td>Humberto Vitalino da Silva Neto</td>\n",
              "      <td>20200043883</td>\n",
              "      <td>100.000000</td>\n",
              "      <td>100.00</td>\n",
              "      <td>33.333333</td>\n",
              "      <td>100.0</td>\n",
              "      <td>100.0000</td>\n",
              "      <td>0.0</td>\n",
              "      <td>100.0</td>\n",
              "      <td>75.0</td>\n",
              "      <td>50.0</td>\n",
              "      <td>75.00</td>\n",
              "      <td>100.0000</td>\n",
              "      <td>25.0</td>\n",
              "      <td>71.527778</td>\n",
              "    </tr>\n",
              "    <tr>\n",
              "      <th>12</th>\n",
              "      <td>Igor Galvao</td>\n",
              "      <td>20200099207</td>\n",
              "      <td>0.000000</td>\n",
              "      <td>0.00</td>\n",
              "      <td>0.000000</td>\n",
              "      <td>25.0</td>\n",
              "      <td>0.0000</td>\n",
              "      <td>0.0</td>\n",
              "      <td>0.0</td>\n",
              "      <td>0.0</td>\n",
              "      <td>0.0</td>\n",
              "      <td>0.00</td>\n",
              "      <td>0.0000</td>\n",
              "      <td>0.0</td>\n",
              "      <td>2.083333</td>\n",
              "    </tr>\n",
              "    <tr>\n",
              "      <th>13</th>\n",
              "      <td>Irielson Carneiro de Lima</td>\n",
              "      <td>20190128560</td>\n",
              "      <td>100.000000</td>\n",
              "      <td>100.00</td>\n",
              "      <td>33.333333</td>\n",
              "      <td>100.0</td>\n",
              "      <td>100.0000</td>\n",
              "      <td>0.0</td>\n",
              "      <td>100.0</td>\n",
              "      <td>0.0</td>\n",
              "      <td>25.0</td>\n",
              "      <td>0.00</td>\n",
              "      <td>100.0000</td>\n",
              "      <td>0.0</td>\n",
              "      <td>54.861111</td>\n",
              "    </tr>\n",
              "    <tr>\n",
              "      <th>14</th>\n",
              "      <td>JOAO PEDRO PEREIRA CAVALCANTI</td>\n",
              "      <td>20190000732</td>\n",
              "      <td>100.000000</td>\n",
              "      <td>100.00</td>\n",
              "      <td>0.000000</td>\n",
              "      <td>75.0</td>\n",
              "      <td>100.0000</td>\n",
              "      <td>0.0</td>\n",
              "      <td>25.0</td>\n",
              "      <td>50.0</td>\n",
              "      <td>0.0</td>\n",
              "      <td>0.00</td>\n",
              "      <td>100.0000</td>\n",
              "      <td>0.0</td>\n",
              "      <td>45.833333</td>\n",
              "    </tr>\n",
              "    <tr>\n",
              "      <th>15</th>\n",
              "      <td>Janiheryson</td>\n",
              "      <td>20190000714</td>\n",
              "      <td>100.000000</td>\n",
              "      <td>50.00</td>\n",
              "      <td>100.000000</td>\n",
              "      <td>100.0</td>\n",
              "      <td>100.0000</td>\n",
              "      <td>0.0</td>\n",
              "      <td>100.0</td>\n",
              "      <td>75.0</td>\n",
              "      <td>50.0</td>\n",
              "      <td>60.00</td>\n",
              "      <td>0.0000</td>\n",
              "      <td>0.0</td>\n",
              "      <td>61.250000</td>\n",
              "    </tr>\n",
              "    <tr>\n",
              "      <th>16</th>\n",
              "      <td>Jonathan Tavares</td>\n",
              "      <td>20200000269</td>\n",
              "      <td>100.000000</td>\n",
              "      <td>100.00</td>\n",
              "      <td>0.000000</td>\n",
              "      <td>0.0</td>\n",
              "      <td>100.0000</td>\n",
              "      <td>0.0</td>\n",
              "      <td>0.0</td>\n",
              "      <td>0.0</td>\n",
              "      <td>0.0</td>\n",
              "      <td>0.00</td>\n",
              "      <td>100.0000</td>\n",
              "      <td>0.0</td>\n",
              "      <td>33.333333</td>\n",
              "    </tr>\n",
              "    <tr>\n",
              "      <th>17</th>\n",
              "      <td>João Pedro</td>\n",
              "      <td>20200004571</td>\n",
              "      <td>0.000000</td>\n",
              "      <td>50.00</td>\n",
              "      <td>33.333333</td>\n",
              "      <td>0.0</td>\n",
              "      <td>25.0000</td>\n",
              "      <td>0.0</td>\n",
              "      <td>0.0</td>\n",
              "      <td>0.0</td>\n",
              "      <td>50.0</td>\n",
              "      <td>0.00</td>\n",
              "      <td>0.0000</td>\n",
              "      <td>25.0</td>\n",
              "      <td>15.277778</td>\n",
              "    </tr>\n",
              "    <tr>\n",
              "      <th>18</th>\n",
              "      <td>João Pedro Machado</td>\n",
              "      <td>20190046633</td>\n",
              "      <td>66.666667</td>\n",
              "      <td>25.00</td>\n",
              "      <td>0.000000</td>\n",
              "      <td>0.0</td>\n",
              "      <td>0.0000</td>\n",
              "      <td>0.0</td>\n",
              "      <td>0.0</td>\n",
              "      <td>0.0</td>\n",
              "      <td>0.0</td>\n",
              "      <td>0.00</td>\n",
              "      <td>0.0000</td>\n",
              "      <td>0.0</td>\n",
              "      <td>7.638889</td>\n",
              "    </tr>\n",
              "    <tr>\n",
              "      <th>19</th>\n",
              "      <td>Kleyton Praxedes</td>\n",
              "      <td>20170002195</td>\n",
              "      <td>20.000000</td>\n",
              "      <td>75.00</td>\n",
              "      <td>0.000000</td>\n",
              "      <td>0.0</td>\n",
              "      <td>58.3325</td>\n",
              "      <td>0.0</td>\n",
              "      <td>0.0</td>\n",
              "      <td>0.0</td>\n",
              "      <td>0.0</td>\n",
              "      <td>0.00</td>\n",
              "      <td>0.0000</td>\n",
              "      <td>0.0</td>\n",
              "      <td>12.777708</td>\n",
              "    </tr>\n",
              "    <tr>\n",
              "      <th>20</th>\n",
              "      <td>LUCAS HENRIQUE DE ALENCAR RODRIGUES</td>\n",
              "      <td>20200050108</td>\n",
              "      <td>100.000000</td>\n",
              "      <td>100.00</td>\n",
              "      <td>0.000000</td>\n",
              "      <td>75.0</td>\n",
              "      <td>100.0000</td>\n",
              "      <td>0.0</td>\n",
              "      <td>0.0</td>\n",
              "      <td>0.0</td>\n",
              "      <td>0.0</td>\n",
              "      <td>0.00</td>\n",
              "      <td>100.0000</td>\n",
              "      <td>0.0</td>\n",
              "      <td>39.583333</td>\n",
              "    </tr>\n",
              "    <tr>\n",
              "      <th>21</th>\n",
              "      <td>Lindolpho</td>\n",
              "      <td>20200004938</td>\n",
              "      <td>100.000000</td>\n",
              "      <td>100.00</td>\n",
              "      <td>0.000000</td>\n",
              "      <td>100.0</td>\n",
              "      <td>100.0000</td>\n",
              "      <td>0.0</td>\n",
              "      <td>0.0</td>\n",
              "      <td>0.0</td>\n",
              "      <td>0.0</td>\n",
              "      <td>100.00</td>\n",
              "      <td>100.0000</td>\n",
              "      <td>0.0</td>\n",
              "      <td>50.000000</td>\n",
              "    </tr>\n",
              "    <tr>\n",
              "      <th>22</th>\n",
              "      <td>Lucas do Nascimento</td>\n",
              "      <td>20200037465</td>\n",
              "      <td>100.000000</td>\n",
              "      <td>100.00</td>\n",
              "      <td>0.000000</td>\n",
              "      <td>100.0</td>\n",
              "      <td>100.0000</td>\n",
              "      <td>0.0</td>\n",
              "      <td>0.0</td>\n",
              "      <td>0.0</td>\n",
              "      <td>0.0</td>\n",
              "      <td>0.00</td>\n",
              "      <td>100.0000</td>\n",
              "      <td>0.0</td>\n",
              "      <td>41.666667</td>\n",
              "    </tr>\n",
              "    <tr>\n",
              "      <th>23</th>\n",
              "      <td>Rafael Magno</td>\n",
              "      <td>20200000062</td>\n",
              "      <td>33.333333</td>\n",
              "      <td>25.00</td>\n",
              "      <td>0.000000</td>\n",
              "      <td>0.0</td>\n",
              "      <td>0.0000</td>\n",
              "      <td>0.0</td>\n",
              "      <td>0.0</td>\n",
              "      <td>0.0</td>\n",
              "      <td>0.0</td>\n",
              "      <td>0.00</td>\n",
              "      <td>0.0000</td>\n",
              "      <td>0.0</td>\n",
              "      <td>4.861111</td>\n",
              "    </tr>\n",
              "    <tr>\n",
              "      <th>24</th>\n",
              "      <td>Rafael Silva Freire</td>\n",
              "      <td>20200000071</td>\n",
              "      <td>100.000000</td>\n",
              "      <td>100.00</td>\n",
              "      <td>100.000000</td>\n",
              "      <td>100.0</td>\n",
              "      <td>100.0000</td>\n",
              "      <td>0.0</td>\n",
              "      <td>100.0</td>\n",
              "      <td>75.0</td>\n",
              "      <td>50.0</td>\n",
              "      <td>100.00</td>\n",
              "      <td>100.0000</td>\n",
              "      <td>50.0</td>\n",
              "      <td>81.250000</td>\n",
              "    </tr>\n",
              "    <tr>\n",
              "      <th>25</th>\n",
              "      <td>Raphael</td>\n",
              "      <td>20190039693</td>\n",
              "      <td>33.333333</td>\n",
              "      <td>0.00</td>\n",
              "      <td>0.000000</td>\n",
              "      <td>0.0</td>\n",
              "      <td>0.0000</td>\n",
              "      <td>0.0</td>\n",
              "      <td>0.0</td>\n",
              "      <td>0.0</td>\n",
              "      <td>0.0</td>\n",
              "      <td>0.00</td>\n",
              "      <td>0.0000</td>\n",
              "      <td>0.0</td>\n",
              "      <td>2.777778</td>\n",
              "    </tr>\n",
              "    <tr>\n",
              "      <th>26</th>\n",
              "      <td>Ricardo Alexandre</td>\n",
              "      <td>20180070279</td>\n",
              "      <td>0.000000</td>\n",
              "      <td>0.00</td>\n",
              "      <td>0.000000</td>\n",
              "      <td>0.0</td>\n",
              "      <td>0.0000</td>\n",
              "      <td>0.0</td>\n",
              "      <td>25.0</td>\n",
              "      <td>0.0</td>\n",
              "      <td>0.0</td>\n",
              "      <td>0.00</td>\n",
              "      <td>50.0000</td>\n",
              "      <td>0.0</td>\n",
              "      <td>6.250000</td>\n",
              "    </tr>\n",
              "    <tr>\n",
              "      <th>27</th>\n",
              "      <td>Roberto Bettega</td>\n",
              "      <td>2014075203</td>\n",
              "      <td>100.000000</td>\n",
              "      <td>0.00</td>\n",
              "      <td>0.000000</td>\n",
              "      <td>0.0</td>\n",
              "      <td>50.0000</td>\n",
              "      <td>0.0</td>\n",
              "      <td>0.0</td>\n",
              "      <td>0.0</td>\n",
              "      <td>0.0</td>\n",
              "      <td>0.00</td>\n",
              "      <td>0.0000</td>\n",
              "      <td>0.0</td>\n",
              "      <td>12.500000</td>\n",
              "    </tr>\n",
              "    <tr>\n",
              "      <th>28</th>\n",
              "      <td>Thiago</td>\n",
              "      <td>20200042367</td>\n",
              "      <td>100.000000</td>\n",
              "      <td>100.00</td>\n",
              "      <td>0.000000</td>\n",
              "      <td>100.0</td>\n",
              "      <td>100.0000</td>\n",
              "      <td>0.0</td>\n",
              "      <td>75.0</td>\n",
              "      <td>0.0</td>\n",
              "      <td>0.0</td>\n",
              "      <td>0.00</td>\n",
              "      <td>75.0000</td>\n",
              "      <td>0.0</td>\n",
              "      <td>45.833333</td>\n",
              "    </tr>\n",
              "    <tr>\n",
              "      <th>29</th>\n",
              "      <td>Victor Nascimento</td>\n",
              "      <td>20180069859</td>\n",
              "      <td>0.000000</td>\n",
              "      <td>0.00</td>\n",
              "      <td>0.000000</td>\n",
              "      <td>0.0</td>\n",
              "      <td>0.0000</td>\n",
              "      <td>0.0</td>\n",
              "      <td>0.0</td>\n",
              "      <td>0.0</td>\n",
              "      <td>0.0</td>\n",
              "      <td>0.00</td>\n",
              "      <td>0.0000</td>\n",
              "      <td>0.0</td>\n",
              "      <td>0.000000</td>\n",
              "    </tr>\n",
              "    <tr>\n",
              "      <th>30</th>\n",
              "      <td>Vinícius</td>\n",
              "      <td>20190038490</td>\n",
              "      <td>100.000000</td>\n",
              "      <td>0.00</td>\n",
              "      <td>33.333333</td>\n",
              "      <td>0.0</td>\n",
              "      <td>100.0000</td>\n",
              "      <td>0.0</td>\n",
              "      <td>0.0</td>\n",
              "      <td>0.0</td>\n",
              "      <td>50.0</td>\n",
              "      <td>0.00</td>\n",
              "      <td>0.0000</td>\n",
              "      <td>25.0</td>\n",
              "      <td>25.694444</td>\n",
              "    </tr>\n",
              "    <tr>\n",
              "      <th>31</th>\n",
              "      <td>Vitor Cesar</td>\n",
              "      <td>20200106624</td>\n",
              "      <td>66.666667</td>\n",
              "      <td>0.00</td>\n",
              "      <td>0.000000</td>\n",
              "      <td>0.0</td>\n",
              "      <td>50.0000</td>\n",
              "      <td>0.0</td>\n",
              "      <td>0.0</td>\n",
              "      <td>0.0</td>\n",
              "      <td>0.0</td>\n",
              "      <td>0.00</td>\n",
              "      <td>0.0000</td>\n",
              "      <td>0.0</td>\n",
              "      <td>9.722222</td>\n",
              "    </tr>\n",
              "    <tr>\n",
              "      <th>32</th>\n",
              "      <td>Wellington Souza aluno</td>\n",
              "      <td>123123123213</td>\n",
              "      <td>0.000000</td>\n",
              "      <td>0.00</td>\n",
              "      <td>0.000000</td>\n",
              "      <td>0.0</td>\n",
              "      <td>4.1675</td>\n",
              "      <td>0.0</td>\n",
              "      <td>0.0</td>\n",
              "      <td>0.0</td>\n",
              "      <td>0.0</td>\n",
              "      <td>0.00</td>\n",
              "      <td>0.0000</td>\n",
              "      <td>0.0</td>\n",
              "      <td>0.347292</td>\n",
              "    </tr>\n",
              "    <tr>\n",
              "      <th>33</th>\n",
              "      <td>adsonael</td>\n",
              "      <td>20200043088</td>\n",
              "      <td>100.000000</td>\n",
              "      <td>25.00</td>\n",
              "      <td>0.000000</td>\n",
              "      <td>0.0</td>\n",
              "      <td>4.1675</td>\n",
              "      <td>0.0</td>\n",
              "      <td>0.0</td>\n",
              "      <td>0.0</td>\n",
              "      <td>0.0</td>\n",
              "      <td>0.00</td>\n",
              "      <td>16.6675</td>\n",
              "      <td>0.0</td>\n",
              "      <td>12.152917</td>\n",
              "    </tr>\n",
              "    <tr>\n",
              "      <th>34</th>\n",
              "      <td>caciolucas</td>\n",
              "      <td>20200037607</td>\n",
              "      <td>100.000000</td>\n",
              "      <td>100.00</td>\n",
              "      <td>100.000000</td>\n",
              "      <td>100.0</td>\n",
              "      <td>100.0000</td>\n",
              "      <td>50.0</td>\n",
              "      <td>100.0</td>\n",
              "      <td>0.0</td>\n",
              "      <td>50.0</td>\n",
              "      <td>70.00</td>\n",
              "      <td>100.0000</td>\n",
              "      <td>50.0</td>\n",
              "      <td>76.666667</td>\n",
              "    </tr>\n",
              "    <tr>\n",
              "      <th>35</th>\n",
              "      <td>ciro olimpio cortez gomes</td>\n",
              "      <td>20180144828</td>\n",
              "      <td>100.000000</td>\n",
              "      <td>25.00</td>\n",
              "      <td>0.000000</td>\n",
              "      <td>25.0</td>\n",
              "      <td>50.0000</td>\n",
              "      <td>0.0</td>\n",
              "      <td>75.0</td>\n",
              "      <td>50.0</td>\n",
              "      <td>0.0</td>\n",
              "      <td>0.00</td>\n",
              "      <td>75.0000</td>\n",
              "      <td>0.0</td>\n",
              "      <td>33.333333</td>\n",
              "    </tr>\n",
              "    <tr>\n",
              "      <th>36</th>\n",
              "      <td>laerte Kenedy</td>\n",
              "      <td>20190126968</td>\n",
              "      <td>66.666667</td>\n",
              "      <td>6.25</td>\n",
              "      <td>0.000000</td>\n",
              "      <td>0.0</td>\n",
              "      <td>100.0000</td>\n",
              "      <td>0.0</td>\n",
              "      <td>0.0</td>\n",
              "      <td>0.0</td>\n",
              "      <td>0.0</td>\n",
              "      <td>0.00</td>\n",
              "      <td>25.0000</td>\n",
              "      <td>0.0</td>\n",
              "      <td>16.493056</td>\n",
              "    </tr>\n",
              "    <tr>\n",
              "      <th>37</th>\n",
              "      <td>lucas melo</td>\n",
              "      <td>lucas melo dos santos</td>\n",
              "      <td>100.000000</td>\n",
              "      <td>0.00</td>\n",
              "      <td>0.000000</td>\n",
              "      <td>0.0</td>\n",
              "      <td>16.6675</td>\n",
              "      <td>0.0</td>\n",
              "      <td>0.0</td>\n",
              "      <td>0.0</td>\n",
              "      <td>0.0</td>\n",
              "      <td>0.00</td>\n",
              "      <td>0.0000</td>\n",
              "      <td>0.0</td>\n",
              "      <td>9.722292</td>\n",
              "    </tr>\n",
              "    <tr>\n",
              "      <th>38</th>\n",
              "      <td>pedrocardoso</td>\n",
              "      <td>20200042062</td>\n",
              "      <td>100.000000</td>\n",
              "      <td>100.00</td>\n",
              "      <td>0.000000</td>\n",
              "      <td>50.0</td>\n",
              "      <td>100.0000</td>\n",
              "      <td>0.0</td>\n",
              "      <td>0.0</td>\n",
              "      <td>0.0</td>\n",
              "      <td>100.0</td>\n",
              "      <td>0.00</td>\n",
              "      <td>100.0000</td>\n",
              "      <td>0.0</td>\n",
              "      <td>45.833333</td>\n",
              "    </tr>\n",
              "    <tr>\n",
              "      <th>39</th>\n",
              "      <td>yam gomes</td>\n",
              "      <td>20200039325</td>\n",
              "      <td>100.000000</td>\n",
              "      <td>25.00</td>\n",
              "      <td>100.000000</td>\n",
              "      <td>0.0</td>\n",
              "      <td>100.0000</td>\n",
              "      <td>0.0</td>\n",
              "      <td>25.0</td>\n",
              "      <td>50.0</td>\n",
              "      <td>50.0</td>\n",
              "      <td>0.00</td>\n",
              "      <td>0.0000</td>\n",
              "      <td>25.0</td>\n",
              "      <td>39.583333</td>\n",
              "    </tr>\n",
              "    <tr>\n",
              "      <th>40</th>\n",
              "      <td>Érica Valeska Gurgel Tôrres</td>\n",
              "      <td>20200002933</td>\n",
              "      <td>100.000000</td>\n",
              "      <td>0.00</td>\n",
              "      <td>0.000000</td>\n",
              "      <td>0.0</td>\n",
              "      <td>100.0000</td>\n",
              "      <td>0.0</td>\n",
              "      <td>0.0</td>\n",
              "      <td>0.0</td>\n",
              "      <td>0.0</td>\n",
              "      <td>0.00</td>\n",
              "      <td>0.0000</td>\n",
              "      <td>0.0</td>\n",
              "      <td>16.666667</td>\n",
              "    </tr>\n",
              "  </tbody>\n",
              "</table>\n",
              "</div>"
            ],
            "text/plain": [
              "                                    user  ...          a\n",
              "0            Adailton Aquino dos Santos   ...   0.000000\n",
              "1             Anderson dos Santos Lucio   ...  43.750000\n",
              "2                       André Fernandes   ...  70.138889\n",
              "3                          Eudna Olivio   ...   6.250000\n",
              "4                     Felipe Cavalcanti   ...   7.638889\n",
              "5                        Flavio Almeida   ...   8.333333\n",
              "6                               Gabriel   ...  25.000000\n",
              "7                       Gabriel Jonatha   ...  77.083333\n",
              "8                        Guilherme Kaio   ...  38.194444\n",
              "9                      Guilherme Prucci   ...  58.506944\n",
              "10                              Gustavo   ...  25.000000\n",
              "11      Humberto Vitalino da Silva Neto   ...  71.527778\n",
              "12                          Igor Galvao   ...   2.083333\n",
              "13            Irielson Carneiro de Lima   ...  54.861111\n",
              "14        JOAO PEDRO PEREIRA CAVALCANTI   ...  45.833333\n",
              "15                          Janiheryson   ...  61.250000\n",
              "16                     Jonathan Tavares   ...  33.333333\n",
              "17                           João Pedro   ...  15.277778\n",
              "18                   João Pedro Machado   ...   7.638889\n",
              "19                     Kleyton Praxedes   ...  12.777708\n",
              "20  LUCAS HENRIQUE DE ALENCAR RODRIGUES   ...  39.583333\n",
              "21                            Lindolpho   ...  50.000000\n",
              "22                  Lucas do Nascimento   ...  41.666667\n",
              "23                         Rafael Magno   ...   4.861111\n",
              "24                  Rafael Silva Freire   ...  81.250000\n",
              "25                              Raphael   ...   2.777778\n",
              "26                    Ricardo Alexandre   ...   6.250000\n",
              "27                      Roberto Bettega   ...  12.500000\n",
              "28                               Thiago   ...  45.833333\n",
              "29                    Victor Nascimento   ...   0.000000\n",
              "30                             Vinícius   ...  25.694444\n",
              "31                          Vitor Cesar   ...   9.722222\n",
              "32               Wellington Souza aluno   ...   0.347292\n",
              "33                             adsonael   ...  12.152917\n",
              "34                           caciolucas   ...  76.666667\n",
              "35            ciro olimpio cortez gomes   ...  33.333333\n",
              "36                        laerte Kenedy   ...  16.493056\n",
              "37                           lucas melo   ...   9.722292\n",
              "38                         pedrocardoso   ...  45.833333\n",
              "39                            yam gomes   ...  39.583333\n",
              "40          Érica Valeska Gurgel Tôrres   ...  16.666667\n",
              "\n",
              "[41 rows x 15 columns]"
            ]
          },
          "metadata": {
            "tags": []
          },
          "execution_count": 44
        }
      ]
    },
    {
      "cell_type": "code",
      "metadata": {
        "colab": {
          "base_uri": "https://localhost:8080/",
          "height": 307
        },
        "id": "Ad_a9Dn6G0JA",
        "outputId": "f2f3744e-8969-4a7d-bebc-b1cc5e33994c"
      },
      "source": [
        "df_t.iloc[:,2:]"
      ],
      "execution_count": null,
      "outputs": [
        {
          "output_type": "error",
          "ename": "TypeError",
          "evalue": "ignored",
          "traceback": [
            "\u001b[0;31m---------------------------------------------------------------------------\u001b[0m",
            "\u001b[0;31mTypeError\u001b[0m                                 Traceback (most recent call last)",
            "\u001b[0;32m<ipython-input-28-cfecb7d77600>\u001b[0m in \u001b[0;36m<module>\u001b[0;34m()\u001b[0m\n\u001b[0;32m----> 1\u001b[0;31m \u001b[0mdf_t\u001b[0m\u001b[0;34m.\u001b[0m\u001b[0mgroupby\u001b[0m\u001b[0;34m(\u001b[0m\u001b[0;34m[\u001b[0m\u001b[0;34m'user'\u001b[0m\u001b[0;34m,\u001b[0m\u001b[0;34m'registration'\u001b[0m\u001b[0;34m]\u001b[0m\u001b[0;34m)\u001b[0m\u001b[0;34m[\u001b[0m\u001b[0mdf_t\u001b[0m\u001b[0;34m.\u001b[0m\u001b[0miloc\u001b[0m\u001b[0;34m[\u001b[0m\u001b[0;34m:\u001b[0m\u001b[0;34m,\u001b[0m\u001b[0;36m2\u001b[0m\u001b[0;34m:\u001b[0m\u001b[0;34m]\u001b[0m\u001b[0;34m]\u001b[0m\u001b[0;34m.\u001b[0m\u001b[0mmean\u001b[0m\u001b[0;34m(\u001b[0m\u001b[0;34m)\u001b[0m\u001b[0;34m\u001b[0m\u001b[0;34m\u001b[0m\u001b[0m\n\u001b[0m",
            "\u001b[0;32m/usr/local/lib/python3.6/dist-packages/pandas/core/groupby/generic.py\u001b[0m in \u001b[0;36m__getitem__\u001b[0;34m(self, key)\u001b[0m\n\u001b[1;32m   1608\u001b[0m                 \u001b[0mstacklevel\u001b[0m\u001b[0;34m=\u001b[0m\u001b[0;36m2\u001b[0m\u001b[0;34m,\u001b[0m\u001b[0;34m\u001b[0m\u001b[0;34m\u001b[0m\u001b[0m\n\u001b[1;32m   1609\u001b[0m             )\n\u001b[0;32m-> 1610\u001b[0;31m         \u001b[0;32mreturn\u001b[0m \u001b[0msuper\u001b[0m\u001b[0;34m(\u001b[0m\u001b[0;34m)\u001b[0m\u001b[0;34m.\u001b[0m\u001b[0m__getitem__\u001b[0m\u001b[0;34m(\u001b[0m\u001b[0mkey\u001b[0m\u001b[0;34m)\u001b[0m\u001b[0;34m\u001b[0m\u001b[0;34m\u001b[0m\u001b[0m\n\u001b[0m\u001b[1;32m   1611\u001b[0m \u001b[0;34m\u001b[0m\u001b[0m\n\u001b[1;32m   1612\u001b[0m     \u001b[0;32mdef\u001b[0m \u001b[0m_gotitem\u001b[0m\u001b[0;34m(\u001b[0m\u001b[0mself\u001b[0m\u001b[0;34m,\u001b[0m \u001b[0mkey\u001b[0m\u001b[0;34m,\u001b[0m \u001b[0mndim\u001b[0m\u001b[0;34m:\u001b[0m \u001b[0mint\u001b[0m\u001b[0;34m,\u001b[0m \u001b[0msubset\u001b[0m\u001b[0;34m=\u001b[0m\u001b[0;32mNone\u001b[0m\u001b[0;34m)\u001b[0m\u001b[0;34m:\u001b[0m\u001b[0;34m\u001b[0m\u001b[0;34m\u001b[0m\u001b[0m\n",
            "\u001b[0;32m/usr/local/lib/python3.6/dist-packages/pandas/core/base.py\u001b[0m in \u001b[0;36m__getitem__\u001b[0;34m(self, key)\u001b[0m\n\u001b[1;32m    225\u001b[0m \u001b[0;34m\u001b[0m\u001b[0m\n\u001b[1;32m    226\u001b[0m         \u001b[0;32melse\u001b[0m\u001b[0;34m:\u001b[0m\u001b[0;34m\u001b[0m\u001b[0;34m\u001b[0m\u001b[0m\n\u001b[0;32m--> 227\u001b[0;31m             \u001b[0;32mif\u001b[0m \u001b[0mkey\u001b[0m \u001b[0;32mnot\u001b[0m \u001b[0;32min\u001b[0m \u001b[0mself\u001b[0m\u001b[0;34m.\u001b[0m\u001b[0mobj\u001b[0m\u001b[0;34m:\u001b[0m\u001b[0;34m\u001b[0m\u001b[0;34m\u001b[0m\u001b[0m\n\u001b[0m\u001b[1;32m    228\u001b[0m                 \u001b[0;32mraise\u001b[0m \u001b[0mKeyError\u001b[0m\u001b[0;34m(\u001b[0m\u001b[0;34mf\"Column not found: {key}\"\u001b[0m\u001b[0;34m)\u001b[0m\u001b[0;34m\u001b[0m\u001b[0;34m\u001b[0m\u001b[0m\n\u001b[1;32m    229\u001b[0m             \u001b[0;32mreturn\u001b[0m \u001b[0mself\u001b[0m\u001b[0;34m.\u001b[0m\u001b[0m_gotitem\u001b[0m\u001b[0;34m(\u001b[0m\u001b[0mkey\u001b[0m\u001b[0;34m,\u001b[0m \u001b[0mndim\u001b[0m\u001b[0;34m=\u001b[0m\u001b[0;36m1\u001b[0m\u001b[0;34m)\u001b[0m\u001b[0;34m\u001b[0m\u001b[0;34m\u001b[0m\u001b[0m\n",
            "\u001b[0;32m/usr/local/lib/python3.6/dist-packages/pandas/core/generic.py\u001b[0m in \u001b[0;36m__contains__\u001b[0;34m(self, key)\u001b[0m\n\u001b[1;32m   1719\u001b[0m     \u001b[0;32mdef\u001b[0m \u001b[0m__contains__\u001b[0m\u001b[0;34m(\u001b[0m\u001b[0mself\u001b[0m\u001b[0;34m,\u001b[0m \u001b[0mkey\u001b[0m\u001b[0;34m)\u001b[0m \u001b[0;34m->\u001b[0m \u001b[0mbool_t\u001b[0m\u001b[0;34m:\u001b[0m\u001b[0;34m\u001b[0m\u001b[0;34m\u001b[0m\u001b[0m\n\u001b[1;32m   1720\u001b[0m         \u001b[0;34m\"\"\"True if the key is in the info axis\"\"\"\u001b[0m\u001b[0;34m\u001b[0m\u001b[0;34m\u001b[0m\u001b[0m\n\u001b[0;32m-> 1721\u001b[0;31m         \u001b[0;32mreturn\u001b[0m \u001b[0mkey\u001b[0m \u001b[0;32min\u001b[0m \u001b[0mself\u001b[0m\u001b[0;34m.\u001b[0m\u001b[0m_info_axis\u001b[0m\u001b[0;34m\u001b[0m\u001b[0;34m\u001b[0m\u001b[0m\n\u001b[0m\u001b[1;32m   1722\u001b[0m \u001b[0;34m\u001b[0m\u001b[0m\n\u001b[1;32m   1723\u001b[0m     \u001b[0;34m@\u001b[0m\u001b[0mproperty\u001b[0m\u001b[0;34m\u001b[0m\u001b[0;34m\u001b[0m\u001b[0m\n",
            "\u001b[0;32m/usr/local/lib/python3.6/dist-packages/pandas/core/indexes/base.py\u001b[0m in \u001b[0;36m__contains__\u001b[0;34m(self, key)\u001b[0m\n\u001b[1;32m   4069\u001b[0m         \u001b[0;32mFalse\u001b[0m\u001b[0;34m\u001b[0m\u001b[0;34m\u001b[0m\u001b[0m\n\u001b[1;32m   4070\u001b[0m         \"\"\"\n\u001b[0;32m-> 4071\u001b[0;31m         \u001b[0mhash\u001b[0m\u001b[0;34m(\u001b[0m\u001b[0mkey\u001b[0m\u001b[0;34m)\u001b[0m\u001b[0;34m\u001b[0m\u001b[0;34m\u001b[0m\u001b[0m\n\u001b[0m\u001b[1;32m   4072\u001b[0m         \u001b[0;32mtry\u001b[0m\u001b[0;34m:\u001b[0m\u001b[0;34m\u001b[0m\u001b[0;34m\u001b[0m\u001b[0m\n\u001b[1;32m   4073\u001b[0m             \u001b[0;32mreturn\u001b[0m \u001b[0mkey\u001b[0m \u001b[0;32min\u001b[0m \u001b[0mself\u001b[0m\u001b[0;34m.\u001b[0m\u001b[0m_engine\u001b[0m\u001b[0;34m\u001b[0m\u001b[0;34m\u001b[0m\u001b[0m\n",
            "\u001b[0;32m/usr/local/lib/python3.6/dist-packages/pandas/core/generic.py\u001b[0m in \u001b[0;36m__hash__\u001b[0;34m(self)\u001b[0m\n\u001b[1;32m   1667\u001b[0m     \u001b[0;32mdef\u001b[0m \u001b[0m__hash__\u001b[0m\u001b[0;34m(\u001b[0m\u001b[0mself\u001b[0m\u001b[0;34m)\u001b[0m\u001b[0;34m:\u001b[0m\u001b[0;34m\u001b[0m\u001b[0;34m\u001b[0m\u001b[0m\n\u001b[1;32m   1668\u001b[0m         raise TypeError(\n\u001b[0;32m-> 1669\u001b[0;31m             \u001b[0;34mf\"{repr(type(self).__name__)} objects are mutable, \"\u001b[0m\u001b[0;34m\u001b[0m\u001b[0;34m\u001b[0m\u001b[0m\n\u001b[0m\u001b[1;32m   1670\u001b[0m             \u001b[0;34mf\"thus they cannot be hashed\"\u001b[0m\u001b[0;34m\u001b[0m\u001b[0;34m\u001b[0m\u001b[0m\n\u001b[1;32m   1671\u001b[0m         )\n",
            "\u001b[0;31mTypeError\u001b[0m: 'DataFrame' objects are mutable, thus they cannot be hashed"
          ]
        }
      ]
    },
    {
      "cell_type": "code",
      "metadata": {
        "id": "tOgx8FCWyPRV"
      },
      "source": [
        "df_jsons['graph1'] = [graph_more_less_70_list_class(df)]\n",
        "df_jsons['graph2'] = [graph_performance_student_list(df)]"
      ],
      "execution_count": null,
      "outputs": []
    },
    {
      "cell_type": "code",
      "metadata": {
        "id": "Lnca4BVaXqL_"
      },
      "source": [
        "'{\"graph1\":'+df_jsons.iloc[0,0]+',\"graph2\":'+df_jsons.iloc[0,1]+\"}\""
      ],
      "execution_count": null,
      "outputs": []
    },
    {
      "cell_type": "markdown",
      "metadata": {
        "id": "3BUSGqrsC9BC"
      },
      "source": [
        "**Por hora descondirem essa função**"
      ]
    },
    {
      "cell_type": "code",
      "metadata": {
        "id": "3gXGYd0w_GRp"
      },
      "source": [
        "'''\n",
        "def avaliar_modelos(df, hyperparameters):\n",
        "\n",
        "  #Dicionários\n",
        "  model_param_disciplinas = {}\n",
        "  best_acc_disciplinas = {}\n",
        "  scoring_disciplinas = {}\n",
        "  #feature_importances_disciplinas = {}\n",
        "\n",
        "  #Seleciona o codigo de cada disciplina no dataframe, --alteravel--\n",
        "  lista_disciplinas = df[\"disciplina\"].unique()  \n",
        "\n",
        "  #Verifica se esta vazio\n",
        "  if lista_disciplinas is None:\n",
        "\t  return None\n",
        "\n",
        "  #Convertendo categorias do target de string para numerico (0,1)\n",
        "  df[\"situacao_categoria\"] = pd.Categorical(df[\"situacao\"]).codes\n",
        "\n",
        "  #Pipeline para transformar em categoria e verificar melhores parametros\n",
        "  pipeline_transform = Pipeline(steps = [('num_pipeline', NumericalTransformer()),\n",
        "                                         ('fs',SelectKBest(chi2)),\n",
        "                                         ('sc',StandardScaler()),\n",
        "                                         ('clf',XGBClassifier())\n",
        "                               ])\n",
        "\n",
        "  #Grid para testar todos os parâmetros                               \n",
        "  grid_search = GridSearchCV(\n",
        "                          estimator = pipeline_transform, \n",
        "                          param_grid = hyperparameters,\n",
        "                          cv= 5,\n",
        "                          scoring = {'Accuracy': make_scorer(accuracy_score)},\n",
        "                          #scoring = {\"AUC\": \"roc_auc\", \"Accuracy\": make_scorer(accuracy_score), \"F1\":\"f1\", \"Recall\":\"recall\", \"Precision\":\"precision\"},\n",
        "                          return_train_score=True,\n",
        "                          n_jobs=-1,#indica o numero de processos em paralelo, -1 significa usar todos\n",
        "                          refit='Accuracy')\n",
        "\n",
        "\n",
        "  #itera sobre a lista de disciplinas\n",
        "  for disciplina in lista_disciplinas:\n",
        "    data_iter = df.loc[df[\"disciplina\"].str.contains(disciplina),:]\n",
        "    \n",
        "    #Treinando Grid\n",
        "    best_model = grid_search.fit(data_iter.drop(columns = [\"disciplina\",\"situacao_categoria\"]), data_iter[\"situacao_categoria\"])\n",
        " \n",
        "    #Extraindo informações do treino\n",
        "    param_modelo = best_model.best_params_\n",
        "    model_param_disciplinas[disciplina] = param_modelo['clf']\n",
        "    best_acc_disciplinas[disciplina] = best_model.best_score_\n",
        "\n",
        "    #Resultado de metricas\n",
        "    result = pd.DataFrame(best_model.cv_results_)\n",
        "    result = result[['mean_train_Accuracy', 'std_train_Accuracy','mean_test_Accuracy', 'std_test_Accuracy','rank_test_Accuracy']].copy()\n",
        "    result[\"std_ratio\"] = result.std_test_Accuracy/result.std_train_Accuracy\n",
        "    result = result.sort_values(by=\"rank_test_Accuracy\",ascending=True)    \n",
        "    scoring_disciplinas[disciplina] = result.iloc[0,:]\n",
        "\n",
        "    #Características mais importantes\n",
        "    #feature_importances_disciplinas[disciplina] = grid.best_estimator_.feature_importances_\n",
        "    \n",
        "    #Salvando modelo\n",
        "    joblib.dump(best_model, 'modelo_' + disciplina + '.pkl')\n",
        "\n",
        "\n",
        "  #Transformando o dicionário para Dataframe\n",
        "  df_best_acc = pd.DataFrame.from_dict(best_acc_disciplinas, orient=\"index\")\n",
        "  df_best_acc.columns = [\"accuracy\"]\n",
        "  df_scor_disc = pd.DataFrame.from_dict(scoring_disciplinas, orient=\"index\")\n",
        "\n",
        "  #Concatenando DataFrames\n",
        "  df_relatorio = pd.concat([df_best_acc, df_scor_disc], axis=1, sort=False)\n",
        "\n",
        "  return (df_relatorio,model_param_disciplinas)\n",
        "\n",
        "'''"
      ],
      "execution_count": null,
      "outputs": []
    },
    {
      "cell_type": "markdown",
      "metadata": {
        "id": "dD1-lyVuizPA"
      },
      "source": [
        "##4. Leitura da Base\n",
        "<a id='leiturabase'></a>"
      ]
    },
    {
      "cell_type": "markdown",
      "metadata": {
        "id": "mVMECL1jJAxf"
      },
      "source": [
        "### Foi projetado para ter 4 tipos de consultas\n",
        "\n",
        "* A primeira é para receber dados dos professores que estão resgistrados no sistema\n",
        "\n",
        "* A segunda é para receber dados das turmas que estão registradas no sistema\n",
        "\n",
        "* A terceira é para receber dados das submissões que estão registradas no sistema\n",
        "\n",
        "* A quarta é para receber dados das questões que estão registradas no sistema\n",
        "\n",
        "As consultas vão ser tornando acumulativas, com a segunda dependendo de dados da primeira, e a terceira dependendo de dados da primeira e segunda para o preenchimento da url de consulta. Todas as consultas dependem da key de acesso\n",
        "\n",
        "Na consulta da class possui as depedências de: \n",
        "1. id_teacher, que é o id de um professor\n",
        "2. year, que é o ano da turma \n",
        "3. semester, que é o semestre (1 ou 2) da turma\n",
        "\n",
        "E na consulta de submission necessita do:\n",
        "1. id_class, que é o id de uma turma.\n",
        "\n",
        "Já a consulta de question e do teacher necessita apenas da key\n",
        "\n",
        "As consultas serão feitas via protocolo HTTP usando o método Get e irão receber um JSON dos dados do LoP\n"
      ]
    },
    {
      "cell_type": "markdown",
      "metadata": {
        "id": "X2rVvODlKxFz"
      },
      "source": [
        "### Estrutra das funções e suas dependências\n",
        "\n",
        "Funções de coleta e transformações de dados \n",
        "\n",
        "- lop_class(), lop_question()\n",
        "--- lop_submission()\n",
        "------ question_data()\n",
        "--------- performance_list()\n",
        "------------ graph_more_less_70_list_class()\n",
        "------------ graph_distribution_notes_list()\n",
        "\n",
        "Funções de treinamento de modelos de Machine Learning"
      ]
    },
    {
      "cell_type": "markdown",
      "metadata": {
        "id": "gLS4lxbbQwTo"
      },
      "source": [
        "Leitura de endpoints e key"
      ]
    },
    {
      "cell_type": "code",
      "metadata": {
        "id": "syfUfm4xQz82"
      },
      "source": [
        "key = read_txt('key.txt')\n",
        "endpoint_teacher = read_txt('endpoint_teacher.txt')\n",
        "endpoint_class = read_txt('endpoint_class.txt')\n",
        "endpoint_submission = read_txt('endpoint_submission.txt')\n",
        "endpoint_question = read_txt('endpoint_question.txt')"
      ],
      "execution_count": 7,
      "outputs": []
    },
    {
      "cell_type": "markdown",
      "metadata": {
        "id": "v8EDgPstkv9e"
      },
      "source": [
        "Consultando submissões a partir de uma lista de turmas\n",
        "\n",
        "Vou pegar uma turma aleatoria afim de montar uma consulta"
      ]
    },
    {
      "cell_type": "code",
      "metadata": {
        "id": "mCJzm_YXlwJo"
      },
      "source": [
        "turma = ['f2dd7bef-5b5d-4cb3-9efa-aa8652af0605']"
      ],
      "execution_count": null,
      "outputs": []
    },
    {
      "cell_type": "markdown",
      "metadata": {
        "id": "GBVlqgzZmWN1"
      },
      "source": [
        "Necessita passar como DataFrame, então eu vou construir nesse formato exibido abaixo"
      ]
    },
    {
      "cell_type": "code",
      "metadata": {
        "id": "rEUmG7bRl-jn",
        "colab": {
          "base_uri": "https://localhost:8080/",
          "height": 35
        },
        "outputId": "c12a5992-80b6-4ce5-ed1e-aa79f746a40a"
      },
      "source": [
        "pd.DataFrame(['b5413cd7-4f61-4241-aad8-23740bab604f'], columns = ['id_class']).to_json(orient='records')"
      ],
      "execution_count": null,
      "outputs": [
        {
          "output_type": "execute_result",
          "data": {
            "application/vnd.google.colaboratory.intrinsic+json": {
              "type": "string"
            },
            "text/plain": [
              "'[{\"id_class\":\"b5413cd7-4f61-4241-aad8-23740bab604f\"}]'"
            ]
          },
          "metadata": {
            "tags": []
          },
          "execution_count": 20
        }
      ]
    },
    {
      "cell_type": "markdown",
      "metadata": {
        "id": "SuA_GGParVFn"
      },
      "source": [
        "**A partir daqui ainda vai sofrer alterações**"
      ]
    },
    {
      "cell_type": "markdown",
      "metadata": {
        "id": "Hra4Ho4IC0Xu"
      },
      "source": [
        "#Parte III - Desenvolvimento\n",
        "<a id='enten_dados'></a>\n"
      ]
    },
    {
      "cell_type": "markdown",
      "metadata": {
        "id": "-n4co8p2EeaU"
      },
      "source": [
        "## 1. Entendimento de Dados\n",
        "<a id='enten_dados'></a>\n",
        "\n",
        "### [1.1 Descrição de Dados](#descricao)\n",
        "### [1.2 Qualidade de Dados](#qualidade)\n",
        "### [1.3 Exploração de Dados](#exploracao)"
      ]
    },
    {
      "cell_type": "markdown",
      "metadata": {
        "id": "HEVg1VCYEhUd"
      },
      "source": [
        "###1.1 Descrição de Dados\n",
        "<a id='descricao'></a>\n"
      ]
    },
    {
      "cell_type": "markdown",
      "metadata": {
        "id": "L1HZgOL4pQfu"
      },
      "source": [
        "#### <center>Dataframe Submissões\n",
        "| **Semestre** | **Número de atributos (colunas)** | **Número de Registros (linhas)** |\n",
        "| --- | --- | --- |\n",
        "| 2020.5 | xxxx | yyy |\n",
        "| 2020.6 | yyyy | xxx |\n",
        "\n",
        "#### <center>Dataframe Resultados em LOP\n",
        "| **Semestre** | **Número de atributos (colunas)** | **Número de Registros (linhas)** |\n",
        "| --- | --- | --- |\n",
        "| 2020.5 | xxxx | yyyyy |\n",
        "\n",
        "\n",
        "---\n",
        "\n",
        "####Descrição do datafrane dos professores - Consulta embutida em lop_class()\n",
        "\n",
        "<b>1. id_teacher</b> ID do professor no LoP\n",
        "\n",
        "<b>2. email</b> Email do professor\n",
        "\n",
        "<b>3. name_teacher</b> Nome do professor\n",
        "\n",
        "--- \n",
        "\n",
        "####Descrição do dataframe das turmas - lop_class()\n",
        "\n",
        "<b>1. id_teacher</b> ID do professor no LoP\n",
        "\n",
        "<b>2. id_class</b> ID da turma\n",
        "\n",
        "<b>3. name_class</b> Nome da turma\n",
        "\n",
        "<b>4. code</b> Código de acesso a turma no LoP\n",
        "\n",
        "<b>5. year</b> Ano em que a turma foi cadastrada\n",
        "\n",
        "<b>6. semester</b> Semestre em que a turma foi cadastrada\n",
        "\n",
        "---\n",
        "####Descrição dos dataframe de Submissão - lop_submission()\n",
        "\n",
        "\n",
        "<b>1. environment</b> Tipo de máquina\n",
        "\n",
        "<b>2. hitPercentage</b> Porcentagem de acerto na questão\n",
        "\n",
        "<b>3. language</b> Linguagem de programação usada\n",
        "\n",
        "<b>4. char_change_number</b> Número de caracteres alterados\n",
        "\n",
        "<b>5. timeConsuming</b> Tempo que passou na questão\n",
        "\n",
        "<b>6. createdAt</b> Data e hora da submissão\n",
        "\n",
        "<b>7. user</b> Nome do aluno\n",
        "\n",
        "<b>8. question</b> Nome da questão\n",
        "\n",
        "<b>9. list</b> Nome da lista\n",
        "\n",
        "<b>10. test</b> Nome da prova\n",
        "\n",
        "<b>11. id_class</b> ID da turma em que o aluno está associado nessa submissão\n",
        "\n",
        "<b>12. registration</b> Matrícula do aluno\n",
        "\n",
        "---\n",
        "\n",
        "####Descrição do dataframe das questões do LoP - lop_question()\n",
        "\n",
        "\n",
        "<b>1. id_questao</b> ID da questão\n",
        "\n",
        "<b>2. question</b> Nome da questão\n",
        "\n",
        "<b>3. difficulty </b> Nível de dificuldade da questão (1-5)\n",
        "\n",
        "<b>4. tags </b> Esse campo vem com um json que contem os assuntos em que essa questão está associada\n",
        "\n",
        "<b>5. lists </b> Esse campo vem com um json que contem as listas que a questão está associada \n",
        "\n",
        "<b>6. tests</b> Esse campo vem com um json que contem as provas que a questão está associada \n",
        "\n",
        "---\n",
        "\n",
        "####Descrição do dataframe de dados das questões - question_data()\n",
        "\n",
        "\n",
        "<b>1. id_list</b> ID da lista\n",
        "\n",
        "<b>2. list</b> Nome da lista\n",
        "\n",
        "<b>3. question </b> Nome da questão\n",
        "\n",
        "<b>4. difficulty </b> Nível de dificuldade da questão (0-5)\n",
        "\n",
        "<b>5. tags </b> Em cada coluna com nome tag, terá um conteúdo associado a ela\n",
        "\n",
        "---\n",
        "\n",
        "\n",
        "####Descrição do dataframe de performance por lista - performance_list()\n",
        "\n",
        "\n",
        "<b>1. user</b> Nome do aluno\n",
        "\n",
        "<b>2. registration</b> Matrícula do aluno\n",
        "\n",
        "<b>3. list</b> Nome da lista\n",
        "\n",
        "<b>4. totalHitPercentage </b> Soma de todos acertos de questões únicas\n",
        "\n",
        "<b>5. totalQuestionsList </b> Número de questões por lista\n",
        "\n",
        "<b>6. mediaList</b> Esse campo vem com um json que contem as provas que a questão está associada \n",
        "\n",
        "---"
      ]
    },
    {
      "cell_type": "markdown",
      "metadata": {
        "id": "Mkk0NKmUpeX8"
      },
      "source": [
        "#### Nomeclaturas e especificações dos gráficos \n",
        "\n",
        "<b>1. GTN </b> Grafico de Turma Nota \n",
        "\n",
        "<b>1. GTL </b> Grafico de Turma Lista\n",
        "\n",
        "<b>1. GTA </b> Grafico de Turma Assunto\n",
        "\n",
        "<b>2. GENL </b> Grafico de Estudante Nota Lista\n",
        "\n",
        "<b>2. GENA </b> Grafico de Estudante Nota Assunto\n",
        "\n",
        "<b>2. GEND </b> Grafico de Estudante Nota Dificuldade"
      ]
    },
    {
      "cell_type": "markdown",
      "metadata": {
        "id": "WUBAPloS58yP"
      },
      "source": [
        "###1.2 Qualidade dos dados\n",
        "<a id='qualidade'></a>"
      ]
    },
    {
      "cell_type": "code",
      "metadata": {
        "id": "yXMGrCW2t9ys"
      },
      "source": [
        "profile = ProfileReport(df, title='Pandas Profiling Report', html={'style':{'full_width':True}})"
      ],
      "execution_count": null,
      "outputs": []
    },
    {
      "cell_type": "code",
      "metadata": {
        "id": "ZlpXzVJfPKL-"
      },
      "source": [
        "df.select_dtypes(include=['int64','float64']).describe()"
      ],
      "execution_count": null,
      "outputs": []
    },
    {
      "cell_type": "markdown",
      "metadata": {
        "id": "CVjvZp435e2C"
      },
      "source": [
        "Plotando correlação entre os dados númericos"
      ]
    },
    {
      "cell_type": "code",
      "metadata": {
        "id": "-cnuyvSq5j_-"
      },
      "source": [
        "corr = df.corr()\n",
        "corr = corr.style.background_gradient(cmap='Blues')\n",
        "corr"
      ],
      "execution_count": null,
      "outputs": []
    },
    {
      "cell_type": "markdown",
      "metadata": {
        "id": "23glKTxPo98x"
      },
      "source": [
        "Falar um pouco da correlação"
      ]
    },
    {
      "cell_type": "markdown",
      "metadata": {
        "id": "TjeHFDBfwV5w"
      },
      "source": [
        "###1.3 Exploração de Dados\n",
        "<a id='exploracao'></a>"
      ]
    },
    {
      "cell_type": "code",
      "metadata": {
        "id": "EzgJ2UcFYoad"
      },
      "source": [
        ""
      ],
      "execution_count": null,
      "outputs": []
    },
    {
      "cell_type": "markdown",
      "metadata": {
        "id": "r9S1wjjCuu89"
      },
      "source": [
        "##2. Preparação de Dados\n",
        "<a id='preparo'></a>"
      ]
    },
    {
      "cell_type": "code",
      "metadata": {
        "id": "PuPFoSjMvBNL"
      },
      "source": [
        ""
      ],
      "execution_count": null,
      "outputs": []
    },
    {
      "cell_type": "markdown",
      "metadata": {
        "id": "oPh-k3-fR_zP"
      },
      "source": [
        "##3. Métricas de Avaliação\n",
        "<a id='metricas'></a>"
      ]
    },
    {
      "cell_type": "markdown",
      "metadata": {
        "id": "jPXy0iQtzn75"
      },
      "source": [
        "\n",
        "#### <center>Métricas de Avaliação:\n",
        "| Regressores | Classificadores\n",
        "| --- | --- |\n",
        "| <center>RMSE| <center>Matriz de Confusão |\n",
        "| <center>MAE| <center>Acurácia |\n",
        "| <center>R2| <center>Precisão / Recall / F1 |\n",
        "| <center>R2 Ajustado| <center>AUC |\n",
        "\n",
        "\n"
      ]
    },
    {
      "cell_type": "markdown",
      "metadata": {
        "id": "AEJF9bZMSZpk"
      },
      "source": [
        "##4. Modelagem\n",
        "<a id='#modelagem'></a>"
      ]
    },
    {
      "cell_type": "markdown",
      "metadata": {
        "id": "L4zVFwlFZUjt"
      },
      "source": [
        "Dicionário com hiper-parâmetros dos algoritmos preditivos"
      ]
    },
    {
      "cell_type": "code",
      "metadata": {
        "id": "yAeVjRatU2xs"
      },
      "source": [
        "hyperparameters = [\n",
        "                  {\"clf\":[RandomForestClassifier()],\n",
        "                  \"clf__n_estimators\": [100],\n",
        "                  \"clf__criterion\": [\"entropy\"],\n",
        "                  \"clf__max_leaf_nodes\": [64],\n",
        "                  \"clf__random_state\": [42],\n",
        "                  \"fs__score_func\":[chi2],\n",
        "                  \"fs__k\":[4,9,15,30]\n",
        "                  },\n",
        "              \n",
        "                  {\"clf\":[KNeighborsClassifier()],\n",
        "                  \"clf__n_neighbors\":[5,9,11],\n",
        "                  \"fs__score_func\":[chi2],\n",
        "                  \"fs__k\":[4,9,15,30]                 \n",
        "                  },\n",
        "              \n",
        "                  {\"clf\":[SVC()],\n",
        "                  \"clf__kernel\":[\"sigmoid\",'rbf'],\n",
        "                  \"clf__degree\":[3,4],\n",
        "                  \"clf__gamma\":[0.1,0.5,1],\n",
        "                  \"clf__C\":[0.001,1,2],\n",
        "                  \"fs__score_func\":[chi2],\n",
        "                  \"fs__k\":[4,9,15,25,31] \n",
        "                  },\n",
        "              \n",
        "                  {\"clf\":[GaussianNB()]\n",
        "                  },\n",
        "              \n",
        "                  {\"clf\":[MLPClassifier()],\n",
        "                  \"clf__hidden_layer_sizes\": [(64,),(128,)],\n",
        "                  \"clf__activation\": [\"logistic\"],\n",
        "                  \"clf__solver\": [\"sgd\"],\n",
        "                  \"clf__max_iter\": [500],\n",
        "                  \"clf__early_stopping\":[True],\n",
        "                  \"clf__n_iter_no_change\":[20],\n",
        "                  \"clf__validation_fraction\":[0.20], \n",
        "                  },\n",
        "              \n",
        "                  {\"clf\":[XGBClassifier()],\n",
        "                  \"clf__n_estimators\": [50,100],\n",
        "                  \"clf__max_depth\": [4,6],\n",
        "                  \"clf__learning_rate\": [0.001, 0.01,0.1],\n",
        "                  \"clf__random_state\": [42],\n",
        "                  \"clf__subsample\": [1.0],\n",
        "                  \"clf__colsample_bytree\": [1.0],\n",
        "                  \"fs__score_func\":[chi2],\n",
        "                  \"fs__k\":[5,8,15,25,31]\n",
        "                  }\n",
        "  ]"
      ],
      "execution_count": null,
      "outputs": []
    },
    {
      "cell_type": "markdown",
      "metadata": {
        "id": "B4rJ_jPviRsl"
      },
      "source": [
        "##5. Avaliação dos Modelos\n",
        "<a id='avaliacao'></a>\n",
        "\n",
        "### [5.1 Chamada da Função](#chamada)\n",
        "### [5.2 Teste de Modelo](#teste)"
      ]
    },
    {
      "cell_type": "markdown",
      "metadata": {
        "id": "YxO10k-KJnZq"
      },
      "source": [
        "###5.1 Chamada da Função\n",
        "<a id='chamada'></a>"
      ]
    },
    {
      "cell_type": "code",
      "metadata": {
        "id": "a54d338IldVz"
      },
      "source": [
        "(df_relatorio, model_param_disciplinas) = avaliar_modelos(df, hyperparameters)"
      ],
      "execution_count": null,
      "outputs": []
    },
    {
      "cell_type": "code",
      "metadata": {
        "id": "_RgZO6QU0YH1"
      },
      "source": [
        "df_relatorio.head()"
      ],
      "execution_count": null,
      "outputs": []
    },
    {
      "cell_type": "code",
      "metadata": {
        "id": "dCcRXPWv0eAL"
      },
      "source": [
        "model_param_disciplinas"
      ],
      "execution_count": null,
      "outputs": []
    },
    {
      "cell_type": "markdown",
      "metadata": {
        "id": "DmuLGrPKFv1c"
      },
      "source": [
        "###5.2 Teste de Modelo\n",
        "<a id='teste'></a>"
      ]
    },
    {
      "cell_type": "markdown",
      "metadata": {
        "id": "X9GMVe3bUsvS"
      },
      "source": [
        "Importando Modelo"
      ]
    },
    {
      "cell_type": "code",
      "metadata": {
        "id": "uchPDLEsUvt5"
      },
      "source": [
        "modelo_teste = joblib.load('modelo_.pkl')"
      ],
      "execution_count": null,
      "outputs": []
    },
    {
      "cell_type": "markdown",
      "metadata": {
        "id": "-lcNJROjYtth"
      },
      "source": [
        "Aplicando a transformação no teste"
      ]
    },
    {
      "cell_type": "code",
      "metadata": {
        "id": "wgKRWABoBfVb"
      },
      "source": [
        "num_transf = NumericalTransformer()\n",
        "df_teste = model.transform(df)"
      ],
      "execution_count": null,
      "outputs": []
    },
    {
      "cell_type": "code",
      "metadata": {
        "id": "jte7qW39ZR8V"
      },
      "source": [
        "df_teste.head(2)"
      ],
      "execution_count": null,
      "outputs": []
    },
    {
      "cell_type": "markdown",
      "metadata": {
        "id": "j8Qb55Di8IkC"
      },
      "source": [
        "Realizando teste de um modelo, prevendo probabilidade de ser aprovado"
      ]
    },
    {
      "cell_type": "code",
      "metadata": {
        "id": "LLooF6-vaQ7C"
      },
      "source": [
        "df_teste.iloc[42,:]"
      ],
      "execution_count": null,
      "outputs": []
    },
    {
      "cell_type": "code",
      "metadata": {
        "id": "3zusMtVzabUZ"
      },
      "source": [
        "df_teste.info()"
      ],
      "execution_count": null,
      "outputs": []
    },
    {
      "cell_type": "code",
      "metadata": {
        "id": "sTg3Zgf-YrEm"
      },
      "source": [
        "modelo_teste.predict(df_teste.iloc[42,:])"
      ],
      "execution_count": null,
      "outputs": []
    },
    {
      "cell_type": "markdown",
      "metadata": {
        "id": "PGR1IWltjEKS"
      },
      "source": [
        "##6. Conclusão e Recomendações\n",
        "<a id='conclusao'></a>"
      ]
    },
    {
      "cell_type": "markdown",
      "metadata": {
        "id": "A-JlYcDhvmg4"
      },
      "source": [
        ""
      ]
    },
    {
      "cell_type": "markdown",
      "metadata": {
        "id": "7bW-MMNpvndY"
      },
      "source": [
        "##7. Implantação de Modelos\n",
        "<a id='implantacao'></a>"
      ]
    },
    {
      "cell_type": "markdown",
      "metadata": {
        "id": "ARXhhB39jAMp"
      },
      "source": [
        "Modelo de Json para resposta da API"
      ]
    },
    {
      "cell_type": "code",
      "metadata": {
        "id": "-bcNUiIDvzTt"
      },
      "source": [
        "{\n",
        "\"graph1\": [\n",
        "     {\n",
        "        \"list\": \"IMD0012 - 2020.6: Lista Obrigatória, Semana 1\",\n",
        "        \"more70\": 27.0,\n",
        "        \"less70\": 8\n",
        "     },\n",
        "  ],\n",
        "\"graph2\": [\n",
        "      {\n",
        "        \"user\": \"Adailton Aquino dos Santos \",\n",
        "        \"registration\": \" 20180070994\",\n",
        "        \"IMD0012 - 2020.6: Lista Obrigatória, Semana 1\": 0.0,\n",
        "        \"IMD0012 - 2020.6: Lista Preparatória, Semana 3\": 0.0,\n",
        "        \"ITP - Alocação dinâmica\": 0.0,\n",
        "        \"ITP - Funções - Lista\": 0.0,\n",
        "         ...\n",
        "      },\n",
        "  ],\n",
        "}\n",
        "\n",
        "'''"
      ],
      "execution_count": null,
      "outputs": []
    }
  ]
}