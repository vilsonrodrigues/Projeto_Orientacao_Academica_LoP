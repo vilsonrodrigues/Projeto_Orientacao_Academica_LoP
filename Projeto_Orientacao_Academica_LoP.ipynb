{
  "nbformat": 4,
  "nbformat_minor": 0,
  "metadata": {
    "colab": {
      "name": "Projeto_Orientacao_Academica_LoP.ipynb",
      "provenance": [],
      "collapsed_sections": [
        "YLxXyebtnjM-",
        "C2tX7zYBx5Sd",
        "bhu64Xadx9yH",
        "OuOEB2A10Rah",
        "ZGHrISEE_B3_",
        "sLsWhEZ2CIr_",
        "dD1-lyVuizPA",
        "mVMECL1jJAxf",
        "X2rVvODlKxFz",
        "L1HZgOL4pQfu",
        "Mkk0NKmUpeX8",
        "WUBAPloS58yP",
        "r9S1wjjCuu89",
        "oPh-k3-fR_zP",
        "jPXy0iQtzn75",
        "AEJF9bZMSZpk",
        "B4rJ_jPviRsl",
        "YxO10k-KJnZq",
        "DmuLGrPKFv1c",
        "PGR1IWltjEKS"
      ],
      "toc_visible": true,
      "include_colab_link": true
    },
    "kernelspec": {
      "display_name": "Python 3",
      "name": "python3"
    }
  },
  "cells": [
    {
      "cell_type": "markdown",
      "metadata": {
        "id": "view-in-github",
        "colab_type": "text"
      },
      "source": [
        "<a href=\"https://colab.research.google.com/github/vilsonrodrigues/Projeto_Orientacao_Academica_LoP/blob/main/Projeto_Orientacao_Academica_LoP.ipynb\" target=\"_parent\"><img src=\"https://colab.research.google.com/assets/colab-badge.svg\" alt=\"Open In Colab\"/></a>"
      ]
    },
    {
      "cell_type": "markdown",
      "metadata": {
        "id": "B_vdAfc21u86"
      },
      "source": [
        "Por @vilsonrodrigues"
      ]
    },
    {
      "cell_type": "markdown",
      "metadata": {
        "id": "YLxXyebtnjM-"
      },
      "source": [
        "\n",
        "\n",
        "# <center>Projeto de Orientação Acadêmica do LoP\n",
        "\n",
        "\n"
      ]
    },
    {
      "cell_type": "markdown",
      "metadata": {
        "id": "ULCWX6-dwLgg"
      },
      "source": [
        "<img src='https://ufrn.br/resources/documentos/identidadevisual/logotipo/logotipo_flat.png'>"
      ]
    },
    {
      "cell_type": "markdown",
      "metadata": {
        "id": "C2tX7zYBx5Sd"
      },
      "source": [
        "## Parte I - Apresentação do Problema\n",
        "### [1. Apresentação do Problema](#apresentacao)\n",
        "## Parte II - Preparativos Iniciais\n",
        "### [1. Bibliotecas](#bibliotecas)\n",
        "### [2. Classe](#classe)\n",
        "### [3. Funções](#funcoes)\n",
        "### [4. Leitura da Base](#leiturabase)\n",
        "## Parte III - Desenvolvimento\n",
        "### [1. Entendimento de Negócio](#negocio)\n",
        "### [2. Entendimento de Dados](#enten_dados)\n",
        "### [3. Preparação de Dados](#preparo)\n",
        "### [4. Métricas de Avaliação](#metricas)\n",
        "### [5. Modelagem](#modelagem)\n",
        "### [6. Avaliação de Modelo](#avaliacao)\n",
        "### [7. Conclusão e Recomendações](#conclusao)\n",
        "### [8. Implantação de Modelos](#implantacao)\n"
      ]
    },
    {
      "cell_type": "markdown",
      "metadata": {
        "id": "Rwf-rhVr2Wvj"
      },
      "source": [
        "# Parte I - Apresentação do Problema"
      ]
    },
    {
      "cell_type": "markdown",
      "metadata": {
        "id": "bhu64Xadx9yH"
      },
      "source": [
        "### Meta\n",
        "\n",
        "### Fonte dos Dados\n",
        "\n",
        "### Referência\n",
        "Hands On: Machine Learning with Scikit-Learning e Tensor Flow\n",
        "\n"
      ]
    },
    {
      "cell_type": "markdown",
      "metadata": {
        "id": "pW86HnPh3ka-"
      },
      "source": [
        "# Parte II - Preparativos Iniciais"
      ]
    },
    {
      "cell_type": "markdown",
      "metadata": {
        "id": "vkhuxXT_3vQv"
      },
      "source": [
        "## 1. Bibliotecas\n",
        "<a id='bibliotecas'></a>\n",
        "#### [1.1 Instalações](#instalacao)\n",
        "#### [1.2 Importações](#importacao)\n"
      ]
    },
    {
      "cell_type": "markdown",
      "metadata": {
        "id": "OuOEB2A10Rah"
      },
      "source": [
        "### 1.1. Instalação\n",
        "<a id='instalacao'></a>"
      ]
    },
    {
      "cell_type": "code",
      "metadata": {
        "id": "_HXuie4y43tN"
      },
      "source": [
        "!pip install pandas -U\n",
        "!pip install scikit-learn -U\n",
        "!pip install numpy -U\n",
        "!pip install joblib==0.14.1\n",
        "!conda install xgboost -c conda-forge --yes"
      ],
      "execution_count": null,
      "outputs": []
    },
    {
      "cell_type": "markdown",
      "metadata": {
        "id": "D_S-Ua3YeLmS"
      },
      "source": [
        "### 1.2. Importação\n",
        "<a id='importacao'></a>"
      ]
    },
    {
      "cell_type": "code",
      "metadata": {
        "id": "4fDskXdweAA6"
      },
      "source": [
        "import pandas as pd\n",
        "import numpy as np\n",
        "\n",
        "#Persistência em disco\n",
        "import joblib\n",
        "import pickle\n",
        "\n",
        "#Visualização\n",
        "import seaborn as sns\n",
        "import matplotlib.pyplot as plt\n",
        "\n",
        "#Transformadores e Modelador\n",
        "from sklearn.pipeline          import Pipeline\n",
        "from sklearn.preprocessing     import StandardScaler\n",
        "from sklearn.base              import BaseEstimator, TransformerMixin\n",
        "\n",
        "#Selecao de modelo\n",
        "from sklearn.model_selection   import train_test_split\n",
        "from sklearn.model_selection   import KFold\n",
        "from sklearn.model_selection   import cross_val_score\n",
        "from sklearn.model_selection   import GridSearchCV\n",
        "from sklearn.feature_selection import SelectKBest, f_classif\n",
        "from sklearn.feature_selection import chi2\n",
        "\n",
        "#Metricas\n",
        "from sklearn.metrics           import classification_report\n",
        "from sklearn.metrics           import confusion_matrix\n",
        "from sklearn.metrics           import make_scorer\n",
        "from sklearn.metrics           import accuracy_score\n",
        "from sklearn.metrics           import f1_score\n",
        "from sklearn.metrics           import recall_score\n",
        "from sklearn.metrics           import precision_score\n",
        "\n",
        "#Classificadores\n",
        "from sklearn.ensemble          import RandomForestClassifier\n",
        "from xgboost                   import XGBClassifier\n",
        "from sklearn.tree              import DecisionTreeClassifier\n",
        "from sklearn.neighbors         import KNeighborsClassifier\n",
        "from sklearn.naive_bayes       import GaussianNB\n",
        "from sklearn.svm               import SVC\n",
        "from sklearn.neural_network    import MLPClassifier\n",
        "\n",
        "#modo não-perturbe\n",
        "import warnings\n",
        "warnings.filterwarnings(\"ignore\")"
      ],
      "execution_count": null,
      "outputs": []
    },
    {
      "cell_type": "code",
      "metadata": {
        "id": "jauxgHcS9nOM"
      },
      "source": [
        "import pandas as pd\n",
        "import numpy as np\n",
        "import json\n",
        "import urllib3\n",
        "urllib3.disable_warnings()\n",
        "import seaborn as sns\n",
        "import matplotlib.pyplot as plt\n",
        "from datetime import datetime\n",
        "import re"
      ],
      "execution_count": 1,
      "outputs": []
    },
    {
      "cell_type": "markdown",
      "metadata": {
        "id": "WHD15qbBEJTd"
      },
      "source": [
        "## Classes"
      ]
    },
    {
      "cell_type": "code",
      "metadata": {
        "id": "NFdNsSkbkXeZ"
      },
      "source": [
        "from lop import Lop"
      ],
      "execution_count": 2,
      "outputs": []
    },
    {
      "cell_type": "code",
      "metadata": {
        "id": "lb4YNhatio9D"
      },
      "source": [
        "lop = Lop()"
      ],
      "execution_count": 3,
      "outputs": []
    },
    {
      "cell_type": "code",
      "metadata": {
        "id": "czI7dya19UoA"
      },
      "source": [
        "key = lop.read_txt('key.txt')\r\n",
        "endpoint_teacher = lop.read_txt('endpoint_teacher.txt')\r\n",
        "endpoint_class = lop.read_txt('endpoint_class.txt')\r\n",
        "endpoint_submission = lop.read_txt('endpoint_submission.txt')\r\n",
        "endpoint_question = lop.read_txt('endpoint_question.txt')     \r\n",
        "endpoint_lists = lop.read_txt('endpoint_lists.txt')"
      ],
      "execution_count": 4,
      "outputs": []
    },
    {
      "cell_type": "code",
      "metadata": {
        "id": "n-UTbR1jxBz7"
      },
      "source": [
        "df_question_data = pd.read_csv('df_question_data.csv')"
      ],
      "execution_count": 5,
      "outputs": []
    },
    {
      "cell_type": "code",
      "metadata": {
        "colab": {
          "base_uri": "https://localhost:8080/",
          "height": 108
        },
        "id": "T6wTgA4xJcVE",
        "outputId": "689992b8-4998-498f-face-e2fc198065f3"
      },
      "source": [
        "df_question_data.head(2)"
      ],
      "execution_count": 6,
      "outputs": [
        {
          "output_type": "execute_result",
          "data": {
            "text/html": [
              "<div>\n",
              "<style scoped>\n",
              "    .dataframe tbody tr th:only-of-type {\n",
              "        vertical-align: middle;\n",
              "    }\n",
              "\n",
              "    .dataframe tbody tr th {\n",
              "        vertical-align: top;\n",
              "    }\n",
              "\n",
              "    .dataframe thead th {\n",
              "        text-align: right;\n",
              "    }\n",
              "</style>\n",
              "<table border=\"1\" class=\"dataframe\">\n",
              "  <thead>\n",
              "    <tr style=\"text-align: right;\">\n",
              "      <th></th>\n",
              "      <th>id_list</th>\n",
              "      <th>list</th>\n",
              "      <th>question</th>\n",
              "      <th>difficulty</th>\n",
              "      <th>tag1</th>\n",
              "      <th>tag2</th>\n",
              "      <th>tag3</th>\n",
              "      <th>tag4</th>\n",
              "      <th>tag5</th>\n",
              "      <th>id_test</th>\n",
              "      <th>test</th>\n",
              "    </tr>\n",
              "  </thead>\n",
              "  <tbody>\n",
              "    <tr>\n",
              "      <th>0</th>\n",
              "      <td>2c43b603-7f97-4a51-9663-2efdd3845ef4</td>\n",
              "      <td>LIP2020.5 26-06 (até 26-06 23:59 -- Avaliação )</td>\n",
              "      <td># Números Amigos</td>\n",
              "      <td>2.0</td>\n",
              "      <td>NaN</td>\n",
              "      <td>NaN</td>\n",
              "      <td>NaN</td>\n",
              "      <td>NaN</td>\n",
              "      <td>NaN</td>\n",
              "      <td>NaN</td>\n",
              "      <td>NaN</td>\n",
              "    </tr>\n",
              "    <tr>\n",
              "      <th>1</th>\n",
              "      <td>2f6a2419-aa93-4f69-8a8e-e19815e8d991</td>\n",
              "      <td>T5CD 10-10-2020</td>\n",
              "      <td># Números Amigos</td>\n",
              "      <td>2.0</td>\n",
              "      <td>NaN</td>\n",
              "      <td>NaN</td>\n",
              "      <td>NaN</td>\n",
              "      <td>NaN</td>\n",
              "      <td>NaN</td>\n",
              "      <td>NaN</td>\n",
              "      <td>NaN</td>\n",
              "    </tr>\n",
              "  </tbody>\n",
              "</table>\n",
              "</div>"
            ],
            "text/plain": [
              "                                id_list  ... test\n",
              "0  2c43b603-7f97-4a51-9663-2efdd3845ef4  ...  NaN\n",
              "1  2f6a2419-aa93-4f69-8a8e-e19815e8d991  ...  NaN\n",
              "\n",
              "[2 rows x 11 columns]"
            ]
          },
          "metadata": {
            "tags": []
          },
          "execution_count": 6
        }
      ]
    },
    {
      "cell_type": "code",
      "metadata": {
        "colab": {
          "base_uri": "https://localhost:8080/",
          "height": 143
        },
        "id": "a9TeVvJkJ_gB",
        "outputId": "d1b889f7-e845-43e7-cbd2-53654ac0bc88"
      },
      "source": [
        "df_class = pd.read_csv('df_class.csv')\r\n",
        "df_class.head(2)"
      ],
      "execution_count": 7,
      "outputs": [
        {
          "output_type": "execute_result",
          "data": {
            "text/html": [
              "<div>\n",
              "<style scoped>\n",
              "    .dataframe tbody tr th:only-of-type {\n",
              "        vertical-align: middle;\n",
              "    }\n",
              "\n",
              "    .dataframe tbody tr th {\n",
              "        vertical-align: top;\n",
              "    }\n",
              "\n",
              "    .dataframe thead th {\n",
              "        text-align: right;\n",
              "    }\n",
              "</style>\n",
              "<table border=\"1\" class=\"dataframe\">\n",
              "  <thead>\n",
              "    <tr style=\"text-align: right;\">\n",
              "      <th></th>\n",
              "      <th>id_teacher</th>\n",
              "      <th>name_teacher</th>\n",
              "      <th>id_class</th>\n",
              "      <th>name_class</th>\n",
              "      <th>code</th>\n",
              "      <th>year</th>\n",
              "      <th>semester</th>\n",
              "      <th>studentsCount</th>\n",
              "      <th>teachersCount</th>\n",
              "    </tr>\n",
              "  </thead>\n",
              "  <tbody>\n",
              "    <tr>\n",
              "      <th>0</th>\n",
              "      <td>07bfa916-0086-4abc-b161-b9566ec5cc28</td>\n",
              "      <td>André Campos</td>\n",
              "      <td>bee7d92a-141d-4657-aeed-b3a2fc60b026</td>\n",
              "      <td>Turma teste 1</td>\n",
              "      <td>b9ef30672e</td>\n",
              "      <td>2020.0</td>\n",
              "      <td>1.0</td>\n",
              "      <td>1.0</td>\n",
              "      <td>3.0</td>\n",
              "    </tr>\n",
              "    <tr>\n",
              "      <th>1</th>\n",
              "      <td>07bfa916-0086-4abc-b161-b9566ec5cc28</td>\n",
              "      <td>André Campos</td>\n",
              "      <td>b5413cd7-4f61-4241-aad8-23740bab604f</td>\n",
              "      <td>IMD1012 - ITP - Turma 02 - 246T12</td>\n",
              "      <td>68778aa860</td>\n",
              "      <td>2020.0</td>\n",
              "      <td>2.0</td>\n",
              "      <td>41.0</td>\n",
              "      <td>5.0</td>\n",
              "    </tr>\n",
              "  </tbody>\n",
              "</table>\n",
              "</div>"
            ],
            "text/plain": [
              "                             id_teacher  ... teachersCount\n",
              "0  07bfa916-0086-4abc-b161-b9566ec5cc28  ...           3.0\n",
              "1  07bfa916-0086-4abc-b161-b9566ec5cc28  ...           5.0\n",
              "\n",
              "[2 rows x 9 columns]"
            ]
          },
          "metadata": {
            "tags": []
          },
          "execution_count": 7
        }
      ]
    },
    {
      "cell_type": "code",
      "metadata": {
        "id": "tgkOk1_BukCC"
      },
      "source": [
        "data = pd.DataFrame(['f2dd7bef-5b5d-4cb3-9efa-aa8652af0605'], columns = ['id_class'])"
      ],
      "execution_count": 8,
      "outputs": []
    },
    {
      "cell_type": "code",
      "metadata": {
        "id": "xrZkzMwLKXtd"
      },
      "source": [
        "df_submission = lop.lop_submission(endpoint_submission, endpoint_class, endpoint_teacher, key, data)"
      ],
      "execution_count": 9,
      "outputs": []
    },
    {
      "cell_type": "code",
      "metadata": {
        "colab": {
          "base_uri": "https://localhost:8080/",
          "height": 35
        },
        "id": "qKlAR6-5Q9nP",
        "outputId": "40fce139-ae0b-4a17-ba65-442208c57969"
      },
      "source": [
        "pd.__version__"
      ],
      "execution_count": null,
      "outputs": [
        {
          "output_type": "execute_result",
          "data": {
            "application/vnd.google.colaboratory.intrinsic+json": {
              "type": "string"
            },
            "text/plain": [
              "'1.1.5'"
            ]
          },
          "metadata": {
            "tags": []
          },
          "execution_count": 28
        }
      ]
    },
    {
      "cell_type": "code",
      "metadata": {
        "colab": {
          "base_uri": "https://localhost:8080/",
          "height": 35
        },
        "id": "mM2ixF1bNihO",
        "outputId": "0e1e064b-b56d-419f-9e13-3f3b280f0176"
      },
      "source": [
        "data.to_json(force_ascii=False, orient='records') "
      ],
      "execution_count": null,
      "outputs": [
        {
          "output_type": "execute_result",
          "data": {
            "application/vnd.google.colaboratory.intrinsic+json": {
              "type": "string"
            },
            "text/plain": [
              "'[{\"id_class\":\"b5413cd7-4f61-4241-aad8-23740bab604f\"}]'"
            ]
          },
          "metadata": {
            "tags": []
          },
          "execution_count": 24
        }
      ]
    },
    {
      "cell_type": "code",
      "metadata": {
        "id": "3pJvM-ntfoxB"
      },
      "source": [
        "df_performance_list = lop.performance_list_test(df_submission, 'list', df_question_data)"
      ],
      "execution_count": null,
      "outputs": []
    },
    {
      "cell_type": "code",
      "metadata": {
        "id": "k6x8SmCMLmqk"
      },
      "source": [
        "df_performance_test = lop.performance_list_test(df_submission, 'test', df_question_data)"
      ],
      "execution_count": null,
      "outputs": []
    },
    {
      "cell_type": "code",
      "metadata": {
        "colab": {
          "base_uri": "https://localhost:8080/",
          "height": 111
        },
        "id": "vv5PPxARLp2s",
        "outputId": "e78eafbf-2c30-4d52-ade7-34bb5c09f33b"
      },
      "source": [
        "df_performance_test.head(2)"
      ],
      "execution_count": null,
      "outputs": [
        {
          "output_type": "execute_result",
          "data": {
            "text/html": [
              "<div>\n",
              "<style scoped>\n",
              "    .dataframe tbody tr th:only-of-type {\n",
              "        vertical-align: middle;\n",
              "    }\n",
              "\n",
              "    .dataframe tbody tr th {\n",
              "        vertical-align: top;\n",
              "    }\n",
              "\n",
              "    .dataframe thead th {\n",
              "        text-align: right;\n",
              "    }\n",
              "</style>\n",
              "<table border=\"1\" class=\"dataframe\">\n",
              "  <thead>\n",
              "    <tr style=\"text-align: right;\">\n",
              "      <th></th>\n",
              "      <th>user</th>\n",
              "      <th>registration</th>\n",
              "      <th>test</th>\n",
              "      <th>totalHitPercentage</th>\n",
              "      <th>totalQuestionstest</th>\n",
              "      <th>mediatest</th>\n",
              "    </tr>\n",
              "  </thead>\n",
              "  <tbody>\n",
              "    <tr>\n",
              "      <th>0</th>\n",
              "      <td>ANTONIO AUGUSTO DE LIMA SILVA</td>\n",
              "      <td>20180069652</td>\n",
              "      <td>ITP - Funções - Prova</td>\n",
              "      <td>300.0</td>\n",
              "      <td>4</td>\n",
              "      <td>75.0</td>\n",
              "    </tr>\n",
              "    <tr>\n",
              "      <th>1</th>\n",
              "      <td>Abílio Fontenelle</td>\n",
              "      <td>20180067952</td>\n",
              "      <td>ITP - Funções - Prova</td>\n",
              "      <td>400.0</td>\n",
              "      <td>4</td>\n",
              "      <td>100.0</td>\n",
              "    </tr>\n",
              "  </tbody>\n",
              "</table>\n",
              "</div>"
            ],
            "text/plain": [
              "                             user  registration  ... totalQuestionstest  mediatest\n",
              "0  ANTONIO AUGUSTO DE LIMA SILVA    20180069652  ...                  4       75.0\n",
              "1              Abílio Fontenelle    20180067952  ...                  4      100.0\n",
              "\n",
              "[2 rows x 6 columns]"
            ]
          },
          "metadata": {
            "tags": []
          },
          "execution_count": 12
        }
      ]
    },
    {
      "cell_type": "code",
      "metadata": {
        "id": "8RJmagnlmfJw"
      },
      "source": [
        "df_class = lop.lop_class(endpoint_class, endpoint_teacher, key)"
      ],
      "execution_count": null,
      "outputs": []
    },
    {
      "cell_type": "code",
      "metadata": {
        "id": "JFSXVWHu_vhw"
      },
      "source": [
        "df_class = pd.read_csv('df_class.csv')"
      ],
      "execution_count": null,
      "outputs": []
    },
    {
      "cell_type": "code",
      "metadata": {
        "colab": {
          "base_uri": "https://localhost:8080/",
          "height": 103
        },
        "id": "NKeAqJhezKyb",
        "outputId": "3f61ca93-831c-43e3-e767-ea97a336fac5"
      },
      "source": [
        "lop.graph_more_less_list_test_class(df_performance_list, df_class, data, 70.0, 'list')"
      ],
      "execution_count": null,
      "outputs": [
        {
          "output_type": "execute_result",
          "data": {
            "application/vnd.google.colaboratory.intrinsic+json": {
              "type": "string"
            },
            "text/plain": [
              "'[{\"list\":\"IMD0012 - 2020.6: Lista Obrigatória, Semana 1\",\"more\":22.0,\"less\":7,\"missing\":12.0},{\"list\":\"IMD0012 - 2020.6: Lista Preparatória, Semana 3\",\"more\":7.0,\"less\":7,\"missing\":27.0},{\"list\":\"ITP - Alocação dinâmica\",\"more\":1.0,\"less\":6,\"missing\":34.0},{\"list\":\"ITP - Funções - Lista\",\"more\":4.0,\"less\":5,\"missing\":32.0},{\"list\":\"ITP - Laços\",\"more\":17.0,\"less\":3,\"missing\":21.0},{\"list\":\"ITP - Matriz - Lista\",\"more\":5.0,\"less\":2,\"missing\":34.0},{\"list\":\"ITP - Ponteiros 1 - Lista\",\"more\":1.0,\"less\":2,\"missing\":38.0},{\"list\":\"ITP - Recursão - Lista\",\"more\":2.0,\"less\":1,\"missing\":38.0},{\"list\":\"ITP - Strings - Lista\",\"more\":6.0,\"less\":2,\"missing\":33.0},{\"list\":\"ITP - Ponteiros 2 -  Lista\",\"more\":0.0,\"less\":2,\"missing\":39.0},{\"list\":\"ITP - Structs e Enumerações - Lista\",\"more\":0.0,\"less\":2,\"missing\":39.0}]'"
            ]
          },
          "metadata": {
            "tags": []
          },
          "execution_count": 13
        }
      ]
    },
    {
      "cell_type": "code",
      "metadata": {
        "colab": {
          "base_uri": "https://localhost:8080/",
          "height": 103
        },
        "id": "A4vopO5L__q6",
        "outputId": "c1b846e6-e2ea-4034-8ad7-69d4ad8c8c7f"
      },
      "source": [
        "lop.graph_more_less_list_test_class(df_performance_test, df_class, data, 70.0, 'test')"
      ],
      "execution_count": null,
      "outputs": [
        {
          "output_type": "execute_result",
          "data": {
            "application/vnd.google.colaboratory.intrinsic+json": {
              "type": "string"
            },
            "text/plain": [
              "'[{\"test\":\"ITP - Alocação dinâmica - Prova\",\"more\":2.0,\"less\":12,\"missing\":27.0},{\"test\":\"ITP - Funções - Prova\",\"more\":27.0,\"less\":3,\"missing\":11.0},{\"test\":\"ITP - Laços - Prova\",\"more\":21.0,\"less\":8,\"missing\":12.0},{\"test\":\"ITP - Matriz - Prova\",\"more\":20.0,\"less\":9,\"missing\":12.0},{\"test\":\"ITP - Ponteiros 1 - Prova\",\"more\":7.0,\"less\":16,\"missing\":18.0},{\"test\":\"ITP - Ponteiros 2 - Prova\",\"more\":3.0,\"less\":19,\"missing\":19.0},{\"test\":\"ITP - Recursão - Prova\",\"more\":7.0,\"less\":15,\"missing\":19.0},{\"test\":\"ITP - Strings - Prova\",\"more\":19.0,\"less\":12,\"missing\":10.0},{\"test\":\"ITP - Structs e Enumerações - Prova\",\"more\":2.0,\"less\":17,\"missing\":22.0},{\"test\":\"ITP - Vetores - Prova\",\"more\":23.0,\"less\":6,\"missing\":12.0},{\"test\":\"ITP Lista 0\",\"more\":25.0,\"less\":7,\"missing\":9.0},{\"test\":\"ITP 2020.6 - T02 - Reposicao\",\"more\":0.0,\"less\":2,\"missing\":39.0}]'"
            ]
          },
          "metadata": {
            "tags": []
          },
          "execution_count": 20
        }
      ]
    },
    {
      "cell_type": "code",
      "metadata": {
        "colab": {
          "base_uri": "https://localhost:8080/",
          "height": 120
        },
        "id": "syAmKEr2AWyl",
        "outputId": "7d39068e-200e-45e5-9a0b-ac9c336c08e7"
      },
      "source": [
        "lop.graph_performance_student_list_test(df_performance_list,'list')"
      ],
      "execution_count": null,
      "outputs": [
        {
          "output_type": "execute_result",
          "data": {
            "application/vnd.google.colaboratory.intrinsic+json": {
              "type": "string"
            },
            "text/plain": [
              "'[{\"user\":\"Allef Vinicius \",\"registration\":\" 20180069714\",\"list\":\"IMD0012 - 2020.6: Lista Obrigatória, Semana 1\",\"medialist\":100.0},{\"user\":\"Allef Vinicius \",\"registration\":\" 20180069714\",\"list\":\"ITP - Strings - Lista\",\"medialist\":100.0},{\"user\":\"Allef Vinicius \",\"registration\":\" 20180069714\",\"list\":\"ITP - Ponteiros 2 -  Lista\",\"medialist\":50.0},{\"user\":\"Allef Vinicius \",\"registration\":\" 20180069714\",\"list\":\"ITP - Laços\",\"medialist\":100.0},{\"user\":\"Allef Vinicius \",\"registration\":\" 20180069714\",\"list\":\"ITP - Alocação dinâmica\",\"medialist\":66.6666666667},{\"user\":\"Allef Vinicius \",\"registration\":\" 20180069714\",\"list\":\"IMD0012 - 2020.6: Lista Preparatória, Semana 3\",\"medialist\":100.0},{\"user\":\"André Luiz Rodrigues Soares \",\"registration\":\" 20180001960\",\"list\":\"ITP - Recursão - Lista\",\"medialist\":100.0},{\"user\":\"André Luiz Rodrigues Soares \",\"registration\":\" 20180001960\",\"list\":\"ITP - Matriz - Lista\",\"medialist\":75.0},{\"user\":\"André Luiz Rodrigues Soares \",\"registration\":\" 20180001960\",\"list\":\"ITP - Funções - Lista\",\"medialist\":100.0},{\"user\":\"André Luiz Rodrigues Soares \",\"registration\":\" 20180001960\",\"list\":\"ITP - Strings - Lista\",\"medialist\":100.0},{\"user\":\"André Luiz Rodrigues Soares \",\"registration\":\" 20180001960\",\"list\":\"IMD0012 - 2020.6: Lista Preparatória, Semana 3\",\"medialist\":100.0},{\"user\":\"André Luiz Rodrigues Soares \",\"registration\":\" 20180001960\",\"list\":\"ITP - Laços\",\"medialist\":100.0},{\"user\":\"André Luiz Rodrigues Soares \",\"registration\":\" 20180001960\",\"list\":\"IMD0012 - 2020.6: Lista Obrigatória, Semana 1\",\"medialist\":100.0},{\"user\":\"Arthur Learth \",\"registration\":\" 20180071294\",\"list\":\"IMD0012 - 2020.6: Lista Obrigatória, Semana 1\",\"medialist\":26.6666666667},{\"user\":\"Daniel \",\"registration\":\" 20190046016\",\"list\":\"ITP - Alocação dinâmica\",\"medialist\":33.3333333333},{\"user\":\"Deborah Dantas \",\"registration\":\" 20190036691\",\"list\":\"IMD0012 - 2020.6: Lista Obrigatória, Semana 1\",\"medialist\":100.0},{\"user\":\"Deborah Dantas \",\"registration\":\" 20190036691\",\"list\":\"IMD0012 - 2020.6: Lista Preparatória, Semana 3\",\"medialist\":6.25},{\"user\":\"Deborah Dantas \",\"registration\":\" 20190036691\",\"list\":\"ITP - Laços\",\"medialist\":25.0},{\"user\":\"Dimitri Lima \",\"registration\":\" Ufrn\",\"list\":\"IMD0012 - 2020.6: Lista Obrigatória, Semana 1\",\"medialist\":66.6666666667},{\"user\":\"Felipe Costa \",\"registration\":\" 20190043453\",\"list\":\"IMD0012 - 2020.6: Lista Obrigatória, Semana 1\",\"medialist\":100.0},{\"user\":\"Felipe Costa \",\"registration\":\" 20190043453\",\"list\":\"ITP - Recursão - Lista\",\"medialist\":100.0},{\"user\":\"Felipe Costa \",\"registration\":\" 20190043453\",\"list\":\"ITP - Laços\",\"medialist\":100.0},{\"user\":\"Felipe Costa \",\"registration\":\" 20190043453\",\"list\":\"ITP - Matriz - Lista\",\"medialist\":100.0},{\"user\":\"Felipe Costa \",\"registration\":\" 20190043453\",\"list\":\"IMD0012 - 2020.6: Lista Preparatória, Semana 3\",\"medialist\":100.0},{\"user\":\"Felipe Costa \",\"registration\":\" 20190043453\",\"list\":\"ITP - Funções - Lista\",\"medialist\":100.0},{\"user\":\"Felipe Costa \",\"registration\":\" 20190043453\",\"list\":\"ITP - Strings - Lista\",\"medialist\":100.0},{\"user\":\"Gabriel Bassani \",\"registration\":\" 20190043794\",\"list\":\"ITP - Laços\",\"medialist\":25.0},{\"user\":\"Gabriel Bassani \",\"registration\":\" 20190043794\",\"list\":\"ITP - Alocação dinâmica\",\"medialist\":13.3333333333},{\"user\":\"Gabriel Bassani \",\"registration\":\" 20190043794\",\"list\":\"IMD0012 - 2020.6: Lista Obrigatória, Semana 1\",\"medialist\":100.0},{\"user\":\"Gabriel Vinícius Lima da Costa Medeiros \",\"registration\":\" 20190041978\",\"list\":\"ITP - Laços\",\"medialist\":100.0},{\"user\":\"Gabriel Vinícius Lima da Costa Medeiros \",\"registration\":\" 20190041978\",\"list\":\"IMD0012 - 2020.6: Lista Obrigatória, Semana 1\",\"medialist\":100.0},{\"user\":\"Gabriel Vinícius Lima da Costa Medeiros \",\"registration\":\" 20190041978\",\"list\":\"IMD0012 - 2020.6: Lista Preparatória, Semana 3\",\"medialist\":50.0},{\"user\":\"Guilherme Augusto Santana de Lima \",\"registration\":\" 20190044138\",\"list\":\"ITP - Laços\",\"medialist\":100.0},{\"user\":\"Guilherme Augusto Santana de Lima \",\"registration\":\" 20190044138\",\"list\":\"IMD0012 - 2020.6: Lista Obrigatória, Semana 1\",\"medialist\":33.3333333333},{\"user\":\"Jackson D \",\"registration\":\" 20200038945\",\"list\":\"IMD0012 - 2020.6: Lista Obrigatória, Semana 1\",\"medialist\":100.0},{\"user\":\"Joao Victor Leandro \",\"registration\":\" 20190146693\",\"list\":\"IMD0012 - 2020.6: Lista Obrigatória, Semana 1\",\"medialist\":0.0},{\"user\":\"João Gabriel Trindade \",\"registration\":\" 20190010588\",\"list\":\"ITP - Alocação dinâmica\",\"medialist\":33.3333333333},{\"user\":\"João Gabriel Trindade \",\"registration\":\" 20190010588\",\"list\":\"ITP - Laços\",\"medialist\":100.0},{\"user\":\"João Gabriel Trindade \",\"registration\":\" 20190010588\",\"list\":\"ITP - Strings - Lista\",\"medialist\":0.0},{\"user\":\"João Gabriel Trindade \",\"registration\":\" 20190010588\",\"list\":\"ITP - Funções - Lista\",\"medialist\":50.0},{\"user\":\"João Gabriel Trindade \",\"registration\":\" 20190010588\",\"list\":\"ITP - Matriz - Lista\",\"medialist\":25.0},{\"user\":\"João Gabriel Trindade \",\"registration\":\" 20190010588\",\"list\":\"IMD0012 - 2020.6: Lista Preparatória, Semana 3\",\"medialist\":43.75},{\"user\":\"João Gabriel Trindade \",\"registration\":\" 20190010588\",\"list\":\"IMD0012 - 2020.6: Lista Obrigatória, Semana 1\",\"medialist\":100.0},{\"user\":\"João Maria Mauricio \",\"registration\":\" 20180118944\",\"list\":\"ITP - Laços\",\"medialist\":100.0},{\"user\":\"João Maria Mauricio \",\"registration\":\" 20180118944\",\"list\":\"IMD0012 - 2020.6: Lista Obrigatória, Semana 1\",\"medialist\":100.0},{\"user\":\"Lucas da Costa Fontes \",\"registration\":\" 20180122141\",\"list\":\"IMD0012 - 2020.6: Lista Obrigatória, Semana 1\",\"medialist\":100.0},{\"user\":\"Lucas da Costa Fontes \",\"registration\":\" 20180122141\",\"list\":\"ITP - Laços\",\"medialist\":100.0},{\"user\":\"Luiz Paulo Assis Cavalcante de Freitas \",\"registration\":\" 20190103408\",\"list\":\"ITP - Laços\",\"medialist\":100.0},{\"user\":\"Luiz Paulo Assis Cavalcante de Freitas \",\"registration\":\" 20190103408\",\"list\":\"IMD0012 - 2020.6: Lista Obrigatória, Semana 1\",\"medialist\":100.0},{\"user\":\"Matheus Henrique Fonseca Valerio \",\"registration\":\" 20180063597\",\"list\":\"IMD0012 - 2020.6: Lista Obrigatória, Semana 1\",\"medialist\":66.6666666667},{\"user\":\"Matheus Henrique Fonseca Valerio \",\"registration\":\" 20180063597\",\"list\":\"ITP - Laços\",\"medialist\":100.0},{\"user\":\"Matheus Henrique Fonseca Valerio \",\"registration\":\" 20180063597\",\"list\":\"ITP - Funções - Lista\",\"medialist\":50.0},{\"user\":\"Patrick Miguel Souza de Melo \",\"registration\":\" 20170068277\",\"list\":\"ITP - Laços\",\"medialist\":25.0},{\"user\":\"Patrick Miguel Souza de Melo \",\"registration\":\" 20170068277\",\"list\":\"IMD0012 - 2020.6: Lista Obrigatória, Semana 1\",\"medialist\":100.0},{\"user\":\"Paulo Carvalho \",\"registration\":\" 2016034522\",\"list\":\"IMD0012 - 2020.6: Lista Obrigatória, Semana 1\",\"medialist\":100.0},{\"user\":\"Paulo Carvalho \",\"registration\":\" 2016034522\",\"list\":\"ITP - Laços\",\"medialist\":100.0},{\"user\":\"Paulo Carvalho \",\"registration\":\" 2016034522\",\"list\":\"IMD0012 - 2020.6: Lista Preparatória, Semana 3\",\"medialist\":25.0},{\"user\":\"Paulo Víctor de Medeiros Andrade \",\"registration\":\" 20190003046\",\"list\":\"IMD0012 - 2020.6: Lista Obrigatória, Semana 1\",\"medialist\":33.3333333333},{\"user\":\"Paulo Víctor de Medeiros Andrade \",\"registration\":\" 20190003046\",\"list\":\"IMD0012 - 2020.6: Lista Preparatória, Semana 3\",\"medialist\":25.0},{\"user\":\"Pedro Garcia Pereira \",\"registration\":\" 20190040658\",\"list\":\"ITP - Funções - Lista\",\"medialist\":56.25},{\"user\":\"Pedro Garcia Pereira \",\"registration\":\" 20190040658\",\"list\":\"ITP - Ponteiros 1 - Lista\",\"medialist\":50.0},{\"user\":\"Pedro Garcia Pereira \",\"registration\":\" 20190040658\",\"list\":\"ITP - Alocação dinâmica\",\"medialist\":33.3333333333},{\"user\":\"Pedro Garcia Pereira \",\"registration\":\" 20190040658\",\"list\":\"ITP - Strings - Lista\",\"medialist\":100.0},{\"user\":\"Pedro Garcia Pereira \",\"registration\":\" 20190040658\",\"list\":\"IMD0012 - 2020.6: Lista Preparatória, Semana 3\",\"medialist\":100.0},{\"user\":\"Pedro Garcia Pereira \",\"registration\":\" 20190040658\",\"list\":\"ITP - Recursão - Lista\",\"medialist\":25.0},{\"user\":\"Pedro Garcia Pereira \",\"registration\":\" 20190040658\",\"list\":\"ITP - Laços\",\"medialist\":100.0},{\"user\":\"Pedro Garcia Pereira \",\"registration\":\" 20190040658\",\"list\":\"ITP - Matriz - Lista\",\"medialist\":100.0},{\"user\":\"Pedro Garcia Pereira \",\"registration\":\" 20190040658\",\"list\":\"IMD0012 - 2020.6: Lista Obrigatória, Semana 1\",\"medialist\":100.0},{\"user\":\"Pedro Garcia Pereira \",\"registration\":\" 20190040658\",\"list\":\"ITP - Structs e Enumerações - Lista\",\"medialist\":25.0},{\"user\":\"Pedro Henrique Dantas de Aragão Mendes \",\"registration\":\" 20190003681\",\"list\":\"IMD0012 - 2020.6: Lista Obrigatória, Semana 1\",\"medialist\":66.6666666667},{\"user\":\"Pedro Leite \",\"registration\":\" 20190000830\",\"list\":\"ITP - Funções - Lista\",\"medialist\":25.0},{\"user\":\"Pedro Leite \",\"registration\":\" 20190000830\",\"list\":\"ITP - Alocação dinâmica\",\"medialist\":60.0},{\"user\":\"Pedro Leite \",\"registration\":\" 20190000830\",\"list\":\"IMD0012 - 2020.6: Lista Obrigatória, Semana 1\",\"medialist\":100.0},{\"user\":\"Samuel Souza \",\"registration\":\" 20200046160\",\"list\":\"ITP - Alocação dinâmica\",\"medialist\":100.0},{\"user\":\"Samuel Souza \",\"registration\":\" 20200046160\",\"list\":\"IMD0012 - 2020.6: Lista Obrigatória, Semana 1\",\"medialist\":100.0},{\"user\":\"Tales Vinícius de Medeiros Alves \",\"registration\":\" 20200040685\",\"list\":\"ITP - Matriz - Lista\",\"medialist\":100.0},{\"user\":\"Tales Vinícius de Medeiros Alves \",\"registration\":\" 20200040685\",\"list\":\"ITP - Ponteiros 1 - Lista\",\"medialist\":75.0},{\"user\":\"Tales Vinícius de Medeiros Alves \",\"registration\":\" 20200040685\",\"list\":\"ITP - Funções - Lista\",\"medialist\":100.0},{\"user\":\"Tales Vinícius de Medeiros Alves \",\"registration\":\" 20200040685\",\"list\":\"ITP - Structs e Enumerações - Lista\",\"medialist\":25.0},{\"user\":\"Tales Vinícius de Medeiros Alves \",\"registration\":\" 20200040685\",\"list\":\"ITP - Strings - Lista\",\"medialist\":100.0},{\"user\":\"Tales Vinícius de Medeiros Alves \",\"registration\":\" 20200040685\",\"list\":\"ITP - Laços\",\"medialist\":100.0},{\"user\":\"Tales Vinícius de Medeiros Alves \",\"registration\":\" 20200040685\",\"list\":\"IMD0012 - 2020.6: Lista Obrigatória, Semana 1\",\"medialist\":100.0},{\"user\":\"Tales Vinícius de Medeiros Alves \",\"registration\":\" 20200040685\",\"list\":\"IMD0012 - 2020.6: Lista Preparatória, Semana 3\",\"medialist\":100.0},{\"user\":\"Vitória Morais \",\"registration\":\" 20190046571\",\"list\":\"ITP - Laços\",\"medialist\":100.0},{\"user\":\"Vitória Morais \",\"registration\":\" 20190046571\",\"list\":\"IMD0012 - 2020.6: Lista Obrigatória, Semana 1\",\"medialist\":100.0},{\"user\":\"Vitória Morais \",\"registration\":\" 20190046571\",\"list\":\"ITP - Matriz - Lista\",\"medialist\":0.0},{\"user\":\"Vitória Morais \",\"registration\":\" 20190046571\",\"list\":\"IMD0012 - 2020.6: Lista Preparatória, Semana 3\",\"medialist\":50.0},{\"user\":\"Vítor Dantas Costa \",\"registration\":\" 20190146700\",\"list\":\"ITP - Strings - Lista\",\"medialist\":100.0},{\"user\":\"Vítor Dantas Costa \",\"registration\":\" 20190146700\",\"list\":\"ITP - Laços\",\"medialist\":100.0},{\"user\":\"Vítor Dantas Costa \",\"registration\":\" 20190146700\",\"list\":\"ITP - Funções - Lista\",\"medialist\":100.0},{\"user\":\"Vítor Dantas Costa \",\"registration\":\" 20190146700\",\"list\":\"IMD0012 - 2020.6: Lista Obrigatória, Semana 1\",\"medialist\":100.0},{\"user\":\"Vítor Dantas Costa \",\"registration\":\" 20190146700\",\"list\":\"ITP - Ponteiros 2 -  Lista\",\"medialist\":0.0},{\"user\":\"Vítor Dantas Costa \",\"registration\":\" 20190146700\",\"list\":\"ITP - Ponteiros 1 - Lista\",\"medialist\":50.0},{\"user\":\"Vítor Dantas Costa \",\"registration\":\" 20190146700\",\"list\":\"IMD0012 - 2020.6: Lista Preparatória, Semana 3\",\"medialist\":100.0},{\"user\":\"Vítor Dantas Costa \",\"registration\":\" 20190146700\",\"list\":\"ITP - Matriz - Lista\",\"medialist\":87.5},{\"user\":\"alyssonblack \",\"registration\":\" 20170070435\",\"list\":\"IMD0012 - 2020.6: Lista Obrigatória, Semana 1\",\"medialist\":100.0},{\"user\":\"ellen Melo \",\"registration\":\" 20190105224\",\"list\":\"IMD0012 - 2020.6: Lista Preparatória, Semana 3\",\"medialist\":12.5},{\"user\":\"ellen Melo \",\"registration\":\" 20190105224\",\"list\":\"ITP - Laços\",\"medialist\":100.0},{\"user\":\"ellen Melo \",\"registration\":\" 20190105224\",\"list\":\"IMD0012 - 2020.6: Lista Obrigatória, Semana 1\",\"medialist\":100.0},{\"user\":\"enzo lopes danjour de souza \",\"registration\":\" 20190035658\",\"list\":\"IMD0012 - 2020.6: Lista Obrigatória, Semana 1\",\"medialist\":100.0},{\"user\":\"enzo lopes danjour de souza \",\"registration\":\" 20190035658\",\"list\":\"ITP - Laços\",\"medialist\":100.0},{\"user\":\"enzo lopes danjour de souza \",\"registration\":\" 20190035658\",\"list\":\"IMD0012 - 2020.6: Lista Preparatória, Semana 3\",\"medialist\":75.0},{\"user\":\"marciotenorio \",\"registration\":\" 20180119880\",\"list\":\"ITP - Funções - Lista\",\"medialist\":25.0},{\"user\":\"marciotenorio \",\"registration\":\" 20180119880\",\"list\":\"ITP - Strings - Lista\",\"medialist\":25.0}]'"
            ]
          },
          "metadata": {
            "tags": []
          },
          "execution_count": 21
        }
      ]
    },
    {
      "cell_type": "code",
      "metadata": {
        "colab": {
          "base_uri": "https://localhost:8080/",
          "height": 120
        },
        "id": "QnpabkLrAcvl",
        "outputId": "203287f6-5f63-4c71-86e3-a6cd01a3dd95"
      },
      "source": [
        "lop.graph_performance_student_list_test(df_performance_test,'test')"
      ],
      "execution_count": null,
      "outputs": [
        {
          "output_type": "execute_result",
          "data": {
            "application/vnd.google.colaboratory.intrinsic+json": {
              "type": "string"
            },
            "text/plain": [
              "'[{\"user\":\"ANTONIO AUGUSTO DE LIMA SILVA \",\"registration\":\" 20180069652\",\"test\":\"ITP - Funções - Prova\",\"mediatest\":75.0},{\"user\":\"ANTONIO AUGUSTO DE LIMA SILVA \",\"registration\":\" 20180069652\",\"test\":\"ITP - Vetores - Prova\",\"mediatest\":62.5},{\"user\":\"ANTONIO AUGUSTO DE LIMA SILVA \",\"registration\":\" 20180069652\",\"test\":\"ITP - Strings - Prova\",\"mediatest\":50.0},{\"user\":\"ANTONIO AUGUSTO DE LIMA SILVA \",\"registration\":\" 20180069652\",\"test\":\"ITP - Recursão - Prova\",\"mediatest\":25.0},{\"user\":\"ANTONIO AUGUSTO DE LIMA SILVA \",\"registration\":\" 20180069652\",\"test\":\"ITP - Matriz - Prova\",\"mediatest\":58.3325},{\"user\":\"ANTONIO AUGUSTO DE LIMA SILVA \",\"registration\":\" 20180069652\",\"test\":\"ITP - Laços - Prova\",\"mediatest\":65.0},{\"user\":\"ANTONIO AUGUSTO DE LIMA SILVA \",\"registration\":\" 20180069652\",\"test\":\"ITP Lista 0\",\"mediatest\":100.0},{\"user\":\"Abílio Fontenelle \",\"registration\":\" 20180067952\",\"test\":\"ITP - Structs e Enumerações - Prova\",\"mediatest\":0.0},{\"user\":\"Abílio Fontenelle \",\"registration\":\" 20180067952\",\"test\":\"ITP - Matriz - Prova\",\"mediatest\":50.0},{\"user\":\"Abílio Fontenelle \",\"registration\":\" 20180067952\",\"test\":\"ITP - Vetores - Prova\",\"mediatest\":100.0},{\"user\":\"Abílio Fontenelle \",\"registration\":\" 20180067952\",\"test\":\"ITP - Funções - Prova\",\"mediatest\":100.0},{\"user\":\"Abílio Fontenelle \",\"registration\":\" 20180067952\",\"test\":\"ITP - Ponteiros 1 - Prova\",\"mediatest\":50.0},{\"user\":\"Abílio Fontenelle \",\"registration\":\" 20180067952\",\"test\":\"ITP Lista 0\",\"mediatest\":100.0},{\"user\":\"Abílio Fontenelle \",\"registration\":\" 20180067952\",\"test\":\"ITP - Ponteiros 2 - Prova\",\"mediatest\":25.0},{\"user\":\"Abílio Fontenelle \",\"registration\":\" 20180067952\",\"test\":\"ITP - Strings - Prova\",\"mediatest\":50.0},{\"user\":\"Abílio Fontenelle \",\"registration\":\" 20180067952\",\"test\":\"ITP - Laços - Prova\",\"mediatest\":75.0},{\"user\":\"Abílio Fontenelle \",\"registration\":\" 20180067952\",\"test\":\"ITP - Recursão - Prova\",\"mediatest\":12.5},{\"user\":\"Allef Vinicius \",\"registration\":\" 20180069714\",\"test\":\"ITP - Ponteiros 2 - Prova\",\"mediatest\":50.0},{\"user\":\"Allef Vinicius \",\"registration\":\" 20180069714\",\"test\":\"ITP - Structs e Enumerações - Prova\",\"mediatest\":25.0},{\"user\":\"Allef Vinicius \",\"registration\":\" 20180069714\",\"test\":\"ITP - Matriz - Prova\",\"mediatest\":100.0},{\"user\":\"Allef Vinicius \",\"registration\":\" 20180069714\",\"test\":\"ITP - Alocação dinâmica - Prova\",\"mediatest\":66.6666666667},{\"user\":\"Allef Vinicius \",\"registration\":\" 20180069714\",\"test\":\"ITP - Funções - Prova\",\"mediatest\":100.0},{\"user\":\"Allef Vinicius \",\"registration\":\" 20180069714\",\"test\":\"ITP - Strings - Prova\",\"mediatest\":100.0},{\"user\":\"Allef Vinicius \",\"registration\":\" 20180069714\",\"test\":\"ITP - Ponteiros 1 - Prova\",\"mediatest\":75.0},{\"user\":\"Allef Vinicius \",\"registration\":\" 20180069714\",\"test\":\"ITP - Vetores - Prova\",\"mediatest\":100.0},{\"user\":\"Allef Vinicius \",\"registration\":\" 20180069714\",\"test\":\"ITP - Recursão - Prova\",\"mediatest\":25.0},{\"user\":\"André Luiz Rodrigues Soares \",\"registration\":\" 20180001960\",\"test\":\"ITP - Recursão - Prova\",\"mediatest\":80.0},{\"user\":\"André Luiz Rodrigues Soares \",\"registration\":\" 20180001960\",\"test\":\"ITP - Strings - Prova\",\"mediatest\":100.0},{\"user\":\"André Luiz Rodrigues Soares \",\"registration\":\" 20180001960\",\"test\":\"ITP - Matriz - Prova\",\"mediatest\":100.0},{\"user\":\"André Luiz Rodrigues Soares \",\"registration\":\" 20180001960\",\"test\":\"ITP - Ponteiros 1 - Prova\",\"mediatest\":29.1675},{\"user\":\"André Luiz Rodrigues Soares \",\"registration\":\" 20180001960\",\"test\":\"ITP - Vetores - Prova\",\"mediatest\":100.0},{\"user\":\"André Luiz Rodrigues Soares \",\"registration\":\" 20180001960\",\"test\":\"ITP Lista 0\",\"mediatest\":100.0},{\"user\":\"André Luiz Rodrigues Soares \",\"registration\":\" 20180001960\",\"test\":\"ITP - Structs e Enumerações - Prova\",\"mediatest\":0.0},{\"user\":\"André Luiz Rodrigues Soares \",\"registration\":\" 20180001960\",\"test\":\"ITP - Funções - Prova\",\"mediatest\":100.0},{\"user\":\"André Luiz Rodrigues Soares \",\"registration\":\" 20180001960\",\"test\":\"ITP - Alocação dinâmica - Prova\",\"mediatest\":100.0},{\"user\":\"André Luiz Rodrigues Soares \",\"registration\":\" 20180001960\",\"test\":\"ITP - Laços - Prova\",\"mediatest\":100.0},{\"user\":\"Arthur Learth \",\"registration\":\" 20180071294\",\"test\":\"ITP - Funções - Prova\",\"mediatest\":0.0},{\"user\":\"Arthur Learth \",\"registration\":\" 20180071294\",\"test\":\"ITP - Recursão - Prova\",\"mediatest\":50.0},{\"user\":\"Arthur Learth \",\"registration\":\" 20180071294\",\"test\":\"ITP - Matriz - Prova\",\"mediatest\":50.0},{\"user\":\"Arthur Learth \",\"registration\":\" 20180071294\",\"test\":\"ITP 2020.6 - T02 - Reposicao\",\"mediatest\":0.0},{\"user\":\"Arthur Learth \",\"registration\":\" 20180071294\",\"test\":\"ITP - Vetores - Prova\",\"mediatest\":56.25},{\"user\":\"Arthur Learth \",\"registration\":\" 20180071294\",\"test\":\"ITP - Structs e Enumerações - Prova\",\"mediatest\":0.0},{\"user\":\"Arthur Learth \",\"registration\":\" 20180071294\",\"test\":\"ITP - Strings - Prova\",\"mediatest\":31.25},{\"user\":\"Arthur Learth \",\"registration\":\" 20180071294\",\"test\":\"ITP Lista 0\",\"mediatest\":87.5},{\"user\":\"Daniel \",\"registration\":\" 20190046016\",\"test\":\"ITP - Recursão - Prova\",\"mediatest\":50.0},{\"user\":\"Daniel \",\"registration\":\" 20190046016\",\"test\":\"ITP - Ponteiros 2 - Prova\",\"mediatest\":25.0},{\"user\":\"Daniel \",\"registration\":\" 20190046016\",\"test\":\"ITP - Funções - Prova\",\"mediatest\":100.0},{\"user\":\"Daniel \",\"registration\":\" 20190046016\",\"test\":\"ITP - Vetores - Prova\",\"mediatest\":25.0},{\"user\":\"Daniel \",\"registration\":\" 20190046016\",\"test\":\"ITP - Structs e Enumerações - Prova\",\"mediatest\":62.5},{\"user\":\"Daniel \",\"registration\":\" 20190046016\",\"test\":\"ITP - Alocação dinâmica - Prova\",\"mediatest\":33.3333333333},{\"user\":\"Daniel \",\"registration\":\" 20190046016\",\"test\":\"ITP - Strings - Prova\",\"mediatest\":100.0},{\"user\":\"Daniel \",\"registration\":\" 20190046016\",\"test\":\"ITP - Ponteiros 1 - Prova\",\"mediatest\":75.0},{\"user\":\"Daniel \",\"registration\":\" 20190046016\",\"test\":\"ITP - Matriz - Prova\",\"mediatest\":87.5},{\"user\":\"Deborah Dantas \",\"registration\":\" 20190036691\",\"test\":\"ITP - Alocação dinâmica - Prova\",\"mediatest\":0.0},{\"user\":\"Deborah Dantas \",\"registration\":\" 20190036691\",\"test\":\"ITP - Ponteiros 2 - Prova\",\"mediatest\":25.0},{\"user\":\"Deborah Dantas \",\"registration\":\" 20190036691\",\"test\":\"ITP - Strings - Prova\",\"mediatest\":50.0},{\"user\":\"Deborah Dantas \",\"registration\":\" 20190036691\",\"test\":\"ITP - Laços - Prova\",\"mediatest\":90.0},{\"user\":\"Deborah Dantas \",\"registration\":\" 20190036691\",\"test\":\"ITP - Matriz - Prova\",\"mediatest\":50.0},{\"user\":\"Deborah Dantas \",\"registration\":\" 20190036691\",\"test\":\"ITP - Recursão - Prova\",\"mediatest\":25.0},{\"user\":\"Deborah Dantas \",\"registration\":\" 20190036691\",\"test\":\"ITP - Ponteiros 1 - Prova\",\"mediatest\":25.0},{\"user\":\"Deborah Dantas \",\"registration\":\" 20190036691\",\"test\":\"ITP Lista 0\",\"mediatest\":93.75},{\"user\":\"Deborah Dantas \",\"registration\":\" 20190036691\",\"test\":\"ITP - Funções - Prova\",\"mediatest\":75.0},{\"user\":\"Deborah Dantas \",\"registration\":\" 20190036691\",\"test\":\"ITP - Vetores - Prova\",\"mediatest\":81.25},{\"user\":\"Dimitri Lima \",\"registration\":\" Ufrn\",\"test\":\"ITP - Laços - Prova\",\"mediatest\":87.5},{\"user\":\"Dimitri Lima \",\"registration\":\" Ufrn\",\"test\":\"ITP - Ponteiros 1 - Prova\",\"mediatest\":62.5},{\"user\":\"Dimitri Lima \",\"registration\":\" Ufrn\",\"test\":\"ITP - Strings - Prova\",\"mediatest\":75.0},{\"user\":\"Dimitri Lima \",\"registration\":\" Ufrn\",\"test\":\"ITP - Vetores - Prova\",\"mediatest\":93.75},{\"user\":\"Dimitri Lima \",\"registration\":\" Ufrn\",\"test\":\"ITP Lista 0\",\"mediatest\":100.0},{\"user\":\"Dimitri Lima \",\"registration\":\" Ufrn\",\"test\":\"ITP - Recursão - Prova\",\"mediatest\":68.75},{\"user\":\"Dimitri Lima \",\"registration\":\" Ufrn\",\"test\":\"ITP - Ponteiros 2 - Prova\",\"mediatest\":25.0},{\"user\":\"Dimitri Lima \",\"registration\":\" Ufrn\",\"test\":\"ITP - Funções - Prova\",\"mediatest\":75.0},{\"user\":\"Dimitri Lima \",\"registration\":\" Ufrn\",\"test\":\"ITP - Matriz - Prova\",\"mediatest\":100.0},{\"user\":\"Dimitri Lima \",\"registration\":\" Ufrn\",\"test\":\"ITP - Structs e Enumerações - Prova\",\"mediatest\":0.0},{\"user\":\"Felipe Costa \",\"registration\":\" 20190043453\",\"test\":\"ITP - Vetores - Prova\",\"mediatest\":100.0},{\"user\":\"Felipe Costa \",\"registration\":\" 20190043453\",\"test\":\"ITP - Matriz - Prova\",\"mediatest\":100.0},{\"user\":\"Felipe Costa \",\"registration\":\" 20190043453\",\"test\":\"ITP - Strings - Prova\",\"mediatest\":100.0},{\"user\":\"Felipe Costa \",\"registration\":\" 20190043453\",\"test\":\"ITP - Ponteiros 1 - Prova\",\"mediatest\":25.0},{\"user\":\"Felipe Costa \",\"registration\":\" 20190043453\",\"test\":\"ITP - Funções - Prova\",\"mediatest\":100.0},{\"user\":\"Felipe Costa \",\"registration\":\" 20190043453\",\"test\":\"ITP Lista 0\",\"mediatest\":100.0},{\"user\":\"Felipe Costa \",\"registration\":\" 20190043453\",\"test\":\"ITP - Laços - Prova\",\"mediatest\":100.0},{\"user\":\"Felipe Costa \",\"registration\":\" 20190043453\",\"test\":\"ITP - Recursão - Prova\",\"mediatest\":100.0},{\"user\":\"Felipe Costa \",\"registration\":\" 20190043453\",\"test\":\"ITP - Structs e Enumerações - Prova\",\"mediatest\":0.0},{\"user\":\"GABRIEL FERNANDES LAURINDO \",\"registration\":\" 20190126761\",\"test\":\"ITP - Ponteiros 2 - Prova\",\"mediatest\":0.0},{\"user\":\"GABRIEL FERNANDES LAURINDO \",\"registration\":\" 20190126761\",\"test\":\"ITP - Structs e Enumerações - Prova\",\"mediatest\":0.0},{\"user\":\"GABRIEL FERNANDES LAURINDO \",\"registration\":\" 20190126761\",\"test\":\"ITP - Matriz - Prova\",\"mediatest\":66.6675},{\"user\":\"GABRIEL FERNANDES LAURINDO \",\"registration\":\" 20190126761\",\"test\":\"ITP - Strings - Prova\",\"mediatest\":75.0},{\"user\":\"GABRIEL FERNANDES LAURINDO \",\"registration\":\" 20190126761\",\"test\":\"ITP - Ponteiros 1 - Prova\",\"mediatest\":56.25},{\"user\":\"GABRIEL FERNANDES LAURINDO \",\"registration\":\" 20190126761\",\"test\":\"ITP - Funções - Prova\",\"mediatest\":50.0},{\"user\":\"GABRIEL FERNANDES LAURINDO \",\"registration\":\" 20190126761\",\"test\":\"ITP - Recursão - Prova\",\"mediatest\":25.0},{\"user\":\"GABRIEL FERNANDES LAURINDO \",\"registration\":\" 20190126761\",\"test\":\"ITP - Vetores - Prova\",\"mediatest\":75.0},{\"user\":\"GABRIEL FERNANDES LAURINDO \",\"registration\":\" 20190126761\",\"test\":\"ITP - Laços - Prova\",\"mediatest\":75.0},{\"user\":\"GABRIEL FERNANDES LAURINDO \",\"registration\":\" 20190126761\",\"test\":\"ITP Lista 0\",\"mediatest\":100.0},{\"user\":\"Gabriel Bassani \",\"registration\":\" 20190043794\",\"test\":\"ITP - Ponteiros 1 - Prova\",\"mediatest\":75.0},{\"user\":\"Gabriel Bassani \",\"registration\":\" 20190043794\",\"test\":\"ITP - Funções - Prova\",\"mediatest\":100.0},{\"user\":\"Gabriel Bassani \",\"registration\":\" 20190043794\",\"test\":\"ITP - Recursão - Prova\",\"mediatest\":75.0},{\"user\":\"Gabriel Bassani \",\"registration\":\" 20190043794\",\"test\":\"ITP - Strings - Prova\",\"mediatest\":100.0},{\"user\":\"Gabriel Bassani \",\"registration\":\" 20190043794\",\"test\":\"ITP - Structs e Enumerações - Prova\",\"mediatest\":25.0},{\"user\":\"Gabriel Bassani \",\"registration\":\" 20190043794\",\"test\":\"ITP - Vetores - Prova\",\"mediatest\":100.0},{\"user\":\"Gabriel Bassani \",\"registration\":\" 20190043794\",\"test\":\"ITP - Laços - Prova\",\"mediatest\":100.0},{\"user\":\"Gabriel Bassani \",\"registration\":\" 20190043794\",\"test\":\"ITP - Alocação dinâmica - Prova\",\"mediatest\":100.0},{\"user\":\"Gabriel Bassani \",\"registration\":\" 20190043794\",\"test\":\"ITP Lista 0\",\"mediatest\":100.0},{\"user\":\"Gabriel Bassani \",\"registration\":\" 20190043794\",\"test\":\"ITP - Ponteiros 2 - Prova\",\"mediatest\":75.0},{\"user\":\"Gabriel Bassani \",\"registration\":\" 20190043794\",\"test\":\"ITP - Matriz - Prova\",\"mediatest\":100.0},{\"user\":\"Gabriel Vinícius Lima da Costa Medeiros \",\"registration\":\" 20190041978\",\"test\":\"ITP - Structs e Enumerações - Prova\",\"mediatest\":50.0},{\"user\":\"Gabriel Vinícius Lima da Costa Medeiros \",\"registration\":\" 20190041978\",\"test\":\"ITP - Ponteiros 2 - Prova\",\"mediatest\":25.0},{\"user\":\"Gabriel Vinícius Lima da Costa Medeiros \",\"registration\":\" 20190041978\",\"test\":\"ITP - Matriz - Prova\",\"mediatest\":100.0},{\"user\":\"Gabriel Vinícius Lima da Costa Medeiros \",\"registration\":\" 20190041978\",\"test\":\"ITP Lista 0\",\"mediatest\":100.0},{\"user\":\"Gabriel Vinícius Lima da Costa Medeiros \",\"registration\":\" 20190041978\",\"test\":\"ITP - Laços - Prova\",\"mediatest\":100.0},{\"user\":\"Gabriel Vinícius Lima da Costa Medeiros \",\"registration\":\" 20190041978\",\"test\":\"ITP - Ponteiros 1 - Prova\",\"mediatest\":75.0},{\"user\":\"Gabriel Vinícius Lima da Costa Medeiros \",\"registration\":\" 20190041978\",\"test\":\"ITP - Strings - Prova\",\"mediatest\":100.0},{\"user\":\"Gabriel Vinícius Lima da Costa Medeiros \",\"registration\":\" 20190041978\",\"test\":\"ITP - Funções - Prova\",\"mediatest\":100.0},{\"user\":\"Gabriel Vinícius Lima da Costa Medeiros \",\"registration\":\" 20190041978\",\"test\":\"ITP - Vetores - Prova\",\"mediatest\":100.0},{\"user\":\"Gabriel Vinícius Lima da Costa Medeiros \",\"registration\":\" 20190041978\",\"test\":\"ITP - Alocação dinâmica - Prova\",\"mediatest\":33.3333333333},{\"user\":\"Guilherme Augusto Santana de Lima \",\"registration\":\" 20190044138\",\"test\":\"ITP - Strings - Prova\",\"mediatest\":50.0},{\"user\":\"Guilherme Augusto Santana de Lima \",\"registration\":\" 20190044138\",\"test\":\"ITP - Funções - Prova\",\"mediatest\":100.0},{\"user\":\"Guilherme Augusto Santana de Lima \",\"registration\":\" 20190044138\",\"test\":\"ITP - Laços - Prova\",\"mediatest\":100.0},{\"user\":\"Guilherme Augusto Santana de Lima \",\"registration\":\" 20190044138\",\"test\":\"ITP - Vetores - Prova\",\"mediatest\":37.5},{\"user\":\"Guilherme Augusto Santana de Lima \",\"registration\":\" 20190044138\",\"test\":\"ITP - Matriz - Prova\",\"mediatest\":50.0},{\"user\":\"Iury Lamonie \",\"registration\":\" Monitor\",\"test\":\"ITP - Vetores - Prova\",\"mediatest\":43.75},{\"user\":\"Jackson D \",\"registration\":\" 20200038945\",\"test\":\"ITP - Recursão - Prova\",\"mediatest\":68.75},{\"user\":\"Jackson D \",\"registration\":\" 20200038945\",\"test\":\"ITP - Alocação dinâmica - Prova\",\"mediatest\":33.3333333333},{\"user\":\"Jackson D \",\"registration\":\" 20200038945\",\"test\":\"ITP - Structs e Enumerações - Prova\",\"mediatest\":0.0},{\"user\":\"Jackson D \",\"registration\":\" 20200038945\",\"test\":\"ITP - Vetores - Prova\",\"mediatest\":100.0},{\"user\":\"Jackson D \",\"registration\":\" 20200038945\",\"test\":\"ITP Lista 0\",\"mediatest\":100.0},{\"user\":\"Jackson D \",\"registration\":\" 20200038945\",\"test\":\"ITP - Ponteiros 2 - Prova\",\"mediatest\":91.6675},{\"user\":\"Jackson D \",\"registration\":\" 20200038945\",\"test\":\"ITP - Funções - Prova\",\"mediatest\":100.0},{\"user\":\"Jackson D \",\"registration\":\" 20200038945\",\"test\":\"ITP - Ponteiros 1 - Prova\",\"mediatest\":47.9175},{\"user\":\"Jackson D \",\"registration\":\" 20200038945\",\"test\":\"ITP - Matriz - Prova\",\"mediatest\":100.0},{\"user\":\"Jackson D \",\"registration\":\" 20200038945\",\"test\":\"ITP - Strings - Prova\",\"mediatest\":100.0},{\"user\":\"Jackson D \",\"registration\":\" 20200038945\",\"test\":\"ITP - Laços - Prova\",\"mediatest\":100.0},{\"user\":\"Joao Victor Leandro \",\"registration\":\" 20190146693\",\"test\":\"ITP Lista 0\",\"mediatest\":0.0},{\"user\":\"José Carvalho \",\"registration\":\" 20190048558\",\"test\":\"ITP Lista 0\",\"mediatest\":25.0},{\"user\":\"João Gabriel Trindade \",\"registration\":\" 20190010588\",\"test\":\"ITP - Ponteiros 2 - Prova\",\"mediatest\":50.0},{\"user\":\"João Gabriel Trindade \",\"registration\":\" 20190010588\",\"test\":\"ITP - Alocação dinâmica - Prova\",\"mediatest\":33.3333333333},{\"user\":\"João Gabriel Trindade \",\"registration\":\" 20190010588\",\"test\":\"ITP - Structs e Enumerações - Prova\",\"mediatest\":50.0},{\"user\":\"João Gabriel Trindade \",\"registration\":\" 20190010588\",\"test\":\"ITP Lista 0\",\"mediatest\":100.0},{\"user\":\"João Gabriel Trindade \",\"registration\":\" 20190010588\",\"test\":\"ITP - Strings - Prova\",\"mediatest\":75.0},{\"user\":\"João Gabriel Trindade \",\"registration\":\" 20190010588\",\"test\":\"ITP - Ponteiros 1 - Prova\",\"mediatest\":50.0},{\"user\":\"João Gabriel Trindade \",\"registration\":\" 20190010588\",\"test\":\"ITP - Vetores - Prova\",\"mediatest\":87.5},{\"user\":\"João Gabriel Trindade \",\"registration\":\" 20190010588\",\"test\":\"ITP - Laços - Prova\",\"mediatest\":50.0},{\"user\":\"João Gabriel Trindade \",\"registration\":\" 20190010588\",\"test\":\"ITP - Funções - Prova\",\"mediatest\":100.0},{\"user\":\"João Gabriel Trindade \",\"registration\":\" 20190010588\",\"test\":\"ITP - Matriz - Prova\",\"mediatest\":50.0},{\"user\":\"João Maria Mauricio \",\"registration\":\" 20180118944\",\"test\":\"ITP - Matriz - Prova\",\"mediatest\":62.5},{\"user\":\"Lucas da Costa Fontes \",\"registration\":\" 20180122141\",\"test\":\"ITP - Structs e Enumerações - Prova\",\"mediatest\":0.0},{\"user\":\"Lucas da Costa Fontes \",\"registration\":\" 20180122141\",\"test\":\"ITP - Vetores - Prova\",\"mediatest\":100.0},{\"user\":\"Lucas da Costa Fontes \",\"registration\":\" 20180122141\",\"test\":\"ITP - Matriz - Prova\",\"mediatest\":100.0},{\"user\":\"Lucas da Costa Fontes \",\"registration\":\" 20180122141\",\"test\":\"ITP - Ponteiros 2 - Prova\",\"mediatest\":50.0},{\"user\":\"Lucas da Costa Fontes \",\"registration\":\" 20180122141\",\"test\":\"ITP - Ponteiros 1 - Prova\",\"mediatest\":6.25},{\"user\":\"Lucas da Costa Fontes \",\"registration\":\" 20180122141\",\"test\":\"ITP - Recursão - Prova\",\"mediatest\":75.0},{\"user\":\"Lucas da Costa Fontes \",\"registration\":\" 20180122141\",\"test\":\"ITP - Laços - Prova\",\"mediatest\":50.0},{\"user\":\"Lucas da Costa Fontes \",\"registration\":\" 20180122141\",\"test\":\"ITP - Strings - Prova\",\"mediatest\":75.0},{\"user\":\"Lucas da Costa Fontes \",\"registration\":\" 20180122141\",\"test\":\"ITP Lista 0\",\"mediatest\":50.0},{\"user\":\"Lucas da Costa Fontes \",\"registration\":\" 20180122141\",\"test\":\"ITP - Funções - Prova\",\"mediatest\":100.0},{\"user\":\"Luiz Paulo Assis Cavalcante de Freitas \",\"registration\":\" 20190103408\",\"test\":\"ITP - Ponteiros 2 - Prova\",\"mediatest\":25.0},{\"user\":\"Luiz Paulo Assis Cavalcante de Freitas \",\"registration\":\" 20190103408\",\"test\":\"ITP - Funções - Prova\",\"mediatest\":100.0},{\"user\":\"Luiz Paulo Assis Cavalcante de Freitas \",\"registration\":\" 20190103408\",\"test\":\"ITP Lista 0\",\"mediatest\":100.0},{\"user\":\"Luiz Paulo Assis Cavalcante de Freitas \",\"registration\":\" 20190103408\",\"test\":\"ITP - Strings - Prova\",\"mediatest\":100.0},{\"user\":\"Luiz Paulo Assis Cavalcante de Freitas \",\"registration\":\" 20190103408\",\"test\":\"ITP - Vetores - Prova\",\"mediatest\":100.0},{\"user\":\"Luiz Paulo Assis Cavalcante de Freitas \",\"registration\":\" 20190103408\",\"test\":\"ITP - Matriz - Prova\",\"mediatest\":75.0},{\"user\":\"Luiz Paulo Assis Cavalcante de Freitas \",\"registration\":\" 20190103408\",\"test\":\"ITP - Laços - Prova\",\"mediatest\":100.0},{\"user\":\"Matheus Alves \",\"registration\":\" 20180062956\",\"test\":\"ITP - Alocação dinâmica - Prova\",\"mediatest\":66.6666666667},{\"user\":\"Matheus Alves \",\"registration\":\" 20180062956\",\"test\":\"ITP - Strings - Prova\",\"mediatest\":25.0},{\"user\":\"Matheus Alves \",\"registration\":\" 20180062956\",\"test\":\"ITP - Matriz - Prova\",\"mediatest\":75.0},{\"user\":\"Matheus Alves \",\"registration\":\" 20180062956\",\"test\":\"ITP - Vetores - Prova\",\"mediatest\":100.0},{\"user\":\"Matheus Alves \",\"registration\":\" 20180062956\",\"test\":\"ITP - Ponteiros 2 - Prova\",\"mediatest\":25.0},{\"user\":\"Matheus Alves \",\"registration\":\" 20180062956\",\"test\":\"ITP Lista 0\",\"mediatest\":100.0},{\"user\":\"Matheus Alves \",\"registration\":\" 20180062956\",\"test\":\"ITP - Ponteiros 1 - Prova\",\"mediatest\":0.0},{\"user\":\"Matheus Alves \",\"registration\":\" 20180062956\",\"test\":\"ITP - Recursão - Prova\",\"mediatest\":48.3325},{\"user\":\"Matheus Alves \",\"registration\":\" 20180062956\",\"test\":\"ITP - Laços - Prova\",\"mediatest\":100.0},{\"user\":\"Matheus Alves \",\"registration\":\" 20180062956\",\"test\":\"ITP - Funções - Prova\",\"mediatest\":100.0},{\"user\":\"Matheus Henrique Fonseca Valerio \",\"registration\":\" 20180063597\",\"test\":\"ITP Lista 0\",\"mediatest\":27.7775},{\"user\":\"Matheus Henrique Fonseca Valerio \",\"registration\":\" 20180063597\",\"test\":\"ITP 2020.6 - T02 - Reposicao\",\"mediatest\":0.0},{\"user\":\"Matheus Henrique Fonseca Valerio \",\"registration\":\" 20180063597\",\"test\":\"ITP - Laços - Prova\",\"mediatest\":80.0},{\"user\":\"Matheus Henrique Fonseca Valerio \",\"registration\":\" 20180063597\",\"test\":\"ITP - Funções - Prova\",\"mediatest\":75.0},{\"user\":\"Matheus Henrique Fonseca Valerio \",\"registration\":\" 20180063597\",\"test\":\"ITP - Strings - Prova\",\"mediatest\":50.0},{\"user\":\"Matheus Henrique Fonseca Valerio \",\"registration\":\" 20180063597\",\"test\":\"ITP - Vetores - Prova\",\"mediatest\":0.0},{\"user\":\"Patrick Miguel Souza de Melo \",\"registration\":\" 20170068277\",\"test\":\"ITP - Laços - Prova\",\"mediatest\":25.0},{\"user\":\"Patrick Miguel Souza de Melo \",\"registration\":\" 20170068277\",\"test\":\"ITP Lista 0\",\"mediatest\":75.0},{\"user\":\"Paulo Carvalho \",\"registration\":\" 2016034522\",\"test\":\"ITP Lista 0\",\"mediatest\":100.0},{\"user\":\"Paulo Carvalho \",\"registration\":\" 2016034522\",\"test\":\"ITP - Ponteiros 2 - Prova\",\"mediatest\":25.0},{\"user\":\"Paulo Carvalho \",\"registration\":\" 2016034522\",\"test\":\"ITP - Funções - Prova\",\"mediatest\":75.0},{\"user\":\"Paulo Carvalho \",\"registration\":\" 2016034522\",\"test\":\"ITP - Strings - Prova\",\"mediatest\":100.0},{\"user\":\"Paulo Carvalho \",\"registration\":\" 2016034522\",\"test\":\"ITP - Laços - Prova\",\"mediatest\":100.0},{\"user\":\"Paulo Carvalho \",\"registration\":\" 2016034522\",\"test\":\"ITP - Vetores - Prova\",\"mediatest\":100.0},{\"user\":\"Paulo Carvalho \",\"registration\":\" 2016034522\",\"test\":\"ITP - Matriz - Prova\",\"mediatest\":75.0},{\"user\":\"Paulo Víctor de Medeiros Andrade \",\"registration\":\" 20190003046\",\"test\":\"ITP - Funções - Prova\",\"mediatest\":100.0},{\"user\":\"Paulo Víctor de Medeiros Andrade \",\"registration\":\" 20190003046\",\"test\":\"ITP - Strings - Prova\",\"mediatest\":62.5},{\"user\":\"Paulo Víctor de Medeiros Andrade \",\"registration\":\" 20190003046\",\"test\":\"ITP - Recursão - Prova\",\"mediatest\":8.3325},{\"user\":\"Pedro Garcia Pereira \",\"registration\":\" 20190040658\",\"test\":\"ITP - Matriz - Prova\",\"mediatest\":100.0},{\"user\":\"Pedro Garcia Pereira \",\"registration\":\" 20190040658\",\"test\":\"ITP - Strings - Prova\",\"mediatest\":100.0},{\"user\":\"Pedro Garcia Pereira \",\"registration\":\" 20190040658\",\"test\":\"ITP - Recursão - Prova\",\"mediatest\":50.0},{\"user\":\"Pedro Garcia Pereira \",\"registration\":\" 20190040658\",\"test\":\"ITP - Structs e Enumerações - Prova\",\"mediatest\":50.0},{\"user\":\"Pedro Garcia Pereira \",\"registration\":\" 20190040658\",\"test\":\"ITP - Alocação dinâmica - Prova\",\"mediatest\":33.3333333333},{\"user\":\"Pedro Garcia Pereira \",\"registration\":\" 20190040658\",\"test\":\"ITP - Laços - Prova\",\"mediatest\":100.0},{\"user\":\"Pedro Garcia Pereira \",\"registration\":\" 20190040658\",\"test\":\"ITP - Ponteiros 1 - Prova\",\"mediatest\":50.0},{\"user\":\"Pedro Garcia Pereira \",\"registration\":\" 20190040658\",\"test\":\"ITP - Funções - Prova\",\"mediatest\":100.0},{\"user\":\"Pedro Garcia Pereira \",\"registration\":\" 20190040658\",\"test\":\"ITP Lista 0\",\"mediatest\":100.0},{\"user\":\"Pedro Garcia Pereira \",\"registration\":\" 20190040658\",\"test\":\"ITP - Vetores - Prova\",\"mediatest\":100.0},{\"user\":\"Pedro Garcia Pereira \",\"registration\":\" 20190040658\",\"test\":\"ITP - Ponteiros 2 - Prova\",\"mediatest\":50.0},{\"user\":\"Pedro Henrique Dantas de Aragão Mendes \",\"registration\":\" 20190003681\",\"test\":\"ITP - Vetores - Prova\",\"mediatest\":100.0},{\"user\":\"Pedro Henrique Dantas de Aragão Mendes \",\"registration\":\" 20190003681\",\"test\":\"ITP - Ponteiros 1 - Prova\",\"mediatest\":25.0},{\"user\":\"Pedro Henrique Dantas de Aragão Mendes \",\"registration\":\" 20190003681\",\"test\":\"ITP - Recursão - Prova\",\"mediatest\":8.3325},{\"user\":\"Pedro Henrique Dantas de Aragão Mendes \",\"registration\":\" 20190003681\",\"test\":\"ITP - Laços - Prova\",\"mediatest\":100.0},{\"user\":\"Pedro Henrique Dantas de Aragão Mendes \",\"registration\":\" 20190003681\",\"test\":\"ITP - Structs e Enumerações - Prova\",\"mediatest\":0.0},{\"user\":\"Pedro Henrique Dantas de Aragão Mendes \",\"registration\":\" 20190003681\",\"test\":\"ITP - Funções - Prova\",\"mediatest\":25.0},{\"user\":\"Pedro Henrique Dantas de Aragão Mendes \",\"registration\":\" 20190003681\",\"test\":\"ITP - Strings - Prova\",\"mediatest\":68.75},{\"user\":\"Pedro Henrique Dantas de Aragão Mendes \",\"registration\":\" 20190003681\",\"test\":\"ITP Lista 0\",\"mediatest\":100.0},{\"user\":\"Pedro Henrique Dantas de Aragão Mendes \",\"registration\":\" 20190003681\",\"test\":\"ITP - Matriz - Prova\",\"mediatest\":50.0},{\"user\":\"Pedro Leite \",\"registration\":\" 20190000830\",\"test\":\"ITP - Funções - Prova\",\"mediatest\":75.0},{\"user\":\"Pedro Leite \",\"registration\":\" 20190000830\",\"test\":\"ITP - Ponteiros 1 - Prova\",\"mediatest\":25.0},{\"user\":\"Pedro Leite \",\"registration\":\" 20190000830\",\"test\":\"ITP - Structs e Enumerações - Prova\",\"mediatest\":75.0},{\"user\":\"Pedro Leite \",\"registration\":\" 20190000830\",\"test\":\"ITP - Ponteiros 2 - Prova\",\"mediatest\":50.0},{\"user\":\"Pedro Leite \",\"registration\":\" 20190000830\",\"test\":\"ITP - Vetores - Prova\",\"mediatest\":100.0},{\"user\":\"Pedro Leite \",\"registration\":\" 20190000830\",\"test\":\"ITP Lista 0\",\"mediatest\":100.0},{\"user\":\"Pedro Leite \",\"registration\":\" 20190000830\",\"test\":\"ITP - Matriz - Prova\",\"mediatest\":100.0},{\"user\":\"Pedro Leite \",\"registration\":\" 20190000830\",\"test\":\"ITP - Alocação dinâmica - Prova\",\"mediatest\":66.6666666667},{\"user\":\"Pedro Leite \",\"registration\":\" 20190000830\",\"test\":\"ITP - Strings - Prova\",\"mediatest\":100.0},{\"user\":\"Pedro Leite \",\"registration\":\" 20190000830\",\"test\":\"ITP - Laços - Prova\",\"mediatest\":50.0},{\"user\":\"Pedro Leite \",\"registration\":\" 20190000830\",\"test\":\"ITP - Recursão - Prova\",\"mediatest\":68.75},{\"user\":\"Samuel Souza \",\"registration\":\" 20200046160\",\"test\":\"ITP - Laços - Prova\",\"mediatest\":50.0},{\"user\":\"Samuel Souza \",\"registration\":\" 20200046160\",\"test\":\"ITP - Matriz - Prova\",\"mediatest\":75.0},{\"user\":\"Samuel Souza \",\"registration\":\" 20200046160\",\"test\":\"ITP - Funções - Prova\",\"mediatest\":100.0},{\"user\":\"Samuel Souza \",\"registration\":\" 20200046160\",\"test\":\"ITP - Ponteiros 2 - Prova\",\"mediatest\":50.0},{\"user\":\"Samuel Souza \",\"registration\":\" 20200046160\",\"test\":\"ITP - Structs e Enumerações - Prova\",\"mediatest\":75.0},{\"user\":\"Samuel Souza \",\"registration\":\" 20200046160\",\"test\":\"ITP - Recursão - Prova\",\"mediatest\":75.0},{\"user\":\"Samuel Souza \",\"registration\":\" 20200046160\",\"test\":\"ITP Lista 0\",\"mediatest\":100.0},{\"user\":\"Samuel Souza \",\"registration\":\" 20200046160\",\"test\":\"ITP - Vetores - Prova\",\"mediatest\":100.0},{\"user\":\"Samuel Souza \",\"registration\":\" 20200046160\",\"test\":\"ITP - Ponteiros 1 - Prova\",\"mediatest\":75.0},{\"user\":\"Samuel Souza \",\"registration\":\" 20200046160\",\"test\":\"ITP - Alocação dinâmica - Prova\",\"mediatest\":66.6666666667},{\"user\":\"Samuel Souza \",\"registration\":\" 20200046160\",\"test\":\"ITP - Strings - Prova\",\"mediatest\":25.0},{\"user\":\"Tales Vinícius de Medeiros Alves \",\"registration\":\" 20200040685\",\"test\":\"ITP - Vetores - Prova\",\"mediatest\":100.0},{\"user\":\"Tales Vinícius de Medeiros Alves \",\"registration\":\" 20200040685\",\"test\":\"ITP - Ponteiros 2 - Prova\",\"mediatest\":75.0},{\"user\":\"Tales Vinícius de Medeiros Alves \",\"registration\":\" 20200040685\",\"test\":\"ITP - Alocação dinâmica - Prova\",\"mediatest\":66.6666666667},{\"user\":\"Tales Vinícius de Medeiros Alves \",\"registration\":\" 20200040685\",\"test\":\"ITP - Strings - Prova\",\"mediatest\":100.0},{\"user\":\"Tales Vinícius de Medeiros Alves \",\"registration\":\" 20200040685\",\"test\":\"ITP - Structs e Enumerações - Prova\",\"mediatest\":0.0},{\"user\":\"Tales Vinícius de Medeiros Alves \",\"registration\":\" 20200040685\",\"test\":\"ITP - Ponteiros 1 - Prova\",\"mediatest\":75.0},{\"user\":\"Tales Vinícius de Medeiros Alves \",\"registration\":\" 20200040685\",\"test\":\"ITP Lista 0\",\"mediatest\":100.0},{\"user\":\"Tales Vinícius de Medeiros Alves \",\"registration\":\" 20200040685\",\"test\":\"ITP - Matriz - Prova\",\"mediatest\":100.0},{\"user\":\"Tales Vinícius de Medeiros Alves \",\"registration\":\" 20200040685\",\"test\":\"ITP - Funções - Prova\",\"mediatest\":100.0},{\"user\":\"Tales Vinícius de Medeiros Alves \",\"registration\":\" 20200040685\",\"test\":\"ITP - Laços - Prova\",\"mediatest\":100.0},{\"user\":\"Vitória Morais \",\"registration\":\" 20190046571\",\"test\":\"ITP - Funções - Prova\",\"mediatest\":100.0},{\"user\":\"Vitória Morais \",\"registration\":\" 20190046571\",\"test\":\"ITP - Ponteiros 1 - Prova\",\"mediatest\":75.0},{\"user\":\"Vitória Morais \",\"registration\":\" 20190046571\",\"test\":\"ITP Lista 0\",\"mediatest\":100.0},{\"user\":\"Vitória Morais \",\"registration\":\" 20190046571\",\"test\":\"ITP - Strings - Prova\",\"mediatest\":100.0},{\"user\":\"Vitória Morais \",\"registration\":\" 20190046571\",\"test\":\"ITP - Laços - Prova\",\"mediatest\":100.0},{\"user\":\"Vitória Morais \",\"registration\":\" 20190046571\",\"test\":\"ITP - Ponteiros 2 - Prova\",\"mediatest\":25.0},{\"user\":\"Vitória Morais \",\"registration\":\" 20190046571\",\"test\":\"ITP - Alocação dinâmica - Prova\",\"mediatest\":33.3333333333},{\"user\":\"Vitória Morais \",\"registration\":\" 20190046571\",\"test\":\"ITP - Matriz - Prova\",\"mediatest\":75.0},{\"user\":\"Vitória Morais \",\"registration\":\" 20190046571\",\"test\":\"ITP - Vetores - Prova\",\"mediatest\":100.0},{\"user\":\"Vitória Morais \",\"registration\":\" 20190046571\",\"test\":\"ITP - Structs e Enumerações - Prova\",\"mediatest\":50.0},{\"user\":\"Vítor Dantas Costa \",\"registration\":\" 20190146700\",\"test\":\"ITP - Matriz - Prova\",\"mediatest\":75.0},{\"user\":\"Vítor Dantas Costa \",\"registration\":\" 20190146700\",\"test\":\"ITP - Ponteiros 2 - Prova\",\"mediatest\":25.0},{\"user\":\"Vítor Dantas Costa \",\"registration\":\" 20190146700\",\"test\":\"ITP - Ponteiros 1 - Prova\",\"mediatest\":50.0},{\"user\":\"Vítor Dantas Costa \",\"registration\":\" 20190146700\",\"test\":\"ITP - Recursão - Prova\",\"mediatest\":25.0},{\"user\":\"Vítor Dantas Costa \",\"registration\":\" 20190146700\",\"test\":\"ITP Lista 0\",\"mediatest\":100.0},{\"user\":\"Vítor Dantas Costa \",\"registration\":\" 20190146700\",\"test\":\"ITP - Strings - Prova\",\"mediatest\":68.75},{\"user\":\"Vítor Dantas Costa \",\"registration\":\" 20190146700\",\"test\":\"ITP - Laços - Prova\",\"mediatest\":100.0},{\"user\":\"Vítor Dantas Costa \",\"registration\":\" 20190146700\",\"test\":\"ITP - Funções - Prova\",\"mediatest\":100.0},{\"user\":\"alyssonblack \",\"registration\":\" 20170070435\",\"test\":\"ITP - Laços - Prova\",\"mediatest\":50.0},{\"user\":\"alyssonblack \",\"registration\":\" 20170070435\",\"test\":\"ITP Lista 0\",\"mediatest\":52.7775},{\"user\":\"ellen Melo \",\"registration\":\" 20190105224\",\"test\":\"ITP - Vetores - Prova\",\"mediatest\":100.0},{\"user\":\"ellen Melo \",\"registration\":\" 20190105224\",\"test\":\"ITP - Ponteiros 2 - Prova\",\"mediatest\":50.0},{\"user\":\"ellen Melo \",\"registration\":\" 20190105224\",\"test\":\"ITP - Laços - Prova\",\"mediatest\":100.0},{\"user\":\"ellen Melo \",\"registration\":\" 20190105224\",\"test\":\"ITP - Strings - Prova\",\"mediatest\":100.0},{\"user\":\"ellen Melo \",\"registration\":\" 20190105224\",\"test\":\"ITP Lista 0\",\"mediatest\":100.0},{\"user\":\"ellen Melo \",\"registration\":\" 20190105224\",\"test\":\"ITP - Matriz - Prova\",\"mediatest\":100.0},{\"user\":\"ellen Melo \",\"registration\":\" 20190105224\",\"test\":\"ITP - Ponteiros 1 - Prova\",\"mediatest\":25.0},{\"user\":\"ellen Melo \",\"registration\":\" 20190105224\",\"test\":\"ITP - Funções - Prova\",\"mediatest\":100.0},{\"user\":\"ellen Melo \",\"registration\":\" 20190105224\",\"test\":\"ITP - Recursão - Prova\",\"mediatest\":75.0},{\"user\":\"enzo lopes danjour de souza \",\"registration\":\" 20190035658\",\"test\":\"ITP - Funções - Prova\",\"mediatest\":75.0},{\"user\":\"enzo lopes danjour de souza \",\"registration\":\" 20190035658\",\"test\":\"ITP - Strings - Prova\",\"mediatest\":100.0},{\"user\":\"enzo lopes danjour de souza \",\"registration\":\" 20190035658\",\"test\":\"ITP Lista 0\",\"mediatest\":100.0},{\"user\":\"enzo lopes danjour de souza \",\"registration\":\" 20190035658\",\"test\":\"ITP - Recursão - Prova\",\"mediatest\":85.0},{\"user\":\"enzo lopes danjour de souza \",\"registration\":\" 20190035658\",\"test\":\"ITP - Matriz - Prova\",\"mediatest\":100.0},{\"user\":\"enzo lopes danjour de souza \",\"registration\":\" 20190035658\",\"test\":\"ITP - Vetores - Prova\",\"mediatest\":75.0},{\"user\":\"enzo lopes danjour de souza \",\"registration\":\" 20190035658\",\"test\":\"ITP - Laços - Prova\",\"mediatest\":100.0},{\"user\":\"enzo lopes danjour de souza \",\"registration\":\" 20190035658\",\"test\":\"ITP - Ponteiros 2 - Prova\",\"mediatest\":0.0},{\"user\":\"enzo lopes danjour de souza \",\"registration\":\" 20190035658\",\"test\":\"ITP - Ponteiros 1 - Prova\",\"mediatest\":25.0},{\"user\":\"kaio cesar de sousa pinheiro \",\"registration\":\" 20180144793\",\"test\":\"ITP Lista 0\",\"mediatest\":25.0},{\"user\":\"marciotenorio \",\"registration\":\" 20180119880\",\"test\":\"ITP Lista 0\",\"mediatest\":25.0},{\"user\":\"marciotenorio \",\"registration\":\" 20180119880\",\"test\":\"ITP - Laços - Prova\",\"mediatest\":0.0},{\"user\":\"marciotenorio \",\"registration\":\" 20180119880\",\"test\":\"ITP - Strings - Prova\",\"mediatest\":18.75}]'"
            ]
          },
          "metadata": {
            "tags": []
          },
          "execution_count": 22
        }
      ]
    },
    {
      "cell_type": "code",
      "metadata": {
        "colab": {
          "base_uri": "https://localhost:8080/",
          "height": 164
        },
        "id": "Hyw0mF_fwCIW",
        "outputId": "5c5bd3e2-ca7c-4772-90a0-149fe2b59b33"
      },
      "source": [
        "performance_list_test(df_submission, 'test', df_question_data)"
      ],
      "execution_count": null,
      "outputs": [
        {
          "output_type": "error",
          "ename": "NameError",
          "evalue": "ignored",
          "traceback": [
            "\u001b[0;31m---------------------------------------------------------------------------\u001b[0m",
            "\u001b[0;31mNameError\u001b[0m                                 Traceback (most recent call last)",
            "\u001b[0;32m<ipython-input-23-7b6890b6e603>\u001b[0m in \u001b[0;36m<module>\u001b[0;34m()\u001b[0m\n\u001b[0;32m----> 1\u001b[0;31m \u001b[0mperformance_list_test\u001b[0m\u001b[0;34m(\u001b[0m\u001b[0mdf_submission\u001b[0m\u001b[0;34m,\u001b[0m \u001b[0;34m'test'\u001b[0m\u001b[0;34m,\u001b[0m \u001b[0mdf_question_data\u001b[0m\u001b[0;34m)\u001b[0m\u001b[0;34m\u001b[0m\u001b[0;34m\u001b[0m\u001b[0m\n\u001b[0m",
            "\u001b[0;31mNameError\u001b[0m: name 'performance_list_test' is not defined"
          ]
        }
      ]
    },
    {
      "cell_type": "code",
      "metadata": {
        "colab": {
          "base_uri": "https://localhost:8080/",
          "height": 35
        },
        "id": "FFK3UCJIpjGM",
        "outputId": "a02c190d-eb1d-46d3-e1c4-c6b09a2f1c8f"
      },
      "source": [
        "data2"
      ],
      "execution_count": null,
      "outputs": [
        {
          "output_type": "execute_result",
          "data": {
            "application/vnd.google.colaboratory.intrinsic+json": {
              "type": "string"
            },
            "text/plain": [
              "'b5413cd7-4f61-4241-aad8-23740bab604f'"
            ]
          },
          "metadata": {
            "tags": []
          },
          "execution_count": 93
        }
      ]
    },
    {
      "cell_type": "code",
      "metadata": {
        "colab": {
          "base_uri": "https://localhost:8080/"
        },
        "id": "nQXionY_pgw-",
        "outputId": "248d3bb4-43be-434f-aab5-de254b3eb76d"
      },
      "source": [
        "df_class.loc[df_class['id_class'] == data2.iloc[0,0],'studentsCount'].max()"
      ],
      "execution_count": null,
      "outputs": [
        {
          "output_type": "execute_result",
          "data": {
            "text/plain": [
              "41.0"
            ]
          },
          "metadata": {
            "tags": []
          },
          "execution_count": 94
        }
      ]
    },
    {
      "cell_type": "code",
      "metadata": {
        "colab": {
          "base_uri": "https://localhost:8080/",
          "height": 419
        },
        "id": "SoFRyrlBpeOg",
        "outputId": "1d6f9ef4-2f7f-4f04-eb9c-ff14a4e7748e"
      },
      "source": [
        "df_class"
      ],
      "execution_count": null,
      "outputs": [
        {
          "output_type": "execute_result",
          "data": {
            "text/html": [
              "<div>\n",
              "<style scoped>\n",
              "    .dataframe tbody tr th:only-of-type {\n",
              "        vertical-align: middle;\n",
              "    }\n",
              "\n",
              "    .dataframe tbody tr th {\n",
              "        vertical-align: top;\n",
              "    }\n",
              "\n",
              "    .dataframe thead th {\n",
              "        text-align: right;\n",
              "    }\n",
              "</style>\n",
              "<table border=\"1\" class=\"dataframe\">\n",
              "  <thead>\n",
              "    <tr style=\"text-align: right;\">\n",
              "      <th></th>\n",
              "      <th>id_teacher</th>\n",
              "      <th>id_class</th>\n",
              "      <th>name_class</th>\n",
              "      <th>code</th>\n",
              "      <th>year</th>\n",
              "      <th>semester</th>\n",
              "      <th>studentsCount</th>\n",
              "      <th>teachersCount</th>\n",
              "    </tr>\n",
              "  </thead>\n",
              "  <tbody>\n",
              "    <tr>\n",
              "      <th>0</th>\n",
              "      <td>07bfa916-0086-4abc-b161-b9566ec5cc28</td>\n",
              "      <td>bee7d92a-141d-4657-aeed-b3a2fc60b026</td>\n",
              "      <td>Turma teste 1</td>\n",
              "      <td>b9ef30672e</td>\n",
              "      <td>2020.0</td>\n",
              "      <td>1.0</td>\n",
              "      <td>1.0</td>\n",
              "      <td>3.0</td>\n",
              "    </tr>\n",
              "    <tr>\n",
              "      <th>1</th>\n",
              "      <td>07bfa916-0086-4abc-b161-b9566ec5cc28</td>\n",
              "      <td>b5413cd7-4f61-4241-aad8-23740bab604f</td>\n",
              "      <td>IMD1012 - ITP - Turma 02 - 246T12</td>\n",
              "      <td>68778aa860</td>\n",
              "      <td>2020.0</td>\n",
              "      <td>2.0</td>\n",
              "      <td>41.0</td>\n",
              "      <td>5.0</td>\n",
              "    </tr>\n",
              "    <tr>\n",
              "      <th>2</th>\n",
              "      <td>07bfa916-0086-4abc-b161-b9566ec5cc28</td>\n",
              "      <td>66baea8b-9ee0-4297-a218-a76a35e9dca4</td>\n",
              "      <td>IMD1012 Turma 03 - 2020.6</td>\n",
              "      <td>cca4b5c9ac</td>\n",
              "      <td>2020.0</td>\n",
              "      <td>2.0</td>\n",
              "      <td>44.0</td>\n",
              "      <td>6.0</td>\n",
              "    </tr>\n",
              "    <tr>\n",
              "      <th>3</th>\n",
              "      <td>07bfa916-0086-4abc-b161-b9566ec5cc28</td>\n",
              "      <td>a597cea9-7441-422c-a842-1a8fec2994f5</td>\n",
              "      <td>ITP DIM01 2020.6</td>\n",
              "      <td>4822d3e57b</td>\n",
              "      <td>2020.0</td>\n",
              "      <td>2.0</td>\n",
              "      <td>43.0</td>\n",
              "      <td>3.0</td>\n",
              "    </tr>\n",
              "    <tr>\n",
              "      <th>4</th>\n",
              "      <td>07bfa916-0086-4abc-b161-b9566ec5cc28</td>\n",
              "      <td>f6fe7dc2-81cc-4dd9-aae8-03d182807a9b</td>\n",
              "      <td>turma de testes</td>\n",
              "      <td>8cb8dd2fd3</td>\n",
              "      <td>2020.0</td>\n",
              "      <td>2.0</td>\n",
              "      <td>6.0</td>\n",
              "      <td>7.0</td>\n",
              "    </tr>\n",
              "    <tr>\n",
              "      <th>...</th>\n",
              "      <td>...</td>\n",
              "      <td>...</td>\n",
              "      <td>...</td>\n",
              "      <td>...</td>\n",
              "      <td>...</td>\n",
              "      <td>...</td>\n",
              "      <td>...</td>\n",
              "      <td>...</td>\n",
              "    </tr>\n",
              "    <tr>\n",
              "      <th>146</th>\n",
              "      <td>ea25d229-6463-434d-89d8-dd9c7cebb69a</td>\n",
              "      <td>885e3b1e-21f2-4e59-8ffe-174a09b8483f</td>\n",
              "      <td>ITP - 2020.6 Turma 01</td>\n",
              "      <td>2ccbce7bda</td>\n",
              "      <td>2020.0</td>\n",
              "      <td>2.0</td>\n",
              "      <td>1.0</td>\n",
              "      <td>4.0</td>\n",
              "    </tr>\n",
              "    <tr>\n",
              "      <th>147</th>\n",
              "      <td>2fa53caa-83b7-463b-83ea-8da8a7ec671f</td>\n",
              "      <td>a1779c9c-876d-4b4a-85ed-75ba20b12c02</td>\n",
              "      <td>Turma 03DLIP 2020.6</td>\n",
              "      <td>7995aa5fb1</td>\n",
              "      <td>2020.0</td>\n",
              "      <td>1.0</td>\n",
              "      <td>14.0</td>\n",
              "      <td>3.0</td>\n",
              "    </tr>\n",
              "    <tr>\n",
              "      <th>148</th>\n",
              "      <td>2fa53caa-83b7-463b-83ea-8da8a7ec671f</td>\n",
              "      <td>497d6d0f-9ab4-4101-938f-bebcc9984ead</td>\n",
              "      <td>Turma 03C LIP 2020.6</td>\n",
              "      <td>56fc3a78cc</td>\n",
              "      <td>2020.0</td>\n",
              "      <td>1.0</td>\n",
              "      <td>15.0</td>\n",
              "      <td>3.0</td>\n",
              "    </tr>\n",
              "    <tr>\n",
              "      <th>149</th>\n",
              "      <td>2fa53caa-83b7-463b-83ea-8da8a7ec671f</td>\n",
              "      <td>8d726359-9752-4069-a574-afbbd1fe5b96</td>\n",
              "      <td>Turma 03B LIP 2020.6</td>\n",
              "      <td>1514a5f049</td>\n",
              "      <td>2020.0</td>\n",
              "      <td>1.0</td>\n",
              "      <td>15.0</td>\n",
              "      <td>3.0</td>\n",
              "    </tr>\n",
              "    <tr>\n",
              "      <th>150</th>\n",
              "      <td>2fa53caa-83b7-463b-83ea-8da8a7ec671f</td>\n",
              "      <td>35fab3e9-85e5-4e07-b6fe-487aba17e3f3</td>\n",
              "      <td>Turma 03A LIP 2020.6</td>\n",
              "      <td>32a89c119b</td>\n",
              "      <td>2020.0</td>\n",
              "      <td>1.0</td>\n",
              "      <td>15.0</td>\n",
              "      <td>3.0</td>\n",
              "    </tr>\n",
              "  </tbody>\n",
              "</table>\n",
              "<p>151 rows × 8 columns</p>\n",
              "</div>"
            ],
            "text/plain": [
              "                               id_teacher  ... teachersCount\n",
              "0    07bfa916-0086-4abc-b161-b9566ec5cc28  ...           3.0\n",
              "1    07bfa916-0086-4abc-b161-b9566ec5cc28  ...           5.0\n",
              "2    07bfa916-0086-4abc-b161-b9566ec5cc28  ...           6.0\n",
              "3    07bfa916-0086-4abc-b161-b9566ec5cc28  ...           3.0\n",
              "4    07bfa916-0086-4abc-b161-b9566ec5cc28  ...           7.0\n",
              "..                                    ...  ...           ...\n",
              "146  ea25d229-6463-434d-89d8-dd9c7cebb69a  ...           4.0\n",
              "147  2fa53caa-83b7-463b-83ea-8da8a7ec671f  ...           3.0\n",
              "148  2fa53caa-83b7-463b-83ea-8da8a7ec671f  ...           3.0\n",
              "149  2fa53caa-83b7-463b-83ea-8da8a7ec671f  ...           3.0\n",
              "150  2fa53caa-83b7-463b-83ea-8da8a7ec671f  ...           3.0\n",
              "\n",
              "[151 rows x 8 columns]"
            ]
          },
          "metadata": {
            "tags": []
          },
          "execution_count": 78
        }
      ]
    },
    {
      "cell_type": "code",
      "metadata": {
        "colab": {
          "base_uri": "https://localhost:8080/",
          "height": 390
        },
        "id": "tWn4PTb4f9bO",
        "outputId": "b2ab2eea-7d05-47be-8262-6cde5ebedeb0"
      },
      "source": [
        "graph_more_less_list_test_class(df_performance_list,df_class, data2, 70.0, 'list')"
      ],
      "execution_count": null,
      "outputs": [
        {
          "output_type": "execute_result",
          "data": {
            "text/html": [
              "<div>\n",
              "<style scoped>\n",
              "    .dataframe tbody tr th:only-of-type {\n",
              "        vertical-align: middle;\n",
              "    }\n",
              "\n",
              "    .dataframe tbody tr th {\n",
              "        vertical-align: top;\n",
              "    }\n",
              "\n",
              "    .dataframe thead th {\n",
              "        text-align: right;\n",
              "    }\n",
              "</style>\n",
              "<table border=\"1\" class=\"dataframe\">\n",
              "  <thead>\n",
              "    <tr style=\"text-align: right;\">\n",
              "      <th></th>\n",
              "      <th>list</th>\n",
              "      <th>more</th>\n",
              "      <th>less</th>\n",
              "      <th>missing</th>\n",
              "    </tr>\n",
              "  </thead>\n",
              "  <tbody>\n",
              "    <tr>\n",
              "      <th>0</th>\n",
              "      <td>IMD0012 - 2020.6: Lista Obrigatória, Semana 1</td>\n",
              "      <td>22.0</td>\n",
              "      <td>7</td>\n",
              "      <td>12.0</td>\n",
              "    </tr>\n",
              "    <tr>\n",
              "      <th>1</th>\n",
              "      <td>IMD0012 - 2020.6: Lista Preparatória, Semana 3</td>\n",
              "      <td>7.0</td>\n",
              "      <td>7</td>\n",
              "      <td>27.0</td>\n",
              "    </tr>\n",
              "    <tr>\n",
              "      <th>2</th>\n",
              "      <td>ITP - Alocação dinâmica</td>\n",
              "      <td>1.0</td>\n",
              "      <td>6</td>\n",
              "      <td>34.0</td>\n",
              "    </tr>\n",
              "    <tr>\n",
              "      <th>3</th>\n",
              "      <td>ITP - Funções - Lista</td>\n",
              "      <td>4.0</td>\n",
              "      <td>5</td>\n",
              "      <td>32.0</td>\n",
              "    </tr>\n",
              "    <tr>\n",
              "      <th>4</th>\n",
              "      <td>ITP - Laços</td>\n",
              "      <td>17.0</td>\n",
              "      <td>3</td>\n",
              "      <td>21.0</td>\n",
              "    </tr>\n",
              "    <tr>\n",
              "      <th>5</th>\n",
              "      <td>ITP - Matriz - Lista</td>\n",
              "      <td>5.0</td>\n",
              "      <td>2</td>\n",
              "      <td>34.0</td>\n",
              "    </tr>\n",
              "    <tr>\n",
              "      <th>6</th>\n",
              "      <td>ITP - Ponteiros 1 - Lista</td>\n",
              "      <td>1.0</td>\n",
              "      <td>2</td>\n",
              "      <td>38.0</td>\n",
              "    </tr>\n",
              "    <tr>\n",
              "      <th>7</th>\n",
              "      <td>ITP - Recursão - Lista</td>\n",
              "      <td>2.0</td>\n",
              "      <td>1</td>\n",
              "      <td>38.0</td>\n",
              "    </tr>\n",
              "    <tr>\n",
              "      <th>8</th>\n",
              "      <td>ITP - Strings - Lista</td>\n",
              "      <td>6.0</td>\n",
              "      <td>2</td>\n",
              "      <td>33.0</td>\n",
              "    </tr>\n",
              "    <tr>\n",
              "      <th>9</th>\n",
              "      <td>ITP - Ponteiros 2 -  Lista</td>\n",
              "      <td>0.0</td>\n",
              "      <td>2</td>\n",
              "      <td>39.0</td>\n",
              "    </tr>\n",
              "    <tr>\n",
              "      <th>10</th>\n",
              "      <td>ITP - Structs e Enumerações - Lista</td>\n",
              "      <td>0.0</td>\n",
              "      <td>2</td>\n",
              "      <td>39.0</td>\n",
              "    </tr>\n",
              "  </tbody>\n",
              "</table>\n",
              "</div>"
            ],
            "text/plain": [
              "                                              list  more  less  missing\n",
              "0    IMD0012 - 2020.6: Lista Obrigatória, Semana 1  22.0     7     12.0\n",
              "1   IMD0012 - 2020.6: Lista Preparatória, Semana 3   7.0     7     27.0\n",
              "2                          ITP - Alocação dinâmica   1.0     6     34.0\n",
              "3                            ITP - Funções - Lista   4.0     5     32.0\n",
              "4                                      ITP - Laços  17.0     3     21.0\n",
              "5                             ITP - Matriz - Lista   5.0     2     34.0\n",
              "6                        ITP - Ponteiros 1 - Lista   1.0     2     38.0\n",
              "7                           ITP - Recursão - Lista   2.0     1     38.0\n",
              "8                            ITP - Strings - Lista   6.0     2     33.0\n",
              "9                       ITP - Ponteiros 2 -  Lista   0.0     2     39.0\n",
              "10             ITP - Structs e Enumerações - Lista   0.0     2     39.0"
            ]
          },
          "metadata": {
            "tags": []
          },
          "execution_count": 103
        }
      ]
    },
    {
      "cell_type": "code",
      "metadata": {
        "colab": {
          "base_uri": "https://localhost:8080/",
          "height": 120
        },
        "id": "aY2Qp8-DgOYo",
        "outputId": "7364ebb2-1eba-42fb-e272-ed58670cf216"
      },
      "source": [
        "lop.graph_performance_student_list_test(df_performance_list,'list')"
      ],
      "execution_count": null,
      "outputs": [
        {
          "output_type": "execute_result",
          "data": {
            "application/vnd.google.colaboratory.intrinsic+json": {
              "type": "string"
            },
            "text/plain": [
              "'[{\"user\":\"Allef Vinicius \",\"registration\":\" 20180069714\",\"list\":\"IMD0012 - 2020.6: Lista Obrigatória, Semana 1\",\"medialist\":100.0},{\"user\":\"Allef Vinicius \",\"registration\":\" 20180069714\",\"list\":\"ITP - Strings - Lista\",\"medialist\":100.0},{\"user\":\"Allef Vinicius \",\"registration\":\" 20180069714\",\"list\":\"ITP - Ponteiros 2 -  Lista\",\"medialist\":50.0},{\"user\":\"Allef Vinicius \",\"registration\":\" 20180069714\",\"list\":\"ITP - Laços\",\"medialist\":100.0},{\"user\":\"Allef Vinicius \",\"registration\":\" 20180069714\",\"list\":\"ITP - Alocação dinâmica\",\"medialist\":66.6666666667},{\"user\":\"Allef Vinicius \",\"registration\":\" 20180069714\",\"list\":\"IMD0012 - 2020.6: Lista Preparatória, Semana 3\",\"medialist\":100.0},{\"user\":\"André Luiz Rodrigues Soares \",\"registration\":\" 20180001960\",\"list\":\"ITP - Recursão - Lista\",\"medialist\":100.0},{\"user\":\"André Luiz Rodrigues Soares \",\"registration\":\" 20180001960\",\"list\":\"ITP - Matriz - Lista\",\"medialist\":75.0},{\"user\":\"André Luiz Rodrigues Soares \",\"registration\":\" 20180001960\",\"list\":\"ITP - Funções - Lista\",\"medialist\":100.0},{\"user\":\"André Luiz Rodrigues Soares \",\"registration\":\" 20180001960\",\"list\":\"ITP - Strings - Lista\",\"medialist\":100.0},{\"user\":\"André Luiz Rodrigues Soares \",\"registration\":\" 20180001960\",\"list\":\"IMD0012 - 2020.6: Lista Preparatória, Semana 3\",\"medialist\":100.0},{\"user\":\"André Luiz Rodrigues Soares \",\"registration\":\" 20180001960\",\"list\":\"ITP - Laços\",\"medialist\":100.0},{\"user\":\"André Luiz Rodrigues Soares \",\"registration\":\" 20180001960\",\"list\":\"IMD0012 - 2020.6: Lista Obrigatória, Semana 1\",\"medialist\":100.0},{\"user\":\"Arthur Learth \",\"registration\":\" 20180071294\",\"list\":\"IMD0012 - 2020.6: Lista Obrigatória, Semana 1\",\"medialist\":26.6666666667},{\"user\":\"Daniel \",\"registration\":\" 20190046016\",\"list\":\"ITP - Alocação dinâmica\",\"medialist\":33.3333333333},{\"user\":\"Deborah Dantas \",\"registration\":\" 20190036691\",\"list\":\"IMD0012 - 2020.6: Lista Obrigatória, Semana 1\",\"medialist\":100.0},{\"user\":\"Deborah Dantas \",\"registration\":\" 20190036691\",\"list\":\"IMD0012 - 2020.6: Lista Preparatória, Semana 3\",\"medialist\":6.25},{\"user\":\"Deborah Dantas \",\"registration\":\" 20190036691\",\"list\":\"ITP - Laços\",\"medialist\":25.0},{\"user\":\"Dimitri Lima \",\"registration\":\" Ufrn\",\"list\":\"IMD0012 - 2020.6: Lista Obrigatória, Semana 1\",\"medialist\":66.6666666667},{\"user\":\"Felipe Costa \",\"registration\":\" 20190043453\",\"list\":\"IMD0012 - 2020.6: Lista Obrigatória, Semana 1\",\"medialist\":100.0},{\"user\":\"Felipe Costa \",\"registration\":\" 20190043453\",\"list\":\"ITP - Recursão - Lista\",\"medialist\":100.0},{\"user\":\"Felipe Costa \",\"registration\":\" 20190043453\",\"list\":\"ITP - Laços\",\"medialist\":100.0},{\"user\":\"Felipe Costa \",\"registration\":\" 20190043453\",\"list\":\"ITP - Matriz - Lista\",\"medialist\":100.0},{\"user\":\"Felipe Costa \",\"registration\":\" 20190043453\",\"list\":\"IMD0012 - 2020.6: Lista Preparatória, Semana 3\",\"medialist\":100.0},{\"user\":\"Felipe Costa \",\"registration\":\" 20190043453\",\"list\":\"ITP - Funções - Lista\",\"medialist\":100.0},{\"user\":\"Felipe Costa \",\"registration\":\" 20190043453\",\"list\":\"ITP - Strings - Lista\",\"medialist\":100.0},{\"user\":\"Gabriel Bassani \",\"registration\":\" 20190043794\",\"list\":\"ITP - Laços\",\"medialist\":25.0},{\"user\":\"Gabriel Bassani \",\"registration\":\" 20190043794\",\"list\":\"ITP - Alocação dinâmica\",\"medialist\":13.3333333333},{\"user\":\"Gabriel Bassani \",\"registration\":\" 20190043794\",\"list\":\"IMD0012 - 2020.6: Lista Obrigatória, Semana 1\",\"medialist\":100.0},{\"user\":\"Gabriel Vinícius Lima da Costa Medeiros \",\"registration\":\" 20190041978\",\"list\":\"ITP - Laços\",\"medialist\":100.0},{\"user\":\"Gabriel Vinícius Lima da Costa Medeiros \",\"registration\":\" 20190041978\",\"list\":\"IMD0012 - 2020.6: Lista Obrigatória, Semana 1\",\"medialist\":100.0},{\"user\":\"Gabriel Vinícius Lima da Costa Medeiros \",\"registration\":\" 20190041978\",\"list\":\"IMD0012 - 2020.6: Lista Preparatória, Semana 3\",\"medialist\":50.0},{\"user\":\"Guilherme Augusto Santana de Lima \",\"registration\":\" 20190044138\",\"list\":\"ITP - Laços\",\"medialist\":100.0},{\"user\":\"Guilherme Augusto Santana de Lima \",\"registration\":\" 20190044138\",\"list\":\"IMD0012 - 2020.6: Lista Obrigatória, Semana 1\",\"medialist\":33.3333333333},{\"user\":\"Jackson D \",\"registration\":\" 20200038945\",\"list\":\"IMD0012 - 2020.6: Lista Obrigatória, Semana 1\",\"medialist\":100.0},{\"user\":\"Joao Victor Leandro \",\"registration\":\" 20190146693\",\"list\":\"IMD0012 - 2020.6: Lista Obrigatória, Semana 1\",\"medialist\":0.0},{\"user\":\"João Gabriel Trindade \",\"registration\":\" 20190010588\",\"list\":\"ITP - Alocação dinâmica\",\"medialist\":33.3333333333},{\"user\":\"João Gabriel Trindade \",\"registration\":\" 20190010588\",\"list\":\"ITP - Laços\",\"medialist\":100.0},{\"user\":\"João Gabriel Trindade \",\"registration\":\" 20190010588\",\"list\":\"ITP - Strings - Lista\",\"medialist\":0.0},{\"user\":\"João Gabriel Trindade \",\"registration\":\" 20190010588\",\"list\":\"ITP - Funções - Lista\",\"medialist\":50.0},{\"user\":\"João Gabriel Trindade \",\"registration\":\" 20190010588\",\"list\":\"ITP - Matriz - Lista\",\"medialist\":25.0},{\"user\":\"João Gabriel Trindade \",\"registration\":\" 20190010588\",\"list\":\"IMD0012 - 2020.6: Lista Preparatória, Semana 3\",\"medialist\":43.75},{\"user\":\"João Gabriel Trindade \",\"registration\":\" 20190010588\",\"list\":\"IMD0012 - 2020.6: Lista Obrigatória, Semana 1\",\"medialist\":100.0},{\"user\":\"João Maria Mauricio \",\"registration\":\" 20180118944\",\"list\":\"ITP - Laços\",\"medialist\":100.0},{\"user\":\"João Maria Mauricio \",\"registration\":\" 20180118944\",\"list\":\"IMD0012 - 2020.6: Lista Obrigatória, Semana 1\",\"medialist\":100.0},{\"user\":\"Lucas da Costa Fontes \",\"registration\":\" 20180122141\",\"list\":\"IMD0012 - 2020.6: Lista Obrigatória, Semana 1\",\"medialist\":100.0},{\"user\":\"Lucas da Costa Fontes \",\"registration\":\" 20180122141\",\"list\":\"ITP - Laços\",\"medialist\":100.0},{\"user\":\"Luiz Paulo Assis Cavalcante de Freitas \",\"registration\":\" 20190103408\",\"list\":\"ITP - Laços\",\"medialist\":100.0},{\"user\":\"Luiz Paulo Assis Cavalcante de Freitas \",\"registration\":\" 20190103408\",\"list\":\"IMD0012 - 2020.6: Lista Obrigatória, Semana 1\",\"medialist\":100.0},{\"user\":\"Matheus Henrique Fonseca Valerio \",\"registration\":\" 20180063597\",\"list\":\"IMD0012 - 2020.6: Lista Obrigatória, Semana 1\",\"medialist\":66.6666666667},{\"user\":\"Matheus Henrique Fonseca Valerio \",\"registration\":\" 20180063597\",\"list\":\"ITP - Laços\",\"medialist\":100.0},{\"user\":\"Matheus Henrique Fonseca Valerio \",\"registration\":\" 20180063597\",\"list\":\"ITP - Funções - Lista\",\"medialist\":50.0},{\"user\":\"Patrick Miguel Souza de Melo \",\"registration\":\" 20170068277\",\"list\":\"ITP - Laços\",\"medialist\":25.0},{\"user\":\"Patrick Miguel Souza de Melo \",\"registration\":\" 20170068277\",\"list\":\"IMD0012 - 2020.6: Lista Obrigatória, Semana 1\",\"medialist\":100.0},{\"user\":\"Paulo Carvalho \",\"registration\":\" 2016034522\",\"list\":\"IMD0012 - 2020.6: Lista Obrigatória, Semana 1\",\"medialist\":100.0},{\"user\":\"Paulo Carvalho \",\"registration\":\" 2016034522\",\"list\":\"ITP - Laços\",\"medialist\":100.0},{\"user\":\"Paulo Carvalho \",\"registration\":\" 2016034522\",\"list\":\"IMD0012 - 2020.6: Lista Preparatória, Semana 3\",\"medialist\":25.0},{\"user\":\"Paulo Víctor de Medeiros Andrade \",\"registration\":\" 20190003046\",\"list\":\"IMD0012 - 2020.6: Lista Obrigatória, Semana 1\",\"medialist\":33.3333333333},{\"user\":\"Paulo Víctor de Medeiros Andrade \",\"registration\":\" 20190003046\",\"list\":\"IMD0012 - 2020.6: Lista Preparatória, Semana 3\",\"medialist\":25.0},{\"user\":\"Pedro Garcia Pereira \",\"registration\":\" 20190040658\",\"list\":\"ITP - Funções - Lista\",\"medialist\":56.25},{\"user\":\"Pedro Garcia Pereira \",\"registration\":\" 20190040658\",\"list\":\"ITP - Ponteiros 1 - Lista\",\"medialist\":50.0},{\"user\":\"Pedro Garcia Pereira \",\"registration\":\" 20190040658\",\"list\":\"ITP - Alocação dinâmica\",\"medialist\":33.3333333333},{\"user\":\"Pedro Garcia Pereira \",\"registration\":\" 20190040658\",\"list\":\"ITP - Strings - Lista\",\"medialist\":100.0},{\"user\":\"Pedro Garcia Pereira \",\"registration\":\" 20190040658\",\"list\":\"IMD0012 - 2020.6: Lista Preparatória, Semana 3\",\"medialist\":100.0},{\"user\":\"Pedro Garcia Pereira \",\"registration\":\" 20190040658\",\"list\":\"ITP - Recursão - Lista\",\"medialist\":25.0},{\"user\":\"Pedro Garcia Pereira \",\"registration\":\" 20190040658\",\"list\":\"ITP - Laços\",\"medialist\":100.0},{\"user\":\"Pedro Garcia Pereira \",\"registration\":\" 20190040658\",\"list\":\"ITP - Matriz - Lista\",\"medialist\":100.0},{\"user\":\"Pedro Garcia Pereira \",\"registration\":\" 20190040658\",\"list\":\"IMD0012 - 2020.6: Lista Obrigatória, Semana 1\",\"medialist\":100.0},{\"user\":\"Pedro Garcia Pereira \",\"registration\":\" 20190040658\",\"list\":\"ITP - Structs e Enumerações - Lista\",\"medialist\":25.0},{\"user\":\"Pedro Henrique Dantas de Aragão Mendes \",\"registration\":\" 20190003681\",\"list\":\"IMD0012 - 2020.6: Lista Obrigatória, Semana 1\",\"medialist\":66.6666666667},{\"user\":\"Pedro Leite \",\"registration\":\" 20190000830\",\"list\":\"ITP - Funções - Lista\",\"medialist\":25.0},{\"user\":\"Pedro Leite \",\"registration\":\" 20190000830\",\"list\":\"ITP - Alocação dinâmica\",\"medialist\":60.0},{\"user\":\"Pedro Leite \",\"registration\":\" 20190000830\",\"list\":\"IMD0012 - 2020.6: Lista Obrigatória, Semana 1\",\"medialist\":100.0},{\"user\":\"Samuel Souza \",\"registration\":\" 20200046160\",\"list\":\"ITP - Alocação dinâmica\",\"medialist\":100.0},{\"user\":\"Samuel Souza \",\"registration\":\" 20200046160\",\"list\":\"IMD0012 - 2020.6: Lista Obrigatória, Semana 1\",\"medialist\":100.0},{\"user\":\"Tales Vinícius de Medeiros Alves \",\"registration\":\" 20200040685\",\"list\":\"ITP - Matriz - Lista\",\"medialist\":100.0},{\"user\":\"Tales Vinícius de Medeiros Alves \",\"registration\":\" 20200040685\",\"list\":\"ITP - Ponteiros 1 - Lista\",\"medialist\":75.0},{\"user\":\"Tales Vinícius de Medeiros Alves \",\"registration\":\" 20200040685\",\"list\":\"ITP - Funções - Lista\",\"medialist\":100.0},{\"user\":\"Tales Vinícius de Medeiros Alves \",\"registration\":\" 20200040685\",\"list\":\"ITP - Structs e Enumerações - Lista\",\"medialist\":25.0},{\"user\":\"Tales Vinícius de Medeiros Alves \",\"registration\":\" 20200040685\",\"list\":\"ITP - Strings - Lista\",\"medialist\":100.0},{\"user\":\"Tales Vinícius de Medeiros Alves \",\"registration\":\" 20200040685\",\"list\":\"ITP - Laços\",\"medialist\":100.0},{\"user\":\"Tales Vinícius de Medeiros Alves \",\"registration\":\" 20200040685\",\"list\":\"IMD0012 - 2020.6: Lista Obrigatória, Semana 1\",\"medialist\":100.0},{\"user\":\"Tales Vinícius de Medeiros Alves \",\"registration\":\" 20200040685\",\"list\":\"IMD0012 - 2020.6: Lista Preparatória, Semana 3\",\"medialist\":100.0},{\"user\":\"Vitória Morais \",\"registration\":\" 20190046571\",\"list\":\"ITP - Laços\",\"medialist\":100.0},{\"user\":\"Vitória Morais \",\"registration\":\" 20190046571\",\"list\":\"IMD0012 - 2020.6: Lista Obrigatória, Semana 1\",\"medialist\":100.0},{\"user\":\"Vitória Morais \",\"registration\":\" 20190046571\",\"list\":\"ITP - Matriz - Lista\",\"medialist\":0.0},{\"user\":\"Vitória Morais \",\"registration\":\" 20190046571\",\"list\":\"IMD0012 - 2020.6: Lista Preparatória, Semana 3\",\"medialist\":50.0},{\"user\":\"Vítor Dantas Costa \",\"registration\":\" 20190146700\",\"list\":\"ITP - Strings - Lista\",\"medialist\":100.0},{\"user\":\"Vítor Dantas Costa \",\"registration\":\" 20190146700\",\"list\":\"ITP - Laços\",\"medialist\":100.0},{\"user\":\"Vítor Dantas Costa \",\"registration\":\" 20190146700\",\"list\":\"ITP - Funções - Lista\",\"medialist\":100.0},{\"user\":\"Vítor Dantas Costa \",\"registration\":\" 20190146700\",\"list\":\"IMD0012 - 2020.6: Lista Obrigatória, Semana 1\",\"medialist\":100.0},{\"user\":\"Vítor Dantas Costa \",\"registration\":\" 20190146700\",\"list\":\"ITP - Ponteiros 2 -  Lista\",\"medialist\":0.0},{\"user\":\"Vítor Dantas Costa \",\"registration\":\" 20190146700\",\"list\":\"ITP - Ponteiros 1 - Lista\",\"medialist\":50.0},{\"user\":\"Vítor Dantas Costa \",\"registration\":\" 20190146700\",\"list\":\"IMD0012 - 2020.6: Lista Preparatória, Semana 3\",\"medialist\":100.0},{\"user\":\"Vítor Dantas Costa \",\"registration\":\" 20190146700\",\"list\":\"ITP - Matriz - Lista\",\"medialist\":87.5},{\"user\":\"alyssonblack \",\"registration\":\" 20170070435\",\"list\":\"IMD0012 - 2020.6: Lista Obrigatória, Semana 1\",\"medialist\":100.0},{\"user\":\"ellen Melo \",\"registration\":\" 20190105224\",\"list\":\"IMD0012 - 2020.6: Lista Preparatória, Semana 3\",\"medialist\":12.5},{\"user\":\"ellen Melo \",\"registration\":\" 20190105224\",\"list\":\"ITP - Laços\",\"medialist\":100.0},{\"user\":\"ellen Melo \",\"registration\":\" 20190105224\",\"list\":\"IMD0012 - 2020.6: Lista Obrigatória, Semana 1\",\"medialist\":100.0},{\"user\":\"enzo lopes danjour de souza \",\"registration\":\" 20190035658\",\"list\":\"IMD0012 - 2020.6: Lista Obrigatória, Semana 1\",\"medialist\":100.0},{\"user\":\"enzo lopes danjour de souza \",\"registration\":\" 20190035658\",\"list\":\"ITP - Laços\",\"medialist\":100.0},{\"user\":\"enzo lopes danjour de souza \",\"registration\":\" 20190035658\",\"list\":\"IMD0012 - 2020.6: Lista Preparatória, Semana 3\",\"medialist\":75.0},{\"user\":\"marciotenorio \",\"registration\":\" 20180119880\",\"list\":\"ITP - Funções - Lista\",\"medialist\":25.0},{\"user\":\"marciotenorio \",\"registration\":\" 20180119880\",\"list\":\"ITP - Strings - Lista\",\"medialist\":25.0}]'"
            ]
          },
          "metadata": {
            "tags": []
          },
          "execution_count": 56
        }
      ]
    },
    {
      "cell_type": "code",
      "metadata": {
        "id": "AjnZqQF3-JZD"
      },
      "source": [
        "import pandas as pd"
      ],
      "execution_count": null,
      "outputs": []
    },
    {
      "cell_type": "code",
      "metadata": {
        "id": "SYStgaSp_v10"
      },
      "source": [
        "import requests"
      ],
      "execution_count": null,
      "outputs": []
    },
    {
      "cell_type": "code",
      "metadata": {
        "id": "iHKnjBCM-EJ5"
      },
      "source": [
        "data = pd.DataFrame(['b5413cd7-4f61-4241-aad8-23740bab604f'], columns = ['id_class']).to_json(orient='records')"
      ],
      "execution_count": null,
      "outputs": []
    },
    {
      "cell_type": "code",
      "metadata": {
        "id": "G9XmohuMWZaJ"
      },
      "source": [
        "kk = 2323"
      ],
      "execution_count": 1,
      "outputs": []
    },
    {
      "cell_type": "code",
      "metadata": {
        "colab": {
          "base_uri": "https://localhost:8080/"
        },
        "id": "_jTq3x5EWdEm",
        "outputId": "080a9a44-5393-4bab-d123-b22351f13a56"
      },
      "source": [
        "type(kk)"
      ],
      "execution_count": 2,
      "outputs": [
        {
          "output_type": "execute_result",
          "data": {
            "text/plain": [
              "int"
            ]
          },
          "metadata": {
            "tags": []
          },
          "execution_count": 2
        }
      ]
    },
    {
      "cell_type": "code",
      "metadata": {
        "colab": {
          "base_uri": "https://localhost:8080/",
          "height": 35
        },
        "id": "5_JY44YN17kt",
        "outputId": "888a251e-4474-4259-e437-e461690420ad"
      },
      "source": [
        "data"
      ],
      "execution_count": null,
      "outputs": [
        {
          "output_type": "execute_result",
          "data": {
            "application/vnd.google.colaboratory.intrinsic+json": {
              "type": "string"
            },
            "text/plain": [
              "'[{\"id_class\":\"b5413cd7-4f61-4241-aad8-23740bab604f\"}]'"
            ]
          },
          "metadata": {
            "tags": []
          },
          "execution_count": 45
        }
      ]
    },
    {
      "cell_type": "code",
      "metadata": {
        "colab": {
          "base_uri": "https://localhost:8080/",
          "height": 80
        },
        "id": "W_3yX0KO1KAU",
        "outputId": "b23217d1-ecfd-46db-e86c-7f6680d5cd38"
      },
      "source": [
        "pd.read_json(data)"
      ],
      "execution_count": null,
      "outputs": [
        {
          "output_type": "execute_result",
          "data": {
            "text/html": [
              "<div>\n",
              "<style scoped>\n",
              "    .dataframe tbody tr th:only-of-type {\n",
              "        vertical-align: middle;\n",
              "    }\n",
              "\n",
              "    .dataframe tbody tr th {\n",
              "        vertical-align: top;\n",
              "    }\n",
              "\n",
              "    .dataframe thead th {\n",
              "        text-align: right;\n",
              "    }\n",
              "</style>\n",
              "<table border=\"1\" class=\"dataframe\">\n",
              "  <thead>\n",
              "    <tr style=\"text-align: right;\">\n",
              "      <th></th>\n",
              "      <th>id_class</th>\n",
              "    </tr>\n",
              "  </thead>\n",
              "  <tbody>\n",
              "    <tr>\n",
              "      <th>0</th>\n",
              "      <td>b5413cd7-4f61-4241-aad8-23740bab604f</td>\n",
              "    </tr>\n",
              "  </tbody>\n",
              "</table>\n",
              "</div>"
            ],
            "text/plain": [
              "                               id_class\n",
              "0  b5413cd7-4f61-4241-aad8-23740bab604f"
            ]
          },
          "metadata": {
            "tags": []
          },
          "execution_count": 15
        }
      ]
    },
    {
      "cell_type": "code",
      "metadata": {
        "id": "hi4x9WqO1yEs"
      },
      "source": [
        "url = 'https://restapidataview.herokuapp.com/post_graphs'\r\n",
        "url2 = 'https://restapidataview.herokuapp.com/post_submission'\r\n",
        "url3 = 'https://restapidataview.herokuapp.com/get_question_data'\r\n",
        "url4 = 'https://restapidataview.herokuapp.com/get_class'"
      ],
      "execution_count": null,
      "outputs": []
    },
    {
      "cell_type": "code",
      "metadata": {
        "id": "AApPXS8FTW6G"
      },
      "source": [
        "url5 = 'https://restapidataview.herokuapp.com/graphs'\r\n",
        "url6 = 'https://restapidataview.herokuapp.com/test_json'"
      ],
      "execution_count": null,
      "outputs": []
    },
    {
      "cell_type": "code",
      "metadata": {
        "id": "1wyTEMOIDfWN"
      },
      "source": [
        "url2 = 'http://localhost:5000'"
      ],
      "execution_count": null,
      "outputs": []
    },
    {
      "cell_type": "code",
      "metadata": {
        "id": "KuT1YU0F14zA"
      },
      "source": [
        "header = {'Content-type':'application/json'}"
      ],
      "execution_count": null,
      "outputs": []
    },
    {
      "cell_type": "code",
      "metadata": {
        "id": "_1YP1Kg5vwmQ"
      },
      "source": [
        "import urllib3"
      ],
      "execution_count": null,
      "outputs": []
    },
    {
      "cell_type": "code",
      "metadata": {
        "colab": {
          "background_save": true
        },
        "id": "W3pH2Qu0MO8O"
      },
      "source": [
        "http = urllib3.PoolManager()\r\n",
        "req = http.request('POST',url6,\r\n",
        "                    body=json.dumps(data),\r\n",
        "    headers={'Content-Type': 'application/json'})"
      ],
      "execution_count": null,
      "outputs": []
    },
    {
      "cell_type": "code",
      "metadata": {
        "colab": {
          "base_uri": "https://localhost:8080/",
          "height": 35
        },
        "id": "lpVBWOHRMnTQ",
        "outputId": "6e3e491d-8976-4541-e0db-785d7e3c0360"
      },
      "source": [
        "url4"
      ],
      "execution_count": null,
      "outputs": [
        {
          "output_type": "execute_result",
          "data": {
            "application/vnd.google.colaboratory.intrinsic+json": {
              "type": "string"
            },
            "text/plain": [
              "'https://restapidataview.herokuapp.com/get_class'"
            ]
          },
          "metadata": {
            "tags": []
          },
          "execution_count": 57
        }
      ]
    },
    {
      "cell_type": "code",
      "metadata": {
        "id": "uAYUoCRIsJaT"
      },
      "source": [
        "http = urllib3.PoolManager()\r\n",
        "req2 = http.request('GET',url4,                \r\n",
        "    headers={'Content-Type': 'application/json'})"
      ],
      "execution_count": null,
      "outputs": []
    },
    {
      "cell_type": "code",
      "metadata": {
        "colab": {
          "base_uri": "https://localhost:8080/"
        },
        "id": "Nr_hTjqPMaKU",
        "outputId": "6717d99d-849a-465e-c827-f145c13fdcb3"
      },
      "source": [
        "req.status"
      ],
      "execution_count": null,
      "outputs": [
        {
          "output_type": "execute_result",
          "data": {
            "text/plain": [
              "200"
            ]
          },
          "metadata": {
            "tags": []
          },
          "execution_count": 16
        }
      ]
    },
    {
      "cell_type": "code",
      "metadata": {
        "colab": {
          "base_uri": "https://localhost:8080/",
          "height": 35
        },
        "id": "kQ1brUNLMc0S",
        "outputId": "8a84d4bc-14a1-449d-82a0-3c31a0884d85"
      },
      "source": [
        "json.loads(req.data)"
      ],
      "execution_count": null,
      "outputs": [
        {
          "output_type": "execute_result",
          "data": {
            "application/vnd.google.colaboratory.intrinsic+json": {
              "type": "string"
            },
            "text/plain": [
              "'{\"g1\":[{123}],\"g2\":[{456}],\"g3\":[{789}]}'"
            ]
          },
          "metadata": {
            "tags": []
          },
          "execution_count": 18
        }
      ]
    },
    {
      "cell_type": "code",
      "metadata": {
        "colab": {
          "base_uri": "https://localhost:8080/"
        },
        "id": "Q1YugZ9rQ7Qz",
        "outputId": "b5f24ed5-31f1-42ac-f1f7-cbf3a8fcefa3"
      },
      "source": [
        "req.status"
      ],
      "execution_count": null,
      "outputs": [
        {
          "output_type": "execute_result",
          "data": {
            "text/plain": [
              "503"
            ]
          },
          "metadata": {
            "tags": []
          },
          "execution_count": 63
        }
      ]
    },
    {
      "cell_type": "code",
      "metadata": {
        "colab": {
          "base_uri": "https://localhost:8080/"
        },
        "id": "oAy_uPa1bqmO",
        "outputId": "ce1c4af2-e362-4b22-f257-0e7343c2fcf5"
      },
      "source": [
        "req.data"
      ],
      "execution_count": null,
      "outputs": [
        {
          "output_type": "execute_result",
          "data": {
            "text/plain": [
              "b'<!DOCTYPE html>\\n\\t<html>\\n\\t  <head>\\n\\t\\t<meta name=\"viewport\" content=\"width=device-width, initial-scale=1\">\\n\\t\\t<meta charset=\"utf-8\">\\n\\t\\t<title>Application Error</title>\\n\\t\\t<style media=\"screen\">\\n\\t\\t  html,body,iframe {\\n\\t\\t\\tmargin: 0;\\n\\t\\t\\tpadding: 0;\\n\\t\\t  }\\n\\t\\t  html,body {\\n\\t\\t\\theight: 100%;\\n\\t\\t\\toverflow: hidden;\\n\\t\\t  }\\n\\t\\t  iframe {\\n\\t\\t\\twidth: 100%;\\n\\t\\t\\theight: 100%;\\n\\t\\t\\tborder: 0;\\n\\t\\t  }\\n\\t\\t</style>\\n\\t  </head>\\n\\t  <body>\\n\\t\\t<iframe src=\"//www.herokucdn.com/error-pages/application-error.html\"></iframe>\\n\\t  </body>\\n\\t</html>'"
            ]
          },
          "metadata": {
            "tags": []
          },
          "execution_count": 64
        }
      ]
    },
    {
      "cell_type": "code",
      "metadata": {
        "colab": {
          "base_uri": "https://localhost:8080/",
          "height": 120
        },
        "id": "6XJpYXSAje15",
        "outputId": "7b8dd002-99b2-4944-d791-c6bc08939b9a"
      },
      "source": [
        "lop.graph_performance_student_list_test(df_performance_list,'list')"
      ],
      "execution_count": null,
      "outputs": [
        {
          "output_type": "execute_result",
          "data": {
            "application/vnd.google.colaboratory.intrinsic+json": {
              "type": "string"
            },
            "text/plain": [
              "'[{\"user\":\"Allef Vinicius \",\"registration\":\" 20180069714\",\"list\":\"IMD0012 - 2020.6: Lista Obrigatória, Semana 1\",\"medialist\":100.0},{\"user\":\"Allef Vinicius \",\"registration\":\" 20180069714\",\"list\":\"ITP - Strings - Lista\",\"medialist\":100.0},{\"user\":\"Allef Vinicius \",\"registration\":\" 20180069714\",\"list\":\"ITP - Ponteiros 2 -  Lista\",\"medialist\":50.0},{\"user\":\"Allef Vinicius \",\"registration\":\" 20180069714\",\"list\":\"ITP - Laços\",\"medialist\":100.0},{\"user\":\"Allef Vinicius \",\"registration\":\" 20180069714\",\"list\":\"ITP - Alocação dinâmica\",\"medialist\":66.6666666667},{\"user\":\"Allef Vinicius \",\"registration\":\" 20180069714\",\"list\":\"IMD0012 - 2020.6: Lista Preparatória, Semana 3\",\"medialist\":100.0},{\"user\":\"André Luiz Rodrigues Soares \",\"registration\":\" 20180001960\",\"list\":\"ITP - Recursão - Lista\",\"medialist\":100.0},{\"user\":\"André Luiz Rodrigues Soares \",\"registration\":\" 20180001960\",\"list\":\"ITP - Matriz - Lista\",\"medialist\":75.0},{\"user\":\"André Luiz Rodrigues Soares \",\"registration\":\" 20180001960\",\"list\":\"ITP - Funções - Lista\",\"medialist\":100.0},{\"user\":\"André Luiz Rodrigues Soares \",\"registration\":\" 20180001960\",\"list\":\"ITP - Strings - Lista\",\"medialist\":100.0},{\"user\":\"André Luiz Rodrigues Soares \",\"registration\":\" 20180001960\",\"list\":\"IMD0012 - 2020.6: Lista Preparatória, Semana 3\",\"medialist\":100.0},{\"user\":\"André Luiz Rodrigues Soares \",\"registration\":\" 20180001960\",\"list\":\"ITP - Laços\",\"medialist\":100.0},{\"user\":\"André Luiz Rodrigues Soares \",\"registration\":\" 20180001960\",\"list\":\"IMD0012 - 2020.6: Lista Obrigatória, Semana 1\",\"medialist\":100.0},{\"user\":\"Arthur Learth \",\"registration\":\" 20180071294\",\"list\":\"IMD0012 - 2020.6: Lista Obrigatória, Semana 1\",\"medialist\":26.6666666667},{\"user\":\"Daniel \",\"registration\":\" 20190046016\",\"list\":\"ITP - Alocação dinâmica\",\"medialist\":33.3333333333},{\"user\":\"Deborah Dantas \",\"registration\":\" 20190036691\",\"list\":\"IMD0012 - 2020.6: Lista Obrigatória, Semana 1\",\"medialist\":100.0},{\"user\":\"Deborah Dantas \",\"registration\":\" 20190036691\",\"list\":\"IMD0012 - 2020.6: Lista Preparatória, Semana 3\",\"medialist\":6.25},{\"user\":\"Deborah Dantas \",\"registration\":\" 20190036691\",\"list\":\"ITP - Laços\",\"medialist\":25.0},{\"user\":\"Dimitri Lima \",\"registration\":\" Ufrn\",\"list\":\"IMD0012 - 2020.6: Lista Obrigatória, Semana 1\",\"medialist\":66.6666666667},{\"user\":\"Felipe Costa \",\"registration\":\" 20190043453\",\"list\":\"IMD0012 - 2020.6: Lista Obrigatória, Semana 1\",\"medialist\":100.0},{\"user\":\"Felipe Costa \",\"registration\":\" 20190043453\",\"list\":\"ITP - Recursão - Lista\",\"medialist\":100.0},{\"user\":\"Felipe Costa \",\"registration\":\" 20190043453\",\"list\":\"ITP - Laços\",\"medialist\":100.0},{\"user\":\"Felipe Costa \",\"registration\":\" 20190043453\",\"list\":\"ITP - Matriz - Lista\",\"medialist\":100.0},{\"user\":\"Felipe Costa \",\"registration\":\" 20190043453\",\"list\":\"IMD0012 - 2020.6: Lista Preparatória, Semana 3\",\"medialist\":100.0},{\"user\":\"Felipe Costa \",\"registration\":\" 20190043453\",\"list\":\"ITP - Funções - Lista\",\"medialist\":100.0},{\"user\":\"Felipe Costa \",\"registration\":\" 20190043453\",\"list\":\"ITP - Strings - Lista\",\"medialist\":100.0},{\"user\":\"Gabriel Bassani \",\"registration\":\" 20190043794\",\"list\":\"ITP - Laços\",\"medialist\":25.0},{\"user\":\"Gabriel Bassani \",\"registration\":\" 20190043794\",\"list\":\"ITP - Alocação dinâmica\",\"medialist\":13.3333333333},{\"user\":\"Gabriel Bassani \",\"registration\":\" 20190043794\",\"list\":\"IMD0012 - 2020.6: Lista Obrigatória, Semana 1\",\"medialist\":100.0},{\"user\":\"Gabriel Vinícius Lima da Costa Medeiros \",\"registration\":\" 20190041978\",\"list\":\"ITP - Laços\",\"medialist\":100.0},{\"user\":\"Gabriel Vinícius Lima da Costa Medeiros \",\"registration\":\" 20190041978\",\"list\":\"IMD0012 - 2020.6: Lista Obrigatória, Semana 1\",\"medialist\":100.0},{\"user\":\"Gabriel Vinícius Lima da Costa Medeiros \",\"registration\":\" 20190041978\",\"list\":\"IMD0012 - 2020.6: Lista Preparatória, Semana 3\",\"medialist\":50.0},{\"user\":\"Guilherme Augusto Santana de Lima \",\"registration\":\" 20190044138\",\"list\":\"ITP - Laços\",\"medialist\":100.0},{\"user\":\"Guilherme Augusto Santana de Lima \",\"registration\":\" 20190044138\",\"list\":\"IMD0012 - 2020.6: Lista Obrigatória, Semana 1\",\"medialist\":33.3333333333},{\"user\":\"Jackson D \",\"registration\":\" 20200038945\",\"list\":\"IMD0012 - 2020.6: Lista Obrigatória, Semana 1\",\"medialist\":100.0},{\"user\":\"Joao Victor Leandro \",\"registration\":\" 20190146693\",\"list\":\"IMD0012 - 2020.6: Lista Obrigatória, Semana 1\",\"medialist\":0.0},{\"user\":\"João Gabriel Trindade \",\"registration\":\" 20190010588\",\"list\":\"ITP - Alocação dinâmica\",\"medialist\":33.3333333333},{\"user\":\"João Gabriel Trindade \",\"registration\":\" 20190010588\",\"list\":\"ITP - Laços\",\"medialist\":100.0},{\"user\":\"João Gabriel Trindade \",\"registration\":\" 20190010588\",\"list\":\"ITP - Strings - Lista\",\"medialist\":0.0},{\"user\":\"João Gabriel Trindade \",\"registration\":\" 20190010588\",\"list\":\"ITP - Funções - Lista\",\"medialist\":50.0},{\"user\":\"João Gabriel Trindade \",\"registration\":\" 20190010588\",\"list\":\"ITP - Matriz - Lista\",\"medialist\":25.0},{\"user\":\"João Gabriel Trindade \",\"registration\":\" 20190010588\",\"list\":\"IMD0012 - 2020.6: Lista Preparatória, Semana 3\",\"medialist\":43.75},{\"user\":\"João Gabriel Trindade \",\"registration\":\" 20190010588\",\"list\":\"IMD0012 - 2020.6: Lista Obrigatória, Semana 1\",\"medialist\":100.0},{\"user\":\"João Maria Mauricio \",\"registration\":\" 20180118944\",\"list\":\"ITP - Laços\",\"medialist\":100.0},{\"user\":\"João Maria Mauricio \",\"registration\":\" 20180118944\",\"list\":\"IMD0012 - 2020.6: Lista Obrigatória, Semana 1\",\"medialist\":100.0},{\"user\":\"Lucas da Costa Fontes \",\"registration\":\" 20180122141\",\"list\":\"IMD0012 - 2020.6: Lista Obrigatória, Semana 1\",\"medialist\":100.0},{\"user\":\"Lucas da Costa Fontes \",\"registration\":\" 20180122141\",\"list\":\"ITP - Laços\",\"medialist\":100.0},{\"user\":\"Luiz Paulo Assis Cavalcante de Freitas \",\"registration\":\" 20190103408\",\"list\":\"ITP - Laços\",\"medialist\":100.0},{\"user\":\"Luiz Paulo Assis Cavalcante de Freitas \",\"registration\":\" 20190103408\",\"list\":\"IMD0012 - 2020.6: Lista Obrigatória, Semana 1\",\"medialist\":100.0},{\"user\":\"Matheus Henrique Fonseca Valerio \",\"registration\":\" 20180063597\",\"list\":\"IMD0012 - 2020.6: Lista Obrigatória, Semana 1\",\"medialist\":66.6666666667},{\"user\":\"Matheus Henrique Fonseca Valerio \",\"registration\":\" 20180063597\",\"list\":\"ITP - Laços\",\"medialist\":100.0},{\"user\":\"Matheus Henrique Fonseca Valerio \",\"registration\":\" 20180063597\",\"list\":\"ITP - Funções - Lista\",\"medialist\":50.0},{\"user\":\"Patrick Miguel Souza de Melo \",\"registration\":\" 20170068277\",\"list\":\"ITP - Laços\",\"medialist\":25.0},{\"user\":\"Patrick Miguel Souza de Melo \",\"registration\":\" 20170068277\",\"list\":\"IMD0012 - 2020.6: Lista Obrigatória, Semana 1\",\"medialist\":100.0},{\"user\":\"Paulo Carvalho \",\"registration\":\" 2016034522\",\"list\":\"IMD0012 - 2020.6: Lista Obrigatória, Semana 1\",\"medialist\":100.0},{\"user\":\"Paulo Carvalho \",\"registration\":\" 2016034522\",\"list\":\"ITP - Laços\",\"medialist\":100.0},{\"user\":\"Paulo Carvalho \",\"registration\":\" 2016034522\",\"list\":\"IMD0012 - 2020.6: Lista Preparatória, Semana 3\",\"medialist\":25.0},{\"user\":\"Paulo Víctor de Medeiros Andrade \",\"registration\":\" 20190003046\",\"list\":\"IMD0012 - 2020.6: Lista Obrigatória, Semana 1\",\"medialist\":33.3333333333},{\"user\":\"Paulo Víctor de Medeiros Andrade \",\"registration\":\" 20190003046\",\"list\":\"IMD0012 - 2020.6: Lista Preparatória, Semana 3\",\"medialist\":25.0},{\"user\":\"Pedro Garcia Pereira \",\"registration\":\" 20190040658\",\"list\":\"ITP - Funções - Lista\",\"medialist\":56.25},{\"user\":\"Pedro Garcia Pereira \",\"registration\":\" 20190040658\",\"list\":\"ITP - Ponteiros 1 - Lista\",\"medialist\":50.0},{\"user\":\"Pedro Garcia Pereira \",\"registration\":\" 20190040658\",\"list\":\"ITP - Alocação dinâmica\",\"medialist\":33.3333333333},{\"user\":\"Pedro Garcia Pereira \",\"registration\":\" 20190040658\",\"list\":\"ITP - Strings - Lista\",\"medialist\":100.0},{\"user\":\"Pedro Garcia Pereira \",\"registration\":\" 20190040658\",\"list\":\"IMD0012 - 2020.6: Lista Preparatória, Semana 3\",\"medialist\":100.0},{\"user\":\"Pedro Garcia Pereira \",\"registration\":\" 20190040658\",\"list\":\"ITP - Recursão - Lista\",\"medialist\":25.0},{\"user\":\"Pedro Garcia Pereira \",\"registration\":\" 20190040658\",\"list\":\"ITP - Laços\",\"medialist\":100.0},{\"user\":\"Pedro Garcia Pereira \",\"registration\":\" 20190040658\",\"list\":\"ITP - Matriz - Lista\",\"medialist\":100.0},{\"user\":\"Pedro Garcia Pereira \",\"registration\":\" 20190040658\",\"list\":\"IMD0012 - 2020.6: Lista Obrigatória, Semana 1\",\"medialist\":100.0},{\"user\":\"Pedro Garcia Pereira \",\"registration\":\" 20190040658\",\"list\":\"ITP - Structs e Enumerações - Lista\",\"medialist\":25.0},{\"user\":\"Pedro Henrique Dantas de Aragão Mendes \",\"registration\":\" 20190003681\",\"list\":\"IMD0012 - 2020.6: Lista Obrigatória, Semana 1\",\"medialist\":66.6666666667},{\"user\":\"Pedro Leite \",\"registration\":\" 20190000830\",\"list\":\"ITP - Funções - Lista\",\"medialist\":25.0},{\"user\":\"Pedro Leite \",\"registration\":\" 20190000830\",\"list\":\"ITP - Alocação dinâmica\",\"medialist\":60.0},{\"user\":\"Pedro Leite \",\"registration\":\" 20190000830\",\"list\":\"IMD0012 - 2020.6: Lista Obrigatória, Semana 1\",\"medialist\":100.0},{\"user\":\"Samuel Souza \",\"registration\":\" 20200046160\",\"list\":\"ITP - Alocação dinâmica\",\"medialist\":100.0},{\"user\":\"Samuel Souza \",\"registration\":\" 20200046160\",\"list\":\"IMD0012 - 2020.6: Lista Obrigatória, Semana 1\",\"medialist\":100.0},{\"user\":\"Tales Vinícius de Medeiros Alves \",\"registration\":\" 20200040685\",\"list\":\"ITP - Matriz - Lista\",\"medialist\":100.0},{\"user\":\"Tales Vinícius de Medeiros Alves \",\"registration\":\" 20200040685\",\"list\":\"ITP - Ponteiros 1 - Lista\",\"medialist\":75.0},{\"user\":\"Tales Vinícius de Medeiros Alves \",\"registration\":\" 20200040685\",\"list\":\"ITP - Funções - Lista\",\"medialist\":100.0},{\"user\":\"Tales Vinícius de Medeiros Alves \",\"registration\":\" 20200040685\",\"list\":\"ITP - Structs e Enumerações - Lista\",\"medialist\":25.0},{\"user\":\"Tales Vinícius de Medeiros Alves \",\"registration\":\" 20200040685\",\"list\":\"ITP - Strings - Lista\",\"medialist\":100.0},{\"user\":\"Tales Vinícius de Medeiros Alves \",\"registration\":\" 20200040685\",\"list\":\"ITP - Laços\",\"medialist\":100.0},{\"user\":\"Tales Vinícius de Medeiros Alves \",\"registration\":\" 20200040685\",\"list\":\"IMD0012 - 2020.6: Lista Obrigatória, Semana 1\",\"medialist\":100.0},{\"user\":\"Tales Vinícius de Medeiros Alves \",\"registration\":\" 20200040685\",\"list\":\"IMD0012 - 2020.6: Lista Preparatória, Semana 3\",\"medialist\":100.0},{\"user\":\"Vitória Morais \",\"registration\":\" 20190046571\",\"list\":\"ITP - Laços\",\"medialist\":100.0},{\"user\":\"Vitória Morais \",\"registration\":\" 20190046571\",\"list\":\"IMD0012 - 2020.6: Lista Obrigatória, Semana 1\",\"medialist\":100.0},{\"user\":\"Vitória Morais \",\"registration\":\" 20190046571\",\"list\":\"ITP - Matriz - Lista\",\"medialist\":0.0},{\"user\":\"Vitória Morais \",\"registration\":\" 20190046571\",\"list\":\"IMD0012 - 2020.6: Lista Preparatória, Semana 3\",\"medialist\":50.0},{\"user\":\"Vítor Dantas Costa \",\"registration\":\" 20190146700\",\"list\":\"ITP - Strings - Lista\",\"medialist\":100.0},{\"user\":\"Vítor Dantas Costa \",\"registration\":\" 20190146700\",\"list\":\"ITP - Laços\",\"medialist\":100.0},{\"user\":\"Vítor Dantas Costa \",\"registration\":\" 20190146700\",\"list\":\"ITP - Funções - Lista\",\"medialist\":100.0},{\"user\":\"Vítor Dantas Costa \",\"registration\":\" 20190146700\",\"list\":\"IMD0012 - 2020.6: Lista Obrigatória, Semana 1\",\"medialist\":100.0},{\"user\":\"Vítor Dantas Costa \",\"registration\":\" 20190146700\",\"list\":\"ITP - Ponteiros 2 -  Lista\",\"medialist\":0.0},{\"user\":\"Vítor Dantas Costa \",\"registration\":\" 20190146700\",\"list\":\"ITP - Ponteiros 1 - Lista\",\"medialist\":50.0},{\"user\":\"Vítor Dantas Costa \",\"registration\":\" 20190146700\",\"list\":\"IMD0012 - 2020.6: Lista Preparatória, Semana 3\",\"medialist\":100.0},{\"user\":\"Vítor Dantas Costa \",\"registration\":\" 20190146700\",\"list\":\"ITP - Matriz - Lista\",\"medialist\":87.5},{\"user\":\"alyssonblack \",\"registration\":\" 20170070435\",\"list\":\"IMD0012 - 2020.6: Lista Obrigatória, Semana 1\",\"medialist\":100.0},{\"user\":\"ellen Melo \",\"registration\":\" 20190105224\",\"list\":\"IMD0012 - 2020.6: Lista Preparatória, Semana 3\",\"medialist\":12.5},{\"user\":\"ellen Melo \",\"registration\":\" 20190105224\",\"list\":\"ITP - Laços\",\"medialist\":100.0},{\"user\":\"ellen Melo \",\"registration\":\" 20190105224\",\"list\":\"IMD0012 - 2020.6: Lista Obrigatória, Semana 1\",\"medialist\":100.0},{\"user\":\"enzo lopes danjour de souza \",\"registration\":\" 20190035658\",\"list\":\"IMD0012 - 2020.6: Lista Obrigatória, Semana 1\",\"medialist\":100.0},{\"user\":\"enzo lopes danjour de souza \",\"registration\":\" 20190035658\",\"list\":\"ITP - Laços\",\"medialist\":100.0},{\"user\":\"enzo lopes danjour de souza \",\"registration\":\" 20190035658\",\"list\":\"IMD0012 - 2020.6: Lista Preparatória, Semana 3\",\"medialist\":75.0},{\"user\":\"marciotenorio \",\"registration\":\" 20180119880\",\"list\":\"ITP - Funções - Lista\",\"medialist\":25.0},{\"user\":\"marciotenorio \",\"registration\":\" 20180119880\",\"list\":\"ITP - Strings - Lista\",\"medialist\":25.0}]'"
            ]
          },
          "metadata": {
            "tags": []
          },
          "execution_count": 57
        }
      ]
    },
    {
      "cell_type": "code",
      "metadata": {
        "id": "Ldnsegj1QeeN"
      },
      "source": [
        "http = urllib3.PoolManager()\r\n",
        "req3 = http.request('GET',url3)"
      ],
      "execution_count": null,
      "outputs": []
    },
    {
      "cell_type": "code",
      "metadata": {
        "id": "XRAAqH2JTz_8"
      },
      "source": [
        "req3.data"
      ],
      "execution_count": null,
      "outputs": []
    },
    {
      "cell_type": "code",
      "metadata": {
        "id": "RSW-tq0XQfJh"
      },
      "source": [
        "http = urllib3.PoolManager()\r\n",
        "req2 = http.request('POST',url2,\r\n",
        "                    body=json.dumps(data),\r\n",
        "    headers={'Content-Type': 'application/json'})"
      ],
      "execution_count": null,
      "outputs": []
    },
    {
      "cell_type": "code",
      "metadata": {
        "id": "TwwPY5sfRRqM"
      },
      "source": [
        "http = urllib3.PoolManager()\r\n",
        "req3 = http.request('GET',url3)"
      ],
      "execution_count": null,
      "outputs": []
    },
    {
      "cell_type": "code",
      "metadata": {
        "colab": {
          "base_uri": "https://localhost:8080/"
        },
        "id": "zPzmnTpK2CmI",
        "outputId": "2a7662d2-f203-4bf1-fe9d-33d8da63de08"
      },
      "source": [
        "req3.status"
      ],
      "execution_count": null,
      "outputs": [
        {
          "output_type": "execute_result",
          "data": {
            "text/plain": [
              "200"
            ]
          },
          "metadata": {
            "tags": []
          },
          "execution_count": 35
        }
      ]
    },
    {
      "cell_type": "code",
      "metadata": {
        "colab": {
          "base_uri": "https://localhost:8080/"
        },
        "id": "qO0PqEhl2KLT",
        "outputId": "04215f1c-e715-47c5-f40f-feec36889d75"
      },
      "source": [
        "req3.data"
      ],
      "execution_count": null,
      "outputs": [
        {
          "output_type": "execute_result",
          "data": {
            "text/plain": [
              "b'[{\"id_list\":\"2c43b603-7f97-4a51-9663-2efdd3845ef4\",\"list\":\"LIP2020.5 26-06 (at\\xc3\\xa9 26-06 23:59 -- Avalia\\xc3\\xa7\\xc3\\xa3o )\",\"question\":\"# N\\xc3\\xbameros Amigos\",\"difficulty\":2.0,\"tag1\":\"0\",\"tag2\":\"0\",\"tag3\":\"0\",\"tag4\":\"0\",\"tag5\":\"0\"},{\"id_list\":\"2f6a2419-aa93-4f69-8a8e-e19815e8d991\",\"list\":\"T5CD 10-10-2020\",\"question\":\"# N\\xc3\\xbameros Amigos\",\"difficulty\":2.0,\"tag1\":\"0\",\"tag2\":\"0\",\"tag3\":\"0\",\"tag4\":\"0\",\"tag5\":\"0\"},{\"id_list\":\"3bf957b2-a988-4a6c-828d-b00224a0895b\",\"list\":\"LiP Aula 08 - Fun\\xc3\\xa7\\xc3\\xb5es: exerc\\xc3\\xadcios\",\"question\":\"# N\\xc3\\xbameros Amigos\",\"difficulty\":2.0,\"tag1\":\"0\",\"tag2\":\"0\",\"tag3\":\"0\",\"tag4\":\"0\",\"tag5\":\"0\"},{\"id_list\":\"17a2c8a2-f94b-4a69-b6c0-2d801f480431\",\"list\":\"Lista de laborat\\xc3\\xb3rio 08\",\"question\":\"A Biblioteca do Senhor Severino\",\"difficulty\":3.0,\"tag1\":\"Ordena\\xc3\\xa7\\xc3\\xa3o\",\"tag2\":\"0\",\"tag3\":\"0\",\"tag4\":\"0\",\"tag5\":\"0\"},{\"id_list\":\"dd1cd083-6c00-4605-9ff1-163bd4069363\",\"list\":\"Repeti\\xc3\\xa7\\xc3\\xa3o condicional - Lista Resolvida (LOP)\",\"question\":\"A m\\xc3\\xa9dia de 4 alunos\",\"difficulty\":3.0,\"tag1\":\"Estruturas de Repeti\\xc3\\xa7\\xc3\\xa3o\",\"tag2\":\"Estruturas de Repeti\\xc3\\xa7\\xc3\\xa3o Condicional\",\"tag3\":\"0\",\"tag4\":\"0\",\"tag5\":\"0\"},{\"id_list\":\"8b706927-b56e-4193-ac89-6f8de689f880\",\"list\":\"LIP2020.5 03-07 (at\\xc3\\xa9 03-07 23:59)\",\"question\":\"Acima da m\\xc3\\xa9dia\",\"difficulty\":1.0,\"tag1\":\"0\",\"tag2\":\"0\",\"tag3\":\"0\",\"tag4\":\"0\",\"tag5\":\"0\"},{\"id_list\":\"a2159330-c142-4018-aa03-af14b62cbf1d\",\"list\":\"LiP Aula 10 - Vetores\",\"question\":\"Acima da m\\xc3\\xa9dia\",\"difficulty\":1.0,\"tag1\":\"0\",\"tag2\":\"0\",\"tag3\":\"0\",\"tag4\":\"0\",\"tag5\":\"0\"},{\"id_list\":\"597fb902-de6b-4b1b-8ea8-ac5cf8f08d96\",\"list\":\"Estruturas de controle\",\"question\":\"Adi\\xc3\\xa7\\xc3\\xa3o ou subtra\\xc3\\xa7\\xc3\\xa3o\",\"difficulty\":1.0,\"tag1\":\"0\",\"tag2\":\"0\",\"tag3\":\"0\",\"tag4\":\"0\",\"tag5\":\"0\"},{\"id_list\":\"b4b1d413-503d-40ea-b93c-a21d1240d2e7\",\"list\":\"ITP - Aloca\\xc3\\xa7\\xc3\\xa3o din\\xc3\\xa2mica\",\"question\":\"Aloca\\xc3\\xa7\\xc3\\xa3o de matriz\",\"difficulty\":3.0,\"tag1\":\"Ponteiros\",\"tag2\":\"Matrizes\",\"tag3\":\"0\",\"tag4\":\"0\",\"tag5\":\"0\"},{\"id_list\":\"350916bd-6ce5-490e-a846-cee94fa7b2b7\",\"list\":\"Laborat\\xc3\\xb3rio 02 - Estrutura de decis\\xc3\\xa3o\",\"question\":\"Altura abaixo da m\\xc3\\xa9dia\",\"difficulty\":1.0,\"tag1\":\"0\",\"tag2\":\"0\",\"tag3\":\"0\",\"tag4\":\"0\",\"tag5\":\"0\"},{\"id_list\":\"3ab11cee-77d1-4448-9587-880929570cf3\",\"list\":\"(Lop) Lista de Laborat\\xc3\\xb3rio 2 - Estrutura de decis\\xc3\\xa3o\",\"question\":\"Altura abaixo da m\\xc3\\xa9dia\",\"difficulty\":1.0,\"tag1\":\"0\",\"tag2\":\"0\",\"tag3\":\"0\",\"tag4\":\"0\",\"tag5\":\"0\"},{\"id_list\":\"350916bd-6ce5-490e-a846-cee94fa7b2b7\",\"list\":\"Laborat\\xc3\\xb3rio 02 - Estrutura de decis\\xc3\\xa3o\",\"question\":\"Altura acima de m\\xc3\\xa9dia\",\"difficulty\":1.0,\"tag1\":\"0\",\"tag2\":\"0\",\"tag3\":\"0\",\"tag4\":\"0\",\"tag5\":\"0\"},{\"id_list\":\"3ab11cee-77d1-4448-9587-880929570cf3\",\"list\":\"(Lop) Lista de Laborat\\xc3\\xb3rio 2 - Estrutura de decis\\xc3\\xa3o\",\"question\":\"Altura acima de m\\xc3\\xa9dia\",\"difficulty\":1.0,\"tag1\":\"0\",\"tag2\":\"0\",\"tag3\":\"0\",\"tag4\":\"0\",\"tag5\":\"0\"},{\"id_list\":\"597fb902-de6b-4b1b-8ea8-ac5cf8f08d96\",\"list\":\"Estruturas de controle\",\"question\":\"Aluno aprovado ou reprovado\",\"difficulty\":1.0,\"tag1\":\"Estruturas Condicionais\",\"tag2\":\"0\",\"tag3\":\"0\",\"tag4\":\"0\",\"tag5\":\"0\"},{\"id_list\":\"7ea8510d-f1e9-424e-997b-81228ea6c6e6\",\"list\":\"LiP 2 - Estruturas de Controle e Repeti\\xc3\\xa7\\xc3\\xa3o\",\"question\":\"Aluno Aprovado?\",\"difficulty\":2.0,\"tag1\":\"0\",\"tag2\":\"0\",\"tag3\":\"0\",\"tag4\":\"0\",\"tag5\":\"0\"},{\"id_list\":\"d7e70fc3-6faa-4911-ab41-14be28b6eac2\",\"list\":\"LiP Aula 07 - Fun\\xc3\\xa7\\xc3\\xb5es: par\\xc3\\xa2metros de entrada\\\\/sa\\xc3\\xadda\",\"question\":\"Aluno na Prova Final?\",\"difficulty\":3.0,\"tag1\":\"Fun\\xc3\\xa7\\xc3\\xb5es\",\"tag2\":\"Estruturas Condicionais\",\"tag3\":\"0\",\"tag4\":\"0\",\"tag5\":\"0\"},{\"id_list\":\"ddf3f7e9-636e-4add-a10e-11cd23f05e11\",\"list\":\"T5AB 09-10-2020\",\"question\":\"Aluno na Prova Final?\",\"difficulty\":3.0,\"tag1\":\"Fun\\xc3\\xa7\\xc3\\xb5es\",\"tag2\":\"Estruturas Condicionais\",\"tag3\":\"0\",\"tag4\":\"0\",\"tag5\":\"0\"},{\"id_list\":\"0e2218e2-9b9d-445a-bc77-9acfeabbd6c1\",\"list\":\"LIP2020.5 19-06 (at\\xc3\\xa9 19-06 23:59 )\",\"question\":\"Ano bissexto\",\"difficulty\":2.0,\"tag1\":\"0\",\"tag2\":\"0\",\"tag3\":\"0\",\"tag4\":\"0\",\"tag5\":\"0\"},{\"id_list\":\"5c91cdd4-ceda-41ed-8164-4a963aab779d\",\"list\":\"LiP Turma3CD - 2020.6 - LAB03\",\"question\":\"Apenas d\\xc3\\xadgitos \\xc3\\xadmpares\",\"difficulty\":2.0,\"tag1\":\"Estruturas de Repeti\\xc3\\xa7\\xc3\\xa3o Condicional\",\"tag2\":\"0\",\"tag3\":\"0\",\"tag4\":\"0\",\"tag5\":\"0\"},{\"id_list\":\"490204cf-8f2f-4b39-b32e-c27334919363\",\"list\":\"LiP Turma3AB - 2020.6 - LAB03\",\"question\":\"Apenas d\\xc3\\xadgitos pares\",\"difficulty\":2.0,\"tag1\":\"Estruturas de Repeti\\xc3\\xa7\\xc3\\xa3o Condicional\",\"tag2\":\"0\",\"tag3\":\"0\",\"tag4\":\"0\",\"tag5\":\"0\"},{\"id_list\":\"27db2292-6ad8-410e-bc88-00183b3a7531\",\"list\":\"Tipo l\\xc3\\xb3gico -  Lista de Exerc\\xc3\\xadcios (LOP)\",\"question\":\"App do Aux\\xc3\\xadlio - vers\\xc3\\xa3o 1.0\",\"difficulty\":1.0,\"tag1\":\"0\",\"tag2\":\"0\",\"tag3\":\"0\",\"tag4\":\"0\",\"tag5\":\"0\"},{\"id_list\":\"27db2292-6ad8-410e-bc88-00183b3a7531\",\"list\":\"Tipo l\\xc3\\xb3gico -  Lista de Exerc\\xc3\\xadcios (LOP)\",\"question\":\"App do auxilio - vers\\xc3\\xa3o 1.1\",\"difficulty\":3.0,\"tag1\":\"0\",\"tag2\":\"0\",\"tag3\":\"0\",\"tag4\":\"0\",\"tag5\":\"0\"},{\"id_list\":\"27db2292-6ad8-410e-bc88-00183b3a7531\",\"list\":\"Tipo l\\xc3\\xb3gico -  Lista de Exerc\\xc3\\xadcios (LOP)\",\"question\":\"App do auxilio - vers\\xc3\\xa3o 2.0\",\"difficulty\":3.0,\"tag1\":\"0\",\"tag2\":\"0\",\"tag3\":\"0\",\"tag4\":\"0\",\"tag5\":\"0\"},{\"id_list\":\"27db2292-6ad8-410e-bc88-00183b3a7531\",\"list\":\"Tipo l\\xc3\\xb3gico -  Lista de Exerc\\xc3\\xadcios (LOP)\",\"question\":\"App do auxilio - vers\\xc3\\xa3o 3.0\",\"difficulty\":4.0,\"tag1\":\"0\",\"tag2\":\"0\",\"tag3\":\"0\",\"tag4\":\"0\",\"tag5\":\"0\"},{\"id_list\":\"27db2292-6ad8-410e-bc88-00183b3a7531\",\"list\":\"Tipo l\\xc3\\xb3gico -  Lista de Exerc\\xc3\\xadcios (LOP)\",\"question\":\"App do auxilio - vers\\xc3\\xa3o 3.1\",\"difficulty\":5.0,\"tag1\":\"0\",\"tag2\":\"0\",\"tag3\":\"0\",\"tag4\":\"0\",\"tag5\":\"0\"},{\"id_list\":\"93cd33c4-109a-401e-87e9-e26ff5929d37\",\"list\":\"Vetores - Lista Resolvida (LOP)\",\"question\":\"Aprendendo a armazenar v\\xc3\\xa1rios elementos em um vetor\",\"difficulty\":1.0,\"tag1\":\"Vetores\",\"tag2\":\"0\",\"tag3\":\"0\",\"tag4\":\"0\",\"tag5\":\"0\"},{\"id_list\":\"aca84206-87b2-4478-afa4-6193119cc06a\",\"list\":\"Repeti\\xc3\\xa7\\xc3\\xa3o condicional - Lista de Exerc\\xc3\\xadcios (LOP)\",\"question\":\"Aprendendo a somar\",\"difficulty\":3.0,\"tag1\":\"Estruturas de Repeti\\xc3\\xa7\\xc3\\xa3o\",\"tag2\":\"Estruturas de Repeti\\xc3\\xa7\\xc3\\xa3o Condicional\",\"tag3\":\"0\",\"tag4\":\"0\",\"tag5\":\"0\"},{\"id_list\":\"d2f4890f-8a5d-4b17-a3b7-261ff6ce6246\",\"list\":\"Lista 1 - Exerc\\xc3\\xadcios Simples\",\"question\":\"Aprendendo a somar\",\"difficulty\":3.0,\"tag1\":\"Estruturas de Repeti\\xc3\\xa7\\xc3\\xa3o\",\"tag2\":\"Estruturas de Repeti\\xc3\\xa7\\xc3\\xa3o Condicional\",\"tag3\":\"0\",\"tag4\":\"0\",\"tag5\":\"0\"},{\"id_list\":\"813dedaa-0989-489b-9804-3850ae4b83d1\",\"list\":\"Repeti\\xc3\\xa7\\xc3\\xa3o contada - Lista Pr\\xc3\\xa1tica (LOP)\",\"question\":\"Aprendendo a usar repeti\\xc3\\xa7\\xc3\\xa3o aninhada\",\"difficulty\":1.0,\"tag1\":\"0\",\"tag2\":\"0\",\"tag3\":\"0\",\"tag4\":\"0\",\"tag5\":\"0\"},{\"id_list\":\"93cd33c4-109a-401e-87e9-e26ff5929d37\",\"list\":\"Vetores - Lista Resolvida (LOP)\",\"question\":\"Aprendendo a usar um Vetor\",\"difficulty\":1.0,\"tag1\":\"Vetores\",\"tag2\":\"0\",\"tag3\":\"0\",\"tag4\":\"0\",\"tag5\":\"0\"},{\"id_list\":\"0ae7c42d-93f8-481d-8432-96b36a367a53\",\"list\":\"LIP2020.5 17-06 (at\\xc3\\xa9 17-06 23:59)\",\"question\":\"\\xc3\\x81rea Circunfer\\xc3\\xaancia\",\"difficulty\":1.0,\"tag1\":\"0\",\"tag2\":\"0\",\"tag3\":\"0\",\"tag4\":\"0\",\"tag5\":\"0\"},{\"id_list\":\"9bfe2a0b-120f-4df7-a3f7-89a8e100b0b1\",\"list\":\"Vari\\xc3\\xa1veis e express\\xc3\\xb5es\",\"question\":\"\\xc3\\x81rea do tri\\xc3\\xa2ngulo\",\"difficulty\":1.0,\"tag1\":\"0\",\"tag2\":\"0\",\"tag3\":\"0\",\"tag4\":\"0\",\"tag5\":\"0\"},{\"id_list\":\"aafdbdef-053b-4b7d-af60-53cd9c275147\",\"list\":\"Laborat\\xc3\\xb3rio 1\",\"question\":\"\\xc3\\x81rea do tri\\xc3\\xa2ngulo pela f\\xc3\\xb3rmula de Heron\",\"difficulty\":1.0,\"tag1\":\"0\",\"tag2\":\"0\",\"tag3\":\"0\",\"tag4\":\"0\",\"tag5\":\"0\"},{\"id_list\":\"bd91406e-0a5a-4d22-8e7d-f61a4352b509\",\"list\":\"Lab1_Vari\\xc3\\xa1veis, Constantes e Operadores\",\"question\":\"\\xc3\\x81rea do tri\\xc3\\xa2ngulo pela f\\xc3\\xb3rmula de Heron\",\"difficulty\":1.0,\"tag1\":\"0\",\"tag2\":\"0\",\"tag3\":\"0\",\"tag4\":\"0\",\"tag5\":\"0\"},{\"id_list\":\"74eeea9b-bb3f-42fb-9852-da9a1b68c3fa\",\"list\":\"Lista IP C 01\",\"question\":\"\\xc3\\x81rea dos pol\\xc3\\xadgonos\",\"difficulty\":3.0,\"tag1\":\"Operadores Aritm\\xc3\\xa9ticos\",\"tag2\":\"0\",\"tag3\":\"0\",\"tag4\":\"0\",\"tag5\":\"0\"},{\"id_list\":\"5ebe517f-50f2-4629-a22f-1dea895fce25\",\"list\":\"Aula - Fun\\xc3\\xa7\\xc3\\xb5es Aritm\\xc3\\xa9ticas\",\"question\":\"\\xc3\\x81rea e Volume do c\\xc3\\xadrculo de raio R\",\"difficulty\":3.0,\"tag1\":\"Operadores Aritm\\xc3\\xa9ticos\",\"tag2\":\"0\",\"tag3\":\"0\",\"tag4\":\"0\",\"tag5\":\"0\"},{\"id_list\":\"74eeea9b-bb3f-42fb-9852-da9a1b68c3fa\",\"list\":\"Lista IP C 01\",\"question\":\"\\xc3\\x81rea e Volume do c\\xc3\\xadrculo de raio R\",\"difficulty\":3.0,\"tag1\":\"Operadores Aritm\\xc3\\xa9ticos\",\"tag2\":\"0\",\"tag3\":\"0\",\"tag4\":\"0\",\"tag5\":\"0\"},{\"id_list\":\"4398d9fa-3a28-4afd-baa9-1015ed88af9e\",\"list\":\"Lista para a minha turma teste\",\"question\":\"Aritm\\xc3\\xa9tica prim\\xc3\\xa1ria (corrigir)\",\"difficulty\":4.0,\"tag1\":\"Estruturas Condicionais\",\"tag2\":\"Estruturas de Repeti\\xc3\\xa7\\xc3\\xa3o\",\"tag3\":\"Estruturas de Repeti\\xc3\\xa7\\xc3\\xa3o Contada\",\"tag4\":\"0\",\"tag5\":\"0\"},{\"id_list\":\"0cd81ddc-fa9a-44b8-88ad-1c2ff1059af3\",\"list\":\"LIP2020.5 24-07\",\"question\":\"Arquivos CSV\",\"difficulty\":1.0,\"tag1\":\"0\",\"tag2\":\"0\",\"tag3\":\"0\",\"tag4\":\"0\",\"tag5\":\"0\"},{\"id_list\":\"09833f76-016f-45f1-a85d-2a9e30c64b0f\",\"list\":\"Projeto Final parte 2 2020.6 3C\",\"question\":\"Aumento de tamanho da imagem com interpola\\xc3\\xa7\\xc3\\xa3o bilinear\",\"difficulty\":1.0,\"tag1\":\"Fun\\xc3\\xa7\\xc3\\xb5es\",\"tag2\":\"Tipos Estruturados\",\"tag3\":\"Matrizes\",\"tag4\":\"0\",\"tag5\":\"0\"},{\"id_list\":\"b3bfd686-2838-4c23-951b-29d9bd4a6623\",\"list\":\"Projeto Final parte 2 2020.6 3B\",\"question\":\"Aumento de tamanho da imagem com vizinhos mais pr\\xc3\\xb3ximos\",\"difficulty\":1.0,\"tag1\":\"Fun\\xc3\\xa7\\xc3\\xb5es\",\"tag2\":\"Tipos Estruturados\",\"tag3\":\"Matrizes\",\"tag4\":\"0\",\"tag5\":\"0\"},{\"id_list\":\"2c43b603-7f97-4a51-9663-2efdd3845ef4\",\"list\":\"LIP2020.5 26-06 (at\\xc3\\xa9 26-06 23:59 -- Avalia\\xc3\\xa7\\xc3\\xa3o )\",\"question\":\"B termina A\",\"difficulty\":3.0,\"tag1\":\"0\",\"tag2\":\"0\",\"tag3\":\"0\",\"tag4\":\"0\",\"tag5\":\"0\"},{\"id_list\":\"1f2fb866-0bea-4475-b0af-e4a060b0904a\",\"list\":\"ITP - Matriz - Lista\",\"question\":\"Batalha naval - 1 tiro\",\"difficulty\":3.0,\"tag1\":\"Matrizes\",\"tag2\":\"Estruturas de Repeti\\xc3\\xa7\\xc3\\xa3o\",\"tag3\":\"0\",\"tag4\":\"0\",\"tag5\":\"0\"},{\"id_list\":\"06bd7c11-b7e8-49a4-a2f3-8244150a801d\",\"list\":\"Projeto Final Parte 1\",\"question\":\"Binariza\\xc3\\xa7\\xc3\\xa3o de imagem\",\"difficulty\":1.0,\"tag1\":\"Fun\\xc3\\xa7\\xc3\\xb5es\",\"tag2\":\"Tipos Estruturados\",\"tag3\":\"Matrizes\",\"tag4\":\"0\",\"tag5\":\"0\"},{\"id_list\":\"3778f280-6627-4c04-ab4f-caf44c95012d\",\"list\":\"Projeto Final parte 1 2020.6 3B\",\"question\":\"Binariza\\xc3\\xa7\\xc3\\xa3o de imagem\",\"difficulty\":1.0,\"tag1\":\"Fun\\xc3\\xa7\\xc3\\xb5es\",\"tag2\":\"Tipos Estruturados\",\"tag3\":\"Matrizes\",\"tag4\":\"0\",\"tag5\":\"0\"},{\"id_list\":\"63420b87-96ac-47c8-8acd-913084de69c7\",\"list\":\"Projeto Final parte 1 2020.6 3A\",\"question\":\"Binariza\\xc3\\xa7\\xc3\\xa3o de imagem\",\"difficulty\":1.0,\"tag1\":\"Fun\\xc3\\xa7\\xc3\\xb5es\",\"tag2\":\"Tipos Estruturados\",\"tag3\":\"Matrizes\",\"tag4\":\"0\",\"tag5\":\"0\"},{\"id_list\":\"95d04fc1-96be-475f-af95-5b9e071e0005\",\"list\":\"Projeto Final parte 1 2020.6 3D\",\"question\":\"Binariza\\xc3\\xa7\\xc3\\xa3o de imagem\",\"difficulty\":1.0,\"tag1\":\"Fun\\xc3\\xa7\\xc3\\xb5es\",\"tag2\":\"Tipos Estruturados\",\"tag3\":\"Matrizes\",\"tag4\":\"0\",\"tag5\":\"0\"},{\"id_list\":\"e838345a-bd5e-46f6-96ad-4507f2dd69f0\",\"list\":\"Projeto Final parte 1 2020.6 3C\",\"question\":\"Binariza\\xc3\\xa7\\xc3\\xa3o de imagem\",\"difficulty\":1.0,\"tag1\":\"Fun\\xc3\\xa7\\xc3\\xb5es\",\"tag2\":\"Tipos Estruturados\",\"tag3\":\"Matrizes\",\"tag4\":\"0\",\"tag5\":\"0\"},{\"id_list\":\"17ac33bf-c1f7-4d1b-92b6-6f76f41265c7\",\"list\":\"ITP - Ponteiros 1 - Lista\",\"question\":\"Bingo (ponteiros)\",\"difficulty\":3.0,\"tag1\":\"Ponteiros\",\"tag2\":\"Matrizes\",\"tag3\":\"0\",\"tag4\":\"0\",\"tag5\":\"0\"},{\"id_list\":\"fa5fc5de-0b5d-4163-9bef-90b0fe97acf3\",\"list\":\"LiP - Aula 01\",\"question\":\"Bom dia, ECT!\",\"difficulty\":1.0,\"tag1\":\"0\",\"tag2\":\"0\",\"tag3\":\"0\",\"tag4\":\"0\",\"tag5\":\"0\"},{\"id_list\":\"d92afa9b-2def-4faf-9889-17bdf68642bf\",\"list\":\"ITP - Recurs\\xc3\\xa3o - Lista\",\"question\":\"Bubble sort recursivo\",\"difficulty\":3.0,\"tag1\":\"Recurs\\xc3\\xa3o\",\"tag2\":\"0\",\"tag3\":\"0\",\"tag4\":\"0\",\"tag5\":\"0\"},{\"id_list\":\"d92afa9b-2def-4faf-9889-17bdf68642bf\",\"list\":\"ITP - Recurs\\xc3\\xa3o - Lista\",\"question\":\"Bubble sort recursivo\",\"difficulty\":3.0,\"tag1\":\"Recurs\\xc3\\xa3o\",\"tag2\":\"0\",\"tag3\":\"0\",\"tag4\":\"0\",\"tag5\":\"0\"},{\"id_list\":\"595d5aab-1e14-4a64-a9b7-bcdc03c64611\",\"list\":\"LIP 5CD 04.12.2020\",\"question\":\"Bubble sort recursivo\",\"difficulty\":3.0,\"tag1\":\"Recurs\\xc3\\xa3o\",\"tag2\":\"0\",\"tag3\":\"0\",\"tag4\":\"0\",\"tag5\":\"0\"},{\"id_list\":\"595d5aab-1e14-4a64-a9b7-bcdc03c64611\",\"list\":\"LIP 5CD 04.12.2020\",\"question\":\"Bubble sort recursivo\",\"difficulty\":3.0,\"tag1\":\"Recurs\\xc3\\xa3o\",\"tag2\":\"0\",\"tag3\":\"0\",\"tag4\":\"0\",\"tag5\":\"0\"},{\"id_list\":\"d6043c35-4622-4004-a2d7-49ae8145d71c\",\"list\":\"LIP 5AB 04.12.2020\",\"question\":\"Bubble sort recursivo\",\"difficulty\":3.0,\"tag1\":\"Recurs\\xc3\\xa3o\",\"tag2\":\"0\",\"tag3\":\"0\",\"tag4\":\"0\",\"tag5\":\"0\"},{\"id_list\":\"d6043c35-4622-4004-a2d7-49ae8145d71c\",\"list\":\"LIP 5AB 04.12.2020\",\"question\":\"Bubble sort recursivo\",\"difficulty\":3.0,\"tag1\":\"Recurs\\xc3\\xa3o\",\"tag2\":\"0\",\"tag3\":\"0\",\"tag4\":\"0\",\"tag5\":\"0\"},{\"id_list\":\"fe558fa7-d86c-418d-a1f8-d52f52e06674\",\"list\":\"LiP - Ordena\\xc3\\xa7\\xc3\\xa3o Exerc\\xc3\\xadcios\",\"question\":\"Bubble sort recursivo\",\"difficulty\":3.0,\"tag1\":\"Recurs\\xc3\\xa3o\",\"tag2\":\"0\",\"tag3\":\"0\",\"tag4\":\"0\",\"tag5\":\"0\"},{\"id_list\":\"fe558fa7-d86c-418d-a1f8-d52f52e06674\",\"list\":\"LiP - Ordena\\xc3\\xa7\\xc3\\xa3o Exerc\\xc3\\xadcios\",\"question\":\"Bubble sort recursivo\",\"difficulty\":3.0,\"tag1\":\"Recurs\\xc3\\xa3o\",\"tag2\":\"0\",\"tag3\":\"0\",\"tag4\":\"0\",\"tag5\":\"0\"},{\"id_list\":\"1551e3ed-c875-4bb3-8e4e-58407df40776\",\"list\":\"Vetores - Lista de Exerc\\xc3\\xadcios (LOP)\",\"question\":\"Buscar em vetor\",\"difficulty\":2.0,\"tag1\":\"Estruturas Condicionais\",\"tag2\":\"Estruturas de Repeti\\xc3\\xa7\\xc3\\xa3o\",\"tag3\":\"Vetores\",\"tag4\":\"0\",\"tag5\":\"0\"},{\"id_list\":\"2f5b561c-c3f0-4566-a357-625f0edbdb01\",\"list\":\"ITP - Ponteiros 2 -  Lista\",\"question\":\"Cadastro pessoa\",\"difficulty\":2.0,\"tag1\":\"Tipos Estruturados\",\"tag2\":\"0\",\"tag3\":\"0\",\"tag4\":\"0\",\"tag5\":\"0\"},{\"id_list\":\"9e632481-e1bf-4926-9234-73a7b83a5fc3\",\"list\":\"LIP2020.5 22-06 (at\\xc3\\xa9 22-06 23:59 -- Avalia\\xc3\\xa7\\xc3\\xa3o )\",\"question\":\"Calculadora\",\"difficulty\":3.0,\"tag1\":\"0\",\"tag2\":\"0\",\"tag3\":\"0\",\"tag4\":\"0\",\"tag5\":\"0\"},{\"id_list\":\"5f3febce-4c06-4913-98a3-b3102bdff6d6\",\"list\":\"Lista de laborat\\xc3\\xb3rio 01\",\"question\":\"Calculando \\xc3\\xa1rea de c\\xc3\\xadrculos\",\"difficulty\":1.0,\"tag1\":\"0\",\"tag2\":\"0\",\"tag3\":\"0\",\"tag4\":\"0\",\"tag5\":\"0\"},{\"id_list\":\"9bfe2a0b-120f-4df7-a3f7-89a8e100b0b1\",\"list\":\"Vari\\xc3\\xa1veis e express\\xc3\\xb5es\",\"question\":\"Calculando \\xc3\\xa1rea de c\\xc3\\xadrculos\",\"difficulty\":1.0,\"tag1\":\"0\",\"tag2\":\"0\",\"tag3\":\"0\",\"tag4\":\"0\",\"tag5\":\"0\"},{\"id_list\":\"7b73413f-23d4-4ac3-943c-dc1daaa53293\",\"list\":\"ECT2303 2020.6 T05ABCD - Lab1\",\"question\":\"Calculando express\\xc3\\xb5es - parte 1\",\"difficulty\":1.0,\"tag1\":\"0\",\"tag2\":\"0\",\"tag3\":\"0\",\"tag4\":\"0\",\"tag5\":\"0\"},{\"id_list\":\"c6f3f5e5-0b0c-4396-92ba-d22d4125f555\",\"list\":\"Laborat\\xc3\\xb3rio 01 - Express\\xc3\\xb5es Aritm\\xc3\\xa9ticas\",\"question\":\"Calculando express\\xc3\\xb5es - parte 1\",\"difficulty\":1.0,\"tag1\":\"0\",\"tag2\":\"0\",\"tag3\":\"0\",\"tag4\":\"0\",\"tag5\":\"0\"},{\"id_list\":\"c6f3f5e5-0b0c-4396-92ba-d22d4125f555\",\"list\":\"Laborat\\xc3\\xb3rio 01 - Express\\xc3\\xb5es Aritm\\xc3\\xa9ticas\",\"question\":\"Calculando express\\xc3\\xb5es - parte 2\",\"difficulty\":1.0,\"tag1\":\"Operadores Aritm\\xc3\\xa9ticos\",\"tag2\":\"0\",\"tag3\":\"0\",\"tag4\":\"0\",\"tag5\":\"0\"},{\"id_list\":\"c6f3f5e5-0b0c-4396-92ba-d22d4125f555\",\"list\":\"Laborat\\xc3\\xb3rio 01 - Express\\xc3\\xb5es Aritm\\xc3\\xa9ticas\",\"question\":\"Calculando express\\xc3\\xb5es - parte 3\",\"difficulty\":1.0,\"tag1\":\"Operadores Aritm\\xc3\\xa9ticos\",\"tag2\":\"0\",\"tag3\":\"0\",\"tag4\":\"0\",\"tag5\":\"0\"},{\"id_list\":\"c6f3f5e5-0b0c-4396-92ba-d22d4125f555\",\"list\":\"Laborat\\xc3\\xb3rio 01 - Express\\xc3\\xb5es Aritm\\xc3\\xa9ticas\",\"question\":\"Calculando express\\xc3\\xb5es - parte 4\",\"difficulty\":1.0,\"tag1\":\"Operadores Aritm\\xc3\\xa9ticos\",\"tag2\":\"0\",\"tag3\":\"0\",\"tag4\":\"0\",\"tag5\":\"0\"},{\"id_list\":\"5ebe517f-50f2-4629-a22f-1dea895fce25\",\"list\":\"Aula - Fun\\xc3\\xa7\\xc3\\xb5es Aritm\\xc3\\xa9ticas\",\"question\":\"Calculando express\\xc3\\xb5es com raiz\",\"difficulty\":1.0,\"tag1\":\"Operadores Aritm\\xc3\\xa9ticos\",\"tag2\":\"0\",\"tag3\":\"0\",\"tag4\":\"0\",\"tag5\":\"0\"},{\"id_list\":\"74eeea9b-bb3f-42fb-9852-da9a1b68c3fa\",\"list\":\"Lista IP C 01\",\"question\":\"Calculando o Dobro de um n\\xc3\\xbamero\",\"difficulty\":1.0,\"tag1\":\"Operadores Aritm\\xc3\\xa9ticos\",\"tag2\":\"0\",\"tag3\":\"0\",\"tag4\":\"0\",\"tag5\":\"0\"},{\"id_list\":\"b2e8f346-219d-466f-a4b0-3a0bea25e16f\",\"list\":\"LIP2020.5 20-07 (at\\xc3\\xa9 20-07 23:59 -- Avalia\\xc3\\xa7\\xc3\\xa3o )\",\"question\":\"Calculando o MDC\",\"difficulty\":3.0,\"tag1\":\"0\",\"tag2\":\"0\",\"tag3\":\"0\",\"tag4\":\"0\",\"tag5\":\"0\"},{\"id_list\":\"ce039011-2503-4898-80e6-22f987fd60dd\",\"list\":\"LiP - Fun\\xc3\\xa7\\xc3\\xb5es Recursivas\",\"question\":\"Calculando o MDC\",\"difficulty\":3.0,\"tag1\":\"0\",\"tag2\":\"0\",\"tag3\":\"0\",\"tag4\":\"0\",\"tag5\":\"0\"},{\"id_list\":\"d2f4890f-8a5d-4b17-a3b7-261ff6ce6246\",\"list\":\"Lista 1 - Exerc\\xc3\\xadcios Simples\",\"question\":\"Calculando o MDC\",\"difficulty\":3.0,\"tag1\":\"0\",\"tag2\":\"0\",\"tag3\":\"0\",\"tag4\":\"0\",\"tag5\":\"0\"},{\"id_list\":\"d7e70fc3-6faa-4911-ab41-14be28b6eac2\",\"list\":\"LiP Aula 07 - Fun\\xc3\\xa7\\xc3\\xb5es: par\\xc3\\xa2metros de entrada\\\\/sa\\xc3\\xadda\",\"question\":\"Calculando o MDC e o MMC\",\"difficulty\":3.0,\"tag1\":\"Fun\\xc3\\xa7\\xc3\\xb5es\",\"tag2\":\"Recurs\\xc3\\xa3o\",\"tag3\":\"0\",\"tag4\":\"0\",\"tag5\":\"0\"},{\"id_list\":\"cf509a46-6a97-440e-a5c0-f7ba7537ef96\",\"list\":\"(Lop) Estruturas de decis\\xc3\\xa3o - problemas sobre divisibilidade\",\"question\":\"Calculando um ano bissexto.\",\"difficulty\":4.0,\"tag1\":\"0\",\"tag2\":\"0\",\"tag3\":\"0\",\"tag4\":\"0\",\"tag5\":\"0\"},{\"id_list\":\"fd74c7eb-a840-4859-bd45-d2c954e7fb08\",\"list\":\"(Lop) Estruturas de deci\\xc3\\xa7\\xc3\\xa3o - problemas sobre divisibilidade\",\"question\":\"Calculando um ano bissexto.\",\"difficulty\":4.0,\"tag1\":\"0\",\"tag2\":\"0\",\"tag3\":\"0\",\"tag4\":\"0\",\"tag5\":\"0\"},{\"id_list\":\"9bfe2a0b-120f-4df7-a3f7-89a8e100b0b1\",\"list\":\"Vari\\xc3\\xa1veis e express\\xc3\\xb5es\",\"question\":\"Calculando valor de fun\\xc3\\xa7\\xc3\\xa3o\",\"difficulty\":1.0,\"tag1\":\"0\",\"tag2\":\"0\",\"tag3\":\"0\",\"tag4\":\"0\",\"tag5\":\"0\"},{\"id_list\":\"e1f0e8be-54fe-4b54-8d6d-2451bedc0647\",\"list\":\"Treinamento - Express\\xc3\\xb5es Aritm\\xc3\\xa9ticas\",\"question\":\"Calcular express\\xc3\\xb5es\",\"difficulty\":2.0,\"tag1\":\"Operadores Aritm\\xc3\\xa9ticos\",\"tag2\":\"0\",\"tag3\":\"0\",\"tag4\":\"0\",\"tag5\":\"0\"},{\"id_list\":\"350916bd-6ce5-490e-a846-cee94fa7b2b7\",\"list\":\"Laborat\\xc3\\xb3rio 02 - Estrutura de decis\\xc3\\xa3o\",\"question\":\"Calcular \\xc3\\x8dndice de Massa Corporal (IMC) - parte 1\",\"difficulty\":3.0,\"tag1\":\"0\",\"tag2\":\"0\",\"tag3\":\"0\",\"tag4\":\"0\",\"tag5\":\"0\"},{\"id_list\":\"3ab11cee-77d1-4448-9587-880929570cf3\",\"list\":\"(Lop) Lista de Laborat\\xc3\\xb3rio 2 - Estrutura de decis\\xc3\\xa3o\",\"question\":\"Calcular \\xc3\\x8dndice de Massa Corporal (IMC) - parte 1\",\"difficulty\":3.0,\"tag1\":\"0\",\"tag2\":\"0\",\"tag3\":\"0\",\"tag4\":\"0\",\"tag5\":\"0\"},{\"id_list\":\"bd91406e-0a5a-4d22-8e7d-f61a4352b509\",\"list\":\"Lab1_Vari\\xc3\\xa1veis, Constantes e Operadores\",\"question\":\"C\\xc3\\xa1lculo da corrente em um circuito CA\",\"difficulty\":2.0,\"tag1\":\"0\",\"tag2\":\"0\",\"tag3\":\"0\",\"tag4\":\"0\",\"tag5\":\"0\"},{\"id_list\":\"aca84206-87b2-4478-afa4-6193119cc06a\",\"list\":\"Repeti\\xc3\\xa7\\xc3\\xa3o condicional - Lista de Exerc\\xc3\\xadcios (LOP)\",\"question\":\"C\\xc3\\xa1lculo da m\\xc3\\xa9dia v\\xc3\\xa1lida\",\"difficulty\":3.0,\"tag1\":\"Operadores L\\xc3\\xb3gicos\",\"tag2\":\"Estruturas de Repeti\\xc3\\xa7\\xc3\\xa3o Condicional\",\"tag3\":\"0\",\"tag4\":\"0\",\"tag5\":\"0\"},{\"id_list\":\"5ebe517f-50f2-4629-a22f-1dea895fce25\",\"list\":\"Aula - Fun\\xc3\\xa7\\xc3\\xb5es Aritm\\xc3\\xa9ticas\",\"question\":\"Calculo de express\\xc3\\xa3o com expoente\",\"difficulty\":2.0,\"tag1\":\"Operadores Aritm\\xc3\\xa9ticos\",\"tag2\":\"0\",\"tag3\":\"0\",\"tag4\":\"0\",\"tag5\":\"0\"},{\"id_list\":\"9bfe2a0b-120f-4df7-a3f7-89a8e100b0b1\",\"list\":\"Vari\\xc3\\xa1veis e express\\xc3\\xb5es\",\"question\":\"C\\xc3\\xa1lculo do IMC\",\"difficulty\":2.0,\"tag1\":\"Operadores Aritm\\xc3\\xa9ticos\",\"tag2\":\"0\",\"tag3\":\"0\",\"tag4\":\"0\",\"tag5\":\"0\"},{\"id_list\":\"c6f3f5e5-0b0c-4396-92ba-d22d4125f555\",\"list\":\"Laborat\\xc3\\xb3rio 01 - Express\\xc3\\xb5es Aritm\\xc3\\xa9ticas\",\"question\":\"C\\xc3\\xa1lculo do IMC\",\"difficulty\":2.0,\"tag1\":\"Operadores Aritm\\xc3\\xa9ticos\",\"tag2\":\"0\",\"tag3\":\"0\",\"tag4\":\"0\",\"tag5\":\"0\"},{\"id_list\":\"74eeea9b-bb3f-42fb-9852-da9a1b68c3fa\",\"list\":\"Lista IP C 01\",\"question\":\"C\\xc3\\xa1lculo do IMC com 2 casas decimais.\",\"difficulty\":1.0,\"tag1\":\"Operadores Aritm\\xc3\\xa9ticos\",\"tag2\":\"0\",\"tag3\":\"0\",\"tag4\":\"0\",\"tag5\":\"0\"},{\"id_list\":\"5d111e7e-d160-486e-b4b1-6996b7fd074f\",\"list\":\"Lab3_Operadores L\\xc3\\xb3gicos e Estruturas de Sele\\xc3\\xa7\\xc3\\xa3o\",\"question\":\"C\\xc3\\xa1lculo do \\xc3\\xadndice de massa corp\\xc3\\xb3rea (IMC)\",\"difficulty\":1.0,\"tag1\":\"0\",\"tag2\":\"0\",\"tag3\":\"0\",\"tag4\":\"0\",\"tag5\":\"0\"},{\"id_list\":\"cf81af12-b0b7-40c2-8536-5e7445ace7a3\",\"list\":\"(Lop) Estruturas de decis\\xc3\\xa3o - Operadores L\\xc3\\xb3gicos\",\"question\":\"C\\xc3\\xa1lculo do novo Sal\\xc3\\xa1rio\",\"difficulty\":3.0,\"tag1\":\"0\",\"tag2\":\"0\",\"tag3\":\"0\",\"tag4\":\"0\",\"tag5\":\"0\"},{\"id_list\":\"6eb0d54c-37ec-44f9-b545-ca7aef3437b7\",\"list\":\"4ta prova LIP 2020.5\",\"question\":\"Campeonato\",\"difficulty\":3.0,\"tag1\":\"0\",\"tag2\":\"0\",\"tag3\":\"0\",\"tag4\":\"0\",\"tag5\":\"0\"},{\"id_list\":\"9338cc7b-7cf4-4d9f-af63-25a7effa7189\",\"list\":\"(Lop) Estruturas de decis\\xc3\\xa3o - M\\xc3\\xbaltiplas decis\\xc3\\xb5es\",\"question\":\"Categorias de nata\\xc3\\xa7\\xc3\\xa3o\",\"difficulty\":3.0,\"tag1\":\"0\",\"tag2\":\"0\",\"tag3\":\"0\",\"tag4\":\"0\",\"tag5\":\"0\"},{\"id_list\":\"cf81af12-b0b7-40c2-8536-5e7445ace7a3\",\"list\":\"(Lop) Estruturas de decis\\xc3\\xa3o - Operadores L\\xc3\\xb3gicos\",\"question\":\"Categorias de nata\\xc3\\xa7\\xc3\\xa3o com 4 casos\",\"difficulty\":1.0,\"tag1\":\"0\",\"tag2\":\"0\",\"tag3\":\"0\",\"tag4\":\"0\",\"tag5\":\"0\"},{\"id_list\":\"dd1cd083-6c00-4605-9ff1-163bd4069363\",\"list\":\"Repeti\\xc3\\xa7\\xc3\\xa3o condicional - Lista Resolvida (LOP)\",\"question\":\"Cinco vezes Bom dia!\",\"difficulty\":1.0,\"tag1\":\"0\",\"tag2\":\"0\",\"tag3\":\"0\",\"tag4\":\"0\",\"tag5\":\"0\"},{\"id_list\":\"813dedaa-0989-489b-9804-3850ae4b83d1\",\"list\":\"Repeti\\xc3\\xa7\\xc3\\xa3o contada - Lista Pr\\xc3\\xa1tica (LOP)\",\"question\":\"Classificando um n\\xc3\\xbamero\",\"difficulty\":2.0,\"tag1\":\"Estruturas Condicionais\",\"tag2\":\"Estruturas de Repeti\\xc3\\xa7\\xc3\\xa3o\",\"tag3\":\"0\",\"tag4\":\"0\",\"tag5\":\"0\"},{\"id_list\":\"2fc4be7c-bab1-49a9-8ab5-ab4f263e6703\",\"list\":\"Lista Laborat\\xc3\\xb3rio 02\",\"question\":\"Colis\\xc3\\xa3o entre objetos circulares\",\"difficulty\":3.0,\"tag1\":\"0\",\"tag2\":\"0\",\"tag3\":\"0\",\"tag4\":\"0\",\"tag5\":\"0\"},{\"id_list\":\"75cc9ec0-a5b5-478a-94f4-06b150679ad7\",\"list\":\"Lista Laborat\\xc3\\xb3rio 02\",\"question\":\"Colis\\xc3\\xa3o entre objetos circulares\",\"difficulty\":3.0,\"tag1\":\"0\",\"tag2\":\"0\",\"tag3\":\"0\",\"tag4\":\"0\",\"tag5\":\"0\"},{\"id_list\":\"81236336-6ff0-4c64-8eba-e2d98233de07\",\"list\":\"LiP Turma3 - 2020.6 - LAB10\",\"question\":\"Combina\\xc3\\xa7\\xc3\\xa3o com repeti\\xc3\\xa7\\xc3\\xa3o\",\"difficulty\":1.0,\"tag1\":\"Fun\\xc3\\xa7\\xc3\\xb5es\",\"tag2\":\"Vetores\",\"tag3\":\"0\",\"tag4\":\"0\",\"tag5\":\"0\"},{\"id_list\":\"5ebe517f-50f2-4629-a22f-1dea895fce25\",\"list\":\"Aula - Fun\\xc3\\xa7\\xc3\\xb5es Aritm\\xc3\\xa9ticas\",\"question\":\"Comiss\\xc3\\xa3o do gar\\xc3\\xa7om no restaurante\",\"difficulty\":2.0,\"tag1\":\"Operadores Aritm\\xc3\\xa9ticos\",\"tag2\":\"0\",\"tag3\":\"0\",\"tag4\":\"0\",\"tag5\":\"0\"},{\"id_list\":\"350916bd-6ce5-490e-a846-cee94fa7b2b7\",\"list\":\"Laborat\\xc3\\xb3rio 02 - Estrutura de decis\\xc3\\xa3o\",\"question\":\"Compara com 10\",\"difficulty\":1.0,\"tag1\":\"0\",\"tag2\":\"0\",\"tag3\":\"0\",\"tag4\":\"0\",\"tag5\":\"0\"},{\"id_list\":\"3ab11cee-77d1-4448-9587-880929570cf3\",\"list\":\"(Lop) Lista de Laborat\\xc3\\xb3rio 2 - Estrutura de decis\\xc3\\xa3o\",\"question\":\"Compara com 10\",\"difficulty\":1.0,\"tag1\":\"0\",\"tag2\":\"0\",\"tag3\":\"0\",\"tag4\":\"0\",\"tag5\":\"0\"},{\"id_list\":\"350916bd-6ce5-490e-a846-cee94fa7b2b7\",\"list\":\"Laborat\\xc3\\xb3rio 02 - Estrutura de decis\\xc3\\xa3o\",\"question\":\"Compara com 20\",\"difficulty\":1.0,\"tag1\":\"0\",\"tag2\":\"0\",\"tag3\":\"0\",\"tag4\":\"0\",\"tag5\":\"0\"},{\"id_list\":\"3ab11cee-77d1-4448-9587-880929570cf3\",\"list\":\"(Lop) Lista de Laborat\\xc3\\xb3rio 2 - Estrutura de decis\\xc3\\xa3o\",\"question\":\"Compara com 20\",\"difficulty\":1.0,\"tag1\":\"0\",\"tag2\":\"0\",\"tag3\":\"0\",\"tag4\":\"0\",\"tag5\":\"0\"},{\"id_list\":\"350916bd-6ce5-490e-a846-cee94fa7b2b7\",\"list\":\"Laborat\\xc3\\xb3rio 02 - Estrutura de decis\\xc3\\xa3o\",\"question\":\"Compara com 20 parte 2\",\"difficulty\":1.0,\"tag1\":\"0\",\"tag2\":\"0\",\"tag3\":\"0\",\"tag4\":\"0\",\"tag5\":\"0\"},{\"id_list\":\"3ab11cee-77d1-4448-9587-880929570cf3\",\"list\":\"(Lop) Lista de Laborat\\xc3\\xb3rio 2 - Estrutura de decis\\xc3\\xa3o\",\"question\":\"Compara com 20 parte 2\",\"difficulty\":1.0,\"tag1\":\"0\",\"tag2\":\"0\",\"tag3\":\"0\",\"tag4\":\"0\",\"tag5\":\"0\"},{\"id_list\":\"1415f543-dd94-4e9e-a594-b4396b01093e\",\"list\":\"IMD0012 - 2020.6: Lista Obrigat\\xc3\\xb3ria, Semana 1\",\"question\":\"Compara\\xc3\\xa7\\xc3\\xa3o com switch\",\"difficulty\":2.0,\"tag1\":\"Estruturas Condicionais\",\"tag2\":\"0\",\"tag3\":\"0\",\"tag4\":\"0\",\"tag5\":\"0\"},{\"id_list\":\"da57ec5b-122e-4d33-93cb-422836f7b95a\",\"list\":\"LiP Turma3 - 2020.6 - LAB07\",\"question\":\"Concatena\\xc3\\xa7\\xc3\\xa3o de strings\",\"difficulty\":2.0,\"tag1\":\"String\",\"tag2\":\"0\",\"tag3\":\"0\",\"tag4\":\"0\",\"tag5\":\"0\"},{\"id_list\":\"686bffd1-7947-45be-9765-72e17fcf7b47\",\"list\":\"LIP2020.5 09-07 (at\\xc3\\xa9  09-07 23:59)\",\"question\":\"Concatenar frases\",\"difficulty\":1.0,\"tag1\":\"0\",\"tag2\":\"0\",\"tag3\":\"0\",\"tag4\":\"0\",\"tag5\":\"0\"},{\"id_list\":\"c4d09d1b-73a5-45c6-8a0d-ead669114b65\",\"list\":\"Vetores - Lista Pr\\xc3\\xa1tica (LOP)\",\"question\":\"Concatenar vetores\",\"difficulty\":2.0,\"tag1\":\"Estruturas de Repeti\\xc3\\xa7\\xc3\\xa3o\",\"tag2\":\"Vetores\",\"tag3\":\"0\",\"tag4\":\"0\",\"tag5\":\"0\"},{\"id_list\":\"b2e8f346-219d-466f-a4b0-3a0bea25e16f\",\"list\":\"LIP2020.5 20-07 (at\\xc3\\xa9 20-07 23:59 -- Avalia\\xc3\\xa7\\xc3\\xa3o )\",\"question\":\"Conjectura de Collatz\",\"difficulty\":3.0,\"tag1\":\"0\",\"tag2\":\"0\",\"tag3\":\"0\",\"tag4\":\"0\",\"tag5\":\"0\"},{\"id_list\":\"ce039011-2503-4898-80e6-22f987fd60dd\",\"list\":\"LiP - Fun\\xc3\\xa7\\xc3\\xb5es Recursivas\",\"question\":\"Conjectura de Collatz\",\"difficulty\":3.0,\"tag1\":\"0\",\"tag2\":\"0\",\"tag3\":\"0\",\"tag4\":\"0\",\"tag5\":\"0\"},{\"id_list\":\"b4b1d413-503d-40ea-b93c-a21d1240d2e7\",\"list\":\"ITP - Aloca\\xc3\\xa7\\xc3\\xa3o din\\xc3\\xa2mica\",\"question\":\"Conjunto de inteiros\",\"difficulty\":3.0,\"tag1\":\"Fun\\xc3\\xa7\\xc3\\xb5es\",\"tag2\":\"Ponteiros\",\"tag3\":\"0\",\"tag4\":\"0\",\"tag5\":\"0\"},{\"id_list\":\"fb49ae2e-562f-4b90-8b4b-c73e40507dc8\",\"list\":\"ITP - Strings - Lista\",\"question\":\"Contador de mai\\xc3\\xbasculas e min\\xc3\\xbasculas\",\"difficulty\":1.0,\"tag1\":\"Vetores\",\"tag2\":\"0\",\"tag3\":\"0\",\"tag4\":\"0\",\"tag5\":\"0\"},{\"id_list\":\"813dedaa-0989-489b-9804-3850ae4b83d1\",\"list\":\"Repeti\\xc3\\xa7\\xc3\\xa3o contada - Lista Pr\\xc3\\xa1tica (LOP)\",\"question\":\"Contagem de 22 a 53\",\"difficulty\":2.0,\"tag1\":\"Estruturas de Repeti\\xc3\\xa7\\xc3\\xa3o\",\"tag2\":\"Estruturas de Repeti\\xc3\\xa7\\xc3\\xa3o Contada\",\"tag3\":\"0\",\"tag4\":\"0\",\"tag5\":\"0\"},{\"id_list\":\"2007f797-4427-48b6-94d0-609e123aa3e5\",\"list\":\"Lista IP C 02\",\"question\":\"Contagem de N at\\xc3\\xa9 M ou vice-versa\",\"difficulty\":3.0,\"tag1\":\"Estruturas Condicionais\",\"tag2\":\"Estruturas de Repeti\\xc3\\xa7\\xc3\\xa3o\",\"tag3\":\"0\",\"tag4\":\"0\",\"tag5\":\"0\"},{\"id_list\":\"c74ac415-e9a8-44ec-8020-3d3873b8e08d\",\"list\":\"LiP Turma3 - 2020.6 - LAB08\",\"question\":\"Contagem dos d\\xc3\\xadgitos em um vetor (com fun\\xc3\\xa7\\xc3\\xa3o)\",\"difficulty\":2.0,\"tag1\":\"Fun\\xc3\\xa7\\xc3\\xb5es\",\"tag2\":\"Vetores\",\"tag3\":\"0\",\"tag4\":\"0\",\"tag5\":\"0\"},{\"id_list\":\"0a2c49a2-482c-40d7-bc44-ee368f089560\",\"list\":\"Repeti\\xc3\\xa7\\xc3\\xa3o condicional - Lista Pr\\xc3\\xa1tica (LOP)\",\"question\":\"Contagem progressiva at\\xc3\\xa9 10\",\"difficulty\":2.0,\"tag1\":\"0\",\"tag2\":\"0\",\"tag3\":\"0\",\"tag4\":\"0\",\"tag5\":\"0\"},{\"id_list\":\"a4c6a43b-c5bb-4b76-b5b1-8d5ac6eec809\",\"list\":\"LIP 5AB 20.11.2020\",\"question\":\"Contagem recursiva de d\\xc3\\xadgitos\",\"difficulty\":3.0,\"tag1\":\"Recurs\\xc3\\xa3o\",\"tag2\":\"0\",\"tag3\":\"0\",\"tag4\":\"0\",\"tag5\":\"0\"},{\"id_list\":\"cea8acb0-2934-43f3-afb6-11ad246bac63\",\"list\":\"LIP 5CD 21.11.2020\",\"question\":\"Contagem recursiva de d\\xc3\\xadgitos\",\"difficulty\":3.0,\"tag1\":\"Recurs\\xc3\\xa3o\",\"tag2\":\"0\",\"tag3\":\"0\",\"tag4\":\"0\",\"tag5\":\"0\"},{\"id_list\":\"fbd7d783-4d81-46dc-8107-1ffb9c6e347a\",\"list\":\"Lista de laborat\\xc3\\xb3rio 06\",\"question\":\"Contagem recursiva de d\\xc3\\xadgitos\",\"difficulty\":3.0,\"tag1\":\"Recurs\\xc3\\xa3o\",\"tag2\":\"0\",\"tag3\":\"0\",\"tag4\":\"0\",\"tag5\":\"0\"},{\"id_list\":\"fbd7d783-4d81-46dc-8107-1ffb9c6e347a\",\"list\":\"Lista de laborat\\xc3\\xb3rio 06\",\"question\":\"Contagem recursivo da quantidade de d\\xc3\\xadgitos de um inteiro n\",\"difficulty\":2.0,\"tag1\":\"Recurs\\xc3\\xa3o\",\"tag2\":\"0\",\"tag3\":\"0\",\"tag4\":\"0\",\"tag5\":\"0\"},{\"id_list\":\"0a2c49a2-482c-40d7-bc44-ee368f089560\",\"list\":\"Repeti\\xc3\\xa7\\xc3\\xa3o condicional - Lista Pr\\xc3\\xa1tica (LOP)\",\"question\":\"Contagem regressiva\",\"difficulty\":2.0,\"tag1\":\"Estruturas de Repeti\\xc3\\xa7\\xc3\\xa3o\",\"tag2\":\"Estruturas de Repeti\\xc3\\xa7\\xc3\\xa3o Contada\",\"tag3\":\"0\",\"tag4\":\"0\",\"tag5\":\"0\"},{\"id_list\":\"dd1cd083-6c00-4605-9ff1-163bd4069363\",\"list\":\"Repeti\\xc3\\xa7\\xc3\\xa3o condicional - Lista Resolvida (LOP)\",\"question\":\"Contando de 2 em 2\",\"difficulty\":1.0,\"tag1\":\"0\",\"tag2\":\"0\",\"tag3\":\"0\",\"tag4\":\"0\",\"tag5\":\"0\"},{\"id_list\":\"ff7edf3b-2fe3-4e5c-a36f-3fab93d1f549\",\"list\":\"LIP2020.5 25-06 (at\\xc3\\xa9 25-06 23:59)\",\"question\":\"Contar primos\",\"difficulty\":2.0,\"tag1\":\"0\",\"tag2\":\"0\",\"tag3\":\"0\",\"tag4\":\"0\",\"tag5\":\"0\"},{\"id_list\":\"0a2c49a2-482c-40d7-bc44-ee368f089560\",\"list\":\"Repeti\\xc3\\xa7\\xc3\\xa3o condicional - Lista Pr\\xc3\\xa1tica (LOP)\",\"question\":\"Contar quantos s\\xc3\\xa3o maiores de 18 anos\",\"difficulty\":1.0,\"tag1\":\"0\",\"tag2\":\"0\",\"tag3\":\"0\",\"tag4\":\"0\",\"tag5\":\"0\"},{\"id_list\":\"12211c46-2fda-4392-99ce-a0dfc306a5e1\",\"list\":\"ITP - La\\xc3\\xa7os\",\"question\":\"Contar quantos s\\xc3\\xa3o maiores de 18 anos\",\"difficulty\":1.0,\"tag1\":\"0\",\"tag2\":\"0\",\"tag3\":\"0\",\"tag4\":\"0\",\"tag5\":\"0\"},{\"id_list\":\"d2f4890f-8a5d-4b17-a3b7-261ff6ce6246\",\"list\":\"Lista 1 - Exerc\\xc3\\xadcios Simples\",\"question\":\"Contar quantos s\\xc3\\xa3o maiores de 18 anos\",\"difficulty\":1.0,\"tag1\":\"0\",\"tag2\":\"0\",\"tag3\":\"0\",\"tag4\":\"0\",\"tag5\":\"0\"},{\"id_list\":\"fb49ae2e-562f-4b90-8b4b-c73e40507dc8\",\"list\":\"ITP - Strings - Lista\",\"question\":\"Convers\\xc3\\xa3o de CASE\",\"difficulty\":3.0,\"tag1\":\"0\",\"tag2\":\"0\",\"tag3\":\"0\",\"tag4\":\"0\",\"tag5\":\"0\"},{\"id_list\":\"19b679f9-9054-42d9-a71a-5660e9c285c8\",\"list\":\"LiP Turma3 - 2020.6 - LAB06\",\"question\":\"Convers\\xc3\\xa3o de decimal para bin\\xc3\\xa1rio\",\"difficulty\":3.0,\"tag1\":\"Vetores\",\"tag2\":\"0\",\"tag3\":\"0\",\"tag4\":\"0\",\"tag5\":\"0\"},{\"id_list\":\"9bfe2a0b-120f-4df7-a3f7-89a8e100b0b1\",\"list\":\"Vari\\xc3\\xa1veis e express\\xc3\\xb5es\",\"question\":\"Convers\\xc3\\xa3o de graus Celsius para Fahrenheit\",\"difficulty\":1.0,\"tag1\":\"0\",\"tag2\":\"0\",\"tag3\":\"0\",\"tag4\":\"0\",\"tag5\":\"0\"},{\"id_list\":\"bd91406e-0a5a-4d22-8e7d-f61a4352b509\",\"list\":\"Lab1_Vari\\xc3\\xa1veis, Constantes e Operadores\",\"question\":\"Convers\\xc3\\xa3o de graus Celsius para Fahrenheit\",\"difficulty\":1.0,\"tag1\":\"0\",\"tag2\":\"0\",\"tag3\":\"0\",\"tag4\":\"0\",\"tag5\":\"0\"},{\"id_list\":\"5f3febce-4c06-4913-98a3-b3102bdff6d6\",\"list\":\"Lista de laborat\\xc3\\xb3rio 01\",\"question\":\"Convers\\xc3\\xa3o de graus Celsius para graus Fahrenheit\",\"difficulty\":1.0,\"tag1\":\"0\",\"tag2\":\"0\",\"tag3\":\"0\",\"tag4\":\"0\",\"tag5\":\"0\"},{\"id_list\":\"b01f0c53-7467-497c-8d65-5a5fba96652d\",\"list\":\"T5D - 03-10-2020\",\"question\":\"Convers\\xc3\\xa3o de segundos para horas, minutos e segundos\",\"difficulty\":2.0,\"tag1\":\"Fun\\xc3\\xa7\\xc3\\xb5es\",\"tag2\":\"Estruturas de Repeti\\xc3\\xa7\\xc3\\xa3o\",\"tag3\":\"0\",\"tag4\":\"0\",\"tag5\":\"0\"},{\"id_list\":\"74eeea9b-bb3f-42fb-9852-da9a1b68c3fa\",\"list\":\"Lista IP C 01\",\"question\":\"Convers\\xc3\\xa3o de temperatura em graus Celsius para graus Fahrenheit com 2 casas decimais.\",\"difficulty\":1.0,\"tag1\":\"Operadores Aritm\\xc3\\xa9ticos\",\"tag2\":\"0\",\"tag3\":\"0\",\"tag4\":\"0\",\"tag5\":\"0\"},{\"id_list\":\"cf81af12-b0b7-40c2-8536-5e7445ace7a3\",\"list\":\"(Lop) Estruturas de decis\\xc3\\xa3o - Operadores L\\xc3\\xb3gicos\",\"question\":\"Convers\\xc3\\xa3o de Temperatura entre paises\",\"difficulty\":3.0,\"tag1\":\"0\",\"tag2\":\"0\",\"tag3\":\"0\",\"tag4\":\"0\",\"tag5\":\"0\"},{\"id_list\":\"74eeea9b-bb3f-42fb-9852-da9a1b68c3fa\",\"list\":\"Lista IP C 01\",\"question\":\"Convers\\xc3\\xa3o de tempo\",\"difficulty\":1.0,\"tag1\":\"0\",\"tag2\":\"0\",\"tag3\":\"0\",\"tag4\":\"0\",\"tag5\":\"0\"},{\"id_list\":\"9bfe2a0b-120f-4df7-a3f7-89a8e100b0b1\",\"list\":\"Vari\\xc3\\xa1veis e express\\xc3\\xb5es\",\"question\":\"Convers\\xc3\\xa3o de tempo\",\"difficulty\":1.0,\"tag1\":\"0\",\"tag2\":\"0\",\"tag3\":\"0\",\"tag4\":\"0\",\"tag5\":\"0\"},{\"id_list\":\"9bfe2a0b-120f-4df7-a3f7-89a8e100b0b1\",\"list\":\"Vari\\xc3\\xa1veis e express\\xc3\\xb5es\",\"question\":\"Convertendo de horas para dias\",\"difficulty\":2.0,\"tag1\":\"Operadores Aritm\\xc3\\xa9ticos\",\"tag2\":\"0\",\"tag3\":\"0\",\"tag4\":\"0\",\"tag5\":\"0\"},{\"id_list\":\"c6f3f5e5-0b0c-4396-92ba-d22d4125f555\",\"list\":\"Laborat\\xc3\\xb3rio 01 - Express\\xc3\\xb5es Aritm\\xc3\\xa9ticas\",\"question\":\"Convertendo de horas para dias\",\"difficulty\":2.0,\"tag1\":\"Operadores Aritm\\xc3\\xa9ticos\",\"tag2\":\"0\",\"tag3\":\"0\",\"tag4\":\"0\",\"tag5\":\"0\"},{\"id_list\":\"9bfe2a0b-120f-4df7-a3f7-89a8e100b0b1\",\"list\":\"Vari\\xc3\\xa1veis e express\\xc3\\xb5es\",\"question\":\"Convertendo de metros para polegadas\",\"difficulty\":2.0,\"tag1\":\"Operadores Aritm\\xc3\\xa9ticos\",\"tag2\":\"0\",\"tag3\":\"0\",\"tag4\":\"0\",\"tag5\":\"0\"},{\"id_list\":\"c6f3f5e5-0b0c-4396-92ba-d22d4125f555\",\"list\":\"Laborat\\xc3\\xb3rio 01 - Express\\xc3\\xb5es Aritm\\xc3\\xa9ticas\",\"question\":\"Convertendo de metros para polegadas\",\"difficulty\":2.0,\"tag1\":\"Operadores Aritm\\xc3\\xa9ticos\",\"tag2\":\"0\",\"tag3\":\"0\",\"tag4\":\"0\",\"tag5\":\"0\"},{\"id_list\":\"9bfe2a0b-120f-4df7-a3f7-89a8e100b0b1\",\"list\":\"Vari\\xc3\\xa1veis e express\\xc3\\xb5es\",\"question\":\"Convertendo p\\xc3\\xa9s, jardas e milhas.\",\"difficulty\":2.0,\"tag1\":\"Operadores Aritm\\xc3\\xa9ticos\",\"tag2\":\"0\",\"tag3\":\"0\",\"tag4\":\"0\",\"tag5\":\"0\"},{\"id_list\":\"c6f3f5e5-0b0c-4396-92ba-d22d4125f555\",\"list\":\"Laborat\\xc3\\xb3rio 01 - Express\\xc3\\xb5es Aritm\\xc3\\xa9ticas\",\"question\":\"Convertendo p\\xc3\\xa9s, jardas e milhas.\",\"difficulty\":2.0,\"tag1\":\"Operadores Aritm\\xc3\\xa9ticos\",\"tag2\":\"0\",\"tag3\":\"0\",\"tag4\":\"0\",\"tag5\":\"0\"},{\"id_list\":\"a36eee08-25f4-4843-9d9d-1c420911f7f4\",\"list\":\"Projeto Final parte 2 2020.6 3A\",\"question\":\"Convolu\\xc3\\xa7\\xc3\\xa3o para filtragem passa baixas\",\"difficulty\":1.0,\"tag1\":\"Fun\\xc3\\xa7\\xc3\\xb5es\",\"tag2\":\"Tipos Estruturados\",\"tag3\":\"Matrizes\",\"tag4\":\"0\",\"tag5\":\"0\"},{\"id_list\":\"74eeea9b-bb3f-42fb-9852-da9a1b68c3fa\",\"list\":\"Lista IP C 01\",\"question\":\"Coordenadas de um ponto\",\"difficulty\":3.0,\"tag1\":\"Operadores L\\xc3\\xb3gicos\",\"tag2\":\"Estruturas Condicionais\",\"tag3\":\"0\",\"tag4\":\"0\",\"tag5\":\"0\"},{\"id_list\":\"da57ec5b-122e-4d33-93cb-422836f7b95a\",\"list\":\"LiP Turma3 - 2020.6 - LAB07\",\"question\":\"Copiar substring em um intervalo\",\"difficulty\":2.0,\"tag1\":\"String\",\"tag2\":\"0\",\"tag3\":\"0\",\"tag4\":\"0\",\"tag5\":\"0\"},{\"id_list\":\"37e7728d-fa97-4f60-ad54-756dee26b8d8\",\"list\":\"Estruturas de repeti\\xc3\\xa7\\xc3\\xa3o\",\"question\":\"Copmrimentos da hipotenusa de um tri\\xc3\\xa2ngulo ret\\xc3\\xa2ngulo\",\"difficulty\":3.0,\"tag1\":\"Estruturas Condicionais\",\"tag2\":\"Estruturas de Repeti\\xc3\\xa7\\xc3\\xa3o\",\"tag3\":\"0\",\"tag4\":\"0\",\"tag5\":\"0\"},{\"id_list\":\"aafdbdef-053b-4b7d-af60-53cd9c275147\",\"list\":\"Laborat\\xc3\\xb3rio 1\",\"question\":\"Corrente m\\xc3\\xa1xima de um resistor\",\"difficulty\":1.0,\"tag1\":\"0\",\"tag2\":\"0\",\"tag3\":\"0\",\"tag4\":\"0\",\"tag5\":\"0\"},{\"id_list\":\"bd91406e-0a5a-4d22-8e7d-f61a4352b509\",\"list\":\"Lab1_Vari\\xc3\\xa1veis, Constantes e Operadores\",\"question\":\"Corrente m\\xc3\\xa1xima de um resistor\",\"difficulty\":1.0,\"tag1\":\"0\",\"tag2\":\"0\",\"tag3\":\"0\",\"tag4\":\"0\",\"tag5\":\"0\"},{\"id_list\":\"4398d9fa-3a28-4afd-baa9-1015ed88af9e\",\"list\":\"Lista para a minha turma teste\",\"question\":\"Corrida\",\"difficulty\":2.0,\"tag1\":\"Estruturas Condicionais\",\"tag2\":\"Estruturas de Repeti\\xc3\\xa7\\xc3\\xa3o\",\"tag3\":\"Estruturas de Repeti\\xc3\\xa7\\xc3\\xa3o Condicional\",\"tag4\":\"0\",\"tag5\":\"0\"},{\"id_list\":\"aca84206-87b2-4478-afa4-6193119cc06a\",\"list\":\"Repeti\\xc3\\xa7\\xc3\\xa3o condicional - Lista de Exerc\\xc3\\xadcios (LOP)\",\"question\":\"Crescimento populacional\",\"difficulty\":3.0,\"tag1\":\"Operadores Aritm\\xc3\\xa9ticos\",\"tag2\":\"Estruturas de Repeti\\xc3\\xa7\\xc3\\xa3o Condicional\",\"tag3\":\"0\",\"tag4\":\"0\",\"tag5\":\"0\"},{\"id_list\":\"5f3febce-4c06-4913-98a3-b3102bdff6d6\",\"list\":\"Lista de laborat\\xc3\\xb3rio 01\",\"question\":\"Criando vari\\xc3\\xa1veis e imprimindo seus valores\",\"difficulty\":1.0,\"tag1\":\"0\",\"tag2\":\"0\",\"tag3\":\"0\",\"tag4\":\"0\",\"tag5\":\"0\"},{\"id_list\":\"a1db654b-f6ec-45e2-a4cc-bc74fc28447d\",\"list\":\"LiP Aula 16 - Exerc\\xc3\\xadcios: Fun\\xc3\\xa7\\xc3\\xb5es, Vetores e Matrizes\",\"question\":\"Criptografia \",\"difficulty\":3.0,\"tag1\":\"0\",\"tag2\":\"0\",\"tag3\":\"0\",\"tag4\":\"0\",\"tag5\":\"0\"},{\"id_list\":\"ee7eb231-e25c-4130-8937-a37dd71d8f4b\",\"list\":\"LIP2020.5 13-07 (at\\xc3\\xa9 13-07 23:59 -- Avalia\\xc3\\xa7\\xc3\\xa3o )\",\"question\":\"Criptografia \",\"difficulty\":3.0,\"tag1\":\"0\",\"tag2\":\"0\",\"tag3\":\"0\",\"tag4\":\"0\",\"tag5\":\"0\"},{\"id_list\":\"e1f0e8be-54fe-4b54-8d6d-2451bedc0647\",\"list\":\"Treinamento - Express\\xc3\\xb5es Aritm\\xc3\\xa9ticas\",\"question\":\"Custo ao consumidor de um carro novo\",\"difficulty\":2.0,\"tag1\":\"Operadores Aritm\\xc3\\xa9ticos\",\"tag2\":\"0\",\"tag3\":\"0\",\"tag4\":\"0\",\"tag5\":\"0\"},{\"id_list\":\"498acd7b-f6b5-4727-b5c0-2b9800e7ecc1\",\"list\":\"Lista IP C 03\",\"question\":\"Data mais antiga\",\"difficulty\":3.0,\"tag1\":\"Fun\\xc3\\xa7\\xc3\\xb5es\",\"tag2\":\"Tipos Estruturados\",\"tag3\":\"0\",\"tag4\":\"0\",\"tag5\":\"0\"},{\"id_list\":\"f897d442-657d-40cc-aa2c-454b49a81630\",\"list\":\"LiP - Tipos Estruturados\",\"question\":\"Data mais antiga\",\"difficulty\":3.0,\"tag1\":\"Fun\\xc3\\xa7\\xc3\\xb5es\",\"tag2\":\"Tipos Estruturados\",\"tag3\":\"0\",\"tag4\":\"0\",\"tag5\":\"0\"},{\"id_list\":\"cf509a46-6a97-440e-a5c0-f7ba7537ef96\",\"list\":\"(Lop) Estruturas de decis\\xc3\\xa3o - problemas sobre divisibilidade\",\"question\":\"Data v\\xc3\\xa1lida\",\"difficulty\":5.0,\"tag1\":\"0\",\"tag2\":\"0\",\"tag3\":\"0\",\"tag4\":\"0\",\"tag5\":\"0\"},{\"id_list\":\"d69669c0-8201-48e2-975a-c8a96cd8fcff\",\"list\":\"teste\",\"question\":\"Data v\\xc3\\xa1lida\",\"difficulty\":5.0,\"tag1\":\"0\",\"tag2\":\"0\",\"tag3\":\"0\",\"tag4\":\"0\",\"tag5\":\"0\"},{\"id_list\":\"fd74c7eb-a840-4859-bd45-d2c954e7fb08\",\"list\":\"(Lop) Estruturas de deci\\xc3\\xa7\\xc3\\xa3o - problemas sobre divisibilidade\",\"question\":\"Data v\\xc3\\xa1lida\",\"difficulty\":5.0,\"tag1\":\"0\",\"tag2\":\"0\",\"tag3\":\"0\",\"tag4\":\"0\",\"tag5\":\"0\"},{\"id_list\":\"9e632481-e1bf-4926-9234-73a7b83a5fc3\",\"list\":\"LIP2020.5 22-06 (at\\xc3\\xa9 22-06 23:59 -- Avalia\\xc3\\xa7\\xc3\\xa3o )\",\"question\":\"Datas\",\"difficulty\":3.0,\"tag1\":\"0\",\"tag2\":\"0\",\"tag3\":\"0\",\"tag4\":\"0\",\"tag5\":\"0\"},{\"id_list\":\"9e632481-e1bf-4926-9234-73a7b83a5fc3\",\"list\":\"LIP2020.5 22-06 (at\\xc3\\xa9 22-06 23:59 -- Avalia\\xc3\\xa7\\xc3\\xa3o )\",\"question\":\"DDD\",\"difficulty\":2.0,\"tag1\":\"Estruturas Condicionais\",\"tag2\":\"0\",\"tag3\":\"0\",\"tag4\":\"0\",\"tag5\":\"0\"},{\"id_list\":\"9bccc3d3-46dd-4de9-b5a3-67d5beef38a2\",\"list\":\"T5AB - 02-10-2020\",\"question\":\"Dentro do c\\xc3\\xadrculo\",\"difficulty\":2.0,\"tag1\":\"0\",\"tag2\":\"0\",\"tag3\":\"0\",\"tag4\":\"0\",\"tag5\":\"0\"},{\"id_list\":\"a8273f55-b4e7-40e2-b937-60aa31c07456\",\"list\":\"LiP Aula 05 - Fun\\xc3\\xa7\\xc3\\xb5es (chamada, assinatura e defini\\xc3\\xa7\\xc3\\xa3o)\",\"question\":\"Dentro do c\\xc3\\xadrculo\",\"difficulty\":2.0,\"tag1\":\"0\",\"tag2\":\"0\",\"tag3\":\"0\",\"tag4\":\"0\",\"tag5\":\"0\"},{\"id_list\":\"b01f0c53-7467-497c-8d65-5a5fba96652d\",\"list\":\"T5D - 03-10-2020\",\"question\":\"Dentro do c\\xc3\\xadrculo\",\"difficulty\":2.0,\"tag1\":\"0\",\"tag2\":\"0\",\"tag3\":\"0\",\"tag4\":\"0\",\"tag5\":\"0\"},{\"id_list\":\"ff7edf3b-2fe3-4e5c-a36f-3fab93d1f549\",\"list\":\"LIP2020.5 25-06 (at\\xc3\\xa9 25-06 23:59)\",\"question\":\"Dentro do c\\xc3\\xadrculo\",\"difficulty\":2.0,\"tag1\":\"0\",\"tag2\":\"0\",\"tag3\":\"0\",\"tag4\":\"0\",\"tag5\":\"0\"},{\"id_list\":\"597fb902-de6b-4b1b-8ea8-ac5cf8f08d96\",\"list\":\"Estruturas de controle\",\"question\":\"Dentro ou fora da faixa [100,200]\",\"difficulty\":1.0,\"tag1\":\"Estruturas Condicionais\",\"tag2\":\"0\",\"tag3\":\"0\",\"tag4\":\"0\",\"tag5\":\"0\"},{\"id_list\":\"75cc9ec0-a5b5-478a-94f4-06b150679ad7\",\"list\":\"Lista Laborat\\xc3\\xb3rio 02\",\"question\":\"Dentro ou fora do ret\\xc3\\xa2ngulo\",\"difficulty\":1.0,\"tag1\":\"0\",\"tag2\":\"0\",\"tag3\":\"0\",\"tag4\":\"0\",\"tag5\":\"0\"},{\"id_list\":\"9c622709-f723-458d-a894-a93d0bbdc41a\",\"list\":\"Prova T03 Unidade I\",\"question\":\"Desenhando Objetos\",\"difficulty\":3.0,\"tag1\":\"0\",\"tag2\":\"0\",\"tag3\":\"0\",\"tag4\":\"0\",\"tag5\":\"0\"},{\"id_list\":\"9aeae0be-7dc8-4ba5-a576-7eb9699717e1\",\"list\":\"T05AB 18-09-2020\",\"question\":\"Desenhando um tri\\xc3\\xa2ngulo\",\"difficulty\":1.0,\"tag1\":\"Estruturas de Repeti\\xc3\\xa7\\xc3\\xa3o\",\"tag2\":\"0\",\"tag3\":\"0\",\"tag4\":\"0\",\"tag5\":\"0\"},{\"id_list\":\"b8b81141-cb48-4c8f-b470-6b9827a28d58\",\"list\":\"T05CD 19-09-2020\",\"question\":\"Desenhando uma pir\\xc3\\xa2mide\",\"difficulty\":2.0,\"tag1\":\"Estruturas de Repeti\\xc3\\xa7\\xc3\\xa3o\",\"tag2\":\"0\",\"tag3\":\"0\",\"tag4\":\"0\",\"tag5\":\"0\"},{\"id_list\":\"2007f797-4427-48b6-94d0-609e123aa3e5\",\"list\":\"Lista IP C 02\",\"question\":\"Desenhar Quadrado de tamanho vari\\xc3\\xa1vel.\",\"difficulty\":1.0,\"tag1\":\"Estruturas de Repeti\\xc3\\xa7\\xc3\\xa3o\",\"tag2\":\"0\",\"tag3\":\"0\",\"tag4\":\"0\",\"tag5\":\"0\"},{\"id_list\":\"b4b1d413-503d-40ea-b93c-a21d1240d2e7\",\"list\":\"ITP - Aloca\\xc3\\xa7\\xc3\\xa3o din\\xc3\\xa2mica\",\"question\":\"Desenho vetorial\",\"difficulty\":1.0,\"tag1\":\"Fun\\xc3\\xa7\\xc3\\xb5es\",\"tag2\":\"Ponteiros\",\"tag3\":\"0\",\"tag4\":\"0\",\"tag5\":\"0\"},{\"id_list\":\"37e7728d-fa97-4f60-ad54-756dee26b8d8\",\"list\":\"Estruturas de repeti\\xc3\\xa7\\xc3\\xa3o\",\"question\":\"Determinar os pares (x,y) para o valor m\\xc3\\xa1ximo da express\\xc3\\xa3o\",\"difficulty\":3.0,\"tag1\":\"Estruturas Condicionais\",\"tag2\":\"Estruturas de Repeti\\xc3\\xa7\\xc3\\xa3o\",\"tag3\":\"Estruturas de Repeti\\xc3\\xa7\\xc3\\xa3o Contada\",\"tag4\":\"0\",\"tag5\":\"0\"},{\"id_list\":\"dd1cd083-6c00-4605-9ff1-163bd4069363\",\"list\":\"Repeti\\xc3\\xa7\\xc3\\xa3o condicional - Lista Resolvida (LOP)\",\"question\":\"Dez vezes Bom dia!\",\"difficulty\":3.0,\"tag1\":\"0\",\"tag2\":\"0\",\"tag3\":\"0\",\"tag4\":\"0\",\"tag5\":\"0\"},{\"id_list\":\"c9a2aaf5-5a44-4307-ad91-03d75a64496f\",\"list\":\"LIP2020.5 01-07 (at\\xc3\\xa9 01-07 23:59)\",\"question\":\"Dezenas\",\"difficulty\":3.0,\"tag1\":\"0\",\"tag2\":\"0\",\"tag3\":\"0\",\"tag4\":\"0\",\"tag5\":\"0\"},{\"id_list\":\"9e632481-e1bf-4926-9234-73a7b83a5fc3\",\"list\":\"LIP2020.5 22-06 (at\\xc3\\xa9 22-06 23:59 -- Avalia\\xc3\\xa7\\xc3\\xa3o )\",\"question\":\"Dia da semana.\",\"difficulty\":2.0,\"tag1\":\"0\",\"tag2\":\"0\",\"tag3\":\"0\",\"tag4\":\"0\",\"tag5\":\"0\"},{\"id_list\":\"19b679f9-9054-42d9-a71a-5660e9c285c8\",\"list\":\"LiP Turma3 - 2020.6 - LAB06\",\"question\":\"Diferen\\xc3\\xa7a entre vetores de caracteres\",\"difficulty\":3.0,\"tag1\":\"Vetores\",\"tag2\":\"0\",\"tag3\":\"0\",\"tag4\":\"0\",\"tag5\":\"0\"},{\"id_list\":\"0d562031-a165-447e-abbc-b1dfb5437431\",\"list\":\"LiP Turma3 - 2020.6 - LAB04\",\"question\":\"D\\xc3\\xadgito na posi\\xc3\\xa7\\xc3\\xa3o (com fun\\xc3\\xa7\\xc3\\xa3o)\",\"difficulty\":3.0,\"tag1\":\"Fun\\xc3\\xa7\\xc3\\xb5es\",\"tag2\":\"Estruturas de Repeti\\xc3\\xa7\\xc3\\xa3o\",\"tag3\":\"0\",\"tag4\":\"0\",\"tag5\":\"0\"},{\"id_list\":\"d4074937-3f5c-4666-ab4e-29f82d54ac6e\",\"list\":\"ITP - Fun\\xc3\\xa7\\xc3\\xb5es - Lista\",\"question\":\"D\\xc3\\xadgito na posi\\xc3\\xa7\\xc3\\xa3o (com fun\\xc3\\xa7\\xc3\\xa3o)\",\"difficulty\":3.0,\"tag1\":\"Fun\\xc3\\xa7\\xc3\\xb5es\",\"tag2\":\"Estruturas de Repeti\\xc3\\xa7\\xc3\\xa3o\",\"tag3\":\"0\",\"tag4\":\"0\",\"tag5\":\"0\"},{\"id_list\":\"fe430330-db92-4244-8967-4e70540db612\",\"list\":\"Lista de laborat\\xc3\\xb3rio 05\",\"question\":\"D\\xc3\\xadgito na posi\\xc3\\xa7\\xc3\\xa3o (com fun\\xc3\\xa7\\xc3\\xa3o)\",\"difficulty\":3.0,\"tag1\":\"Fun\\xc3\\xa7\\xc3\\xb5es\",\"tag2\":\"Estruturas de Repeti\\xc3\\xa7\\xc3\\xa3o\",\"tag3\":\"0\",\"tag4\":\"0\",\"tag5\":\"0\"},{\"id_list\":\"31dab619-df8f-42a9-8813-abdddd9ede2c\",\"list\":\"LIP2020.5 24-06 (at\\xc3\\xa9 24-06 23:59 -- Avalia\\xc3\\xa7\\xc3\\xa3o )\",\"question\":\"Digitos\",\"difficulty\":2.0,\"tag1\":\"0\",\"tag2\":\"0\",\"tag3\":\"0\",\"tag4\":\"0\",\"tag5\":\"0\"},{\"id_list\":\"4b613441-2546-41ec-b3d2-eb9c4e85bc95\",\"list\":\"LiP Aula 03 - Comandos de Repeti\\xc3\\xa7\\xc3\\xa3o\",\"question\":\"Digitos\",\"difficulty\":2.0,\"tag1\":\"0\",\"tag2\":\"0\",\"tag3\":\"0\",\"tag4\":\"0\",\"tag5\":\"0\"},{\"id_list\":\"b8b81141-cb48-4c8f-b470-6b9827a28d58\",\"list\":\"T05CD 19-09-2020\",\"question\":\"Digitos\",\"difficulty\":2.0,\"tag1\":\"0\",\"tag2\":\"0\",\"tag3\":\"0\",\"tag4\":\"0\",\"tag5\":\"0\"},{\"id_list\":\"bff428d6-9bff-4011-b23a-4adeffea71ef\",\"list\":\"LIP2020.5 18-06 (at\\xc3\\xa9 18-06 23:59 -- Avalia\\xc3\\xa7\\xc3\\xa3o )\",\"question\":\"D\\xc3\\xadgitos \",\"difficulty\":3.0,\"tag1\":\"0\",\"tag2\":\"0\",\"tag3\":\"0\",\"tag4\":\"0\",\"tag5\":\"0\"},{\"id_list\":\"498acd7b-f6b5-4727-b5c0-2b9800e7ecc1\",\"list\":\"Lista IP C 03\",\"question\":\"Dist\\xc3\\xa2ncia entre dois pontos\",\"difficulty\":1.0,\"tag1\":\"Fun\\xc3\\xa7\\xc3\\xb5es\",\"tag2\":\"Tipos Estruturados\",\"tag3\":\"0\",\"tag4\":\"0\",\"tag5\":\"0\"},{\"id_list\":\"498acd7b-f6b5-4727-b5c0-2b9800e7ecc1\",\"list\":\"Lista IP C 03\",\"question\":\"Dist\\xc3\\xa2ncia entre dois pontos\",\"difficulty\":1.0,\"tag1\":\"Operadores Aritm\\xc3\\xa9ticos\",\"tag2\":\"0\",\"tag3\":\"0\",\"tag4\":\"0\",\"tag5\":\"0\"},{\"id_list\":\"f897d442-657d-40cc-aa2c-454b49a81630\",\"list\":\"LiP - Tipos Estruturados\",\"question\":\"Dist\\xc3\\xa2ncia entre dois pontos\",\"difficulty\":1.0,\"tag1\":\"Fun\\xc3\\xa7\\xc3\\xb5es\",\"tag2\":\"Tipos Estruturados\",\"tag3\":\"0\",\"tag4\":\"0\",\"tag5\":\"0\"},{\"id_list\":\"f897d442-657d-40cc-aa2c-454b49a81630\",\"list\":\"LiP - Tipos Estruturados\",\"question\":\"Dist\\xc3\\xa2ncia entre dois pontos\",\"difficulty\":1.0,\"tag1\":\"Operadores Aritm\\xc3\\xa9ticos\",\"tag2\":\"0\",\"tag3\":\"0\",\"tag4\":\"0\",\"tag5\":\"0\"},{\"id_list\":\"4341aea0-249a-4a1a-ad24-7010c42f173e\",\"list\":\"LIP2020.5 30-06 (at\\xc3\\xa9 30-06 23:59 -- Avalia\\xc3\\xa7\\xc3\\xa3o )\",\"question\":\"Divis\\xc3\\xa3o\",\"difficulty\":1.0,\"tag1\":\"0\",\"tag2\":\"0\",\"tag3\":\"0\",\"tag4\":\"0\",\"tag5\":\"0\"},{\"id_list\":\"89dfab26-7668-42f6-8dd1-439cf989c90c\",\"list\":\"LiP Aula 06 - Fun\\xc3\\xa7\\xc3\\xb5es: procedimento e passagem de par\\xc3\\xa2metros\",\"question\":\"Divis\\xc3\\xa3o\",\"difficulty\":1.0,\"tag1\":\"0\",\"tag2\":\"0\",\"tag3\":\"0\",\"tag4\":\"0\",\"tag5\":\"0\"},{\"id_list\":\"cf81af12-b0b7-40c2-8536-5e7445ace7a3\",\"list\":\"(Lop) Estruturas de decis\\xc3\\xa3o - Operadores L\\xc3\\xb3gicos\",\"question\":\"Divis\\xc3\\xa3o por 0\",\"difficulty\":2.0,\"tag1\":\"0\",\"tag2\":\"0\",\"tag3\":\"0\",\"tag4\":\"0\",\"tag5\":\"0\"},{\"id_list\":\"cf81af12-b0b7-40c2-8536-5e7445ace7a3\",\"list\":\"(Lop) Estruturas de decis\\xc3\\xa3o - Operadores L\\xc3\\xb3gicos\",\"question\":\"divis\\xc3\\xadvel por 2 n\\xc3\\xbameros ao mesmo tempo\",\"difficulty\":2.0,\"tag1\":\"0\",\"tag2\":\"0\",\"tag3\":\"0\",\"tag4\":\"0\",\"tag5\":\"0\"},{\"id_list\":\"9338cc7b-7cf4-4d9f-af63-25a7effa7189\",\"list\":\"(Lop) Estruturas de decis\\xc3\\xa3o - M\\xc3\\xbaltiplas decis\\xc3\\xb5es\",\"question\":\"Divis\\xc3\\xadvel por 3 e por 4  ao mesmo tempo.\",\"difficulty\":2.0,\"tag1\":\"0\",\"tag2\":\"0\",\"tag3\":\"0\",\"tag4\":\"0\",\"tag5\":\"0\"},{\"id_list\":\"9338cc7b-7cf4-4d9f-af63-25a7effa7189\",\"list\":\"(Lop) Estruturas de decis\\xc3\\xa3o - M\\xc3\\xbaltiplas decis\\xc3\\xb5es\",\"question\":\"Divis\\xc3\\xadvel por 3 e por 4 - vers\\xc3\\xa3o ainda mais complexa\",\"difficulty\":4.0,\"tag1\":\"0\",\"tag2\":\"0\",\"tag3\":\"0\",\"tag4\":\"0\",\"tag5\":\"0\"},{\"id_list\":\"9338cc7b-7cf4-4d9f-af63-25a7effa7189\",\"list\":\"(Lop) Estruturas de decis\\xc3\\xa3o - M\\xc3\\xbaltiplas decis\\xc3\\xb5es\",\"question\":\"Divis\\xc3\\xadvel por 3 e por 4 - vers\\xc3\\xa3o mais complexa\",\"difficulty\":4.0,\"tag1\":\"0\",\"tag2\":\"0\",\"tag3\":\"0\",\"tag4\":\"0\",\"tag5\":\"0\"},{\"id_list\":\"cf509a46-6a97-440e-a5c0-f7ba7537ef96\",\"list\":\"(Lop) Estruturas de decis\\xc3\\xa3o - problemas sobre divisibilidade\",\"question\":\"Divis\\xc3\\xadvel por 3 e por 5\",\"difficulty\":1.0,\"tag1\":\"0\",\"tag2\":\"0\",\"tag3\":\"0\",\"tag4\":\"0\",\"tag5\":\"0\"},{\"id_list\":\"fd74c7eb-a840-4859-bd45-d2c954e7fb08\",\"list\":\"(Lop) Estruturas de deci\\xc3\\xa7\\xc3\\xa3o - problemas sobre divisibilidade\",\"question\":\"Divis\\xc3\\xadvel por 3 e por 5\",\"difficulty\":1.0,\"tag1\":\"0\",\"tag2\":\"0\",\"tag3\":\"0\",\"tag4\":\"0\",\"tag5\":\"0\"},{\"id_list\":\"cf509a46-6a97-440e-a5c0-f7ba7537ef96\",\"list\":\"(Lop) Estruturas de decis\\xc3\\xa3o - problemas sobre divisibilidade\",\"question\":\"Divis\\xc3\\xadvel por 3 valores ao mesmo tempo\",\"difficulty\":3.0,\"tag1\":\"0\",\"tag2\":\"0\",\"tag3\":\"0\",\"tag4\":\"0\",\"tag5\":\"0\"},{\"id_list\":\"fd74c7eb-a840-4859-bd45-d2c954e7fb08\",\"list\":\"(Lop) Estruturas de deci\\xc3\\xa7\\xc3\\xa3o - problemas sobre divisibilidade\",\"question\":\"Divis\\xc3\\xadvel por 3 valores ao mesmo tempo\",\"difficulty\":3.0,\"tag1\":\"0\",\"tag2\":\"0\",\"tag3\":\"0\",\"tag4\":\"0\",\"tag5\":\"0\"},{\"id_list\":\"cf509a46-6a97-440e-a5c0-f7ba7537ef96\",\"list\":\"(Lop) Estruturas de decis\\xc3\\xa3o - problemas sobre divisibilidade\",\"question\":\"Divis\\xc3\\xadvel por 3, mas n\\xc3\\xa3o por 4\",\"difficulty\":3.0,\"tag1\":\"0\",\"tag2\":\"0\",\"tag3\":\"0\",\"tag4\":\"0\",\"tag5\":\"0\"},{\"id_list\":\"fd74c7eb-a840-4859-bd45-d2c954e7fb08\",\"list\":\"(Lop) Estruturas de deci\\xc3\\xa7\\xc3\\xa3o - problemas sobre divisibilidade\",\"question\":\"Divis\\xc3\\xadvel por 3, mas n\\xc3\\xa3o por 4\",\"difficulty\":3.0,\"tag1\":\"0\",\"tag2\":\"0\",\"tag3\":\"0\",\"tag4\":\"0\",\"tag5\":\"0\"},{\"id_list\":\"cf509a46-6a97-440e-a5c0-f7ba7537ef96\",\"list\":\"(Lop) Estruturas de decis\\xc3\\xa3o - problemas sobre divisibilidade\",\"question\":\"Divis\\xc3\\xadvel por 4 valores ao mesmo tempo\",\"difficulty\":3.0,\"tag1\":\"0\",\"tag2\":\"0\",\"tag3\":\"0\",\"tag4\":\"0\",\"tag5\":\"0\"},{\"id_list\":\"fd74c7eb-a840-4859-bd45-d2c954e7fb08\",\"list\":\"(Lop) Estruturas de deci\\xc3\\xa7\\xc3\\xa3o - problemas sobre divisibilidade\",\"question\":\"Divis\\xc3\\xadvel por 4 valores ao mesmo tempo\",\"difficulty\":3.0,\"tag1\":\"0\",\"tag2\":\"0\",\"tag3\":\"0\",\"tag4\":\"0\",\"tag5\":\"0\"},{\"id_list\":\"cf509a46-6a97-440e-a5c0-f7ba7537ef96\",\"list\":\"(Lop) Estruturas de decis\\xc3\\xa3o - problemas sobre divisibilidade\",\"question\":\"Divis\\xc3\\xadvel por 5\",\"difficulty\":1.0,\"tag1\":\"0\",\"tag2\":\"0\",\"tag3\":\"0\",\"tag4\":\"0\",\"tag5\":\"0\"},{\"id_list\":\"fd74c7eb-a840-4859-bd45-d2c954e7fb08\",\"list\":\"(Lop) Estruturas de deci\\xc3\\xa7\\xc3\\xa3o - problemas sobre divisibilidade\",\"question\":\"Divis\\xc3\\xadvel por 5\",\"difficulty\":1.0,\"tag1\":\"0\",\"tag2\":\"0\",\"tag3\":\"0\",\"tag4\":\"0\",\"tag5\":\"0\"},{\"id_list\":\"37e7728d-fa97-4f60-ad54-756dee26b8d8\",\"list\":\"Estruturas de repeti\\xc3\\xa7\\xc3\\xa3o\",\"question\":\"Divisores de um n\\xc3\\xbamero\",\"difficulty\":2.0,\"tag1\":\"Estruturas Condicionais\",\"tag2\":\"Estruturas de Repeti\\xc3\\xa7\\xc3\\xa3o\",\"tag3\":\"0\",\"tag4\":\"0\",\"tag5\":\"0\"},{\"id_list\":\"5c91cdd4-ceda-41ed-8164-4a963aab779d\",\"list\":\"LiP Turma3CD - 2020.6 - LAB03\",\"question\":\"Dois maiores dentre v\\xc3\\xa1rios n\\xc3\\xbameros\",\"difficulty\":3.0,\"tag1\":\"Estruturas Condicionais\",\"tag2\":\"Estruturas de Repeti\\xc3\\xa7\\xc3\\xa3o Condicional\",\"tag3\":\"0\",\"tag4\":\"0\",\"tag5\":\"0\"},{\"id_list\":\"bc1a2839-2fe0-423f-96ee-027ff3be0070\",\"list\":\"T05CD 26-09-2020\",\"question\":\"Dois maiores dentre v\\xc3\\xa1rios n\\xc3\\xbameros\",\"difficulty\":3.0,\"tag1\":\"Estruturas Condicionais\",\"tag2\":\"Estruturas de Repeti\\xc3\\xa7\\xc3\\xa3o Condicional\",\"tag3\":\"0\",\"tag4\":\"0\",\"tag5\":\"0\"},{\"id_list\":\"fb5a29da-a4f6-482c-a808-3c88d626ad1b\",\"list\":\"LiP 2 - Estruturas de Controle e Repeti\\xc3\\xa7\\xc3\\xa3o II\",\"question\":\"Dois menores\",\"difficulty\":3.0,\"tag1\":\"0\",\"tag2\":\"0\",\"tag3\":\"0\",\"tag4\":\"0\",\"tag5\":\"0\"},{\"id_list\":\"103e7c82-a2af-4732-8551-2911ab94ca12\",\"list\":\"T05AB 25-09-2020\",\"question\":\"Dois menores dentre v\\xc3\\xa1rios n\\xc3\\xbameros\",\"difficulty\":3.0,\"tag1\":\"Estruturas Condicionais\",\"tag2\":\"Estruturas de Repeti\\xc3\\xa7\\xc3\\xa3o Condicional\",\"tag3\":\"0\",\"tag4\":\"0\",\"tag5\":\"0\"},{\"id_list\":\"490204cf-8f2f-4b39-b32e-c27334919363\",\"list\":\"LiP Turma3AB - 2020.6 - LAB03\",\"question\":\"Dois menores dentre v\\xc3\\xa1rios n\\xc3\\xbameros\",\"difficulty\":3.0,\"tag1\":\"Estruturas Condicionais\",\"tag2\":\"Estruturas de Repeti\\xc3\\xa7\\xc3\\xa3o Condicional\",\"tag3\":\"0\",\"tag4\":\"0\",\"tag5\":\"0\"},{\"id_list\":\"cf81af12-b0b7-40c2-8536-5e7445ace7a3\",\"list\":\"(Lop) Estruturas de decis\\xc3\\xa3o - Operadores L\\xc3\\xb3gicos\",\"question\":\"Duas ou mais condi\\xc3\\xa7\\xc3\\xb5es com &&\",\"difficulty\":1.0,\"tag1\":\"0\",\"tag2\":\"0\",\"tag3\":\"0\",\"tag4\":\"0\",\"tag5\":\"0\"},{\"id_list\":\"f29ce6da-ffd4-4cab-8df5-b98f6c97bd5a\",\"list\":\"Lista de laborat\\xc3\\xb3rio 03\",\"question\":\"Duplicatas\",\"difficulty\":4.0,\"tag1\":\"Vetores\",\"tag2\":\"0\",\"tag3\":\"0\",\"tag4\":\"0\",\"tag5\":\"0\"},{\"id_list\":\"c6f3f5e5-0b0c-4396-92ba-d22d4125f555\",\"list\":\"Laborat\\xc3\\xb3rio 01 - Express\\xc3\\xb5es Aritm\\xc3\\xa9ticas\",\"question\":\"\\xc3\\x89 preciso praticar muito!\",\"difficulty\":1.0,\"tag1\":\"0\",\"tag2\":\"0\",\"tag3\":\"0\",\"tag4\":\"0\",\"tag5\":\"0\"},{\"id_list\":\"1e014265-1b4f-4d86-81d6-6e5e530e0e1a\",\"list\":\"Lista Laborat\\xc3\\xb3rio 03\",\"question\":\"\\xc3\\x89 primo com cinco algarismos?\",\"difficulty\":3.0,\"tag1\":\"0\",\"tag2\":\"0\",\"tag3\":\"0\",\"tag4\":\"0\",\"tag5\":\"0\"},{\"id_list\":\"247f3598-27a2-4d32-9118-b44e860af8d1\",\"list\":\"Lista de laborat\\xc3\\xb3rio 02\",\"question\":\"\\xc3\\x89 primo com cinco algarismos?\",\"difficulty\":3.0,\"tag1\":\"0\",\"tag2\":\"0\",\"tag3\":\"0\",\"tag4\":\"0\",\"tag5\":\"0\"},{\"id_list\":\"05b12380-7fc7-4cf1-8c33-85d6a01c2da2\",\"list\":\"Aula 12 - Strings\",\"question\":\"\\xc3\\x89 um n\\xc3\\xbamero?\",\"difficulty\":1.0,\"tag1\":\"0\",\"tag2\":\"0\",\"tag3\":\"0\",\"tag4\":\"0\",\"tag5\":\"0\"},{\"id_list\":\"686bffd1-7947-45be-9765-72e17fcf7b47\",\"list\":\"LIP2020.5 09-07 (at\\xc3\\xa9  09-07 23:59)\",\"question\":\"\\xc3\\x89 um n\\xc3\\xbamero?\",\"difficulty\":1.0,\"tag1\":\"0\",\"tag2\":\"0\",\"tag3\":\"0\",\"tag4\":\"0\",\"tag5\":\"0\"},{\"id_list\":\"8b706927-b56e-4193-ac89-6f8de689f880\",\"list\":\"LIP2020.5 03-07 (at\\xc3\\xa9 03-07 23:59)\",\"question\":\"Elemento repetido\",\"difficulty\":1.0,\"tag1\":\"0\",\"tag2\":\"0\",\"tag3\":\"0\",\"tag4\":\"0\",\"tag5\":\"0\"},{\"id_list\":\"a2159330-c142-4018-aa03-af14b62cbf1d\",\"list\":\"LiP Aula 10 - Vetores\",\"question\":\"Elemento repetido\",\"difficulty\":1.0,\"tag1\":\"0\",\"tag2\":\"0\",\"tag3\":\"0\",\"tag4\":\"0\",\"tag5\":\"0\"},{\"id_list\":\"a71b344b-1ebe-459d-a090-de66d8b2393b\",\"list\":\"T5CD17.10.2020\",\"question\":\"Elemento repetido\",\"difficulty\":1.0,\"tag1\":\"0\",\"tag2\":\"0\",\"tag3\":\"0\",\"tag4\":\"0\",\"tag5\":\"0\"},{\"id_list\":\"1551e3ed-c875-4bb3-8e4e-58407df40776\",\"list\":\"Vetores - Lista de Exerc\\xc3\\xadcios (LOP)\",\"question\":\"Elementos do vetor m\\xc3\\xbaltiplos de 3 e de 4 simultaneamente.\",\"difficulty\":2.0,\"tag1\":\"Estruturas Condicionais\",\"tag2\":\"Estruturas de Repeti\\xc3\\xa7\\xc3\\xa3o Condicional\",\"tag3\":\"Estruturas de Repeti\\xc3\\xa7\\xc3\\xa3o Contada\",\"tag4\":\"Vetores\",\"tag5\":\"0\"},{\"id_list\":\"a71b344b-1ebe-459d-a090-de66d8b2393b\",\"list\":\"T5CD17.10.2020\",\"question\":\"Elementos em Comum\",\"difficulty\":1.0,\"tag1\":\"Estruturas Condicionais\",\"tag2\":\"Estruturas de Repeti\\xc3\\xa7\\xc3\\xa3o\",\"tag3\":\"Vetores\",\"tag4\":\"0\",\"tag5\":\"0\"},{\"id_list\":\"ad4ce898-def7-4265-bc14-96f4bd2432ae\",\"list\":\"LiP Aula 11 - Vetores Exerc\\xc3\\xadcios\",\"question\":\"Elementos em Comum\",\"difficulty\":3.0,\"tag1\":\"Estruturas Condicionais\",\"tag2\":\"Estruturas de Repeti\\xc3\\xa7\\xc3\\xa3o\",\"tag3\":\"Vetores\",\"tag4\":\"0\",\"tag5\":\"0\"},{\"id_list\":\"e3989044-3219-4ec9-8a3f-12da6733da3e\",\"list\":\"LiP Aula 14 - Matrizes Exerc\\xc3\\xadcios\",\"question\":\"Elementos Repetidos na Matriz\",\"difficulty\":3.0,\"tag1\":\"Matrizes\",\"tag2\":\"0\",\"tag3\":\"0\",\"tag4\":\"0\",\"tag5\":\"0\"},{\"id_list\":\"a1db654b-f6ec-45e2-a4cc-bc74fc28447d\",\"list\":\"LiP Aula 16 - Exerc\\xc3\\xadcios: Fun\\xc3\\xa7\\xc3\\xb5es, Vetores e Matrizes\",\"question\":\"Embaralhando palavras\",\"difficulty\":2.0,\"tag1\":\"0\",\"tag2\":\"0\",\"tag3\":\"0\",\"tag4\":\"0\",\"tag5\":\"0\"},{\"id_list\":\"dc692412-f2a3-4b57-8262-fb5d8318b72e\",\"list\":\"LIP2020.5 10-07 (at\\xc3\\xa9 10-07 23:59)\",\"question\":\"Embaralhando palavras\",\"difficulty\":2.0,\"tag1\":\"0\",\"tag2\":\"0\",\"tag3\":\"0\",\"tag4\":\"0\",\"tag5\":\"0\"},{\"id_list\":\"597fb902-de6b-4b1b-8ea8-ac5cf8f08d96\",\"list\":\"Estruturas de controle\",\"question\":\"Empr\\xc3\\xa9stimo pode ser concedido?\",\"difficulty\":1.0,\"tag1\":\"Estruturas Condicionais\",\"tag2\":\"0\",\"tag3\":\"0\",\"tag4\":\"0\",\"tag5\":\"0\"},{\"id_list\":\"74eeea9b-bb3f-42fb-9852-da9a1b68c3fa\",\"list\":\"Lista IP C 01\",\"question\":\"Empr\\xc3\\xa9stimo pode ser concedido?\",\"difficulty\":1.0,\"tag1\":\"Estruturas Condicionais\",\"tag2\":\"0\",\"tag3\":\"0\",\"tag4\":\"0\",\"tag5\":\"0\"},{\"id_list\":\"9338cc7b-7cf4-4d9f-af63-25a7effa7189\",\"list\":\"(Lop) Estruturas de decis\\xc3\\xa3o - M\\xc3\\xbaltiplas decis\\xc3\\xb5es\",\"question\":\"Encontrando n\\xc3\\xbameros pares\",\"difficulty\":2.0,\"tag1\":\"0\",\"tag2\":\"0\",\"tag3\":\"0\",\"tag4\":\"0\",\"tag5\":\"0\"},{\"id_list\":\"2007f797-4427-48b6-94d0-609e123aa3e5\",\"list\":\"Lista IP C 02\",\"question\":\"Encontre a m\\xc3\\xa9dia\",\"difficulty\":1.0,\"tag1\":\"0\",\"tag2\":\"0\",\"tag3\":\"0\",\"tag4\":\"0\",\"tag5\":\"0\"},{\"id_list\":\"247f3598-27a2-4d32-9118-b44e860af8d1\",\"list\":\"Lista de laborat\\xc3\\xb3rio 02\",\"question\":\"Encontre a m\\xc3\\xa9dia\",\"difficulty\":1.0,\"tag1\":\"0\",\"tag2\":\"0\",\"tag3\":\"0\",\"tag4\":\"0\",\"tag5\":\"0\"},{\"id_list\":\"4b613441-2546-41ec-b3d2-eb9c4e85bc95\",\"list\":\"LiP Aula 03 - Comandos de Repeti\\xc3\\xa7\\xc3\\xa3o\",\"question\":\"Encontre a m\\xc3\\xa9dia\",\"difficulty\":1.0,\"tag1\":\"0\",\"tag2\":\"0\",\"tag3\":\"0\",\"tag4\":\"0\",\"tag5\":\"0\"},{\"id_list\":\"97172c5b-780c-422f-98c5-43a1a824d2ab\",\"list\":\"LIP2020.5 23-06 (at\\xc3\\xa9 23-06 23:59 )\",\"question\":\"Encontre a m\\xc3\\xa9dia\",\"difficulty\":1.0,\"tag1\":\"0\",\"tag2\":\"0\",\"tag3\":\"0\",\"tag4\":\"0\",\"tag5\":\"0\"},{\"id_list\":\"9aeae0be-7dc8-4ba5-a576-7eb9699717e1\",\"list\":\"T05AB 18-09-2020\",\"question\":\"Encontre a m\\xc3\\xa9dia\",\"difficulty\":1.0,\"tag1\":\"0\",\"tag2\":\"0\",\"tag3\":\"0\",\"tag4\":\"0\",\"tag5\":\"0\"},{\"id_list\":\"dd1cd083-6c00-4605-9ff1-163bd4069363\",\"list\":\"Repeti\\xc3\\xa7\\xc3\\xa3o condicional - Lista Resolvida (LOP)\",\"question\":\"Entendendo o contador\",\"difficulty\":1.0,\"tag1\":\"Estruturas de Repeti\\xc3\\xa7\\xc3\\xa3o\",\"tag2\":\"Estruturas de Repeti\\xc3\\xa7\\xc3\\xa3o Condicional\",\"tag3\":\"0\",\"tag4\":\"0\",\"tag5\":\"0\"},{\"id_list\":\"18df4694-8eb2-4929-b8d4-e8f0d0208960\",\"list\":\"ITP - Manipula\\xc3\\xa7\\xc3\\xa3o de Arquivos e  Modulariza\\xc3\\xa7\\xc3\\xa3o\",\"question\":\"Entrada e sa\\xc3\\xadda com arquivos CSV\",\"difficulty\":2.0,\"tag1\":\"Tipos Estruturados\",\"tag2\":\"0\",\"tag3\":\"0\",\"tag4\":\"0\",\"tag5\":\"0\"},{\"id_list\":\"498acd7b-f6b5-4727-b5c0-2b9800e7ecc1\",\"list\":\"Lista IP C 03\",\"question\":\"Entrada e sa\\xc3\\xadda com arquivos CSV\",\"difficulty\":2.0,\"tag1\":\"Tipos Estruturados\",\"tag2\":\"0\",\"tag3\":\"0\",\"tag4\":\"0\",\"tag5\":\"0\"},{\"id_list\":\"efb17f65-8e03-4781-bf79-e8e5c71dc086\",\"list\":\"Projeto Final parte 2 2020.6 3D\",\"question\":\"Equaliza\\xc3\\xa7\\xc3\\xa3o de histograma\",\"difficulty\":1.0,\"tag1\":\"Fun\\xc3\\xa7\\xc3\\xb5es\",\"tag2\":\"Tipos Estruturados\",\"tag3\":\"Matrizes\",\"tag4\":\"0\",\"tag5\":\"0\"},{\"id_list\":\"5ebe517f-50f2-4629-a22f-1dea895fce25\",\"list\":\"Aula - Fun\\xc3\\xa7\\xc3\\xb5es Aritm\\xc3\\xa9ticas\",\"question\":\"Equivalente em dias e horas\",\"difficulty\":2.0,\"tag1\":\"Operadores Aritm\\xc3\\xa9ticos\",\"tag2\":\"0\",\"tag3\":\"0\",\"tag4\":\"0\",\"tag5\":\"0\"},{\"id_list\":\"2007f797-4427-48b6-94d0-609e123aa3e5\",\"list\":\"Lista IP C 02\",\"question\":\"ES2020 Caixa Eletr\\xc3\\xb4nico\",\"difficulty\":1.0,\"tag1\":\"Fun\\xc3\\xa7\\xc3\\xb5es\",\"tag2\":\"0\",\"tag3\":\"0\",\"tag4\":\"0\",\"tag5\":\"0\"},{\"id_list\":\"ddf3f7e9-636e-4add-a10e-11cd23f05e11\",\"list\":\"T5AB 09-10-2020\",\"question\":\"ES2020 Caixa Eletr\\xc3\\xb4nico\",\"difficulty\":1.0,\"tag1\":\"Fun\\xc3\\xa7\\xc3\\xb5es\",\"tag2\":\"0\",\"tag3\":\"0\",\"tag4\":\"0\",\"tag5\":\"0\"},{\"id_list\":\"7e4080ed-1fa4-4056-88ec-7ce98eafbf7f\",\"list\":\"T5CD 14\\\\/11\\\\/2020\",\"question\":\"ES2020 C\\xc3\\xadrculo Cont\\xc3\\xa9m C\\xc3\\xadrculo\",\"difficulty\":1.0,\"tag1\":\"Tipos Estruturados\",\"tag2\":\"0\",\"tag3\":\"0\",\"tag4\":\"0\",\"tag5\":\"0\"},{\"id_list\":\"84c29b9d-c909-408a-85a7-18ada73c563a\",\"list\":\"Lista de laborat\\xc3\\xb3rio 07\",\"question\":\"ES2020 C\\xc3\\xadrculo Cont\\xc3\\xa9m C\\xc3\\xadrculo\",\"difficulty\":1.0,\"tag1\":\"Tipos Estruturados\",\"tag2\":\"0\",\"tag3\":\"0\",\"tag4\":\"0\",\"tag5\":\"0\"},{\"id_list\":\"498acd7b-f6b5-4727-b5c0-2b9800e7ecc1\",\"list\":\"Lista IP C 03\",\"question\":\"ES2020 Est - Jogadores\",\"difficulty\":1.0,\"tag1\":\"Tipos Estruturados\",\"tag2\":\"0\",\"tag3\":\"0\",\"tag4\":\"0\",\"tag5\":\"0\"},{\"id_list\":\"c7e8f429-ae39-4637-8278-f52049ff19df\",\"list\":\"T5 AB 13\\\\/11\\\\/2020\",\"question\":\"ES2020 Est - Jogadores\",\"difficulty\":1.0,\"tag1\":\"Tipos Estruturados\",\"tag2\":\"0\",\"tag3\":\"0\",\"tag4\":\"0\",\"tag5\":\"0\"},{\"id_list\":\"f3ea9b19-ca95-4cba-84e1-30489d089abe\",\"list\":\"LiP - Tipos Estruturados Exerc\\xc3\\xadcios\",\"question\":\"ES2020 Est - Jogadores\",\"difficulty\":1.0,\"tag1\":\"Tipos Estruturados\",\"tag2\":\"0\",\"tag3\":\"0\",\"tag4\":\"0\",\"tag5\":\"0\"},{\"id_list\":\"7e4080ed-1fa4-4056-88ec-7ce98eafbf7f\",\"list\":\"T5CD 14\\\\/11\\\\/2020\",\"question\":\"ES2020 Est - Ra\\xc3\\xadzes reais\",\"difficulty\":1.0,\"tag1\":\"Tipos Estruturados\",\"tag2\":\"0\",\"tag3\":\"0\",\"tag4\":\"0\",\"tag5\":\"0\"},{\"id_list\":\"c7e8f429-ae39-4637-8278-f52049ff19df\",\"list\":\"T5 AB 13\\\\/11\\\\/2020\",\"question\":\"ES2020 Est - Semestre\",\"difficulty\":1.0,\"tag1\":\"Tipos Estruturados\",\"tag2\":\"0\",\"tag3\":\"0\",\"tag4\":\"0\",\"tag5\":\"0\"},{\"id_list\":\"f3ea9b19-ca95-4cba-84e1-30489d089abe\",\"list\":\"LiP - Tipos Estruturados Exerc\\xc3\\xadcios\",\"question\":\"ES2020 Est - Semestre\",\"difficulty\":1.0,\"tag1\":\"Tipos Estruturados\",\"tag2\":\"0\",\"tag3\":\"0\",\"tag4\":\"0\",\"tag5\":\"0\"},{\"id_list\":\"498acd7b-f6b5-4727-b5c0-2b9800e7ecc1\",\"list\":\"Lista IP C 03\",\"question\":\"ES2020 Est - Ve\\xc3\\xadculos\",\"difficulty\":1.0,\"tag1\":\"Tipos Estruturados\",\"tag2\":\"0\",\"tag3\":\"0\",\"tag4\":\"0\",\"tag5\":\"0\"},{\"id_list\":\"7e4080ed-1fa4-4056-88ec-7ce98eafbf7f\",\"list\":\"T5CD 14\\\\/11\\\\/2020\",\"question\":\"ES2020 Est - Ve\\xc3\\xadculos\",\"difficulty\":1.0,\"tag1\":\"Tipos Estruturados\",\"tag2\":\"0\",\"tag3\":\"0\",\"tag4\":\"0\",\"tag5\":\"0\"},{\"id_list\":\"84c29b9d-c909-408a-85a7-18ada73c563a\",\"list\":\"Lista de laborat\\xc3\\xb3rio 07\",\"question\":\"ES2020 Est - Ve\\xc3\\xadculos\",\"difficulty\":1.0,\"tag1\":\"Tipos Estruturados\",\"tag2\":\"0\",\"tag3\":\"0\",\"tag4\":\"0\",\"tag5\":\"0\"},{\"id_list\":\"ddf3f7e9-636e-4add-a10e-11cd23f05e11\",\"list\":\"T5AB 09-10-2020\",\"question\":\"ES2020 Inverso\",\"difficulty\":1.0,\"tag1\":\"Fun\\xc3\\xa7\\xc3\\xb5es\",\"tag2\":\"0\",\"tag3\":\"0\",\"tag4\":\"0\",\"tag5\":\"0\"},{\"id_list\":\"ddf3f7e9-636e-4add-a10e-11cd23f05e11\",\"list\":\"T5AB 09-10-2020\",\"question\":\"ES2020 MMC e MDC\",\"difficulty\":1.0,\"tag1\":\"Fun\\xc3\\xa7\\xc3\\xb5es\",\"tag2\":\"0\",\"tag3\":\"0\",\"tag4\":\"0\",\"tag5\":\"0\"},{\"id_list\":\"84c29b9d-c909-408a-85a7-18ada73c563a\",\"list\":\"Lista de laborat\\xc3\\xb3rio 07\",\"question\":\"ES2020 Produto Escalar\",\"difficulty\":1.0,\"tag1\":\"Tipos Estruturados\",\"tag2\":\"0\",\"tag3\":\"0\",\"tag4\":\"0\",\"tag5\":\"0\"},{\"id_list\":\"c7e8f429-ae39-4637-8278-f52049ff19df\",\"list\":\"T5 AB 13\\\\/11\\\\/2020\",\"question\":\"ES2020 Produto Escalar\",\"difficulty\":1.0,\"tag1\":\"Tipos Estruturados\",\"tag2\":\"0\",\"tag3\":\"0\",\"tag4\":\"0\",\"tag5\":\"0\"},{\"id_list\":\"f3ea9b19-ca95-4cba-84e1-30489d089abe\",\"list\":\"LiP - Tipos Estruturados Exerc\\xc3\\xadcios\",\"question\":\"ES2020 Produto Escalar\",\"difficulty\":1.0,\"tag1\":\"Tipos Estruturados\",\"tag2\":\"0\",\"tag3\":\"0\",\"tag4\":\"0\",\"tag5\":\"0\"},{\"id_list\":\"7e4080ed-1fa4-4056-88ec-7ce98eafbf7f\",\"list\":\"T5CD 14\\\\/11\\\\/2020\",\"question\":\"ES2020 Relat\\xc3\\xb3rio 1\",\"difficulty\":1.0,\"tag1\":\"Tipos Estruturados\",\"tag2\":\"0\",\"tag3\":\"0\",\"tag4\":\"0\",\"tag5\":\"0\"},{\"id_list\":\"84c29b9d-c909-408a-85a7-18ada73c563a\",\"list\":\"Lista de laborat\\xc3\\xb3rio 07\",\"question\":\"ES2020 Relat\\xc3\\xb3rio 1\",\"difficulty\":1.0,\"tag1\":\"Tipos Estruturados\",\"tag2\":\"0\",\"tag3\":\"0\",\"tag4\":\"0\",\"tag5\":\"0\"},{\"id_list\":\"498acd7b-f6b5-4727-b5c0-2b9800e7ecc1\",\"list\":\"Lista IP C 03\",\"question\":\"ES2020 Relat\\xc3\\xb3rio 2\",\"difficulty\":1.0,\"tag1\":\"Tipos Estruturados\",\"tag2\":\"0\",\"tag3\":\"0\",\"tag4\":\"0\",\"tag5\":\"0\"},{\"id_list\":\"84c29b9d-c909-408a-85a7-18ada73c563a\",\"list\":\"Lista de laborat\\xc3\\xb3rio 07\",\"question\":\"ES2020 Relat\\xc3\\xb3rio 2\",\"difficulty\":1.0,\"tag1\":\"Tipos Estruturados\",\"tag2\":\"0\",\"tag3\":\"0\",\"tag4\":\"0\",\"tag5\":\"0\"},{\"id_list\":\"c7e8f429-ae39-4637-8278-f52049ff19df\",\"list\":\"T5 AB 13\\\\/11\\\\/2020\",\"question\":\"ES2020 Relat\\xc3\\xb3rio 2\",\"difficulty\":1.0,\"tag1\":\"Tipos Estruturados\",\"tag2\":\"0\",\"tag3\":\"0\",\"tag4\":\"0\",\"tag5\":\"0\"},{\"id_list\":\"f3ea9b19-ca95-4cba-84e1-30489d089abe\",\"list\":\"LiP - Tipos Estruturados Exerc\\xc3\\xadcios\",\"question\":\"ES2020 Relat\\xc3\\xb3rio 2\",\"difficulty\":1.0,\"tag1\":\"Tipos Estruturados\",\"tag2\":\"0\",\"tag3\":\"0\",\"tag4\":\"0\",\"tag5\":\"0\"},{\"id_list\":\"d5f7aae9-e1de-428b-8277-32f1f8d48ed0\",\"list\":\"LiP Turma3 - 2020.6 - LAB11\",\"question\":\"Escrita e leitura de arquivos CSV\",\"difficulty\":2.0,\"tag1\":\"Tipos Estruturados\",\"tag2\":\"Vetores\",\"tag3\":\"0\",\"tag4\":\"0\",\"tag5\":\"0\"},{\"id_list\":\"81236336-6ff0-4c64-8eba-e2d98233de07\",\"list\":\"LiP Turma3 - 2020.6 - LAB10\",\"question\":\"Estimativa de PI\",\"difficulty\":1.0,\"tag1\":\"Fun\\xc3\\xa7\\xc3\\xb5es\",\"tag2\":\"CN\",\"tag3\":\"0\",\"tag4\":\"0\",\"tag5\":\"0\"},{\"id_list\":\"6893c2d2-49b5-4476-8d0d-cf39313f0aec\",\"list\":\"ITP - Structs e Enumera\\xc3\\xa7\\xc3\\xb5es - Lista\",\"question\":\"Estrutura tipada\",\"difficulty\":1.0,\"tag1\":\"Fun\\xc3\\xa7\\xc3\\xb5es\",\"tag2\":\"0\",\"tag3\":\"0\",\"tag4\":\"0\",\"tag5\":\"0\"},{\"id_list\":\"93cd33c4-109a-401e-87e9-e26ff5929d37\",\"list\":\"Vetores - Lista Resolvida (LOP)\",\"question\":\"Evoluindo a busca de um elemento em um vetor\",\"difficulty\":3.0,\"tag1\":\"Vetores\",\"tag2\":\"0\",\"tag3\":\"0\",\"tag4\":\"0\",\"tag5\":\"0\"},{\"id_list\":\"74eeea9b-bb3f-42fb-9852-da9a1b68c3fa\",\"list\":\"Lista IP C 01\",\"question\":\"Exibi\\xc3\\xa7\\xc3\\xa3o caractere em m\\xc3\\xbaltiplos formatos\",\"difficulty\":1.0,\"tag1\":\"0\",\"tag2\":\"0\",\"tag3\":\"0\",\"tag4\":\"0\",\"tag5\":\"0\"},{\"id_list\":\"d92afa9b-2def-4faf-9889-17bdf68642bf\",\"list\":\"ITP - Recurs\\xc3\\xa3o - Lista\",\"question\":\"Exponencial do N\\xc3\\xbamero Neperiano - Recursivo\",\"difficulty\":2.0,\"tag1\":\"Recurs\\xc3\\xa3o\",\"tag2\":\"0\",\"tag3\":\"0\",\"tag4\":\"0\",\"tag5\":\"0\"},{\"id_list\":\"234df799-1f9e-4366-bba2-f09d613b7199\",\"list\":\"LIP2020.5 16-06 (at\\xc3\\xa9 16-06 23:59)\",\"question\":\"Express\\xc3\\xb5es\",\"difficulty\":1.0,\"tag1\":\"0\",\"tag2\":\"0\",\"tag3\":\"0\",\"tag4\":\"0\",\"tag5\":\"0\"},{\"id_list\":\"ccf05536-c640-4fe7-a65e-1247dc24cbf5\",\"list\":\"teste express\\xc3\\xb5es\",\"question\":\"Express\\xc3\\xb5es\",\"difficulty\":1.0,\"tag1\":\"0\",\"tag2\":\"0\",\"tag3\":\"0\",\"tag4\":\"0\",\"tag5\":\"0\"},{\"id_list\":\"813dedaa-0989-489b-9804-3850ae4b83d1\",\"list\":\"Repeti\\xc3\\xa7\\xc3\\xa3o contada - Lista Pr\\xc3\\xa1tica (LOP)\",\"question\":\"Falsa multiplica\\xc3\\xa7\\xc3\\xa3o\",\"difficulty\":1.0,\"tag1\":\"Estruturas de Repeti\\xc3\\xa7\\xc3\\xa3o\",\"tag2\":\"0\",\"tag3\":\"0\",\"tag4\":\"0\",\"tag5\":\"0\"},{\"id_list\":\"31dab619-df8f-42a9-8813-abdddd9ede2c\",\"list\":\"LIP2020.5 24-06 (at\\xc3\\xa9 24-06 23:59 -- Avalia\\xc3\\xa7\\xc3\\xa3o )\",\"question\":\"Fatores Primos\",\"difficulty\":2.0,\"tag1\":\"0\",\"tag2\":\"0\",\"tag3\":\"0\",\"tag4\":\"0\",\"tag5\":\"0\"},{\"id_list\":\"b8b81141-cb48-4c8f-b470-6b9827a28d58\",\"list\":\"T05CD 19-09-2020\",\"question\":\"Fatores Primos\",\"difficulty\":2.0,\"tag1\":\"0\",\"tag2\":\"0\",\"tag3\":\"0\",\"tag4\":\"0\",\"tag5\":\"0\"},{\"id_list\":\"eb7d471b-ca19-4fbc-bf45-8c14039be6d5\",\"list\":\"LiP Aula 04 - Exerc\\xc3\\xadcios Comandos de Repeti\\xc3\\xa7\\xc3\\xa3o\",\"question\":\"Fatores Primos\",\"difficulty\":2.0,\"tag1\":\"0\",\"tag2\":\"0\",\"tag3\":\"0\",\"tag4\":\"0\",\"tag5\":\"0\"},{\"id_list\":\"34691c68-f01d-46ad-808d-6bbd44bcd9a2\",\"list\":\"Repeti\\xc3\\xa7\\xc3\\xa3o contada - Lista Resolvida (LOP)\",\"question\":\"Fatorial simples\",\"difficulty\":2.0,\"tag1\":\"0\",\"tag2\":\"0\",\"tag3\":\"0\",\"tag4\":\"0\",\"tag5\":\"0\"},{\"id_list\":\"efb17f65-8e03-4781-bf79-e8e5c71dc086\",\"list\":\"Projeto Final parte 2 2020.6 3D\",\"question\":\"Filtragem por dilata\\xc3\\xa7\\xc3\\xa3o\",\"difficulty\":1.0,\"tag1\":\"Fun\\xc3\\xa7\\xc3\\xb5es\",\"tag2\":\"Tipos Estruturados\",\"tag3\":\"Matrizes\",\"tag4\":\"0\",\"tag5\":\"0\"},{\"id_list\":\"09833f76-016f-45f1-a85d-2a9e30c64b0f\",\"list\":\"Projeto Final parte 2 2020.6 3C\",\"question\":\"Filtragem por eros\\xc3\\xa3o\",\"difficulty\":1.0,\"tag1\":\"Fun\\xc3\\xa7\\xc3\\xb5es\",\"tag2\":\"Tipos Estruturados\",\"tag3\":\"Matrizes\",\"tag4\":\"0\",\"tag5\":\"0\"},{\"id_list\":\"1415f543-dd94-4e9e-a594-b4396b01093e\",\"list\":\"IMD0012 - 2020.6: Lista Obrigat\\xc3\\xb3ria, Semana 1\",\"question\":\"Fluxograma\",\"difficulty\":2.0,\"tag1\":\"0\",\"tag2\":\"0\",\"tag3\":\"0\",\"tag4\":\"0\",\"tag5\":\"0\"},{\"id_list\":\"102050fa-c902-4258-a988-01dad84ff63f\",\"list\":\"Aula - Introdu\\xc3\\xa7\\xc3\\xa3o Express\\xc3\\xb5es Aritim\\xc3\\xa9ticas\",\"question\":\"F\\xc3\\xb3rmula de Bh\\xc3\\xa1skara\",\"difficulty\":2.0,\"tag1\":\"Operadores Aritm\\xc3\\xa9ticos\",\"tag2\":\"0\",\"tag3\":\"0\",\"tag4\":\"0\",\"tag5\":\"0\"},{\"id_list\":\"a1db654b-f6ec-45e2-a4cc-bc74fc28447d\",\"list\":\"LiP Aula 16 - Exerc\\xc3\\xadcios: Fun\\xc3\\xa7\\xc3\\xb5es, Vetores e Matrizes\",\"question\":\"Frase Pal\\xc3\\xadndromo\",\"difficulty\":2.0,\"tag1\":\"0\",\"tag2\":\"0\",\"tag3\":\"0\",\"tag4\":\"0\",\"tag5\":\"0\"},{\"id_list\":\"dc692412-f2a3-4b57-8262-fb5d8318b72e\",\"list\":\"LIP2020.5 10-07 (at\\xc3\\xa9 10-07 23:59)\",\"question\":\"Frase Pal\\xc3\\xadndromo\",\"difficulty\":2.0,\"tag1\":\"0\",\"tag2\":\"0\",\"tag3\":\"0\",\"tag4\":\"0\",\"tag5\":\"0\"},{\"id_list\":\"a5aa2e33-3df5-4b4c-8c2c-fe2086b98c60\",\"list\":\"LiP 2 - Fun\\xc3\\xa7\\xc3\\xb5es I\",\"question\":\"Fun\\xc3\\xa7\\xc3\\xa3o Dentro do C\\xc3\\xadrculo\",\"difficulty\":1.0,\"tag1\":\"0\",\"tag2\":\"0\",\"tag3\":\"0\",\"tag4\":\"0\",\"tag5\":\"0\"},{\"id_list\":\"2f6a2419-aa93-4f69-8a8e-e19815e8d991\",\"list\":\"T5CD 10-10-2020\",\"question\":\"Fun\\xc3\\xa7\\xc3\\xa3o D\\xc3\\xadgitos Pares\",\"difficulty\":4.0,\"tag1\":\"0\",\"tag2\":\"0\",\"tag3\":\"0\",\"tag4\":\"0\",\"tag5\":\"0\"},{\"id_list\":\"a1ce342b-5dff-4ca7-aee5-54d835c7bf3a\",\"list\":\"LiP 2 - Fun\\xc3\\xa7\\xc3\\xb5es II\",\"question\":\"Fun\\xc3\\xa7\\xc3\\xa3o D\\xc3\\xadgitos Pares\",\"difficulty\":4.0,\"tag1\":\"0\",\"tag2\":\"0\",\"tag3\":\"0\",\"tag4\":\"0\",\"tag5\":\"0\"},{\"id_list\":\"d7e70fc3-6faa-4911-ab41-14be28b6eac2\",\"list\":\"LiP Aula 07 - Fun\\xc3\\xa7\\xc3\\xb5es: par\\xc3\\xa2metros de entrada\\\\/sa\\xc3\\xadda\",\"question\":\"Fun\\xc3\\xa7\\xc3\\xa3o D\\xc3\\xadgitos Pares\",\"difficulty\":4.0,\"tag1\":\"0\",\"tag2\":\"0\",\"tag3\":\"0\",\"tag4\":\"0\",\"tag5\":\"0\"},{\"id_list\":\"a1ce342b-5dff-4ca7-aee5-54d835c7bf3a\",\"list\":\"LiP 2 - Fun\\xc3\\xa7\\xc3\\xb5es II\",\"question\":\"Fun\\xc3\\xa7\\xc3\\xa3o Divis\\xc3\\xa3o\",\"difficulty\":1.0,\"tag1\":\"0\",\"tag2\":\"0\",\"tag3\":\"0\",\"tag4\":\"0\",\"tag5\":\"0\"},{\"id_list\":\"a1ce342b-5dff-4ca7-aee5-54d835c7bf3a\",\"list\":\"LiP 2 - Fun\\xc3\\xa7\\xc3\\xb5es II\",\"question\":\"Fun\\xc3\\xa7\\xc3\\xa3o Hora, minuto, segundo\",\"difficulty\":1.0,\"tag1\":\"0\",\"tag2\":\"0\",\"tag3\":\"0\",\"tag4\":\"0\",\"tag5\":\"0\"},{\"id_list\":\"a5aa2e33-3df5-4b4c-8c2c-fe2086b98c60\",\"list\":\"LiP 2 - Fun\\xc3\\xa7\\xc3\\xb5es I\",\"question\":\"Fun\\xc3\\xa7\\xc3\\xa3o Lista Primos\",\"difficulty\":3.0,\"tag1\":\"0\",\"tag2\":\"0\",\"tag3\":\"0\",\"tag4\":\"0\",\"tag5\":\"0\"},{\"id_list\":\"b01f0c53-7467-497c-8d65-5a5fba96652d\",\"list\":\"T5D - 03-10-2020\",\"question\":\"Fun\\xc3\\xa7\\xc3\\xa3o Lista Primos\",\"difficulty\":3.0,\"tag1\":\"0\",\"tag2\":\"0\",\"tag3\":\"0\",\"tag4\":\"0\",\"tag5\":\"0\"},{\"id_list\":\"a5aa2e33-3df5-4b4c-8c2c-fe2086b98c60\",\"list\":\"LiP 2 - Fun\\xc3\\xa7\\xc3\\xb5es I\",\"question\":\"Fun\\xc3\\xa7\\xc3\\xa3o M\\xc3\\xa1ximo3\",\"difficulty\":1.0,\"tag1\":\"0\",\"tag2\":\"0\",\"tag3\":\"0\",\"tag4\":\"0\",\"tag5\":\"0\"},{\"id_list\":\"1a615153-3b80-49d0-8e40-2fe732abb942\",\"list\":\"LiP Turma3 - 2020.6 - LAB09\",\"question\":\"Fun\\xc3\\xa7\\xc3\\xa3o para calcular o maior de cada coluna\",\"difficulty\":2.0,\"tag1\":\"Fun\\xc3\\xa7\\xc3\\xb5es\",\"tag2\":\"Matrizes\",\"tag3\":\"0\",\"tag4\":\"0\",\"tag5\":\"0\"},{\"id_list\":\"fa46745c-3579-4673-8e1d-afaaabdc7d9d\",\"list\":\"LIP 5AB 30.10.2020\",\"question\":\"Fun\\xc3\\xa7\\xc3\\xa3o para elementos comuns de vetores coluna\",\"difficulty\":3.0,\"tag1\":\"Fun\\xc3\\xa7\\xc3\\xb5es\",\"tag2\":\"Matrizes\",\"tag3\":\"Vetores\",\"tag4\":\"0\",\"tag5\":\"0\"},{\"id_list\":\"1a615153-3b80-49d0-8e40-2fe732abb942\",\"list\":\"LiP Turma3 - 2020.6 - LAB09\",\"question\":\"Fun\\xc3\\xa7\\xc3\\xa3o para informar se matriz \\xc3\\xa9 esparsa\",\"difficulty\":2.0,\"tag1\":\"Fun\\xc3\\xa7\\xc3\\xb5es\",\"tag2\":\"Matrizes\",\"tag3\":\"0\",\"tag4\":\"0\",\"tag5\":\"0\"},{\"id_list\":\"498acd7b-f6b5-4727-b5c0-2b9800e7ecc1\",\"list\":\"Lista IP C 03\",\"question\":\"Fun\\xc3\\xa7\\xc3\\xa3o para informar se matriz \\xc3\\xa9 esparsa\",\"difficulty\":2.0,\"tag1\":\"Fun\\xc3\\xa7\\xc3\\xb5es\",\"tag2\":\"Matrizes\",\"tag3\":\"0\",\"tag4\":\"0\",\"tag5\":\"0\"},{\"id_list\":\"fe430330-db92-4244-8967-4e70540db612\",\"list\":\"Lista de laborat\\xc3\\xb3rio 05\",\"question\":\"Fun\\xc3\\xa7\\xc3\\xa3o para informar se matriz \\xc3\\xa9 esparsa\",\"difficulty\":2.0,\"tag1\":\"Fun\\xc3\\xa7\\xc3\\xb5es\",\"tag2\":\"Matrizes\",\"tag3\":\"0\",\"tag4\":\"0\",\"tag5\":\"0\"},{\"id_list\":\"1a615153-3b80-49d0-8e40-2fe732abb942\",\"list\":\"LiP Turma3 - 2020.6 - LAB09\",\"question\":\"Fun\\xc3\\xa7\\xc3\\xa3o para informar se matriz \\xc3\\xa9 ortogonal\",\"difficulty\":3.0,\"tag1\":\"Fun\\xc3\\xa7\\xc3\\xb5es\",\"tag2\":\"Matrizes\",\"tag3\":\"0\",\"tag4\":\"0\",\"tag5\":\"0\"},{\"id_list\":\"27125775-d6a4-4bb0-9ded-303da0998654\",\"list\":\"Lista de laborat\\xc3\\xb3rio 09\",\"question\":\"Fun\\xc3\\xa7\\xc3\\xa3o para informar se matriz \\xc3\\xa9 ortogonal\",\"difficulty\":3.0,\"tag1\":\"Fun\\xc3\\xa7\\xc3\\xb5es\",\"tag2\":\"Matrizes\",\"tag3\":\"0\",\"tag4\":\"0\",\"tag5\":\"0\"},{\"id_list\":\"ebcb7c87-6d1a-4a47-bbd5-e7f9a4762645\",\"list\":\"LiP Turma3 - 2020.6 - LAB05\",\"question\":\"Fun\\xc3\\xa7\\xc3\\xa3o para maior e menor de uma sequ\\xc3\\xaancia I\",\"difficulty\":3.0,\"tag1\":\"Fun\\xc3\\xa7\\xc3\\xb5es\",\"tag2\":\"0\",\"tag3\":\"0\",\"tag4\":\"0\",\"tag5\":\"0\"},{\"id_list\":\"fa46745c-3579-4673-8e1d-afaaabdc7d9d\",\"list\":\"LIP 5AB 30.10.2020\",\"question\":\"Fun\\xc3\\xa7\\xc3\\xa3o para matriz de permuta\\xc3\\xa7\\xc3\\xa3o\",\"difficulty\":2.0,\"tag1\":\"Fun\\xc3\\xa7\\xc3\\xb5es\",\"tag2\":\"Matrizes\",\"tag3\":\"0\",\"tag4\":\"0\",\"tag5\":\"0\"},{\"id_list\":\"ffbfc59f-079a-4cd4-b4dc-1fd6cde87d47\",\"list\":\"LIP 5CD 31.10.2020\",\"question\":\"Fun\\xc3\\xa7\\xc3\\xa3o para matriz de permuta\\xc3\\xa7\\xc3\\xa3o\",\"difficulty\":2.0,\"tag1\":\"Fun\\xc3\\xa7\\xc3\\xb5es\",\"tag2\":\"Matrizes\",\"tag3\":\"0\",\"tag4\":\"0\",\"tag5\":\"0\"},{\"id_list\":\"ebcb7c87-6d1a-4a47-bbd5-e7f9a4762645\",\"list\":\"LiP Turma3 - 2020.6 - LAB05\",\"question\":\"Fun\\xc3\\xa7\\xc3\\xa3o para MDC e MMC\",\"difficulty\":2.0,\"tag1\":\"Fun\\xc3\\xa7\\xc3\\xb5es\",\"tag2\":\"0\",\"tag3\":\"0\",\"tag4\":\"0\",\"tag5\":\"0\"},{\"id_list\":\"ebcb7c87-6d1a-4a47-bbd5-e7f9a4762645\",\"list\":\"LiP Turma3 - 2020.6 - LAB05\",\"question\":\"Fun\\xc3\\xa7\\xc3\\xa3o para m\\xc3\\xa9dia das notas, situa\\xc3\\xa7\\xc3\\xa3o e nota necess\\xc3\\xa1ria\",\"difficulty\":3.0,\"tag1\":\"Fun\\xc3\\xa7\\xc3\\xb5es\",\"tag2\":\"0\",\"tag3\":\"0\",\"tag4\":\"0\",\"tag5\":\"0\"},{\"id_list\":\"1a615153-3b80-49d0-8e40-2fe732abb942\",\"list\":\"LiP Turma3 - 2020.6 - LAB09\",\"question\":\"Fun\\xc3\\xa7\\xc3\\xa3o para multiplica\\xc3\\xa7\\xc3\\xa3o de matrizes quadradas\",\"difficulty\":3.0,\"tag1\":\"Fun\\xc3\\xa7\\xc3\\xb5es\",\"tag2\":\"Matrizes\",\"tag3\":\"0\",\"tag4\":\"0\",\"tag5\":\"0\"},{\"id_list\":\"ebcb7c87-6d1a-4a47-bbd5-e7f9a4762645\",\"list\":\"LiP Turma3 - 2020.6 - LAB05\",\"question\":\"Fun\\xc3\\xa7\\xc3\\xa3o para quociente e resto\",\"difficulty\":1.0,\"tag1\":\"Fun\\xc3\\xa7\\xc3\\xb5es\",\"tag2\":\"0\",\"tag3\":\"0\",\"tag4\":\"0\",\"tag5\":\"0\"},{\"id_list\":\"ffbfc59f-079a-4cd4-b4dc-1fd6cde87d47\",\"list\":\"LIP 5CD 31.10.2020\",\"question\":\"Fun\\xc3\\xa7\\xc3\\xa3o para rotacionar bordas da matriz (sentido anti-hor\\xc3\\xa1rio)\",\"difficulty\":3.0,\"tag1\":\"Fun\\xc3\\xa7\\xc3\\xb5es\",\"tag2\":\"Matrizes\",\"tag3\":\"0\",\"tag4\":\"0\",\"tag5\":\"0\"},{\"id_list\":\"fa46745c-3579-4673-8e1d-afaaabdc7d9d\",\"list\":\"LIP 5AB 30.10.2020\",\"question\":\"Fun\\xc3\\xa7\\xc3\\xa3o para rotacionar bordas da matriz (sentido hor\\xc3\\xa1rio)\",\"difficulty\":3.0,\"tag1\":\"Fun\\xc3\\xa7\\xc3\\xb5es\",\"tag2\":\"Matrizes\",\"tag3\":\"0\",\"tag4\":\"0\",\"tag5\":\"0\"},{\"id_list\":\"ebcb7c87-6d1a-4a47-bbd5-e7f9a4762645\",\"list\":\"LiP Turma3 - 2020.6 - LAB05\",\"question\":\"Fun\\xc3\\xa7\\xc3\\xa3o para total de d\\xc3\\xadgitos pares e \\xc3\\xadmpares\",\"difficulty\":2.0,\"tag1\":\"Fun\\xc3\\xa7\\xc3\\xb5es\",\"tag2\":\"0\",\"tag3\":\"0\",\"tag4\":\"0\",\"tag5\":\"0\"},{\"id_list\":\"ffbfc59f-079a-4cd4-b4dc-1fd6cde87d47\",\"list\":\"LIP 5CD 31.10.2020\",\"question\":\"Fun\\xc3\\xa7\\xc3\\xa3o para unir elementos de vetores linha\",\"difficulty\":3.0,\"tag1\":\"Fun\\xc3\\xa7\\xc3\\xb5es\",\"tag2\":\"Matrizes\",\"tag3\":\"Vetores\",\"tag4\":\"0\",\"tag5\":\"0\"},{\"id_list\":\"0d562031-a165-447e-abbc-b1dfb5437431\",\"list\":\"LiP Turma3 - 2020.6 - LAB04\",\"question\":\"Fun\\xc3\\xa7\\xc3\\xa3o pot\\xc3\\xaancia\",\"difficulty\":2.0,\"tag1\":\"Fun\\xc3\\xa7\\xc3\\xb5es\",\"tag2\":\"Estruturas de Repeti\\xc3\\xa7\\xc3\\xa3o\",\"tag3\":\"0\",\"tag4\":\"0\",\"tag5\":\"0\"},{\"id_list\":\"2007f797-4427-48b6-94d0-609e123aa3e5\",\"list\":\"Lista IP C 02\",\"question\":\"Fun\\xc3\\xa7\\xc3\\xa3o pot\\xc3\\xaancia com 2 casas decimais.\",\"difficulty\":2.0,\"tag1\":\"Fun\\xc3\\xa7\\xc3\\xb5es\",\"tag2\":\"Estruturas de Repeti\\xc3\\xa7\\xc3\\xa3o\",\"tag3\":\"0\",\"tag4\":\"0\",\"tag5\":\"0\"},{\"id_list\":\"b01f0c53-7467-497c-8d65-5a5fba96652d\",\"list\":\"T5D - 03-10-2020\",\"question\":\"Fun\\xc3\\xa7\\xc3\\xa3o quociente\",\"difficulty\":2.0,\"tag1\":\"Fun\\xc3\\xa7\\xc3\\xb5es\",\"tag2\":\"Estruturas de Repeti\\xc3\\xa7\\xc3\\xa3o\",\"tag3\":\"0\",\"tag4\":\"0\",\"tag5\":\"0\"},{\"id_list\":\"0d562031-a165-447e-abbc-b1dfb5437431\",\"list\":\"LiP Turma3 - 2020.6 - LAB04\",\"question\":\"Fun\\xc3\\xa7\\xc3\\xa3o resto\",\"difficulty\":2.0,\"tag1\":\"Fun\\xc3\\xa7\\xc3\\xb5es\",\"tag2\":\"Estruturas de Repeti\\xc3\\xa7\\xc3\\xa3o\",\"tag3\":\"0\",\"tag4\":\"0\",\"tag5\":\"0\"},{\"id_list\":\"a1ce342b-5dff-4ca7-aee5-54d835c7bf3a\",\"list\":\"LiP 2 - Fun\\xc3\\xa7\\xc3\\xb5es II\",\"question\":\"Fun\\xc3\\xa7\\xc3\\xa3o Soma Fatorial\",\"difficulty\":1.0,\"tag1\":\"0\",\"tag2\":\"0\",\"tag3\":\"0\",\"tag4\":\"0\",\"tag5\":\"0\"},{\"id_list\":\"a5aa2e33-3df5-4b4c-8c2c-fe2086b98c60\",\"list\":\"LiP 2 - Fun\\xc3\\xa7\\xc3\\xb5es I\",\"question\":\"Fun\\xc3\\xa7\\xc3\\xa3o Soma Intervalo\",\"difficulty\":1.0,\"tag1\":\"0\",\"tag2\":\"0\",\"tag3\":\"0\",\"tag4\":\"0\",\"tag5\":\"0\"},{\"id_list\":\"fe430330-db92-4244-8967-4e70540db612\",\"list\":\"Lista de laborat\\xc3\\xb3rio 05\",\"question\":\"Fun\\xc3\\xa7\\xc3\\xb5es - cifra de C\\xc3\\xa9sar\",\"difficulty\":1.0,\"tag1\":\"Fun\\xc3\\xa7\\xc3\\xb5es\",\"tag2\":\"0\",\"tag3\":\"0\",\"tag4\":\"0\",\"tag5\":\"0\"},{\"id_list\":\"d4074937-3f5c-4666-ab4e-29f82d54ac6e\",\"list\":\"ITP - Fun\\xc3\\xa7\\xc3\\xb5es - Lista\",\"question\":\"Fun\\xc3\\xa7\\xc3\\xb5es - M\\xc3\\xa9dias UFRN\",\"difficulty\":3.0,\"tag1\":\"Fun\\xc3\\xa7\\xc3\\xb5es\",\"tag2\":\"0\",\"tag3\":\"0\",\"tag4\":\"0\",\"tag5\":\"0\"},{\"id_list\":\"d4074937-3f5c-4666-ab4e-29f82d54ac6e\",\"list\":\"ITP - Fun\\xc3\\xa7\\xc3\\xb5es - Lista\",\"question\":\"Fun\\xc3\\xa7\\xc3\\xb5es - n\\xc3\\xbamero primo\",\"difficulty\":2.0,\"tag1\":\"Fun\\xc3\\xa7\\xc3\\xb5es\",\"tag2\":\"0\",\"tag3\":\"0\",\"tag4\":\"0\",\"tag5\":\"0\"},{\"id_list\":\"d4074937-3f5c-4666-ab4e-29f82d54ac6e\",\"list\":\"ITP - Fun\\xc3\\xa7\\xc3\\xb5es - Lista\",\"question\":\"Fun\\xc3\\xa7\\xc3\\xb5es - ordena\\xc3\\xa7\\xc3\\xa3o vetor\",\"difficulty\":3.0,\"tag1\":\"Fun\\xc3\\xa7\\xc3\\xb5es\",\"tag2\":\"0\",\"tag3\":\"0\",\"tag4\":\"0\",\"tag5\":\"0\"},{\"id_list\":\"595d5aab-1e14-4a64-a9b7-bcdc03c64611\",\"list\":\"LIP 5CD 04.12.2020\",\"question\":\"Fun\\xc3\\xa7\\xc3\\xb5es - Ordenar vetor\",\"difficulty\":1.0,\"tag1\":\"Fun\\xc3\\xa7\\xc3\\xb5es\",\"tag2\":\"0\",\"tag3\":\"0\",\"tag4\":\"0\",\"tag5\":\"0\"},{\"id_list\":\"d6043c35-4622-4004-a2d7-49ae8145d71c\",\"list\":\"LIP 5AB 04.12.2020\",\"question\":\"Fun\\xc3\\xa7\\xc3\\xb5es - Ordenar vetor\",\"difficulty\":1.0,\"tag1\":\"Fun\\xc3\\xa7\\xc3\\xb5es\",\"tag2\":\"0\",\"tag3\":\"0\",\"tag4\":\"0\",\"tag5\":\"0\"},{\"id_list\":\"fe558fa7-d86c-418d-a1f8-d52f52e06674\",\"list\":\"LiP - Ordena\\xc3\\xa7\\xc3\\xa3o Exerc\\xc3\\xadcios\",\"question\":\"Fun\\xc3\\xa7\\xc3\\xb5es - Ordenar vetor\",\"difficulty\":1.0,\"tag1\":\"Fun\\xc3\\xa7\\xc3\\xb5es\",\"tag2\":\"0\",\"tag3\":\"0\",\"tag4\":\"0\",\"tag5\":\"0\"},{\"id_list\":\"4398d9fa-3a28-4afd-baa9-1015ed88af9e\",\"list\":\"Lista para a minha turma teste\",\"question\":\"Fun\\xc3\\xa7\\xc3\\xb5es (corrigir)\",\"difficulty\":3.0,\"tag1\":\"Operadores L\\xc3\\xb3gicos\",\"tag2\":\"Estruturas Condicionais\",\"tag3\":\"Estruturas de Repeti\\xc3\\xa7\\xc3\\xa3o\",\"tag4\":\"Estruturas de Repeti\\xc3\\xa7\\xc3\\xa3o Contada\",\"tag5\":\"0\"},{\"id_list\":\"498acd7b-f6b5-4727-b5c0-2b9800e7ecc1\",\"list\":\"Lista IP C 03\",\"question\":\"Fun\\xc3\\xa7\\xc3\\xb5es: soma de matrizes\",\"difficulty\":2.0,\"tag1\":\"Fun\\xc3\\xa7\\xc3\\xb5es\",\"tag2\":\"0\",\"tag3\":\"0\",\"tag4\":\"0\",\"tag5\":\"0\"},{\"id_list\":\"81236336-6ff0-4c64-8eba-e2d98233de07\",\"list\":\"LiP Turma3 - 2020.6 - LAB10\",\"question\":\"Gerador de strings aleat\\xc3\\xb3rias\",\"difficulty\":1.0,\"tag1\":\"Fun\\xc3\\xa7\\xc3\\xb5es\",\"tag2\":\"String\",\"tag3\":\"0\",\"tag4\":\"0\",\"tag5\":\"0\"},{\"id_list\":\"1f2fb866-0bea-4475-b0af-e4a060b0904a\",\"list\":\"ITP - Matriz - Lista\",\"question\":\"Gomoku horizontal e vertical\",\"difficulty\":3.0,\"tag1\":\"Matrizes\",\"tag2\":\"Estruturas de Repeti\\xc3\\xa7\\xc3\\xa3o\",\"tag3\":\"0\",\"tag4\":\"0\",\"tag5\":\"0\"},{\"id_list\":\"4398d9fa-3a28-4afd-baa9-1015ed88af9e\",\"list\":\"Lista para a minha turma teste\",\"question\":\"Guarda costeira (corrigir)\",\"difficulty\":3.0,\"tag1\":\"Estruturas Condicionais\",\"tag2\":\"Estruturas de Repeti\\xc3\\xa7\\xc3\\xa3o\",\"tag3\":\"Estruturas de Repeti\\xc3\\xa7\\xc3\\xa3o Condicional\",\"tag4\":\"0\",\"tag5\":\"0\"},{\"id_list\":\"2c43b603-7f97-4a51-9663-2efdd3845ef4\",\"list\":\"LIP2020.5 26-06 (at\\xc3\\xa9 26-06 23:59 -- Avalia\\xc3\\xa7\\xc3\\xa3o )\",\"question\":\"Horas do dia\",\"difficulty\":2.0,\"tag1\":\"0\",\"tag2\":\"0\",\"tag3\":\"0\",\"tag4\":\"0\",\"tag5\":\"0\"},{\"id_list\":\"89dfab26-7668-42f6-8dd1-439cf989c90c\",\"list\":\"LiP Aula 06 - Fun\\xc3\\xa7\\xc3\\xb5es: procedimento e passagem de par\\xc3\\xa2metros\",\"question\":\"Horas do dia\",\"difficulty\":2.0,\"tag1\":\"0\",\"tag2\":\"0\",\"tag3\":\"0\",\"tag4\":\"0\",\"tag5\":\"0\"},{\"id_list\":\"4341aea0-249a-4a1a-ad24-7010c42f173e\",\"list\":\"LIP2020.5 30-06 (at\\xc3\\xa9 30-06 23:59 -- Avalia\\xc3\\xa7\\xc3\\xa3o )\",\"question\":\"Horas do dia\",\"difficulty\":2.0,\"tag1\":\"0\",\"tag2\":\"0\",\"tag3\":\"0\",\"tag4\":\"0\",\"tag5\":\"0\"},{\"id_list\":\"89dfab26-7668-42f6-8dd1-439cf989c90c\",\"list\":\"LiP Aula 06 - Fun\\xc3\\xa7\\xc3\\xb5es: procedimento e passagem de par\\xc3\\xa2metros\",\"question\":\"Horas do dia\",\"difficulty\":2.0,\"tag1\":\"0\",\"tag2\":\"0\",\"tag3\":\"0\",\"tag4\":\"0\",\"tag5\":\"0\"},{\"id_list\":\"aca84206-87b2-4478-afa4-6193119cc06a\",\"list\":\"Repeti\\xc3\\xa7\\xc3\\xa3o condicional - Lista de Exerc\\xc3\\xadcios (LOP)\",\"question\":\"Idades\",\"difficulty\":2.0,\"tag1\":\"Estruturas de Repeti\\xc3\\xa7\\xc3\\xa3o\",\"tag2\":\"Estruturas de Repeti\\xc3\\xa7\\xc3\\xa3o Condicional\",\"tag3\":\"0\",\"tag4\":\"0\",\"tag5\":\"0\"},{\"id_list\":\"9338cc7b-7cf4-4d9f-af63-25a7effa7189\",\"list\":\"(Lop) Estruturas de decis\\xc3\\xa3o - M\\xc3\\xbaltiplas decis\\xc3\\xb5es\",\"question\":\"Idades e permiss\\xc3\\xb5es\",\"difficulty\":3.0,\"tag1\":\"0\",\"tag2\":\"0\",\"tag3\":\"0\",\"tag4\":\"0\",\"tag5\":\"0\"},{\"id_list\":\"cf81af12-b0b7-40c2-8536-5e7445ace7a3\",\"list\":\"(Lop) Estruturas de decis\\xc3\\xa3o - Operadores L\\xc3\\xb3gicos\",\"question\":\"Identifica\\xc3\\xa7\\xc3\\xa3o de Bimestres\",\"difficulty\":1.0,\"tag1\":\"0\",\"tag2\":\"0\",\"tag3\":\"0\",\"tag4\":\"0\",\"tag5\":\"0\"},{\"id_list\":\"f5bc770d-2ac7-4060-ab1c-e42b5541f7a7\",\"list\":\"Repeti\\xc3\\xa7\\xc3\\xa3o contada - Lista de Exerc\\xc3\\xadcios (LOP)\",\"question\":\"Identificando os primos\",\"difficulty\":3.0,\"tag1\":\"0\",\"tag2\":\"0\",\"tag3\":\"0\",\"tag4\":\"0\",\"tag5\":\"0\"},{\"id_list\":\"9338cc7b-7cf4-4d9f-af63-25a7effa7189\",\"list\":\"(Lop) Estruturas de decis\\xc3\\xa3o - M\\xc3\\xbaltiplas decis\\xc3\\xb5es\",\"question\":\"IMC novamente com 2 decis\\xc3\\xb5es\",\"difficulty\":2.0,\"tag1\":\"0\",\"tag2\":\"0\",\"tag3\":\"0\",\"tag4\":\"0\",\"tag5\":\"0\"},{\"id_list\":\"9338cc7b-7cf4-4d9f-af63-25a7effa7189\",\"list\":\"(Lop) Estruturas de decis\\xc3\\xa3o - M\\xc3\\xbaltiplas decis\\xc3\\xb5es\",\"question\":\"IMC simples com 2 decis\\xc3\\xb5es\",\"difficulty\":2.0,\"tag1\":\"0\",\"tag2\":\"0\",\"tag3\":\"0\",\"tag4\":\"0\",\"tag5\":\"0\"},{\"id_list\":\"cf509a46-6a97-440e-a5c0-f7ba7537ef96\",\"list\":\"(Lop) Estruturas de decis\\xc3\\xa3o - problemas sobre divisibilidade\",\"question\":\"Impar ou multiplo de 6\",\"difficulty\":3.0,\"tag1\":\"0\",\"tag2\":\"0\",\"tag3\":\"0\",\"tag4\":\"0\",\"tag5\":\"0\"},{\"id_list\":\"fd74c7eb-a840-4859-bd45-d2c954e7fb08\",\"list\":\"(Lop) Estruturas de deci\\xc3\\xa7\\xc3\\xa3o - problemas sobre divisibilidade\",\"question\":\"Impar ou multiplo de 6\",\"difficulty\":3.0,\"tag1\":\"0\",\"tag2\":\"0\",\"tag3\":\"0\",\"tag4\":\"0\",\"tag5\":\"0\"},{\"id_list\":\"37e7728d-fa97-4f60-ad54-756dee26b8d8\",\"list\":\"Estruturas de repeti\\xc3\\xa7\\xc3\\xa3o\",\"question\":\"\\xc3\\x8dmpares consecutivos\",\"difficulty\":3.0,\"tag1\":\"Estruturas Condicionais\",\"tag2\":\"Estruturas de Repeti\\xc3\\xa7\\xc3\\xa3o\",\"tag3\":\"Estruturas de Repeti\\xc3\\xa7\\xc3\\xa3o Contada\",\"tag4\":\"0\",\"tag5\":\"0\"},{\"id_list\":\"1e014265-1b4f-4d86-81d6-6e5e530e0e1a\",\"list\":\"Lista Laborat\\xc3\\xb3rio 03\",\"question\":\"\\xc3\\x8dmpares em ordem inversa\",\"difficulty\":2.0,\"tag1\":\"0\",\"tag2\":\"0\",\"tag3\":\"0\",\"tag4\":\"0\",\"tag5\":\"0\"},{\"id_list\":\"247f3598-27a2-4d32-9118-b44e860af8d1\",\"list\":\"Lista de laborat\\xc3\\xb3rio 02\",\"question\":\"\\xc3\\x8dmpares em ordem inversa\",\"difficulty\":2.0,\"tag1\":\"0\",\"tag2\":\"0\",\"tag3\":\"0\",\"tag4\":\"0\",\"tag5\":\"0\"},{\"id_list\":\"0ae7c42d-93f8-481d-8432-96b36a367a53\",\"list\":\"LIP2020.5 17-06 (at\\xc3\\xa9 17-06 23:59)\",\"question\":\"Implica\\xc3\\xa7\\xc3\\xa3o \",\"difficulty\":5.0,\"tag1\":\"0\",\"tag2\":\"0\",\"tag3\":\"0\",\"tag4\":\"0\",\"tag5\":\"0\"},{\"id_list\":\"597fb902-de6b-4b1b-8ea8-ac5cf8f08d96\",\"list\":\"Estruturas de controle\",\"question\":\"Imposto de renda\",\"difficulty\":1.0,\"tag1\":\"Estruturas Condicionais\",\"tag2\":\"0\",\"tag3\":\"0\",\"tag4\":\"0\",\"tag5\":\"0\"},{\"id_list\":\"74eeea9b-bb3f-42fb-9852-da9a1b68c3fa\",\"list\":\"Lista IP C 01\",\"question\":\"Imposto de renda\",\"difficulty\":1.0,\"tag1\":\"Estruturas Condicionais\",\"tag2\":\"0\",\"tag3\":\"0\",\"tag4\":\"0\",\"tag5\":\"0\"},{\"id_list\":\"a4c6a43b-c5bb-4b76-b5b1-8d5ac6eec809\",\"list\":\"LIP 5AB 20.11.2020\",\"question\":\"Impress\\xc3\\xa3o recursiva de um inteiro ao contr\\xc3\\xa1rio\",\"difficulty\":2.0,\"tag1\":\"Recurs\\xc3\\xa3o\",\"tag2\":\"0\",\"tag3\":\"0\",\"tag4\":\"0\",\"tag5\":\"0\"},{\"id_list\":\"cea8acb0-2934-43f3-afb6-11ad246bac63\",\"list\":\"LIP 5CD 21.11.2020\",\"question\":\"Impress\\xc3\\xa3o recursiva de um inteiro ao contr\\xc3\\xa1rio\",\"difficulty\":2.0,\"tag1\":\"Recurs\\xc3\\xa3o\",\"tag2\":\"0\",\"tag3\":\"0\",\"tag4\":\"0\",\"tag5\":\"0\"},{\"id_list\":\"fbd7d783-4d81-46dc-8107-1ffb9c6e347a\",\"list\":\"Lista de laborat\\xc3\\xb3rio 06\",\"question\":\"Impress\\xc3\\xa3o recursiva de um inteiro ao contr\\xc3\\xa1rio\",\"difficulty\":2.0,\"tag1\":\"Recurs\\xc3\\xa3o\",\"tag2\":\"0\",\"tag3\":\"0\",\"tag4\":\"0\",\"tag5\":\"0\"},{\"id_list\":\"4cd0cc77-43be-49bd-adac-cae5ecd79237\",\"list\":\"Turma 03 2020.6 25-09-2020\",\"question\":\"Imprimindo o intervalo\",\"difficulty\":1.0,\"tag1\":\"0\",\"tag2\":\"0\",\"tag3\":\"0\",\"tag4\":\"0\",\"tag5\":\"0\"},{\"id_list\":\"c6f3f5e5-0b0c-4396-92ba-d22d4125f555\",\"list\":\"Laborat\\xc3\\xb3rio 01 - Express\\xc3\\xb5es Aritm\\xc3\\xa9ticas\",\"question\":\"Imprimindo uma mensagem com um valor\",\"difficulty\":1.0,\"tag1\":\"Operadores Aritm\\xc3\\xa9ticos\",\"tag2\":\"0\",\"tag3\":\"0\",\"tag4\":\"0\",\"tag5\":\"0\"},{\"id_list\":\"17310f4b-2da4-4618-b0dc-8551014718f7\",\"list\":\"Lista 4\",\"question\":\"Imprimir o Hello World!\",\"difficulty\":1.0,\"tag1\":\"0\",\"tag2\":\"0\",\"tag3\":\"0\",\"tag4\":\"0\",\"tag5\":\"0\"},{\"id_list\":\"55cb89f8-2ddd-4ae2-b14e-a0dc980eec8b\",\"list\":\"Lista 3\",\"question\":\"Imprimir o Hello World!\",\"difficulty\":1.0,\"tag1\":\"0\",\"tag2\":\"0\",\"tag3\":\"0\",\"tag4\":\"0\",\"tag5\":\"0\"},{\"id_list\":\"a068da93-d3a3-4603-89cc-3edbe29a4fee\",\"list\":\"Lista 1\",\"question\":\"Imprimir o Hello World!\",\"difficulty\":1.0,\"tag1\":\"0\",\"tag2\":\"0\",\"tag3\":\"0\",\"tag4\":\"0\",\"tag5\":\"0\"},{\"id_list\":\"ce34e31b-df0f-4f4e-b461-74775bda9556\",\"list\":\"lista 5\",\"question\":\"Imprimir o Hello World!\",\"difficulty\":1.0,\"tag1\":\"0\",\"tag2\":\"0\",\"tag3\":\"0\",\"tag4\":\"0\",\"tag5\":\"0\"},{\"id_list\":\"e05751c7-50b8-4356-9bcc-c61d655ac564\",\"list\":\"Lista 2\",\"question\":\"Imprimir o Hello World!\",\"difficulty\":1.0,\"tag1\":\"0\",\"tag2\":\"0\",\"tag3\":\"0\",\"tag4\":\"0\",\"tag5\":\"0\"},{\"id_list\":\"93cd33c4-109a-401e-87e9-e26ff5929d37\",\"list\":\"Vetores - Lista Resolvida (LOP)\",\"question\":\"Imprimir o \\xc3\\xadndice par\",\"difficulty\":2.0,\"tag1\":\"Estruturas Condicionais\",\"tag2\":\"Estruturas de Repeti\\xc3\\xa7\\xc3\\xa3o\",\"tag3\":\"Vetores\",\"tag4\":\"0\",\"tag5\":\"0\"},{\"id_list\":\"350916bd-6ce5-490e-a846-cee94fa7b2b7\",\"list\":\"Laborat\\xc3\\xb3rio 02 - Estrutura de decis\\xc3\\xa3o\",\"question\":\"\\xc3\\x8dndice de Massa Corporal (IMC)  - parte 2\",\"difficulty\":1.0,\"tag1\":\"0\",\"tag2\":\"0\",\"tag3\":\"0\",\"tag4\":\"0\",\"tag5\":\"0\"},{\"id_list\":\"3ab11cee-77d1-4448-9587-880929570cf3\",\"list\":\"(Lop) Lista de Laborat\\xc3\\xb3rio 2 - Estrutura de decis\\xc3\\xa3o\",\"question\":\"\\xc3\\x8dndice de Massa Corporal (IMC)  - parte 2\",\"difficulty\":1.0,\"tag1\":\"0\",\"tag2\":\"0\",\"tag3\":\"0\",\"tag4\":\"0\",\"tag5\":\"0\"},{\"id_list\":\"74eeea9b-bb3f-42fb-9852-da9a1b68c3fa\",\"list\":\"Lista IP C 01\",\"question\":\"\\xc3\\x8dndice de Massa Corporal (IMC)  - parte 2\",\"difficulty\":1.0,\"tag1\":\"0\",\"tag2\":\"0\",\"tag3\":\"0\",\"tag4\":\"0\",\"tag5\":\"0\"},{\"id_list\":\"3732af4f-7650-42e3-a0f1-500d73c7a9eb\",\"list\":\"LiP Turma3 - 2020.6 - LAB02\",\"question\":\"Informa\\xc3\\xa7\\xc3\\xa3o sobre ra\\xc3\\xadzes de polin\\xc3\\xb4mio de grau 2\",\"difficulty\":2.0,\"tag1\":\"Operadores Aritm\\xc3\\xa9ticos\",\"tag2\":\"Estruturas Condicionais\",\"tag3\":\"0\",\"tag4\":\"0\",\"tag5\":\"0\"},{\"id_list\":\"1e014265-1b4f-4d86-81d6-6e5e530e0e1a\",\"list\":\"Lista Laborat\\xc3\\xb3rio 03\",\"question\":\"Informa\\xc3\\xa7\\xc3\\xb5es sobre n\\xc3\\xbameros\",\"difficulty\":3.0,\"tag1\":\"0\",\"tag2\":\"0\",\"tag3\":\"0\",\"tag4\":\"0\",\"tag5\":\"0\"},{\"id_list\":\"247f3598-27a2-4d32-9118-b44e860af8d1\",\"list\":\"Lista de laborat\\xc3\\xb3rio 02\",\"question\":\"Informa\\xc3\\xa7\\xc3\\xb5es sobre n\\xc3\\xbameros\",\"difficulty\":3.0,\"tag1\":\"0\",\"tag2\":\"0\",\"tag3\":\"0\",\"tag4\":\"0\",\"tag5\":\"0\"},{\"id_list\":\"da57ec5b-122e-4d33-93cb-422836f7b95a\",\"list\":\"LiP Turma3 - 2020.6 - LAB07\",\"question\":\"Informar se string \\xc3\\xa9 pal\\xc3\\xadndromo\",\"difficulty\":3.0,\"tag1\":\"String\",\"tag2\":\"0\",\"tag3\":\"0\",\"tag4\":\"0\",\"tag5\":\"0\"},{\"id_list\":\"da57ec5b-122e-4d33-93cb-422836f7b95a\",\"list\":\"LiP Turma3 - 2020.6 - LAB07\",\"question\":\"Informar se string \\xc3\\xa9 substring de outra\",\"difficulty\":3.0,\"tag1\":\"String\",\"tag2\":\"0\",\"tag3\":\"0\",\"tag4\":\"0\",\"tag5\":\"0\"},{\"id_list\":\"2f5b561c-c3f0-4566-a357-625f0edbdb01\",\"list\":\"ITP - Ponteiros 2 -  Lista\",\"question\":\"Inserir string em uma posi\\xc3\\xa7\\xc3\\xa3o\",\"difficulty\":1.0,\"tag1\":\"Tipos Estruturados\",\"tag2\":\"0\",\"tag3\":\"0\",\"tag4\":\"0\",\"tag5\":\"0\"},{\"id_list\":\"c74ac415-e9a8-44ec-8020-3d3873b8e08d\",\"list\":\"LiP Turma3 - 2020.6 - LAB08\",\"question\":\"Intercala\\xc3\\xa7\\xc3\\xa3o de vetores (com fun\\xc3\\xa7\\xc3\\xa3o)\",\"difficulty\":3.0,\"tag1\":\"Fun\\xc3\\xa7\\xc3\\xb5es\",\"tag2\":\"Vetores\",\"tag3\":\"0\",\"tag4\":\"0\",\"tag5\":\"0\"},{\"id_list\":\"1551e3ed-c875-4bb3-8e4e-58407df40776\",\"list\":\"Vetores - Lista de Exerc\\xc3\\xadcios (LOP)\",\"question\":\"Intercalar Vetor\",\"difficulty\":2.0,\"tag1\":\"Estruturas Condicionais\",\"tag2\":\"Estruturas de Repeti\\xc3\\xa7\\xc3\\xa3o\",\"tag3\":\"Vetores\",\"tag4\":\"0\",\"tag5\":\"0\"},{\"id_list\":\"102050fa-c902-4258-a988-01dad84ff63f\",\"list\":\"Aula - Introdu\\xc3\\xa7\\xc3\\xa3o Express\\xc3\\xb5es Aritim\\xc3\\xa9ticas\",\"question\":\"Introdu\\xc3\\xa7\\xc3\\xa3o a Raiz Quadrada\",\"difficulty\":1.0,\"tag1\":\"Operadores Aritm\\xc3\\xa9ticos\",\"tag2\":\"0\",\"tag3\":\"0\",\"tag4\":\"0\",\"tag5\":\"0\"},{\"id_list\":\"102050fa-c902-4258-a988-01dad84ff63f\",\"list\":\"Aula - Introdu\\xc3\\xa7\\xc3\\xa3o Express\\xc3\\xb5es Aritim\\xc3\\xa9ticas\",\"question\":\"Introdu\\xc3\\xa7\\xc3\\xa3o Soma\",\"difficulty\":1.0,\"tag1\":\"Operadores Aritm\\xc3\\xa9ticos\",\"tag2\":\"0\",\"tag3\":\"0\",\"tag4\":\"0\",\"tag5\":\"0\"},{\"id_list\":\"c4d09d1b-73a5-45c6-8a0d-ead669114b65\",\"list\":\"Vetores - Lista Pr\\xc3\\xa1tica (LOP)\",\"question\":\"Invers\\xc3\\xa3o de vetor\",\"difficulty\":3.0,\"tag1\":\"Estruturas de Repeti\\xc3\\xa7\\xc3\\xa3o\",\"tag2\":\"Estruturas de Repeti\\xc3\\xa7\\xc3\\xa3o Contada\",\"tag3\":\"Vetores\",\"tag4\":\"0\",\"tag5\":\"0\"},{\"id_list\":\"06bd7c11-b7e8-49a4-a2f3-8244150a801d\",\"list\":\"Projeto Final Parte 1\",\"question\":\"Invers\\xc3\\xa3o horizontal de imagem (flip)\",\"difficulty\":1.0,\"tag1\":\"Fun\\xc3\\xa7\\xc3\\xb5es\",\"tag2\":\"Tipos Estruturados\",\"tag3\":\"Matrizes\",\"tag4\":\"0\",\"tag5\":\"0\"},{\"id_list\":\"06bd7c11-b7e8-49a4-a2f3-8244150a801d\",\"list\":\"Projeto Final Parte 1\",\"question\":\"Invers\\xc3\\xa3o vertical de imagem (flip)\",\"difficulty\":1.0,\"tag1\":\"Fun\\xc3\\xa7\\xc3\\xb5es\",\"tag2\":\"Tipos Estruturados\",\"tag3\":\"Matrizes\",\"tag4\":\"0\",\"tag5\":\"0\"},{\"id_list\":\"95d04fc1-96be-475f-af95-5b9e071e0005\",\"list\":\"Projeto Final parte 1 2020.6 3D\",\"question\":\"Invers\\xc3\\xa3o vertical de imagem (flip)\",\"difficulty\":1.0,\"tag1\":\"Fun\\xc3\\xa7\\xc3\\xb5es\",\"tag2\":\"Tipos Estruturados\",\"tag3\":\"Matrizes\",\"tag4\":\"0\",\"tag5\":\"0\"},{\"id_list\":\"17ac33bf-c1f7-4d1b-92b6-6f76f41265c7\",\"list\":\"ITP - Ponteiros 1 - Lista\",\"question\":\"Inversor de n\\xc3\\xbameros (ponteiros)\",\"difficulty\":1.0,\"tag1\":\"Ponteiros\",\"tag2\":\"0\",\"tag3\":\"0\",\"tag4\":\"0\",\"tag5\":\"0\"},{\"id_list\":\"2f6a2419-aa93-4f69-8a8e-e19815e8d991\",\"list\":\"T5CD 10-10-2020\",\"question\":\"Inverte X\",\"difficulty\":3.0,\"tag1\":\"0\",\"tag2\":\"0\",\"tag3\":\"0\",\"tag4\":\"0\",\"tag5\":\"0\"},{\"id_list\":\"3bf957b2-a988-4a6c-828d-b00224a0895b\",\"list\":\"LiP Aula 08 - Fun\\xc3\\xa7\\xc3\\xb5es: exerc\\xc3\\xadcios\",\"question\":\"Inverte X\",\"difficulty\":3.0,\"tag1\":\"0\",\"tag2\":\"0\",\"tag3\":\"0\",\"tag4\":\"0\",\"tag5\":\"0\"},{\"id_list\":\"4341aea0-249a-4a1a-ad24-7010c42f173e\",\"list\":\"LIP2020.5 30-06 (at\\xc3\\xa9 30-06 23:59 -- Avalia\\xc3\\xa7\\xc3\\xa3o )\",\"question\":\"Inverte X\",\"difficulty\":3.0,\"tag1\":\"0\",\"tag2\":\"0\",\"tag3\":\"0\",\"tag4\":\"0\",\"tag5\":\"0\"},{\"id_list\":\"2fc4be7c-bab1-49a9-8ab5-ab4f263e6703\",\"list\":\"Lista Laborat\\xc3\\xb3rio 02\",\"question\":\"Invertendo n\\xc3\\xbameros\",\"difficulty\":2.0,\"tag1\":\"0\",\"tag2\":\"0\",\"tag3\":\"0\",\"tag4\":\"0\",\"tag5\":\"0\"},{\"id_list\":\"1551e3ed-c875-4bb3-8e4e-58407df40776\",\"list\":\"Vetores - Lista de Exerc\\xc3\\xadcios (LOP)\",\"question\":\"Inverter uma palavra\",\"difficulty\":2.0,\"tag1\":\"Estruturas de Repeti\\xc3\\xa7\\xc3\\xa3o\",\"tag2\":\"Vetores\",\"tag3\":\"0\",\"tag4\":\"0\",\"tag5\":\"0\"},{\"id_list\":\"c9a2aaf5-5a44-4307-ad91-03d75a64496f\",\"list\":\"LIP2020.5 01-07 (at\\xc3\\xa9 01-07 23:59)\",\"question\":\"Jogo de Cartas\",\"difficulty\":2.0,\"tag1\":\"0\",\"tag2\":\"0\",\"tag3\":\"0\",\"tag4\":\"0\",\"tag5\":\"0\"},{\"id_list\":\"415add51-ca2b-4d32-b013-f70ab4ad96a1\",\"list\":\"LIP2020.5 15-07 (at\\xc3\\xa9 15-07 23:59)\",\"question\":\"Juntando Vetores\",\"difficulty\":2.0,\"tag1\":\"0\",\"tag2\":\"0\",\"tag3\":\"0\",\"tag4\":\"0\",\"tag5\":\"0\"},{\"id_list\":\"4e37d5f4-d420-42ec-b086-b1ab7b18db10\",\"list\":\"LiP Aula 17 - Exerc\\xc3\\xadcios: Fun\\xc3\\xa7\\xc3\\xb5es, Vetores e Matrizes\",\"question\":\"Juntando Vetores\",\"difficulty\":2.0,\"tag1\":\"0\",\"tag2\":\"0\",\"tag3\":\"0\",\"tag4\":\"0\",\"tag5\":\"0\"},{\"id_list\":\"34c97c99-6a1c-47cd-8143-25973149cce6\",\"list\":\"L1\",\"question\":\"L1Q1\",\"difficulty\":2.0,\"tag1\":\"0\",\"tag2\":\"0\",\"tag3\":\"0\",\"tag4\":\"0\",\"tag5\":\"0\"},{\"id_list\":\"51b2ad24-0223-46bf-95cc-0d2efd71f362\",\"list\":\"Lista 2\",\"question\":\"L2Q1\",\"difficulty\":1.0,\"tag1\":\"0\",\"tag2\":\"0\",\"tag3\":\"0\",\"tag4\":\"0\",\"tag5\":\"0\"},{\"id_list\":\"51b2ad24-0223-46bf-95cc-0d2efd71f362\",\"list\":\"Lista 2\",\"question\":\"L2Q2\",\"difficulty\":1.0,\"tag1\":\"0\",\"tag2\":\"0\",\"tag3\":\"0\",\"tag4\":\"0\",\"tag5\":\"0\"},{\"id_list\":\"51b2ad24-0223-46bf-95cc-0d2efd71f362\",\"list\":\"Lista 2\",\"question\":\"L2Q3\",\"difficulty\":1.0,\"tag1\":\"0\",\"tag2\":\"0\",\"tag3\":\"0\",\"tag4\":\"0\",\"tag5\":\"0\"},{\"id_list\":\"51b2ad24-0223-46bf-95cc-0d2efd71f362\",\"list\":\"Lista 2\",\"question\":\"L2Q4\",\"difficulty\":1.0,\"tag1\":\"0\",\"tag2\":\"0\",\"tag3\":\"0\",\"tag4\":\"0\",\"tag5\":\"0\"},{\"id_list\":\"51b2ad24-0223-46bf-95cc-0d2efd71f362\",\"list\":\"Lista 2\",\"question\":\"L2Q5\",\"difficulty\":1.0,\"tag1\":\"0\",\"tag2\":\"0\",\"tag3\":\"0\",\"tag4\":\"0\",\"tag5\":\"0\"},{\"id_list\":\"51b2ad24-0223-46bf-95cc-0d2efd71f362\",\"list\":\"Lista 2\",\"question\":\"L2Q6\",\"difficulty\":1.0,\"tag1\":\"0\",\"tag2\":\"0\",\"tag3\":\"0\",\"tag4\":\"0\",\"tag5\":\"0\"},{\"id_list\":\"51b2ad24-0223-46bf-95cc-0d2efd71f362\",\"list\":\"Lista 2\",\"question\":\"L2Q7\",\"difficulty\":1.0,\"tag1\":\"0\",\"tag2\":\"0\",\"tag3\":\"0\",\"tag4\":\"0\",\"tag5\":\"0\"},{\"id_list\":\"51b2ad24-0223-46bf-95cc-0d2efd71f362\",\"list\":\"Lista 2\",\"question\":\"L2Q8\",\"difficulty\":1.0,\"tag1\":\"0\",\"tag2\":\"0\",\"tag3\":\"0\",\"tag4\":\"0\",\"tag5\":\"0\"},{\"id_list\":\"cccea9f9-9594-457b-88b2-54ed961e45bd\",\"list\":\"Lista 3\",\"question\":\"L3Q1\",\"difficulty\":1.0,\"tag1\":\"0\",\"tag2\":\"0\",\"tag3\":\"0\",\"tag4\":\"0\",\"tag5\":\"0\"},{\"id_list\":\"cccea9f9-9594-457b-88b2-54ed961e45bd\",\"list\":\"Lista 3\",\"question\":\"L3Q2\",\"difficulty\":1.0,\"tag1\":\"0\",\"tag2\":\"0\",\"tag3\":\"0\",\"tag4\":\"0\",\"tag5\":\"0\"},{\"id_list\":\"cccea9f9-9594-457b-88b2-54ed961e45bd\",\"list\":\"Lista 3\",\"question\":\"L3Q3\",\"difficulty\":1.0,\"tag1\":\"0\",\"tag2\":\"0\",\"tag3\":\"0\",\"tag4\":\"0\",\"tag5\":\"0\"},{\"id_list\":\"cccea9f9-9594-457b-88b2-54ed961e45bd\",\"list\":\"Lista 3\",\"question\":\"L3Q4\",\"difficulty\":1.0,\"tag1\":\"0\",\"tag2\":\"0\",\"tag3\":\"0\",\"tag4\":\"0\",\"tag5\":\"0\"},{\"id_list\":\"cccea9f9-9594-457b-88b2-54ed961e45bd\",\"list\":\"Lista 3\",\"question\":\"L3Q5\",\"difficulty\":1.0,\"tag1\":\"0\",\"tag2\":\"0\",\"tag3\":\"0\",\"tag4\":\"0\",\"tag5\":\"0\"},{\"id_list\":\"5d111e7e-d160-486e-b4b1-6996b7fd074f\",\"list\":\"Lab3_Operadores L\\xc3\\xb3gicos e Estruturas de Sele\\xc3\\xa7\\xc3\\xa3o\",\"question\":\"Lados de um tri\\xc3\\xa2ngulo\",\"difficulty\":2.0,\"tag1\":\"0\",\"tag2\":\"0\",\"tag3\":\"0\",\"tag4\":\"0\",\"tag5\":\"0\"},{\"id_list\":\"aafdbdef-053b-4b7d-af60-53cd9c275147\",\"list\":\"Laborat\\xc3\\xb3rio 1\",\"question\":\"Lei da Gravita\\xc3\\xa7\\xc3\\xa3o Universal de Newton\",\"difficulty\":1.0,\"tag1\":\"0\",\"tag2\":\"0\",\"tag3\":\"0\",\"tag4\":\"0\",\"tag5\":\"0\"},{\"id_list\":\"bd91406e-0a5a-4d22-8e7d-f61a4352b509\",\"list\":\"Lab1_Vari\\xc3\\xa1veis, Constantes e Operadores\",\"question\":\"Lei da Gravita\\xc3\\xa7\\xc3\\xa3o Universal de Newton\",\"difficulty\":1.0,\"tag1\":\"0\",\"tag2\":\"0\",\"tag3\":\"0\",\"tag4\":\"0\",\"tag5\":\"0\"},{\"id_list\":\"d5f7aae9-e1de-428b-8277-32f1f8d48ed0\",\"list\":\"LiP Turma3 - 2020.6 - LAB11\",\"question\":\"Linhas de \\xc3\\xb4nibus: escrita de arquivos\",\"difficulty\":3.0,\"tag1\":\"Tipos Estruturados\",\"tag2\":\"0\",\"tag3\":\"0\",\"tag4\":\"0\",\"tag5\":\"0\"},{\"id_list\":\"1fc1e46c-a12f-4593-a776-67224099702f\",\"list\":\"LIP 5AB 23.10.2020\",\"question\":\"Linhas iguais\",\"difficulty\":2.0,\"tag1\":\"0\",\"tag2\":\"0\",\"tag3\":\"0\",\"tag4\":\"0\",\"tag5\":\"0\"},{\"id_list\":\"4e37d5f4-d420-42ec-b086-b1ab7b18db10\",\"list\":\"LiP Aula 17 - Exerc\\xc3\\xadcios: Fun\\xc3\\xa7\\xc3\\xb5es, Vetores e Matrizes\",\"question\":\"Linhas iguais\",\"difficulty\":2.0,\"tag1\":\"0\",\"tag2\":\"0\",\"tag3\":\"0\",\"tag4\":\"0\",\"tag5\":\"0\"},{\"id_list\":\"b92ec39e-ee61-4fc8-9b9c-1b6bbf2a32af\",\"list\":\"LIP2020.5 08-07 (at\\xc3\\xa9 08-07 23:59 -- Avalia\\xc3\\xa7\\xc3\\xa3o )\",\"question\":\"Linhas iguais\",\"difficulty\":2.0,\"tag1\":\"0\",\"tag2\":\"0\",\"tag3\":\"0\",\"tag4\":\"0\",\"tag5\":\"0\"},{\"id_list\":\"5f3febce-4c06-4913-98a3-b3102bdff6d6\",\"list\":\"Lista de laborat\\xc3\\xb3rio 01\",\"question\":\"Litros de gasolina\",\"difficulty\":1.0,\"tag1\":\"0\",\"tag2\":\"0\",\"tag3\":\"0\",\"tag4\":\"0\",\"tag5\":\"0\"},{\"id_list\":\"63500143-e15f-430e-8b92-ed3510c9b0d4\",\"list\":\"LiP Aula 02 - Express\\xc3\\xb5es e Comandos de Sele\\xc3\\xa7\\xc3\\xa3o\",\"question\":\"Litros de gasolina\",\"difficulty\":1.0,\"tag1\":\"0\",\"tag2\":\"0\",\"tag3\":\"0\",\"tag4\":\"0\",\"tag5\":\"0\"},{\"id_list\":\"bff428d6-9bff-4011-b23a-4adeffea71ef\",\"list\":\"LIP2020.5 18-06 (at\\xc3\\xa9 18-06 23:59 -- Avalia\\xc3\\xa7\\xc3\\xa3o )\",\"question\":\"Litros de gasolina\",\"difficulty\":1.0,\"tag1\":\"0\",\"tag2\":\"0\",\"tag3\":\"0\",\"tag4\":\"0\",\"tag5\":\"0\"},{\"id_list\":\"0d7de341-ef39-481a-bb90-829539fa48ad\",\"list\":\"LIP2020.5 29-06 (at\\xc3\\xa9 29-06 23:59)\",\"question\":\"Logaritmo e S\\xc3\\xa9rie de Taylor\",\"difficulty\":3.0,\"tag1\":\"0\",\"tag2\":\"0\",\"tag3\":\"0\",\"tag4\":\"0\",\"tag5\":\"0\"},{\"id_list\":\"4af9a8a1-05d4-4561-8dfe-157d669ba182\",\"list\":\"LIP2020.5 23-07 (at\\xc3\\xa9 23-07 23:59 -- Avalia\\xc3\\xa7\\xc3\\xa3o )\",\"question\":\"Loja \",\"difficulty\":3.0,\"tag1\":\"0\",\"tag2\":\"0\",\"tag3\":\"0\",\"tag4\":\"0\",\"tag5\":\"0\"},{\"id_list\":\"0e2218e2-9b9d-445a-bc77-9acfeabbd6c1\",\"list\":\"LIP2020.5 19-06 (at\\xc3\\xa9 19-06 23:59 )\",\"question\":\"Loja em promo\\xc3\\xa7\\xc3\\xa3o \",\"difficulty\":1.0,\"tag1\":\"0\",\"tag2\":\"0\",\"tag3\":\"0\",\"tag4\":\"0\",\"tag5\":\"0\"},{\"id_list\":\"d92afa9b-2def-4faf-9889-17bdf68642bf\",\"list\":\"ITP - Recurs\\xc3\\xa3o - Lista\",\"question\":\"Loop com recurs\\xc3\\xa3o\",\"difficulty\":2.0,\"tag1\":\"Recurs\\xc3\\xa3o\",\"tag2\":\"0\",\"tag3\":\"0\",\"tag4\":\"0\",\"tag5\":\"0\"},{\"id_list\":\"c9a2aaf5-5a44-4307-ad91-03d75a64496f\",\"list\":\"LIP2020.5 01-07 (at\\xc3\\xa9 01-07 23:59)\",\"question\":\"Loteria\",\"difficulty\":3.0,\"tag1\":\"0\",\"tag2\":\"0\",\"tag3\":\"0\",\"tag4\":\"0\",\"tag5\":\"0\"},{\"id_list\":\"597fb902-de6b-4b1b-8ea8-ac5cf8f08d96\",\"list\":\"Estruturas de controle\",\"question\":\"Lucro de um comerciante\",\"difficulty\":1.0,\"tag1\":\"Estruturas Condicionais\",\"tag2\":\"0\",\"tag3\":\"0\",\"tag4\":\"0\",\"tag5\":\"0\"},{\"id_list\":\"74eeea9b-bb3f-42fb-9852-da9a1b68c3fa\",\"list\":\"Lista IP C 01\",\"question\":\"Lucro de um comerciante\",\"difficulty\":1.0,\"tag1\":\"Estruturas Condicionais\",\"tag2\":\"0\",\"tag3\":\"0\",\"tag4\":\"0\",\"tag5\":\"0\"},{\"id_list\":\"34691c68-f01d-46ad-808d-6bbd44bcd9a2\",\"list\":\"Repeti\\xc3\\xa7\\xc3\\xa3o contada - Lista Resolvida (LOP)\",\"question\":\"Maior de 10 n\\xc3\\xbameros\",\"difficulty\":3.0,\"tag1\":\"0\",\"tag2\":\"0\",\"tag3\":\"0\",\"tag4\":\"0\",\"tag5\":\"0\"},{\"id_list\":\"2007f797-4427-48b6-94d0-609e123aa3e5\",\"list\":\"Lista IP C 02\",\"question\":\"Maior de Tr\\xc3\\xaas\",\"difficulty\":1.0,\"tag1\":\"Fun\\xc3\\xa7\\xc3\\xb5es\",\"tag2\":\"Estruturas Condicionais\",\"tag3\":\"0\",\"tag4\":\"0\",\"tag5\":\"0\"},{\"id_list\":\"4cd0cc77-43be-49bd-adac-cae5ecd79237\",\"list\":\"Turma 03 2020.6 25-09-2020\",\"question\":\"Maior de Tr\\xc3\\xaas\",\"difficulty\":1.0,\"tag1\":\"Fun\\xc3\\xa7\\xc3\\xb5es\",\"tag2\":\"Estruturas Condicionais\",\"tag3\":\"0\",\"tag4\":\"0\",\"tag5\":\"0\"},{\"id_list\":\"9bccc3d3-46dd-4de9-b5a3-67d5beef38a2\",\"list\":\"T5AB - 02-10-2020\",\"question\":\"Maior de Tr\\xc3\\xaas\",\"difficulty\":1.0,\"tag1\":\"Fun\\xc3\\xa7\\xc3\\xb5es\",\"tag2\":\"Estruturas Condicionais\",\"tag3\":\"0\",\"tag4\":\"0\",\"tag5\":\"0\"},{\"id_list\":\"a8273f55-b4e7-40e2-b937-60aa31c07456\",\"list\":\"LiP Aula 05 - Fun\\xc3\\xa7\\xc3\\xb5es (chamada, assinatura e defini\\xc3\\xa7\\xc3\\xa3o)\",\"question\":\"Maior de Tr\\xc3\\xaas\",\"difficulty\":1.0,\"tag1\":\"Fun\\xc3\\xa7\\xc3\\xb5es\",\"tag2\":\"Estruturas Condicionais\",\"tag3\":\"0\",\"tag4\":\"0\",\"tag5\":\"0\"},{\"id_list\":\"fe430330-db92-4244-8967-4e70540db612\",\"list\":\"Lista de laborat\\xc3\\xb3rio 05\",\"question\":\"Maior de Tr\\xc3\\xaas\",\"difficulty\":1.0,\"tag1\":\"Fun\\xc3\\xa7\\xc3\\xb5es\",\"tag2\":\"Estruturas Condicionais\",\"tag3\":\"0\",\"tag4\":\"0\",\"tag5\":\"0\"},{\"id_list\":\"2007f797-4427-48b6-94d0-609e123aa3e5\",\"list\":\"Lista IP C 02\",\"question\":\"Maior e menor\",\"difficulty\":1.0,\"tag1\":\"Estruturas Condicionais\",\"tag2\":\"Estruturas de Repeti\\xc3\\xa7\\xc3\\xa3o\",\"tag3\":\"0\",\"tag4\":\"0\",\"tag5\":\"0\"},{\"id_list\":\"37e7728d-fa97-4f60-ad54-756dee26b8d8\",\"list\":\"Estruturas de repeti\\xc3\\xa7\\xc3\\xa3o\",\"question\":\"Maior e menor\",\"difficulty\":1.0,\"tag1\":\"Estruturas Condicionais\",\"tag2\":\"Estruturas de Repeti\\xc3\\xa7\\xc3\\xa3o\",\"tag3\":\"0\",\"tag4\":\"0\",\"tag5\":\"0\"},{\"id_list\":\"e3989044-3219-4ec9-8a3f-12da6733da3e\",\"list\":\"LiP Aula 14 - Matrizes Exerc\\xc3\\xadcios\",\"question\":\"Maior Elemento de uma Linha\\\\/Coluna\",\"difficulty\":2.0,\"tag1\":\"Matrizes\",\"tag2\":\"0\",\"tag3\":\"0\",\"tag4\":\"0\",\"tag5\":\"0\"},{\"id_list\":\"7ea8510d-f1e9-424e-997b-81228ea6c6e6\",\"list\":\"LiP 2 - Estruturas de Controle e Repeti\\xc3\\xa7\\xc3\\xa3o\",\"question\":\"Maior n\\xc3\\xbamero\",\"difficulty\":2.0,\"tag1\":\"0\",\"tag2\":\"0\",\"tag3\":\"0\",\"tag4\":\"0\",\"tag5\":\"0\"},{\"id_list\":\"5d111e7e-d160-486e-b4b1-6996b7fd074f\",\"list\":\"Lab3_Operadores L\\xc3\\xb3gicos e Estruturas de Sele\\xc3\\xa7\\xc3\\xa3o\",\"question\":\"Maior n\\xc3\\xbamero\",\"difficulty\":1.0,\"tag1\":\"0\",\"tag2\":\"0\",\"tag3\":\"0\",\"tag4\":\"0\",\"tag5\":\"0\"},{\"id_list\":\"4e37d5f4-d420-42ec-b086-b1ab7b18db10\",\"list\":\"LiP Aula 17 - Exerc\\xc3\\xadcios: Fun\\xc3\\xa7\\xc3\\xb5es, Vetores e Matrizes\",\"question\":\"Maior sequ\\xc3\\xaancia do char\",\"difficulty\":2.0,\"tag1\":\"0\",\"tag2\":\"0\",\"tag3\":\"0\",\"tag4\":\"0\",\"tag5\":\"0\"},{\"id_list\":\"dc692412-f2a3-4b57-8262-fb5d8318b72e\",\"list\":\"LIP2020.5 10-07 (at\\xc3\\xa9 10-07 23:59)\",\"question\":\"Maior sequ\\xc3\\xaancia do char\",\"difficulty\":2.0,\"tag1\":\"0\",\"tag2\":\"0\",\"tag3\":\"0\",\"tag4\":\"0\",\"tag5\":\"0\"},{\"id_list\":\"eb7d471b-ca19-4fbc-bf45-8c14039be6d5\",\"list\":\"LiP Aula 04 - Exerc\\xc3\\xadcios Comandos de Repeti\\xc3\\xa7\\xc3\\xa3o\",\"question\":\"Maior soma dos d\\xc3\\xadgitos\",\"difficulty\":4.0,\"tag1\":\"0\",\"tag2\":\"0\",\"tag3\":\"0\",\"tag4\":\"0\",\"tag5\":\"0\"},{\"id_list\":\"fb5a29da-a4f6-482c-a808-3c88d626ad1b\",\"list\":\"LiP 2 - Estruturas de Controle e Repeti\\xc3\\xa7\\xc3\\xa3o II\",\"question\":\"Maior soma dos d\\xc3\\xadgitos\",\"difficulty\":4.0,\"tag1\":\"0\",\"tag2\":\"0\",\"tag3\":\"0\",\"tag4\":\"0\",\"tag5\":\"0\"},{\"id_list\":\"37e7728d-fa97-4f60-ad54-756dee26b8d8\",\"list\":\"Estruturas de repeti\\xc3\\xa7\\xc3\\xa3o\",\"question\":\"Maiores e menores m\\xc3\\xa9dias\",\"difficulty\":2.0,\"tag1\":\"0\",\"tag2\":\"0\",\"tag3\":\"0\",\"tag4\":\"0\",\"tag5\":\"0\"},{\"id_list\":\"2007f797-4427-48b6-94d0-609e123aa3e5\",\"list\":\"Lista IP C 02\",\"question\":\"Maiores que a m\\xc3\\xa9dia\",\"difficulty\":1.0,\"tag1\":\"Vetores\",\"tag2\":\"0\",\"tag3\":\"0\",\"tag4\":\"0\",\"tag5\":\"0\"},{\"id_list\":\"05b12380-7fc7-4cf1-8c33-85d6a01c2da2\",\"list\":\"Aula 12 - Strings\",\"question\":\"Mai\\xc3\\xbasculas\",\"difficulty\":1.0,\"tag1\":\"0\",\"tag2\":\"0\",\"tag3\":\"0\",\"tag4\":\"0\",\"tag5\":\"0\"},{\"id_list\":\"686bffd1-7947-45be-9765-72e17fcf7b47\",\"list\":\"LIP2020.5 09-07 (at\\xc3\\xa9  09-07 23:59)\",\"question\":\"Mai\\xc3\\xbasculas\",\"difficulty\":1.0,\"tag1\":\"0\",\"tag2\":\"0\",\"tag3\":\"0\",\"tag4\":\"0\",\"tag5\":\"0\"},{\"id_list\":\"37e7728d-fa97-4f60-ad54-756dee26b8d8\",\"list\":\"Estruturas de repeti\\xc3\\xa7\\xc3\\xa3o\",\"question\":\"Material radiotaivo\",\"difficulty\":3.0,\"tag1\":\"0\",\"tag2\":\"0\",\"tag3\":\"0\",\"tag4\":\"0\",\"tag5\":\"0\"},{\"id_list\":\"542eb713-9e5b-424d-8670-be4e2097d5e1\",\"list\":\"Lista de laborat\\xc3\\xb3rio 04\",\"question\":\"Matriz com Borda\",\"difficulty\":3.0,\"tag1\":\"Matrizes\",\"tag2\":\"0\",\"tag3\":\"0\",\"tag4\":\"0\",\"tag5\":\"0\"},{\"id_list\":\"d1540510-bd71-4a3a-bc7a-f2f03ce016f1\",\"list\":\"LIP 5CD 24.10.2020\",\"question\":\"Matriz com Borda\",\"difficulty\":3.0,\"tag1\":\"Matrizes\",\"tag2\":\"0\",\"tag3\":\"0\",\"tag4\":\"0\",\"tag5\":\"0\"},{\"id_list\":\"e3989044-3219-4ec9-8a3f-12da6733da3e\",\"list\":\"LiP Aula 14 - Matrizes Exerc\\xc3\\xadcios\",\"question\":\"Matriz com Borda\",\"difficulty\":3.0,\"tag1\":\"Matrizes\",\"tag2\":\"0\",\"tag3\":\"0\",\"tag4\":\"0\",\"tag5\":\"0\"},{\"id_list\":\"f5bc770d-2ac7-4060-ab1c-e42b5541f7a7\",\"list\":\"Repeti\\xc3\\xa7\\xc3\\xa3o contada - Lista de Exerc\\xc3\\xadcios (LOP)\",\"question\":\"Matriz de asteriscos\",\"difficulty\":3.0,\"tag1\":\"Estruturas de Repeti\\xc3\\xa7\\xc3\\xa3o\",\"tag2\":\"Estruturas de Repeti\\xc3\\xa7\\xc3\\xa3o Contada\",\"tag3\":\"0\",\"tag4\":\"0\",\"tag5\":\"0\"},{\"id_list\":\"1fc1e46c-a12f-4593-a776-67224099702f\",\"list\":\"LIP 5AB 23.10.2020\",\"question\":\"Matriz de N\\xc3\\xbameros\",\"difficulty\":1.0,\"tag1\":\"Matrizes\",\"tag2\":\"0\",\"tag3\":\"0\",\"tag4\":\"0\",\"tag5\":\"0\"},{\"id_list\":\"1fc1e46c-a12f-4593-a776-67224099702f\",\"list\":\"LIP 5AB 23.10.2020\",\"question\":\"Matriz de N\\xc3\\xbameros\",\"difficulty\":1.0,\"tag1\":\"Matrizes\",\"tag2\":\"0\",\"tag3\":\"0\",\"tag4\":\"0\",\"tag5\":\"0\"},{\"id_list\":\"d1540510-bd71-4a3a-bc7a-f2f03ce016f1\",\"list\":\"LIP 5CD 24.10.2020\",\"question\":\"Matriz de N\\xc3\\xbameros\",\"difficulty\":1.0,\"tag1\":\"Matrizes\",\"tag2\":\"0\",\"tag3\":\"0\",\"tag4\":\"0\",\"tag5\":\"0\"},{\"id_list\":\"d1540510-bd71-4a3a-bc7a-f2f03ce016f1\",\"list\":\"LIP 5CD 24.10.2020\",\"question\":\"Matriz de N\\xc3\\xbameros\",\"difficulty\":1.0,\"tag1\":\"Matrizes\",\"tag2\":\"0\",\"tag3\":\"0\",\"tag4\":\"0\",\"tag5\":\"0\"},{\"id_list\":\"5a6f7700-0ac8-4bce-ad9e-b95e1e69fd9f\",\"list\":\"LIP2020.5 14-07 (at\\xc3\\xa9 14-07 23:59)\",\"question\":\"Matriz de Permuta\\xc3\\xa7\\xc3\\xa3o\",\"difficulty\":2.0,\"tag1\":\"0\",\"tag2\":\"0\",\"tag3\":\"0\",\"tag4\":\"0\",\"tag5\":\"0\"},{\"id_list\":\"241929f6-c884-4345-88dd-2d3da92bc982\",\"list\":\"LiP Aula 13 - Matrizes\",\"question\":\"Matriz de permuta\\xc3\\xa7\\xc3\\xa3o\",\"difficulty\":2.0,\"tag1\":\"0\",\"tag2\":\"0\",\"tag3\":\"0\",\"tag4\":\"0\",\"tag5\":\"0\"},{\"id_list\":\"b92ec39e-ee61-4fc8-9b9c-1b6bbf2a32af\",\"list\":\"LIP2020.5 08-07 (at\\xc3\\xa9 08-07 23:59 -- Avalia\\xc3\\xa7\\xc3\\xa3o )\",\"question\":\"Matriz de permuta\\xc3\\xa7\\xc3\\xa3o\",\"difficulty\":2.0,\"tag1\":\"0\",\"tag2\":\"0\",\"tag3\":\"0\",\"tag4\":\"0\",\"tag5\":\"0\"},{\"id_list\":\"542eb713-9e5b-424d-8670-be4e2097d5e1\",\"list\":\"Lista de laborat\\xc3\\xb3rio 04\",\"question\":\"Matriz de permuta\\xc3\\xa7\\xc3\\xa3o (0\\\\/1)\",\"difficulty\":1.0,\"tag1\":\"Matrizes\",\"tag2\":\"Estruturas de Repeti\\xc3\\xa7\\xc3\\xa3o\",\"tag3\":\"0\",\"tag4\":\"0\",\"tag5\":\"0\"},{\"id_list\":\"b92ec39e-ee61-4fc8-9b9c-1b6bbf2a32af\",\"list\":\"LIP2020.5 08-07 (at\\xc3\\xa9 08-07 23:59 -- Avalia\\xc3\\xa7\\xc3\\xa3o )\",\"question\":\"Matriz de Rota\\xc3\\xa7\\xc3\\xa3o\",\"difficulty\":2.0,\"tag1\":\"0\",\"tag2\":\"0\",\"tag3\":\"0\",\"tag4\":\"0\",\"tag5\":\"0\"},{\"id_list\":\"1f2fb866-0bea-4475-b0af-e4a060b0904a\",\"list\":\"ITP - Matriz - Lista\",\"question\":\"Matriz identidade\",\"difficulty\":1.0,\"tag1\":\"0\",\"tag2\":\"0\",\"tag3\":\"0\",\"tag4\":\"0\",\"tag5\":\"0\"},{\"id_list\":\"241929f6-c884-4345-88dd-2d3da92bc982\",\"list\":\"LiP Aula 13 - Matrizes\",\"question\":\"Matriz identidade\",\"difficulty\":1.0,\"tag1\":\"0\",\"tag2\":\"0\",\"tag3\":\"0\",\"tag4\":\"0\",\"tag5\":\"0\"},{\"id_list\":\"f36bfbda-6adc-4d70-a979-5e902b624a79\",\"list\":\"LIP2020.5 07-07 (at\\xc3\\xa9 07-07 23:59)\",\"question\":\"Matriz identidade\",\"difficulty\":1.0,\"tag1\":\"0\",\"tag2\":\"0\",\"tag3\":\"0\",\"tag4\":\"0\",\"tag5\":\"0\"},{\"id_list\":\"1d70b477-a5a4-4474-b230-9b69fab0ddf0\",\"list\":\"LiP Aula 15 - Fun\\xc3\\xa7\\xc3\\xb5es, Vetores e Matrizes\",\"question\":\"Matriz Ordenada\",\"difficulty\":1.0,\"tag1\":\"Matrizes\",\"tag2\":\"0\",\"tag3\":\"0\",\"tag4\":\"0\",\"tag5\":\"0\"},{\"id_list\":\"1fc1e46c-a12f-4593-a776-67224099702f\",\"list\":\"LIP 5AB 23.10.2020\",\"question\":\"Matriz Ordenada\",\"difficulty\":1.0,\"tag1\":\"Matrizes\",\"tag2\":\"0\",\"tag3\":\"0\",\"tag4\":\"0\",\"tag5\":\"0\"},{\"id_list\":\"e3989044-3219-4ec9-8a3f-12da6733da3e\",\"list\":\"LiP Aula 14 - Matrizes Exerc\\xc3\\xadcios\",\"question\":\"Matriz Transposta\",\"difficulty\":2.0,\"tag1\":\"Matrizes\",\"tag2\":\"0\",\"tag3\":\"0\",\"tag4\":\"0\",\"tag5\":\"0\"},{\"id_list\":\"e3989044-3219-4ec9-8a3f-12da6733da3e\",\"list\":\"LiP Aula 14 - Matrizes Exerc\\xc3\\xadcios\",\"question\":\"Matriz Transposta\",\"difficulty\":2.0,\"tag1\":\"Matrizes\",\"tag2\":\"0\",\"tag3\":\"0\",\"tag4\":\"0\",\"tag5\":\"0\"},{\"id_list\":\"542eb713-9e5b-424d-8670-be4e2097d5e1\",\"list\":\"Lista de laborat\\xc3\\xb3rio 04\",\"question\":\"Matriz Transposta\",\"difficulty\":1.0,\"tag1\":\"Matrizes\",\"tag2\":\"0\",\"tag3\":\"0\",\"tag4\":\"0\",\"tag5\":\"0\"},{\"id_list\":\"542eb713-9e5b-424d-8670-be4e2097d5e1\",\"list\":\"Lista de laborat\\xc3\\xb3rio 04\",\"question\":\"Matriz Transposta\",\"difficulty\":1.0,\"tag1\":\"Matrizes\",\"tag2\":\"0\",\"tag3\":\"0\",\"tag4\":\"0\",\"tag5\":\"0\"},{\"id_list\":\"f36bfbda-6adc-4d70-a979-5e902b624a79\",\"list\":\"LIP2020.5 07-07 (at\\xc3\\xa9 07-07 23:59)\",\"question\":\"Matriz Transposta\",\"difficulty\":1.0,\"tag1\":\"Matrizes\",\"tag2\":\"0\",\"tag3\":\"0\",\"tag4\":\"0\",\"tag5\":\"0\"},{\"id_list\":\"f36bfbda-6adc-4d70-a979-5e902b624a79\",\"list\":\"LIP2020.5 07-07 (at\\xc3\\xa9 07-07 23:59)\",\"question\":\"Matriz Transposta\",\"difficulty\":1.0,\"tag1\":\"Matrizes\",\"tag2\":\"0\",\"tag3\":\"0\",\"tag4\":\"0\",\"tag5\":\"0\"},{\"id_list\":\"6893c2d2-49b5-4476-8d0d-cf39313f0aec\",\"list\":\"ITP - Structs e Enumera\\xc3\\xa7\\xc3\\xb5es - Lista\",\"question\":\"Matrizes de String\",\"difficulty\":1.0,\"tag1\":\"Fun\\xc3\\xa7\\xc3\\xb5es\",\"tag2\":\"0\",\"tag3\":\"0\",\"tag4\":\"0\",\"tag5\":\"0\"},{\"id_list\":\"17ac33bf-c1f7-4d1b-92b6-6f76f41265c7\",\"list\":\"ITP - Ponteiros 1 - Lista\",\"question\":\"M\\xc3\\xa1ximo e m\\xc3\\xadnimo de matriz quadrada (ponteiros)\",\"difficulty\":2.0,\"tag1\":\"Ponteiros\",\"tag2\":\"Matrizes\",\"tag3\":\"0\",\"tag4\":\"0\",\"tag5\":\"0\"},{\"id_list\":\"31dab619-df8f-42a9-8813-abdddd9ede2c\",\"list\":\"LIP2020.5 24-06 (at\\xc3\\xa9 24-06 23:59 -- Avalia\\xc3\\xa7\\xc3\\xa3o )\",\"question\":\"MDC\",\"difficulty\":3.0,\"tag1\":\"0\",\"tag2\":\"0\",\"tag3\":\"0\",\"tag4\":\"0\",\"tag5\":\"0\"},{\"id_list\":\"b8b81141-cb48-4c8f-b470-6b9827a28d58\",\"list\":\"T05CD 19-09-2020\",\"question\":\"MDC\",\"difficulty\":3.0,\"tag1\":\"0\",\"tag2\":\"0\",\"tag3\":\"0\",\"tag4\":\"0\",\"tag5\":\"0\"},{\"id_list\":\"0ae7c42d-93f8-481d-8432-96b36a367a53\",\"list\":\"LIP2020.5 17-06 (at\\xc3\\xa9 17-06 23:59)\",\"question\":\"Media \",\"difficulty\":1.0,\"tag1\":\"0\",\"tag2\":\"0\",\"tag3\":\"0\",\"tag4\":\"0\",\"tag5\":\"0\"},{\"id_list\":\"63500143-e15f-430e-8b92-ed3510c9b0d4\",\"list\":\"LiP Aula 02 - Express\\xc3\\xb5es e Comandos de Sele\\xc3\\xa7\\xc3\\xa3o\",\"question\":\"Media \",\"difficulty\":1.0,\"tag1\":\"0\",\"tag2\":\"0\",\"tag3\":\"0\",\"tag4\":\"0\",\"tag5\":\"0\"},{\"id_list\":\"74eeea9b-bb3f-42fb-9852-da9a1b68c3fa\",\"list\":\"Lista IP C 01\",\"question\":\"M\\xc3\\xa9dia 3 notas - Parte 1\",\"difficulty\":1.0,\"tag1\":\"Operadores Aritm\\xc3\\xa9ticos\",\"tag2\":\"0\",\"tag3\":\"0\",\"tag4\":\"0\",\"tag5\":\"0\"},{\"id_list\":\"9338cc7b-7cf4-4d9f-af63-25a7effa7189\",\"list\":\"(Lop) Estruturas de decis\\xc3\\xa3o - M\\xc3\\xbaltiplas decis\\xc3\\xb5es\",\"question\":\"M\\xc3\\xa9dia com 3 situa\\xc3\\xa7\\xc3\\xb5es de decis\\xc3\\xa3o\",\"difficulty\":3.0,\"tag1\":\"0\",\"tag2\":\"0\",\"tag3\":\"0\",\"tag4\":\"0\",\"tag5\":\"0\"},{\"id_list\":\"9338cc7b-7cf4-4d9f-af63-25a7effa7189\",\"list\":\"(Lop) Estruturas de decis\\xc3\\xa3o - M\\xc3\\xbaltiplas decis\\xc3\\xb5es\",\"question\":\"M\\xc3\\xa9dia com 3 situa\\xc3\\xa7\\xc3\\xb5es de decis\\xc3\\xa3o - parte 2\",\"difficulty\":3.0,\"tag1\":\"0\",\"tag2\":\"0\",\"tag3\":\"0\",\"tag4\":\"0\",\"tag5\":\"0\"},{\"id_list\":\"2007f797-4427-48b6-94d0-609e123aa3e5\",\"list\":\"Lista IP C 02\",\"question\":\"M\\xc3\\xa9dia com quantidade vari\\xc3\\xa1vel de n\\xc3\\xbameros.\",\"difficulty\":3.0,\"tag1\":\"Estruturas de Repeti\\xc3\\xa7\\xc3\\xa3o\",\"tag2\":\"0\",\"tag3\":\"0\",\"tag4\":\"0\",\"tag5\":\"0\"},{\"id_list\":\"18df4694-8eb2-4929-b8d4-e8f0d0208960\",\"list\":\"ITP - Manipula\\xc3\\xa7\\xc3\\xa3o de Arquivos e  Modulariza\\xc3\\xa7\\xc3\\xa3o\",\"question\":\"M\\xc3\\xa9dia das notas de alunos (CSV)\",\"difficulty\":2.0,\"tag1\":\"Tipos Estruturados\",\"tag2\":\"0\",\"tag3\":\"0\",\"tag4\":\"0\",\"tag5\":\"0\"},{\"id_list\":\"18df4694-8eb2-4929-b8d4-e8f0d0208960\",\"list\":\"ITP - Manipula\\xc3\\xa7\\xc3\\xa3o de Arquivos e  Modulariza\\xc3\\xa7\\xc3\\xa3o\",\"question\":\"M\\xc3\\xa9dia das notas de alunos++ (CSV)\",\"difficulty\":2.0,\"tag1\":\"Tipos Estruturados\",\"tag2\":\"0\",\"tag3\":\"0\",\"tag4\":\"0\",\"tag5\":\"0\"},{\"id_list\":\"74eeea9b-bb3f-42fb-9852-da9a1b68c3fa\",\"list\":\"Lista IP C 01\",\"question\":\"M\\xc3\\xa9dia de 3 notas\",\"difficulty\":2.0,\"tag1\":\"Estruturas Condicionais\",\"tag2\":\"Estruturas de Repeti\\xc3\\xa7\\xc3\\xa3o\",\"tag3\":\"Vetores\",\"tag4\":\"0\",\"tag5\":\"0\"},{\"id_list\":\"8123c646-d8a5-46ab-8331-fd152f7cbf22\",\"list\":\"IMD0012 - 2020.6: Lista Preparat\\xc3\\xb3ria, Semana 3\",\"question\":\"M\\xc3\\xa9dia de 3 notas\",\"difficulty\":2.0,\"tag1\":\"Estruturas Condicionais\",\"tag2\":\"Estruturas de Repeti\\xc3\\xa7\\xc3\\xa3o\",\"tag3\":\"Vetores\",\"tag4\":\"0\",\"tag5\":\"0\"},{\"id_list\":\"1d70b477-a5a4-4474-b230-9b69fab0ddf0\",\"list\":\"LiP Aula 15 - Fun\\xc3\\xa7\\xc3\\xb5es, Vetores e Matrizes\",\"question\":\"Media de Elementos de uma linha\",\"difficulty\":2.0,\"tag1\":\"0\",\"tag2\":\"0\",\"tag3\":\"0\",\"tag4\":\"0\",\"tag5\":\"0\"},{\"id_list\":\"b92ec39e-ee61-4fc8-9b9c-1b6bbf2a32af\",\"list\":\"LIP2020.5 08-07 (at\\xc3\\xa9 08-07 23:59 -- Avalia\\xc3\\xa7\\xc3\\xa3o )\",\"question\":\"Media de Elementos de uma linha\",\"difficulty\":2.0,\"tag1\":\"0\",\"tag2\":\"0\",\"tag3\":\"0\",\"tag4\":\"0\",\"tag5\":\"0\"},{\"id_list\":\"5f3febce-4c06-4913-98a3-b3102bdff6d6\",\"list\":\"Lista de laborat\\xc3\\xb3rio 01\",\"question\":\"M\\xc3\\xa9dia de tr\\xc3\\xaas valores\",\"difficulty\":1.0,\"tag1\":\"0\",\"tag2\":\"0\",\"tag3\":\"0\",\"tag4\":\"0\",\"tag5\":\"0\"},{\"id_list\":\"bd91406e-0a5a-4d22-8e7d-f61a4352b509\",\"list\":\"Lab1_Vari\\xc3\\xa1veis, Constantes e Operadores\",\"question\":\"M\\xc3\\xa9dia de tr\\xc3\\xaas valores\",\"difficulty\":1.0,\"tag1\":\"0\",\"tag2\":\"0\",\"tag3\":\"0\",\"tag4\":\"0\",\"tag5\":\"0\"},{\"id_list\":\"f29ce6da-ffd4-4cab-8df5-b98f6c97bd5a\",\"list\":\"Lista de laborat\\xc3\\xb3rio 03\",\"question\":\"M\\xc3\\xa9dia e desvio-padr\\xc3\\xa3o\",\"difficulty\":2.0,\"tag1\":\"Vetores\",\"tag2\":\"0\",\"tag3\":\"0\",\"tag4\":\"0\",\"tag5\":\"0\"},{\"id_list\":\"e1f0e8be-54fe-4b54-8d6d-2451bedc0647\",\"list\":\"Treinamento - Express\\xc3\\xb5es Aritm\\xc3\\xa9ticas\",\"question\":\"M\\xc3\\xa9dia Ponderada\",\"difficulty\":2.0,\"tag1\":\"Operadores Aritm\\xc3\\xa9ticos\",\"tag2\":\"0\",\"tag3\":\"0\",\"tag4\":\"0\",\"tag5\":\"0\"},{\"id_list\":\"2007f797-4427-48b6-94d0-609e123aa3e5\",\"list\":\"Lista IP C 02\",\"question\":\"Mediana entre tr\\xc3\\xaas n\\xc3\\xbameros\",\"difficulty\":2.0,\"tag1\":\"Fun\\xc3\\xa7\\xc3\\xb5es\",\"tag2\":\"Estruturas Condicionais\",\"tag3\":\"0\",\"tag4\":\"0\",\"tag5\":\"0\"},{\"id_list\":\"b01f0c53-7467-497c-8d65-5a5fba96652d\",\"list\":\"T5D - 03-10-2020\",\"question\":\"Mediana entre tr\\xc3\\xaas n\\xc3\\xbameros\",\"difficulty\":2.0,\"tag1\":\"Fun\\xc3\\xa7\\xc3\\xb5es\",\"tag2\":\"Estruturas Condicionais\",\"tag3\":\"0\",\"tag4\":\"0\",\"tag5\":\"0\"},{\"id_list\":\"350916bd-6ce5-490e-a846-cee94fa7b2b7\",\"list\":\"Laborat\\xc3\\xb3rio 02 - Estrutura de decis\\xc3\\xa3o\",\"question\":\"Menor de 3 n\\xc3\\xbameros\",\"difficulty\":3.0,\"tag1\":\"0\",\"tag2\":\"0\",\"tag3\":\"0\",\"tag4\":\"0\",\"tag5\":\"0\"},{\"id_list\":\"3ab11cee-77d1-4448-9587-880929570cf3\",\"list\":\"(Lop) Lista de Laborat\\xc3\\xb3rio 2 - Estrutura de decis\\xc3\\xa3o\",\"question\":\"Menor de 3 n\\xc3\\xbameros\",\"difficulty\":3.0,\"tag1\":\"0\",\"tag2\":\"0\",\"tag3\":\"0\",\"tag4\":\"0\",\"tag5\":\"0\"},{\"id_list\":\"1551e3ed-c875-4bb3-8e4e-58407df40776\",\"list\":\"Vetores - Lista de Exerc\\xc3\\xadcios (LOP)\",\"question\":\"Menor e posi\\xc3\\xa7\\xc3\\xa3o\",\"difficulty\":3.0,\"tag1\":\"Estruturas de Repeti\\xc3\\xa7\\xc3\\xa3o\",\"tag2\":\"Estruturas de Repeti\\xc3\\xa7\\xc3\\xa3o Contada\",\"tag3\":\"Vetores\",\"tag4\":\"0\",\"tag5\":\"0\"},{\"id_list\":\"2007f797-4427-48b6-94d0-609e123aa3e5\",\"list\":\"Lista IP C 02\",\"question\":\"Menor e posi\\xc3\\xa7\\xc3\\xa3o\",\"difficulty\":3.0,\"tag1\":\"Estruturas de Repeti\\xc3\\xa7\\xc3\\xa3o\",\"tag2\":\"Estruturas de Repeti\\xc3\\xa7\\xc3\\xa3o Contada\",\"tag3\":\"Vetores\",\"tag4\":\"0\",\"tag5\":\"0\"},{\"id_list\":\"63500143-e15f-430e-8b92-ed3510c9b0d4\",\"list\":\"LiP Aula 02 - Express\\xc3\\xb5es e Comandos de Sele\\xc3\\xa7\\xc3\\xa3o\",\"question\":\"Menor que 10 ou Quadrado?\",\"difficulty\":1.0,\"tag1\":\"Estruturas Condicionais\",\"tag2\":\"0\",\"tag3\":\"0\",\"tag4\":\"0\",\"tag5\":\"0\"},{\"id_list\":\"498acd7b-f6b5-4727-b5c0-2b9800e7ecc1\",\"list\":\"Lista IP C 03\",\"question\":\"Menu de op\\xc3\\xa7\\xc3\\xb5es.\",\"difficulty\":2.0,\"tag1\":\"Estruturas de Repeti\\xc3\\xa7\\xc3\\xa3o\",\"tag2\":\"0\",\"tag3\":\"0\",\"tag4\":\"0\",\"tag5\":\"0\"},{\"id_list\":\"f5bc770d-2ac7-4060-ab1c-e42b5541f7a7\",\"list\":\"Repeti\\xc3\\xa7\\xc3\\xa3o contada - Lista de Exerc\\xc3\\xadcios (LOP)\",\"question\":\"M\\xc3\\xa9todo de Her\\xc3\\xa3o para calcular ra\\xc3\\xadzes quadradas\",\"difficulty\":3.0,\"tag1\":\"Estruturas de Repeti\\xc3\\xa7\\xc3\\xa3o\",\"tag2\":\"Estruturas de Repeti\\xc3\\xa7\\xc3\\xa3o Contada\",\"tag3\":\"0\",\"tag4\":\"0\",\"tag5\":\"0\"},{\"id_list\":\"18df4694-8eb2-4929-b8d4-e8f0d0208960\",\"list\":\"ITP - Manipula\\xc3\\xa7\\xc3\\xa3o de Arquivos e  Modulariza\\xc3\\xa7\\xc3\\xa3o\",\"question\":\"meu_grep\",\"difficulty\":2.0,\"tag1\":\"Sistemas\",\"tag2\":\"0\",\"tag3\":\"0\",\"tag4\":\"0\",\"tag5\":\"0\"},{\"id_list\":\"247f3598-27a2-4d32-9118-b44e860af8d1\",\"list\":\"Lista de laborat\\xc3\\xb3rio 02\",\"question\":\"Min\\xc3\\xbasculas\",\"difficulty\":2.0,\"tag1\":\"0\",\"tag2\":\"0\",\"tag3\":\"0\",\"tag4\":\"0\",\"tag5\":\"0\"},{\"id_list\":\"97172c5b-780c-422f-98c5-43a1a824d2ab\",\"list\":\"LIP2020.5 23-06 (at\\xc3\\xa9 23-06 23:59 )\",\"question\":\"Min\\xc3\\xbasculas\",\"difficulty\":2.0,\"tag1\":\"0\",\"tag2\":\"0\",\"tag3\":\"0\",\"tag4\":\"0\",\"tag5\":\"0\"},{\"id_list\":\"ce039011-2503-4898-80e6-22f987fd60dd\",\"list\":\"LiP - Fun\\xc3\\xa7\\xc3\\xb5es Recursivas\",\"question\":\"Multiplica\\xc3\\xa7\\xc3\\xa3o\",\"difficulty\":1.0,\"tag1\":\"0\",\"tag2\":\"0\",\"tag3\":\"0\",\"tag4\":\"0\",\"tag5\":\"0\"},{\"id_list\":\"fd37fd69-a2b2-493c-ba89-7fa879d85ead\",\"list\":\"LIP2020.5 17-07 (at\\xc3\\xa9 17-07 23:59)\",\"question\":\"Multiplica\\xc3\\xa7\\xc3\\xa3o\",\"difficulty\":1.0,\"tag1\":\"0\",\"tag2\":\"0\",\"tag3\":\"0\",\"tag4\":\"0\",\"tag5\":\"0\"},{\"id_list\":\"37e7728d-fa97-4f60-ad54-756dee26b8d8\",\"list\":\"Estruturas de repeti\\xc3\\xa7\\xc3\\xa3o\",\"question\":\"Multiplica\\xc3\\xa7\\xc3\\xa3o de fatores primos\",\"difficulty\":3.0,\"tag1\":\"Estruturas Condicionais\",\"tag2\":\"Estruturas de Repeti\\xc3\\xa7\\xc3\\xa3o\",\"tag3\":\"Estruturas de Repeti\\xc3\\xa7\\xc3\\xa3o Condicional\",\"tag4\":\"0\",\"tag5\":\"0\"},{\"id_list\":\"0a2c49a2-482c-40d7-bc44-ee368f089560\",\"list\":\"Repeti\\xc3\\xa7\\xc3\\xa3o condicional - Lista Pr\\xc3\\xa1tica (LOP)\",\"question\":\"M\\xc3\\xbaltiplo de 3 ou 7\",\"difficulty\":2.0,\"tag1\":\"Operadores L\\xc3\\xb3gicos\",\"tag2\":\"Estruturas Condicionais\",\"tag3\":\"Estruturas de Repeti\\xc3\\xa7\\xc3\\xa3o\",\"tag4\":\"0\",\"tag5\":\"0\"},{\"id_list\":\"0a2c49a2-482c-40d7-bc44-ee368f089560\",\"list\":\"Repeti\\xc3\\xa7\\xc3\\xa3o condicional - Lista Pr\\xc3\\xa1tica (LOP)\",\"question\":\"M\\xc3\\xbaltiplos de 8 entre 0 e 40\",\"difficulty\":2.0,\"tag1\":\"Estruturas de Repeti\\xc3\\xa7\\xc3\\xa3o\",\"tag2\":\"Estruturas de Repeti\\xc3\\xa7\\xc3\\xa3o Condicional\",\"tag3\":\"0\",\"tag4\":\"0\",\"tag5\":\"0\"},{\"id_list\":\"813dedaa-0989-489b-9804-3850ae4b83d1\",\"list\":\"Repeti\\xc3\\xa7\\xc3\\xa3o contada - Lista Pr\\xc3\\xa1tica (LOP)\",\"question\":\"N termos de Fibonacci\",\"difficulty\":2.0,\"tag1\":\"Estruturas Condicionais\",\"tag2\":\"Estruturas de Repeti\\xc3\\xa7\\xc3\\xa3o\",\"tag3\":\"Estruturas de Repeti\\xc3\\xa7\\xc3\\xa3o Contada\",\"tag4\":\"0\",\"tag5\":\"0\"},{\"id_list\":\"2007f797-4427-48b6-94d0-609e123aa3e5\",\"list\":\"Lista IP C 02\",\"question\":\"N termos de Fibonacci - Fun\\xc3\\xa7\\xc3\\xa3o Recursiva\",\"difficulty\":3.0,\"tag1\":\"Recurs\\xc3\\xa3o\",\"tag2\":\"Estruturas Condicionais\",\"tag3\":\"Estruturas de Repeti\\xc3\\xa7\\xc3\\xa3o\",\"tag4\":\"Estruturas de Repeti\\xc3\\xa7\\xc3\\xa3o Contada\",\"tag5\":\"0\"},{\"id_list\":\"cea8acb0-2934-43f3-afb6-11ad246bac63\",\"list\":\"LIP 5CD 21.11.2020\",\"question\":\"N termos de Fibonacci - Fun\\xc3\\xa7\\xc3\\xa3o Recursiva\",\"difficulty\":3.0,\"tag1\":\"Recurs\\xc3\\xa3o\",\"tag2\":\"Estruturas Condicionais\",\"tag3\":\"Estruturas de Repeti\\xc3\\xa7\\xc3\\xa3o\",\"tag4\":\"Estruturas de Repeti\\xc3\\xa7\\xc3\\xa3o Contada\",\"tag5\":\"0\"},{\"id_list\":\"cf509a46-6a97-440e-a5c0-f7ba7537ef96\",\"list\":\"(Lop) Estruturas de decis\\xc3\\xa3o - problemas sobre divisibilidade\",\"question\":\"N\\xc3\\xa3o \\xc3\\xa9 divisivel por 3\",\"difficulty\":2.0,\"tag1\":\"0\",\"tag2\":\"0\",\"tag3\":\"0\",\"tag4\":\"0\",\"tag5\":\"0\"},{\"id_list\":\"fd74c7eb-a840-4859-bd45-d2c954e7fb08\",\"list\":\"(Lop) Estruturas de deci\\xc3\\xa7\\xc3\\xa3o - problemas sobre divisibilidade\",\"question\":\"N\\xc3\\xa3o \\xc3\\xa9 divisivel por 3\",\"difficulty\":2.0,\"tag1\":\"0\",\"tag2\":\"0\",\"tag3\":\"0\",\"tag4\":\"0\",\"tag5\":\"0\"},{\"id_list\":\"06bd7c11-b7e8-49a4-a2f3-8244150a801d\",\"list\":\"Projeto Final Parte 1\",\"question\":\"Negativo de Imagem\",\"difficulty\":1.0,\"tag1\":\"Fun\\xc3\\xa7\\xc3\\xb5es\",\"tag2\":\"Tipos Estruturados\",\"tag3\":\"Matrizes\",\"tag4\":\"0\",\"tag5\":\"0\"},{\"id_list\":\"3778f280-6627-4c04-ab4f-caf44c95012d\",\"list\":\"Projeto Final parte 1 2020.6 3B\",\"question\":\"Negativo de Imagem\",\"difficulty\":1.0,\"tag1\":\"Fun\\xc3\\xa7\\xc3\\xb5es\",\"tag2\":\"Tipos Estruturados\",\"tag3\":\"Matrizes\",\"tag4\":\"0\",\"tag5\":\"0\"},{\"id_list\":\"63420b87-96ac-47c8-8acd-913084de69c7\",\"list\":\"Projeto Final parte 1 2020.6 3A\",\"question\":\"Negativo de Imagem\",\"difficulty\":1.0,\"tag1\":\"Fun\\xc3\\xa7\\xc3\\xb5es\",\"tag2\":\"Tipos Estruturados\",\"tag3\":\"Matrizes\",\"tag4\":\"0\",\"tag5\":\"0\"},{\"id_list\":\"5f3febce-4c06-4913-98a3-b3102bdff6d6\",\"list\":\"Lista de laborat\\xc3\\xb3rio 01\",\"question\":\"Norma do vetor\",\"difficulty\":1.0,\"tag1\":\"0\",\"tag2\":\"0\",\"tag3\":\"0\",\"tag4\":\"0\",\"tag5\":\"0\"},{\"id_list\":\"9bfe2a0b-120f-4df7-a3f7-89a8e100b0b1\",\"list\":\"Vari\\xc3\\xa1veis e express\\xc3\\xb5es\",\"question\":\"Norma do vetor\",\"difficulty\":1.0,\"tag1\":\"0\",\"tag2\":\"0\",\"tag3\":\"0\",\"tag4\":\"0\",\"tag5\":\"0\"},{\"id_list\":\"0ae7c42d-93f8-481d-8432-96b36a367a53\",\"list\":\"LIP2020.5 17-06 (at\\xc3\\xa9 17-06 23:59)\",\"question\":\"Notas\",\"difficulty\":5.0,\"tag1\":\"0\",\"tag2\":\"0\",\"tag3\":\"0\",\"tag4\":\"0\",\"tag5\":\"0\"},{\"id_list\":\"5f3febce-4c06-4913-98a3-b3102bdff6d6\",\"list\":\"Lista de laborat\\xc3\\xb3rio 01\",\"question\":\"Notas\",\"difficulty\":5.0,\"tag1\":\"0\",\"tag2\":\"0\",\"tag3\":\"0\",\"tag4\":\"0\",\"tag5\":\"0\"},{\"id_list\":\"0e2218e2-9b9d-445a-bc77-9acfeabbd6c1\",\"list\":\"LIP2020.5 19-06 (at\\xc3\\xa9 19-06 23:59 )\",\"question\":\"Notas\",\"difficulty\":1.0,\"tag1\":\"0\",\"tag2\":\"0\",\"tag3\":\"0\",\"tag4\":\"0\",\"tag5\":\"0\"},{\"id_list\":\"63500143-e15f-430e-8b92-ed3510c9b0d4\",\"list\":\"LiP Aula 02 - Express\\xc3\\xb5es e Comandos de Sele\\xc3\\xa7\\xc3\\xa3o\",\"question\":\"Notas\",\"difficulty\":1.0,\"tag1\":\"0\",\"tag2\":\"0\",\"tag3\":\"0\",\"tag4\":\"0\",\"tag5\":\"0\"},{\"id_list\":\"19b679f9-9054-42d9-a71a-5660e9c285c8\",\"list\":\"LiP Turma3 - 2020.6 - LAB06\",\"question\":\"Notas maiores que a m\\xc3\\xa9dia\",\"difficulty\":2.0,\"tag1\":\"Vetores\",\"tag2\":\"0\",\"tag3\":\"0\",\"tag4\":\"0\",\"tag5\":\"0\"},{\"id_list\":\"103e7c82-a2af-4732-8551-2911ab94ca12\",\"list\":\"T05AB 25-09-2020\",\"question\":\"N\\xc3\\xbamero Abundante\",\"difficulty\":2.0,\"tag1\":\"Estruturas de Repeti\\xc3\\xa7\\xc3\\xa3o Contada\",\"tag2\":\"0\",\"tag3\":\"0\",\"tag4\":\"0\",\"tag5\":\"0\"},{\"id_list\":\"3bf957b2-a988-4a6c-828d-b00224a0895b\",\"list\":\"LiP Aula 08 - Fun\\xc3\\xa7\\xc3\\xb5es: exerc\\xc3\\xadcios\",\"question\":\"N\\xc3\\xbamero Abundante\",\"difficulty\":2.0,\"tag1\":\"Estruturas de Repeti\\xc3\\xa7\\xc3\\xa3o Contada\",\"tag2\":\"0\",\"tag3\":\"0\",\"tag4\":\"0\",\"tag5\":\"0\"},{\"id_list\":\"103e7c82-a2af-4732-8551-2911ab94ca12\",\"list\":\"T05AB 25-09-2020\",\"question\":\"N\\xc3\\xbamero com d\\xc3\\xadgitos crescentes\",\"difficulty\":4.0,\"tag1\":\"Operadores Aritm\\xc3\\xa9ticos\",\"tag2\":\"Estruturas de Repeti\\xc3\\xa7\\xc3\\xa3o Condicional\",\"tag3\":\"0\",\"tag4\":\"0\",\"tag5\":\"0\"},{\"id_list\":\"bc1a2839-2fe0-423f-96ee-027ff3be0070\",\"list\":\"T05CD 26-09-2020\",\"question\":\"N\\xc3\\xbamero com d\\xc3\\xadgitos decrescentes\",\"difficulty\":4.0,\"tag1\":\"Operadores Aritm\\xc3\\xa9ticos\",\"tag2\":\"Estruturas de Repeti\\xc3\\xa7\\xc3\\xa3o Condicional\",\"tag3\":\"0\",\"tag4\":\"0\",\"tag5\":\"0\"},{\"id_list\":\"bc1a2839-2fe0-423f-96ee-027ff3be0070\",\"list\":\"T05CD 26-09-2020\",\"question\":\"N\\xc3\\xbamero Deficiente\",\"difficulty\":2.0,\"tag1\":\"Estruturas de Repeti\\xc3\\xa7\\xc3\\xa3o Contada\",\"tag2\":\"0\",\"tag3\":\"0\",\"tag4\":\"0\",\"tag5\":\"0\"},{\"id_list\":\"597fb902-de6b-4b1b-8ea8-ac5cf8f08d96\",\"list\":\"Estruturas de controle\",\"question\":\"N\\xc3\\xbamero divis\\xc3\\xadvel.\",\"difficulty\":1.0,\"tag1\":\"Estruturas Condicionais\",\"tag2\":\"0\",\"tag3\":\"0\",\"tag4\":\"0\",\"tag5\":\"0\"},{\"id_list\":\"ff7edf3b-2fe3-4e5c-a36f-3fab93d1f549\",\"list\":\"LIP2020.5 25-06 (at\\xc3\\xa9 25-06 23:59)\",\"question\":\"N\\xc3\\xbamero na posi\\xc3\\xa7\\xc3\\xa3o\",\"difficulty\":3.0,\"tag1\":\"0\",\"tag2\":\"0\",\"tag3\":\"0\",\"tag4\":\"0\",\"tag5\":\"0\"},{\"id_list\":\"37e7728d-fa97-4f60-ad54-756dee26b8d8\",\"list\":\"Estruturas de repeti\\xc3\\xa7\\xc3\\xa3o\",\"question\":\"N\\xc3\\xbamero perfeito\",\"difficulty\":2.0,\"tag1\":\"Estruturas de Repeti\\xc3\\xa7\\xc3\\xa3o\",\"tag2\":\"Estruturas de Repeti\\xc3\\xa7\\xc3\\xa3o Contada\",\"tag3\":\"0\",\"tag4\":\"0\",\"tag5\":\"0\"},{\"id_list\":\"31dab619-df8f-42a9-8813-abdddd9ede2c\",\"list\":\"LIP2020.5 24-06 (at\\xc3\\xa9 24-06 23:59 -- Avalia\\xc3\\xa7\\xc3\\xa3o )\",\"question\":\"N\\xc3\\xbamero Perfeito\",\"difficulty\":2.0,\"tag1\":\"0\",\"tag2\":\"0\",\"tag3\":\"0\",\"tag4\":\"0\",\"tag5\":\"0\"},{\"id_list\":\"9aeae0be-7dc8-4ba5-a576-7eb9699717e1\",\"list\":\"T05AB 18-09-2020\",\"question\":\"N\\xc3\\xbamero Perfeito\",\"difficulty\":2.0,\"tag1\":\"0\",\"tag2\":\"0\",\"tag3\":\"0\",\"tag4\":\"0\",\"tag5\":\"0\"},{\"id_list\":\"eb7d471b-ca19-4fbc-bf45-8c14039be6d5\",\"list\":\"LiP Aula 04 - Exerc\\xc3\\xadcios Comandos de Repeti\\xc3\\xa7\\xc3\\xa3o\",\"question\":\"N\\xc3\\xbamero Perfeito\",\"difficulty\":2.0,\"tag1\":\"0\",\"tag2\":\"0\",\"tag3\":\"0\",\"tag4\":\"0\",\"tag5\":\"0\"},{\"id_list\":\"5d111e7e-d160-486e-b4b1-6996b7fd074f\",\"list\":\"Lab3_Operadores L\\xc3\\xb3gicos e Estruturas de Sele\\xc3\\xa7\\xc3\\xa3o\",\"question\":\"N\\xc3\\xbamero positivo e negativo\",\"difficulty\":1.0,\"tag1\":\"0\",\"tag2\":\"0\",\"tag3\":\"0\",\"tag4\":\"0\",\"tag5\":\"0\"},{\"id_list\":\"37e7728d-fa97-4f60-ad54-756dee26b8d8\",\"list\":\"Estruturas de repeti\\xc3\\xa7\\xc3\\xa3o\",\"question\":\"N\\xc3\\xbamero primo\",\"difficulty\":2.0,\"tag1\":\"Estruturas Condicionais\",\"tag2\":\"Estruturas de Repeti\\xc3\\xa7\\xc3\\xa3o\",\"tag3\":\"0\",\"tag4\":\"0\",\"tag5\":\"0\"},{\"id_list\":\"813dedaa-0989-489b-9804-3850ae4b83d1\",\"list\":\"Repeti\\xc3\\xa7\\xc3\\xa3o contada - Lista Pr\\xc3\\xa1tica (LOP)\",\"question\":\"N\\xc3\\xbamero primo ou n\\xc3\\xa3o?\",\"difficulty\":3.0,\"tag1\":\"Estruturas Condicionais\",\"tag2\":\"Estruturas de Repeti\\xc3\\xa7\\xc3\\xa3o\",\"tag3\":\"0\",\"tag4\":\"0\",\"tag5\":\"0\"},{\"id_list\":\"7d17d52b-23c9-4a69-9d5c-10dfb0f4e123\",\"list\":\"LIP2020.5 02-07 (at\\xc3\\xa9 02-07 23:59 -- Avalia\\xc3\\xa7\\xc3\\xa3o )\",\"question\":\"N\\xc3\\xbamero Sheldon \",\"difficulty\":2.0,\"tag1\":\"0\",\"tag2\":\"0\",\"tag3\":\"0\",\"tag4\":\"0\",\"tag5\":\"0\"},{\"id_list\":\"97564359-981d-4aa2-a90b-ef708d3b076f\",\"list\":\"LIP2020.5 22-07 (at\\xc3\\xa9 22-07 23:59)\",\"question\":\"N\\xc3\\xbameros complexos\",\"difficulty\":2.0,\"tag1\":\"0\",\"tag2\":\"0\",\"tag3\":\"0\",\"tag4\":\"0\",\"tag5\":\"0\"},{\"id_list\":\"d92afa9b-2def-4faf-9889-17bdf68642bf\",\"list\":\"ITP - Recurs\\xc3\\xa3o - Lista\",\"question\":\"N\\xc3\\xbameros de Fibonacci em um intervalo\",\"difficulty\":2.0,\"tag1\":\"Recurs\\xc3\\xa3o\",\"tag2\":\"0\",\"tag3\":\"0\",\"tag4\":\"0\",\"tag5\":\"0\"},{\"id_list\":\"37e7728d-fa97-4f60-ad54-756dee26b8d8\",\"list\":\"Estruturas de repeti\\xc3\\xa7\\xc3\\xa3o\",\"question\":\"N\\xc3\\xbameros divididos por 11 com resto 5\",\"difficulty\":1.0,\"tag1\":\"Estruturas Condicionais\",\"tag2\":\"Estruturas de Repeti\\xc3\\xa7\\xc3\\xa3o\",\"tag3\":\"0\",\"tag4\":\"0\",\"tag5\":\"0\"},{\"id_list\":\"bff428d6-9bff-4011-b23a-4adeffea71ef\",\"list\":\"LIP2020.5 18-06 (at\\xc3\\xa9 18-06 23:59 -- Avalia\\xc3\\xa7\\xc3\\xa3o )\",\"question\":\"N\\xc3\\xbameros flutuantes\",\"difficulty\":5.0,\"tag1\":\"0\",\"tag2\":\"0\",\"tag3\":\"0\",\"tag4\":\"0\",\"tag5\":\"0\"},{\"id_list\":\"234df799-1f9e-4366-bba2-f09d613b7199\",\"list\":\"LIP2020.5 16-06 (at\\xc3\\xa9 16-06 23:59)\",\"question\":\"N\\xc3\\xbameros flutuantes\",\"difficulty\":1.0,\"tag1\":\"0\",\"tag2\":\"0\",\"tag3\":\"0\",\"tag4\":\"0\",\"tag5\":\"0\"},{\"id_list\":\"6893c2d2-49b5-4476-8d0d-cf39313f0aec\",\"list\":\"ITP - Structs e Enumera\\xc3\\xa7\\xc3\\xb5es - Lista\",\"question\":\"Numeros Fracion\\xc3\\xa1rios\",\"difficulty\":2.0,\"tag1\":\"Fun\\xc3\\xa7\\xc3\\xb5es\",\"tag2\":\"0\",\"tag3\":\"0\",\"tag4\":\"0\",\"tag5\":\"0\"},{\"id_list\":\"9bccc3d3-46dd-4de9-b5a3-67d5beef38a2\",\"list\":\"T5AB - 02-10-2020\",\"question\":\"N\\xc3\\xbameros pitag\\xc3\\xb3ricos\",\"difficulty\":1.0,\"tag1\":\"Fun\\xc3\\xa7\\xc3\\xb5es\",\"tag2\":\"0\",\"tag3\":\"0\",\"tag4\":\"0\",\"tag5\":\"0\"},{\"id_list\":\"2007f797-4427-48b6-94d0-609e123aa3e5\",\"list\":\"Lista IP C 02\",\"question\":\"N\\xc3\\xbameros Primos\",\"difficulty\":2.0,\"tag1\":\"0\",\"tag2\":\"0\",\"tag3\":\"0\",\"tag4\":\"0\",\"tag5\":\"0\"},{\"id_list\":\"7ea8510d-f1e9-424e-997b-81228ea6c6e6\",\"list\":\"LiP 2 - Estruturas de Controle e Repeti\\xc3\\xa7\\xc3\\xa3o\",\"question\":\"N\\xc3\\xbameros Primos\",\"difficulty\":2.0,\"tag1\":\"0\",\"tag2\":\"0\",\"tag3\":\"0\",\"tag4\":\"0\",\"tag5\":\"0\"},{\"id_list\":\"2007f797-4427-48b6-94d0-609e123aa3e5\",\"list\":\"Lista IP C 02\",\"question\":\"N\\xc3\\xbameros primos em um intervalo\",\"difficulty\":2.0,\"tag1\":\"Estruturas Condicionais\",\"tag2\":\"Estruturas de Repeti\\xc3\\xa7\\xc3\\xa3o\",\"tag3\":\"0\",\"tag4\":\"0\",\"tag5\":\"0\"},{\"id_list\":\"37e7728d-fa97-4f60-ad54-756dee26b8d8\",\"list\":\"Estruturas de repeti\\xc3\\xa7\\xc3\\xa3o\",\"question\":\"N\\xc3\\xbameros primos em um intervalo\",\"difficulty\":2.0,\"tag1\":\"Estruturas Condicionais\",\"tag2\":\"Estruturas de Repeti\\xc3\\xa7\\xc3\\xa3o\",\"tag3\":\"0\",\"tag4\":\"0\",\"tag5\":\"0\"},{\"id_list\":\"0d7de341-ef39-481a-bb90-829539fa48ad\",\"list\":\"LIP2020.5 29-06 (at\\xc3\\xa9 29-06 23:59)\",\"question\":\"N\\xc3\\xbameros Triangulares  \",\"difficulty\":3.0,\"tag1\":\"0\",\"tag2\":\"0\",\"tag3\":\"0\",\"tag4\":\"0\",\"tag5\":\"0\"},{\"id_list\":\"597fb902-de6b-4b1b-8ea8-ac5cf8f08d96\",\"list\":\"Estruturas de controle\",\"question\":\"O maior entre 3 n\\xc3\\xbameros\",\"difficulty\":1.0,\"tag1\":\"Estruturas Condicionais\",\"tag2\":\"0\",\"tag3\":\"0\",\"tag4\":\"0\",\"tag5\":\"0\"},{\"id_list\":\"74eeea9b-bb3f-42fb-9852-da9a1b68c3fa\",\"list\":\"Lista IP C 01\",\"question\":\"O maior entre 3 n\\xc3\\xbameros\",\"difficulty\":1.0,\"tag1\":\"Estruturas Condicionais\",\"tag2\":\"0\",\"tag3\":\"0\",\"tag4\":\"0\",\"tag5\":\"0\"},{\"id_list\":\"1551e3ed-c875-4bb3-8e4e-58407df40776\",\"list\":\"Vetores - Lista de Exerc\\xc3\\xadcios (LOP)\",\"question\":\"O maior valor de cada vetor\",\"difficulty\":2.0,\"tag1\":\"Estruturas Condicionais\",\"tag2\":\"Estruturas de Repeti\\xc3\\xa7\\xc3\\xa3o\",\"tag3\":\"Vetores\",\"tag4\":\"0\",\"tag5\":\"0\"},{\"id_list\":\"0a2c49a2-482c-40d7-bc44-ee368f089560\",\"list\":\"Repeti\\xc3\\xa7\\xc3\\xa3o condicional - Lista Pr\\xc3\\xa1tica (LOP)\",\"question\":\"O quadrado dos 5 n\\xc3\\xbameros\",\"difficulty\":1.0,\"tag1\":\"Estruturas de Repeti\\xc3\\xa7\\xc3\\xa3o\",\"tag2\":\"Estruturas de Repeti\\xc3\\xa7\\xc3\\xa3o Contada\",\"tag3\":\"0\",\"tag4\":\"0\",\"tag5\":\"0\"},{\"id_list\":\"350916bd-6ce5-490e-a846-cee94fa7b2b7\",\"list\":\"Laborat\\xc3\\xb3rio 02 - Estrutura de decis\\xc3\\xa3o\",\"question\":\"O quadrado ou raiz\",\"difficulty\":1.0,\"tag1\":\"0\",\"tag2\":\"0\",\"tag3\":\"0\",\"tag4\":\"0\",\"tag5\":\"0\"},{\"id_list\":\"3ab11cee-77d1-4448-9587-880929570cf3\",\"list\":\"(Lop) Lista de Laborat\\xc3\\xb3rio 2 - Estrutura de decis\\xc3\\xa3o\",\"question\":\"O quadrado ou raiz\",\"difficulty\":1.0,\"tag1\":\"0\",\"tag2\":\"0\",\"tag3\":\"0\",\"tag4\":\"0\",\"tag5\":\"0\"},{\"id_list\":\"234df799-1f9e-4366-bba2-f09d613b7199\",\"list\":\"LIP2020.5 16-06 (at\\xc3\\xa9 16-06 23:59)\",\"question\":\"O tipo Bool\",\"difficulty\":1.0,\"tag1\":\"0\",\"tag2\":\"0\",\"tag3\":\"0\",\"tag4\":\"0\",\"tag5\":\"0\"},{\"id_list\":\"234df799-1f9e-4366-bba2-f09d613b7199\",\"list\":\"LIP2020.5 16-06 (at\\xc3\\xa9 16-06 23:59)\",\"question\":\"O tipo int\",\"difficulty\":1.0,\"tag1\":\"0\",\"tag2\":\"0\",\"tag3\":\"0\",\"tag4\":\"0\",\"tag5\":\"0\"},{\"id_list\":\"37e7728d-fa97-4f60-ad54-756dee26b8d8\",\"list\":\"Estruturas de repeti\\xc3\\xa7\\xc3\\xa3o\",\"question\":\"O valor de \\xe2\\x84\\xaf (n\\xc3\\xbamero de Euler)\",\"difficulty\":3.0,\"tag1\":\"Estruturas de Repeti\\xc3\\xa7\\xc3\\xa3o\",\"tag2\":\"Estruturas de Repeti\\xc3\\xa7\\xc3\\xa3o Condicional\",\"tag3\":\"Estruturas de Repeti\\xc3\\xa7\\xc3\\xa3o Contada\",\"tag4\":\"0\",\"tag5\":\"0\"},{\"id_list\":\"0029c21a-270c-453f-83de-4736426fef8d\",\"list\":\"T5AB16.10.2020\",\"question\":\"Ocorre Mais Vezes\",\"difficulty\":3.0,\"tag1\":\"Estruturas Condicionais\",\"tag2\":\"Estruturas de Repeti\\xc3\\xa7\\xc3\\xa3o\",\"tag3\":\"Vetores\",\"tag4\":\"0\",\"tag5\":\"0\"},{\"id_list\":\"ad4ce898-def7-4265-bc14-96f4bd2432ae\",\"list\":\"LiP Aula 11 - Vetores Exerc\\xc3\\xadcios\",\"question\":\"Ocorre Mais Vezes\",\"difficulty\":3.0,\"tag1\":\"Estruturas Condicionais\",\"tag2\":\"Estruturas de Repeti\\xc3\\xa7\\xc3\\xa3o\",\"tag3\":\"Vetores\",\"tag4\":\"0\",\"tag5\":\"0\"},{\"id_list\":\"234df799-1f9e-4366-bba2-f09d613b7199\",\"list\":\"LIP2020.5 16-06 (at\\xc3\\xa9 16-06 23:59)\",\"question\":\"Opera\\xc3\\xa7\\xc3\\xb5es de incremento\\\\/decremento\",\"difficulty\":1.0,\"tag1\":\"0\",\"tag2\":\"0\",\"tag3\":\"0\",\"tag4\":\"0\",\"tag5\":\"0\"},{\"id_list\":\"6893c2d2-49b5-4476-8d0d-cf39313f0aec\",\"list\":\"ITP - Structs e Enumera\\xc3\\xa7\\xc3\\xb5es - Lista\",\"question\":\"Opera\\xc3\\xa7\\xc3\\xb5es Enumeradas\",\"difficulty\":3.0,\"tag1\":\"String\",\"tag2\":\"0\",\"tag3\":\"0\",\"tag4\":\"0\",\"tag5\":\"0\"},{\"id_list\":\"5d111e7e-d160-486e-b4b1-6996b7fd074f\",\"list\":\"Lab3_Operadores L\\xc3\\xb3gicos e Estruturas de Sele\\xc3\\xa7\\xc3\\xa3o\",\"question\":\"Ordem crescente de tr\\xc3\\xaas n\\xc3\\xbameros\",\"difficulty\":2.0,\"tag1\":\"0\",\"tag2\":\"0\",\"tag3\":\"0\",\"tag4\":\"0\",\"tag5\":\"0\"},{\"id_list\":\"0e2218e2-9b9d-445a-bc77-9acfeabbd6c1\",\"list\":\"LIP2020.5 19-06 (at\\xc3\\xa9 19-06 23:59 )\",\"question\":\"Ordem decrescente.\",\"difficulty\":1.0,\"tag1\":\"0\",\"tag2\":\"0\",\"tag3\":\"0\",\"tag4\":\"0\",\"tag5\":\"0\"},{\"id_list\":\"0029c21a-270c-453f-83de-4736426fef8d\",\"list\":\"T5AB16.10.2020\",\"question\":\"Ordem-inversa\",\"difficulty\":1.0,\"tag1\":\"0\",\"tag2\":\"0\",\"tag3\":\"0\",\"tag4\":\"0\",\"tag5\":\"0\"},{\"id_list\":\"8b706927-b56e-4193-ac89-6f8de689f880\",\"list\":\"LIP2020.5 03-07 (at\\xc3\\xa9 03-07 23:59)\",\"question\":\"Ordem-inversa\",\"difficulty\":1.0,\"tag1\":\"0\",\"tag2\":\"0\",\"tag3\":\"0\",\"tag4\":\"0\",\"tag5\":\"0\"},{\"id_list\":\"a2159330-c142-4018-aa03-af14b62cbf1d\",\"list\":\"LiP Aula 10 - Vetores\",\"question\":\"Ordem-inversa\",\"difficulty\":1.0,\"tag1\":\"0\",\"tag2\":\"0\",\"tag3\":\"0\",\"tag4\":\"0\",\"tag5\":\"0\"},{\"id_list\":\"862c7ab6-d8b6-4bcb-8594-4abb15c894ce\",\"list\":\"LiP - Ordena\\xc3\\xa7\\xc3\\xa3o\",\"question\":\"Ordena Datas\",\"difficulty\":4.0,\"tag1\":\"Fun\\xc3\\xa7\\xc3\\xb5es\",\"tag2\":\"Vetores\",\"tag3\":\"0\",\"tag4\":\"0\",\"tag5\":\"0\"},{\"id_list\":\"17a2c8a2-f94b-4a69-b6c0-2d801f480431\",\"list\":\"Lista de laborat\\xc3\\xb3rio 08\",\"question\":\"Ordena\\xc3\\xa7\\xc3\\xa3o por Tamanho\",\"difficulty\":3.0,\"tag1\":\"Ordena\\xc3\\xa7\\xc3\\xa3o\",\"tag2\":\"0\",\"tag3\":\"0\",\"tag4\":\"0\",\"tag5\":\"0\"},{\"id_list\":\"17a2c8a2-f94b-4a69-b6c0-2d801f480431\",\"list\":\"Lista de laborat\\xc3\\xb3rio 08\",\"question\":\"Ordenando a Lista de Crian\\xc3\\xa7as do Papai Noel\",\"difficulty\":3.0,\"tag1\":\"Ordena\\xc3\\xa7\\xc3\\xa3o\",\"tag2\":\"0\",\"tag3\":\"0\",\"tag4\":\"0\",\"tag5\":\"0\"},{\"id_list\":\"60cf6b85-2c8c-4668-9d03-f874397c8c92\",\"list\":\"LIP2020.5 16-07 (at\\xc3\\xa9 16-07 23:59 -- Avalia\\xc3\\xa7\\xc3\\xa3o )\",\"question\":\"Ordenando Notas\",\"difficulty\":3.0,\"tag1\":\"0\",\"tag2\":\"0\",\"tag3\":\"0\",\"tag4\":\"0\",\"tag5\":\"0\"},{\"id_list\":\"862c7ab6-d8b6-4bcb-8594-4abb15c894ce\",\"list\":\"LiP - Ordena\\xc3\\xa7\\xc3\\xa3o\",\"question\":\"Ordenando Notas\",\"difficulty\":3.0,\"tag1\":\"0\",\"tag2\":\"0\",\"tag3\":\"0\",\"tag4\":\"0\",\"tag5\":\"0\"},{\"id_list\":\"415add51-ca2b-4d32-b013-f70ab4ad96a1\",\"list\":\"LIP2020.5 15-07 (at\\xc3\\xa9 15-07 23:59)\",\"question\":\"Ordenando um vetor\",\"difficulty\":2.0,\"tag1\":\"0\",\"tag2\":\"0\",\"tag3\":\"0\",\"tag4\":\"0\",\"tag5\":\"0\"},{\"id_list\":\"862c7ab6-d8b6-4bcb-8594-4abb15c894ce\",\"list\":\"LiP - Ordena\\xc3\\xa7\\xc3\\xa3o\",\"question\":\"Ordenando um vetor\",\"difficulty\":2.0,\"tag1\":\"0\",\"tag2\":\"0\",\"tag3\":\"0\",\"tag4\":\"0\",\"tag5\":\"0\"},{\"id_list\":\"595d5aab-1e14-4a64-a9b7-bcdc03c64611\",\"list\":\"LIP 5CD 04.12.2020\",\"question\":\"Ordenando uma string\",\"difficulty\":3.0,\"tag1\":\"0\",\"tag2\":\"0\",\"tag3\":\"0\",\"tag4\":\"0\",\"tag5\":\"0\"},{\"id_list\":\"60cf6b85-2c8c-4668-9d03-f874397c8c92\",\"list\":\"LIP2020.5 16-07 (at\\xc3\\xa9 16-07 23:59 -- Avalia\\xc3\\xa7\\xc3\\xa3o )\",\"question\":\"Ordenando uma string\",\"difficulty\":3.0,\"tag1\":\"0\",\"tag2\":\"0\",\"tag3\":\"0\",\"tag4\":\"0\",\"tag5\":\"0\"},{\"id_list\":\"d6043c35-4622-4004-a2d7-49ae8145d71c\",\"list\":\"LIP 5AB 04.12.2020\",\"question\":\"Ordenando uma string\",\"difficulty\":3.0,\"tag1\":\"0\",\"tag2\":\"0\",\"tag3\":\"0\",\"tag4\":\"0\",\"tag5\":\"0\"},{\"id_list\":\"fe558fa7-d86c-418d-a1f8-d52f52e06674\",\"list\":\"LiP - Ordena\\xc3\\xa7\\xc3\\xa3o Exerc\\xc3\\xadcios\",\"question\":\"Ordenando uma string\",\"difficulty\":3.0,\"tag1\":\"0\",\"tag2\":\"0\",\"tag3\":\"0\",\"tag4\":\"0\",\"tag5\":\"0\"},{\"id_list\":\"60cf6b85-2c8c-4668-9d03-f874397c8c92\",\"list\":\"LIP2020.5 16-07 (at\\xc3\\xa9 16-07 23:59 -- Avalia\\xc3\\xa7\\xc3\\xa3o )\",\"question\":\"Ordenar Par-\\xc3\\xadmpar\",\"difficulty\":3.0,\"tag1\":\"0\",\"tag2\":\"0\",\"tag3\":\"0\",\"tag4\":\"0\",\"tag5\":\"0\"},{\"id_list\":\"862c7ab6-d8b6-4bcb-8594-4abb15c894ce\",\"list\":\"LiP - Ordena\\xc3\\xa7\\xc3\\xa3o\",\"question\":\"Ordenar Par-\\xc3\\xadmpar\",\"difficulty\":3.0,\"tag1\":\"0\",\"tag2\":\"0\",\"tag3\":\"0\",\"tag4\":\"0\",\"tag5\":\"0\"},{\"id_list\":\"05b12380-7fc7-4cf1-8c33-85d6a01c2da2\",\"list\":\"Aula 12 - Strings\",\"question\":\"Pal\\xc3\\xadndromo\",\"difficulty\":1.0,\"tag1\":\"0\",\"tag2\":\"0\",\"tag3\":\"0\",\"tag4\":\"0\",\"tag5\":\"0\"},{\"id_list\":\"686bffd1-7947-45be-9765-72e17fcf7b47\",\"list\":\"LIP2020.5 09-07 (at\\xc3\\xa9  09-07 23:59)\",\"question\":\"Pal\\xc3\\xadndromo\",\"difficulty\":1.0,\"tag1\":\"0\",\"tag2\":\"0\",\"tag3\":\"0\",\"tag4\":\"0\",\"tag5\":\"0\"},{\"id_list\":\"fb49ae2e-562f-4b90-8b4b-c73e40507dc8\",\"list\":\"ITP - Strings - Lista\",\"question\":\"Pal\\xc3\\xadndromo\",\"difficulty\":1.0,\"tag1\":\"0\",\"tag2\":\"0\",\"tag3\":\"0\",\"tag4\":\"0\",\"tag5\":\"0\"},{\"id_list\":\"b2e8f346-219d-466f-a4b0-3a0bea25e16f\",\"list\":\"LIP2020.5 20-07 (at\\xc3\\xa9 20-07 23:59 -- Avalia\\xc3\\xa7\\xc3\\xa3o )\",\"question\":\"Pal\\xc3\\xadndromo\",\"difficulty\":3.0,\"tag1\":\"0\",\"tag2\":\"0\",\"tag3\":\"0\",\"tag4\":\"0\",\"tag5\":\"0\"},{\"id_list\":\"d2f4890f-8a5d-4b17-a3b7-261ff6ce6246\",\"list\":\"Lista 1 - Exerc\\xc3\\xadcios Simples\",\"question\":\"Pal\\xc3\\xadndromo\",\"difficulty\":3.0,\"tag1\":\"0\",\"tag2\":\"0\",\"tag3\":\"0\",\"tag4\":\"0\",\"tag5\":\"0\"},{\"id_list\":\"a4c6a43b-c5bb-4b76-b5b1-8d5ac6eec809\",\"list\":\"LIP 5AB 20.11.2020\",\"question\":\"Pal\\xc3\\xadndromo com recurs\\xc3\\xa3o\",\"difficulty\":3.0,\"tag1\":\"Recurs\\xc3\\xa3o\",\"tag2\":\"0\",\"tag3\":\"0\",\"tag4\":\"0\",\"tag5\":\"0\"},{\"id_list\":\"fd37fd69-a2b2-493c-ba89-7fa879d85ead\",\"list\":\"LIP2020.5 17-07 (at\\xc3\\xa9 17-07 23:59)\",\"question\":\"Par - \\xc3\\xadmpar\",\"difficulty\":1.0,\"tag1\":\"0\",\"tag2\":\"0\",\"tag3\":\"0\",\"tag4\":\"0\",\"tag5\":\"0\"},{\"id_list\":\"fba3dfb3-9170-4a2a-83de-a23698f1f44b\",\"list\":\"Lista em C\",\"question\":\"Par Mais Pr\\xc3\\xb3ximo\",\"difficulty\":3.0,\"tag1\":\"Estruturas de Repeti\\xc3\\xa7\\xc3\\xa3o\",\"tag2\":\"Vetores\",\"tag3\":\"0\",\"tag4\":\"0\",\"tag5\":\"0\"},{\"id_list\":\"fc005240-07f9-45b9-99ff-12dc1cb72b3a\",\"list\":\"Lista 2\",\"question\":\"Par Mais Pr\\xc3\\xb3ximo\",\"difficulty\":3.0,\"tag1\":\"Estruturas de Repeti\\xc3\\xa7\\xc3\\xa3o\",\"tag2\":\"Vetores\",\"tag3\":\"0\",\"tag4\":\"0\",\"tag5\":\"0\"},{\"id_list\":\"9338cc7b-7cf4-4d9f-af63-25a7effa7189\",\"list\":\"(Lop) Estruturas de decis\\xc3\\xa3o - M\\xc3\\xbaltiplas decis\\xc3\\xb5es\",\"question\":\"Par ou impar\",\"difficulty\":2.0,\"tag1\":\"0\",\"tag2\":\"0\",\"tag3\":\"0\",\"tag4\":\"0\",\"tag5\":\"0\"},{\"id_list\":\"34691c68-f01d-46ad-808d-6bbd44bcd9a2\",\"list\":\"Repeti\\xc3\\xa7\\xc3\\xa3o contada - Lista Resolvida (LOP)\",\"question\":\"Par ou \\xc3\\xadmpar com N n\\xc3\\xbameros\",\"difficulty\":2.0,\"tag1\":\"Estruturas de Repeti\\xc3\\xa7\\xc3\\xa3o\",\"tag2\":\"Estruturas de Repeti\\xc3\\xa7\\xc3\\xa3o Contada\",\"tag3\":\"0\",\"tag4\":\"0\",\"tag5\":\"0\"},{\"id_list\":\"0a2c49a2-482c-40d7-bc44-ee368f089560\",\"list\":\"Repeti\\xc3\\xa7\\xc3\\xa3o condicional - Lista Pr\\xc3\\xa1tica (LOP)\",\"question\":\"Para quando digitar 2\",\"difficulty\":3.0,\"tag1\":\"Estruturas de Repeti\\xc3\\xa7\\xc3\\xa3o\",\"tag2\":\"Estruturas de Repeti\\xc3\\xa7\\xc3\\xa3o Condicional\",\"tag3\":\"0\",\"tag4\":\"0\",\"tag5\":\"0\"},{\"id_list\":\"0a2c49a2-482c-40d7-bc44-ee368f089560\",\"list\":\"Repeti\\xc3\\xa7\\xc3\\xa3o condicional - Lista Pr\\xc3\\xa1tica (LOP)\",\"question\":\"Pare no 22\",\"difficulty\":1.0,\"tag1\":\"Estruturas de Repeti\\xc3\\xa7\\xc3\\xa3o\",\"tag2\":\"Estruturas de Repeti\\xc3\\xa7\\xc3\\xa3o Condicional\",\"tag3\":\"0\",\"tag4\":\"0\",\"tag5\":\"0\"},{\"id_list\":\"12211c46-2fda-4392-99ce-a0dfc306a5e1\",\"list\":\"ITP - La\\xc3\\xa7os\",\"question\":\"Pares, \\xc3\\xadmpares, positivos e negativos\",\"difficulty\":2.0,\"tag1\":\"Estruturas Condicionais\",\"tag2\":\"Estruturas de Repeti\\xc3\\xa7\\xc3\\xa3o\",\"tag3\":\"Estruturas de Repeti\\xc3\\xa7\\xc3\\xa3o Contada\",\"tag4\":\"0\",\"tag5\":\"0\"},{\"id_list\":\"fb5a29da-a4f6-482c-a808-3c88d626ad1b\",\"list\":\"LiP 2 - Estruturas de Controle e Repeti\\xc3\\xa7\\xc3\\xa3o II\",\"question\":\"Perfeito\",\"difficulty\":3.0,\"tag1\":\"0\",\"tag2\":\"0\",\"tag3\":\"0\",\"tag4\":\"0\",\"tag5\":\"0\"},{\"id_list\":\"5ebe517f-50f2-4629-a22f-1dea895fce25\",\"list\":\"Aula - Fun\\xc3\\xa7\\xc3\\xb5es Aritm\\xc3\\xa9ticas\",\"question\":\"Per\\xc3\\xadmetro de raio R\",\"difficulty\":3.0,\"tag1\":\"Operadores Aritm\\xc3\\xa9ticos\",\"tag2\":\"0\",\"tag3\":\"0\",\"tag4\":\"0\",\"tag5\":\"0\"},{\"id_list\":\"5a6f7700-0ac8-4bce-ad9e-b95e1e69fd9f\",\"list\":\"LIP2020.5 14-07 (at\\xc3\\xa9 14-07 23:59)\",\"question\":\"Permuta\\xc3\\xa7\\xc3\\xb5es\",\"difficulty\":2.0,\"tag1\":\"0\",\"tag2\":\"0\",\"tag3\":\"0\",\"tag4\":\"0\",\"tag5\":\"0\"},{\"id_list\":\"f5bc770d-2ac7-4060-ab1c-e42b5541f7a7\",\"list\":\"Repeti\\xc3\\xa7\\xc3\\xa3o contada - Lista de Exerc\\xc3\\xadcios (LOP)\",\"question\":\"Pesando os bois\",\"difficulty\":2.0,\"tag1\":\"Estruturas Condicionais\",\"tag2\":\"Estruturas de Repeti\\xc3\\xa7\\xc3\\xa3o\",\"tag3\":\"0\",\"tag4\":\"0\",\"tag5\":\"0\"},{\"id_list\":\"3732af4f-7650-42e3-a0f1-500d73c7a9eb\",\"list\":\"LiP Turma3 - 2020.6 - LAB02\",\"question\":\"Pessoa mais velha\",\"difficulty\":2.0,\"tag1\":\"Estruturas Condicionais\",\"tag2\":\"0\",\"tag3\":\"0\",\"tag4\":\"0\",\"tag5\":\"0\"},{\"id_list\":\"fbd7d783-4d81-46dc-8107-1ffb9c6e347a\",\"list\":\"Lista de laborat\\xc3\\xb3rio 06\",\"question\":\"Pir\\xc3\\xa2mide de n\\xc3\\xbameros recursiva\",\"difficulty\":4.0,\"tag1\":\"Recurs\\xc3\\xa3o\",\"tag2\":\"0\",\"tag3\":\"0\",\"tag4\":\"0\",\"tag5\":\"0\"},{\"id_list\":\"597fb902-de6b-4b1b-8ea8-ac5cf8f08d96\",\"list\":\"Estruturas de controle\",\"question\":\"Podem ser lados de um tri\\xc3\\xa2ngulo?\",\"difficulty\":1.0,\"tag1\":\"Estruturas Condicionais\",\"tag2\":\"0\",\"tag3\":\"0\",\"tag4\":\"0\",\"tag5\":\"0\"},{\"id_list\":\"27125775-d6a4-4bb0-9ded-303da0998654\",\"list\":\"Lista de laborat\\xc3\\xb3rio 09\",\"question\":\"Ponto mais pr\\xc3\\xb3ximo\",\"difficulty\":3.0,\"tag1\":\"Fun\\xc3\\xa7\\xc3\\xb5es\",\"tag2\":\"Tipos Estruturados\",\"tag3\":\"Estruturas Condicionais\",\"tag4\":\"Estruturas de Repeti\\xc3\\xa7\\xc3\\xa3o\",\"tag5\":\"Vetores\"},{\"id_list\":\"498acd7b-f6b5-4727-b5c0-2b9800e7ecc1\",\"list\":\"Lista IP C 03\",\"question\":\"Ponto mais pr\\xc3\\xb3ximo\",\"difficulty\":3.0,\"tag1\":\"Fun\\xc3\\xa7\\xc3\\xb5es\",\"tag2\":\"Tipos Estruturados\",\"tag3\":\"Estruturas Condicionais\",\"tag4\":\"Estruturas de Repeti\\xc3\\xa7\\xc3\\xa3o\",\"tag5\":\"Vetores\"},{\"id_list\":\"f897d442-657d-40cc-aa2c-454b49a81630\",\"list\":\"LiP - Tipos Estruturados\",\"question\":\"Ponto mais pr\\xc3\\xb3ximo\",\"difficulty\":3.0,\"tag1\":\"Fun\\xc3\\xa7\\xc3\\xb5es\",\"tag2\":\"Tipos Estruturados\",\"tag3\":\"Estruturas Condicionais\",\"tag4\":\"Estruturas de Repeti\\xc3\\xa7\\xc3\\xa3o\",\"tag5\":\"Vetores\"},{\"id_list\":\"3732af4f-7650-42e3-a0f1-500d73c7a9eb\",\"list\":\"LiP Turma3 - 2020.6 - LAB02\",\"question\":\"Ponto no interior de um c\\xc3\\xadrculo\",\"difficulty\":3.0,\"tag1\":\"Estruturas Condicionais\",\"tag2\":\"0\",\"tag3\":\"0\",\"tag4\":\"0\",\"tag5\":\"0\"},{\"id_list\":\"aca84206-87b2-4478-afa4-6193119cc06a\",\"list\":\"Repeti\\xc3\\xa7\\xc3\\xa3o condicional - Lista de Exerc\\xc3\\xadcios (LOP)\",\"question\":\"Porcentagem dos maiores que 15\",\"difficulty\":3.0,\"tag1\":\"Operadores Aritm\\xc3\\xa9ticos\",\"tag2\":\"Operadores L\\xc3\\xb3gicos\",\"tag3\":\"Estruturas Condicionais\",\"tag4\":\"Estruturas de Repeti\\xc3\\xa7\\xc3\\xa3o\",\"tag5\":\"Estruturas de Repeti\\xc3\\xa7\\xc3\\xa3o Condicional\"},{\"id_list\":\"aca84206-87b2-4478-afa4-6193119cc06a\",\"list\":\"Repeti\\xc3\\xa7\\xc3\\xa3o condicional - Lista de Exerc\\xc3\\xadcios (LOP)\",\"question\":\"Positivos e soma\",\"difficulty\":2.0,\"tag1\":\"Estruturas de Repeti\\xc3\\xa7\\xc3\\xa3o\",\"tag2\":\"Estruturas de Repeti\\xc3\\xa7\\xc3\\xa3o Contada\",\"tag3\":\"0\",\"tag4\":\"0\",\"tag5\":\"0\"},{\"id_list\":\"7b73413f-23d4-4ac3-943c-dc1daaa53293\",\"list\":\"ECT2303 2020.6 T05ABCD - Lab1\",\"question\":\"Potencia\",\"difficulty\":1.0,\"tag1\":\"0\",\"tag2\":\"0\",\"tag3\":\"0\",\"tag4\":\"0\",\"tag5\":\"0\"},{\"id_list\":\"ff7edf3b-2fe3-4e5c-a36f-3fab93d1f549\",\"list\":\"LIP2020.5 25-06 (at\\xc3\\xa9 25-06 23:59)\",\"question\":\"Potencia\",\"difficulty\":1.0,\"tag1\":\"0\",\"tag2\":\"0\",\"tag3\":\"0\",\"tag4\":\"0\",\"tag5\":\"0\"},{\"id_list\":\"ce039011-2503-4898-80e6-22f987fd60dd\",\"list\":\"LiP - Fun\\xc3\\xa7\\xc3\\xb5es Recursivas\",\"question\":\"Potencia \",\"difficulty\":1.0,\"tag1\":\"0\",\"tag2\":\"0\",\"tag3\":\"0\",\"tag4\":\"0\",\"tag5\":\"0\"},{\"id_list\":\"fd37fd69-a2b2-493c-ba89-7fa879d85ead\",\"list\":\"LIP2020.5 17-07 (at\\xc3\\xa9 17-07 23:59)\",\"question\":\"Potencia \",\"difficulty\":1.0,\"tag1\":\"0\",\"tag2\":\"0\",\"tag3\":\"0\",\"tag4\":\"0\",\"tag5\":\"0\"},{\"id_list\":\"2007f797-4427-48b6-94d0-609e123aa3e5\",\"list\":\"Lista IP C 02\",\"question\":\"Pot\\xc3\\xaancia entre A e B\",\"difficulty\":2.0,\"tag1\":\"Estruturas de Repeti\\xc3\\xa7\\xc3\\xa3o\",\"tag2\":\"0\",\"tag3\":\"0\",\"tag4\":\"0\",\"tag5\":\"0\"},{\"id_list\":\"37e7728d-fa97-4f60-ad54-756dee26b8d8\",\"list\":\"Estruturas de repeti\\xc3\\xa7\\xc3\\xa3o\",\"question\":\"Pot\\xc3\\xaancia entre A e B\",\"difficulty\":2.0,\"tag1\":\"Estruturas de Repeti\\xc3\\xa7\\xc3\\xa3o\",\"tag2\":\"0\",\"tag3\":\"0\",\"tag4\":\"0\",\"tag5\":\"0\"},{\"id_list\":\"93cd33c4-109a-401e-87e9-e26ff5929d37\",\"list\":\"Vetores - Lista Resolvida (LOP)\",\"question\":\"Preenchimento de vetor I\",\"difficulty\":1.0,\"tag1\":\"Estruturas de Repeti\\xc3\\xa7\\xc3\\xa3o\",\"tag2\":\"Estruturas de Repeti\\xc3\\xa7\\xc3\\xa3o Contada\",\"tag3\":\"Vetores\",\"tag4\":\"0\",\"tag5\":\"0\"},{\"id_list\":\"c4d09d1b-73a5-45c6-8a0d-ead669114b65\",\"list\":\"Vetores - Lista Pr\\xc3\\xa1tica (LOP)\",\"question\":\"Preenchimento de vetor II\",\"difficulty\":1.0,\"tag1\":\"Estruturas de Repeti\\xc3\\xa7\\xc3\\xa3o\",\"tag2\":\"Estruturas de Repeti\\xc3\\xa7\\xc3\\xa3o Contada\",\"tag3\":\"Vetores\",\"tag4\":\"0\",\"tag5\":\"0\"},{\"id_list\":\"3bf957b2-a988-4a6c-828d-b00224a0895b\",\"list\":\"LiP Aula 08 - Fun\\xc3\\xa7\\xc3\\xb5es: exerc\\xc3\\xadcios\",\"question\":\"Primeiro e \\xc3\\xbaltimo d\\xc3\\xadgito \",\"difficulty\":1.0,\"tag1\":\"0\",\"tag2\":\"0\",\"tag3\":\"0\",\"tag4\":\"0\",\"tag5\":\"0\"},{\"id_list\":\"4341aea0-249a-4a1a-ad24-7010c42f173e\",\"list\":\"LIP2020.5 30-06 (at\\xc3\\xa9 30-06 23:59 -- Avalia\\xc3\\xa7\\xc3\\xa3o )\",\"question\":\"Primeiro e \\xc3\\xbaltimo d\\xc3\\xadgito \",\"difficulty\":1.0,\"tag1\":\"0\",\"tag2\":\"0\",\"tag3\":\"0\",\"tag4\":\"0\",\"tag5\":\"0\"},{\"id_list\":\"4b613441-2546-41ec-b3d2-eb9c4e85bc95\",\"list\":\"LiP Aula 03 - Comandos de Repeti\\xc3\\xa7\\xc3\\xa3o\",\"question\":\"Primo\",\"difficulty\":2.0,\"tag1\":\"0\",\"tag2\":\"0\",\"tag3\":\"0\",\"tag4\":\"0\",\"tag5\":\"0\"},{\"id_list\":\"97172c5b-780c-422f-98c5-43a1a824d2ab\",\"list\":\"LIP2020.5 23-06 (at\\xc3\\xa9 23-06 23:59 )\",\"question\":\"Primo\",\"difficulty\":2.0,\"tag1\":\"0\",\"tag2\":\"0\",\"tag3\":\"0\",\"tag4\":\"0\",\"tag5\":\"0\"},{\"id_list\":\"103e7c82-a2af-4732-8551-2911ab94ca12\",\"list\":\"T05AB 25-09-2020\",\"question\":\"Primo de Sophie-Germain\",\"difficulty\":3.0,\"tag1\":\"Operadores Aritm\\xc3\\xa9ticos\",\"tag2\":\"Estruturas de Repeti\\xc3\\xa7\\xc3\\xa3o\",\"tag3\":\"0\",\"tag4\":\"0\",\"tag5\":\"0\"},{\"id_list\":\"490204cf-8f2f-4b39-b32e-c27334919363\",\"list\":\"LiP Turma3AB - 2020.6 - LAB03\",\"question\":\"Primo de Sophie-Germain\",\"difficulty\":3.0,\"tag1\":\"Operadores Aritm\\xc3\\xa9ticos\",\"tag2\":\"Estruturas de Repeti\\xc3\\xa7\\xc3\\xa3o\",\"tag3\":\"0\",\"tag4\":\"0\",\"tag5\":\"0\"},{\"id_list\":\"5c91cdd4-ceda-41ed-8164-4a963aab779d\",\"list\":\"LiP Turma3CD - 2020.6 - LAB03\",\"question\":\"Primo de Sophie-Germain\",\"difficulty\":3.0,\"tag1\":\"Operadores Aritm\\xc3\\xa9ticos\",\"tag2\":\"Estruturas de Repeti\\xc3\\xa7\\xc3\\xa3o\",\"tag3\":\"0\",\"tag4\":\"0\",\"tag5\":\"0\"},{\"id_list\":\"9aeae0be-7dc8-4ba5-a576-7eb9699717e1\",\"list\":\"T05AB 18-09-2020\",\"question\":\"Primo Digitado\",\"difficulty\":3.0,\"tag1\":\"0\",\"tag2\":\"0\",\"tag3\":\"0\",\"tag4\":\"0\",\"tag5\":\"0\"},{\"id_list\":\"eb7d471b-ca19-4fbc-bf45-8c14039be6d5\",\"list\":\"LiP Aula 04 - Exerc\\xc3\\xadcios Comandos de Repeti\\xc3\\xa7\\xc3\\xa3o\",\"question\":\"Primo Digitado\",\"difficulty\":3.0,\"tag1\":\"0\",\"tag2\":\"0\",\"tag3\":\"0\",\"tag4\":\"0\",\"tag5\":\"0\"},{\"id_list\":\"bc1a2839-2fe0-423f-96ee-027ff3be0070\",\"list\":\"T05CD 26-09-2020\",\"question\":\"Primos g\\xc3\\xaameos\",\"difficulty\":2.0,\"tag1\":\"Estruturas de Repeti\\xc3\\xa7\\xc3\\xa3o\",\"tag2\":\"0\",\"tag3\":\"0\",\"tag4\":\"0\",\"tag5\":\"0\"},{\"id_list\":\"0d562031-a165-447e-abbc-b1dfb5437431\",\"list\":\"LiP Turma3 - 2020.6 - LAB04\",\"question\":\"Primos g\\xc3\\xaameos (com fun\\xc3\\xa7\\xc3\\xa3o)\",\"difficulty\":2.0,\"tag1\":\"Fun\\xc3\\xa7\\xc3\\xb5es\",\"tag2\":\"Estruturas de Repeti\\xc3\\xa7\\xc3\\xa3o\",\"tag3\":\"0\",\"tag4\":\"0\",\"tag5\":\"0\"},{\"id_list\":\"fe430330-db92-4244-8967-4e70540db612\",\"list\":\"Lista de laborat\\xc3\\xb3rio 05\",\"question\":\"Primos g\\xc3\\xaameos (com fun\\xc3\\xa7\\xc3\\xa3o)\",\"difficulty\":2.0,\"tag1\":\"Fun\\xc3\\xa7\\xc3\\xb5es\",\"tag2\":\"Estruturas de Repeti\\xc3\\xa7\\xc3\\xa3o\",\"tag3\":\"0\",\"tag4\":\"0\",\"tag5\":\"0\"},{\"id_list\":\"0d562031-a165-447e-abbc-b1dfb5437431\",\"list\":\"LiP Turma3 - 2020.6 - LAB04\",\"question\":\"Primos no intervalo (com fun\\xc3\\xa7\\xc3\\xa3o)\",\"difficulty\":2.0,\"tag1\":\"Fun\\xc3\\xa7\\xc3\\xb5es\",\"tag2\":\"Estruturas Condicionais\",\"tag3\":\"0\",\"tag4\":\"0\",\"tag5\":\"0\"},{\"id_list\":\"2007f797-4427-48b6-94d0-609e123aa3e5\",\"list\":\"Lista IP C 02\",\"question\":\"Primos no intervalo (com fun\\xc3\\xa7\\xc3\\xa3o)\",\"difficulty\":2.0,\"tag1\":\"Fun\\xc3\\xa7\\xc3\\xb5es\",\"tag2\":\"Estruturas Condicionais\",\"tag3\":\"0\",\"tag4\":\"0\",\"tag5\":\"0\"},{\"id_list\":\"241929f6-c884-4345-88dd-2d3da92bc982\",\"list\":\"LiP Aula 13 - Matrizes\",\"question\":\"Procura Elemento na Matriz\",\"difficulty\":1.0,\"tag1\":\"Matrizes\",\"tag2\":\"0\",\"tag3\":\"0\",\"tag4\":\"0\",\"tag5\":\"0\"},{\"id_list\":\"d1540510-bd71-4a3a-bc7a-f2f03ce016f1\",\"list\":\"LIP 5CD 24.10.2020\",\"question\":\"Procura Elemento na Matriz\",\"difficulty\":1.0,\"tag1\":\"Matrizes\",\"tag2\":\"0\",\"tag3\":\"0\",\"tag4\":\"0\",\"tag5\":\"0\"},{\"id_list\":\"37e7728d-fa97-4f60-ad54-756dee26b8d8\",\"list\":\"Estruturas de repeti\\xc3\\xa7\\xc3\\xa3o\",\"question\":\"Produto de n\\xc3\\xbameros digitados\",\"difficulty\":2.0,\"tag1\":\"0\",\"tag2\":\"0\",\"tag3\":\"0\",\"tag4\":\"0\",\"tag5\":\"0\"},{\"id_list\":\"c74ac415-e9a8-44ec-8020-3d3873b8e08d\",\"list\":\"LiP Turma3 - 2020.6 - LAB08\",\"question\":\"Produto interno e norma de vetores (com fun\\xc3\\xa7\\xc3\\xa3o)\",\"difficulty\":1.0,\"tag1\":\"Fun\\xc3\\xa7\\xc3\\xb5es\",\"tag2\":\"Vetores\",\"tag3\":\"0\",\"tag4\":\"0\",\"tag5\":\"0\"},{\"id_list\":\"1e014265-1b4f-4d86-81d6-6e5e530e0e1a\",\"list\":\"Lista Laborat\\xc3\\xb3rio 03\",\"question\":\"Produt\\xc3\\xb3rio dos divisores\",\"difficulty\":3.0,\"tag1\":\"0\",\"tag2\":\"0\",\"tag3\":\"0\",\"tag4\":\"0\",\"tag5\":\"0\"},{\"id_list\":\"247f3598-27a2-4d32-9118-b44e860af8d1\",\"list\":\"Lista de laborat\\xc3\\xb3rio 02\",\"question\":\"Produt\\xc3\\xb3rio dos divisores\",\"difficulty\":3.0,\"tag1\":\"0\",\"tag2\":\"0\",\"tag3\":\"0\",\"tag4\":\"0\",\"tag5\":\"0\"},{\"id_list\":\"d332be0f-b93d-4b78-87f4-bf3598caeba1\",\"list\":\"LIP2020.5 21-07 (at\\xc3\\xa9 21-07 23:59)\",\"question\":\"Produtos\",\"difficulty\":2.0,\"tag1\":\"0\",\"tag2\":\"0\",\"tag3\":\"0\",\"tag4\":\"0\",\"tag5\":\"0\"},{\"id_list\":\"f897d442-657d-40cc-aa2c-454b49a81630\",\"list\":\"LiP - Tipos Estruturados\",\"question\":\"Produtos\",\"difficulty\":2.0,\"tag1\":\"0\",\"tag2\":\"0\",\"tag3\":\"0\",\"tag4\":\"0\",\"tag5\":\"0\"},{\"id_list\":\"102050fa-c902-4258-a988-01dad84ff63f\",\"list\":\"Aula - Introdu\\xc3\\xa7\\xc3\\xa3o Express\\xc3\\xb5es Aritim\\xc3\\xa9ticas\",\"question\":\"Programa Bom Dia!\",\"difficulty\":1.0,\"tag1\":\"0\",\"tag2\":\"0\",\"tag3\":\"0\",\"tag4\":\"0\",\"tag5\":\"0\"},{\"id_list\":\"5f3febce-4c06-4913-98a3-b3102bdff6d6\",\"list\":\"Lista de laborat\\xc3\\xb3rio 01\",\"question\":\"Programa executado com sucesso!\",\"difficulty\":1.0,\"tag1\":\"0\",\"tag2\":\"0\",\"tag3\":\"0\",\"tag4\":\"0\",\"tag5\":\"0\"},{\"id_list\":\"9c622709-f723-458d-a894-a93d0bbdc41a\",\"list\":\"Prova T03 Unidade I\",\"question\":\"Propriedades de um n\\xc3\\xbamero\",\"difficulty\":1.0,\"tag1\":\"0\",\"tag2\":\"0\",\"tag3\":\"0\",\"tag4\":\"0\",\"tag5\":\"0\"},{\"id_list\":\"c9a2aaf5-5a44-4307-ad91-03d75a64496f\",\"list\":\"LIP2020.5 01-07 (at\\xc3\\xa9 01-07 23:59)\",\"question\":\"Prova Final\",\"difficulty\":1.0,\"tag1\":\"0\",\"tag2\":\"0\",\"tag3\":\"0\",\"tag4\":\"0\",\"tag5\":\"0\"},{\"id_list\":\"0711744a-a92d-4e88-a56a-07168d2e98cc\",\"list\":\"Python e Taylor\",\"question\":\"Python -  If elif else\",\"difficulty\":2.0,\"tag1\":\"Estruturas Condicionais\",\"tag2\":\"0\",\"tag3\":\"0\",\"tag4\":\"0\",\"tag5\":\"0\"},{\"id_list\":\"6f9b9fd6-d2de-410d-854b-46a2702290a4\",\"list\":\"CN T3T4 lista 4 (MMQ+Interpola\\xc3\\xa7\\xc3\\xa3o)\",\"question\":\"Python: Aplica\\xc3\\xa7\\xc3\\xa3o de MMQ polinomial\",\"difficulty\":3.0,\"tag1\":\"CN\",\"tag2\":\"MMQ\",\"tag3\":\"0\",\"tag4\":\"0\",\"tag5\":\"0\"},{\"id_list\":\"6404a09d-89ef-41b0-920f-e092f00f8cf6\",\"list\":\"CN T3T4 lista 2\",\"question\":\"Python: Aproxima\\xc3\\xa7\\xc3\\xa3o da derivada\",\"difficulty\":1.0,\"tag1\":\"0\",\"tag2\":\"0\",\"tag3\":\"0\",\"tag4\":\"0\",\"tag5\":\"0\"},{\"id_list\":\"0711744a-a92d-4e88-a56a-07168d2e98cc\",\"list\":\"Python e Taylor\",\"question\":\"Python: Aproximar por Taylor a fu\\xc3\\xa7\\xc3\\xa3o a0+a1*cos(w0*t)+a2*sen(w0*t)\",\"difficulty\":4.0,\"tag1\":\"Estruturas Condicionais\",\"tag2\":\"Estruturas de Repeti\\xc3\\xa7\\xc3\\xa3o\",\"tag3\":\"0\",\"tag4\":\"0\",\"tag5\":\"0\"},{\"id_list\":\"0711744a-a92d-4e88-a56a-07168d2e98cc\",\"list\":\"Python e Taylor\",\"question\":\"Python: Aproximar por Taylor a fun\\xc3\\xa7\\xc3\\xa3o exp(x)\",\"difficulty\":3.0,\"tag1\":\"Estruturas de Repeti\\xc3\\xa7\\xc3\\xa3o\",\"tag2\":\"Estruturas de Repeti\\xc3\\xa7\\xc3\\xa3o Contada\",\"tag3\":\"0\",\"tag4\":\"0\",\"tag5\":\"0\"},{\"id_list\":\"0711744a-a92d-4e88-a56a-07168d2e98cc\",\"list\":\"Python e Taylor\",\"question\":\"Python: Aproximar por Taylor a fun\\xc3\\xa7\\xc3\\xa3o sen(x)\",\"difficulty\":3.0,\"tag1\":\"Estruturas Condicionais\",\"tag2\":\"Estruturas de Repeti\\xc3\\xa7\\xc3\\xa3o\",\"tag3\":\"Estruturas de Repeti\\xc3\\xa7\\xc3\\xa3o Contada\",\"tag4\":\"0\",\"tag5\":\"0\"},{\"id_list\":\"6404a09d-89ef-41b0-920f-e092f00f8cf6\",\"list\":\"CN T3T4 lista 2\",\"question\":\"Python: Bisse\\xc3\\xa7\\xc3\\xa3o simples\",\"difficulty\":2.0,\"tag1\":\"0\",\"tag2\":\"0\",\"tag3\":\"0\",\"tag4\":\"0\",\"tag5\":\"0\"},{\"id_list\":\"6404a09d-89ef-41b0-920f-e092f00f8cf6\",\"list\":\"CN T3T4 lista 2\",\"question\":\"Python: Bolzano recursivo\",\"difficulty\":4.0,\"tag1\":\"0\",\"tag2\":\"0\",\"tag3\":\"0\",\"tag4\":\"0\",\"tag5\":\"0\"},{\"id_list\":\"6404a09d-89ef-41b0-920f-e092f00f8cf6\",\"list\":\"CN T3T4 lista 2\",\"question\":\"Python: Calcula o retorno de uma fun\\xc3\\xa7\\xc3\\xa3o\",\"difficulty\":1.0,\"tag1\":\"Fun\\xc3\\xa7\\xc3\\xb5es\",\"tag2\":\"0\",\"tag3\":\"0\",\"tag4\":\"0\",\"tag5\":\"0\"},{\"id_list\":\"887ac98d-84c8-46c1-a9e3-1598e25621ba\",\"list\":\"CN T3T4 lista 3 (sistemas)\",\"question\":\"Python: Decomposi\\xc3\\xa7\\xc3\\xa3o LU\",\"difficulty\":1.0,\"tag1\":\"CN\",\"tag2\":\"Sistemas\",\"tag3\":\"0\",\"tag4\":\"0\",\"tag5\":\"0\"},{\"id_list\":\"0711744a-a92d-4e88-a56a-07168d2e98cc\",\"list\":\"Python e Taylor\",\"question\":\"Python: Derivada \\\\\"n\\\\\" da fun\\xc3\\xa7\\xc3\\xa3o \\\\\"cos(w0*t0)\\\\\"\",\"difficulty\":2.0,\"tag1\":\"Operadores Aritm\\xc3\\xa9ticos\",\"tag2\":\"0\",\"tag3\":\"0\",\"tag4\":\"0\",\"tag5\":\"0\"},{\"id_list\":\"6404a09d-89ef-41b0-920f-e092f00f8cf6\",\"list\":\"CN T3T4 lista 2\",\"question\":\"Python: Derivada da fun\\xc3\\xa7\\xc3\\xa3o para Newton\",\"difficulty\":1.0,\"tag1\":\"0\",\"tag2\":\"0\",\"tag3\":\"0\",\"tag4\":\"0\",\"tag5\":\"0\"},{\"id_list\":\"0711744a-a92d-4e88-a56a-07168d2e98cc\",\"list\":\"Python e Taylor\",\"question\":\"Python: Derivada de seno\",\"difficulty\":2.0,\"tag1\":\"Operadores Aritm\\xc3\\xa9ticos\",\"tag2\":\"0\",\"tag3\":\"0\",\"tag4\":\"0\",\"tag5\":\"0\"},{\"id_list\":\"6f9b9fd6-d2de-410d-854b-46a2702290a4\",\"list\":\"CN T3T4 lista 4 (MMQ+Interpola\\xc3\\xa7\\xc3\\xa3o)\",\"question\":\"Python: Dias corridos no ano\",\"difficulty\":1.0,\"tag1\":\"CN\",\"tag2\":\"Estruturas Condicionais\",\"tag3\":\"0\",\"tag4\":\"0\",\"tag5\":\"0\"},{\"id_list\":\"6c495237-8170-4856-8f9d-4827cce0fd88\",\"list\":\"CN T3T4 lista 5 (Integra\\xc3\\xa7\\xc3\\xa3o+EDO)\",\"question\":\"Python: EDO de ordem 4 com Euler\",\"difficulty\":4.0,\"tag1\":\"EDO\",\"tag2\":\"CN\",\"tag3\":\"0\",\"tag4\":\"0\",\"tag5\":\"0\"},{\"id_list\":\"6c495237-8170-4856-8f9d-4827cce0fd88\",\"list\":\"CN T3T4 lista 5 (Integra\\xc3\\xa7\\xc3\\xa3o+EDO)\",\"question\":\"Python: EDO primeira ordem com Euler\",\"difficulty\":2.0,\"tag1\":\"EDO\",\"tag2\":\"CN\",\"tag3\":\"0\",\"tag4\":\"0\",\"tag5\":\"0\"},{\"id_list\":\"6c495237-8170-4856-8f9d-4827cce0fd88\",\"list\":\"CN T3T4 lista 5 (Integra\\xc3\\xa7\\xc3\\xa3o+EDO)\",\"question\":\"Python: EDO primeira ordem com Euler modificado (Heun)\",\"difficulty\":2.0,\"tag1\":\"EDO\",\"tag2\":\"CN\",\"tag3\":\"0\",\"tag4\":\"0\",\"tag5\":\"0\"},{\"id_list\":\"6c495237-8170-4856-8f9d-4827cce0fd88\",\"list\":\"CN T3T4 lista 5 (Integra\\xc3\\xa7\\xc3\\xa3o+EDO)\",\"question\":\"Python: EDO segunda ordem com RK4\",\"difficulty\":4.0,\"tag1\":\"EDO\",\"tag2\":\"CN\",\"tag3\":\"0\",\"tag4\":\"0\",\"tag5\":\"0\"},{\"id_list\":\"887ac98d-84c8-46c1-a9e3-1598e25621ba\",\"list\":\"CN T3T4 lista 3 (sistemas)\",\"question\":\"Python: Elimina\\xc3\\xa7\\xc3\\xa3o de Gauss\",\"difficulty\":1.0,\"tag1\":\"0\",\"tag2\":\"0\",\"tag3\":\"0\",\"tag4\":\"0\",\"tag5\":\"0\"},{\"id_list\":\"6404a09d-89ef-41b0-920f-e092f00f8cf6\",\"list\":\"CN T3T4 lista 2\",\"question\":\"Python: Falsa Posi\\xc3\\xa7\\xc3\\xa3o\",\"difficulty\":2.0,\"tag1\":\"0\",\"tag2\":\"0\",\"tag3\":\"0\",\"tag4\":\"0\",\"tag5\":\"0\"},{\"id_list\":\"0711744a-a92d-4e88-a56a-07168d2e98cc\",\"list\":\"Python e Taylor\",\"question\":\"Python: Fatorial utilizando la\\xc3\\xa7o FOR\",\"difficulty\":1.0,\"tag1\":\"Estruturas de Repeti\\xc3\\xa7\\xc3\\xa3o\",\"tag2\":\"Estruturas de Repeti\\xc3\\xa7\\xc3\\xa3o Contada\",\"tag3\":\"0\",\"tag4\":\"0\",\"tag5\":\"0\"},{\"id_list\":\"0711744a-a92d-4e88-a56a-07168d2e98cc\",\"list\":\"Python e Taylor\",\"question\":\"Python: Fatorial utilizando o m\\xc3\\xb3dulo math.\",\"difficulty\":1.0,\"tag1\":\"Fun\\xc3\\xa7\\xc3\\xb5es\",\"tag2\":\"0\",\"tag3\":\"0\",\"tag4\":\"0\",\"tag5\":\"0\"},{\"id_list\":\"6f9b9fd6-d2de-410d-854b-46a2702290a4\",\"list\":\"CN T3T4 lista 4 (MMQ+Interpola\\xc3\\xa7\\xc3\\xa3o)\",\"question\":\"Python: Fun\\xc3\\xa7\\xc3\\xa3o peri\\xc3\\xb3dica\",\"difficulty\":1.0,\"tag1\":\"Fun\\xc3\\xa7\\xc3\\xb5es\",\"tag2\":\"CN\",\"tag3\":\"0\",\"tag4\":\"0\",\"tag5\":\"0\"},{\"id_list\":\"887ac98d-84c8-46c1-a9e3-1598e25621ba\",\"list\":\"CN T3T4 lista 3 (sistemas)\",\"question\":\"Python: Gauss-Seidel sistemas\",\"difficulty\":4.0,\"tag1\":\"CN\",\"tag2\":\"Sistemas\",\"tag3\":\"0\",\"tag4\":\"0\",\"tag5\":\"0\"},{\"id_list\":\"6c495237-8170-4856-8f9d-4827cce0fd88\",\"list\":\"CN T3T4 lista 5 (Integra\\xc3\\xa7\\xc3\\xa3o+EDO)\",\"question\":\"Python: Integral primeira regra de Simpson\",\"difficulty\":3.0,\"tag1\":\"Integral\",\"tag2\":\"CN\",\"tag3\":\"0\",\"tag4\":\"0\",\"tag5\":\"0\"},{\"id_list\":\"6c495237-8170-4856-8f9d-4827cce0fd88\",\"list\":\"CN T3T4 lista 5 (Integra\\xc3\\xa7\\xc3\\xa3o+EDO)\",\"question\":\"Python: Integral segunda regra de Simpson\",\"difficulty\":3.0,\"tag1\":\"Integral\",\"tag2\":\"CN\",\"tag3\":\"0\",\"tag4\":\"0\",\"tag5\":\"0\"},{\"id_list\":\"6c495237-8170-4856-8f9d-4827cce0fd88\",\"list\":\"CN T3T4 lista 5 (Integra\\xc3\\xa7\\xc3\\xa3o+EDO)\",\"question\":\"Python: Integral trap\\xc3\\xa9zio composto\",\"difficulty\":2.0,\"tag1\":\"Integral\",\"tag2\":\"CN\",\"tag3\":\"0\",\"tag4\":\"0\",\"tag5\":\"0\"},{\"id_list\":\"6c495237-8170-4856-8f9d-4827cce0fd88\",\"list\":\"CN T3T4 lista 5 (Integra\\xc3\\xa7\\xc3\\xa3o+EDO)\",\"question\":\"Python: Integral trap\\xc3\\xa9zio simples\",\"difficulty\":1.0,\"tag1\":\"Integral\",\"tag2\":\"CN\",\"tag3\":\"0\",\"tag4\":\"0\",\"tag5\":\"0\"},{\"id_list\":\"6c495237-8170-4856-8f9d-4827cce0fd88\",\"list\":\"CN T3T4 lista 5 (Integra\\xc3\\xa7\\xc3\\xa3o+EDO)\",\"question\":\"Python: Integral trap\\xc3\\xa9zio vetores\",\"difficulty\":2.0,\"tag1\":\"Integral\",\"tag2\":\"CN\",\"tag3\":\"0\",\"tag4\":\"0\",\"tag5\":\"0\"},{\"id_list\":\"6f9b9fd6-d2de-410d-854b-46a2702290a4\",\"list\":\"CN T3T4 lista 4 (MMQ+Interpola\\xc3\\xa7\\xc3\\xa3o)\",\"question\":\"Python: Interpola\\xc3\\xa7\\xc3\\xa3o  com pontos selecionados\",\"difficulty\":5.0,\"tag1\":\"CN\",\"tag2\":\"Interpola\\xc3\\xa7\\xc3\\xa3o\",\"tag3\":\"0\",\"tag4\":\"0\",\"tag5\":\"0\"},{\"id_list\":\"6f9b9fd6-d2de-410d-854b-46a2702290a4\",\"list\":\"CN T3T4 lista 4 (MMQ+Interpola\\xc3\\xa7\\xc3\\xa3o)\",\"question\":\"Python: Interpola\\xc3\\xa7\\xc3\\xa3o de Lagrange\",\"difficulty\":3.0,\"tag1\":\"CN\",\"tag2\":\"Interpola\\xc3\\xa7\\xc3\\xa3o\",\"tag3\":\"0\",\"tag4\":\"0\",\"tag5\":\"0\"},{\"id_list\":\"6f9b9fd6-d2de-410d-854b-46a2702290a4\",\"list\":\"CN T3T4 lista 4 (MMQ+Interpola\\xc3\\xa7\\xc3\\xa3o)\",\"question\":\"Python: Interpoola\\xc3\\xa7\\xc3\\xa3o de Newton\",\"difficulty\":3.0,\"tag1\":\"CN\",\"tag2\":\"Interpola\\xc3\\xa7\\xc3\\xa3o\",\"tag3\":\"0\",\"tag4\":\"0\",\"tag5\":\"0\"},{\"id_list\":\"887ac98d-84c8-46c1-a9e3-1598e25621ba\",\"list\":\"CN T3T4 lista 3 (sistemas)\",\"question\":\"Python: Jacobi sistemas\",\"difficulty\":4.0,\"tag1\":\"CN\",\"tag2\":\"Sistemas\",\"tag3\":\"0\",\"tag4\":\"0\",\"tag5\":\"0\"},{\"id_list\":\"887ac98d-84c8-46c1-a9e3-1598e25621ba\",\"list\":\"CN T3T4 lista 3 (sistemas)\",\"question\":\"Python: Matriz aumentada, concatena\\xc3\\xa7\\xc3\\xa3o\",\"difficulty\":2.0,\"tag1\":\"CN\",\"tag2\":\"Sistemas\",\"tag3\":\"0\",\"tag4\":\"0\",\"tag5\":\"0\"},{\"id_list\":\"887ac98d-84c8-46c1-a9e3-1598e25621ba\",\"list\":\"CN T3T4 lista 3 (sistemas)\",\"question\":\"Python: Matriz triangular superior a partir do nome.\",\"difficulty\":2.0,\"tag1\":\"0\",\"tag2\":\"0\",\"tag3\":\"0\",\"tag4\":\"0\",\"tag5\":\"0\"},{\"id_list\":\"6f9b9fd6-d2de-410d-854b-46a2702290a4\",\"list\":\"CN T3T4 lista 4 (MMQ+Interpola\\xc3\\xa7\\xc3\\xa3o)\",\"question\":\"Python: MMQ gen\\xc3\\xa9rico\",\"difficulty\":3.0,\"tag1\":\"CN\",\"tag2\":\"MMQ\",\"tag3\":\"0\",\"tag4\":\"0\",\"tag5\":\"0\"},{\"id_list\":\"6f9b9fd6-d2de-410d-854b-46a2702290a4\",\"list\":\"CN T3T4 lista 4 (MMQ+Interpola\\xc3\\xa7\\xc3\\xa3o)\",\"question\":\"Python: MMQ linear\",\"difficulty\":2.0,\"tag1\":\"CN\",\"tag2\":\"MMQ\",\"tag3\":\"0\",\"tag4\":\"0\",\"tag5\":\"0\"},{\"id_list\":\"6f9b9fd6-d2de-410d-854b-46a2702290a4\",\"list\":\"CN T3T4 lista 4 (MMQ+Interpola\\xc3\\xa7\\xc3\\xa3o)\",\"question\":\"Python: MMQ polinomial\",\"difficulty\":3.0,\"tag1\":\"CN\",\"tag2\":\"MMQ\",\"tag3\":\"0\",\"tag4\":\"0\",\"tag5\":\"0\"},{\"id_list\":\"6404a09d-89ef-41b0-920f-e092f00f8cf6\",\"list\":\"CN T3T4 lista 2\",\"question\":\"Python: Newton\",\"difficulty\":3.0,\"tag1\":\"0\",\"tag2\":\"0\",\"tag3\":\"0\",\"tag4\":\"0\",\"tag5\":\"0\"},{\"id_list\":\"887ac98d-84c8-46c1-a9e3-1598e25621ba\",\"list\":\"CN T3T4 lista 3 (sistemas)\",\"question\":\"Python: Opera\\xc3\\xa7\\xc3\\xb5es elementares\",\"difficulty\":1.0,\"tag1\":\"0\",\"tag2\":\"0\",\"tag3\":\"0\",\"tag4\":\"0\",\"tag5\":\"0\"},{\"id_list\":\"0711744a-a92d-4e88-a56a-07168d2e98cc\",\"list\":\"Python e Taylor\",\"question\":\"Python: Ordena vetor e calcula a mediana\",\"difficulty\":1.0,\"tag1\":\"Vetores\",\"tag2\":\"0\",\"tag3\":\"0\",\"tag4\":\"0\",\"tag5\":\"0\"},{\"id_list\":\"887ac98d-84c8-46c1-a9e3-1598e25621ba\",\"list\":\"CN T3T4 lista 3 (sistemas)\",\"question\":\"Python: Pr\\xc3\\xa9via de m\\xc3\\xa9todos iterativos para sistemas\",\"difficulty\":1.0,\"tag1\":\"0\",\"tag2\":\"0\",\"tag3\":\"0\",\"tag4\":\"0\",\"tag5\":\"0\"},{\"id_list\":\"0711744a-a92d-4e88-a56a-07168d2e98cc\",\"list\":\"Python e Taylor\",\"question\":\"Python: recebe n\\xc3\\xbameros em um vetor\",\"difficulty\":1.0,\"tag1\":\"Vetores\",\"tag2\":\"0\",\"tag3\":\"0\",\"tag4\":\"0\",\"tag5\":\"0\"},{\"id_list\":\"887ac98d-84c8-46c1-a9e3-1598e25621ba\",\"list\":\"CN T3T4 lista 3 (sistemas)\",\"question\":\"Python: Resolu\\xc3\\xa7\\xc3\\xa3o retroativa\",\"difficulty\":3.0,\"tag1\":\"0\",\"tag2\":\"0\",\"tag3\":\"0\",\"tag4\":\"0\",\"tag5\":\"0\"},{\"id_list\":\"6404a09d-89ef-41b0-920f-e092f00f8cf6\",\"list\":\"CN T3T4 lista 2\",\"question\":\"Python: Retorna o meio do intervalo\",\"difficulty\":1.0,\"tag1\":\"Operadores Aritm\\xc3\\xa9ticos\",\"tag2\":\"0\",\"tag3\":\"0\",\"tag4\":\"0\",\"tag5\":\"0\"},{\"id_list\":\"6404a09d-89ef-41b0-920f-e092f00f8cf6\",\"list\":\"CN T3T4 lista 2\",\"question\":\"Python: Secante\",\"difficulty\":3.0,\"tag1\":\"0\",\"tag2\":\"0\",\"tag3\":\"0\",\"tag4\":\"0\",\"tag5\":\"0\"},{\"id_list\":\"6c495237-8170-4856-8f9d-4827cce0fd88\",\"list\":\"CN T3T4 lista 5 (Integra\\xc3\\xa7\\xc3\\xa3o+EDO)\",\"question\":\"Python: Sistema de EDO de primeira ordem com Ponto M\\xc3\\xa9dio\",\"difficulty\":3.0,\"tag1\":\"EDO\",\"tag2\":\"CN\",\"tag3\":\"0\",\"tag4\":\"0\",\"tag5\":\"0\"},{\"id_list\":\"887ac98d-84c8-46c1-a9e3-1598e25621ba\",\"list\":\"CN T3T4 lista 3 (sistemas)\",\"question\":\"Python: Tabela ASCII\",\"difficulty\":1.0,\"tag1\":\"0\",\"tag2\":\"0\",\"tag3\":\"0\",\"tag4\":\"0\",\"tag5\":\"0\"},{\"id_list\":\"6f9b9fd6-d2de-410d-854b-46a2702290a4\",\"list\":\"CN T3T4 lista 4 (MMQ+Interpola\\xc3\\xa7\\xc3\\xa3o)\",\"question\":\"Python: Tabela de diferen\\xc3\\xa7as divididas\",\"difficulty\":3.0,\"tag1\":\"CN\",\"tag2\":\"Interpola\\xc3\\xa7\\xc3\\xa3o\",\"tag3\":\"0\",\"tag4\":\"0\",\"tag5\":\"0\"},{\"id_list\":\"6404a09d-89ef-41b0-920f-e092f00f8cf6\",\"list\":\"CN T3T4 lista 2\",\"question\":\"Python: Teste Bolzano\",\"difficulty\":2.0,\"tag1\":\"Estruturas Condicionais\",\"tag2\":\"0\",\"tag3\":\"0\",\"tag4\":\"0\",\"tag5\":\"0\"},{\"id_list\":\"2fc4be7c-bab1-49a9-8ab5-ab4f263e6703\",\"list\":\"Lista Laborat\\xc3\\xb3rio 02\",\"question\":\"Quais as ra\\xc3\\xadzes reais?\",\"difficulty\":2.0,\"tag1\":\"0\",\"tag2\":\"0\",\"tag3\":\"0\",\"tag4\":\"0\",\"tag5\":\"0\"},{\"id_list\":\"75cc9ec0-a5b5-478a-94f4-06b150679ad7\",\"list\":\"Lista Laborat\\xc3\\xb3rio 02\",\"question\":\"Quais as ra\\xc3\\xadzes reais?\",\"difficulty\":2.0,\"tag1\":\"0\",\"tag2\":\"0\",\"tag3\":\"0\",\"tag4\":\"0\",\"tag5\":\"0\"},{\"id_list\":\"cf509a46-6a97-440e-a5c0-f7ba7537ef96\",\"list\":\"(Lop) Estruturas de decis\\xc3\\xa3o - problemas sobre divisibilidade\",\"question\":\"Qual o dia da semana?\",\"difficulty\":4.0,\"tag1\":\"0\",\"tag2\":\"0\",\"tag3\":\"0\",\"tag4\":\"0\",\"tag5\":\"0\"},{\"id_list\":\"fd74c7eb-a840-4859-bd45-d2c954e7fb08\",\"list\":\"(Lop) Estruturas de deci\\xc3\\xa7\\xc3\\xa3o - problemas sobre divisibilidade\",\"question\":\"Qual o dia da semana?\",\"difficulty\":4.0,\"tag1\":\"0\",\"tag2\":\"0\",\"tag3\":\"0\",\"tag4\":\"0\",\"tag5\":\"0\"},{\"id_list\":\"2007f797-4427-48b6-94d0-609e123aa3e5\",\"list\":\"Lista IP C 02\",\"question\":\"Quantidade de vogais do nome\",\"difficulty\":2.0,\"tag1\":\"Vetores\",\"tag2\":\"0\",\"tag3\":\"0\",\"tag4\":\"0\",\"tag5\":\"0\"},{\"id_list\":\"31dab619-df8f-42a9-8813-abdddd9ede2c\",\"list\":\"LIP2020.5 24-06 (at\\xc3\\xa9 24-06 23:59 -- Avalia\\xc3\\xa7\\xc3\\xa3o )\",\"question\":\"Quociente e Resto\",\"difficulty\":2.0,\"tag1\":\"0\",\"tag2\":\"0\",\"tag3\":\"0\",\"tag4\":\"0\",\"tag5\":\"0\"},{\"id_list\":\"9aeae0be-7dc8-4ba5-a576-7eb9699717e1\",\"list\":\"T05AB 18-09-2020\",\"question\":\"Quociente e Resto\",\"difficulty\":2.0,\"tag1\":\"0\",\"tag2\":\"0\",\"tag3\":\"0\",\"tag4\":\"0\",\"tag5\":\"0\"},{\"id_list\":\"102050fa-c902-4258-a988-01dad84ff63f\",\"list\":\"Aula - Introdu\\xc3\\xa7\\xc3\\xa3o Express\\xc3\\xb5es Aritim\\xc3\\xa9ticas\",\"question\":\"Ra\\xc3\\xadzes de uma equa\\xc3\\xa7\\xc3\\xa3o de segundo grau\",\"difficulty\":4.0,\"tag1\":\"Operadores Aritm\\xc3\\xa9ticos\",\"tag2\":\"0\",\"tag3\":\"0\",\"tag4\":\"0\",\"tag5\":\"0\"},{\"id_list\":\"9bfe2a0b-120f-4df7-a3f7-89a8e100b0b1\",\"list\":\"Vari\\xc3\\xa1veis e express\\xc3\\xb5es\",\"question\":\"Ra\\xc3\\xadzes de uma equa\\xc3\\xa7\\xc3\\xa3o de segundo grau\",\"difficulty\":4.0,\"tag1\":\"Operadores Aritm\\xc3\\xa9ticos\",\"tag2\":\"0\",\"tag3\":\"0\",\"tag4\":\"0\",\"tag5\":\"0\"},{\"id_list\":\"597fb902-de6b-4b1b-8ea8-ac5cf8f08d96\",\"list\":\"Estruturas de controle\",\"question\":\"Ra\\xc3\\xadzes de uma equa\\xc3\\xa7\\xc3\\xa3o do segundo grau\",\"difficulty\":1.0,\"tag1\":\"Estruturas Condicionais\",\"tag2\":\"0\",\"tag3\":\"0\",\"tag4\":\"0\",\"tag5\":\"0\"},{\"id_list\":\"63500143-e15f-430e-8b92-ed3510c9b0d4\",\"list\":\"LiP Aula 02 - Express\\xc3\\xb5es e Comandos de Sele\\xc3\\xa7\\xc3\\xa3o\",\"question\":\"Ra\\xc3\\xadzes de uma Equa\\xc3\\xa7\\xc3\\xa3o do Segundo Grau\",\"difficulty\":2.0,\"tag1\":\"Estruturas Condicionais\",\"tag2\":\"0\",\"tag3\":\"0\",\"tag4\":\"0\",\"tag5\":\"0\"},{\"id_list\":\"09833f76-016f-45f1-a85d-2a9e30c64b0f\",\"list\":\"Projeto Final parte 2 2020.6 3C\",\"question\":\"Recorte de subimagem (crop)\",\"difficulty\":1.0,\"tag1\":\"Fun\\xc3\\xa7\\xc3\\xb5es\",\"tag2\":\"Tipos Estruturados\",\"tag3\":\"Matrizes\",\"tag4\":\"0\",\"tag5\":\"0\"},{\"id_list\":\"a36eee08-25f4-4843-9d9d-1c420911f7f4\",\"list\":\"Projeto Final parte 2 2020.6 3A\",\"question\":\"Recorte de subimagem (crop)\",\"difficulty\":1.0,\"tag1\":\"Fun\\xc3\\xa7\\xc3\\xb5es\",\"tag2\":\"Tipos Estruturados\",\"tag3\":\"Matrizes\",\"tag4\":\"0\",\"tag5\":\"0\"},{\"id_list\":\"b3bfd686-2838-4c23-951b-29d9bd4a6623\",\"list\":\"Projeto Final parte 2 2020.6 3B\",\"question\":\"Recorte de subimagem (crop)\",\"difficulty\":1.0,\"tag1\":\"Fun\\xc3\\xa7\\xc3\\xb5es\",\"tag2\":\"Tipos Estruturados\",\"tag3\":\"Matrizes\",\"tag4\":\"0\",\"tag5\":\"0\"},{\"id_list\":\"efb17f65-8e03-4781-bf79-e8e5c71dc086\",\"list\":\"Projeto Final parte 2 2020.6 3D\",\"question\":\"Recorte de subimagem (crop)\",\"difficulty\":1.0,\"tag1\":\"Fun\\xc3\\xa7\\xc3\\xb5es\",\"tag2\":\"Tipos Estruturados\",\"tag3\":\"Matrizes\",\"tag4\":\"0\",\"tag5\":\"0\"},{\"id_list\":\"a36eee08-25f4-4843-9d9d-1c420911f7f4\",\"list\":\"Projeto Final parte 2 2020.6 3A\",\"question\":\"Redu\\xc3\\xa7\\xc3\\xa3o de tamanho da imagem\",\"difficulty\":1.0,\"tag1\":\"Fun\\xc3\\xa7\\xc3\\xb5es\",\"tag2\":\"Tipos Estruturados\",\"tag3\":\"Matrizes\",\"tag4\":\"0\",\"tag5\":\"0\"},{\"id_list\":\"06bd7c11-b7e8-49a4-a2f3-8244150a801d\",\"list\":\"Projeto Final Parte 1\",\"question\":\"Reflex\\xc3\\xa3o horizontal de imagem (mirror)\",\"difficulty\":1.0,\"tag1\":\"Fun\\xc3\\xa7\\xc3\\xb5es\",\"tag2\":\"Tipos Estruturados\",\"tag3\":\"Matrizes\",\"tag4\":\"0\",\"tag5\":\"0\"},{\"id_list\":\"e838345a-bd5e-46f6-96ad-4507f2dd69f0\",\"list\":\"Projeto Final parte 1 2020.6 3C\",\"question\":\"Reflex\\xc3\\xa3o horizontal de imagem (mirror)\",\"difficulty\":1.0,\"tag1\":\"Fun\\xc3\\xa7\\xc3\\xb5es\",\"tag2\":\"Tipos Estruturados\",\"tag3\":\"Matrizes\",\"tag4\":\"0\",\"tag5\":\"0\"},{\"id_list\":\"06bd7c11-b7e8-49a4-a2f3-8244150a801d\",\"list\":\"Projeto Final Parte 1\",\"question\":\"Reflex\\xc3\\xa3o vertical de imagem (mirror)\",\"difficulty\":1.0,\"tag1\":\"Fun\\xc3\\xa7\\xc3\\xb5es\",\"tag2\":\"Tipos Estruturados\",\"tag3\":\"Matrizes\",\"tag4\":\"0\",\"tag5\":\"0\"},{\"id_list\":\"b3bfd686-2838-4c23-951b-29d9bd4a6623\",\"list\":\"Projeto Final parte 2 2020.6 3B\",\"question\":\"Remo\\xc3\\xa7\\xc3\\xa3o de ru\\xc3\\xaddo com filtro da mediana\",\"difficulty\":1.0,\"tag1\":\"Fun\\xc3\\xa7\\xc3\\xb5es\",\"tag2\":\"Tipos Estruturados\",\"tag3\":\"Matrizes\",\"tag4\":\"0\",\"tag5\":\"0\"},{\"id_list\":\"a1db654b-f6ec-45e2-a4cc-bc74fc28447d\",\"list\":\"LiP Aula 16 - Exerc\\xc3\\xadcios: Fun\\xc3\\xa7\\xc3\\xb5es, Vetores e Matrizes\",\"question\":\"Removendo letras\",\"difficulty\":2.0,\"tag1\":\"0\",\"tag2\":\"0\",\"tag3\":\"0\",\"tag4\":\"0\",\"tag5\":\"0\"},{\"id_list\":\"dc692412-f2a3-4b57-8262-fb5d8318b72e\",\"list\":\"LIP2020.5 10-07 (at\\xc3\\xa9 10-07 23:59)\",\"question\":\"Removendo letras\",\"difficulty\":2.0,\"tag1\":\"0\",\"tag2\":\"0\",\"tag3\":\"0\",\"tag4\":\"0\",\"tag5\":\"0\"},{\"id_list\":\"37e7728d-fa97-4f60-ad54-756dee26b8d8\",\"list\":\"Estruturas de repeti\\xc3\\xa7\\xc3\\xa3o\",\"question\":\"Resto da divis\\xc3\\xa3o\",\"difficulty\":2.0,\"tag1\":\"Estruturas de Repeti\\xc3\\xa7\\xc3\\xa3o\",\"tag2\":\"Estruturas de Repeti\\xc3\\xa7\\xc3\\xa3o Contada\",\"tag3\":\"0\",\"tag4\":\"0\",\"tag5\":\"0\"},{\"id_list\":\"5ebe517f-50f2-4629-a22f-1dea895fce25\",\"list\":\"Aula - Fun\\xc3\\xa7\\xc3\\xb5es Aritm\\xc3\\xa9ticas\",\"question\":\"Resto da divis\\xc3\\xa3o inteira\",\"difficulty\":1.0,\"tag1\":\"Operadores Aritm\\xc3\\xa9ticos\",\"tag2\":\"0\",\"tag3\":\"0\",\"tag4\":\"0\",\"tag5\":\"0\"},{\"id_list\":\"74eeea9b-bb3f-42fb-9852-da9a1b68c3fa\",\"list\":\"Lista IP C 01\",\"question\":\"Resto da divis\\xc3\\xa3o inteira\",\"difficulty\":1.0,\"tag1\":\"Operadores Aritm\\xc3\\xa9ticos\",\"tag2\":\"0\",\"tag3\":\"0\",\"tag4\":\"0\",\"tag5\":\"0\"},{\"id_list\":\"0e2218e2-9b9d-445a-bc77-9acfeabbd6c1\",\"list\":\"LIP2020.5 19-06 (at\\xc3\\xa9 19-06 23:59 )\",\"question\":\"Ret\\xc3\\xa2ngulo\",\"difficulty\":2.0,\"tag1\":\"0\",\"tag2\":\"0\",\"tag3\":\"0\",\"tag4\":\"0\",\"tag5\":\"0\"},{\"id_list\":\"1551e3ed-c875-4bb3-8e4e-58407df40776\",\"list\":\"Vetores - Lista de Exerc\\xc3\\xadcios (LOP)\",\"question\":\"Retirar repetidos\",\"difficulty\":4.0,\"tag1\":\"Estruturas Condicionais\",\"tag2\":\"Estruturas de Repeti\\xc3\\xa7\\xc3\\xa3o\",\"tag3\":\"Vetores\",\"tag4\":\"0\",\"tag5\":\"0\"},{\"id_list\":\"8123c646-d8a5-46ab-8331-fd152f7cbf22\",\"list\":\"IMD0012 - 2020.6: Lista Preparat\\xc3\\xb3ria, Semana 3\",\"question\":\"Rota\\xc3\\xa7\\xc3\\xa3o de bits\",\"difficulty\":3.0,\"tag1\":\"Vetores\",\"tag2\":\"0\",\"tag3\":\"0\",\"tag4\":\"0\",\"tag5\":\"0\"},{\"id_list\":\"f29ce6da-ffd4-4cab-8df5-b98f6c97bd5a\",\"list\":\"Lista de laborat\\xc3\\xb3rio 03\",\"question\":\"Rota\\xc3\\xa7\\xc3\\xa3o de bits\",\"difficulty\":3.0,\"tag1\":\"Vetores\",\"tag2\":\"0\",\"tag3\":\"0\",\"tag4\":\"0\",\"tag5\":\"0\"},{\"id_list\":\"06bd7c11-b7e8-49a4-a2f3-8244150a801d\",\"list\":\"Projeto Final Parte 1\",\"question\":\"Rota\\xc3\\xa7\\xc3\\xa3o de imagem em 90\\xc2\\xb0 no sentido anti-hor\\xc3\\xa1rio\",\"difficulty\":1.0,\"tag1\":\"Fun\\xc3\\xa7\\xc3\\xb5es\",\"tag2\":\"Tipos Estruturados\",\"tag3\":\"Matrizes\",\"tag4\":\"0\",\"tag5\":\"0\"},{\"id_list\":\"06bd7c11-b7e8-49a4-a2f3-8244150a801d\",\"list\":\"Projeto Final Parte 1\",\"question\":\"Rota\\xc3\\xa7\\xc3\\xa3o de imagem em 90\\xc2\\xb0 no sentido hor\\xc3\\xa1rio\",\"difficulty\":1.0,\"tag1\":\"Fun\\xc3\\xa7\\xc3\\xb5es\",\"tag2\":\"Tipos Estruturados\",\"tag3\":\"Matrizes\",\"tag4\":\"0\",\"tag5\":\"0\"},{\"id_list\":\"3778f280-6627-4c04-ab4f-caf44c95012d\",\"list\":\"Projeto Final parte 1 2020.6 3B\",\"question\":\"Rota\\xc3\\xa7\\xc3\\xa3o de imagem em 90\\xc2\\xb0 no sentido hor\\xc3\\xa1rio\",\"difficulty\":1.0,\"tag1\":\"Fun\\xc3\\xa7\\xc3\\xb5es\",\"tag2\":\"Tipos Estruturados\",\"tag3\":\"Matrizes\",\"tag4\":\"0\",\"tag5\":\"0\"},{\"id_list\":\"63420b87-96ac-47c8-8acd-913084de69c7\",\"list\":\"Projeto Final parte 1 2020.6 3A\",\"question\":\"Rota\\xc3\\xa7\\xc3\\xa3o de imagem em 90\\xc2\\xb0 no sentido hor\\xc3\\xa1rio\",\"difficulty\":1.0,\"tag1\":\"Fun\\xc3\\xa7\\xc3\\xb5es\",\"tag2\":\"Tipos Estruturados\",\"tag3\":\"Matrizes\",\"tag4\":\"0\",\"tag5\":\"0\"},{\"id_list\":\"0ae7c42d-93f8-481d-8432-96b36a367a53\",\"list\":\"LIP2020.5 17-06 (at\\xc3\\xa9 17-06 23:59)\",\"question\":\"Sal\\xc3\\xa1rio\",\"difficulty\":1.0,\"tag1\":\"0\",\"tag2\":\"0\",\"tag3\":\"0\",\"tag4\":\"0\",\"tag5\":\"0\"},{\"id_list\":\"5f3febce-4c06-4913-98a3-b3102bdff6d6\",\"list\":\"Lista de laborat\\xc3\\xb3rio 01\",\"question\":\"Sal\\xc3\\xa1rio\",\"difficulty\":1.0,\"tag1\":\"0\",\"tag2\":\"0\",\"tag3\":\"0\",\"tag4\":\"0\",\"tag5\":\"0\"},{\"id_list\":\"bff428d6-9bff-4011-b23a-4adeffea71ef\",\"list\":\"LIP2020.5 18-06 (at\\xc3\\xa9 18-06 23:59 -- Avalia\\xc3\\xa7\\xc3\\xa3o )\",\"question\":\"Sal\\xc3\\xa1rio \",\"difficulty\":1.0,\"tag1\":\"0\",\"tag2\":\"0\",\"tag3\":\"0\",\"tag4\":\"0\",\"tag5\":\"0\"},{\"id_list\":\"5f3febce-4c06-4913-98a3-b3102bdff6d6\",\"list\":\"Lista de laborat\\xc3\\xb3rio 01\",\"question\":\"Segundos \",\"difficulty\":3.0,\"tag1\":\"0\",\"tag2\":\"0\",\"tag3\":\"0\",\"tag4\":\"0\",\"tag5\":\"0\"},{\"id_list\":\"bff428d6-9bff-4011-b23a-4adeffea71ef\",\"list\":\"LIP2020.5 18-06 (at\\xc3\\xa9 18-06 23:59 -- Avalia\\xc3\\xa7\\xc3\\xa3o )\",\"question\":\"Segundos \",\"difficulty\":3.0,\"tag1\":\"0\",\"tag2\":\"0\",\"tag3\":\"0\",\"tag4\":\"0\",\"tag5\":\"0\"},{\"id_list\":\"81236336-6ff0-4c64-8eba-e2d98233de07\",\"list\":\"LiP Turma3 - 2020.6 - LAB10\",\"question\":\"Sele\\xc3\\xa7\\xc3\\xa3o aleat\\xc3\\xb3ria de sub-matriz\",\"difficulty\":1.0,\"tag1\":\"Fun\\xc3\\xa7\\xc3\\xb5es\",\"tag2\":\"Matrizes\",\"tag3\":\"0\",\"tag4\":\"0\",\"tag5\":\"0\"},{\"id_list\":\"c4d09d1b-73a5-45c6-8a0d-ead669114b65\",\"list\":\"Vetores - Lista Pr\\xc3\\xa1tica (LOP)\",\"question\":\"Sele\\xc3\\xa7\\xc3\\xa3o no vetor\",\"difficulty\":2.0,\"tag1\":\"Estruturas de Repeti\\xc3\\xa7\\xc3\\xa3o\",\"tag2\":\"Estruturas de Repeti\\xc3\\xa7\\xc3\\xa3o Contada\",\"tag3\":\"Vetores\",\"tag4\":\"0\",\"tag5\":\"0\"},{\"id_list\":\"f29ce6da-ffd4-4cab-8df5-b98f6c97bd5a\",\"list\":\"Lista de laborat\\xc3\\xb3rio 03\",\"question\":\"Seleciona Intervalo Crescente ou Decrescente\",\"difficulty\":3.0,\"tag1\":\"Estruturas Condicionais\",\"tag2\":\"Estruturas de Repeti\\xc3\\xa7\\xc3\\xa3o\",\"tag3\":\"Estruturas de Repeti\\xc3\\xa7\\xc3\\xa3o Condicional\",\"tag4\":\"Estruturas de Repeti\\xc3\\xa7\\xc3\\xa3o Contada\",\"tag5\":\"Vetores\"},{\"id_list\":\"a2159330-c142-4018-aa03-af14b62cbf1d\",\"list\":\"LiP Aula 10 - Vetores\",\"question\":\"Sem repeti\\xc3\\xa7\\xc3\\xb5es\",\"difficulty\":1.0,\"tag1\":\"0\",\"tag2\":\"0\",\"tag3\":\"0\",\"tag4\":\"0\",\"tag5\":\"0\"},{\"id_list\":\"a71b344b-1ebe-459d-a090-de66d8b2393b\",\"list\":\"T5CD17.10.2020\",\"question\":\"Sem repeti\\xc3\\xa7\\xc3\\xb5es\",\"difficulty\":1.0,\"tag1\":\"0\",\"tag2\":\"0\",\"tag3\":\"0\",\"tag4\":\"0\",\"tag5\":\"0\"},{\"id_list\":\"f36bfbda-6adc-4d70-a979-5e902b624a79\",\"list\":\"LIP2020.5 07-07 (at\\xc3\\xa9 07-07 23:59)\",\"question\":\"Sem repeti\\xc3\\xa7\\xc3\\xb5es\",\"difficulty\":1.0,\"tag1\":\"0\",\"tag2\":\"0\",\"tag3\":\"0\",\"tag4\":\"0\",\"tag5\":\"0\"},{\"id_list\":\"e1f0e8be-54fe-4b54-8d6d-2451bedc0647\",\"list\":\"Treinamento - Express\\xc3\\xb5es Aritm\\xc3\\xa9ticas\",\"question\":\"Separando em Dezena e Unidade\",\"difficulty\":2.0,\"tag1\":\"Operadores Aritm\\xc3\\xa9ticos\",\"tag2\":\"0\",\"tag3\":\"0\",\"tag4\":\"0\",\"tag5\":\"0\"},{\"id_list\":\"93cd33c4-109a-401e-87e9-e26ff5929d37\",\"list\":\"Vetores - Lista Resolvida (LOP)\",\"question\":\"Separando Vetor\",\"difficulty\":2.0,\"tag1\":\"Estruturas Condicionais\",\"tag2\":\"Estruturas de Repeti\\xc3\\xa7\\xc3\\xa3o\",\"tag3\":\"Vetores\",\"tag4\":\"0\",\"tag5\":\"0\"},{\"id_list\":\"c4d09d1b-73a5-45c6-8a0d-ead669114b65\",\"list\":\"Vetores - Lista Pr\\xc3\\xa1tica (LOP)\",\"question\":\"Separar n\\xc3\\xbameros em tr\\xc3\\xaas vetores\",\"difficulty\":2.0,\"tag1\":\"Estruturas Condicionais\",\"tag2\":\"Estruturas de Repeti\\xc3\\xa7\\xc3\\xa3o\",\"tag3\":\"Vetores\",\"tag4\":\"0\",\"tag5\":\"0\"},{\"id_list\":\"103e7c82-a2af-4732-8551-2911ab94ca12\",\"list\":\"T05AB 25-09-2020\",\"question\":\"Sequ\\xc3\\xaancia crescente-descrescente\",\"difficulty\":2.0,\"tag1\":\"Estruturas de Repeti\\xc3\\xa7\\xc3\\xa3o Contada\",\"tag2\":\"0\",\"tag3\":\"0\",\"tag4\":\"0\",\"tag5\":\"0\"},{\"id_list\":\"490204cf-8f2f-4b39-b32e-c27334919363\",\"list\":\"LiP Turma3AB - 2020.6 - LAB03\",\"question\":\"Sequ\\xc3\\xaancia crescente-descrescente\",\"difficulty\":2.0,\"tag1\":\"Estruturas de Repeti\\xc3\\xa7\\xc3\\xa3o Contada\",\"tag2\":\"0\",\"tag3\":\"0\",\"tag4\":\"0\",\"tag5\":\"0\"},{\"id_list\":\"27125775-d6a4-4bb0-9ded-303da0998654\",\"list\":\"Lista de laborat\\xc3\\xb3rio 09\",\"question\":\"Sequ\\xc3\\xaancia de Collatz\",\"difficulty\":2.0,\"tag1\":\"Operadores Aritm\\xc3\\xa9ticos\",\"tag2\":\"Estruturas de Repeti\\xc3\\xa7\\xc3\\xa3o Condicional\",\"tag3\":\"0\",\"tag4\":\"0\",\"tag5\":\"0\"},{\"id_list\":\"490204cf-8f2f-4b39-b32e-c27334919363\",\"list\":\"LiP Turma3AB - 2020.6 - LAB03\",\"question\":\"Sequ\\xc3\\xaancia de Collatz\",\"difficulty\":2.0,\"tag1\":\"Operadores Aritm\\xc3\\xa9ticos\",\"tag2\":\"Estruturas de Repeti\\xc3\\xa7\\xc3\\xa3o Condicional\",\"tag3\":\"0\",\"tag4\":\"0\",\"tag5\":\"0\"},{\"id_list\":\"5c91cdd4-ceda-41ed-8164-4a963aab779d\",\"list\":\"LiP Turma3CD - 2020.6 - LAB03\",\"question\":\"Sequ\\xc3\\xaancia de Collatz\",\"difficulty\":2.0,\"tag1\":\"Operadores Aritm\\xc3\\xa9ticos\",\"tag2\":\"Estruturas de Repeti\\xc3\\xa7\\xc3\\xa3o Condicional\",\"tag3\":\"0\",\"tag4\":\"0\",\"tag5\":\"0\"},{\"id_list\":\"37e7728d-fa97-4f60-ad54-756dee26b8d8\",\"list\":\"Estruturas de repeti\\xc3\\xa7\\xc3\\xa3o\",\"question\":\"Sequ\\xc3\\xaancia de Fibonnaci\",\"difficulty\":2.0,\"tag1\":\"0\",\"tag2\":\"0\",\"tag3\":\"0\",\"tag4\":\"0\",\"tag5\":\"0\"},{\"id_list\":\"b2e8f346-219d-466f-a4b0-3a0bea25e16f\",\"list\":\"LIP2020.5 20-07 (at\\xc3\\xa9 20-07 23:59 -- Avalia\\xc3\\xa7\\xc3\\xa3o )\",\"question\":\"Sequ\\xc3\\xaancia de N\\xc3\\xbameros\",\"difficulty\":3.0,\"tag1\":\"0\",\"tag2\":\"0\",\"tag3\":\"0\",\"tag4\":\"0\",\"tag5\":\"0\"},{\"id_list\":\"4b613441-2546-41ec-b3d2-eb9c4e85bc95\",\"list\":\"LiP Aula 03 - Comandos de Repeti\\xc3\\xa7\\xc3\\xa3o\",\"question\":\"Sequencia de N\\xc3\\xbameros\",\"difficulty\":1.0,\"tag1\":\"0\",\"tag2\":\"0\",\"tag3\":\"0\",\"tag4\":\"0\",\"tag5\":\"0\"},{\"id_list\":\"97172c5b-780c-422f-98c5-43a1a824d2ab\",\"list\":\"LIP2020.5 23-06 (at\\xc3\\xa9 23-06 23:59 )\",\"question\":\"Sequencia de N\\xc3\\xbameros\",\"difficulty\":1.0,\"tag1\":\"0\",\"tag2\":\"0\",\"tag3\":\"0\",\"tag4\":\"0\",\"tag5\":\"0\"},{\"id_list\":\"0d7de341-ef39-481a-bb90-829539fa48ad\",\"list\":\"LIP2020.5 29-06 (at\\xc3\\xa9 29-06 23:59)\",\"question\":\"Seq\\xc3\\xbc\\xc3\\xaancia de n\\xc3\\xbameros\",\"difficulty\":3.0,\"tag1\":\"0\",\"tag2\":\"0\",\"tag3\":\"0\",\"tag4\":\"0\",\"tag5\":\"0\"},{\"id_list\":\"5c91cdd4-ceda-41ed-8164-4a963aab779d\",\"list\":\"LiP Turma3CD - 2020.6 - LAB03\",\"question\":\"Sequ\\xc3\\xaancia decrescente-crescente\",\"difficulty\":2.0,\"tag1\":\"Estruturas de Repeti\\xc3\\xa7\\xc3\\xa3o Contada\",\"tag2\":\"0\",\"tag3\":\"0\",\"tag4\":\"0\",\"tag5\":\"0\"},{\"id_list\":\"bc1a2839-2fe0-423f-96ee-027ff3be0070\",\"list\":\"T05CD 26-09-2020\",\"question\":\"Sequ\\xc3\\xaancia decrescente-crescente\",\"difficulty\":2.0,\"tag1\":\"Estruturas de Repeti\\xc3\\xa7\\xc3\\xa3o Contada\",\"tag2\":\"0\",\"tag3\":\"0\",\"tag4\":\"0\",\"tag5\":\"0\"},{\"id_list\":\"37e7728d-fa97-4f60-ad54-756dee26b8d8\",\"list\":\"Estruturas de repeti\\xc3\\xa7\\xc3\\xa3o\",\"question\":\"Sequ\\xc3\\xaancia k-alternante\",\"difficulty\":4.0,\"tag1\":\"Estruturas Condicionais\",\"tag2\":\"Estruturas de Repeti\\xc3\\xa7\\xc3\\xa3o\",\"tag3\":\"Estruturas de Repeti\\xc3\\xa7\\xc3\\xa3o Condicional\",\"tag4\":\"0\",\"tag5\":\"0\"},{\"id_list\":\"a90499fd-532a-435d-ae29-74610ac05104\",\"list\":\"LIP2020.5 06-07 (at\\xc3\\xa9 06-07 23:59 -- Avalia\\xc3\\xa7\\xc3\\xa3o )\",\"question\":\"Setor de Vendas\",\"difficulty\":1.0,\"tag1\":\"0\",\"tag2\":\"0\",\"tag3\":\"0\",\"tag4\":\"0\",\"tag5\":\"0\"},{\"id_list\":\"498acd7b-f6b5-4727-b5c0-2b9800e7ecc1\",\"list\":\"Lista IP C 03\",\"question\":\"Sistema de vota\\xc3\\xa7\\xc3\\xa3o para uma urna eletr\\xc3\\xb4nica - Elei\\xc3\\xa7\\xc3\\xa3o.\",\"difficulty\":3.0,\"tag1\":\"Tipos Estruturados\",\"tag2\":\"Vetores\",\"tag3\":\"0\",\"tag4\":\"0\",\"tag5\":\"0\"},{\"id_list\":\"84c29b9d-c909-408a-85a7-18ada73c563a\",\"list\":\"Lista de laborat\\xc3\\xb3rio 07\",\"question\":\"Sistema de vota\\xc3\\xa7\\xc3\\xa3o para uma urna eletr\\xc3\\xb4nica - Elei\\xc3\\xa7\\xc3\\xa3o.\",\"difficulty\":3.0,\"tag1\":\"Tipos Estruturados\",\"tag2\":\"Vetores\",\"tag3\":\"0\",\"tag4\":\"0\",\"tag5\":\"0\"},{\"id_list\":\"27db2292-6ad8-410e-bc88-00183b3a7531\",\"list\":\"Tipo l\\xc3\\xb3gico -  Lista de Exerc\\xc3\\xadcios (LOP)\",\"question\":\"Sistema especialista de animais -  vers\\xc3\\xa3o 3.0\",\"difficulty\":3.0,\"tag1\":\"0\",\"tag2\":\"0\",\"tag3\":\"0\",\"tag4\":\"0\",\"tag5\":\"0\"},{\"id_list\":\"27db2292-6ad8-410e-bc88-00183b3a7531\",\"list\":\"Tipo l\\xc3\\xb3gico -  Lista de Exerc\\xc3\\xadcios (LOP)\",\"question\":\"Sistema especialista de animais -  vers\\xc3\\xa3o 3.1\",\"difficulty\":4.0,\"tag1\":\"0\",\"tag2\":\"0\",\"tag3\":\"0\",\"tag4\":\"0\",\"tag5\":\"0\"},{\"id_list\":\"27db2292-6ad8-410e-bc88-00183b3a7531\",\"list\":\"Tipo l\\xc3\\xb3gico -  Lista de Exerc\\xc3\\xadcios (LOP)\",\"question\":\"Sistema especialista de animais - Vers\\xc3\\xa3o 1.0\",\"difficulty\":2.0,\"tag1\":\"0\",\"tag2\":\"0\",\"tag3\":\"0\",\"tag4\":\"0\",\"tag5\":\"0\"},{\"id_list\":\"27db2292-6ad8-410e-bc88-00183b3a7531\",\"list\":\"Tipo l\\xc3\\xb3gico -  Lista de Exerc\\xc3\\xadcios (LOP)\",\"question\":\"Sistema especialista de animais - Vers\\xc3\\xa3o 1.1\",\"difficulty\":3.0,\"tag1\":\"0\",\"tag2\":\"0\",\"tag3\":\"0\",\"tag4\":\"0\",\"tag5\":\"0\"},{\"id_list\":\"27db2292-6ad8-410e-bc88-00183b3a7531\",\"list\":\"Tipo l\\xc3\\xb3gico -  Lista de Exerc\\xc3\\xadcios (LOP)\",\"question\":\"Sistema especialista de animais - Vers\\xc3\\xa3o 2.0\",\"difficulty\":3.0,\"tag1\":\"0\",\"tag2\":\"0\",\"tag3\":\"0\",\"tag4\":\"0\",\"tag5\":\"0\"},{\"id_list\":\"27db2292-6ad8-410e-bc88-00183b3a7531\",\"list\":\"Tipo l\\xc3\\xb3gico -  Lista de Exerc\\xc3\\xadcios (LOP)\",\"question\":\"Sistema especialista de animais - Vers\\xc3\\xa3o 3.2\",\"difficulty\":4.0,\"tag1\":\"0\",\"tag2\":\"0\",\"tag3\":\"0\",\"tag4\":\"0\",\"tag5\":\"0\"},{\"id_list\":\"06bd7c11-b7e8-49a4-a2f3-8244150a801d\",\"list\":\"Projeto Final Parte 1\",\"question\":\"Solariza\\xc3\\xa7\\xc3\\xa3o de imagem\",\"difficulty\":1.0,\"tag1\":\"Fun\\xc3\\xa7\\xc3\\xb5es\",\"tag2\":\"Tipos Estruturados\",\"tag3\":\"Matrizes\",\"tag4\":\"0\",\"tag5\":\"0\"},{\"id_list\":\"95d04fc1-96be-475f-af95-5b9e071e0005\",\"list\":\"Projeto Final parte 1 2020.6 3D\",\"question\":\"Solariza\\xc3\\xa7\\xc3\\xa3o de imagem\",\"difficulty\":1.0,\"tag1\":\"Fun\\xc3\\xa7\\xc3\\xb5es\",\"tag2\":\"Tipos Estruturados\",\"tag3\":\"Matrizes\",\"tag4\":\"0\",\"tag5\":\"0\"},{\"id_list\":\"e838345a-bd5e-46f6-96ad-4507f2dd69f0\",\"list\":\"Projeto Final parte 1 2020.6 3C\",\"question\":\"Solariza\\xc3\\xa7\\xc3\\xa3o de imagem\",\"difficulty\":1.0,\"tag1\":\"Fun\\xc3\\xa7\\xc3\\xb5es\",\"tag2\":\"Tipos Estruturados\",\"tag3\":\"Matrizes\",\"tag4\":\"0\",\"tag5\":\"0\"},{\"id_list\":\"37e7728d-fa97-4f60-ad54-756dee26b8d8\",\"list\":\"Estruturas de repeti\\xc3\\xa7\\xc3\\xa3o\",\"question\":\"Soma\",\"difficulty\":2.0,\"tag1\":\"Estruturas Condicionais\",\"tag2\":\"Estruturas de Repeti\\xc3\\xa7\\xc3\\xa3o\",\"tag3\":\"0\",\"tag4\":\"0\",\"tag5\":\"0\"},{\"id_list\":\"0029c21a-270c-453f-83de-4736426fef8d\",\"list\":\"T5AB16.10.2020\",\"question\":\"Soma com vetor\",\"difficulty\":4.0,\"tag1\":\"0\",\"tag2\":\"0\",\"tag3\":\"0\",\"tag4\":\"0\",\"tag5\":\"0\"},{\"id_list\":\"4e37d5f4-d420-42ec-b086-b1ab7b18db10\",\"list\":\"LiP Aula 17 - Exerc\\xc3\\xadcios: Fun\\xc3\\xa7\\xc3\\xb5es, Vetores e Matrizes\",\"question\":\"Soma com vetor\",\"difficulty\":4.0,\"tag1\":\"0\",\"tag2\":\"0\",\"tag3\":\"0\",\"tag4\":\"0\",\"tag5\":\"0\"},{\"id_list\":\"1415f543-dd94-4e9e-a594-b4396b01093e\",\"list\":\"IMD0012 - 2020.6: Lista Obrigat\\xc3\\xb3ria, Semana 1\",\"question\":\"Soma de dois n\\xc3\\xbameros pares\",\"difficulty\":2.0,\"tag1\":\"Estruturas Condicionais\",\"tag2\":\"0\",\"tag3\":\"0\",\"tag4\":\"0\",\"tag5\":\"0\"},{\"id_list\":\"8123c646-d8a5-46ab-8331-fd152f7cbf22\",\"list\":\"IMD0012 - 2020.6: Lista Preparat\\xc3\\xb3ria, Semana 3\",\"question\":\"Soma de dois vetores\",\"difficulty\":1.0,\"tag1\":\"Vetores\",\"tag2\":\"0\",\"tag3\":\"0\",\"tag4\":\"0\",\"tag5\":\"0\"},{\"id_list\":\"17ac33bf-c1f7-4d1b-92b6-6f76f41265c7\",\"list\":\"ITP - Ponteiros 1 - Lista\",\"question\":\"Soma de dois vetores (ponteiros)\",\"difficulty\":1.0,\"tag1\":\"Ponteiros\",\"tag2\":\"Vetores\",\"tag3\":\"0\",\"tag4\":\"0\",\"tag5\":\"0\"},{\"id_list\":\"f5bc770d-2ac7-4060-ab1c-e42b5541f7a7\",\"list\":\"Repeti\\xc3\\xa7\\xc3\\xa3o contada - Lista de Exerc\\xc3\\xadcios (LOP)\",\"question\":\"Soma de fatoriais\",\"difficulty\":5.0,\"tag1\":\"Estruturas Condicionais\",\"tag2\":\"Estruturas de Repeti\\xc3\\xa7\\xc3\\xa3o\",\"tag3\":\"Estruturas de Repeti\\xc3\\xa7\\xc3\\xa3o Condicional\",\"tag4\":\"Estruturas de Repeti\\xc3\\xa7\\xc3\\xa3o Contada\",\"tag5\":\"0\"},{\"id_list\":\"1f2fb866-0bea-4475-b0af-e4a060b0904a\",\"list\":\"ITP - Matriz - Lista\",\"question\":\"Soma de matrizes\",\"difficulty\":2.0,\"tag1\":\"Matrizes\",\"tag2\":\"Estruturas de Repeti\\xc3\\xa7\\xc3\\xa3o\",\"tag3\":\"0\",\"tag4\":\"0\",\"tag5\":\"0\"},{\"id_list\":\"542eb713-9e5b-424d-8670-be4e2097d5e1\",\"list\":\"Lista de laborat\\xc3\\xb3rio 04\",\"question\":\"Soma de matrizes\",\"difficulty\":2.0,\"tag1\":\"Matrizes\",\"tag2\":\"Estruturas de Repeti\\xc3\\xa7\\xc3\\xa3o\",\"tag3\":\"0\",\"tag4\":\"0\",\"tag5\":\"0\"},{\"id_list\":\"fa46745c-3579-4673-8e1d-afaaabdc7d9d\",\"list\":\"LIP 5AB 30.10.2020\",\"question\":\"Soma de matrizes (com fun\\xc3\\xa7\\xc3\\xa3o)\",\"difficulty\":2.0,\"tag1\":\"Fun\\xc3\\xa7\\xc3\\xb5es\",\"tag2\":\"Matrizes\",\"tag3\":\"0\",\"tag4\":\"0\",\"tag5\":\"0\"},{\"id_list\":\"12211c46-2fda-4392-99ce-a0dfc306a5e1\",\"list\":\"ITP - La\\xc3\\xa7os\",\"question\":\"Soma de valores \\xc3\\xadmpares\",\"difficulty\":3.0,\"tag1\":\"Estruturas de Repeti\\xc3\\xa7\\xc3\\xa3o\",\"tag2\":\"Estruturas de Repeti\\xc3\\xa7\\xc3\\xa3o Contada\",\"tag3\":\"0\",\"tag4\":\"0\",\"tag5\":\"0\"},{\"id_list\":\"f5bc770d-2ac7-4060-ab1c-e42b5541f7a7\",\"list\":\"Repeti\\xc3\\xa7\\xc3\\xa3o contada - Lista de Exerc\\xc3\\xadcios (LOP)\",\"question\":\"Soma de valores \\xc3\\xadmpares\",\"difficulty\":3.0,\"tag1\":\"Estruturas de Repeti\\xc3\\xa7\\xc3\\xa3o\",\"tag2\":\"Estruturas de Repeti\\xc3\\xa7\\xc3\\xa3o Contada\",\"tag3\":\"0\",\"tag4\":\"0\",\"tag5\":\"0\"},{\"id_list\":\"19b679f9-9054-42d9-a71a-5660e9c285c8\",\"list\":\"LiP Turma3 - 2020.6 - LAB06\",\"question\":\"Soma de vetores\",\"difficulty\":1.0,\"tag1\":\"Vetores\",\"tag2\":\"0\",\"tag3\":\"0\",\"tag4\":\"0\",\"tag5\":\"0\"},{\"id_list\":\"c74ac415-e9a8-44ec-8020-3d3873b8e08d\",\"list\":\"LiP Turma3 - 2020.6 - LAB08\",\"question\":\"Soma de vetores de d\\xc3\\xadgitos (com fun\\xc3\\xa7\\xc3\\xa3o)\",\"difficulty\":3.0,\"tag1\":\"Fun\\xc3\\xa7\\xc3\\xb5es\",\"tag2\":\"Vetores\",\"tag3\":\"0\",\"tag4\":\"0\",\"tag5\":\"0\"},{\"id_list\":\"12211c46-2fda-4392-99ce-a0dfc306a5e1\",\"list\":\"ITP - La\\xc3\\xa7os\",\"question\":\"Soma dos d\\xc3\\xadgitos\",\"difficulty\":3.0,\"tag1\":\"0\",\"tag2\":\"0\",\"tag3\":\"0\",\"tag4\":\"0\",\"tag5\":\"0\"},{\"id_list\":\"fb5a29da-a4f6-482c-a808-3c88d626ad1b\",\"list\":\"LiP 2 - Estruturas de Controle e Repeti\\xc3\\xa7\\xc3\\xa3o II\",\"question\":\"Soma dos d\\xc3\\xadgitos\",\"difficulty\":3.0,\"tag1\":\"0\",\"tag2\":\"0\",\"tag3\":\"0\",\"tag4\":\"0\",\"tag5\":\"0\"},{\"id_list\":\"37e7728d-fa97-4f60-ad54-756dee26b8d8\",\"list\":\"Estruturas de repeti\\xc3\\xa7\\xc3\\xa3o\",\"question\":\"Soma dos n\\xc3\\xbameros primos\",\"difficulty\":2.0,\"tag1\":\"Estruturas Condicionais\",\"tag2\":\"Estruturas de Repeti\\xc3\\xa7\\xc3\\xa3o\",\"tag3\":\"0\",\"tag4\":\"0\",\"tag5\":\"0\"},{\"id_list\":\"37e7728d-fa97-4f60-ad54-756dee26b8d8\",\"list\":\"Estruturas de repeti\\xc3\\xa7\\xc3\\xa3o\",\"question\":\"Soma dos pares e \\xc3\\xadmpares digitados\",\"difficulty\":2.0,\"tag1\":\"0\",\"tag2\":\"0\",\"tag3\":\"0\",\"tag4\":\"0\",\"tag5\":\"0\"},{\"id_list\":\"aca84206-87b2-4478-afa4-6193119cc06a\",\"list\":\"Repeti\\xc3\\xa7\\xc3\\xa3o condicional - Lista de Exerc\\xc3\\xadcios (LOP)\",\"question\":\"Soma dos pares e \\xc3\\xadmpares digitados\",\"difficulty\":2.0,\"tag1\":\"0\",\"tag2\":\"0\",\"tag3\":\"0\",\"tag4\":\"0\",\"tag5\":\"0\"},{\"id_list\":\"2c43b603-7f97-4a51-9663-2efdd3845ef4\",\"list\":\"LIP2020.5 26-06 (at\\xc3\\xa9 26-06 23:59 -- Avalia\\xc3\\xa7\\xc3\\xa3o )\",\"question\":\"Soma fatoriais\",\"difficulty\":1.0,\"tag1\":\"0\",\"tag2\":\"0\",\"tag3\":\"0\",\"tag4\":\"0\",\"tag5\":\"0\"},{\"id_list\":\"2f6a2419-aa93-4f69-8a8e-e19815e8d991\",\"list\":\"T5CD 10-10-2020\",\"question\":\"Soma fatoriais\",\"difficulty\":1.0,\"tag1\":\"0\",\"tag2\":\"0\",\"tag3\":\"0\",\"tag4\":\"0\",\"tag5\":\"0\"},{\"id_list\":\"9bccc3d3-46dd-4de9-b5a3-67d5beef38a2\",\"list\":\"T5AB - 02-10-2020\",\"question\":\"Soma fatoriais\",\"difficulty\":1.0,\"tag1\":\"0\",\"tag2\":\"0\",\"tag3\":\"0\",\"tag4\":\"0\",\"tag5\":\"0\"},{\"id_list\":\"a8273f55-b4e7-40e2-b937-60aa31c07456\",\"list\":\"LiP Aula 05 - Fun\\xc3\\xa7\\xc3\\xb5es (chamada, assinatura e defini\\xc3\\xa7\\xc3\\xa3o)\",\"question\":\"Soma fatoriais\",\"difficulty\":1.0,\"tag1\":\"0\",\"tag2\":\"0\",\"tag3\":\"0\",\"tag4\":\"0\",\"tag5\":\"0\"},{\"id_list\":\"2fc4be7c-bab1-49a9-8ab5-ab4f263e6703\",\"list\":\"Lista Laborat\\xc3\\xb3rio 02\",\"question\":\"Soma ou produto dos algarismos\",\"difficulty\":1.0,\"tag1\":\"0\",\"tag2\":\"0\",\"tag3\":\"0\",\"tag4\":\"0\",\"tag5\":\"0\"},{\"id_list\":\"75cc9ec0-a5b5-478a-94f4-06b150679ad7\",\"list\":\"Lista Laborat\\xc3\\xb3rio 02\",\"question\":\"Soma ou produto dos algarismos\",\"difficulty\":1.0,\"tag1\":\"0\",\"tag2\":\"0\",\"tag3\":\"0\",\"tag4\":\"0\",\"tag5\":\"0\"},{\"id_list\":\"a4c6a43b-c5bb-4b76-b5b1-8d5ac6eec809\",\"list\":\"LIP 5AB 20.11.2020\",\"question\":\"Soma recursiva dos d\\xc3\\xadgitos de um n\\xc3\\xbamero inteiro\",\"difficulty\":1.0,\"tag1\":\"Recurs\\xc3\\xa3o\",\"tag2\":\"0\",\"tag3\":\"0\",\"tag4\":\"0\",\"tag5\":\"0\"},{\"id_list\":\"cea8acb0-2934-43f3-afb6-11ad246bac63\",\"list\":\"LIP 5CD 21.11.2020\",\"question\":\"Soma recursiva dos d\\xc3\\xadgitos de um n\\xc3\\xbamero inteiro\",\"difficulty\":1.0,\"tag1\":\"Recurs\\xc3\\xa3o\",\"tag2\":\"0\",\"tag3\":\"0\",\"tag4\":\"0\",\"tag5\":\"0\"},{\"id_list\":\"fbd7d783-4d81-46dc-8107-1ffb9c6e347a\",\"list\":\"Lista de laborat\\xc3\\xb3rio 06\",\"question\":\"Soma recursiva dos d\\xc3\\xadgitos de um n\\xc3\\xbamero inteiro\",\"difficulty\":1.0,\"tag1\":\"Recurs\\xc3\\xa3o\",\"tag2\":\"0\",\"tag3\":\"0\",\"tag4\":\"0\",\"tag5\":\"0\"},{\"id_list\":\"8b706927-b56e-4193-ac89-6f8de689f880\",\"list\":\"LIP2020.5 03-07 (at\\xc3\\xa9 03-07 23:59)\",\"question\":\"Soma vetorial\",\"difficulty\":1.0,\"tag1\":\"0\",\"tag2\":\"0\",\"tag3\":\"0\",\"tag4\":\"0\",\"tag5\":\"0\"},{\"id_list\":\"a71b344b-1ebe-459d-a090-de66d8b2393b\",\"list\":\"T5CD17.10.2020\",\"question\":\"Soma vetorial\",\"difficulty\":1.0,\"tag1\":\"0\",\"tag2\":\"0\",\"tag3\":\"0\",\"tag4\":\"0\",\"tag5\":\"0\"},{\"id_list\":\"ad4ce898-def7-4265-bc14-96f4bd2432ae\",\"list\":\"LiP Aula 11 - Vetores Exerc\\xc3\\xadcios\",\"question\":\"Soma vetorial\",\"difficulty\":1.0,\"tag1\":\"0\",\"tag2\":\"0\",\"tag3\":\"0\",\"tag4\":\"0\",\"tag5\":\"0\"},{\"id_list\":\"37e7728d-fa97-4f60-ad54-756dee26b8d8\",\"list\":\"Estruturas de repeti\\xc3\\xa7\\xc3\\xa3o\",\"question\":\"Soma, produto e m\\xc3\\xa9dia de 3 n\\xc3\\xbameros\",\"difficulty\":2.0,\"tag1\":\"0\",\"tag2\":\"0\",\"tag3\":\"0\",\"tag4\":\"0\",\"tag5\":\"0\"},{\"id_list\":\"1cd94765-f3cf-45c5-90b2-01bb9153b61a\",\"list\":\"Turma 03 2020.6 23-09-2020\",\"question\":\"Somando o intervalo\",\"difficulty\":1.0,\"tag1\":\"0\",\"tag2\":\"0\",\"tag3\":\"0\",\"tag4\":\"0\",\"tag5\":\"0\"},{\"id_list\":\"2007f797-4427-48b6-94d0-609e123aa3e5\",\"list\":\"Lista IP C 02\",\"question\":\"Somando o intervalo\",\"difficulty\":1.0,\"tag1\":\"0\",\"tag2\":\"0\",\"tag3\":\"0\",\"tag4\":\"0\",\"tag5\":\"0\"},{\"id_list\":\"9bccc3d3-46dd-4de9-b5a3-67d5beef38a2\",\"list\":\"T5AB - 02-10-2020\",\"question\":\"Somando o intervalo\",\"difficulty\":1.0,\"tag1\":\"0\",\"tag2\":\"0\",\"tag3\":\"0\",\"tag4\":\"0\",\"tag5\":\"0\"},{\"id_list\":\"a8273f55-b4e7-40e2-b937-60aa31c07456\",\"list\":\"LiP Aula 05 - Fun\\xc3\\xa7\\xc3\\xb5es (chamada, assinatura e defini\\xc3\\xa7\\xc3\\xa3o)\",\"question\":\"Somando o intervalo\",\"difficulty\":1.0,\"tag1\":\"0\",\"tag2\":\"0\",\"tag3\":\"0\",\"tag4\":\"0\",\"tag5\":\"0\"},{\"id_list\":\"ff7edf3b-2fe3-4e5c-a36f-3fab93d1f549\",\"list\":\"LIP2020.5 25-06 (at\\xc3\\xa9 25-06 23:59)\",\"question\":\"Somando o intervalo\",\"difficulty\":1.0,\"tag1\":\"0\",\"tag2\":\"0\",\"tag3\":\"0\",\"tag4\":\"0\",\"tag5\":\"0\"},{\"id_list\":\"726bf480-5174-4767-a4cd-fa20e62b0ebe\",\"list\":\"Aula Te\\xc3\\xb3rica 26\\\\/08\\\\/2020\",\"question\":\"Somar dois inteiros\",\"difficulty\":1.0,\"tag1\":\"Operadores Aritm\\xc3\\xa9ticos\",\"tag2\":\"0\",\"tag3\":\"0\",\"tag4\":\"0\",\"tag5\":\"0\"},{\"id_list\":\"7b73413f-23d4-4ac3-943c-dc1daaa53293\",\"list\":\"ECT2303 2020.6 T05ABCD - Lab1\",\"question\":\"Somar dois inteiros\",\"difficulty\":1.0,\"tag1\":\"Operadores Aritm\\xc3\\xa9ticos\",\"tag2\":\"0\",\"tag3\":\"0\",\"tag4\":\"0\",\"tag5\":\"0\"},{\"id_list\":\"2007f797-4427-48b6-94d0-609e123aa3e5\",\"list\":\"Lista IP C 02\",\"question\":\"Somar dois vetores\",\"difficulty\":2.0,\"tag1\":\"Estruturas de Repeti\\xc3\\xa7\\xc3\\xa3o\",\"tag2\":\"Vetores\",\"tag3\":\"0\",\"tag4\":\"0\",\"tag5\":\"0\"},{\"id_list\":\"c4d09d1b-73a5-45c6-8a0d-ead669114b65\",\"list\":\"Vetores - Lista Pr\\xc3\\xa1tica (LOP)\",\"question\":\"Somar dois vetores\",\"difficulty\":2.0,\"tag1\":\"Estruturas de Repeti\\xc3\\xa7\\xc3\\xa3o\",\"tag2\":\"Vetores\",\"tag3\":\"0\",\"tag4\":\"0\",\"tag5\":\"0\"},{\"id_list\":\"fbd7d783-4d81-46dc-8107-1ffb9c6e347a\",\"list\":\"Lista de laborat\\xc3\\xb3rio 06\",\"question\":\"Somat\\xc3\\xb3rio recursivo de 1 a n\",\"difficulty\":2.0,\"tag1\":\"Recurs\\xc3\\xa3o\",\"tag2\":\"0\",\"tag3\":\"0\",\"tag4\":\"0\",\"tag5\":\"0\"},{\"id_list\":\"c4d09d1b-73a5-45c6-8a0d-ead669114b65\",\"list\":\"Vetores - Lista Pr\\xc3\\xa1tica (LOP)\",\"question\":\"Substitui\\xc3\\xa7\\xc3\\xa3o no vetor\",\"difficulty\":2.0,\"tag1\":\"Estruturas de Repeti\\xc3\\xa7\\xc3\\xa3o\",\"tag2\":\"Estruturas de Repeti\\xc3\\xa7\\xc3\\xa3o Contada\",\"tag3\":\"Vetores\",\"tag4\":\"0\",\"tag5\":\"0\"},{\"id_list\":\"f29ce6da-ffd4-4cab-8df5-b98f6c97bd5a\",\"list\":\"Lista de laborat\\xc3\\xb3rio 03\",\"question\":\"Substitui\\xc3\\xa7\\xc3\\xa3o no vetor\",\"difficulty\":2.0,\"tag1\":\"Estruturas de Repeti\\xc3\\xa7\\xc3\\xa3o\",\"tag2\":\"Estruturas de Repeti\\xc3\\xa7\\xc3\\xa3o Contada\",\"tag3\":\"Vetores\",\"tag4\":\"0\",\"tag5\":\"0\"},{\"id_list\":\"05b12380-7fc7-4cf1-8c33-85d6a01c2da2\",\"list\":\"Aula 12 - Strings\",\"question\":\"Substituir\",\"difficulty\":1.0,\"tag1\":\"0\",\"tag2\":\"0\",\"tag3\":\"0\",\"tag4\":\"0\",\"tag5\":\"0\"},{\"id_list\":\"686bffd1-7947-45be-9765-72e17fcf7b47\",\"list\":\"LIP2020.5 09-07 (at\\xc3\\xa9  09-07 23:59)\",\"question\":\"Substituir\",\"difficulty\":1.0,\"tag1\":\"0\",\"tag2\":\"0\",\"tag3\":\"0\",\"tag4\":\"0\",\"tag5\":\"0\"},{\"id_list\":\"fb49ae2e-562f-4b90-8b4b-c73e40507dc8\",\"list\":\"ITP - Strings - Lista\",\"question\":\"Substring\",\"difficulty\":2.0,\"tag1\":\"0\",\"tag2\":\"0\",\"tag3\":\"0\",\"tag4\":\"0\",\"tag5\":\"0\"},{\"id_list\":\"ffbfc59f-079a-4cd4-b4dc-1fd6cde87d47\",\"list\":\"LIP 5CD 31.10.2020\",\"question\":\"Subtra\\xc3\\xa7\\xc3\\xa3o de matrizes (com fun\\xc3\\xa7\\xc3\\xa3o)\",\"difficulty\":2.0,\"tag1\":\"Fun\\xc3\\xa7\\xc3\\xb5es\",\"tag2\":\"Matrizes\",\"tag3\":\"0\",\"tag4\":\"0\",\"tag5\":\"0\"},{\"id_list\":\"dd1cd083-6c00-4605-9ff1-163bd4069363\",\"list\":\"Repeti\\xc3\\xa7\\xc3\\xa3o condicional - Lista Resolvida (LOP)\",\"question\":\"Sucessor de um n\\xc3\\xbamero com uma v\\xc3\\xa1riavel\",\"difficulty\":1.0,\"tag1\":\"0\",\"tag2\":\"0\",\"tag3\":\"0\",\"tag4\":\"0\",\"tag5\":\"0\"},{\"id_list\":\"813dedaa-0989-489b-9804-3850ae4b83d1\",\"list\":\"Repeti\\xc3\\xa7\\xc3\\xa3o contada - Lista Pr\\xc3\\xa1tica (LOP)\",\"question\":\"Tabela de contagens\",\"difficulty\":2.0,\"tag1\":\"Estruturas de Repeti\\xc3\\xa7\\xc3\\xa3o\",\"tag2\":\"Estruturas de Repeti\\xc3\\xa7\\xc3\\xa3o Contada\",\"tag3\":\"0\",\"tag4\":\"0\",\"tag5\":\"0\"},{\"id_list\":\"37e7728d-fa97-4f60-ad54-756dee26b8d8\",\"list\":\"Estruturas de repeti\\xc3\\xa7\\xc3\\xa3o\",\"question\":\"Tabela de Xerox\",\"difficulty\":2.0,\"tag1\":\"Estruturas de Repeti\\xc3\\xa7\\xc3\\xa3o Condicional\",\"tag2\":\"0\",\"tag3\":\"0\",\"tag4\":\"0\",\"tag5\":\"0\"},{\"id_list\":\"2c43b603-7f97-4a51-9663-2efdd3845ef4\",\"list\":\"LIP2020.5 26-06 (at\\xc3\\xa9 26-06 23:59 -- Avalia\\xc3\\xa7\\xc3\\xa3o )\",\"question\":\"Tabuada de 1 a 10\",\"difficulty\":1.0,\"tag1\":\"0\",\"tag2\":\"0\",\"tag3\":\"0\",\"tag4\":\"0\",\"tag5\":\"0\"},{\"id_list\":\"89dfab26-7668-42f6-8dd1-439cf989c90c\",\"list\":\"LiP Aula 06 - Fun\\xc3\\xa7\\xc3\\xb5es: procedimento e passagem de par\\xc3\\xa2metros\",\"question\":\"Tabuada de 1 a 9\",\"difficulty\":1.0,\"tag1\":\"Fun\\xc3\\xa7\\xc3\\xb5es\",\"tag2\":\"Estruturas de Repeti\\xc3\\xa7\\xc3\\xa3o\",\"tag3\":\"Estruturas de Repeti\\xc3\\xa7\\xc3\\xa3o Contada\",\"tag4\":\"0\",\"tag5\":\"0\"},{\"id_list\":\"247f3598-27a2-4d32-9118-b44e860af8d1\",\"list\":\"Lista de laborat\\xc3\\xb3rio 02\",\"question\":\"Tabuada de um numero\",\"difficulty\":1.0,\"tag1\":\"0\",\"tag2\":\"0\",\"tag3\":\"0\",\"tag4\":\"0\",\"tag5\":\"0\"},{\"id_list\":\"97172c5b-780c-422f-98c5-43a1a824d2ab\",\"list\":\"LIP2020.5 23-06 (at\\xc3\\xa9 23-06 23:59 )\",\"question\":\"Tabuada de um numero\",\"difficulty\":1.0,\"tag1\":\"0\",\"tag2\":\"0\",\"tag3\":\"0\",\"tag4\":\"0\",\"tag5\":\"0\"},{\"id_list\":\"b8b81141-cb48-4c8f-b470-6b9827a28d58\",\"list\":\"T05CD 19-09-2020\",\"question\":\"Tabuada de um numero\",\"difficulty\":1.0,\"tag1\":\"0\",\"tag2\":\"0\",\"tag3\":\"0\",\"tag4\":\"0\",\"tag5\":\"0\"},{\"id_list\":\"9bfe2a0b-120f-4df7-a3f7-89a8e100b0b1\",\"list\":\"Vari\\xc3\\xa1veis e express\\xc3\\xb5es\",\"question\":\"Tempo de queda livre\",\"difficulty\":2.0,\"tag1\":\"0\",\"tag2\":\"0\",\"tag3\":\"0\",\"tag4\":\"0\",\"tag5\":\"0\"},{\"id_list\":\"aca84206-87b2-4478-afa4-6193119cc06a\",\"list\":\"Repeti\\xc3\\xa7\\xc3\\xa3o condicional - Lista de Exerc\\xc3\\xadcios (LOP)\",\"question\":\"Tempo de vida de um material radioativo\",\"difficulty\":3.0,\"tag1\":\"Estruturas Condicionais\",\"tag2\":\"Estruturas de Repeti\\xc3\\xa7\\xc3\\xa3o\",\"tag3\":\"0\",\"tag4\":\"0\",\"tag5\":\"0\"},{\"id_list\":\"74eeea9b-bb3f-42fb-9852-da9a1b68c3fa\",\"list\":\"Lista IP C 01\",\"question\":\"Test Alo Mundo\",\"difficulty\":1.0,\"tag1\":\"0\",\"tag2\":\"0\",\"tag3\":\"0\",\"tag4\":\"0\",\"tag5\":\"0\"},{\"id_list\":\"f342f860-6461-4c2b-9de7-45154139c614\",\"list\":\"Test 4ta prova\",\"question\":\"Test Alo Mundo\",\"difficulty\":1.0,\"tag1\":\"0\",\"tag2\":\"0\",\"tag3\":\"0\",\"tag4\":\"0\",\"tag5\":\"0\"},{\"id_list\":\"fc005240-07f9-45b9-99ff-12dc1cb72b3a\",\"list\":\"Lista 2\",\"question\":\"Test Alo Mundo\",\"difficulty\":1.0,\"tag1\":\"0\",\"tag2\":\"0\",\"tag3\":\"0\",\"tag4\":\"0\",\"tag5\":\"0\"},{\"id_list\":\"234df799-1f9e-4366-bba2-f09d613b7199\",\"list\":\"LIP2020.5 16-06 (at\\xc3\\xa9 16-06 23:59)\",\"question\":\"Tipos em C++\",\"difficulty\":1.0,\"tag1\":\"0\",\"tag2\":\"0\",\"tag3\":\"0\",\"tag4\":\"0\",\"tag5\":\"0\"},{\"id_list\":\"7b73413f-23d4-4ac3-943c-dc1daaa53293\",\"list\":\"ECT2303 2020.6 T05ABCD - Lab1\",\"question\":\"Tipos em C++\",\"difficulty\":1.0,\"tag1\":\"0\",\"tag2\":\"0\",\"tag3\":\"0\",\"tag4\":\"0\",\"tag5\":\"0\"},{\"id_list\":\"34691c68-f01d-46ad-808d-6bbd44bcd9a2\",\"list\":\"Repeti\\xc3\\xa7\\xc3\\xa3o contada - Lista Resolvida (LOP)\",\"question\":\"Todos os divisores de N\",\"difficulty\":2.0,\"tag1\":\"Estruturas de Repeti\\xc3\\xa7\\xc3\\xa3o\",\"tag2\":\"Estruturas de Repeti\\xc3\\xa7\\xc3\\xa3o Contada\",\"tag3\":\"0\",\"tag4\":\"0\",\"tag5\":\"0\"},{\"id_list\":\"0d7de341-ef39-481a-bb90-829539fa48ad\",\"list\":\"LIP2020.5 29-06 (at\\xc3\\xa9 29-06 23:59)\",\"question\":\"Transformando decimais\",\"difficulty\":3.0,\"tag1\":\"0\",\"tag2\":\"0\",\"tag3\":\"0\",\"tag4\":\"0\",\"tag5\":\"0\"},{\"id_list\":\"3732af4f-7650-42e3-a0f1-500d73c7a9eb\",\"list\":\"LiP Turma3 - 2020.6 - LAB02\",\"question\":\"Tr\\xc3\\xaas letras min\\xc3\\xbasculas em ordem alfab\\xc3\\xa9tica\",\"difficulty\":2.0,\"tag1\":\"Estruturas Condicionais\",\"tag2\":\"0\",\"tag3\":\"0\",\"tag4\":\"0\",\"tag5\":\"0\"},{\"id_list\":\"2fc4be7c-bab1-49a9-8ab5-ab4f263e6703\",\"list\":\"Lista Laborat\\xc3\\xb3rio 02\",\"question\":\"Tr\\xc3\\xaas n\\xc3\\xbameros ordenados\",\"difficulty\":3.0,\"tag1\":\"0\",\"tag2\":\"0\",\"tag3\":\"0\",\"tag4\":\"0\",\"tag5\":\"0\"},{\"id_list\":\"75cc9ec0-a5b5-478a-94f4-06b150679ad7\",\"list\":\"Lista Laborat\\xc3\\xb3rio 02\",\"question\":\"Tr\\xc3\\xaas n\\xc3\\xbameros ordenados\",\"difficulty\":3.0,\"tag1\":\"0\",\"tag2\":\"0\",\"tag3\":\"0\",\"tag4\":\"0\",\"tag5\":\"0\"},{\"id_list\":\"1e014265-1b4f-4d86-81d6-6e5e530e0e1a\",\"list\":\"Lista Laborat\\xc3\\xb3rio 03\",\"question\":\"Tri\\xc3\\xa2ngulo de Floyd\",\"difficulty\":4.0,\"tag1\":\"0\",\"tag2\":\"0\",\"tag3\":\"0\",\"tag4\":\"0\",\"tag5\":\"0\"},{\"id_list\":\"247f3598-27a2-4d32-9118-b44e860af8d1\",\"list\":\"Lista de laborat\\xc3\\xb3rio 02\",\"question\":\"Tri\\xc3\\xa2ngulo de Floyd\",\"difficulty\":4.0,\"tag1\":\"0\",\"tag2\":\"0\",\"tag3\":\"0\",\"tag4\":\"0\",\"tag5\":\"0\"},{\"id_list\":\"37e7728d-fa97-4f60-ad54-756dee26b8d8\",\"list\":\"Estruturas de repeti\\xc3\\xa7\\xc3\\xa3o\",\"question\":\"Tri\\xc3\\xa2ngulo de Floyd\",\"difficulty\":4.0,\"tag1\":\"0\",\"tag2\":\"0\",\"tag3\":\"0\",\"tag4\":\"0\",\"tag5\":\"0\"},{\"id_list\":\"37e7728d-fa97-4f60-ad54-756dee26b8d8\",\"list\":\"Estruturas de repeti\\xc3\\xa7\\xc3\\xa3o\",\"question\":\"Tri\\xc3\\xa2ngulo de Pascal\",\"difficulty\":4.0,\"tag1\":\"Matrizes\",\"tag2\":\"Estruturas Condicionais\",\"tag3\":\"Estruturas de Repeti\\xc3\\xa7\\xc3\\xa3o\",\"tag4\":\"Estruturas de Repeti\\xc3\\xa7\\xc3\\xa3o Condicional\",\"tag5\":\"0\"},{\"id_list\":\"542eb713-9e5b-424d-8670-be4e2097d5e1\",\"list\":\"Lista de laborat\\xc3\\xb3rio 04\",\"question\":\"Tri\\xc3\\xa2ngulo de Pascal\",\"difficulty\":4.0,\"tag1\":\"Matrizes\",\"tag2\":\"Estruturas Condicionais\",\"tag3\":\"Estruturas de Repeti\\xc3\\xa7\\xc3\\xa3o\",\"tag4\":\"Estruturas de Repeti\\xc3\\xa7\\xc3\\xa3o Condicional\",\"tag5\":\"0\"},{\"id_list\":\"9e632481-e1bf-4926-9234-73a7b83a5fc3\",\"list\":\"LIP2020.5 22-06 (at\\xc3\\xa9 22-06 23:59 -- Avalia\\xc3\\xa7\\xc3\\xa3o )\",\"question\":\"Tri\\xc3\\xa2ngulos\",\"difficulty\":3.0,\"tag1\":\"0\",\"tag2\":\"0\",\"tag3\":\"0\",\"tag4\":\"0\",\"tag5\":\"0\"},{\"id_list\":\"e1f0e8be-54fe-4b54-8d6d-2451bedc0647\",\"list\":\"Treinamento - Express\\xc3\\xb5es Aritm\\xc3\\xa9ticas\",\"question\":\"Troca de d\\xc3\\xadgitos UCD\",\"difficulty\":2.0,\"tag1\":\"Operadores Aritm\\xc3\\xa9ticos\",\"tag2\":\"0\",\"tag3\":\"0\",\"tag4\":\"0\",\"tag5\":\"0\"},{\"id_list\":\"e1f0e8be-54fe-4b54-8d6d-2451bedc0647\",\"list\":\"Treinamento - Express\\xc3\\xb5es Aritm\\xc3\\xa9ticas\",\"question\":\"Troca de d\\xc3\\xadgitos UDC\",\"difficulty\":3.0,\"tag1\":\"Operadores Aritm\\xc3\\xa9ticos\",\"tag2\":\"0\",\"tag3\":\"0\",\"tag4\":\"0\",\"tag5\":\"0\"},{\"id_list\":\"7b73413f-23d4-4ac3-943c-dc1daaa53293\",\"list\":\"ECT2303 2020.6 T05ABCD - Lab1\",\"question\":\"Troca de valores entre vari\\xc3\\xa1veis\",\"difficulty\":2.0,\"tag1\":\"Operadores Aritm\\xc3\\xa9ticos\",\"tag2\":\"0\",\"tag3\":\"0\",\"tag4\":\"0\",\"tag5\":\"0\"},{\"id_list\":\"e1f0e8be-54fe-4b54-8d6d-2451bedc0647\",\"list\":\"Treinamento - Express\\xc3\\xb5es Aritm\\xc3\\xa9ticas\",\"question\":\"Troca de valores entre vari\\xc3\\xa1veis\",\"difficulty\":2.0,\"tag1\":\"Operadores Aritm\\xc3\\xa9ticos\",\"tag2\":\"0\",\"tag3\":\"0\",\"tag4\":\"0\",\"tag5\":\"0\"},{\"id_list\":\"2f6a2419-aa93-4f69-8a8e-e19815e8d991\",\"list\":\"T5CD 10-10-2020\",\"question\":\"Troca por Refer\\xc3\\xaancia\",\"difficulty\":1.0,\"tag1\":\"Fun\\xc3\\xa7\\xc3\\xb5es\",\"tag2\":\"0\",\"tag3\":\"0\",\"tag4\":\"0\",\"tag5\":\"0\"},{\"id_list\":\"d7e70fc3-6faa-4911-ab41-14be28b6eac2\",\"list\":\"LiP Aula 07 - Fun\\xc3\\xa7\\xc3\\xb5es: par\\xc3\\xa2metros de entrada\\\\/sa\\xc3\\xadda\",\"question\":\"Troca por Refer\\xc3\\xaancia\",\"difficulty\":1.0,\"tag1\":\"Fun\\xc3\\xa7\\xc3\\xb5es\",\"tag2\":\"0\",\"tag3\":\"0\",\"tag4\":\"0\",\"tag5\":\"0\"},{\"id_list\":\"595d5aab-1e14-4a64-a9b7-bcdc03c64611\",\"list\":\"LIP 5CD 04.12.2020\",\"question\":\"Uni\\xc3\\xa3o e ordena\\xc3\\xa7\\xc3\\xa3o de vetores\",\"difficulty\":3.0,\"tag1\":\"Vetores\",\"tag2\":\"0\",\"tag3\":\"0\",\"tag4\":\"0\",\"tag5\":\"0\"},{\"id_list\":\"8123c646-d8a5-46ab-8331-fd152f7cbf22\",\"list\":\"IMD0012 - 2020.6: Lista Preparat\\xc3\\xb3ria, Semana 3\",\"question\":\"Uni\\xc3\\xa3o e ordena\\xc3\\xa7\\xc3\\xa3o de vetores\",\"difficulty\":3.0,\"tag1\":\"Vetores\",\"tag2\":\"0\",\"tag3\":\"0\",\"tag4\":\"0\",\"tag5\":\"0\"},{\"id_list\":\"d6043c35-4622-4004-a2d7-49ae8145d71c\",\"list\":\"LIP 5AB 04.12.2020\",\"question\":\"Uni\\xc3\\xa3o e ordena\\xc3\\xa7\\xc3\\xa3o de vetores\",\"difficulty\":3.0,\"tag1\":\"Vetores\",\"tag2\":\"0\",\"tag3\":\"0\",\"tag4\":\"0\",\"tag5\":\"0\"},{\"id_list\":\"fe558fa7-d86c-418d-a1f8-d52f52e06674\",\"list\":\"LiP - Ordena\\xc3\\xa7\\xc3\\xa3o Exerc\\xc3\\xadcios\",\"question\":\"Uni\\xc3\\xa3o e ordena\\xc3\\xa7\\xc3\\xa3o de vetores\",\"difficulty\":3.0,\"tag1\":\"Vetores\",\"tag2\":\"0\",\"tag3\":\"0\",\"tag4\":\"0\",\"tag5\":\"0\"},{\"id_list\":\"aafdbdef-053b-4b7d-af60-53cd9c275147\",\"list\":\"Laborat\\xc3\\xb3rio 1\",\"question\":\"Valor da express\\xc3\\xa3o\",\"difficulty\":1.0,\"tag1\":\"0\",\"tag2\":\"0\",\"tag3\":\"0\",\"tag4\":\"0\",\"tag5\":\"0\"},{\"id_list\":\"bd91406e-0a5a-4d22-8e7d-f61a4352b509\",\"list\":\"Lab1_Vari\\xc3\\xa1veis, Constantes e Operadores\",\"question\":\"Valor da express\\xc3\\xa3o\",\"difficulty\":1.0,\"tag1\":\"0\",\"tag2\":\"0\",\"tag3\":\"0\",\"tag4\":\"0\",\"tag5\":\"0\"},{\"id_list\":\"63500143-e15f-430e-8b92-ed3510c9b0d4\",\"list\":\"LiP Aula 02 - Express\\xc3\\xb5es e Comandos de Sele\\xc3\\xa7\\xc3\\xa3o\",\"question\":\"Valor do meio\",\"difficulty\":2.0,\"tag1\":\"0\",\"tag2\":\"0\",\"tag3\":\"0\",\"tag4\":\"0\",\"tag5\":\"0\"},{\"id_list\":\"7ea8510d-f1e9-424e-997b-81228ea6c6e6\",\"list\":\"LiP 2 - Estruturas de Controle e Repeti\\xc3\\xa7\\xc3\\xa3o\",\"question\":\"Valor do meio\",\"difficulty\":2.0,\"tag1\":\"0\",\"tag2\":\"0\",\"tag3\":\"0\",\"tag4\":\"0\",\"tag5\":\"0\"},{\"id_list\":\"1fc1e46c-a12f-4593-a776-67224099702f\",\"list\":\"LIP 5AB 23.10.2020\",\"question\":\"Valores da Matriz\",\"difficulty\":1.0,\"tag1\":\"0\",\"tag2\":\"0\",\"tag3\":\"0\",\"tag4\":\"0\",\"tag5\":\"0\"},{\"id_list\":\"241929f6-c884-4345-88dd-2d3da92bc982\",\"list\":\"LiP Aula 13 - Matrizes\",\"question\":\"Valores da Matriz\",\"difficulty\":1.0,\"tag1\":\"0\",\"tag2\":\"0\",\"tag3\":\"0\",\"tag4\":\"0\",\"tag5\":\"0\"},{\"id_list\":\"f36bfbda-6adc-4d70-a979-5e902b624a79\",\"list\":\"LIP2020.5 07-07 (at\\xc3\\xa9 07-07 23:59)\",\"question\":\"Valores da Matriz\",\"difficulty\":1.0,\"tag1\":\"0\",\"tag2\":\"0\",\"tag3\":\"0\",\"tag4\":\"0\",\"tag5\":\"0\"},{\"id_list\":\"0029c21a-270c-453f-83de-4736426fef8d\",\"list\":\"T5AB16.10.2020\",\"question\":\"Venda X\",\"difficulty\":1.0,\"tag1\":\"Estruturas Condicionais\",\"tag2\":\"Estruturas de Repeti\\xc3\\xa7\\xc3\\xa3o\",\"tag3\":\"Vetores\",\"tag4\":\"0\",\"tag5\":\"0\"},{\"id_list\":\"ad4ce898-def7-4265-bc14-96f4bd2432ae\",\"list\":\"LiP Aula 11 - Vetores Exerc\\xc3\\xadcios\",\"question\":\"Venda X\",\"difficulty\":1.0,\"tag1\":\"Estruturas Condicionais\",\"tag2\":\"Estruturas de Repeti\\xc3\\xa7\\xc3\\xa3o\",\"tag3\":\"Vetores\",\"tag4\":\"0\",\"tag5\":\"0\"},{\"id_list\":\"1d70b477-a5a4-4474-b230-9b69fab0ddf0\",\"list\":\"LiP Aula 15 - Fun\\xc3\\xa7\\xc3\\xb5es, Vetores e Matrizes\",\"question\":\"Vetor Ordenado?\",\"difficulty\":3.0,\"tag1\":\"Fun\\xc3\\xa7\\xc3\\xb5es\",\"tag2\":\"Vetores\",\"tag3\":\"0\",\"tag4\":\"0\",\"tag5\":\"0\"},{\"id_list\":\"fe430330-db92-4244-8967-4e70540db612\",\"list\":\"Lista de laborat\\xc3\\xb3rio 05\",\"question\":\"Vetor Ordenado?\",\"difficulty\":3.0,\"tag1\":\"Fun\\xc3\\xa7\\xc3\\xb5es\",\"tag2\":\"Vetores\",\"tag3\":\"0\",\"tag4\":\"0\",\"tag5\":\"0\"},{\"id_list\":\"4398d9fa-3a28-4afd-baa9-1015ed88af9e\",\"list\":\"Lista para a minha turma teste\",\"question\":\"Viagem \\xc3\\xa0 Marte na Velocidade de Primo (corrigir)\",\"difficulty\":3.0,\"tag1\":\"Estruturas Condicionais\",\"tag2\":\"Estruturas de Repeti\\xc3\\xa7\\xc3\\xa3o\",\"tag3\":\"Estruturas de Repeti\\xc3\\xa7\\xc3\\xa3o Contada\",\"tag4\":\"0\",\"tag5\":\"0\"},{\"id_list\":\"1d70b477-a5a4-4474-b230-9b69fab0ddf0\",\"list\":\"LiP Aula 15 - Fun\\xc3\\xa7\\xc3\\xb5es, Vetores e Matrizes\",\"question\":\"Xadrez e torres\",\"difficulty\":1.0,\"tag1\":\"Matrizes\",\"tag2\":\"0\",\"tag3\":\"0\",\"tag4\":\"0\",\"tag5\":\"0\"},{\"id_list\":\"d1540510-bd71-4a3a-bc7a-f2f03ce016f1\",\"list\":\"LIP 5CD 24.10.2020\",\"question\":\"Xadrez e torres\",\"difficulty\":1.0,\"tag1\":\"Matrizes\",\"tag2\":\"0\",\"tag3\":\"0\",\"tag4\":\"0\",\"tag5\":\"0\"},{\"id_list\":\"0\",\"list\":\"0\",\"question\":\"ABC X Am\\xc3\\xa9rica (corrigir)\",\"difficulty\":0.0,\"tag1\":\"Estruturas de Repeti\\xc3\\xa7\\xc3\\xa3o\",\"tag2\":\"Estruturas de Repeti\\xc3\\xa7\\xc3\\xa3o Condicional\",\"tag3\":\"0\",\"tag4\":\"0\",\"tag5\":\"0\"},{\"id_list\":\"0\",\"list\":\"0\",\"question\":\"Apagar uma string em outra string\",\"difficulty\":0.0,\"tag1\":\"Ponteiros\",\"tag2\":\"0\",\"tag3\":\"0\",\"tag4\":\"0\",\"tag5\":\"0\"},{\"id_list\":\"0\",\"list\":\"0\",\"question\":\"Aprendendo a buscar um elemento em um vetor\",\"difficulty\":0.0,\"tag1\":\"Vetores\",\"tag2\":\"0\",\"tag3\":\"0\",\"tag4\":\"0\",\"tag5\":\"0\"},{\"id_list\":\"0\",\"list\":\"0\",\"question\":\"Armazenar e imprimir 10 n\\xc3\\xbameros em um vetor\",\"difficulty\":0.0,\"tag1\":\"Estruturas de Repeti\\xc3\\xa7\\xc3\\xa3o\",\"tag2\":\"Vetores\",\"tag3\":\"0\",\"tag4\":\"0\",\"tag5\":\"0\"},{\"id_list\":\"0\",\"list\":\"0\",\"question\":\"Avaliar pre\\xc3\\xa7o de produtos\",\"difficulty\":0.0,\"tag1\":\"Estruturas Condicionais\",\"tag2\":\"Estruturas de Repeti\\xc3\\xa7\\xc3\\xa3o\",\"tag3\":\"Vetores\",\"tag4\":\"0\",\"tag5\":\"0\"},{\"id_list\":\"0\",\"list\":\"0\",\"question\":\"Balan\\xc3\\xa7o de Par\\xc3\\xaanteses I\",\"difficulty\":0.0,\"tag1\":\"Fun\\xc3\\xa7\\xc3\\xb5es\",\"tag2\":\"0\",\"tag3\":\"0\",\"tag4\":\"0\",\"tag5\":\"0\"},{\"id_list\":\"0\",\"list\":\"0\",\"question\":\"Batalha naval\",\"difficulty\":0.0,\"tag1\":\"Matrizes\",\"tag2\":\"Estruturas de Repeti\\xc3\\xa7\\xc3\\xa3o\",\"tag3\":\"0\",\"tag4\":\"0\",\"tag5\":\"0\"},{\"id_list\":\"0\",\"list\":\"0\",\"question\":\"Big int\",\"difficulty\":0.0,\"tag1\":\"Tipos Estruturados\",\"tag2\":\"0\",\"tag3\":\"0\",\"tag4\":\"0\",\"tag5\":\"0\"},{\"id_list\":\"0\",\"list\":\"0\",\"question\":\"Blobs\",\"difficulty\":0.0,\"tag1\":\"Estruturas de Repeti\\xc3\\xa7\\xc3\\xa3o\",\"tag2\":\"Estruturas de Repeti\\xc3\\xa7\\xc3\\xa3o Condicional\",\"tag3\":\"Estruturas de Repeti\\xc3\\xa7\\xc3\\xa3o Contada\",\"tag4\":\"Vetores\",\"tag5\":\"0\"},{\"id_list\":\"0\",\"list\":\"0\",\"question\":\"Busca bin\\xc3\\xa1ria recursiva com strings - em constru\\xc3\\xa7\\xc3\\xa3o\",\"difficulty\":0.0,\"tag1\":\"Recurs\\xc3\\xa3o\",\"tag2\":\"0\",\"tag3\":\"0\",\"tag4\":\"0\",\"tag5\":\"0\"},{\"id_list\":\"0\",\"list\":\"0\",\"question\":\"C-Vector\",\"difficulty\":0.0,\"tag1\":\"Fun\\xc3\\xa7\\xc3\\xb5es\",\"tag2\":\"0\",\"tag3\":\"0\",\"tag4\":\"0\",\"tag5\":\"0\"},{\"id_list\":\"0\",\"list\":\"0\",\"question\":\"Ca\\xc3\\xa7a-Palavras (ponteiros)\",\"difficulty\":0.0,\"tag1\":\"Ponteiros\",\"tag2\":\"Matrizes\",\"tag3\":\"0\",\"tag4\":\"0\",\"tag5\":\"0\"},{\"id_list\":\"0\",\"list\":\"0\",\"question\":\"Campos de altitude (height field)\",\"difficulty\":0.0,\"tag1\":\"Matrizes\",\"tag2\":\"0\",\"tag3\":\"0\",\"tag4\":\"0\",\"tag5\":\"0\"},{\"id_list\":\"0\",\"list\":\"0\",\"question\":\"C\\xc3\\xa9dulas\",\"difficulty\":0.0,\"tag1\":\"Operadores Aritm\\xc3\\xa9ticos\",\"tag2\":\"0\",\"tag3\":\"0\",\"tag4\":\"0\",\"tag5\":\"0\"},{\"id_list\":\"0\",\"list\":\"0\",\"question\":\"C\\xc3\\xa9dulas e moedas\",\"difficulty\":0.0,\"tag1\":\"Operadores Aritm\\xc3\\xa9ticos\",\"tag2\":\"0\",\"tag3\":\"0\",\"tag4\":\"0\",\"tag5\":\"0\"},{\"id_list\":\"0\",\"list\":\"0\",\"question\":\"Compara Ve\\xc3\\xadculos\",\"difficulty\":0.0,\"tag1\":\"Tipos Estruturados\",\"tag2\":\"0\",\"tag3\":\"0\",\"tag4\":\"0\",\"tag5\":\"0\"},{\"id_list\":\"0\",\"list\":\"0\",\"question\":\"Concatenando strings\",\"difficulty\":0.0,\"tag1\":\"String\",\"tag2\":\"0\",\"tag3\":\"0\",\"tag4\":\"0\",\"tag5\":\"0\"},{\"id_list\":\"0\",\"list\":\"0\",\"question\":\"Concatenando strings 2\",\"difficulty\":0.0,\"tag1\":\"String\",\"tag2\":\"0\",\"tag3\":\"0\",\"tag4\":\"0\",\"tag5\":\"0\"},{\"id_list\":\"0\",\"list\":\"0\",\"question\":\"Confirma\\xc3\\xa7\\xc3\\xa3o de senha\",\"difficulty\":0.0,\"tag1\":\"Vetores\",\"tag2\":\"0\",\"tag3\":\"0\",\"tag4\":\"0\",\"tag5\":\"0\"},{\"id_list\":\"0\",\"list\":\"0\",\"question\":\"Conjunto de inteiros II\",\"difficulty\":0.0,\"tag1\":\"Ponteiros\",\"tag2\":\"0\",\"tag3\":\"0\",\"tag4\":\"0\",\"tag5\":\"0\"},{\"id_list\":\"0\",\"list\":\"0\",\"question\":\"Consumo de combust\\xc3\\xadvel\",\"difficulty\":0.0,\"tag1\":\"Operadores Aritm\\xc3\\xa9ticos\",\"tag2\":\"0\",\"tag3\":\"0\",\"tag4\":\"0\",\"tag5\":\"0\"},{\"id_list\":\"0\",\"list\":\"0\",\"question\":\"Contador de substrings\",\"difficulty\":0.0,\"tag1\":\"Vetores\",\"tag2\":\"0\",\"tag3\":\"0\",\"tag4\":\"0\",\"tag5\":\"0\"},{\"id_list\":\"0\",\"list\":\"0\",\"question\":\"Create, read, update and delete - CRUD\",\"difficulty\":0.0,\"tag1\":\"Fun\\xc3\\xa7\\xc3\\xb5es\",\"tag2\":\"0\",\"tag3\":\"0\",\"tag4\":\"0\",\"tag5\":\"0\"},{\"id_list\":\"0\",\"list\":\"0\",\"question\":\"Crescente e decrescente\",\"difficulty\":0.0,\"tag1\":\"Estruturas de Repeti\\xc3\\xa7\\xc3\\xa3o\",\"tag2\":\"Estruturas de Repeti\\xc3\\xa7\\xc3\\xa3o Condicional\",\"tag3\":\"0\",\"tag4\":\"0\",\"tag5\":\"0\"},{\"id_list\":\"0\",\"list\":\"0\",\"question\":\"Crescente, decrescente ou nenhum dos dois\",\"difficulty\":0.0,\"tag1\":\"Estruturas Condicionais\",\"tag2\":\"Estruturas de Repeti\\xc3\\xa7\\xc3\\xa3o Condicional\",\"tag3\":\"0\",\"tag4\":\"0\",\"tag5\":\"0\"},{\"id_list\":\"0\",\"list\":\"0\",\"question\":\"Crescimento populacional (corrigir)\",\"difficulty\":0.0,\"tag1\":\"Estruturas de Repeti\\xc3\\xa7\\xc3\\xa3o\",\"tag2\":\"Estruturas de Repeti\\xc3\\xa7\\xc3\\xa3o Condicional\",\"tag3\":\"0\",\"tag4\":\"0\",\"tag5\":\"0\"},{\"id_list\":\"0\",\"list\":\"0\",\"question\":\"CRUD - Com aloca\\xc3\\xa7\\xc3\\xa3o din\\xc3\\xa2mica\",\"difficulty\":0.0,\"tag1\":\"Ponteiros\",\"tag2\":\"Tipos Estruturados\",\"tag3\":\"0\",\"tag4\":\"0\",\"tag5\":\"0\"},{\"id_list\":\"0\",\"list\":\"0\",\"question\":\"CRUD - Com aloca\\xc3\\xa7\\xc3\\xa3o din\\xc3\\xa2mica - Rep\",\"difficulty\":0.0,\"tag1\":\"Ponteiros\",\"tag2\":\"Tipos Estruturados\",\"tag3\":\"0\",\"tag4\":\"0\",\"tag5\":\"0\"},{\"id_list\":\"0\",\"list\":\"0\",\"question\":\"CRUD 2 - Rela\\xc3\\xa7\\xc3\\xb5es Entre os Dados\",\"difficulty\":0.0,\"tag1\":\"Fun\\xc3\\xa7\\xc3\\xb5es\",\"tag2\":\"0\",\"tag3\":\"0\",\"tag4\":\"0\",\"tag5\":\"0\"},{\"id_list\":\"0\",\"list\":\"0\",\"question\":\"Dados de aluno em struct\",\"difficulty\":0.0,\"tag1\":\"Tipos Estruturados\",\"tag2\":\"0\",\"tag3\":\"0\",\"tag4\":\"0\",\"tag5\":\"0\"},{\"id_list\":\"0\",\"list\":\"0\",\"question\":\"Desenho vetorial II\",\"difficulty\":0.0,\"tag1\":\"Ponteiros\",\"tag2\":\"0\",\"tag3\":\"0\",\"tag4\":\"0\",\"tag5\":\"0\"},{\"id_list\":\"0\",\"list\":\"0\",\"question\":\"Desenho Vetorial Integrado\",\"difficulty\":0.0,\"tag1\":\"Ponteiros\",\"tag2\":\"Tipos Estruturados\",\"tag3\":\"0\",\"tag4\":\"0\",\"tag5\":\"0\"},{\"id_list\":\"0\",\"list\":\"0\",\"question\":\"Desenho Vetorial Integrado - Rep\",\"difficulty\":0.0,\"tag1\":\"Ponteiros\",\"tag2\":\"Tipos Estruturados\",\"tag3\":\"0\",\"tag4\":\"0\",\"tag5\":\"0\"},{\"id_list\":\"0\",\"list\":\"0\",\"question\":\"Dia da semana (ponteiros)\",\"difficulty\":0.0,\"tag1\":\"Ponteiros\",\"tag2\":\"0\",\"tag3\":\"0\",\"tag4\":\"0\",\"tag5\":\"0\"},{\"id_list\":\"0\",\"list\":\"0\",\"question\":\"Dia v\\xc3\\xa1lido do m\\xc3\\xaas de setembro\",\"difficulty\":0.0,\"tag1\":\"Operadores L\\xc3\\xb3gicos\",\"tag2\":\"Estruturas de Repeti\\xc3\\xa7\\xc3\\xa3o\",\"tag3\":\"Estruturas de Repeti\\xc3\\xa7\\xc3\\xa3o Condicional\",\"tag4\":\"0\",\"tag5\":\"0\"},{\"id_list\":\"0\",\"list\":\"0\",\"question\":\"Divisores\",\"difficulty\":0.0,\"tag1\":\"Estruturas de Repeti\\xc3\\xa7\\xc3\\xa3o\",\"tag2\":\"Estruturas de Repeti\\xc3\\xa7\\xc3\\xa3o Contada\",\"tag3\":\"0\",\"tag4\":\"0\",\"tag5\":\"0\"},{\"id_list\":\"0\",\"list\":\"0\",\"question\":\"\\xc3\\x89 n\\xc3\\xbamero primo?\",\"difficulty\":0.0,\"tag1\":\"Estruturas Condicionais\",\"tag2\":\"Estruturas de Repeti\\xc3\\xa7\\xc3\\xa3o\",\"tag3\":\"0\",\"tag4\":\"0\",\"tag5\":\"0\"},{\"id_list\":\"0\",\"list\":\"0\",\"question\":\"Exame Geral\",\"difficulty\":0.0,\"tag1\":\"Ordena\\xc3\\xa7\\xc3\\xa3o\",\"tag2\":\"0\",\"tag3\":\"0\",\"tag4\":\"0\",\"tag5\":\"0\"},{\"id_list\":\"0\",\"list\":\"0\",\"question\":\"Fibbonacci\",\"difficulty\":0.0,\"tag1\":\"Estruturas de Repeti\\xc3\\xa7\\xc3\\xa3o\",\"tag2\":\"Estruturas de Repeti\\xc3\\xa7\\xc3\\xa3o Contada\",\"tag3\":\"0\",\"tag4\":\"0\",\"tag5\":\"0\"},{\"id_list\":\"0\",\"list\":\"0\",\"question\":\"Fluxograma 2\",\"difficulty\":0.0,\"tag1\":\"Estruturas Condicionais\",\"tag2\":\"0\",\"tag3\":\"0\",\"tag4\":\"0\",\"tag5\":\"0\"},{\"id_list\":\"0\",\"list\":\"0\",\"question\":\"F\\xc3\\xb3rmula de Bhaskara\",\"difficulty\":0.0,\"tag1\":\"Operadores Aritm\\xc3\\xa9ticos\",\"tag2\":\"Operadores L\\xc3\\xb3gicos\",\"tag3\":\"Estruturas Condicionais\",\"tag4\":\"0\",\"tag5\":\"0\"},{\"id_list\":\"0\",\"list\":\"0\",\"question\":\"Fun\\xc3\\xa7\\xc3\\xb5es - n\\xc3\\xbamero perfeito\",\"difficulty\":0.0,\"tag1\":\"Fun\\xc3\\xa7\\xc3\\xb5es\",\"tag2\":\"0\",\"tag3\":\"0\",\"tag4\":\"0\",\"tag5\":\"0\"},{\"id_list\":\"0\",\"list\":\"0\",\"question\":\"Fun\\xc3\\xa7\\xc3\\xb5es - teorema de Pit\\xc3\\xa1goras\",\"difficulty\":0.0,\"tag1\":\"Fun\\xc3\\xa7\\xc3\\xb5es\",\"tag2\":\"0\",\"tag3\":\"0\",\"tag4\":\"0\",\"tag5\":\"0\"},{\"id_list\":\"0\",\"list\":\"0\",\"question\":\"Fun\\xc3\\xa7\\xc3\\xb5es: matriz bin\\xc3\\xa1ria par \\xc3\\xadmpar\",\"difficulty\":0.0,\"tag1\":\"Fun\\xc3\\xa7\\xc3\\xb5es\",\"tag2\":\"0\",\"tag3\":\"0\",\"tag4\":\"0\",\"tag5\":\"0\"},{\"id_list\":\"0\",\"list\":\"0\",\"question\":\"Fun\\xc3\\xa7\\xc3\\xb5es: matriz \\xc3\\xa9 invert\\xc3\\xadvel?\",\"difficulty\":0.0,\"tag1\":\"Fun\\xc3\\xa7\\xc3\\xb5es\",\"tag2\":\"0\",\"tag3\":\"0\",\"tag4\":\"0\",\"tag5\":\"0\"},{\"id_list\":\"0\",\"list\":\"0\",\"question\":\"Fun\\xc3\\xa7\\xc3\\xb5es: Produto entre elementos na mesma posi\\xc3\\xa7\\xc3\\xa3o\",\"difficulty\":0.0,\"tag1\":\"Fun\\xc3\\xa7\\xc3\\xb5es\",\"tag2\":\"0\",\"tag3\":\"0\",\"tag4\":\"0\",\"tag5\":\"0\"},{\"id_list\":\"0\",\"list\":\"0\",\"question\":\"Gasto de combust\\xc3\\xadvel\",\"difficulty\":0.0,\"tag1\":\"Operadores Aritm\\xc3\\xa9ticos\",\"tag2\":\"0\",\"tag3\":\"0\",\"tag4\":\"0\",\"tag5\":\"0\"},{\"id_list\":\"0\",\"list\":\"0\",\"question\":\"Gerando matrizes\",\"difficulty\":0.0,\"tag1\":\"Matrizes\",\"tag2\":\"0\",\"tag3\":\"0\",\"tag4\":\"0\",\"tag5\":\"0\"},{\"id_list\":\"0\",\"list\":\"0\",\"question\":\"Gomoku\",\"difficulty\":0.0,\"tag1\":\"Fun\\xc3\\xa7\\xc3\\xb5es\",\"tag2\":\"Matrizes\",\"tag3\":\"Estruturas de Repeti\\xc3\\xa7\\xc3\\xa3o\",\"tag4\":\"0\",\"tag5\":\"0\"},{\"id_list\":\"0\",\"list\":\"0\",\"question\":\"Hexadecimal\",\"difficulty\":0.0,\"tag1\":\"Estruturas de Repeti\\xc3\\xa7\\xc3\\xa3o\",\"tag2\":\"0\",\"tag3\":\"0\",\"tag4\":\"0\",\"tag5\":\"0\"},{\"id_list\":\"0\",\"list\":\"0\",\"question\":\"Idade em dias\",\"difficulty\":0.0,\"tag1\":\"Operadores Aritm\\xc3\\xa9ticos\",\"tag2\":\"0\",\"tag3\":\"0\",\"tag4\":\"0\",\"tag5\":\"0\"},{\"id_list\":\"0\",\"list\":\"0\",\"question\":\"Imprimir na ordem inversa\",\"difficulty\":0.0,\"tag1\":\"Estruturas de Repeti\\xc3\\xa7\\xc3\\xa3o\",\"tag2\":\"Vetores\",\"tag3\":\"0\",\"tag4\":\"0\",\"tag5\":\"0\"},{\"id_list\":\"0\",\"list\":\"0\",\"question\":\"Intervalo\",\"difficulty\":0.0,\"tag1\":\"Operadores L\\xc3\\xb3gicos\",\"tag2\":\"Estruturas Condicionais\",\"tag3\":\"0\",\"tag4\":\"0\",\"tag5\":\"0\"},{\"id_list\":\"0\",\"list\":\"0\",\"question\":\"Maior parti\\xc3\\xa7\\xc3\\xa3o com soma K ou menor - reucursiva\",\"difficulty\":0.0,\"tag1\":\"Recurs\\xc3\\xa3o\",\"tag2\":\"0\",\"tag3\":\"0\",\"tag4\":\"0\",\"tag5\":\"0\"},{\"id_list\":\"0\",\"list\":\"0\",\"question\":\"Maior, menor e m\\xc3\\xa9dia\",\"difficulty\":0.0,\"tag1\":\"Estruturas de Repeti\\xc3\\xa7\\xc3\\xa3o\",\"tag2\":\"0\",\"tag3\":\"0\",\"tag4\":\"0\",\"tag5\":\"0\"},{\"id_list\":\"0\",\"list\":\"0\",\"question\":\"Maiores que a m\\xc3\\xa9dia ou nulo\",\"difficulty\":0.0,\"tag1\":\"Matrizes\",\"tag2\":\"0\",\"tag3\":\"0\",\"tag4\":\"0\",\"tag5\":\"0\"},{\"id_list\":\"0\",\"list\":\"0\",\"question\":\"M\\xc3\\xa9dia dos m\\xc3\\xbaltiplos de tr\\xc3\\xaas\",\"difficulty\":0.0,\"tag1\":\"Estruturas de Repeti\\xc3\\xa7\\xc3\\xa3o\",\"tag2\":\"0\",\"tag3\":\"0\",\"tag4\":\"0\",\"tag5\":\"0\"},{\"id_list\":\"0\",\"list\":\"0\",\"question\":\"Multiplica\\xc3\\xa7\\xc3\\xa3o de matrizes\",\"difficulty\":0.0,\"tag1\":\"Matrizes\",\"tag2\":\"Estruturas de Repeti\\xc3\\xa7\\xc3\\xa3o\",\"tag3\":\"0\",\"tag4\":\"0\",\"tag5\":\"0\"},{\"id_list\":\"0\",\"list\":\"0\",\"question\":\"Multiplicando sempre por 3\",\"difficulty\":0.0,\"tag1\":\"Operadores L\\xc3\\xb3gicos\",\"tag2\":\"Estruturas Condicionais\",\"tag3\":\"Estruturas de Repeti\\xc3\\xa7\\xc3\\xa3o\",\"tag4\":\"Estruturas de Repeti\\xc3\\xa7\\xc3\\xa3o Condicional\",\"tag5\":\"0\"},{\"id_list\":\"0\",\"list\":\"0\",\"question\":\"N m\\xc3\\xa9dias de N conjuntos com M elementos\",\"difficulty\":0.0,\"tag1\":\"Vetores\",\"tag2\":\"0\",\"tag3\":\"0\",\"tag4\":\"0\",\"tag5\":\"0\"},{\"id_list\":\"0\",\"list\":\"0\",\"question\":\"N solu\\xc3\\xa7\\xc3\\xb5es de 3x + 4y - 5z = 0\",\"difficulty\":0.0,\"tag1\":\"Estruturas Condicionais\",\"tag2\":\"Estruturas de Repeti\\xc3\\xa7\\xc3\\xa3o\",\"tag3\":\"Estruturas de Repeti\\xc3\\xa7\\xc3\\xa3o Contada\",\"tag4\":\"0\",\"tag5\":\"0\"},{\"id_list\":\"0\",\"list\":\"0\",\"question\":\"N valores para 3x + 4y - 5z\",\"difficulty\":0.0,\"tag1\":\"Estruturas de Repeti\\xc3\\xa7\\xc3\\xa3o\",\"tag2\":\"Estruturas de Repeti\\xc3\\xa7\\xc3\\xa3o Contada\",\"tag3\":\"0\",\"tag4\":\"0\",\"tag5\":\"0\"},{\"id_list\":\"0\",\"list\":\"0\",\"question\":\"Notas SIGAA\",\"difficulty\":0.0,\"tag1\":\"Operadores Aritm\\xc3\\xa9ticos\",\"tag2\":\"Operadores L\\xc3\\xb3gicos\",\"tag3\":\"Estruturas Condicionais\",\"tag4\":\"0\",\"tag5\":\"0\"},{\"id_list\":\"0\",\"list\":\"0\",\"question\":\"N\\xc3\\xbamero m\\xc3\\xa1ximo de blocos de mem\\xc3\\xb3ria\",\"difficulty\":0.0,\"tag1\":\"Ponteiros\",\"tag2\":\"0\",\"tag3\":\"0\",\"tag4\":\"0\",\"tag5\":\"0\"},{\"id_list\":\"0\",\"list\":\"0\",\"question\":\"N\\xc3\\xbameros na sequencia de Fibnot em um intervalo\",\"difficulty\":0.0,\"tag1\":\"Recurs\\xc3\\xa3o\",\"tag2\":\"0\",\"tag3\":\"0\",\"tag4\":\"0\",\"tag5\":\"0\"},{\"id_list\":\"0\",\"list\":\"0\",\"question\":\"N\\xc3\\xbameros primos\",\"difficulty\":0.0,\"tag1\":\"Estruturas de Repeti\\xc3\\xa7\\xc3\\xa3o\",\"tag2\":\"Estruturas de Repeti\\xc3\\xa7\\xc3\\xa3o Contada\",\"tag3\":\"0\",\"tag4\":\"0\",\"tag5\":\"0\"},{\"id_list\":\"0\",\"list\":\"0\",\"question\":\"Opera\\xc3\\xa7\\xc3\\xb5es com N n\\xc3\\xbameros\",\"difficulty\":0.0,\"tag1\":\"Estruturas Condicionais\",\"tag2\":\"Estruturas de Repeti\\xc3\\xa7\\xc3\\xa3o\",\"tag3\":\"0\",\"tag4\":\"0\",\"tag5\":\"0\"},{\"id_list\":\"0\",\"list\":\"0\",\"question\":\"Opera\\xc3\\xa7\\xc3\\xb5es com vetores\",\"difficulty\":0.0,\"tag1\":\"Vetores\",\"tag2\":\"0\",\"tag3\":\"0\",\"tag4\":\"0\",\"tag5\":\"0\"},{\"id_list\":\"0\",\"list\":\"0\",\"question\":\"Ordena\\xc3\\xa7\\xc3\\xa3o indireta (ponteiros)\",\"difficulty\":0.0,\"tag1\":\"Ponteiros\",\"tag2\":\"Vetores\",\"tag3\":\"0\",\"tag4\":\"0\",\"tag5\":\"0\"},{\"id_list\":\"0\",\"list\":\"0\",\"question\":\"Ordena\\xc3\\xa7\\xc3\\xa3o Simples\",\"difficulty\":0.0,\"tag1\":\"Estruturas Condicionais\",\"tag2\":\"0\",\"tag3\":\"0\",\"tag4\":\"0\",\"tag5\":\"0\"},{\"id_list\":\"0\",\"list\":\"0\",\"question\":\"P-\\xc3\\xa9simo ao U-\\xc3\\xa9simo termo da sequ\\xc3\\xaancia\",\"difficulty\":0.0,\"tag1\":\"Estruturas Condicionais\",\"tag2\":\"Estruturas de Repeti\\xc3\\xa7\\xc3\\xa3o Contada\",\"tag3\":\"0\",\"tag4\":\"0\",\"tag5\":\"0\"},{\"id_list\":\"0\",\"list\":\"0\",\"question\":\"Pares at\\xc3\\xa9 20\",\"difficulty\":0.0,\"tag1\":\"Estruturas de Repeti\\xc3\\xa7\\xc3\\xa3o\",\"tag2\":\"Estruturas de Repeti\\xc3\\xa7\\xc3\\xa3o Contada\",\"tag3\":\"0\",\"tag4\":\"0\",\"tag5\":\"0\"},{\"id_list\":\"0\",\"list\":\"0\",\"question\":\"Percentual nulo na matriz\",\"difficulty\":0.0,\"tag1\":\"Matrizes\",\"tag2\":\"0\",\"tag3\":\"0\",\"tag4\":\"0\",\"tag5\":\"0\"},{\"id_list\":\"0\",\"list\":\"0\",\"question\":\"Perfuradora hidr\\xc3\\xa1ulica\",\"difficulty\":0.0,\"tag1\":\"Operadores Aritm\\xc3\\xa9ticos\",\"tag2\":\"0\",\"tag3\":\"0\",\"tag4\":\"0\",\"tag5\":\"0\"},{\"id_list\":\"0\",\"list\":\"0\",\"question\":\"Pilha\",\"difficulty\":0.0,\"tag1\":\"Tipos Estruturados\",\"tag2\":\"0\",\"tag3\":\"0\",\"tag4\":\"0\",\"tag5\":\"0\"},{\"id_list\":\"0\",\"list\":\"0\",\"question\":\"Ponto Fixo\",\"difficulty\":0.0,\"tag1\":\"Fun\\xc3\\xa7\\xc3\\xb5es\",\"tag2\":\"0\",\"tag3\":\"0\",\"tag4\":\"0\",\"tag5\":\"0\"},{\"id_list\":\"0\",\"list\":\"0\",\"question\":\"Popula\\xc3\\xa7\\xc3\\xa3o de coelhos\",\"difficulty\":0.0,\"tag1\":\"Vetores\",\"tag2\":\"0\",\"tag3\":\"0\",\"tag4\":\"0\",\"tag5\":\"0\"},{\"id_list\":\"0\",\"list\":\"0\",\"question\":\"Pre\\xc3\\xa7o dos lanches (corrigir)\",\"difficulty\":0.0,\"tag1\":\"Operadores L\\xc3\\xb3gicos\",\"tag2\":\"Estruturas Condicionais\",\"tag3\":\"0\",\"tag4\":\"0\",\"tag5\":\"0\"},{\"id_list\":\"0\",\"list\":\"0\",\"question\":\"Preenchimento de vetor III\",\"difficulty\":0.0,\"tag1\":\"Estruturas de Repeti\\xc3\\xa7\\xc3\\xa3o\",\"tag2\":\"Estruturas de Repeti\\xc3\\xa7\\xc3\\xa3o Contada\",\"tag3\":\"Vetores\",\"tag4\":\"0\",\"tag5\":\"0\"},{\"id_list\":\"0\",\"list\":\"0\",\"question\":\"Primeira pot\\xc3\\xaancia maior que 100\",\"difficulty\":0.0,\"tag1\":\"Estruturas de Repeti\\xc3\\xa7\\xc3\\xa3o\",\"tag2\":\"0\",\"tag3\":\"0\",\"tag4\":\"0\",\"tag5\":\"0\"},{\"id_list\":\"0\",\"list\":\"0\",\"question\":\"Produto escalar entre vetores\",\"difficulty\":0.0,\"tag1\":\"Vetores\",\"tag2\":\"0\",\"tag3\":\"0\",\"tag4\":\"0\",\"tag5\":\"0\"},{\"id_list\":\"0\",\"list\":\"0\",\"question\":\"Produto escalar entre vetores\",\"difficulty\":0.0,\"tag1\":\"Vetores\",\"tag2\":\"0\",\"tag3\":\"0\",\"tag4\":\"0\",\"tag5\":\"0\"},{\"id_list\":\"0\",\"list\":\"0\",\"question\":\"Quadrado de N n\\xc3\\xbameros\",\"difficulty\":0.0,\"tag1\":\"Estruturas de Repeti\\xc3\\xa7\\xc3\\xa3o Contada\",\"tag2\":\"0\",\"tag3\":\"0\",\"tag4\":\"0\",\"tag5\":\"0\"},{\"id_list\":\"0\",\"list\":\"0\",\"question\":\"Quadrado de pares\",\"difficulty\":0.0,\"tag1\":\"Estruturas de Repeti\\xc3\\xa7\\xc3\\xa3o\",\"tag2\":\"Estruturas de Repeti\\xc3\\xa7\\xc3\\xa3o Contada\",\"tag3\":\"0\",\"tag4\":\"0\",\"tag5\":\"0\"},{\"id_list\":\"0\",\"list\":\"0\",\"question\":\"Quadrado de v\\xc3\\xa1rios n\\xc3\\xbameros\",\"difficulty\":0.0,\"tag1\":\"Estruturas de Repeti\\xc3\\xa7\\xc3\\xa3o\",\"tag2\":\"Estruturas de Repeti\\xc3\\xa7\\xc3\\xa3o Condicional\",\"tag3\":\"0\",\"tag4\":\"0\",\"tag5\":\"0\"},{\"id_list\":\"0\",\"list\":\"0\",\"question\":\"Quest\\xc3\\xa3o PE - teste\",\"difficulty\":0.0,\"tag1\":\"Estruturas Condicionais\",\"tag2\":\"Estruturas de Repeti\\xc3\\xa7\\xc3\\xa3o Contada\",\"tag3\":\"0\",\"tag4\":\"0\",\"tag5\":\"0\"},{\"id_list\":\"0\",\"list\":\"0\",\"question\":\"Raiz dos maiores que 15\",\"difficulty\":0.0,\"tag1\":\"Operadores L\\xc3\\xb3gicos\",\"tag2\":\"Estruturas de Repeti\\xc3\\xa7\\xc3\\xa3o\",\"tag3\":\"Estruturas de Repeti\\xc3\\xa7\\xc3\\xa3o Condicional\",\"tag4\":\"0\",\"tag5\":\"0\"},{\"id_list\":\"0\",\"list\":\"0\",\"question\":\"Raiz dos pares e pot\\xc3\\xaancia dos \\xc3\\xadmpares\",\"difficulty\":0.0,\"tag1\":\"Estruturas Condicionais\",\"tag2\":\"Estruturas de Repeti\\xc3\\xa7\\xc3\\xa3o\",\"tag3\":\"Vetores\",\"tag4\":\"0\",\"tag5\":\"0\"},{\"id_list\":\"0\",\"list\":\"0\",\"question\":\"Ra\\xc3\\xadzes quadradas e c\\xc3\\xbabicas\",\"difficulty\":0.0,\"tag1\":\"Estruturas de Repeti\\xc3\\xa7\\xc3\\xa3o\",\"tag2\":\"0\",\"tag3\":\"0\",\"tag4\":\"0\",\"tag5\":\"0\"},{\"id_list\":\"0\",\"list\":\"0\",\"question\":\"Segundo menor\",\"difficulty\":0.0,\"tag1\":\"Estruturas Condicionais\",\"tag2\":\"Estruturas de Repeti\\xc3\\xa7\\xc3\\xa3o\",\"tag3\":\"0\",\"tag4\":\"0\",\"tag5\":\"0\"},{\"id_list\":\"0\",\"list\":\"0\",\"question\":\"Seis n\\xc3\\xbameros \\xc3\\xadmpares\",\"difficulty\":0.0,\"tag1\":\"Estruturas de Repeti\\xc3\\xa7\\xc3\\xa3o\",\"tag2\":\"Estruturas de Repeti\\xc3\\xa7\\xc3\\xa3o Condicional\",\"tag3\":\"0\",\"tag4\":\"0\",\"tag5\":\"0\"},{\"id_list\":\"0\",\"list\":\"0\",\"question\":\"Senha fixa\",\"difficulty\":0.0,\"tag1\":\"Estruturas de Repeti\\xc3\\xa7\\xc3\\xa3o\",\"tag2\":\"Estruturas de Repeti\\xc3\\xa7\\xc3\\xa3o Condicional\",\"tag3\":\"0\",\"tag4\":\"0\",\"tag5\":\"0\"},{\"id_list\":\"0\",\"list\":\"0\",\"question\":\"Separa\\xc3\\xa7\\xc3\\xa3o num\\xc3\\xa9rica\",\"difficulty\":0.0,\"tag1\":\"Estruturas Condicionais\",\"tag2\":\"0\",\"tag3\":\"0\",\"tag4\":\"0\",\"tag5\":\"0\"},{\"id_list\":\"0\",\"list\":\"0\",\"question\":\"Sequ\\xc3\\xaancia de Fibbonacci\",\"difficulty\":0.0,\"tag1\":\"Operadores Aritm\\xc3\\xa9ticos\",\"tag2\":\"Estruturas de Repeti\\xc3\\xa7\\xc3\\xa3o\",\"tag3\":\"0\",\"tag4\":\"0\",\"tag5\":\"0\"},{\"id_list\":\"0\",\"list\":\"0\",\"question\":\"Sequ\\xc3\\xaancia de Fibonacci\",\"difficulty\":0.0,\"tag1\":\"Estruturas de Repeti\\xc3\\xa7\\xc3\\xa3o\",\"tag2\":\"0\",\"tag3\":\"0\",\"tag4\":\"0\",\"tag5\":\"0\"},{\"id_list\":\"0\",\"list\":\"0\",\"question\":\"Sequ\\xc3\\xaancia de \\xc3\\xadmpares\",\"difficulty\":0.0,\"tag1\":\"Estruturas de Repeti\\xc3\\xa7\\xc3\\xa3o\",\"tag2\":\"Estruturas de Repeti\\xc3\\xa7\\xc3\\xa3o Contada\",\"tag3\":\"0\",\"tag4\":\"0\",\"tag5\":\"0\"},{\"id_list\":\"0\",\"list\":\"0\",\"question\":\"Sistema especialista para mam\\xc3\\xadferos\",\"difficulty\":0.0,\"tag1\":\"Operadores L\\xc3\\xb3gicos\",\"tag2\":\"Estruturas Condicionais\",\"tag3\":\"0\",\"tag4\":\"0\",\"tag5\":\"0\"},{\"id_list\":\"0\",\"list\":\"0\",\"question\":\"Sistema Inteligente - Identifica\\xc3\\xa7\\xc3\\xa3o de Esp\\xc3\\xa9cie de P\\xc3\\xa1ssaro\",\"difficulty\":0.0,\"tag1\":\"Operadores L\\xc3\\xb3gicos\",\"tag2\":\"Estruturas Condicionais\",\"tag3\":\"0\",\"tag4\":\"0\",\"tag5\":\"0\"},{\"id_list\":\"0\",\"list\":\"0\",\"question\":\"Soma de \\xc3\\xadmpares consecutivos\",\"difficulty\":0.0,\"tag1\":\"Estruturas de Repeti\\xc3\\xa7\\xc3\\xa3o\",\"tag2\":\"Estruturas de Repeti\\xc3\\xa7\\xc3\\xa3o Contada\",\"tag3\":\"0\",\"tag4\":\"0\",\"tag5\":\"0\"},{\"id_list\":\"0\",\"list\":\"0\",\"question\":\"Soma dos elementos a partir de um \\xc3\\xadndice\",\"difficulty\":0.0,\"tag1\":\"Vetores\",\"tag2\":\"0\",\"tag3\":\"0\",\"tag4\":\"0\",\"tag5\":\"0\"},{\"id_list\":\"0\",\"list\":\"0\",\"question\":\"Soma dos pares nas sequ\\xc3\\xaancias\",\"difficulty\":0.0,\"tag1\":\"Estruturas de Repeti\\xc3\\xa7\\xc3\\xa3o\",\"tag2\":\"0\",\"tag3\":\"0\",\"tag4\":\"0\",\"tag5\":\"0\"},{\"id_list\":\"0\",\"list\":\"0\",\"question\":\"Soma natural\",\"difficulty\":0.0,\"tag1\":\"Estruturas Condicionais\",\"tag2\":\"Estruturas de Repeti\\xc3\\xa7\\xc3\\xa3o\",\"tag3\":\"Estruturas de Repeti\\xc3\\xa7\\xc3\\xa3o Contada\",\"tag4\":\"0\",\"tag5\":\"0\"},{\"id_list\":\"0\",\"list\":\"0\",\"question\":\"Soma simples\",\"difficulty\":0.0,\"tag1\":\"Operadores Aritm\\xc3\\xa9ticos\",\"tag2\":\"0\",\"tag3\":\"0\",\"tag4\":\"0\",\"tag5\":\"0\"},{\"id_list\":\"0\",\"list\":\"0\",\"question\":\"Somat\\xc3\\xb3rio 1\\\\/i\",\"difficulty\":0.0,\"tag1\":\"Estruturas de Repeti\\xc3\\xa7\\xc3\\xa3o\",\"tag2\":\"0\",\"tag3\":\"0\",\"tag4\":\"0\",\"tag5\":\"0\"},{\"id_list\":\"0\",\"list\":\"0\",\"question\":\"Somat\\xc3\\xb3rio acima da diagonal principal\",\"difficulty\":0.0,\"tag1\":\"Matrizes\",\"tag2\":\"0\",\"tag3\":\"0\",\"tag4\":\"0\",\"tag5\":\"0\"},{\"id_list\":\"0\",\"list\":\"0\",\"question\":\"Substring (ponteiros)\",\"difficulty\":0.0,\"tag1\":\"Ponteiros\",\"tag2\":\"String\",\"tag3\":\"0\",\"tag4\":\"0\",\"tag5\":\"0\"},{\"id_list\":\"0\",\"list\":\"0\",\"question\":\"Tabela Celsius-Farenheit\",\"difficulty\":0.0,\"tag1\":\"Operadores Aritm\\xc3\\xa9ticos\",\"tag2\":\"Estruturas de Repeti\\xc3\\xa7\\xc3\\xa3o\",\"tag3\":\"0\",\"tag4\":\"0\",\"tag5\":\"0\"},{\"id_list\":\"0\",\"list\":\"0\",\"question\":\"Tabuada (corrigir)\",\"difficulty\":0.0,\"tag1\":\"Estruturas de Repeti\\xc3\\xa7\\xc3\\xa3o\",\"tag2\":\"Estruturas de Repeti\\xc3\\xa7\\xc3\\xa3o Contada\",\"tag3\":\"0\",\"tag4\":\"0\",\"tag5\":\"0\"},{\"id_list\":\"0\",\"list\":\"0\",\"question\":\"Tabuada de um n\\xc3\\xbamero N\",\"difficulty\":0.0,\"tag1\":\"Estruturas de Repeti\\xc3\\xa7\\xc3\\xa3o Contada\",\"tag2\":\"0\",\"tag3\":\"0\",\"tag4\":\"0\",\"tag5\":\"0\"},{\"id_list\":\"0\",\"list\":\"0\",\"question\":\"Tempo de jogo\",\"difficulty\":0.0,\"tag1\":\"Estruturas Condicionais\",\"tag2\":\"0\",\"tag3\":\"0\",\"tag4\":\"0\",\"tag5\":\"0\"},{\"id_list\":\"0\",\"list\":\"0\",\"question\":\"Tempo entre dois carros\",\"difficulty\":0.0,\"tag1\":\"Operadores Aritm\\xc3\\xa9ticos\",\"tag2\":\"0\",\"tag3\":\"0\",\"tag4\":\"0\",\"tag5\":\"0\"},{\"id_list\":\"0\",\"list\":\"0\",\"question\":\"Teorema de Pit\\xc3\\xa1goras (corrigir)\",\"difficulty\":0.0,\"tag1\":\"Operadores L\\xc3\\xb3gicos\",\"tag2\":\"Estruturas Condicionais\",\"tag3\":\"0\",\"tag4\":\"0\",\"tag5\":\"0\"},{\"id_list\":\"0\",\"list\":\"0\",\"question\":\"Termos de uma progress\\xc3\\xa3o geom\\xc3\\xa9trica\",\"difficulty\":0.0,\"tag1\":\"Operadores Aritm\\xc3\\xa9ticos\",\"tag2\":\"Estruturas de Repeti\\xc3\\xa7\\xc3\\xa3o\",\"tag3\":\"0\",\"tag4\":\"0\",\"tag5\":\"0\"},{\"id_list\":\"0\",\"list\":\"0\",\"question\":\"teste novo editor de quest\\xc3\\xb5es\",\"difficulty\":0.0,\"tag1\":\"Operadores Aritm\\xc3\\xa9ticos\",\"tag2\":\"0\",\"tag3\":\"0\",\"tag4\":\"0\",\"tag5\":\"0\"},{\"id_list\":\"0\",\"list\":\"0\",\"question\":\"Tipo de combust\\xc3\\xadvel\",\"difficulty\":0.0,\"tag1\":\"Estruturas de Repeti\\xc3\\xa7\\xc3\\xa3o\",\"tag2\":\"Estruturas de Repeti\\xc3\\xa7\\xc3\\xa3o Condicional\",\"tag3\":\"0\",\"tag4\":\"0\",\"tag5\":\"0\"},{\"id_list\":\"0\",\"list\":\"0\",\"question\":\"Tipos de tri\\xc3\\xa2ngulo (corrigir)\",\"difficulty\":0.0,\"tag1\":\"Operadores Aritm\\xc3\\xa9ticos\",\"tag2\":\"Operadores L\\xc3\\xb3gicos\",\"tag3\":\"Estruturas Condicionais\",\"tag4\":\"0\",\"tag5\":\"0\"},{\"id_list\":\"0\",\"list\":\"0\",\"question\":\"U-\\xc3\\xa9simo termo da s\\xc3\\xa9rie 2^(-n)\",\"difficulty\":0.0,\"tag1\":\"Estruturas de Repeti\\xc3\\xa7\\xc3\\xa3o Contada\",\"tag2\":\"0\",\"tag3\":\"0\",\"tag4\":\"0\",\"tag5\":\"0\"},{\"id_list\":\"0\",\"list\":\"0\",\"question\":\"Valor de Pi Recursivo\",\"difficulty\":0.0,\"tag1\":\"Recurs\\xc3\\xa3o\",\"tag2\":\"0\",\"tag3\":\"0\",\"tag4\":\"0\",\"tag5\":\"0\"},{\"id_list\":\"0\",\"list\":\"0\",\"question\":\"Valores em um intervalo\",\"difficulty\":0.0,\"tag1\":\"Estruturas de Repeti\\xc3\\xa7\\xc3\\xa3o\",\"tag2\":\"0\",\"tag3\":\"0\",\"tag4\":\"0\",\"tag5\":\"0\"},{\"id_list\":\"0\",\"list\":\"0\",\"question\":\"V\\xc3\\xa1rias notas com valida\\xc3\\xa7\\xc3\\xa3o (corrigir)\",\"difficulty\":0.0,\"tag1\":\"Estruturas de Repeti\\xc3\\xa7\\xc3\\xa3o\",\"tag2\":\"Estruturas de Repeti\\xc3\\xa7\\xc3\\xa3o Condicional\",\"tag3\":\"0\",\"tag4\":\"0\",\"tag5\":\"0\"},{\"id_list\":\"0\",\"list\":\"0\",\"question\":\"V\\xc3\\xa1rios quadrantes\",\"difficulty\":0.0,\"tag1\":\"Estruturas Condicionais\",\"tag2\":\"Estruturas de Repeti\\xc3\\xa7\\xc3\\xa3o\",\"tag3\":\"Estruturas de Repeti\\xc3\\xa7\\xc3\\xa3o Condicional\",\"tag4\":\"0\",\"tag5\":\"0\"},{\"id_list\":\"0\",\"list\":\"0\",\"question\":\"Vetor soma das colunas\",\"difficulty\":0.0,\"tag1\":\"Matrizes\",\"tag2\":\"0\",\"tag3\":\"0\",\"tag4\":\"0\",\"tag5\":\"0\"}]'"
            ]
          },
          "metadata": {
            "tags": []
          },
          "execution_count": 36
        }
      ]
    },
    {
      "cell_type": "markdown",
      "metadata": {
        "id": "ZGHrISEE_B3_"
      },
      "source": [
        "##3. Funções\n",
        "<a id='funcoes'></a>"
      ]
    },
    {
      "cell_type": "markdown",
      "metadata": {
        "id": "SfuZ_xuiCAjd"
      },
      "source": [
        "### 3.1 Funções de Consulta e Transformação"
      ]
    },
    {
      "cell_type": "markdown",
      "metadata": {
        "id": "c8k5ZIKXkEJ_"
      },
      "source": [
        "Função de leitura de arquivos txt"
      ]
    },
    {
      "cell_type": "code",
      "metadata": {
        "id": "zgY9TfQvkCSh"
      },
      "source": [
        "def read_txt(path):\n",
        "  with open(path,'r') as file:\n",
        "    return file.read() "
      ],
      "execution_count": null,
      "outputs": []
    },
    {
      "cell_type": "markdown",
      "metadata": {
        "id": "1aRrmnVXkm82"
      },
      "source": [
        "Função de consulta no LoP"
      ]
    },
    {
      "cell_type": "code",
      "metadata": {
        "id": "BueEgapukKO8"
      },
      "source": [
        "def lop_consult(url):\n",
        "  http = urllib3.PoolManager()\n",
        "  req = http.request('GET',url)\n",
        "  if req.status == 200:\n",
        "    return pd.read_json(req.data, orient = 'RECORDS', encoding = 'utf-8').copy()\n",
        "  else: \n",
        "    return False"
      ],
      "execution_count": null,
      "outputs": []
    },
    {
      "cell_type": "markdown",
      "metadata": {
        "id": "zx_SDIJpLayi"
      },
      "source": [
        "Função para obter todas as classes do LoP a partir de uma lista de professores"
      ]
    },
    {
      "cell_type": "code",
      "metadata": {
        "id": "mbL2uxEK0X3M"
      },
      "source": [
        "def lop_class(df_teacher = pd.DataFrame()):\n",
        "  #Essa função se passar por cópia o df_teacher se torna desnecessário fazer a requisição de todas os professores, e evitando fazer varias consultas\n",
        "  #Dataframe onde será armazenado todas as turmas\n",
        "  df_class = pd.DataFrame()\n",
        "  if df_teacher.empty == True:\n",
        "    #Formação da url de consulta para saber os professores cadastrados no LoP\n",
        "    url_teacher = endpoint_teacher + key\n",
        "    #Realizando a consulta no LoP\n",
        "    df_teacher = lop_consult(url_teacher)#id, email, name\n",
        "  #O laço faz uma varredura das turmas de cada professor e por fim armazena em um dataframe de turmas\n",
        "  for id_teacher, name_teacher in zip(df_teacher['id'],df_teacher['name']):\n",
        "    #O LoP.v2 foi desenvolvido em 2019, então temos que capturar as turmas entre 2019 e o ano atual\n",
        "    current_year = datetime.now().year\n",
        "    for year in range(2019, current_year + 1):\n",
        "      #Por fim precisamos do semestre que deve ser 1 ou 2\n",
        "      for semester in range(1,3): \n",
        "        try:\n",
        "          #Url de consulta de classes\n",
        "          url_class = endpoint_class + id_teacher + '?year=' + str(year) + '&semester=' + str(semester) + '&key=' + key \n",
        "          #Dataframe provisório necessário para capturar o tamanho e saber quantas turmas esse professor tem que estar associado\n",
        "          df_prov = lop_consult(url_class)\n",
        "          #Inserindo o id e o nome do professor no dataframe de turmas\n",
        "          df_prov['id_teacher'] = id_teacher\n",
        "          df_prov['name_teacher'] = name_teacher\n",
        "          #Adicionando turmas conforme novas consultas\n",
        "          df_class = df_class.append(df_prov, ignore_index=True).copy()#id, name, code, year, semester, id_teacher\n",
        "        except:\n",
        "          pass\n",
        "  #Renomeando colunas com nomes semelhantes em todos os DF\n",
        "  df_class.rename(columns={'id':'id_class','name':'name_class'}, inplace = True)\n",
        "  return df_class"
      ],
      "execution_count": null,
      "outputs": []
    },
    {
      "cell_type": "markdown",
      "metadata": {
        "id": "vVs1I-sChMaS"
      },
      "source": [
        "Função para obter todas as submissões a partir de uma lista de turmas"
      ]
    },
    {
      "cell_type": "code",
      "metadata": {
        "id": "9dqp3HGeFlKC"
      },
      "source": [
        "def lop_submission(df_class = pd.DataFrame()):\n",
        "  #Essa função se passar por cópia o df_class se torna desnecessário fazer a requisição de todas as turmas usando a função lop_class()\n",
        "  #Dataframe onde serão armazenados todas as submissões \n",
        "  df_submission = pd.DataFrame()  \n",
        "  if df_class.empty == True:\n",
        "    df_class = lop_class()  \n",
        "  #Obtem todas as submissões da lista de turmas passadas\n",
        "  for id_class in df_class['id_class']:\n",
        "    #Url da consulta as submissões\n",
        "    url_submission = endpoint_submission + id_class + '/submission?key=' + key\n",
        "    #Dataframe provisório que vai armazenar o resultado da consulta\n",
        "    df_prov = lop_consult(url_submission)\n",
        "    #Inserindo o id_class no dataframe de consultas\n",
        "    df_prov['id_class'] = id_class\n",
        "    #Adicionando submissões conforme consultas\n",
        "    df_submission = df_submission.append(df_prov, ignore_index=True).copy()\n",
        "  #Campo user trás matricula e o nome do usuário, vamos separar em 2 colunas distintas\n",
        "  df_submission[['user','registration']] = df_submission['user'].str.split('-',expand=True)\n",
        "  return df_submission"
      ],
      "execution_count": null,
      "outputs": []
    },
    {
      "cell_type": "markdown",
      "metadata": {
        "id": "aPYJVKnjA8jn"
      },
      "source": [
        "Função para obter dados das questões cadastradas no LoP"
      ]
    },
    {
      "cell_type": "code",
      "metadata": {
        "id": "OZu9CVgtA70_"
      },
      "source": [
        "def lop_question():\n",
        "  url_question = endpoint_question + key\n",
        "  df_lop_question = lop_consult(url_question)\n",
        "  df_lop_question.rename(columns = {'id':'id_question','title':'question'}, inplace = True)\n",
        "  return df_lop_question"
      ],
      "execution_count": null,
      "outputs": []
    },
    {
      "cell_type": "markdown",
      "metadata": {
        "id": "KbBdYtwVOXdZ"
      },
      "source": [
        "Função que transforma os dados das questões extraídas do LoP, assim podemos saber a dificuldade de uma questão, que pode estar associada a uma ou mais listas"
      ]
    },
    {
      "cell_type": "code",
      "metadata": {
        "id": "J3pLjztaOWzR"
      },
      "source": [
        "def question_data(df_question = pd.DataFrame()):\n",
        "  #Essa função se passar por cópia o df_question se torna desnecessário fazer a requisição de todas as turmas usando a função lop_question()\n",
        "  #Dataframes onde serão armazenados todas as questões transformadas\n",
        "  df_list_data = pd.DataFrame() \n",
        "  df_test_data = pd.DataFrame() \n",
        "  df_tag_data = pd.DataFrame()  \n",
        "  df_question_data = pd.DataFrame()  \n",
        "  #i=0\n",
        "  if df_question.empty == True:\n",
        "    df_question = lop_question()\n",
        "  for question,lists,tests,tags,difficulty in zip(df_question['question'],df_question['lists'],df_question['tests'],df_question['tags'],df_question['difficulty']):\n",
        "    #Cada registro do json pode ficar com mais de uma lista associada a uma questão, por isso a necessidade de extrair\n",
        "    df_prov_lists  = pd.DataFrame(json.loads(str(lists).replace(\"'\",'\"')))\n",
        "    #Cada registro do json pode ficar com mais de uma lista associada a uma questão, por isso a necessidade de extrair\n",
        "    df_prov_tests  = pd.DataFrame(json.loads(str(tests).replace(\"'\",'\"')))\n",
        "    #df_prov_lists.rename(columns = {'id':'id_list','title':'list'}, inplace = True)\n",
        "    #Inserindo a questão associada\n",
        "    df_prov_lists['question'] = question\n",
        "    df_prov_lists['difficulty'] = difficulty\n",
        "    df_list_data = df_list_data.append(df_prov_lists, ignore_index = True).copy()\n",
        "    #print(df_list_data['question'])\n",
        "    #print(\"numero de questoes unicas no df \",len(df_list_data['question'].unique()))\n",
        "    df_prov_tests['question'] = question\n",
        "    df_prov_tests['difficulty'] = difficulty\n",
        "    df_test_data = df_test_data.append(df_prov_tests, ignore_index = True).copy()\n",
        "    #Extraindo as tags, que vão dizer o conteudo associado\n",
        "    df_prov_tags = pd.DataFrame(json.loads(str(tags).replace(\"'\",'\"'))).T\n",
        "    #Inserindo a questão associada\n",
        "    df_prov_tags['question'] = question    \n",
        "    df_tag_data = df_tag_data.append(df_prov_tags, ignore_index = True).copy()\n",
        "    #print(i,' ------------------  ',question, ' ',difficulty)\n",
        "    #i+=1\n",
        "    #if i == 100:\n",
        "    #  break\n",
        "  \n",
        "  df_list_data.rename(columns = {'id':'id_list','title':'list'}, inplace = True)\n",
        "  df_test_data.rename(columns = {'id':'id_test','title':'test'}, inplace = True)\n",
        "  #print(len(df_list_data['question'].unique()))\n",
        "  #df_list_data['difficulty'] = df_list_data['difficulty'].astype('int')\n",
        "  columns_tags = ['question']\n",
        "  for i in range(len(df_tag_data.columns)-1): columns_tags.append('tag'+str(i+1))\n",
        "  df_tag_data.columns = columns_tags\n",
        "  df_list_data = pd.merge(df_list_data, df_tag_data, on = 'question', how = 'outer')#.fillna(0)\n",
        "  df_test_data = pd.merge(df_test_data, df_tag_data, on = 'question', how = 'outer')#.fillna(0)\n",
        "  return  pd.concat([df_list_data, df_test_data],axis=0).copy()"
      ],
      "execution_count": null,
      "outputs": []
    },
    {
      "cell_type": "markdown",
      "metadata": {
        "id": "EJNP9JIqS9F5"
      },
      "source": [
        "Função que consula no lop dados sobre as listas"
      ]
    },
    {
      "cell_type": "code",
      "metadata": {
        "id": "3OkDTI0XSHOE"
      },
      "source": [
        "def lop_lists(turma):#Turma como dataframe\r\n",
        "  url_lists = endpoint_lists + data.iloc[0,0] + '/list/all?key=' + key\r\n",
        "  df_lop_lists = lop_consult(url_lists)\r\n",
        "  df_lop_lists.rename(columns = {'id':'id_list','title':'list'}, inplace = True)\r\n",
        "  return df_lop_lists"
      ],
      "execution_count": null,
      "outputs": []
    },
    {
      "cell_type": "code",
      "metadata": {
        "id": "LYQEW7JDt6Jn"
      },
      "source": [
        "df_lop_lists = lop_lists(data)"
      ],
      "execution_count": null,
      "outputs": []
    },
    {
      "cell_type": "code",
      "metadata": {
        "colab": {
          "base_uri": "https://localhost:8080/",
          "height": 111
        },
        "id": "I7kTKaQg1p_V",
        "outputId": "74825977-943a-42aa-a1fa-b57a13c345c5"
      },
      "source": [
        "df_lop_lists.head(2)"
      ],
      "execution_count": null,
      "outputs": [
        {
          "output_type": "execute_result",
          "data": {
            "text/html": [
              "<div>\n",
              "<style scoped>\n",
              "    .dataframe tbody tr th:only-of-type {\n",
              "        vertical-align: middle;\n",
              "    }\n",
              "\n",
              "    .dataframe tbody tr th {\n",
              "        vertical-align: top;\n",
              "    }\n",
              "\n",
              "    .dataframe thead th {\n",
              "        text-align: right;\n",
              "    }\n",
              "</style>\n",
              "<table border=\"1\" class=\"dataframe\">\n",
              "  <thead>\n",
              "    <tr style=\"text-align: right;\">\n",
              "      <th></th>\n",
              "      <th>id_list</th>\n",
              "      <th>list</th>\n",
              "      <th>createdAt</th>\n",
              "      <th>author</th>\n",
              "      <th>shortTitle</th>\n",
              "    </tr>\n",
              "  </thead>\n",
              "  <tbody>\n",
              "    <tr>\n",
              "      <th>0</th>\n",
              "      <td>b4b1d413-503d-40ea-b93c-a21d1240d2e7</td>\n",
              "      <td>ITP - Alocação dinâmica</td>\n",
              "      <td>2020-11-15T01:48:11.000Z</td>\n",
              "      <td>{'name': 'André Campos', 'email': 'andre@dimap...</td>\n",
              "      <td>IAD</td>\n",
              "    </tr>\n",
              "    <tr>\n",
              "      <th>1</th>\n",
              "      <td>2f5b561c-c3f0-4566-a357-625f0edbdb01</td>\n",
              "      <td>ITP - Ponteiros 2 -  Lista</td>\n",
              "      <td>2020-11-08T20:53:36.000Z</td>\n",
              "      <td>{'name': 'André Solino', 'email': 'andresolino...</td>\n",
              "      <td>IP2L</td>\n",
              "    </tr>\n",
              "  </tbody>\n",
              "</table>\n",
              "</div>"
            ],
            "text/plain": [
              "                                id_list  ... shortTitle\n",
              "0  b4b1d413-503d-40ea-b93c-a21d1240d2e7  ...        IAD\n",
              "1  2f5b561c-c3f0-4566-a357-625f0edbdb01  ...       IP2L\n",
              "\n",
              "[2 rows x 5 columns]"
            ]
          },
          "metadata": {
            "tags": []
          },
          "execution_count": 31
        }
      ]
    },
    {
      "cell_type": "markdown",
      "metadata": {
        "id": "tozn2zf9BiSo"
      },
      "source": [
        "Lista de questões selecionadas"
      ]
    },
    {
      "cell_type": "code",
      "metadata": {
        "id": "-2N6QbHL9M1U"
      },
      "source": [
        "listas_escolhidas = ['Laboratório 01 - Expressões Aritméticas',\n",
        "\n",
        "'Aula - Introdução Expressões Aritiméticas',\n",
        "\n",
        "'Aula - Funções Aritméticas',\n",
        "\n",
        "'Treinamento - Expressões Aritméticas',\n",
        "\n",
        "'(Lop) Lista de Laboratório 2 - Estrutura de decisão',\n",
        "\n",
        "'(Lop) Estruturas de decisão - problemas sobre divisibilidade',\n",
        "\n",
        "'(Lop) Estruturas de decisão - Múltiplas decisões',\n",
        "\n",
        "'(Lop) Estruturas de decisão - Operadores Lógicos',\n",
        "\n",
        "'Repetição condicional - Lista Resolvida (LOP)',\n",
        "\n",
        "'Repetição condicional - Lista Prática (LOP)',\n",
        "\n",
        "'Repetição condicional - Lista de Exercícios (LOP)',\n",
        "\n",
        "'Repetição contada - Lista Resolvida (LOP)',\n",
        "\n",
        "'Repetição contada - Lista Prática (LOP)',\n",
        "\n",
        "'Repetição contada - Lista de Exercícios (LOP)',\n",
        "\n",
        "'Vetores - Lista Resolvida (LOP)',\n",
        "\n",
        "'Vetores - Lista de Exercícios (LOP)',\n",
        "\n",
        "'Vetores - Lista Prática (LOP)']\n",
        "\n",
        "provas_escolhidas = ['Prova LoP - Turma 05 - 2020.6']"
      ],
      "execution_count": null,
      "outputs": []
    },
    {
      "cell_type": "markdown",
      "metadata": {
        "id": "pVdq9H1_BD_Q"
      },
      "source": [
        "Função criada para selecionar questões específicas"
      ]
    },
    {
      "cell_type": "code",
      "metadata": {
        "id": "OSAX-RVKBJ4T"
      },
      "source": [
        "def select_questions(df_question_data,df_lop_lists):\n",
        "  #Selecionando onde List não é NaN\n",
        "  df_prov1 = df_question_data.dropna(subset=['list'])#.fillna(0)\n",
        "  #Selecionando onde Test não é NaN\n",
        "  #df_prov2 = df_question_data.dropna(subset=['test'])#.fillna(0)\n",
        "  #Concatenação para permitir um loc que busque em todas as instancias\n",
        "  pat1 = '|'.join(['({})'.format(re.escape(c)) for c in list(df_lop_lists['id_list'])])\n",
        "  #pat2 = '|'.join(['({})'.format(re.escape(c)) for c in provas_escolhidas])\n",
        "  #Busca\n",
        "  df_prov1 = df_prov1.loc[df_prov1['id_list'].str.contains(pat1)].copy()\n",
        "  #df_prov2 = df_prov2.loc[df_prov2['test'].str.contains(pat2)].copy()\n",
        "  #return pd.concat([df_prov1, df_prov2],axis=0).copy()\n",
        "  return df_prov1"
      ],
      "execution_count": null,
      "outputs": []
    },
    {
      "cell_type": "code",
      "metadata": {
        "colab": {
          "base_uri": "https://localhost:8080/",
          "height": 1000
        },
        "id": "M1WNGyv-2U3X",
        "outputId": "229eaf17-c7b5-4f3e-eb7d-eddebd92f10a"
      },
      "source": [
        "select_questions(df_question_data, df_lop_lists)"
      ],
      "execution_count": null,
      "outputs": [
        {
          "output_type": "stream",
          "text": [
            "/usr/local/lib/python3.6/dist-packages/pandas/core/strings.py:2001: UserWarning: This pattern has match groups. To actually get the groups, use str.extract.\n",
            "  return func(self, *args, **kwargs)\n"
          ],
          "name": "stderr"
        },
        {
          "output_type": "execute_result",
          "data": {
            "text/html": [
              "<div>\n",
              "<style scoped>\n",
              "    .dataframe tbody tr th:only-of-type {\n",
              "        vertical-align: middle;\n",
              "    }\n",
              "\n",
              "    .dataframe tbody tr th {\n",
              "        vertical-align: top;\n",
              "    }\n",
              "\n",
              "    .dataframe thead th {\n",
              "        text-align: right;\n",
              "    }\n",
              "</style>\n",
              "<table border=\"1\" class=\"dataframe\">\n",
              "  <thead>\n",
              "    <tr style=\"text-align: right;\">\n",
              "      <th></th>\n",
              "      <th>id_list</th>\n",
              "      <th>list</th>\n",
              "      <th>question</th>\n",
              "      <th>difficulty</th>\n",
              "      <th>tag1</th>\n",
              "      <th>tag2</th>\n",
              "      <th>tag3</th>\n",
              "      <th>tag4</th>\n",
              "      <th>tag5</th>\n",
              "    </tr>\n",
              "  </thead>\n",
              "  <tbody>\n",
              "    <tr>\n",
              "      <th>8</th>\n",
              "      <td>b4b1d413-503d-40ea-b93c-a21d1240d2e7</td>\n",
              "      <td>ITP - Alocação dinâmica</td>\n",
              "      <td>Alocação de matriz</td>\n",
              "      <td>3.0</td>\n",
              "      <td>Ponteiros</td>\n",
              "      <td>Matrizes</td>\n",
              "      <td>0</td>\n",
              "      <td>0</td>\n",
              "      <td>0</td>\n",
              "    </tr>\n",
              "    <tr>\n",
              "      <th>42</th>\n",
              "      <td>1f2fb866-0bea-4475-b0af-e4a060b0904a</td>\n",
              "      <td>ITP - Matriz - Lista</td>\n",
              "      <td>Batalha naval - 1 tiro</td>\n",
              "      <td>3.0</td>\n",
              "      <td>Matrizes</td>\n",
              "      <td>Estruturas de Repetição</td>\n",
              "      <td>0</td>\n",
              "      <td>0</td>\n",
              "      <td>0</td>\n",
              "    </tr>\n",
              "    <tr>\n",
              "      <th>48</th>\n",
              "      <td>17ac33bf-c1f7-4d1b-92b6-6f76f41265c7</td>\n",
              "      <td>ITP - Ponteiros 1 - Lista</td>\n",
              "      <td>Bingo (ponteiros)</td>\n",
              "      <td>3.0</td>\n",
              "      <td>Ponteiros</td>\n",
              "      <td>Matrizes</td>\n",
              "      <td>0</td>\n",
              "      <td>0</td>\n",
              "      <td>0</td>\n",
              "    </tr>\n",
              "    <tr>\n",
              "      <th>50</th>\n",
              "      <td>d92afa9b-2def-4faf-9889-17bdf68642bf</td>\n",
              "      <td>ITP - Recursão - Lista</td>\n",
              "      <td>Bubble sort recursivo</td>\n",
              "      <td>3.0</td>\n",
              "      <td>Recursão</td>\n",
              "      <td>0</td>\n",
              "      <td>0</td>\n",
              "      <td>0</td>\n",
              "      <td>0</td>\n",
              "    </tr>\n",
              "    <tr>\n",
              "      <th>51</th>\n",
              "      <td>d92afa9b-2def-4faf-9889-17bdf68642bf</td>\n",
              "      <td>ITP - Recursão - Lista</td>\n",
              "      <td>Bubble sort recursivo</td>\n",
              "      <td>3.0</td>\n",
              "      <td>Recursão</td>\n",
              "      <td>0</td>\n",
              "      <td>0</td>\n",
              "      <td>0</td>\n",
              "      <td>0</td>\n",
              "    </tr>\n",
              "    <tr>\n",
              "      <th>59</th>\n",
              "      <td>2f5b561c-c3f0-4566-a357-625f0edbdb01</td>\n",
              "      <td>ITP - Ponteiros 2 -  Lista</td>\n",
              "      <td>Cadastro pessoa</td>\n",
              "      <td>2.0</td>\n",
              "      <td>Tipos Estruturados</td>\n",
              "      <td>0</td>\n",
              "      <td>0</td>\n",
              "      <td>0</td>\n",
              "      <td>0</td>\n",
              "    </tr>\n",
              "    <tr>\n",
              "      <th>103</th>\n",
              "      <td>1415f543-dd94-4e9e-a594-b4396b01093e</td>\n",
              "      <td>IMD0012 - 2020.6: Lista Obrigatória, Semana 1</td>\n",
              "      <td>Comparação com switch</td>\n",
              "      <td>2.0</td>\n",
              "      <td>Estruturas Condicionais</td>\n",
              "      <td>0</td>\n",
              "      <td>0</td>\n",
              "      <td>0</td>\n",
              "      <td>0</td>\n",
              "    </tr>\n",
              "    <tr>\n",
              "      <th>109</th>\n",
              "      <td>b4b1d413-503d-40ea-b93c-a21d1240d2e7</td>\n",
              "      <td>ITP - Alocação dinâmica</td>\n",
              "      <td>Conjunto de inteiros</td>\n",
              "      <td>3.0</td>\n",
              "      <td>Funções</td>\n",
              "      <td>Ponteiros</td>\n",
              "      <td>0</td>\n",
              "      <td>0</td>\n",
              "      <td>0</td>\n",
              "    </tr>\n",
              "    <tr>\n",
              "      <th>110</th>\n",
              "      <td>fb49ae2e-562f-4b90-8b4b-c73e40507dc8</td>\n",
              "      <td>ITP - Strings - Lista</td>\n",
              "      <td>Contador de maiúsculas e minúsculas</td>\n",
              "      <td>1.0</td>\n",
              "      <td>Vetores</td>\n",
              "      <td>0</td>\n",
              "      <td>0</td>\n",
              "      <td>0</td>\n",
              "      <td>0</td>\n",
              "    </tr>\n",
              "    <tr>\n",
              "      <th>123</th>\n",
              "      <td>12211c46-2fda-4392-99ce-a0dfc306a5e1</td>\n",
              "      <td>ITP - Laços</td>\n",
              "      <td>Contar quantos são maiores de 18 anos</td>\n",
              "      <td>1.0</td>\n",
              "      <td>0</td>\n",
              "      <td>0</td>\n",
              "      <td>0</td>\n",
              "      <td>0</td>\n",
              "      <td>0</td>\n",
              "    </tr>\n",
              "    <tr>\n",
              "      <th>125</th>\n",
              "      <td>fb49ae2e-562f-4b90-8b4b-c73e40507dc8</td>\n",
              "      <td>ITP - Strings - Lista</td>\n",
              "      <td>Conversão de CASE</td>\n",
              "      <td>3.0</td>\n",
              "      <td>0</td>\n",
              "      <td>0</td>\n",
              "      <td>0</td>\n",
              "      <td>0</td>\n",
              "      <td>0</td>\n",
              "    </tr>\n",
              "    <tr>\n",
              "      <th>170</th>\n",
              "      <td>b4b1d413-503d-40ea-b93c-a21d1240d2e7</td>\n",
              "      <td>ITP - Alocação dinâmica</td>\n",
              "      <td>Desenho vetorial</td>\n",
              "      <td>1.0</td>\n",
              "      <td>Funções</td>\n",
              "      <td>Ponteiros</td>\n",
              "      <td>0</td>\n",
              "      <td>0</td>\n",
              "      <td>0</td>\n",
              "    </tr>\n",
              "    <tr>\n",
              "      <th>177</th>\n",
              "      <td>d4074937-3f5c-4666-ab4e-29f82d54ac6e</td>\n",
              "      <td>ITP - Funções - Lista</td>\n",
              "      <td>Dígito na posição (com função)</td>\n",
              "      <td>3.0</td>\n",
              "      <td>Funções</td>\n",
              "      <td>Estruturas de Repetição</td>\n",
              "      <td>0</td>\n",
              "      <td>0</td>\n",
              "      <td>0</td>\n",
              "    </tr>\n",
              "    <tr>\n",
              "      <th>265</th>\n",
              "      <td>6893c2d2-49b5-4476-8d0d-cf39313f0aec</td>\n",
              "      <td>ITP - Structs e Enumerações - Lista</td>\n",
              "      <td>Estrutura tipada</td>\n",
              "      <td>1.0</td>\n",
              "      <td>Funções</td>\n",
              "      <td>0</td>\n",
              "      <td>0</td>\n",
              "      <td>0</td>\n",
              "      <td>0</td>\n",
              "    </tr>\n",
              "    <tr>\n",
              "      <th>268</th>\n",
              "      <td>d92afa9b-2def-4faf-9889-17bdf68642bf</td>\n",
              "      <td>ITP - Recursão - Lista</td>\n",
              "      <td>Exponencial do Número Neperiano - Recursivo</td>\n",
              "      <td>2.0</td>\n",
              "      <td>Recursão</td>\n",
              "      <td>0</td>\n",
              "      <td>0</td>\n",
              "      <td>0</td>\n",
              "      <td>0</td>\n",
              "    </tr>\n",
              "    <tr>\n",
              "      <th>278</th>\n",
              "      <td>1415f543-dd94-4e9e-a594-b4396b01093e</td>\n",
              "      <td>IMD0012 - 2020.6: Lista Obrigatória, Semana 1</td>\n",
              "      <td>Fluxograma</td>\n",
              "      <td>2.0</td>\n",
              "      <td>0</td>\n",
              "      <td>0</td>\n",
              "      <td>0</td>\n",
              "      <td>0</td>\n",
              "      <td>0</td>\n",
              "    </tr>\n",
              "    <tr>\n",
              "      <th>316</th>\n",
              "      <td>d4074937-3f5c-4666-ab4e-29f82d54ac6e</td>\n",
              "      <td>ITP - Funções - Lista</td>\n",
              "      <td>Funções - Médias UFRN</td>\n",
              "      <td>3.0</td>\n",
              "      <td>Funções</td>\n",
              "      <td>0</td>\n",
              "      <td>0</td>\n",
              "      <td>0</td>\n",
              "      <td>0</td>\n",
              "    </tr>\n",
              "    <tr>\n",
              "      <th>317</th>\n",
              "      <td>d4074937-3f5c-4666-ab4e-29f82d54ac6e</td>\n",
              "      <td>ITP - Funções - Lista</td>\n",
              "      <td>Funções - número primo</td>\n",
              "      <td>2.0</td>\n",
              "      <td>Funções</td>\n",
              "      <td>0</td>\n",
              "      <td>0</td>\n",
              "      <td>0</td>\n",
              "      <td>0</td>\n",
              "    </tr>\n",
              "    <tr>\n",
              "      <th>318</th>\n",
              "      <td>d4074937-3f5c-4666-ab4e-29f82d54ac6e</td>\n",
              "      <td>ITP - Funções - Lista</td>\n",
              "      <td>Funções - ordenação vetor</td>\n",
              "      <td>3.0</td>\n",
              "      <td>Funções</td>\n",
              "      <td>0</td>\n",
              "      <td>0</td>\n",
              "      <td>0</td>\n",
              "      <td>0</td>\n",
              "    </tr>\n",
              "    <tr>\n",
              "      <th>325</th>\n",
              "      <td>1f2fb866-0bea-4475-b0af-e4a060b0904a</td>\n",
              "      <td>ITP - Matriz - Lista</td>\n",
              "      <td>Gomoku horizontal e vertical</td>\n",
              "      <td>3.0</td>\n",
              "      <td>Matrizes</td>\n",
              "      <td>Estruturas de Repetição</td>\n",
              "      <td>0</td>\n",
              "      <td>0</td>\n",
              "      <td>0</td>\n",
              "    </tr>\n",
              "    <tr>\n",
              "      <th>364</th>\n",
              "      <td>2f5b561c-c3f0-4566-a357-625f0edbdb01</td>\n",
              "      <td>ITP - Ponteiros 2 -  Lista</td>\n",
              "      <td>Inserir string em uma posição</td>\n",
              "      <td>1.0</td>\n",
              "      <td>Tipos Estruturados</td>\n",
              "      <td>0</td>\n",
              "      <td>0</td>\n",
              "      <td>0</td>\n",
              "      <td>0</td>\n",
              "    </tr>\n",
              "    <tr>\n",
              "      <th>373</th>\n",
              "      <td>17ac33bf-c1f7-4d1b-92b6-6f76f41265c7</td>\n",
              "      <td>ITP - Ponteiros 1 - Lista</td>\n",
              "      <td>Inversor de números (ponteiros)</td>\n",
              "      <td>1.0</td>\n",
              "      <td>Ponteiros</td>\n",
              "      <td>0</td>\n",
              "      <td>0</td>\n",
              "      <td>0</td>\n",
              "      <td>0</td>\n",
              "    </tr>\n",
              "    <tr>\n",
              "      <th>409</th>\n",
              "      <td>d92afa9b-2def-4faf-9889-17bdf68642bf</td>\n",
              "      <td>ITP - Recursão - Lista</td>\n",
              "      <td>Loop com recursão</td>\n",
              "      <td>2.0</td>\n",
              "      <td>Recursão</td>\n",
              "      <td>0</td>\n",
              "      <td>0</td>\n",
              "      <td>0</td>\n",
              "      <td>0</td>\n",
              "    </tr>\n",
              "    <tr>\n",
              "      <th>446</th>\n",
              "      <td>1f2fb866-0bea-4475-b0af-e4a060b0904a</td>\n",
              "      <td>ITP - Matriz - Lista</td>\n",
              "      <td>Matriz identidade</td>\n",
              "      <td>1.0</td>\n",
              "      <td>0</td>\n",
              "      <td>0</td>\n",
              "      <td>0</td>\n",
              "      <td>0</td>\n",
              "      <td>0</td>\n",
              "    </tr>\n",
              "    <tr>\n",
              "      <th>457</th>\n",
              "      <td>6893c2d2-49b5-4476-8d0d-cf39313f0aec</td>\n",
              "      <td>ITP - Structs e Enumerações - Lista</td>\n",
              "      <td>Matrizes de String</td>\n",
              "      <td>1.0</td>\n",
              "      <td>Funções</td>\n",
              "      <td>0</td>\n",
              "      <td>0</td>\n",
              "      <td>0</td>\n",
              "      <td>0</td>\n",
              "    </tr>\n",
              "    <tr>\n",
              "      <th>458</th>\n",
              "      <td>17ac33bf-c1f7-4d1b-92b6-6f76f41265c7</td>\n",
              "      <td>ITP - Ponteiros 1 - Lista</td>\n",
              "      <td>Máximo e mínimo de matriz quadrada (ponteiros)</td>\n",
              "      <td>2.0</td>\n",
              "      <td>Ponteiros</td>\n",
              "      <td>Matrizes</td>\n",
              "      <td>0</td>\n",
              "      <td>0</td>\n",
              "      <td>0</td>\n",
              "    </tr>\n",
              "    <tr>\n",
              "      <th>470</th>\n",
              "      <td>8123c646-d8a5-46ab-8331-fd152f7cbf22</td>\n",
              "      <td>IMD0012 - 2020.6: Lista Preparatória, Semana 3</td>\n",
              "      <td>Média de 3 notas</td>\n",
              "      <td>2.0</td>\n",
              "      <td>Estruturas Condicionais</td>\n",
              "      <td>Estruturas de Repetição</td>\n",
              "      <td>Vetores</td>\n",
              "      <td>0</td>\n",
              "      <td>0</td>\n",
              "    </tr>\n",
              "    <tr>\n",
              "      <th>525</th>\n",
              "      <td>d92afa9b-2def-4faf-9889-17bdf68642bf</td>\n",
              "      <td>ITP - Recursão - Lista</td>\n",
              "      <td>Números de Fibonacci em um intervalo</td>\n",
              "      <td>2.0</td>\n",
              "      <td>Recursão</td>\n",
              "      <td>0</td>\n",
              "      <td>0</td>\n",
              "      <td>0</td>\n",
              "      <td>0</td>\n",
              "    </tr>\n",
              "    <tr>\n",
              "      <th>529</th>\n",
              "      <td>6893c2d2-49b5-4476-8d0d-cf39313f0aec</td>\n",
              "      <td>ITP - Structs e Enumerações - Lista</td>\n",
              "      <td>Numeros Fracionários</td>\n",
              "      <td>2.0</td>\n",
              "      <td>Funções</td>\n",
              "      <td>0</td>\n",
              "      <td>0</td>\n",
              "      <td>0</td>\n",
              "      <td>0</td>\n",
              "    </tr>\n",
              "    <tr>\n",
              "      <th>548</th>\n",
              "      <td>6893c2d2-49b5-4476-8d0d-cf39313f0aec</td>\n",
              "      <td>ITP - Structs e Enumerações - Lista</td>\n",
              "      <td>Operações Enumeradas</td>\n",
              "      <td>3.0</td>\n",
              "      <td>String</td>\n",
              "      <td>0</td>\n",
              "      <td>0</td>\n",
              "      <td>0</td>\n",
              "      <td>0</td>\n",
              "    </tr>\n",
              "    <tr>\n",
              "      <th>569</th>\n",
              "      <td>fb49ae2e-562f-4b90-8b4b-c73e40507dc8</td>\n",
              "      <td>ITP - Strings - Lista</td>\n",
              "      <td>Palíndromo</td>\n",
              "      <td>1.0</td>\n",
              "      <td>0</td>\n",
              "      <td>0</td>\n",
              "      <td>0</td>\n",
              "      <td>0</td>\n",
              "      <td>0</td>\n",
              "    </tr>\n",
              "    <tr>\n",
              "      <th>580</th>\n",
              "      <td>12211c46-2fda-4392-99ce-a0dfc306a5e1</td>\n",
              "      <td>ITP - Laços</td>\n",
              "      <td>Pares, ímpares, positivos e negativos</td>\n",
              "      <td>2.0</td>\n",
              "      <td>Estruturas Condicionais</td>\n",
              "      <td>Estruturas de Repetição</td>\n",
              "      <td>Estruturas de Repetição Contada</td>\n",
              "      <td>0</td>\n",
              "      <td>0</td>\n",
              "    </tr>\n",
              "    <tr>\n",
              "      <th>705</th>\n",
              "      <td>8123c646-d8a5-46ab-8331-fd152f7cbf22</td>\n",
              "      <td>IMD0012 - 2020.6: Lista Preparatória, Semana 3</td>\n",
              "      <td>Rotação de bits</td>\n",
              "      <td>3.0</td>\n",
              "      <td>Vetores</td>\n",
              "      <td>0</td>\n",
              "      <td>0</td>\n",
              "      <td>0</td>\n",
              "      <td>0</td>\n",
              "    </tr>\n",
              "    <tr>\n",
              "      <th>753</th>\n",
              "      <td>1415f543-dd94-4e9e-a594-b4396b01093e</td>\n",
              "      <td>IMD0012 - 2020.6: Lista Obrigatória, Semana 1</td>\n",
              "      <td>Soma de dois números pares</td>\n",
              "      <td>2.0</td>\n",
              "      <td>Estruturas Condicionais</td>\n",
              "      <td>0</td>\n",
              "      <td>0</td>\n",
              "      <td>0</td>\n",
              "      <td>0</td>\n",
              "    </tr>\n",
              "    <tr>\n",
              "      <th>754</th>\n",
              "      <td>8123c646-d8a5-46ab-8331-fd152f7cbf22</td>\n",
              "      <td>IMD0012 - 2020.6: Lista Preparatória, Semana 3</td>\n",
              "      <td>Soma de dois vetores</td>\n",
              "      <td>1.0</td>\n",
              "      <td>Vetores</td>\n",
              "      <td>0</td>\n",
              "      <td>0</td>\n",
              "      <td>0</td>\n",
              "      <td>0</td>\n",
              "    </tr>\n",
              "    <tr>\n",
              "      <th>755</th>\n",
              "      <td>17ac33bf-c1f7-4d1b-92b6-6f76f41265c7</td>\n",
              "      <td>ITP - Ponteiros 1 - Lista</td>\n",
              "      <td>Soma de dois vetores (ponteiros)</td>\n",
              "      <td>1.0</td>\n",
              "      <td>Ponteiros</td>\n",
              "      <td>Vetores</td>\n",
              "      <td>0</td>\n",
              "      <td>0</td>\n",
              "      <td>0</td>\n",
              "    </tr>\n",
              "    <tr>\n",
              "      <th>757</th>\n",
              "      <td>1f2fb866-0bea-4475-b0af-e4a060b0904a</td>\n",
              "      <td>ITP - Matriz - Lista</td>\n",
              "      <td>Soma de matrizes</td>\n",
              "      <td>2.0</td>\n",
              "      <td>Matrizes</td>\n",
              "      <td>Estruturas de Repetição</td>\n",
              "      <td>0</td>\n",
              "      <td>0</td>\n",
              "      <td>0</td>\n",
              "    </tr>\n",
              "    <tr>\n",
              "      <th>760</th>\n",
              "      <td>12211c46-2fda-4392-99ce-a0dfc306a5e1</td>\n",
              "      <td>ITP - Laços</td>\n",
              "      <td>Soma de valores ímpares</td>\n",
              "      <td>3.0</td>\n",
              "      <td>Estruturas de Repetição</td>\n",
              "      <td>Estruturas de Repetição Contada</td>\n",
              "      <td>0</td>\n",
              "      <td>0</td>\n",
              "      <td>0</td>\n",
              "    </tr>\n",
              "    <tr>\n",
              "      <th>764</th>\n",
              "      <td>12211c46-2fda-4392-99ce-a0dfc306a5e1</td>\n",
              "      <td>ITP - Laços</td>\n",
              "      <td>Soma dos dígitos</td>\n",
              "      <td>3.0</td>\n",
              "      <td>0</td>\n",
              "      <td>0</td>\n",
              "      <td>0</td>\n",
              "      <td>0</td>\n",
              "      <td>0</td>\n",
              "    </tr>\n",
              "    <tr>\n",
              "      <th>796</th>\n",
              "      <td>fb49ae2e-562f-4b90-8b4b-c73e40507dc8</td>\n",
              "      <td>ITP - Strings - Lista</td>\n",
              "      <td>Substring</td>\n",
              "      <td>2.0</td>\n",
              "      <td>0</td>\n",
              "      <td>0</td>\n",
              "      <td>0</td>\n",
              "      <td>0</td>\n",
              "      <td>0</td>\n",
              "    </tr>\n",
              "    <tr>\n",
              "      <th>831</th>\n",
              "      <td>8123c646-d8a5-46ab-8331-fd152f7cbf22</td>\n",
              "      <td>IMD0012 - 2020.6: Lista Preparatória, Semana 3</td>\n",
              "      <td>União e ordenação de vetores</td>\n",
              "      <td>3.0</td>\n",
              "      <td>Vetores</td>\n",
              "      <td>0</td>\n",
              "      <td>0</td>\n",
              "      <td>0</td>\n",
              "      <td>0</td>\n",
              "    </tr>\n",
              "  </tbody>\n",
              "</table>\n",
              "</div>"
            ],
            "text/plain": [
              "                                  id_list  ... tag5\n",
              "8    b4b1d413-503d-40ea-b93c-a21d1240d2e7  ...    0\n",
              "42   1f2fb866-0bea-4475-b0af-e4a060b0904a  ...    0\n",
              "48   17ac33bf-c1f7-4d1b-92b6-6f76f41265c7  ...    0\n",
              "50   d92afa9b-2def-4faf-9889-17bdf68642bf  ...    0\n",
              "51   d92afa9b-2def-4faf-9889-17bdf68642bf  ...    0\n",
              "59   2f5b561c-c3f0-4566-a357-625f0edbdb01  ...    0\n",
              "103  1415f543-dd94-4e9e-a594-b4396b01093e  ...    0\n",
              "109  b4b1d413-503d-40ea-b93c-a21d1240d2e7  ...    0\n",
              "110  fb49ae2e-562f-4b90-8b4b-c73e40507dc8  ...    0\n",
              "123  12211c46-2fda-4392-99ce-a0dfc306a5e1  ...    0\n",
              "125  fb49ae2e-562f-4b90-8b4b-c73e40507dc8  ...    0\n",
              "170  b4b1d413-503d-40ea-b93c-a21d1240d2e7  ...    0\n",
              "177  d4074937-3f5c-4666-ab4e-29f82d54ac6e  ...    0\n",
              "265  6893c2d2-49b5-4476-8d0d-cf39313f0aec  ...    0\n",
              "268  d92afa9b-2def-4faf-9889-17bdf68642bf  ...    0\n",
              "278  1415f543-dd94-4e9e-a594-b4396b01093e  ...    0\n",
              "316  d4074937-3f5c-4666-ab4e-29f82d54ac6e  ...    0\n",
              "317  d4074937-3f5c-4666-ab4e-29f82d54ac6e  ...    0\n",
              "318  d4074937-3f5c-4666-ab4e-29f82d54ac6e  ...    0\n",
              "325  1f2fb866-0bea-4475-b0af-e4a060b0904a  ...    0\n",
              "364  2f5b561c-c3f0-4566-a357-625f0edbdb01  ...    0\n",
              "373  17ac33bf-c1f7-4d1b-92b6-6f76f41265c7  ...    0\n",
              "409  d92afa9b-2def-4faf-9889-17bdf68642bf  ...    0\n",
              "446  1f2fb866-0bea-4475-b0af-e4a060b0904a  ...    0\n",
              "457  6893c2d2-49b5-4476-8d0d-cf39313f0aec  ...    0\n",
              "458  17ac33bf-c1f7-4d1b-92b6-6f76f41265c7  ...    0\n",
              "470  8123c646-d8a5-46ab-8331-fd152f7cbf22  ...    0\n",
              "525  d92afa9b-2def-4faf-9889-17bdf68642bf  ...    0\n",
              "529  6893c2d2-49b5-4476-8d0d-cf39313f0aec  ...    0\n",
              "548  6893c2d2-49b5-4476-8d0d-cf39313f0aec  ...    0\n",
              "569  fb49ae2e-562f-4b90-8b4b-c73e40507dc8  ...    0\n",
              "580  12211c46-2fda-4392-99ce-a0dfc306a5e1  ...    0\n",
              "705  8123c646-d8a5-46ab-8331-fd152f7cbf22  ...    0\n",
              "753  1415f543-dd94-4e9e-a594-b4396b01093e  ...    0\n",
              "754  8123c646-d8a5-46ab-8331-fd152f7cbf22  ...    0\n",
              "755  17ac33bf-c1f7-4d1b-92b6-6f76f41265c7  ...    0\n",
              "757  1f2fb866-0bea-4475-b0af-e4a060b0904a  ...    0\n",
              "760  12211c46-2fda-4392-99ce-a0dfc306a5e1  ...    0\n",
              "764  12211c46-2fda-4392-99ce-a0dfc306a5e1  ...    0\n",
              "796  fb49ae2e-562f-4b90-8b4b-c73e40507dc8  ...    0\n",
              "831  8123c646-d8a5-46ab-8331-fd152f7cbf22  ...    0\n",
              "\n",
              "[41 rows x 9 columns]"
            ]
          },
          "metadata": {
            "tags": []
          },
          "execution_count": 45
        }
      ]
    },
    {
      "cell_type": "markdown",
      "metadata": {
        "id": "jU4EIevUPzqH"
      },
      "source": [
        "Função para avaliar a perfomance por lista"
      ]
    },
    {
      "cell_type": "code",
      "metadata": {
        "id": "3B0Kx6BKPfK6"
      },
      "source": [
        "def performance_list(df_submission, df_question_data = pd.DataFrame()):  \n",
        "  #Essa função necessita receber as submissões de uma turma ---------- depois podemos incrementar essa função ao ter uma turma associada e agrupar por elas\n",
        "  #Me traz as porcentagens maximas de acerto por questão\n",
        "  df_performance_list = df_submission.groupby(['user','registration','list','question'])['hitPercentage'].max().reset_index()\n",
        "  #Soma as porcentagens de uma lista unica\n",
        "  df_performance_list = df_performance_list.groupby(['user','registration','list'])['hitPercentage'].sum().reset_index()\n",
        "  #Renomeando para melhorar entendimento\n",
        "  df_performance_list.rename(columns={'hitPercentage':'totalHitPercentage'}, inplace = True)\n",
        "  if df_question_data.empty == True:\n",
        "    #Usando a função de dados de questão para ter informações sobre que questões estão associadas a lista\n",
        "    df_question_data = question_data()\n",
        "  #Agrupa por lista e questão para ter apenas uma questão de cada, a operação não importa muito, apenas existe para completar o agrupamento --------- pode ser uma boa trocar por drop_duplicates\n",
        "  df_question_data = df_question_data.groupby(['list','question'])['id_list'].count().reset_index()\n",
        "  #Conta quantas questões tem por lista\n",
        "  df_question_data = df_question_data.groupby(['list'])['question'].count().reset_index()\n",
        "  #Renomeando lista\n",
        "  df_question_data.rename(columns={'question':'totalQuestionsList'}, inplace = True)\n",
        "  #Merge\n",
        "  df_performance_list = df_performance_list.merge(df_question_data, on = 'list')\n",
        "  #Média de acerto por lista\n",
        "  df_performance_list['mediaList'] = df_performance_list['totalHitPercentage'] / df_performance_list['totalQuestionsList']\n",
        "  return df_performance_list"
      ],
      "execution_count": null,
      "outputs": []
    },
    {
      "cell_type": "markdown",
      "metadata": {
        "id": "sLsWhEZ2CIr_"
      },
      "source": [
        "### 3.2 Funções de Gráficos"
      ]
    },
    {
      "cell_type": "markdown",
      "metadata": {
        "id": "R7lq048T5cvn"
      },
      "source": [
        "Função do gráfico de barras que, por lista, faz a contagem de quem fez mais e menos de X% da lista. Necessita de passar a performance do aluno por lista"
      ]
    },
    {
      "cell_type": "code",
      "metadata": {
        "id": "btbzysrv5cF6"
      },
      "source": [
        "def graph_more_less_list_class(df_performance_list,value = 70.0):#value == 70 ou outro numero\n",
        "  #Aqui eu conto, por lista, quantos tiraram mais de 70% de acerto\n",
        "  df_more = df_performance_list[df_performance_list['mediaList'] >= value].groupby('list')['mediaList'].count().reset_index(name='more')\n",
        "  #E nesse conta quantos tiveram menos de 70%\n",
        "  df_less = df_performance_list[df_performance_list['mediaList'] < value].groupby('list')['mediaList'].count().reset_index(name='less')\n",
        "  #Aqui junta ambos os dataframes, usando o outer, que, se por acaso não tiver uma ocorrência de uma lista em um dos dataframes, mesmo assim eles vão ser adicionados, é união dos conjuntos\n",
        "  df_less_more = pd.merge(df_more, df_less, on = 'list', how = 'outer')\n",
        "  #E, se caso acontecer a situação de um não existir, substituimos o nan por 0\n",
        "  df_less_more.replace(np.NaN, 0, inplace = True)\n",
        "  return df_less_more.to_json('graph_more_less_list_class.json',force_ascii=False, orient='records') ############# por hora essa função tamebm esta realizando downlaod"
      ],
      "execution_count": null,
      "outputs": []
    },
    {
      "cell_type": "markdown",
      "metadata": {
        "id": "ihcn9Bn9QSFy"
      },
      "source": [
        "Esse codigo tem como objetivo transformar uma coluna que tenha varias categorias em uma para cada, e associar a este campo um valor de outra coluna que era correspondente. Por exemplo,\n",
        "\n",
        "user - list - mediaList\n",
        "\n",
        "joao - abcd - 9.8\n",
        "\n",
        "jony - efcg - 5.9\n",
        "\n",
        "para:\n",
        "\n",
        "user - abcd - efcg \n",
        "\n",
        "joao - 9.8  - 0/nan\n",
        "\n",
        "jony - 0/nan - 5.9 \n",
        "\n",
        "Assim, ele necessita receber a **column** que será criada o dummie, e o **value**, que será o valor associado a nova coluna"
      ]
    },
    {
      "cell_type": "code",
      "metadata": {
        "id": "yQshilmiJiLz"
      },
      "source": [
        "'''\n",
        "#Usando dummies para transformar cada lista em uma coluna. O Dummies vai inserir 1 em cada ocorrencia\n",
        "df = pd.get_dummies(df,columns=['list'],prefix='',prefix_sep='')\n",
        "#Cria um dataframe provisório\n",
        "df_prov = pd.DataFrame()\n",
        "#Campo do valor que irei inserir\n",
        "df_mediaList = df['mediaList']\n",
        "#Apagando colunas desnecessárias\n",
        "df = df.drop(columns=['totalHitPercentage','totalQuestionsList','mediaList'])\n",
        "#Iterando sobre todo as submissões\n",
        "for i in range(len(df.user)):\n",
        "  #Substituindo o 1 do dummies pela média da lista\n",
        "  df_prov = df_prov.append(df.iloc[i,:].replace(1,df_mediaList[i]))\n",
        "#Agrupando para todas as linhas se tornarem apenas 1 ocorrência de cada aluno\n",
        "df_prov = df_prov.groupby(['user','registration']).sum().reset_index()\n",
        "'''"
      ],
      "execution_count": null,
      "outputs": []
    },
    {
      "cell_type": "markdown",
      "metadata": {
        "id": "aPsbzu40jktx"
      },
      "source": [
        "Função do gráfico de barras que, por aluno, calcula a média do aluno por lista "
      ]
    },
    {
      "cell_type": "code",
      "metadata": {
        "id": "VwAFPTBAjkeE"
      },
      "source": [
        "def graph_performance_student_list(df_performance_list):\n",
        "  return df_performance_list.sort_values(by='user').drop(columns=['totalHitPercentage','totalQuestionsList']).to_json('graph_performance_student_list.json',force_ascii=False,orient='records')"
      ],
      "execution_count": null,
      "outputs": []
    },
    {
      "cell_type": "markdown",
      "metadata": {
        "id": "ibCTW9blyG0b"
      },
      "source": [
        "Função do grafico de distribuição de notas por lista. Necessita da performance em uma lista"
      ]
    },
    {
      "cell_type": "code",
      "metadata": {
        "id": "xmX_TtzQALyR"
      },
      "source": [
        "def graph_distribution_notes_list(df_performance_list):\n",
        "  #Agrupa por lista, e conta as ocorrências\n",
        "  return df_performance_list.groupby('list')['mediaList'].apply(lambda group: group.values.tolist()).to_json('df_distribuition_notes_list.json',force_ascii=False,orient='index')"
      ],
      "execution_count": null,
      "outputs": []
    },
    {
      "cell_type": "markdown",
      "metadata": {
        "id": "OnKD95YdJV6Z"
      },
      "source": [
        "Não mexer"
      ]
    },
    {
      "cell_type": "code",
      "metadata": {
        "id": "M_0MOygqJXNa"
      },
      "source": [
        "#df_teste.groupby('user')[['list','mediaList']].apply(lambda group: group.values.tolist()).to_json(force_ascii=False).replace('{\"','{\"students\":[{\"user\":\"').replace(\":[[\",',\"lists\":[{\"list\":').replace(\":]],\",',\"lists\":}]').replace(']],\"','}],\"user\":\"')"
      ],
      "execution_count": null,
      "outputs": []
    },
    {
      "cell_type": "markdown",
      "metadata": {
        "id": "iqHcj6rDyulr"
      },
      "source": [
        "### FUNÇÕES DUPLAS"
      ]
    },
    {
      "cell_type": "markdown",
      "metadata": {
        "id": "D9_1bbECyxjn"
      },
      "source": [
        "Por hora não vou mexer nas outras afim de preservar diante algum bug. As novas com duplas função prova/lista vão ficar aqui por hora"
      ]
    },
    {
      "cell_type": "markdown",
      "metadata": {
        "id": "YuyVGOpc1JXv"
      },
      "source": [
        "Função para avaliar a performance em uma lista ou prova. Necessita receber agora um label que informa se 'list' ou 'test'"
      ]
    },
    {
      "cell_type": "code",
      "metadata": {
        "id": "YTHMN3agyw-R"
      },
      "source": [
        "def performance_list_test(df_submission, listORtest, df_question_data = pd.DataFrame()):  \r\n",
        "  #Essa função necessita receber as submissões de uma turma ---------- depois podemos incrementar essa função ao ter uma turma associada e agrupar por elas\r\n",
        "  #Me traz as porcentagens maximas de acerto por questão\r\n",
        "  df_performance = df_submission.groupby(['user','registration',listORtest,'question'])['hitPercentage'].max().reset_index()\r\n",
        "  #Soma as porcentagens de uma lista/prova unica\r\n",
        "  df_performance = df_performance.groupby(['user','registration',listORtest])['hitPercentage'].sum().reset_index()\r\n",
        "  #Renomeando para melhorar entendimento\r\n",
        "  df_performance.rename(columns={'hitPercentage':'totalHitPercentage'}, inplace = True)\r\n",
        "  if df_question_data.empty == True:\r\n",
        "    #Usando a função de dados de questão para ter informações sobre que questões estão associadas a lista\r\n",
        "    df_question_data = question_data()\r\n",
        "  #Agrupa por lista e questão para ter apenas uma questão de cada, a operação não importa muito, apenas existe para completar o agrupamento --------- pode ser uma boa trocar por drop_duplicates\r\n",
        "  df_question_data = df_question_data.groupby([listORtest,'question'])['id_'+listORtest].count().reset_index()\r\n",
        "  #Conta quantas questões tem por lista\r\n",
        "  df_question_data = df_question_data.groupby([listORtest])['question'].count().reset_index()\r\n",
        "  #Renomeando lista\r\n",
        "  df_question_data.rename(columns={'question':'totalQuestions'+listORtest}, inplace = True)\r\n",
        "  #Merge\r\n",
        "  df_performance = df_performance.merge(df_question_data, on = listORtest)\r\n",
        "  #Média de acerto por lista\r\n",
        "  df_performance['media'+listORtest] = df_performance['totalHitPercentage'] / df_performance['totalQuestions'+listORtest]\r\n",
        "  return df_performance"
      ],
      "execution_count": null,
      "outputs": []
    },
    {
      "cell_type": "markdown",
      "metadata": {
        "id": "wKN0Qb6F1An-"
      },
      "source": [
        "Função do gráfico de barras que, por lista, faz a contagem de quem fez mais e menos de X% da lista. Necessita de passar a performance do aluno por lista/prova e receber agora um label que informa se 'list' ou 'test'"
      ]
    },
    {
      "cell_type": "code",
      "metadata": {
        "id": "u6Se5qIb07gJ"
      },
      "source": [
        "def graph_more_less_list_test_class(df_performance_list_test,df_class,data,value = 70.0,listORtest = ['list']):#value == 70 ou outro numero\r\n",
        "  #Aqui eu conto, por lista, quantos tiraram mais de % de acerto escolhida\r\n",
        "  df_more = df_performance_list_test[df_performance_list_test['media'+listORtest] >= value].groupby(listORtest)['media'+listORtest].count().reset_index(name='more')\r\n",
        "  #E nesse conta quantos tiveram menos da % escolhida\r\n",
        "  df_less = df_performance_list_test[df_performance_list_test['media'+listORtest] < value].groupby(listORtest)['media'+listORtest].count().reset_index(name='less')\r\n",
        "  #Aqui junta ambos os dataframes, usando o outer, que, se por acaso não tiver uma ocorrência de uma lista em um dos dataframes, mesmo assim eles vão ser adicionados, é união dos conjuntos\r\n",
        "  df_less_more = pd.merge(df_more, df_less, on = listORtest, how = 'outer')\r\n",
        "  #E, se caso acontecer a situação de um não existir, substituimos o nan por 0\r\n",
        "  df_less_more.replace(np.NaN, 0, inplace = True)\r\n",
        "  #Total de alunos na turma\r\n",
        "  total = df_class.loc[df_class['id_class'] == data.iloc[0,0],'studentsCount'].max()\r\n",
        "  df_less_more['missing'] = total - (df_less_more['more'] + df_less_more['less'])\r\n",
        "  return df_less_more#.to_json('graph_more_less_'+listORtest+'_class.json',fo1rce_ascii=False, orient='records') ############# por hora essa função tamebm esta realizando downlaod"
      ],
      "execution_count": null,
      "outputs": []
    },
    {
      "cell_type": "markdown",
      "metadata": {
        "id": "d6CPk_dAAUCE"
      },
      "source": [
        "Função do gráfico de barras que, por aluno, calcula a média do aluno por lista/prova"
      ]
    },
    {
      "cell_type": "code",
      "metadata": {
        "id": "0NOnpIL-APTc"
      },
      "source": [
        "def graph_performance_student_list_test(df_performance_list_test,listORtest = ['list']):\r\n",
        "  return df_performance_list_test.sort_values(by='user').drop(columns=['totalHitPercentage','totalQuestions'+listORtest])#.to_json('graph_performance_student_'+listORtest+'.json',force_ascii=False,orient='records')"
      ],
      "execution_count": null,
      "outputs": []
    },
    {
      "cell_type": "markdown",
      "metadata": {
        "id": "kaGpFuLmJC70"
      },
      "source": [
        "Testes"
      ]
    },
    {
      "cell_type": "code",
      "metadata": {
        "id": "uhAmMuJ0A_Yk"
      },
      "source": [
        "turma = ['f2dd7bef-5b5d-4cb3-9efa-aa8652af0605']\n",
        "df_submission = lop_submission(pd.DataFrame(turma, columns = ['id_class']))"
      ],
      "execution_count": null,
      "outputs": []
    },
    {
      "cell_type": "code",
      "metadata": {
        "id": "_p86uLtmw6Zn"
      },
      "source": [
        "df_question_data = question_data()"
      ],
      "execution_count": null,
      "outputs": []
    },
    {
      "cell_type": "code",
      "metadata": {
        "id": "KQfvgvO669Ur"
      },
      "source": [
        "df_performance_list = performance_list_test(df_submission, df_question_data,'list')\r\n",
        "df_performance_test = performance_list_test(df_submission, df_question_data,'test')"
      ],
      "execution_count": null,
      "outputs": []
    },
    {
      "cell_type": "code",
      "metadata": {
        "colab": {
          "base_uri": "https://localhost:8080/"
        },
        "id": "HFCLarsPIwkO",
        "outputId": "af4d09f0-ff6b-4882-9774-98217924503c"
      },
      "source": [
        "df_class.loc[df_class['id_class'] == turma[0],'studentsCount'].max()"
      ],
      "execution_count": null,
      "outputs": [
        {
          "output_type": "execute_result",
          "data": {
            "text/plain": [
              "122.0"
            ]
          },
          "metadata": {
            "tags": []
          },
          "execution_count": 23
        }
      ]
    },
    {
      "cell_type": "code",
      "metadata": {
        "id": "ZzBGGnhX8oAm"
      },
      "source": [
        "df_performance_list.head(2)"
      ],
      "execution_count": null,
      "outputs": []
    },
    {
      "cell_type": "code",
      "metadata": {
        "id": "_oymqDAw9u3q"
      },
      "source": [
        "df_performance_test.head(2)"
      ],
      "execution_count": null,
      "outputs": []
    },
    {
      "cell_type": "code",
      "metadata": {
        "colab": {
          "base_uri": "https://localhost:8080/",
          "height": 111
        },
        "id": "YfbilnAa-lhT",
        "outputId": "7c7b85c9-39ca-4305-ee20-4181994c0ce0"
      },
      "source": [
        "graph_more_less_list_class(df_performance_list,df_class,70.0,'list')"
      ],
      "execution_count": null,
      "outputs": [
        {
          "output_type": "execute_result",
          "data": {
            "text/html": [
              "<div>\n",
              "<style scoped>\n",
              "    .dataframe tbody tr th:only-of-type {\n",
              "        vertical-align: middle;\n",
              "    }\n",
              "\n",
              "    .dataframe tbody tr th {\n",
              "        vertical-align: top;\n",
              "    }\n",
              "\n",
              "    .dataframe thead th {\n",
              "        text-align: right;\n",
              "    }\n",
              "</style>\n",
              "<table border=\"1\" class=\"dataframe\">\n",
              "  <thead>\n",
              "    <tr style=\"text-align: right;\">\n",
              "      <th></th>\n",
              "      <th>list</th>\n",
              "      <th>more</th>\n",
              "      <th>less</th>\n",
              "      <th>missing</th>\n",
              "    </tr>\n",
              "  </thead>\n",
              "  <tbody>\n",
              "    <tr>\n",
              "      <th>0</th>\n",
              "      <td>(Lop) Estruturas de decisão - Múltiplas decisões</td>\n",
              "      <td>36</td>\n",
              "      <td>0.0</td>\n",
              "      <td>86.0</td>\n",
              "    </tr>\n",
              "    <tr>\n",
              "      <th>1</th>\n",
              "      <td>(Lop) Estruturas de decisão - Operadores Lógicos</td>\n",
              "      <td>33</td>\n",
              "      <td>2.0</td>\n",
              "      <td>87.0</td>\n",
              "    </tr>\n",
              "  </tbody>\n",
              "</table>\n",
              "</div>"
            ],
            "text/plain": [
              "                                               list  more  less  missing\n",
              "0  (Lop) Estruturas de decisão - Múltiplas decisões    36   0.0     86.0\n",
              "1  (Lop) Estruturas de decisão - Operadores Lógicos    33   2.0     87.0"
            ]
          },
          "metadata": {
            "tags": []
          },
          "execution_count": 22
        }
      ]
    },
    {
      "cell_type": "code",
      "metadata": {
        "id": "9YomnnEr_J4Y"
      },
      "source": [
        "graph_more_less_list_class(df_performance_test,df_class,70.0,'test')#.head(2)"
      ],
      "execution_count": null,
      "outputs": []
    },
    {
      "cell_type": "code",
      "metadata": {
        "colab": {
          "base_uri": "https://localhost:8080/",
          "height": 419
        },
        "id": "idplgZ-S_F_0",
        "outputId": "d3c3c73f-74dd-416d-ac83-ba5f24b6711b"
      },
      "source": [
        "df_performance_list"
      ],
      "execution_count": null,
      "outputs": [
        {
          "output_type": "execute_result",
          "data": {
            "text/html": [
              "<div>\n",
              "<style scoped>\n",
              "    .dataframe tbody tr th:only-of-type {\n",
              "        vertical-align: middle;\n",
              "    }\n",
              "\n",
              "    .dataframe tbody tr th {\n",
              "        vertical-align: top;\n",
              "    }\n",
              "\n",
              "    .dataframe thead th {\n",
              "        text-align: right;\n",
              "    }\n",
              "</style>\n",
              "<table border=\"1\" class=\"dataframe\">\n",
              "  <thead>\n",
              "    <tr style=\"text-align: right;\">\n",
              "      <th></th>\n",
              "      <th>user</th>\n",
              "      <th>registration</th>\n",
              "      <th>list</th>\n",
              "      <th>totalHitPercentage</th>\n",
              "      <th>totalQuestionslist</th>\n",
              "      <th>medialist</th>\n",
              "    </tr>\n",
              "  </thead>\n",
              "  <tbody>\n",
              "    <tr>\n",
              "      <th>0</th>\n",
              "      <td>ANDERSON DA SILVA VALE</td>\n",
              "      <td>20190148464</td>\n",
              "      <td>Aula - Funções Aritméticas</td>\n",
              "      <td>700.0</td>\n",
              "      <td>7</td>\n",
              "      <td>100.000000</td>\n",
              "    </tr>\n",
              "    <tr>\n",
              "      <th>1</th>\n",
              "      <td>Alex Eduardo</td>\n",
              "      <td>20190084106</td>\n",
              "      <td>Aula - Funções Aritméticas</td>\n",
              "      <td>700.0</td>\n",
              "      <td>7</td>\n",
              "      <td>100.000000</td>\n",
              "    </tr>\n",
              "    <tr>\n",
              "      <th>2</th>\n",
              "      <td>Alexandre Leonardo</td>\n",
              "      <td>20190078314</td>\n",
              "      <td>Aula - Funções Aritméticas</td>\n",
              "      <td>700.0</td>\n",
              "      <td>7</td>\n",
              "      <td>100.000000</td>\n",
              "    </tr>\n",
              "    <tr>\n",
              "      <th>3</th>\n",
              "      <td>Alysson Larry</td>\n",
              "      <td>20180105740</td>\n",
              "      <td>Aula - Funções Aritméticas</td>\n",
              "      <td>700.0</td>\n",
              "      <td>7</td>\n",
              "      <td>100.000000</td>\n",
              "    </tr>\n",
              "    <tr>\n",
              "      <th>4</th>\n",
              "      <td>Angela Mirelle</td>\n",
              "      <td>20180091493</td>\n",
              "      <td>Aula - Funções Aritméticas</td>\n",
              "      <td>700.0</td>\n",
              "      <td>7</td>\n",
              "      <td>100.000000</td>\n",
              "    </tr>\n",
              "    <tr>\n",
              "      <th>...</th>\n",
              "      <td>...</td>\n",
              "      <td>...</td>\n",
              "      <td>...</td>\n",
              "      <td>...</td>\n",
              "      <td>...</td>\n",
              "      <td>...</td>\n",
              "    </tr>\n",
              "    <tr>\n",
              "      <th>752</th>\n",
              "      <td>Matheus kaynan</td>\n",
              "      <td>20180134910</td>\n",
              "      <td>Vetores - Lista de Exercícios (LOP)</td>\n",
              "      <td>300.0</td>\n",
              "      <td>7</td>\n",
              "      <td>42.857143</td>\n",
              "    </tr>\n",
              "    <tr>\n",
              "      <th>753</th>\n",
              "      <td>Pedro</td>\n",
              "      <td>20190083646</td>\n",
              "      <td>Vetores - Lista de Exercícios (LOP)</td>\n",
              "      <td>700.0</td>\n",
              "      <td>7</td>\n",
              "      <td>100.000000</td>\n",
              "    </tr>\n",
              "    <tr>\n",
              "      <th>754</th>\n",
              "      <td>Raphael Miranda</td>\n",
              "      <td>20190156081</td>\n",
              "      <td>Vetores - Lista de Exercícios (LOP)</td>\n",
              "      <td>300.0</td>\n",
              "      <td>7</td>\n",
              "      <td>42.857143</td>\n",
              "    </tr>\n",
              "    <tr>\n",
              "      <th>755</th>\n",
              "      <td>Thaisa</td>\n",
              "      <td>20190083628</td>\n",
              "      <td>Vetores - Lista de Exercícios (LOP)</td>\n",
              "      <td>700.0</td>\n",
              "      <td>7</td>\n",
              "      <td>100.000000</td>\n",
              "    </tr>\n",
              "    <tr>\n",
              "      <th>756</th>\n",
              "      <td>antonio</td>\n",
              "      <td>20170102154</td>\n",
              "      <td>Vetores - Lista de Exercícios (LOP)</td>\n",
              "      <td>700.0</td>\n",
              "      <td>7</td>\n",
              "      <td>100.000000</td>\n",
              "    </tr>\n",
              "  </tbody>\n",
              "</table>\n",
              "<p>757 rows × 6 columns</p>\n",
              "</div>"
            ],
            "text/plain": [
              "                        user  registration  ... totalQuestionslist   medialist\n",
              "0    ANDERSON DA SILVA VALE    20190148464  ...                  7  100.000000\n",
              "1              Alex Eduardo    20190084106  ...                  7  100.000000\n",
              "2        Alexandre Leonardo    20190078314  ...                  7  100.000000\n",
              "3             Alysson Larry    20180105740  ...                  7  100.000000\n",
              "4            Angela Mirelle    20180091493  ...                  7  100.000000\n",
              "..                       ...           ...  ...                ...         ...\n",
              "752          Matheus kaynan    20180134910  ...                  7   42.857143\n",
              "753                   Pedro    20190083646  ...                  7  100.000000\n",
              "754         Raphael Miranda    20190156081  ...                  7   42.857143\n",
              "755                  Thaisa    20190083628  ...                  7  100.000000\n",
              "756                 antonio    20170102154  ...                  7  100.000000\n",
              "\n",
              "[757 rows x 6 columns]"
            ]
          },
          "metadata": {
            "tags": []
          },
          "execution_count": 73
        }
      ]
    },
    {
      "cell_type": "code",
      "metadata": {
        "colab": {
          "base_uri": "https://localhost:8080/",
          "height": 164
        },
        "id": "5S6BqVkwBjx4",
        "outputId": "817e4e4b-3ba4-40b4-b455-4567ab7af04c"
      },
      "source": [
        "graph_performance_student_list_test(df_performance_list,'list')"
      ],
      "execution_count": null,
      "outputs": [
        {
          "output_type": "error",
          "ename": "NameError",
          "evalue": "ignored",
          "traceback": [
            "\u001b[0;31m---------------------------------------------------------------------------\u001b[0m",
            "\u001b[0;31mNameError\u001b[0m                                 Traceback (most recent call last)",
            "\u001b[0;32m<ipython-input-67-d0c0b5165cd6>\u001b[0m in \u001b[0;36m<module>\u001b[0;34m()\u001b[0m\n\u001b[0;32m----> 1\u001b[0;31m \u001b[0mgraph_performance_student_list_test\u001b[0m\u001b[0;34m(\u001b[0m\u001b[0mdf_performance_list\u001b[0m\u001b[0;34m,\u001b[0m\u001b[0;34m'list'\u001b[0m\u001b[0;34m)\u001b[0m\u001b[0;34m\u001b[0m\u001b[0;34m\u001b[0m\u001b[0m\n\u001b[0m",
            "\u001b[0;31mNameError\u001b[0m: name 'graph_performance_student_list_test' is not defined"
          ]
        }
      ]
    },
    {
      "cell_type": "code",
      "metadata": {
        "id": "l0zDrfJ0B0LP"
      },
      "source": [
        "graph_performance_student_list_test(df_performance_test,'test').head(2)"
      ],
      "execution_count": null,
      "outputs": []
    },
    {
      "cell_type": "code",
      "metadata": {
        "colab": {
          "base_uri": "https://localhost:8080/",
          "height": 204
        },
        "id": "b08fSWEUHp9H",
        "outputId": "eca0c970-6ea3-4420-9e50-8efa28a1c0d3"
      },
      "source": [
        "teste.head()"
      ],
      "execution_count": null,
      "outputs": [
        {
          "output_type": "execute_result",
          "data": {
            "text/html": [
              "<div>\n",
              "<style scoped>\n",
              "    .dataframe tbody tr th:only-of-type {\n",
              "        vertical-align: middle;\n",
              "    }\n",
              "\n",
              "    .dataframe tbody tr th {\n",
              "        vertical-align: top;\n",
              "    }\n",
              "\n",
              "    .dataframe thead th {\n",
              "        text-align: right;\n",
              "    }\n",
              "</style>\n",
              "<table border=\"1\" class=\"dataframe\">\n",
              "  <thead>\n",
              "    <tr style=\"text-align: right;\">\n",
              "      <th></th>\n",
              "      <th>user</th>\n",
              "      <th>registration</th>\n",
              "      <th>list</th>\n",
              "      <th>medialist</th>\n",
              "    </tr>\n",
              "  </thead>\n",
              "  <tbody>\n",
              "    <tr>\n",
              "      <th>0</th>\n",
              "      <td>ANDERSON DA SILVA VALE</td>\n",
              "      <td>20190148464</td>\n",
              "      <td>Aula - Funções Aritméticas</td>\n",
              "      <td>100.000000</td>\n",
              "    </tr>\n",
              "    <tr>\n",
              "      <th>174</th>\n",
              "      <td>ANDERSON DA SILVA VALE</td>\n",
              "      <td>20190148464</td>\n",
              "      <td>Laboratório 01 - Expressões Aritméticas</td>\n",
              "      <td>100.000000</td>\n",
              "    </tr>\n",
              "    <tr>\n",
              "      <th>274</th>\n",
              "      <td>ANDERSON DA SILVA VALE</td>\n",
              "      <td>20190148464</td>\n",
              "      <td>Treinamento - Expressões Aritméticas</td>\n",
              "      <td>85.714286</td>\n",
              "    </tr>\n",
              "    <tr>\n",
              "      <th>79</th>\n",
              "      <td>ANDERSON DA SILVA VALE</td>\n",
              "      <td>20190148464</td>\n",
              "      <td>Aula - Introdução Expressões Aritiméticas</td>\n",
              "      <td>100.000000</td>\n",
              "    </tr>\n",
              "    <tr>\n",
              "      <th>175</th>\n",
              "      <td>Alana de Souza Maciel</td>\n",
              "      <td>20180110089</td>\n",
              "      <td>Laboratório 01 - Expressões Aritméticas</td>\n",
              "      <td>100.000000</td>\n",
              "    </tr>\n",
              "  </tbody>\n",
              "</table>\n",
              "</div>"
            ],
            "text/plain": [
              "                        user  ...   medialist\n",
              "0    ANDERSON DA SILVA VALE   ...  100.000000\n",
              "174  ANDERSON DA SILVA VALE   ...  100.000000\n",
              "274  ANDERSON DA SILVA VALE   ...   85.714286\n",
              "79   ANDERSON DA SILVA VALE   ...  100.000000\n",
              "175   Alana de Souza Maciel   ...  100.000000\n",
              "\n",
              "[5 rows x 4 columns]"
            ]
          },
          "metadata": {
            "tags": []
          },
          "execution_count": 25
        }
      ]
    },
    {
      "cell_type": "code",
      "metadata": {
        "colab": {
          "base_uri": "https://localhost:8080/",
          "height": 419
        },
        "id": "0piHLOQcHrsC",
        "outputId": "85b95407-43f1-43d8-aa68-568dd4a5bf73"
      },
      "source": [
        "teste.groupby(['user','registration'])['medialist'].sum().reset_index()"
      ],
      "execution_count": null,
      "outputs": [
        {
          "output_type": "execute_result",
          "data": {
            "text/html": [
              "<div>\n",
              "<style scoped>\n",
              "    .dataframe tbody tr th:only-of-type {\n",
              "        vertical-align: middle;\n",
              "    }\n",
              "\n",
              "    .dataframe tbody tr th {\n",
              "        vertical-align: top;\n",
              "    }\n",
              "\n",
              "    .dataframe thead th {\n",
              "        text-align: right;\n",
              "    }\n",
              "</style>\n",
              "<table border=\"1\" class=\"dataframe\">\n",
              "  <thead>\n",
              "    <tr style=\"text-align: right;\">\n",
              "      <th></th>\n",
              "      <th>user</th>\n",
              "      <th>registration</th>\n",
              "      <th>medialist</th>\n",
              "    </tr>\n",
              "  </thead>\n",
              "  <tbody>\n",
              "    <tr>\n",
              "      <th>0</th>\n",
              "      <td>ANDERSON DA SILVA VALE</td>\n",
              "      <td>20190148464</td>\n",
              "      <td>385.714286</td>\n",
              "    </tr>\n",
              "    <tr>\n",
              "      <th>1</th>\n",
              "      <td>Alana de Souza Maciel</td>\n",
              "      <td>20180110089</td>\n",
              "      <td>180.000000</td>\n",
              "    </tr>\n",
              "    <tr>\n",
              "      <th>2</th>\n",
              "      <td>Alberto</td>\n",
              "      <td>20190083566</td>\n",
              "      <td>110.000000</td>\n",
              "    </tr>\n",
              "    <tr>\n",
              "      <th>3</th>\n",
              "      <td>Alex Eduardo</td>\n",
              "      <td>20190084106</td>\n",
              "      <td>1700.000000</td>\n",
              "    </tr>\n",
              "    <tr>\n",
              "      <th>4</th>\n",
              "      <td>Alexandre Leonardo</td>\n",
              "      <td>20190078314</td>\n",
              "      <td>365.079365</td>\n",
              "    </tr>\n",
              "    <tr>\n",
              "      <th>...</th>\n",
              "      <td>...</td>\n",
              "      <td>...</td>\n",
              "      <td>...</td>\n",
              "    </tr>\n",
              "    <tr>\n",
              "      <th>102</th>\n",
              "      <td>hellen ribeiro</td>\n",
              "      <td>20180156865</td>\n",
              "      <td>100.000000</td>\n",
              "    </tr>\n",
              "    <tr>\n",
              "      <th>103</th>\n",
              "      <td>jonathan</td>\n",
              "      <td>20190147458</td>\n",
              "      <td>892.381786</td>\n",
              "    </tr>\n",
              "    <tr>\n",
              "      <th>104</th>\n",
              "      <td>mateus</td>\n",
              "      <td>20190133265</td>\n",
              "      <td>242.857143</td>\n",
              "    </tr>\n",
              "    <tr>\n",
              "      <th>105</th>\n",
              "      <td>nicolle</td>\n",
              "      <td>20170133277</td>\n",
              "      <td>488.888889</td>\n",
              "    </tr>\n",
              "    <tr>\n",
              "      <th>106</th>\n",
              "      <td>Állan</td>\n",
              "      <td>20180135857</td>\n",
              "      <td>400.000000</td>\n",
              "    </tr>\n",
              "  </tbody>\n",
              "</table>\n",
              "<p>107 rows × 3 columns</p>\n",
              "</div>"
            ],
            "text/plain": [
              "                        user  registration    medialist\n",
              "0    ANDERSON DA SILVA VALE    20190148464   385.714286\n",
              "1     Alana de Souza Maciel    20180110089   180.000000\n",
              "2                   Alberto    20190083566   110.000000\n",
              "3              Alex Eduardo    20190084106  1700.000000\n",
              "4        Alexandre Leonardo    20190078314   365.079365\n",
              "..                       ...           ...          ...\n",
              "102          hellen ribeiro    20180156865   100.000000\n",
              "103                jonathan    20190147458   892.381786\n",
              "104                  mateus    20190133265   242.857143\n",
              "105                 nicolle    20170133277   488.888889\n",
              "106                   Állan    20180135857   400.000000\n",
              "\n",
              "[107 rows x 3 columns]"
            ]
          },
          "metadata": {
            "tags": []
          },
          "execution_count": 29
        }
      ]
    },
    {
      "cell_type": "code",
      "metadata": {
        "id": "T3r8QSKlIaN_"
      },
      "source": [
        "df_performance_list.to_csv('performance_list.csv',index=0)"
      ],
      "execution_count": null,
      "outputs": []
    },
    {
      "cell_type": "code",
      "metadata": {
        "id": "z-c027W5B8Kz"
      },
      "source": [
        "teste = graph_performance_student_list_test(df_performance_list,'list')\r\n",
        "graph_performance_student_list_test(df_performance_test,'test')"
      ],
      "execution_count": null,
      "outputs": []
    },
    {
      "cell_type": "code",
      "metadata": {
        "colab": {
          "base_uri": "https://localhost:8080/"
        },
        "id": "yhyqWE_Xx4EF",
        "outputId": "621e385d-ac7c-4edd-d126-33ebf5d03f18"
      },
      "source": [
        "len(df_subs['registration'].unique())"
      ],
      "execution_count": null,
      "outputs": [
        {
          "output_type": "execute_result",
          "data": {
            "text/plain": [
              "107"
            ]
          },
          "metadata": {
            "tags": []
          },
          "execution_count": 46
        }
      ]
    },
    {
      "cell_type": "markdown",
      "metadata": {
        "id": "3BUSGqrsC9BC"
      },
      "source": [
        "**Por hora descondirem essa função**"
      ]
    },
    {
      "cell_type": "code",
      "metadata": {
        "id": "3gXGYd0w_GRp"
      },
      "source": [
        "'''\n",
        "def avaliar_modelos(df, hyperparameters):\n",
        "\n",
        "  #Dicionários\n",
        "  model_param_disciplinas = {}\n",
        "  best_acc_disciplinas = {}\n",
        "  scoring_disciplinas = {}\n",
        "  #feature_importances_disciplinas = {}\n",
        "\n",
        "  #Seleciona o codigo de cada disciplina no dataframe, --alteravel--\n",
        "  lista_disciplinas = df[\"disciplina\"].unique()  \n",
        "\n",
        "  #Verifica se esta vazio\n",
        "  if lista_disciplinas is None:\n",
        "\t  return None\n",
        "\n",
        "  #Convertendo categorias do target de string para numerico (0,1)\n",
        "  df[\"situacao_categoria\"] = pd.Categorical(df[\"situacao\"]).codes\n",
        "\n",
        "  #Pipeline para transformar em categoria e verificar melhores parametros\n",
        "  pipeline_transform = Pipeline(steps = [('num_pipeline', NumericalTransformer()),\n",
        "                                         ('fs',SelectKBest(chi2)),\n",
        "                                         ('sc',StandardScaler()),\n",
        "                                         ('clf',XGBClassifier())\n",
        "                               ])\n",
        "\n",
        "  #Grid para testar todos os parâmetros                               \n",
        "  grid_search = GridSearchCV(\n",
        "                          estimator = pipeline_transform, \n",
        "                          param_grid = hyperparameters,\n",
        "                          cv= 5,\n",
        "                          scoring = {'Accuracy': make_scorer(accuracy_score)},\n",
        "                          #scoring = {\"AUC\": \"roc_auc\", \"Accuracy\": make_scorer(accuracy_score), \"F1\":\"f1\", \"Recall\":\"recall\", \"Precision\":\"precision\"},\n",
        "                          return_train_score=True,\n",
        "                          n_jobs=-1,#indica o numero de processos em paralelo, -1 significa usar todos\n",
        "                          refit='Accuracy')\n",
        "\n",
        "\n",
        "  #itera sobre a lista de disciplinas\n",
        "  for disciplina in lista_disciplinas:\n",
        "    data_iter = df.loc[df[\"disciplina\"].str.contains(disciplina),:]\n",
        "    \n",
        "    #Treinando Grid\n",
        "    best_model = grid_search.fit(data_iter.drop(columns = [\"disciplina\",\"situacao_categoria\"]), data_iter[\"situacao_categoria\"])\n",
        " \n",
        "    #Extraindo informações do treino\n",
        "    param_modelo = best_model.best_params_\n",
        "    model_param_disciplinas[disciplina] = param_modelo['clf']\n",
        "    best_acc_disciplinas[disciplina] = best_model.best_score_\n",
        "\n",
        "    #Resultado de metricas\n",
        "    result = pd.DataFrame(best_model.cv_results_)\n",
        "    result = result[['mean_train_Accuracy', 'std_train_Accuracy','mean_test_Accuracy', 'std_test_Accuracy','rank_test_Accuracy']].copy()\n",
        "    result[\"std_ratio\"] = result.std_test_Accuracy/result.std_train_Accuracy\n",
        "    result = result.sort_values(by=\"rank_test_Accuracy\",ascending=True)    \n",
        "    scoring_disciplinas[disciplina] = result.iloc[0,:]\n",
        "\n",
        "    #Características mais importantes\n",
        "    #feature_importances_disciplinas[disciplina] = grid.best_estimator_.feature_importances_\n",
        "    \n",
        "    #Salvando modelo\n",
        "    joblib.dump(best_model, 'modelo_' + disciplina + '.pkl')\n",
        "\n",
        "\n",
        "  #Transformando o dicionário para Dataframe\n",
        "  df_best_acc = pd.DataFrame.from_dict(best_acc_disciplinas, orient=\"index\")\n",
        "  df_best_acc.columns = [\"accuracy\"]\n",
        "  df_scor_disc = pd.DataFrame.from_dict(scoring_disciplinas, orient=\"index\")\n",
        "\n",
        "  #Concatenando DataFrames\n",
        "  df_relatorio = pd.concat([df_best_acc, df_scor_disc], axis=1, sort=False)\n",
        "\n",
        "  return (df_relatorio,model_param_disciplinas)\n",
        "\n",
        "'''"
      ],
      "execution_count": null,
      "outputs": []
    },
    {
      "cell_type": "markdown",
      "metadata": {
        "id": "dD1-lyVuizPA"
      },
      "source": [
        "##4. Leitura da Base\n",
        "<a id='leiturabase'></a>"
      ]
    },
    {
      "cell_type": "markdown",
      "metadata": {
        "id": "mVMECL1jJAxf"
      },
      "source": [
        "### Foi projetado para ter 4 tipos de consultas\n",
        "\n",
        "* A primeira é para receber dados dos professores que estão resgistrados no sistema\n",
        "\n",
        "* A segunda é para receber dados das turmas que estão registradas no sistema\n",
        "\n",
        "* A terceira é para receber dados das submissões que estão registradas no sistema\n",
        "\n",
        "* A quarta é para receber dados das questões que estão registradas no sistema\n",
        "\n",
        "As consultas vão ser tornando acumulativas, com a segunda dependendo de dados da primeira, e a terceira dependendo de dados da primeira e segunda para o preenchimento da url de consulta. Todas as consultas dependem da key de acesso\n",
        "\n",
        "Na consulta da class possui as depedências de: \n",
        "1. id_teacher, que é o id de um professor\n",
        "2. year, que é o ano da turma \n",
        "3. semester, que é o semestre (1 ou 2) da turma\n",
        "\n",
        "E na consulta de submission necessita do:\n",
        "1. id_class, que é o id de uma turma.\n",
        "\n",
        "Já a consulta de question e do teacher necessita apenas da key\n",
        "\n",
        "As consultas serão feitas via protocolo HTTP usando o método Get e irão receber um JSON dos dados do LoP\n"
      ]
    },
    {
      "cell_type": "markdown",
      "metadata": {
        "id": "X2rVvODlKxFz"
      },
      "source": [
        "### Estrutra das funções e suas dependências\n",
        "\n",
        "Funções de coleta e transformações de dados \n",
        "\n",
        "- lop_class(), lop_question()\n",
        "--- lop_submission()\n",
        "------ question_data()\n",
        "--------- performance_list()\n",
        "------------ graph_more_less_70_list_class()\n",
        "------------ graph_distribution_notes_list()\n",
        "\n",
        "Funções de treinamento de modelos de Machine Learning"
      ]
    },
    {
      "cell_type": "markdown",
      "metadata": {
        "id": "gLS4lxbbQwTo"
      },
      "source": [
        "Leitura de endpoints e key"
      ]
    },
    {
      "cell_type": "code",
      "metadata": {
        "id": "syfUfm4xQz82"
      },
      "source": [
        "key = read_txt('key.txt')\n",
        "endpoint_teacher = read_txt('endpoint_teacher.txt')\n",
        "endpoint_class = read_txt('endpoint_class.txt')\n",
        "endpoint_submission = read_txt('endpoint_submission.txt')\n",
        "endpoint_question = read_txt('endpoint_question.txt')\n",
        "endpoint_lists = read_txt('endpoint_lists.txt')"
      ],
      "execution_count": null,
      "outputs": []
    },
    {
      "cell_type": "markdown",
      "metadata": {
        "id": "v8EDgPstkv9e"
      },
      "source": [
        "Consultando submissões a partir de uma lista de turmas\n",
        "\n",
        "Vou pegar uma turma aleatoria afim de montar uma consulta"
      ]
    },
    {
      "cell_type": "code",
      "metadata": {
        "id": "mCJzm_YXlwJo"
      },
      "source": [
        "turma = ['f2dd7bef-5b5d-4cb3-9efa-aa8652af0605']"
      ],
      "execution_count": null,
      "outputs": []
    },
    {
      "cell_type": "markdown",
      "metadata": {
        "id": "GBVlqgzZmWN1"
      },
      "source": [
        "Necessita passar como DataFrame, então eu vou construir nesse formato exibido abaixo"
      ]
    },
    {
      "cell_type": "code",
      "metadata": {
        "colab": {
          "base_uri": "https://localhost:8080/",
          "height": 35
        },
        "id": "rEUmG7bRl-jn",
        "outputId": "c12a5992-80b6-4ce5-ed1e-aa79f746a40a"
      },
      "source": [
        "pd.DataFrame(['b5413cd7-4f61-4241-aad8-23740bab604f'], columns = ['id_class']).to_json(orient='records')"
      ],
      "execution_count": null,
      "outputs": [
        {
          "output_type": "execute_result",
          "data": {
            "application/vnd.google.colaboratory.intrinsic+json": {
              "type": "string"
            },
            "text/plain": [
              "'[{\"id_class\":\"b5413cd7-4f61-4241-aad8-23740bab604f\"}]'"
            ]
          },
          "metadata": {
            "tags": []
          },
          "execution_count": 20
        }
      ]
    },
    {
      "cell_type": "markdown",
      "metadata": {
        "id": "SuA_GGParVFn"
      },
      "source": [
        "**A partir daqui ainda vai sofrer alterações**"
      ]
    },
    {
      "cell_type": "markdown",
      "metadata": {
        "id": "Hra4Ho4IC0Xu"
      },
      "source": [
        "#Parte III - Desenvolvimento\n",
        "<a id='enten_dados'></a>\n"
      ]
    },
    {
      "cell_type": "markdown",
      "metadata": {
        "id": "-n4co8p2EeaU"
      },
      "source": [
        "## 1. Entendimento de Dados\n",
        "<a id='enten_dados'></a>\n",
        "\n",
        "### [1.1 Descrição de Dados](#descricao)\n",
        "### [1.2 Qualidade de Dados](#qualidade)\n",
        "### [1.3 Exploração de Dados](#exploracao)"
      ]
    },
    {
      "cell_type": "markdown",
      "metadata": {
        "id": "HEVg1VCYEhUd"
      },
      "source": [
        "###1.1 Descrição de Dados\n",
        "<a id='descricao'></a>\n"
      ]
    },
    {
      "cell_type": "markdown",
      "metadata": {
        "id": "L1HZgOL4pQfu"
      },
      "source": [
        "#### <center>Dataframe Submissões\n",
        "| **Semestre** | **Número de atributos (colunas)** | **Número de Registros (linhas)** |\n",
        "| --- | --- | --- |\n",
        "| 2020.5 | xxxx | yyy |\n",
        "| 2020.6 | yyyy | xxx |\n",
        "\n",
        "#### <center>Dataframe Resultados em LOP\n",
        "| **Semestre** | **Número de atributos (colunas)** | **Número de Registros (linhas)** |\n",
        "| --- | --- | --- |\n",
        "| 2020.5 | xxxx | yyyyy |\n",
        "\n",
        "\n",
        "---\n",
        "\n",
        "####Descrição do datafrane dos professores - Consulta embutida em lop_class()\n",
        "\n",
        "<b>1. id_teacher</b> ID do professor no LoP\n",
        "\n",
        "<b>2. email</b> Email do professor\n",
        "\n",
        "<b>3. name_teacher</b> Nome do professor\n",
        "\n",
        "--- \n",
        "\n",
        "####Descrição do dataframe das turmas - lop_class()\n",
        "\n",
        "<b>1. id_teacher</b> ID do professor no LoP\n",
        "\n",
        "<b>2. id_class</b> ID da turma\n",
        "\n",
        "<b>3. name_class</b> Nome da turma\n",
        "\n",
        "<b>4. code</b> Código de acesso a turma no LoP\n",
        "\n",
        "<b>5. year</b> Ano em que a turma foi cadastrada\n",
        "\n",
        "<b>6. semester</b> Semestre em que a turma foi cadastrada\n",
        "\n",
        "---\n",
        "####Descrição dos dataframe de Submissão - lop_submission()\n",
        "\n",
        "\n",
        "<b>1. environment</b> Tipo de máquina\n",
        "\n",
        "<b>2. hitPercentage</b> Porcentagem de acerto na questão\n",
        "\n",
        "<b>3. language</b> Linguagem de programação usada\n",
        "\n",
        "<b>4. char_change_number</b> Número de caracteres alterados\n",
        "\n",
        "<b>5. timeConsuming</b> Tempo que passou na questão\n",
        "\n",
        "<b>6. createdAt</b> Data e hora da submissão\n",
        "\n",
        "<b>7. user</b> Nome do aluno\n",
        "\n",
        "<b>8. question</b> Nome da questão\n",
        "\n",
        "<b>9. list</b> Nome da lista\n",
        "\n",
        "<b>10. test</b> Nome da prova\n",
        "\n",
        "<b>11. id_class</b> ID da turma em que o aluno está associado nessa submissão\n",
        "\n",
        "<b>12. registration</b> Matrícula do aluno\n",
        "\n",
        "---\n",
        "\n",
        "####Descrição do dataframe das questões do LoP - lop_question()\n",
        "\n",
        "\n",
        "<b>1. id_questao</b> ID da questão\n",
        "\n",
        "<b>2. question</b> Nome da questão\n",
        "\n",
        "<b>3. difficulty </b> Nível de dificuldade da questão (1-5)\n",
        "\n",
        "<b>4. tags </b> Esse campo vem com um json que contem os assuntos em que essa questão está associada\n",
        "\n",
        "<b>5. lists </b> Esse campo vem com um json que contem as listas que a questão está associada \n",
        "\n",
        "<b>6. tests</b> Esse campo vem com um json que contem as provas que a questão está associada \n",
        "\n",
        "---\n",
        "\n",
        "####Descrição do dataframe de dados das questões - question_data()\n",
        "\n",
        "\n",
        "<b>1. id_list</b> ID da lista\n",
        "\n",
        "<b>2. list</b> Nome da lista\n",
        "\n",
        "<b>3. question </b> Nome da questão\n",
        "\n",
        "<b>4. difficulty </b> Nível de dificuldade da questão (0-5)\n",
        "\n",
        "<b>5. tags </b> Em cada coluna com nome tag, terá um conteúdo associado a ela\n",
        "\n",
        "<b>6. id_test</b> ID da prova\n",
        "\n",
        "<b>7. test</b> Nome da prova\n",
        "\t\n",
        "---\n",
        "\n",
        "\n",
        "####Descrição do dataframe de performance por lista - performance_list_test()\n",
        "\n",
        "\n",
        "<b>1. user</b> Nome do aluno\n",
        "\n",
        "<b>2. registration</b> Matrícula do aluno\n",
        "\n",
        "<b>3. list/test</b> Nome da lista/prova\n",
        "\n",
        "<b>4. totalHitPercentage </b> Soma de todos acertos de questões únicas\n",
        "\n",
        "<b>5. totalQuestionslist/test </b> Número de questões por lista/prova\n",
        "\n",
        "<b>6. medialist/test</b> Esse campo vem com um json que contem as provas que a questão está associada \n",
        "\n",
        "---"
      ]
    },
    {
      "cell_type": "markdown",
      "metadata": {
        "id": "Mkk0NKmUpeX8"
      },
      "source": [
        "#### Nomeclaturas e especificações dos gráficos \n",
        "\n",
        "<b>1. GTN </b> Grafico de Turma Nota \n",
        "\n",
        "<b>1. GTL </b> Grafico de Turma Lista\n",
        "\n",
        "<b>1. GTA </b> Grafico de Turma Assunto\n",
        "\n",
        "<b>2. GENL </b> Grafico de Estudante Nota Lista\n",
        "\n",
        "<b>2. GENA </b> Grafico de Estudante Nota Assunto\n",
        "\n",
        "<b>2. GEND </b> Grafico de Estudante Nota Dificuldade"
      ]
    },
    {
      "cell_type": "markdown",
      "metadata": {
        "id": "WUBAPloS58yP"
      },
      "source": [
        "###1.2 Qualidade dos dados\n",
        "<a id='qualidade'></a>"
      ]
    },
    {
      "cell_type": "code",
      "metadata": {
        "id": "yXMGrCW2t9ys"
      },
      "source": [
        "profile = ProfileReport(df, title='Pandas Profiling Report', html={'style':{'full_width':True}})"
      ],
      "execution_count": null,
      "outputs": []
    },
    {
      "cell_type": "code",
      "metadata": {
        "id": "ZlpXzVJfPKL-"
      },
      "source": [
        "df.select_dtypes(include=['int64','float64']).describe()"
      ],
      "execution_count": null,
      "outputs": []
    },
    {
      "cell_type": "markdown",
      "metadata": {
        "id": "CVjvZp435e2C"
      },
      "source": [
        "Plotando correlação entre os dados númericos"
      ]
    },
    {
      "cell_type": "code",
      "metadata": {
        "id": "-cnuyvSq5j_-"
      },
      "source": [
        "corr = df.corr()\n",
        "corr = corr.style.background_gradient(cmap='Blues')\n",
        "corr"
      ],
      "execution_count": null,
      "outputs": []
    },
    {
      "cell_type": "markdown",
      "metadata": {
        "id": "23glKTxPo98x"
      },
      "source": [
        "Falar um pouco da correlação"
      ]
    },
    {
      "cell_type": "markdown",
      "metadata": {
        "id": "TjeHFDBfwV5w"
      },
      "source": [
        "###1.3 Exploração de Dados\n",
        "<a id='exploracao'></a>"
      ]
    },
    {
      "cell_type": "code",
      "metadata": {
        "id": "LZNTHruizS66"
      },
      "source": [
        "import plotly.express as px"
      ],
      "execution_count": 12,
      "outputs": []
    },
    {
      "cell_type": "code",
      "metadata": {
        "colab": {
          "base_uri": "https://localhost:8080/",
          "height": 204
        },
        "id": "EzgJ2UcFYoad",
        "outputId": "01edd59e-d292-4fea-901c-b20cf5bddaea"
      },
      "source": [
        "df_submission.head()"
      ],
      "execution_count": null,
      "outputs": [
        {
          "output_type": "execute_result",
          "data": {
            "text/html": [
              "<div>\n",
              "<style scoped>\n",
              "    .dataframe tbody tr th:only-of-type {\n",
              "        vertical-align: middle;\n",
              "    }\n",
              "\n",
              "    .dataframe tbody tr th {\n",
              "        vertical-align: top;\n",
              "    }\n",
              "\n",
              "    .dataframe thead th {\n",
              "        text-align: right;\n",
              "    }\n",
              "</style>\n",
              "<table border=\"1\" class=\"dataframe\">\n",
              "  <thead>\n",
              "    <tr style=\"text-align: right;\">\n",
              "      <th></th>\n",
              "      <th>environment</th>\n",
              "      <th>hitPercentage</th>\n",
              "      <th>language</th>\n",
              "      <th>char_change_number</th>\n",
              "      <th>timeConsuming</th>\n",
              "      <th>createdAt</th>\n",
              "      <th>user</th>\n",
              "      <th>question</th>\n",
              "      <th>list</th>\n",
              "      <th>test</th>\n",
              "      <th>id_class</th>\n",
              "      <th>registration</th>\n",
              "    </tr>\n",
              "  </thead>\n",
              "  <tbody>\n",
              "    <tr>\n",
              "      <th>0</th>\n",
              "      <td>desktop</td>\n",
              "      <td>0.0</td>\n",
              "      <td>javascript</td>\n",
              "      <td>656</td>\n",
              "      <td>131984</td>\n",
              "      <td>2021-01-08T03:47:42.000Z</td>\n",
              "      <td>Victor Laranjeira</td>\n",
              "      <td>Menor e posição</td>\n",
              "      <td>Vetores - Lista de Exercícios (LOP)</td>\n",
              "      <td>None</td>\n",
              "      <td>f2dd7bef-5b5d-4cb3-9efa-aa8652af0605</td>\n",
              "      <td>20180110202</td>\n",
              "    </tr>\n",
              "    <tr>\n",
              "      <th>1</th>\n",
              "      <td>desktop</td>\n",
              "      <td>0.0</td>\n",
              "      <td>javascript</td>\n",
              "      <td>652</td>\n",
              "      <td>787663</td>\n",
              "      <td>2021-01-08T03:47:05.000Z</td>\n",
              "      <td>Victor Laranjeira</td>\n",
              "      <td>Menor e posição</td>\n",
              "      <td>Vetores - Lista de Exercícios (LOP)</td>\n",
              "      <td>None</td>\n",
              "      <td>f2dd7bef-5b5d-4cb3-9efa-aa8652af0605</td>\n",
              "      <td>20180110202</td>\n",
              "    </tr>\n",
              "    <tr>\n",
              "      <th>2</th>\n",
              "      <td>desktop</td>\n",
              "      <td>0.0</td>\n",
              "      <td>javascript</td>\n",
              "      <td>605</td>\n",
              "      <td>140676</td>\n",
              "      <td>2021-01-08T03:35:33.000Z</td>\n",
              "      <td>Victor Laranjeira</td>\n",
              "      <td>Menor e posição</td>\n",
              "      <td>Vetores - Lista de Exercícios (LOP)</td>\n",
              "      <td>None</td>\n",
              "      <td>f2dd7bef-5b5d-4cb3-9efa-aa8652af0605</td>\n",
              "      <td>20180110202</td>\n",
              "    </tr>\n",
              "    <tr>\n",
              "      <th>3</th>\n",
              "      <td>desktop</td>\n",
              "      <td>100.0</td>\n",
              "      <td>javascript</td>\n",
              "      <td>573</td>\n",
              "      <td>11525</td>\n",
              "      <td>2021-01-08T03:33:47.000Z</td>\n",
              "      <td>Victor Laranjeira</td>\n",
              "      <td>Concatenar vetores</td>\n",
              "      <td>Vetores - Lista Prática (LOP)</td>\n",
              "      <td>None</td>\n",
              "      <td>f2dd7bef-5b5d-4cb3-9efa-aa8652af0605</td>\n",
              "      <td>20180110202</td>\n",
              "    </tr>\n",
              "    <tr>\n",
              "      <th>4</th>\n",
              "      <td>desktop</td>\n",
              "      <td>0.0</td>\n",
              "      <td>javascript</td>\n",
              "      <td>572</td>\n",
              "      <td>15728</td>\n",
              "      <td>2021-01-08T03:33:33.000Z</td>\n",
              "      <td>Victor Laranjeira</td>\n",
              "      <td>Concatenar vetores</td>\n",
              "      <td>Vetores - Lista Prática (LOP)</td>\n",
              "      <td>None</td>\n",
              "      <td>f2dd7bef-5b5d-4cb3-9efa-aa8652af0605</td>\n",
              "      <td>20180110202</td>\n",
              "    </tr>\n",
              "  </tbody>\n",
              "</table>\n",
              "</div>"
            ],
            "text/plain": [
              "  environment  ...  registration\n",
              "0     desktop  ...   20180110202\n",
              "1     desktop  ...   20180110202\n",
              "2     desktop  ...   20180110202\n",
              "3     desktop  ...   20180110202\n",
              "4     desktop  ...   20180110202\n",
              "\n",
              "[5 rows x 12 columns]"
            ]
          },
          "metadata": {
            "tags": []
          },
          "execution_count": 18
        }
      ]
    },
    {
      "cell_type": "code",
      "metadata": {
        "colab": {
          "base_uri": "https://localhost:8080/",
          "height": 589
        },
        "id": "dxo-eXPPBgC1",
        "outputId": "e24778f6-5708-4d99-9053-211575e82520"
      },
      "source": [
        "df_submission.sort_values(by='timeConsuming')"
      ],
      "execution_count": null,
      "outputs": [
        {
          "output_type": "execute_result",
          "data": {
            "text/html": [
              "<div>\n",
              "<style scoped>\n",
              "    .dataframe tbody tr th:only-of-type {\n",
              "        vertical-align: middle;\n",
              "    }\n",
              "\n",
              "    .dataframe tbody tr th {\n",
              "        vertical-align: top;\n",
              "    }\n",
              "\n",
              "    .dataframe thead th {\n",
              "        text-align: right;\n",
              "    }\n",
              "</style>\n",
              "<table border=\"1\" class=\"dataframe\">\n",
              "  <thead>\n",
              "    <tr style=\"text-align: right;\">\n",
              "      <th></th>\n",
              "      <th>environment</th>\n",
              "      <th>hitPercentage</th>\n",
              "      <th>language</th>\n",
              "      <th>char_change_number</th>\n",
              "      <th>timeConsuming</th>\n",
              "      <th>createdAt</th>\n",
              "      <th>user</th>\n",
              "      <th>question</th>\n",
              "      <th>list</th>\n",
              "      <th>test</th>\n",
              "      <th>id_class</th>\n",
              "      <th>registration</th>\n",
              "      <th>timeInSecounds</th>\n",
              "    </tr>\n",
              "  </thead>\n",
              "  <tbody>\n",
              "    <tr>\n",
              "      <th>5458</th>\n",
              "      <td>desktop</td>\n",
              "      <td>0.0</td>\n",
              "      <td>javascript</td>\n",
              "      <td>45</td>\n",
              "      <td>-10221415</td>\n",
              "      <td>2020-10-28T23:04:22.000Z</td>\n",
              "      <td>João Henrique Silva Corrêa</td>\n",
              "      <td>Sucessor de um número com uma váriavel</td>\n",
              "      <td>Repetição condicional - Lista Resolvida (LOP)</td>\n",
              "      <td>None</td>\n",
              "      <td>f2dd7bef-5b5d-4cb3-9efa-aa8652af0605</td>\n",
              "      <td>20190081740</td>\n",
              "      <td>-10221</td>\n",
              "    </tr>\n",
              "    <tr>\n",
              "      <th>10270</th>\n",
              "      <td>desktop</td>\n",
              "      <td>87.5</td>\n",
              "      <td>javascript</td>\n",
              "      <td>635</td>\n",
              "      <td>-2209977</td>\n",
              "      <td>2020-10-09T16:52:00.000Z</td>\n",
              "      <td>arthur menezes maciel</td>\n",
              "      <td>Sistema Inteligente - Identificação de Espécie...</td>\n",
              "      <td>None</td>\n",
              "      <td>Prova LoP - Turma 05 - 2020.6 (2020.1)</td>\n",
              "      <td>f2dd7bef-5b5d-4cb3-9efa-aa8652af0605</td>\n",
              "      <td>20190084349</td>\n",
              "      <td>-2209</td>\n",
              "    </tr>\n",
              "    <tr>\n",
              "      <th>9361</th>\n",
              "      <td>desktop</td>\n",
              "      <td>87.5</td>\n",
              "      <td>javascript</td>\n",
              "      <td>635</td>\n",
              "      <td>-1112401</td>\n",
              "      <td>2020-10-11T08:03:08.000Z</td>\n",
              "      <td>arthur menezes maciel</td>\n",
              "      <td>Sistema Inteligente - Identificação de Espécie...</td>\n",
              "      <td>None</td>\n",
              "      <td>Prova LoP - Turma 05 - 2020.6 (2020.1)</td>\n",
              "      <td>f2dd7bef-5b5d-4cb3-9efa-aa8652af0605</td>\n",
              "      <td>20190084349</td>\n",
              "      <td>-1112</td>\n",
              "    </tr>\n",
              "    <tr>\n",
              "      <th>9354</th>\n",
              "      <td>desktop</td>\n",
              "      <td>87.5</td>\n",
              "      <td>javascript</td>\n",
              "      <td>1161</td>\n",
              "      <td>-388840</td>\n",
              "      <td>2020-10-11T08:33:32.000Z</td>\n",
              "      <td>arthur menezes maciel</td>\n",
              "      <td>Sistema Inteligente - Identificação de Espécie...</td>\n",
              "      <td>None</td>\n",
              "      <td>Prova LoP - Turma 05 - 2020.6 (2020.1)</td>\n",
              "      <td>f2dd7bef-5b5d-4cb3-9efa-aa8652af0605</td>\n",
              "      <td>20190084349</td>\n",
              "      <td>-388</td>\n",
              "    </tr>\n",
              "    <tr>\n",
              "      <th>9342</th>\n",
              "      <td>desktop</td>\n",
              "      <td>87.5</td>\n",
              "      <td>javascript</td>\n",
              "      <td>1287</td>\n",
              "      <td>-166926</td>\n",
              "      <td>2020-10-11T08:49:07.000Z</td>\n",
              "      <td>arthur menezes maciel</td>\n",
              "      <td>Sistema Inteligente - Identificação de Espécie...</td>\n",
              "      <td>None</td>\n",
              "      <td>Prova LoP - Turma 05 - 2020.6 (2020.1)</td>\n",
              "      <td>f2dd7bef-5b5d-4cb3-9efa-aa8652af0605</td>\n",
              "      <td>20190084349</td>\n",
              "      <td>-166</td>\n",
              "    </tr>\n",
              "    <tr>\n",
              "      <th>...</th>\n",
              "      <td>...</td>\n",
              "      <td>...</td>\n",
              "      <td>...</td>\n",
              "      <td>...</td>\n",
              "      <td>...</td>\n",
              "      <td>...</td>\n",
              "      <td>...</td>\n",
              "      <td>...</td>\n",
              "      <td>...</td>\n",
              "      <td>...</td>\n",
              "      <td>...</td>\n",
              "      <td>...</td>\n",
              "      <td>...</td>\n",
              "    </tr>\n",
              "    <tr>\n",
              "      <th>7156</th>\n",
              "      <td>desktop</td>\n",
              "      <td>100.0</td>\n",
              "      <td>javascript</td>\n",
              "      <td>99</td>\n",
              "      <td>49103638</td>\n",
              "      <td>2020-10-18T17:34:42.000Z</td>\n",
              "      <td>Ian Antonio Fonseca Araújo</td>\n",
              "      <td>Tabela de contagens</td>\n",
              "      <td>Repetição contada - Lista Prática (LOP)</td>\n",
              "      <td>None</td>\n",
              "      <td>f2dd7bef-5b5d-4cb3-9efa-aa8652af0605</td>\n",
              "      <td>20200076900</td>\n",
              "      <td>49103</td>\n",
              "    </tr>\n",
              "    <tr>\n",
              "      <th>7158</th>\n",
              "      <td>desktop</td>\n",
              "      <td>0.0</td>\n",
              "      <td>javascript</td>\n",
              "      <td>35</td>\n",
              "      <td>49287064</td>\n",
              "      <td>2020-10-18T17:18:42.000Z</td>\n",
              "      <td>Ian Antonio Fonseca Araújo</td>\n",
              "      <td>Tabela de contagens</td>\n",
              "      <td>Repetição contada - Lista Prática (LOP)</td>\n",
              "      <td>None</td>\n",
              "      <td>f2dd7bef-5b5d-4cb3-9efa-aa8652af0605</td>\n",
              "      <td>20200076900</td>\n",
              "      <td>49287</td>\n",
              "    </tr>\n",
              "    <tr>\n",
              "      <th>14163</th>\n",
              "      <td>desktop</td>\n",
              "      <td>0.0</td>\n",
              "      <td>javascript</td>\n",
              "      <td>101</td>\n",
              "      <td>49852335</td>\n",
              "      <td>2020-09-22T11:13:53.000Z</td>\n",
              "      <td>Ian Antonio Fonseca Araújo</td>\n",
              "      <td>Convertendo de horas para dias</td>\n",
              "      <td>Laboratório 01 - Expressões Aritméticas</td>\n",
              "      <td>None</td>\n",
              "      <td>f2dd7bef-5b5d-4cb3-9efa-aa8652af0605</td>\n",
              "      <td>20200076900</td>\n",
              "      <td>49852</td>\n",
              "    </tr>\n",
              "    <tr>\n",
              "      <th>7157</th>\n",
              "      <td>desktop</td>\n",
              "      <td>100.0</td>\n",
              "      <td>javascript</td>\n",
              "      <td>99</td>\n",
              "      <td>49989908</td>\n",
              "      <td>2020-10-18T17:34:05.000Z</td>\n",
              "      <td>Ian Antonio Fonseca Araújo</td>\n",
              "      <td>Tabela de contagens</td>\n",
              "      <td>Repetição contada - Lista Prática (LOP)</td>\n",
              "      <td>None</td>\n",
              "      <td>f2dd7bef-5b5d-4cb3-9efa-aa8652af0605</td>\n",
              "      <td>20200076900</td>\n",
              "      <td>49989</td>\n",
              "    </tr>\n",
              "    <tr>\n",
              "      <th>9505</th>\n",
              "      <td>desktop</td>\n",
              "      <td>100.0</td>\n",
              "      <td>javascript</td>\n",
              "      <td>255</td>\n",
              "      <td>79193002</td>\n",
              "      <td>2020-10-10T20:46:39.000Z</td>\n",
              "      <td>Yasmim</td>\n",
              "      <td>Divisível por 5</td>\n",
              "      <td>(Lop) Estruturas de decisão - problemas sobre ...</td>\n",
              "      <td>None</td>\n",
              "      <td>f2dd7bef-5b5d-4cb3-9efa-aa8652af0605</td>\n",
              "      <td>20180140758</td>\n",
              "      <td>79193</td>\n",
              "    </tr>\n",
              "  </tbody>\n",
              "</table>\n",
              "<p>28035 rows × 13 columns</p>\n",
              "</div>"
            ],
            "text/plain": [
              "      environment  hitPercentage  ...  registration  timeInSecounds\n",
              "5458      desktop            0.0  ...   20190081740          -10221\n",
              "10270     desktop           87.5  ...   20190084349           -2209\n",
              "9361      desktop           87.5  ...   20190084349           -1112\n",
              "9354      desktop           87.5  ...   20190084349            -388\n",
              "9342      desktop           87.5  ...   20190084349            -166\n",
              "...           ...            ...  ...           ...             ...\n",
              "7156      desktop          100.0  ...   20200076900           49103\n",
              "7158      desktop            0.0  ...   20200076900           49287\n",
              "14163     desktop            0.0  ...   20200076900           49852\n",
              "7157      desktop          100.0  ...   20200076900           49989\n",
              "9505      desktop          100.0  ...   20180140758           79193\n",
              "\n",
              "[28035 rows x 13 columns]"
            ]
          },
          "metadata": {
            "tags": []
          },
          "execution_count": 52
        }
      ]
    },
    {
      "cell_type": "markdown",
      "metadata": {
        "id": "wZXj58HTB_zU"
      },
      "source": [
        "Criando o campo de tempo em segundos, já que vem em ms"
      ]
    },
    {
      "cell_type": "code",
      "metadata": {
        "id": "IB_pvmyp0cMX"
      },
      "source": [
        "df_submission['timeInSecounds'] = df_submission['timeConsuming'].divide(1000).astype(int)"
      ],
      "execution_count": 13,
      "outputs": []
    },
    {
      "cell_type": "markdown",
      "metadata": {
        "id": "cZhq9bfdCDyV"
      },
      "source": [
        "Concentração das submissões estão entre até 198 segundos. Tempo negativo?"
      ]
    },
    {
      "cell_type": "code",
      "metadata": {
        "colab": {
          "base_uri": "https://localhost:8080/",
          "height": 297
        },
        "id": "gd_KeZx7_ODU",
        "outputId": "17a43ab2-c133-448f-af7b-8366ff94e2d2"
      },
      "source": [
        "df_submission.describe()"
      ],
      "execution_count": null,
      "outputs": [
        {
          "output_type": "execute_result",
          "data": {
            "text/html": [
              "<div>\n",
              "<style scoped>\n",
              "    .dataframe tbody tr th:only-of-type {\n",
              "        vertical-align: middle;\n",
              "    }\n",
              "\n",
              "    .dataframe tbody tr th {\n",
              "        vertical-align: top;\n",
              "    }\n",
              "\n",
              "    .dataframe thead th {\n",
              "        text-align: right;\n",
              "    }\n",
              "</style>\n",
              "<table border=\"1\" class=\"dataframe\">\n",
              "  <thead>\n",
              "    <tr style=\"text-align: right;\">\n",
              "      <th></th>\n",
              "      <th>hitPercentage</th>\n",
              "      <th>char_change_number</th>\n",
              "      <th>timeConsuming</th>\n",
              "      <th>timeInSecounds</th>\n",
              "    </tr>\n",
              "  </thead>\n",
              "  <tbody>\n",
              "    <tr>\n",
              "      <th>count</th>\n",
              "      <td>28035.000000</td>\n",
              "      <td>28035.000000</td>\n",
              "      <td>2.803500e+04</td>\n",
              "      <td>28035.000000</td>\n",
              "    </tr>\n",
              "    <tr>\n",
              "      <th>mean</th>\n",
              "      <td>31.740284</td>\n",
              "      <td>351.314357</td>\n",
              "      <td>2.969577e+05</td>\n",
              "      <td>296.457000</td>\n",
              "    </tr>\n",
              "    <tr>\n",
              "      <th>std</th>\n",
              "      <td>42.816467</td>\n",
              "      <td>400.481709</td>\n",
              "      <td>1.756346e+06</td>\n",
              "      <td>1756.345825</td>\n",
              "    </tr>\n",
              "    <tr>\n",
              "      <th>min</th>\n",
              "      <td>0.000000</td>\n",
              "      <td>0.000000</td>\n",
              "      <td>-1.022142e+07</td>\n",
              "      <td>-10221.000000</td>\n",
              "    </tr>\n",
              "    <tr>\n",
              "      <th>25%</th>\n",
              "      <td>0.000000</td>\n",
              "      <td>124.500000</td>\n",
              "      <td>2.296400e+04</td>\n",
              "      <td>22.000000</td>\n",
              "    </tr>\n",
              "    <tr>\n",
              "      <th>50%</th>\n",
              "      <td>0.000000</td>\n",
              "      <td>243.000000</td>\n",
              "      <td>6.549400e+04</td>\n",
              "      <td>65.000000</td>\n",
              "    </tr>\n",
              "    <tr>\n",
              "      <th>75%</th>\n",
              "      <td>80.000000</td>\n",
              "      <td>437.000000</td>\n",
              "      <td>1.988930e+05</td>\n",
              "      <td>198.000000</td>\n",
              "    </tr>\n",
              "    <tr>\n",
              "      <th>max</th>\n",
              "      <td>100.000000</td>\n",
              "      <td>6346.000000</td>\n",
              "      <td>7.919300e+07</td>\n",
              "      <td>79193.000000</td>\n",
              "    </tr>\n",
              "  </tbody>\n",
              "</table>\n",
              "</div>"
            ],
            "text/plain": [
              "       hitPercentage  char_change_number  timeConsuming  timeInSecounds\n",
              "count   28035.000000        28035.000000   2.803500e+04    28035.000000\n",
              "mean       31.740284          351.314357   2.969577e+05      296.457000\n",
              "std        42.816467          400.481709   1.756346e+06     1756.345825\n",
              "min         0.000000            0.000000  -1.022142e+07   -10221.000000\n",
              "25%         0.000000          124.500000   2.296400e+04       22.000000\n",
              "50%         0.000000          243.000000   6.549400e+04       65.000000\n",
              "75%        80.000000          437.000000   1.988930e+05      198.000000\n",
              "max       100.000000         6346.000000   7.919300e+07    79193.000000"
            ]
          },
          "metadata": {
            "tags": []
          },
          "execution_count": 28
        }
      ]
    },
    {
      "cell_type": "code",
      "metadata": {
        "colab": {
          "base_uri": "https://localhost:8080/"
        },
        "id": "9qBf5ATKBQLS",
        "outputId": "fdad85db-8d83-4978-b00a-4d2420526708"
      },
      "source": [
        "df_submission['timeConsuming'].min()"
      ],
      "execution_count": 16,
      "outputs": [
        {
          "output_type": "execute_result",
          "data": {
            "text/plain": [
              "-10221415"
            ]
          },
          "metadata": {
            "tags": []
          },
          "execution_count": 16
        }
      ]
    },
    {
      "cell_type": "markdown",
      "metadata": {
        "id": "Ag8kDnboD15s"
      },
      "source": [
        "Maior concentração está realmente em pouco tempo, possívelmente se dá pelo aluno aproveitar o código da submissão anterior"
      ]
    },
    {
      "cell_type": "code",
      "metadata": {
        "colab": {
          "base_uri": "https://localhost:8080/",
          "height": 542
        },
        "id": "eLXl3OMBYS6w",
        "outputId": "3b6b17d7-f302-47f9-e575-4ff4ccbf7c36"
      },
      "source": [
        "px.violin(df_submission[(df_submission[\"timeInSecounds\"] < 900) & (df_submission[\"timeInSecounds\"] > 0)], y=\"timeInSecounds\")"
      ],
      "execution_count": 17,
      "outputs": [
        {
          "output_type": "display_data",
          "data": {
            "text/html": [
              "<html>\n",
              "<head><meta charset=\"utf-8\" /></head>\n",
              "<body>\n",
              "    <div>\n",
              "            <script src=\"https://cdnjs.cloudflare.com/ajax/libs/mathjax/2.7.5/MathJax.js?config=TeX-AMS-MML_SVG\"></script><script type=\"text/javascript\">if (window.MathJax) {MathJax.Hub.Config({SVG: {font: \"STIX-Web\"}});}</script>\n",
              "                <script type=\"text/javascript\">window.PlotlyConfig = {MathJaxConfig: 'local'};</script>\n",
              "        <script src=\"https://cdn.plot.ly/plotly-latest.min.js\"></script>    \n",
              "            <div id=\"29be273f-0c29-4757-84f5-e57e63439521\" class=\"plotly-graph-div\" style=\"height:525px; width:100%;\"></div>\n",
              "            <script type=\"text/javascript\">\n",
              "                \n",
              "                    window.PLOTLYENV=window.PLOTLYENV || {};\n",
              "                    \n",
              "                if (document.getElementById(\"29be273f-0c29-4757-84f5-e57e63439521\")) {\n",
              "                    Plotly.newPlot(\n",
              "                        '29be273f-0c29-4757-84f5-e57e63439521',\n",
              "                        [{\"alignmentgroup\": \"True\", \"box\": {\"visible\": false}, \"hoverlabel\": {\"namelength\": 0}, \"hovertemplate\": \"timeInSecounds=%{y}\", \"legendgroup\": \"\", \"marker\": {\"color\": \"#636efa\"}, \"name\": \"\", \"offsetgroup\": \"\", \"orientation\": \"v\", \"scalegroup\": \"True\", \"showlegend\": false, \"type\": \"violin\", \"x0\": \" \", \"xaxis\": \"x\", \"y\": [131, 787, 140, 11, 15, 60, 45, 27, 97, 26, 78, 115, 42, 95, 30, 127, 24, 25, 352, 28, 373, 20, 58, 99, 30, 32, 36, 274, 17, 207, 366, 304, 218, 230, 220, 223, 249, 209, 210, 188, 221, 186, 327, 221, 260, 191, 252, 257, 179, 16, 7, 89, 20, 300, 63, 13, 68, 12, 45, 2, 42, 292, 162, 295, 271, 727, 151, 36, 41, 7, 26, 12, 286, 15, 119, 48, 12, 88, 30, 29, 15, 9, 14, 17, 41, 121, 68, 314, 43, 11, 18, 136, 55, 91, 109, 188, 59, 96, 90, 192, 179, 96, 116, 100, 168, 89, 96, 82, 78, 67, 88, 69, 79, 52, 54, 28, 30, 130, 35, 33, 8, 7, 128, 144, 30, 18, 49, 12, 11, 105, 444, 472, 315, 311, 512, 434, 12, 209, 38, 28, 11, 13, 5, 19, 86, 38, 9, 28, 178, 30, 374, 149, 241, 19, 17, 203, 21, 223, 14, 31, 46, 92, 69, 13, 21, 60, 114, 36, 15, 54, 48, 97, 168, 202, 13, 11, 102, 81, 32, 124, 8, 11, 15, 30, 37, 85, 116, 23, 35, 88, 80, 517, 133, 116, 688, 852, 437, 141, 96, 404, 47, 66, 59, 69, 176, 56, 66, 597, 59, 333, 26, 77, 43, 35, 179, 116, 25, 147, 361, 74, 24, 99, 83, 20, 148, 90, 186, 47, 80, 12, 446, 282, 206, 198, 265, 192, 198, 180, 189, 440, 15, 51, 66, 294, 17, 28, 347, 310, 200, 213, 195, 615, 210, 263, 203, 269, 76, 167, 152, 153, 136, 232, 153, 135, 290, 337, 378, 330, 383, 240, 145, 145, 159, 194, 152, 130, 127, 185, 268, 173, 177, 67, 128, 40, 18, 185, 415, 43, 40, 188, 159, 616, 504, 156, 243, 166, 148, 133, 124, 57, 82, 99, 84, 36, 6, 426, 48, 21, 9, 9, 19, 158, 16, 176, 127, 170, 115, 175, 324, 388, 280, 267, 152, 6, 9, 5, 7, 7, 130, 7, 125, 5, 33, 46, 7, 11, 3, 6, 29, 9, 13, 12, 828, 324, 12, 222, 9, 178, 113, 176, 564, 18, 313, 401, 152, 158, 13, 384, 139, 16, 9, 145, 35, 44, 51, 353, 430, 652, 133, 126, 155, 112, 142, 132, 114, 240, 90, 87, 47, 8, 46, 54, 226, 3, 257, 106, 131, 5, 17, 4, 13, 7, 8, 4, 26, 320, 54, 323, 323, 15, 19, 407, 123, 90, 143, 105, 86, 411, 83, 186, 12, 356, 12, 26, 226, 18, 14, 30, 18, 117, 400, 18, 11, 23, 7, 57, 60, 29, 503, 113, 6, 19, 11, 21, 128, 62, 23, 300, 71, 71, 120, 73, 73, 79, 117, 78, 542, 29, 32, 240, 47, 398, 4, 384, 391, 663, 128, 18, 18, 435, 8, 6, 10, 6, 6, 6, 63, 32, 10, 32, 26, 122, 111, 275, 39, 118, 22, 539, 14, 422, 17, 69, 8, 56, 18, 45, 257, 29, 27, 20, 21, 117, 822, 731, 19, 476, 7, 59, 504, 17, 14, 24, 548, 218, 15, 14, 250, 7, 241, 30, 225, 68, 20, 126, 17, 305, 329, 409, 57, 51, 20, 342, 793, 638, 17, 539, 7, 53, 7, 5, 287, 35, 29, 827, 17, 41, 98, 42, 138, 75, 235, 489, 37, 35, 686, 263, 37, 49, 18, 8, 61, 277, 75, 84, 47, 522, 523, 524, 520, 541, 560, 539, 108, 48, 319, 177, 254, 22, 737, 205, 218, 8, 265, 15, 270, 118, 21, 128, 15, 103, 22, 15, 130, 54, 95, 176, 224, 253, 543, 56, 6, 141, 44, 374, 24, 243, 11, 12, 488, 166, 186, 65, 37, 61, 75, 35, 555, 223, 186, 191, 257, 76, 28, 67, 164, 54, 44, 199, 9, 197, 21, 286, 101, 14, 10, 30, 21, 20, 41, 56, 15, 20, 137, 98, 313, 165, 60, 460, 17, 22, 13, 99, 14, 25, 33, 42, 10, 22, 293, 55, 22, 50, 16, 12, 21, 33, 21, 302, 39, 29, 150, 45, 80, 252, 12, 38, 109, 37, 18, 235, 31, 295, 77, 386, 4, 154, 91, 28, 10, 399, 35, 33, 42, 276, 21, 401, 9, 23, 4, 7, 70, 21, 213, 21, 162, 502, 162, 204, 336, 78, 479, 42, 194, 22, 18, 24, 9, 523, 26, 470, 103, 37, 277, 107, 96, 57, 194, 406, 609, 13, 127, 19, 459, 40, 636, 78, 7, 13, 7, 224, 147, 324, 53, 252, 3, 9, 7, 1, 9, 1, 5, 1, 8, 2, 8, 1, 12, 1, 3, 9, 2, 1, 10, 1, 2, 12, 1, 12, 1, 12, 3, 18, 317, 412, 407, 36, 10, 314, 21, 11, 397, 19, 5, 3, 4, 4, 5, 308, 95, 227, 53, 297, 5, 21, 22, 69, 23, 3, 21, 113, 243, 11, 30, 44, 474, 189, 167, 162, 203, 173, 164, 226, 182, 87, 265, 81, 83, 12, 37, 178, 296, 168, 517, 46, 133, 10, 211, 467, 6, 532, 57, 24, 23, 323, 532, 264, 8, 14, 87, 580, 235, 21, 8, 130, 18, 28, 63, 63, 60, 22, 113, 61, 603, 105, 51, 65, 85, 271, 92, 103, 41, 12, 7, 38, 47, 34, 120, 42, 42, 242, 352, 4, 162, 286, 336, 294, 274, 272, 260, 257, 429, 353, 245, 242, 2, 114, 179, 56, 41, 490, 250, 274, 159, 6, 9, 112, 340, 160, 51, 166, 16, 23, 319, 319, 4, 168, 22, 23, 445, 9, 6, 6, 10, 7, 8, 10, 9, 226, 16, 36, 12, 63, 60, 248, 82, 87, 273, 102, 77, 60, 53, 70, 59, 64, 202, 193, 611, 441, 221, 198, 281, 260, 242, 199, 225, 229, 222, 201, 236, 435, 226, 204, 205, 275, 198, 182, 160, 138, 171, 145, 132, 140, 280, 166, 363, 567, 9, 275, 13, 126, 322, 55, 80, 89, 13, 10, 899, 751, 138, 350, 100, 49, 18, 97, 83, 17, 9, 657, 94, 62, 87, 44, 86, 52, 190, 239, 52, 62, 54, 195, 62, 248, 36, 6, 119, 17, 193, 117, 22, 128, 10, 171, 428, 21, 9, 46, 8, 58, 7, 1, 15, 9, 300, 11, 450, 7, 14, 18, 31, 8, 10, 10, 49, 37, 10, 74, 10, 12, 35, 134, 32, 144, 11, 26, 20, 14, 14, 128, 266, 15, 151, 343, 110, 127, 58, 51, 123, 73, 278, 17, 8, 28, 216, 10, 8, 21, 13, 24, 20, 20, 220, 626, 190, 37, 69, 148, 8, 360, 282, 285, 374, 573, 104, 202, 30, 52, 41, 28, 42, 47, 42, 55, 45, 45, 43, 96, 38, 42, 25, 138, 13, 10, 6, 20, 512, 146, 154, 171, 146, 143, 353, 10, 288, 61, 57, 776, 8, 89, 516, 10, 10, 130, 77, 130, 758, 753, 627, 586, 583, 91, 142, 67, 546, 260, 605, 11, 680, 9, 58, 19, 617, 206, 17, 161, 12, 578, 369, 488, 3, 52, 34, 10, 248, 155, 64, 24, 26, 21, 47, 12, 9, 34, 30, 182, 198, 337, 8, 471, 68, 10, 513, 20, 73, 43, 20, 11, 417, 169, 9, 16, 18, 735, 24, 47, 344, 41, 22, 66, 20, 130, 14, 11, 125, 11, 12, 23, 10, 13, 42, 9, 22, 18, 50, 337, 39, 19, 37, 19, 24, 151, 33, 524, 69, 4, 110, 11, 65, 238, 63, 96, 677, 5, 322, 829, 800, 45, 110, 558, 35, 15, 621, 210, 203, 247, 213, 246, 275, 204, 207, 221, 198, 181, 178, 172, 234, 154, 157, 178, 149, 145, 168, 189, 158, 144, 218, 239, 140, 143, 209, 141, 133, 18, 807, 208, 140, 221, 118, 145, 263, 159, 101, 121, 108, 154, 895, 50, 178, 311, 185, 541, 170, 133, 51, 57, 65, 162, 27, 119, 528, 89, 17, 299, 179, 120, 18, 63, 189, 205, 102, 25, 41, 219, 871, 5, 118, 427, 304, 8, 42, 47, 219, 17, 67, 140, 60, 2, 111, 23, 818, 696, 122, 110, 79, 77, 75, 2, 10, 29, 6, 49, 10, 21, 634, 732, 241, 239, 239, 224, 253, 19, 168, 120, 142, 129, 11, 648, 19, 684, 34, 494, 284, 192, 47, 255, 14, 257, 96, 28, 178, 14, 620, 10, 482, 36, 28, 219, 76, 57, 29, 43, 154, 14, 115, 7, 62, 272, 32, 29, 10, 24, 189, 28, 59, 25, 17, 22, 92, 238, 25, 132, 6, 22, 527, 294, 449, 19, 24, 218, 177, 106, 630, 235, 436, 127, 203, 19, 186, 63, 12, 43, 13, 14, 16, 19, 50, 250, 5, 25, 150, 45, 61, 678, 38, 29, 28, 31, 26, 475, 20, 51, 31, 15, 6, 24, 28, 26, 6, 50, 15, 12, 176, 17, 6, 5, 5, 9, 16, 196, 21, 323, 31, 57, 46, 33, 9, 251, 14, 11, 8, 15, 92, 84, 33, 16, 17, 22, 61, 28, 15, 45, 29, 81, 544, 137, 18, 87, 116, 130, 13, 22, 9, 262, 73, 24, 459, 51, 259, 17, 16, 40, 18, 242, 16, 163, 96, 60, 30, 44, 14, 39, 17, 141, 10, 227, 74, 28, 204, 31, 46, 9, 383, 454, 462, 471, 490, 375, 554, 362, 227, 53, 277, 41, 407, 23, 681, 358, 400, 36, 24, 58, 30, 42, 36, 280, 74, 120, 159, 149, 62, 72, 72, 157, 79, 88, 26, 81, 8, 135, 423, 101, 369, 26, 45, 445, 401, 100, 8, 63, 121, 7, 34, 150, 32, 14, 94, 93, 90, 16, 72, 19, 116, 52, 81, 92, 309, 19, 24, 25, 6, 8, 9, 184, 477, 10, 123, 149, 53, 101, 10, 15, 75, 23, 527, 196, 101, 16, 71, 541, 69, 99, 95, 48, 172, 91, 17, 85, 261, 612, 673, 100, 66, 117, 3, 47, 63, 70, 35, 10, 89, 16, 90, 29, 23, 61, 10, 27, 138, 11, 33, 20, 4, 5, 393, 132, 11, 217, 292, 49, 21, 79, 276, 5, 710, 9, 132, 127, 90, 123, 534, 18, 294, 158, 146, 18, 25, 90, 25, 3, 212, 14, 157, 134, 23, 97, 162, 72, 61, 183, 54, 26, 128, 418, 307, 274, 167, 9, 43, 576, 99, 267, 136, 287, 8, 337, 58, 59, 71, 268, 139, 152, 232, 111, 12, 514, 59, 39, 93, 18, 190, 102, 39, 33, 44, 92, 129, 21, 146, 100, 274, 423, 159, 151, 148, 155, 220, 326, 390, 362, 3, 2, 10, 12, 2, 1, 15, 9, 3, 8, 2, 2, 9, 2, 10, 11, 2, 9, 9, 3, 14, 71, 5, 13, 493, 195, 116, 407, 106, 18, 42, 44, 860, 23, 11, 201, 270, 41, 319, 32, 222, 13, 15, 31, 546, 17, 101, 427, 19, 23, 29, 27, 197, 70, 283, 160, 21, 12, 507, 35, 31, 301, 48, 24, 22, 61, 251, 14, 117, 12, 11, 187, 153, 227, 193, 216, 124, 52, 59, 52, 198, 218, 290, 306, 68, 74, 225, 82, 38, 37, 104, 28, 38, 128, 61, 38, 35, 37, 26, 11, 36, 10, 93, 187, 206, 206, 183, 184, 181, 191, 193, 191, 186, 561, 191, 258, 287, 181, 191, 191, 207, 183, 206, 196, 295, 151, 199, 256, 32, 12, 240, 176, 171, 167, 118, 299, 7, 9, 98, 26, 78, 17, 12, 174, 207, 40, 105, 165, 59, 25, 77, 334, 271, 18, 37, 52, 80, 57, 163, 59, 18, 295, 235, 105, 293, 180, 6, 14, 40, 10, 14, 134, 10, 51, 16, 113, 27, 12, 21, 351, 14, 140, 71, 145, 7, 23, 20, 294, 74, 24, 138, 100, 54, 7, 49, 850, 206, 270, 47, 179, 34, 20, 24, 30, 285, 398, 64, 20, 64, 52, 63, 440, 32, 437, 18, 224, 17, 56, 13, 209, 10, 311, 10, 12, 54, 20, 22, 102, 72, 22, 259, 200, 17, 324, 56, 72, 228, 159, 230, 17, 43, 20, 177, 45, 47, 20, 88, 60, 37, 163, 20, 86, 82, 21, 92, 15, 16, 49, 64, 46, 9, 51, 59, 41, 27, 39, 25, 122, 629, 403, 436, 111, 74, 399, 379, 37, 28, 118, 59, 249, 50, 23, 32, 93, 12, 6, 14, 137, 19, 16, 30, 392, 280, 248, 244, 388, 346, 226, 248, 251, 329, 213, 330, 141, 351, 158, 132, 109, 110, 345, 266, 249, 578, 295, 259, 408, 291, 328, 254, 295, 450, 237, 232, 234, 53, 58, 9, 41, 394, 252, 321, 248, 220, 171, 142, 21, 49, 192, 679, 86, 34, 46, 57, 144, 49, 168, 160, 60, 247, 17, 20, 319, 342, 323, 356, 437, 214, 190, 144, 53, 73, 59, 55, 94, 125, 54, 74, 90, 835, 811, 832, 805, 756, 756, 757, 760, 749, 747, 793, 784, 754, 16, 2, 646, 94, 19, 153, 9, 13, 141, 111, 519, 55, 468, 28, 28, 101, 6, 77, 32, 637, 27, 3, 22, 116, 43, 103, 323, 91, 12, 73, 112, 113, 28, 39, 283, 181, 193, 37, 256, 206, 17, 13, 417, 376, 410, 414, 35, 263, 183, 141, 356, 127, 67, 23, 440, 19, 15, 868, 35, 14, 176, 183, 22, 372, 94, 14, 542, 40, 49, 114, 62, 43, 49, 81, 569, 52, 64, 69, 117, 48, 636, 12, 5, 80, 49, 7, 17, 20, 7, 28, 217, 17, 4, 15, 10, 11, 9, 23, 1, 60, 327, 72, 13, 33, 9, 15, 104, 19, 27, 20, 71, 126, 18, 15, 10, 104, 137, 31, 12, 97, 148, 213, 95, 114, 223, 119, 76, 74, 196, 70, 69, 67, 147, 36, 87, 27, 95, 83, 117, 12, 133, 61, 162, 72, 622, 395, 80, 75, 115, 50, 10, 29, 30, 8, 4, 180, 15, 29, 329, 387, 50, 12, 88, 69, 817, 245, 383, 317, 46, 42, 69, 596, 529, 12, 31, 22, 29, 10, 21, 33, 51, 128, 65, 47, 314, 272, 46, 50, 94, 47, 100, 49, 105, 72, 60, 48, 52, 123, 113, 588, 331, 76, 105, 789, 17, 7, 18, 14, 18, 28, 17, 10, 3, 77, 17, 273, 3, 19, 13, 54, 12, 24, 60, 37, 546, 3, 63, 41, 138, 6, 136, 185, 17, 25, 2, 9, 217, 277, 21, 54, 11, 31, 44, 70, 29, 71, 112, 95, 24, 30, 494, 12, 39, 18, 11, 336, 43, 13, 11, 100, 71, 16, 80, 9, 2, 66, 220, 279, 519, 230, 14, 17, 25, 11, 7, 16, 93, 9, 10, 8, 208, 60, 48, 59, 97, 49, 63, 66, 223, 54, 162, 58, 153, 69, 161, 92, 46, 51, 49, 77, 45, 47, 223, 51, 899, 84, 38, 54, 54, 393, 118, 54, 72, 597, 47, 33, 43, 3, 31, 44, 45, 65, 23, 174, 80, 293, 37, 52, 206, 518, 50, 31, 271, 41, 236, 65, 120, 13, 54, 140, 51, 63, 18, 18, 28, 26, 174, 142, 55, 79, 125, 39, 59, 801, 15, 76, 162, 41, 63, 34, 97, 102, 67, 21, 21, 75, 24, 38, 61, 34, 466, 52, 39, 10, 31, 6, 15, 5, 27, 8, 25, 36, 176, 14, 18, 112, 8, 150, 756, 25, 38, 88, 5, 11, 46, 105, 57, 84, 143, 34, 263, 26, 75, 14, 15, 736, 18, 195, 780, 92, 43, 816, 301, 61, 825, 28, 226, 266, 747, 333, 733, 828, 10, 50, 94, 11, 84, 88, 40, 39, 28, 77, 682, 158, 57, 24, 45, 76, 2, 609, 354, 20, 149, 210, 227, 47, 7, 3, 24, 20, 11, 109, 8, 71, 14, 34, 71, 84, 253, 91, 80, 137, 178, 74, 93, 90, 33, 317, 18, 101, 418, 142, 165, 124, 137, 309, 165, 137, 64, 95, 10, 12, 9, 5, 77, 349, 99, 453, 310, 562, 874, 308, 412, 401, 24, 26, 23, 26, 30, 122, 293, 16, 36, 26, 17, 277, 321, 38, 9, 82, 261, 86, 15, 542, 43, 38, 3, 54, 17, 93, 20, 110, 245, 29, 8, 124, 69, 40, 33, 23, 24, 104, 68, 56, 14, 45, 51, 133, 14, 109, 66, 235, 19, 256, 23, 17, 131, 76, 34, 39, 27, 19, 31, 183, 184, 550, 194, 37, 87, 23, 329, 81, 66, 347, 406, 363, 496, 446, 471, 447, 372, 302, 373, 564, 445, 452, 387, 441, 507, 348, 253, 415, 381, 347, 221, 406, 5, 22, 113, 61, 20, 14, 31, 13, 37, 41, 20, 15, 34, 36, 107, 21, 207, 237, 827, 18, 64, 44, 15, 123, 48, 70, 37, 48, 97, 23, 200, 766, 793, 673, 633, 620, 786, 605, 856, 27, 277, 158, 54, 273, 59, 47, 27, 23, 479, 106, 20, 12, 8, 9, 9, 3, 2, 3, 7, 2, 2, 2, 7, 1, 1, 2, 3, 7, 2, 2, 3, 2, 2, 2, 2, 2, 2, 2, 10, 3, 2, 2, 2, 3, 2, 4, 3, 2, 2, 2, 5, 33, 51, 10, 167, 2, 18, 350, 362, 355, 358, 403, 405, 390, 639, 20, 287, 208, 84, 72, 33, 125, 137, 227, 21, 21, 27, 57, 164, 45, 23, 27, 340, 217, 17, 45, 92, 33, 74, 67, 43, 508, 32, 59, 799, 60, 364, 503, 48, 292, 30, 18, 17, 22, 707, 70, 6, 119, 19, 209, 131, 282, 17, 21, 38, 77, 62, 45, 661, 298, 21, 513, 84, 169, 52, 17, 446, 110, 68, 65, 228, 32, 50, 12, 34, 14, 64, 89, 12, 32, 430, 747, 27, 423, 482, 248, 56, 41, 36, 31, 64, 7, 66, 67, 108, 61, 89, 112, 81, 54, 144, 60, 48, 66, 112, 152, 60, 90, 39, 21, 250, 174, 56, 10, 156, 292, 12, 233, 240, 381, 779, 783, 799, 805, 22, 10, 105, 424, 835, 48, 24, 170, 37, 135, 55, 101, 131, 51, 708, 22, 228, 36, 210, 28, 154, 510, 32, 28, 20, 40, 154, 17, 71, 54, 426, 62, 15, 578, 721, 725, 645, 24, 158, 228, 97, 289, 88, 43, 203, 15, 10, 370, 54, 116, 31, 19, 473, 211, 15, 93, 82, 842, 144, 31, 80, 29, 189, 413, 37, 10, 73, 36, 37, 87, 24, 4, 379, 345, 380, 444, 366, 402, 404, 237, 386, 340, 51, 25, 328, 107, 296, 282, 755, 809, 666, 614, 600, 595, 667, 580, 577, 92, 14, 20, 5, 96, 6, 304, 9, 352, 136, 13, 256, 836, 171, 44, 53, 56, 195, 131, 408, 33, 101, 58, 181, 134, 62, 52, 43, 58, 20, 36, 34, 5, 6, 15, 5, 5, 14, 16, 16, 28, 29, 30, 59, 38, 50, 26, 19, 30, 16, 37, 28, 50, 17, 23, 34, 21, 35, 2, 2, 11, 9, 6, 6, 11, 7, 6, 8, 5, 5, 14, 7, 13, 41, 3, 12, 5, 18, 48, 10, 15, 27, 6, 13, 25, 4, 3, 6, 17, 11, 32, 4, 16, 7, 22, 9, 9, 4, 4, 4, 4, 7, 28, 8, 6, 15, 12, 20, 4, 11, 13, 14, 13, 5, 6, 16, 4, 17, 6, 5, 8, 12, 15, 4, 12, 18, 14, 6, 16, 18, 22, 5, 64, 11, 32, 8, 11, 7, 20, 156, 75, 80, 15, 2, 16, 3, 7, 4, 17, 3, 19, 3, 13, 4, 14, 14, 13, 23, 266, 216, 302, 310, 211, 265, 237, 432, 227, 10, 39, 41, 152, 16, 66, 27, 19, 41, 20, 15, 414, 13, 14, 38, 620, 15, 81, 79, 55, 449, 70, 62, 145, 157, 39, 25, 32, 26, 9, 107, 10, 12, 15, 72, 7, 16, 25, 6, 64, 16, 65, 18, 13, 125, 12, 2, 3, 3, 29, 15, 10, 114, 24, 2, 11, 20, 7, 130, 13, 7, 2, 3, 13, 115, 3, 8, 2, 2, 7, 3, 3, 6, 41, 31, 149, 20, 7, 7, 2, 26, 7, 3, 5, 51, 6, 8, 9, 1, 730, 2, 2, 7, 6, 2, 2, 2, 2, 4, 3, 2, 4, 29, 2, 3, 24, 4, 116, 141, 476, 131, 23, 281, 224, 64, 17, 160, 131, 4, 5, 54, 629, 267, 297, 20, 57, 70, 331, 70, 11, 138, 167, 502, 15, 327, 29, 153, 11, 97, 147, 142, 797, 10, 80, 21, 132, 55, 219, 17, 191, 476, 37, 27, 43, 95, 41, 37, 24, 20, 17, 456, 49, 20, 285, 19, 21, 303, 155, 266, 25, 224, 160, 31, 24, 41, 57, 195, 19, 24, 4, 2, 6, 146, 27, 139, 10, 157, 116, 143, 23, 173, 268, 7, 19, 14, 11, 14, 16, 80, 68, 93, 40, 194, 10, 21, 6, 9, 14, 12, 28, 14, 3, 36, 125, 43, 231, 61, 23, 86, 17, 15, 188, 11, 226, 8, 13, 14, 25, 41, 14, 14, 15, 19, 60, 41, 25, 14, 18, 10, 17, 33, 16, 138, 53, 36, 80, 17, 55, 44, 188, 44, 31, 230, 23, 5, 62, 17, 36, 228, 62, 20, 80, 201, 45, 86, 12, 9, 374, 19, 34, 15, 173, 607, 893, 9, 562, 20, 85, 13, 37, 80, 12, 50, 91, 13, 35, 117, 30, 12, 8, 133, 235, 32, 139, 25, 57, 9, 20, 26, 73, 32, 53, 24, 71, 112, 3, 43, 15, 116, 83, 68, 59, 57, 131, 97, 138, 89, 377, 478, 490, 375, 444, 383, 875, 174, 430, 472, 448, 423, 374, 566, 323, 176, 235, 21, 26, 9, 21, 3, 10, 22, 333, 313, 303, 303, 288, 287, 300, 255, 12, 42, 87, 43, 142, 86, 126, 34, 58, 91, 63, 34, 209, 113, 75, 11, 119, 156, 68, 85, 49, 734, 751, 761, 70, 16, 182, 57, 230, 71, 94, 27, 11, 45, 11, 231, 89, 120, 31, 176, 88, 12, 29, 25, 107, 44, 8, 13, 79, 19, 41, 4, 84, 450, 202, 172, 19, 14, 144, 94, 67, 8, 127, 71, 215, 54, 125, 26, 211, 51, 184, 108, 50, 51, 128, 18, 46, 14, 11, 22, 297, 86, 13, 10, 33, 260, 62, 41, 48, 9, 218, 250, 21, 38, 23, 4, 61, 12, 20, 148, 19, 21, 21, 28, 40, 32, 123, 140, 147, 219, 189, 20, 7, 36, 22, 37, 7, 76, 323, 16, 241, 41, 149, 45, 25, 54, 187, 5, 197, 214, 4, 165, 4, 100, 156, 11, 61, 55, 220, 42, 8, 41, 94, 197, 66, 82, 44, 29, 49, 164, 153, 19, 217, 116, 117, 122, 149, 34, 298, 114, 111, 147, 128, 157, 261, 266, 113, 173, 114, 132, 116, 136, 396, 17, 259, 22, 143, 48, 42, 134, 48, 6, 13, 8, 17, 245, 58, 163, 359, 138, 125, 140, 117, 479, 113, 109, 319, 131, 130, 124, 101, 26, 50, 9, 171, 14, 92, 274, 456, 349, 316, 446, 38, 47, 49, 44, 48, 35, 92, 100, 47, 30, 28, 31, 93, 31, 60, 49, 107, 30, 88, 488, 40, 29, 39, 25, 77, 51, 53, 227, 37, 28, 46, 64, 154, 70, 9, 20, 14, 33, 40, 35, 41, 48, 25, 250, 17, 285, 73, 204, 17, 13, 15, 314, 6, 22, 165, 145, 10, 326, 1, 47, 39, 192, 85, 25, 224, 382, 14, 12, 36, 13, 345, 30, 92, 15, 222, 259, 50, 31, 34, 105, 82, 221, 14, 25, 8, 39, 98, 14, 107, 77, 116, 448, 21, 40, 345, 23, 55, 16, 29, 65, 10, 35, 161, 62, 34, 96, 23, 28, 51, 32, 114, 52, 259, 73, 29, 15, 25, 136, 72, 8, 15, 41, 153, 36, 31, 40, 28, 15, 13, 82, 34, 22, 60, 134, 20, 5, 79, 40, 63, 11, 21, 388, 13, 222, 39, 221, 21, 19, 14, 28, 86, 8, 22, 6, 17, 16, 83, 257, 4, 20, 103, 111, 34, 48, 61, 123, 33, 2, 3, 72, 37, 12, 57, 85, 540, 242, 148, 30, 28, 34, 35, 3, 209, 29, 14, 14, 32, 161, 22, 14, 69, 71, 25, 88, 88, 18, 582, 43, 123, 52, 10, 6, 19, 31, 76, 24, 77, 118, 180, 40, 53, 53, 289, 34, 29, 22, 25, 28, 37, 55, 67, 53, 198, 28, 59, 36, 23, 47, 34, 221, 12, 23, 85, 56, 11, 148, 38, 31, 14, 9, 25, 8, 68, 283, 199, 79, 68, 192, 24, 49, 112, 51, 24, 25, 884, 10, 15, 200, 102, 11, 61, 448, 86, 18, 130, 36, 156, 335, 225, 14, 340, 10, 13, 33, 293, 30, 15, 39, 40, 13, 36, 19, 11, 38, 75, 51, 47, 30, 150, 37, 185, 17, 47, 19, 24, 21, 2, 66, 20, 44, 103, 206, 108, 30, 1, 381, 265, 253, 201, 187, 188, 209, 185, 176, 128, 41, 16, 311, 155, 664, 388, 56, 44, 96, 33, 139, 93, 93, 184, 310, 124, 144, 234, 87, 70, 113, 68, 117, 65, 15, 41, 143, 42, 191, 300, 12, 21, 37, 26, 32, 23, 207, 184, 38, 297, 179, 9, 109, 668, 548, 539, 882, 502, 516, 512, 703, 562, 559, 540, 523, 499, 274, 215, 3, 1, 12, 10, 1, 18, 3, 8, 10, 13, 122, 105, 44, 178, 221, 15, 8, 1, 2, 38, 16, 3, 10, 1, 10, 114, 1, 17, 61, 107, 79, 182, 103, 24, 175, 333, 22, 20, 69, 14, 22, 43, 39, 51, 67, 126, 50, 140, 891, 618, 866, 44, 205, 9, 6, 10, 1, 2, 1, 1, 1, 13, 655, 747, 45, 19, 8, 744, 1, 3, 28, 5, 9, 1, 11, 3, 6, 11, 8, 2, 1, 12, 13, 16, 10, 11, 113, 96, 237, 595, 34, 72, 155, 571, 24, 126, 76, 331, 474, 42, 59, 66, 124, 72, 32, 25, 636, 95, 28, 144, 87, 372, 720, 78, 374, 37, 52, 43, 59, 67, 81, 753, 231, 153, 561, 166, 672, 299, 30, 137, 29, 51, 65, 53, 187, 261, 102, 253, 264, 176, 415, 129, 135, 157, 278, 454, 164, 393, 46, 28, 91, 69, 94, 501, 81, 41, 141, 83, 44, 20, 165, 33, 26, 203, 173, 18, 267, 55, 246, 780, 30, 69, 39, 191, 129, 195, 109, 196, 898, 99, 783, 148, 44, 232, 102, 184, 75, 41, 292, 20, 29, 108, 568, 62, 324, 30, 135, 27, 111, 102, 27, 516, 543, 151, 323, 9, 67, 299, 11, 57, 44, 17, 16, 86, 746, 317, 36, 172, 14, 28, 83, 106, 51, 21, 81, 19, 119, 34, 18, 19, 16, 8, 11, 34, 53, 403, 246, 250, 282, 261, 262, 250, 250, 318, 470, 10, 8, 21, 210, 63, 31, 3, 177, 116, 111, 235, 22, 25, 185, 81, 11, 22, 574, 261, 6, 34, 32, 29, 32, 326, 30, 251, 206, 140, 201, 22, 103, 21, 327, 141, 21, 65, 493, 458, 28, 25, 200, 80, 26, 20, 69, 32, 85, 260, 293, 286, 233, 64, 110, 60, 152, 60, 48, 167, 182, 61, 102, 60, 45, 434, 263, 334, 381, 367, 338, 307, 304, 64, 54, 174, 203, 620, 79, 263, 312, 183, 151, 83, 182, 55, 25, 108, 819, 39, 48, 76, 213, 121, 105, 30, 31, 7, 27, 52, 47, 14, 799, 51, 305, 23, 20, 214, 136, 90, 89, 802, 118, 116, 181, 51, 85, 141, 165, 147, 73, 291, 691, 491, 14, 32, 16, 15, 109, 129, 48, 63, 62, 53, 100, 26, 73, 12, 11, 94, 8, 5, 583, 25, 662, 48, 99, 55, 142, 181, 45, 114, 82, 132, 104, 46, 457, 88, 52, 95, 49, 80, 132, 57, 77, 44, 34, 205, 611, 52, 418, 79, 16, 222, 56, 124, 14, 438, 23, 169, 113, 344, 394, 38, 396, 116, 465, 12, 88, 23, 44, 4, 60, 21, 44, 77, 380, 29, 11, 35, 51, 117, 43, 44, 864, 28, 78, 23, 48, 127, 26, 145, 896, 890, 61, 408, 252, 236, 549, 250, 590, 246, 882, 717, 243, 349, 256, 254, 250, 246, 262, 273, 244, 247, 315, 19, 7, 64, 42, 19, 481, 7, 854, 172, 123, 13, 52, 230, 31, 74, 96, 41, 11, 16, 43, 92, 40, 299, 360, 58, 51, 13, 24, 331, 176, 192, 339, 775, 462, 56, 460, 461, 520, 447, 111, 51, 19, 114, 30, 28, 97, 405, 60, 197, 407, 761, 690, 82, 753, 74, 727, 647, 731, 652, 700, 85, 69, 28, 101, 32, 5, 101, 3, 145, 28, 52, 85, 156, 43, 76, 27, 115, 80, 36, 118, 14, 99, 126, 134, 8, 48, 67, 134, 136, 103, 128, 59, 39, 17, 62, 16, 29, 56, 63, 41, 303, 882, 301, 114, 40, 66, 16, 11, 19, 357, 59, 128, 675, 32, 106, 118, 162, 114, 160, 128, 10, 326, 656, 9, 94, 14, 7, 10, 49, 196, 23, 388, 141, 30, 13, 9, 90, 69, 23, 25, 7, 71, 91, 16, 511, 11, 14, 29, 413, 72, 48, 113, 221, 12, 298, 21, 131, 23, 7, 7, 11, 18, 364, 6, 193, 57, 91, 61, 131, 57, 188, 33, 4, 24, 210, 8, 7, 48, 38, 24, 102, 175, 14, 78, 48, 172, 33, 102, 231, 83, 127, 202, 13, 289, 43, 390, 88, 12, 97, 5, 99, 11, 14, 8, 217, 14, 72, 71, 58, 83, 47, 42, 16, 46, 9, 47, 20, 17, 33, 10, 7, 11, 37, 22, 198, 4, 154, 97, 12, 8, 23, 93, 21, 21, 49, 117, 79, 47, 78, 11, 18, 21, 22, 70, 157, 113, 39, 331, 13, 27, 8, 275, 85, 15, 16, 7, 53, 337, 115, 414, 142, 147, 112, 110, 34, 254, 170, 147, 15, 10, 10, 113, 51, 516, 182, 340, 308, 131, 364, 97, 179, 101, 326, 267, 129, 164, 223, 396, 416, 334, 111, 257, 175, 442, 414, 156, 127, 323, 133, 100, 196, 103, 205, 410, 141, 129, 143, 139, 197, 110, 229, 97, 94, 82, 58, 7, 47, 30, 52, 139, 22, 89, 356, 9, 180, 50, 63, 61, 316, 11, 12, 35, 30, 503, 13, 304, 32, 456, 32, 46, 11, 151, 10, 83, 57, 173, 241, 247, 242, 239, 235, 16, 54, 15, 15, 7, 29, 14, 350, 442, 6, 6, 26, 253, 123, 131, 125, 136, 7, 16, 7, 16, 195, 73, 152, 9, 42, 28, 381, 375, 415, 18, 89, 10, 27, 43, 17, 162, 325, 278, 331, 285, 277, 521, 14, 90, 106, 87, 143, 33, 19, 207, 72, 227, 229, 69, 32, 787, 656, 10, 45, 8, 16, 66, 12, 18, 17, 84, 8, 872, 176, 92, 179, 63, 12, 128, 98, 14, 600, 318, 12, 188, 121, 34, 37, 16, 15, 43, 736, 98, 22, 43, 36, 721, 200, 672, 50, 18, 131, 15, 22, 162, 29, 25, 1, 23, 51, 25, 99, 47, 90, 115, 41, 53, 37, 34, 112, 45, 41, 14, 52, 38, 888, 337, 630, 355, 149, 455, 568, 488, 453, 438, 192, 219, 13, 33, 82, 66, 81, 192, 77, 63, 457, 269, 16, 106, 209, 75, 107, 68, 73, 84, 77, 73, 106, 71, 84, 187, 29, 242, 28, 164, 116, 75, 63, 5, 3, 6, 2, 9, 29, 25, 31, 52, 114, 19, 273, 249, 277, 257, 256, 263, 23, 246, 245, 284, 44, 33, 30, 9, 15, 11, 3, 664, 30, 54, 24, 35, 31, 29, 27, 26, 34, 28, 27, 187, 23, 28, 49, 19, 26, 27, 18, 31, 24, 47, 41, 45, 48, 23, 392, 79, 39, 21, 78, 16, 670, 21, 4, 101, 13, 21, 7, 23, 25, 35, 5, 2, 51, 17, 8, 122, 14, 1, 84, 27, 15, 22, 32, 53, 9, 31, 18, 8, 14, 128, 51, 27, 9, 204, 31, 29, 158, 31, 27, 53, 34, 353, 17, 105, 118, 56, 31, 63, 99, 21, 5, 29, 121, 69, 4, 67, 424, 58, 71, 9, 10, 9, 13, 9, 21, 264, 68, 28, 114, 49, 67, 57, 21, 14, 390, 36, 70, 22, 45, 36, 241, 108, 3, 57, 35, 9, 77, 485, 7, 9, 47, 14, 10, 12, 139, 51, 107, 335, 56, 680, 25, 370, 58, 73, 35, 23, 39, 18, 696, 103, 20, 107, 3, 30, 32, 243, 235, 290, 328, 327, 358, 238, 315, 233, 73, 22, 143, 118, 19, 44, 11, 9, 24, 76, 43, 224, 10, 6, 20, 295, 82, 51, 67, 158, 5, 12, 23, 7, 57, 52, 12, 1, 301, 291, 284, 304, 511, 28, 28, 44, 9, 14, 40, 265, 242, 253, 222, 215, 209, 228, 305, 20, 57, 384, 196, 179, 247, 203, 263, 53, 117, 31, 29, 12, 36, 28, 23, 342, 171, 191, 364, 147, 65, 218, 21, 7, 13, 32, 66, 4, 8, 10, 40, 16, 31, 29, 45, 160, 10, 665, 31, 19, 18, 11, 10, 68, 30, 24, 168, 59, 12, 24, 94, 35, 24, 208, 40, 64, 26, 97, 54, 174, 45, 8, 14, 421, 69, 23, 49, 5, 11, 39, 20, 13, 11, 18, 86, 7, 51, 13, 10, 3, 7, 11, 614, 8, 67, 13, 7, 6, 19, 6, 23, 22, 3, 13, 7, 14, 18, 22, 188, 28, 16, 146, 54, 50, 64, 33, 469, 113, 29, 26, 1, 1, 42, 18, 327, 6, 52, 1, 11, 4, 17, 620, 34, 15, 104, 768, 86, 838, 3, 3, 12, 17, 4, 8, 6, 14, 3, 4, 3, 12, 4, 5, 15, 69, 86, 60, 62, 52, 58, 199, 58, 193, 67, 62, 48, 46, 39, 104, 46, 69, 48, 46, 62, 47, 263, 53, 120, 94, 32, 17, 15, 71, 33, 162, 88, 14, 37, 10, 385, 599, 208, 40, 86, 77, 99, 26, 102, 176, 33, 672, 122, 28, 471, 520, 88, 17, 280, 223, 302, 8, 25, 27, 178, 15, 106, 123, 9, 141, 251, 765, 763, 761, 810, 767, 825, 758, 24, 252, 116, 610, 61, 54, 161, 59, 123, 11, 8, 173, 201, 127, 59, 197, 86, 68, 127, 61, 51, 58, 163, 171, 31, 23, 23, 249, 461, 19, 5, 62, 7, 20, 39, 11, 12, 9, 10, 44, 262, 225, 217, 208, 207, 837, 155, 394, 197, 239, 307, 145, 267, 59, 63, 72, 261, 150, 47, 106, 221, 16, 191, 38, 31, 25, 22, 62, 57, 17, 40, 72, 27, 181, 7, 24, 11, 22, 56, 46, 28, 170, 50, 204, 11, 88, 340, 301, 188, 185, 179, 89, 655, 47, 111, 64, 70, 55, 67, 160, 40, 36, 342, 17, 112, 882, 15, 24, 65, 701, 86, 37, 14, 15, 32, 40, 153, 200, 200, 446, 145, 25, 18, 104, 26, 503, 563, 28, 143, 93, 10, 355, 306, 258, 74, 66, 29, 439, 21, 146, 521, 87, 287, 47, 31, 81, 16, 121, 31, 187, 134, 38, 163, 280, 11, 7, 61, 18, 54, 32, 134, 187, 184, 28, 247, 37, 97, 80, 17, 65, 123, 168, 132, 16, 102, 28, 343, 28, 16, 155, 70, 121, 27, 72, 132, 66, 61, 235, 194, 85, 243, 100, 171, 57, 50, 38, 25, 10, 565, 20, 248, 263, 294, 223, 202, 220, 603, 389, 209, 208, 242, 211, 313, 219, 425, 329, 192, 15, 359, 214, 233, 200, 7, 184, 148, 21, 5, 71, 7, 799, 447, 1, 3, 14, 17, 15, 6, 3, 13, 103, 84, 5, 72, 24, 343, 36, 71, 1, 26, 59, 213, 32, 6, 67, 130, 785, 38, 16, 22, 12, 33, 99, 2, 10, 2, 26, 22, 54, 13, 8, 10, 19, 5, 23, 130, 9, 13, 8, 96, 260, 15, 382, 18, 765, 313, 3, 5, 18, 9, 142, 50, 213, 37, 14, 9, 361, 14, 27, 9, 7, 14, 4, 18, 23, 87, 20, 265, 81, 51, 19, 34, 81, 562, 6, 6, 26, 19, 702, 34, 20, 57, 109, 330, 136, 193, 73, 46, 53, 71, 53, 110, 109, 46, 48, 172, 62, 72, 59, 109, 57, 56, 75, 82, 79, 61, 68, 74, 73, 67, 78, 79, 71, 62, 59, 64, 156, 121, 77, 95, 162, 179, 286, 176, 149, 225, 155, 15, 2, 12, 88, 171, 153, 53, 52, 17, 366, 9, 772, 62, 327, 489, 491, 607, 616, 635, 504, 613, 603, 66, 20, 31, 34, 412, 52, 53, 89, 46, 69, 37, 68, 53, 35, 18, 23, 102, 39, 43, 28, 104, 8, 12, 17, 24, 47, 16, 115, 300, 17, 25, 114, 90, 13, 23, 21, 6, 64, 104, 12, 8, 25, 24, 9, 7, 51, 17, 55, 45, 33, 11, 7, 18, 16, 14, 28, 46, 37, 22, 16, 18, 58, 33, 23, 10, 52, 565, 22, 17, 35, 260, 167, 49, 37, 38, 39, 43, 37, 54, 50, 57, 144, 24, 32, 41, 47, 76, 11, 5, 31, 88, 7, 58, 69, 9, 46, 49, 65, 64, 41, 102, 75, 289, 177, 68, 290, 35, 6, 136, 37, 87, 32, 172, 10, 39, 142, 428, 151, 146, 142, 170, 144, 173, 140, 315, 219, 212, 146, 192, 195, 147, 140, 282, 9, 111, 215, 251, 12, 20, 94, 295, 21, 78, 30, 154, 8, 89, 143, 169, 139, 140, 148, 228, 135, 9, 66, 4, 95, 21, 42, 25, 12, 11, 20, 6, 11, 8, 25, 20, 33, 7, 29, 7, 166, 247, 256, 257, 239, 249, 218, 200, 245, 219, 206, 207, 210, 196, 195, 223, 203, 210, 239, 238, 195, 215, 244, 204, 210, 241, 228, 205, 206, 197, 217, 312, 209, 251, 237, 234, 239, 241, 240, 355, 238, 257, 248, 247, 255, 249, 325, 273, 249, 244, 245, 295, 391, 70, 84, 56, 48, 42, 189, 327, 9, 130, 690, 110, 211, 507, 665, 173, 152, 67, 121, 129, 64, 560, 15, 41, 145, 251, 113, 388, 56, 56, 5, 39, 40, 749, 520, 10, 165, 79, 436, 69, 99, 52, 874, 100, 59, 17, 121, 278, 49, 59, 19, 155, 99, 25, 41, 17, 161, 24, 65, 31, 19, 57, 177, 743, 753, 713, 773, 709, 764, 709, 696, 503, 535, 485, 500, 482, 53, 43, 48, 194, 226, 83, 473, 8, 170, 12, 7, 17, 48, 18, 28, 140, 22, 42, 6, 337, 54, 15, 353, 3, 189, 209, 188, 182, 183, 195, 180, 193, 184, 198, 137, 122, 176, 180, 396, 170, 136, 134, 144, 126, 118, 110, 99, 81, 79, 240, 94, 99, 84, 233, 236, 235, 235, 219, 26, 105, 90, 32, 183, 48, 166, 455, 118, 75, 20, 10, 204, 11, 13, 12, 207, 210, 195, 102, 61, 85, 435, 99, 261, 68, 54, 53, 88, 85, 86, 420, 48, 88, 57, 45, 86, 62, 4, 18, 206, 232, 330, 47, 32, 561, 6, 10, 46, 19, 14, 32, 69, 265, 78, 71, 78, 94, 195, 233, 402, 241, 206, 196, 188, 222, 233, 189, 192, 327, 8, 8, 42, 212, 192, 19, 276, 99, 64, 77, 206, 473, 855, 76, 67, 78, 71, 175, 60, 48, 440, 14, 26, 15, 25, 4, 21, 158, 222, 185, 126, 184, 190, 204, 170, 220, 175, 169, 190, 179, 186, 251, 178, 266, 164, 223, 177, 158, 90, 110, 101, 150, 114, 97, 202, 109, 96, 167, 87, 100, 132, 122, 226, 724, 766, 232, 71, 137, 81, 82, 74, 72, 63, 92, 235, 86, 73, 55, 78, 174, 55, 54, 80, 39, 145, 42, 149, 101, 31, 57, 40, 68, 38, 33, 38, 42, 32, 51, 18, 24, 12, 12, 7, 155, 218, 211, 224, 238, 201, 173, 475, 79, 75, 80, 107, 75, 77, 132, 87, 74, 78, 72, 105, 73, 76, 92, 81, 80, 87, 84, 75, 213, 73, 99, 95, 71, 68, 98, 56, 58, 45, 30, 30, 50, 32, 38, 33, 36, 37, 34, 24, 72, 28, 27, 50, 49, 26, 150, 46, 48, 88, 35, 72, 60, 36, 35, 55, 38, 34, 34, 26, 42, 105, 198, 33, 47, 324, 134, 64, 467, 68, 63, 65, 188, 80, 78, 93, 79, 148, 89, 98, 74, 66, 64, 67, 62, 59, 53, 62, 103, 563, 599, 576, 609, 575, 592, 580, 571, 575, 588, 624, 48, 41, 57, 37, 13, 15, 7, 11, 146, 97, 59, 60, 81, 83, 181, 114, 54, 37, 28, 17, 426, 560, 571, 544, 561, 586, 554, 563, 550, 574, 561, 556, 553, 553, 550, 546, 561, 556, 553, 548, 556, 566, 543, 602, 561, 553, 533, 541, 544, 541, 537, 564, 553, 859, 757, 556, 537, 54, 58, 271, 68, 39, 9, 53, 37, 186, 9, 227, 152, 156, 154, 148, 148, 140, 227, 139, 551, 23, 13, 425, 527, 527, 535, 536, 554, 528, 556, 535, 524, 534, 533, 535, 539, 565, 614, 567, 545, 562, 530, 539, 537, 538, 609, 527, 527, 534, 556, 533, 564, 533, 559, 543, 568, 565, 526, 670, 524, 516, 532, 516, 558, 524, 79, 504, 487, 468, 435, 437, 430, 524, 76, 42, 425, 351, 327, 319, 317, 314, 343, 325, 346, 306, 318, 38, 64, 397, 91, 43, 296, 309, 290, 293, 287, 303, 311, 311, 292, 306, 290, 302, 21, 283, 298, 293, 310, 345, 293, 293, 287, 280, 280, 293, 349, 672, 283, 282, 282, 16, 15, 10, 71, 27, 17, 8, 15, 51, 5, 16, 21, 8, 13, 6, 34, 45, 146, 5, 12, 60, 114, 139, 457, 131, 171, 121, 33, 261, 108, 4, 78, 20, 82, 90, 22, 30, 118, 2, 13, 650, 167, 262, 150, 31, 14, 8, 9, 14, 55, 159, 6, 9, 18, 10, 15, 3, 10, 154, 10, 26, 51, 43, 8, 41, 24, 73, 10, 119, 377, 71, 206, 33, 578, 13, 54, 25, 610, 120, 16, 15, 64, 71, 62, 12, 102, 45, 69, 8, 24, 47, 147, 11, 57, 13, 6, 142, 18, 26, 451, 384, 309, 295, 272, 273, 319, 15, 378, 418, 82, 25, 19, 15, 35, 12, 59, 51, 11, 30, 298, 111, 756, 83, 18, 116, 292, 71, 117, 26, 31, 74, 34, 25, 222, 11, 327, 287, 415, 15, 190, 166, 41, 125, 5, 268, 264, 754, 20, 6, 7, 22, 95, 61, 539, 31, 57, 87, 25, 62, 36, 78, 56, 72, 579, 117, 127, 60, 31, 63, 27, 336, 142, 338, 19, 50, 171, 52, 37, 20, 58, 97, 9, 115, 40, 152, 67, 2, 17, 28, 136, 612, 5, 39, 41, 12, 33, 8, 29, 32, 244, 78, 14, 5, 19, 15, 29, 8, 4, 10, 9, 226, 19, 58, 120, 276, 10, 19, 608, 276, 255, 261, 265, 307, 258, 251, 95, 10, 10, 77, 90, 402, 81, 83, 101, 80, 79, 103, 83, 72, 86, 217, 882, 564, 890, 248, 238, 245, 225, 220, 220, 224, 226, 225, 221, 233, 219, 257, 246, 270, 219, 251, 257, 335, 52, 221, 223, 310, 216, 235, 260, 225, 136, 18, 11, 531, 51, 20, 77, 10, 235, 23, 155, 237, 16, 89, 25, 285, 92, 10, 549, 868, 251, 258, 244, 449, 281, 46, 245, 234, 295, 486, 225, 256, 376, 486, 513, 71, 64, 95, 477, 20, 41, 45, 47, 52, 131, 118, 38, 47, 21, 102, 177, 41, 107, 46, 64, 32, 29, 125, 8, 166, 42, 50, 34, 52, 119, 11, 13, 23, 31, 59, 20, 37, 15, 37, 41, 16, 449, 28, 35, 22, 11, 8, 20, 109, 11, 69, 11, 162, 203, 8, 235, 24, 10, 139, 7, 1, 7, 28, 131, 115, 208, 71, 11, 55, 33, 23, 20, 76, 173, 17, 106, 18, 163, 212, 229, 225, 252, 833, 16, 15, 247, 12, 130, 20, 306, 205, 209, 215, 424, 231, 289, 398, 190, 203, 271, 195, 249, 205, 194, 194, 240, 210, 188, 199, 226, 197, 267, 194, 236, 203, 215, 243, 204, 211, 214, 277, 264, 259, 267, 226, 184, 165, 307, 157, 176, 168, 170, 161, 172, 154, 177, 198, 138, 38, 114, 95, 239, 42, 44, 56, 65, 116, 119, 28, 450, 379, 368, 367, 354, 361, 434, 748, 366, 394, 374, 362, 376, 356, 355, 528, 359, 372, 361, 360, 440, 405, 432, 366, 159, 18, 17, 115, 136, 313, 31, 636, 17, 22, 123, 22, 177, 48, 51, 39, 13, 19, 83, 222, 22, 6, 323, 6, 12, 102, 47, 36, 44, 12, 101, 31, 35, 93, 68, 10, 3, 13, 75, 112, 18, 47, 19, 128, 11, 146, 180, 212, 77, 53, 60, 30, 184, 72, 43, 49, 31, 243, 43, 493, 32, 293, 160, 133, 31, 49, 40, 179, 58, 11, 53, 39, 229, 172, 61, 258, 51, 122, 143, 347, 308, 362, 52, 321, 298, 309, 62, 312, 344, 491, 299, 333, 421, 304, 307, 445, 532, 59, 331, 33, 331, 182, 324, 309, 329, 340, 297, 125, 88, 89, 295, 330, 86, 77, 44, 93, 32, 72, 458, 139, 282, 290, 58, 234, 24, 132, 34, 136, 238, 319, 113, 86, 200, 69, 42, 118, 127, 139, 132, 127, 113, 30, 24, 32, 68, 334, 32, 21, 57, 19, 12, 38, 47, 53, 154, 33, 23, 32, 18, 47, 13, 66, 173, 144, 140, 288, 92, 142, 26, 111, 32, 63, 20, 476, 42, 8, 188, 34, 21, 9, 860, 15, 52, 130, 676, 122, 230, 115, 116, 128, 114, 23, 108, 139, 103, 113, 102, 182, 108, 182, 99, 149, 175, 103, 102, 97, 113, 220, 124, 161, 22, 29, 97, 106, 103, 98, 100, 101, 106, 110, 288, 192, 124, 100, 96, 152, 132, 120, 14, 90, 55, 8, 26, 91, 13, 86, 70, 211, 14, 79, 141, 57, 80, 141, 70, 150, 61, 41, 28, 188, 27, 25, 23, 64, 25, 31, 22, 17, 1, 2, 7, 11, 18, 6, 22, 9, 1, 20, 34, 20, 21, 15, 341, 20, 6, 36, 13, 123, 157, 53, 34, 66, 6, 16, 24, 55, 20, 63, 9, 80, 86, 182, 46, 410, 34, 9, 50, 90, 17, 135, 53, 42, 174, 83, 37, 60, 60, 83, 41, 61, 25, 12, 7, 69, 174, 20, 620, 283, 20, 312, 10, 459, 227, 244, 217, 707, 63, 26, 308, 39, 226, 282, 242, 62, 59, 55, 21, 18, 458, 46, 318, 76, 120, 11, 101, 8, 110, 18, 225, 40, 276, 22, 90, 75, 39, 49, 413, 223, 186, 135, 126, 159, 188, 127, 119, 119, 103, 178, 184, 131, 85, 122, 97, 56, 50, 66, 56, 47, 43, 49, 68, 56, 71, 66, 67, 148, 49, 360, 97, 76, 44, 156, 78, 34, 482, 217, 84, 163, 6, 30, 147, 42, 38, 43, 55, 22, 53, 19, 70, 11, 104, 13, 5, 98, 45, 275, 29, 56, 414, 105, 53, 144, 56, 34, 76, 16, 54, 59, 35, 13, 218, 17, 7, 12, 227, 65, 146, 36, 63, 48, 10, 5, 35, 18, 360, 19, 41, 37, 151, 247, 24, 27, 29, 48, 47, 45, 43, 370, 21, 93, 21, 262, 449, 271, 22, 16, 26, 22, 52, 13, 22, 15, 82, 34, 57, 62, 87, 16, 35, 219, 65, 255, 10, 388, 54, 25, 77, 407, 62, 25, 53, 20, 72, 97, 2, 75, 60, 488, 51, 88, 248, 62, 98, 27, 359, 66, 322, 48, 60, 43, 258, 266, 300, 596, 627, 30, 248, 345, 87, 187, 37, 41, 146, 23, 149, 130, 106, 25, 26, 2, 255, 113, 814, 264, 165, 182, 154, 245, 64, 80, 11, 12, 302, 688, 19, 566, 188, 130, 272, 134, 207, 188, 207, 177, 212, 155, 142, 118, 463, 31, 237, 132, 44, 8, 28, 5, 14, 148, 86, 29, 184, 227, 249, 52, 145, 103, 150, 111, 97, 27, 22, 48, 32, 300, 26, 58, 165, 210, 74, 56, 78, 322, 71, 84, 57, 73, 89, 77, 83, 74, 80, 47, 21, 66, 55, 52, 43, 119, 12, 282, 11, 29, 14, 7, 63, 21, 93, 124, 36, 52, 44, 37, 31, 45, 46, 47, 37, 45, 39, 32, 52, 30, 51, 39, 36, 89, 87, 38, 46, 31, 34, 38, 34, 49, 65, 153, 89, 32, 45, 35, 40, 40, 59, 37, 39, 54, 89, 463, 64, 33, 93, 47, 331, 167, 459, 11, 52, 28, 314, 492, 74, 33, 318, 15, 196, 19, 12, 194, 5, 142, 10, 157, 37, 57, 15, 111, 39, 223, 47, 191, 195, 221, 198, 358, 223, 285, 341, 317, 212, 187, 53, 437, 27, 65, 537, 10, 71, 94, 114, 40, 104, 321, 56, 219, 154, 47, 122, 252, 72, 184, 33, 233, 61, 84, 25, 123, 108, 96, 28, 25, 32, 39, 11, 15, 13, 63, 9, 323, 8, 268, 21, 417, 530, 470, 409, 416, 409, 400, 6, 218, 182, 83, 27, 18, 594, 733, 4, 13, 146, 78, 32, 24, 16, 42, 260, 511, 12, 207, 199, 189, 215, 9, 82, 208, 584, 54, 35, 308, 814, 189, 212, 201, 460, 209, 163, 35, 22, 46, 22, 138, 47, 21, 111, 106, 271, 112, 192, 29, 110, 344, 134, 274, 211, 187, 202, 208, 183, 8, 120, 173, 190, 173, 163, 65, 8, 36, 236, 130, 13, 108, 22, 355, 379, 8, 16, 9, 166, 118, 107, 228, 24, 4, 18, 19, 35, 90, 162, 149, 14, 25, 852, 25, 27, 815, 518, 705, 18, 7, 11, 10, 42, 22, 43, 23, 152, 26, 380, 16, 784, 14, 17, 135, 23, 83, 162, 42, 12, 58, 44, 20, 15, 667, 463, 408, 401, 408, 408, 539, 402, 523, 397, 395, 765, 377, 375, 581, 66, 305, 316, 261, 413, 181, 26, 262, 196, 237, 830, 17, 66, 73, 81, 30, 147, 230, 307, 240, 527, 48, 418, 52, 2, 241, 217, 241, 255, 166, 236, 680, 46, 430, 422, 185, 163, 750, 428, 458, 484, 457, 479, 586, 596, 489, 424, 418, 684, 239, 180, 37, 60, 61, 26, 20, 28, 8, 14, 23, 19, 16, 5, 12, 30, 23, 76, 11, 25, 55, 17, 28, 24, 11, 16, 15, 101, 12, 41, 27, 7, 19, 42, 9, 23, 18, 49, 18, 12, 11, 110, 319, 117, 13, 56, 36, 135, 117, 507, 59, 6, 31, 77, 30, 28, 71, 32, 212, 60, 60, 62, 32, 33, 148, 32, 16, 642, 27, 10, 148, 55, 47, 13, 61, 181, 23, 79, 95, 13, 109, 44, 12, 50, 153, 14, 55, 44, 6, 161, 48, 94, 40, 24, 9, 5, 22, 177, 233, 8, 84, 21, 8, 12, 23, 29, 125, 60, 17, 24, 7, 18, 64, 21, 49, 124, 5, 50, 106, 336, 8, 11, 28, 109, 114, 22, 113, 422, 453, 350, 16, 25, 144, 7, 144, 14, 23, 59, 23, 26, 5, 11, 219, 199, 14, 34, 19, 8, 30, 14, 185, 9, 46, 19, 400, 58, 493, 570, 418, 35, 131, 24, 57, 11, 293, 58, 278, 87, 119, 27, 102, 40, 57, 311, 295, 287, 258, 250, 79, 41, 4, 705, 526, 535, 545, 479, 515, 597, 844, 724, 516, 518, 476, 466, 453, 653, 445, 124, 70, 26, 85, 760, 227, 171, 229, 338, 338, 196, 170, 214, 201, 266, 29, 23, 59, 51, 98, 16, 149, 240, 8, 127, 6, 23, 6, 41, 106, 278, 90, 17, 50, 100, 9, 24, 176, 44, 99, 453, 509, 376, 350, 532, 370, 386, 372, 49, 346, 36, 232, 42, 143, 883, 868, 873, 863, 854, 555, 18, 46, 118, 493, 61, 8, 12, 585, 17, 128, 164, 11, 190, 144, 38, 35, 160, 126, 119, 126, 280, 19, 295, 466, 257, 81, 259, 8, 2, 7, 8, 8, 8, 7, 10, 8, 8, 10, 7, 8, 9, 9, 41, 47, 80, 11, 35, 16, 9, 13, 12, 15, 13, 7, 47, 18, 135, 164, 105, 131, 18, 26, 31, 37, 66, 39, 98, 131, 9, 31, 30, 55, 96, 16, 20, 10, 12, 9, 7, 7, 7, 8, 30, 20, 9, 12, 13, 9, 8, 9, 19, 24, 174, 290, 171, 152, 9, 64, 65, 4, 16, 2, 3, 17, 3, 154, 1, 173, 93, 117, 477, 552, 262, 142, 123, 148, 280, 120, 27, 62, 493, 217, 188, 454, 81, 336, 7, 129, 91, 91, 159, 114, 102, 342, 137, 97, 93, 9, 22, 224, 11, 43, 153, 37, 99, 14, 453, 19, 9, 37, 20, 12, 240, 23, 32, 14, 14, 31, 45, 161, 381, 13, 19, 9, 44, 14, 10, 5, 30, 3, 18, 20, 4, 16, 12, 44, 6, 41, 18, 18, 75, 111, 11, 29, 24, 35, 13, 44, 7, 11, 8, 114, 372, 21, 13, 46, 15, 91, 31, 28, 79, 130, 488, 9, 30, 69, 100, 36, 2, 27, 48, 468, 12, 17, 46, 7, 11, 112, 211, 771, 269, 657, 656, 546, 553, 671, 597, 544, 224, 202, 178, 195, 550, 170, 594, 96, 619, 509, 44, 534, 175, 859, 133, 10, 24, 14, 45, 4, 5, 23, 18, 5, 25, 18, 22, 19, 153, 679, 620, 142, 127, 375, 603, 15, 43, 71, 500, 241, 127, 8, 25, 341, 146, 100, 139, 88, 32, 80, 29, 30, 339, 165, 133, 483, 130, 295, 61, 769, 58, 73, 22, 26, 821, 9, 43, 787, 112, 119, 147, 177, 826, 217, 224, 518, 43, 40, 491, 814, 165, 153, 636, 176, 56, 546, 48, 363, 91, 296, 419, 40, 213, 94, 31, 28, 108, 108, 46, 154, 27, 16, 17, 165, 9, 59, 42, 58, 40, 57, 10, 94, 5, 17, 296, 104, 71, 19, 78, 704, 50, 106, 632, 13, 111, 9, 15, 166, 661, 46, 125, 318, 29, 103, 9, 17, 3, 7, 5, 10, 43, 14, 4, 12, 73, 19, 439, 431, 24, 797, 295, 494, 54, 109, 661, 129, 83, 148, 113, 103, 156, 157, 74, 216, 54, 259, 763, 137, 22, 75, 50, 58, 186, 571, 772, 9, 84, 138, 61, 141, 83, 114, 84, 569, 43, 56, 2, 10, 41, 661, 29, 30, 115, 444, 27, 391, 75, 25, 24, 75, 60, 43, 74, 37, 635, 33, 16, 171, 129, 399, 35, 159, 44, 84, 103, 63, 74, 509, 489, 32, 119, 663, 290, 29, 18, 27, 137, 8, 26, 130, 17, 579, 833, 18, 485, 126, 120, 24, 68, 30, 11, 5, 478, 40, 107, 682, 288, 14, 83, 118, 23, 225, 38, 52, 74, 97, 585, 89, 65, 59, 224, 184, 170, 238, 275, 130, 116, 264, 384, 539, 205, 107, 441, 60, 43, 40, 63, 62, 736, 751, 730, 735, 736, 770, 25, 173, 69, 282, 10, 31, 16, 137, 42, 70, 16, 53, 177, 21, 20, 208, 443, 438, 419, 381, 200, 202, 15, 82, 53, 10, 117, 13, 126, 29, 214, 21, 165, 158, 735, 29, 20, 58, 123, 890, 15, 57, 26, 22, 33, 24, 42, 106, 36, 11, 11, 18, 176, 15, 53, 48, 8, 135, 11, 125, 51, 41, 8, 9, 47, 14, 36, 43, 120, 335, 43, 114, 2, 8, 12, 335, 49, 80, 73, 72, 81, 50, 29, 39, 64, 42, 41, 100, 420, 26, 78, 145, 102, 85, 47, 41, 23, 10, 23, 59, 404, 11, 5, 39, 53, 19, 79, 720, 743, 797, 17, 511, 730, 798, 822, 778, 723, 743, 899, 21, 14, 54, 721, 714, 737, 14, 730, 15, 37, 816, 31, 40, 26, 731, 15, 777, 51, 48, 726, 718, 765, 22, 39, 707, 786, 8, 26, 13, 35, 736, 15, 7, 787, 54, 22, 60, 704, 31, 19, 641, 383, 644, 630, 614, 18, 6, 12, 337, 32, 48, 3, 139, 28, 165, 22, 25, 123, 8, 81, 49, 143, 19, 15, 40, 7, 16, 16, 7, 24, 7, 96, 57, 6, 38, 55, 147, 100, 49, 88, 234, 201, 8, 7, 224, 8, 46, 17, 47, 9, 24, 12, 14, 401, 29, 12, 26, 10, 23, 14, 41, 75, 11, 177, 9, 168, 191, 9, 41, 35, 37, 90, 37, 10, 43, 10, 16, 18, 12, 84, 68, 325, 15, 75, 331, 141, 299, 299, 288, 4, 68, 8, 357, 180, 13, 295, 604, 573, 577, 7, 704, 200, 563, 11, 571, 720, 8, 22, 12, 72, 9, 251, 594, 606, 322, 243, 53, 20, 550, 6, 643, 612, 531, 514, 453, 545, 515, 447, 454, 456, 448, 548, 821, 54, 292, 79, 280, 199, 17, 18, 12, 85, 7, 8, 244, 30, 74, 7, 14, 132, 6, 39, 23, 47, 504, 437, 46, 52, 28, 8, 17, 34, 310, 22, 144, 131, 299, 39, 4, 111, 77, 19, 25, 11, 19, 416, 70, 239, 448, 16, 56, 55, 159, 113, 19, 44, 12, 22, 10, 255, 150, 135, 27, 16, 30, 22, 8, 11, 7, 87, 392, 20, 29, 151, 106, 51, 155, 76, 74, 98, 42, 873, 109, 50, 72, 125, 764, 431, 56, 65, 167, 91, 394, 448, 123, 93, 132, 17, 687, 194, 667, 700, 106, 147, 219, 123, 154, 126, 140, 301, 63, 26, 517, 11, 475, 108, 97, 438, 87, 24, 87, 148, 50, 12, 139, 192, 7, 7, 26, 56, 375, 461, 12, 41, 18, 717, 296, 174, 60, 77, 438, 23, 63, 883, 8, 348, 544, 216, 178, 44, 262, 233, 193, 113, 116, 12, 13, 60, 14, 89, 15, 35, 17, 41, 13, 8, 23, 11, 289, 15, 18, 52, 132, 49, 54, 63, 74, 87, 9, 15, 14, 112, 44, 29, 98, 65, 93, 138, 45, 41, 50, 61, 65, 8, 9, 38, 19, 57, 204, 31, 92, 11, 290, 35, 14, 95, 139, 172, 233, 51, 572, 131, 140, 102, 121, 25, 66, 286, 28, 7, 17, 15, 39, 31, 100, 17, 56, 84, 28, 67, 5, 32, 28, 83, 134, 13, 15, 36, 18, 226, 92, 25, 95, 851, 9, 101, 18, 7, 67, 6, 225, 88, 13, 9, 79, 45, 267, 48, 7, 111, 146, 100, 26, 9, 40, 15, 20, 58, 221, 139, 61, 430, 6, 441, 166, 17, 11, 309, 148, 150, 583, 14, 83, 51, 271, 362, 25, 369, 179, 205, 210, 42, 57, 61, 64, 34, 143, 890, 108, 122, 656, 48, 20, 13, 152, 41, 14, 69, 166, 50, 194, 69, 15, 55, 13, 8, 629, 151, 644, 675, 607, 170, 43, 562, 601, 34, 47, 677, 58, 37, 129, 549, 542, 21, 68, 429, 31, 360, 164, 168, 408, 384, 554, 52, 65, 448, 42, 10, 50, 451, 403, 376, 373, 24, 102, 623, 45, 117, 471, 10, 48, 87, 526, 22, 5, 3, 20, 10, 26, 3, 11, 3, 16, 4, 4, 6, 10, 7, 4, 10, 17, 28, 19, 33, 15, 22, 30, 4, 23, 28, 13, 18, 17, 71, 24, 24, 22, 16, 3, 18, 18, 26, 8, 47, 6, 48, 11, 89, 14, 96, 95, 401, 82, 399, 59, 44, 180, 147, 101, 5, 780, 314, 63, 128, 137, 85, 183, 71, 295, 790, 223, 32, 279, 314, 208, 8, 66, 11, 11, 104, 121, 33, 4, 61, 84, 38, 30, 213, 442, 515, 348, 22, 39, 32, 10, 54, 36, 53, 327, 25, 140, 18, 679, 324, 52, 24, 285, 92, 247, 17, 46, 13, 296, 34, 10, 12, 61, 14, 18, 255, 68, 9, 15, 10, 232, 278, 185, 148, 125, 196, 95, 13, 333, 388, 347, 392, 394, 367, 407, 336, 267, 269, 300, 259, 243, 262, 255, 253, 301, 354, 346, 349, 346, 327, 338, 326, 344, 358, 236, 328, 423, 327, 324, 317, 31, 290, 130, 314, 63, 42, 78, 44, 134, 45, 44, 413, 16, 11, 32, 41, 39, 321, 305, 600, 597, 9, 8, 9, 14, 8, 72, 16, 14, 8, 1, 17, 15, 1, 1, 14, 5, 138, 419, 415, 21, 17, 1, 7, 58, 1, 62, 194, 95, 268, 41, 77, 140, 138, 168, 57, 607, 164, 164, 161, 1, 83, 1, 1, 1, 1, 2, 1, 123, 12, 77, 2, 482, 178, 347, 601, 13, 222, 29, 13, 16, 1, 13, 22, 333, 8, 18, 13, 2, 89, 302, 23, 17, 37, 10, 34, 70, 167, 58, 23, 1, 139, 189, 44, 478, 210, 91, 6, 2, 10, 122, 204, 215, 79, 136, 3, 26, 42, 129, 1, 546, 41, 15, 69, 117, 85, 71, 83, 20, 127, 246, 492, 2, 5, 12, 63, 1, 60, 30, 5, 2, 313, 320, 314, 81, 129, 232, 163, 261, 85, 161, 591, 190, 68, 64, 59, 71, 123, 48, 78, 283, 67, 221, 196, 113, 70, 20, 631, 72, 101, 32, 29, 22, 16, 16, 39, 55, 10, 30, 17, 36, 37, 9, 236, 22, 189, 18, 191, 125, 13, 37, 9, 120, 359, 6, 28, 15, 261, 273, 177, 3, 2, 313, 16, 175, 87, 18, 465, 33, 43, 9, 34, 8, 17, 18, 21, 326, 25, 128, 732, 29, 181, 229, 110, 273, 7, 109, 90, 15, 50, 11, 101, 89, 11, 108, 11, 9, 2, 3, 1, 48, 88, 723, 2, 1, 1, 20, 14, 39, 92, 67, 57, 9, 46, 26, 154, 147, 74, 1, 48, 13, 41, 11, 62, 207, 18, 24, 634, 101, 327, 96, 87, 139, 2, 19, 2, 5, 4, 46, 8, 261, 10, 7, 342, 4, 23, 12, 19, 113, 314, 263, 5, 6, 12, 91, 58, 278, 736, 16, 15, 12, 8, 102, 6, 22, 17, 13, 5, 8, 23, 15, 61, 22, 103, 7, 8, 17, 57, 8, 83, 124, 356, 17, 154, 90, 37, 5, 73, 68, 325, 80, 20, 263, 155, 83, 338, 168, 72, 61, 8, 29, 1, 74, 23, 182, 53, 89, 20, 23, 6, 322, 285, 268, 337, 66, 259, 12, 70, 278, 280, 176, 247, 446, 189, 152, 89, 38, 712, 40, 88, 14, 51, 23, 123, 40, 15, 20, 122, 625, 186, 177, 432, 739, 143, 27, 185, 250, 24, 343, 16, 258, 172, 315, 349, 311, 420, 321, 572, 355, 34, 403, 38, 450, 202, 406, 304, 304, 308, 294, 139, 191, 693, 90, 108, 135, 120, 80, 263, 53, 318, 210, 193, 198, 184, 174, 50, 9, 12, 19, 142, 95, 608, 169, 148, 36, 38, 161, 159, 455, 239, 330, 194, 254, 182, 252, 441, 151, 24, 187, 178, 263, 53, 367, 8, 35, 696, 27, 447, 5, 73, 313, 202, 211, 707, 831, 125, 168, 107, 586, 73, 7, 6, 175, 102, 94, 15, 9, 18, 39, 38, 505, 18, 6, 45, 214, 3, 7, 10, 46, 81, 428, 237, 81, 591, 19, 14, 404, 28, 381, 58, 133, 148, 8, 35, 74, 7, 59, 253, 34, 41, 139, 699, 312, 45, 14, 46, 270, 14, 27, 144, 128, 86, 20, 36, 77, 41, 755, 436, 144, 44, 439, 339, 202, 785, 472, 211, 102, 351, 328, 194, 285, 179, 218, 178, 178, 214, 182, 212, 224, 232, 273, 228, 189, 174, 144, 256, 114, 8, 9, 128, 301, 127, 14, 180, 82, 11, 74, 270, 11, 146, 190, 173, 146, 153, 174, 128, 139, 255, 138, 161, 135, 136, 353, 110, 112, 136, 122, 153, 179, 384, 708, 107, 15, 19, 122, 137, 17, 265, 267, 280, 253, 250, 18, 9, 394, 43, 323, 12, 133, 77, 74, 71, 76, 26, 103, 314, 207, 193, 72, 55, 638, 99, 70, 97, 36, 59, 29, 594, 145, 126, 16, 643, 706, 634, 501, 6, 292, 484, 457, 571, 492, 446, 491, 435, 23, 268, 16, 190, 449, 159, 312, 372, 139, 229, 375, 185, 165, 46, 411, 248, 92, 56, 52, 6, 60, 58, 400, 37, 504, 43, 17, 80, 16, 135, 110, 44, 204, 395, 136, 100, 446, 216, 312, 371, 334, 109, 114, 90, 87, 110, 456, 343, 119, 463, 46, 34, 63, 270, 114, 30, 34, 168, 58, 33, 26, 19, 175, 425, 101, 106, 535, 398, 151, 30, 592, 31, 507, 601, 205, 24, 39, 36, 43, 7, 54, 18, 30, 26, 6, 58, 60, 44, 240, 34, 60, 85, 31, 56, 27, 25, 71, 223, 19, 17, 234, 41, 15, 24, 44, 80, 25, 217, 5, 26, 19, 9, 6, 9, 32, 37, 68, 238, 52, 18, 57, 17, 29, 28, 392, 90, 6, 44, 2, 30, 4, 2, 403, 195, 202, 298, 223, 175, 8, 197, 219, 139, 546, 269, 38, 207, 13, 37, 46, 68, 65, 65, 66, 18, 9, 53, 10, 120, 142, 151, 41, 132, 33, 30, 159, 50, 81, 27, 53, 49, 28, 16, 267, 22, 38, 62, 17, 135, 103, 297, 41, 29, 40, 21, 17, 660, 6, 11, 106, 621, 15, 492, 203, 263, 10, 48, 160, 23, 39, 16, 33, 39, 268, 32, 95, 93, 12, 350, 372, 314, 187, 24, 16, 31, 302, 23, 196, 7, 98, 211, 63, 82, 25, 12, 25, 19, 27, 57, 53, 22, 206, 256, 74, 32, 64, 101, 42, 355, 526, 374, 118, 43, 107, 683, 681, 608, 895, 70, 7, 50, 323, 132, 159, 570, 14, 16, 35, 153, 398, 17, 87, 88, 657, 32, 166, 28, 73, 53, 14, 5, 84, 17, 16, 191, 10, 76, 16, 128, 22, 416, 8, 28, 2, 19, 26, 17, 5, 53, 34, 239, 220, 12, 14, 19, 12, 116, 65, 95, 38, 38, 35, 717, 13, 3, 25, 9, 192, 7, 7, 48, 76, 52, 14, 308, 410, 28, 32, 84, 116, 637, 551, 347, 48, 26, 46, 36, 21, 278, 69, 342, 7, 15, 20, 598, 13, 5, 124, 32, 25, 279, 11, 10, 26, 49, 24, 35, 59, 75, 51, 34, 39, 11, 433, 4, 117, 51, 89, 12, 189, 123, 194, 4, 300, 41, 16, 156, 20, 38, 86, 133, 64, 78, 59, 25, 43, 89, 18, 830, 88, 20, 79, 13, 13, 22, 121, 151, 10, 63, 11, 17, 46, 288, 25, 12, 94, 11, 429, 148, 528, 23, 33, 17, 217, 82, 8, 22, 11, 122, 19, 22, 590, 158, 35, 40, 341, 52, 13, 33, 46, 84, 53, 9, 58, 214, 465, 131, 198, 218, 51, 46, 30, 393, 70, 343, 20, 10, 15, 67, 85, 133, 108, 78, 306, 467, 7, 98, 304, 292, 194, 141, 142, 50, 7, 17, 270, 23, 359, 37, 28, 42, 418, 171, 50, 170, 288, 34, 29, 24, 4, 10, 389, 16, 87, 204, 18, 345, 275, 15, 108, 19, 17, 197, 263, 7, 278, 185, 127, 13, 89, 43, 6, 40, 17, 129, 67, 15, 33, 128, 11, 54, 316, 10, 35, 13, 28, 3, 27, 15, 42, 18, 22, 53, 55, 35, 27, 77, 271, 529, 374, 334, 144, 43, 30, 271, 34, 77, 17, 18, 9, 13, 31, 288, 17, 15, 110, 26, 14, 696, 27, 86, 11, 8, 333, 8, 59, 9, 17, 398, 91, 16, 325, 36, 162, 12, 8, 263, 195, 180, 97, 218, 38, 237, 777, 462, 848, 815, 238, 310, 280, 250, 247, 226, 494, 456, 265, 172, 182, 343, 170, 157, 153, 54, 671, 71, 728, 548, 286, 117, 787, 104, 430, 134, 236, 220, 250, 81, 136, 33, 44, 275, 72, 35, 14, 9, 20, 23, 82, 12, 185, 27, 9, 30, 11, 8, 121, 21, 279, 5, 69, 39, 265, 20, 10, 30, 267, 29, 216, 22, 8, 7, 299, 488, 30, 407, 20, 11, 639, 34, 242, 67, 182, 128, 137, 50, 63, 21, 59, 8, 25, 152, 51, 119, 278, 56, 132, 59, 22, 27, 16, 645, 115, 171, 221, 11, 21, 188, 22, 17, 179, 521, 178, 209, 313, 242, 102, 232, 705, 100, 56, 501, 52, 266, 285, 218, 280, 247, 254, 279, 286, 374, 341, 253, 154, 288, 261, 298, 260, 31, 272, 16, 262, 26, 365, 352, 142, 225, 285, 284, 347, 246, 362, 502, 501, 162, 482, 405, 34, 119, 125, 242, 276, 264, 315, 112, 886, 17, 82, 277, 30, 10, 31, 13, 139, 177, 237, 269, 253, 259, 294, 13, 18, 289, 106, 286, 9, 3, 300, 16, 11, 273, 270, 14, 22, 13, 30, 5, 44, 360, 18, 6, 3, 61, 50, 363, 175, 137, 126, 54, 40, 315, 296, 160, 534, 746, 293, 126, 380, 345, 810, 389, 59, 63, 35, 4, 88, 15, 49, 102, 335, 19, 80, 18, 98, 62, 172, 100, 101, 92, 93, 93, 326, 252, 331, 169, 683, 117, 80, 275, 107, 80, 100, 80, 124, 79, 76, 119, 76, 146, 716, 62, 151, 119, 98, 219, 235, 250, 97, 101, 748, 95, 88, 195, 116, 86, 81, 118, 20, 68, 14, 25, 119, 68, 71, 181, 35, 26, 84, 382, 8, 2, 2, 332, 196, 221, 400, 226, 184, 12, 24, 91, 49, 36, 20, 116, 42, 14, 11, 28, 229, 16, 82, 22, 670, 21, 37, 63, 141, 284, 62, 120, 19, 76, 27, 136, 30, 404, 41, 140, 22, 333, 639, 193, 60, 648, 75, 167, 15, 340, 264, 274, 21, 31, 174, 312, 172, 224, 192, 43, 441, 411, 443, 471, 382, 481, 509, 345, 4, 391, 62, 71, 71, 12, 300, 594, 70, 88, 9, 80, 34, 65, 289, 126, 109, 11, 800, 687, 11, 773, 73, 38, 3, 34, 72, 59, 25, 15, 77, 99, 112, 28, 12, 18, 60, 5, 52, 39, 73, 49, 8, 28, 73, 409, 153, 14, 16, 22, 37, 95, 648, 21, 21, 17, 62, 33, 9, 108, 145, 121, 74, 83, 57, 508, 310, 299, 440, 40, 201, 183, 286, 178, 172, 148, 225, 257, 217, 189, 85, 203, 114, 111, 98, 78, 20, 37, 56, 47, 19, 42, 17, 65, 38, 557, 447, 376, 335, 44, 134, 13, 70, 16, 166, 12, 18, 12, 137, 95, 73, 62, 74, 72, 13, 266, 610, 40, 60, 78, 822, 101, 185, 101, 168, 148, 138, 481, 162, 252, 89, 356, 26, 50, 26, 169, 14, 52, 22, 49, 46, 79, 45, 65, 35, 64, 20, 52, 221, 105, 151, 153, 33, 19, 4, 17, 26, 8, 257, 20, 16, 35, 44, 90, 110, 97, 11, 6, 14, 560, 30, 192, 33, 26, 61, 73, 91, 1, 2, 2, 20, 2, 2, 3, 11, 20, 125, 45, 33, 39, 62, 37, 80, 648, 89, 37, 37, 19, 38, 4, 7, 43, 83, 3, 51, 215, 8, 23, 3, 18, 106, 24, 5, 29, 351, 166, 257, 16, 423, 140, 161, 199, 90, 52, 56, 754, 764, 756, 3, 785, 47, 352, 10, 44, 46, 171, 70, 16, 410, 18, 17, 13, 17, 521, 180, 25, 17, 191, 156, 62, 71, 290, 32, 280, 17, 42, 201, 8, 384, 506, 168, 8, 32, 52, 13, 216, 98, 106, 18, 99, 8, 196, 183, 750, 132, 146, 127, 146, 200, 132, 128, 115, 25, 47, 246, 150, 161, 413, 365, 372, 549, 671, 666, 724, 44, 80, 665, 191, 40, 37, 53, 33, 331, 9, 66, 545, 46, 225, 16, 70, 366, 12, 34, 271, 14, 255, 157, 44, 60, 17, 160, 272, 20, 140, 577, 10, 95, 65, 84, 64, 53, 343, 13, 311, 472, 338, 131, 15, 9, 207, 17, 36, 108, 39, 72, 21, 289, 404, 361, 47, 35, 126, 86, 408, 170, 261, 189, 185, 38, 144, 162, 15, 27, 63, 44, 27, 27, 264, 321, 185, 92, 21, 15, 37, 19, 201, 196, 10, 116, 15, 26, 7, 9, 11, 86, 15, 30, 86, 313, 355, 311, 309, 276, 346, 314, 258, 186, 188, 31, 69, 98, 35, 140, 11, 243, 144, 41, 48, 19, 33, 14, 69, 45, 87, 83, 74, 59, 70, 78, 50, 36, 17, 83, 51, 72, 350, 116, 15, 85, 79, 422, 134, 142, 112, 55, 28, 13, 153, 468, 91, 801, 16, 62, 23, 285, 258, 239, 94, 149, 52, 116, 114, 73, 50, 81, 48, 328, 79, 35, 145, 127, 121, 101, 160, 375, 37, 101, 111, 277, 4, 82, 10, 4, 12, 12, 86, 13, 167, 69, 454, 359, 366, 432, 378, 55, 339, 214, 50, 84, 73, 102, 20, 22, 18, 44, 23, 21, 42, 142, 45, 24, 49, 58, 67, 84, 84, 9, 29, 36, 17, 29, 16, 35, 113, 82, 50, 45, 333, 633, 59, 9, 35, 30, 14, 34, 45, 6, 27, 172, 46, 24, 184, 130, 129, 145, 178, 47, 59, 101, 55, 59, 114, 119, 159, 137, 182, 149, 93, 38, 29, 25, 23, 39, 49, 50, 73, 257, 36, 20, 172, 246, 419, 392, 119, 95, 114, 154, 165, 203, 150, 130, 148, 162, 397, 241, 268, 22, 30, 35, 28, 799, 412, 12, 140, 229, 55, 166, 74, 30, 21, 56, 273, 22, 34, 141, 92, 103, 584, 210, 170, 20, 284, 331, 662, 546, 603, 49, 132, 89, 184, 17, 216, 371, 488, 192, 91, 7, 6, 39, 14, 10, 183, 91, 11, 144, 63, 278, 205, 220, 287, 210, 520, 206, 10, 32, 40, 90, 23, 77, 202, 557, 98, 18, 110, 13, 224, 1, 33, 20, 86, 7, 17, 78, 57, 13, 10, 27, 33, 25, 20, 6, 37, 51, 120, 180, 44, 69, 50, 61, 48, 35, 38, 20, 15, 8, 8, 514, 28, 26, 356, 255, 50, 64, 58, 897, 244, 59, 50, 101, 84, 47, 391, 40, 83, 437, 123, 148, 253, 67, 395, 120, 107, 385, 423, 48, 12, 18, 127, 48, 86, 99, 28, 122, 221, 73, 49, 52, 28, 32, 209, 688, 16, 17, 72, 301, 52, 249, 34, 55, 69, 383, 459, 32, 559, 57, 39, 68, 143, 224, 239, 16, 20, 530, 48, 5, 395, 17, 37, 24, 16, 169, 29, 178, 42, 231, 24, 209, 54, 202, 145, 133, 16, 49, 10, 34, 87, 289, 101, 38, 62, 11, 8, 13, 119, 162, 19, 228, 426, 565, 129, 13, 3, 15, 106, 95, 746, 211, 43, 98, 60, 183, 63, 106, 37, 218, 7, 48, 4, 4, 258, 87, 47, 64, 53, 68, 36, 31, 83, 9, 26, 18, 56, 320, 69, 32, 119, 138, 227, 152, 308, 11, 64, 54, 129, 36, 320, 29, 26, 7, 11, 4, 44, 53, 123, 220, 127, 42, 123, 220, 10, 10, 58, 40, 552, 72, 208, 36, 397, 336, 51, 322, 312, 353, 324, 285, 66, 12, 131, 280, 31, 69, 160, 144, 229, 34, 379, 12, 20, 41, 544, 20, 46, 18, 525, 102, 193, 120, 46, 50, 190, 279, 657, 207, 79, 91, 139, 162, 9, 228, 160, 12, 28, 23, 88, 180, 89, 151, 57, 193, 418, 148, 116, 137, 141, 386, 18, 49, 642, 634, 440, 357, 470, 376, 177, 321, 178, 141, 372, 327, 142, 155, 748, 221, 126, 351, 256, 116, 131, 52, 77, 4, 36, 125, 33, 48, 154, 34, 34, 443, 178, 364, 19, 29, 28, 207, 31, 239, 35, 9, 103, 435, 298, 431, 266, 549, 48, 87, 53, 297, 46, 435, 56, 36, 122, 532, 22, 364, 206, 133, 230, 30, 12, 224, 115, 209, 275, 198, 187, 183, 51, 377, 383, 367, 451, 412, 656, 18, 10, 45, 11, 233, 88, 134, 40, 29, 76, 412, 533, 109, 39, 10, 163, 99, 23, 52, 592, 47, 255, 15, 15, 36, 15, 72, 305, 26, 85, 65, 18, 23, 66, 35, 402, 18, 93, 110, 7, 52, 2, 2, 155, 14, 82, 30, 24, 27, 10, 13, 66, 251, 144, 51, 18, 109, 64, 69, 65, 30, 43, 61, 58, 47, 45, 70, 48, 63, 46, 57, 34, 314, 17, 174, 8, 193, 111, 103, 18, 24, 131, 294, 55, 145, 69, 103, 147, 64, 23, 20, 310, 19, 52, 115, 39, 602, 21, 126, 160, 19, 104, 40, 531, 470, 459, 152, 234, 165, 129, 13, 47, 57, 40, 18, 30, 103, 46, 528, 495, 36, 45, 53, 38, 26, 17, 7, 252, 242, 142, 174, 133, 175, 5, 142, 101, 38, 4, 23, 16, 244, 6, 85, 11, 40, 12, 15, 22, 58, 84, 302, 201, 63, 36, 58, 143, 233, 275, 290, 291, 301, 596, 225, 223, 7, 47, 22, 146, 13, 472, 223, 137, 118, 14, 27, 339, 16, 245, 111, 148, 91, 75, 114, 81, 69, 80, 55, 42, 44, 99, 59, 52, 35, 66, 45, 53, 24, 12, 78, 10, 487, 683, 17, 586, 163, 63, 138, 41, 84, 51, 283, 285, 4, 76, 45, 19, 343, 2, 18, 33, 61, 336, 4, 10, 23, 10, 24, 30, 12, 63, 22, 5, 40, 10, 30, 15, 32, 39, 622, 13, 24, 469, 5, 23, 12, 20, 14, 7, 7, 9, 23, 5, 51, 35, 8, 452, 80, 22, 22, 186, 722, 3, 16, 443, 67, 132, 21, 33, 3, 126, 250, 18, 53, 64, 12, 223, 8, 16, 44, 385, 38, 16, 42, 484, 90, 23, 14, 44, 11, 207, 124, 10, 24, 28, 15, 40, 42, 33, 70, 23, 29, 228, 64, 18, 15, 78, 19, 69, 60, 30, 14, 588, 52, 586, 317, 264, 833, 249, 197, 194, 219, 144, 150, 791, 75, 206, 79, 157, 72, 217, 33, 20, 28, 317, 204, 237, 179, 557, 165, 167, 176, 175, 175, 499, 161, 292, 219, 187, 232, 158, 323, 229, 159, 178, 150, 146, 276, 195, 148, 205, 206, 163, 173, 208, 210, 177, 139, 140, 118, 87, 429, 479, 465, 18, 154, 86, 18, 104, 649, 4, 212, 296, 124, 306, 18, 125, 26, 22, 22, 306, 390, 335, 296, 355, 25, 15, 44, 14, 14, 101, 24, 116, 59, 55, 399, 54, 191, 28, 250, 231, 6, 177, 237, 71, 64, 17, 51, 108, 155, 11, 356, 157, 400, 372, 73, 725, 20, 703, 34, 41, 94, 41, 68, 126, 41, 708, 365, 17, 49, 50, 236, 64, 34, 56, 39, 54, 304, 84, 86, 68, 35, 52, 203, 33, 79, 40, 507, 6, 119, 28, 68, 138, 56, 60, 351, 52, 108, 60, 48, 169, 25, 55, 28, 14, 34, 327, 29, 350, 26, 8, 256, 194, 56, 2, 2, 75, 10, 145, 287, 29, 100, 14, 217, 17, 140, 28, 298, 122, 4, 510, 15, 52, 367, 143, 17, 30, 52, 7, 8, 14, 20, 13, 14, 21, 16, 40, 8, 16, 17, 44, 74, 17, 95, 298, 15, 44, 23, 44, 244, 18, 55, 64, 78, 36, 14, 17, 22, 221, 131, 78, 28, 92, 27, 11, 21, 22, 137, 17, 43, 8, 130, 22, 199, 31, 149, 84, 10, 19, 214, 23, 106, 137, 3, 201, 18, 416, 43, 162, 289, 29, 88, 82, 19, 62, 136, 4, 31, 5, 97, 29, 7, 81, 37, 21, 6, 263, 836, 23, 27, 42, 65, 134, 508, 7, 21, 565, 50, 655, 81, 539, 543, 550, 736, 78, 6, 248, 128, 526, 7, 273, 113, 136, 391, 15, 10, 113, 6, 8, 6, 14, 25, 20, 220, 7, 7, 108, 31, 25, 84, 803, 825, 129, 199, 28, 66, 195, 248, 93, 59, 118, 272, 157, 97, 130, 183, 12, 12, 13, 442, 443, 14, 3, 11, 21, 47, 60, 43, 91, 51, 77, 32, 16, 201, 640, 219, 377, 180, 527, 24, 90, 256, 134, 137, 471, 272, 26, 79, 17, 436, 26, 47, 29, 149, 57, 199, 23, 274, 286, 263, 257, 37, 42, 20, 2, 33, 92, 70, 521, 199, 63, 33, 88, 85, 65, 226, 144, 250, 418, 249, 293, 10, 13, 57, 9, 41, 5, 49, 55, 5, 3, 624, 612, 118, 151, 175, 609, 348, 114, 69, 868, 326, 33, 107, 307, 145, 50, 80, 89, 26, 53, 10, 123, 239, 108, 75, 21, 276, 176, 26, 40, 30, 35, 44, 23, 13, 80, 46, 264, 94, 124, 29, 668, 212, 9, 261, 705, 208, 3, 233, 4, 80, 3, 277, 3, 249, 4, 613, 9, 792, 190, 550, 143, 129, 131, 140, 111, 159, 143, 110, 151, 108, 127, 112, 151, 119, 173, 107, 120, 312, 105, 98, 63, 62, 79, 70, 90, 61, 80, 98, 68, 139, 102, 159, 126, 65, 169, 53, 12, 46, 67, 61, 46, 31, 122, 37, 46, 157, 147, 10, 4, 243, 28, 615, 644, 610, 608, 675, 608, 614, 627, 621, 677, 613, 648, 609, 274, 114, 593, 894, 586, 557, 704, 317, 513, 439, 318, 325, 322, 385, 324, 576, 324, 380, 321, 318, 328, 90, 475, 320, 330, 322, 513, 399, 331, 698, 322, 332, 555, 69, 38, 209, 208, 207, 212, 213, 263, 329, 199, 204, 202, 194, 239, 209, 217, 201, 194, 191, 228, 208, 198, 198, 197, 195, 203, 303, 36, 39, 42, 58, 46, 193, 137, 202, 193, 197, 190, 202, 98, 90, 497, 188, 199, 187, 192, 186, 209, 191, 187, 200, 202, 185, 279, 187, 252, 205, 308, 110, 268, 192, 185, 195, 27, 194, 243, 219, 189, 190, 384, 196, 195, 190, 199, 591, 59, 401, 183, 188, 190, 192, 184, 179, 510, 106, 91, 34, 37, 65, 13, 36, 32, 428, 424, 422, 451, 414, 15, 29, 71, 67, 79, 176, 70, 151, 65, 133, 141, 406, 130, 33, 308, 124, 36, 69, 359, 35, 54, 54, 36, 34, 55, 133, 18, 60, 8, 1, 27, 236, 14, 53, 7, 13, 9, 10, 15, 39, 40, 9, 8, 1, 20, 58, 2, 151, 77, 44, 22, 291, 34, 44, 60, 126, 210, 8, 262, 151, 58, 66, 169, 207, 16, 201, 11, 167, 40, 134, 101, 65, 18, 301, 34, 77, 25, 36, 24, 233, 64, 11, 12, 11, 226, 135, 20, 31, 243, 36, 17, 29, 21, 252, 88, 51, 57, 53, 60, 53, 76, 121, 139, 99, 47, 39, 37, 30, 17, 33, 54, 31, 67, 26, 61, 28, 653, 36, 179, 295, 132, 308, 53, 219, 221, 222, 309, 111, 22, 54, 216, 261, 3, 24, 11, 14, 12, 278, 883, 8, 92, 9, 109, 606, 607, 582, 16, 65, 7, 6, 121, 7, 52, 99, 116, 5, 20, 56, 9, 72, 7, 8, 14, 34, 213, 2, 293, 14, 70, 613, 102, 470, 528, 442, 126, 579, 169, 416, 10, 300, 343, 29, 43, 41, 27, 46, 50, 87, 76, 49, 71, 272, 2, 46, 5, 27, 55, 105, 60, 278, 220, 574, 714, 537, 566, 549, 575, 502, 499, 503, 517, 631, 504, 152, 66, 53, 210, 62, 249, 152, 498, 500, 551, 490, 518, 477, 503, 497, 478, 550, 642, 486, 485, 526, 555, 477, 489, 475, 501, 512, 510, 482, 565, 470, 556, 486, 489, 521, 653, 569, 496, 533, 490, 494, 523, 467, 453, 500, 457, 443, 451, 439, 464, 482, 469, 468, 449, 530, 455, 443, 510, 441, 439, 493, 444, 453, 453, 515, 465, 493, 444, 477, 440, 437, 455, 626, 555, 422, 424, 417, 38, 414, 453, 518, 397, 441, 401, 440, 412, 456, 503, 429, 439, 126, 380, 120, 216, 208, 103, 120, 309, 108, 171, 173, 102, 177, 99, 117, 363, 104, 167, 74, 75, 75, 157, 196, 75, 74, 85, 76, 89, 337, 72, 93, 83, 69, 81, 57, 69, 52, 85, 58, 122, 84, 14, 19, 131, 16, 46, 39, 126, 107, 61, 11, 23, 37, 16, 22, 4, 7, 95, 72, 163, 5, 8, 86, 141, 313, 21, 4, 4, 12, 8, 23, 30, 7, 10, 4, 4, 5, 61, 11, 11, 18, 264, 46, 134, 15, 111, 168, 78, 71, 112, 82, 71, 64, 72, 141, 15, 305, 74, 99, 73, 284, 106, 131, 216, 4, 13, 87, 96, 72, 100, 826, 72, 67, 447, 61, 477, 60, 56, 62, 16, 51, 100, 65, 162, 231, 39, 107, 18, 13, 431, 90, 58, 13, 22, 100, 95, 22, 22, 70, 783, 777, 778, 179, 770, 766, 16, 26, 85, 15, 3, 13, 15, 17, 199, 194, 198, 26, 200, 319, 3, 22, 213, 214, 211, 199, 333, 282, 189, 99, 92, 58, 241, 12, 23, 27, 37, 40, 52, 73, 11, 92, 7, 10, 11, 146, 12, 35, 39, 21, 64, 28, 40, 7, 9, 330, 20, 23, 96, 73, 11, 356, 109, 246, 91, 84, 39, 52, 57, 26, 89, 26, 9, 116, 24, 219, 8, 9, 53, 13, 3, 4, 26, 7, 272, 4, 6, 3, 2, 4, 5, 3, 4, 4, 165, 5, 7, 106, 28, 42, 23, 71, 349, 276, 528, 11, 89, 45, 46, 101, 11, 80, 13, 3, 11, 4, 7, 18, 20, 5, 12, 96, 36, 125, 29, 39, 61, 33, 109, 48, 8, 7, 26, 65, 60, 34, 32, 68, 33, 91, 45, 79, 204, 118, 1, 100, 116, 42, 39, 147, 10, 1, 52, 12, 28, 8, 55, 118, 41, 17, 63, 209, 166, 270, 74, 179, 499, 34, 23, 49, 25, 138, 16, 26, 349, 61, 248, 311, 3, 230, 128, 3, 201, 17, 432, 14, 19, 16, 6, 59, 7, 195, 92, 4, 3, 116, 33, 19, 14, 27, 13, 6, 151, 15, 39, 28, 37, 39, 3, 6, 11, 29, 20, 22, 46, 144, 9, 8, 6, 37, 18, 73, 22, 22, 70, 3, 13, 123, 87, 122, 115, 107, 101, 100, 119, 92, 110, 100, 101, 94, 34, 26, 99, 24, 37, 45, 38, 90, 60, 334, 27, 34, 27, 32, 212, 30, 102, 190, 68, 55, 29, 229, 17, 409, 41, 34, 146, 291, 173, 169, 42, 43, 477, 427, 716, 142, 24, 31, 13, 219, 216, 21, 21, 42, 192, 31, 258, 5, 25, 124, 10, 173, 180, 52, 59, 42, 30, 15, 48, 22, 3, 68, 844, 100, 41, 18, 411, 322, 259, 663, 31, 68, 38, 75, 53, 53, 15, 18, 245, 154, 303, 70, 29, 96, 15, 11, 33, 34, 167, 297, 777, 15, 357, 25, 51, 816, 39, 10, 7, 6, 111, 10, 36, 39, 7, 32, 14, 32, 13, 12, 13, 486, 51, 569, 86, 99, 74, 86, 81, 84, 64, 37, 7, 52, 408, 94, 48, 45, 227, 705, 631, 654, 637, 661, 660, 898, 658, 670, 709, 22, 658, 17, 22, 688, 774, 692, 414, 426, 52, 22, 49, 25, 109, 21, 23, 58, 15, 23, 18, 513, 119, 181, 83, 39, 110, 171, 477, 344, 436, 155, 149, 530, 864, 442, 176, 9, 632, 713, 622, 615, 644, 658, 632, 636, 641, 721, 611, 18, 15, 58, 36, 38, 31, 13, 28, 20, 17, 144, 205, 13, 16, 174, 21, 30, 73, 129, 472, 28, 19, 179, 88, 113, 89, 82, 26, 25, 102, 79, 10, 26, 18, 27, 13, 265, 188, 22, 90, 70, 240, 10, 616, 142, 136, 609, 545, 749, 549, 548, 540, 535, 565, 525, 520, 841, 162, 134, 128, 181, 190, 131, 175, 157, 253, 189, 93, 87, 253, 102, 54, 114, 216, 137, 116, 91, 8, 23, 9, 55, 16, 13, 62, 19, 138, 321, 137, 29, 139, 180, 164, 85, 51, 443, 23, 260, 580, 80, 14, 33, 645, 18, 369, 171, 134, 18, 94, 31, 391, 117, 634, 357, 337, 206, 247, 16, 610, 271, 641, 21, 25, 23, 429, 200, 31, 164, 19, 108, 22, 282, 552, 67, 149, 274, 146, 30, 25, 246, 157, 109, 55, 91, 515, 534, 289, 77, 291, 83, 38, 41, 251, 646, 48, 37, 64, 19, 17, 16, 23, 44, 36, 5, 133, 81, 7, 85, 85, 1, 11, 36, 1, 8, 11, 148, 84, 152, 8, 382, 40, 8, 80, 17, 85, 24, 248, 629, 83, 622, 624, 20, 661, 35, 5, 22, 706, 220, 5, 33, 31, 26, 603, 191, 767, 77, 24, 19, 598, 642, 111, 8, 5, 19, 5, 9, 6, 42, 103, 8, 137, 77, 43, 57, 20, 20, 30, 26, 80, 833, 26, 8, 14, 10, 34, 148, 60, 54, 66, 594, 145, 97, 468, 88, 681, 34, 31, 6, 316, 31, 27, 44, 10, 1, 76, 101, 671, 29, 52, 31, 9, 7, 70, 57, 151, 48, 34, 129, 10, 17, 50, 10, 7, 31, 10, 219, 69, 3, 16, 75, 12, 9, 449, 370, 85, 194, 22, 20, 28, 626, 11, 36, 1, 5, 5, 15, 8, 8, 5, 4, 6, 16, 22, 34, 6, 7, 7, 9, 23, 10, 102, 191, 203, 210, 204, 248, 643, 183, 20, 43, 58, 22, 12, 118, 29, 203, 364, 1, 114, 83, 207, 88, 154, 95, 80, 79, 80, 81, 107, 92, 92, 164, 218, 113, 88, 83, 147, 90, 103, 77, 93, 86, 81, 88, 86, 105, 90, 112, 86, 97, 91, 139, 90, 96, 88, 75, 316, 15, 266, 7, 36, 198, 8, 39, 24, 12, 22, 17, 21, 98, 41, 47, 412, 73, 25, 406, 159, 342, 19, 607, 758, 324, 349, 324, 859, 179, 135, 523, 50, 35, 18, 37, 29, 47, 8, 99, 20, 10, 27, 11, 9, 62, 38, 215, 71, 51, 55, 52, 58, 52, 51, 57, 54, 44, 189, 94, 41, 39, 37, 52, 47, 29, 14, 62, 81, 51, 34, 19, 88, 40, 16, 3, 51, 84, 172, 9, 13, 13, 30, 170, 300, 371, 361, 300, 347, 331, 351, 304, 302, 303, 342, 336, 309, 334, 333, 629, 315, 357, 312, 297, 311, 398, 207, 291, 288, 570, 353, 175, 221, 201, 98, 170, 78, 67, 562, 132, 199, 144, 175, 82, 173, 155, 159, 187, 131, 89, 4, 82, 37, 138, 149, 157, 150, 154, 171, 218, 32, 24, 231, 26, 218, 46, 40, 76, 54, 65, 24, 32, 384, 423, 11, 112, 727, 26, 69, 660, 85, 26, 89, 40, 193, 64, 201, 197, 250, 230, 167, 164, 368, 211, 291, 314, 254, 284, 40, 604, 56, 14, 34, 19, 61, 275, 140, 117, 112, 131, 140, 124, 189, 10, 103, 84, 104, 72, 65, 67, 64, 66, 119, 90, 73, 70, 91, 66, 96, 65, 70, 80, 116, 104, 59, 44, 89, 48, 270, 36, 22, 50, 36, 44, 39, 34, 43, 50, 47, 63, 35, 43, 34, 32, 20, 38, 14, 290, 62, 63, 18, 57, 59, 87, 56, 47, 54, 48, 57, 9, 70, 30, 51, 14, 52, 14, 69, 20, 12, 83, 48, 68, 76, 55, 95, 10, 7, 46, 3, 34, 17, 38, 12, 33, 17, 22, 3, 6, 6, 5, 105, 7, 36, 9, 21, 92, 31, 45, 26, 9, 372, 382, 384, 402, 385, 126, 161, 107, 126, 106, 113, 103, 108, 98, 112, 114, 92, 89, 101, 90, 90, 98, 92, 100, 90, 94, 88, 118, 116, 90, 92, 95, 223, 101, 90, 103, 207, 225, 299, 82, 224, 55, 60, 224, 644, 50, 68, 33, 26, 30, 62, 25, 7, 16, 24, 121, 131, 137, 130, 419, 92, 371, 161, 239, 148, 156, 182, 130, 150, 145, 155, 142, 123, 120, 33, 48, 23, 17, 404, 20, 33, 5, 12, 340, 55, 238, 176, 180, 210, 179, 167, 129, 273, 256, 260, 270, 349, 250, 278, 256, 242, 255, 272, 274, 290, 237, 118, 128, 126, 159, 113, 111, 114, 145, 111, 108, 122, 393, 113, 8, 102, 98, 209, 88, 109, 110, 284, 136, 80, 60, 72, 63, 235, 87, 92, 56, 129, 78, 55, 69, 66, 84, 103, 196, 55, 9, 46, 189, 83, 219, 201, 160, 735, 45, 47, 166, 84, 441, 72, 198, 83, 75, 38, 38, 109, 61, 45, 124, 7, 37, 61, 50, 487, 406, 137, 894, 273, 113, 83, 286, 78, 107, 74, 142, 7, 53, 39, 29, 27, 27, 18, 79, 31, 12, 44, 23, 5, 10, 97, 284, 323, 114, 117, 99, 139, 269, 99, 105, 91, 93, 96, 98, 93, 90, 118, 194, 99, 105, 103, 97, 116, 93, 109, 105, 91, 529, 193, 96, 111, 52, 83, 48, 38, 40, 58, 67, 47, 32, 79, 81, 43, 43, 14, 14, 15, 34, 17, 8, 62, 5, 9, 53, 92, 59, 27, 2, 34, 153, 17, 25, 44, 28, 453, 16, 26, 28, 26, 30, 49, 23, 8, 39, 83, 252, 8, 10, 5, 8, 56, 161, 154, 95, 44, 47, 13, 11, 332, 36, 62, 31, 24, 52, 84, 127, 434, 109, 73, 53, 46, 21, 35, 116, 82, 700, 66, 42, 161, 55, 625, 434, 431, 379, 188, 286, 298, 844, 14, 112, 38, 95, 92, 177, 37, 172, 38, 30, 266, 36, 150, 267, 38, 48, 32, 146, 41, 721, 56, 107, 239, 9, 155, 148, 125, 426, 353, 28, 11, 49, 48, 38, 254, 48, 36, 12, 48, 61, 99, 131, 438, 695, 22, 6, 178, 88, 58, 88, 209, 15, 31, 59, 40, 153, 31, 787, 100, 51, 59, 61, 68, 50, 337, 10, 614, 47, 124, 141, 45, 129, 53, 81, 142, 8, 52, 20, 18, 8, 25, 605, 19, 10, 10, 13, 298, 7, 64, 42, 4, 40, 132, 85, 130, 22, 106, 26, 96, 19, 44, 182, 99, 368, 15, 98, 89, 750, 20, 36, 191, 37, 18, 39, 19, 26, 304, 44, 406, 55, 28, 21, 20, 16, 23, 291, 13, 24, 28, 35, 26, 197, 43, 30, 29, 72, 82, 114, 74, 106, 120, 15, 17, 11, 14, 30, 10, 11, 36, 18, 69, 42, 188, 12, 13, 130, 38, 150, 95, 163, 92, 8, 36, 32, 16, 50, 336, 3, 1, 14, 15, 11, 48, 19, 30, 23, 39, 19, 37, 12, 11, 81, 258, 185, 161, 141, 161, 72, 12, 41, 19, 71, 251, 878, 90, 353, 557, 97, 761, 740, 29, 65, 68, 703, 659, 8, 132, 42, 50, 51, 19, 47, 23, 78, 221, 311, 21, 122, 92, 92, 58, 204, 72, 24, 56, 42, 695, 23, 317, 629, 552, 110, 78, 21, 48, 176, 24, 73, 31, 24, 309, 156, 41, 6, 186, 101, 106, 75, 92, 64, 8, 44, 189, 235, 75, 95, 47, 71, 439, 443, 400, 467, 21, 510, 661, 524, 448, 538, 410, 444, 481, 393, 149, 148, 153, 145, 146, 59, 296, 57, 60, 70, 65, 138, 95, 78, 178, 336, 172, 180, 143, 258, 13, 99, 166, 168, 97, 429, 36, 147, 117, 763, 807, 134, 866, 869, 875, 106, 649, 98, 64, 18, 36, 66, 20, 27, 79, 40, 202, 50, 42, 148, 58, 147, 10, 20, 74, 10, 18, 69, 4, 37, 79, 89, 91, 274, 304, 291, 256, 312, 396, 250, 80, 43, 72, 735, 787, 780, 839, 776, 789, 819, 883, 350, 227, 540, 129, 151, 84, 191, 161, 142, 152, 506, 658, 157, 125, 54, 50, 130, 90, 89, 43, 4, 7, 39, 58, 22, 6, 16, 9, 12, 87, 6, 6, 72, 6, 62, 15, 11, 30, 32, 19, 113, 5, 16, 7, 14, 146, 4, 28, 46, 17, 35, 22, 8, 220, 134, 11, 5, 57, 111, 1, 107, 43, 126, 77, 10, 6, 3, 10, 5, 7, 11, 11, 5, 70, 87, 87, 85, 84, 99, 83, 115, 8, 79, 5, 13, 41, 48, 52, 98, 50, 40, 26, 157, 140, 234, 26, 60, 38, 28, 26, 43, 30, 25, 31, 87, 26, 29, 30, 35, 42, 124, 21, 66, 13, 63, 27, 25, 33, 63, 42, 39, 52, 137, 25, 16, 127, 65, 41, 30, 26, 36, 32, 24, 91, 42, 52, 79, 41, 22, 57, 118, 26, 33, 27, 75, 42, 149, 24, 113, 85, 142, 156, 94, 93, 87, 96, 167, 84, 87, 94, 13, 104, 6, 8, 12, 132, 24, 9, 163, 79, 209, 34, 91, 124, 73, 134, 231, 645, 118, 13, 194, 213, 191, 235, 296, 172, 152, 151, 419, 186, 163, 160, 161, 172, 170, 195, 170, 265, 168, 255, 18, 223, 15, 23, 28, 86, 13, 587, 332, 24, 37, 242, 85, 126, 35, 34, 33, 35, 50, 310, 44, 99, 59, 18, 22, 888, 113, 125, 56, 33, 18, 418, 26, 13, 259, 251, 68, 120, 465, 48, 13, 55, 73, 113, 92, 62, 68, 46, 121, 69, 32, 259, 113, 44, 38, 174, 100, 121, 14, 25, 186, 309, 9, 7, 5, 24, 26, 25, 80, 46, 17, 34, 851, 23, 415, 17, 254, 107, 727, 157, 40, 10, 14, 212, 285, 344, 312, 280, 20, 28, 9, 17, 230, 53, 26, 10, 45, 369, 12, 719, 148, 128, 414, 13, 235, 62, 66, 45, 89, 58, 27, 9, 59, 220, 22, 16, 36, 21, 6, 20, 333, 21, 38, 126, 81, 395, 108, 335, 14, 227, 95, 277, 9, 17, 43, 112, 76, 835, 7, 19, 61, 166, 26, 12, 230, 12, 31, 8, 8, 7, 17, 22, 10, 56, 43, 16, 24, 54, 48, 17, 220, 13, 120, 260, 81, 8, 14, 27, 87, 98, 8, 13, 58, 29, 7, 34, 541, 28, 16, 44, 27, 24, 22, 16, 44, 20, 76, 2, 17, 108, 71, 127, 55, 232, 22, 29, 157, 88, 25, 7, 36, 55, 218, 6, 14, 79, 231, 19, 16, 26, 4, 4, 91, 33, 42, 26, 277, 46, 6, 53, 1, 7, 68, 27, 38, 102, 58, 4, 9, 15, 14, 169, 108, 12, 8, 23, 9, 18, 101, 6, 78, 203, 45, 112, 7, 45, 65, 65, 249, 51, 7, 63, 63, 82, 197, 778, 134, 666, 387, 540, 249, 19, 518, 226, 55, 306, 294, 180, 120, 721, 50, 116, 246, 14, 34, 21, 71, 184, 55, 52, 65, 42, 53, 42, 45, 68, 724, 710, 723, 686, 693, 799, 778, 810, 163, 142, 207, 261, 201, 176, 186, 197, 364, 483, 652, 376, 20, 36, 2, 4, 11, 135, 14, 225, 121, 221, 16, 303, 19, 93, 276, 49, 13, 11, 111, 68, 8, 128, 95, 24, 5, 8, 13, 25, 41, 86, 85, 53, 36, 59, 50, 32, 298, 386, 22, 97, 669, 24, 242, 36, 19, 231, 332, 20, 11, 55, 23, 31, 42, 113, 357, 43, 6, 125, 307, 266, 51, 184, 128, 667, 339, 286, 96, 341, 103, 73, 6, 73, 176, 167, 75, 35, 26, 256, 98, 71, 112, 61, 76, 51, 96, 229, 151, 200, 93, 105, 177, 217, 263, 249, 318, 84, 87, 75, 94, 86, 112, 75, 104, 38, 33, 194, 171, 44, 158, 73, 50, 75, 10, 8, 11, 454, 69, 120, 61, 87, 62, 85, 52, 76, 46, 29, 144, 883, 868, 194, 70, 86, 373, 17, 13, 176, 446, 98, 44, 54, 39, 45, 42, 76, 33, 65, 28, 32, 34, 352, 24, 20, 26, 138, 25, 36, 92, 253, 229, 182, 244, 163, 183, 139, 106, 139, 129, 57, 93, 133, 94, 699, 153, 108, 107, 161, 148, 135, 112, 60, 95, 32, 96, 639, 339, 218, 248, 248, 280, 240, 234, 19, 88, 418, 16, 135, 87, 90, 43, 12, 95, 127, 53, 66, 26, 38, 86, 709, 48, 63, 134, 279, 434, 115, 876, 64, 15, 7, 2, 14, 115, 35, 30, 15, 9, 1, 17, 15, 13, 12, 13, 2, 1, 2, 4, 446, 30, 109, 290, 208, 82, 64, 139, 74, 175, 96, 38, 54, 55, 187, 22, 22, 42, 29, 93, 15, 351, 249, 98, 53, 251, 129, 217, 73, 759, 41, 75, 43, 81, 80, 354, 345, 328, 171, 48, 330, 95, 102, 40, 28, 137, 485, 163, 3, 90, 197, 154, 289, 259, 114, 265, 50, 77, 61, 43, 25, 209, 436, 25, 67, 55, 237, 16, 218, 104, 42, 783, 97, 344, 15, 94, 230, 50, 70, 79, 259, 106, 50, 216, 226, 28, 352, 380, 145, 69, 8, 14, 49, 15, 38, 15, 233, 101, 118, 129, 82, 40, 258, 22, 28, 15, 89, 45, 33, 10, 9, 24, 31, 314, 285, 197, 197, 176, 144, 24, 18, 8, 173, 43, 361, 14, 42, 117, 160, 9, 9, 13, 20, 32, 220, 41, 325, 37, 30, 32, 13, 47, 47, 15, 300, 62, 29, 217, 120, 626, 22, 568, 16, 235, 111, 30, 116, 17, 286, 40, 221, 175, 190, 30, 43, 22, 29, 55, 222, 11, 7, 66, 27, 177, 281, 185, 212, 202, 128, 869, 58, 92, 39, 85, 91, 79, 22, 3, 11, 8, 7, 9, 16, 3, 15, 10, 7, 10, 13, 4, 10, 8, 7, 20, 19, 11, 11, 7, 9, 10, 11, 9, 21, 10, 279, 72, 81, 60, 161, 5, 67, 9, 13, 18, 44, 421, 9, 65, 19, 187, 22, 148, 23, 125, 5, 1, 50, 124, 178, 13, 33, 11, 45, 282, 180, 63, 279, 106, 10, 21, 59, 80, 29, 72, 437, 9, 62, 6, 17, 22, 5, 10, 68, 7, 23, 84, 10, 21, 40, 85, 74, 30, 37, 5, 34, 77, 9, 8, 33, 30, 41, 198, 485, 27, 16, 10, 56, 354, 27, 3, 270, 17, 17, 156, 3, 26, 16, 121, 163, 60, 8, 45, 162, 543, 25, 24, 184, 14, 107, 473, 133, 9, 49, 31, 106, 75, 16, 38, 578, 4, 282, 48, 12, 16, 1, 90, 38, 29, 172, 8, 2, 40, 15, 15, 185, 172, 12, 147, 14, 7, 49, 12, 2, 6, 124, 26, 28, 28, 29, 28, 146, 146, 146, 146, 147, 11, 11, 146, 54, 43, 173, 1, 145, 27, 35, 80, 80, 170, 25, 24, 109, 10, 82, 23, 24, 22, 168, 74, 9, 116, 10, 167, 172, 166, 9, 10, 21, 21, 165, 28, 8, 2, 47, 19, 10, 233, 72, 24, 1, 1, 32, 15, 17, 18, 228, 152, 8, 54, 110, 14, 37, 2, 15, 20, 12, 46, 38, 88, 22, 82, 841, 46, 178, 39, 35, 326, 34, 547, 107, 487, 426, 213, 48, 794, 145, 97, 8, 127, 30, 222, 27, 19, 71, 108, 115, 52, 103, 444, 230, 162, 250, 229, 15, 510, 15, 39, 77, 114, 95, 11, 328, 82, 70, 244, 10, 204, 37, 15, 289, 43, 28, 73, 50, 381, 63, 43, 19, 114, 13, 129, 59, 15, 607, 26, 52, 33, 34, 44, 39, 151, 92, 287, 722, 36, 39, 37, 99, 11, 15, 33, 10, 45, 69, 15, 105, 348, 39, 287, 147, 207, 375, 264, 554, 13, 56, 17, 5, 1, 1, 4, 195, 70, 31, 4, 15, 78, 75, 71, 98, 99, 8, 5, 90, 455, 99, 26, 41, 19, 49, 28, 29, 349, 68, 117, 203, 70, 66, 116, 184, 181, 120, 51, 282, 518, 83, 80, 51, 300, 361, 141, 257, 2, 528, 184, 139, 1, 71, 168, 547, 38, 244, 60, 252, 474, 325, 139, 515, 355, 292, 293, 282, 286, 324, 379, 398, 257, 612, 61, 570, 537, 469, 442, 503, 444, 450, 441, 484, 441, 443, 450, 446, 443, 459, 459, 177, 430, 414, 401, 392, 145, 18, 13, 7, 13, 43, 124, 58, 43, 42, 56, 50, 72, 33, 66, 94, 141, 188, 217, 142, 160, 82, 224, 25, 93, 12, 97, 31, 205, 27, 7, 410, 132, 97, 113, 150, 249, 136, 101, 291, 99, 93, 79, 210, 119, 39, 267, 36, 28, 238, 44, 45, 57, 98, 36, 2, 13, 564, 13, 13, 126, 495, 13, 21, 28, 330, 10, 186, 42, 63, 103, 4, 48, 10, 39, 9, 59, 3, 26, 16, 59, 79, 116, 29, 42, 359, 126, 181, 112, 93, 90, 97, 87, 108, 79, 86, 174, 96, 129, 143, 119, 111, 10, 61, 39, 58, 8, 61, 86, 195, 285, 1, 179, 28, 16, 208, 120, 155, 1, 427, 65, 60, 34, 8, 15, 195, 91, 44, 127, 114, 56, 11, 162, 9, 83, 379, 25, 98, 64, 3, 476, 78, 78, 2, 28, 19, 56, 72, 256, 43, 131, 69, 36, 58, 654, 11, 11, 70, 811, 16, 19, 194, 50, 67, 2, 35, 8, 787, 117, 452, 89, 101, 18, 15, 213, 289, 33, 99, 700, 18, 13, 236, 5, 28, 208, 366, 177, 202, 132, 161, 168, 168, 185, 135, 150, 159, 170, 354, 125, 8, 10, 34, 11, 364, 253, 223, 218, 31, 4, 54, 180, 2, 5, 3, 30, 155, 2, 9, 289, 5, 9, 2, 112, 106, 62, 131, 120, 252, 73, 19, 49, 180, 14, 211, 64, 133, 2, 44, 22, 16, 15, 11, 30, 36, 11, 15, 9, 20, 10, 16, 59, 71, 1, 43, 56, 24, 79, 7, 513, 137, 256, 124, 32, 7, 28, 604, 5, 245, 315, 11, 19, 12, 52, 141, 12, 113, 10, 28, 208, 74, 48, 260, 1, 92, 180, 58, 41, 1, 10, 42, 13, 13, 44, 7, 2, 2, 94, 10, 22, 25, 22, 24, 18, 5, 29, 1, 68, 19, 29, 14, 79, 47, 11, 50, 4, 13, 139, 350, 550, 40, 48, 13, 29, 71, 1, 56, 4, 41, 470, 21, 20, 14, 66, 227, 18, 40, 174, 24, 19, 75, 11, 206, 21, 23, 26, 223, 15, 73, 50, 22, 102, 51, 367, 47, 6, 34, 33, 19, 31, 28, 15, 73, 31, 11, 284, 443, 18, 48, 22, 28, 24, 13, 64, 224, 419, 67, 313, 3, 488, 24, 64, 38, 53, 21, 115, 33, 125, 49, 20, 103, 87, 19, 10, 217, 113, 187, 78, 134, 6, 380, 49, 26, 98, 8, 470, 1, 179, 57, 115, 84, 69, 114, 8, 199, 20, 21, 31, 18, 43, 321, 4, 3, 11, 130, 95, 23, 30, 6, 18, 42, 31, 51, 216, 30, 12, 22, 149, 42, 9, 15, 6, 56, 6, 13, 8, 150, 36, 238, 21, 26, 20, 299, 593, 14, 84, 603, 37, 48, 33, 101, 46, 402, 10, 38, 266, 195, 4, 16, 3, 3, 22, 12, 4, 15, 16, 345, 188, 11, 294, 29, 45, 75, 1, 392, 36, 764, 9, 94, 72, 74, 12, 174, 29, 10, 10, 58, 2, 84, 26, 18, 18, 134, 42, 52, 77, 141, 18, 65, 219, 81, 71, 48, 176, 29, 44, 27, 12, 5, 820, 79, 94, 50, 45, 16, 43, 26, 22, 22, 23, 50, 7, 37, 32, 87, 48, 13, 12, 126, 182, 84, 113, 93, 42, 106, 677, 36, 191, 37, 51, 13, 16, 6, 9, 60, 415, 39, 90, 68, 104, 132, 5, 12, 64, 10, 30, 37, 6, 2, 99, 270, 367, 73, 68, 171, 18, 58, 18, 126, 517, 27, 11, 13, 311, 43, 323, 126, 14, 36, 32, 34, 27, 19, 513, 75, 19, 52, 33, 123, 501, 393, 116, 20, 94, 16, 55, 388, 12, 604, 685, 295, 25, 72, 46, 34, 37, 32, 457, 484, 10, 7, 316, 20, 61, 71, 69, 14, 4, 6, 25, 274, 95, 69, 150, 310, 150, 11, 70, 11, 2, 269, 185, 119, 9, 567, 3, 52, 12, 34, 14, 18, 24, 23, 33, 10, 16, 54, 547, 40, 151, 154, 123, 33, 9, 8, 10, 48, 62, 66, 50, 6, 15, 17, 41, 21, 64, 11, 211, 8, 36, 35, 11, 108, 6, 70, 48, 510, 81, 313, 15, 19, 63, 68, 27, 11, 163, 50, 253, 472, 30, 448, 4, 10, 14, 34, 28, 863, 40, 2, 1, 4, 2, 1, 1, 2, 1, 17, 43, 26, 512, 738, 370, 110, 88, 179, 159, 41, 35, 62, 341, 135, 97, 25, 230, 64, 94, 32, 57, 27, 177, 72, 15, 27, 451, 90, 507, 23, 50, 17, 12, 54, 34, 54, 36, 23, 793, 47, 61, 3, 29, 20, 10, 98, 20, 91, 75, 5, 146, 180, 24, 26, 124, 15, 92, 33, 57, 16, 37, 76, 77, 244, 24, 25, 88, 270, 30, 17, 544, 30, 177, 13, 31, 173, 292, 197, 79, 50, 95, 28, 97, 21, 38, 31, 1, 167, 30, 34, 71, 51, 52, 45, 54, 46, 577, 36, 151, 44, 552, 36, 17, 71, 560, 92, 57, 379, 370, 306, 747, 304, 317, 11, 273, 100, 33, 351, 298, 19, 33, 88, 26, 83, 40, 14, 295, 169, 575, 557, 136, 582, 240, 20, 379, 23, 39, 27, 13, 42, 37, 64, 9, 30, 33, 270, 194, 588, 317, 6, 101, 811, 163, 108, 12, 20, 96, 418, 10, 28, 28, 85, 17, 62, 57, 31, 294, 131, 23, 243, 456, 344, 173, 135, 154, 540, 88, 8, 31, 83, 9, 152, 32, 12, 69, 43, 141, 147, 152, 170, 10, 61, 68, 5, 49, 50, 37, 90, 19, 302, 94, 18, 348, 42, 24, 133, 119, 126, 63, 9, 3, 17, 49, 91, 270, 22, 42, 69, 323, 89, 355, 71, 18, 53, 524, 255, 3, 198, 493, 255, 29, 20, 93, 46, 106, 228, 5, 80, 33, 6, 119, 236, 246, 131, 189, 7, 62, 53, 87, 178, 41, 429, 171, 299, 38, 192, 31, 187, 230, 651, 191, 150, 34, 132, 266, 10, 235, 95, 222, 8, 29, 22, 16, 712, 58, 62, 64, 240, 618, 185, 116, 11, 21, 433, 75, 579, 120, 18, 19, 201, 76, 717, 64, 160, 27, 98, 17, 449, 408, 726, 20, 147, 33, 94, 349, 92, 11, 154, 498, 362, 213, 599, 93, 712, 2, 8, 64, 5, 59, 33, 399, 17, 19, 13, 64, 48, 18, 266, 3, 46, 166, 80, 212, 571, 19, 712, 7, 6, 268, 145, 189, 154, 78, 21, 14, 30, 14, 56, 373, 11, 4, 13, 17, 10, 56, 25, 28, 250, 5, 22, 19, 13, 241, 19, 40, 209, 194, 290, 42, 37, 6, 31, 12, 295, 27, 32, 193, 6, 135, 15, 6, 21, 51, 38, 39, 509, 159, 244, 153, 175, 47, 120, 92, 51, 46, 233, 73, 78, 391, 294, 9, 60, 26, 347, 204, 37, 12, 17, 106, 136, 4, 5, 48, 5, 176, 116, 58, 193, 497, 109, 546, 79, 18, 17, 25, 21, 295, 54, 25, 26, 36, 29, 16, 12, 18, 32, 310, 11, 49, 14, 96, 102, 245, 174, 195, 196, 311, 35, 510, 9, 6, 12, 684, 337, 332, 228, 7, 90, 102, 288, 140, 188, 156, 20, 141, 55, 294, 15, 212, 39, 171, 126, 598, 2, 11, 213, 86, 606, 23, 38, 321, 117, 65, 4, 193, 271, 146, 3, 160, 33, 318, 30, 225, 213, 4, 48, 48, 146, 5, 36, 6, 3, 45, 451, 557, 253, 399, 3, 135, 53, 17, 159, 554, 4, 271, 9, 460, 11, 12, 44, 151, 432, 367, 250, 77, 71, 50, 412, 333, 23, 18, 30, 79, 27, 363, 14, 377, 13, 204, 39, 360, 21, 11, 56, 45, 18, 31, 33, 82, 71, 97, 111, 24, 656, 10, 201, 12, 21, 539, 22, 19, 78, 2, 19, 728, 70, 5, 447, 5, 253, 150, 138, 129, 483, 308, 233, 166, 7, 13, 74, 156, 160, 21, 71, 35, 133, 67, 45, 152, 80, 3, 12, 15, 13, 110, 47, 76, 10, 136, 39, 9, 28, 45, 45, 614, 89, 33, 26, 121, 47, 16, 76, 46, 237, 95, 60, 11, 93, 48, 64, 46, 10, 46, 45, 84, 248, 785, 69, 653, 122, 59, 23, 117, 43, 256, 36, 70, 3, 12, 117, 17, 66, 164, 12, 22, 74, 50, 15, 27, 66, 23, 66, 253, 20, 10, 120, 78, 235, 39, 42, 30, 2, 684, 278, 9, 10, 123, 40, 37, 67, 27, 26, 47, 56, 202, 19, 173, 28, 45, 124, 162, 64, 884, 631, 620, 593, 141, 31, 99, 780, 9, 861, 79, 26, 205, 49, 157, 93, 489, 264, 9, 246, 579, 122, 301, 168, 237, 237, 190, 390, 73, 211, 33, 232, 39, 132, 146, 35, 21, 27, 20, 99, 431, 85, 240, 182, 20, 40, 392, 69, 32, 170, 32, 34, 325, 85, 30, 6, 215, 19, 494, 29, 26, 227, 108, 98, 157, 253, 108, 105, 270, 42, 155, 72, 37, 135, 101, 133, 5, 19, 3, 17, 39, 41, 67, 12, 87, 51, 6, 131, 12, 122, 8, 80, 12, 2, 44, 29, 99, 267, 35, 30, 112, 171, 25, 10, 3, 287, 68, 222, 70, 7, 6, 85, 130, 485, 72, 881, 360, 208, 16, 58, 27, 59, 26, 155, 35, 12, 377, 364, 354, 4, 136, 342, 258, 32, 5, 5, 20, 383, 119, 31, 32, 10, 121, 309, 270, 16, 213, 30, 8, 24, 15, 33, 229, 62, 96, 182, 714, 58, 461, 161, 19, 600, 182, 511, 57, 76, 309, 57, 94, 294, 52, 21, 81, 186, 35, 294, 88, 16, 9, 28, 197, 242, 318, 362, 88, 55, 93, 134, 16, 92, 259, 83, 43, 151, 14, 48, 41, 62, 23, 44, 67, 223, 62, 56, 10, 84, 221, 135, 32, 55, 51, 156, 6, 15, 13, 355, 28, 12, 418, 636, 193, 62, 847, 14, 124, 161, 5, 33, 532, 7, 16, 30, 19, 58, 7, 4, 17, 34, 79, 530, 23, 103, 8, 440, 289, 8, 26, 88, 25, 11, 144, 15, 11, 17, 32, 28, 18, 1, 226, 143, 9, 24, 44, 36, 22, 38, 106, 72, 23, 3, 549, 32, 24, 80, 55, 11, 2, 2, 35, 14, 44, 17, 302, 173, 126, 15, 141, 19, 100, 2, 10, 49, 156, 44, 53, 75, 33, 1, 63, 30, 724, 126, 33, 633, 498, 28, 257, 55, 16, 14, 198, 185, 251, 56, 13, 276, 62, 91, 226, 255, 10, 14, 129, 187, 149, 388, 491, 47, 44, 536, 189, 224, 117, 148, 47, 47, 70, 33, 19, 57, 191, 100, 199, 54, 202, 57, 94, 57, 36, 550, 822, 845, 280, 15, 32, 91, 50, 19, 319, 195, 69, 55, 14, 84, 187, 28, 34, 69, 52, 157, 206, 1, 379, 106, 170, 26, 154, 46, 149, 22, 28, 28, 304, 11, 11, 225, 127, 269, 14, 9, 29, 294, 64, 52, 68, 418, 706, 104, 191, 266, 22, 19, 25, 50, 83, 169, 25, 162, 2, 65, 53, 15, 50, 40, 47, 606, 153, 16, 85, 81, 20, 63, 880, 7, 10, 158, 72, 99, 238, 4, 4, 80, 119, 14, 92, 312, 61, 14, 125, 259, 364, 10, 22, 33, 32, 133, 66, 139, 507, 45, 22, 98, 30, 24, 121, 42, 700, 14, 28, 35, 320, 206, 32, 680, 6, 74, 54, 21, 72, 17, 22, 518, 20, 131, 31, 80, 42, 116, 182, 210, 17, 39, 34, 563, 229, 4, 72, 35, 102, 5, 266, 52, 598, 19, 80, 175, 28, 18, 28, 126, 28, 779, 55, 24, 62, 18, 150, 53, 24, 491, 7, 101, 301, 211, 209, 144, 14, 18, 213, 493, 24, 130, 21, 7, 7, 793, 603, 2, 124, 98, 10, 12, 38, 85, 4, 18, 36, 589, 11, 26, 22, 180, 3, 6, 6, 1, 3, 8, 21, 9, 289, 6, 124, 23, 116, 8, 176, 30, 128, 442, 623, 34, 100, 517, 181, 8, 602, 120, 239, 69, 94, 18, 73, 60, 9, 133, 169, 9, 148, 10, 186, 362, 46, 325, 15, 21, 31, 9, 67, 122, 19, 8, 7, 112, 24, 164, 76, 415, 92, 18, 43, 22, 36, 175, 117, 68, 30, 172, 59, 23, 24, 55, 52, 28, 11, 130, 101, 34, 7, 220, 680, 5, 37, 10, 238, 20, 31, 250, 423, 406, 10, 17, 22, 4, 39, 54, 6, 7, 119, 7, 154, 107, 32, 8, 23, 8, 7, 312, 98, 9, 153, 453, 148, 278, 11, 34, 10, 252, 104, 419, 4, 12, 13, 161, 199, 47, 16, 157, 49, 36, 115, 10, 14, 13, 8, 7, 10, 8, 16, 97, 63, 7, 90, 8, 8, 50, 6, 10, 41, 10, 71, 3, 63, 14, 6, 9, 268, 21, 18, 9, 26, 104, 6, 28, 90, 3, 2, 5, 31, 9, 17, 7, 5, 24, 12, 14, 34, 39, 126, 37, 107, 34, 130, 101, 40, 41, 156, 463, 171, 100, 171, 583, 45, 43, 60, 104, 16, 7, 25, 70, 84, 139, 165, 77, 43, 13, 69, 6, 8, 23, 150, 37, 425, 199, 169, 138, 10, 321, 45, 343, 21, 244, 25, 57, 32, 72, 18, 143, 92, 19, 16, 79, 74, 247, 64, 44, 31, 90, 164, 193, 18, 245, 730, 12, 86, 20, 238, 10, 66, 81, 7, 82, 188, 17, 42, 10, 9, 48, 147, 6, 16, 36, 37, 23, 59, 52, 28, 152, 57, 34, 10, 18, 187, 3, 25, 26, 45, 56, 11, 5, 22, 854, 3, 60, 83, 94, 39, 13, 46, 152, 12, 15, 486, 93, 39, 8, 17, 30, 23, 21, 14, 133, 783, 20, 20, 59, 19, 29, 10, 103, 15, 12, 449, 119, 25, 12, 11, 5, 14, 20, 15, 10, 10, 15, 80, 10, 6, 24, 35, 13, 14, 14, 24, 221, 242, 20, 7, 1, 10, 391, 77, 20, 19, 11, 22, 4, 6, 45, 18, 15, 117, 839, 56, 30, 77, 12, 168, 26, 3, 21, 4, 12, 12, 116, 224, 91, 160, 119, 165, 16, 441, 60, 324, 153, 15, 542, 62, 36, 583, 143, 11, 24, 75, 317, 58, 53, 82, 7, 294, 2, 92, 12, 50, 9, 327, 9, 16, 37, 31, 29, 39, 2, 10, 23, 25, 15, 4, 22, 28, 168, 175, 485, 206, 8, 55, 128, 29, 328, 656, 29, 113, 856, 44, 61, 66, 147, 84, 110, 627, 2, 45, 697, 625, 44, 269, 170, 37, 17, 70, 93, 69, 361, 90, 423, 314, 16, 392, 71, 67, 65, 152, 37, 41, 107, 51, 68, 479, 31, 13, 301, 796, 28, 75, 51, 3, 25, 188, 415, 22, 443, 306, 136, 27, 40, 265, 12, 24, 23, 477, 214, 55, 52, 84, 75, 68, 20, 69, 75, 156, 9, 111, 65, 22, 688, 119, 221, 242, 23, 127, 21, 517, 322, 16, 107, 28, 121, 82, 33, 56, 23, 15, 130, 155, 287, 20, 12, 19, 307, 709, 39, 46, 12, 37, 8, 19, 618, 178, 3, 14, 120, 15, 322, 60, 480, 4, 8, 38, 94, 836, 325, 31, 243, 614, 327, 5, 141, 12, 47, 56, 18, 2, 13, 79, 8, 300, 33, 14, 101, 276, 45, 417, 564, 133, 468, 17, 23, 14, 12, 20, 48, 62, 131, 63, 48, 19, 584, 15, 244, 3, 7, 38, 40, 23, 140, 228, 61, 110, 68, 412, 64, 561, 13, 286, 11, 799, 11, 59, 6, 29, 3, 55, 58, 56, 94, 342, 17, 38, 193, 12, 22, 91, 339, 47, 247, 844, 62, 8, 33, 62, 44, 18, 270, 36, 9, 103, 20, 28, 168, 33, 24, 10, 56, 477, 18, 249, 43, 82, 393, 39, 8, 142, 209, 45, 21, 293, 12, 12, 119, 786, 71, 74, 179, 218, 1, 3, 75, 154, 282, 79, 20, 8, 5, 74, 84, 9, 2, 22, 13, 73, 231, 27, 17, 30, 16, 56, 60, 18, 3, 37, 20, 245, 46, 7, 83, 63, 182, 39, 106, 137, 3, 34, 66, 104, 131, 50, 53, 21, 426, 383, 30, 31, 40, 26, 143, 33, 108, 63, 24, 52, 468, 536, 7, 22, 10, 214, 157, 63, 152, 443, 394, 197, 17, 62, 28, 279, 314, 21, 11, 11, 11, 103, 213, 13, 564, 24, 27, 23, 123, 24, 51, 4, 109, 2, 280, 112, 62, 21, 143, 42, 191, 18, 83, 86, 21, 4, 25, 44, 34, 3, 7, 20, 18, 11, 1, 227, 68, 12, 109, 10, 9, 296, 37, 59, 41, 25, 263, 19, 3, 5, 79, 2, 148, 11, 13, 2, 478, 32, 475, 195, 52, 18, 121, 315, 167, 157, 10, 36, 35, 84, 7, 100, 184, 170, 46, 93, 7, 317, 44, 22, 78, 51, 72, 336, 9, 5, 116, 17, 160, 15, 33, 46, 11, 13, 23, 73, 35, 279, 323, 309, 267, 22, 26, 1, 228, 161, 17, 82, 4, 51, 197, 54, 63, 162, 111, 9, 86, 25, 8, 30, 26, 8, 106, 26, 67, 235, 131, 91, 7, 10, 1, 17, 164, 93, 50, 747, 159, 57, 79, 3, 99, 15, 39, 5, 34, 366, 32, 8, 58, 63, 52, 13, 30, 243, 15, 55, 44, 67, 15, 172, 298, 9, 217, 23, 12, 50, 163, 34, 29, 61, 59, 42, 113, 15, 78, 53, 69, 19, 85, 271, 48, 14, 173, 142, 232, 8, 60, 759, 23, 10, 154, 164, 158, 10, 9, 50, 54, 28, 142, 2, 14, 53, 25, 13, 163, 51, 105, 89, 16, 23, 52, 190, 117, 139, 123, 124, 93, 11, 129, 4, 24, 55, 19, 37, 16, 158, 105, 61, 18, 426, 16, 74, 22, 50, 42, 106, 138, 198, 37, 25, 9, 9, 10, 37, 22, 423, 10, 111, 5, 17, 3, 122, 26, 45, 64, 111, 18, 80, 114, 9, 8, 61, 2, 397, 123, 58, 154, 37, 14, 186, 7, 6, 235, 67, 11, 77, 313, 35, 19, 61, 18, 8, 7, 104, 38, 127, 37, 30, 6, 53, 115, 24, 49, 206, 5, 3, 1, 2, 3, 5, 13, 52, 459, 86, 83, 120, 469, 1, 45, 5, 9, 303, 258, 293, 34, 59, 195, 376, 310, 25, 282, 50, 200, 786, 6, 36, 52, 688, 321, 22, 781, 163, 148, 157, 112, 247, 371, 42, 80, 142, 61, 31, 38, 58, 700, 16, 2, 32, 38, 44, 20, 5, 62, 501, 42, 10, 69, 33, 11, 260, 89, 85, 10, 222, 3, 108, 55, 309, 32, 76, 43, 42, 54, 313, 390, 209, 22, 698, 26, 50, 5, 443, 7, 9, 4, 117, 63, 34, 36, 60, 5, 30, 761, 29, 17, 138, 159, 36, 170, 37, 448, 276, 41, 849, 7, 13, 22, 355, 25, 278, 224, 23, 72, 6, 470, 20, 248, 153, 23, 274, 10, 54, 8, 56, 12, 199, 11, 23, 97, 34, 533, 153, 22, 10, 117, 28, 7, 2, 137, 108, 137, 683, 11, 58, 317, 12, 216, 43, 72, 7, 116, 394, 9, 472, 161, 30, 47, 9, 272, 4, 56, 91, 261, 227, 393, 86, 39, 3, 72, 302, 651, 54, 216, 161, 10, 101, 157, 162, 53, 251, 47, 199, 138, 16, 45, 16, 36, 101, 20, 448, 80, 18, 14, 171, 59, 22, 12, 10, 14, 60, 99, 24, 244, 442, 120, 474, 46, 351, 40, 13, 18, 12, 50, 14, 40, 15, 17, 13, 14, 294, 32, 422, 50, 12, 32, 133, 24, 25, 54, 26, 72, 25, 94, 15, 222, 29, 391, 215, 70, 21, 26, 109, 90, 66, 30, 39, 107, 34, 202, 33, 13, 109, 16, 21, 17, 70, 23, 69, 81, 58, 15, 79, 882, 541, 557, 22, 25, 681, 75, 192, 13, 17, 79, 27, 226, 77, 3, 29, 566, 36, 767, 372, 762, 132, 31, 63, 581, 46, 64, 39, 139, 35, 7, 14, 71, 16, 159, 165, 73, 116, 11, 3, 13, 432, 51, 52, 77, 44, 20, 7, 10, 570, 6, 153, 156, 42, 46, 7, 389, 13, 30, 39, 9, 4, 24, 371, 537, 108, 636, 41, 34, 100, 126, 70, 52, 45, 87, 140, 23, 75, 42, 13, 137, 177, 187, 253, 267, 38, 374, 91, 48, 49, 789, 27, 93, 115, 22, 23, 28, 638, 9, 49, 113, 59, 16, 116, 204, 45, 27, 495, 127, 28, 85, 170, 327, 28, 15, 38, 16, 13, 15, 44, 69, 17, 28, 296, 49, 52, 22, 315, 53, 29, 71, 34, 22, 175, 47, 491, 42, 4, 46, 136, 3, 99, 5, 23, 255, 12, 99, 311, 705, 51, 40, 347, 47, 73, 10, 97, 32, 23, 71, 29, 18, 87, 23, 18, 39, 8, 50, 14, 22, 583, 99, 31, 51, 19, 62, 70, 26, 56, 33, 30, 15, 38, 165, 22, 34, 79, 298, 15, 18, 176, 140, 429, 13, 99, 184, 21, 334, 173, 249, 23, 31, 287, 297, 34, 83, 42, 17, 12, 61, 264, 120, 364, 68, 40, 110, 24, 658, 35, 179, 93, 86, 103, 24, 28, 5, 16, 22, 11, 11, 79, 8, 41, 477, 18, 144, 16, 6, 17, 83, 19, 121, 20, 17, 34, 21, 15, 23, 100, 14, 13, 24, 16, 9, 44, 181, 53, 4, 64, 35, 64, 28, 9, 350, 8, 11, 83, 34, 42, 28, 52, 73, 8, 41, 22, 48, 23, 35, 22, 61, 154, 16, 17, 24, 68, 32, 60, 46, 105, 16, 189, 15, 313, 6, 68, 352, 26, 45, 14, 20, 53, 188, 23, 47, 88, 38, 26, 5, 103, 220, 53, 19, 331, 12, 330, 255, 51, 11, 19, 841, 157, 4, 24, 34, 251, 37, 229, 221, 13, 18, 272, 235, 62, 442, 379, 70, 571, 27, 161, 108, 43, 121, 21, 60, 46, 99, 23, 590, 113, 77, 124, 130, 134, 132, 237, 836, 372, 72, 53, 42, 350, 53, 32, 29, 69, 55, 26, 62, 11, 23, 18, 45, 178, 284, 159, 143, 362, 27, 105, 85, 19, 200, 273, 210, 92, 12, 220, 220, 7, 8, 15, 68, 185, 7, 7, 90, 21, 12, 16, 37, 76, 40, 41, 132, 21, 38, 107, 14, 55, 133, 31, 42, 54, 91, 458, 116, 82, 64, 16, 16, 49, 11, 12, 335, 61, 58, 102, 51, 119, 15, 56, 39, 52, 43, 85, 27, 150, 313, 16, 17, 398, 36, 204, 516, 68, 55, 426, 13, 92, 14, 312, 44, 38, 6, 61, 104, 166, 22, 13, 6, 73, 69, 38, 13, 9, 20, 27, 399, 13, 697, 195, 37, 187, 50, 39, 92, 145, 77, 113, 41, 294, 111, 14, 58, 23, 339, 4, 341, 123, 50, 71, 639, 68, 24, 81, 822, 398, 20, 104, 24, 23, 27, 132, 464, 11, 67, 270, 8, 176, 99, 803, 28, 13, 9, 48, 10, 67, 21, 138, 31, 22, 10, 166, 18, 542, 29, 63, 22, 39, 100, 19, 25, 6, 16, 18, 78, 50, 15, 96, 11, 18, 21, 12, 11, 207, 49, 15, 23, 25, 39, 73, 23, 12, 140, 29, 18, 710, 23, 39, 9, 38, 69, 274, 29, 74, 4, 72, 19, 129, 101, 14, 46, 87, 18, 50, 10, 371, 170, 42, 94, 109, 19, 3, 145, 26, 742, 387, 81, 24, 466, 25, 19, 12, 96, 21, 75, 7, 24, 28, 330, 281, 18, 66, 26, 636, 59, 224, 715, 166, 20, 9, 51, 272, 412, 101, 6, 7, 80, 57, 566, 100, 525, 21, 12, 640, 12, 22, 75, 19, 39, 32, 37, 27, 111, 20, 40, 37, 42, 55, 50, 214, 362, 275, 85, 176, 8, 43, 130, 79, 135, 126, 24, 270, 328, 17, 370, 37, 96, 187, 16, 23, 168, 104, 387, 90, 23, 157, 34, 23, 104, 4, 53, 57, 210, 272, 287, 245, 24, 5, 322, 92, 56, 113, 6, 158, 242, 122, 333, 10, 52, 119, 396, 42, 7, 11, 158, 231, 611, 205, 205, 20, 173, 348, 119, 586, 8, 20, 9, 243, 47, 853, 272, 200, 21, 26, 172, 8, 4, 29, 84, 46, 57, 130, 21, 294, 25, 7, 15, 260, 70, 320, 140, 13, 19, 109, 10, 56, 20, 11, 103, 26, 389, 5, 18, 224, 779, 105, 505, 14, 27, 78, 8, 44, 3, 11, 34, 246, 55, 79, 213, 90, 3, 264, 18, 27, 98, 10, 6, 61, 375, 28, 19, 15, 110, 10, 48, 32, 322, 492, 18, 215, 33, 77, 17, 296, 37, 56, 19, 353, 56, 22, 13, 38, 34, 30, 92, 82, 21, 83, 83, 20, 10, 11, 38, 6, 66, 5, 14, 42, 74, 34, 13, 19, 16, 3, 16, 138, 124, 74, 105, 458, 113, 175, 53, 10, 20, 148, 31, 90, 23, 37, 45, 621, 123, 37, 5, 18, 15, 64, 352, 197, 26, 296, 24, 49, 91, 358, 8, 221, 699, 46, 327, 43, 39, 56, 11, 132, 19, 7, 13, 10, 7, 5, 51, 13, 31, 18, 25, 9, 87, 27, 7, 5, 29, 448, 477, 163, 303, 320, 25, 605, 529, 629, 851, 38, 7, 39, 836, 4, 8, 8, 22, 22, 203, 64, 168, 15, 10, 16, 14, 18, 18, 95, 17, 9, 19, 151, 230, 182, 33, 149, 36, 54, 156, 7, 16, 46, 5, 16, 43, 7, 6, 24, 41, 43, 195, 95, 209, 83, 51, 720, 4, 417, 63, 38, 77, 51, 8, 365, 461, 17, 23, 275, 27, 81, 300, 13, 66, 10, 34, 237, 23, 41, 39, 117, 4, 525, 13, 48, 132, 12, 381, 116, 122, 21, 13, 6, 624, 498, 43, 43, 23, 27, 111, 23, 80, 10, 12, 12, 36, 27, 37, 14, 12, 18, 47, 20, 28, 9, 317, 55, 171, 20, 82, 37, 13, 87, 19, 124, 173, 13, 12, 304, 68, 17, 20, 46, 7, 8, 70, 12, 427, 4, 51, 5, 5, 23, 11, 6, 16, 754, 99, 18, 28, 10, 124, 77, 106, 168, 30, 75, 19, 202, 112, 18, 8, 108, 18, 8, 54, 69, 8, 27, 11, 9, 11, 13, 212, 15, 79, 3, 321, 176, 363, 51, 167, 127, 46, 14, 95, 110, 19, 203, 29, 12, 17, 94, 30, 16, 71, 38, 14, 56, 9, 41, 11, 47, 38, 17, 87, 53, 34, 47, 31, 89, 15, 40, 43, 11, 13, 6, 105, 319, 36, 461, 26, 47, 27, 27, 20, 45, 22, 71, 115, 10, 36, 81, 77, 221, 28, 34, 32, 58, 4, 13, 30, 160, 128, 49, 13, 94, 45, 118, 537, 24, 427, 462, 75, 22, 176, 37, 15, 172, 28, 43, 37, 16, 27, 218, 13, 85, 42, 38, 58, 10, 101, 19, 21, 126, 137, 18, 32, 23, 170, 86, 20, 183, 83, 14, 115, 39, 42, 237, 84, 56, 24, 49, 19, 24, 18, 15, 26, 584, 206, 13, 671, 39, 20, 230, 32, 82, 25, 60, 19, 11, 26, 29, 14, 6, 18, 6, 14, 10, 67, 20, 48, 35, 14, 20, 45, 11, 25, 26, 39, 26, 20, 881, 82, 7, 67, 24, 8, 56, 43, 29, 29, 15, 102, 403, 22, 36, 48, 2, 16, 441, 42, 74, 67, 671, 26, 12, 92, 116, 241, 328, 112, 10, 644, 23, 19, 620, 41, 36, 12, 24, 24, 65, 8, 10, 43, 103, 659, 21, 17, 21, 54, 24, 87, 10, 22, 13, 25, 26, 139, 62, 26, 50, 30, 33, 34, 5, 50, 17, 17, 24, 105, 30, 39, 14, 51, 47, 29, 45, 16, 74, 50, 16, 18, 96, 30, 10, 55, 24, 35, 15, 93, 108, 26, 64, 24, 127, 13, 36, 8, 9, 330, 19, 14, 35, 27, 9, 7, 13, 348, 26, 127, 118, 84, 43, 163, 14, 24, 6, 42, 224, 34, 25, 6, 134, 13, 8, 20, 5, 11, 43, 65, 12, 391, 34, 53, 21, 16, 8, 131, 9, 37, 12, 24, 182, 62, 45, 73, 19, 5, 62, 99, 107, 40, 265, 80, 2, 37, 19, 111, 92, 30, 21, 668, 684, 232, 26, 8, 22, 82, 214, 329, 34, 41, 872, 3, 13, 24, 40, 5, 14, 7, 8, 11, 7, 22, 36, 15, 24, 33, 21, 47, 16, 43, 25, 2, 12, 99, 50, 70, 23, 30, 91, 50, 15, 107, 9, 152, 32, 31, 9, 10, 352, 6, 120, 52, 4, 24, 15, 7, 9, 6, 186, 31, 7, 23, 9, 19, 10, 53, 22, 48, 13, 40, 7, 5, 25, 23, 29, 69, 10, 96, 46, 7, 62, 263, 45, 21, 18, 41, 51, 396, 58, 58, 16, 16, 12, 46, 578, 92, 21, 69, 60, 127, 152, 119, 56, 50, 28, 21, 55, 34, 23, 251, 414, 26, 19, 20, 19, 17, 207, 3, 30, 26, 345, 67, 85, 81, 72, 77, 490, 39, 325, 66, 1, 10, 42, 334, 257, 27, 28, 30, 34, 43, 5, 66, 13, 34, 9, 755, 261, 25, 51, 218, 100, 133, 7, 16, 10, 160, 791, 110, 8, 14, 155, 15, 26, 67, 40, 20, 28, 8, 38, 33, 41, 122, 17, 71, 10, 40, 10, 97, 384, 64, 276, 282, 59, 9, 49, 5, 22, 60, 163, 28, 12, 269, 35, 371, 9, 46, 283, 239, 226, 21, 60, 89, 221, 536, 9, 251, 21, 136, 46, 91, 28, 12, 41, 11, 98, 58, 12, 47, 202, 10, 309, 32, 47, 122, 6, 135, 16, 14, 22, 232, 104, 122, 32, 5, 33, 189, 5, 38, 85, 38, 21, 122, 87, 40, 43, 69, 98, 255, 34, 25, 47, 3, 10, 84, 13, 257, 23, 43, 36, 45, 63, 173, 17, 53, 131, 61, 30, 17, 268, 72, 43, 5, 15, 242, 54, 177, 27, 41, 34, 45, 8, 13, 243, 88, 280, 21, 207, 63, 89, 6, 201, 82, 739, 133, 95, 28, 35, 66, 30, 41, 39, 154, 24, 20, 9, 131, 330, 187, 896, 146, 17, 304, 173, 62, 35, 64, 35, 27, 8, 82, 35, 27, 754, 36, 29, 40, 16, 21, 25, 16, 65, 17, 88, 29, 25, 17, 16, 45, 76, 43, 287, 86, 121, 23, 75, 4, 28, 110, 79, 21, 14, 16, 14, 11, 319, 91, 9, 21, 85, 5, 126, 288, 15, 74, 87, 194, 737, 163, 60, 14, 65, 408, 17, 68, 36, 3, 88, 40, 144, 79, 50, 46, 24, 17, 76, 58, 55, 21, 36, 13, 72, 146, 241, 8, 30, 65, 14, 245, 41, 25, 71, 24, 40, 30, 63, 49, 34, 34, 214, 279, 13, 226, 37, 404, 66, 268, 130, 36, 372, 12, 56, 235, 5, 35, 68, 38, 81, 189, 30, 25, 638, 250, 22, 510, 188, 835, 22, 45, 48, 104, 430, 26, 37, 19, 80, 77, 51, 151, 29, 19, 42, 10, 36, 22, 46, 22, 31, 19, 60, 270, 21, 84, 14, 30, 283, 11, 16, 13, 362, 8, 4, 106, 88, 445, 28, 11, 67, 17, 384, 16, 349, 153, 119, 35, 30, 10, 208, 109, 42, 45, 80, 15, 30, 195, 242, 27, 94, 50, 685, 71, 33, 457, 414, 349, 22, 15, 243, 26, 14, 119, 198, 255, 105, 286, 41, 25, 11, 6, 64, 93, 51, 25, 26, 19, 169, 71, 18, 75, 280, 89, 214, 42, 575, 72, 40, 25, 34, 56, 10, 46, 21, 17, 52, 34, 17, 146, 32, 52, 3, 76, 107, 10, 40, 42, 10, 22, 23, 15, 181, 166, 6, 33, 48, 15, 44, 18, 33, 19, 177, 18, 257, 5, 15, 51, 18, 31, 22, 6, 15, 52, 75, 222, 815, 233, 309, 16, 22, 158, 19, 10, 4, 232, 47, 130, 132, 45, 33, 62, 40, 100, 26, 720, 3, 8, 88, 20, 88, 30, 57, 682, 180, 104, 34, 599, 58, 536, 616, 96, 28, 18, 473, 315, 599, 48, 557, 67, 22, 13, 29, 576, 11, 48, 153, 42, 30, 4, 37, 24, 357, 19, 192, 429, 434, 386, 24, 6, 87, 341, 269, 323, 286, 5, 7, 13, 427, 18, 18, 179, 163, 23, 29, 312, 820, 12, 8, 212, 22, 9, 35, 137, 94, 25, 12, 28, 22, 344, 9, 363, 452, 146, 57, 66, 311, 10, 33, 226, 538, 62, 379, 117, 51, 410, 50, 62, 105, 778, 105, 72, 10, 322, 65, 15, 16, 28, 422, 39, 96, 59, 19, 225, 37, 319, 34, 110, 17, 11, 21, 28, 98, 74, 30, 76, 8, 39, 9, 23, 39, 66, 119, 17, 11, 47, 16, 40, 183, 28, 24, 285, 88, 32, 37, 15, 9, 511, 368, 102, 4, 26, 110, 6, 25, 20, 19, 188, 35, 55, 227, 89, 194, 20, 69, 17, 29, 46, 24, 30, 53, 194, 43, 36, 120, 86, 148, 852, 114, 3, 48, 9, 47, 28, 47, 18, 7, 66, 277, 136, 310, 440, 168, 21, 6, 134, 75, 49, 34, 26, 227, 373, 12, 421, 66, 17, 44, 178, 13, 9, 24, 176, 123, 16, 265, 19, 142, 116, 225, 12, 239, 117, 56, 80, 90, 12, 13, 20, 50, 20, 25, 20, 5, 27, 74, 13, 326, 54, 110, 205, 110, 1, 187, 28, 44, 278, 115, 443, 63, 82, 68, 130, 17, 10, 60, 161, 119, 171, 83, 12, 63, 19, 21, 52, 51, 14, 4, 12, 26, 18, 17, 8, 27, 9, 8, 23, 43, 23, 14, 6, 9, 19, 25, 27, 4, 12, 7, 5, 11, 7, 16, 19, 42, 37, 35, 8, 7, 11, 37, 50, 260, 8, 22, 10, 28, 14, 45, 14, 59, 58, 120, 34, 23, 32, 45, 9, 83, 16, 24, 59, 13, 39, 21, 42, 58, 33, 37, 16, 86, 21, 72, 83, 56, 161, 36, 11, 16, 25, 94, 137, 86, 78, 160, 179, 27, 26, 22, 27, 206, 187, 27, 58, 319, 56, 11, 10, 374, 126, 89, 58, 44, 513, 53, 18, 356, 182, 121, 95, 452, 22, 28, 65, 177, 16, 75, 13, 393, 84, 93, 9, 116, 11, 24, 104, 19, 22, 41, 70, 82, 36, 11, 48, 75, 218, 33, 51, 19, 42, 38, 4, 8, 21, 18, 4, 13, 2, 37, 117, 512, 409, 37, 43, 15, 118, 10, 156, 257, 59, 297, 173, 307, 49, 9, 304, 56, 7, 26, 6, 10, 11, 112, 47, 134, 26, 19, 29, 39, 50, 10, 123, 39, 41, 16, 212, 15, 59, 117, 14, 14, 33, 29, 187, 25, 94, 77, 190, 58, 43, 24, 6, 25, 32, 112, 32, 25, 17, 15, 86, 18, 12, 8, 8, 95, 100, 10, 8, 51, 14, 12, 19, 29, 120, 21, 9, 32, 10, 10, 163, 194, 7, 6, 32, 71, 15, 61, 12, 44, 22, 11, 41, 19, 9, 6, 10, 104, 129, 43, 20, 19, 17, 51, 84, 106, 40, 10, 36, 23, 44, 29, 13, 11, 18, 12, 22, 4, 42, 13, 154, 23, 11, 14, 55, 35, 3, 114, 77, 76, 107, 348, 20, 51, 8, 9, 35, 24, 72, 30, 233, 82, 14, 115, 42, 20, 155, 17, 15, 29, 99, 50, 28, 249, 21, 22, 16, 22, 5, 13, 9, 5, 71, 64, 127, 38, 229, 106, 103, 198, 176, 7, 25, 51, 18, 159, 127, 25, 61, 21, 360, 159, 549, 10, 62, 276, 6, 18, 126, 5, 29, 23, 2, 42, 22, 5, 1, 16, 117, 53, 22, 95, 36, 47, 4, 16, 2, 18, 778, 70, 34, 115, 7, 123, 5, 149, 3, 260, 3, 14, 134, 32, 17, 2, 1, 3, 26, 47, 34, 10, 95, 104, 21, 59, 28, 65, 20, 27, 21, 34, 53, 34, 25, 109, 41, 31, 58, 41, 20, 18, 47, 28, 27, 66, 33, 69, 88, 117, 82, 26, 46, 112, 34, 108, 8, 69, 11, 41, 105, 20, 70, 109, 73, 25, 37, 32, 37, 11, 146, 19, 50, 59, 75, 140, 19, 72, 61, 23, 192, 292, 41, 85, 109, 23, 18, 167, 27, 218, 86, 52, 564, 13, 191, 50, 5, 44, 70, 6, 44, 17, 98, 21, 4, 13, 7, 37, 49, 49, 68, 102, 130, 77, 646, 19, 115, 72, 22, 102, 39, 58, 264, 171, 551, 20, 119, 163, 420, 310, 414, 664, 270, 17, 150, 210, 557, 263, 112, 36, 243, 81, 807, 135, 63, 252, 532, 29, 223, 430, 11, 115, 242, 525, 25, 5, 8, 11, 27, 11, 55, 71, 124, 87, 15, 8, 215, 53, 254, 12, 104, 5, 41, 33, 51, 3, 9, 28, 10, 1, 6, 27, 308, 45, 70, 37, 9, 79, 11, 98, 10, 30, 100, 14, 16, 67, 52, 160, 609, 85, 33, 69, 223, 80, 206, 13, 182, 65, 289, 197, 45, 15, 37, 23, 52, 71, 18, 401, 129, 387, 22, 25, 82, 44, 29, 47, 14, 16, 75, 19, 37, 454, 9, 40, 32, 9, 54, 61, 100, 27, 11, 97, 51, 7, 6, 476, 9, 50, 21, 33, 15, 51, 37, 14, 21, 38, 217, 125, 66, 316, 54, 74, 76, 70, 20, 9, 11, 130, 79, 49, 37, 17, 89, 200, 28, 62, 59, 4, 6, 6, 12, 17, 37, 7, 45, 36, 15, 24, 50, 192, 7, 13, 43, 12, 92, 66, 137, 4, 21, 106, 27, 175, 26, 5, 39, 79, 54, 8, 4, 23, 12, 72, 30, 103, 34, 27, 10, 54, 172, 62, 89, 184, 7, 31, 24, 10, 37, 23, 40, 181, 557, 63, 11, 25, 88, 20, 27, 67, 42, 4, 26, 128, 27, 160, 78, 267, 37, 359, 51, 32, 255, 202, 34, 25, 234, 24, 149, 151, 175, 16, 21, 205, 11, 51, 78, 19, 179, 132, 24, 210, 49, 48, 129, 46, 8, 107, 11, 10, 23, 262, 181, 30, 558, 12, 82, 293, 29, 21, 214, 9, 11, 18, 26, 26, 14, 30, 45, 154, 141, 19, 35, 369, 187, 52, 192, 71, 27, 5, 56, 89, 143, 783, 10, 24, 15, 58, 37, 7, 81, 545, 13, 18, 11, 8, 23, 23, 6, 4, 32, 35, 479, 314, 33, 112, 46, 16, 36, 18, 37, 95, 51, 56, 23, 20, 66, 50, 43, 31, 80, 237, 408, 44, 431, 67, 53, 24, 94, 15, 16, 257, 22, 453, 38, 101, 21, 18, 32, 153, 274, 16, 4, 2, 65, 30, 266, 38, 146, 115, 231, 91, 15, 39, 411, 355, 401, 49, 148, 209, 332, 38, 73, 31, 12, 15, 13, 486, 673, 25, 31, 35, 459, 346, 34, 279, 175, 18, 221, 457, 64, 14, 78, 199, 7, 20, 398, 471, 121, 64, 108, 283, 63, 157, 467, 273, 76, 251, 8, 209, 27, 209, 343, 24, 17, 35, 59, 155, 20, 14, 675, 11, 99, 182, 34, 35, 50, 16, 198, 214, 58, 189, 36, 34, 28, 258, 27, 10, 522, 315, 164, 477, 29, 441, 4, 59, 31, 101, 14, 63, 45, 13, 28, 18, 137, 12, 10, 68, 73, 14, 11, 12, 10, 33, 85, 31, 60, 201, 5, 18, 48, 340, 15, 53, 21, 38, 3, 36, 44, 183, 4, 12, 48, 15, 131, 52, 55, 21, 7, 14, 4, 21, 209, 30, 400, 421, 12, 28, 15, 32, 20, 11, 105, 34, 11, 36, 61, 66, 55, 45, 33, 8, 61, 144, 42, 12, 34, 373, 83, 123, 20, 10, 85, 12, 8, 26, 28, 37, 25, 28, 59, 166, 115, 163, 58, 41, 8, 51, 11, 440, 12, 103, 217, 19, 87, 122, 342, 47, 646, 24, 98, 37, 88, 793, 23, 429, 63, 241, 196, 876, 15, 240, 129, 72, 515, 69, 62, 27, 25, 9, 62, 37, 62, 11, 11, 18, 144, 88, 3, 16, 12, 36, 6, 646, 3, 17, 328, 43, 29, 49, 24, 619, 18, 731, 44, 37, 204, 37, 361, 21, 565, 29, 6, 19, 6, 27, 27, 42, 12, 129, 13, 7, 267, 7, 212, 157, 66, 70, 59, 416, 107, 36, 167, 15, 99, 130, 57, 55, 3, 13, 506, 14, 24, 287, 201, 55, 8, 18, 441, 4, 21, 91, 44, 13, 744, 159, 11, 60, 47, 9, 25, 25, 8, 31, 75, 97, 17, 72, 60, 56, 48, 17, 44, 47, 52, 32, 30, 114, 86, 57, 145, 3, 7, 161, 14, 24, 32, 649, 42, 33, 647, 33, 104, 53, 24, 29, 12, 20, 15, 28, 45, 97, 261, 96, 210, 243, 326, 4, 102, 3, 10, 73, 36, 15, 30, 87, 12, 550, 39, 64, 65, 59, 23, 110, 278, 240, 17, 125, 26, 77, 74, 80, 153, 21, 4, 384, 222, 144, 297, 2, 21, 16, 13, 21, 44, 158, 69, 29, 37, 85, 140, 14, 163, 46, 163, 63, 23, 137, 126, 44, 79, 15, 30, 55, 70, 14, 65, 109, 36, 376, 874, 636, 652, 336, 632, 11, 29, 16, 16, 117, 580, 22, 16, 35, 7, 9, 12, 27, 284, 414, 56, 25, 319, 332, 218, 24, 58, 324, 10, 37, 32, 152, 126, 173, 72, 21, 29, 14, 115, 11, 70, 23, 105, 260, 103, 21, 54, 49, 96, 529, 542, 32, 299, 3, 395, 74, 383, 490, 52, 14, 39, 8, 38, 14, 9, 15, 22, 15, 25, 70, 730, 61, 16, 30, 61, 126, 65, 24, 32, 74, 34, 205, 31, 19, 71, 357, 184, 280, 14, 68, 30, 34, 44, 279, 276, 867, 288, 148, 222, 231, 220, 202, 2, 21, 56, 39, 73, 125, 40, 89, 31, 38, 409, 3, 14, 14, 239, 32, 87, 24, 479, 156, 24, 28, 31, 46, 54, 88, 56, 20, 16, 31, 14, 214, 7, 31, 10, 14, 61, 243, 177, 213, 23, 157, 174, 2, 14, 38, 16, 77, 74, 40, 16, 18, 104, 165, 116, 173, 425, 56, 80, 39, 109, 112, 33, 18, 151, 125, 112, 5, 393, 218, 52, 59, 54, 49, 68, 17, 111, 532, 672, 11, 13, 33, 28, 135, 15, 21, 24, 59, 740, 13, 72, 12, 17, 18, 54, 20, 218, 7, 31, 17, 17, 42, 20, 295, 101, 46, 16, 119, 18, 8, 29, 17, 11, 40, 61, 40, 22, 42, 118, 26, 9, 8, 10, 43, 16, 64, 41, 14, 9, 11, 52, 8, 224, 11, 7, 9, 136, 7, 32, 19, 15, 263, 146, 26, 15, 23, 41, 22, 30, 29, 61, 28, 73, 90, 103, 206, 43, 36, 49, 160, 6, 98, 5, 18, 30, 28, 6, 6, 3, 19, 6, 108, 51, 268, 5, 31, 191, 14, 318, 3, 4, 9, 143, 6, 115, 175, 130, 230, 16, 387, 91, 35, 45, 685, 17, 14, 29, 33, 35, 147, 61, 70, 35, 739, 372, 7, 21, 39, 57, 159, 21, 17, 416, 46, 33, 98, 77, 111, 69, 32, 50, 671, 55, 22, 9, 214, 152, 16, 189, 11, 36, 27, 260, 459, 44, 68, 770, 23, 866, 56, 66, 22, 62, 115, 15, 26, 64, 28, 489, 87, 10, 38, 13, 218, 181, 49, 105, 8, 48, 542, 46, 28, 26, 383, 36, 72, 7, 11, 23, 142, 23, 5, 4, 18, 26, 165, 101, 13, 63, 401, 173, 27, 82, 436, 23, 39, 34, 463, 27, 235, 3, 54, 17, 83, 22, 17, 225, 9, 6, 3, 20, 14, 269, 31, 4, 50, 5, 26, 552, 246, 12, 50, 302, 34, 7, 27, 11, 245, 14, 33, 60, 204, 218, 6, 26, 50, 40, 3, 207, 8, 178, 12, 338, 22, 126, 26, 5, 14, 459, 391, 437, 24, 106, 35, 172, 66, 83, 19, 30, 32, 8, 18, 31, 20, 16, 12, 45, 29, 69, 13, 234, 12, 25, 115, 33, 73, 75, 39, 21, 33, 41, 131, 13, 53, 17, 29, 4, 11, 9, 8, 64, 11, 3, 30, 93, 357, 86, 232, 19, 706, 27, 10, 10, 33, 64, 53, 288, 70, 609, 120, 139, 60, 52, 389, 117, 28, 33, 17, 123, 31, 27, 73, 163, 78, 39, 26, 58, 41, 17, 12, 98, 229, 151, 127, 14, 156, 249, 14, 27, 12, 110, 237, 260, 25, 399, 37, 23, 14, 107, 29, 89, 559, 14, 15, 114, 93, 32, 20, 13, 14, 33, 31, 17, 49, 5, 261, 34, 2, 24, 25, 25, 291, 21, 3, 350, 41, 133, 59, 243, 10, 23, 13, 32, 248, 53, 17, 510, 148, 38, 5, 19, 43, 47, 18, 248, 805, 275, 7, 79, 106, 173, 25, 22, 327, 16, 96, 4, 175, 14, 96, 77, 20, 9, 103, 135, 302, 7, 13, 2, 65, 15, 155, 8, 79, 800, 17, 207, 16, 279, 31, 69, 268, 145, 15, 9, 106, 1, 376, 16, 140, 288, 143, 29, 5, 87, 36, 15, 110, 333, 237, 513, 297, 97, 21, 189, 73, 6, 28, 12, 38, 76, 44, 12, 20, 122, 17, 16, 9, 77, 116, 48, 50, 20, 22, 229, 61, 79, 146, 20, 36, 87, 100, 17, 35, 255, 87, 30, 142, 31, 7, 24, 114, 4, 19, 103, 5, 81, 50, 11, 97, 15, 28, 42, 70, 13, 102, 72, 190, 221, 43, 6, 758, 78, 448, 59, 109, 27, 117, 425, 32, 463, 370, 61, 189, 32, 201, 277, 12, 110, 24, 265, 66, 165, 67, 73, 17, 11, 19, 185, 296, 116, 222, 46, 18, 427, 15, 8, 19, 27, 209, 28, 114, 258, 66, 20, 59, 22, 25, 23, 238, 120, 102, 16, 75, 49, 659, 413, 1, 158, 140, 55, 47, 17, 108, 68, 26, 40, 188, 125, 32, 17, 72, 14, 6, 898, 212, 355, 23, 330, 15, 9, 28, 541, 112, 36, 154, 88, 828, 140, 19, 287, 7, 5, 101, 14, 35, 18, 40, 97, 104, 60, 23, 225, 111, 291, 68, 118, 81, 8, 190, 66, 87, 45, 53, 119, 45, 7, 16, 32, 23, 221, 49, 87, 11, 97, 284, 137, 94, 65, 64, 16, 6, 206, 78, 398, 116, 38, 74, 21, 65, 55, 10, 146, 26, 66, 94, 27, 4, 224, 60, 19, 529, 6, 586, 11, 50, 48, 89, 19, 74, 61, 147, 39, 140, 92, 12, 171, 5, 82, 86, 91, 95, 8, 68, 15, 8, 47, 406, 457, 344, 35, 19, 111, 2, 283, 25, 161, 78, 4, 88, 14, 18, 33, 89, 41, 134, 16, 126, 16, 12, 61, 192, 308, 23, 146, 78, 54, 60, 37, 91, 71, 9, 21, 32, 113, 103, 71, 153, 48, 139, 115, 181, 31, 10, 40, 68, 165, 103, 47, 19, 662, 73, 25, 116, 70, 20, 45, 499, 332, 33, 25, 141, 47, 40, 23, 456, 3, 4, 18, 70, 130, 357, 175, 18, 14, 508, 32, 486, 50, 264, 4, 85, 255, 66, 15, 8, 21, 156, 5, 11, 359, 50, 147, 9, 40, 9, 295, 22, 8, 47, 14, 38, 254, 244, 19, 41, 27, 43, 12, 16, 75, 5, 352, 9, 5, 48, 20, 170, 119, 123, 369, 77, 15, 9, 56, 22, 81, 41, 11, 42, 62, 35, 40, 9, 4, 69, 11, 74, 81, 7, 77, 60, 14, 22, 91, 87, 98, 7, 39, 34, 76, 108, 79, 33, 111, 6, 20, 100, 207, 187, 15, 24, 26, 25, 189, 65, 120, 5, 2, 6, 100, 5, 123, 90, 64, 78, 28, 28, 141, 33, 7, 34, 163, 46, 203, 13, 94, 5, 37, 71, 51, 12, 213, 34, 263, 61, 118, 131, 7, 21, 2, 5, 187, 1, 62, 59, 4, 9, 177, 16, 13, 13, 80, 155, 47, 42, 5, 23, 20, 29, 70, 66, 58, 26, 185, 21, 50, 152, 57, 149, 183, 123, 44, 17, 30, 2, 36, 28, 22, 60, 11, 26, 108, 53, 11, 26, 19, 55, 5, 761, 156, 63, 613, 15, 37, 45, 15, 20, 97, 16, 20, 52, 16, 50, 31, 33, 17, 32, 78, 49, 15, 20, 83, 106, 58, 31, 39, 18, 426, 40, 151, 97, 31, 165, 531, 15, 94, 149, 26, 626, 30, 20, 23, 34, 66, 39, 63, 91, 25, 37, 78, 70, 241, 82, 214, 159, 141, 9, 241, 78, 27, 8, 161, 18, 38, 504, 16, 27, 13, 22, 151, 35, 5, 4, 13, 63, 20, 13, 224, 15, 6, 18, 41, 18, 14, 11, 33, 195, 8, 3, 15, 125, 2, 15, 169, 13, 66, 13, 20, 6, 8, 12, 15, 15, 31, 11, 388, 25, 23, 13, 28, 19, 41, 124, 10, 19, 145, 4, 120, 127, 3, 5, 73, 11, 9, 59, 8, 10, 38, 39, 11, 6, 48, 5, 350, 177, 3, 287, 36, 38, 52, 27, 25, 19, 29, 31, 439, 8, 8, 10, 13, 164, 17, 191, 84, 84, 15, 22, 22, 191, 215, 130, 51, 55, 146, 129, 11, 22, 28, 137, 230, 11, 846, 185, 14, 16, 32, 335, 19, 108, 4, 51, 159, 3, 154, 191, 133, 9, 16, 72, 41, 13, 37, 48, 41, 401, 247, 9, 59, 20, 61, 23, 133, 88, 15, 28, 2, 11, 195, 2, 84, 43, 357, 3, 7, 14, 171, 49, 19, 19, 20, 318, 10, 7, 26, 294, 68, 25, 153, 23, 20, 96, 170, 43, 22, 133, 122, 35, 35, 306, 186, 210, 251, 251, 23, 42, 108, 4, 59, 129, 12, 133, 68, 44, 230, 94, 44, 151, 158, 111, 13, 16, 49, 136, 168, 12, 288, 40, 116, 28, 428, 15, 58, 96, 62, 75, 17, 184, 500, 101, 320, 50, 9, 22, 303, 20, 24, 94, 147, 185, 4, 1, 25, 43, 20, 6, 6, 22, 12, 19, 83, 13, 94, 8, 50, 53, 22, 14, 33, 316, 190, 161, 12, 38, 57, 72, 47, 80, 127, 71, 15, 41, 62, 20, 65, 16, 14, 212, 13, 41, 453, 17, 175, 75, 132, 71, 24, 342, 26, 435, 219, 149, 172, 286, 40, 84, 26, 474, 28, 126, 118, 153, 35, 9, 43, 7, 217, 11, 6, 220, 6, 12, 150, 9, 23, 4, 10, 54, 7, 27, 25, 2, 19, 65, 74, 29, 10, 20, 54, 120, 134, 29, 37, 72, 23, 25, 89, 266, 69, 26, 202, 69, 120, 16, 18, 14, 56, 19, 34, 20, 10, 30, 14, 330, 84, 308, 528, 55, 31, 9, 14, 26, 15, 25, 8, 17, 113, 285, 49, 207, 10, 126, 35, 67, 117, 64, 46, 249, 11, 153, 839, 9, 190, 129, 7, 50, 6, 11, 226, 18, 6, 68, 21, 35, 5, 7, 19, 56, 33, 51, 263, 16, 60, 47, 84, 39, 42, 12, 25, 279, 85, 20, 83, 18, 4, 3, 24, 7, 148, 12, 15, 9, 98, 34, 8, 64, 11, 19, 150, 21, 32, 8, 17, 21, 34, 15, 18, 24, 13, 85, 29, 26, 55, 279, 79, 58, 111, 7, 206, 12, 9, 11, 162, 115, 67, 6, 494, 166, 95, 7, 105, 5, 2, 112, 11, 414, 176, 305, 1, 6, 190, 137, 176, 89, 2, 8, 10, 152, 5, 54, 15, 76, 159, 2, 6, 5, 38, 23, 3, 94, 69, 68, 8, 40, 61, 96, 50, 44, 12, 26, 14, 6, 21, 25, 19, 105, 349, 5, 32, 3, 433, 243, 17, 54, 35, 29, 68, 251, 61, 42, 17, 165, 13, 163, 14, 27, 43, 56, 81, 94, 37, 41, 23, 21, 134, 7, 254, 764, 31, 17, 33, 77, 14, 110, 89, 14, 98, 61, 76, 25, 137, 124, 40, 35, 10, 9, 61, 156, 258, 16, 98, 14, 9, 335, 588, 337, 110, 31, 222, 7, 187, 285, 27, 11, 93, 29, 23, 63, 12, 52, 8, 16, 235, 91, 331, 37, 385, 354, 25, 163, 117, 70, 6, 93, 28, 72, 212, 8, 224, 221, 38, 796, 14, 30, 116, 97, 94, 109, 14, 116, 103, 6, 3, 46, 63, 4, 291, 8, 30, 43, 457, 253, 95, 55, 107, 26, 10, 524, 159, 13, 3, 62, 16, 632, 5, 111, 131, 222, 68, 15, 72, 134, 29, 80, 11, 41, 32, 21, 47, 13, 11, 19, 21, 17, 27, 27, 87, 89, 76, 21, 23, 93, 7, 40, 23, 23, 23, 34, 4, 7, 8, 21, 14, 32, 20, 39, 28, 24, 14, 85, 9, 14, 23, 36, 5, 21, 210, 111, 5, 11, 12, 133, 14, 35, 108, 86, 880, 11, 5, 9, 537, 8, 21, 16, 17, 11, 46, 19, 4, 177, 13, 12, 44, 199, 19, 6, 27, 17, 11, 23, 33, 103, 20, 23, 38, 154, 108, 3, 47, 24, 7, 82, 35, 23, 47, 28, 50, 11, 58, 113, 17, 24, 46, 60, 16, 10, 18, 6, 39, 3, 53, 51, 62, 9, 1, 53, 25, 15, 392, 23, 20, 11, 46, 45, 13, 35, 18, 9, 14, 20, 3, 14, 9, 99, 69, 44, 75, 23, 2, 5, 43, 20, 23, 4, 16, 30, 426, 254, 195, 197, 724, 124, 76, 82, 64, 104, 180, 78, 295, 3, 16, 55, 76, 49, 71, 101, 11, 148, 21, 93, 319, 114, 69, 146, 97, 29, 38, 124, 6, 19, 8, 41, 37, 11, 13, 14, 100, 21, 65, 51, 6, 15, 10, 111, 96, 66, 72, 39, 314, 17, 12, 42, 60, 256, 160, 14, 294, 91, 6, 8, 103, 9, 188, 24, 85, 422, 38, 13, 726, 160, 7, 16, 40, 21, 37, 53, 63, 442, 249, 269, 139, 241, 8, 138, 7, 183, 12, 17, 46, 261, 29, 28, 6, 18, 108, 16, 76, 64, 51, 23, 17, 246, 47, 20, 8, 19, 71, 42, 91, 9, 25, 73, 22, 401, 61, 75, 56, 248, 7, 814, 5, 13, 96, 192, 45, 23, 11, 75, 23, 11, 32, 98, 209, 111, 3, 21, 40, 25, 21, 233, 201, 212, 65, 61, 23, 127, 451, 8, 30, 18, 60, 253, 153, 54, 15, 12, 184, 34, 18, 26, 81, 150, 45, 106, 28, 30, 647, 54, 125, 58, 56, 161, 364, 12, 393, 238, 159, 39, 103, 84, 2, 590, 250, 17, 2, 33, 274, 241, 19, 100, 116, 6, 83, 68, 16, 148, 53, 82, 1, 3, 75, 71, 11, 26, 13, 17, 25, 28, 23, 20, 14, 30, 22, 148, 62, 164, 616, 123, 174, 6, 14, 251, 4, 13, 69, 598, 8, 18, 9, 3, 34, 144, 81, 34, 11, 19, 16, 148, 113, 16, 11, 69, 30, 21, 25, 3, 6, 76, 7, 20, 278, 62, 45, 58, 100, 55, 530, 2, 42, 146, 417, 50, 23, 170, 174, 14, 18, 40, 4, 49, 64, 9, 5, 17, 23, 80, 14, 8, 599, 73, 13, 11, 586, 53, 37, 442, 322, 133, 820, 324, 504, 65, 631, 193, 19, 16, 312, 7, 37, 111, 131, 16, 19, 44, 81, 10, 236, 81, 21, 8, 28, 32, 25, 203, 202, 393, 113, 12, 14, 28, 271, 142, 15, 113, 19, 29, 30, 5, 593, 447, 98, 171, 48, 60, 223, 21, 21, 69, 20, 70, 14, 69, 333, 253, 105, 13, 35, 506, 18, 52, 25, 37, 18, 5, 397, 51, 12, 384, 46, 16, 107, 133, 148, 37, 240, 28, 36, 148, 104, 85, 22, 29, 6, 27, 40, 147, 25, 28, 11, 392, 61, 132, 29, 11, 89, 12, 64, 10, 213, 39, 27, 78, 15, 44, 30, 44, 36, 7, 17, 33, 102, 13, 73, 44, 34, 55, 44, 8, 29, 15, 354, 26, 5, 5, 4, 3, 101, 329, 8, 9, 324, 11, 252, 101, 3, 94, 91, 125, 346, 28, 331, 290, 70, 267, 341, 240, 97, 313, 42, 3, 35, 9, 268, 117, 7, 25, 2, 13, 249, 120, 216, 3, 5, 195, 11, 30, 12, 1, 149, 11, 212, 1, 17, 7, 153, 121, 211, 212, 3, 186, 100, 179, 17, 192, 5, 339, 158, 17, 4, 85, 23, 24, 32, 94, 21, 23, 107, 61, 41, 19, 36, 7, 56, 24, 19, 65, 3, 15, 242, 54, 8, 48, 516, 15, 67, 92, 9, 56, 22, 31, 7, 30, 40, 16, 6, 18, 70, 75, 480, 53, 5, 54, 58, 40, 23, 8, 15, 29, 54, 49, 19, 34, 13, 34, 10, 890, 38, 749, 12, 24, 20, 245, 61, 31, 59, 465, 15, 23, 486, 19, 781, 23, 798, 125, 6, 159, 5, 2, 230, 15, 741, 171, 671, 38, 52, 4, 89, 819, 739, 771, 873, 738, 211, 884, 216, 249, 67, 159, 9, 787, 22, 7, 72, 202, 67, 141, 44, 53, 17, 101, 6, 147, 154, 11, 19, 39, 26, 16, 38, 158, 8, 137, 680, 12, 515, 189, 11, 77, 16, 271, 24, 179, 32, 71, 144, 156, 73, 2, 10, 11, 137, 32, 74, 18, 70, 17, 13, 40, 12, 73, 7, 49, 74, 28, 29, 103, 8, 32, 63, 5, 114, 7, 97, 240, 10, 38, 59, 58, 80, 33, 78, 57, 200, 205, 85, 23, 18, 250, 76, 1, 407, 56, 9, 254, 9, 25, 352, 41, 15, 9, 271, 1, 8, 319, 16, 16, 10, 65, 17, 28, 25, 3, 111, 26, 12, 39, 232, 18, 96, 11, 232, 11, 46, 54, 57, 27, 25, 194, 50, 17, 18, 35, 42, 14, 50, 453, 54, 138, 18, 26, 345, 30, 22, 155, 236, 67, 261, 88, 6, 10, 31, 4, 30, 18, 12, 90, 7, 44, 22, 781, 51, 31, 9, 415, 22, 5, 282, 697, 9, 24, 5, 6, 40, 92, 13, 27, 203, 668, 14, 69, 74, 19, 29, 59, 46, 26, 6, 12, 124, 47, 169, 65, 120, 44, 3, 54, 37, 16, 13, 66, 24, 510, 110, 50, 31, 15, 28, 149, 263, 59, 11, 51, 3, 19, 27, 62, 268, 70, 18, 56, 119, 16, 48, 303, 19, 218, 19, 22, 45, 24, 29, 24, 92, 13, 635, 64, 22, 73, 37, 390, 102, 305, 39, 59, 43, 52, 10, 6, 11, 21, 137, 8, 164, 427, 84, 9, 41, 41, 82, 7, 26, 133, 447, 11, 102, 26, 32, 428, 112, 71, 52, 90, 33, 21, 225, 45, 20, 6, 12, 28, 13, 393, 13, 57, 53, 103, 61, 12, 81, 125, 8, 51, 43, 27, 108, 31, 19, 9, 52, 36, 65, 50, 15, 8, 6, 17, 17, 36, 62, 105, 15, 218, 91, 29, 803, 49, 97, 12, 6, 27, 5, 62, 13, 19, 15, 6, 53, 2, 19, 58, 120, 43, 39, 83, 6, 44, 140, 42, 38, 47, 11, 167, 31, 41, 53, 36, 124, 91, 42, 81, 296, 58, 45, 29, 22, 32, 39, 46, 277, 35, 87, 23, 14, 365, 23, 34, 8, 43, 31, 19, 29, 48, 27, 102, 44, 39, 45, 633, 74, 26, 73, 81, 107, 9, 69, 24, 38, 33, 3, 156, 26, 214, 19, 56, 63, 131, 68, 25, 104, 25, 57, 17, 564, 381, 3, 254, 2, 17, 80, 27, 14, 260, 39, 12, 6, 82, 192, 34, 14, 15, 123, 40, 53, 75, 79, 119, 471, 11, 12, 62, 93, 72, 16, 14, 47, 81, 131, 20, 13, 284, 31, 102, 27, 6, 13, 22, 19, 347, 76, 145, 55, 126, 29, 267, 57, 22, 177, 24, 29, 43, 48, 90, 57, 106, 49, 213, 63, 31, 199, 70, 159, 175, 28, 88, 115, 86, 71, 45], \"y0\": \" \", \"yaxis\": \"y\"}],\n",
              "                        {\"legend\": {\"tracegroupgap\": 0}, \"margin\": {\"t\": 60}, \"template\": {\"data\": {\"bar\": [{\"error_x\": {\"color\": \"#2a3f5f\"}, \"error_y\": {\"color\": \"#2a3f5f\"}, \"marker\": {\"line\": {\"color\": \"#E5ECF6\", \"width\": 0.5}}, \"type\": \"bar\"}], \"barpolar\": [{\"marker\": {\"line\": {\"color\": \"#E5ECF6\", \"width\": 0.5}}, \"type\": \"barpolar\"}], \"carpet\": [{\"aaxis\": {\"endlinecolor\": \"#2a3f5f\", \"gridcolor\": \"white\", \"linecolor\": \"white\", \"minorgridcolor\": \"white\", \"startlinecolor\": \"#2a3f5f\"}, \"baxis\": {\"endlinecolor\": \"#2a3f5f\", \"gridcolor\": \"white\", \"linecolor\": \"white\", \"minorgridcolor\": \"white\", \"startlinecolor\": \"#2a3f5f\"}, \"type\": \"carpet\"}], \"choropleth\": [{\"colorbar\": {\"outlinewidth\": 0, \"ticks\": \"\"}, \"type\": \"choropleth\"}], \"contour\": [{\"colorbar\": {\"outlinewidth\": 0, \"ticks\": \"\"}, \"colorscale\": [[0.0, \"#0d0887\"], [0.1111111111111111, \"#46039f\"], [0.2222222222222222, \"#7201a8\"], [0.3333333333333333, \"#9c179e\"], [0.4444444444444444, \"#bd3786\"], [0.5555555555555556, \"#d8576b\"], [0.6666666666666666, \"#ed7953\"], [0.7777777777777778, \"#fb9f3a\"], [0.8888888888888888, \"#fdca26\"], [1.0, \"#f0f921\"]], \"type\": \"contour\"}], \"contourcarpet\": [{\"colorbar\": {\"outlinewidth\": 0, \"ticks\": \"\"}, \"type\": \"contourcarpet\"}], \"heatmap\": [{\"colorbar\": {\"outlinewidth\": 0, \"ticks\": \"\"}, \"colorscale\": [[0.0, \"#0d0887\"], [0.1111111111111111, \"#46039f\"], [0.2222222222222222, \"#7201a8\"], [0.3333333333333333, \"#9c179e\"], [0.4444444444444444, \"#bd3786\"], [0.5555555555555556, \"#d8576b\"], [0.6666666666666666, \"#ed7953\"], [0.7777777777777778, \"#fb9f3a\"], [0.8888888888888888, \"#fdca26\"], [1.0, \"#f0f921\"]], \"type\": \"heatmap\"}], \"heatmapgl\": [{\"colorbar\": {\"outlinewidth\": 0, \"ticks\": \"\"}, \"colorscale\": [[0.0, \"#0d0887\"], [0.1111111111111111, \"#46039f\"], [0.2222222222222222, \"#7201a8\"], [0.3333333333333333, \"#9c179e\"], [0.4444444444444444, \"#bd3786\"], [0.5555555555555556, \"#d8576b\"], [0.6666666666666666, \"#ed7953\"], [0.7777777777777778, \"#fb9f3a\"], [0.8888888888888888, \"#fdca26\"], [1.0, \"#f0f921\"]], \"type\": \"heatmapgl\"}], \"histogram\": [{\"marker\": {\"colorbar\": {\"outlinewidth\": 0, \"ticks\": \"\"}}, \"type\": \"histogram\"}], \"histogram2d\": [{\"colorbar\": {\"outlinewidth\": 0, \"ticks\": \"\"}, \"colorscale\": [[0.0, \"#0d0887\"], [0.1111111111111111, \"#46039f\"], [0.2222222222222222, \"#7201a8\"], [0.3333333333333333, \"#9c179e\"], [0.4444444444444444, \"#bd3786\"], [0.5555555555555556, \"#d8576b\"], [0.6666666666666666, \"#ed7953\"], [0.7777777777777778, \"#fb9f3a\"], [0.8888888888888888, \"#fdca26\"], [1.0, \"#f0f921\"]], \"type\": \"histogram2d\"}], \"histogram2dcontour\": [{\"colorbar\": {\"outlinewidth\": 0, \"ticks\": \"\"}, \"colorscale\": [[0.0, \"#0d0887\"], [0.1111111111111111, \"#46039f\"], [0.2222222222222222, \"#7201a8\"], [0.3333333333333333, \"#9c179e\"], [0.4444444444444444, \"#bd3786\"], [0.5555555555555556, \"#d8576b\"], [0.6666666666666666, \"#ed7953\"], [0.7777777777777778, \"#fb9f3a\"], [0.8888888888888888, \"#fdca26\"], [1.0, \"#f0f921\"]], \"type\": \"histogram2dcontour\"}], \"mesh3d\": [{\"colorbar\": {\"outlinewidth\": 0, \"ticks\": \"\"}, \"type\": \"mesh3d\"}], \"parcoords\": [{\"line\": {\"colorbar\": {\"outlinewidth\": 0, \"ticks\": \"\"}}, \"type\": \"parcoords\"}], \"pie\": [{\"automargin\": true, \"type\": \"pie\"}], \"scatter\": [{\"marker\": {\"colorbar\": {\"outlinewidth\": 0, \"ticks\": \"\"}}, \"type\": \"scatter\"}], \"scatter3d\": [{\"line\": {\"colorbar\": {\"outlinewidth\": 0, \"ticks\": \"\"}}, \"marker\": {\"colorbar\": {\"outlinewidth\": 0, \"ticks\": \"\"}}, \"type\": \"scatter3d\"}], \"scattercarpet\": [{\"marker\": {\"colorbar\": {\"outlinewidth\": 0, \"ticks\": \"\"}}, \"type\": \"scattercarpet\"}], \"scattergeo\": [{\"marker\": {\"colorbar\": {\"outlinewidth\": 0, \"ticks\": \"\"}}, \"type\": \"scattergeo\"}], \"scattergl\": [{\"marker\": {\"colorbar\": {\"outlinewidth\": 0, \"ticks\": \"\"}}, \"type\": \"scattergl\"}], \"scattermapbox\": [{\"marker\": {\"colorbar\": {\"outlinewidth\": 0, \"ticks\": \"\"}}, \"type\": \"scattermapbox\"}], \"scatterpolar\": [{\"marker\": {\"colorbar\": {\"outlinewidth\": 0, \"ticks\": \"\"}}, \"type\": \"scatterpolar\"}], \"scatterpolargl\": [{\"marker\": {\"colorbar\": {\"outlinewidth\": 0, \"ticks\": \"\"}}, \"type\": \"scatterpolargl\"}], \"scatterternary\": [{\"marker\": {\"colorbar\": {\"outlinewidth\": 0, \"ticks\": \"\"}}, \"type\": \"scatterternary\"}], \"surface\": [{\"colorbar\": {\"outlinewidth\": 0, \"ticks\": \"\"}, \"colorscale\": [[0.0, \"#0d0887\"], [0.1111111111111111, \"#46039f\"], [0.2222222222222222, \"#7201a8\"], [0.3333333333333333, \"#9c179e\"], [0.4444444444444444, \"#bd3786\"], [0.5555555555555556, \"#d8576b\"], [0.6666666666666666, \"#ed7953\"], [0.7777777777777778, \"#fb9f3a\"], [0.8888888888888888, \"#fdca26\"], [1.0, \"#f0f921\"]], \"type\": \"surface\"}], \"table\": [{\"cells\": {\"fill\": {\"color\": \"#EBF0F8\"}, \"line\": {\"color\": \"white\"}}, \"header\": {\"fill\": {\"color\": \"#C8D4E3\"}, \"line\": {\"color\": \"white\"}}, \"type\": \"table\"}]}, \"layout\": {\"annotationdefaults\": {\"arrowcolor\": \"#2a3f5f\", \"arrowhead\": 0, \"arrowwidth\": 1}, \"coloraxis\": {\"colorbar\": {\"outlinewidth\": 0, \"ticks\": \"\"}}, \"colorscale\": {\"diverging\": [[0, \"#8e0152\"], [0.1, \"#c51b7d\"], [0.2, \"#de77ae\"], [0.3, \"#f1b6da\"], [0.4, \"#fde0ef\"], [0.5, \"#f7f7f7\"], [0.6, \"#e6f5d0\"], [0.7, \"#b8e186\"], [0.8, \"#7fbc41\"], [0.9, \"#4d9221\"], [1, \"#276419\"]], \"sequential\": [[0.0, \"#0d0887\"], [0.1111111111111111, \"#46039f\"], [0.2222222222222222, \"#7201a8\"], [0.3333333333333333, \"#9c179e\"], [0.4444444444444444, \"#bd3786\"], [0.5555555555555556, \"#d8576b\"], [0.6666666666666666, \"#ed7953\"], [0.7777777777777778, \"#fb9f3a\"], [0.8888888888888888, \"#fdca26\"], [1.0, \"#f0f921\"]], \"sequentialminus\": [[0.0, \"#0d0887\"], [0.1111111111111111, \"#46039f\"], [0.2222222222222222, \"#7201a8\"], [0.3333333333333333, \"#9c179e\"], [0.4444444444444444, \"#bd3786\"], [0.5555555555555556, \"#d8576b\"], [0.6666666666666666, \"#ed7953\"], [0.7777777777777778, \"#fb9f3a\"], [0.8888888888888888, \"#fdca26\"], [1.0, \"#f0f921\"]]}, \"colorway\": [\"#636efa\", \"#EF553B\", \"#00cc96\", \"#ab63fa\", \"#FFA15A\", \"#19d3f3\", \"#FF6692\", \"#B6E880\", \"#FF97FF\", \"#FECB52\"], \"font\": {\"color\": \"#2a3f5f\"}, \"geo\": {\"bgcolor\": \"white\", \"lakecolor\": \"white\", \"landcolor\": \"#E5ECF6\", \"showlakes\": true, \"showland\": true, \"subunitcolor\": \"white\"}, \"hoverlabel\": {\"align\": \"left\"}, \"hovermode\": \"closest\", \"mapbox\": {\"style\": \"light\"}, \"paper_bgcolor\": \"white\", \"plot_bgcolor\": \"#E5ECF6\", \"polar\": {\"angularaxis\": {\"gridcolor\": \"white\", \"linecolor\": \"white\", \"ticks\": \"\"}, \"bgcolor\": \"#E5ECF6\", \"radialaxis\": {\"gridcolor\": \"white\", \"linecolor\": \"white\", \"ticks\": \"\"}}, \"scene\": {\"xaxis\": {\"backgroundcolor\": \"#E5ECF6\", \"gridcolor\": \"white\", \"gridwidth\": 2, \"linecolor\": \"white\", \"showbackground\": true, \"ticks\": \"\", \"zerolinecolor\": \"white\"}, \"yaxis\": {\"backgroundcolor\": \"#E5ECF6\", \"gridcolor\": \"white\", \"gridwidth\": 2, \"linecolor\": \"white\", \"showbackground\": true, \"ticks\": \"\", \"zerolinecolor\": \"white\"}, \"zaxis\": {\"backgroundcolor\": \"#E5ECF6\", \"gridcolor\": \"white\", \"gridwidth\": 2, \"linecolor\": \"white\", \"showbackground\": true, \"ticks\": \"\", \"zerolinecolor\": \"white\"}}, \"shapedefaults\": {\"line\": {\"color\": \"#2a3f5f\"}}, \"ternary\": {\"aaxis\": {\"gridcolor\": \"white\", \"linecolor\": \"white\", \"ticks\": \"\"}, \"baxis\": {\"gridcolor\": \"white\", \"linecolor\": \"white\", \"ticks\": \"\"}, \"bgcolor\": \"#E5ECF6\", \"caxis\": {\"gridcolor\": \"white\", \"linecolor\": \"white\", \"ticks\": \"\"}}, \"title\": {\"x\": 0.05}, \"xaxis\": {\"automargin\": true, \"gridcolor\": \"white\", \"linecolor\": \"white\", \"ticks\": \"\", \"title\": {\"standoff\": 15}, \"zerolinecolor\": \"white\", \"zerolinewidth\": 2}, \"yaxis\": {\"automargin\": true, \"gridcolor\": \"white\", \"linecolor\": \"white\", \"ticks\": \"\", \"title\": {\"standoff\": 15}, \"zerolinecolor\": \"white\", \"zerolinewidth\": 2}}}, \"violinmode\": \"group\", \"xaxis\": {\"anchor\": \"y\", \"domain\": [0.0, 1.0]}, \"yaxis\": {\"anchor\": \"x\", \"domain\": [0.0, 1.0], \"title\": {\"text\": \"timeInSecounds\"}}},\n",
              "                        {\"responsive\": true}\n",
              "                    ).then(function(){\n",
              "                            \n",
              "var gd = document.getElementById('29be273f-0c29-4757-84f5-e57e63439521');\n",
              "var x = new MutationObserver(function (mutations, observer) {{\n",
              "        var display = window.getComputedStyle(gd).display;\n",
              "        if (!display || display === 'none') {{\n",
              "            console.log([gd, 'removed!']);\n",
              "            Plotly.purge(gd);\n",
              "            observer.disconnect();\n",
              "        }}\n",
              "}});\n",
              "\n",
              "// Listen for the removal of the full notebook cells\n",
              "var notebookContainer = gd.closest('#notebook-container');\n",
              "if (notebookContainer) {{\n",
              "    x.observe(notebookContainer, {childList: true});\n",
              "}}\n",
              "\n",
              "// Listen for the clearing of the current output cell\n",
              "var outputEl = gd.closest('.output');\n",
              "if (outputEl) {{\n",
              "    x.observe(outputEl, {childList: true});\n",
              "}}\n",
              "\n",
              "                        })\n",
              "                };\n",
              "                \n",
              "            </script>\n",
              "        </div>\n",
              "</body>\n",
              "</html>"
            ]
          },
          "metadata": {
            "tags": []
          }
        }
      ]
    },
    {
      "cell_type": "markdown",
      "metadata": {
        "id": "uDVK1HQHUR-q"
      },
      "source": [
        "Descobrindo o tempo que cada questão levou para ser resolvida e a quantidade total de submissões dela"
      ]
    },
    {
      "cell_type": "code",
      "metadata": {
        "id": "Y26KBG85Haab"
      },
      "source": [
        "df_total_questions = df_submission[df_submission[\"timeInSecounds\"] > 0].groupby(['question'])['question'].count().reset_index(name='quantity')"
      ],
      "execution_count": 18,
      "outputs": []
    },
    {
      "cell_type": "code",
      "metadata": {
        "id": "p28TvL8wJlnx"
      },
      "source": [
        "df_total_secounds = df_submission[df_submission[\"timeInSecounds\"] > 0].groupby(['question'])['timeInSecounds'].sum().reset_index()"
      ],
      "execution_count": 19,
      "outputs": []
    },
    {
      "cell_type": "code",
      "metadata": {
        "colab": {
          "base_uri": "https://localhost:8080/",
          "height": 108
        },
        "id": "gf-5RimUPcWh",
        "outputId": "abdd7f2d-65b8-4e52-ee54-68877d68905d"
      },
      "source": [
        "df_total_questions.head(2)"
      ],
      "execution_count": 20,
      "outputs": [
        {
          "output_type": "execute_result",
          "data": {
            "text/html": [
              "<div>\n",
              "<style scoped>\n",
              "    .dataframe tbody tr th:only-of-type {\n",
              "        vertical-align: middle;\n",
              "    }\n",
              "\n",
              "    .dataframe tbody tr th {\n",
              "        vertical-align: top;\n",
              "    }\n",
              "\n",
              "    .dataframe thead th {\n",
              "        text-align: right;\n",
              "    }\n",
              "</style>\n",
              "<table border=\"1\" class=\"dataframe\">\n",
              "  <thead>\n",
              "    <tr style=\"text-align: right;\">\n",
              "      <th></th>\n",
              "      <th>question</th>\n",
              "      <th>quantity</th>\n",
              "    </tr>\n",
              "  </thead>\n",
              "  <tbody>\n",
              "    <tr>\n",
              "      <th>0</th>\n",
              "      <td>A média de 4 alunos</td>\n",
              "      <td>364</td>\n",
              "    </tr>\n",
              "    <tr>\n",
              "      <th>1</th>\n",
              "      <td>Altura abaixo da média</td>\n",
              "      <td>111</td>\n",
              "    </tr>\n",
              "  </tbody>\n",
              "</table>\n",
              "</div>"
            ],
            "text/plain": [
              "                 question  quantity\n",
              "0     A média de 4 alunos       364\n",
              "1  Altura abaixo da média       111"
            ]
          },
          "metadata": {
            "tags": []
          },
          "execution_count": 20
        }
      ]
    },
    {
      "cell_type": "code",
      "metadata": {
        "colab": {
          "base_uri": "https://localhost:8080/",
          "height": 108
        },
        "id": "TcKiTt0iPWiG",
        "outputId": "17f67366-454c-4066-bae8-d05072178b4b"
      },
      "source": [
        "df_total_secounds.head(2)"
      ],
      "execution_count": 21,
      "outputs": [
        {
          "output_type": "execute_result",
          "data": {
            "text/html": [
              "<div>\n",
              "<style scoped>\n",
              "    .dataframe tbody tr th:only-of-type {\n",
              "        vertical-align: middle;\n",
              "    }\n",
              "\n",
              "    .dataframe tbody tr th {\n",
              "        vertical-align: top;\n",
              "    }\n",
              "\n",
              "    .dataframe thead th {\n",
              "        text-align: right;\n",
              "    }\n",
              "</style>\n",
              "<table border=\"1\" class=\"dataframe\">\n",
              "  <thead>\n",
              "    <tr style=\"text-align: right;\">\n",
              "      <th></th>\n",
              "      <th>question</th>\n",
              "      <th>timeInSecounds</th>\n",
              "    </tr>\n",
              "  </thead>\n",
              "  <tbody>\n",
              "    <tr>\n",
              "      <th>0</th>\n",
              "      <td>A média de 4 alunos</td>\n",
              "      <td>94287</td>\n",
              "    </tr>\n",
              "    <tr>\n",
              "      <th>1</th>\n",
              "      <td>Altura abaixo da média</td>\n",
              "      <td>9647</td>\n",
              "    </tr>\n",
              "  </tbody>\n",
              "</table>\n",
              "</div>"
            ],
            "text/plain": [
              "                 question  timeInSecounds\n",
              "0     A média de 4 alunos           94287\n",
              "1  Altura abaixo da média            9647"
            ]
          },
          "metadata": {
            "tags": []
          },
          "execution_count": 21
        }
      ]
    },
    {
      "cell_type": "code",
      "metadata": {
        "id": "_I1gluv7Jy5S"
      },
      "source": [
        "df_questions_secounds = pd.merge(df_total_questions, df_total_secounds, on='question')"
      ],
      "execution_count": 22,
      "outputs": []
    },
    {
      "cell_type": "code",
      "metadata": {
        "colab": {
          "base_uri": "https://localhost:8080/",
          "height": 108
        },
        "id": "ELSkj5eEJwDP",
        "outputId": "ab4ff67f-57ce-4b15-8053-bb101d17688d"
      },
      "source": [
        "df_questions_secounds.head(2)"
      ],
      "execution_count": 23,
      "outputs": [
        {
          "output_type": "execute_result",
          "data": {
            "text/html": [
              "<div>\n",
              "<style scoped>\n",
              "    .dataframe tbody tr th:only-of-type {\n",
              "        vertical-align: middle;\n",
              "    }\n",
              "\n",
              "    .dataframe tbody tr th {\n",
              "        vertical-align: top;\n",
              "    }\n",
              "\n",
              "    .dataframe thead th {\n",
              "        text-align: right;\n",
              "    }\n",
              "</style>\n",
              "<table border=\"1\" class=\"dataframe\">\n",
              "  <thead>\n",
              "    <tr style=\"text-align: right;\">\n",
              "      <th></th>\n",
              "      <th>question</th>\n",
              "      <th>quantity</th>\n",
              "      <th>timeInSecounds</th>\n",
              "    </tr>\n",
              "  </thead>\n",
              "  <tbody>\n",
              "    <tr>\n",
              "      <th>0</th>\n",
              "      <td>A média de 4 alunos</td>\n",
              "      <td>364</td>\n",
              "      <td>94287</td>\n",
              "    </tr>\n",
              "    <tr>\n",
              "      <th>1</th>\n",
              "      <td>Altura abaixo da média</td>\n",
              "      <td>111</td>\n",
              "      <td>9647</td>\n",
              "    </tr>\n",
              "  </tbody>\n",
              "</table>\n",
              "</div>"
            ],
            "text/plain": [
              "                 question  quantity  timeInSecounds\n",
              "0     A média de 4 alunos       364           94287\n",
              "1  Altura abaixo da média       111            9647"
            ]
          },
          "metadata": {
            "tags": []
          },
          "execution_count": 23
        }
      ]
    },
    {
      "cell_type": "markdown",
      "metadata": {
        "id": "fpu7we_KZFKz"
      },
      "source": [
        "Gráfico de pontos, que informa o tempo gasto vs a quantidade de submissões dessa questão"
      ]
    },
    {
      "cell_type": "code",
      "metadata": {
        "colab": {
          "base_uri": "https://localhost:8080/",
          "height": 542
        },
        "id": "-Bqki4wfTvz-",
        "outputId": "d1f04620-8107-4bf4-c0b2-2889e2ba0a44"
      },
      "source": [
        "px.scatter(data_frame=df_questions_secounds, y = 'quantity', x = 'timeInSecounds', color='question') "
      ],
      "execution_count": 24,
      "outputs": [
        {
          "output_type": "display_data",
          "data": {
            "text/html": [
              "<html>\n",
              "<head><meta charset=\"utf-8\" /></head>\n",
              "<body>\n",
              "    <div>\n",
              "            <script src=\"https://cdnjs.cloudflare.com/ajax/libs/mathjax/2.7.5/MathJax.js?config=TeX-AMS-MML_SVG\"></script><script type=\"text/javascript\">if (window.MathJax) {MathJax.Hub.Config({SVG: {font: \"STIX-Web\"}});}</script>\n",
              "                <script type=\"text/javascript\">window.PlotlyConfig = {MathJaxConfig: 'local'};</script>\n",
              "        <script src=\"https://cdn.plot.ly/plotly-latest.min.js\"></script>    \n",
              "            <div id=\"1a881f1b-4b4f-49a0-90bd-1ed202774dcf\" class=\"plotly-graph-div\" style=\"height:525px; width:100%;\"></div>\n",
              "            <script type=\"text/javascript\">\n",
              "                \n",
              "                    window.PLOTLYENV=window.PLOTLYENV || {};\n",
              "                    \n",
              "                if (document.getElementById(\"1a881f1b-4b4f-49a0-90bd-1ed202774dcf\")) {\n",
              "                    Plotly.newPlot(\n",
              "                        '1a881f1b-4b4f-49a0-90bd-1ed202774dcf',\n",
              "                        [{\"hoverlabel\": {\"namelength\": 0}, \"hovertemplate\": \"question=A m\\u00e9dia de 4 alunos<br>timeInSecounds=%{x}<br>quantity=%{y}\", \"legendgroup\": \"question=A m\\u00e9dia de 4 alunos\", \"marker\": {\"color\": \"#636efa\", \"symbol\": \"circle\"}, \"mode\": \"markers\", \"name\": \"question=A m\\u00e9dia de 4 alunos\", \"showlegend\": true, \"type\": \"scatter\", \"x\": [94287], \"xaxis\": \"x\", \"y\": [364], \"yaxis\": \"y\"}, {\"hoverlabel\": {\"namelength\": 0}, \"hovertemplate\": \"question=Altura abaixo da m\\u00e9dia<br>timeInSecounds=%{x}<br>quantity=%{y}\", \"legendgroup\": \"question=Altura abaixo da m\\u00e9dia\", \"marker\": {\"color\": \"#EF553B\", \"symbol\": \"circle\"}, \"mode\": \"markers\", \"name\": \"question=Altura abaixo da m\\u00e9dia\", \"showlegend\": true, \"type\": \"scatter\", \"x\": [9647], \"xaxis\": \"x\", \"y\": [111], \"yaxis\": \"y\"}, {\"hoverlabel\": {\"namelength\": 0}, \"hovertemplate\": \"question=Altura acima de m\\u00e9dia<br>timeInSecounds=%{x}<br>quantity=%{y}\", \"legendgroup\": \"question=Altura acima de m\\u00e9dia\", \"marker\": {\"color\": \"#00cc96\", \"symbol\": \"circle\"}, \"mode\": \"markers\", \"name\": \"question=Altura acima de m\\u00e9dia\", \"showlegend\": true, \"type\": \"scatter\", \"x\": [40189], \"xaxis\": \"x\", \"y\": [217], \"yaxis\": \"y\"}, {\"hoverlabel\": {\"namelength\": 0}, \"hovertemplate\": \"question=Aprendendo a armazenar v\\u00e1rios elementos em um vetor<br>timeInSecounds=%{x}<br>quantity=%{y}\", \"legendgroup\": \"question=Aprendendo a armazenar v\\u00e1rios elementos em um vetor\", \"marker\": {\"color\": \"#ab63fa\", \"symbol\": \"circle\"}, \"mode\": \"markers\", \"name\": \"question=Aprendendo a armazenar v\\u00e1rios elementos em um vetor\", \"showlegend\": true, \"type\": \"scatter\", \"x\": [17054], \"xaxis\": \"x\", \"y\": [110], \"yaxis\": \"y\"}, {\"hoverlabel\": {\"namelength\": 0}, \"hovertemplate\": \"question=Aprendendo a somar<br>timeInSecounds=%{x}<br>quantity=%{y}\", \"legendgroup\": \"question=Aprendendo a somar\", \"marker\": {\"color\": \"#FFA15A\", \"symbol\": \"circle\"}, \"mode\": \"markers\", \"name\": \"question=Aprendendo a somar\", \"showlegend\": true, \"type\": \"scatter\", \"x\": [26735], \"xaxis\": \"x\", \"y\": [129], \"yaxis\": \"y\"}, {\"hoverlabel\": {\"namelength\": 0}, \"hovertemplate\": \"question=Aprendendo a usar repeti\\u00e7\\u00e3o aninhada<br>timeInSecounds=%{x}<br>quantity=%{y}\", \"legendgroup\": \"question=Aprendendo a usar repeti\\u00e7\\u00e3o aninhada\", \"marker\": {\"color\": \"#19d3f3\", \"symbol\": \"circle\"}, \"mode\": \"markers\", \"name\": \"question=Aprendendo a usar repeti\\u00e7\\u00e3o aninhada\", \"showlegend\": true, \"type\": \"scatter\", \"x\": [4859], \"xaxis\": \"x\", \"y\": [47], \"yaxis\": \"y\"}, {\"hoverlabel\": {\"namelength\": 0}, \"hovertemplate\": \"question=Aprendendo a usar um Vetor<br>timeInSecounds=%{x}<br>quantity=%{y}\", \"legendgroup\": \"question=Aprendendo a usar um Vetor\", \"marker\": {\"color\": \"#FF6692\", \"symbol\": \"circle\"}, \"mode\": \"markers\", \"name\": \"question=Aprendendo a usar um Vetor\", \"showlegend\": true, \"type\": \"scatter\", \"x\": [8312], \"xaxis\": \"x\", \"y\": [51], \"yaxis\": \"y\"}, {\"hoverlabel\": {\"namelength\": 0}, \"hovertemplate\": \"question=Buscar em vetor<br>timeInSecounds=%{x}<br>quantity=%{y}\", \"legendgroup\": \"question=Buscar em vetor\", \"marker\": {\"color\": \"#B6E880\", \"symbol\": \"circle\"}, \"mode\": \"markers\", \"name\": \"question=Buscar em vetor\", \"showlegend\": true, \"type\": \"scatter\", \"x\": [6753], \"xaxis\": \"x\", \"y\": [30], \"yaxis\": \"y\"}, {\"hoverlabel\": {\"namelength\": 0}, \"hovertemplate\": \"question=Calculando express\\u00f5es - parte 1<br>timeInSecounds=%{x}<br>quantity=%{y}\", \"legendgroup\": \"question=Calculando express\\u00f5es - parte 1\", \"marker\": {\"color\": \"#FF97FF\", \"symbol\": \"circle\"}, \"mode\": \"markers\", \"name\": \"question=Calculando express\\u00f5es - parte 1\", \"showlegend\": true, \"type\": \"scatter\", \"x\": [48056], \"xaxis\": \"x\", \"y\": [262], \"yaxis\": \"y\"}, {\"hoverlabel\": {\"namelength\": 0}, \"hovertemplate\": \"question=Calculando express\\u00f5es - parte 2<br>timeInSecounds=%{x}<br>quantity=%{y}\", \"legendgroup\": \"question=Calculando express\\u00f5es - parte 2\", \"marker\": {\"color\": \"#FECB52\", \"symbol\": \"circle\"}, \"mode\": \"markers\", \"name\": \"question=Calculando express\\u00f5es - parte 2\", \"showlegend\": true, \"type\": \"scatter\", \"x\": [30125], \"xaxis\": \"x\", \"y\": [250], \"yaxis\": \"y\"}, {\"hoverlabel\": {\"namelength\": 0}, \"hovertemplate\": \"question=Calculando express\\u00f5es - parte 3<br>timeInSecounds=%{x}<br>quantity=%{y}\", \"legendgroup\": \"question=Calculando express\\u00f5es - parte 3\", \"marker\": {\"color\": \"#636efa\", \"symbol\": \"circle\"}, \"mode\": \"markers\", \"name\": \"question=Calculando express\\u00f5es - parte 3\", \"showlegend\": true, \"type\": \"scatter\", \"x\": [17879], \"xaxis\": \"x\", \"y\": [192], \"yaxis\": \"y\"}, {\"hoverlabel\": {\"namelength\": 0}, \"hovertemplate\": \"question=Calculando express\\u00f5es - parte 4<br>timeInSecounds=%{x}<br>quantity=%{y}\", \"legendgroup\": \"question=Calculando express\\u00f5es - parte 4\", \"marker\": {\"color\": \"#EF553B\", \"symbol\": \"circle\"}, \"mode\": \"markers\", \"name\": \"question=Calculando express\\u00f5es - parte 4\", \"showlegend\": true, \"type\": \"scatter\", \"x\": [76939], \"xaxis\": \"x\", \"y\": [296], \"yaxis\": \"y\"}, {\"hoverlabel\": {\"namelength\": 0}, \"hovertemplate\": \"question=Calculando express\\u00f5es com raiz<br>timeInSecounds=%{x}<br>quantity=%{y}\", \"legendgroup\": \"question=Calculando express\\u00f5es com raiz\", \"marker\": {\"color\": \"#00cc96\", \"symbol\": \"circle\"}, \"mode\": \"markers\", \"name\": \"question=Calculando express\\u00f5es com raiz\", \"showlegend\": true, \"type\": \"scatter\", \"x\": [39441], \"xaxis\": \"x\", \"y\": [297], \"yaxis\": \"y\"}, {\"hoverlabel\": {\"namelength\": 0}, \"hovertemplate\": \"question=Calculando um ano bissexto.<br>timeInSecounds=%{x}<br>quantity=%{y}\", \"legendgroup\": \"question=Calculando um ano bissexto.\", \"marker\": {\"color\": \"#ab63fa\", \"symbol\": \"circle\"}, \"mode\": \"markers\", \"name\": \"question=Calculando um ano bissexto.\", \"showlegend\": true, \"type\": \"scatter\", \"x\": [74960], \"xaxis\": \"x\", \"y\": [308], \"yaxis\": \"y\"}, {\"hoverlabel\": {\"namelength\": 0}, \"hovertemplate\": \"question=Calcular express\\u00f5es<br>timeInSecounds=%{x}<br>quantity=%{y}\", \"legendgroup\": \"question=Calcular express\\u00f5es\", \"marker\": {\"color\": \"#FFA15A\", \"symbol\": \"circle\"}, \"mode\": \"markers\", \"name\": \"question=Calcular express\\u00f5es\", \"showlegend\": true, \"type\": \"scatter\", \"x\": [176376], \"xaxis\": \"x\", \"y\": [694], \"yaxis\": \"y\"}, {\"hoverlabel\": {\"namelength\": 0}, \"hovertemplate\": \"question=Calcular \\u00cdndice de Massa Corporal (IMC) - parte 1<br>timeInSecounds=%{x}<br>quantity=%{y}\", \"legendgroup\": \"question=Calcular \\u00cdndice de Massa Corporal (IMC) - parte 1\", \"marker\": {\"color\": \"#19d3f3\", \"symbol\": \"circle\"}, \"mode\": \"markers\", \"name\": \"question=Calcular \\u00cdndice de Massa Corporal (IMC) - parte 1\", \"showlegend\": true, \"type\": \"scatter\", \"x\": [54020], \"xaxis\": \"x\", \"y\": [217], \"yaxis\": \"y\"}, {\"hoverlabel\": {\"namelength\": 0}, \"hovertemplate\": \"question=Calculo de express\\u00e3o com expoente<br>timeInSecounds=%{x}<br>quantity=%{y}\", \"legendgroup\": \"question=Calculo de express\\u00e3o com expoente\", \"marker\": {\"color\": \"#FF6692\", \"symbol\": \"circle\"}, \"mode\": \"markers\", \"name\": \"question=Calculo de express\\u00e3o com expoente\", \"showlegend\": true, \"type\": \"scatter\", \"x\": [71100], \"xaxis\": \"x\", \"y\": [383], \"yaxis\": \"y\"}, {\"hoverlabel\": {\"namelength\": 0}, \"hovertemplate\": \"question=Categorias de nata\\u00e7\\u00e3o<br>timeInSecounds=%{x}<br>quantity=%{y}\", \"legendgroup\": \"question=Categorias de nata\\u00e7\\u00e3o\", \"marker\": {\"color\": \"#B6E880\", \"symbol\": \"circle\"}, \"mode\": \"markers\", \"name\": \"question=Categorias de nata\\u00e7\\u00e3o\", \"showlegend\": true, \"type\": \"scatter\", \"x\": [48878], \"xaxis\": \"x\", \"y\": [98], \"yaxis\": \"y\"}, {\"hoverlabel\": {\"namelength\": 0}, \"hovertemplate\": \"question=Categorias de nata\\u00e7\\u00e3o com 4 casos<br>timeInSecounds=%{x}<br>quantity=%{y}\", \"legendgroup\": \"question=Categorias de nata\\u00e7\\u00e3o com 4 casos\", \"marker\": {\"color\": \"#FF97FF\", \"symbol\": \"circle\"}, \"mode\": \"markers\", \"name\": \"question=Categorias de nata\\u00e7\\u00e3o com 4 casos\", \"showlegend\": true, \"type\": \"scatter\", \"x\": [5898], \"xaxis\": \"x\", \"y\": [80], \"yaxis\": \"y\"}, {\"hoverlabel\": {\"namelength\": 0}, \"hovertemplate\": \"question=Cinco vezes Bom dia!<br>timeInSecounds=%{x}<br>quantity=%{y}\", \"legendgroup\": \"question=Cinco vezes Bom dia!\", \"marker\": {\"color\": \"#FECB52\", \"symbol\": \"circle\"}, \"mode\": \"markers\", \"name\": \"question=Cinco vezes Bom dia!\", \"showlegend\": true, \"type\": \"scatter\", \"x\": [31160], \"xaxis\": \"x\", \"y\": [118], \"yaxis\": \"y\"}, {\"hoverlabel\": {\"namelength\": 0}, \"hovertemplate\": \"question=Classificando um n\\u00famero<br>timeInSecounds=%{x}<br>quantity=%{y}\", \"legendgroup\": \"question=Classificando um n\\u00famero\", \"marker\": {\"color\": \"#636efa\", \"symbol\": \"circle\"}, \"mode\": \"markers\", \"name\": \"question=Classificando um n\\u00famero\", \"showlegend\": true, \"type\": \"scatter\", \"x\": [57204], \"xaxis\": \"x\", \"y\": [169], \"yaxis\": \"y\"}, {\"hoverlabel\": {\"namelength\": 0}, \"hovertemplate\": \"question=Comiss\\u00e3o do gar\\u00e7om no restaurante<br>timeInSecounds=%{x}<br>quantity=%{y}\", \"legendgroup\": \"question=Comiss\\u00e3o do gar\\u00e7om no restaurante\", \"marker\": {\"color\": \"#EF553B\", \"symbol\": \"circle\"}, \"mode\": \"markers\", \"name\": \"question=Comiss\\u00e3o do gar\\u00e7om no restaurante\", \"showlegend\": true, \"type\": \"scatter\", \"x\": [101232], \"xaxis\": \"x\", \"y\": [585], \"yaxis\": \"y\"}, {\"hoverlabel\": {\"namelength\": 0}, \"hovertemplate\": \"question=Compara com 10<br>timeInSecounds=%{x}<br>quantity=%{y}\", \"legendgroup\": \"question=Compara com 10\", \"marker\": {\"color\": \"#00cc96\", \"symbol\": \"circle\"}, \"mode\": \"markers\", \"name\": \"question=Compara com 10\", \"showlegend\": true, \"type\": \"scatter\", \"x\": [11788], \"xaxis\": \"x\", \"y\": [81], \"yaxis\": \"y\"}, {\"hoverlabel\": {\"namelength\": 0}, \"hovertemplate\": \"question=Compara com 20<br>timeInSecounds=%{x}<br>quantity=%{y}\", \"legendgroup\": \"question=Compara com 20\", \"marker\": {\"color\": \"#ab63fa\", \"symbol\": \"circle\"}, \"mode\": \"markers\", \"name\": \"question=Compara com 20\", \"showlegend\": true, \"type\": \"scatter\", \"x\": [21198], \"xaxis\": \"x\", \"y\": [138], \"yaxis\": \"y\"}, {\"hoverlabel\": {\"namelength\": 0}, \"hovertemplate\": \"question=Compara com 20 parte 2<br>timeInSecounds=%{x}<br>quantity=%{y}\", \"legendgroup\": \"question=Compara com 20 parte 2\", \"marker\": {\"color\": \"#FFA15A\", \"symbol\": \"circle\"}, \"mode\": \"markers\", \"name\": \"question=Compara com 20 parte 2\", \"showlegend\": true, \"type\": \"scatter\", \"x\": [29181], \"xaxis\": \"x\", \"y\": [213], \"yaxis\": \"y\"}, {\"hoverlabel\": {\"namelength\": 0}, \"hovertemplate\": \"question=Concatenar vetores<br>timeInSecounds=%{x}<br>quantity=%{y}\", \"legendgroup\": \"question=Concatenar vetores\", \"marker\": {\"color\": \"#19d3f3\", \"symbol\": \"circle\"}, \"mode\": \"markers\", \"name\": \"question=Concatenar vetores\", \"showlegend\": true, \"type\": \"scatter\", \"x\": [28986], \"xaxis\": \"x\", \"y\": [93], \"yaxis\": \"y\"}, {\"hoverlabel\": {\"namelength\": 0}, \"hovertemplate\": \"question=Contagem de 22 a 53<br>timeInSecounds=%{x}<br>quantity=%{y}\", \"legendgroup\": \"question=Contagem de 22 a 53\", \"marker\": {\"color\": \"#FF6692\", \"symbol\": \"circle\"}, \"mode\": \"markers\", \"name\": \"question=Contagem de 22 a 53\", \"showlegend\": true, \"type\": \"scatter\", \"x\": [43721], \"xaxis\": \"x\", \"y\": [136], \"yaxis\": \"y\"}, {\"hoverlabel\": {\"namelength\": 0}, \"hovertemplate\": \"question=Contagem progressiva at\\u00e9 10<br>timeInSecounds=%{x}<br>quantity=%{y}\", \"legendgroup\": \"question=Contagem progressiva at\\u00e9 10\", \"marker\": {\"color\": \"#B6E880\", \"symbol\": \"circle\"}, \"mode\": \"markers\", \"name\": \"question=Contagem progressiva at\\u00e9 10\", \"showlegend\": true, \"type\": \"scatter\", \"x\": [3261], \"xaxis\": \"x\", \"y\": [87], \"yaxis\": \"y\"}, {\"hoverlabel\": {\"namelength\": 0}, \"hovertemplate\": \"question=Contagem regressiva<br>timeInSecounds=%{x}<br>quantity=%{y}\", \"legendgroup\": \"question=Contagem regressiva\", \"marker\": {\"color\": \"#FF97FF\", \"symbol\": \"circle\"}, \"mode\": \"markers\", \"name\": \"question=Contagem regressiva\", \"showlegend\": true, \"type\": \"scatter\", \"x\": [18972], \"xaxis\": \"x\", \"y\": [199], \"yaxis\": \"y\"}, {\"hoverlabel\": {\"namelength\": 0}, \"hovertemplate\": \"question=Contando de 2 em 2<br>timeInSecounds=%{x}<br>quantity=%{y}\", \"legendgroup\": \"question=Contando de 2 em 2\", \"marker\": {\"color\": \"#FECB52\", \"symbol\": \"circle\"}, \"mode\": \"markers\", \"name\": \"question=Contando de 2 em 2\", \"showlegend\": true, \"type\": \"scatter\", \"x\": [3193], \"xaxis\": \"x\", \"y\": [65], \"yaxis\": \"y\"}, {\"hoverlabel\": {\"namelength\": 0}, \"hovertemplate\": \"question=Contar quantos s\\u00e3o maiores de 18 anos<br>timeInSecounds=%{x}<br>quantity=%{y}\", \"legendgroup\": \"question=Contar quantos s\\u00e3o maiores de 18 anos\", \"marker\": {\"color\": \"#636efa\", \"symbol\": \"circle\"}, \"mode\": \"markers\", \"name\": \"question=Contar quantos s\\u00e3o maiores de 18 anos\", \"showlegend\": true, \"type\": \"scatter\", \"x\": [41748], \"xaxis\": \"x\", \"y\": [217], \"yaxis\": \"y\"}, {\"hoverlabel\": {\"namelength\": 0}, \"hovertemplate\": \"question=Convers\\u00e3o de Temperatura entre paises<br>timeInSecounds=%{x}<br>quantity=%{y}\", \"legendgroup\": \"question=Convers\\u00e3o de Temperatura entre paises\", \"marker\": {\"color\": \"#EF553B\", \"symbol\": \"circle\"}, \"mode\": \"markers\", \"name\": \"question=Convers\\u00e3o de Temperatura entre paises\", \"showlegend\": true, \"type\": \"scatter\", \"x\": [114449], \"xaxis\": \"x\", \"y\": [260], \"yaxis\": \"y\"}, {\"hoverlabel\": {\"namelength\": 0}, \"hovertemplate\": \"question=Convertendo de horas para dias<br>timeInSecounds=%{x}<br>quantity=%{y}\", \"legendgroup\": \"question=Convertendo de horas para dias\", \"marker\": {\"color\": \"#00cc96\", \"symbol\": \"circle\"}, \"mode\": \"markers\", \"name\": \"question=Convertendo de horas para dias\", \"showlegend\": true, \"type\": \"scatter\", \"x\": [130160], \"xaxis\": \"x\", \"y\": [413], \"yaxis\": \"y\"}, {\"hoverlabel\": {\"namelength\": 0}, \"hovertemplate\": \"question=Convertendo de metros para polegadas<br>timeInSecounds=%{x}<br>quantity=%{y}\", \"legendgroup\": \"question=Convertendo de metros para polegadas\", \"marker\": {\"color\": \"#ab63fa\", \"symbol\": \"circle\"}, \"mode\": \"markers\", \"name\": \"question=Convertendo de metros para polegadas\", \"showlegend\": true, \"type\": \"scatter\", \"x\": [92389], \"xaxis\": \"x\", \"y\": [607], \"yaxis\": \"y\"}, {\"hoverlabel\": {\"namelength\": 0}, \"hovertemplate\": \"question=Convertendo p\\u00e9s, jardas e milhas.<br>timeInSecounds=%{x}<br>quantity=%{y}\", \"legendgroup\": \"question=Convertendo p\\u00e9s, jardas e milhas.\", \"marker\": {\"color\": \"#FFA15A\", \"symbol\": \"circle\"}, \"mode\": \"markers\", \"name\": \"question=Convertendo p\\u00e9s, jardas e milhas.\", \"showlegend\": true, \"type\": \"scatter\", \"x\": [131672], \"xaxis\": \"x\", \"y\": [618], \"yaxis\": \"y\"}, {\"hoverlabel\": {\"namelength\": 0}, \"hovertemplate\": \"question=Crescimento populacional<br>timeInSecounds=%{x}<br>quantity=%{y}\", \"legendgroup\": \"question=Crescimento populacional\", \"marker\": {\"color\": \"#19d3f3\", \"symbol\": \"circle\"}, \"mode\": \"markers\", \"name\": \"question=Crescimento populacional\", \"showlegend\": true, \"type\": \"scatter\", \"x\": [26578], \"xaxis\": \"x\", \"y\": [148], \"yaxis\": \"y\"}, {\"hoverlabel\": {\"namelength\": 0}, \"hovertemplate\": \"question=Custo ao consumidor de um carro novo<br>timeInSecounds=%{x}<br>quantity=%{y}\", \"legendgroup\": \"question=Custo ao consumidor de um carro novo\", \"marker\": {\"color\": \"#FF6692\", \"symbol\": \"circle\"}, \"mode\": \"markers\", \"name\": \"question=Custo ao consumidor de um carro novo\", \"showlegend\": true, \"type\": \"scatter\", \"x\": [89461], \"xaxis\": \"x\", \"y\": [322], \"yaxis\": \"y\"}, {\"hoverlabel\": {\"namelength\": 0}, \"hovertemplate\": \"question=C\\u00e1lculo da m\\u00e9dia v\\u00e1lida<br>timeInSecounds=%{x}<br>quantity=%{y}\", \"legendgroup\": \"question=C\\u00e1lculo da m\\u00e9dia v\\u00e1lida\", \"marker\": {\"color\": \"#B6E880\", \"symbol\": \"circle\"}, \"mode\": \"markers\", \"name\": \"question=C\\u00e1lculo da m\\u00e9dia v\\u00e1lida\", \"showlegend\": true, \"type\": \"scatter\", \"x\": [33049], \"xaxis\": \"x\", \"y\": [226], \"yaxis\": \"y\"}, {\"hoverlabel\": {\"namelength\": 0}, \"hovertemplate\": \"question=C\\u00e1lculo do IMC<br>timeInSecounds=%{x}<br>quantity=%{y}\", \"legendgroup\": \"question=C\\u00e1lculo do IMC\", \"marker\": {\"color\": \"#FF97FF\", \"symbol\": \"circle\"}, \"mode\": \"markers\", \"name\": \"question=C\\u00e1lculo do IMC\", \"showlegend\": true, \"type\": \"scatter\", \"x\": [71140], \"xaxis\": \"x\", \"y\": [526], \"yaxis\": \"y\"}, {\"hoverlabel\": {\"namelength\": 0}, \"hovertemplate\": \"question=C\\u00e1lculo do novo Sal\\u00e1rio<br>timeInSecounds=%{x}<br>quantity=%{y}\", \"legendgroup\": \"question=C\\u00e1lculo do novo Sal\\u00e1rio\", \"marker\": {\"color\": \"#FECB52\", \"symbol\": \"circle\"}, \"mode\": \"markers\", \"name\": \"question=C\\u00e1lculo do novo Sal\\u00e1rio\", \"showlegend\": true, \"type\": \"scatter\", \"x\": [94837], \"xaxis\": \"x\", \"y\": [331], \"yaxis\": \"y\"}, {\"hoverlabel\": {\"namelength\": 0}, \"hovertemplate\": \"question=Data v\\u00e1lida<br>timeInSecounds=%{x}<br>quantity=%{y}\", \"legendgroup\": \"question=Data v\\u00e1lida\", \"marker\": {\"color\": \"#636efa\", \"symbol\": \"circle\"}, \"mode\": \"markers\", \"name\": \"question=Data v\\u00e1lida\", \"showlegend\": true, \"type\": \"scatter\", \"x\": [808024], \"xaxis\": \"x\", \"y\": [532], \"yaxis\": \"y\"}, {\"hoverlabel\": {\"namelength\": 0}, \"hovertemplate\": \"question=Dez vezes Bom dia!<br>timeInSecounds=%{x}<br>quantity=%{y}\", \"legendgroup\": \"question=Dez vezes Bom dia!\", \"marker\": {\"color\": \"#EF553B\", \"symbol\": \"circle\"}, \"mode\": \"markers\", \"name\": \"question=Dez vezes Bom dia!\", \"showlegend\": true, \"type\": \"scatter\", \"x\": [5462], \"xaxis\": \"x\", \"y\": [63], \"yaxis\": \"y\"}, {\"hoverlabel\": {\"namelength\": 0}, \"hovertemplate\": \"question=Divis\\u00e3o por 0<br>timeInSecounds=%{x}<br>quantity=%{y}\", \"legendgroup\": \"question=Divis\\u00e3o por 0\", \"marker\": {\"color\": \"#00cc96\", \"symbol\": \"circle\"}, \"mode\": \"markers\", \"name\": \"question=Divis\\u00e3o por 0\", \"showlegend\": true, \"type\": \"scatter\", \"x\": [18949], \"xaxis\": \"x\", \"y\": [108], \"yaxis\": \"y\"}, {\"hoverlabel\": {\"namelength\": 0}, \"hovertemplate\": \"question=Divis\\u00edvel por 3 e por 4  ao mesmo tempo.<br>timeInSecounds=%{x}<br>quantity=%{y}\", \"legendgroup\": \"question=Divis\\u00edvel por 3 e por 4  ao mesmo tempo.\", \"marker\": {\"color\": \"#ab63fa\", \"symbol\": \"circle\"}, \"mode\": \"markers\", \"name\": \"question=Divis\\u00edvel por 3 e por 4  ao mesmo tempo.\", \"showlegend\": true, \"type\": \"scatter\", \"x\": [11729], \"xaxis\": \"x\", \"y\": [78], \"yaxis\": \"y\"}, {\"hoverlabel\": {\"namelength\": 0}, \"hovertemplate\": \"question=Divis\\u00edvel por 3 e por 4 - vers\\u00e3o ainda mais complexa<br>timeInSecounds=%{x}<br>quantity=%{y}\", \"legendgroup\": \"question=Divis\\u00edvel por 3 e por 4 - vers\\u00e3o ainda mais complexa\", \"marker\": {\"color\": \"#FFA15A\", \"symbol\": \"circle\"}, \"mode\": \"markers\", \"name\": \"question=Divis\\u00edvel por 3 e por 4 - vers\\u00e3o ainda mais complexa\", \"showlegend\": true, \"type\": \"scatter\", \"x\": [39604], \"xaxis\": \"x\", \"y\": [165], \"yaxis\": \"y\"}, {\"hoverlabel\": {\"namelength\": 0}, \"hovertemplate\": \"question=Divis\\u00edvel por 3 e por 4 - vers\\u00e3o mais complexa<br>timeInSecounds=%{x}<br>quantity=%{y}\", \"legendgroup\": \"question=Divis\\u00edvel por 3 e por 4 - vers\\u00e3o mais complexa\", \"marker\": {\"color\": \"#19d3f3\", \"symbol\": \"circle\"}, \"mode\": \"markers\", \"name\": \"question=Divis\\u00edvel por 3 e por 4 - vers\\u00e3o mais complexa\", \"showlegend\": true, \"type\": \"scatter\", \"x\": [99934], \"xaxis\": \"x\", \"y\": [239], \"yaxis\": \"y\"}, {\"hoverlabel\": {\"namelength\": 0}, \"hovertemplate\": \"question=Divis\\u00edvel por 3 e por 5<br>timeInSecounds=%{x}<br>quantity=%{y}\", \"legendgroup\": \"question=Divis\\u00edvel por 3 e por 5\", \"marker\": {\"color\": \"#FF6692\", \"symbol\": \"circle\"}, \"mode\": \"markers\", \"name\": \"question=Divis\\u00edvel por 3 e por 5\", \"showlegend\": true, \"type\": \"scatter\", \"x\": [32216], \"xaxis\": \"x\", \"y\": [116], \"yaxis\": \"y\"}, {\"hoverlabel\": {\"namelength\": 0}, \"hovertemplate\": \"question=Divis\\u00edvel por 3 valores ao mesmo tempo<br>timeInSecounds=%{x}<br>quantity=%{y}\", \"legendgroup\": \"question=Divis\\u00edvel por 3 valores ao mesmo tempo\", \"marker\": {\"color\": \"#B6E880\", \"symbol\": \"circle\"}, \"mode\": \"markers\", \"name\": \"question=Divis\\u00edvel por 3 valores ao mesmo tempo\", \"showlegend\": true, \"type\": \"scatter\", \"x\": [24798], \"xaxis\": \"x\", \"y\": [118], \"yaxis\": \"y\"}, {\"hoverlabel\": {\"namelength\": 0}, \"hovertemplate\": \"question=Divis\\u00edvel por 3, mas n\\u00e3o por 4<br>timeInSecounds=%{x}<br>quantity=%{y}\", \"legendgroup\": \"question=Divis\\u00edvel por 3, mas n\\u00e3o por 4\", \"marker\": {\"color\": \"#FF97FF\", \"symbol\": \"circle\"}, \"mode\": \"markers\", \"name\": \"question=Divis\\u00edvel por 3, mas n\\u00e3o por 4\", \"showlegend\": true, \"type\": \"scatter\", \"x\": [20460], \"xaxis\": \"x\", \"y\": [138], \"yaxis\": \"y\"}, {\"hoverlabel\": {\"namelength\": 0}, \"hovertemplate\": \"question=Divis\\u00edvel por 4 valores ao mesmo tempo<br>timeInSecounds=%{x}<br>quantity=%{y}\", \"legendgroup\": \"question=Divis\\u00edvel por 4 valores ao mesmo tempo\", \"marker\": {\"color\": \"#FECB52\", \"symbol\": \"circle\"}, \"mode\": \"markers\", \"name\": \"question=Divis\\u00edvel por 4 valores ao mesmo tempo\", \"showlegend\": true, \"type\": \"scatter\", \"x\": [10665], \"xaxis\": \"x\", \"y\": [68], \"yaxis\": \"y\"}, {\"hoverlabel\": {\"namelength\": 0}, \"hovertemplate\": \"question=Divis\\u00edvel por 5<br>timeInSecounds=%{x}<br>quantity=%{y}\", \"legendgroup\": \"question=Divis\\u00edvel por 5\", \"marker\": {\"color\": \"#636efa\", \"symbol\": \"circle\"}, \"mode\": \"markers\", \"name\": \"question=Divis\\u00edvel por 5\", \"showlegend\": true, \"type\": \"scatter\", \"x\": [106468], \"xaxis\": \"x\", \"y\": [122], \"yaxis\": \"y\"}, {\"hoverlabel\": {\"namelength\": 0}, \"hovertemplate\": \"question=Duas ou mais condi\\u00e7\\u00f5es com &&<br>timeInSecounds=%{x}<br>quantity=%{y}\", \"legendgroup\": \"question=Duas ou mais condi\\u00e7\\u00f5es com &&\", \"marker\": {\"color\": \"#EF553B\", \"symbol\": \"circle\"}, \"mode\": \"markers\", \"name\": \"question=Duas ou mais condi\\u00e7\\u00f5es com &&\", \"showlegend\": true, \"type\": \"scatter\", \"x\": [2846], \"xaxis\": \"x\", \"y\": [41], \"yaxis\": \"y\"}, {\"hoverlabel\": {\"namelength\": 0}, \"hovertemplate\": \"question=Elementos do vetor m\\u00faltiplos de 3 e de 4 simultaneamente.<br>timeInSecounds=%{x}<br>quantity=%{y}\", \"legendgroup\": \"question=Elementos do vetor m\\u00faltiplos de 3 e de 4 simultaneamente.\", \"marker\": {\"color\": \"#00cc96\", \"symbol\": \"circle\"}, \"mode\": \"markers\", \"name\": \"question=Elementos do vetor m\\u00faltiplos de 3 e de 4 simultaneamente.\", \"showlegend\": true, \"type\": \"scatter\", \"x\": [15869], \"xaxis\": \"x\", \"y\": [58], \"yaxis\": \"y\"}, {\"hoverlabel\": {\"namelength\": 0}, \"hovertemplate\": \"question=Encontrando n\\u00fameros pares<br>timeInSecounds=%{x}<br>quantity=%{y}\", \"legendgroup\": \"question=Encontrando n\\u00fameros pares\", \"marker\": {\"color\": \"#ab63fa\", \"symbol\": \"circle\"}, \"mode\": \"markers\", \"name\": \"question=Encontrando n\\u00fameros pares\", \"showlegend\": true, \"type\": \"scatter\", \"x\": [7850], \"xaxis\": \"x\", \"y\": [77], \"yaxis\": \"y\"}, {\"hoverlabel\": {\"namelength\": 0}, \"hovertemplate\": \"question=Entendendo o contador<br>timeInSecounds=%{x}<br>quantity=%{y}\", \"legendgroup\": \"question=Entendendo o contador\", \"marker\": {\"color\": \"#FFA15A\", \"symbol\": \"circle\"}, \"mode\": \"markers\", \"name\": \"question=Entendendo o contador\", \"showlegend\": true, \"type\": \"scatter\", \"x\": [9435], \"xaxis\": \"x\", \"y\": [64], \"yaxis\": \"y\"}, {\"hoverlabel\": {\"namelength\": 0}, \"hovertemplate\": \"question=Equivalente em dias e horas<br>timeInSecounds=%{x}<br>quantity=%{y}\", \"legendgroup\": \"question=Equivalente em dias e horas\", \"marker\": {\"color\": \"#19d3f3\", \"symbol\": \"circle\"}, \"mode\": \"markers\", \"name\": \"question=Equivalente em dias e horas\", \"showlegend\": true, \"type\": \"scatter\", \"x\": [71933], \"xaxis\": \"x\", \"y\": [414], \"yaxis\": \"y\"}, {\"hoverlabel\": {\"namelength\": 0}, \"hovertemplate\": \"question=Evoluindo a busca de um elemento em um vetor<br>timeInSecounds=%{x}<br>quantity=%{y}\", \"legendgroup\": \"question=Evoluindo a busca de um elemento em um vetor\", \"marker\": {\"color\": \"#FF6692\", \"symbol\": \"circle\"}, \"mode\": \"markers\", \"name\": \"question=Evoluindo a busca de um elemento em um vetor\", \"showlegend\": true, \"type\": \"scatter\", \"x\": [18413], \"xaxis\": \"x\", \"y\": [78], \"yaxis\": \"y\"}, {\"hoverlabel\": {\"namelength\": 0}, \"hovertemplate\": \"question=Falsa multiplica\\u00e7\\u00e3o<br>timeInSecounds=%{x}<br>quantity=%{y}\", \"legendgroup\": \"question=Falsa multiplica\\u00e7\\u00e3o\", \"marker\": {\"color\": \"#B6E880\", \"symbol\": \"circle\"}, \"mode\": \"markers\", \"name\": \"question=Falsa multiplica\\u00e7\\u00e3o\", \"showlegend\": true, \"type\": \"scatter\", \"x\": [36258], \"xaxis\": \"x\", \"y\": [91], \"yaxis\": \"y\"}, {\"hoverlabel\": {\"namelength\": 0}, \"hovertemplate\": \"question=Fatorial simples<br>timeInSecounds=%{x}<br>quantity=%{y}\", \"legendgroup\": \"question=Fatorial simples\", \"marker\": {\"color\": \"#FF97FF\", \"symbol\": \"circle\"}, \"mode\": \"markers\", \"name\": \"question=Fatorial simples\", \"showlegend\": true, \"type\": \"scatter\", \"x\": [72988], \"xaxis\": \"x\", \"y\": [191], \"yaxis\": \"y\"}, {\"hoverlabel\": {\"namelength\": 0}, \"hovertemplate\": \"question=F\\u00f3rmula de Bh\\u00e1skara<br>timeInSecounds=%{x}<br>quantity=%{y}\", \"legendgroup\": \"question=F\\u00f3rmula de Bh\\u00e1skara\", \"marker\": {\"color\": \"#FECB52\", \"symbol\": \"circle\"}, \"mode\": \"markers\", \"name\": \"question=F\\u00f3rmula de Bh\\u00e1skara\", \"showlegend\": true, \"type\": \"scatter\", \"x\": [114450], \"xaxis\": \"x\", \"y\": [688], \"yaxis\": \"y\"}, {\"hoverlabel\": {\"namelength\": 0}, \"hovertemplate\": \"question=IMC novamente com 2 decis\\u00f5es<br>timeInSecounds=%{x}<br>quantity=%{y}\", \"legendgroup\": \"question=IMC novamente com 2 decis\\u00f5es\", \"marker\": {\"color\": \"#636efa\", \"symbol\": \"circle\"}, \"mode\": \"markers\", \"name\": \"question=IMC novamente com 2 decis\\u00f5es\", \"showlegend\": true, \"type\": \"scatter\", \"x\": [5131], \"xaxis\": \"x\", \"y\": [52], \"yaxis\": \"y\"}, {\"hoverlabel\": {\"namelength\": 0}, \"hovertemplate\": \"question=IMC simples com 2 decis\\u00f5es<br>timeInSecounds=%{x}<br>quantity=%{y}\", \"legendgroup\": \"question=IMC simples com 2 decis\\u00f5es\", \"marker\": {\"color\": \"#EF553B\", \"symbol\": \"circle\"}, \"mode\": \"markers\", \"name\": \"question=IMC simples com 2 decis\\u00f5es\", \"showlegend\": true, \"type\": \"scatter\", \"x\": [12831], \"xaxis\": \"x\", \"y\": [121], \"yaxis\": \"y\"}, {\"hoverlabel\": {\"namelength\": 0}, \"hovertemplate\": \"question=Idades<br>timeInSecounds=%{x}<br>quantity=%{y}\", \"legendgroup\": \"question=Idades\", \"marker\": {\"color\": \"#00cc96\", \"symbol\": \"circle\"}, \"mode\": \"markers\", \"name\": \"question=Idades\", \"showlegend\": true, \"type\": \"scatter\", \"x\": [32189], \"xaxis\": \"x\", \"y\": [213], \"yaxis\": \"y\"}, {\"hoverlabel\": {\"namelength\": 0}, \"hovertemplate\": \"question=Idades e permiss\\u00f5es<br>timeInSecounds=%{x}<br>quantity=%{y}\", \"legendgroup\": \"question=Idades e permiss\\u00f5es\", \"marker\": {\"color\": \"#ab63fa\", \"symbol\": \"circle\"}, \"mode\": \"markers\", \"name\": \"question=Idades e permiss\\u00f5es\", \"showlegend\": true, \"type\": \"scatter\", \"x\": [20582], \"xaxis\": \"x\", \"y\": [186], \"yaxis\": \"y\"}, {\"hoverlabel\": {\"namelength\": 0}, \"hovertemplate\": \"question=Identificando os primos<br>timeInSecounds=%{x}<br>quantity=%{y}\", \"legendgroup\": \"question=Identificando os primos\", \"marker\": {\"color\": \"#FFA15A\", \"symbol\": \"circle\"}, \"mode\": \"markers\", \"name\": \"question=Identificando os primos\", \"showlegend\": true, \"type\": \"scatter\", \"x\": [14995], \"xaxis\": \"x\", \"y\": [104], \"yaxis\": \"y\"}, {\"hoverlabel\": {\"namelength\": 0}, \"hovertemplate\": \"question=Identifica\\u00e7\\u00e3o de Bimestres<br>timeInSecounds=%{x}<br>quantity=%{y}\", \"legendgroup\": \"question=Identifica\\u00e7\\u00e3o de Bimestres\", \"marker\": {\"color\": \"#19d3f3\", \"symbol\": \"circle\"}, \"mode\": \"markers\", \"name\": \"question=Identifica\\u00e7\\u00e3o de Bimestres\", \"showlegend\": true, \"type\": \"scatter\", \"x\": [9536], \"xaxis\": \"x\", \"y\": [53], \"yaxis\": \"y\"}, {\"hoverlabel\": {\"namelength\": 0}, \"hovertemplate\": \"question=Impar ou multiplo de 6<br>timeInSecounds=%{x}<br>quantity=%{y}\", \"legendgroup\": \"question=Impar ou multiplo de 6\", \"marker\": {\"color\": \"#FF6692\", \"symbol\": \"circle\"}, \"mode\": \"markers\", \"name\": \"question=Impar ou multiplo de 6\", \"showlegend\": true, \"type\": \"scatter\", \"x\": [87526], \"xaxis\": \"x\", \"y\": [245], \"yaxis\": \"y\"}, {\"hoverlabel\": {\"namelength\": 0}, \"hovertemplate\": \"question=Imprimindo uma mensagem com um valor<br>timeInSecounds=%{x}<br>quantity=%{y}\", \"legendgroup\": \"question=Imprimindo uma mensagem com um valor\", \"marker\": {\"color\": \"#B6E880\", \"symbol\": \"circle\"}, \"mode\": \"markers\", \"name\": \"question=Imprimindo uma mensagem com um valor\", \"showlegend\": true, \"type\": \"scatter\", \"x\": [31438], \"xaxis\": \"x\", \"y\": [350], \"yaxis\": \"y\"}, {\"hoverlabel\": {\"namelength\": 0}, \"hovertemplate\": \"question=Imprimir o \\u00edndice par<br>timeInSecounds=%{x}<br>quantity=%{y}\", \"legendgroup\": \"question=Imprimir o \\u00edndice par\", \"marker\": {\"color\": \"#FF97FF\", \"symbol\": \"circle\"}, \"mode\": \"markers\", \"name\": \"question=Imprimir o \\u00edndice par\", \"showlegend\": true, \"type\": \"scatter\", \"x\": [17407], \"xaxis\": \"x\", \"y\": [83], \"yaxis\": \"y\"}, {\"hoverlabel\": {\"namelength\": 0}, \"hovertemplate\": \"question=Intercalar Vetor<br>timeInSecounds=%{x}<br>quantity=%{y}\", \"legendgroup\": \"question=Intercalar Vetor\", \"marker\": {\"color\": \"#FECB52\", \"symbol\": \"circle\"}, \"mode\": \"markers\", \"name\": \"question=Intercalar Vetor\", \"showlegend\": true, \"type\": \"scatter\", \"x\": [12575], \"xaxis\": \"x\", \"y\": [74], \"yaxis\": \"y\"}, {\"hoverlabel\": {\"namelength\": 0}, \"hovertemplate\": \"question=Introdu\\u00e7\\u00e3o Soma<br>timeInSecounds=%{x}<br>quantity=%{y}\", \"legendgroup\": \"question=Introdu\\u00e7\\u00e3o Soma\", \"marker\": {\"color\": \"#636efa\", \"symbol\": \"circle\"}, \"mode\": \"markers\", \"name\": \"question=Introdu\\u00e7\\u00e3o Soma\", \"showlegend\": true, \"type\": \"scatter\", \"x\": [104656], \"xaxis\": \"x\", \"y\": [979], \"yaxis\": \"y\"}, {\"hoverlabel\": {\"namelength\": 0}, \"hovertemplate\": \"question=Introdu\\u00e7\\u00e3o a Raiz Quadrada<br>timeInSecounds=%{x}<br>quantity=%{y}\", \"legendgroup\": \"question=Introdu\\u00e7\\u00e3o a Raiz Quadrada\", \"marker\": {\"color\": \"#EF553B\", \"symbol\": \"circle\"}, \"mode\": \"markers\", \"name\": \"question=Introdu\\u00e7\\u00e3o a Raiz Quadrada\", \"showlegend\": true, \"type\": \"scatter\", \"x\": [36970], \"xaxis\": \"x\", \"y\": [348], \"yaxis\": \"y\"}, {\"hoverlabel\": {\"namelength\": 0}, \"hovertemplate\": \"question=Invers\\u00e3o de vetor<br>timeInSecounds=%{x}<br>quantity=%{y}\", \"legendgroup\": \"question=Invers\\u00e3o de vetor\", \"marker\": {\"color\": \"#00cc96\", \"symbol\": \"circle\"}, \"mode\": \"markers\", \"name\": \"question=Invers\\u00e3o de vetor\", \"showlegend\": true, \"type\": \"scatter\", \"x\": [9388], \"xaxis\": \"x\", \"y\": [67], \"yaxis\": \"y\"}, {\"hoverlabel\": {\"namelength\": 0}, \"hovertemplate\": \"question=Inverter uma palavra<br>timeInSecounds=%{x}<br>quantity=%{y}\", \"legendgroup\": \"question=Inverter uma palavra\", \"marker\": {\"color\": \"#ab63fa\", \"symbol\": \"circle\"}, \"mode\": \"markers\", \"name\": \"question=Inverter uma palavra\", \"showlegend\": true, \"type\": \"scatter\", \"x\": [30391], \"xaxis\": \"x\", \"y\": [87], \"yaxis\": \"y\"}, {\"hoverlabel\": {\"namelength\": 0}, \"hovertemplate\": \"question=Maior de 10 n\\u00fameros<br>timeInSecounds=%{x}<br>quantity=%{y}\", \"legendgroup\": \"question=Maior de 10 n\\u00fameros\", \"marker\": {\"color\": \"#FFA15A\", \"symbol\": \"circle\"}, \"mode\": \"markers\", \"name\": \"question=Maior de 10 n\\u00fameros\", \"showlegend\": true, \"type\": \"scatter\", \"x\": [49964], \"xaxis\": \"x\", \"y\": [117], \"yaxis\": \"y\"}, {\"hoverlabel\": {\"namelength\": 0}, \"hovertemplate\": \"question=Matriz de asteriscos<br>timeInSecounds=%{x}<br>quantity=%{y}\", \"legendgroup\": \"question=Matriz de asteriscos\", \"marker\": {\"color\": \"#19d3f3\", \"symbol\": \"circle\"}, \"mode\": \"markers\", \"name\": \"question=Matriz de asteriscos\", \"showlegend\": true, \"type\": \"scatter\", \"x\": [15215], \"xaxis\": \"x\", \"y\": [158], \"yaxis\": \"y\"}, {\"hoverlabel\": {\"namelength\": 0}, \"hovertemplate\": \"question=Menor de 3 n\\u00fameros<br>timeInSecounds=%{x}<br>quantity=%{y}\", \"legendgroup\": \"question=Menor de 3 n\\u00fameros\", \"marker\": {\"color\": \"#FF6692\", \"symbol\": \"circle\"}, \"mode\": \"markers\", \"name\": \"question=Menor de 3 n\\u00fameros\", \"showlegend\": true, \"type\": \"scatter\", \"x\": [154438], \"xaxis\": \"x\", \"y\": [417], \"yaxis\": \"y\"}, {\"hoverlabel\": {\"namelength\": 0}, \"hovertemplate\": \"question=Menor e posi\\u00e7\\u00e3o<br>timeInSecounds=%{x}<br>quantity=%{y}\", \"legendgroup\": \"question=Menor e posi\\u00e7\\u00e3o\", \"marker\": {\"color\": \"#B6E880\", \"symbol\": \"circle\"}, \"mode\": \"markers\", \"name\": \"question=Menor e posi\\u00e7\\u00e3o\", \"showlegend\": true, \"type\": \"scatter\", \"x\": [18059], \"xaxis\": \"x\", \"y\": [115], \"yaxis\": \"y\"}, {\"hoverlabel\": {\"namelength\": 0}, \"hovertemplate\": \"question=M\\u00e9dia Ponderada<br>timeInSecounds=%{x}<br>quantity=%{y}\", \"legendgroup\": \"question=M\\u00e9dia Ponderada\", \"marker\": {\"color\": \"#FF97FF\", \"symbol\": \"circle\"}, \"mode\": \"markers\", \"name\": \"question=M\\u00e9dia Ponderada\", \"showlegend\": true, \"type\": \"scatter\", \"x\": [44705], \"xaxis\": \"x\", \"y\": [268], \"yaxis\": \"y\"}, {\"hoverlabel\": {\"namelength\": 0}, \"hovertemplate\": \"question=M\\u00e9dia com 3 situa\\u00e7\\u00f5es de decis\\u00e3o<br>timeInSecounds=%{x}<br>quantity=%{y}\", \"legendgroup\": \"question=M\\u00e9dia com 3 situa\\u00e7\\u00f5es de decis\\u00e3o\", \"marker\": {\"color\": \"#FECB52\", \"symbol\": \"circle\"}, \"mode\": \"markers\", \"name\": \"question=M\\u00e9dia com 3 situa\\u00e7\\u00f5es de decis\\u00e3o\", \"showlegend\": true, \"type\": \"scatter\", \"x\": [57096], \"xaxis\": \"x\", \"y\": [197], \"yaxis\": \"y\"}, {\"hoverlabel\": {\"namelength\": 0}, \"hovertemplate\": \"question=M\\u00e9dia com 3 situa\\u00e7\\u00f5es de decis\\u00e3o - parte 2<br>timeInSecounds=%{x}<br>quantity=%{y}\", \"legendgroup\": \"question=M\\u00e9dia com 3 situa\\u00e7\\u00f5es de decis\\u00e3o - parte 2\", \"marker\": {\"color\": \"#636efa\", \"symbol\": \"circle\"}, \"mode\": \"markers\", \"name\": \"question=M\\u00e9dia com 3 situa\\u00e7\\u00f5es de decis\\u00e3o - parte 2\", \"showlegend\": true, \"type\": \"scatter\", \"x\": [26242], \"xaxis\": \"x\", \"y\": [154], \"yaxis\": \"y\"}, {\"hoverlabel\": {\"namelength\": 0}, \"hovertemplate\": \"question=M\\u00e9todo de Her\\u00e3o para calcular ra\\u00edzes quadradas<br>timeInSecounds=%{x}<br>quantity=%{y}\", \"legendgroup\": \"question=M\\u00e9todo de Her\\u00e3o para calcular ra\\u00edzes quadradas\", \"marker\": {\"color\": \"#EF553B\", \"symbol\": \"circle\"}, \"mode\": \"markers\", \"name\": \"question=M\\u00e9todo de Her\\u00e3o para calcular ra\\u00edzes quadradas\", \"showlegend\": true, \"type\": \"scatter\", \"x\": [15294], \"xaxis\": \"x\", \"y\": [145], \"yaxis\": \"y\"}, {\"hoverlabel\": {\"namelength\": 0}, \"hovertemplate\": \"question=M\\u00faltiplo de 3 ou 7<br>timeInSecounds=%{x}<br>quantity=%{y}\", \"legendgroup\": \"question=M\\u00faltiplo de 3 ou 7\", \"marker\": {\"color\": \"#00cc96\", \"symbol\": \"circle\"}, \"mode\": \"markers\", \"name\": \"question=M\\u00faltiplo de 3 ou 7\", \"showlegend\": true, \"type\": \"scatter\", \"x\": [94184], \"xaxis\": \"x\", \"y\": [337], \"yaxis\": \"y\"}, {\"hoverlabel\": {\"namelength\": 0}, \"hovertemplate\": \"question=M\\u00faltiplos de 8 entre 0 e 40<br>timeInSecounds=%{x}<br>quantity=%{y}\", \"legendgroup\": \"question=M\\u00faltiplos de 8 entre 0 e 40\", \"marker\": {\"color\": \"#ab63fa\", \"symbol\": \"circle\"}, \"mode\": \"markers\", \"name\": \"question=M\\u00faltiplos de 8 entre 0 e 40\", \"showlegend\": true, \"type\": \"scatter\", \"x\": [26101], \"xaxis\": \"x\", \"y\": [224], \"yaxis\": \"y\"}, {\"hoverlabel\": {\"namelength\": 0}, \"hovertemplate\": \"question=N termos de Fibonacci<br>timeInSecounds=%{x}<br>quantity=%{y}\", \"legendgroup\": \"question=N termos de Fibonacci\", \"marker\": {\"color\": \"#FFA15A\", \"symbol\": \"circle\"}, \"mode\": \"markers\", \"name\": \"question=N termos de Fibonacci\", \"showlegend\": true, \"type\": \"scatter\", \"x\": [69703], \"xaxis\": \"x\", \"y\": [217], \"yaxis\": \"y\"}, {\"hoverlabel\": {\"namelength\": 0}, \"hovertemplate\": \"question=N\\u00e3o \\u00e9 divisivel por 3<br>timeInSecounds=%{x}<br>quantity=%{y}\", \"legendgroup\": \"question=N\\u00e3o \\u00e9 divisivel por 3\", \"marker\": {\"color\": \"#19d3f3\", \"symbol\": \"circle\"}, \"mode\": \"markers\", \"name\": \"question=N\\u00e3o \\u00e9 divisivel por 3\", \"showlegend\": true, \"type\": \"scatter\", \"x\": [44759], \"xaxis\": \"x\", \"y\": [86], \"yaxis\": \"y\"}, {\"hoverlabel\": {\"namelength\": 0}, \"hovertemplate\": \"question=N\\u00famero primo ou n\\u00e3o?<br>timeInSecounds=%{x}<br>quantity=%{y}\", \"legendgroup\": \"question=N\\u00famero primo ou n\\u00e3o?\", \"marker\": {\"color\": \"#FF6692\", \"symbol\": \"circle\"}, \"mode\": \"markers\", \"name\": \"question=N\\u00famero primo ou n\\u00e3o?\", \"showlegend\": true, \"type\": \"scatter\", \"x\": [33808], \"xaxis\": \"x\", \"y\": [168], \"yaxis\": \"y\"}, {\"hoverlabel\": {\"namelength\": 0}, \"hovertemplate\": \"question=O maior valor de cada vetor<br>timeInSecounds=%{x}<br>quantity=%{y}\", \"legendgroup\": \"question=O maior valor de cada vetor\", \"marker\": {\"color\": \"#B6E880\", \"symbol\": \"circle\"}, \"mode\": \"markers\", \"name\": \"question=O maior valor de cada vetor\", \"showlegend\": true, \"type\": \"scatter\", \"x\": [15357], \"xaxis\": \"x\", \"y\": [74], \"yaxis\": \"y\"}, {\"hoverlabel\": {\"namelength\": 0}, \"hovertemplate\": \"question=O quadrado dos 5 n\\u00fameros<br>timeInSecounds=%{x}<br>quantity=%{y}\", \"legendgroup\": \"question=O quadrado dos 5 n\\u00fameros\", \"marker\": {\"color\": \"#FF97FF\", \"symbol\": \"circle\"}, \"mode\": \"markers\", \"name\": \"question=O quadrado dos 5 n\\u00fameros\", \"showlegend\": true, \"type\": \"scatter\", \"x\": [36872], \"xaxis\": \"x\", \"y\": [238], \"yaxis\": \"y\"}, {\"hoverlabel\": {\"namelength\": 0}, \"hovertemplate\": \"question=O quadrado ou raiz<br>timeInSecounds=%{x}<br>quantity=%{y}\", \"legendgroup\": \"question=O quadrado ou raiz\", \"marker\": {\"color\": \"#FECB52\", \"symbol\": \"circle\"}, \"mode\": \"markers\", \"name\": \"question=O quadrado ou raiz\", \"showlegend\": true, \"type\": \"scatter\", \"x\": [76083], \"xaxis\": \"x\", \"y\": [296], \"yaxis\": \"y\"}, {\"hoverlabel\": {\"namelength\": 0}, \"hovertemplate\": \"question=Par ou impar<br>timeInSecounds=%{x}<br>quantity=%{y}\", \"legendgroup\": \"question=Par ou impar\", \"marker\": {\"color\": \"#636efa\", \"symbol\": \"circle\"}, \"mode\": \"markers\", \"name\": \"question=Par ou impar\", \"showlegend\": true, \"type\": \"scatter\", \"x\": [5271], \"xaxis\": \"x\", \"y\": [74], \"yaxis\": \"y\"}, {\"hoverlabel\": {\"namelength\": 0}, \"hovertemplate\": \"question=Par ou \\u00edmpar com N n\\u00fameros<br>timeInSecounds=%{x}<br>quantity=%{y}\", \"legendgroup\": \"question=Par ou \\u00edmpar com N n\\u00fameros\", \"marker\": {\"color\": \"#EF553B\", \"symbol\": \"circle\"}, \"mode\": \"markers\", \"name\": \"question=Par ou \\u00edmpar com N n\\u00fameros\", \"showlegend\": true, \"type\": \"scatter\", \"x\": [100325], \"xaxis\": \"x\", \"y\": [212], \"yaxis\": \"y\"}, {\"hoverlabel\": {\"namelength\": 0}, \"hovertemplate\": \"question=Para quando digitar 2<br>timeInSecounds=%{x}<br>quantity=%{y}\", \"legendgroup\": \"question=Para quando digitar 2\", \"marker\": {\"color\": \"#00cc96\", \"symbol\": \"circle\"}, \"mode\": \"markers\", \"name\": \"question=Para quando digitar 2\", \"showlegend\": true, \"type\": \"scatter\", \"x\": [32496], \"xaxis\": \"x\", \"y\": [159], \"yaxis\": \"y\"}, {\"hoverlabel\": {\"namelength\": 0}, \"hovertemplate\": \"question=Pare no 22<br>timeInSecounds=%{x}<br>quantity=%{y}\", \"legendgroup\": \"question=Pare no 22\", \"marker\": {\"color\": \"#ab63fa\", \"symbol\": \"circle\"}, \"mode\": \"markers\", \"name\": \"question=Pare no 22\", \"showlegend\": true, \"type\": \"scatter\", \"x\": [377293], \"xaxis\": \"x\", \"y\": [619], \"yaxis\": \"y\"}, {\"hoverlabel\": {\"namelength\": 0}, \"hovertemplate\": \"question=Per\\u00edmetro de raio R<br>timeInSecounds=%{x}<br>quantity=%{y}\", \"legendgroup\": \"question=Per\\u00edmetro de raio R\", \"marker\": {\"color\": \"#FFA15A\", \"symbol\": \"circle\"}, \"mode\": \"markers\", \"name\": \"question=Per\\u00edmetro de raio R\", \"showlegend\": true, \"type\": \"scatter\", \"x\": [48586], \"xaxis\": \"x\", \"y\": [269], \"yaxis\": \"y\"}, {\"hoverlabel\": {\"namelength\": 0}, \"hovertemplate\": \"question=Pesando os bois<br>timeInSecounds=%{x}<br>quantity=%{y}\", \"legendgroup\": \"question=Pesando os bois\", \"marker\": {\"color\": \"#19d3f3\", \"symbol\": \"circle\"}, \"mode\": \"markers\", \"name\": \"question=Pesando os bois\", \"showlegend\": true, \"type\": \"scatter\", \"x\": [31314], \"xaxis\": \"x\", \"y\": [140], \"yaxis\": \"y\"}, {\"hoverlabel\": {\"namelength\": 0}, \"hovertemplate\": \"question=Porcentagem dos maiores que 15<br>timeInSecounds=%{x}<br>quantity=%{y}\", \"legendgroup\": \"question=Porcentagem dos maiores que 15\", \"marker\": {\"color\": \"#FF6692\", \"symbol\": \"circle\"}, \"mode\": \"markers\", \"name\": \"question=Porcentagem dos maiores que 15\", \"showlegend\": true, \"type\": \"scatter\", \"x\": [101995], \"xaxis\": \"x\", \"y\": [188], \"yaxis\": \"y\"}, {\"hoverlabel\": {\"namelength\": 0}, \"hovertemplate\": \"question=Positivos e soma<br>timeInSecounds=%{x}<br>quantity=%{y}\", \"legendgroup\": \"question=Positivos e soma\", \"marker\": {\"color\": \"#B6E880\", \"symbol\": \"circle\"}, \"mode\": \"markers\", \"name\": \"question=Positivos e soma\", \"showlegend\": true, \"type\": \"scatter\", \"x\": [82696], \"xaxis\": \"x\", \"y\": [245], \"yaxis\": \"y\"}, {\"hoverlabel\": {\"namelength\": 0}, \"hovertemplate\": \"question=Preenchimento de vetor I<br>timeInSecounds=%{x}<br>quantity=%{y}\", \"legendgroup\": \"question=Preenchimento de vetor I\", \"marker\": {\"color\": \"#FF97FF\", \"symbol\": \"circle\"}, \"mode\": \"markers\", \"name\": \"question=Preenchimento de vetor I\", \"showlegend\": true, \"type\": \"scatter\", \"x\": [37594], \"xaxis\": \"x\", \"y\": [187], \"yaxis\": \"y\"}, {\"hoverlabel\": {\"namelength\": 0}, \"hovertemplate\": \"question=Preenchimento de vetor II<br>timeInSecounds=%{x}<br>quantity=%{y}\", \"legendgroup\": \"question=Preenchimento de vetor II\", \"marker\": {\"color\": \"#FECB52\", \"symbol\": \"circle\"}, \"mode\": \"markers\", \"name\": \"question=Preenchimento de vetor II\", \"showlegend\": true, \"type\": \"scatter\", \"x\": [4405], \"xaxis\": \"x\", \"y\": [31], \"yaxis\": \"y\"}, {\"hoverlabel\": {\"namelength\": 0}, \"hovertemplate\": \"question=Programa Bom Dia!<br>timeInSecounds=%{x}<br>quantity=%{y}\", \"legendgroup\": \"question=Programa Bom Dia!\", \"marker\": {\"color\": \"#636efa\", \"symbol\": \"circle\"}, \"mode\": \"markers\", \"name\": \"question=Programa Bom Dia!\", \"showlegend\": true, \"type\": \"scatter\", \"x\": [68557], \"xaxis\": \"x\", \"y\": [734], \"yaxis\": \"y\"}, {\"hoverlabel\": {\"namelength\": 0}, \"hovertemplate\": \"question=Qual o dia da semana?<br>timeInSecounds=%{x}<br>quantity=%{y}\", \"legendgroup\": \"question=Qual o dia da semana?\", \"marker\": {\"color\": \"#EF553B\", \"symbol\": \"circle\"}, \"mode\": \"markers\", \"name\": \"question=Qual o dia da semana?\", \"showlegend\": true, \"type\": \"scatter\", \"x\": [105754], \"xaxis\": \"x\", \"y\": [245], \"yaxis\": \"y\"}, {\"hoverlabel\": {\"namelength\": 0}, \"hovertemplate\": \"question=Ra\\u00edzes de uma equa\\u00e7\\u00e3o de segundo grau<br>timeInSecounds=%{x}<br>quantity=%{y}\", \"legendgroup\": \"question=Ra\\u00edzes de uma equa\\u00e7\\u00e3o de segundo grau\", \"marker\": {\"color\": \"#00cc96\", \"symbol\": \"circle\"}, \"mode\": \"markers\", \"name\": \"question=Ra\\u00edzes de uma equa\\u00e7\\u00e3o de segundo grau\", \"showlegend\": true, \"type\": \"scatter\", \"x\": [163539], \"xaxis\": \"x\", \"y\": [590], \"yaxis\": \"y\"}, {\"hoverlabel\": {\"namelength\": 0}, \"hovertemplate\": \"question=Resto da divis\\u00e3o inteira<br>timeInSecounds=%{x}<br>quantity=%{y}\", \"legendgroup\": \"question=Resto da divis\\u00e3o inteira\", \"marker\": {\"color\": \"#ab63fa\", \"symbol\": \"circle\"}, \"mode\": \"markers\", \"name\": \"question=Resto da divis\\u00e3o inteira\", \"showlegend\": true, \"type\": \"scatter\", \"x\": [44783], \"xaxis\": \"x\", \"y\": [195], \"yaxis\": \"y\"}, {\"hoverlabel\": {\"namelength\": 0}, \"hovertemplate\": \"question=Retirar repetidos<br>timeInSecounds=%{x}<br>quantity=%{y}\", \"legendgroup\": \"question=Retirar repetidos\", \"marker\": {\"color\": \"#FFA15A\", \"symbol\": \"circle\"}, \"mode\": \"markers\", \"name\": \"question=Retirar repetidos\", \"showlegend\": true, \"type\": \"scatter\", \"x\": [21456], \"xaxis\": \"x\", \"y\": [71], \"yaxis\": \"y\"}, {\"hoverlabel\": {\"namelength\": 0}, \"hovertemplate\": \"question=Sele\\u00e7\\u00e3o no vetor<br>timeInSecounds=%{x}<br>quantity=%{y}\", \"legendgroup\": \"question=Sele\\u00e7\\u00e3o no vetor\", \"marker\": {\"color\": \"#19d3f3\", \"symbol\": \"circle\"}, \"mode\": \"markers\", \"name\": \"question=Sele\\u00e7\\u00e3o no vetor\", \"showlegend\": true, \"type\": \"scatter\", \"x\": [8881], \"xaxis\": \"x\", \"y\": [46], \"yaxis\": \"y\"}, {\"hoverlabel\": {\"namelength\": 0}, \"hovertemplate\": \"question=Separando Vetor<br>timeInSecounds=%{x}<br>quantity=%{y}\", \"legendgroup\": \"question=Separando Vetor\", \"marker\": {\"color\": \"#FF6692\", \"symbol\": \"circle\"}, \"mode\": \"markers\", \"name\": \"question=Separando Vetor\", \"showlegend\": true, \"type\": \"scatter\", \"x\": [43699], \"xaxis\": \"x\", \"y\": [167], \"yaxis\": \"y\"}, {\"hoverlabel\": {\"namelength\": 0}, \"hovertemplate\": \"question=Separando em Dezena e Unidade<br>timeInSecounds=%{x}<br>quantity=%{y}\", \"legendgroup\": \"question=Separando em Dezena e Unidade\", \"marker\": {\"color\": \"#B6E880\", \"symbol\": \"circle\"}, \"mode\": \"markers\", \"name\": \"question=Separando em Dezena e Unidade\", \"showlegend\": true, \"type\": \"scatter\", \"x\": [76760], \"xaxis\": \"x\", \"y\": [249], \"yaxis\": \"y\"}, {\"hoverlabel\": {\"namelength\": 0}, \"hovertemplate\": \"question=Separar n\\u00fameros em tr\\u00eas vetores<br>timeInSecounds=%{x}<br>quantity=%{y}\", \"legendgroup\": \"question=Separar n\\u00fameros em tr\\u00eas vetores\", \"marker\": {\"color\": \"#FF97FF\", \"symbol\": \"circle\"}, \"mode\": \"markers\", \"name\": \"question=Separar n\\u00fameros em tr\\u00eas vetores\", \"showlegend\": true, \"type\": \"scatter\", \"x\": [62489], \"xaxis\": \"x\", \"y\": [69], \"yaxis\": \"y\"}, {\"hoverlabel\": {\"namelength\": 0}, \"hovertemplate\": \"question=Sistema Inteligente - Identifica\\u00e7\\u00e3o de Esp\\u00e9cie de P\\u00e1ssaro<br>timeInSecounds=%{x}<br>quantity=%{y}\", \"legendgroup\": \"question=Sistema Inteligente - Identifica\\u00e7\\u00e3o de Esp\\u00e9cie de P\\u00e1ssaro\", \"marker\": {\"color\": \"#FECB52\", \"symbol\": \"circle\"}, \"mode\": \"markers\", \"name\": \"question=Sistema Inteligente - Identifica\\u00e7\\u00e3o de Esp\\u00e9cie de P\\u00e1ssaro\", \"showlegend\": true, \"type\": \"scatter\", \"x\": [429956], \"xaxis\": \"x\", \"y\": [275], \"yaxis\": \"y\"}, {\"hoverlabel\": {\"namelength\": 0}, \"hovertemplate\": \"question=Soma de fatoriais<br>timeInSecounds=%{x}<br>quantity=%{y}\", \"legendgroup\": \"question=Soma de fatoriais\", \"marker\": {\"color\": \"#636efa\", \"symbol\": \"circle\"}, \"mode\": \"markers\", \"name\": \"question=Soma de fatoriais\", \"showlegend\": true, \"type\": \"scatter\", \"x\": [44687], \"xaxis\": \"x\", \"y\": [176], \"yaxis\": \"y\"}, {\"hoverlabel\": {\"namelength\": 0}, \"hovertemplate\": \"question=Soma de valores \\u00edmpares<br>timeInSecounds=%{x}<br>quantity=%{y}\", \"legendgroup\": \"question=Soma de valores \\u00edmpares\", \"marker\": {\"color\": \"#EF553B\", \"symbol\": \"circle\"}, \"mode\": \"markers\", \"name\": \"question=Soma de valores \\u00edmpares\", \"showlegend\": true, \"type\": \"scatter\", \"x\": [31752], \"xaxis\": \"x\", \"y\": [112], \"yaxis\": \"y\"}, {\"hoverlabel\": {\"namelength\": 0}, \"hovertemplate\": \"question=Soma dos pares e \\u00edmpares digitados<br>timeInSecounds=%{x}<br>quantity=%{y}\", \"legendgroup\": \"question=Soma dos pares e \\u00edmpares digitados\", \"marker\": {\"color\": \"#00cc96\", \"symbol\": \"circle\"}, \"mode\": \"markers\", \"name\": \"question=Soma dos pares e \\u00edmpares digitados\", \"showlegend\": true, \"type\": \"scatter\", \"x\": [35023], \"xaxis\": \"x\", \"y\": [206], \"yaxis\": \"y\"}, {\"hoverlabel\": {\"namelength\": 0}, \"hovertemplate\": \"question=Somar dois vetores<br>timeInSecounds=%{x}<br>quantity=%{y}\", \"legendgroup\": \"question=Somar dois vetores\", \"marker\": {\"color\": \"#ab63fa\", \"symbol\": \"circle\"}, \"mode\": \"markers\", \"name\": \"question=Somar dois vetores\", \"showlegend\": true, \"type\": \"scatter\", \"x\": [13510], \"xaxis\": \"x\", \"y\": [98], \"yaxis\": \"y\"}, {\"hoverlabel\": {\"namelength\": 0}, \"hovertemplate\": \"question=Substitui\\u00e7\\u00e3o no vetor<br>timeInSecounds=%{x}<br>quantity=%{y}\", \"legendgroup\": \"question=Substitui\\u00e7\\u00e3o no vetor\", \"marker\": {\"color\": \"#FFA15A\", \"symbol\": \"circle\"}, \"mode\": \"markers\", \"name\": \"question=Substitui\\u00e7\\u00e3o no vetor\", \"showlegend\": true, \"type\": \"scatter\", \"x\": [14750], \"xaxis\": \"x\", \"y\": [94], \"yaxis\": \"y\"}, {\"hoverlabel\": {\"namelength\": 0}, \"hovertemplate\": \"question=Sucessor de um n\\u00famero com uma v\\u00e1riavel<br>timeInSecounds=%{x}<br>quantity=%{y}\", \"legendgroup\": \"question=Sucessor de um n\\u00famero com uma v\\u00e1riavel\", \"marker\": {\"color\": \"#19d3f3\", \"symbol\": \"circle\"}, \"mode\": \"markers\", \"name\": \"question=Sucessor de um n\\u00famero com uma v\\u00e1riavel\", \"showlegend\": true, \"type\": \"scatter\", \"x\": [42614], \"xaxis\": \"x\", \"y\": [91], \"yaxis\": \"y\"}, {\"hoverlabel\": {\"namelength\": 0}, \"hovertemplate\": \"question=Tabela de contagens<br>timeInSecounds=%{x}<br>quantity=%{y}\", \"legendgroup\": \"question=Tabela de contagens\", \"marker\": {\"color\": \"#FF6692\", \"symbol\": \"circle\"}, \"mode\": \"markers\", \"name\": \"question=Tabela de contagens\", \"showlegend\": true, \"type\": \"scatter\", \"x\": [340809], \"xaxis\": \"x\", \"y\": [307], \"yaxis\": \"y\"}, {\"hoverlabel\": {\"namelength\": 0}, \"hovertemplate\": \"question=Tempo de vida de um material radioativo<br>timeInSecounds=%{x}<br>quantity=%{y}\", \"legendgroup\": \"question=Tempo de vida de um material radioativo\", \"marker\": {\"color\": \"#B6E880\", \"symbol\": \"circle\"}, \"mode\": \"markers\", \"name\": \"question=Tempo de vida de um material radioativo\", \"showlegend\": true, \"type\": \"scatter\", \"x\": [88461], \"xaxis\": \"x\", \"y\": [97], \"yaxis\": \"y\"}, {\"hoverlabel\": {\"namelength\": 0}, \"hovertemplate\": \"question=Todos os divisores de N<br>timeInSecounds=%{x}<br>quantity=%{y}\", \"legendgroup\": \"question=Todos os divisores de N\", \"marker\": {\"color\": \"#FF97FF\", \"symbol\": \"circle\"}, \"mode\": \"markers\", \"name\": \"question=Todos os divisores de N\", \"showlegend\": true, \"type\": \"scatter\", \"x\": [27867], \"xaxis\": \"x\", \"y\": [125], \"yaxis\": \"y\"}, {\"hoverlabel\": {\"namelength\": 0}, \"hovertemplate\": \"question=Troca de d\\u00edgitos UCD<br>timeInSecounds=%{x}<br>quantity=%{y}\", \"legendgroup\": \"question=Troca de d\\u00edgitos UCD\", \"marker\": {\"color\": \"#FECB52\", \"symbol\": \"circle\"}, \"mode\": \"markers\", \"name\": \"question=Troca de d\\u00edgitos UCD\", \"showlegend\": true, \"type\": \"scatter\", \"x\": [98082], \"xaxis\": \"x\", \"y\": [457], \"yaxis\": \"y\"}, {\"hoverlabel\": {\"namelength\": 0}, \"hovertemplate\": \"question=Troca de d\\u00edgitos UDC<br>timeInSecounds=%{x}<br>quantity=%{y}\", \"legendgroup\": \"question=Troca de d\\u00edgitos UDC\", \"marker\": {\"color\": \"#636efa\", \"symbol\": \"circle\"}, \"mode\": \"markers\", \"name\": \"question=Troca de d\\u00edgitos UDC\", \"showlegend\": true, \"type\": \"scatter\", \"x\": [28359], \"xaxis\": \"x\", \"y\": [186], \"yaxis\": \"y\"}, {\"hoverlabel\": {\"namelength\": 0}, \"hovertemplate\": \"question=Troca de valores entre vari\\u00e1veis<br>timeInSecounds=%{x}<br>quantity=%{y}\", \"legendgroup\": \"question=Troca de valores entre vari\\u00e1veis\", \"marker\": {\"color\": \"#EF553B\", \"symbol\": \"circle\"}, \"mode\": \"markers\", \"name\": \"question=Troca de valores entre vari\\u00e1veis\", \"showlegend\": true, \"type\": \"scatter\", \"x\": [95352], \"xaxis\": \"x\", \"y\": [559], \"yaxis\": \"y\"}, {\"hoverlabel\": {\"namelength\": 0}, \"hovertemplate\": \"question=divis\\u00edvel por 2 n\\u00fameros ao mesmo tempo<br>timeInSecounds=%{x}<br>quantity=%{y}\", \"legendgroup\": \"question=divis\\u00edvel por 2 n\\u00fameros ao mesmo tempo\", \"marker\": {\"color\": \"#00cc96\", \"symbol\": \"circle\"}, \"mode\": \"markers\", \"name\": \"question=divis\\u00edvel por 2 n\\u00fameros ao mesmo tempo\", \"showlegend\": true, \"type\": \"scatter\", \"x\": [9369], \"xaxis\": \"x\", \"y\": [49], \"yaxis\": \"y\"}, {\"hoverlabel\": {\"namelength\": 0}, \"hovertemplate\": \"question=\\u00c1rea e Volume do c\\u00edrculo de raio R<br>timeInSecounds=%{x}<br>quantity=%{y}\", \"legendgroup\": \"question=\\u00c1rea e Volume do c\\u00edrculo de raio R\", \"marker\": {\"color\": \"#ab63fa\", \"symbol\": \"circle\"}, \"mode\": \"markers\", \"name\": \"question=\\u00c1rea e Volume do c\\u00edrculo de raio R\", \"showlegend\": true, \"type\": \"scatter\", \"x\": [650170], \"xaxis\": \"x\", \"y\": [408], \"yaxis\": \"y\"}, {\"hoverlabel\": {\"namelength\": 0}, \"hovertemplate\": \"question=\\u00c9 preciso praticar muito!<br>timeInSecounds=%{x}<br>quantity=%{y}\", \"legendgroup\": \"question=\\u00c9 preciso praticar muito!\", \"marker\": {\"color\": \"#FFA15A\", \"symbol\": \"circle\"}, \"mode\": \"markers\", \"name\": \"question=\\u00c9 preciso praticar muito!\", \"showlegend\": true, \"type\": \"scatter\", \"x\": [28976], \"xaxis\": \"x\", \"y\": [311], \"yaxis\": \"y\"}, {\"hoverlabel\": {\"namelength\": 0}, \"hovertemplate\": \"question=\\u00cdndice de Massa Corporal (IMC)  - parte 2<br>timeInSecounds=%{x}<br>quantity=%{y}\", \"legendgroup\": \"question=\\u00cdndice de Massa Corporal (IMC)  - parte 2\", \"marker\": {\"color\": \"#19d3f3\", \"symbol\": \"circle\"}, \"mode\": \"markers\", \"name\": \"question=\\u00cdndice de Massa Corporal (IMC)  - parte 2\", \"showlegend\": true, \"type\": \"scatter\", \"x\": [168905], \"xaxis\": \"x\", \"y\": [470], \"yaxis\": \"y\"}],\n",
              "                        {\"legend\": {\"tracegroupgap\": 0}, \"margin\": {\"t\": 60}, \"template\": {\"data\": {\"bar\": [{\"error_x\": {\"color\": \"#2a3f5f\"}, \"error_y\": {\"color\": \"#2a3f5f\"}, \"marker\": {\"line\": {\"color\": \"#E5ECF6\", \"width\": 0.5}}, \"type\": \"bar\"}], \"barpolar\": [{\"marker\": {\"line\": {\"color\": \"#E5ECF6\", \"width\": 0.5}}, \"type\": \"barpolar\"}], \"carpet\": [{\"aaxis\": {\"endlinecolor\": \"#2a3f5f\", \"gridcolor\": \"white\", \"linecolor\": \"white\", \"minorgridcolor\": \"white\", \"startlinecolor\": \"#2a3f5f\"}, \"baxis\": {\"endlinecolor\": \"#2a3f5f\", \"gridcolor\": \"white\", \"linecolor\": \"white\", \"minorgridcolor\": \"white\", \"startlinecolor\": \"#2a3f5f\"}, \"type\": \"carpet\"}], \"choropleth\": [{\"colorbar\": {\"outlinewidth\": 0, \"ticks\": \"\"}, \"type\": \"choropleth\"}], \"contour\": [{\"colorbar\": {\"outlinewidth\": 0, \"ticks\": \"\"}, \"colorscale\": [[0.0, \"#0d0887\"], [0.1111111111111111, \"#46039f\"], [0.2222222222222222, \"#7201a8\"], [0.3333333333333333, \"#9c179e\"], [0.4444444444444444, \"#bd3786\"], [0.5555555555555556, \"#d8576b\"], [0.6666666666666666, \"#ed7953\"], [0.7777777777777778, \"#fb9f3a\"], [0.8888888888888888, \"#fdca26\"], [1.0, \"#f0f921\"]], \"type\": \"contour\"}], \"contourcarpet\": [{\"colorbar\": {\"outlinewidth\": 0, \"ticks\": \"\"}, \"type\": \"contourcarpet\"}], \"heatmap\": [{\"colorbar\": {\"outlinewidth\": 0, \"ticks\": \"\"}, \"colorscale\": [[0.0, \"#0d0887\"], [0.1111111111111111, \"#46039f\"], [0.2222222222222222, \"#7201a8\"], [0.3333333333333333, \"#9c179e\"], [0.4444444444444444, \"#bd3786\"], [0.5555555555555556, \"#d8576b\"], [0.6666666666666666, \"#ed7953\"], [0.7777777777777778, \"#fb9f3a\"], [0.8888888888888888, \"#fdca26\"], [1.0, \"#f0f921\"]], \"type\": \"heatmap\"}], \"heatmapgl\": [{\"colorbar\": {\"outlinewidth\": 0, \"ticks\": \"\"}, \"colorscale\": [[0.0, \"#0d0887\"], [0.1111111111111111, \"#46039f\"], [0.2222222222222222, \"#7201a8\"], [0.3333333333333333, \"#9c179e\"], [0.4444444444444444, \"#bd3786\"], [0.5555555555555556, \"#d8576b\"], [0.6666666666666666, \"#ed7953\"], [0.7777777777777778, \"#fb9f3a\"], [0.8888888888888888, \"#fdca26\"], [1.0, \"#f0f921\"]], \"type\": \"heatmapgl\"}], \"histogram\": [{\"marker\": {\"colorbar\": {\"outlinewidth\": 0, \"ticks\": \"\"}}, \"type\": \"histogram\"}], \"histogram2d\": [{\"colorbar\": {\"outlinewidth\": 0, \"ticks\": \"\"}, \"colorscale\": [[0.0, \"#0d0887\"], [0.1111111111111111, \"#46039f\"], [0.2222222222222222, \"#7201a8\"], [0.3333333333333333, \"#9c179e\"], [0.4444444444444444, \"#bd3786\"], [0.5555555555555556, \"#d8576b\"], [0.6666666666666666, \"#ed7953\"], [0.7777777777777778, \"#fb9f3a\"], [0.8888888888888888, \"#fdca26\"], [1.0, \"#f0f921\"]], \"type\": \"histogram2d\"}], \"histogram2dcontour\": [{\"colorbar\": {\"outlinewidth\": 0, \"ticks\": \"\"}, \"colorscale\": [[0.0, \"#0d0887\"], [0.1111111111111111, \"#46039f\"], [0.2222222222222222, \"#7201a8\"], [0.3333333333333333, \"#9c179e\"], [0.4444444444444444, \"#bd3786\"], [0.5555555555555556, \"#d8576b\"], [0.6666666666666666, \"#ed7953\"], [0.7777777777777778, \"#fb9f3a\"], [0.8888888888888888, \"#fdca26\"], [1.0, \"#f0f921\"]], \"type\": \"histogram2dcontour\"}], \"mesh3d\": [{\"colorbar\": {\"outlinewidth\": 0, \"ticks\": \"\"}, \"type\": \"mesh3d\"}], \"parcoords\": [{\"line\": {\"colorbar\": {\"outlinewidth\": 0, \"ticks\": \"\"}}, \"type\": \"parcoords\"}], \"pie\": [{\"automargin\": true, \"type\": \"pie\"}], \"scatter\": [{\"marker\": {\"colorbar\": {\"outlinewidth\": 0, \"ticks\": \"\"}}, \"type\": \"scatter\"}], \"scatter3d\": [{\"line\": {\"colorbar\": {\"outlinewidth\": 0, \"ticks\": \"\"}}, \"marker\": {\"colorbar\": {\"outlinewidth\": 0, \"ticks\": \"\"}}, \"type\": \"scatter3d\"}], \"scattercarpet\": [{\"marker\": {\"colorbar\": {\"outlinewidth\": 0, \"ticks\": \"\"}}, \"type\": \"scattercarpet\"}], \"scattergeo\": [{\"marker\": {\"colorbar\": {\"outlinewidth\": 0, \"ticks\": \"\"}}, \"type\": \"scattergeo\"}], \"scattergl\": [{\"marker\": {\"colorbar\": {\"outlinewidth\": 0, \"ticks\": \"\"}}, \"type\": \"scattergl\"}], \"scattermapbox\": [{\"marker\": {\"colorbar\": {\"outlinewidth\": 0, \"ticks\": \"\"}}, \"type\": \"scattermapbox\"}], \"scatterpolar\": [{\"marker\": {\"colorbar\": {\"outlinewidth\": 0, \"ticks\": \"\"}}, \"type\": \"scatterpolar\"}], \"scatterpolargl\": [{\"marker\": {\"colorbar\": {\"outlinewidth\": 0, \"ticks\": \"\"}}, \"type\": \"scatterpolargl\"}], \"scatterternary\": [{\"marker\": {\"colorbar\": {\"outlinewidth\": 0, \"ticks\": \"\"}}, \"type\": \"scatterternary\"}], \"surface\": [{\"colorbar\": {\"outlinewidth\": 0, \"ticks\": \"\"}, \"colorscale\": [[0.0, \"#0d0887\"], [0.1111111111111111, \"#46039f\"], [0.2222222222222222, \"#7201a8\"], [0.3333333333333333, \"#9c179e\"], [0.4444444444444444, \"#bd3786\"], [0.5555555555555556, \"#d8576b\"], [0.6666666666666666, \"#ed7953\"], [0.7777777777777778, \"#fb9f3a\"], [0.8888888888888888, \"#fdca26\"], [1.0, \"#f0f921\"]], \"type\": \"surface\"}], \"table\": [{\"cells\": {\"fill\": {\"color\": \"#EBF0F8\"}, \"line\": {\"color\": \"white\"}}, \"header\": {\"fill\": {\"color\": \"#C8D4E3\"}, \"line\": {\"color\": \"white\"}}, \"type\": \"table\"}]}, \"layout\": {\"annotationdefaults\": {\"arrowcolor\": \"#2a3f5f\", \"arrowhead\": 0, \"arrowwidth\": 1}, \"coloraxis\": {\"colorbar\": {\"outlinewidth\": 0, \"ticks\": \"\"}}, \"colorscale\": {\"diverging\": [[0, \"#8e0152\"], [0.1, \"#c51b7d\"], [0.2, \"#de77ae\"], [0.3, \"#f1b6da\"], [0.4, \"#fde0ef\"], [0.5, \"#f7f7f7\"], [0.6, \"#e6f5d0\"], [0.7, \"#b8e186\"], [0.8, \"#7fbc41\"], [0.9, \"#4d9221\"], [1, \"#276419\"]], \"sequential\": [[0.0, \"#0d0887\"], [0.1111111111111111, \"#46039f\"], [0.2222222222222222, \"#7201a8\"], [0.3333333333333333, \"#9c179e\"], [0.4444444444444444, \"#bd3786\"], [0.5555555555555556, \"#d8576b\"], [0.6666666666666666, \"#ed7953\"], [0.7777777777777778, \"#fb9f3a\"], [0.8888888888888888, \"#fdca26\"], [1.0, \"#f0f921\"]], \"sequentialminus\": [[0.0, \"#0d0887\"], [0.1111111111111111, \"#46039f\"], [0.2222222222222222, \"#7201a8\"], [0.3333333333333333, \"#9c179e\"], [0.4444444444444444, \"#bd3786\"], [0.5555555555555556, \"#d8576b\"], [0.6666666666666666, \"#ed7953\"], [0.7777777777777778, \"#fb9f3a\"], [0.8888888888888888, \"#fdca26\"], [1.0, \"#f0f921\"]]}, \"colorway\": [\"#636efa\", \"#EF553B\", \"#00cc96\", \"#ab63fa\", \"#FFA15A\", \"#19d3f3\", \"#FF6692\", \"#B6E880\", \"#FF97FF\", \"#FECB52\"], \"font\": {\"color\": \"#2a3f5f\"}, \"geo\": {\"bgcolor\": \"white\", \"lakecolor\": \"white\", \"landcolor\": \"#E5ECF6\", \"showlakes\": true, \"showland\": true, \"subunitcolor\": \"white\"}, \"hoverlabel\": {\"align\": \"left\"}, \"hovermode\": \"closest\", \"mapbox\": {\"style\": \"light\"}, \"paper_bgcolor\": \"white\", \"plot_bgcolor\": \"#E5ECF6\", \"polar\": {\"angularaxis\": {\"gridcolor\": \"white\", \"linecolor\": \"white\", \"ticks\": \"\"}, \"bgcolor\": \"#E5ECF6\", \"radialaxis\": {\"gridcolor\": \"white\", \"linecolor\": \"white\", \"ticks\": \"\"}}, \"scene\": {\"xaxis\": {\"backgroundcolor\": \"#E5ECF6\", \"gridcolor\": \"white\", \"gridwidth\": 2, \"linecolor\": \"white\", \"showbackground\": true, \"ticks\": \"\", \"zerolinecolor\": \"white\"}, \"yaxis\": {\"backgroundcolor\": \"#E5ECF6\", \"gridcolor\": \"white\", \"gridwidth\": 2, \"linecolor\": \"white\", \"showbackground\": true, \"ticks\": \"\", \"zerolinecolor\": \"white\"}, \"zaxis\": {\"backgroundcolor\": \"#E5ECF6\", \"gridcolor\": \"white\", \"gridwidth\": 2, \"linecolor\": \"white\", \"showbackground\": true, \"ticks\": \"\", \"zerolinecolor\": \"white\"}}, \"shapedefaults\": {\"line\": {\"color\": \"#2a3f5f\"}}, \"ternary\": {\"aaxis\": {\"gridcolor\": \"white\", \"linecolor\": \"white\", \"ticks\": \"\"}, \"baxis\": {\"gridcolor\": \"white\", \"linecolor\": \"white\", \"ticks\": \"\"}, \"bgcolor\": \"#E5ECF6\", \"caxis\": {\"gridcolor\": \"white\", \"linecolor\": \"white\", \"ticks\": \"\"}}, \"title\": {\"x\": 0.05}, \"xaxis\": {\"automargin\": true, \"gridcolor\": \"white\", \"linecolor\": \"white\", \"ticks\": \"\", \"title\": {\"standoff\": 15}, \"zerolinecolor\": \"white\", \"zerolinewidth\": 2}, \"yaxis\": {\"automargin\": true, \"gridcolor\": \"white\", \"linecolor\": \"white\", \"ticks\": \"\", \"title\": {\"standoff\": 15}, \"zerolinecolor\": \"white\", \"zerolinewidth\": 2}}}, \"xaxis\": {\"anchor\": \"y\", \"domain\": [0.0, 1.0], \"title\": {\"text\": \"timeInSecounds\"}}, \"yaxis\": {\"anchor\": \"x\", \"domain\": [0.0, 1.0], \"title\": {\"text\": \"quantity\"}}},\n",
              "                        {\"responsive\": true}\n",
              "                    ).then(function(){\n",
              "                            \n",
              "var gd = document.getElementById('1a881f1b-4b4f-49a0-90bd-1ed202774dcf');\n",
              "var x = new MutationObserver(function (mutations, observer) {{\n",
              "        var display = window.getComputedStyle(gd).display;\n",
              "        if (!display || display === 'none') {{\n",
              "            console.log([gd, 'removed!']);\n",
              "            Plotly.purge(gd);\n",
              "            observer.disconnect();\n",
              "        }}\n",
              "}});\n",
              "\n",
              "// Listen for the removal of the full notebook cells\n",
              "var notebookContainer = gd.closest('#notebook-container');\n",
              "if (notebookContainer) {{\n",
              "    x.observe(notebookContainer, {childList: true});\n",
              "}}\n",
              "\n",
              "// Listen for the clearing of the current output cell\n",
              "var outputEl = gd.closest('.output');\n",
              "if (outputEl) {{\n",
              "    x.observe(outputEl, {childList: true});\n",
              "}}\n",
              "\n",
              "                        })\n",
              "                };\n",
              "                \n",
              "            </script>\n",
              "        </div>\n",
              "</body>\n",
              "</html>"
            ]
          },
          "metadata": {
            "tags": []
          }
        }
      ]
    },
    {
      "cell_type": "code",
      "metadata": {
        "colab": {
          "base_uri": "https://localhost:8080/",
          "height": 212
        },
        "id": "yfKti_0fdRXO",
        "outputId": "83502f9e-e78f-4b21-b18f-2607402af3e0"
      },
      "source": [
        "df_submission.head(2)"
      ],
      "execution_count": 25,
      "outputs": [
        {
          "output_type": "execute_result",
          "data": {
            "text/html": [
              "<div>\n",
              "<style scoped>\n",
              "    .dataframe tbody tr th:only-of-type {\n",
              "        vertical-align: middle;\n",
              "    }\n",
              "\n",
              "    .dataframe tbody tr th {\n",
              "        vertical-align: top;\n",
              "    }\n",
              "\n",
              "    .dataframe thead th {\n",
              "        text-align: right;\n",
              "    }\n",
              "</style>\n",
              "<table border=\"1\" class=\"dataframe\">\n",
              "  <thead>\n",
              "    <tr style=\"text-align: right;\">\n",
              "      <th></th>\n",
              "      <th>environment</th>\n",
              "      <th>hitPercentage</th>\n",
              "      <th>language</th>\n",
              "      <th>char_change_number</th>\n",
              "      <th>timeConsuming</th>\n",
              "      <th>createdAt</th>\n",
              "      <th>user</th>\n",
              "      <th>question</th>\n",
              "      <th>list</th>\n",
              "      <th>test</th>\n",
              "      <th>id_class</th>\n",
              "      <th>registration</th>\n",
              "      <th>timeInSecounds</th>\n",
              "    </tr>\n",
              "  </thead>\n",
              "  <tbody>\n",
              "    <tr>\n",
              "      <th>0</th>\n",
              "      <td>desktop</td>\n",
              "      <td>0.0</td>\n",
              "      <td>javascript</td>\n",
              "      <td>656</td>\n",
              "      <td>131984</td>\n",
              "      <td>2021-01-08T03:47:42.000Z</td>\n",
              "      <td>Victor Laranjeira</td>\n",
              "      <td>Menor e posição</td>\n",
              "      <td>Vetores - Lista de Exercícios (LOP)</td>\n",
              "      <td>None</td>\n",
              "      <td>f2dd7bef-5b5d-4cb3-9efa-aa8652af0605</td>\n",
              "      <td>20180110202</td>\n",
              "      <td>131</td>\n",
              "    </tr>\n",
              "    <tr>\n",
              "      <th>1</th>\n",
              "      <td>desktop</td>\n",
              "      <td>0.0</td>\n",
              "      <td>javascript</td>\n",
              "      <td>652</td>\n",
              "      <td>787663</td>\n",
              "      <td>2021-01-08T03:47:05.000Z</td>\n",
              "      <td>Victor Laranjeira</td>\n",
              "      <td>Menor e posição</td>\n",
              "      <td>Vetores - Lista de Exercícios (LOP)</td>\n",
              "      <td>None</td>\n",
              "      <td>f2dd7bef-5b5d-4cb3-9efa-aa8652af0605</td>\n",
              "      <td>20180110202</td>\n",
              "      <td>787</td>\n",
              "    </tr>\n",
              "  </tbody>\n",
              "</table>\n",
              "</div>"
            ],
            "text/plain": [
              "  environment  hitPercentage  ...  registration  timeInSecounds\n",
              "0     desktop            0.0  ...   20180110202             131\n",
              "1     desktop            0.0  ...   20180110202             787\n",
              "\n",
              "[2 rows x 13 columns]"
            ]
          },
          "metadata": {
            "tags": []
          },
          "execution_count": 25
        }
      ]
    },
    {
      "cell_type": "markdown",
      "metadata": {
        "id": "4xwG4lqNhG6E"
      },
      "source": [
        "Convertendo para datetime"
      ]
    },
    {
      "cell_type": "code",
      "metadata": {
        "id": "lOBQGFpxFlHV"
      },
      "source": [
        "df_submission['createdAt'] = pd.to_datetime(df_submission['createdAt'])"
      ],
      "execution_count": 30,
      "outputs": []
    },
    {
      "cell_type": "code",
      "metadata": {
        "id": "9mfkC0jfmvbu"
      },
      "source": [
        "df_submission['dateSubmission'] = df_submission['createdAt'].dt.date"
      ],
      "execution_count": 31,
      "outputs": []
    },
    {
      "cell_type": "code",
      "metadata": {
        "colab": {
          "base_uri": "https://localhost:8080/"
        },
        "id": "t5dKw9inhouH",
        "outputId": "c532ccf8-77d5-4786-9051-b846d679d1da"
      },
      "source": [
        "df_submission.info()"
      ],
      "execution_count": null,
      "outputs": [
        {
          "output_type": "stream",
          "text": [
            "<class 'pandas.core.frame.DataFrame'>\n",
            "RangeIndex: 28035 entries, 0 to 28034\n",
            "Data columns (total 15 columns):\n",
            " #   Column              Non-Null Count  Dtype              \n",
            "---  ------              --------------  -----              \n",
            " 0   environment         28035 non-null  object             \n",
            " 1   hitPercentage       28035 non-null  float64            \n",
            " 2   language            28035 non-null  object             \n",
            " 3   char_change_number  28035 non-null  int64              \n",
            " 4   timeConsuming       28035 non-null  int64              \n",
            " 5   createdAt           28035 non-null  datetime64[ns, UTC]\n",
            " 6   user                28035 non-null  object             \n",
            " 7   question            28035 non-null  object             \n",
            " 8   list                27756 non-null  object             \n",
            " 9   test                279 non-null    object             \n",
            " 10  id_class            28035 non-null  object             \n",
            " 11  registration        28035 non-null  object             \n",
            " 12  timeInSecounds      28035 non-null  int64              \n",
            " 13  dateSubmission      28035 non-null  object             \n",
            " 14  date                28035 non-null  datetime64[ns, UTC]\n",
            "dtypes: datetime64[ns, UTC](2), float64(1), int64(3), object(9)\n",
            "memory usage: 3.2+ MB\n"
          ],
          "name": "stdout"
        }
      ]
    },
    {
      "cell_type": "markdown",
      "metadata": {
        "id": "tVdmBYXSu_jb"
      },
      "source": [
        "Total de segundos gasto em cada questão por aluno"
      ]
    },
    {
      "cell_type": "code",
      "metadata": {
        "colab": {
          "base_uri": "https://localhost:8080/",
          "height": 108
        },
        "id": "xx-LH18atpNg",
        "outputId": "f936336e-a3cc-4d30-a626-456ef2fab23e"
      },
      "source": [
        "df_user_secounds = df_submission[df_submission[\"timeInSecounds\"] > 0].groupby(['registration','question','list'])['timeInSecounds'].sum().reset_index(name='totalSecounds')\r\n",
        "df_user_secounds.head(2)"
      ],
      "execution_count": 47,
      "outputs": [
        {
          "output_type": "execute_result",
          "data": {
            "text/html": [
              "<div>\n",
              "<style scoped>\n",
              "    .dataframe tbody tr th:only-of-type {\n",
              "        vertical-align: middle;\n",
              "    }\n",
              "\n",
              "    .dataframe tbody tr th {\n",
              "        vertical-align: top;\n",
              "    }\n",
              "\n",
              "    .dataframe thead th {\n",
              "        text-align: right;\n",
              "    }\n",
              "</style>\n",
              "<table border=\"1\" class=\"dataframe\">\n",
              "  <thead>\n",
              "    <tr style=\"text-align: right;\">\n",
              "      <th></th>\n",
              "      <th>registration</th>\n",
              "      <th>question</th>\n",
              "      <th>list</th>\n",
              "      <th>totalSecounds</th>\n",
              "    </tr>\n",
              "  </thead>\n",
              "  <tbody>\n",
              "    <tr>\n",
              "      <th>0</th>\n",
              "      <td>20150127890</td>\n",
              "      <td>Calculando expressões - parte 1</td>\n",
              "      <td>Laboratório 01 - Expressões Aritméticas</td>\n",
              "      <td>238</td>\n",
              "    </tr>\n",
              "    <tr>\n",
              "      <th>1</th>\n",
              "      <td>20150127890</td>\n",
              "      <td>Calculando expressões - parte 2</td>\n",
              "      <td>Laboratório 01 - Expressões Aritméticas</td>\n",
              "      <td>602</td>\n",
              "    </tr>\n",
              "  </tbody>\n",
              "</table>\n",
              "</div>"
            ],
            "text/plain": [
              "   registration  ... totalSecounds\n",
              "0   20150127890  ...           238\n",
              "1   20150127890  ...           602\n",
              "\n",
              "[2 rows x 4 columns]"
            ]
          },
          "metadata": {
            "tags": []
          },
          "execution_count": 47
        }
      ]
    },
    {
      "cell_type": "code",
      "metadata": {
        "colab": {
          "base_uri": "https://localhost:8080/"
        },
        "id": "E5o4zzhiIGua",
        "outputId": "9d960657-26aa-40b0-aba6-7d7142f90279"
      },
      "source": [
        "df_submission['list'].value_counts()"
      ],
      "execution_count": 71,
      "outputs": [
        {
          "output_type": "execute_result",
          "data": {
            "text/plain": [
              "Laboratório 01 - Expressões Aritméticas                         3828\n",
              "Aula - Introdução Expressões Aritiméticas                       3341\n",
              "Treinamento - Expressões Aritméticas                            2743\n",
              "Aula - Funções Aritméticas                                      2559\n",
              "(Lop) Lista de Laboratório 2 - Estrutura de decisão             2168\n",
              "Repetição condicional - Lista Prática (LOP)                     2092\n",
              "(Lop) Estruturas de decisão - problemas sobre divisibilidade    1995\n",
              "Repetição condicional - Lista de Exercícios (LOP)               1495\n",
              "(Lop) Estruturas de decisão - Múltiplas decisões                1455\n",
              "Repetição contada - Lista Prática (LOP)                         1160\n",
              "(Lop) Estruturas de decisão - Operadores Lógicos                 934\n",
              "Repetição contada - Lista de Exercícios (LOP)                    853\n",
              "Repetição condicional - Lista Resolvida (LOP)                    782\n",
              "Vetores - Lista Resolvida (LOP)                                  686\n",
              "Repetição contada - Lista Resolvida (LOP)                        651\n",
              "Vetores - Lista de Exercícios (LOP)                              509\n",
              "Vetores - Lista Prática (LOP)                                    505\n",
              "Name: list, dtype: int64"
            ]
          },
          "metadata": {
            "tags": []
          },
          "execution_count": 71
        }
      ]
    },
    {
      "cell_type": "markdown",
      "metadata": {
        "id": "W9F9_4IstXO7"
      },
      "source": [
        "Contando em quantos dias diferentes a questão foi submetida "
      ]
    },
    {
      "cell_type": "code",
      "metadata": {
        "colab": {
          "base_uri": "https://localhost:8080/",
          "height": 648
        },
        "id": "nrxAk-CyoY3z",
        "outputId": "e19b16c5-405a-489b-8afd-e831688e2204"
      },
      "source": [
        "df_user_days = df_submission[df_submission[\"timeInSecounds\"] > 0].groupby(['registration','question','list'])['dateSubmission'].value_counts().reset_index(name='differentDays')\r\n",
        "df_user_days.head(20)"
      ],
      "execution_count": 72,
      "outputs": [
        {
          "output_type": "execute_result",
          "data": {
            "text/html": [
              "<div>\n",
              "<style scoped>\n",
              "    .dataframe tbody tr th:only-of-type {\n",
              "        vertical-align: middle;\n",
              "    }\n",
              "\n",
              "    .dataframe tbody tr th {\n",
              "        vertical-align: top;\n",
              "    }\n",
              "\n",
              "    .dataframe thead th {\n",
              "        text-align: right;\n",
              "    }\n",
              "</style>\n",
              "<table border=\"1\" class=\"dataframe\">\n",
              "  <thead>\n",
              "    <tr style=\"text-align: right;\">\n",
              "      <th></th>\n",
              "      <th>registration</th>\n",
              "      <th>question</th>\n",
              "      <th>list</th>\n",
              "      <th>dateSubmission</th>\n",
              "      <th>differentDays</th>\n",
              "    </tr>\n",
              "  </thead>\n",
              "  <tbody>\n",
              "    <tr>\n",
              "      <th>0</th>\n",
              "      <td>20150127890</td>\n",
              "      <td>Calculando expressões - parte 1</td>\n",
              "      <td>Laboratório 01 - Expressões Aritméticas</td>\n",
              "      <td>2020-09-28</td>\n",
              "      <td>1</td>\n",
              "    </tr>\n",
              "    <tr>\n",
              "      <th>1</th>\n",
              "      <td>20150127890</td>\n",
              "      <td>Calculando expressões - parte 1</td>\n",
              "      <td>Laboratório 01 - Expressões Aritméticas</td>\n",
              "      <td>2020-09-30</td>\n",
              "      <td>1</td>\n",
              "    </tr>\n",
              "    <tr>\n",
              "      <th>2</th>\n",
              "      <td>20150127890</td>\n",
              "      <td>Calculando expressões - parte 2</td>\n",
              "      <td>Laboratório 01 - Expressões Aritméticas</td>\n",
              "      <td>2020-09-30</td>\n",
              "      <td>4</td>\n",
              "    </tr>\n",
              "    <tr>\n",
              "      <th>3</th>\n",
              "      <td>20150127890</td>\n",
              "      <td>Calculando expressões - parte 3</td>\n",
              "      <td>Laboratório 01 - Expressões Aritméticas</td>\n",
              "      <td>2020-09-30</td>\n",
              "      <td>2</td>\n",
              "    </tr>\n",
              "    <tr>\n",
              "      <th>4</th>\n",
              "      <td>20150127890</td>\n",
              "      <td>Calculando expressões - parte 4</td>\n",
              "      <td>Laboratório 01 - Expressões Aritméticas</td>\n",
              "      <td>2020-09-30</td>\n",
              "      <td>5</td>\n",
              "    </tr>\n",
              "    <tr>\n",
              "      <th>5</th>\n",
              "      <td>20150127890</td>\n",
              "      <td>Calculo de expressão com expoente</td>\n",
              "      <td>Aula - Funções Aritméticas</td>\n",
              "      <td>2020-11-02</td>\n",
              "      <td>41</td>\n",
              "    </tr>\n",
              "    <tr>\n",
              "      <th>6</th>\n",
              "      <td>20150127890</td>\n",
              "      <td>Convertendo de horas para dias</td>\n",
              "      <td>Laboratório 01 - Expressões Aritméticas</td>\n",
              "      <td>2020-11-02</td>\n",
              "      <td>4</td>\n",
              "    </tr>\n",
              "    <tr>\n",
              "      <th>7</th>\n",
              "      <td>20150127890</td>\n",
              "      <td>Convertendo de metros para polegadas</td>\n",
              "      <td>Laboratório 01 - Expressões Aritméticas</td>\n",
              "      <td>2020-10-10</td>\n",
              "      <td>13</td>\n",
              "    </tr>\n",
              "    <tr>\n",
              "      <th>8</th>\n",
              "      <td>20150127890</td>\n",
              "      <td>Convertendo de metros para polegadas</td>\n",
              "      <td>Laboratório 01 - Expressões Aritméticas</td>\n",
              "      <td>2020-11-02</td>\n",
              "      <td>9</td>\n",
              "    </tr>\n",
              "    <tr>\n",
              "      <th>9</th>\n",
              "      <td>20150127890</td>\n",
              "      <td>Convertendo pés, jardas e milhas.</td>\n",
              "      <td>Laboratório 01 - Expressões Aritméticas</td>\n",
              "      <td>2020-11-02</td>\n",
              "      <td>15</td>\n",
              "    </tr>\n",
              "    <tr>\n",
              "      <th>10</th>\n",
              "      <td>20150127890</td>\n",
              "      <td>Cálculo do IMC</td>\n",
              "      <td>Laboratório 01 - Expressões Aritméticas</td>\n",
              "      <td>2020-11-02</td>\n",
              "      <td>2</td>\n",
              "    </tr>\n",
              "    <tr>\n",
              "      <th>11</th>\n",
              "      <td>20150127890</td>\n",
              "      <td>Fórmula de Bháskara</td>\n",
              "      <td>Aula - Introdução Expressões Aritiméticas</td>\n",
              "      <td>2020-11-02</td>\n",
              "      <td>7</td>\n",
              "    </tr>\n",
              "    <tr>\n",
              "      <th>12</th>\n",
              "      <td>20150127890</td>\n",
              "      <td>Imprimindo uma mensagem com um valor</td>\n",
              "      <td>Laboratório 01 - Expressões Aritméticas</td>\n",
              "      <td>2020-10-10</td>\n",
              "      <td>3</td>\n",
              "    </tr>\n",
              "    <tr>\n",
              "      <th>13</th>\n",
              "      <td>20150127890</td>\n",
              "      <td>Introdução Soma</td>\n",
              "      <td>Aula - Introdução Expressões Aritiméticas</td>\n",
              "      <td>2020-11-02</td>\n",
              "      <td>21</td>\n",
              "    </tr>\n",
              "    <tr>\n",
              "      <th>14</th>\n",
              "      <td>20150127890</td>\n",
              "      <td>Introdução a Raiz Quadrada</td>\n",
              "      <td>Aula - Introdução Expressões Aritiméticas</td>\n",
              "      <td>2020-11-02</td>\n",
              "      <td>3</td>\n",
              "    </tr>\n",
              "    <tr>\n",
              "      <th>15</th>\n",
              "      <td>20150127890</td>\n",
              "      <td>Programa Bom Dia!</td>\n",
              "      <td>Aula - Introdução Expressões Aritiméticas</td>\n",
              "      <td>2020-11-02</td>\n",
              "      <td>3</td>\n",
              "    </tr>\n",
              "    <tr>\n",
              "      <th>16</th>\n",
              "      <td>20150127890</td>\n",
              "      <td>Raízes de uma equação de segundo grau</td>\n",
              "      <td>Aula - Introdução Expressões Aritiméticas</td>\n",
              "      <td>2020-11-02</td>\n",
              "      <td>11</td>\n",
              "    </tr>\n",
              "    <tr>\n",
              "      <th>17</th>\n",
              "      <td>20150127890</td>\n",
              "      <td>É preciso praticar muito!</td>\n",
              "      <td>Laboratório 01 - Expressões Aritméticas</td>\n",
              "      <td>2020-09-28</td>\n",
              "      <td>1</td>\n",
              "    </tr>\n",
              "    <tr>\n",
              "      <th>18</th>\n",
              "      <td>20150127890</td>\n",
              "      <td>É preciso praticar muito!</td>\n",
              "      <td>Laboratório 01 - Expressões Aritméticas</td>\n",
              "      <td>2020-09-30</td>\n",
              "      <td>1</td>\n",
              "    </tr>\n",
              "    <tr>\n",
              "      <th>19</th>\n",
              "      <td>20160143313</td>\n",
              "      <td>Calculando expressões - parte 1</td>\n",
              "      <td>Laboratório 01 - Expressões Aritméticas</td>\n",
              "      <td>2020-03-03</td>\n",
              "      <td>2</td>\n",
              "    </tr>\n",
              "  </tbody>\n",
              "</table>\n",
              "</div>"
            ],
            "text/plain": [
              "    registration  ... differentDays\n",
              "0    20150127890  ...             1\n",
              "1    20150127890  ...             1\n",
              "2    20150127890  ...             4\n",
              "3    20150127890  ...             2\n",
              "4    20150127890  ...             5\n",
              "5    20150127890  ...            41\n",
              "6    20150127890  ...             4\n",
              "7    20150127890  ...            13\n",
              "8    20150127890  ...             9\n",
              "9    20150127890  ...            15\n",
              "10   20150127890  ...             2\n",
              "11   20150127890  ...             7\n",
              "12   20150127890  ...             3\n",
              "13   20150127890  ...            21\n",
              "14   20150127890  ...             3\n",
              "15   20150127890  ...             3\n",
              "16   20150127890  ...            11\n",
              "17   20150127890  ...             1\n",
              "18   20150127890  ...             1\n",
              "19   20160143313  ...             2\n",
              "\n",
              "[20 rows x 5 columns]"
            ]
          },
          "metadata": {
            "tags": []
          },
          "execution_count": 72
        }
      ]
    },
    {
      "cell_type": "code",
      "metadata": {
        "id": "Qact29ROIleo"
      },
      "source": [
        "df_submission[df_submission[\"timeInSecounds\"] > 0].groupby(['registration','question','list'])['dateSubmission'].value_counts()"
      ],
      "execution_count": null,
      "outputs": []
    },
    {
      "cell_type": "code",
      "metadata": {
        "id": "2R6MxMADIc7P"
      },
      "source": [
        "#Tentar outra maneiras "
      ],
      "execution_count": null,
      "outputs": []
    },
    {
      "cell_type": "code",
      "metadata": {
        "id": "qroky0jUu7SY"
      },
      "source": [
        "df_user_secounds_days = pd.merge(df_user_secounds, df_user_days, on=['registration','question','list'])"
      ],
      "execution_count": 51,
      "outputs": []
    },
    {
      "cell_type": "code",
      "metadata": {
        "colab": {
          "base_uri": "https://localhost:8080/",
          "height": 108
        },
        "id": "Z9soM7qbvPfy",
        "outputId": "d189d099-27e8-413f-9e14-7e2f2e3c00bc"
      },
      "source": [
        "df_user_secounds_days.head(2)"
      ],
      "execution_count": 52,
      "outputs": [
        {
          "output_type": "execute_result",
          "data": {
            "text/html": [
              "<div>\n",
              "<style scoped>\n",
              "    .dataframe tbody tr th:only-of-type {\n",
              "        vertical-align: middle;\n",
              "    }\n",
              "\n",
              "    .dataframe tbody tr th {\n",
              "        vertical-align: top;\n",
              "    }\n",
              "\n",
              "    .dataframe thead th {\n",
              "        text-align: right;\n",
              "    }\n",
              "</style>\n",
              "<table border=\"1\" class=\"dataframe\">\n",
              "  <thead>\n",
              "    <tr style=\"text-align: right;\">\n",
              "      <th></th>\n",
              "      <th>registration</th>\n",
              "      <th>question</th>\n",
              "      <th>list</th>\n",
              "      <th>totalSecounds</th>\n",
              "      <th>dateSubmission</th>\n",
              "      <th>differentDays</th>\n",
              "    </tr>\n",
              "  </thead>\n",
              "  <tbody>\n",
              "    <tr>\n",
              "      <th>0</th>\n",
              "      <td>20150127890</td>\n",
              "      <td>Calculando expressões - parte 1</td>\n",
              "      <td>Laboratório 01 - Expressões Aritméticas</td>\n",
              "      <td>238</td>\n",
              "      <td>2020-09-28</td>\n",
              "      <td>1</td>\n",
              "    </tr>\n",
              "    <tr>\n",
              "      <th>1</th>\n",
              "      <td>20150127890</td>\n",
              "      <td>Calculando expressões - parte 1</td>\n",
              "      <td>Laboratório 01 - Expressões Aritméticas</td>\n",
              "      <td>238</td>\n",
              "      <td>2020-09-30</td>\n",
              "      <td>1</td>\n",
              "    </tr>\n",
              "  </tbody>\n",
              "</table>\n",
              "</div>"
            ],
            "text/plain": [
              "   registration                         question  ... dateSubmission  differentDays\n",
              "0   20150127890  Calculando expressões - parte 1  ...     2020-09-28              1\n",
              "1   20150127890  Calculando expressões - parte 1  ...     2020-09-30              1\n",
              "\n",
              "[2 rows x 6 columns]"
            ]
          },
          "metadata": {
            "tags": []
          },
          "execution_count": 52
        }
      ]
    },
    {
      "cell_type": "markdown",
      "metadata": {
        "id": "-VZyZM3ACSIJ"
      },
      "source": [
        "Adicionando o campo nome"
      ]
    },
    {
      "cell_type": "code",
      "metadata": {
        "id": "3iXtPj7wCVP6"
      },
      "source": [
        "df_user_secounds_days = pd.merge(df_user_secounds_days, df_submission[['user','registration']].drop_duplicates(), on='registration')"
      ],
      "execution_count": 53,
      "outputs": []
    },
    {
      "cell_type": "code",
      "metadata": {
        "colab": {
          "base_uri": "https://localhost:8080/",
          "height": 108
        },
        "id": "jmWSqQNBCeB8",
        "outputId": "569474cf-3e13-46be-a8b9-08d749cfed37"
      },
      "source": [
        "df_user_secounds_days.head(2)"
      ],
      "execution_count": 54,
      "outputs": [
        {
          "output_type": "execute_result",
          "data": {
            "text/html": [
              "<div>\n",
              "<style scoped>\n",
              "    .dataframe tbody tr th:only-of-type {\n",
              "        vertical-align: middle;\n",
              "    }\n",
              "\n",
              "    .dataframe tbody tr th {\n",
              "        vertical-align: top;\n",
              "    }\n",
              "\n",
              "    .dataframe thead th {\n",
              "        text-align: right;\n",
              "    }\n",
              "</style>\n",
              "<table border=\"1\" class=\"dataframe\">\n",
              "  <thead>\n",
              "    <tr style=\"text-align: right;\">\n",
              "      <th></th>\n",
              "      <th>registration</th>\n",
              "      <th>question</th>\n",
              "      <th>list</th>\n",
              "      <th>totalSecounds</th>\n",
              "      <th>dateSubmission</th>\n",
              "      <th>differentDays</th>\n",
              "      <th>user</th>\n",
              "    </tr>\n",
              "  </thead>\n",
              "  <tbody>\n",
              "    <tr>\n",
              "      <th>0</th>\n",
              "      <td>20150127890</td>\n",
              "      <td>Calculando expressões - parte 1</td>\n",
              "      <td>Laboratório 01 - Expressões Aritméticas</td>\n",
              "      <td>238</td>\n",
              "      <td>2020-09-28</td>\n",
              "      <td>1</td>\n",
              "      <td>Rosa Beatriz</td>\n",
              "    </tr>\n",
              "    <tr>\n",
              "      <th>1</th>\n",
              "      <td>20150127890</td>\n",
              "      <td>Calculando expressões - parte 1</td>\n",
              "      <td>Laboratório 01 - Expressões Aritméticas</td>\n",
              "      <td>238</td>\n",
              "      <td>2020-09-30</td>\n",
              "      <td>1</td>\n",
              "      <td>Rosa Beatriz</td>\n",
              "    </tr>\n",
              "  </tbody>\n",
              "</table>\n",
              "</div>"
            ],
            "text/plain": [
              "   registration                         question  ... differentDays           user\n",
              "0   20150127890  Calculando expressões - parte 1  ...             1  Rosa Beatriz \n",
              "1   20150127890  Calculando expressões - parte 1  ...             1  Rosa Beatriz \n",
              "\n",
              "[2 rows x 7 columns]"
            ]
          },
          "metadata": {
            "tags": []
          },
          "execution_count": 54
        }
      ]
    },
    {
      "cell_type": "markdown",
      "metadata": {
        "id": "RvCtKwA2Exdh"
      },
      "source": [
        "Teve um aluno que submeteu a mesma questão em 139 dias diferentes, repetente? Tem submissão de março(20.1), de setembro (20.5) e agora no fim do ano (20.6). Reaproveitar turma se torna um problema na interpretação de dados. Sugestão que fica pra esses casos é aplicar um recorte no tempo"
      ]
    },
    {
      "cell_type": "code",
      "metadata": {
        "colab": {
          "base_uri": "https://localhost:8080/",
          "height": 419
        },
        "id": "jVcGDR0YEwHz",
        "outputId": "21941630-7847-49e7-f70f-e36d152366a5"
      },
      "source": [
        "df_user_secounds_days.sort_values(by='differentDays')"
      ],
      "execution_count": null,
      "outputs": [
        {
          "output_type": "execute_result",
          "data": {
            "text/html": [
              "<div>\n",
              "<style scoped>\n",
              "    .dataframe tbody tr th:only-of-type {\n",
              "        vertical-align: middle;\n",
              "    }\n",
              "\n",
              "    .dataframe tbody tr th {\n",
              "        vertical-align: top;\n",
              "    }\n",
              "\n",
              "    .dataframe thead th {\n",
              "        text-align: right;\n",
              "    }\n",
              "</style>\n",
              "<table border=\"1\" class=\"dataframe\">\n",
              "  <thead>\n",
              "    <tr style=\"text-align: right;\">\n",
              "      <th></th>\n",
              "      <th>registration</th>\n",
              "      <th>question</th>\n",
              "      <th>totalSecounds</th>\n",
              "      <th>dateSubmission</th>\n",
              "      <th>diferentDays</th>\n",
              "      <th>user</th>\n",
              "    </tr>\n",
              "  </thead>\n",
              "  <tbody>\n",
              "    <tr>\n",
              "      <th>0</th>\n",
              "      <td>20150127890</td>\n",
              "      <td>Calculando expressões - parte 1</td>\n",
              "      <td>238</td>\n",
              "      <td>2020-09-28</td>\n",
              "      <td>1</td>\n",
              "      <td>Rosa Beatriz</td>\n",
              "    </tr>\n",
              "    <tr>\n",
              "      <th>4246</th>\n",
              "      <td>20190107363</td>\n",
              "      <td>Contagem progressiva até 10</td>\n",
              "      <td>87</td>\n",
              "      <td>2020-10-09</td>\n",
              "      <td>1</td>\n",
              "      <td>Eliabe</td>\n",
              "    </tr>\n",
              "    <tr>\n",
              "      <th>4245</th>\n",
              "      <td>20190107363</td>\n",
              "      <td>Contagem de 22 a 53</td>\n",
              "      <td>2463</td>\n",
              "      <td>2020-11-13</td>\n",
              "      <td>1</td>\n",
              "      <td>Eliabe</td>\n",
              "    </tr>\n",
              "    <tr>\n",
              "      <th>4243</th>\n",
              "      <td>20190107363</td>\n",
              "      <td>Compara com 20</td>\n",
              "      <td>101</td>\n",
              "      <td>2020-09-30</td>\n",
              "      <td>1</td>\n",
              "      <td>Eliabe</td>\n",
              "    </tr>\n",
              "    <tr>\n",
              "      <th>4242</th>\n",
              "      <td>20190107363</td>\n",
              "      <td>Compara com 10</td>\n",
              "      <td>38</td>\n",
              "      <td>2020-09-30</td>\n",
              "      <td>1</td>\n",
              "      <td>Eliabe</td>\n",
              "    </tr>\n",
              "    <tr>\n",
              "      <th>...</th>\n",
              "      <td>...</td>\n",
              "      <td>...</td>\n",
              "      <td>...</td>\n",
              "      <td>...</td>\n",
              "      <td>...</td>\n",
              "      <td>...</td>\n",
              "    </tr>\n",
              "    <tr>\n",
              "      <th>3765</th>\n",
              "      <td>20190084026</td>\n",
              "      <td>Índice de Massa Corporal (IMC)  - parte 2</td>\n",
              "      <td>12948</td>\n",
              "      <td>2020-03-17</td>\n",
              "      <td>66</td>\n",
              "      <td>Arthur Davi de Souza</td>\n",
              "    </tr>\n",
              "    <tr>\n",
              "      <th>3339</th>\n",
              "      <td>20190083646</td>\n",
              "      <td>Conversão de Temperatura entre paises</td>\n",
              "      <td>19395</td>\n",
              "      <td>2020-09-21</td>\n",
              "      <td>71</td>\n",
              "      <td>Pedro</td>\n",
              "    </tr>\n",
              "    <tr>\n",
              "      <th>3432</th>\n",
              "      <td>20190083646</td>\n",
              "      <td>Pare no 22</td>\n",
              "      <td>85188</td>\n",
              "      <td>2020-10-18</td>\n",
              "      <td>72</td>\n",
              "      <td>Pedro</td>\n",
              "    </tr>\n",
              "    <tr>\n",
              "      <th>3392</th>\n",
              "      <td>20190083646</td>\n",
              "      <td>Impar ou multiplo de 6</td>\n",
              "      <td>51672</td>\n",
              "      <td>2020-09-21</td>\n",
              "      <td>100</td>\n",
              "      <td>Pedro</td>\n",
              "    </tr>\n",
              "    <tr>\n",
              "      <th>3302</th>\n",
              "      <td>20190083646</td>\n",
              "      <td>A média de 4 alunos</td>\n",
              "      <td>39539</td>\n",
              "      <td>2020-10-15</td>\n",
              "      <td>139</td>\n",
              "      <td>Pedro</td>\n",
              "    </tr>\n",
              "  </tbody>\n",
              "</table>\n",
              "<p>6246 rows × 6 columns</p>\n",
              "</div>"
            ],
            "text/plain": [
              "      registration  ...                   user\n",
              "0      20150127890  ...          Rosa Beatriz \n",
              "4246   20190107363  ...                Eliabe \n",
              "4245   20190107363  ...                Eliabe \n",
              "4243   20190107363  ...                Eliabe \n",
              "4242   20190107363  ...                Eliabe \n",
              "...            ...  ...                    ...\n",
              "3765   20190084026  ...  Arthur Davi de Souza \n",
              "3339   20190083646  ...                 Pedro \n",
              "3432   20190083646  ...                 Pedro \n",
              "3392   20190083646  ...                 Pedro \n",
              "3302   20190083646  ...                 Pedro \n",
              "\n",
              "[6246 rows x 6 columns]"
            ]
          },
          "metadata": {
            "tags": []
          },
          "execution_count": 183
        }
      ]
    },
    {
      "cell_type": "markdown",
      "metadata": {
        "id": "leLDcdPN2ROR"
      },
      "source": [
        "Pra uma turma o gráfico não faz sentido, mas passa a fazer se você analisa 1 usuário por vez. Gráfico por aluno, o tempo gasto por questão e o total de dias diferentes que ele tentou"
      ]
    },
    {
      "cell_type": "code",
      "metadata": {
        "colab": {
          "base_uri": "https://localhost:8080/",
          "height": 542
        },
        "id": "vdgaPPe-vuj3",
        "outputId": "d3db7726-0722-48e6-b106-d41a3bdb3898"
      },
      "source": [
        "px.scatter(data_frame=df_user_secounds_days[df_user_secounds_days['user'].str.contains('ANDERSON DA SILVA VALE')]\t, y = 'totalSecounds', x = 'differentDays', color='question') "
      ],
      "execution_count": 37,
      "outputs": [
        {
          "output_type": "display_data",
          "data": {
            "text/html": [
              "<html>\n",
              "<head><meta charset=\"utf-8\" /></head>\n",
              "<body>\n",
              "    <div>\n",
              "            <script src=\"https://cdnjs.cloudflare.com/ajax/libs/mathjax/2.7.5/MathJax.js?config=TeX-AMS-MML_SVG\"></script><script type=\"text/javascript\">if (window.MathJax) {MathJax.Hub.Config({SVG: {font: \"STIX-Web\"}});}</script>\n",
              "                <script type=\"text/javascript\">window.PlotlyConfig = {MathJaxConfig: 'local'};</script>\n",
              "        <script src=\"https://cdn.plot.ly/plotly-latest.min.js\"></script>    \n",
              "            <div id=\"ee04f7c8-8a9e-40c7-a268-4a8c7a695ffd\" class=\"plotly-graph-div\" style=\"height:525px; width:100%;\"></div>\n",
              "            <script type=\"text/javascript\">\n",
              "                \n",
              "                    window.PLOTLYENV=window.PLOTLYENV || {};\n",
              "                    \n",
              "                if (document.getElementById(\"ee04f7c8-8a9e-40c7-a268-4a8c7a695ffd\")) {\n",
              "                    Plotly.newPlot(\n",
              "                        'ee04f7c8-8a9e-40c7-a268-4a8c7a695ffd',\n",
              "                        [{\"hoverlabel\": {\"namelength\": 0}, \"hovertemplate\": \"question=Calculando express\\u00f5es - parte 1<br>differentDays=%{x}<br>totalSecounds=%{y}\", \"legendgroup\": \"question=Calculando express\\u00f5es - parte 1\", \"marker\": {\"color\": \"#636efa\", \"symbol\": \"circle\"}, \"mode\": \"markers\", \"name\": \"question=Calculando express\\u00f5es - parte 1\", \"showlegend\": true, \"type\": \"scatter\", \"x\": [6], \"xaxis\": \"x\", \"y\": [316], \"yaxis\": \"y\"}, {\"hoverlabel\": {\"namelength\": 0}, \"hovertemplate\": \"question=Calculando express\\u00f5es - parte 2<br>differentDays=%{x}<br>totalSecounds=%{y}\", \"legendgroup\": \"question=Calculando express\\u00f5es - parte 2\", \"marker\": {\"color\": \"#EF553B\", \"symbol\": \"circle\"}, \"mode\": \"markers\", \"name\": \"question=Calculando express\\u00f5es - parte 2\", \"showlegend\": true, \"type\": \"scatter\", \"x\": [1], \"xaxis\": \"x\", \"y\": [202], \"yaxis\": \"y\"}, {\"hoverlabel\": {\"namelength\": 0}, \"hovertemplate\": \"question=Calculando express\\u00f5es - parte 3<br>differentDays=%{x}<br>totalSecounds=%{y}\", \"legendgroup\": \"question=Calculando express\\u00f5es - parte 3\", \"marker\": {\"color\": \"#00cc96\", \"symbol\": \"circle\"}, \"mode\": \"markers\", \"name\": \"question=Calculando express\\u00f5es - parte 3\", \"showlegend\": true, \"type\": \"scatter\", \"x\": [1], \"xaxis\": \"x\", \"y\": [220], \"yaxis\": \"y\"}, {\"hoverlabel\": {\"namelength\": 0}, \"hovertemplate\": \"question=Calculando express\\u00f5es - parte 4<br>differentDays=%{x}<br>totalSecounds=%{y}\", \"legendgroup\": \"question=Calculando express\\u00f5es - parte 4\", \"marker\": {\"color\": \"#ab63fa\", \"symbol\": \"circle\"}, \"mode\": \"markers\", \"name\": \"question=Calculando express\\u00f5es - parte 4\", \"showlegend\": true, \"type\": \"scatter\", \"x\": [1], \"xaxis\": \"x\", \"y\": [231], \"yaxis\": \"y\"}, {\"hoverlabel\": {\"namelength\": 0}, \"hovertemplate\": \"question=Calculando express\\u00f5es com raiz<br>differentDays=%{x}<br>totalSecounds=%{y}\", \"legendgroup\": \"question=Calculando express\\u00f5es com raiz\", \"marker\": {\"color\": \"#FFA15A\", \"symbol\": \"circle\"}, \"mode\": \"markers\", \"name\": \"question=Calculando express\\u00f5es com raiz\", \"showlegend\": true, \"type\": \"scatter\", \"x\": [1], \"xaxis\": \"x\", \"y\": [332], \"yaxis\": \"y\"}, {\"hoverlabel\": {\"namelength\": 0}, \"hovertemplate\": \"question=Calcular express\\u00f5es<br>differentDays=%{x}<br>totalSecounds=%{y}\", \"legendgroup\": \"question=Calcular express\\u00f5es\", \"marker\": {\"color\": \"#19d3f3\", \"symbol\": \"circle\"}, \"mode\": \"markers\", \"name\": \"question=Calcular express\\u00f5es\", \"showlegend\": true, \"type\": \"scatter\", \"x\": [4], \"xaxis\": \"x\", \"y\": [1663], \"yaxis\": \"y\"}, {\"hoverlabel\": {\"namelength\": 0}, \"hovertemplate\": \"question=Calculo de express\\u00e3o com expoente<br>differentDays=%{x}<br>totalSecounds=%{y}\", \"legendgroup\": \"question=Calculo de express\\u00e3o com expoente\", \"marker\": {\"color\": \"#FF6692\", \"symbol\": \"circle\"}, \"mode\": \"markers\", \"name\": \"question=Calculo de express\\u00e3o com expoente\", \"showlegend\": true, \"type\": \"scatter\", \"x\": [1], \"xaxis\": \"x\", \"y\": [529], \"yaxis\": \"y\"}, {\"hoverlabel\": {\"namelength\": 0}, \"hovertemplate\": \"question=Comiss\\u00e3o do gar\\u00e7om no restaurante<br>differentDays=%{x}<br>totalSecounds=%{y}\", \"legendgroup\": \"question=Comiss\\u00e3o do gar\\u00e7om no restaurante\", \"marker\": {\"color\": \"#B6E880\", \"symbol\": \"circle\"}, \"mode\": \"markers\", \"name\": \"question=Comiss\\u00e3o do gar\\u00e7om no restaurante\", \"showlegend\": true, \"type\": \"scatter\", \"x\": [17], \"xaxis\": \"x\", \"y\": [1560], \"yaxis\": \"y\"}, {\"hoverlabel\": {\"namelength\": 0}, \"hovertemplate\": \"question=Convertendo de horas para dias<br>differentDays=%{x}<br>totalSecounds=%{y}\", \"legendgroup\": \"question=Convertendo de horas para dias\", \"marker\": {\"color\": \"#FF97FF\", \"symbol\": \"circle\"}, \"mode\": \"markers\", \"name\": \"question=Convertendo de horas para dias\", \"showlegend\": true, \"type\": \"scatter\", \"x\": [1], \"xaxis\": \"x\", \"y\": [222], \"yaxis\": \"y\"}, {\"hoverlabel\": {\"namelength\": 0}, \"hovertemplate\": \"question=Convertendo de metros para polegadas<br>differentDays=%{x}<br>totalSecounds=%{y}\", \"legendgroup\": \"question=Convertendo de metros para polegadas\", \"marker\": {\"color\": \"#FECB52\", \"symbol\": \"circle\"}, \"mode\": \"markers\", \"name\": \"question=Convertendo de metros para polegadas\", \"showlegend\": true, \"type\": \"scatter\", \"x\": [1], \"xaxis\": \"x\", \"y\": [288], \"yaxis\": \"y\"}, {\"hoverlabel\": {\"namelength\": 0}, \"hovertemplate\": \"question=Convertendo p\\u00e9s, jardas e milhas.<br>differentDays=%{x}<br>totalSecounds=%{y}\", \"legendgroup\": \"question=Convertendo p\\u00e9s, jardas e milhas.\", \"marker\": {\"color\": \"#636efa\", \"symbol\": \"circle\"}, \"mode\": \"markers\", \"name\": \"question=Convertendo p\\u00e9s, jardas e milhas.\", \"showlegend\": true, \"type\": \"scatter\", \"x\": [1], \"xaxis\": \"x\", \"y\": [867], \"yaxis\": \"y\"}, {\"hoverlabel\": {\"namelength\": 0}, \"hovertemplate\": \"question=C\\u00e1lculo do IMC<br>differentDays=%{x}<br>totalSecounds=%{y}\", \"legendgroup\": \"question=C\\u00e1lculo do IMC\", \"marker\": {\"color\": \"#EF553B\", \"symbol\": \"circle\"}, \"mode\": \"markers\", \"name\": \"question=C\\u00e1lculo do IMC\", \"showlegend\": true, \"type\": \"scatter\", \"x\": [1], \"xaxis\": \"x\", \"y\": [276], \"yaxis\": \"y\"}, {\"hoverlabel\": {\"namelength\": 0}, \"hovertemplate\": \"question=Equivalente em dias e horas<br>differentDays=%{x}<br>totalSecounds=%{y}\", \"legendgroup\": \"question=Equivalente em dias e horas\", \"marker\": {\"color\": \"#00cc96\", \"symbol\": \"circle\"}, \"mode\": \"markers\", \"name\": \"question=Equivalente em dias e horas\", \"showlegend\": true, \"type\": \"scatter\", \"x\": [14], \"xaxis\": \"x\", \"y\": [915], \"yaxis\": \"y\"}, {\"hoverlabel\": {\"namelength\": 0}, \"hovertemplate\": \"question=F\\u00f3rmula de Bh\\u00e1skara<br>differentDays=%{x}<br>totalSecounds=%{y}\", \"legendgroup\": \"question=F\\u00f3rmula de Bh\\u00e1skara\", \"marker\": {\"color\": \"#ab63fa\", \"symbol\": \"circle\"}, \"mode\": \"markers\", \"name\": \"question=F\\u00f3rmula de Bh\\u00e1skara\", \"showlegend\": true, \"type\": \"scatter\", \"x\": [3, 3], \"xaxis\": \"x\", \"y\": [943, 943], \"yaxis\": \"y\"}, {\"hoverlabel\": {\"namelength\": 0}, \"hovertemplate\": \"question=Imprimindo uma mensagem com um valor<br>differentDays=%{x}<br>totalSecounds=%{y}\", \"legendgroup\": \"question=Imprimindo uma mensagem com um valor\", \"marker\": {\"color\": \"#FFA15A\", \"symbol\": \"circle\"}, \"mode\": \"markers\", \"name\": \"question=Imprimindo uma mensagem com um valor\", \"showlegend\": true, \"type\": \"scatter\", \"x\": [1], \"xaxis\": \"x\", \"y\": [148], \"yaxis\": \"y\"}, {\"hoverlabel\": {\"namelength\": 0}, \"hovertemplate\": \"question=Introdu\\u00e7\\u00e3o Soma<br>differentDays=%{x}<br>totalSecounds=%{y}\", \"legendgroup\": \"question=Introdu\\u00e7\\u00e3o Soma\", \"marker\": {\"color\": \"#19d3f3\", \"symbol\": \"circle\"}, \"mode\": \"markers\", \"name\": \"question=Introdu\\u00e7\\u00e3o Soma\", \"showlegend\": true, \"type\": \"scatter\", \"x\": [5, 1], \"xaxis\": \"x\", \"y\": [1119, 1119], \"yaxis\": \"y\"}, {\"hoverlabel\": {\"namelength\": 0}, \"hovertemplate\": \"question=Introdu\\u00e7\\u00e3o a Raiz Quadrada<br>differentDays=%{x}<br>totalSecounds=%{y}\", \"legendgroup\": \"question=Introdu\\u00e7\\u00e3o a Raiz Quadrada\", \"marker\": {\"color\": \"#FF6692\", \"symbol\": \"circle\"}, \"mode\": \"markers\", \"name\": \"question=Introdu\\u00e7\\u00e3o a Raiz Quadrada\", \"showlegend\": true, \"type\": \"scatter\", \"x\": [3, 1], \"xaxis\": \"x\", \"y\": [302, 302], \"yaxis\": \"y\"}, {\"hoverlabel\": {\"namelength\": 0}, \"hovertemplate\": \"question=M\\u00e9dia Ponderada<br>differentDays=%{x}<br>totalSecounds=%{y}\", \"legendgroup\": \"question=M\\u00e9dia Ponderada\", \"marker\": {\"color\": \"#B6E880\", \"symbol\": \"circle\"}, \"mode\": \"markers\", \"name\": \"question=M\\u00e9dia Ponderada\", \"showlegend\": true, \"type\": \"scatter\", \"x\": [1], \"xaxis\": \"x\", \"y\": [322], \"yaxis\": \"y\"}, {\"hoverlabel\": {\"namelength\": 0}, \"hovertemplate\": \"question=Per\\u00edmetro de raio R<br>differentDays=%{x}<br>totalSecounds=%{y}\", \"legendgroup\": \"question=Per\\u00edmetro de raio R\", \"marker\": {\"color\": \"#FF97FF\", \"symbol\": \"circle\"}, \"mode\": \"markers\", \"name\": \"question=Per\\u00edmetro de raio R\", \"showlegend\": true, \"type\": \"scatter\", \"x\": [1, 1], \"xaxis\": \"x\", \"y\": [1276, 1276], \"yaxis\": \"y\"}, {\"hoverlabel\": {\"namelength\": 0}, \"hovertemplate\": \"question=Programa Bom Dia!<br>differentDays=%{x}<br>totalSecounds=%{y}\", \"legendgroup\": \"question=Programa Bom Dia!\", \"marker\": {\"color\": \"#FECB52\", \"symbol\": \"circle\"}, \"mode\": \"markers\", \"name\": \"question=Programa Bom Dia!\", \"showlegend\": true, \"type\": \"scatter\", \"x\": [2, 1], \"xaxis\": \"x\", \"y\": [1055, 1055], \"yaxis\": \"y\"}, {\"hoverlabel\": {\"namelength\": 0}, \"hovertemplate\": \"question=Ra\\u00edzes de uma equa\\u00e7\\u00e3o de segundo grau<br>differentDays=%{x}<br>totalSecounds=%{y}\", \"legendgroup\": \"question=Ra\\u00edzes de uma equa\\u00e7\\u00e3o de segundo grau\", \"marker\": {\"color\": \"#636efa\", \"symbol\": \"circle\"}, \"mode\": \"markers\", \"name\": \"question=Ra\\u00edzes de uma equa\\u00e7\\u00e3o de segundo grau\", \"showlegend\": true, \"type\": \"scatter\", \"x\": [5], \"xaxis\": \"x\", \"y\": [2035], \"yaxis\": \"y\"}, {\"hoverlabel\": {\"namelength\": 0}, \"hovertemplate\": \"question=Resto da divis\\u00e3o inteira<br>differentDays=%{x}<br>totalSecounds=%{y}\", \"legendgroup\": \"question=Resto da divis\\u00e3o inteira\", \"marker\": {\"color\": \"#EF553B\", \"symbol\": \"circle\"}, \"mode\": \"markers\", \"name\": \"question=Resto da divis\\u00e3o inteira\", \"showlegend\": true, \"type\": \"scatter\", \"x\": [2], \"xaxis\": \"x\", \"y\": [573], \"yaxis\": \"y\"}, {\"hoverlabel\": {\"namelength\": 0}, \"hovertemplate\": \"question=Separando em Dezena e Unidade<br>differentDays=%{x}<br>totalSecounds=%{y}\", \"legendgroup\": \"question=Separando em Dezena e Unidade\", \"marker\": {\"color\": \"#00cc96\", \"symbol\": \"circle\"}, \"mode\": \"markers\", \"name\": \"question=Separando em Dezena e Unidade\", \"showlegend\": true, \"type\": \"scatter\", \"x\": [2], \"xaxis\": \"x\", \"y\": [441], \"yaxis\": \"y\"}, {\"hoverlabel\": {\"namelength\": 0}, \"hovertemplate\": \"question=Sistema Inteligente - Identifica\\u00e7\\u00e3o de Esp\\u00e9cie de P\\u00e1ssaro<br>differentDays=%{x}<br>totalSecounds=%{y}\", \"legendgroup\": \"question=Sistema Inteligente - Identifica\\u00e7\\u00e3o de Esp\\u00e9cie de P\\u00e1ssaro\", \"marker\": {\"color\": \"#ab63fa\", \"symbol\": \"circle\"}, \"mode\": \"markers\", \"name\": \"question=Sistema Inteligente - Identifica\\u00e7\\u00e3o de Esp\\u00e9cie de P\\u00e1ssaro\", \"showlegend\": true, \"type\": \"scatter\", \"x\": [3], \"xaxis\": \"x\", \"y\": [606], \"yaxis\": \"y\"}, {\"hoverlabel\": {\"namelength\": 0}, \"hovertemplate\": \"question=Troca de d\\u00edgitos UCD<br>differentDays=%{x}<br>totalSecounds=%{y}\", \"legendgroup\": \"question=Troca de d\\u00edgitos UCD\", \"marker\": {\"color\": \"#FFA15A\", \"symbol\": \"circle\"}, \"mode\": \"markers\", \"name\": \"question=Troca de d\\u00edgitos UCD\", \"showlegend\": true, \"type\": \"scatter\", \"x\": [4], \"xaxis\": \"x\", \"y\": [758], \"yaxis\": \"y\"}, {\"hoverlabel\": {\"namelength\": 0}, \"hovertemplate\": \"question=Troca de d\\u00edgitos UDC<br>differentDays=%{x}<br>totalSecounds=%{y}\", \"legendgroup\": \"question=Troca de d\\u00edgitos UDC\", \"marker\": {\"color\": \"#19d3f3\", \"symbol\": \"circle\"}, \"mode\": \"markers\", \"name\": \"question=Troca de d\\u00edgitos UDC\", \"showlegend\": true, \"type\": \"scatter\", \"x\": [1], \"xaxis\": \"x\", \"y\": [60], \"yaxis\": \"y\"}, {\"hoverlabel\": {\"namelength\": 0}, \"hovertemplate\": \"question=Troca de valores entre vari\\u00e1veis<br>differentDays=%{x}<br>totalSecounds=%{y}\", \"legendgroup\": \"question=Troca de valores entre vari\\u00e1veis\", \"marker\": {\"color\": \"#FF6692\", \"symbol\": \"circle\"}, \"mode\": \"markers\", \"name\": \"question=Troca de valores entre vari\\u00e1veis\", \"showlegend\": true, \"type\": \"scatter\", \"x\": [6], \"xaxis\": \"x\", \"y\": [2090], \"yaxis\": \"y\"}, {\"hoverlabel\": {\"namelength\": 0}, \"hovertemplate\": \"question=\\u00c1rea e Volume do c\\u00edrculo de raio R<br>differentDays=%{x}<br>totalSecounds=%{y}\", \"legendgroup\": \"question=\\u00c1rea e Volume do c\\u00edrculo de raio R\", \"marker\": {\"color\": \"#B6E880\", \"symbol\": \"circle\"}, \"mode\": \"markers\", \"name\": \"question=\\u00c1rea e Volume do c\\u00edrculo de raio R\", \"showlegend\": true, \"type\": \"scatter\", \"x\": [1], \"xaxis\": \"x\", \"y\": [550], \"yaxis\": \"y\"}, {\"hoverlabel\": {\"namelength\": 0}, \"hovertemplate\": \"question=\\u00c9 preciso praticar muito!<br>differentDays=%{x}<br>totalSecounds=%{y}\", \"legendgroup\": \"question=\\u00c9 preciso praticar muito!\", \"marker\": {\"color\": \"#FF97FF\", \"symbol\": \"circle\"}, \"mode\": \"markers\", \"name\": \"question=\\u00c9 preciso praticar muito!\", \"showlegend\": true, \"type\": \"scatter\", \"x\": [2], \"xaxis\": \"x\", \"y\": [129], \"yaxis\": \"y\"}],\n",
              "                        {\"legend\": {\"tracegroupgap\": 0}, \"margin\": {\"t\": 60}, \"template\": {\"data\": {\"bar\": [{\"error_x\": {\"color\": \"#2a3f5f\"}, \"error_y\": {\"color\": \"#2a3f5f\"}, \"marker\": {\"line\": {\"color\": \"#E5ECF6\", \"width\": 0.5}}, \"type\": \"bar\"}], \"barpolar\": [{\"marker\": {\"line\": {\"color\": \"#E5ECF6\", \"width\": 0.5}}, \"type\": \"barpolar\"}], \"carpet\": [{\"aaxis\": {\"endlinecolor\": \"#2a3f5f\", \"gridcolor\": \"white\", \"linecolor\": \"white\", \"minorgridcolor\": \"white\", \"startlinecolor\": \"#2a3f5f\"}, \"baxis\": {\"endlinecolor\": \"#2a3f5f\", \"gridcolor\": \"white\", \"linecolor\": \"white\", \"minorgridcolor\": \"white\", \"startlinecolor\": \"#2a3f5f\"}, \"type\": \"carpet\"}], \"choropleth\": [{\"colorbar\": {\"outlinewidth\": 0, \"ticks\": \"\"}, \"type\": \"choropleth\"}], \"contour\": [{\"colorbar\": {\"outlinewidth\": 0, \"ticks\": \"\"}, \"colorscale\": [[0.0, \"#0d0887\"], [0.1111111111111111, \"#46039f\"], [0.2222222222222222, \"#7201a8\"], [0.3333333333333333, \"#9c179e\"], [0.4444444444444444, \"#bd3786\"], [0.5555555555555556, \"#d8576b\"], [0.6666666666666666, \"#ed7953\"], [0.7777777777777778, \"#fb9f3a\"], [0.8888888888888888, \"#fdca26\"], [1.0, \"#f0f921\"]], \"type\": \"contour\"}], \"contourcarpet\": [{\"colorbar\": {\"outlinewidth\": 0, \"ticks\": \"\"}, \"type\": \"contourcarpet\"}], \"heatmap\": [{\"colorbar\": {\"outlinewidth\": 0, \"ticks\": \"\"}, \"colorscale\": [[0.0, \"#0d0887\"], [0.1111111111111111, \"#46039f\"], [0.2222222222222222, \"#7201a8\"], [0.3333333333333333, \"#9c179e\"], [0.4444444444444444, \"#bd3786\"], [0.5555555555555556, \"#d8576b\"], [0.6666666666666666, \"#ed7953\"], [0.7777777777777778, \"#fb9f3a\"], [0.8888888888888888, \"#fdca26\"], [1.0, \"#f0f921\"]], \"type\": \"heatmap\"}], \"heatmapgl\": [{\"colorbar\": {\"outlinewidth\": 0, \"ticks\": \"\"}, \"colorscale\": [[0.0, \"#0d0887\"], [0.1111111111111111, \"#46039f\"], [0.2222222222222222, \"#7201a8\"], [0.3333333333333333, \"#9c179e\"], [0.4444444444444444, \"#bd3786\"], [0.5555555555555556, \"#d8576b\"], [0.6666666666666666, \"#ed7953\"], [0.7777777777777778, \"#fb9f3a\"], [0.8888888888888888, \"#fdca26\"], [1.0, \"#f0f921\"]], \"type\": \"heatmapgl\"}], \"histogram\": [{\"marker\": {\"colorbar\": {\"outlinewidth\": 0, \"ticks\": \"\"}}, \"type\": \"histogram\"}], \"histogram2d\": [{\"colorbar\": {\"outlinewidth\": 0, \"ticks\": \"\"}, \"colorscale\": [[0.0, \"#0d0887\"], [0.1111111111111111, \"#46039f\"], [0.2222222222222222, \"#7201a8\"], [0.3333333333333333, \"#9c179e\"], [0.4444444444444444, \"#bd3786\"], [0.5555555555555556, \"#d8576b\"], [0.6666666666666666, \"#ed7953\"], [0.7777777777777778, \"#fb9f3a\"], [0.8888888888888888, \"#fdca26\"], [1.0, \"#f0f921\"]], \"type\": \"histogram2d\"}], \"histogram2dcontour\": [{\"colorbar\": {\"outlinewidth\": 0, \"ticks\": \"\"}, \"colorscale\": [[0.0, \"#0d0887\"], [0.1111111111111111, \"#46039f\"], [0.2222222222222222, \"#7201a8\"], [0.3333333333333333, \"#9c179e\"], [0.4444444444444444, \"#bd3786\"], [0.5555555555555556, \"#d8576b\"], [0.6666666666666666, \"#ed7953\"], [0.7777777777777778, \"#fb9f3a\"], [0.8888888888888888, \"#fdca26\"], [1.0, \"#f0f921\"]], \"type\": \"histogram2dcontour\"}], \"mesh3d\": [{\"colorbar\": {\"outlinewidth\": 0, \"ticks\": \"\"}, \"type\": \"mesh3d\"}], \"parcoords\": [{\"line\": {\"colorbar\": {\"outlinewidth\": 0, \"ticks\": \"\"}}, \"type\": \"parcoords\"}], \"pie\": [{\"automargin\": true, \"type\": \"pie\"}], \"scatter\": [{\"marker\": {\"colorbar\": {\"outlinewidth\": 0, \"ticks\": \"\"}}, \"type\": \"scatter\"}], \"scatter3d\": [{\"line\": {\"colorbar\": {\"outlinewidth\": 0, \"ticks\": \"\"}}, \"marker\": {\"colorbar\": {\"outlinewidth\": 0, \"ticks\": \"\"}}, \"type\": \"scatter3d\"}], \"scattercarpet\": [{\"marker\": {\"colorbar\": {\"outlinewidth\": 0, \"ticks\": \"\"}}, \"type\": \"scattercarpet\"}], \"scattergeo\": [{\"marker\": {\"colorbar\": {\"outlinewidth\": 0, \"ticks\": \"\"}}, \"type\": \"scattergeo\"}], \"scattergl\": [{\"marker\": {\"colorbar\": {\"outlinewidth\": 0, \"ticks\": \"\"}}, \"type\": \"scattergl\"}], \"scattermapbox\": [{\"marker\": {\"colorbar\": {\"outlinewidth\": 0, \"ticks\": \"\"}}, \"type\": \"scattermapbox\"}], \"scatterpolar\": [{\"marker\": {\"colorbar\": {\"outlinewidth\": 0, \"ticks\": \"\"}}, \"type\": \"scatterpolar\"}], \"scatterpolargl\": [{\"marker\": {\"colorbar\": {\"outlinewidth\": 0, \"ticks\": \"\"}}, \"type\": \"scatterpolargl\"}], \"scatterternary\": [{\"marker\": {\"colorbar\": {\"outlinewidth\": 0, \"ticks\": \"\"}}, \"type\": \"scatterternary\"}], \"surface\": [{\"colorbar\": {\"outlinewidth\": 0, \"ticks\": \"\"}, \"colorscale\": [[0.0, \"#0d0887\"], [0.1111111111111111, \"#46039f\"], [0.2222222222222222, \"#7201a8\"], [0.3333333333333333, \"#9c179e\"], [0.4444444444444444, \"#bd3786\"], [0.5555555555555556, \"#d8576b\"], [0.6666666666666666, \"#ed7953\"], [0.7777777777777778, \"#fb9f3a\"], [0.8888888888888888, \"#fdca26\"], [1.0, \"#f0f921\"]], \"type\": \"surface\"}], \"table\": [{\"cells\": {\"fill\": {\"color\": \"#EBF0F8\"}, \"line\": {\"color\": \"white\"}}, \"header\": {\"fill\": {\"color\": \"#C8D4E3\"}, \"line\": {\"color\": \"white\"}}, \"type\": \"table\"}]}, \"layout\": {\"annotationdefaults\": {\"arrowcolor\": \"#2a3f5f\", \"arrowhead\": 0, \"arrowwidth\": 1}, \"coloraxis\": {\"colorbar\": {\"outlinewidth\": 0, \"ticks\": \"\"}}, \"colorscale\": {\"diverging\": [[0, \"#8e0152\"], [0.1, \"#c51b7d\"], [0.2, \"#de77ae\"], [0.3, \"#f1b6da\"], [0.4, \"#fde0ef\"], [0.5, \"#f7f7f7\"], [0.6, \"#e6f5d0\"], [0.7, \"#b8e186\"], [0.8, \"#7fbc41\"], [0.9, \"#4d9221\"], [1, \"#276419\"]], \"sequential\": [[0.0, \"#0d0887\"], [0.1111111111111111, \"#46039f\"], [0.2222222222222222, \"#7201a8\"], [0.3333333333333333, \"#9c179e\"], [0.4444444444444444, \"#bd3786\"], [0.5555555555555556, \"#d8576b\"], [0.6666666666666666, \"#ed7953\"], [0.7777777777777778, \"#fb9f3a\"], [0.8888888888888888, \"#fdca26\"], [1.0, \"#f0f921\"]], \"sequentialminus\": [[0.0, \"#0d0887\"], [0.1111111111111111, \"#46039f\"], [0.2222222222222222, \"#7201a8\"], [0.3333333333333333, \"#9c179e\"], [0.4444444444444444, \"#bd3786\"], [0.5555555555555556, \"#d8576b\"], [0.6666666666666666, \"#ed7953\"], [0.7777777777777778, \"#fb9f3a\"], [0.8888888888888888, \"#fdca26\"], [1.0, \"#f0f921\"]]}, \"colorway\": [\"#636efa\", \"#EF553B\", \"#00cc96\", \"#ab63fa\", \"#FFA15A\", \"#19d3f3\", \"#FF6692\", \"#B6E880\", \"#FF97FF\", \"#FECB52\"], \"font\": {\"color\": \"#2a3f5f\"}, \"geo\": {\"bgcolor\": \"white\", \"lakecolor\": \"white\", \"landcolor\": \"#E5ECF6\", \"showlakes\": true, \"showland\": true, \"subunitcolor\": \"white\"}, \"hoverlabel\": {\"align\": \"left\"}, \"hovermode\": \"closest\", \"mapbox\": {\"style\": \"light\"}, \"paper_bgcolor\": \"white\", \"plot_bgcolor\": \"#E5ECF6\", \"polar\": {\"angularaxis\": {\"gridcolor\": \"white\", \"linecolor\": \"white\", \"ticks\": \"\"}, \"bgcolor\": \"#E5ECF6\", \"radialaxis\": {\"gridcolor\": \"white\", \"linecolor\": \"white\", \"ticks\": \"\"}}, \"scene\": {\"xaxis\": {\"backgroundcolor\": \"#E5ECF6\", \"gridcolor\": \"white\", \"gridwidth\": 2, \"linecolor\": \"white\", \"showbackground\": true, \"ticks\": \"\", \"zerolinecolor\": \"white\"}, \"yaxis\": {\"backgroundcolor\": \"#E5ECF6\", \"gridcolor\": \"white\", \"gridwidth\": 2, \"linecolor\": \"white\", \"showbackground\": true, \"ticks\": \"\", \"zerolinecolor\": \"white\"}, \"zaxis\": {\"backgroundcolor\": \"#E5ECF6\", \"gridcolor\": \"white\", \"gridwidth\": 2, \"linecolor\": \"white\", \"showbackground\": true, \"ticks\": \"\", \"zerolinecolor\": \"white\"}}, \"shapedefaults\": {\"line\": {\"color\": \"#2a3f5f\"}}, \"ternary\": {\"aaxis\": {\"gridcolor\": \"white\", \"linecolor\": \"white\", \"ticks\": \"\"}, \"baxis\": {\"gridcolor\": \"white\", \"linecolor\": \"white\", \"ticks\": \"\"}, \"bgcolor\": \"#E5ECF6\", \"caxis\": {\"gridcolor\": \"white\", \"linecolor\": \"white\", \"ticks\": \"\"}}, \"title\": {\"x\": 0.05}, \"xaxis\": {\"automargin\": true, \"gridcolor\": \"white\", \"linecolor\": \"white\", \"ticks\": \"\", \"title\": {\"standoff\": 15}, \"zerolinecolor\": \"white\", \"zerolinewidth\": 2}, \"yaxis\": {\"automargin\": true, \"gridcolor\": \"white\", \"linecolor\": \"white\", \"ticks\": \"\", \"title\": {\"standoff\": 15}, \"zerolinecolor\": \"white\", \"zerolinewidth\": 2}}}, \"xaxis\": {\"anchor\": \"y\", \"domain\": [0.0, 1.0], \"title\": {\"text\": \"differentDays\"}}, \"yaxis\": {\"anchor\": \"x\", \"domain\": [0.0, 1.0], \"title\": {\"text\": \"totalSecounds\"}}},\n",
              "                        {\"responsive\": true}\n",
              "                    ).then(function(){\n",
              "                            \n",
              "var gd = document.getElementById('ee04f7c8-8a9e-40c7-a268-4a8c7a695ffd');\n",
              "var x = new MutationObserver(function (mutations, observer) {{\n",
              "        var display = window.getComputedStyle(gd).display;\n",
              "        if (!display || display === 'none') {{\n",
              "            console.log([gd, 'removed!']);\n",
              "            Plotly.purge(gd);\n",
              "            observer.disconnect();\n",
              "        }}\n",
              "}});\n",
              "\n",
              "// Listen for the removal of the full notebook cells\n",
              "var notebookContainer = gd.closest('#notebook-container');\n",
              "if (notebookContainer) {{\n",
              "    x.observe(notebookContainer, {childList: true});\n",
              "}}\n",
              "\n",
              "// Listen for the clearing of the current output cell\n",
              "var outputEl = gd.closest('.output');\n",
              "if (outputEl) {{\n",
              "    x.observe(outputEl, {childList: true});\n",
              "}}\n",
              "\n",
              "                        })\n",
              "                };\n",
              "                \n",
              "            </script>\n",
              "        </div>\n",
              "</body>\n",
              "</html>"
            ]
          },
          "metadata": {
            "tags": []
          }
        }
      ]
    },
    {
      "cell_type": "code",
      "metadata": {
        "colab": {
          "base_uri": "https://localhost:8080/",
          "height": 145
        },
        "id": "EUs3pNZc-N9Y",
        "outputId": "1b98fe38-a200-46f2-86f2-a1bb58d65240"
      },
      "source": [
        "df_submission.head(2)"
      ],
      "execution_count": null,
      "outputs": [
        {
          "output_type": "execute_result",
          "data": {
            "text/html": [
              "<div>\n",
              "<style scoped>\n",
              "    .dataframe tbody tr th:only-of-type {\n",
              "        vertical-align: middle;\n",
              "    }\n",
              "\n",
              "    .dataframe tbody tr th {\n",
              "        vertical-align: top;\n",
              "    }\n",
              "\n",
              "    .dataframe thead th {\n",
              "        text-align: right;\n",
              "    }\n",
              "</style>\n",
              "<table border=\"1\" class=\"dataframe\">\n",
              "  <thead>\n",
              "    <tr style=\"text-align: right;\">\n",
              "      <th></th>\n",
              "      <th>environment</th>\n",
              "      <th>hitPercentage</th>\n",
              "      <th>language</th>\n",
              "      <th>char_change_number</th>\n",
              "      <th>timeConsuming</th>\n",
              "      <th>createdAt</th>\n",
              "      <th>user</th>\n",
              "      <th>question</th>\n",
              "      <th>list</th>\n",
              "      <th>test</th>\n",
              "      <th>id_class</th>\n",
              "      <th>registration</th>\n",
              "      <th>timeInSecounds</th>\n",
              "      <th>dateSubmission</th>\n",
              "      <th>date</th>\n",
              "    </tr>\n",
              "  </thead>\n",
              "  <tbody>\n",
              "    <tr>\n",
              "      <th>0</th>\n",
              "      <td>desktop</td>\n",
              "      <td>0.0</td>\n",
              "      <td>javascript</td>\n",
              "      <td>656</td>\n",
              "      <td>131984</td>\n",
              "      <td>2021-01-08 03:47:42+00:00</td>\n",
              "      <td>Victor Laranjeira</td>\n",
              "      <td>Menor e posição</td>\n",
              "      <td>Vetores - Lista de Exercícios (LOP)</td>\n",
              "      <td>None</td>\n",
              "      <td>f2dd7bef-5b5d-4cb3-9efa-aa8652af0605</td>\n",
              "      <td>20180110202</td>\n",
              "      <td>131</td>\n",
              "      <td>2021-01-08</td>\n",
              "      <td>2021-01-08 03:47:42+00:00</td>\n",
              "    </tr>\n",
              "    <tr>\n",
              "      <th>1</th>\n",
              "      <td>desktop</td>\n",
              "      <td>0.0</td>\n",
              "      <td>javascript</td>\n",
              "      <td>652</td>\n",
              "      <td>787663</td>\n",
              "      <td>2021-01-08 03:47:05+00:00</td>\n",
              "      <td>Victor Laranjeira</td>\n",
              "      <td>Menor e posição</td>\n",
              "      <td>Vetores - Lista de Exercícios (LOP)</td>\n",
              "      <td>None</td>\n",
              "      <td>f2dd7bef-5b5d-4cb3-9efa-aa8652af0605</td>\n",
              "      <td>20180110202</td>\n",
              "      <td>787</td>\n",
              "      <td>2021-01-08</td>\n",
              "      <td>2021-01-08 03:47:05+00:00</td>\n",
              "    </tr>\n",
              "  </tbody>\n",
              "</table>\n",
              "</div>"
            ],
            "text/plain": [
              "  environment  hitPercentage  ... dateSubmission                      date\n",
              "0     desktop            0.0  ...     2021-01-08 2021-01-08 03:47:42+00:00\n",
              "1     desktop            0.0  ...     2021-01-08 2021-01-08 03:47:05+00:00\n",
              "\n",
              "[2 rows x 15 columns]"
            ]
          },
          "metadata": {
            "tags": []
          },
          "execution_count": 156
        }
      ]
    },
    {
      "cell_type": "markdown",
      "metadata": {
        "id": "lRiD7iGUDM5P"
      },
      "source": [
        "Pegando o tempo máximo gasto por um aluno em uma questão"
      ]
    },
    {
      "cell_type": "code",
      "metadata": {
        "colab": {
          "base_uri": "https://localhost:8080/",
          "height": 108
        },
        "id": "WqWw-aTe96UD",
        "outputId": "25be0cea-755b-420a-d5e3-810a94c0d0de"
      },
      "source": [
        "df_max_time = df_submission[df_submission[\"timeInSecounds\"] > 0].groupby(['question'])['timeInSecounds'].max().reset_index(name='maxTime')\r\n",
        "df_max_time.head(2)"
      ],
      "execution_count": 55,
      "outputs": [
        {
          "output_type": "execute_result",
          "data": {
            "text/html": [
              "<div>\n",
              "<style scoped>\n",
              "    .dataframe tbody tr th:only-of-type {\n",
              "        vertical-align: middle;\n",
              "    }\n",
              "\n",
              "    .dataframe tbody tr th {\n",
              "        vertical-align: top;\n",
              "    }\n",
              "\n",
              "    .dataframe thead th {\n",
              "        text-align: right;\n",
              "    }\n",
              "</style>\n",
              "<table border=\"1\" class=\"dataframe\">\n",
              "  <thead>\n",
              "    <tr style=\"text-align: right;\">\n",
              "      <th></th>\n",
              "      <th>question</th>\n",
              "      <th>maxTime</th>\n",
              "    </tr>\n",
              "  </thead>\n",
              "  <tbody>\n",
              "    <tr>\n",
              "      <th>0</th>\n",
              "      <td>A média de 4 alunos</td>\n",
              "      <td>7958</td>\n",
              "    </tr>\n",
              "    <tr>\n",
              "      <th>1</th>\n",
              "      <td>Altura abaixo da média</td>\n",
              "      <td>822</td>\n",
              "    </tr>\n",
              "  </tbody>\n",
              "</table>\n",
              "</div>"
            ],
            "text/plain": [
              "                 question  maxTime\n",
              "0     A média de 4 alunos     7958\n",
              "1  Altura abaixo da média      822"
            ]
          },
          "metadata": {
            "tags": []
          },
          "execution_count": 55
        }
      ]
    },
    {
      "cell_type": "markdown",
      "metadata": {
        "id": "iSjbcvo3F1YD"
      },
      "source": [
        "A quantidade máxima de dias que um aluno gastou em uma questão"
      ]
    },
    {
      "cell_type": "code",
      "metadata": {
        "colab": {
          "base_uri": "https://localhost:8080/",
          "height": 108
        },
        "id": "7BK5aT_bABBb",
        "outputId": "5f658104-8b56-4f31-a164-2fa48fce631b"
      },
      "source": [
        "df_max_different_days = df_user_secounds_days.groupby('question')['differentDays'].max().reset_index(name='maxDifferentDays')\r\n",
        "df_max_different_days.head(2)"
      ],
      "execution_count": 56,
      "outputs": [
        {
          "output_type": "execute_result",
          "data": {
            "text/html": [
              "<div>\n",
              "<style scoped>\n",
              "    .dataframe tbody tr th:only-of-type {\n",
              "        vertical-align: middle;\n",
              "    }\n",
              "\n",
              "    .dataframe tbody tr th {\n",
              "        vertical-align: top;\n",
              "    }\n",
              "\n",
              "    .dataframe thead th {\n",
              "        text-align: right;\n",
              "    }\n",
              "</style>\n",
              "<table border=\"1\" class=\"dataframe\">\n",
              "  <thead>\n",
              "    <tr style=\"text-align: right;\">\n",
              "      <th></th>\n",
              "      <th>question</th>\n",
              "      <th>maxDifferentDays</th>\n",
              "    </tr>\n",
              "  </thead>\n",
              "  <tbody>\n",
              "    <tr>\n",
              "      <th>0</th>\n",
              "      <td>A média de 4 alunos</td>\n",
              "      <td>139</td>\n",
              "    </tr>\n",
              "    <tr>\n",
              "      <th>1</th>\n",
              "      <td>Altura abaixo da média</td>\n",
              "      <td>8</td>\n",
              "    </tr>\n",
              "  </tbody>\n",
              "</table>\n",
              "</div>"
            ],
            "text/plain": [
              "                 question  maxDifferentDays\n",
              "0     A média de 4 alunos               139\n",
              "1  Altura abaixo da média                 8"
            ]
          },
          "metadata": {
            "tags": []
          },
          "execution_count": 56
        }
      ]
    },
    {
      "cell_type": "code",
      "metadata": {
        "id": "xW8s6wYDF8WJ"
      },
      "source": [
        "df_max_different_days_time = pd.merge(df_max_time, df_max_different_days, on='question')"
      ],
      "execution_count": 40,
      "outputs": []
    },
    {
      "cell_type": "code",
      "metadata": {
        "colab": {
          "base_uri": "https://localhost:8080/",
          "height": 108
        },
        "id": "d6CB9kETGH_i",
        "outputId": "45c05c7c-1978-4439-d184-b6e68becfea4"
      },
      "source": [
        "df_max_different_days_time.head(2)"
      ],
      "execution_count": 41,
      "outputs": [
        {
          "output_type": "execute_result",
          "data": {
            "text/html": [
              "<div>\n",
              "<style scoped>\n",
              "    .dataframe tbody tr th:only-of-type {\n",
              "        vertical-align: middle;\n",
              "    }\n",
              "\n",
              "    .dataframe tbody tr th {\n",
              "        vertical-align: top;\n",
              "    }\n",
              "\n",
              "    .dataframe thead th {\n",
              "        text-align: right;\n",
              "    }\n",
              "</style>\n",
              "<table border=\"1\" class=\"dataframe\">\n",
              "  <thead>\n",
              "    <tr style=\"text-align: right;\">\n",
              "      <th></th>\n",
              "      <th>question</th>\n",
              "      <th>maxTime</th>\n",
              "      <th>maxDifferentDays</th>\n",
              "    </tr>\n",
              "  </thead>\n",
              "  <tbody>\n",
              "    <tr>\n",
              "      <th>0</th>\n",
              "      <td>A média de 4 alunos</td>\n",
              "      <td>7958</td>\n",
              "      <td>139</td>\n",
              "    </tr>\n",
              "    <tr>\n",
              "      <th>1</th>\n",
              "      <td>Altura abaixo da média</td>\n",
              "      <td>822</td>\n",
              "      <td>8</td>\n",
              "    </tr>\n",
              "  </tbody>\n",
              "</table>\n",
              "</div>"
            ],
            "text/plain": [
              "                 question  maxTime  maxDifferentDays\n",
              "0     A média de 4 alunos     7958               139\n",
              "1  Altura abaixo da média      822                 8"
            ]
          },
          "metadata": {
            "tags": []
          },
          "execution_count": 41
        }
      ]
    },
    {
      "cell_type": "markdown",
      "metadata": {
        "id": "BjOPEZ1NGYZ4"
      },
      "source": [
        "Gráfico que em uma turma, verifica o tempo máximo gasto em uma questão e a quantidade máxima de dias diferentes nela"
      ]
    },
    {
      "cell_type": "code",
      "metadata": {
        "colab": {
          "base_uri": "https://localhost:8080/",
          "height": 542
        },
        "id": "n0ehNWEGGMQZ",
        "outputId": "32b95663-1cdb-44ca-9fe8-c368a8d25ca9"
      },
      "source": [
        "px.scatter(data_frame=df_max_different_days_time, y = 'maxTime', x = 'maxDifferentDays', color='question') "
      ],
      "execution_count": 42,
      "outputs": [
        {
          "output_type": "display_data",
          "data": {
            "text/html": [
              "<html>\n",
              "<head><meta charset=\"utf-8\" /></head>\n",
              "<body>\n",
              "    <div>\n",
              "            <script src=\"https://cdnjs.cloudflare.com/ajax/libs/mathjax/2.7.5/MathJax.js?config=TeX-AMS-MML_SVG\"></script><script type=\"text/javascript\">if (window.MathJax) {MathJax.Hub.Config({SVG: {font: \"STIX-Web\"}});}</script>\n",
              "                <script type=\"text/javascript\">window.PlotlyConfig = {MathJaxConfig: 'local'};</script>\n",
              "        <script src=\"https://cdn.plot.ly/plotly-latest.min.js\"></script>    \n",
              "            <div id=\"80382b58-7f84-4c91-91cb-16a613ed1e8e\" class=\"plotly-graph-div\" style=\"height:525px; width:100%;\"></div>\n",
              "            <script type=\"text/javascript\">\n",
              "                \n",
              "                    window.PLOTLYENV=window.PLOTLYENV || {};\n",
              "                    \n",
              "                if (document.getElementById(\"80382b58-7f84-4c91-91cb-16a613ed1e8e\")) {\n",
              "                    Plotly.newPlot(\n",
              "                        '80382b58-7f84-4c91-91cb-16a613ed1e8e',\n",
              "                        [{\"hoverlabel\": {\"namelength\": 0}, \"hovertemplate\": \"question=A m\\u00e9dia de 4 alunos<br>maxDifferentDays=%{x}<br>maxTime=%{y}\", \"legendgroup\": \"question=A m\\u00e9dia de 4 alunos\", \"marker\": {\"color\": \"#636efa\", \"symbol\": \"circle\"}, \"mode\": \"markers\", \"name\": \"question=A m\\u00e9dia de 4 alunos\", \"showlegend\": true, \"type\": \"scatter\", \"x\": [139], \"xaxis\": \"x\", \"y\": [7958], \"yaxis\": \"y\"}, {\"hoverlabel\": {\"namelength\": 0}, \"hovertemplate\": \"question=Altura abaixo da m\\u00e9dia<br>maxDifferentDays=%{x}<br>maxTime=%{y}\", \"legendgroup\": \"question=Altura abaixo da m\\u00e9dia\", \"marker\": {\"color\": \"#EF553B\", \"symbol\": \"circle\"}, \"mode\": \"markers\", \"name\": \"question=Altura abaixo da m\\u00e9dia\", \"showlegend\": true, \"type\": \"scatter\", \"x\": [8], \"xaxis\": \"x\", \"y\": [822], \"yaxis\": \"y\"}, {\"hoverlabel\": {\"namelength\": 0}, \"hovertemplate\": \"question=Altura acima de m\\u00e9dia<br>maxDifferentDays=%{x}<br>maxTime=%{y}\", \"legendgroup\": \"question=Altura acima de m\\u00e9dia\", \"marker\": {\"color\": \"#00cc96\", \"symbol\": \"circle\"}, \"mode\": \"markers\", \"name\": \"question=Altura acima de m\\u00e9dia\", \"showlegend\": true, \"type\": \"scatter\", \"x\": [29], \"xaxis\": \"x\", \"y\": [7405], \"yaxis\": \"y\"}, {\"hoverlabel\": {\"namelength\": 0}, \"hovertemplate\": \"question=Aprendendo a armazenar v\\u00e1rios elementos em um vetor<br>maxDifferentDays=%{x}<br>maxTime=%{y}\", \"legendgroup\": \"question=Aprendendo a armazenar v\\u00e1rios elementos em um vetor\", \"marker\": {\"color\": \"#ab63fa\", \"symbol\": \"circle\"}, \"mode\": \"markers\", \"name\": \"question=Aprendendo a armazenar v\\u00e1rios elementos em um vetor\", \"showlegend\": true, \"type\": \"scatter\", \"x\": [19], \"xaxis\": \"x\", \"y\": [4602], \"yaxis\": \"y\"}, {\"hoverlabel\": {\"namelength\": 0}, \"hovertemplate\": \"question=Aprendendo a somar<br>maxDifferentDays=%{x}<br>maxTime=%{y}\", \"legendgroup\": \"question=Aprendendo a somar\", \"marker\": {\"color\": \"#FFA15A\", \"symbol\": \"circle\"}, \"mode\": \"markers\", \"name\": \"question=Aprendendo a somar\", \"showlegend\": true, \"type\": \"scatter\", \"x\": [42], \"xaxis\": \"x\", \"y\": [6240], \"yaxis\": \"y\"}, {\"hoverlabel\": {\"namelength\": 0}, \"hovertemplate\": \"question=Aprendendo a usar repeti\\u00e7\\u00e3o aninhada<br>maxDifferentDays=%{x}<br>maxTime=%{y}\", \"legendgroup\": \"question=Aprendendo a usar repeti\\u00e7\\u00e3o aninhada\", \"marker\": {\"color\": \"#19d3f3\", \"symbol\": \"circle\"}, \"mode\": \"markers\", \"name\": \"question=Aprendendo a usar repeti\\u00e7\\u00e3o aninhada\", \"showlegend\": true, \"type\": \"scatter\", \"x\": [7], \"xaxis\": \"x\", \"y\": [1920], \"yaxis\": \"y\"}, {\"hoverlabel\": {\"namelength\": 0}, \"hovertemplate\": \"question=Aprendendo a usar um Vetor<br>maxDifferentDays=%{x}<br>maxTime=%{y}\", \"legendgroup\": \"question=Aprendendo a usar um Vetor\", \"marker\": {\"color\": \"#FF6692\", \"symbol\": \"circle\"}, \"mode\": \"markers\", \"name\": \"question=Aprendendo a usar um Vetor\", \"showlegend\": true, \"type\": \"scatter\", \"x\": [5], \"xaxis\": \"x\", \"y\": [3952], \"yaxis\": \"y\"}, {\"hoverlabel\": {\"namelength\": 0}, \"hovertemplate\": \"question=Buscar em vetor<br>maxDifferentDays=%{x}<br>maxTime=%{y}\", \"legendgroup\": \"question=Buscar em vetor\", \"marker\": {\"color\": \"#B6E880\", \"symbol\": \"circle\"}, \"mode\": \"markers\", \"name\": \"question=Buscar em vetor\", \"showlegend\": true, \"type\": \"scatter\", \"x\": [6], \"xaxis\": \"x\", \"y\": [1183], \"yaxis\": \"y\"}, {\"hoverlabel\": {\"namelength\": 0}, \"hovertemplate\": \"question=Calculando express\\u00f5es - parte 1<br>maxDifferentDays=%{x}<br>maxTime=%{y}\", \"legendgroup\": \"question=Calculando express\\u00f5es - parte 1\", \"marker\": {\"color\": \"#FF97FF\", \"symbol\": \"circle\"}, \"mode\": \"markers\", \"name\": \"question=Calculando express\\u00f5es - parte 1\", \"showlegend\": true, \"type\": \"scatter\", \"x\": [12], \"xaxis\": \"x\", \"y\": [7224], \"yaxis\": \"y\"}, {\"hoverlabel\": {\"namelength\": 0}, \"hovertemplate\": \"question=Calculando express\\u00f5es - parte 2<br>maxDifferentDays=%{x}<br>maxTime=%{y}\", \"legendgroup\": \"question=Calculando express\\u00f5es - parte 2\", \"marker\": {\"color\": \"#FECB52\", \"symbol\": \"circle\"}, \"mode\": \"markers\", \"name\": \"question=Calculando express\\u00f5es - parte 2\", \"showlegend\": true, \"type\": \"scatter\", \"x\": [26], \"xaxis\": \"x\", \"y\": [5852], \"yaxis\": \"y\"}, {\"hoverlabel\": {\"namelength\": 0}, \"hovertemplate\": \"question=Calculando express\\u00f5es - parte 3<br>maxDifferentDays=%{x}<br>maxTime=%{y}\", \"legendgroup\": \"question=Calculando express\\u00f5es - parte 3\", \"marker\": {\"color\": \"#636efa\", \"symbol\": \"circle\"}, \"mode\": \"markers\", \"name\": \"question=Calculando express\\u00f5es - parte 3\", \"showlegend\": true, \"type\": \"scatter\", \"x\": [10], \"xaxis\": \"x\", \"y\": [820], \"yaxis\": \"y\"}, {\"hoverlabel\": {\"namelength\": 0}, \"hovertemplate\": \"question=Calculando express\\u00f5es - parte 4<br>maxDifferentDays=%{x}<br>maxTime=%{y}\", \"legendgroup\": \"question=Calculando express\\u00f5es - parte 4\", \"marker\": {\"color\": \"#EF553B\", \"symbol\": \"circle\"}, \"mode\": \"markers\", \"name\": \"question=Calculando express\\u00f5es - parte 4\", \"showlegend\": true, \"type\": \"scatter\", \"x\": [32], \"xaxis\": \"x\", \"y\": [20285], \"yaxis\": \"y\"}, {\"hoverlabel\": {\"namelength\": 0}, \"hovertemplate\": \"question=Calculando express\\u00f5es com raiz<br>maxDifferentDays=%{x}<br>maxTime=%{y}\", \"legendgroup\": \"question=Calculando express\\u00f5es com raiz\", \"marker\": {\"color\": \"#00cc96\", \"symbol\": \"circle\"}, \"mode\": \"markers\", \"name\": \"question=Calculando express\\u00f5es com raiz\", \"showlegend\": true, \"type\": \"scatter\", \"x\": [44], \"xaxis\": \"x\", \"y\": [1578], \"yaxis\": \"y\"}, {\"hoverlabel\": {\"namelength\": 0}, \"hovertemplate\": \"question=Calculando um ano bissexto.<br>maxDifferentDays=%{x}<br>maxTime=%{y}\", \"legendgroup\": \"question=Calculando um ano bissexto.\", \"marker\": {\"color\": \"#ab63fa\", \"symbol\": \"circle\"}, \"mode\": \"markers\", \"name\": \"question=Calculando um ano bissexto.\", \"showlegend\": true, \"type\": \"scatter\", \"x\": [65], \"xaxis\": \"x\", \"y\": [2203], \"yaxis\": \"y\"}, {\"hoverlabel\": {\"namelength\": 0}, \"hovertemplate\": \"question=Calcular express\\u00f5es<br>maxDifferentDays=%{x}<br>maxTime=%{y}\", \"legendgroup\": \"question=Calcular express\\u00f5es\", \"marker\": {\"color\": \"#FFA15A\", \"symbol\": \"circle\"}, \"mode\": \"markers\", \"name\": \"question=Calcular express\\u00f5es\", \"showlegend\": true, \"type\": \"scatter\", \"x\": [60], \"xaxis\": \"x\", \"y\": [26222], \"yaxis\": \"y\"}, {\"hoverlabel\": {\"namelength\": 0}, \"hovertemplate\": \"question=Calcular \\u00cdndice de Massa Corporal (IMC) - parte 1<br>maxDifferentDays=%{x}<br>maxTime=%{y}\", \"legendgroup\": \"question=Calcular \\u00cdndice de Massa Corporal (IMC) - parte 1\", \"marker\": {\"color\": \"#19d3f3\", \"symbol\": \"circle\"}, \"mode\": \"markers\", \"name\": \"question=Calcular \\u00cdndice de Massa Corporal (IMC) - parte 1\", \"showlegend\": true, \"type\": \"scatter\", \"x\": [29], \"xaxis\": \"x\", \"y\": [1558], \"yaxis\": \"y\"}, {\"hoverlabel\": {\"namelength\": 0}, \"hovertemplate\": \"question=Calculo de express\\u00e3o com expoente<br>maxDifferentDays=%{x}<br>maxTime=%{y}\", \"legendgroup\": \"question=Calculo de express\\u00e3o com expoente\", \"marker\": {\"color\": \"#FF6692\", \"symbol\": \"circle\"}, \"mode\": \"markers\", \"name\": \"question=Calculo de express\\u00e3o com expoente\", \"showlegend\": true, \"type\": \"scatter\", \"x\": [41], \"xaxis\": \"x\", \"y\": [2715], \"yaxis\": \"y\"}, {\"hoverlabel\": {\"namelength\": 0}, \"hovertemplate\": \"question=Categorias de nata\\u00e7\\u00e3o<br>maxDifferentDays=%{x}<br>maxTime=%{y}\", \"legendgroup\": \"question=Categorias de nata\\u00e7\\u00e3o\", \"marker\": {\"color\": \"#B6E880\", \"symbol\": \"circle\"}, \"mode\": \"markers\", \"name\": \"question=Categorias de nata\\u00e7\\u00e3o\", \"showlegend\": true, \"type\": \"scatter\", \"x\": [13], \"xaxis\": \"x\", \"y\": [35859], \"yaxis\": \"y\"}, {\"hoverlabel\": {\"namelength\": 0}, \"hovertemplate\": \"question=Categorias de nata\\u00e7\\u00e3o com 4 casos<br>maxDifferentDays=%{x}<br>maxTime=%{y}\", \"legendgroup\": \"question=Categorias de nata\\u00e7\\u00e3o com 4 casos\", \"marker\": {\"color\": \"#FF97FF\", \"symbol\": \"circle\"}, \"mode\": \"markers\", \"name\": \"question=Categorias de nata\\u00e7\\u00e3o com 4 casos\", \"showlegend\": true, \"type\": \"scatter\", \"x\": [5], \"xaxis\": \"x\", \"y\": [765], \"yaxis\": \"y\"}, {\"hoverlabel\": {\"namelength\": 0}, \"hovertemplate\": \"question=Cinco vezes Bom dia!<br>maxDifferentDays=%{x}<br>maxTime=%{y}\", \"legendgroup\": \"question=Cinco vezes Bom dia!\", \"marker\": {\"color\": \"#FECB52\", \"symbol\": \"circle\"}, \"mode\": \"markers\", \"name\": \"question=Cinco vezes Bom dia!\", \"showlegend\": true, \"type\": \"scatter\", \"x\": [12], \"xaxis\": \"x\", \"y\": [14395], \"yaxis\": \"y\"}, {\"hoverlabel\": {\"namelength\": 0}, \"hovertemplate\": \"question=Classificando um n\\u00famero<br>maxDifferentDays=%{x}<br>maxTime=%{y}\", \"legendgroup\": \"question=Classificando um n\\u00famero\", \"marker\": {\"color\": \"#636efa\", \"symbol\": \"circle\"}, \"mode\": \"markers\", \"name\": \"question=Classificando um n\\u00famero\", \"showlegend\": true, \"type\": \"scatter\", \"x\": [38], \"xaxis\": \"x\", \"y\": [29181], \"yaxis\": \"y\"}, {\"hoverlabel\": {\"namelength\": 0}, \"hovertemplate\": \"question=Comiss\\u00e3o do gar\\u00e7om no restaurante<br>maxDifferentDays=%{x}<br>maxTime=%{y}\", \"legendgroup\": \"question=Comiss\\u00e3o do gar\\u00e7om no restaurante\", \"marker\": {\"color\": \"#EF553B\", \"symbol\": \"circle\"}, \"mode\": \"markers\", \"name\": \"question=Comiss\\u00e3o do gar\\u00e7om no restaurante\", \"showlegend\": true, \"type\": \"scatter\", \"x\": [39], \"xaxis\": \"x\", \"y\": [5261], \"yaxis\": \"y\"}, {\"hoverlabel\": {\"namelength\": 0}, \"hovertemplate\": \"question=Compara com 10<br>maxDifferentDays=%{x}<br>maxTime=%{y}\", \"legendgroup\": \"question=Compara com 10\", \"marker\": {\"color\": \"#00cc96\", \"symbol\": \"circle\"}, \"mode\": \"markers\", \"name\": \"question=Compara com 10\", \"showlegend\": true, \"type\": \"scatter\", \"x\": [6], \"xaxis\": \"x\", \"y\": [1500], \"yaxis\": \"y\"}, {\"hoverlabel\": {\"namelength\": 0}, \"hovertemplate\": \"question=Compara com 20<br>maxDifferentDays=%{x}<br>maxTime=%{y}\", \"legendgroup\": \"question=Compara com 20\", \"marker\": {\"color\": \"#ab63fa\", \"symbol\": \"circle\"}, \"mode\": \"markers\", \"name\": \"question=Compara com 20\", \"showlegend\": true, \"type\": \"scatter\", \"x\": [23], \"xaxis\": \"x\", \"y\": [3209], \"yaxis\": \"y\"}, {\"hoverlabel\": {\"namelength\": 0}, \"hovertemplate\": \"question=Compara com 20 parte 2<br>maxDifferentDays=%{x}<br>maxTime=%{y}\", \"legendgroup\": \"question=Compara com 20 parte 2\", \"marker\": {\"color\": \"#FFA15A\", \"symbol\": \"circle\"}, \"mode\": \"markers\", \"name\": \"question=Compara com 20 parte 2\", \"showlegend\": true, \"type\": \"scatter\", \"x\": [23], \"xaxis\": \"x\", \"y\": [1877], \"yaxis\": \"y\"}, {\"hoverlabel\": {\"namelength\": 0}, \"hovertemplate\": \"question=Concatenar vetores<br>maxDifferentDays=%{x}<br>maxTime=%{y}\", \"legendgroup\": \"question=Concatenar vetores\", \"marker\": {\"color\": \"#19d3f3\", \"symbol\": \"circle\"}, \"mode\": \"markers\", \"name\": \"question=Concatenar vetores\", \"showlegend\": true, \"type\": \"scatter\", \"x\": [24], \"xaxis\": \"x\", \"y\": [12352], \"yaxis\": \"y\"}, {\"hoverlabel\": {\"namelength\": 0}, \"hovertemplate\": \"question=Contagem de 22 a 53<br>maxDifferentDays=%{x}<br>maxTime=%{y}\", \"legendgroup\": \"question=Contagem de 22 a 53\", \"marker\": {\"color\": \"#FF6692\", \"symbol\": \"circle\"}, \"mode\": \"markers\", \"name\": \"question=Contagem de 22 a 53\", \"showlegend\": true, \"type\": \"scatter\", \"x\": [27], \"xaxis\": \"x\", \"y\": [8987], \"yaxis\": \"y\"}, {\"hoverlabel\": {\"namelength\": 0}, \"hovertemplate\": \"question=Contagem progressiva at\\u00e9 10<br>maxDifferentDays=%{x}<br>maxTime=%{y}\", \"legendgroup\": \"question=Contagem progressiva at\\u00e9 10\", \"marker\": {\"color\": \"#B6E880\", \"symbol\": \"circle\"}, \"mode\": \"markers\", \"name\": \"question=Contagem progressiva at\\u00e9 10\", \"showlegend\": true, \"type\": \"scatter\", \"x\": [14], \"xaxis\": \"x\", \"y\": [205], \"yaxis\": \"y\"}, {\"hoverlabel\": {\"namelength\": 0}, \"hovertemplate\": \"question=Contagem regressiva<br>maxDifferentDays=%{x}<br>maxTime=%{y}\", \"legendgroup\": \"question=Contagem regressiva\", \"marker\": {\"color\": \"#FF97FF\", \"symbol\": \"circle\"}, \"mode\": \"markers\", \"name\": \"question=Contagem regressiva\", \"showlegend\": true, \"type\": \"scatter\", \"x\": [26], \"xaxis\": \"x\", \"y\": [1323], \"yaxis\": \"y\"}, {\"hoverlabel\": {\"namelength\": 0}, \"hovertemplate\": \"question=Contando de 2 em 2<br>maxDifferentDays=%{x}<br>maxTime=%{y}\", \"legendgroup\": \"question=Contando de 2 em 2\", \"marker\": {\"color\": \"#FECB52\", \"symbol\": \"circle\"}, \"mode\": \"markers\", \"name\": \"question=Contando de 2 em 2\", \"showlegend\": true, \"type\": \"scatter\", \"x\": [8], \"xaxis\": \"x\", \"y\": [269], \"yaxis\": \"y\"}, {\"hoverlabel\": {\"namelength\": 0}, \"hovertemplate\": \"question=Contar quantos s\\u00e3o maiores de 18 anos<br>maxDifferentDays=%{x}<br>maxTime=%{y}\", \"legendgroup\": \"question=Contar quantos s\\u00e3o maiores de 18 anos\", \"marker\": {\"color\": \"#636efa\", \"symbol\": \"circle\"}, \"mode\": \"markers\", \"name\": \"question=Contar quantos s\\u00e3o maiores de 18 anos\", \"showlegend\": true, \"type\": \"scatter\", \"x\": [47], \"xaxis\": \"x\", \"y\": [8324], \"yaxis\": \"y\"}, {\"hoverlabel\": {\"namelength\": 0}, \"hovertemplate\": \"question=Convers\\u00e3o de Temperatura entre paises<br>maxDifferentDays=%{x}<br>maxTime=%{y}\", \"legendgroup\": \"question=Convers\\u00e3o de Temperatura entre paises\", \"marker\": {\"color\": \"#EF553B\", \"symbol\": \"circle\"}, \"mode\": \"markers\", \"name\": \"question=Convers\\u00e3o de Temperatura entre paises\", \"showlegend\": true, \"type\": \"scatter\", \"x\": [71], \"xaxis\": \"x\", \"y\": [42945], \"yaxis\": \"y\"}, {\"hoverlabel\": {\"namelength\": 0}, \"hovertemplate\": \"question=Convertendo de horas para dias<br>maxDifferentDays=%{x}<br>maxTime=%{y}\", \"legendgroup\": \"question=Convertendo de horas para dias\", \"marker\": {\"color\": \"#00cc96\", \"symbol\": \"circle\"}, \"mode\": \"markers\", \"name\": \"question=Convertendo de horas para dias\", \"showlegend\": true, \"type\": \"scatter\", \"x\": [54], \"xaxis\": \"x\", \"y\": [49852], \"yaxis\": \"y\"}, {\"hoverlabel\": {\"namelength\": 0}, \"hovertemplate\": \"question=Convertendo de metros para polegadas<br>maxDifferentDays=%{x}<br>maxTime=%{y}\", \"legendgroup\": \"question=Convertendo de metros para polegadas\", \"marker\": {\"color\": \"#ab63fa\", \"symbol\": \"circle\"}, \"mode\": \"markers\", \"name\": \"question=Convertendo de metros para polegadas\", \"showlegend\": true, \"type\": \"scatter\", \"x\": [38], \"xaxis\": \"x\", \"y\": [5773], \"yaxis\": \"y\"}, {\"hoverlabel\": {\"namelength\": 0}, \"hovertemplate\": \"question=Convertendo p\\u00e9s, jardas e milhas.<br>maxDifferentDays=%{x}<br>maxTime=%{y}\", \"legendgroup\": \"question=Convertendo p\\u00e9s, jardas e milhas.\", \"marker\": {\"color\": \"#FFA15A\", \"symbol\": \"circle\"}, \"mode\": \"markers\", \"name\": \"question=Convertendo p\\u00e9s, jardas e milhas.\", \"showlegend\": true, \"type\": \"scatter\", \"x\": [37], \"xaxis\": \"x\", \"y\": [21388], \"yaxis\": \"y\"}, {\"hoverlabel\": {\"namelength\": 0}, \"hovertemplate\": \"question=Crescimento populacional<br>maxDifferentDays=%{x}<br>maxTime=%{y}\", \"legendgroup\": \"question=Crescimento populacional\", \"marker\": {\"color\": \"#19d3f3\", \"symbol\": \"circle\"}, \"mode\": \"markers\", \"name\": \"question=Crescimento populacional\", \"showlegend\": true, \"type\": \"scatter\", \"x\": [49], \"xaxis\": \"x\", \"y\": [3228], \"yaxis\": \"y\"}, {\"hoverlabel\": {\"namelength\": 0}, \"hovertemplate\": \"question=Custo ao consumidor de um carro novo<br>maxDifferentDays=%{x}<br>maxTime=%{y}\", \"legendgroup\": \"question=Custo ao consumidor de um carro novo\", \"marker\": {\"color\": \"#FF6692\", \"symbol\": \"circle\"}, \"mode\": \"markers\", \"name\": \"question=Custo ao consumidor de um carro novo\", \"showlegend\": true, \"type\": \"scatter\", \"x\": [48], \"xaxis\": \"x\", \"y\": [7670], \"yaxis\": \"y\"}, {\"hoverlabel\": {\"namelength\": 0}, \"hovertemplate\": \"question=C\\u00e1lculo da m\\u00e9dia v\\u00e1lida<br>maxDifferentDays=%{x}<br>maxTime=%{y}\", \"legendgroup\": \"question=C\\u00e1lculo da m\\u00e9dia v\\u00e1lida\", \"marker\": {\"color\": \"#B6E880\", \"symbol\": \"circle\"}, \"mode\": \"markers\", \"name\": \"question=C\\u00e1lculo da m\\u00e9dia v\\u00e1lida\", \"showlegend\": true, \"type\": \"scatter\", \"x\": [43], \"xaxis\": \"x\", \"y\": [1619], \"yaxis\": \"y\"}, {\"hoverlabel\": {\"namelength\": 0}, \"hovertemplate\": \"question=C\\u00e1lculo do IMC<br>maxDifferentDays=%{x}<br>maxTime=%{y}\", \"legendgroup\": \"question=C\\u00e1lculo do IMC\", \"marker\": {\"color\": \"#FF97FF\", \"symbol\": \"circle\"}, \"mode\": \"markers\", \"name\": \"question=C\\u00e1lculo do IMC\", \"showlegend\": true, \"type\": \"scatter\", \"x\": [44], \"xaxis\": \"x\", \"y\": [3446], \"yaxis\": \"y\"}, {\"hoverlabel\": {\"namelength\": 0}, \"hovertemplate\": \"question=C\\u00e1lculo do novo Sal\\u00e1rio<br>maxDifferentDays=%{x}<br>maxTime=%{y}\", \"legendgroup\": \"question=C\\u00e1lculo do novo Sal\\u00e1rio\", \"marker\": {\"color\": \"#FECB52\", \"symbol\": \"circle\"}, \"mode\": \"markers\", \"name\": \"question=C\\u00e1lculo do novo Sal\\u00e1rio\", \"showlegend\": true, \"type\": \"scatter\", \"x\": [54], \"xaxis\": \"x\", \"y\": [8642], \"yaxis\": \"y\"}, {\"hoverlabel\": {\"namelength\": 0}, \"hovertemplate\": \"question=Data v\\u00e1lida<br>maxDifferentDays=%{x}<br>maxTime=%{y}\", \"legendgroup\": \"question=Data v\\u00e1lida\", \"marker\": {\"color\": \"#636efa\", \"symbol\": \"circle\"}, \"mode\": \"markers\", \"name\": \"question=Data v\\u00e1lida\", \"showlegend\": true, \"type\": \"scatter\", \"x\": [41], \"xaxis\": \"x\", \"y\": [32099], \"yaxis\": \"y\"}, {\"hoverlabel\": {\"namelength\": 0}, \"hovertemplate\": \"question=Dez vezes Bom dia!<br>maxDifferentDays=%{x}<br>maxTime=%{y}\", \"legendgroup\": \"question=Dez vezes Bom dia!\", \"marker\": {\"color\": \"#EF553B\", \"symbol\": \"circle\"}, \"mode\": \"markers\", \"name\": \"question=Dez vezes Bom dia!\", \"showlegend\": true, \"type\": \"scatter\", \"x\": [6], \"xaxis\": \"x\", \"y\": [1617], \"yaxis\": \"y\"}, {\"hoverlabel\": {\"namelength\": 0}, \"hovertemplate\": \"question=Divis\\u00e3o por 0<br>maxDifferentDays=%{x}<br>maxTime=%{y}\", \"legendgroup\": \"question=Divis\\u00e3o por 0\", \"marker\": {\"color\": \"#00cc96\", \"symbol\": \"circle\"}, \"mode\": \"markers\", \"name\": \"question=Divis\\u00e3o por 0\", \"showlegend\": true, \"type\": \"scatter\", \"x\": [23], \"xaxis\": \"x\", \"y\": [8559], \"yaxis\": \"y\"}, {\"hoverlabel\": {\"namelength\": 0}, \"hovertemplate\": \"question=Divis\\u00edvel por 3 e por 4  ao mesmo tempo.<br>maxDifferentDays=%{x}<br>maxTime=%{y}\", \"legendgroup\": \"question=Divis\\u00edvel por 3 e por 4  ao mesmo tempo.\", \"marker\": {\"color\": \"#ab63fa\", \"symbol\": \"circle\"}, \"mode\": \"markers\", \"name\": \"question=Divis\\u00edvel por 3 e por 4  ao mesmo tempo.\", \"showlegend\": true, \"type\": \"scatter\", \"x\": [8], \"xaxis\": \"x\", \"y\": [2979], \"yaxis\": \"y\"}, {\"hoverlabel\": {\"namelength\": 0}, \"hovertemplate\": \"question=Divis\\u00edvel por 3 e por 4 - vers\\u00e3o ainda mais complexa<br>maxDifferentDays=%{x}<br>maxTime=%{y}\", \"legendgroup\": \"question=Divis\\u00edvel por 3 e por 4 - vers\\u00e3o ainda mais complexa\", \"marker\": {\"color\": \"#FFA15A\", \"symbol\": \"circle\"}, \"mode\": \"markers\", \"name\": \"question=Divis\\u00edvel por 3 e por 4 - vers\\u00e3o ainda mais complexa\", \"showlegend\": true, \"type\": \"scatter\", \"x\": [15], \"xaxis\": \"x\", \"y\": [2527], \"yaxis\": \"y\"}, {\"hoverlabel\": {\"namelength\": 0}, \"hovertemplate\": \"question=Divis\\u00edvel por 3 e por 4 - vers\\u00e3o mais complexa<br>maxDifferentDays=%{x}<br>maxTime=%{y}\", \"legendgroup\": \"question=Divis\\u00edvel por 3 e por 4 - vers\\u00e3o mais complexa\", \"marker\": {\"color\": \"#19d3f3\", \"symbol\": \"circle\"}, \"mode\": \"markers\", \"name\": \"question=Divis\\u00edvel por 3 e por 4 - vers\\u00e3o mais complexa\", \"showlegend\": true, \"type\": \"scatter\", \"x\": [46], \"xaxis\": \"x\", \"y\": [2915], \"yaxis\": \"y\"}, {\"hoverlabel\": {\"namelength\": 0}, \"hovertemplate\": \"question=Divis\\u00edvel por 3 e por 5<br>maxDifferentDays=%{x}<br>maxTime=%{y}\", \"legendgroup\": \"question=Divis\\u00edvel por 3 e por 5\", \"marker\": {\"color\": \"#FF6692\", \"symbol\": \"circle\"}, \"mode\": \"markers\", \"name\": \"question=Divis\\u00edvel por 3 e por 5\", \"showlegend\": true, \"type\": \"scatter\", \"x\": [18], \"xaxis\": \"x\", \"y\": [1562], \"yaxis\": \"y\"}, {\"hoverlabel\": {\"namelength\": 0}, \"hovertemplate\": \"question=Divis\\u00edvel por 3 valores ao mesmo tempo<br>maxDifferentDays=%{x}<br>maxTime=%{y}\", \"legendgroup\": \"question=Divis\\u00edvel por 3 valores ao mesmo tempo\", \"marker\": {\"color\": \"#B6E880\", \"symbol\": \"circle\"}, \"mode\": \"markers\", \"name\": \"question=Divis\\u00edvel por 3 valores ao mesmo tempo\", \"showlegend\": true, \"type\": \"scatter\", \"x\": [23], \"xaxis\": \"x\", \"y\": [2331], \"yaxis\": \"y\"}, {\"hoverlabel\": {\"namelength\": 0}, \"hovertemplate\": \"question=Divis\\u00edvel por 3, mas n\\u00e3o por 4<br>maxDifferentDays=%{x}<br>maxTime=%{y}\", \"legendgroup\": \"question=Divis\\u00edvel por 3, mas n\\u00e3o por 4\", \"marker\": {\"color\": \"#FF97FF\", \"symbol\": \"circle\"}, \"mode\": \"markers\", \"name\": \"question=Divis\\u00edvel por 3, mas n\\u00e3o por 4\", \"showlegend\": true, \"type\": \"scatter\", \"x\": [58], \"xaxis\": \"x\", \"y\": [2017], \"yaxis\": \"y\"}, {\"hoverlabel\": {\"namelength\": 0}, \"hovertemplate\": \"question=Divis\\u00edvel por 4 valores ao mesmo tempo<br>maxDifferentDays=%{x}<br>maxTime=%{y}\", \"legendgroup\": \"question=Divis\\u00edvel por 4 valores ao mesmo tempo\", \"marker\": {\"color\": \"#FECB52\", \"symbol\": \"circle\"}, \"mode\": \"markers\", \"name\": \"question=Divis\\u00edvel por 4 valores ao mesmo tempo\", \"showlegend\": true, \"type\": \"scatter\", \"x\": [14], \"xaxis\": \"x\", \"y\": [518], \"yaxis\": \"y\"}, {\"hoverlabel\": {\"namelength\": 0}, \"hovertemplate\": \"question=Divis\\u00edvel por 5<br>maxDifferentDays=%{x}<br>maxTime=%{y}\", \"legendgroup\": \"question=Divis\\u00edvel por 5\", \"marker\": {\"color\": \"#636efa\", \"symbol\": \"circle\"}, \"mode\": \"markers\", \"name\": \"question=Divis\\u00edvel por 5\", \"showlegend\": true, \"type\": \"scatter\", \"x\": [10], \"xaxis\": \"x\", \"y\": [79193], \"yaxis\": \"y\"}, {\"hoverlabel\": {\"namelength\": 0}, \"hovertemplate\": \"question=Duas ou mais condi\\u00e7\\u00f5es com &&<br>maxDifferentDays=%{x}<br>maxTime=%{y}\", \"legendgroup\": \"question=Duas ou mais condi\\u00e7\\u00f5es com &&\", \"marker\": {\"color\": \"#EF553B\", \"symbol\": \"circle\"}, \"mode\": \"markers\", \"name\": \"question=Duas ou mais condi\\u00e7\\u00f5es com &&\", \"showlegend\": true, \"type\": \"scatter\", \"x\": [5], \"xaxis\": \"x\", \"y\": [318], \"yaxis\": \"y\"}, {\"hoverlabel\": {\"namelength\": 0}, \"hovertemplate\": \"question=Elementos do vetor m\\u00faltiplos de 3 e de 4 simultaneamente.<br>maxDifferentDays=%{x}<br>maxTime=%{y}\", \"legendgroup\": \"question=Elementos do vetor m\\u00faltiplos de 3 e de 4 simultaneamente.\", \"marker\": {\"color\": \"#00cc96\", \"symbol\": \"circle\"}, \"mode\": \"markers\", \"name\": \"question=Elementos do vetor m\\u00faltiplos de 3 e de 4 simultaneamente.\", \"showlegend\": true, \"type\": \"scatter\", \"x\": [11], \"xaxis\": \"x\", \"y\": [2290], \"yaxis\": \"y\"}, {\"hoverlabel\": {\"namelength\": 0}, \"hovertemplate\": \"question=Encontrando n\\u00fameros pares<br>maxDifferentDays=%{x}<br>maxTime=%{y}\", \"legendgroup\": \"question=Encontrando n\\u00fameros pares\", \"marker\": {\"color\": \"#ab63fa\", \"symbol\": \"circle\"}, \"mode\": \"markers\", \"name\": \"question=Encontrando n\\u00fameros pares\", \"showlegend\": true, \"type\": \"scatter\", \"x\": [14], \"xaxis\": \"x\", \"y\": [1442], \"yaxis\": \"y\"}, {\"hoverlabel\": {\"namelength\": 0}, \"hovertemplate\": \"question=Entendendo o contador<br>maxDifferentDays=%{x}<br>maxTime=%{y}\", \"legendgroup\": \"question=Entendendo o contador\", \"marker\": {\"color\": \"#FFA15A\", \"symbol\": \"circle\"}, \"mode\": \"markers\", \"name\": \"question=Entendendo o contador\", \"showlegend\": true, \"type\": \"scatter\", \"x\": [5], \"xaxis\": \"x\", \"y\": [1505], \"yaxis\": \"y\"}, {\"hoverlabel\": {\"namelength\": 0}, \"hovertemplate\": \"question=Equivalente em dias e horas<br>maxDifferentDays=%{x}<br>maxTime=%{y}\", \"legendgroup\": \"question=Equivalente em dias e horas\", \"marker\": {\"color\": \"#19d3f3\", \"symbol\": \"circle\"}, \"mode\": \"markers\", \"name\": \"question=Equivalente em dias e horas\", \"showlegend\": true, \"type\": \"scatter\", \"x\": [48], \"xaxis\": \"x\", \"y\": [5769], \"yaxis\": \"y\"}, {\"hoverlabel\": {\"namelength\": 0}, \"hovertemplate\": \"question=Evoluindo a busca de um elemento em um vetor<br>maxDifferentDays=%{x}<br>maxTime=%{y}\", \"legendgroup\": \"question=Evoluindo a busca de um elemento em um vetor\", \"marker\": {\"color\": \"#FF6692\", \"symbol\": \"circle\"}, \"mode\": \"markers\", \"name\": \"question=Evoluindo a busca de um elemento em um vetor\", \"showlegend\": true, \"type\": \"scatter\", \"x\": [9], \"xaxis\": \"x\", \"y\": [2437], \"yaxis\": \"y\"}, {\"hoverlabel\": {\"namelength\": 0}, \"hovertemplate\": \"question=Falsa multiplica\\u00e7\\u00e3o<br>maxDifferentDays=%{x}<br>maxTime=%{y}\", \"legendgroup\": \"question=Falsa multiplica\\u00e7\\u00e3o\", \"marker\": {\"color\": \"#B6E880\", \"symbol\": \"circle\"}, \"mode\": \"markers\", \"name\": \"question=Falsa multiplica\\u00e7\\u00e3o\", \"showlegend\": true, \"type\": \"scatter\", \"x\": [22], \"xaxis\": \"x\", \"y\": [10280], \"yaxis\": \"y\"}, {\"hoverlabel\": {\"namelength\": 0}, \"hovertemplate\": \"question=Fatorial simples<br>maxDifferentDays=%{x}<br>maxTime=%{y}\", \"legendgroup\": \"question=Fatorial simples\", \"marker\": {\"color\": \"#FF97FF\", \"symbol\": \"circle\"}, \"mode\": \"markers\", \"name\": \"question=Fatorial simples\", \"showlegend\": true, \"type\": \"scatter\", \"x\": [34], \"xaxis\": \"x\", \"y\": [39379], \"yaxis\": \"y\"}, {\"hoverlabel\": {\"namelength\": 0}, \"hovertemplate\": \"question=F\\u00f3rmula de Bh\\u00e1skara<br>maxDifferentDays=%{x}<br>maxTime=%{y}\", \"legendgroup\": \"question=F\\u00f3rmula de Bh\\u00e1skara\", \"marker\": {\"color\": \"#FECB52\", \"symbol\": \"circle\"}, \"mode\": \"markers\", \"name\": \"question=F\\u00f3rmula de Bh\\u00e1skara\", \"showlegend\": true, \"type\": \"scatter\", \"x\": [37], \"xaxis\": \"x\", \"y\": [3590], \"yaxis\": \"y\"}, {\"hoverlabel\": {\"namelength\": 0}, \"hovertemplate\": \"question=IMC novamente com 2 decis\\u00f5es<br>maxDifferentDays=%{x}<br>maxTime=%{y}\", \"legendgroup\": \"question=IMC novamente com 2 decis\\u00f5es\", \"marker\": {\"color\": \"#636efa\", \"symbol\": \"circle\"}, \"mode\": \"markers\", \"name\": \"question=IMC novamente com 2 decis\\u00f5es\", \"showlegend\": true, \"type\": \"scatter\", \"x\": [5], \"xaxis\": \"x\", \"y\": [1039], \"yaxis\": \"y\"}, {\"hoverlabel\": {\"namelength\": 0}, \"hovertemplate\": \"question=IMC simples com 2 decis\\u00f5es<br>maxDifferentDays=%{x}<br>maxTime=%{y}\", \"legendgroup\": \"question=IMC simples com 2 decis\\u00f5es\", \"marker\": {\"color\": \"#EF553B\", \"symbol\": \"circle\"}, \"mode\": \"markers\", \"name\": \"question=IMC simples com 2 decis\\u00f5es\", \"showlegend\": true, \"type\": \"scatter\", \"x\": [16], \"xaxis\": \"x\", \"y\": [860], \"yaxis\": \"y\"}, {\"hoverlabel\": {\"namelength\": 0}, \"hovertemplate\": \"question=Idades<br>maxDifferentDays=%{x}<br>maxTime=%{y}\", \"legendgroup\": \"question=Idades\", \"marker\": {\"color\": \"#00cc96\", \"symbol\": \"circle\"}, \"mode\": \"markers\", \"name\": \"question=Idades\", \"showlegend\": true, \"type\": \"scatter\", \"x\": [41], \"xaxis\": \"x\", \"y\": [2409], \"yaxis\": \"y\"}, {\"hoverlabel\": {\"namelength\": 0}, \"hovertemplate\": \"question=Idades e permiss\\u00f5es<br>maxDifferentDays=%{x}<br>maxTime=%{y}\", \"legendgroup\": \"question=Idades e permiss\\u00f5es\", \"marker\": {\"color\": \"#ab63fa\", \"symbol\": \"circle\"}, \"mode\": \"markers\", \"name\": \"question=Idades e permiss\\u00f5es\", \"showlegend\": true, \"type\": \"scatter\", \"x\": [22], \"xaxis\": \"x\", \"y\": [1969], \"yaxis\": \"y\"}, {\"hoverlabel\": {\"namelength\": 0}, \"hovertemplate\": \"question=Identificando os primos<br>maxDifferentDays=%{x}<br>maxTime=%{y}\", \"legendgroup\": \"question=Identificando os primos\", \"marker\": {\"color\": \"#FFA15A\", \"symbol\": \"circle\"}, \"mode\": \"markers\", \"name\": \"question=Identificando os primos\", \"showlegend\": true, \"type\": \"scatter\", \"x\": [22], \"xaxis\": \"x\", \"y\": [2333], \"yaxis\": \"y\"}, {\"hoverlabel\": {\"namelength\": 0}, \"hovertemplate\": \"question=Identifica\\u00e7\\u00e3o de Bimestres<br>maxDifferentDays=%{x}<br>maxTime=%{y}\", \"legendgroup\": \"question=Identifica\\u00e7\\u00e3o de Bimestres\", \"marker\": {\"color\": \"#19d3f3\", \"symbol\": \"circle\"}, \"mode\": \"markers\", \"name\": \"question=Identifica\\u00e7\\u00e3o de Bimestres\", \"showlegend\": true, \"type\": \"scatter\", \"x\": [8], \"xaxis\": \"x\", \"y\": [1856], \"yaxis\": \"y\"}, {\"hoverlabel\": {\"namelength\": 0}, \"hovertemplate\": \"question=Impar ou multiplo de 6<br>maxDifferentDays=%{x}<br>maxTime=%{y}\", \"legendgroup\": \"question=Impar ou multiplo de 6\", \"marker\": {\"color\": \"#FF6692\", \"symbol\": \"circle\"}, \"mode\": \"markers\", \"name\": \"question=Impar ou multiplo de 6\", \"showlegend\": true, \"type\": \"scatter\", \"x\": [100], \"xaxis\": \"x\", \"y\": [3825], \"yaxis\": \"y\"}, {\"hoverlabel\": {\"namelength\": 0}, \"hovertemplate\": \"question=Imprimindo uma mensagem com um valor<br>maxDifferentDays=%{x}<br>maxTime=%{y}\", \"legendgroup\": \"question=Imprimindo uma mensagem com um valor\", \"marker\": {\"color\": \"#B6E880\", \"symbol\": \"circle\"}, \"mode\": \"markers\", \"name\": \"question=Imprimindo uma mensagem com um valor\", \"showlegend\": true, \"type\": \"scatter\", \"x\": [20], \"xaxis\": \"x\", \"y\": [1162], \"yaxis\": \"y\"}, {\"hoverlabel\": {\"namelength\": 0}, \"hovertemplate\": \"question=Imprimir o \\u00edndice par<br>maxDifferentDays=%{x}<br>maxTime=%{y}\", \"legendgroup\": \"question=Imprimir o \\u00edndice par\", \"marker\": {\"color\": \"#FF97FF\", \"symbol\": \"circle\"}, \"mode\": \"markers\", \"name\": \"question=Imprimir o \\u00edndice par\", \"showlegend\": true, \"type\": \"scatter\", \"x\": [10], \"xaxis\": \"x\", \"y\": [4293], \"yaxis\": \"y\"}, {\"hoverlabel\": {\"namelength\": 0}, \"hovertemplate\": \"question=Intercalar Vetor<br>maxDifferentDays=%{x}<br>maxTime=%{y}\", \"legendgroup\": \"question=Intercalar Vetor\", \"marker\": {\"color\": \"#FECB52\", \"symbol\": \"circle\"}, \"mode\": \"markers\", \"name\": \"question=Intercalar Vetor\", \"showlegend\": true, \"type\": \"scatter\", \"x\": [30], \"xaxis\": \"x\", \"y\": [756], \"yaxis\": \"y\"}, {\"hoverlabel\": {\"namelength\": 0}, \"hovertemplate\": \"question=Introdu\\u00e7\\u00e3o Soma<br>maxDifferentDays=%{x}<br>maxTime=%{y}\", \"legendgroup\": \"question=Introdu\\u00e7\\u00e3o Soma\", \"marker\": {\"color\": \"#636efa\", \"symbol\": \"circle\"}, \"mode\": \"markers\", \"name\": \"question=Introdu\\u00e7\\u00e3o Soma\", \"showlegend\": true, \"type\": \"scatter\", \"x\": [34], \"xaxis\": \"x\", \"y\": [6509], \"yaxis\": \"y\"}, {\"hoverlabel\": {\"namelength\": 0}, \"hovertemplate\": \"question=Introdu\\u00e7\\u00e3o a Raiz Quadrada<br>maxDifferentDays=%{x}<br>maxTime=%{y}\", \"legendgroup\": \"question=Introdu\\u00e7\\u00e3o a Raiz Quadrada\", \"marker\": {\"color\": \"#EF553B\", \"symbol\": \"circle\"}, \"mode\": \"markers\", \"name\": \"question=Introdu\\u00e7\\u00e3o a Raiz Quadrada\", \"showlegend\": true, \"type\": \"scatter\", \"x\": [27], \"xaxis\": \"x\", \"y\": [1935], \"yaxis\": \"y\"}, {\"hoverlabel\": {\"namelength\": 0}, \"hovertemplate\": \"question=Invers\\u00e3o de vetor<br>maxDifferentDays=%{x}<br>maxTime=%{y}\", \"legendgroup\": \"question=Invers\\u00e3o de vetor\", \"marker\": {\"color\": \"#00cc96\", \"symbol\": \"circle\"}, \"mode\": \"markers\", \"name\": \"question=Invers\\u00e3o de vetor\", \"showlegend\": true, \"type\": \"scatter\", \"x\": [24], \"xaxis\": \"x\", \"y\": [758], \"yaxis\": \"y\"}, {\"hoverlabel\": {\"namelength\": 0}, \"hovertemplate\": \"question=Inverter uma palavra<br>maxDifferentDays=%{x}<br>maxTime=%{y}\", \"legendgroup\": \"question=Inverter uma palavra\", \"marker\": {\"color\": \"#ab63fa\", \"symbol\": \"circle\"}, \"mode\": \"markers\", \"name\": \"question=Inverter uma palavra\", \"showlegend\": true, \"type\": \"scatter\", \"x\": [27], \"xaxis\": \"x\", \"y\": [3423], \"yaxis\": \"y\"}, {\"hoverlabel\": {\"namelength\": 0}, \"hovertemplate\": \"question=Maior de 10 n\\u00fameros<br>maxDifferentDays=%{x}<br>maxTime=%{y}\", \"legendgroup\": \"question=Maior de 10 n\\u00fameros\", \"marker\": {\"color\": \"#FFA15A\", \"symbol\": \"circle\"}, \"mode\": \"markers\", \"name\": \"question=Maior de 10 n\\u00fameros\", \"showlegend\": true, \"type\": \"scatter\", \"x\": [17], \"xaxis\": \"x\", \"y\": [13075], \"yaxis\": \"y\"}, {\"hoverlabel\": {\"namelength\": 0}, \"hovertemplate\": \"question=Matriz de asteriscos<br>maxDifferentDays=%{x}<br>maxTime=%{y}\", \"legendgroup\": \"question=Matriz de asteriscos\", \"marker\": {\"color\": \"#19d3f3\", \"symbol\": \"circle\"}, \"mode\": \"markers\", \"name\": \"question=Matriz de asteriscos\", \"showlegend\": true, \"type\": \"scatter\", \"x\": [26], \"xaxis\": \"x\", \"y\": [1047], \"yaxis\": \"y\"}, {\"hoverlabel\": {\"namelength\": 0}, \"hovertemplate\": \"question=Menor de 3 n\\u00fameros<br>maxDifferentDays=%{x}<br>maxTime=%{y}\", \"legendgroup\": \"question=Menor de 3 n\\u00fameros\", \"marker\": {\"color\": \"#FF6692\", \"symbol\": \"circle\"}, \"mode\": \"markers\", \"name\": \"question=Menor de 3 n\\u00fameros\", \"showlegend\": true, \"type\": \"scatter\", \"x\": [52], \"xaxis\": \"x\", \"y\": [33704], \"yaxis\": \"y\"}, {\"hoverlabel\": {\"namelength\": 0}, \"hovertemplate\": \"question=Menor e posi\\u00e7\\u00e3o<br>maxDifferentDays=%{x}<br>maxTime=%{y}\", \"legendgroup\": \"question=Menor e posi\\u00e7\\u00e3o\", \"marker\": {\"color\": \"#B6E880\", \"symbol\": \"circle\"}, \"mode\": \"markers\", \"name\": \"question=Menor e posi\\u00e7\\u00e3o\", \"showlegend\": true, \"type\": \"scatter\", \"x\": [34], \"xaxis\": \"x\", \"y\": [2155], \"yaxis\": \"y\"}, {\"hoverlabel\": {\"namelength\": 0}, \"hovertemplate\": \"question=M\\u00e9dia Ponderada<br>maxDifferentDays=%{x}<br>maxTime=%{y}\", \"legendgroup\": \"question=M\\u00e9dia Ponderada\", \"marker\": {\"color\": \"#FF97FF\", \"symbol\": \"circle\"}, \"mode\": \"markers\", \"name\": \"question=M\\u00e9dia Ponderada\", \"showlegend\": true, \"type\": \"scatter\", \"x\": [17], \"xaxis\": \"x\", \"y\": [1795], \"yaxis\": \"y\"}, {\"hoverlabel\": {\"namelength\": 0}, \"hovertemplate\": \"question=M\\u00e9dia com 3 situa\\u00e7\\u00f5es de decis\\u00e3o<br>maxDifferentDays=%{x}<br>maxTime=%{y}\", \"legendgroup\": \"question=M\\u00e9dia com 3 situa\\u00e7\\u00f5es de decis\\u00e3o\", \"marker\": {\"color\": \"#FECB52\", \"symbol\": \"circle\"}, \"mode\": \"markers\", \"name\": \"question=M\\u00e9dia com 3 situa\\u00e7\\u00f5es de decis\\u00e3o\", \"showlegend\": true, \"type\": \"scatter\", \"x\": [17], \"xaxis\": \"x\", \"y\": [9838], \"yaxis\": \"y\"}, {\"hoverlabel\": {\"namelength\": 0}, \"hovertemplate\": \"question=M\\u00e9dia com 3 situa\\u00e7\\u00f5es de decis\\u00e3o - parte 2<br>maxDifferentDays=%{x}<br>maxTime=%{y}\", \"legendgroup\": \"question=M\\u00e9dia com 3 situa\\u00e7\\u00f5es de decis\\u00e3o - parte 2\", \"marker\": {\"color\": \"#636efa\", \"symbol\": \"circle\"}, \"mode\": \"markers\", \"name\": \"question=M\\u00e9dia com 3 situa\\u00e7\\u00f5es de decis\\u00e3o - parte 2\", \"showlegend\": true, \"type\": \"scatter\", \"x\": [31], \"xaxis\": \"x\", \"y\": [8676], \"yaxis\": \"y\"}, {\"hoverlabel\": {\"namelength\": 0}, \"hovertemplate\": \"question=M\\u00e9todo de Her\\u00e3o para calcular ra\\u00edzes quadradas<br>maxDifferentDays=%{x}<br>maxTime=%{y}\", \"legendgroup\": \"question=M\\u00e9todo de Her\\u00e3o para calcular ra\\u00edzes quadradas\", \"marker\": {\"color\": \"#EF553B\", \"symbol\": \"circle\"}, \"mode\": \"markers\", \"name\": \"question=M\\u00e9todo de Her\\u00e3o para calcular ra\\u00edzes quadradas\", \"showlegend\": true, \"type\": \"scatter\", \"x\": [38], \"xaxis\": \"x\", \"y\": [1370], \"yaxis\": \"y\"}, {\"hoverlabel\": {\"namelength\": 0}, \"hovertemplate\": \"question=M\\u00faltiplo de 3 ou 7<br>maxDifferentDays=%{x}<br>maxTime=%{y}\", \"legendgroup\": \"question=M\\u00faltiplo de 3 ou 7\", \"marker\": {\"color\": \"#00cc96\", \"symbol\": \"circle\"}, \"mode\": \"markers\", \"name\": \"question=M\\u00faltiplo de 3 ou 7\", \"showlegend\": true, \"type\": \"scatter\", \"x\": [42], \"xaxis\": \"x\", \"y\": [14060], \"yaxis\": \"y\"}, {\"hoverlabel\": {\"namelength\": 0}, \"hovertemplate\": \"question=M\\u00faltiplos de 8 entre 0 e 40<br>maxDifferentDays=%{x}<br>maxTime=%{y}\", \"legendgroup\": \"question=M\\u00faltiplos de 8 entre 0 e 40\", \"marker\": {\"color\": \"#ab63fa\", \"symbol\": \"circle\"}, \"mode\": \"markers\", \"name\": \"question=M\\u00faltiplos de 8 entre 0 e 40\", \"showlegend\": true, \"type\": \"scatter\", \"x\": [45], \"xaxis\": \"x\", \"y\": [1561], \"yaxis\": \"y\"}, {\"hoverlabel\": {\"namelength\": 0}, \"hovertemplate\": \"question=N termos de Fibonacci<br>maxDifferentDays=%{x}<br>maxTime=%{y}\", \"legendgroup\": \"question=N termos de Fibonacci\", \"marker\": {\"color\": \"#FFA15A\", \"symbol\": \"circle\"}, \"mode\": \"markers\", \"name\": \"question=N termos de Fibonacci\", \"showlegend\": true, \"type\": \"scatter\", \"x\": [43], \"xaxis\": \"x\", \"y\": [17752], \"yaxis\": \"y\"}, {\"hoverlabel\": {\"namelength\": 0}, \"hovertemplate\": \"question=N\\u00e3o \\u00e9 divisivel por 3<br>maxDifferentDays=%{x}<br>maxTime=%{y}\", \"legendgroup\": \"question=N\\u00e3o \\u00e9 divisivel por 3\", \"marker\": {\"color\": \"#19d3f3\", \"symbol\": \"circle\"}, \"mode\": \"markers\", \"name\": \"question=N\\u00e3o \\u00e9 divisivel por 3\", \"showlegend\": true, \"type\": \"scatter\", \"x\": [23], \"xaxis\": \"x\", \"y\": [3152], \"yaxis\": \"y\"}, {\"hoverlabel\": {\"namelength\": 0}, \"hovertemplate\": \"question=N\\u00famero primo ou n\\u00e3o?<br>maxDifferentDays=%{x}<br>maxTime=%{y}\", \"legendgroup\": \"question=N\\u00famero primo ou n\\u00e3o?\", \"marker\": {\"color\": \"#FF6692\", \"symbol\": \"circle\"}, \"mode\": \"markers\", \"name\": \"question=N\\u00famero primo ou n\\u00e3o?\", \"showlegend\": true, \"type\": \"scatter\", \"x\": [38], \"xaxis\": \"x\", \"y\": [2237], \"yaxis\": \"y\"}, {\"hoverlabel\": {\"namelength\": 0}, \"hovertemplate\": \"question=O maior valor de cada vetor<br>maxDifferentDays=%{x}<br>maxTime=%{y}\", \"legendgroup\": \"question=O maior valor de cada vetor\", \"marker\": {\"color\": \"#B6E880\", \"symbol\": \"circle\"}, \"mode\": \"markers\", \"name\": \"question=O maior valor de cada vetor\", \"showlegend\": true, \"type\": \"scatter\", \"x\": [25], \"xaxis\": \"x\", \"y\": [1069], \"yaxis\": \"y\"}, {\"hoverlabel\": {\"namelength\": 0}, \"hovertemplate\": \"question=O quadrado dos 5 n\\u00fameros<br>maxDifferentDays=%{x}<br>maxTime=%{y}\", \"legendgroup\": \"question=O quadrado dos 5 n\\u00fameros\", \"marker\": {\"color\": \"#FF97FF\", \"symbol\": \"circle\"}, \"mode\": \"markers\", \"name\": \"question=O quadrado dos 5 n\\u00fameros\", \"showlegend\": true, \"type\": \"scatter\", \"x\": [47], \"xaxis\": \"x\", \"y\": [3205], \"yaxis\": \"y\"}, {\"hoverlabel\": {\"namelength\": 0}, \"hovertemplate\": \"question=O quadrado ou raiz<br>maxDifferentDays=%{x}<br>maxTime=%{y}\", \"legendgroup\": \"question=O quadrado ou raiz\", \"marker\": {\"color\": \"#FECB52\", \"symbol\": \"circle\"}, \"mode\": \"markers\", \"name\": \"question=O quadrado ou raiz\", \"showlegend\": true, \"type\": \"scatter\", \"x\": [22], \"xaxis\": \"x\", \"y\": [21483], \"yaxis\": \"y\"}, {\"hoverlabel\": {\"namelength\": 0}, \"hovertemplate\": \"question=Par ou impar<br>maxDifferentDays=%{x}<br>maxTime=%{y}\", \"legendgroup\": \"question=Par ou impar\", \"marker\": {\"color\": \"#636efa\", \"symbol\": \"circle\"}, \"mode\": \"markers\", \"name\": \"question=Par ou impar\", \"showlegend\": true, \"type\": \"scatter\", \"x\": [10], \"xaxis\": \"x\", \"y\": [1002], \"yaxis\": \"y\"}, {\"hoverlabel\": {\"namelength\": 0}, \"hovertemplate\": \"question=Par ou \\u00edmpar com N n\\u00fameros<br>maxDifferentDays=%{x}<br>maxTime=%{y}\", \"legendgroup\": \"question=Par ou \\u00edmpar com N n\\u00fameros\", \"marker\": {\"color\": \"#EF553B\", \"symbol\": \"circle\"}, \"mode\": \"markers\", \"name\": \"question=Par ou \\u00edmpar com N n\\u00fameros\", \"showlegend\": true, \"type\": \"scatter\", \"x\": [57], \"xaxis\": \"x\", \"y\": [35693], \"yaxis\": \"y\"}, {\"hoverlabel\": {\"namelength\": 0}, \"hovertemplate\": \"question=Para quando digitar 2<br>maxDifferentDays=%{x}<br>maxTime=%{y}\", \"legendgroup\": \"question=Para quando digitar 2\", \"marker\": {\"color\": \"#00cc96\", \"symbol\": \"circle\"}, \"mode\": \"markers\", \"name\": \"question=Para quando digitar 2\", \"showlegend\": true, \"type\": \"scatter\", \"x\": [48], \"xaxis\": \"x\", \"y\": [4901], \"yaxis\": \"y\"}, {\"hoverlabel\": {\"namelength\": 0}, \"hovertemplate\": \"question=Pare no 22<br>maxDifferentDays=%{x}<br>maxTime=%{y}\", \"legendgroup\": \"question=Pare no 22\", \"marker\": {\"color\": \"#ab63fa\", \"symbol\": \"circle\"}, \"mode\": \"markers\", \"name\": \"question=Pare no 22\", \"showlegend\": true, \"type\": \"scatter\", \"x\": [72], \"xaxis\": \"x\", \"y\": [24872], \"yaxis\": \"y\"}, {\"hoverlabel\": {\"namelength\": 0}, \"hovertemplate\": \"question=Per\\u00edmetro de raio R<br>maxDifferentDays=%{x}<br>maxTime=%{y}\", \"legendgroup\": \"question=Per\\u00edmetro de raio R\", \"marker\": {\"color\": \"#FFA15A\", \"symbol\": \"circle\"}, \"mode\": \"markers\", \"name\": \"question=Per\\u00edmetro de raio R\", \"showlegend\": true, \"type\": \"scatter\", \"x\": [22], \"xaxis\": \"x\", \"y\": [3417], \"yaxis\": \"y\"}, {\"hoverlabel\": {\"namelength\": 0}, \"hovertemplate\": \"question=Pesando os bois<br>maxDifferentDays=%{x}<br>maxTime=%{y}\", \"legendgroup\": \"question=Pesando os bois\", \"marker\": {\"color\": \"#19d3f3\", \"symbol\": \"circle\"}, \"mode\": \"markers\", \"name\": \"question=Pesando os bois\", \"showlegend\": true, \"type\": \"scatter\", \"x\": [38], \"xaxis\": \"x\", \"y\": [6993], \"yaxis\": \"y\"}, {\"hoverlabel\": {\"namelength\": 0}, \"hovertemplate\": \"question=Porcentagem dos maiores que 15<br>maxDifferentDays=%{x}<br>maxTime=%{y}\", \"legendgroup\": \"question=Porcentagem dos maiores que 15\", \"marker\": {\"color\": \"#FF6692\", \"symbol\": \"circle\"}, \"mode\": \"markers\", \"name\": \"question=Porcentagem dos maiores que 15\", \"showlegend\": true, \"type\": \"scatter\", \"x\": [48], \"xaxis\": \"x\", \"y\": [43731], \"yaxis\": \"y\"}, {\"hoverlabel\": {\"namelength\": 0}, \"hovertemplate\": \"question=Positivos e soma<br>maxDifferentDays=%{x}<br>maxTime=%{y}\", \"legendgroup\": \"question=Positivos e soma\", \"marker\": {\"color\": \"#B6E880\", \"symbol\": \"circle\"}, \"mode\": \"markers\", \"name\": \"question=Positivos e soma\", \"showlegend\": true, \"type\": \"scatter\", \"x\": [57], \"xaxis\": \"x\", \"y\": [2577], \"yaxis\": \"y\"}, {\"hoverlabel\": {\"namelength\": 0}, \"hovertemplate\": \"question=Preenchimento de vetor I<br>maxDifferentDays=%{x}<br>maxTime=%{y}\", \"legendgroup\": \"question=Preenchimento de vetor I\", \"marker\": {\"color\": \"#FF97FF\", \"symbol\": \"circle\"}, \"mode\": \"markers\", \"name\": \"question=Preenchimento de vetor I\", \"showlegend\": true, \"type\": \"scatter\", \"x\": [19], \"xaxis\": \"x\", \"y\": [2757], \"yaxis\": \"y\"}, {\"hoverlabel\": {\"namelength\": 0}, \"hovertemplate\": \"question=Preenchimento de vetor II<br>maxDifferentDays=%{x}<br>maxTime=%{y}\", \"legendgroup\": \"question=Preenchimento de vetor II\", \"marker\": {\"color\": \"#FECB52\", \"symbol\": \"circle\"}, \"mode\": \"markers\", \"name\": \"question=Preenchimento de vetor II\", \"showlegend\": true, \"type\": \"scatter\", \"x\": [5], \"xaxis\": \"x\", \"y\": [829], \"yaxis\": \"y\"}, {\"hoverlabel\": {\"namelength\": 0}, \"hovertemplate\": \"question=Programa Bom Dia!<br>maxDifferentDays=%{x}<br>maxTime=%{y}\", \"legendgroup\": \"question=Programa Bom Dia!\", \"marker\": {\"color\": \"#636efa\", \"symbol\": \"circle\"}, \"mode\": \"markers\", \"name\": \"question=Programa Bom Dia!\", \"showlegend\": true, \"type\": \"scatter\", \"x\": [52], \"xaxis\": \"x\", \"y\": [2147], \"yaxis\": \"y\"}, {\"hoverlabel\": {\"namelength\": 0}, \"hovertemplate\": \"question=Qual o dia da semana?<br>maxDifferentDays=%{x}<br>maxTime=%{y}\", \"legendgroup\": \"question=Qual o dia da semana?\", \"marker\": {\"color\": \"#EF553B\", \"symbol\": \"circle\"}, \"mode\": \"markers\", \"name\": \"question=Qual o dia da semana?\", \"showlegend\": true, \"type\": \"scatter\", \"x\": [21], \"xaxis\": \"x\", \"y\": [6314], \"yaxis\": \"y\"}, {\"hoverlabel\": {\"namelength\": 0}, \"hovertemplate\": \"question=Ra\\u00edzes de uma equa\\u00e7\\u00e3o de segundo grau<br>maxDifferentDays=%{x}<br>maxTime=%{y}\", \"legendgroup\": \"question=Ra\\u00edzes de uma equa\\u00e7\\u00e3o de segundo grau\", \"marker\": {\"color\": \"#00cc96\", \"symbol\": \"circle\"}, \"mode\": \"markers\", \"name\": \"question=Ra\\u00edzes de uma equa\\u00e7\\u00e3o de segundo grau\", \"showlegend\": true, \"type\": \"scatter\", \"x\": [43], \"xaxis\": \"x\", \"y\": [31323], \"yaxis\": \"y\"}, {\"hoverlabel\": {\"namelength\": 0}, \"hovertemplate\": \"question=Resto da divis\\u00e3o inteira<br>maxDifferentDays=%{x}<br>maxTime=%{y}\", \"legendgroup\": \"question=Resto da divis\\u00e3o inteira\", \"marker\": {\"color\": \"#ab63fa\", \"symbol\": \"circle\"}, \"mode\": \"markers\", \"name\": \"question=Resto da divis\\u00e3o inteira\", \"showlegend\": true, \"type\": \"scatter\", \"x\": [8], \"xaxis\": \"x\", \"y\": [1848], \"yaxis\": \"y\"}, {\"hoverlabel\": {\"namelength\": 0}, \"hovertemplate\": \"question=Retirar repetidos<br>maxDifferentDays=%{x}<br>maxTime=%{y}\", \"legendgroup\": \"question=Retirar repetidos\", \"marker\": {\"color\": \"#FFA15A\", \"symbol\": \"circle\"}, \"mode\": \"markers\", \"name\": \"question=Retirar repetidos\", \"showlegend\": true, \"type\": \"scatter\", \"x\": [14], \"xaxis\": \"x\", \"y\": [1911], \"yaxis\": \"y\"}, {\"hoverlabel\": {\"namelength\": 0}, \"hovertemplate\": \"question=Sele\\u00e7\\u00e3o no vetor<br>maxDifferentDays=%{x}<br>maxTime=%{y}\", \"legendgroup\": \"question=Sele\\u00e7\\u00e3o no vetor\", \"marker\": {\"color\": \"#19d3f3\", \"symbol\": \"circle\"}, \"mode\": \"markers\", \"name\": \"question=Sele\\u00e7\\u00e3o no vetor\", \"showlegend\": true, \"type\": \"scatter\", \"x\": [9], \"xaxis\": \"x\", \"y\": [3100], \"yaxis\": \"y\"}, {\"hoverlabel\": {\"namelength\": 0}, \"hovertemplate\": \"question=Separando Vetor<br>maxDifferentDays=%{x}<br>maxTime=%{y}\", \"legendgroup\": \"question=Separando Vetor\", \"marker\": {\"color\": \"#FF6692\", \"symbol\": \"circle\"}, \"mode\": \"markers\", \"name\": \"question=Separando Vetor\", \"showlegend\": true, \"type\": \"scatter\", \"x\": [31], \"xaxis\": \"x\", \"y\": [2061], \"yaxis\": \"y\"}, {\"hoverlabel\": {\"namelength\": 0}, \"hovertemplate\": \"question=Separando em Dezena e Unidade<br>maxDifferentDays=%{x}<br>maxTime=%{y}\", \"legendgroup\": \"question=Separando em Dezena e Unidade\", \"marker\": {\"color\": \"#B6E880\", \"symbol\": \"circle\"}, \"mode\": \"markers\", \"name\": \"question=Separando em Dezena e Unidade\", \"showlegend\": true, \"type\": \"scatter\", \"x\": [26], \"xaxis\": \"x\", \"y\": [22187], \"yaxis\": \"y\"}, {\"hoverlabel\": {\"namelength\": 0}, \"hovertemplate\": \"question=Separar n\\u00fameros em tr\\u00eas vetores<br>maxDifferentDays=%{x}<br>maxTime=%{y}\", \"legendgroup\": \"question=Separar n\\u00fameros em tr\\u00eas vetores\", \"marker\": {\"color\": \"#FF97FF\", \"symbol\": \"circle\"}, \"mode\": \"markers\", \"name\": \"question=Separar n\\u00fameros em tr\\u00eas vetores\", \"showlegend\": true, \"type\": \"scatter\", \"x\": [26], \"xaxis\": \"x\", \"y\": [13576], \"yaxis\": \"y\"}, {\"hoverlabel\": {\"namelength\": 0}, \"hovertemplate\": \"question=Sistema Inteligente - Identifica\\u00e7\\u00e3o de Esp\\u00e9cie de P\\u00e1ssaro<br>maxDifferentDays=%{x}<br>maxTime=%{y}\", \"legendgroup\": \"question=Sistema Inteligente - Identifica\\u00e7\\u00e3o de Esp\\u00e9cie de P\\u00e1ssaro\", \"marker\": {\"color\": \"#FECB52\", \"symbol\": \"circle\"}, \"mode\": \"markers\", \"name\": \"question=Sistema Inteligente - Identifica\\u00e7\\u00e3o de Esp\\u00e9cie de P\\u00e1ssaro\", \"showlegend\": true, \"type\": \"scatter\", \"x\": [19], \"xaxis\": \"x\", \"y\": [24853], \"yaxis\": \"y\"}, {\"hoverlabel\": {\"namelength\": 0}, \"hovertemplate\": \"question=Soma de fatoriais<br>maxDifferentDays=%{x}<br>maxTime=%{y}\", \"legendgroup\": \"question=Soma de fatoriais\", \"marker\": {\"color\": \"#636efa\", \"symbol\": \"circle\"}, \"mode\": \"markers\", \"name\": \"question=Soma de fatoriais\", \"showlegend\": true, \"type\": \"scatter\", \"x\": [33], \"xaxis\": \"x\", \"y\": [7205], \"yaxis\": \"y\"}, {\"hoverlabel\": {\"namelength\": 0}, \"hovertemplate\": \"question=Soma de valores \\u00edmpares<br>maxDifferentDays=%{x}<br>maxTime=%{y}\", \"legendgroup\": \"question=Soma de valores \\u00edmpares\", \"marker\": {\"color\": \"#EF553B\", \"symbol\": \"circle\"}, \"mode\": \"markers\", \"name\": \"question=Soma de valores \\u00edmpares\", \"showlegend\": true, \"type\": \"scatter\", \"x\": [26], \"xaxis\": \"x\", \"y\": [7691], \"yaxis\": \"y\"}, {\"hoverlabel\": {\"namelength\": 0}, \"hovertemplate\": \"question=Soma dos pares e \\u00edmpares digitados<br>maxDifferentDays=%{x}<br>maxTime=%{y}\", \"legendgroup\": \"question=Soma dos pares e \\u00edmpares digitados\", \"marker\": {\"color\": \"#00cc96\", \"symbol\": \"circle\"}, \"mode\": \"markers\", \"name\": \"question=Soma dos pares e \\u00edmpares digitados\", \"showlegend\": true, \"type\": \"scatter\", \"x\": [39], \"xaxis\": \"x\", \"y\": [6295], \"yaxis\": \"y\"}, {\"hoverlabel\": {\"namelength\": 0}, \"hovertemplate\": \"question=Somar dois vetores<br>maxDifferentDays=%{x}<br>maxTime=%{y}\", \"legendgroup\": \"question=Somar dois vetores\", \"marker\": {\"color\": \"#ab63fa\", \"symbol\": \"circle\"}, \"mode\": \"markers\", \"name\": \"question=Somar dois vetores\", \"showlegend\": true, \"type\": \"scatter\", \"x\": [27], \"xaxis\": \"x\", \"y\": [3765], \"yaxis\": \"y\"}, {\"hoverlabel\": {\"namelength\": 0}, \"hovertemplate\": \"question=Substitui\\u00e7\\u00e3o no vetor<br>maxDifferentDays=%{x}<br>maxTime=%{y}\", \"legendgroup\": \"question=Substitui\\u00e7\\u00e3o no vetor\", \"marker\": {\"color\": \"#FFA15A\", \"symbol\": \"circle\"}, \"mode\": \"markers\", \"name\": \"question=Substitui\\u00e7\\u00e3o no vetor\", \"showlegend\": true, \"type\": \"scatter\", \"x\": [40], \"xaxis\": \"x\", \"y\": [1535], \"yaxis\": \"y\"}, {\"hoverlabel\": {\"namelength\": 0}, \"hovertemplate\": \"question=Sucessor de um n\\u00famero com uma v\\u00e1riavel<br>maxDifferentDays=%{x}<br>maxTime=%{y}\", \"legendgroup\": \"question=Sucessor de um n\\u00famero com uma v\\u00e1riavel\", \"marker\": {\"color\": \"#19d3f3\", \"symbol\": \"circle\"}, \"mode\": \"markers\", \"name\": \"question=Sucessor de um n\\u00famero com uma v\\u00e1riavel\", \"showlegend\": true, \"type\": \"scatter\", \"x\": [9], \"xaxis\": \"x\", \"y\": [6048], \"yaxis\": \"y\"}, {\"hoverlabel\": {\"namelength\": 0}, \"hovertemplate\": \"question=Tabela de contagens<br>maxDifferentDays=%{x}<br>maxTime=%{y}\", \"legendgroup\": \"question=Tabela de contagens\", \"marker\": {\"color\": \"#FF6692\", \"symbol\": \"circle\"}, \"mode\": \"markers\", \"name\": \"question=Tabela de contagens\", \"showlegend\": true, \"type\": \"scatter\", \"x\": [43], \"xaxis\": \"x\", \"y\": [49989], \"yaxis\": \"y\"}, {\"hoverlabel\": {\"namelength\": 0}, \"hovertemplate\": \"question=Tempo de vida de um material radioativo<br>maxDifferentDays=%{x}<br>maxTime=%{y}\", \"legendgroup\": \"question=Tempo de vida de um material radioativo\", \"marker\": {\"color\": \"#B6E880\", \"symbol\": \"circle\"}, \"mode\": \"markers\", \"name\": \"question=Tempo de vida de um material radioativo\", \"showlegend\": true, \"type\": \"scatter\", \"x\": [11], \"xaxis\": \"x\", \"y\": [7158], \"yaxis\": \"y\"}, {\"hoverlabel\": {\"namelength\": 0}, \"hovertemplate\": \"question=Todos os divisores de N<br>maxDifferentDays=%{x}<br>maxTime=%{y}\", \"legendgroup\": \"question=Todos os divisores de N\", \"marker\": {\"color\": \"#FF97FF\", \"symbol\": \"circle\"}, \"mode\": \"markers\", \"name\": \"question=Todos os divisores de N\", \"showlegend\": true, \"type\": \"scatter\", \"x\": [27], \"xaxis\": \"x\", \"y\": [5072], \"yaxis\": \"y\"}, {\"hoverlabel\": {\"namelength\": 0}, \"hovertemplate\": \"question=Troca de d\\u00edgitos UCD<br>maxDifferentDays=%{x}<br>maxTime=%{y}\", \"legendgroup\": \"question=Troca de d\\u00edgitos UCD\", \"marker\": {\"color\": \"#FECB52\", \"symbol\": \"circle\"}, \"mode\": \"markers\", \"name\": \"question=Troca de d\\u00edgitos UCD\", \"showlegend\": true, \"type\": \"scatter\", \"x\": [50], \"xaxis\": \"x\", \"y\": [39705], \"yaxis\": \"y\"}, {\"hoverlabel\": {\"namelength\": 0}, \"hovertemplate\": \"question=Troca de d\\u00edgitos UDC<br>maxDifferentDays=%{x}<br>maxTime=%{y}\", \"legendgroup\": \"question=Troca de d\\u00edgitos UDC\", \"marker\": {\"color\": \"#636efa\", \"symbol\": \"circle\"}, \"mode\": \"markers\", \"name\": \"question=Troca de d\\u00edgitos UDC\", \"showlegend\": true, \"type\": \"scatter\", \"x\": [29], \"xaxis\": \"x\", \"y\": [2419], \"yaxis\": \"y\"}, {\"hoverlabel\": {\"namelength\": 0}, \"hovertemplate\": \"question=Troca de valores entre vari\\u00e1veis<br>maxDifferentDays=%{x}<br>maxTime=%{y}\", \"legendgroup\": \"question=Troca de valores entre vari\\u00e1veis\", \"marker\": {\"color\": \"#EF553B\", \"symbol\": \"circle\"}, \"mode\": \"markers\", \"name\": \"question=Troca de valores entre vari\\u00e1veis\", \"showlegend\": true, \"type\": \"scatter\", \"x\": [31], \"xaxis\": \"x\", \"y\": [10912], \"yaxis\": \"y\"}, {\"hoverlabel\": {\"namelength\": 0}, \"hovertemplate\": \"question=divis\\u00edvel por 2 n\\u00fameros ao mesmo tempo<br>maxDifferentDays=%{x}<br>maxTime=%{y}\", \"legendgroup\": \"question=divis\\u00edvel por 2 n\\u00fameros ao mesmo tempo\", \"marker\": {\"color\": \"#00cc96\", \"symbol\": \"circle\"}, \"mode\": \"markers\", \"name\": \"question=divis\\u00edvel por 2 n\\u00fameros ao mesmo tempo\", \"showlegend\": true, \"type\": \"scatter\", \"x\": [6], \"xaxis\": \"x\", \"y\": [3841], \"yaxis\": \"y\"}, {\"hoverlabel\": {\"namelength\": 0}, \"hovertemplate\": \"question=\\u00c1rea e Volume do c\\u00edrculo de raio R<br>maxDifferentDays=%{x}<br>maxTime=%{y}\", \"legendgroup\": \"question=\\u00c1rea e Volume do c\\u00edrculo de raio R\", \"marker\": {\"color\": \"#ab63fa\", \"symbol\": \"circle\"}, \"mode\": \"markers\", \"name\": \"question=\\u00c1rea e Volume do c\\u00edrculo de raio R\", \"showlegend\": true, \"type\": \"scatter\", \"x\": [43], \"xaxis\": \"x\", \"y\": [31272], \"yaxis\": \"y\"}, {\"hoverlabel\": {\"namelength\": 0}, \"hovertemplate\": \"question=\\u00c9 preciso praticar muito!<br>maxDifferentDays=%{x}<br>maxTime=%{y}\", \"legendgroup\": \"question=\\u00c9 preciso praticar muito!\", \"marker\": {\"color\": \"#FFA15A\", \"symbol\": \"circle\"}, \"mode\": \"markers\", \"name\": \"question=\\u00c9 preciso praticar muito!\", \"showlegend\": true, \"type\": \"scatter\", \"x\": [42], \"xaxis\": \"x\", \"y\": [1878], \"yaxis\": \"y\"}, {\"hoverlabel\": {\"namelength\": 0}, \"hovertemplate\": \"question=\\u00cdndice de Massa Corporal (IMC)  - parte 2<br>maxDifferentDays=%{x}<br>maxTime=%{y}\", \"legendgroup\": \"question=\\u00cdndice de Massa Corporal (IMC)  - parte 2\", \"marker\": {\"color\": \"#19d3f3\", \"symbol\": \"circle\"}, \"mode\": \"markers\", \"name\": \"question=\\u00cdndice de Massa Corporal (IMC)  - parte 2\", \"showlegend\": true, \"type\": \"scatter\", \"x\": [66], \"xaxis\": \"x\", \"y\": [12599], \"yaxis\": \"y\"}],\n",
              "                        {\"legend\": {\"tracegroupgap\": 0}, \"margin\": {\"t\": 60}, \"template\": {\"data\": {\"bar\": [{\"error_x\": {\"color\": \"#2a3f5f\"}, \"error_y\": {\"color\": \"#2a3f5f\"}, \"marker\": {\"line\": {\"color\": \"#E5ECF6\", \"width\": 0.5}}, \"type\": \"bar\"}], \"barpolar\": [{\"marker\": {\"line\": {\"color\": \"#E5ECF6\", \"width\": 0.5}}, \"type\": \"barpolar\"}], \"carpet\": [{\"aaxis\": {\"endlinecolor\": \"#2a3f5f\", \"gridcolor\": \"white\", \"linecolor\": \"white\", \"minorgridcolor\": \"white\", \"startlinecolor\": \"#2a3f5f\"}, \"baxis\": {\"endlinecolor\": \"#2a3f5f\", \"gridcolor\": \"white\", \"linecolor\": \"white\", \"minorgridcolor\": \"white\", \"startlinecolor\": \"#2a3f5f\"}, \"type\": \"carpet\"}], \"choropleth\": [{\"colorbar\": {\"outlinewidth\": 0, \"ticks\": \"\"}, \"type\": \"choropleth\"}], \"contour\": [{\"colorbar\": {\"outlinewidth\": 0, \"ticks\": \"\"}, \"colorscale\": [[0.0, \"#0d0887\"], [0.1111111111111111, \"#46039f\"], [0.2222222222222222, \"#7201a8\"], [0.3333333333333333, \"#9c179e\"], [0.4444444444444444, \"#bd3786\"], [0.5555555555555556, \"#d8576b\"], [0.6666666666666666, \"#ed7953\"], [0.7777777777777778, \"#fb9f3a\"], [0.8888888888888888, \"#fdca26\"], [1.0, \"#f0f921\"]], \"type\": \"contour\"}], \"contourcarpet\": [{\"colorbar\": {\"outlinewidth\": 0, \"ticks\": \"\"}, \"type\": \"contourcarpet\"}], \"heatmap\": [{\"colorbar\": {\"outlinewidth\": 0, \"ticks\": \"\"}, \"colorscale\": [[0.0, \"#0d0887\"], [0.1111111111111111, \"#46039f\"], [0.2222222222222222, \"#7201a8\"], [0.3333333333333333, \"#9c179e\"], [0.4444444444444444, \"#bd3786\"], [0.5555555555555556, \"#d8576b\"], [0.6666666666666666, \"#ed7953\"], [0.7777777777777778, \"#fb9f3a\"], [0.8888888888888888, \"#fdca26\"], [1.0, \"#f0f921\"]], \"type\": \"heatmap\"}], \"heatmapgl\": [{\"colorbar\": {\"outlinewidth\": 0, \"ticks\": \"\"}, \"colorscale\": [[0.0, \"#0d0887\"], [0.1111111111111111, \"#46039f\"], [0.2222222222222222, \"#7201a8\"], [0.3333333333333333, \"#9c179e\"], [0.4444444444444444, \"#bd3786\"], [0.5555555555555556, \"#d8576b\"], [0.6666666666666666, \"#ed7953\"], [0.7777777777777778, \"#fb9f3a\"], [0.8888888888888888, \"#fdca26\"], [1.0, \"#f0f921\"]], \"type\": \"heatmapgl\"}], \"histogram\": [{\"marker\": {\"colorbar\": {\"outlinewidth\": 0, \"ticks\": \"\"}}, \"type\": \"histogram\"}], \"histogram2d\": [{\"colorbar\": {\"outlinewidth\": 0, \"ticks\": \"\"}, \"colorscale\": [[0.0, \"#0d0887\"], [0.1111111111111111, \"#46039f\"], [0.2222222222222222, \"#7201a8\"], [0.3333333333333333, \"#9c179e\"], [0.4444444444444444, \"#bd3786\"], [0.5555555555555556, \"#d8576b\"], [0.6666666666666666, \"#ed7953\"], [0.7777777777777778, \"#fb9f3a\"], [0.8888888888888888, \"#fdca26\"], [1.0, \"#f0f921\"]], \"type\": \"histogram2d\"}], \"histogram2dcontour\": [{\"colorbar\": {\"outlinewidth\": 0, \"ticks\": \"\"}, \"colorscale\": [[0.0, \"#0d0887\"], [0.1111111111111111, \"#46039f\"], [0.2222222222222222, \"#7201a8\"], [0.3333333333333333, \"#9c179e\"], [0.4444444444444444, \"#bd3786\"], [0.5555555555555556, \"#d8576b\"], [0.6666666666666666, \"#ed7953\"], [0.7777777777777778, \"#fb9f3a\"], [0.8888888888888888, \"#fdca26\"], [1.0, \"#f0f921\"]], \"type\": \"histogram2dcontour\"}], \"mesh3d\": [{\"colorbar\": {\"outlinewidth\": 0, \"ticks\": \"\"}, \"type\": \"mesh3d\"}], \"parcoords\": [{\"line\": {\"colorbar\": {\"outlinewidth\": 0, \"ticks\": \"\"}}, \"type\": \"parcoords\"}], \"pie\": [{\"automargin\": true, \"type\": \"pie\"}], \"scatter\": [{\"marker\": {\"colorbar\": {\"outlinewidth\": 0, \"ticks\": \"\"}}, \"type\": \"scatter\"}], \"scatter3d\": [{\"line\": {\"colorbar\": {\"outlinewidth\": 0, \"ticks\": \"\"}}, \"marker\": {\"colorbar\": {\"outlinewidth\": 0, \"ticks\": \"\"}}, \"type\": \"scatter3d\"}], \"scattercarpet\": [{\"marker\": {\"colorbar\": {\"outlinewidth\": 0, \"ticks\": \"\"}}, \"type\": \"scattercarpet\"}], \"scattergeo\": [{\"marker\": {\"colorbar\": {\"outlinewidth\": 0, \"ticks\": \"\"}}, \"type\": \"scattergeo\"}], \"scattergl\": [{\"marker\": {\"colorbar\": {\"outlinewidth\": 0, \"ticks\": \"\"}}, \"type\": \"scattergl\"}], \"scattermapbox\": [{\"marker\": {\"colorbar\": {\"outlinewidth\": 0, \"ticks\": \"\"}}, \"type\": \"scattermapbox\"}], \"scatterpolar\": [{\"marker\": {\"colorbar\": {\"outlinewidth\": 0, \"ticks\": \"\"}}, \"type\": \"scatterpolar\"}], \"scatterpolargl\": [{\"marker\": {\"colorbar\": {\"outlinewidth\": 0, \"ticks\": \"\"}}, \"type\": \"scatterpolargl\"}], \"scatterternary\": [{\"marker\": {\"colorbar\": {\"outlinewidth\": 0, \"ticks\": \"\"}}, \"type\": \"scatterternary\"}], \"surface\": [{\"colorbar\": {\"outlinewidth\": 0, \"ticks\": \"\"}, \"colorscale\": [[0.0, \"#0d0887\"], [0.1111111111111111, \"#46039f\"], [0.2222222222222222, \"#7201a8\"], [0.3333333333333333, \"#9c179e\"], [0.4444444444444444, \"#bd3786\"], [0.5555555555555556, \"#d8576b\"], [0.6666666666666666, \"#ed7953\"], [0.7777777777777778, \"#fb9f3a\"], [0.8888888888888888, \"#fdca26\"], [1.0, \"#f0f921\"]], \"type\": \"surface\"}], \"table\": [{\"cells\": {\"fill\": {\"color\": \"#EBF0F8\"}, \"line\": {\"color\": \"white\"}}, \"header\": {\"fill\": {\"color\": \"#C8D4E3\"}, \"line\": {\"color\": \"white\"}}, \"type\": \"table\"}]}, \"layout\": {\"annotationdefaults\": {\"arrowcolor\": \"#2a3f5f\", \"arrowhead\": 0, \"arrowwidth\": 1}, \"coloraxis\": {\"colorbar\": {\"outlinewidth\": 0, \"ticks\": \"\"}}, \"colorscale\": {\"diverging\": [[0, \"#8e0152\"], [0.1, \"#c51b7d\"], [0.2, \"#de77ae\"], [0.3, \"#f1b6da\"], [0.4, \"#fde0ef\"], [0.5, \"#f7f7f7\"], [0.6, \"#e6f5d0\"], [0.7, \"#b8e186\"], [0.8, \"#7fbc41\"], [0.9, \"#4d9221\"], [1, \"#276419\"]], \"sequential\": [[0.0, \"#0d0887\"], [0.1111111111111111, \"#46039f\"], [0.2222222222222222, \"#7201a8\"], [0.3333333333333333, \"#9c179e\"], [0.4444444444444444, \"#bd3786\"], [0.5555555555555556, \"#d8576b\"], [0.6666666666666666, \"#ed7953\"], [0.7777777777777778, \"#fb9f3a\"], [0.8888888888888888, \"#fdca26\"], [1.0, \"#f0f921\"]], \"sequentialminus\": [[0.0, \"#0d0887\"], [0.1111111111111111, \"#46039f\"], [0.2222222222222222, \"#7201a8\"], [0.3333333333333333, \"#9c179e\"], [0.4444444444444444, \"#bd3786\"], [0.5555555555555556, \"#d8576b\"], [0.6666666666666666, \"#ed7953\"], [0.7777777777777778, \"#fb9f3a\"], [0.8888888888888888, \"#fdca26\"], [1.0, \"#f0f921\"]]}, \"colorway\": [\"#636efa\", \"#EF553B\", \"#00cc96\", \"#ab63fa\", \"#FFA15A\", \"#19d3f3\", \"#FF6692\", \"#B6E880\", \"#FF97FF\", \"#FECB52\"], \"font\": {\"color\": \"#2a3f5f\"}, \"geo\": {\"bgcolor\": \"white\", \"lakecolor\": \"white\", \"landcolor\": \"#E5ECF6\", \"showlakes\": true, \"showland\": true, \"subunitcolor\": \"white\"}, \"hoverlabel\": {\"align\": \"left\"}, \"hovermode\": \"closest\", \"mapbox\": {\"style\": \"light\"}, \"paper_bgcolor\": \"white\", \"plot_bgcolor\": \"#E5ECF6\", \"polar\": {\"angularaxis\": {\"gridcolor\": \"white\", \"linecolor\": \"white\", \"ticks\": \"\"}, \"bgcolor\": \"#E5ECF6\", \"radialaxis\": {\"gridcolor\": \"white\", \"linecolor\": \"white\", \"ticks\": \"\"}}, \"scene\": {\"xaxis\": {\"backgroundcolor\": \"#E5ECF6\", \"gridcolor\": \"white\", \"gridwidth\": 2, \"linecolor\": \"white\", \"showbackground\": true, \"ticks\": \"\", \"zerolinecolor\": \"white\"}, \"yaxis\": {\"backgroundcolor\": \"#E5ECF6\", \"gridcolor\": \"white\", \"gridwidth\": 2, \"linecolor\": \"white\", \"showbackground\": true, \"ticks\": \"\", \"zerolinecolor\": \"white\"}, \"zaxis\": {\"backgroundcolor\": \"#E5ECF6\", \"gridcolor\": \"white\", \"gridwidth\": 2, \"linecolor\": \"white\", \"showbackground\": true, \"ticks\": \"\", \"zerolinecolor\": \"white\"}}, \"shapedefaults\": {\"line\": {\"color\": \"#2a3f5f\"}}, \"ternary\": {\"aaxis\": {\"gridcolor\": \"white\", \"linecolor\": \"white\", \"ticks\": \"\"}, \"baxis\": {\"gridcolor\": \"white\", \"linecolor\": \"white\", \"ticks\": \"\"}, \"bgcolor\": \"#E5ECF6\", \"caxis\": {\"gridcolor\": \"white\", \"linecolor\": \"white\", \"ticks\": \"\"}}, \"title\": {\"x\": 0.05}, \"xaxis\": {\"automargin\": true, \"gridcolor\": \"white\", \"linecolor\": \"white\", \"ticks\": \"\", \"title\": {\"standoff\": 15}, \"zerolinecolor\": \"white\", \"zerolinewidth\": 2}, \"yaxis\": {\"automargin\": true, \"gridcolor\": \"white\", \"linecolor\": \"white\", \"ticks\": \"\", \"title\": {\"standoff\": 15}, \"zerolinecolor\": \"white\", \"zerolinewidth\": 2}}}, \"xaxis\": {\"anchor\": \"y\", \"domain\": [0.0, 1.0], \"title\": {\"text\": \"maxDifferentDays\"}}, \"yaxis\": {\"anchor\": \"x\", \"domain\": [0.0, 1.0], \"title\": {\"text\": \"maxTime\"}}},\n",
              "                        {\"responsive\": true}\n",
              "                    ).then(function(){\n",
              "                            \n",
              "var gd = document.getElementById('80382b58-7f84-4c91-91cb-16a613ed1e8e');\n",
              "var x = new MutationObserver(function (mutations, observer) {{\n",
              "        var display = window.getComputedStyle(gd).display;\n",
              "        if (!display || display === 'none') {{\n",
              "            console.log([gd, 'removed!']);\n",
              "            Plotly.purge(gd);\n",
              "            observer.disconnect();\n",
              "        }}\n",
              "}});\n",
              "\n",
              "// Listen for the removal of the full notebook cells\n",
              "var notebookContainer = gd.closest('#notebook-container');\n",
              "if (notebookContainer) {{\n",
              "    x.observe(notebookContainer, {childList: true});\n",
              "}}\n",
              "\n",
              "// Listen for the clearing of the current output cell\n",
              "var outputEl = gd.closest('.output');\n",
              "if (outputEl) {{\n",
              "    x.observe(outputEl, {childList: true});\n",
              "}}\n",
              "\n",
              "                        })\n",
              "                };\n",
              "                \n",
              "            </script>\n",
              "        </div>\n",
              "</body>\n",
              "</html>"
            ]
          },
          "metadata": {
            "tags": []
          }
        }
      ]
    },
    {
      "cell_type": "code",
      "metadata": {
        "colab": {
          "base_uri": "https://localhost:8080/",
          "height": 285
        },
        "id": "e2Qjos8DEh2G",
        "outputId": "30d94f4a-fccd-48e6-b0c5-69868e9c5c16"
      },
      "source": [
        "df_submission.head()"
      ],
      "execution_count": 10,
      "outputs": [
        {
          "output_type": "execute_result",
          "data": {
            "text/html": [
              "<div>\n",
              "<style scoped>\n",
              "    .dataframe tbody tr th:only-of-type {\n",
              "        vertical-align: middle;\n",
              "    }\n",
              "\n",
              "    .dataframe tbody tr th {\n",
              "        vertical-align: top;\n",
              "    }\n",
              "\n",
              "    .dataframe thead th {\n",
              "        text-align: right;\n",
              "    }\n",
              "</style>\n",
              "<table border=\"1\" class=\"dataframe\">\n",
              "  <thead>\n",
              "    <tr style=\"text-align: right;\">\n",
              "      <th></th>\n",
              "      <th>environment</th>\n",
              "      <th>hitPercentage</th>\n",
              "      <th>language</th>\n",
              "      <th>char_change_number</th>\n",
              "      <th>timeConsuming</th>\n",
              "      <th>createdAt</th>\n",
              "      <th>user</th>\n",
              "      <th>question</th>\n",
              "      <th>list</th>\n",
              "      <th>test</th>\n",
              "      <th>id_class</th>\n",
              "      <th>registration</th>\n",
              "    </tr>\n",
              "  </thead>\n",
              "  <tbody>\n",
              "    <tr>\n",
              "      <th>0</th>\n",
              "      <td>desktop</td>\n",
              "      <td>0.0</td>\n",
              "      <td>javascript</td>\n",
              "      <td>656</td>\n",
              "      <td>131984</td>\n",
              "      <td>2021-01-08T03:47:42.000Z</td>\n",
              "      <td>Victor Laranjeira</td>\n",
              "      <td>Menor e posição</td>\n",
              "      <td>Vetores - Lista de Exercícios (LOP)</td>\n",
              "      <td>None</td>\n",
              "      <td>f2dd7bef-5b5d-4cb3-9efa-aa8652af0605</td>\n",
              "      <td>20180110202</td>\n",
              "    </tr>\n",
              "    <tr>\n",
              "      <th>1</th>\n",
              "      <td>desktop</td>\n",
              "      <td>0.0</td>\n",
              "      <td>javascript</td>\n",
              "      <td>652</td>\n",
              "      <td>787663</td>\n",
              "      <td>2021-01-08T03:47:05.000Z</td>\n",
              "      <td>Victor Laranjeira</td>\n",
              "      <td>Menor e posição</td>\n",
              "      <td>Vetores - Lista de Exercícios (LOP)</td>\n",
              "      <td>None</td>\n",
              "      <td>f2dd7bef-5b5d-4cb3-9efa-aa8652af0605</td>\n",
              "      <td>20180110202</td>\n",
              "    </tr>\n",
              "    <tr>\n",
              "      <th>2</th>\n",
              "      <td>desktop</td>\n",
              "      <td>0.0</td>\n",
              "      <td>javascript</td>\n",
              "      <td>605</td>\n",
              "      <td>140676</td>\n",
              "      <td>2021-01-08T03:35:33.000Z</td>\n",
              "      <td>Victor Laranjeira</td>\n",
              "      <td>Menor e posição</td>\n",
              "      <td>Vetores - Lista de Exercícios (LOP)</td>\n",
              "      <td>None</td>\n",
              "      <td>f2dd7bef-5b5d-4cb3-9efa-aa8652af0605</td>\n",
              "      <td>20180110202</td>\n",
              "    </tr>\n",
              "    <tr>\n",
              "      <th>3</th>\n",
              "      <td>desktop</td>\n",
              "      <td>100.0</td>\n",
              "      <td>javascript</td>\n",
              "      <td>573</td>\n",
              "      <td>11525</td>\n",
              "      <td>2021-01-08T03:33:47.000Z</td>\n",
              "      <td>Victor Laranjeira</td>\n",
              "      <td>Concatenar vetores</td>\n",
              "      <td>Vetores - Lista Prática (LOP)</td>\n",
              "      <td>None</td>\n",
              "      <td>f2dd7bef-5b5d-4cb3-9efa-aa8652af0605</td>\n",
              "      <td>20180110202</td>\n",
              "    </tr>\n",
              "    <tr>\n",
              "      <th>4</th>\n",
              "      <td>desktop</td>\n",
              "      <td>0.0</td>\n",
              "      <td>javascript</td>\n",
              "      <td>572</td>\n",
              "      <td>15728</td>\n",
              "      <td>2021-01-08T03:33:33.000Z</td>\n",
              "      <td>Victor Laranjeira</td>\n",
              "      <td>Concatenar vetores</td>\n",
              "      <td>Vetores - Lista Prática (LOP)</td>\n",
              "      <td>None</td>\n",
              "      <td>f2dd7bef-5b5d-4cb3-9efa-aa8652af0605</td>\n",
              "      <td>20180110202</td>\n",
              "    </tr>\n",
              "  </tbody>\n",
              "</table>\n",
              "</div>"
            ],
            "text/plain": [
              "  environment  ...  registration\n",
              "0     desktop  ...   20180110202\n",
              "1     desktop  ...   20180110202\n",
              "2     desktop  ...   20180110202\n",
              "3     desktop  ...   20180110202\n",
              "4     desktop  ...   20180110202\n",
              "\n",
              "[5 rows x 12 columns]"
            ]
          },
          "metadata": {
            "tags": []
          },
          "execution_count": 10
        }
      ]
    },
    {
      "cell_type": "code",
      "metadata": {
        "colab": {
          "base_uri": "https://localhost:8080/",
          "height": 108
        },
        "id": "gVPnSReBEs_W",
        "outputId": "d8ce67cd-e38f-436e-e539-ea45b6845615"
      },
      "source": [
        "df_new1 = df_submission[df_submission[\"timeInSecounds\"] > 0].groupby(['list','question'])['timeInSecounds'].max().reset_index(name='maxTime')\r\n",
        "df_new1.head(2)"
      ],
      "execution_count": 43,
      "outputs": [
        {
          "output_type": "execute_result",
          "data": {
            "text/html": [
              "<div>\n",
              "<style scoped>\n",
              "    .dataframe tbody tr th:only-of-type {\n",
              "        vertical-align: middle;\n",
              "    }\n",
              "\n",
              "    .dataframe tbody tr th {\n",
              "        vertical-align: top;\n",
              "    }\n",
              "\n",
              "    .dataframe thead th {\n",
              "        text-align: right;\n",
              "    }\n",
              "</style>\n",
              "<table border=\"1\" class=\"dataframe\">\n",
              "  <thead>\n",
              "    <tr style=\"text-align: right;\">\n",
              "      <th></th>\n",
              "      <th>list</th>\n",
              "      <th>question</th>\n",
              "      <th>maxTime</th>\n",
              "    </tr>\n",
              "  </thead>\n",
              "  <tbody>\n",
              "    <tr>\n",
              "      <th>0</th>\n",
              "      <td>(Lop) Estruturas de decisão - Múltiplas decisões</td>\n",
              "      <td>Categorias de natação</td>\n",
              "      <td>35859</td>\n",
              "    </tr>\n",
              "    <tr>\n",
              "      <th>1</th>\n",
              "      <td>(Lop) Estruturas de decisão - Múltiplas decisões</td>\n",
              "      <td>Divisível por 3 e por 4  ao mesmo tempo.</td>\n",
              "      <td>2979</td>\n",
              "    </tr>\n",
              "  </tbody>\n",
              "</table>\n",
              "</div>"
            ],
            "text/plain": [
              "                                               list  ... maxTime\n",
              "0  (Lop) Estruturas de decisão - Múltiplas decisões  ...   35859\n",
              "1  (Lop) Estruturas de decisão - Múltiplas decisões  ...    2979\n",
              "\n",
              "[2 rows x 3 columns]"
            ]
          },
          "metadata": {
            "tags": []
          },
          "execution_count": 43
        }
      ]
    },
    {
      "cell_type": "code",
      "metadata": {
        "colab": {
          "base_uri": "https://localhost:8080/",
          "height": 108
        },
        "id": "NPB4WW3IEvWf",
        "outputId": "0726f4e9-d87f-41f1-a449-e674972ede9c"
      },
      "source": [
        "df_new2 = df_user_secounds_days.groupby(['list','question'])['differentDays'].max().reset_index(name='maxDifferentDays')\r\n",
        "df_new2.head(2)"
      ],
      "execution_count": 57,
      "outputs": [
        {
          "output_type": "execute_result",
          "data": {
            "text/html": [
              "<div>\n",
              "<style scoped>\n",
              "    .dataframe tbody tr th:only-of-type {\n",
              "        vertical-align: middle;\n",
              "    }\n",
              "\n",
              "    .dataframe tbody tr th {\n",
              "        vertical-align: top;\n",
              "    }\n",
              "\n",
              "    .dataframe thead th {\n",
              "        text-align: right;\n",
              "    }\n",
              "</style>\n",
              "<table border=\"1\" class=\"dataframe\">\n",
              "  <thead>\n",
              "    <tr style=\"text-align: right;\">\n",
              "      <th></th>\n",
              "      <th>list</th>\n",
              "      <th>question</th>\n",
              "      <th>maxDifferentDays</th>\n",
              "    </tr>\n",
              "  </thead>\n",
              "  <tbody>\n",
              "    <tr>\n",
              "      <th>0</th>\n",
              "      <td>(Lop) Estruturas de decisão - Múltiplas decisões</td>\n",
              "      <td>Categorias de natação</td>\n",
              "      <td>13</td>\n",
              "    </tr>\n",
              "    <tr>\n",
              "      <th>1</th>\n",
              "      <td>(Lop) Estruturas de decisão - Múltiplas decisões</td>\n",
              "      <td>Divisível por 3 e por 4  ao mesmo tempo.</td>\n",
              "      <td>8</td>\n",
              "    </tr>\n",
              "  </tbody>\n",
              "</table>\n",
              "</div>"
            ],
            "text/plain": [
              "                                               list  ... maxDifferentDays\n",
              "0  (Lop) Estruturas de decisão - Múltiplas decisões  ...               13\n",
              "1  (Lop) Estruturas de decisão - Múltiplas decisões  ...                8\n",
              "\n",
              "[2 rows x 3 columns]"
            ]
          },
          "metadata": {
            "tags": []
          },
          "execution_count": 57
        }
      ]
    },
    {
      "cell_type": "code",
      "metadata": {
        "id": "rt-AFqMXExaK"
      },
      "source": [
        "df_new3 = pd.merge(df_new1, df_new2, on=['list','question'])"
      ],
      "execution_count": 65,
      "outputs": []
    },
    {
      "cell_type": "code",
      "metadata": {
        "colab": {
          "base_uri": "https://localhost:8080/",
          "height": 407
        },
        "id": "Ha07FkxJG0vf",
        "outputId": "b05a8dc4-5d65-4ba1-aa34-dc350ceaf733"
      },
      "source": [
        "df_new3"
      ],
      "execution_count": 66,
      "outputs": [
        {
          "output_type": "execute_result",
          "data": {
            "text/html": [
              "<div>\n",
              "<style scoped>\n",
              "    .dataframe tbody tr th:only-of-type {\n",
              "        vertical-align: middle;\n",
              "    }\n",
              "\n",
              "    .dataframe tbody tr th {\n",
              "        vertical-align: top;\n",
              "    }\n",
              "\n",
              "    .dataframe thead th {\n",
              "        text-align: right;\n",
              "    }\n",
              "</style>\n",
              "<table border=\"1\" class=\"dataframe\">\n",
              "  <thead>\n",
              "    <tr style=\"text-align: right;\">\n",
              "      <th></th>\n",
              "      <th>list</th>\n",
              "      <th>question</th>\n",
              "      <th>maxTime</th>\n",
              "      <th>maxDifferentDays</th>\n",
              "    </tr>\n",
              "  </thead>\n",
              "  <tbody>\n",
              "    <tr>\n",
              "      <th>0</th>\n",
              "      <td>(Lop) Estruturas de decisão - Múltiplas decisões</td>\n",
              "      <td>Categorias de natação</td>\n",
              "      <td>35859</td>\n",
              "      <td>13</td>\n",
              "    </tr>\n",
              "    <tr>\n",
              "      <th>1</th>\n",
              "      <td>(Lop) Estruturas de decisão - Múltiplas decisões</td>\n",
              "      <td>Divisível por 3 e por 4  ao mesmo tempo.</td>\n",
              "      <td>2979</td>\n",
              "      <td>8</td>\n",
              "    </tr>\n",
              "    <tr>\n",
              "      <th>2</th>\n",
              "      <td>(Lop) Estruturas de decisão - Múltiplas decisões</td>\n",
              "      <td>Divisível por 3 e por 4 - versão ainda mais co...</td>\n",
              "      <td>2527</td>\n",
              "      <td>15</td>\n",
              "    </tr>\n",
              "    <tr>\n",
              "      <th>3</th>\n",
              "      <td>(Lop) Estruturas de decisão - Múltiplas decisões</td>\n",
              "      <td>Divisível por 3 e por 4 - versão mais complexa</td>\n",
              "      <td>2915</td>\n",
              "      <td>46</td>\n",
              "    </tr>\n",
              "    <tr>\n",
              "      <th>4</th>\n",
              "      <td>(Lop) Estruturas de decisão - Múltiplas decisões</td>\n",
              "      <td>Encontrando números pares</td>\n",
              "      <td>1442</td>\n",
              "      <td>14</td>\n",
              "    </tr>\n",
              "    <tr>\n",
              "      <th>...</th>\n",
              "      <td>...</td>\n",
              "      <td>...</td>\n",
              "      <td>...</td>\n",
              "      <td>...</td>\n",
              "    </tr>\n",
              "    <tr>\n",
              "      <th>120</th>\n",
              "      <td>Vetores - Lista de Exercícios (LOP)</td>\n",
              "      <td>Intercalar Vetor</td>\n",
              "      <td>756</td>\n",
              "      <td>30</td>\n",
              "    </tr>\n",
              "    <tr>\n",
              "      <th>121</th>\n",
              "      <td>Vetores - Lista de Exercícios (LOP)</td>\n",
              "      <td>Inverter uma palavra</td>\n",
              "      <td>3423</td>\n",
              "      <td>27</td>\n",
              "    </tr>\n",
              "    <tr>\n",
              "      <th>122</th>\n",
              "      <td>Vetores - Lista de Exercícios (LOP)</td>\n",
              "      <td>Menor e posição</td>\n",
              "      <td>2155</td>\n",
              "      <td>34</td>\n",
              "    </tr>\n",
              "    <tr>\n",
              "      <th>123</th>\n",
              "      <td>Vetores - Lista de Exercícios (LOP)</td>\n",
              "      <td>O maior valor de cada vetor</td>\n",
              "      <td>1069</td>\n",
              "      <td>25</td>\n",
              "    </tr>\n",
              "    <tr>\n",
              "      <th>124</th>\n",
              "      <td>Vetores - Lista de Exercícios (LOP)</td>\n",
              "      <td>Retirar repetidos</td>\n",
              "      <td>1911</td>\n",
              "      <td>14</td>\n",
              "    </tr>\n",
              "  </tbody>\n",
              "</table>\n",
              "<p>125 rows × 4 columns</p>\n",
              "</div>"
            ],
            "text/plain": [
              "                                                 list  ... maxDifferentDays\n",
              "0    (Lop) Estruturas de decisão - Múltiplas decisões  ...               13\n",
              "1    (Lop) Estruturas de decisão - Múltiplas decisões  ...                8\n",
              "2    (Lop) Estruturas de decisão - Múltiplas decisões  ...               15\n",
              "3    (Lop) Estruturas de decisão - Múltiplas decisões  ...               46\n",
              "4    (Lop) Estruturas de decisão - Múltiplas decisões  ...               14\n",
              "..                                                ...  ...              ...\n",
              "120               Vetores - Lista de Exercícios (LOP)  ...               30\n",
              "121               Vetores - Lista de Exercícios (LOP)  ...               27\n",
              "122               Vetores - Lista de Exercícios (LOP)  ...               34\n",
              "123               Vetores - Lista de Exercícios (LOP)  ...               25\n",
              "124               Vetores - Lista de Exercícios (LOP)  ...               14\n",
              "\n",
              "[125 rows x 4 columns]"
            ]
          },
          "metadata": {
            "tags": []
          },
          "execution_count": 66
        }
      ]
    },
    {
      "cell_type": "code",
      "metadata": {
        "colab": {
          "base_uri": "https://localhost:8080/"
        },
        "id": "6SH_bNfmGqIh",
        "outputId": "0dd523e7-f42e-4a8d-ca40-c1a906df3979"
      },
      "source": [
        "df_new3['list'].unique()"
      ],
      "execution_count": 67,
      "outputs": [
        {
          "output_type": "execute_result",
          "data": {
            "text/plain": [
              "array(['(Lop) Estruturas de decisão - Múltiplas decisões',\n",
              "       '(Lop) Estruturas de decisão - Operadores Lógicos',\n",
              "       '(Lop) Estruturas de decisão - problemas sobre divisibilidade',\n",
              "       '(Lop) Lista de Laboratório 2 - Estrutura de decisão',\n",
              "       'Aula - Funções Aritméticas',\n",
              "       'Aula - Introdução Expressões Aritiméticas',\n",
              "       'Laboratório 01 - Expressões Aritméticas',\n",
              "       'Repetição condicional - Lista Prática (LOP)',\n",
              "       'Repetição condicional - Lista Resolvida (LOP)',\n",
              "       'Repetição condicional - Lista de Exercícios (LOP)',\n",
              "       'Repetição contada - Lista Prática (LOP)',\n",
              "       'Repetição contada - Lista Resolvida (LOP)',\n",
              "       'Repetição contada - Lista de Exercícios (LOP)',\n",
              "       'Treinamento - Expressões Aritméticas',\n",
              "       'Vetores - Lista Prática (LOP)', 'Vetores - Lista Resolvida (LOP)',\n",
              "       'Vetores - Lista de Exercícios (LOP)'], dtype=object)"
            ]
          },
          "metadata": {
            "tags": []
          },
          "execution_count": 67
        }
      ]
    },
    {
      "cell_type": "code",
      "metadata": {
        "id": "3JHvkFzMHAVy"
      },
      "source": [
        "df_new4 = df_new3.loc[df_new3['list'].str.contains('Laboratório 01 - Expressões Aritméticas')]"
      ],
      "execution_count": 69,
      "outputs": []
    },
    {
      "cell_type": "code",
      "metadata": {
        "id": "jvDiVc1PHiEL"
      },
      "source": [
        ""
      ],
      "execution_count": null,
      "outputs": []
    },
    {
      "cell_type": "code",
      "metadata": {
        "colab": {
          "base_uri": "https://localhost:8080/",
          "height": 542
        },
        "id": "KLfsY4HEHN78",
        "outputId": "a814b95e-e003-4a7e-c295-255604ea3590"
      },
      "source": [
        "px.scatter(data_frame=df_new4, y = 'maxTime', x = 'maxDifferentDays', color='question') "
      ],
      "execution_count": 70,
      "outputs": [
        {
          "output_type": "display_data",
          "data": {
            "text/html": [
              "<html>\n",
              "<head><meta charset=\"utf-8\" /></head>\n",
              "<body>\n",
              "    <div>\n",
              "            <script src=\"https://cdnjs.cloudflare.com/ajax/libs/mathjax/2.7.5/MathJax.js?config=TeX-AMS-MML_SVG\"></script><script type=\"text/javascript\">if (window.MathJax) {MathJax.Hub.Config({SVG: {font: \"STIX-Web\"}});}</script>\n",
              "                <script type=\"text/javascript\">window.PlotlyConfig = {MathJaxConfig: 'local'};</script>\n",
              "        <script src=\"https://cdn.plot.ly/plotly-latest.min.js\"></script>    \n",
              "            <div id=\"00752f02-578c-4164-98af-8e703aa3b32b\" class=\"plotly-graph-div\" style=\"height:525px; width:100%;\"></div>\n",
              "            <script type=\"text/javascript\">\n",
              "                \n",
              "                    window.PLOTLYENV=window.PLOTLYENV || {};\n",
              "                    \n",
              "                if (document.getElementById(\"00752f02-578c-4164-98af-8e703aa3b32b\")) {\n",
              "                    Plotly.newPlot(\n",
              "                        '00752f02-578c-4164-98af-8e703aa3b32b',\n",
              "                        [{\"hoverlabel\": {\"namelength\": 0}, \"hovertemplate\": \"question=Calculando express\\u00f5es - parte 1<br>maxDifferentDays=%{x}<br>maxTime=%{y}\", \"legendgroup\": \"question=Calculando express\\u00f5es - parte 1\", \"marker\": {\"color\": \"#636efa\", \"symbol\": \"circle\"}, \"mode\": \"markers\", \"name\": \"question=Calculando express\\u00f5es - parte 1\", \"showlegend\": true, \"type\": \"scatter\", \"x\": [12], \"xaxis\": \"x\", \"y\": [7224], \"yaxis\": \"y\"}, {\"hoverlabel\": {\"namelength\": 0}, \"hovertemplate\": \"question=Calculando express\\u00f5es - parte 2<br>maxDifferentDays=%{x}<br>maxTime=%{y}\", \"legendgroup\": \"question=Calculando express\\u00f5es - parte 2\", \"marker\": {\"color\": \"#EF553B\", \"symbol\": \"circle\"}, \"mode\": \"markers\", \"name\": \"question=Calculando express\\u00f5es - parte 2\", \"showlegend\": true, \"type\": \"scatter\", \"x\": [26], \"xaxis\": \"x\", \"y\": [5852], \"yaxis\": \"y\"}, {\"hoverlabel\": {\"namelength\": 0}, \"hovertemplate\": \"question=Calculando express\\u00f5es - parte 3<br>maxDifferentDays=%{x}<br>maxTime=%{y}\", \"legendgroup\": \"question=Calculando express\\u00f5es - parte 3\", \"marker\": {\"color\": \"#00cc96\", \"symbol\": \"circle\"}, \"mode\": \"markers\", \"name\": \"question=Calculando express\\u00f5es - parte 3\", \"showlegend\": true, \"type\": \"scatter\", \"x\": [10], \"xaxis\": \"x\", \"y\": [820], \"yaxis\": \"y\"}, {\"hoverlabel\": {\"namelength\": 0}, \"hovertemplate\": \"question=Calculando express\\u00f5es - parte 4<br>maxDifferentDays=%{x}<br>maxTime=%{y}\", \"legendgroup\": \"question=Calculando express\\u00f5es - parte 4\", \"marker\": {\"color\": \"#ab63fa\", \"symbol\": \"circle\"}, \"mode\": \"markers\", \"name\": \"question=Calculando express\\u00f5es - parte 4\", \"showlegend\": true, \"type\": \"scatter\", \"x\": [32], \"xaxis\": \"x\", \"y\": [20285], \"yaxis\": \"y\"}, {\"hoverlabel\": {\"namelength\": 0}, \"hovertemplate\": \"question=Convertendo de horas para dias<br>maxDifferentDays=%{x}<br>maxTime=%{y}\", \"legendgroup\": \"question=Convertendo de horas para dias\", \"marker\": {\"color\": \"#FFA15A\", \"symbol\": \"circle\"}, \"mode\": \"markers\", \"name\": \"question=Convertendo de horas para dias\", \"showlegend\": true, \"type\": \"scatter\", \"x\": [54], \"xaxis\": \"x\", \"y\": [49852], \"yaxis\": \"y\"}, {\"hoverlabel\": {\"namelength\": 0}, \"hovertemplate\": \"question=Convertendo de metros para polegadas<br>maxDifferentDays=%{x}<br>maxTime=%{y}\", \"legendgroup\": \"question=Convertendo de metros para polegadas\", \"marker\": {\"color\": \"#19d3f3\", \"symbol\": \"circle\"}, \"mode\": \"markers\", \"name\": \"question=Convertendo de metros para polegadas\", \"showlegend\": true, \"type\": \"scatter\", \"x\": [38], \"xaxis\": \"x\", \"y\": [5773], \"yaxis\": \"y\"}, {\"hoverlabel\": {\"namelength\": 0}, \"hovertemplate\": \"question=Convertendo p\\u00e9s, jardas e milhas.<br>maxDifferentDays=%{x}<br>maxTime=%{y}\", \"legendgroup\": \"question=Convertendo p\\u00e9s, jardas e milhas.\", \"marker\": {\"color\": \"#FF6692\", \"symbol\": \"circle\"}, \"mode\": \"markers\", \"name\": \"question=Convertendo p\\u00e9s, jardas e milhas.\", \"showlegend\": true, \"type\": \"scatter\", \"x\": [37], \"xaxis\": \"x\", \"y\": [21388], \"yaxis\": \"y\"}, {\"hoverlabel\": {\"namelength\": 0}, \"hovertemplate\": \"question=C\\u00e1lculo do IMC<br>maxDifferentDays=%{x}<br>maxTime=%{y}\", \"legendgroup\": \"question=C\\u00e1lculo do IMC\", \"marker\": {\"color\": \"#B6E880\", \"symbol\": \"circle\"}, \"mode\": \"markers\", \"name\": \"question=C\\u00e1lculo do IMC\", \"showlegend\": true, \"type\": \"scatter\", \"x\": [44], \"xaxis\": \"x\", \"y\": [3446], \"yaxis\": \"y\"}, {\"hoverlabel\": {\"namelength\": 0}, \"hovertemplate\": \"question=Imprimindo uma mensagem com um valor<br>maxDifferentDays=%{x}<br>maxTime=%{y}\", \"legendgroup\": \"question=Imprimindo uma mensagem com um valor\", \"marker\": {\"color\": \"#FF97FF\", \"symbol\": \"circle\"}, \"mode\": \"markers\", \"name\": \"question=Imprimindo uma mensagem com um valor\", \"showlegend\": true, \"type\": \"scatter\", \"x\": [20], \"xaxis\": \"x\", \"y\": [1162], \"yaxis\": \"y\"}, {\"hoverlabel\": {\"namelength\": 0}, \"hovertemplate\": \"question=\\u00c9 preciso praticar muito!<br>maxDifferentDays=%{x}<br>maxTime=%{y}\", \"legendgroup\": \"question=\\u00c9 preciso praticar muito!\", \"marker\": {\"color\": \"#FECB52\", \"symbol\": \"circle\"}, \"mode\": \"markers\", \"name\": \"question=\\u00c9 preciso praticar muito!\", \"showlegend\": true, \"type\": \"scatter\", \"x\": [42], \"xaxis\": \"x\", \"y\": [1878], \"yaxis\": \"y\"}],\n",
              "                        {\"legend\": {\"tracegroupgap\": 0}, \"margin\": {\"t\": 60}, \"template\": {\"data\": {\"bar\": [{\"error_x\": {\"color\": \"#2a3f5f\"}, \"error_y\": {\"color\": \"#2a3f5f\"}, \"marker\": {\"line\": {\"color\": \"#E5ECF6\", \"width\": 0.5}}, \"type\": \"bar\"}], \"barpolar\": [{\"marker\": {\"line\": {\"color\": \"#E5ECF6\", \"width\": 0.5}}, \"type\": \"barpolar\"}], \"carpet\": [{\"aaxis\": {\"endlinecolor\": \"#2a3f5f\", \"gridcolor\": \"white\", \"linecolor\": \"white\", \"minorgridcolor\": \"white\", \"startlinecolor\": \"#2a3f5f\"}, \"baxis\": {\"endlinecolor\": \"#2a3f5f\", \"gridcolor\": \"white\", \"linecolor\": \"white\", \"minorgridcolor\": \"white\", \"startlinecolor\": \"#2a3f5f\"}, \"type\": \"carpet\"}], \"choropleth\": [{\"colorbar\": {\"outlinewidth\": 0, \"ticks\": \"\"}, \"type\": \"choropleth\"}], \"contour\": [{\"colorbar\": {\"outlinewidth\": 0, \"ticks\": \"\"}, \"colorscale\": [[0.0, \"#0d0887\"], [0.1111111111111111, \"#46039f\"], [0.2222222222222222, \"#7201a8\"], [0.3333333333333333, \"#9c179e\"], [0.4444444444444444, \"#bd3786\"], [0.5555555555555556, \"#d8576b\"], [0.6666666666666666, \"#ed7953\"], [0.7777777777777778, \"#fb9f3a\"], [0.8888888888888888, \"#fdca26\"], [1.0, \"#f0f921\"]], \"type\": \"contour\"}], \"contourcarpet\": [{\"colorbar\": {\"outlinewidth\": 0, \"ticks\": \"\"}, \"type\": \"contourcarpet\"}], \"heatmap\": [{\"colorbar\": {\"outlinewidth\": 0, \"ticks\": \"\"}, \"colorscale\": [[0.0, \"#0d0887\"], [0.1111111111111111, \"#46039f\"], [0.2222222222222222, \"#7201a8\"], [0.3333333333333333, \"#9c179e\"], [0.4444444444444444, \"#bd3786\"], [0.5555555555555556, \"#d8576b\"], [0.6666666666666666, \"#ed7953\"], [0.7777777777777778, \"#fb9f3a\"], [0.8888888888888888, \"#fdca26\"], [1.0, \"#f0f921\"]], \"type\": \"heatmap\"}], \"heatmapgl\": [{\"colorbar\": {\"outlinewidth\": 0, \"ticks\": \"\"}, \"colorscale\": [[0.0, \"#0d0887\"], [0.1111111111111111, \"#46039f\"], [0.2222222222222222, \"#7201a8\"], [0.3333333333333333, \"#9c179e\"], [0.4444444444444444, \"#bd3786\"], [0.5555555555555556, \"#d8576b\"], [0.6666666666666666, \"#ed7953\"], [0.7777777777777778, \"#fb9f3a\"], [0.8888888888888888, \"#fdca26\"], [1.0, \"#f0f921\"]], \"type\": \"heatmapgl\"}], \"histogram\": [{\"marker\": {\"colorbar\": {\"outlinewidth\": 0, \"ticks\": \"\"}}, \"type\": \"histogram\"}], \"histogram2d\": [{\"colorbar\": {\"outlinewidth\": 0, \"ticks\": \"\"}, \"colorscale\": [[0.0, \"#0d0887\"], [0.1111111111111111, \"#46039f\"], [0.2222222222222222, \"#7201a8\"], [0.3333333333333333, \"#9c179e\"], [0.4444444444444444, \"#bd3786\"], [0.5555555555555556, \"#d8576b\"], [0.6666666666666666, \"#ed7953\"], [0.7777777777777778, \"#fb9f3a\"], [0.8888888888888888, \"#fdca26\"], [1.0, \"#f0f921\"]], \"type\": \"histogram2d\"}], \"histogram2dcontour\": [{\"colorbar\": {\"outlinewidth\": 0, \"ticks\": \"\"}, \"colorscale\": [[0.0, \"#0d0887\"], [0.1111111111111111, \"#46039f\"], [0.2222222222222222, \"#7201a8\"], [0.3333333333333333, \"#9c179e\"], [0.4444444444444444, \"#bd3786\"], [0.5555555555555556, \"#d8576b\"], [0.6666666666666666, \"#ed7953\"], [0.7777777777777778, \"#fb9f3a\"], [0.8888888888888888, \"#fdca26\"], [1.0, \"#f0f921\"]], \"type\": \"histogram2dcontour\"}], \"mesh3d\": [{\"colorbar\": {\"outlinewidth\": 0, \"ticks\": \"\"}, \"type\": \"mesh3d\"}], \"parcoords\": [{\"line\": {\"colorbar\": {\"outlinewidth\": 0, \"ticks\": \"\"}}, \"type\": \"parcoords\"}], \"pie\": [{\"automargin\": true, \"type\": \"pie\"}], \"scatter\": [{\"marker\": {\"colorbar\": {\"outlinewidth\": 0, \"ticks\": \"\"}}, \"type\": \"scatter\"}], \"scatter3d\": [{\"line\": {\"colorbar\": {\"outlinewidth\": 0, \"ticks\": \"\"}}, \"marker\": {\"colorbar\": {\"outlinewidth\": 0, \"ticks\": \"\"}}, \"type\": \"scatter3d\"}], \"scattercarpet\": [{\"marker\": {\"colorbar\": {\"outlinewidth\": 0, \"ticks\": \"\"}}, \"type\": \"scattercarpet\"}], \"scattergeo\": [{\"marker\": {\"colorbar\": {\"outlinewidth\": 0, \"ticks\": \"\"}}, \"type\": \"scattergeo\"}], \"scattergl\": [{\"marker\": {\"colorbar\": {\"outlinewidth\": 0, \"ticks\": \"\"}}, \"type\": \"scattergl\"}], \"scattermapbox\": [{\"marker\": {\"colorbar\": {\"outlinewidth\": 0, \"ticks\": \"\"}}, \"type\": \"scattermapbox\"}], \"scatterpolar\": [{\"marker\": {\"colorbar\": {\"outlinewidth\": 0, \"ticks\": \"\"}}, \"type\": \"scatterpolar\"}], \"scatterpolargl\": [{\"marker\": {\"colorbar\": {\"outlinewidth\": 0, \"ticks\": \"\"}}, \"type\": \"scatterpolargl\"}], \"scatterternary\": [{\"marker\": {\"colorbar\": {\"outlinewidth\": 0, \"ticks\": \"\"}}, \"type\": \"scatterternary\"}], \"surface\": [{\"colorbar\": {\"outlinewidth\": 0, \"ticks\": \"\"}, \"colorscale\": [[0.0, \"#0d0887\"], [0.1111111111111111, \"#46039f\"], [0.2222222222222222, \"#7201a8\"], [0.3333333333333333, \"#9c179e\"], [0.4444444444444444, \"#bd3786\"], [0.5555555555555556, \"#d8576b\"], [0.6666666666666666, \"#ed7953\"], [0.7777777777777778, \"#fb9f3a\"], [0.8888888888888888, \"#fdca26\"], [1.0, \"#f0f921\"]], \"type\": \"surface\"}], \"table\": [{\"cells\": {\"fill\": {\"color\": \"#EBF0F8\"}, \"line\": {\"color\": \"white\"}}, \"header\": {\"fill\": {\"color\": \"#C8D4E3\"}, \"line\": {\"color\": \"white\"}}, \"type\": \"table\"}]}, \"layout\": {\"annotationdefaults\": {\"arrowcolor\": \"#2a3f5f\", \"arrowhead\": 0, \"arrowwidth\": 1}, \"coloraxis\": {\"colorbar\": {\"outlinewidth\": 0, \"ticks\": \"\"}}, \"colorscale\": {\"diverging\": [[0, \"#8e0152\"], [0.1, \"#c51b7d\"], [0.2, \"#de77ae\"], [0.3, \"#f1b6da\"], [0.4, \"#fde0ef\"], [0.5, \"#f7f7f7\"], [0.6, \"#e6f5d0\"], [0.7, \"#b8e186\"], [0.8, \"#7fbc41\"], [0.9, \"#4d9221\"], [1, \"#276419\"]], \"sequential\": [[0.0, \"#0d0887\"], [0.1111111111111111, \"#46039f\"], [0.2222222222222222, \"#7201a8\"], [0.3333333333333333, \"#9c179e\"], [0.4444444444444444, \"#bd3786\"], [0.5555555555555556, \"#d8576b\"], [0.6666666666666666, \"#ed7953\"], [0.7777777777777778, \"#fb9f3a\"], [0.8888888888888888, \"#fdca26\"], [1.0, \"#f0f921\"]], \"sequentialminus\": [[0.0, \"#0d0887\"], [0.1111111111111111, \"#46039f\"], [0.2222222222222222, \"#7201a8\"], [0.3333333333333333, \"#9c179e\"], [0.4444444444444444, \"#bd3786\"], [0.5555555555555556, \"#d8576b\"], [0.6666666666666666, \"#ed7953\"], [0.7777777777777778, \"#fb9f3a\"], [0.8888888888888888, \"#fdca26\"], [1.0, \"#f0f921\"]]}, \"colorway\": [\"#636efa\", \"#EF553B\", \"#00cc96\", \"#ab63fa\", \"#FFA15A\", \"#19d3f3\", \"#FF6692\", \"#B6E880\", \"#FF97FF\", \"#FECB52\"], \"font\": {\"color\": \"#2a3f5f\"}, \"geo\": {\"bgcolor\": \"white\", \"lakecolor\": \"white\", \"landcolor\": \"#E5ECF6\", \"showlakes\": true, \"showland\": true, \"subunitcolor\": \"white\"}, \"hoverlabel\": {\"align\": \"left\"}, \"hovermode\": \"closest\", \"mapbox\": {\"style\": \"light\"}, \"paper_bgcolor\": \"white\", \"plot_bgcolor\": \"#E5ECF6\", \"polar\": {\"angularaxis\": {\"gridcolor\": \"white\", \"linecolor\": \"white\", \"ticks\": \"\"}, \"bgcolor\": \"#E5ECF6\", \"radialaxis\": {\"gridcolor\": \"white\", \"linecolor\": \"white\", \"ticks\": \"\"}}, \"scene\": {\"xaxis\": {\"backgroundcolor\": \"#E5ECF6\", \"gridcolor\": \"white\", \"gridwidth\": 2, \"linecolor\": \"white\", \"showbackground\": true, \"ticks\": \"\", \"zerolinecolor\": \"white\"}, \"yaxis\": {\"backgroundcolor\": \"#E5ECF6\", \"gridcolor\": \"white\", \"gridwidth\": 2, \"linecolor\": \"white\", \"showbackground\": true, \"ticks\": \"\", \"zerolinecolor\": \"white\"}, \"zaxis\": {\"backgroundcolor\": \"#E5ECF6\", \"gridcolor\": \"white\", \"gridwidth\": 2, \"linecolor\": \"white\", \"showbackground\": true, \"ticks\": \"\", \"zerolinecolor\": \"white\"}}, \"shapedefaults\": {\"line\": {\"color\": \"#2a3f5f\"}}, \"ternary\": {\"aaxis\": {\"gridcolor\": \"white\", \"linecolor\": \"white\", \"ticks\": \"\"}, \"baxis\": {\"gridcolor\": \"white\", \"linecolor\": \"white\", \"ticks\": \"\"}, \"bgcolor\": \"#E5ECF6\", \"caxis\": {\"gridcolor\": \"white\", \"linecolor\": \"white\", \"ticks\": \"\"}}, \"title\": {\"x\": 0.05}, \"xaxis\": {\"automargin\": true, \"gridcolor\": \"white\", \"linecolor\": \"white\", \"ticks\": \"\", \"title\": {\"standoff\": 15}, \"zerolinecolor\": \"white\", \"zerolinewidth\": 2}, \"yaxis\": {\"automargin\": true, \"gridcolor\": \"white\", \"linecolor\": \"white\", \"ticks\": \"\", \"title\": {\"standoff\": 15}, \"zerolinecolor\": \"white\", \"zerolinewidth\": 2}}}, \"xaxis\": {\"anchor\": \"y\", \"domain\": [0.0, 1.0], \"title\": {\"text\": \"maxDifferentDays\"}}, \"yaxis\": {\"anchor\": \"x\", \"domain\": [0.0, 1.0], \"title\": {\"text\": \"maxTime\"}}},\n",
              "                        {\"responsive\": true}\n",
              "                    ).then(function(){\n",
              "                            \n",
              "var gd = document.getElementById('00752f02-578c-4164-98af-8e703aa3b32b');\n",
              "var x = new MutationObserver(function (mutations, observer) {{\n",
              "        var display = window.getComputedStyle(gd).display;\n",
              "        if (!display || display === 'none') {{\n",
              "            console.log([gd, 'removed!']);\n",
              "            Plotly.purge(gd);\n",
              "            observer.disconnect();\n",
              "        }}\n",
              "}});\n",
              "\n",
              "// Listen for the removal of the full notebook cells\n",
              "var notebookContainer = gd.closest('#notebook-container');\n",
              "if (notebookContainer) {{\n",
              "    x.observe(notebookContainer, {childList: true});\n",
              "}}\n",
              "\n",
              "// Listen for the clearing of the current output cell\n",
              "var outputEl = gd.closest('.output');\n",
              "if (outputEl) {{\n",
              "    x.observe(outputEl, {childList: true});\n",
              "}}\n",
              "\n",
              "                        })\n",
              "                };\n",
              "                \n",
              "            </script>\n",
              "        </div>\n",
              "</body>\n",
              "</html>"
            ]
          },
          "metadata": {
            "tags": []
          }
        }
      ]
    },
    {
      "cell_type": "markdown",
      "metadata": {
        "id": "r9S1wjjCuu89"
      },
      "source": [
        "##2. Preparação de Dados\n",
        "<a id='preparo'></a>"
      ]
    },
    {
      "cell_type": "code",
      "metadata": {
        "id": "PuPFoSjMvBNL"
      },
      "source": [
        ""
      ],
      "execution_count": null,
      "outputs": []
    },
    {
      "cell_type": "markdown",
      "metadata": {
        "id": "oPh-k3-fR_zP"
      },
      "source": [
        "##3. Métricas de Avaliação\n",
        "<a id='metricas'></a>"
      ]
    },
    {
      "cell_type": "markdown",
      "metadata": {
        "id": "jPXy0iQtzn75"
      },
      "source": [
        "\n",
        "#### <center>Métricas de Avaliação:\n",
        "| Regressores | Classificadores\n",
        "| --- | --- |\n",
        "| <center>RMSE| <center>Matriz de Confusão |\n",
        "| <center>MAE| <center>Acurácia |\n",
        "| <center>R2| <center>Precisão / Recall / F1 |\n",
        "| <center>R2 Ajustado| <center>AUC |\n",
        "\n",
        "\n"
      ]
    },
    {
      "cell_type": "markdown",
      "metadata": {
        "id": "AEJF9bZMSZpk"
      },
      "source": [
        "##4. Modelagem\n",
        "<a id='#modelagem'></a>"
      ]
    },
    {
      "cell_type": "markdown",
      "metadata": {
        "id": "L4zVFwlFZUjt"
      },
      "source": [
        "Dicionário com hiper-parâmetros dos algoritmos preditivos"
      ]
    },
    {
      "cell_type": "code",
      "metadata": {
        "id": "yAeVjRatU2xs"
      },
      "source": [
        "hyperparameters = [\n",
        "                  {\"clf\":[RandomForestClassifier()],\n",
        "                  \"clf__n_estimators\": [100],\n",
        "                  \"clf__criterion\": [\"entropy\"],\n",
        "                  \"clf__max_leaf_nodes\": [64],\n",
        "                  \"clf__random_state\": [42],\n",
        "                  \"fs__score_func\":[chi2],\n",
        "                  \"fs__k\":[4,9,15,30]\n",
        "                  },\n",
        "              \n",
        "                  {\"clf\":[KNeighborsClassifier()],\n",
        "                  \"clf__n_neighbors\":[5,9,11],\n",
        "                  \"fs__score_func\":[chi2],\n",
        "                  \"fs__k\":[4,9,15,30]                 \n",
        "                  },\n",
        "              \n",
        "                  {\"clf\":[SVC()],\n",
        "                  \"clf__kernel\":[\"sigmoid\",'rbf'],\n",
        "                  \"clf__degree\":[3,4],\n",
        "                  \"clf__gamma\":[0.1,0.5,1],\n",
        "                  \"clf__C\":[0.001,1,2],\n",
        "                  \"fs__score_func\":[chi2],\n",
        "                  \"fs__k\":[4,9,15,25,31] \n",
        "                  },\n",
        "              \n",
        "                  {\"clf\":[GaussianNB()]\n",
        "                  },\n",
        "              \n",
        "                  {\"clf\":[MLPClassifier()],\n",
        "                  \"clf__hidden_layer_sizes\": [(64,),(128,)],\n",
        "                  \"clf__activation\": [\"logistic\"],\n",
        "                  \"clf__solver\": [\"sgd\"],\n",
        "                  \"clf__max_iter\": [500],\n",
        "                  \"clf__early_stopping\":[True],\n",
        "                  \"clf__n_iter_no_change\":[20],\n",
        "                  \"clf__validation_fraction\":[0.20], \n",
        "                  },\n",
        "              \n",
        "                  {\"clf\":[XGBClassifier()],\n",
        "                  \"clf__n_estimators\": [50,100],\n",
        "                  \"clf__max_depth\": [4,6],\n",
        "                  \"clf__learning_rate\": [0.001, 0.01,0.1],\n",
        "                  \"clf__random_state\": [42],\n",
        "                  \"clf__subsample\": [1.0],\n",
        "                  \"clf__colsample_bytree\": [1.0],\n",
        "                  \"fs__score_func\":[chi2],\n",
        "                  \"fs__k\":[5,8,15,25,31]\n",
        "                  }\n",
        "  ]"
      ],
      "execution_count": null,
      "outputs": []
    },
    {
      "cell_type": "markdown",
      "metadata": {
        "id": "B4rJ_jPviRsl"
      },
      "source": [
        "##5. Avaliação dos Modelos\n",
        "<a id='avaliacao'></a>\n",
        "\n",
        "### [5.1 Chamada da Função](#chamada)\n",
        "### [5.2 Teste de Modelo](#teste)"
      ]
    },
    {
      "cell_type": "markdown",
      "metadata": {
        "id": "YxO10k-KJnZq"
      },
      "source": [
        "###5.1 Chamada da Função\n",
        "<a id='chamada'></a>"
      ]
    },
    {
      "cell_type": "code",
      "metadata": {
        "id": "a54d338IldVz"
      },
      "source": [
        "(df_relatorio, model_param_disciplinas) = avaliar_modelos(df, hyperparameters)"
      ],
      "execution_count": null,
      "outputs": []
    },
    {
      "cell_type": "code",
      "metadata": {
        "id": "_RgZO6QU0YH1"
      },
      "source": [
        "df_relatorio.head()"
      ],
      "execution_count": null,
      "outputs": []
    },
    {
      "cell_type": "code",
      "metadata": {
        "id": "dCcRXPWv0eAL"
      },
      "source": [
        "model_param_disciplinas"
      ],
      "execution_count": null,
      "outputs": []
    },
    {
      "cell_type": "markdown",
      "metadata": {
        "id": "DmuLGrPKFv1c"
      },
      "source": [
        "###5.2 Teste de Modelo\n",
        "<a id='teste'></a>"
      ]
    },
    {
      "cell_type": "markdown",
      "metadata": {
        "id": "X9GMVe3bUsvS"
      },
      "source": [
        "Importando Modelo"
      ]
    },
    {
      "cell_type": "code",
      "metadata": {
        "id": "uchPDLEsUvt5"
      },
      "source": [
        "modelo_teste = joblib.load('modelo_.pkl')"
      ],
      "execution_count": null,
      "outputs": []
    },
    {
      "cell_type": "markdown",
      "metadata": {
        "id": "-lcNJROjYtth"
      },
      "source": [
        "Aplicando a transformação no teste"
      ]
    },
    {
      "cell_type": "code",
      "metadata": {
        "id": "wgKRWABoBfVb"
      },
      "source": [
        "num_transf = NumericalTransformer()\n",
        "df_teste = model.transform(df)"
      ],
      "execution_count": null,
      "outputs": []
    },
    {
      "cell_type": "code",
      "metadata": {
        "id": "jte7qW39ZR8V"
      },
      "source": [
        "df_teste.head(2)"
      ],
      "execution_count": null,
      "outputs": []
    },
    {
      "cell_type": "markdown",
      "metadata": {
        "id": "j8Qb55Di8IkC"
      },
      "source": [
        "Realizando teste de um modelo, prevendo probabilidade de ser aprovado"
      ]
    },
    {
      "cell_type": "code",
      "metadata": {
        "id": "LLooF6-vaQ7C"
      },
      "source": [
        "df_teste.iloc[42,:]"
      ],
      "execution_count": null,
      "outputs": []
    },
    {
      "cell_type": "code",
      "metadata": {
        "id": "3zusMtVzabUZ"
      },
      "source": [
        "df_teste.info()"
      ],
      "execution_count": null,
      "outputs": []
    },
    {
      "cell_type": "code",
      "metadata": {
        "id": "sTg3Zgf-YrEm"
      },
      "source": [
        "modelo_teste.predict(df_teste.iloc[42,:])"
      ],
      "execution_count": null,
      "outputs": []
    },
    {
      "cell_type": "markdown",
      "metadata": {
        "id": "PGR1IWltjEKS"
      },
      "source": [
        "##6. Conclusão e Recomendações\n",
        "<a id='conclusao'></a>"
      ]
    },
    {
      "cell_type": "markdown",
      "metadata": {
        "id": "A-JlYcDhvmg4"
      },
      "source": [
        ""
      ]
    },
    {
      "cell_type": "markdown",
      "metadata": {
        "id": "7bW-MMNpvndY"
      },
      "source": [
        "##7. Implantações\n",
        "<a id='implantacoes'></a>"
      ]
    },
    {
      "cell_type": "markdown",
      "metadata": {
        "id": "923SZs_xHA-X"
      },
      "source": [
        "Exemplo de classe que comunica as funcões entre si"
      ]
    },
    {
      "cell_type": "code",
      "metadata": {
        "id": "uWl9GkduHAYv"
      },
      "source": [
        "class lopv2: # perfeicao\r\n",
        "  def __init__(self):\r\n",
        "    pass\r\n",
        "  def imprime(self, var):\r\n",
        "    return print(var)  \r\n",
        "  def chama(self, var):\r\n",
        "    self.imprime(var)"
      ],
      "execution_count": null,
      "outputs": []
    },
    {
      "cell_type": "markdown",
      "metadata": {
        "id": "hTaQ9mE6Hfb5"
      },
      "source": [
        "Classe que armazena as funções para a API"
      ]
    },
    {
      "cell_type": "code",
      "metadata": {
        "id": "nsrtNGpnHbbP"
      },
      "source": [
        "import pandas as pd\r\n",
        "import numpy as np\r\n",
        "import json\r\n",
        "import urllib3\r\n",
        "urllib3.disable_warnings()\r\n",
        "\r\n",
        "class lop:\r\n",
        "  \r\n",
        "  def __init__(self):\r\n",
        "    pass\r\n",
        "    \r\n",
        "  def read_txt(self, path):\r\n",
        "    with open(path,'r') as file:\r\n",
        "      return file.read()\r\n",
        "\r\n",
        "  def lop_consult(self, url):\r\n",
        "    http = urllib3.PoolManager()\r\n",
        "    req = http.request('GET',url)\r\n",
        "    if req.status == 200:\r\n",
        "      return pd.read_json(req.data, orient = 'RECORDS', encoding = 'utf-8').copy()\r\n",
        "    else: \r\n",
        "      return False    \r\n",
        "\r\n",
        "  #Modificação em relação a função original, aqui precisar passar por parâmetro o endpoint e a key    \r\n",
        "  def lop_question(self, endpoint_question, key):\r\n",
        "    url_question = endpoint_question + key\r\n",
        "    df_lop_question = self.lop_consult(url_question)\r\n",
        "    df_lop_question.rename(columns = {'id':'id_question','title':'question'}, inplace = True)\r\n",
        "    return df_lop_question\r\n",
        "\r\n",
        "  #Modificação em relação a função original, aqui precisar passar por parâmetro o endpoint e a key  \r\n",
        "  def question_data(self, endpoint_question, key, df_question = pd.DataFrame()):\r\n",
        "    #Essa função se passar por cópia o df_question se torna desnecessário fazer a requisição de todas as turmas usando a função lop_question()\r\n",
        "    #Dataframes onde serão armazenados todas as questões transformadas\r\n",
        "    df_list_data = pd.DataFrame()  \r\n",
        "    df_tag_data = pd.DataFrame()  \r\n",
        "    df_question_data = pd.DataFrame()  \r\n",
        "    if df_question.empty == True:\r\n",
        "      df_question = self.lop_question(endpoint_question,key)\r\n",
        "    for question,lists,tags,difficulty in zip(df_question['question'],df_question['lists'],df_question['tags'],df_question['difficulty']):\r\n",
        "      #Cada registro do json pode ficar com mais de uma lista associada a uma questão, por isso a necessidade de extrair\r\n",
        "      df_prov_lists  = pd.DataFrame(json.loads(str(lists).replace(\"'\",'\"')))\r\n",
        "      #df_prov_lists.rename(columns = {'id':'id_list','title':'list'}, inplace = True)\r\n",
        "      #Inserindo a questão associada\r\n",
        "      df_prov_lists['question'] = question\r\n",
        "      df_prov_lists['difficulty'] = difficulty\r\n",
        "      df_list_data = df_list_data.append(df_prov_lists, ignore_index = True).copy()\r\n",
        "      #Extraindo as tags, que vão dizer o conteudo associado\r\n",
        "      df_prov_tags = pd.DataFrame(json.loads(str(tags).replace(\"'\",'\"'))).T\r\n",
        "      #Inserindo a questão associada\r\n",
        "      df_prov_tags['question'] = question    \r\n",
        "      df_tag_data = df_tag_data.append(df_prov_tags, ignore_index = True).copy()\r\n",
        "    df_list_data.rename(columns = {'id':'id_list','title':'list'}, inplace = True)\r\n",
        "    #df_list_data['difficulty'] = df_list_data['difficulty'].astype('int')\r\n",
        "    columns_tags = ['question']\r\n",
        "    for i in range(len(df_tag_data.columns)-1): columns_tags.append('tag'+str(i+1))\r\n",
        "    df_tag_data.columns = columns_tags\r\n",
        "    return pd.merge(df_list_data, df_tag_data, on = 'question', how = 'outer').fillna(0).copy()\r\n"
      ],
      "execution_count": null,
      "outputs": []
    },
    {
      "cell_type": "markdown",
      "metadata": {
        "id": "ARXhhB39jAMp"
      },
      "source": [
        "Modelo de Json para resposta da API"
      ]
    },
    {
      "cell_type": "code",
      "metadata": {
        "id": "-bcNUiIDvzTt"
      },
      "source": [
        "{\n",
        "\"graph1\": [\n",
        "     {\n",
        "        \"list\": \"IMD0012 - 2020.6: Lista Obrigatória, Semana 1\",\n",
        "        \"more70\": 27.0,\n",
        "        \"less70\": 8\n",
        "     },\n",
        "  ],\n",
        "\"graph2\": [\n",
        "      {\n",
        "        \"user\": \"Adailton Aquino dos Santos \",\n",
        "        \"registration\": \" 20180070994\",\n",
        "        \"IMD0012 - 2020.6: Lista Obrigatória, Semana 1\": 0.0,\n",
        "        \"IMD0012 - 2020.6: Lista Preparatória, Semana 3\": 0.0,\n",
        "        \"ITP - Alocação dinâmica\": 0.0,\n",
        "        \"ITP - Funções - Lista\": 0.0,\n",
        "         ...\n",
        "      },\n",
        "  ],\n",
        "}\n",
        "\n",
        "'''"
      ],
      "execution_count": null,
      "outputs": []
    },
    {
      "cell_type": "code",
      "metadata": {
        "colab": {
          "base_uri": "https://localhost:8080/",
          "height": 35
        },
        "id": "Oa0LAzULtiqz",
        "outputId": "fc4a2957-5c85-4169-b9cc-9285224d4713"
      },
      "source": [
        "json.loads(a)"
      ],
      "execution_count": null,
      "outputs": [
        {
          "output_type": "execute_result",
          "data": {
            "application/vnd.google.colaboratory.intrinsic+json": {
              "type": "string"
            },
            "text/plain": [
              "'{\"g1\":[{123}],\"g2\":[{456}],\"g3\":[{789}]}'"
            ]
          },
          "metadata": {
            "tags": []
          },
          "execution_count": 10
        }
      ]
    },
    {
      "cell_type": "code",
      "metadata": {
        "id": "NUe5Eikb26io"
      },
      "source": [
        "g1 = '{123}'\r\n",
        "g2 = '{456}'\r\n",
        "g3 = '{789}'\r\n",
        "name_graphs = ['\"g1\"','\"g2\"','\"g3\"']\r\n",
        "graphs = [g1,g2,g3]\r\n",
        "string = '{'\r\n",
        "for name, graph in zip(name_graphs,graphs):\r\n",
        "  string = string + name + ':[' + graph + '],'\r\n",
        "string = string[:-1] + '}'"
      ],
      "execution_count": null,
      "outputs": []
    },
    {
      "cell_type": "code",
      "metadata": {
        "id": "a74t_UY9saLg"
      },
      "source": [
        "import json"
      ],
      "execution_count": null,
      "outputs": []
    },
    {
      "cell_type": "code",
      "metadata": {
        "id": "M3GnhNpUrAYC"
      },
      "source": [
        "json.loads(string)"
      ],
      "execution_count": null,
      "outputs": []
    },
    {
      "cell_type": "code",
      "metadata": {
        "id": "XBftGU3h5z9l"
      },
      "source": [
        "a = json.dumps(string)"
      ],
      "execution_count": null,
      "outputs": []
    },
    {
      "cell_type": "code",
      "metadata": {
        "id": "UMmUAv36h3yu"
      },
      "source": [
        "def performance_list_test(df_submission, listORtest, df_question_data = pd.DataFrame()):  \r\n",
        "  #Essa função necessita receber as submissões de uma turma ---------- depois podemos incrementar essa função ao ter uma turma associada e agrupar por elas\r\n",
        "  \r\n",
        "  if listORtest == 'list':\r\n",
        "    #Me traz as porcentagens maximas de acerto por questão\r\n",
        "    df_performance = df_submission.groupby(['user','registration','list','question'])['hitPercentage'].max().reset_index()\r\n",
        "    #Soma as porcentagens de uma lista/prova unica\r\n",
        "    df_performance = df_performance.groupby(['user','registration','list'])['hitPercentage'].sum().reset_index()\r\n",
        "    #Renomeando para melhorar entendimento\r\n",
        "    df_performance.rename(columns={'hitPercentage':'totalHitPercentage'}, inplace = True)\r\n",
        "    #Agrupa por lista e questão para ter apenas uma questão de cada, a operação não importa muito, apenas existe para completar o agrupamento --------- pode ser uma boa trocar por drop_duplicates\r\n",
        "    df_question_data = df_question_data.groupby(['list','question'])['id_list'].count().reset_index()\r\n",
        "    #Conta quantas questões tem por lista\r\n",
        "    df_question_data = df_question_data.groupby(['list'])['question'].count().reset_index()\r\n",
        "    #Renomeando lista\r\n",
        "    df_question_data.rename(columns={'question':'totalQuestionslist'}, inplace = True)\r\n",
        "    #Merge\r\n",
        "    df_performance = df_performance.merge(df_question_data, on = 'list')\r\n",
        "    #Média de acerto por lista\r\n",
        "    df_performance['medialist'] = df_performance['totalHitPercentage'] / df_performance['totalQuestionslist']\r\n",
        "    \r\n",
        "  elif listORtest == 'test':\r\n",
        "    #Me traz as porcentagens maximas de acerto por questão\r\n",
        "    df_performance = df_submission.groupby(['user','registration','test','question'])['hitPercentage'].max().reset_index()\r\n",
        "    #Soma as porcentagens de uma lista/prova unica\r\n",
        "    df_performance = df_performance.groupby(['user','registration','test'])['hitPercentage'].sum().reset_index()\r\n",
        "    #Renomeando para melhorar entendimento\r\n",
        "    df_performance.rename(columns={'hitPercentage':'totalHitPercentage'}, inplace = True)\r\n",
        "    #Agrupa por prova e questão para ter apenas uma questão de cada, a operação não importa muito, apenas existe para completar o agrupamento --------- pode ser uma boa trocar por drop_duplicates\r\n",
        "    df_question_data = df_question_data.groupby(['test','question'])['id_test'].count().reset_index()\r\n",
        "    #Conta quantas questões tem por prova\r\n",
        "    df_question_data = df_question_data.groupby(['test'])['question'].count().reset_index()\r\n",
        "    #Renomeando prova\r\n",
        "    df_question_data.rename(columns={'question':'totalQuestionstest'}, inplace = True)\r\n",
        "    #Merge\r\n",
        "    df_performance = df_performance.merge(df_question_data, on = 'test')\r\n",
        "    #Média de acerto por prova\r\n",
        "    df_performance['mediatest'] = df_performance['totalHitPercentage'] / df_performance['totalQuestionstest']\r\n",
        "\r\n",
        "  return df_performance"
      ],
      "execution_count": null,
      "outputs": []
    },
    {
      "cell_type": "code",
      "metadata": {
        "id": "Jrg3NIcVoSah"
      },
      "source": [
        "def graph_more_less_list_test_class(self, df_performance_list_test, df_class, data, value = 70.0, listORtest = 'list'):#value == 70 ou outro numero\r\n",
        "  if listORtest == 'list':\r\n",
        "    #Aqui eu conto, por lista, quantos tiraram mais de % de acerto escolhida\r\n",
        "    df_more = df_performance_list_test[df_performance_list_test['medialist'] >= value].groupby(listORtest)['medialist'].count().reset_index(name='more')\r\n",
        "    #E nesse conta quantos tiveram menos da % escolhida\r\n",
        "    df_less = df_performance_list_test[df_performance_list_test['medialist'] < value].groupby(listORtest)['medialist'].count().reset_index(name='less')\r\n",
        "    \r\n",
        "  elif listORtest == 'test':  \r\n",
        "    #Aqui eu conto, por lista, quantos tiraram mais de % de acerto escolhida\r\n",
        "    df_more = df_performance_list_test[df_performance_list_test['mediatest'] >= value].groupby(listORtest)['mediatest'].count().reset_index(name='more')\r\n",
        "    #E nesse conta quantos tiveram menos da % escolhida\r\n",
        "    df_less = df_performance_list_test[df_performance_list_test['mediatest'] < value].groupby(listORtest)['mediatest'].count().reset_index(name='less')\r\n",
        "\r\n",
        "  #Aqui junta ambos os dataframes, usando o outer, que, se por acaso não tiver uma ocorrência de uma lista em um dos dataframes, mesmo assim eles vão ser adicionados, é união dos conjuntos\r\n",
        "  df_less_more = pd.merge(df_more, df_less, on = listORtest, how = 'outer')\r\n",
        "  #E, se caso acontecer a situação de um não existir, substituimos o nan por 0\r\n",
        "  df_less_more.replace(np.NaN, 0, inplace = True)\r\n",
        "  #Total de alunos na turma\r\n",
        "  total = df_class.loc[df_class['id_class'] == data.iloc[0,0],'studentsCount'].max()\r\n",
        "  df_less_more['missing'] = total - (df_less_more['more'] + df_less_more['less'])\r\n",
        "  return df_less_more.to_json(force_ascii=False, orient='records') \r\n"
      ],
      "execution_count": null,
      "outputs": []
    },
    {
      "cell_type": "code",
      "metadata": {
        "id": "kHEmaCJZpugR"
      },
      "source": [
        "def graph_performance_student_list_test(self, df_performance_list_test, listORtest = 'list'):\r\n",
        "  if listORtest == 'list':\r\n",
        "    return df_performance_list_test.sort_values(by='user').drop(columns=['totalHitPercentage','totalQuestionslist']).to_json(force_ascii=False,orient='records')\r\n",
        "  elif listORtest == 'test':  \r\n",
        "    return df_performance_list_test.sort_values(by='user').drop(columns=['totalHitPercentage','totalQuestionstest']).to_json(force_ascii=False,orient='records')\r\n"
      ],
      "execution_count": null,
      "outputs": []
    },
    {
      "cell_type": "markdown",
      "metadata": {
        "id": "OJr1erbE09MT"
      },
      "source": [
        "Recebe uma lista de nomes dos gráficos e uma lista com conteúdo deles"
      ]
    },
    {
      "cell_type": "code",
      "metadata": {
        "id": "K1A2AKBNzwla"
      },
      "source": [
        "def create_unique_json(name_graphs, graphs):\r\n",
        "  data = '{'\r\n",
        "  for name, graph in zip(name_graphs,graphs):\r\n",
        "    data = sdata + name + ':[' + graph + '],'\r\n",
        "  data = data[:-1] + '}'\r\n",
        "  return json.dumps(data)"
      ],
      "execution_count": null,
      "outputs": []
    },
    {
      "cell_type": "code",
      "metadata": {
        "id": "Mr3GPXaMqg-z"
      },
      "source": [
        "'''\r\n",
        "  def performance_list(self, df_submission, df_question_data = pd.DataFrame()):  \r\n",
        "    #Essa função necessita receber as submissões de uma turma ---------- depois podemos incrementar essa função ao ter uma turma associada e agrupar por elas\r\n",
        "    #Me traz as porcentagens maximas de acerto por questão\r\n",
        "    df_performance_list = df_submission.groupby(['user','registration','list','question'])['hitPercentage'].max().reset_index()\r\n",
        "    #Soma as porcentagens de uma lista unica\r\n",
        "    df_performance_list = df_performance_list.groupby(['user','registration','list'])['hitPercentage'].sum().reset_index()\r\n",
        "    #Renomeando para melhorar entendimento\r\n",
        "    df_performance_list.rename(columns={'hitPercentage':'totalHitPercentage'}, inplace = True)\r\n",
        "    #if df_question_data.empty == True:\r\n",
        "      #Usando a função de dados de questão para ter informações sobre que questões estão associadas a lista\r\n",
        "     # df_question_data = question_data()\r\n",
        "    #Agrupa por lista e questão para ter apenas uma questão de cada, a operação não importa muito, apenas existe para completar o agrupamento --------- pode ser uma boa trocar por drop_duplicates\r\n",
        "    df_question_data = df_question_data.groupby(['list','question'])['id_list'].count().reset_index()\r\n",
        "    #Conta quantas questões tem por lista\r\n",
        "    df_question_data = df_question_data.groupby(['list'])['question'].count().reset_index()\r\n",
        "    #Renomeando lista\r\n",
        "    df_question_data.rename(columns={'question':'totalQuestionsList'}, inplace = True)\r\n",
        "    #Merge\r\n",
        "    df_performance_list = df_performance_list.merge(df_question_data, on = 'list')\r\n",
        "    #Média de acerto por lista\r\n",
        "    df_performance_list['mediaList'] = df_performance_list['totalHitPercentage'] / df_performance_list['totalQuestionsList']\r\n",
        "    return df_performance_list\r\n",
        "'''"
      ],
      "execution_count": null,
      "outputs": []
    }
  ]
}